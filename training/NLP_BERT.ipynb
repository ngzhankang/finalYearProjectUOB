{
  "nbformat": 4,
  "nbformat_minor": 0,
  "metadata": {
    "colab": {
      "name": "NLP_BERT.ipynb",
      "provenance": [],
      "collapsed_sections": [],
      "machine_shape": "hm",
      "include_colab_link": true
    },
    "kernelspec": {
      "name": "python3",
      "display_name": "Python 3"
    },
    "language_info": {
      "name": "python"
    },
    "accelerator": "GPU",
    "widgets": {
      "application/vnd.jupyter.widget-state+json": {
        "b2f64dcb942547c5969665ed02305293": {
          "model_module": "@jupyter-widgets/controls",
          "model_name": "HBoxModel",
          "state": {
            "_view_name": "HBoxView",
            "_dom_classes": [],
            "_model_name": "HBoxModel",
            "_view_module": "@jupyter-widgets/controls",
            "_model_module_version": "1.5.0",
            "_view_count": null,
            "_view_module_version": "1.5.0",
            "box_style": "",
            "layout": "IPY_MODEL_69b6a8ab45374856ad5678d639478490",
            "_model_module": "@jupyter-widgets/controls",
            "children": [
              "IPY_MODEL_ca324968b5ea468db60cdfd32fae439e",
              "IPY_MODEL_12e076cd46bc47a6887c79d83bd54fbc"
            ]
          }
        },
        "69b6a8ab45374856ad5678d639478490": {
          "model_module": "@jupyter-widgets/base",
          "model_name": "LayoutModel",
          "state": {
            "_view_name": "LayoutView",
            "grid_template_rows": null,
            "right": null,
            "justify_content": null,
            "_view_module": "@jupyter-widgets/base",
            "overflow": null,
            "_model_module_version": "1.2.0",
            "_view_count": null,
            "flex_flow": null,
            "width": null,
            "min_width": null,
            "border": null,
            "align_items": null,
            "bottom": null,
            "_model_module": "@jupyter-widgets/base",
            "top": null,
            "grid_column": null,
            "overflow_y": null,
            "overflow_x": null,
            "grid_auto_flow": null,
            "grid_area": null,
            "grid_template_columns": null,
            "flex": null,
            "_model_name": "LayoutModel",
            "justify_items": null,
            "grid_row": null,
            "max_height": null,
            "align_content": null,
            "visibility": null,
            "align_self": null,
            "height": null,
            "min_height": null,
            "padding": null,
            "grid_auto_rows": null,
            "grid_gap": null,
            "max_width": null,
            "order": null,
            "_view_module_version": "1.2.0",
            "grid_template_areas": null,
            "object_position": null,
            "object_fit": null,
            "grid_auto_columns": null,
            "margin": null,
            "display": null,
            "left": null
          }
        },
        "ca324968b5ea468db60cdfd32fae439e": {
          "model_module": "@jupyter-widgets/controls",
          "model_name": "FloatProgressModel",
          "state": {
            "_view_name": "ProgressView",
            "style": "IPY_MODEL_4b694cc75a77445a9e33a63c440ee7eb",
            "_dom_classes": [],
            "description": "Downloading: 100%",
            "_model_name": "FloatProgressModel",
            "bar_style": "success",
            "max": 570,
            "_view_module": "@jupyter-widgets/controls",
            "_model_module_version": "1.5.0",
            "value": 570,
            "_view_count": null,
            "_view_module_version": "1.5.0",
            "orientation": "horizontal",
            "min": 0,
            "description_tooltip": null,
            "_model_module": "@jupyter-widgets/controls",
            "layout": "IPY_MODEL_2f14e31df73242aab82af953332f9abb"
          }
        },
        "12e076cd46bc47a6887c79d83bd54fbc": {
          "model_module": "@jupyter-widgets/controls",
          "model_name": "HTMLModel",
          "state": {
            "_view_name": "HTMLView",
            "style": "IPY_MODEL_19fd8fb435d945f4b62da0154a75d120",
            "_dom_classes": [],
            "description": "",
            "_model_name": "HTMLModel",
            "placeholder": "​",
            "_view_module": "@jupyter-widgets/controls",
            "_model_module_version": "1.5.0",
            "value": " 570/570 [00:00&lt;00:00, 1.51kB/s]",
            "_view_count": null,
            "_view_module_version": "1.5.0",
            "description_tooltip": null,
            "_model_module": "@jupyter-widgets/controls",
            "layout": "IPY_MODEL_501ac715782447efa049783b2918b1a2"
          }
        },
        "4b694cc75a77445a9e33a63c440ee7eb": {
          "model_module": "@jupyter-widgets/controls",
          "model_name": "ProgressStyleModel",
          "state": {
            "_view_name": "StyleView",
            "_model_name": "ProgressStyleModel",
            "description_width": "initial",
            "_view_module": "@jupyter-widgets/base",
            "_model_module_version": "1.5.0",
            "_view_count": null,
            "_view_module_version": "1.2.0",
            "bar_color": null,
            "_model_module": "@jupyter-widgets/controls"
          }
        },
        "2f14e31df73242aab82af953332f9abb": {
          "model_module": "@jupyter-widgets/base",
          "model_name": "LayoutModel",
          "state": {
            "_view_name": "LayoutView",
            "grid_template_rows": null,
            "right": null,
            "justify_content": null,
            "_view_module": "@jupyter-widgets/base",
            "overflow": null,
            "_model_module_version": "1.2.0",
            "_view_count": null,
            "flex_flow": null,
            "width": null,
            "min_width": null,
            "border": null,
            "align_items": null,
            "bottom": null,
            "_model_module": "@jupyter-widgets/base",
            "top": null,
            "grid_column": null,
            "overflow_y": null,
            "overflow_x": null,
            "grid_auto_flow": null,
            "grid_area": null,
            "grid_template_columns": null,
            "flex": null,
            "_model_name": "LayoutModel",
            "justify_items": null,
            "grid_row": null,
            "max_height": null,
            "align_content": null,
            "visibility": null,
            "align_self": null,
            "height": null,
            "min_height": null,
            "padding": null,
            "grid_auto_rows": null,
            "grid_gap": null,
            "max_width": null,
            "order": null,
            "_view_module_version": "1.2.0",
            "grid_template_areas": null,
            "object_position": null,
            "object_fit": null,
            "grid_auto_columns": null,
            "margin": null,
            "display": null,
            "left": null
          }
        },
        "19fd8fb435d945f4b62da0154a75d120": {
          "model_module": "@jupyter-widgets/controls",
          "model_name": "DescriptionStyleModel",
          "state": {
            "_view_name": "StyleView",
            "_model_name": "DescriptionStyleModel",
            "description_width": "",
            "_view_module": "@jupyter-widgets/base",
            "_model_module_version": "1.5.0",
            "_view_count": null,
            "_view_module_version": "1.2.0",
            "_model_module": "@jupyter-widgets/controls"
          }
        },
        "501ac715782447efa049783b2918b1a2": {
          "model_module": "@jupyter-widgets/base",
          "model_name": "LayoutModel",
          "state": {
            "_view_name": "LayoutView",
            "grid_template_rows": null,
            "right": null,
            "justify_content": null,
            "_view_module": "@jupyter-widgets/base",
            "overflow": null,
            "_model_module_version": "1.2.0",
            "_view_count": null,
            "flex_flow": null,
            "width": null,
            "min_width": null,
            "border": null,
            "align_items": null,
            "bottom": null,
            "_model_module": "@jupyter-widgets/base",
            "top": null,
            "grid_column": null,
            "overflow_y": null,
            "overflow_x": null,
            "grid_auto_flow": null,
            "grid_area": null,
            "grid_template_columns": null,
            "flex": null,
            "_model_name": "LayoutModel",
            "justify_items": null,
            "grid_row": null,
            "max_height": null,
            "align_content": null,
            "visibility": null,
            "align_self": null,
            "height": null,
            "min_height": null,
            "padding": null,
            "grid_auto_rows": null,
            "grid_gap": null,
            "max_width": null,
            "order": null,
            "_view_module_version": "1.2.0",
            "grid_template_areas": null,
            "object_position": null,
            "object_fit": null,
            "grid_auto_columns": null,
            "margin": null,
            "display": null,
            "left": null
          }
        },
        "68664dc0713849ba845b2a5201b9a6d2": {
          "model_module": "@jupyter-widgets/controls",
          "model_name": "HBoxModel",
          "state": {
            "_view_name": "HBoxView",
            "_dom_classes": [],
            "_model_name": "HBoxModel",
            "_view_module": "@jupyter-widgets/controls",
            "_model_module_version": "1.5.0",
            "_view_count": null,
            "_view_module_version": "1.5.0",
            "box_style": "",
            "layout": "IPY_MODEL_3885e164fcdf49eda4ae5b8b4971b815",
            "_model_module": "@jupyter-widgets/controls",
            "children": [
              "IPY_MODEL_b59b64df07c04c2381c6095ade36834e",
              "IPY_MODEL_794b08a2d0ea4d82820070fad8f063a6"
            ]
          }
        },
        "3885e164fcdf49eda4ae5b8b4971b815": {
          "model_module": "@jupyter-widgets/base",
          "model_name": "LayoutModel",
          "state": {
            "_view_name": "LayoutView",
            "grid_template_rows": null,
            "right": null,
            "justify_content": null,
            "_view_module": "@jupyter-widgets/base",
            "overflow": null,
            "_model_module_version": "1.2.0",
            "_view_count": null,
            "flex_flow": null,
            "width": null,
            "min_width": null,
            "border": null,
            "align_items": null,
            "bottom": null,
            "_model_module": "@jupyter-widgets/base",
            "top": null,
            "grid_column": null,
            "overflow_y": null,
            "overflow_x": null,
            "grid_auto_flow": null,
            "grid_area": null,
            "grid_template_columns": null,
            "flex": null,
            "_model_name": "LayoutModel",
            "justify_items": null,
            "grid_row": null,
            "max_height": null,
            "align_content": null,
            "visibility": null,
            "align_self": null,
            "height": null,
            "min_height": null,
            "padding": null,
            "grid_auto_rows": null,
            "grid_gap": null,
            "max_width": null,
            "order": null,
            "_view_module_version": "1.2.0",
            "grid_template_areas": null,
            "object_position": null,
            "object_fit": null,
            "grid_auto_columns": null,
            "margin": null,
            "display": null,
            "left": null
          }
        },
        "b59b64df07c04c2381c6095ade36834e": {
          "model_module": "@jupyter-widgets/controls",
          "model_name": "FloatProgressModel",
          "state": {
            "_view_name": "ProgressView",
            "style": "IPY_MODEL_5b18d878d35e4e9593b970aa92eda7ed",
            "_dom_classes": [],
            "description": "Downloading: 100%",
            "_model_name": "FloatProgressModel",
            "bar_style": "success",
            "max": 231508,
            "_view_module": "@jupyter-widgets/controls",
            "_model_module_version": "1.5.0",
            "value": 231508,
            "_view_count": null,
            "_view_module_version": "1.5.0",
            "orientation": "horizontal",
            "min": 0,
            "description_tooltip": null,
            "_model_module": "@jupyter-widgets/controls",
            "layout": "IPY_MODEL_e6f993d5506d4dc8a7ff0846ecaa566c"
          }
        },
        "794b08a2d0ea4d82820070fad8f063a6": {
          "model_module": "@jupyter-widgets/controls",
          "model_name": "HTMLModel",
          "state": {
            "_view_name": "HTMLView",
            "style": "IPY_MODEL_105d07178bbd4ff4ad8049a96345df4f",
            "_dom_classes": [],
            "description": "",
            "_model_name": "HTMLModel",
            "placeholder": "​",
            "_view_module": "@jupyter-widgets/controls",
            "_model_module_version": "1.5.0",
            "value": " 232k/232k [00:02&lt;00:00, 95.0kB/s]",
            "_view_count": null,
            "_view_module_version": "1.5.0",
            "description_tooltip": null,
            "_model_module": "@jupyter-widgets/controls",
            "layout": "IPY_MODEL_4f07f4cae68b4b5aa8bb3b154b9936e6"
          }
        },
        "5b18d878d35e4e9593b970aa92eda7ed": {
          "model_module": "@jupyter-widgets/controls",
          "model_name": "ProgressStyleModel",
          "state": {
            "_view_name": "StyleView",
            "_model_name": "ProgressStyleModel",
            "description_width": "initial",
            "_view_module": "@jupyter-widgets/base",
            "_model_module_version": "1.5.0",
            "_view_count": null,
            "_view_module_version": "1.2.0",
            "bar_color": null,
            "_model_module": "@jupyter-widgets/controls"
          }
        },
        "e6f993d5506d4dc8a7ff0846ecaa566c": {
          "model_module": "@jupyter-widgets/base",
          "model_name": "LayoutModel",
          "state": {
            "_view_name": "LayoutView",
            "grid_template_rows": null,
            "right": null,
            "justify_content": null,
            "_view_module": "@jupyter-widgets/base",
            "overflow": null,
            "_model_module_version": "1.2.0",
            "_view_count": null,
            "flex_flow": null,
            "width": null,
            "min_width": null,
            "border": null,
            "align_items": null,
            "bottom": null,
            "_model_module": "@jupyter-widgets/base",
            "top": null,
            "grid_column": null,
            "overflow_y": null,
            "overflow_x": null,
            "grid_auto_flow": null,
            "grid_area": null,
            "grid_template_columns": null,
            "flex": null,
            "_model_name": "LayoutModel",
            "justify_items": null,
            "grid_row": null,
            "max_height": null,
            "align_content": null,
            "visibility": null,
            "align_self": null,
            "height": null,
            "min_height": null,
            "padding": null,
            "grid_auto_rows": null,
            "grid_gap": null,
            "max_width": null,
            "order": null,
            "_view_module_version": "1.2.0",
            "grid_template_areas": null,
            "object_position": null,
            "object_fit": null,
            "grid_auto_columns": null,
            "margin": null,
            "display": null,
            "left": null
          }
        },
        "105d07178bbd4ff4ad8049a96345df4f": {
          "model_module": "@jupyter-widgets/controls",
          "model_name": "DescriptionStyleModel",
          "state": {
            "_view_name": "StyleView",
            "_model_name": "DescriptionStyleModel",
            "description_width": "",
            "_view_module": "@jupyter-widgets/base",
            "_model_module_version": "1.5.0",
            "_view_count": null,
            "_view_module_version": "1.2.0",
            "_model_module": "@jupyter-widgets/controls"
          }
        },
        "4f07f4cae68b4b5aa8bb3b154b9936e6": {
          "model_module": "@jupyter-widgets/base",
          "model_name": "LayoutModel",
          "state": {
            "_view_name": "LayoutView",
            "grid_template_rows": null,
            "right": null,
            "justify_content": null,
            "_view_module": "@jupyter-widgets/base",
            "overflow": null,
            "_model_module_version": "1.2.0",
            "_view_count": null,
            "flex_flow": null,
            "width": null,
            "min_width": null,
            "border": null,
            "align_items": null,
            "bottom": null,
            "_model_module": "@jupyter-widgets/base",
            "top": null,
            "grid_column": null,
            "overflow_y": null,
            "overflow_x": null,
            "grid_auto_flow": null,
            "grid_area": null,
            "grid_template_columns": null,
            "flex": null,
            "_model_name": "LayoutModel",
            "justify_items": null,
            "grid_row": null,
            "max_height": null,
            "align_content": null,
            "visibility": null,
            "align_self": null,
            "height": null,
            "min_height": null,
            "padding": null,
            "grid_auto_rows": null,
            "grid_gap": null,
            "max_width": null,
            "order": null,
            "_view_module_version": "1.2.0",
            "grid_template_areas": null,
            "object_position": null,
            "object_fit": null,
            "grid_auto_columns": null,
            "margin": null,
            "display": null,
            "left": null
          }
        },
        "f7514250c02b49f2a412041bd541f496": {
          "model_module": "@jupyter-widgets/controls",
          "model_name": "HBoxModel",
          "state": {
            "_view_name": "HBoxView",
            "_dom_classes": [],
            "_model_name": "HBoxModel",
            "_view_module": "@jupyter-widgets/controls",
            "_model_module_version": "1.5.0",
            "_view_count": null,
            "_view_module_version": "1.5.0",
            "box_style": "",
            "layout": "IPY_MODEL_48bc504782d447feb615971a54726cbb",
            "_model_module": "@jupyter-widgets/controls",
            "children": [
              "IPY_MODEL_cecb66c59cf54fb6beeb7f3d029668f2",
              "IPY_MODEL_fdf567997e8d4872a3fe9bec17ee1718"
            ]
          }
        },
        "48bc504782d447feb615971a54726cbb": {
          "model_module": "@jupyter-widgets/base",
          "model_name": "LayoutModel",
          "state": {
            "_view_name": "LayoutView",
            "grid_template_rows": null,
            "right": null,
            "justify_content": null,
            "_view_module": "@jupyter-widgets/base",
            "overflow": null,
            "_model_module_version": "1.2.0",
            "_view_count": null,
            "flex_flow": null,
            "width": null,
            "min_width": null,
            "border": null,
            "align_items": null,
            "bottom": null,
            "_model_module": "@jupyter-widgets/base",
            "top": null,
            "grid_column": null,
            "overflow_y": null,
            "overflow_x": null,
            "grid_auto_flow": null,
            "grid_area": null,
            "grid_template_columns": null,
            "flex": null,
            "_model_name": "LayoutModel",
            "justify_items": null,
            "grid_row": null,
            "max_height": null,
            "align_content": null,
            "visibility": null,
            "align_self": null,
            "height": null,
            "min_height": null,
            "padding": null,
            "grid_auto_rows": null,
            "grid_gap": null,
            "max_width": null,
            "order": null,
            "_view_module_version": "1.2.0",
            "grid_template_areas": null,
            "object_position": null,
            "object_fit": null,
            "grid_auto_columns": null,
            "margin": null,
            "display": null,
            "left": null
          }
        },
        "cecb66c59cf54fb6beeb7f3d029668f2": {
          "model_module": "@jupyter-widgets/controls",
          "model_name": "FloatProgressModel",
          "state": {
            "_view_name": "ProgressView",
            "style": "IPY_MODEL_bf0c9e7dc0ff46fa86c30147a4aa9785",
            "_dom_classes": [],
            "description": "Downloading: 100%",
            "_model_name": "FloatProgressModel",
            "bar_style": "success",
            "max": 466062,
            "_view_module": "@jupyter-widgets/controls",
            "_model_module_version": "1.5.0",
            "value": 466062,
            "_view_count": null,
            "_view_module_version": "1.5.0",
            "orientation": "horizontal",
            "min": 0,
            "description_tooltip": null,
            "_model_module": "@jupyter-widgets/controls",
            "layout": "IPY_MODEL_a6940bfff8354a878e9854051ee02d61"
          }
        },
        "fdf567997e8d4872a3fe9bec17ee1718": {
          "model_module": "@jupyter-widgets/controls",
          "model_name": "HTMLModel",
          "state": {
            "_view_name": "HTMLView",
            "style": "IPY_MODEL_f322790c9a3647fda4e7ff5c59195c04",
            "_dom_classes": [],
            "description": "",
            "_model_name": "HTMLModel",
            "placeholder": "​",
            "_view_module": "@jupyter-widgets/controls",
            "_model_module_version": "1.5.0",
            "value": " 466k/466k [00:01&lt;00:00, 297kB/s]",
            "_view_count": null,
            "_view_module_version": "1.5.0",
            "description_tooltip": null,
            "_model_module": "@jupyter-widgets/controls",
            "layout": "IPY_MODEL_cb13ac6a1f634476a8bf62122abbe809"
          }
        },
        "bf0c9e7dc0ff46fa86c30147a4aa9785": {
          "model_module": "@jupyter-widgets/controls",
          "model_name": "ProgressStyleModel",
          "state": {
            "_view_name": "StyleView",
            "_model_name": "ProgressStyleModel",
            "description_width": "initial",
            "_view_module": "@jupyter-widgets/base",
            "_model_module_version": "1.5.0",
            "_view_count": null,
            "_view_module_version": "1.2.0",
            "bar_color": null,
            "_model_module": "@jupyter-widgets/controls"
          }
        },
        "a6940bfff8354a878e9854051ee02d61": {
          "model_module": "@jupyter-widgets/base",
          "model_name": "LayoutModel",
          "state": {
            "_view_name": "LayoutView",
            "grid_template_rows": null,
            "right": null,
            "justify_content": null,
            "_view_module": "@jupyter-widgets/base",
            "overflow": null,
            "_model_module_version": "1.2.0",
            "_view_count": null,
            "flex_flow": null,
            "width": null,
            "min_width": null,
            "border": null,
            "align_items": null,
            "bottom": null,
            "_model_module": "@jupyter-widgets/base",
            "top": null,
            "grid_column": null,
            "overflow_y": null,
            "overflow_x": null,
            "grid_auto_flow": null,
            "grid_area": null,
            "grid_template_columns": null,
            "flex": null,
            "_model_name": "LayoutModel",
            "justify_items": null,
            "grid_row": null,
            "max_height": null,
            "align_content": null,
            "visibility": null,
            "align_self": null,
            "height": null,
            "min_height": null,
            "padding": null,
            "grid_auto_rows": null,
            "grid_gap": null,
            "max_width": null,
            "order": null,
            "_view_module_version": "1.2.0",
            "grid_template_areas": null,
            "object_position": null,
            "object_fit": null,
            "grid_auto_columns": null,
            "margin": null,
            "display": null,
            "left": null
          }
        },
        "f322790c9a3647fda4e7ff5c59195c04": {
          "model_module": "@jupyter-widgets/controls",
          "model_name": "DescriptionStyleModel",
          "state": {
            "_view_name": "StyleView",
            "_model_name": "DescriptionStyleModel",
            "description_width": "",
            "_view_module": "@jupyter-widgets/base",
            "_model_module_version": "1.5.0",
            "_view_count": null,
            "_view_module_version": "1.2.0",
            "_model_module": "@jupyter-widgets/controls"
          }
        },
        "cb13ac6a1f634476a8bf62122abbe809": {
          "model_module": "@jupyter-widgets/base",
          "model_name": "LayoutModel",
          "state": {
            "_view_name": "LayoutView",
            "grid_template_rows": null,
            "right": null,
            "justify_content": null,
            "_view_module": "@jupyter-widgets/base",
            "overflow": null,
            "_model_module_version": "1.2.0",
            "_view_count": null,
            "flex_flow": null,
            "width": null,
            "min_width": null,
            "border": null,
            "align_items": null,
            "bottom": null,
            "_model_module": "@jupyter-widgets/base",
            "top": null,
            "grid_column": null,
            "overflow_y": null,
            "overflow_x": null,
            "grid_auto_flow": null,
            "grid_area": null,
            "grid_template_columns": null,
            "flex": null,
            "_model_name": "LayoutModel",
            "justify_items": null,
            "grid_row": null,
            "max_height": null,
            "align_content": null,
            "visibility": null,
            "align_self": null,
            "height": null,
            "min_height": null,
            "padding": null,
            "grid_auto_rows": null,
            "grid_gap": null,
            "max_width": null,
            "order": null,
            "_view_module_version": "1.2.0",
            "grid_template_areas": null,
            "object_position": null,
            "object_fit": null,
            "grid_auto_columns": null,
            "margin": null,
            "display": null,
            "left": null
          }
        },
        "fcd35022358745cfa611331783c46c05": {
          "model_module": "@jupyter-widgets/controls",
          "model_name": "HBoxModel",
          "state": {
            "_view_name": "HBoxView",
            "_dom_classes": [],
            "_model_name": "HBoxModel",
            "_view_module": "@jupyter-widgets/controls",
            "_model_module_version": "1.5.0",
            "_view_count": null,
            "_view_module_version": "1.5.0",
            "box_style": "",
            "layout": "IPY_MODEL_384fb2d720054152a2d97119a92bb676",
            "_model_module": "@jupyter-widgets/controls",
            "children": [
              "IPY_MODEL_cad161f9ad0d4317a0c9375d5bd2b7ba",
              "IPY_MODEL_e32f621ab3f5430fa7466f50e6de3453"
            ]
          }
        },
        "384fb2d720054152a2d97119a92bb676": {
          "model_module": "@jupyter-widgets/base",
          "model_name": "LayoutModel",
          "state": {
            "_view_name": "LayoutView",
            "grid_template_rows": null,
            "right": null,
            "justify_content": null,
            "_view_module": "@jupyter-widgets/base",
            "overflow": null,
            "_model_module_version": "1.2.0",
            "_view_count": null,
            "flex_flow": null,
            "width": null,
            "min_width": null,
            "border": null,
            "align_items": null,
            "bottom": null,
            "_model_module": "@jupyter-widgets/base",
            "top": null,
            "grid_column": null,
            "overflow_y": null,
            "overflow_x": null,
            "grid_auto_flow": null,
            "grid_area": null,
            "grid_template_columns": null,
            "flex": null,
            "_model_name": "LayoutModel",
            "justify_items": null,
            "grid_row": null,
            "max_height": null,
            "align_content": null,
            "visibility": null,
            "align_self": null,
            "height": null,
            "min_height": null,
            "padding": null,
            "grid_auto_rows": null,
            "grid_gap": null,
            "max_width": null,
            "order": null,
            "_view_module_version": "1.2.0",
            "grid_template_areas": null,
            "object_position": null,
            "object_fit": null,
            "grid_auto_columns": null,
            "margin": null,
            "display": null,
            "left": null
          }
        },
        "cad161f9ad0d4317a0c9375d5bd2b7ba": {
          "model_module": "@jupyter-widgets/controls",
          "model_name": "FloatProgressModel",
          "state": {
            "_view_name": "ProgressView",
            "style": "IPY_MODEL_fd7c569d4d524f2bac502c501ec61173",
            "_dom_classes": [],
            "description": "Downloading: 100%",
            "_model_name": "FloatProgressModel",
            "bar_style": "success",
            "max": 28,
            "_view_module": "@jupyter-widgets/controls",
            "_model_module_version": "1.5.0",
            "value": 28,
            "_view_count": null,
            "_view_module_version": "1.5.0",
            "orientation": "horizontal",
            "min": 0,
            "description_tooltip": null,
            "_model_module": "@jupyter-widgets/controls",
            "layout": "IPY_MODEL_d4669c6dc6bf449a9345df201566bfa6"
          }
        },
        "e32f621ab3f5430fa7466f50e6de3453": {
          "model_module": "@jupyter-widgets/controls",
          "model_name": "HTMLModel",
          "state": {
            "_view_name": "HTMLView",
            "style": "IPY_MODEL_3569ee282d984252b3cc9fddaa8a0569",
            "_dom_classes": [],
            "description": "",
            "_model_name": "HTMLModel",
            "placeholder": "​",
            "_view_module": "@jupyter-widgets/controls",
            "_model_module_version": "1.5.0",
            "value": " 28.0/28.0 [00:00&lt;00:00, 79.9B/s]",
            "_view_count": null,
            "_view_module_version": "1.5.0",
            "description_tooltip": null,
            "_model_module": "@jupyter-widgets/controls",
            "layout": "IPY_MODEL_f52638ec6cd84e0a965b5ae7b88cbc23"
          }
        },
        "fd7c569d4d524f2bac502c501ec61173": {
          "model_module": "@jupyter-widgets/controls",
          "model_name": "ProgressStyleModel",
          "state": {
            "_view_name": "StyleView",
            "_model_name": "ProgressStyleModel",
            "description_width": "initial",
            "_view_module": "@jupyter-widgets/base",
            "_model_module_version": "1.5.0",
            "_view_count": null,
            "_view_module_version": "1.2.0",
            "bar_color": null,
            "_model_module": "@jupyter-widgets/controls"
          }
        },
        "d4669c6dc6bf449a9345df201566bfa6": {
          "model_module": "@jupyter-widgets/base",
          "model_name": "LayoutModel",
          "state": {
            "_view_name": "LayoutView",
            "grid_template_rows": null,
            "right": null,
            "justify_content": null,
            "_view_module": "@jupyter-widgets/base",
            "overflow": null,
            "_model_module_version": "1.2.0",
            "_view_count": null,
            "flex_flow": null,
            "width": null,
            "min_width": null,
            "border": null,
            "align_items": null,
            "bottom": null,
            "_model_module": "@jupyter-widgets/base",
            "top": null,
            "grid_column": null,
            "overflow_y": null,
            "overflow_x": null,
            "grid_auto_flow": null,
            "grid_area": null,
            "grid_template_columns": null,
            "flex": null,
            "_model_name": "LayoutModel",
            "justify_items": null,
            "grid_row": null,
            "max_height": null,
            "align_content": null,
            "visibility": null,
            "align_self": null,
            "height": null,
            "min_height": null,
            "padding": null,
            "grid_auto_rows": null,
            "grid_gap": null,
            "max_width": null,
            "order": null,
            "_view_module_version": "1.2.0",
            "grid_template_areas": null,
            "object_position": null,
            "object_fit": null,
            "grid_auto_columns": null,
            "margin": null,
            "display": null,
            "left": null
          }
        },
        "3569ee282d984252b3cc9fddaa8a0569": {
          "model_module": "@jupyter-widgets/controls",
          "model_name": "DescriptionStyleModel",
          "state": {
            "_view_name": "StyleView",
            "_model_name": "DescriptionStyleModel",
            "description_width": "",
            "_view_module": "@jupyter-widgets/base",
            "_model_module_version": "1.5.0",
            "_view_count": null,
            "_view_module_version": "1.2.0",
            "_model_module": "@jupyter-widgets/controls"
          }
        },
        "f52638ec6cd84e0a965b5ae7b88cbc23": {
          "model_module": "@jupyter-widgets/base",
          "model_name": "LayoutModel",
          "state": {
            "_view_name": "LayoutView",
            "grid_template_rows": null,
            "right": null,
            "justify_content": null,
            "_view_module": "@jupyter-widgets/base",
            "overflow": null,
            "_model_module_version": "1.2.0",
            "_view_count": null,
            "flex_flow": null,
            "width": null,
            "min_width": null,
            "border": null,
            "align_items": null,
            "bottom": null,
            "_model_module": "@jupyter-widgets/base",
            "top": null,
            "grid_column": null,
            "overflow_y": null,
            "overflow_x": null,
            "grid_auto_flow": null,
            "grid_area": null,
            "grid_template_columns": null,
            "flex": null,
            "_model_name": "LayoutModel",
            "justify_items": null,
            "grid_row": null,
            "max_height": null,
            "align_content": null,
            "visibility": null,
            "align_self": null,
            "height": null,
            "min_height": null,
            "padding": null,
            "grid_auto_rows": null,
            "grid_gap": null,
            "max_width": null,
            "order": null,
            "_view_module_version": "1.2.0",
            "grid_template_areas": null,
            "object_position": null,
            "object_fit": null,
            "grid_auto_columns": null,
            "margin": null,
            "display": null,
            "left": null
          }
        },
        "ea0914748a2149f8b6b949bab5167f9e": {
          "model_module": "@jupyter-widgets/controls",
          "model_name": "HBoxModel",
          "state": {
            "_view_name": "HBoxView",
            "_dom_classes": [],
            "_model_name": "HBoxModel",
            "_view_module": "@jupyter-widgets/controls",
            "_model_module_version": "1.5.0",
            "_view_count": null,
            "_view_module_version": "1.5.0",
            "box_style": "",
            "layout": "IPY_MODEL_c015fe73b5dd40deacd1e36a950ed7b3",
            "_model_module": "@jupyter-widgets/controls",
            "children": [
              "IPY_MODEL_631f386fbfaf4ea3864b9a23c0126141",
              "IPY_MODEL_7583631ee0a545a59bfb973e62a71eba"
            ]
          }
        },
        "c015fe73b5dd40deacd1e36a950ed7b3": {
          "model_module": "@jupyter-widgets/base",
          "model_name": "LayoutModel",
          "state": {
            "_view_name": "LayoutView",
            "grid_template_rows": null,
            "right": null,
            "justify_content": null,
            "_view_module": "@jupyter-widgets/base",
            "overflow": null,
            "_model_module_version": "1.2.0",
            "_view_count": null,
            "flex_flow": null,
            "width": null,
            "min_width": null,
            "border": null,
            "align_items": null,
            "bottom": null,
            "_model_module": "@jupyter-widgets/base",
            "top": null,
            "grid_column": null,
            "overflow_y": null,
            "overflow_x": null,
            "grid_auto_flow": null,
            "grid_area": null,
            "grid_template_columns": null,
            "flex": null,
            "_model_name": "LayoutModel",
            "justify_items": null,
            "grid_row": null,
            "max_height": null,
            "align_content": null,
            "visibility": null,
            "align_self": null,
            "height": null,
            "min_height": null,
            "padding": null,
            "grid_auto_rows": null,
            "grid_gap": null,
            "max_width": null,
            "order": null,
            "_view_module_version": "1.2.0",
            "grid_template_areas": null,
            "object_position": null,
            "object_fit": null,
            "grid_auto_columns": null,
            "margin": null,
            "display": null,
            "left": null
          }
        },
        "631f386fbfaf4ea3864b9a23c0126141": {
          "model_module": "@jupyter-widgets/controls",
          "model_name": "FloatProgressModel",
          "state": {
            "_view_name": "ProgressView",
            "style": "IPY_MODEL_a13ad766c3144481ba04040922003f61",
            "_dom_classes": [],
            "description": "Downloading: 100%",
            "_model_name": "FloatProgressModel",
            "bar_style": "success",
            "max": 536063208,
            "_view_module": "@jupyter-widgets/controls",
            "_model_module_version": "1.5.0",
            "value": 536063208,
            "_view_count": null,
            "_view_module_version": "1.5.0",
            "orientation": "horizontal",
            "min": 0,
            "description_tooltip": null,
            "_model_module": "@jupyter-widgets/controls",
            "layout": "IPY_MODEL_282a047b8cb04091a80ebab7bc9aa14f"
          }
        },
        "7583631ee0a545a59bfb973e62a71eba": {
          "model_module": "@jupyter-widgets/controls",
          "model_name": "HTMLModel",
          "state": {
            "_view_name": "HTMLView",
            "style": "IPY_MODEL_01d00932e7fc4c06b655dddaab19fc39",
            "_dom_classes": [],
            "description": "",
            "_model_name": "HTMLModel",
            "placeholder": "​",
            "_view_module": "@jupyter-widgets/controls",
            "_model_module_version": "1.5.0",
            "value": " 536M/536M [00:11&lt;00:00, 48.4MB/s]",
            "_view_count": null,
            "_view_module_version": "1.5.0",
            "description_tooltip": null,
            "_model_module": "@jupyter-widgets/controls",
            "layout": "IPY_MODEL_0aa646f26e8142389616f01a45bad18b"
          }
        },
        "a13ad766c3144481ba04040922003f61": {
          "model_module": "@jupyter-widgets/controls",
          "model_name": "ProgressStyleModel",
          "state": {
            "_view_name": "StyleView",
            "_model_name": "ProgressStyleModel",
            "description_width": "initial",
            "_view_module": "@jupyter-widgets/base",
            "_model_module_version": "1.5.0",
            "_view_count": null,
            "_view_module_version": "1.2.0",
            "bar_color": null,
            "_model_module": "@jupyter-widgets/controls"
          }
        },
        "282a047b8cb04091a80ebab7bc9aa14f": {
          "model_module": "@jupyter-widgets/base",
          "model_name": "LayoutModel",
          "state": {
            "_view_name": "LayoutView",
            "grid_template_rows": null,
            "right": null,
            "justify_content": null,
            "_view_module": "@jupyter-widgets/base",
            "overflow": null,
            "_model_module_version": "1.2.0",
            "_view_count": null,
            "flex_flow": null,
            "width": null,
            "min_width": null,
            "border": null,
            "align_items": null,
            "bottom": null,
            "_model_module": "@jupyter-widgets/base",
            "top": null,
            "grid_column": null,
            "overflow_y": null,
            "overflow_x": null,
            "grid_auto_flow": null,
            "grid_area": null,
            "grid_template_columns": null,
            "flex": null,
            "_model_name": "LayoutModel",
            "justify_items": null,
            "grid_row": null,
            "max_height": null,
            "align_content": null,
            "visibility": null,
            "align_self": null,
            "height": null,
            "min_height": null,
            "padding": null,
            "grid_auto_rows": null,
            "grid_gap": null,
            "max_width": null,
            "order": null,
            "_view_module_version": "1.2.0",
            "grid_template_areas": null,
            "object_position": null,
            "object_fit": null,
            "grid_auto_columns": null,
            "margin": null,
            "display": null,
            "left": null
          }
        },
        "01d00932e7fc4c06b655dddaab19fc39": {
          "model_module": "@jupyter-widgets/controls",
          "model_name": "DescriptionStyleModel",
          "state": {
            "_view_name": "StyleView",
            "_model_name": "DescriptionStyleModel",
            "description_width": "",
            "_view_module": "@jupyter-widgets/base",
            "_model_module_version": "1.5.0",
            "_view_count": null,
            "_view_module_version": "1.2.0",
            "_model_module": "@jupyter-widgets/controls"
          }
        },
        "0aa646f26e8142389616f01a45bad18b": {
          "model_module": "@jupyter-widgets/base",
          "model_name": "LayoutModel",
          "state": {
            "_view_name": "LayoutView",
            "grid_template_rows": null,
            "right": null,
            "justify_content": null,
            "_view_module": "@jupyter-widgets/base",
            "overflow": null,
            "_model_module_version": "1.2.0",
            "_view_count": null,
            "flex_flow": null,
            "width": null,
            "min_width": null,
            "border": null,
            "align_items": null,
            "bottom": null,
            "_model_module": "@jupyter-widgets/base",
            "top": null,
            "grid_column": null,
            "overflow_y": null,
            "overflow_x": null,
            "grid_auto_flow": null,
            "grid_area": null,
            "grid_template_columns": null,
            "flex": null,
            "_model_name": "LayoutModel",
            "justify_items": null,
            "grid_row": null,
            "max_height": null,
            "align_content": null,
            "visibility": null,
            "align_self": null,
            "height": null,
            "min_height": null,
            "padding": null,
            "grid_auto_rows": null,
            "grid_gap": null,
            "max_width": null,
            "order": null,
            "_view_module_version": "1.2.0",
            "grid_template_areas": null,
            "object_position": null,
            "object_fit": null,
            "grid_auto_columns": null,
            "margin": null,
            "display": null,
            "left": null
          }
        }
      }
    }
  },
  "cells": [
    {
      "cell_type": "markdown",
      "metadata": {
        "id": "view-in-github",
        "colab_type": "text"
      },
      "source": [
        "<a href=\"https://colab.research.google.com/github/ngzhankang/finalYearProjectUOB/blob/main/training/NLP_BERT.ipynb\" target=\"_parent\"><img src=\"https://colab.research.google.com/assets/colab-badge.svg\" alt=\"Open In Colab\"/></a>"
      ]
    },
    {
      "cell_type": "markdown",
      "metadata": {
        "id": "C4WG19GGjVCN"
      },
      "source": [
        "# FINAL YEAR PROJECT - BERT\n",
        "Done by : \n",
        "- P1935785 Ang Yak Hng\n",
        "- P1932964 Teo Swee Hong Winson\n",
        "- P1935727 Ng Zhan Kang\n",
        "- P1935488 Triston Loh\n",
        "- P1935602 Ng Ao Yang\n",
        "\n",
        "Class of DIT/FT/3A/05\n"
      ]
    },
    {
      "cell_type": "markdown",
      "metadata": {
        "id": "lTixCl0Yj3aC"
      },
      "source": [
        "---\n",
        "---"
      ]
    },
    {
      "cell_type": "markdown",
      "metadata": {
        "id": "Xa-0olzCkDtZ"
      },
      "source": [
        "# 1.Cloning Github To Colab Workspace"
      ]
    },
    {
      "cell_type": "markdown",
      "metadata": {
        "id": "B_no5sNXlBZ_"
      },
      "source": [
        "<div class=\"alert alert-block alert-danger\">\n",
        "    <b>ATTENTION:</b> The entire section 1 is dedicated to users who are using google colab to do the entire project. This entire process clones the private repository directly into the temporary google colab workspace. Google colab user are to repeat this same proccess whenever in a new session. Users who do not use colab to do this project CAN OMIT THE ENTIRE SECTION 1. \n",
        "</div>"
      ]
    },
    {
      "cell_type": "markdown",
      "metadata": {
        "id": "B-ZvXSUPkPBq"
      },
      "source": [
        "### 1.1. Configurating SSH keys for GitHub and Colab connection\n",
        "\n",
        "---\n",
        "\n",
        "This entire section can be omitted if users are not using Google Colab at all."
      ]
    },
    {
      "cell_type": "code",
      "metadata": {
        "id": "JH5jhDiOliB2",
        "colab": {
          "base_uri": "https://localhost:8080/"
        },
        "outputId": "dca5e6ae-7a8e-4b3a-87c5-e9e2c68a7d3d"
      },
      "source": [
        "!ssh-keygen -t rsa -b 4096"
      ],
      "execution_count": null,
      "outputs": [
        {
          "output_type": "stream",
          "text": [
            "Generating public/private rsa key pair.\n",
            "Enter file in which to save the key (/root/.ssh/id_rsa): \n",
            "Created directory '/root/.ssh'.\n",
            "Enter passphrase (empty for no passphrase): \n",
            "Enter same passphrase again: \n",
            "Your identification has been saved in /root/.ssh/id_rsa.\n",
            "\n",
            "Your public key has been saved in /root/.ssh/id_rsa.pub.\n",
            "The key fingerprint is:\n",
            "SHA256:GiOHgEv6kXoGvarJ6Q2+ycHQbzG2YjuPW3unELB7W0Y root@7925709dfe77\n",
            "The key's randomart image is:\n",
            "+---[RSA 4096]----+\n",
            "|                 |\n",
            "| .               |\n",
            "|..o              |\n",
            "|o+ = .           |\n",
            "|= * B E S        |\n",
            "|o+ * O +         |\n",
            "|.+O B +          |\n",
            "|+*BB *. .        |\n",
            "|*O==+..o         |\n",
            "+----[SHA256]-----+\n"
          ],
          "name": "stdout"
        }
      ]
    },
    {
      "cell_type": "markdown",
      "metadata": {
        "id": "ujcbhDqDmqP7"
      },
      "source": [
        "<div class=\"alert alert-block alert-danger\">\n",
        "    <b>ATTENTION:</b> When prompted for a set of informations such as \"Enter a file in which to save the key...\", please press enter and DO NOT type in anything.\n",
        "</div>"
      ]
    },
    {
      "cell_type": "code",
      "metadata": {
        "colab": {
          "base_uri": "https://localhost:8080/"
        },
        "id": "AUsKDe9tm0hQ",
        "outputId": "0e37193d-c3b7-4588-83e7-3678e0e63d09"
      },
      "source": [
        "!ssh-keyscan -t rsa github.com >> ~/.ssh/known_hosts"
      ],
      "execution_count": null,
      "outputs": [
        {
          "output_type": "stream",
          "text": [
            "\n",
            "# github.com:22 SSH-2.0-babeld-728b22c0\n"
          ],
          "name": "stdout"
        }
      ]
    },
    {
      "cell_type": "code",
      "metadata": {
        "colab": {
          "base_uri": "https://localhost:8080/"
        },
        "id": "sc7qLuG1m-9h",
        "outputId": "17bfd030-f3bc-460c-c17a-d24dd3419d69"
      },
      "source": [
        "!cat /root/.ssh/id_rsa.pub"
      ],
      "execution_count": null,
      "outputs": [
        {
          "output_type": "stream",
          "text": [
            "ssh-rsa AAAAB3NzaC1yc2EAAAADAQABAAACAQDSINoW0mx9gHxu0x0m+pfejY/LVXjjSoaleW3ID0YqCcvTmeE1zzqOyokLPvVpxjwBvYKHSaLfzniL0jYiZxYRA3OinTqHqpbztRe1LHulZVtCH4xc9P6caZcakgjroXPgykrhXQOo6bStDmX2CJ0QweZKqHQ0TnQiS2DR77EhXF/YJSXYa4Etk+BfcNAeliMPghuc64bfxiCLvy/WKLohTOUMr02/sfzHICBdxR/YUMMCWscGMLh43HgdfiPFGI7lzjWjdsGXAxNpFtTmBBhVTMuiTqrwYyDwktYvkBbwYOuNcTUCgIi3ZoOcgC/FBR5AAGgKKGDkhSyx7pKCzvEHCrl+ahPPyiEjc7UgnUk3u4R8bkisRIqbu5D8VrmB04M61hHiMdEG0PSnFNl/tho07LmURnnClauMl67F0O/+Vds58wbqomipSAASyxJuWfkt382wRD3upcdBCfXxLJz7DoiUvnM7jgCsKiCPccKyBEFwUypU0xa53Kg0hwm6JlpvtTUvujILOS/yTMFUyCNZK+hwO81lbsC8D92tVSGSNH7QgRwvJJeNXfFHC4IXed/KWsS8Po9jhhUev01GlKDpX72MgmDE5Kto2UGdz/YLUrp8rPeK0Wdv0TWo4P73BVYpVjtCUh9MujplgPSF7oRiqYlzQTpvxLEcrfIHxngxPQ== root@7925709dfe77\n"
          ],
          "name": "stdout"
        }
      ]
    },
    {
      "cell_type": "markdown",
      "metadata": {
        "id": "iSwt6wnDnSjx"
      },
      "source": [
        "<div class=\"alert alert-block alert-danger\">\n",
        "    <b>ATTENTION:</b> After the key has been generated, please copy the entire key. Navigate to your Github Account > Profile Picture > Settings > SSH and GPG keys > New SSH Keys. Paste the generated key into the blank and lable it for your own convenience.\n",
        "</div>"
      ]
    },
    {
      "cell_type": "markdown",
      "metadata": {
        "id": "Z_rpok3voY8A"
      },
      "source": [
        "### 1.2. Testing SSH keys for GitHub and Colab connection\n",
        "\n",
        "---\n",
        "\n",
        "This entire section can be omitted if users are not using Google Colab at all."
      ]
    },
    {
      "cell_type": "code",
      "metadata": {
        "colab": {
          "base_uri": "https://localhost:8080/"
        },
        "id": "cYEnWGicnnC0",
        "outputId": "8b4a5367-d21f-4b0c-9d02-7a12915c0b30"
      },
      "source": [
        "!ssh -T git@github.com"
      ],
      "execution_count": null,
      "outputs": [
        {
          "output_type": "stream",
          "text": [
            "Warning: Permanently added the RSA host key for IP address '140.82.121.4' to the list of known hosts.\r\n",
            "Hi ngzhankang! You've successfully authenticated, but GitHub does not provide shell access.\n"
          ],
          "name": "stdout"
        }
      ]
    },
    {
      "cell_type": "markdown",
      "metadata": {
        "id": "0gtHa7l8ID8u"
      },
      "source": [
        "### 1.3. Clone Private Repository\n",
        "\n",
        "---\n",
        "\n",
        "This entire section can be omitted if users are not using Google Colab at all."
      ]
    },
    {
      "cell_type": "code",
      "metadata": {
        "id": "y7c65FyJIEXu",
        "colab": {
          "base_uri": "https://localhost:8080/"
        },
        "outputId": "8f30bd8f-c59f-492d-e4c6-64dd993382cb"
      },
      "source": [
        "!git clone git@github.com:ngzhankang/finalYearProjectUOB.git"
      ],
      "execution_count": null,
      "outputs": [
        {
          "output_type": "stream",
          "text": [
            "Cloning into 'finalYearProjectUOB'...\n",
            "Warning: Permanently added the RSA host key for IP address '140.82.121.3' to the list of known hosts.\n",
            "remote: Enumerating objects: 292, done.\u001b[K\n",
            "remote: Counting objects: 100% (46/46), done.\u001b[K\n",
            "remote: Compressing objects: 100% (34/34), done.\u001b[K\n",
            "remote: Total 292 (delta 19), reused 31 (delta 11), pack-reused 246\u001b[K\n",
            "Receiving objects: 100% (292/292), 266.14 MiB | 20.79 MiB/s, done.\n",
            "Resolving deltas: 100% (114/114), done.\n",
            "Checking out files: 100% (31/31), done.\n"
          ],
          "name": "stdout"
        }
      ]
    },
    {
      "cell_type": "markdown",
      "metadata": {
        "id": "lpQsykkUqHOB"
      },
      "source": [
        "---\n",
        "---"
      ]
    },
    {
      "cell_type": "markdown",
      "metadata": {
        "id": "D74lUe_QF3kh"
      },
      "source": [
        "# 2.Data Importing"
      ]
    },
    {
      "cell_type": "markdown",
      "metadata": {
        "id": "6VbDZ5ymKTR6"
      },
      "source": [
        "### 2.1. Load the libraries\n",
        "\n",
        "---\n",
        "\n",
        "Load the necessary libraries for usage in the entire project."
      ]
    },
    {
      "cell_type": "code",
      "metadata": {
        "colab": {
          "base_uri": "https://localhost:8080/"
        },
        "id": "hMBiWwY8sBBl",
        "outputId": "e6db41a6-3753-42e3-9bf9-eb8332811b05"
      },
      "source": [
        "! nvcc --version"
      ],
      "execution_count": 1,
      "outputs": [
        {
          "output_type": "stream",
          "text": [
            "nvcc: NVIDIA (R) Cuda compiler driver\n",
            "Copyright (c) 2005-2020 NVIDIA Corporation\n",
            "Built on Wed_Jul_22_19:09:09_PDT_2020\n",
            "Cuda compilation tools, release 11.0, V11.0.221\n",
            "Build cuda_11.0_bu.TC445_37.28845127_0\n"
          ],
          "name": "stdout"
        }
      ]
    },
    {
      "cell_type": "markdown",
      "metadata": {
        "id": "4FacXEFOsC04"
      },
      "source": [
        "### 2.2. Check CUDA Version\n",
        "\n",
        "---\n",
        "\n",
        "We need to check the cuda version to download the correct version of spaCy for this application."
      ]
    },
    {
      "cell_type": "code",
      "metadata": {
        "id": "U_20qw2UohOC"
      },
      "source": [
        "# suppress future warnings\n",
        "import warnings\n",
        "warnings.filterwarnings('ignore')"
      ],
      "execution_count": 2,
      "outputs": []
    },
    {
      "cell_type": "code",
      "metadata": {
        "colab": {
          "base_uri": "https://localhost:8080/"
        },
        "id": "EldCY0t9v2uV",
        "outputId": "62a08a8d-1d57-4362-ab0b-8719dc4e5300"
      },
      "source": [
        "# install necessary libraries that might not be found\n",
        "!pip install -U spacy --quiet\n",
        "!python -m spacy validate\n",
        "!pip install -U pip setuptools wheel --quiet\n",
        "!pip install -U spacy[cuda110,transformers,lookups] --quiet\n",
        "!python -m spacy download en_core_web_lg --quiet\n",
        "\n",
        "# check versions of libraries we are going to use\n",
        "%tensorflow_version 2.x\n",
        "import os\n",
        "import tensorflow\n",
        "import sklearn\n",
        "import numpy as np\n",
        "import pandas as pd\n",
        "import seaborn as sns\n",
        "import matplotlib\n",
        "import spacy\n",
        "import platform\n",
        "\n",
        "message=\"        Versions        \"\n",
        "print(\"*\"*len(message))\n",
        "print(message)\n",
        "print(\"*\"*len(message))\n",
        "print(\"Tensorflow version={}\".format(tensorflow.__version__))\n",
        "print(\"Keras version={}\".format(tensorflow.keras.__version__))\n",
        "print(\"Sklearn version={}\".format(sklearn.__version__))\n",
        "print(\"Numpy version={}\".format(np.__version__))\n",
        "print(\"Pandas version={}\".format(pd.__version__))\n",
        "print(\"Seaborn version={}\".format(sns.__version__))\n",
        "print(\"Matplotlib version={}\".format(matplotlib.__version__))\n",
        "print(\"SpaCy version={}\".format(spacy.__version__))\n",
        "print(\"Python version={}\".format(platform.python_version()))"
      ],
      "execution_count": 3,
      "outputs": [
        {
          "output_type": "stream",
          "text": [
            "\u001b[K     |████████████████████████████████| 12.8MB 16.3MB/s \n",
            "\u001b[K     |████████████████████████████████| 51kB 8.5MB/s \n",
            "\u001b[K     |████████████████████████████████| 9.1MB 52.0MB/s \n",
            "\u001b[K     |████████████████████████████████| 624kB 48.4MB/s \n",
            "\u001b[K     |████████████████████████████████| 460kB 46.9MB/s \n",
            "\u001b[?25h2021-07-07 04:24:32.538859: I tensorflow/stream_executor/platform/default/dso_loader.cc:53] Successfully opened dynamic library libcudart.so.11.0\n",
            "\u001b[2K\u001b[38;5;2m✔ Loaded compatibility table\u001b[0m\n",
            "\u001b[1m\n",
            "================= Installed pipeline packages (spaCy v3.0.6) =================\u001b[0m\n",
            "\u001b[38;5;4mℹ spaCy installation: /usr/local/lib/python3.7/dist-packages/spacy\u001b[0m\n",
            "\n",
            "No pipeline packages found in your current environment.\n",
            "\n",
            "\u001b[K     |████████████████████████████████| 1.6MB 16.5MB/s \n",
            "\u001b[K     |████████████████████████████████| 819kB 46.9MB/s \n",
            "\u001b[31mERROR: datascience 0.10.6 has requirement folium==0.2.1, but you'll have folium 0.8.3 which is incompatible.\u001b[0m\n",
            "\u001b[K     |████████████████████████████████| 97.3 MB 49 kB/s \n",
            "\u001b[K     |████████████████████████████████| 165.3 MB 20 kB/s \n",
            "\u001b[K     |████████████████████████████████| 998 kB 74.1 MB/s \n",
            "\u001b[K     |████████████████████████████████| 2.2 MB 55.0 MB/s \n",
            "\u001b[K     |████████████████████████████████| 3.3 MB 55.4 MB/s \n",
            "\u001b[K     |████████████████████████████████| 895 kB 71.6 MB/s \n",
            "\u001b[33mWARNING: Running pip as the 'root' user can result in broken permissions and conflicting behaviour with the system package manager. It is recommended to use a virtual environment instead: https://pip.pypa.io/warnings/venv\u001b[0m\n",
            "\u001b[?25h2021-07-07 04:25:12.321427: I tensorflow/stream_executor/platform/default/dso_loader.cc:53] Successfully opened dynamic library libcudart.so.11.0\n",
            "\u001b[K     |████████████████████████████████| 778.8 MB 19 kB/s \n",
            "\u001b[33mWARNING: Running pip as the 'root' user can result in broken permissions and conflicting behaviour with the system package manager. It is recommended to use a virtual environment instead: https://pip.pypa.io/warnings/venv\u001b[0m\n",
            "\u001b[?25h\u001b[38;5;2m✔ Download and installation successful\u001b[0m\n",
            "You can now load the package via spacy.load('en_core_web_lg')\n",
            "************************\n",
            "        Versions        \n",
            "************************\n",
            "Tensorflow version=2.5.0\n",
            "Keras version=2.5.0\n",
            "Sklearn version=0.22.2.post1\n",
            "Numpy version=1.19.5\n",
            "Pandas version=1.1.5\n",
            "Seaborn version=0.11.1\n",
            "Matplotlib version=3.2.2\n",
            "SpaCy version=3.0.6\n",
            "Python version=3.7.10\n"
          ],
          "name": "stdout"
        }
      ]
    },
    {
      "cell_type": "markdown",
      "metadata": {
        "id": "leKoAEG_KWf8"
      },
      "source": [
        "### 2.3. Load the modules\n",
        "\n",
        "---\n",
        "\n",
        "Load the necessary modules for usage in the entire project."
      ]
    },
    {
      "cell_type": "code",
      "metadata": {
        "id": "U04wypEUv2p1"
      },
      "source": [
        "# importing necessary modules for this project\n",
        "import tensorflow as tf\n",
        "\n",
        "import pandas as pd\n",
        "import matplotlib.pyplot as plt\n",
        "import seaborn as sns\n",
        "import numpy as np\n",
        "import string\n",
        "import spacy\n",
        "\n",
        "# activate the GPU to run spaCy with GPU\n",
        "spacy.prefer_gpu()\n",
        "\n",
        "%matplotlib inline"
      ],
      "execution_count": 4,
      "outputs": []
    },
    {
      "cell_type": "markdown",
      "metadata": {
        "id": "ca1X-gSJKap_"
      },
      "source": [
        "### 2.4. Load the dataset\n",
        "\n",
        "---\n",
        "\n",
        "Load the dataset for usage in the entire project."
      ]
    },
    {
      "cell_type": "code",
      "metadata": {
        "id": "owSKzElwKdh1",
        "colab": {
          "base_uri": "https://localhost:8080/",
          "height": 558
        },
        "outputId": "5c0fbeab-e307-45a9-8fdb-f4875c280b29"
      },
      "source": [
        "# load the train and test datasets\n",
        "df_train = pd.read_excel('./clean_dataset.xlsx')\n",
        "df_test = pd.read_excel('./val_dataset.xlsx')\n",
        "\n",
        "# see the top 5 companies that are populated in the dataframe\n",
        "df_train.head(5)"
      ],
      "execution_count": 5,
      "outputs": [
        {
          "output_type": "execute_result",
          "data": {
            "text/html": [
              "<div>\n",
              "<style scoped>\n",
              "    .dataframe tbody tr th:only-of-type {\n",
              "        vertical-align: middle;\n",
              "    }\n",
              "\n",
              "    .dataframe tbody tr th {\n",
              "        vertical-align: top;\n",
              "    }\n",
              "\n",
              "    .dataframe thead th {\n",
              "        text-align: right;\n",
              "    }\n",
              "</style>\n",
              "<table border=\"1\" class=\"dataframe\">\n",
              "  <thead>\n",
              "    <tr style=\"text-align: right;\">\n",
              "      <th></th>\n",
              "      <th>Company_ID</th>\n",
              "      <th>Company</th>\n",
              "      <th>Country</th>\n",
              "      <th>PIC</th>\n",
              "      <th>Sector</th>\n",
              "      <th>Subsector</th>\n",
              "      <th>Archetype</th>\n",
              "      <th>Valuechain</th>\n",
              "      <th>Websites</th>\n",
              "      <th>Company Profile Information</th>\n",
              "      <th>Remarks</th>\n",
              "    </tr>\n",
              "  </thead>\n",
              "  <tbody>\n",
              "    <tr>\n",
              "      <th>0</th>\n",
              "      <td>4137190062363536</td>\n",
              "      <td>AKSORN CHAROEN TAT ACT. CO.,LTD.</td>\n",
              "      <td>THAILAND</td>\n",
              "      <td>NaN</td>\n",
              "      <td>TMT</td>\n",
              "      <td>media</td>\n",
              "      <td>media_aggregator/distributor</td>\n",
              "      <td>Midstream</td>\n",
              "      <td>https://getlinks.co/6831</td>\n",
              "      <td>For over 80 years of experience in creating an...</td>\n",
              "      <td>NaN</td>\n",
              "    </tr>\n",
              "    <tr>\n",
              "      <th>1</th>\n",
              "      <td>23248790229909752</td>\n",
              "      <td>DONGGUAN SHENGYA CLEANING APPLIAME CO.LTD</td>\n",
              "      <td>CHINA</td>\n",
              "      <td>NaN</td>\n",
              "      <td>TMT</td>\n",
              "      <td>consumer electronics</td>\n",
              "      <td>consumer electronics_distributor</td>\n",
              "      <td>Downstream</td>\n",
              "      <td>https://baike.baidu.com/item/%E4%B8%9C%E8%8E%9...</td>\n",
              "      <td>Yatai's main products cover various cleaning m...</td>\n",
              "      <td>NaN</td>\n",
              "    </tr>\n",
              "    <tr>\n",
              "      <th>2</th>\n",
              "      <td>28486505934571008</td>\n",
              "      <td>EXIS TECH SDN. BHD.</td>\n",
              "      <td>MALAYSIA</td>\n",
              "      <td>NaN</td>\n",
              "      <td>oos</td>\n",
              "      <td>others</td>\n",
              "      <td>others</td>\n",
              "      <td>NaN</td>\n",
              "      <td>http://www.exis-tech.com/</td>\n",
              "      <td>In the beginning, it started off by providing ...</td>\n",
              "      <td>NaN</td>\n",
              "    </tr>\n",
              "    <tr>\n",
              "      <th>3</th>\n",
              "      <td>38251695094669872</td>\n",
              "      <td>BEI JING ESTRABA IMPORT AND EXPORT</td>\n",
              "      <td>CHINA</td>\n",
              "      <td>NaN</td>\n",
              "      <td>NaN</td>\n",
              "      <td>NaN</td>\n",
              "      <td>NaN</td>\n",
              "      <td>NaN</td>\n",
              "      <td>NaN</td>\n",
              "      <td>NaN</td>\n",
              "      <td>NaN</td>\n",
              "    </tr>\n",
              "    <tr>\n",
              "      <th>4</th>\n",
              "      <td>39910921263510784</td>\n",
              "      <td>Aztech Electronics Pte Ltd</td>\n",
              "      <td>SINGAPORE</td>\n",
              "      <td>NaN</td>\n",
              "      <td>TMT</td>\n",
              "      <td>consumer electronics</td>\n",
              "      <td>consumer electronics_distributor</td>\n",
              "      <td>Downstream</td>\n",
              "      <td>https://www.aztech.com/business/about-us/</td>\n",
              "      <td>Being a turnkey, one-stop integrated solutions...</td>\n",
              "      <td>NaN</td>\n",
              "    </tr>\n",
              "  </tbody>\n",
              "</table>\n",
              "</div>"
            ],
            "text/plain": [
              "          Company_ID  ... Remarks\n",
              "0   4137190062363536  ...     NaN\n",
              "1  23248790229909752  ...     NaN\n",
              "2  28486505934571008  ...     NaN\n",
              "3  38251695094669872  ...     NaN\n",
              "4  39910921263510784  ...     NaN\n",
              "\n",
              "[5 rows x 11 columns]"
            ]
          },
          "metadata": {
            "tags": []
          },
          "execution_count": 5
        }
      ]
    },
    {
      "cell_type": "markdown",
      "metadata": {
        "id": "2TI1D_-KP6hC"
      },
      "source": [
        "---\n",
        "---"
      ]
    },
    {
      "cell_type": "markdown",
      "metadata": {
        "id": "9qKHTDyOP9bz"
      },
      "source": [
        "# 3.Exploratory Data Analysis"
      ]
    },
    {
      "cell_type": "markdown",
      "metadata": {
        "id": "P8p50I8GQCAg"
      },
      "source": [
        "### 3.1. Get overview of dataset\n",
        "\n",
        "---\n",
        "\n",
        "Get statistical information of the dataset to understand the dataset better."
      ]
    },
    {
      "cell_type": "code",
      "metadata": {
        "id": "2iea82R6Dm2J",
        "colab": {
          "base_uri": "https://localhost:8080/"
        },
        "outputId": "7976afed-40a1-4a89-aaa6-36415a272d08"
      },
      "source": [
        "# see the row headers of the entire pandas dataframe first\n",
        "list(df_train.columns)"
      ],
      "execution_count": 6,
      "outputs": [
        {
          "output_type": "execute_result",
          "data": {
            "text/plain": [
              "['Company_ID',\n",
              " 'Company',\n",
              " 'Country',\n",
              " 'PIC',\n",
              " 'Sector',\n",
              " 'Subsector',\n",
              " 'Archetype',\n",
              " 'Valuechain',\n",
              " 'Websites',\n",
              " 'Company Profile Information',\n",
              " 'Remarks']"
            ]
          },
          "metadata": {
            "tags": []
          },
          "execution_count": 6
        }
      ]
    },
    {
      "cell_type": "code",
      "metadata": {
        "id": "OVX1CBSTLZqm",
        "colab": {
          "base_uri": "https://localhost:8080/"
        },
        "outputId": "b2e3b044-ebe8-4e1b-d7d6-79eb8427fd74"
      },
      "source": [
        "# get the total number of records in the dataframe\n",
        "df_count = df_train['Company_ID'].count()\n",
        "\n",
        "# get count of unique contries where companies are based in\n",
        "df_countCountry = df_train['Country'].nunique()\n",
        "\n",
        "# get count of total unique sectors where companies are from\n",
        "df_countSector = df_train['Sector'].nunique()\n",
        "\n",
        "# get count of total unique subseector where companies are from\n",
        "df_countsubSector = df_train['Subsector'].nunique()\n",
        "\n",
        "# get count of total unique valuechain where companies are from\n",
        "df_countValuechain = df_train['Valuechain'].nunique()\n",
        "\n",
        "# get count of total unique archetypes\n",
        "df_countArchetype = df_train['Archetype'].nunique()\n",
        "\n",
        "print('Total number of records:', df_count)\n",
        "print('Total number of countries:', df_countCountry)\n",
        "print('Total number of sectors:', df_countSector)\n",
        "print('Total number of subsectors:', df_countsubSector)\n",
        "print('Total number of valuechain:', df_countValuechain)\n",
        "print('Total number of archetypes:', df_countArchetype)"
      ],
      "execution_count": 7,
      "outputs": [
        {
          "output_type": "stream",
          "text": [
            "Total number of records: 6600\n",
            "Total number of countries: 13\n",
            "Total number of sectors: 15\n",
            "Total number of subsectors: 36\n",
            "Total number of valuechain: 18\n",
            "Total number of archetypes: 93\n"
          ],
          "name": "stdout"
        }
      ]
    },
    {
      "cell_type": "code",
      "metadata": {
        "id": "O1C_l7ytUixQ",
        "colab": {
          "base_uri": "https://localhost:8080/"
        },
        "outputId": "feef1d94-5f7b-4b9b-80cd-523a32706151"
      },
      "source": [
        "# get total number of countries\n",
        "df_totalCountries = df_train['Country'].value_counts()\n",
        "\n",
        "# get list of unique sector\n",
        "df_sector = df_train['Sector'].value_counts()\n",
        "\n",
        "# get list of unique archetype\n",
        "df_archetype = df_train['Archetype'].value_counts()\n",
        "\n",
        "# get list of unique valuechain\n",
        "df_valuechain = df_train['Valuechain'].value_counts()\n",
        "\n",
        "print('List of unique countries:\\n{}'.format(df_totalCountries))\n",
        "print()\n",
        "print('List of unique sector:\\n{}'.format(df_sector))\n",
        "print()\n",
        "print('List of unique valuechain:\\n{}'.format(df_valuechain))"
      ],
      "execution_count": 8,
      "outputs": [
        {
          "output_type": "stream",
          "text": [
            "List of unique countries:\n",
            "SINGAPORE         2213\n",
            "MALAYSIA          1586\n",
            "THAILAND          1321\n",
            "CHINA              729\n",
            "HONG KONG          380\n",
            "INDONESIA          357\n",
            "VIETNAM              5\n",
            "MYANMAR              2\n",
            "TAIWAN               2\n",
            "AUSTRALIA            2\n",
            "UNITED KINGDOM       1\n",
            "CANADA               1\n",
            "LABUAN               1\n",
            "Name: Country, dtype: int64\n",
            "\n",
            "List of unique sector:\n",
            "OOS    1353\n",
            "CNI    1261\n",
            "REH     566\n",
            "CG      565\n",
            "IND     550\n",
            "ONG     428\n",
            "TMT     419\n",
            "cni     258\n",
            "tmt     188\n",
            "oos      79\n",
            "ong      66\n",
            "ind      11\n",
            "cg        7\n",
            "reh       6\n",
            "          1\n",
            "Name: Sector, dtype: int64\n",
            "\n",
            "List of unique valuechain:\n",
            "MIDSTREAM                 1188\n",
            "Downstream                 791\n",
            "Midstream                  455\n",
            "DOWNSTREAM                 437\n",
            "                           432\n",
            "midstream                  309\n",
            "Manufacturer               175\n",
            "downstream                 172\n",
            "UPSTREAM                   159\n",
            "Upstream or Downstream     119\n",
            "Trader                     113\n",
            "Upstream                    99\n",
            "distributor                 92\n",
            "Across value chain          69\n",
            "upstream                    38\n",
            "upstream or downstream      13\n",
            "manufacturer                 8\n",
            "steel fabricator             1\n",
            "Name: Valuechain, dtype: int64\n"
          ],
          "name": "stdout"
        }
      ]
    },
    {
      "cell_type": "code",
      "metadata": {
        "id": "NIoXot6HWEWP",
        "colab": {
          "base_uri": "https://localhost:8080/"
        },
        "outputId": "3ac93ffb-6453-4f66-bc2f-f2bdee747393"
      },
      "source": [
        "# get list of unique subsector\n",
        "df_subsector = df_train['Subsector'].value_counts()\n",
        "\n",
        "print('List of unique Subsector:\\n{}'.format(df_subsector))"
      ],
      "execution_count": 9,
      "outputs": [
        {
          "output_type": "stream",
          "text": [
            "List of unique Subsector:\n",
            "others                               1432\n",
            "building_material                     645\n",
            "buildings & industrial                415\n",
            "retail n distribution                 376\n",
            "auto & mec                            296\n",
            "petrochemical                         282\n",
            "consumer electronics                  238\n",
            "metals and mining                     203\n",
            "cni_service providers                 200\n",
            "residential                           190\n",
            "restaurants, catering & services      163\n",
            "utilities                             138\n",
            "fmcg                                  123\n",
            "it_services                           120\n",
            "o&g_service providers/contractors      93\n",
            "semiconductor                          90\n",
            "o&g                                    89\n",
            "mixed                                  87\n",
            "infrastructure                         75\n",
            "telecommunication                      69\n",
            "commercial                             63\n",
            "media                                  63\n",
            "diversified                            61\n",
            "hotels and accommodation               46\n",
            "animal protein                         42\n",
            "cni_equipment suppliers                40\n",
            "agribusiness                           31\n",
            "digital_business                       27\n",
            "industrial                             23\n",
            "ong_traders                            21\n",
            "ioc/noc                                 8\n",
            "building material                       6\n",
            "IND                                     1\n",
            "buildings & industrial_contractor       1\n",
            "gas                                     1\n",
            "                                        1\n",
            "Name: Subsector, dtype: int64\n"
          ],
          "name": "stdout"
        }
      ]
    },
    {
      "cell_type": "code",
      "metadata": {
        "id": "SjaNooD3Uz3c",
        "colab": {
          "base_uri": "https://localhost:8080/"
        },
        "outputId": "621955d0-6021-4a60-a99c-5a420eae59ec"
      },
      "source": [
        "print('List of unique archetype:\\n{}'.format(df_archetype))"
      ],
      "execution_count": 10,
      "outputs": [
        {
          "output_type": "stream",
          "text": [
            "List of unique archetype:\n",
            "others                                    1432\n",
            "building_material_manufacturer             434\n",
            "buildings & industrial_contractor          381\n",
            "consumer discretionary distributor         236\n",
            "building_material_supplier_distributor     211\n",
            "                                          ... \n",
            "industrial gas                               1\n",
            "building material_manufacturer               1\n",
            "o&g_refiner                                  1\n",
            "MIDSTREAM                                    1\n",
            "gas and lng                                  1\n",
            "Name: Archetype, Length: 93, dtype: int64\n"
          ],
          "name": "stdout"
        }
      ]
    },
    {
      "cell_type": "markdown",
      "metadata": {
        "id": "57EHaR92D9UP"
      },
      "source": [
        "### 3.2. Drop unncessary columns\n",
        "\n",
        "---\n",
        "\n",
        "Here, we will drop columns that wiill not aid in our EDA."
      ]
    },
    {
      "cell_type": "code",
      "metadata": {
        "id": "TC9-PuS6EDXT",
        "colab": {
          "base_uri": "https://localhost:8080/",
          "height": 618
        },
        "outputId": "ef131259-b114-4c47-f433-bed6c36d7449"
      },
      "source": [
        "# declare the list of the row names that are redundant\n",
        "rows_to_drop = ['Company_ID', 'PIC', 'Websites', 'Remarks']\n",
        "\n",
        "# use a conditional expression to filter out those rows\n",
        "df_filteredCompanies = df_train.drop(labels=rows_to_drop, axis=1)\n",
        "\n",
        "df_filteredCompanies"
      ],
      "execution_count": 11,
      "outputs": [
        {
          "output_type": "execute_result",
          "data": {
            "text/html": [
              "<div>\n",
              "<style scoped>\n",
              "    .dataframe tbody tr th:only-of-type {\n",
              "        vertical-align: middle;\n",
              "    }\n",
              "\n",
              "    .dataframe tbody tr th {\n",
              "        vertical-align: top;\n",
              "    }\n",
              "\n",
              "    .dataframe thead th {\n",
              "        text-align: right;\n",
              "    }\n",
              "</style>\n",
              "<table border=\"1\" class=\"dataframe\">\n",
              "  <thead>\n",
              "    <tr style=\"text-align: right;\">\n",
              "      <th></th>\n",
              "      <th>Company</th>\n",
              "      <th>Country</th>\n",
              "      <th>Sector</th>\n",
              "      <th>Subsector</th>\n",
              "      <th>Archetype</th>\n",
              "      <th>Valuechain</th>\n",
              "      <th>Company Profile Information</th>\n",
              "    </tr>\n",
              "  </thead>\n",
              "  <tbody>\n",
              "    <tr>\n",
              "      <th>0</th>\n",
              "      <td>AKSORN CHAROEN TAT ACT. CO.,LTD.</td>\n",
              "      <td>THAILAND</td>\n",
              "      <td>TMT</td>\n",
              "      <td>media</td>\n",
              "      <td>media_aggregator/distributor</td>\n",
              "      <td>Midstream</td>\n",
              "      <td>For over 80 years of experience in creating an...</td>\n",
              "    </tr>\n",
              "    <tr>\n",
              "      <th>1</th>\n",
              "      <td>DONGGUAN SHENGYA CLEANING APPLIAME CO.LTD</td>\n",
              "      <td>CHINA</td>\n",
              "      <td>TMT</td>\n",
              "      <td>consumer electronics</td>\n",
              "      <td>consumer electronics_distributor</td>\n",
              "      <td>Downstream</td>\n",
              "      <td>Yatai's main products cover various cleaning m...</td>\n",
              "    </tr>\n",
              "    <tr>\n",
              "      <th>2</th>\n",
              "      <td>EXIS TECH SDN. BHD.</td>\n",
              "      <td>MALAYSIA</td>\n",
              "      <td>oos</td>\n",
              "      <td>others</td>\n",
              "      <td>others</td>\n",
              "      <td>NaN</td>\n",
              "      <td>In the beginning, it started off by providing ...</td>\n",
              "    </tr>\n",
              "    <tr>\n",
              "      <th>3</th>\n",
              "      <td>BEI JING ESTRABA IMPORT AND EXPORT</td>\n",
              "      <td>CHINA</td>\n",
              "      <td>NaN</td>\n",
              "      <td>NaN</td>\n",
              "      <td>NaN</td>\n",
              "      <td>NaN</td>\n",
              "      <td>NaN</td>\n",
              "    </tr>\n",
              "    <tr>\n",
              "      <th>4</th>\n",
              "      <td>Aztech Electronics Pte Ltd</td>\n",
              "      <td>SINGAPORE</td>\n",
              "      <td>TMT</td>\n",
              "      <td>consumer electronics</td>\n",
              "      <td>consumer electronics_distributor</td>\n",
              "      <td>Downstream</td>\n",
              "      <td>Being a turnkey, one-stop integrated solutions...</td>\n",
              "    </tr>\n",
              "    <tr>\n",
              "      <th>...</th>\n",
              "      <td>...</td>\n",
              "      <td>...</td>\n",
              "      <td>...</td>\n",
              "      <td>...</td>\n",
              "      <td>...</td>\n",
              "      <td>...</td>\n",
              "      <td>...</td>\n",
              "    </tr>\n",
              "    <tr>\n",
              "      <th>6595</th>\n",
              "      <td>PAN ENERGY PTE. LTD.</td>\n",
              "      <td>SINGAPORE</td>\n",
              "      <td>ONG</td>\n",
              "      <td>ong_traders</td>\n",
              "      <td>bunker trader</td>\n",
              "      <td>Downstream</td>\n",
              "      <td>PAN ENERGY is an ACRA-registered entity that h...</td>\n",
              "    </tr>\n",
              "    <tr>\n",
              "      <th>6596</th>\n",
              "      <td>TRIM INTERNATIONAL CO.,LTD.</td>\n",
              "      <td>THAILAND</td>\n",
              "      <td>OOS</td>\n",
              "      <td>others</td>\n",
              "      <td>others</td>\n",
              "      <td>NaN</td>\n",
              "      <td>Established in 2000, TI has grown to become o...</td>\n",
              "    </tr>\n",
              "    <tr>\n",
              "      <th>6597</th>\n",
              "      <td>SIAK SIONG CONSTRUCTION SDN BHD</td>\n",
              "      <td>MALAYSIA</td>\n",
              "      <td>REH</td>\n",
              "      <td>commercial</td>\n",
              "      <td>commercial_integrated player</td>\n",
              "      <td>MIDSTREAM</td>\n",
              "      <td>Siak Siong Group is an established group speci...</td>\n",
              "    </tr>\n",
              "    <tr>\n",
              "      <th>6598</th>\n",
              "      <td>KIJ THAWEE PATTANA CO.,LTD.</td>\n",
              "      <td>THAILAND</td>\n",
              "      <td>REH</td>\n",
              "      <td>commercial</td>\n",
              "      <td>commercial_operator</td>\n",
              "      <td>DOWNSTREAM</td>\n",
              "      <td>Rental, purchase, sale and real estate operations</td>\n",
              "    </tr>\n",
              "    <tr>\n",
              "      <th>6599</th>\n",
              "      <td>CNI ENGINEERING &amp; CONSTRUCTION MALAYSIA SDN. BHD.</td>\n",
              "      <td>MALAYSIA</td>\n",
              "      <td>ONG</td>\n",
              "      <td>o&amp;g_service providers/contractors</td>\n",
              "      <td>o&amp;g upstream service provider</td>\n",
              "      <td>Upstream</td>\n",
              "      <td>ENGINEERING, PROCUREMENT, CONSTRUCTION,SERVICE...</td>\n",
              "    </tr>\n",
              "  </tbody>\n",
              "</table>\n",
              "<p>6600 rows × 7 columns</p>\n",
              "</div>"
            ],
            "text/plain": [
              "                                                Company  ...                        Company Profile Information\n",
              "0                      AKSORN CHAROEN TAT ACT. CO.,LTD.  ...  For over 80 years of experience in creating an...\n",
              "1             DONGGUAN SHENGYA CLEANING APPLIAME CO.LTD  ...  Yatai's main products cover various cleaning m...\n",
              "2                                   EXIS TECH SDN. BHD.  ...  In the beginning, it started off by providing ...\n",
              "3                    BEI JING ESTRABA IMPORT AND EXPORT  ...                                                NaN\n",
              "4                            Aztech Electronics Pte Ltd  ...  Being a turnkey, one-stop integrated solutions...\n",
              "...                                                 ...  ...                                                ...\n",
              "6595                               PAN ENERGY PTE. LTD.  ...  PAN ENERGY is an ACRA-registered entity that h...\n",
              "6596                        TRIM INTERNATIONAL CO.,LTD.  ...   Established in 2000, TI has grown to become o...\n",
              "6597                    SIAK SIONG CONSTRUCTION SDN BHD  ...  Siak Siong Group is an established group speci...\n",
              "6598                        KIJ THAWEE PATTANA CO.,LTD.  ...  Rental, purchase, sale and real estate operations\n",
              "6599  CNI ENGINEERING & CONSTRUCTION MALAYSIA SDN. BHD.  ...  ENGINEERING, PROCUREMENT, CONSTRUCTION,SERVICE...\n",
              "\n",
              "[6600 rows x 7 columns]"
            ]
          },
          "metadata": {
            "tags": []
          },
          "execution_count": 11
        }
      ]
    },
    {
      "cell_type": "markdown",
      "metadata": {
        "id": "c3S6ZQzySmC0"
      },
      "source": [
        "### 3.3. Filter rows with valid data\n",
        "\n",
        "---\n",
        "\n",
        "Extract columns with Nan values and list them out here. Afterwards, gather the rows deemed suitable to process NLP."
      ]
    },
    {
      "cell_type": "code",
      "metadata": {
        "id": "7ZLoO_4SSry7",
        "colab": {
          "base_uri": "https://localhost:8080/",
          "height": 416
        },
        "outputId": "3bb4e4a6-a517-4e05-b8b9-bb96fcc2d79e"
      },
      "source": [
        "# find all the rows with nan data in sector, subsector, archetype and valuechain\n",
        "cols_to_check = ['Sector', 'Subsector', 'Archetype', 'Valuechain', 'Company Profile Information']\n",
        "empty = df_filteredCompanies[df_filteredCompanies[cols_to_check].isnull().all(1)]\n",
        "\n",
        "empty"
      ],
      "execution_count": 12,
      "outputs": [
        {
          "output_type": "execute_result",
          "data": {
            "text/html": [
              "<div>\n",
              "<style scoped>\n",
              "    .dataframe tbody tr th:only-of-type {\n",
              "        vertical-align: middle;\n",
              "    }\n",
              "\n",
              "    .dataframe tbody tr th {\n",
              "        vertical-align: top;\n",
              "    }\n",
              "\n",
              "    .dataframe thead th {\n",
              "        text-align: right;\n",
              "    }\n",
              "</style>\n",
              "<table border=\"1\" class=\"dataframe\">\n",
              "  <thead>\n",
              "    <tr style=\"text-align: right;\">\n",
              "      <th></th>\n",
              "      <th>Company</th>\n",
              "      <th>Country</th>\n",
              "      <th>Sector</th>\n",
              "      <th>Subsector</th>\n",
              "      <th>Archetype</th>\n",
              "      <th>Valuechain</th>\n",
              "      <th>Company Profile Information</th>\n",
              "    </tr>\n",
              "  </thead>\n",
              "  <tbody>\n",
              "    <tr>\n",
              "      <th>3</th>\n",
              "      <td>BEI JING ESTRABA IMPORT AND EXPORT</td>\n",
              "      <td>CHINA</td>\n",
              "      <td>NaN</td>\n",
              "      <td>NaN</td>\n",
              "      <td>NaN</td>\n",
              "      <td>NaN</td>\n",
              "      <td>NaN</td>\n",
              "    </tr>\n",
              "    <tr>\n",
              "      <th>12</th>\n",
              "      <td>CHANGTU COUNTRY LONGXING FERTILIZER CO.,LTD</td>\n",
              "      <td>CHINA</td>\n",
              "      <td>NaN</td>\n",
              "      <td>NaN</td>\n",
              "      <td>NaN</td>\n",
              "      <td>NaN</td>\n",
              "      <td>NaN</td>\n",
              "    </tr>\n",
              "    <tr>\n",
              "      <th>28</th>\n",
              "      <td>ZIBOBOSHANHONGLIWEI MOTOR CO.,LTD</td>\n",
              "      <td>CHINA</td>\n",
              "      <td>NaN</td>\n",
              "      <td>NaN</td>\n",
              "      <td>NaN</td>\n",
              "      <td>NaN</td>\n",
              "      <td>NaN</td>\n",
              "    </tr>\n",
              "    <tr>\n",
              "      <th>48</th>\n",
              "      <td>BEIJING DUO MEIDUO SHIYOU PRODUCTS SALES CO., ...</td>\n",
              "      <td>CHINA</td>\n",
              "      <td>NaN</td>\n",
              "      <td>NaN</td>\n",
              "      <td>NaN</td>\n",
              "      <td>NaN</td>\n",
              "      <td>NaN</td>\n",
              "    </tr>\n",
              "    <tr>\n",
              "      <th>63</th>\n",
              "      <td>TRUSVEST SDN. BHD.</td>\n",
              "      <td>MALAYSIA</td>\n",
              "      <td>NaN</td>\n",
              "      <td>NaN</td>\n",
              "      <td>NaN</td>\n",
              "      <td>NaN</td>\n",
              "      <td>NaN</td>\n",
              "    </tr>\n",
              "    <tr>\n",
              "      <th>...</th>\n",
              "      <td>...</td>\n",
              "      <td>...</td>\n",
              "      <td>...</td>\n",
              "      <td>...</td>\n",
              "      <td>...</td>\n",
              "      <td>...</td>\n",
              "      <td>...</td>\n",
              "    </tr>\n",
              "    <tr>\n",
              "      <th>6554</th>\n",
              "      <td>HUAYE STEEL STRUCTURE NUCLEAR POWER EQUIPMENT ...</td>\n",
              "      <td>CHINA</td>\n",
              "      <td>NaN</td>\n",
              "      <td>NaN</td>\n",
              "      <td>NaN</td>\n",
              "      <td>NaN</td>\n",
              "      <td>NaN</td>\n",
              "    </tr>\n",
              "    <tr>\n",
              "      <th>6558</th>\n",
              "      <td>XINYANG SITONG MACHINERY MANUFACTURE CO.,LTD</td>\n",
              "      <td>CHINA</td>\n",
              "      <td>NaN</td>\n",
              "      <td>NaN</td>\n",
              "      <td>NaN</td>\n",
              "      <td>NaN</td>\n",
              "      <td>NaN</td>\n",
              "    </tr>\n",
              "    <tr>\n",
              "      <th>6574</th>\n",
              "      <td>SENLIN HOLDINGS LIMITED</td>\n",
              "      <td>HONG KONG</td>\n",
              "      <td>NaN</td>\n",
              "      <td>NaN</td>\n",
              "      <td>NaN</td>\n",
              "      <td>NaN</td>\n",
              "      <td>NaN</td>\n",
              "    </tr>\n",
              "    <tr>\n",
              "      <th>6585</th>\n",
              "      <td>SETIA AWAN PROPERTIES SDN. BHD.</td>\n",
              "      <td>MALAYSIA</td>\n",
              "      <td>NaN</td>\n",
              "      <td>NaN</td>\n",
              "      <td>NaN</td>\n",
              "      <td>NaN</td>\n",
              "      <td>NaN</td>\n",
              "    </tr>\n",
              "    <tr>\n",
              "      <th>6591</th>\n",
              "      <td>MASTER ARCH INTERNATIONAL LIMITED</td>\n",
              "      <td>HONG KONG</td>\n",
              "      <td>NaN</td>\n",
              "      <td>NaN</td>\n",
              "      <td>NaN</td>\n",
              "      <td>NaN</td>\n",
              "      <td>NaN</td>\n",
              "    </tr>\n",
              "  </tbody>\n",
              "</table>\n",
              "<p>830 rows × 7 columns</p>\n",
              "</div>"
            ],
            "text/plain": [
              "                                                Company  ... Company Profile Information\n",
              "3                    BEI JING ESTRABA IMPORT AND EXPORT  ...                         NaN\n",
              "12          CHANGTU COUNTRY LONGXING FERTILIZER CO.,LTD  ...                         NaN\n",
              "28                    ZIBOBOSHANHONGLIWEI MOTOR CO.,LTD  ...                         NaN\n",
              "48    BEIJING DUO MEIDUO SHIYOU PRODUCTS SALES CO., ...  ...                         NaN\n",
              "63                                   TRUSVEST SDN. BHD.  ...                         NaN\n",
              "...                                                 ...  ...                         ...\n",
              "6554  HUAYE STEEL STRUCTURE NUCLEAR POWER EQUIPMENT ...  ...                         NaN\n",
              "6558       XINYANG SITONG MACHINERY MANUFACTURE CO.,LTD  ...                         NaN\n",
              "6574                            SENLIN HOLDINGS LIMITED  ...                         NaN\n",
              "6585                    SETIA AWAN PROPERTIES SDN. BHD.  ...                         NaN\n",
              "6591                  MASTER ARCH INTERNATIONAL LIMITED  ...                         NaN\n",
              "\n",
              "[830 rows x 7 columns]"
            ]
          },
          "metadata": {
            "tags": []
          },
          "execution_count": 12
        }
      ]
    },
    {
      "cell_type": "code",
      "metadata": {
        "id": "nrQjbN7uStmr",
        "colab": {
          "base_uri": "https://localhost:8080/",
          "height": 618
        },
        "outputId": "b26774e8-5cfa-4e8e-cd3f-7b6fe3f8c363"
      },
      "source": [
        "# now we get the dataset that are valid\n",
        "df_valid = pd.concat([df_filteredCompanies, empty, empty]).drop_duplicates(keep=False)\n",
        "\n",
        "df_valid"
      ],
      "execution_count": 13,
      "outputs": [
        {
          "output_type": "execute_result",
          "data": {
            "text/html": [
              "<div>\n",
              "<style scoped>\n",
              "    .dataframe tbody tr th:only-of-type {\n",
              "        vertical-align: middle;\n",
              "    }\n",
              "\n",
              "    .dataframe tbody tr th {\n",
              "        vertical-align: top;\n",
              "    }\n",
              "\n",
              "    .dataframe thead th {\n",
              "        text-align: right;\n",
              "    }\n",
              "</style>\n",
              "<table border=\"1\" class=\"dataframe\">\n",
              "  <thead>\n",
              "    <tr style=\"text-align: right;\">\n",
              "      <th></th>\n",
              "      <th>Company</th>\n",
              "      <th>Country</th>\n",
              "      <th>Sector</th>\n",
              "      <th>Subsector</th>\n",
              "      <th>Archetype</th>\n",
              "      <th>Valuechain</th>\n",
              "      <th>Company Profile Information</th>\n",
              "    </tr>\n",
              "  </thead>\n",
              "  <tbody>\n",
              "    <tr>\n",
              "      <th>0</th>\n",
              "      <td>AKSORN CHAROEN TAT ACT. CO.,LTD.</td>\n",
              "      <td>THAILAND</td>\n",
              "      <td>TMT</td>\n",
              "      <td>media</td>\n",
              "      <td>media_aggregator/distributor</td>\n",
              "      <td>Midstream</td>\n",
              "      <td>For over 80 years of experience in creating an...</td>\n",
              "    </tr>\n",
              "    <tr>\n",
              "      <th>1</th>\n",
              "      <td>DONGGUAN SHENGYA CLEANING APPLIAME CO.LTD</td>\n",
              "      <td>CHINA</td>\n",
              "      <td>TMT</td>\n",
              "      <td>consumer electronics</td>\n",
              "      <td>consumer electronics_distributor</td>\n",
              "      <td>Downstream</td>\n",
              "      <td>Yatai's main products cover various cleaning m...</td>\n",
              "    </tr>\n",
              "    <tr>\n",
              "      <th>2</th>\n",
              "      <td>EXIS TECH SDN. BHD.</td>\n",
              "      <td>MALAYSIA</td>\n",
              "      <td>oos</td>\n",
              "      <td>others</td>\n",
              "      <td>others</td>\n",
              "      <td>NaN</td>\n",
              "      <td>In the beginning, it started off by providing ...</td>\n",
              "    </tr>\n",
              "    <tr>\n",
              "      <th>4</th>\n",
              "      <td>Aztech Electronics Pte Ltd</td>\n",
              "      <td>SINGAPORE</td>\n",
              "      <td>TMT</td>\n",
              "      <td>consumer electronics</td>\n",
              "      <td>consumer electronics_distributor</td>\n",
              "      <td>Downstream</td>\n",
              "      <td>Being a turnkey, one-stop integrated solutions...</td>\n",
              "    </tr>\n",
              "    <tr>\n",
              "      <th>5</th>\n",
              "      <td>TONGDUN INTERNATIONAL PTE LTD</td>\n",
              "      <td>SINGAPORE</td>\n",
              "      <td>tmt</td>\n",
              "      <td>it_services</td>\n",
              "      <td>it_services</td>\n",
              "      <td>midstream</td>\n",
              "      <td>Tongdun Technology is a professional third-par...</td>\n",
              "    </tr>\n",
              "    <tr>\n",
              "      <th>...</th>\n",
              "      <td>...</td>\n",
              "      <td>...</td>\n",
              "      <td>...</td>\n",
              "      <td>...</td>\n",
              "      <td>...</td>\n",
              "      <td>...</td>\n",
              "      <td>...</td>\n",
              "    </tr>\n",
              "    <tr>\n",
              "      <th>6595</th>\n",
              "      <td>PAN ENERGY PTE. LTD.</td>\n",
              "      <td>SINGAPORE</td>\n",
              "      <td>ONG</td>\n",
              "      <td>ong_traders</td>\n",
              "      <td>bunker trader</td>\n",
              "      <td>Downstream</td>\n",
              "      <td>PAN ENERGY is an ACRA-registered entity that h...</td>\n",
              "    </tr>\n",
              "    <tr>\n",
              "      <th>6596</th>\n",
              "      <td>TRIM INTERNATIONAL CO.,LTD.</td>\n",
              "      <td>THAILAND</td>\n",
              "      <td>OOS</td>\n",
              "      <td>others</td>\n",
              "      <td>others</td>\n",
              "      <td>NaN</td>\n",
              "      <td>Established in 2000, TI has grown to become o...</td>\n",
              "    </tr>\n",
              "    <tr>\n",
              "      <th>6597</th>\n",
              "      <td>SIAK SIONG CONSTRUCTION SDN BHD</td>\n",
              "      <td>MALAYSIA</td>\n",
              "      <td>REH</td>\n",
              "      <td>commercial</td>\n",
              "      <td>commercial_integrated player</td>\n",
              "      <td>MIDSTREAM</td>\n",
              "      <td>Siak Siong Group is an established group speci...</td>\n",
              "    </tr>\n",
              "    <tr>\n",
              "      <th>6598</th>\n",
              "      <td>KIJ THAWEE PATTANA CO.,LTD.</td>\n",
              "      <td>THAILAND</td>\n",
              "      <td>REH</td>\n",
              "      <td>commercial</td>\n",
              "      <td>commercial_operator</td>\n",
              "      <td>DOWNSTREAM</td>\n",
              "      <td>Rental, purchase, sale and real estate operations</td>\n",
              "    </tr>\n",
              "    <tr>\n",
              "      <th>6599</th>\n",
              "      <td>CNI ENGINEERING &amp; CONSTRUCTION MALAYSIA SDN. BHD.</td>\n",
              "      <td>MALAYSIA</td>\n",
              "      <td>ONG</td>\n",
              "      <td>o&amp;g_service providers/contractors</td>\n",
              "      <td>o&amp;g upstream service provider</td>\n",
              "      <td>Upstream</td>\n",
              "      <td>ENGINEERING, PROCUREMENT, CONSTRUCTION,SERVICE...</td>\n",
              "    </tr>\n",
              "  </tbody>\n",
              "</table>\n",
              "<p>5766 rows × 7 columns</p>\n",
              "</div>"
            ],
            "text/plain": [
              "                                                Company  ...                        Company Profile Information\n",
              "0                      AKSORN CHAROEN TAT ACT. CO.,LTD.  ...  For over 80 years of experience in creating an...\n",
              "1             DONGGUAN SHENGYA CLEANING APPLIAME CO.LTD  ...  Yatai's main products cover various cleaning m...\n",
              "2                                   EXIS TECH SDN. BHD.  ...  In the beginning, it started off by providing ...\n",
              "4                            Aztech Electronics Pte Ltd  ...  Being a turnkey, one-stop integrated solutions...\n",
              "5                         TONGDUN INTERNATIONAL PTE LTD  ...  Tongdun Technology is a professional third-par...\n",
              "...                                                 ...  ...                                                ...\n",
              "6595                               PAN ENERGY PTE. LTD.  ...  PAN ENERGY is an ACRA-registered entity that h...\n",
              "6596                        TRIM INTERNATIONAL CO.,LTD.  ...   Established in 2000, TI has grown to become o...\n",
              "6597                    SIAK SIONG CONSTRUCTION SDN BHD  ...  Siak Siong Group is an established group speci...\n",
              "6598                        KIJ THAWEE PATTANA CO.,LTD.  ...  Rental, purchase, sale and real estate operations\n",
              "6599  CNI ENGINEERING & CONSTRUCTION MALAYSIA SDN. BHD.  ...  ENGINEERING, PROCUREMENT, CONSTRUCTION,SERVICE...\n",
              "\n",
              "[5766 rows x 7 columns]"
            ]
          },
          "metadata": {
            "tags": []
          },
          "execution_count": 13
        }
      ]
    },
    {
      "cell_type": "code",
      "metadata": {
        "id": "IuYZkLS8fkjV",
        "colab": {
          "base_uri": "https://localhost:8080/"
        },
        "outputId": "3581232c-369b-4f14-ddd2-55432a18160b"
      },
      "source": [
        "# now we check the count of the total filtered dataset again\n",
        "df_filterCount = df_valid['Company'].count()\n",
        "\n",
        "print('Total number of filtered records:', df_filterCount)"
      ],
      "execution_count": 14,
      "outputs": [
        {
          "output_type": "stream",
          "text": [
            "Total number of filtered records: 5766\n"
          ],
          "name": "stdout"
        }
      ]
    },
    {
      "cell_type": "markdown",
      "metadata": {
        "id": "gf69nqOrWr_b"
      },
      "source": [
        "### 3.4. Get graphical overview of dataset\n",
        "\n",
        "---\n",
        "\n",
        "Get visualised information of the dataset to understand the dataset better."
      ]
    },
    {
      "cell_type": "code",
      "metadata": {
        "id": "dRLIFECVS1os",
        "colab": {
          "base_uri": "https://localhost:8080/",
          "height": 517
        },
        "outputId": "f4af3b23-735a-4e9b-8f11-1894ef325a5b"
      },
      "source": [
        "sns.set_style('darkgrid')\n",
        "plt_dims = (30, 13)\n",
        "fig, ax = plt.subplots(figsize=plt_dims)\n",
        "\n",
        "# plot a barplot to see number of companies that belongs to specific sectors\n",
        "sns.countplot(x=\"Sector\", data=df_valid, ax=ax)\n",
        "plt.show()"
      ],
      "execution_count": 15,
      "outputs": [
        {
          "output_type": "display_data",
          "data": {
            "image/png": "[encoded data removed]",
            "text/plain": [
              "<Figure size 2160x936 with 1 Axes>"
            ]
          },
          "metadata": {
            "tags": []
          }
        }
      ]
    },
    {
      "cell_type": "markdown",
      "metadata": {
        "id": "1EyLs8d1TfSw"
      },
      "source": [
        "<div class=\"alert alert-block alert-info\">\n",
        "    <b>Analysis Summary:</b> We see that most of the companies comes from the CNI(Construction And Infrastructure), with TMT(Technology, Media and Telecomm) sector.\n",
        "</div>"
      ]
    },
    {
      "cell_type": "code",
      "metadata": {
        "id": "SwMqcB0MStbJ",
        "colab": {
          "base_uri": "https://localhost:8080/",
          "height": 513
        },
        "outputId": "df8ea7e6-dda5-4e46-8ab8-836ebba5f90c"
      },
      "source": [
        "# Pie chart\n",
        "labels = list(df_valid['Country'].unique())\n",
        "sizes = list(df_valid['Country'].value_counts())\n",
        "\n",
        "plt_dims = (30, 13)\n",
        "fig1, ax1 = plt.subplots(figsize=plt_dims)\n",
        "ax1.pie(sizes, labels=labels, autopct='%1.1f%%',\n",
        "        shadow=True, startangle=90)\n",
        "# Equal aspect ratio ensures that pie is drawn as a circle\n",
        "ax1.axis('equal')  \n",
        "plt.tight_layout()\n",
        "plt.show()"
      ],
      "execution_count": 16,
      "outputs": [
        {
          "output_type": "display_data",
          "data": {
            "image/png": "[encoded data removed]",
            "text/plain": [
              "<Figure size 2160x936 with 1 Axes>"
            ]
          },
          "metadata": {
            "tags": []
          }
        }
      ]
    },
    {
      "cell_type": "markdown",
      "metadata": {
        "id": "A73dge-zZhSD"
      },
      "source": [
        "<div class=\"alert alert-block alert-info\">\n",
        "    <b>Analysis Summary:</b> We see that most of the companies are Singapre-Based companies, followed up by Hong Kong, Indonesia and so on.\n",
        "</div>"
      ]
    },
    {
      "cell_type": "markdown",
      "metadata": {
        "id": "L3bMDdQTfTnX"
      },
      "source": [
        "### 3.5. See examples of company description\n",
        "\n",
        "---\n",
        "\n",
        "We would now like to see some examples of the company descriptions in order to undestand later how to preprocess them later on."
      ]
    },
    {
      "cell_type": "code",
      "metadata": {
        "id": "LBQ4Ml5gfkg7",
        "colab": {
          "base_uri": "https://localhost:8080/"
        },
        "outputId": "9af1209a-5805-4bda-d99d-a9673bc0325c"
      },
      "source": [
        "# configurate pandas dataframe to let us see the entire company description IN FULL\n",
        "pd.set_option('display.max_colwidth', None)\n",
        "\n",
        "# get the 1st 10 results and observe\n",
        "df_valid.loc[0:10,'Company Profile Information']"
      ],
      "execution_count": 17,
      "outputs": [
        {
          "output_type": "execute_result",
          "data": {
            "text/plain": [
              "0                                                                                                                                                                                                                                                                                                                                                                        For over 80 years of experience in creating and developing high-quality learning materials has enabled us to provide world-class educational innovation to meet the needs of all teachers, students, institutions and educational authorities.\n",
              "1                                                                                                                                                                                                                                                                                                                                    Yatai's main products cover various cleaning machinery, cleaning agents, cleaning tools, stone maintenance and other cleaning products; cleaning solutions and services include product technical consultation, product customization, employee training, maintenance and so on.\\n\n",
              "2                                                                                                                                                                                                                                                             In the beginning, it started off by providing technical support for test handlers, then moving into module design and production. Its first, in-house designed, full-fledged handler was introduced in 2008.\\nSince then, the company has designed and produced a wide range of turret and pick-and-place solutions for its customers all over the world.\n",
              "4                                                                          Being a turnkey, one-stop integrated solutions provider based in Singapore, Aztech is equipped with state-of-the-art equipment, R&D, design, manufacturing and packaging capabilities to deliver a seamless, unified experience. Each and every time. Always striving towards the edge of technology for more than 34 years, we have been building capabilities to serve clients’ manufacturing needs, including the consumer electronics, telecommunications, healthtech, LED lighting, automotive and technology start-up market segments.\n",
              "5     Tongdun Technology is a professional third-party intelligent risk management and decision-making service provider headquartered in Hangzhou, Zhejiang. By integrating artificial intelligence into business scenarios, Tongdun Technology offers solutions in intelligent user analysis, intelligent risk management, intelligent antifraud and intelligent operation to clients from various industries including financial industry, internet business, logistics, healthcare, retail, smart cities and government bodies. Over 10,000 corporate clients have chosen Tongdun Technology’s products and services\n",
              "6                                                                                                                                                                                                                                                                                                                                                                                                  For over 30 years, EMASTIGA has been servicing the construction and the oil and gas industries with distinction.We try our hardest to create win-win situations and value-add to our clients with every transaction.\n",
              "7                                                                                                                                                                                                                                                                                                                                                                                                                                                                                                                                                                                Sales of hydraulic equipment and parts\n",
              "8                                                                                                                                                                                                                                                                                                      For Excelkos, it all started with a far-sighted vision to deliver quality industrial products and solutions to meet the increasing demands of various industries. ​ The vision became a reality in 1988 when the Excelkos Group was established to distribute and provide quality rubber industrial chemicals. ​\n",
              "9                                                                                                                                                                                                                                                                                                                                                                                                                                                        Kum Eng Huat is the authorised dealer for Osram and Philips, as well as a trusted supplier of lighting solutions for major projects with the local government.\n",
              "10                                                                                                                                                                                                                                                                                                                                                                                                                                                                                                                                                      Wholesale of other building_materials, not elsewhere classified\n",
              "Name: Company Profile Information, dtype: object"
            ]
          },
          "metadata": {
            "tags": []
          },
          "execution_count": 17
        }
      ]
    },
    {
      "cell_type": "markdown",
      "metadata": {
        "id": "x50UFKzNkezP"
      },
      "source": [
        "<div class=\"alert alert-block alert-info\">\n",
        "    <b>Analysis Summary:</b> We do realise that some of the company profile message have some breaks in between like '\\n'. Now, we will have to take away all these problems so that it is one string of paragraph with no such annotations in betweeen.\n",
        "</div>"
      ]
    },
    {
      "cell_type": "markdown",
      "metadata": {
        "id": "ETEpM1eCk9Cf"
      },
      "source": [
        "---\n",
        "---"
      ]
    },
    {
      "cell_type": "markdown",
      "metadata": {
        "id": "l0rub1v2k-dq"
      },
      "source": [
        "# 4.Data Preprocessing"
      ]
    },
    {
      "cell_type": "markdown",
      "metadata": {
        "id": "ZxCABlrVlDW6"
      },
      "source": [
        "### 4.1. Removing `\\n` and `\\t`\n",
        "\n",
        "---\n",
        "\n",
        "Now, we will like to standardize all the paragraphs such that the are homogenous, before we tokenize the paragraph."
      ]
    },
    {
      "cell_type": "code",
      "metadata": {
        "id": "MAq4hq6XlMBp"
      },
      "source": [
        "# get rid of the \\n found in the respective descriptions\n",
        "df_valid = df_valid.replace([\"\\n\", \"\\t\"], ' ', regex=True)"
      ],
      "execution_count": 18,
      "outputs": []
    },
    {
      "cell_type": "markdown",
      "metadata": {
        "id": "_UbMqS2dvXeZ"
      },
      "source": [
        "### 4.2. Calculating the word length distribution\n",
        "\n",
        "---\n",
        "\n",
        "Here, we will be calculating the world length distribution of the collective company description."
      ]
    },
    {
      "cell_type": "code",
      "metadata": {
        "id": "uDsrjeimvDl8",
        "colab": {
          "base_uri": "https://localhost:8080/",
          "height": 343
        },
        "outputId": "6e8bcbb2-9259-414e-bb44-b407a573d7b5"
      },
      "source": [
        "# first, add in a new column that tabluates the length of the respecive company description\n",
        "df_valid[\"length\"] = df_valid[\"Company Profile Information\"].str.len()\n",
        "df_valid.head(3)"
      ],
      "execution_count": 19,
      "outputs": [
        {
          "output_type": "execute_result",
          "data": {
            "text/html": [
              "<div>\n",
              "<style scoped>\n",
              "    .dataframe tbody tr th:only-of-type {\n",
              "        vertical-align: middle;\n",
              "    }\n",
              "\n",
              "    .dataframe tbody tr th {\n",
              "        vertical-align: top;\n",
              "    }\n",
              "\n",
              "    .dataframe thead th {\n",
              "        text-align: right;\n",
              "    }\n",
              "</style>\n",
              "<table border=\"1\" class=\"dataframe\">\n",
              "  <thead>\n",
              "    <tr style=\"text-align: right;\">\n",
              "      <th></th>\n",
              "      <th>Company</th>\n",
              "      <th>Country</th>\n",
              "      <th>Sector</th>\n",
              "      <th>Subsector</th>\n",
              "      <th>Archetype</th>\n",
              "      <th>Valuechain</th>\n",
              "      <th>Company Profile Information</th>\n",
              "      <th>length</th>\n",
              "    </tr>\n",
              "  </thead>\n",
              "  <tbody>\n",
              "    <tr>\n",
              "      <th>0</th>\n",
              "      <td>AKSORN CHAROEN TAT ACT. CO.,LTD.</td>\n",
              "      <td>THAILAND</td>\n",
              "      <td>TMT</td>\n",
              "      <td>media</td>\n",
              "      <td>media_aggregator/distributor</td>\n",
              "      <td>Midstream</td>\n",
              "      <td>For over 80 years of experience in creating and developing high-quality learning materials has enabled us to provide world-class educational innovation to meet the needs of all teachers, students, institutions and educational authorities.</td>\n",
              "      <td>238.0</td>\n",
              "    </tr>\n",
              "    <tr>\n",
              "      <th>1</th>\n",
              "      <td>DONGGUAN SHENGYA CLEANING APPLIAME CO.LTD</td>\n",
              "      <td>CHINA</td>\n",
              "      <td>TMT</td>\n",
              "      <td>consumer electronics</td>\n",
              "      <td>consumer electronics_distributor</td>\n",
              "      <td>Downstream</td>\n",
              "      <td>Yatai's main products cover various cleaning machinery, cleaning agents, cleaning tools, stone maintenance and other cleaning products; cleaning solutions and services include product technical consultation, product customization, employee training, maintenance and so on.</td>\n",
              "      <td>273.0</td>\n",
              "    </tr>\n",
              "    <tr>\n",
              "      <th>2</th>\n",
              "      <td>EXIS TECH SDN. BHD.</td>\n",
              "      <td>MALAYSIA</td>\n",
              "      <td>oos</td>\n",
              "      <td>others</td>\n",
              "      <td>others</td>\n",
              "      <td>NaN</td>\n",
              "      <td>In the beginning, it started off by providing technical support for test handlers, then moving into module design and production. Its first, in-house designed, full-fledged handler was introduced in 2008. Since then, the company has designed and produced a wide range of turret and pick-and-place solutions for its customers all over the world.</td>\n",
              "      <td>344.0</td>\n",
              "    </tr>\n",
              "  </tbody>\n",
              "</table>\n",
              "</div>"
            ],
            "text/plain": [
              "                                     Company  ... length\n",
              "0           AKSORN CHAROEN TAT ACT. CO.,LTD.  ...  238.0\n",
              "1  DONGGUAN SHENGYA CLEANING APPLIAME CO.LTD  ...  273.0\n",
              "2                        EXIS TECH SDN. BHD.  ...  344.0\n",
              "\n",
              "[3 rows x 8 columns]"
            ]
          },
          "metadata": {
            "tags": []
          },
          "execution_count": 19
        }
      ]
    },
    {
      "cell_type": "code",
      "metadata": {
        "id": "725S9NxvyZXQ",
        "colab": {
          "base_uri": "https://localhost:8080/",
          "height": 295
        },
        "outputId": "4d3a2688-3478-4741-8678-10ceb831870a"
      },
      "source": [
        "# now plot a distribution plot to see the word length distribution\n",
        "sns.distplot(df_valid[\"length\"], kde=True)\n",
        "plt.title('Word Length Distribution')\n",
        "plt.show()"
      ],
      "execution_count": 20,
      "outputs": [
        {
          "output_type": "display_data",
          "data": {
            "image/png": "[encoded data removed]",
            "text/plain": [
              "<Figure size 432x288 with 1 Axes>"
            ]
          },
          "metadata": {
            "tags": []
          }
        }
      ]
    },
    {
      "cell_type": "markdown",
      "metadata": {
        "id": "ZjI1Z5ogyl6h"
      },
      "source": [
        "<div class=\"alert alert-block alert-info\">\n",
        "    <b>Analysis Summary:</b> We can see that there is a high record of the company description having a total word length of around 200 to 300, while those aboce 800 is very rare.\n",
        "</div>"
      ]
    },
    {
      "cell_type": "markdown",
      "metadata": {
        "id": "V2q_t5v3SSq2"
      },
      "source": [
        "### 4.3. Populating Nan cells\n",
        "\n",
        "---\n",
        "\n",
        "We will now have to populate Nan cells with space so that we can carry on and process with text tokenization."
      ]
    },
    {
      "cell_type": "code",
      "metadata": {
        "id": "iAUWZOuMSP7O",
        "colab": {
          "base_uri": "https://localhost:8080/",
          "height": 1000
        },
        "outputId": "7dc6895f-c3e6-491b-c913-13aad1c1ecd9"
      },
      "source": [
        "# fill na with space instead of others\n",
        "df_valid.fillna(\" \" ,inplace=True)\n",
        "df_valid"
      ],
      "execution_count": 21,
      "outputs": [
        {
          "output_type": "execute_result",
          "data": {
            "text/html": [
              "<div>\n",
              "<style scoped>\n",
              "    .dataframe tbody tr th:only-of-type {\n",
              "        vertical-align: middle;\n",
              "    }\n",
              "\n",
              "    .dataframe tbody tr th {\n",
              "        vertical-align: top;\n",
              "    }\n",
              "\n",
              "    .dataframe thead th {\n",
              "        text-align: right;\n",
              "    }\n",
              "</style>\n",
              "<table border=\"1\" class=\"dataframe\">\n",
              "  <thead>\n",
              "    <tr style=\"text-align: right;\">\n",
              "      <th></th>\n",
              "      <th>Company</th>\n",
              "      <th>Country</th>\n",
              "      <th>Sector</th>\n",
              "      <th>Subsector</th>\n",
              "      <th>Archetype</th>\n",
              "      <th>Valuechain</th>\n",
              "      <th>Company Profile Information</th>\n",
              "      <th>length</th>\n",
              "    </tr>\n",
              "  </thead>\n",
              "  <tbody>\n",
              "    <tr>\n",
              "      <th>0</th>\n",
              "      <td>AKSORN CHAROEN TAT ACT. CO.,LTD.</td>\n",
              "      <td>THAILAND</td>\n",
              "      <td>TMT</td>\n",
              "      <td>media</td>\n",
              "      <td>media_aggregator/distributor</td>\n",
              "      <td>Midstream</td>\n",
              "      <td>For over 80 years of experience in creating and developing high-quality learning materials has enabled us to provide world-class educational innovation to meet the needs of all teachers, students, institutions and educational authorities.</td>\n",
              "      <td>238</td>\n",
              "    </tr>\n",
              "    <tr>\n",
              "      <th>1</th>\n",
              "      <td>DONGGUAN SHENGYA CLEANING APPLIAME CO.LTD</td>\n",
              "      <td>CHINA</td>\n",
              "      <td>TMT</td>\n",
              "      <td>consumer electronics</td>\n",
              "      <td>consumer electronics_distributor</td>\n",
              "      <td>Downstream</td>\n",
              "      <td>Yatai's main products cover various cleaning machinery, cleaning agents, cleaning tools, stone maintenance and other cleaning products; cleaning solutions and services include product technical consultation, product customization, employee training, maintenance and so on.</td>\n",
              "      <td>273</td>\n",
              "    </tr>\n",
              "    <tr>\n",
              "      <th>2</th>\n",
              "      <td>EXIS TECH SDN. BHD.</td>\n",
              "      <td>MALAYSIA</td>\n",
              "      <td>oos</td>\n",
              "      <td>others</td>\n",
              "      <td>others</td>\n",
              "      <td></td>\n",
              "      <td>In the beginning, it started off by providing technical support for test handlers, then moving into module design and production. Its first, in-house designed, full-fledged handler was introduced in 2008. Since then, the company has designed and produced a wide range of turret and pick-and-place solutions for its customers all over the world.</td>\n",
              "      <td>344</td>\n",
              "    </tr>\n",
              "    <tr>\n",
              "      <th>4</th>\n",
              "      <td>Aztech Electronics Pte Ltd</td>\n",
              "      <td>SINGAPORE</td>\n",
              "      <td>TMT</td>\n",
              "      <td>consumer electronics</td>\n",
              "      <td>consumer electronics_distributor</td>\n",
              "      <td>Downstream</td>\n",
              "      <td>Being a turnkey, one-stop integrated solutions provider based in Singapore, Aztech is equipped with state-of-the-art equipment, R&amp;D, design, manufacturing and packaging capabilities to deliver a seamless, unified experience. Each and every time. Always striving towards the edge of technology for more than 34 years, we have been building capabilities to serve clients’ manufacturing needs, including the consumer electronics, telecommunications, healthtech, LED lighting, automotive and technology start-up market segments.</td>\n",
              "      <td>524</td>\n",
              "    </tr>\n",
              "    <tr>\n",
              "      <th>5</th>\n",
              "      <td>TONGDUN INTERNATIONAL PTE LTD</td>\n",
              "      <td>SINGAPORE</td>\n",
              "      <td>tmt</td>\n",
              "      <td>it_services</td>\n",
              "      <td>it_services</td>\n",
              "      <td>midstream</td>\n",
              "      <td>Tongdun Technology is a professional third-party intelligent risk management and decision-making service provider headquartered in Hangzhou, Zhejiang. By integrating artificial intelligence into business scenarios, Tongdun Technology offers solutions in intelligent user analysis, intelligent risk management, intelligent antifraud and intelligent operation to clients from various industries including financial industry, internet business, logistics, healthcare, retail, smart cities and government bodies. Over 10,000 corporate clients have chosen Tongdun Technology’s products and services</td>\n",
              "      <td>593</td>\n",
              "    </tr>\n",
              "    <tr>\n",
              "      <th>...</th>\n",
              "      <td>...</td>\n",
              "      <td>...</td>\n",
              "      <td>...</td>\n",
              "      <td>...</td>\n",
              "      <td>...</td>\n",
              "      <td>...</td>\n",
              "      <td>...</td>\n",
              "      <td>...</td>\n",
              "    </tr>\n",
              "    <tr>\n",
              "      <th>6595</th>\n",
              "      <td>PAN ENERGY PTE. LTD.</td>\n",
              "      <td>SINGAPORE</td>\n",
              "      <td>ONG</td>\n",
              "      <td>ong_traders</td>\n",
              "      <td>bunker trader</td>\n",
              "      <td>Downstream</td>\n",
              "      <td>PAN ENERGY is an ACRA-registered entity that has been operating for 5 years 7 months in Singapore since its incorporation y in 2015. Officially, PAN ENERGY PTE. LTD. is registered as Exempt Private Limited Company with its address in District 9 (Orchard, Cairnhill, River Valley), primarily operates in the sector of \"SHIPPING LINES (SCHEDULED SERVICES)\", SSIC code - 50021 SHIP BUNKERING</td>\n",
              "      <td>388</td>\n",
              "    </tr>\n",
              "    <tr>\n",
              "      <th>6596</th>\n",
              "      <td>TRIM INTERNATIONAL CO.,LTD.</td>\n",
              "      <td>THAILAND</td>\n",
              "      <td>OOS</td>\n",
              "      <td>others</td>\n",
              "      <td>others</td>\n",
              "      <td></td>\n",
              "      <td>Established in 2000, TI has grown to become one of Southeast Asia's leaders in leather cut and sewn furniture covers.</td>\n",
              "      <td>118</td>\n",
              "    </tr>\n",
              "    <tr>\n",
              "      <th>6597</th>\n",
              "      <td>SIAK SIONG CONSTRUCTION SDN BHD</td>\n",
              "      <td>MALAYSIA</td>\n",
              "      <td>REH</td>\n",
              "      <td>commercial</td>\n",
              "      <td>commercial_integrated player</td>\n",
              "      <td>MIDSTREAM</td>\n",
              "      <td>Siak Siong Group is an established group specialised in construction industry with diversity in engineering industry, real estate development, building materials industry, plantation and Real Estate Investment and Management industry.</td>\n",
              "      <td>234</td>\n",
              "    </tr>\n",
              "    <tr>\n",
              "      <th>6598</th>\n",
              "      <td>KIJ THAWEE PATTANA CO.,LTD.</td>\n",
              "      <td>THAILAND</td>\n",
              "      <td>REH</td>\n",
              "      <td>commercial</td>\n",
              "      <td>commercial_operator</td>\n",
              "      <td>DOWNSTREAM</td>\n",
              "      <td>Rental, purchase, sale and real estate operations</td>\n",
              "      <td>49</td>\n",
              "    </tr>\n",
              "    <tr>\n",
              "      <th>6599</th>\n",
              "      <td>CNI ENGINEERING &amp; CONSTRUCTION MALAYSIA SDN. BHD.</td>\n",
              "      <td>MALAYSIA</td>\n",
              "      <td>ONG</td>\n",
              "      <td>o&amp;g_service providers/contractors</td>\n",
              "      <td>o&amp;g upstream service provider</td>\n",
              "      <td>Upstream</td>\n",
              "      <td>ENGINEERING, PROCUREMENT, CONSTRUCTION,SERVICE FABRICATION AND MAINTENANCE WORKS FOR MECHANICAL, ELECTRICAL AND ERECTION RELATED TO OIL AND GAS, POWER, PETROCHEMICAL AND RENEWABLE ENERGY PROJECTS</td>\n",
              "      <td>195</td>\n",
              "    </tr>\n",
              "  </tbody>\n",
              "</table>\n",
              "<p>5766 rows × 8 columns</p>\n",
              "</div>"
            ],
            "text/plain": [
              "                                                Company  ... length\n",
              "0                      AKSORN CHAROEN TAT ACT. CO.,LTD.  ...    238\n",
              "1             DONGGUAN SHENGYA CLEANING APPLIAME CO.LTD  ...    273\n",
              "2                                   EXIS TECH SDN. BHD.  ...    344\n",
              "4                            Aztech Electronics Pte Ltd  ...    524\n",
              "5                         TONGDUN INTERNATIONAL PTE LTD  ...    593\n",
              "...                                                 ...  ...    ...\n",
              "6595                               PAN ENERGY PTE. LTD.  ...    388\n",
              "6596                        TRIM INTERNATIONAL CO.,LTD.  ...    118\n",
              "6597                    SIAK SIONG CONSTRUCTION SDN BHD  ...    234\n",
              "6598                        KIJ THAWEE PATTANA CO.,LTD.  ...     49\n",
              "6599  CNI ENGINEERING & CONSTRUCTION MALAYSIA SDN. BHD.  ...    195\n",
              "\n",
              "[5766 rows x 8 columns]"
            ]
          },
          "metadata": {
            "tags": []
          },
          "execution_count": 21
        }
      ]
    },
    {
      "cell_type": "markdown",
      "metadata": {
        "id": "KvaDZUtsVIYk"
      },
      "source": [
        "### 4.5. Assigning tags\n",
        "---\n",
        "In this section, we will be assigning tags to every row, so that we can make use of the given keywords for bag-of-words (BoW) processing."
      ]
    },
    {
      "cell_type": "code",
      "metadata": {
        "id": "RMryE61_3L3d",
        "colab": {
          "base_uri": "https://localhost:8080/"
        },
        "outputId": "1ce9e8e5-162d-4e71-f452-d2b5953700a8"
      },
      "source": [
        "# Programmatically assign tags to each definition\n",
        "sector_keywords = pd.read_excel('./sector_master_definition.xlsx')\n",
        "df_keywords = sector_keywords[['Sector', 'Subsector', 'Archetype', 'Value Chain', 'Sector Keywords']]\n",
        "\n",
        "# capitalise all tags\n",
        "df_keywords['Value Chain'] = df_keywords['Value Chain'].str.upper()\n",
        "df_keywords.fillna(' ', inplace=True)\n",
        "df_keywords['Sector Keywords'] = df_keywords['Sector Keywords'].str.upper()\n",
        "df_keywords['Sector Keywords'].replace(' ', '[]', inplace=True)\n",
        "\n",
        "# save unique tags, sorted for consistency across runs\n",
        "sector = np.sort(df_keywords['Sector'].unique())\n",
        "subsector = np.sort(df_keywords['Subsector'].unique())\n",
        "archetype = np.sort(df_keywords['Archetype'].unique())\n",
        "valuechain = np.sort(df_keywords['Value Chain'].unique())\n",
        "print(len(sector), len(subsector), len(archetype), len(valuechain))\n",
        "tag_counts = [len(sector), len(subsector), len(archetype), len(valuechain)]\n",
        "\n",
        "# assign number tag list to each row\n",
        "taglist = []\n",
        "for index, row in df_keywords.iterrows():\n",
        "    temp = []\n",
        "\n",
        "    temp.append(np.where(sector == row['Sector'])[0][0])\n",
        "    temp.append(np.where(subsector == row['Subsector'])[0][0])\n",
        "    temp.append(np.where(archetype == row['Archetype'])[0][0])\n",
        "    temp.append(np.where(valuechain == row['Value Chain'])[0][0])\n",
        "\n",
        "    taglist.append(temp)\n",
        "\n",
        "# assign completed taglist to column in dataframe\n",
        "df_keywords['list_tag'] = taglist"
      ],
      "execution_count": 22,
      "outputs": [
        {
          "output_type": "stream",
          "text": [
            "7 32 92 9\n"
          ],
          "name": "stdout"
        }
      ]
    },
    {
      "cell_type": "code",
      "metadata": {
        "id": "qeY7nEgNAL5n",
        "colab": {
          "base_uri": "https://localhost:8080/"
        },
        "outputId": "cbaeea09-b843-4608-ee87-f960e098cd23"
      },
      "source": [
        "# process data for homogenity\n",
        "df_valid['Valuechain'] = df_valid['Valuechain'].str.split().str.join(' ')\n",
        "df_valid['Valuechain'] = df_valid['Valuechain'].str.upper()\n",
        "df_valid['Sector'] = df_valid['Sector'].str.upper()\n",
        "df_valid['Valuechain'].replace('', ' ', inplace=True)\n",
        "\n",
        "taglist_df = []\n",
        "# process tags for records\n",
        "for index, row in df_valid.iterrows():\n",
        "    temp = []\n",
        "\n",
        "    try: # for error handling\n",
        "        temp.append(np.where(sector == row['Sector'])[0][0])\n",
        "        temp.append(np.where(subsector == row['Subsector'])[0][0])\n",
        "        temp.append(np.where(archetype == row['Archetype'])[0][0])\n",
        "        temp.append(np.where(valuechain == row['Valuechain'])[0][0])\n",
        "\n",
        "        taglist_df.append(temp)\n",
        "    except:\n",
        "        # drop data if not valid\n",
        "        df_valid.drop(index, inplace=True)\n",
        "\n",
        "\n",
        "df_valid['list_tag'] = taglist_df\n",
        "\n",
        "df_valid.shape"
      ],
      "execution_count": 23,
      "outputs": [
        {
          "output_type": "execute_result",
          "data": {
            "text/plain": [
              "(5745, 9)"
            ]
          },
          "metadata": {
            "tags": []
          },
          "execution_count": 23
        }
      ]
    },
    {
      "cell_type": "code",
      "metadata": {
        "colab": {
          "base_uri": "https://localhost:8080/"
        },
        "id": "jRzwai3XN3Lr",
        "outputId": "ea1d3e89-299c-4884-ef14-bde82ea02811"
      },
      "source": [
        "# combine all keywords from all sectors\n",
        "keywords_masterlist = []\n",
        "for index, row in df_keywords.iterrows():\n",
        "    keywords_masterlist += eval(row['Sector Keywords'])\n",
        "\n",
        "# remove extraenous keywords, then sort\n",
        "keywords_masterlist = sorted(list(set(keywords_masterlist)))\n",
        "print(len(keywords_masterlist))"
      ],
      "execution_count": 24,
      "outputs": [
        {
          "output_type": "stream",
          "text": [
            "1481\n"
          ],
          "name": "stdout"
        }
      ]
    },
    {
      "cell_type": "markdown",
      "metadata": {
        "id": "vMQVBNOGz4cn"
      },
      "source": [
        "### 4.6. Text Tokenization, data preprocessing using BertTokenizerFast\n",
        "---\n",
        "\n",
        "We will let huggingface go and help to preprocess our sentences and tokenize them so that we can feed into BERT later on."
      ]
    },
    {
      "cell_type": "code",
      "metadata": {
        "id": "8mI-V2iXtjH8"
      },
      "source": [
        "# we will have to ensure all the dtype of the respective columns are in string and not float for spacy to handle properly, so now we will attempt to convert all into strings\n",
        "columns_to_convert = ['Sector', 'Subsector', 'Archetype', 'Valuechain', 'Company Profile Information']\n",
        "\n",
        "for i in columns_to_convert:\n",
        "  df_valid[i] = df_valid[i].astype(str)"
      ],
      "execution_count": 25,
      "outputs": []
    },
    {
      "cell_type": "code",
      "metadata": {
        "id": "02PdaoNYz4EI",
        "colab": {
          "base_uri": "https://localhost:8080/",
          "height": 212,
          "referenced_widgets": [
            "b2f64dcb942547c5969665ed02305293",
            "69b6a8ab45374856ad5678d639478490",
            "ca324968b5ea468db60cdfd32fae439e",
            "12e076cd46bc47a6887c79d83bd54fbc",
            "4b694cc75a77445a9e33a63c440ee7eb",
            "2f14e31df73242aab82af953332f9abb",
            "19fd8fb435d945f4b62da0154a75d120",
            "501ac715782447efa049783b2918b1a2",
            "68664dc0713849ba845b2a5201b9a6d2",
            "3885e164fcdf49eda4ae5b8b4971b815",
            "b59b64df07c04c2381c6095ade36834e",
            "794b08a2d0ea4d82820070fad8f063a6",
            "5b18d878d35e4e9593b970aa92eda7ed",
            "e6f993d5506d4dc8a7ff0846ecaa566c",
            "105d07178bbd4ff4ad8049a96345df4f",
            "4f07f4cae68b4b5aa8bb3b154b9936e6",
            "f7514250c02b49f2a412041bd541f496",
            "48bc504782d447feb615971a54726cbb",
            "cecb66c59cf54fb6beeb7f3d029668f2",
            "fdf567997e8d4872a3fe9bec17ee1718",
            "bf0c9e7dc0ff46fa86c30147a4aa9785",
            "a6940bfff8354a878e9854051ee02d61",
            "f322790c9a3647fda4e7ff5c59195c04",
            "cb13ac6a1f634476a8bf62122abbe809",
            "fcd35022358745cfa611331783c46c05",
            "384fb2d720054152a2d97119a92bb676",
            "cad161f9ad0d4317a0c9375d5bd2b7ba",
            "e32f621ab3f5430fa7466f50e6de3453",
            "fd7c569d4d524f2bac502c501ec61173",
            "d4669c6dc6bf449a9345df201566bfa6",
            "3569ee282d984252b3cc9fddaa8a0569",
            "f52638ec6cd84e0a965b5ae7b88cbc23"
          ]
        },
        "outputId": "0b02e82f-fe0d-4d0d-b71e-876dc7ee673b"
      },
      "source": [
        "# instead of using spacy tokenizer, we will make use of the preprocessing and tokenizer in the python package from huggingface\n",
        "from transformers import TFBertModel, BertConfig, BertTokenizerFast\n",
        "\n",
        "# use the uncased bert model\n",
        "config = BertConfig.from_pretrained('bert-base-uncased')\n",
        "\n",
        "# set the output_hidden_state to false since we have 4 different classes with their respective labels AND we want to define our own hidden layers\n",
        "config.output_hidden_states = False\n",
        "\n",
        "# load the BERT tokenizer first. BertTokenizerFast tokenize faster than BertTokenizer as it uses Rust\n",
        "tokenizer = BertTokenizerFast.from_pretrained(pretrained_model_name_or_path='bert-base-uncased', config=config)"
      ],
      "execution_count": 26,
      "outputs": [
        {
          "output_type": "display_data",
          "data": {
            "application/vnd.jupyter.widget-view+json": {
              "model_id": "b2f64dcb942547c5969665ed02305293",
              "version_minor": 0,
              "version_major": 2
            },
            "text/plain": [
              "HBox(children=(FloatProgress(value=0.0, description='Downloading', max=570.0, style=ProgressStyle(description_…"
            ]
          },
          "metadata": {
            "tags": []
          }
        },
        {
          "output_type": "stream",
          "text": [
            "\n"
          ],
          "name": "stdout"
        },
        {
          "output_type": "display_data",
          "data": {
            "application/vnd.jupyter.widget-view+json": {
              "model_id": "68664dc0713849ba845b2a5201b9a6d2",
              "version_minor": 0,
              "version_major": 2
            },
            "text/plain": [
              "HBox(children=(FloatProgress(value=0.0, description='Downloading', max=231508.0, style=ProgressStyle(descripti…"
            ]
          },
          "metadata": {
            "tags": []
          }
        },
        {
          "output_type": "stream",
          "text": [
            "\n"
          ],
          "name": "stdout"
        },
        {
          "output_type": "display_data",
          "data": {
            "application/vnd.jupyter.widget-view+json": {
              "model_id": "f7514250c02b49f2a412041bd541f496",
              "version_minor": 0,
              "version_major": 2
            },
            "text/plain": [
              "HBox(children=(FloatProgress(value=0.0, description='Downloading', max=466062.0, style=ProgressStyle(descripti…"
            ]
          },
          "metadata": {
            "tags": []
          }
        },
        {
          "output_type": "stream",
          "text": [
            "\n"
          ],
          "name": "stdout"
        },
        {
          "output_type": "display_data",
          "data": {
            "application/vnd.jupyter.widget-view+json": {
              "model_id": "fcd35022358745cfa611331783c46c05",
              "version_minor": 0,
              "version_major": 2
            },
            "text/plain": [
              "HBox(children=(FloatProgress(value=0.0, description='Downloading', max=28.0, style=ProgressStyle(description_w…"
            ]
          },
          "metadata": {
            "tags": []
          }
        },
        {
          "output_type": "stream",
          "text": [
            "\n"
          ],
          "name": "stdout"
        }
      ]
    },
    {
      "cell_type": "code",
      "metadata": {
        "id": "oEEeN1R_l8Oa"
      },
      "source": [
        "# # import required libraries \n",
        "# from spacy.language import Language\n",
        "# from spacy.tokens import Doc\n",
        "# from spacy.lang.char_classes import ALPHA, ALPHA_LOWER, ALPHA_UPPER, CONCAT_QUOTES, LIST_ELLIPSES, LIST_ICONS\n",
        "# from spacy.util import compile_infix_regex\n",
        "\n",
        "# # initialise nlp engine\n",
        "# nlp = spacy.load(\"en_core_web_lg\")\n",
        "\n",
        "# # declare custom properties\n",
        "# Doc.set_extension('processed', default=True, force=True)\n",
        "\n",
        "# # Modify tokenizer infix patterns\n",
        "# infixes = (\n",
        "#     LIST_ELLIPSES\n",
        "#     + LIST_ICONS\n",
        "#     + [\n",
        "#         r\"(?<=[0-9])[+\\-\\*^](?=[0-9-])\",\n",
        "#         r\"(?<=[{al}{q}])\\.(?=[{au}{q}])\".format(\n",
        "#             al=ALPHA_LOWER, au=ALPHA_UPPER, q=CONCAT_QUOTES\n",
        "#         ),\n",
        "#         r\"(?<=[{a}]),(?=[{a}])\".format(a=ALPHA),\n",
        "#         r\"(?<=[{a}0-9])[:<>=/](?=[{a}])\".format(a=ALPHA),\n",
        "#     ]\n",
        "# )\n",
        "\n",
        "# infix_re = compile_infix_regex(infixes)\n",
        "# nlp.tokenizer.infix_finditer = infix_re.finditer\n",
        "\n",
        "# # custom retokenizer\n",
        "# @Language.component('custom_retokenizer')\n",
        "# def custom_retoken(doc):\n",
        "#     doc_text = doc.text.upper()\n",
        "#     doc_split = [i.text.upper() for i in doc]\n",
        "#     temp_kw = [i.lstrip().rstrip() for i in keywords_masterlist if len(i.lstrip().rstrip().split(' ')) > 1]\n",
        "#     for token in temp_kw:\n",
        "#         token_length = len(token.split(' '))\n",
        "#         token_split = token.split(' ')\n",
        "#         if token in doc_text and token_split[0] in doc_split:\n",
        "#             merge_pos = doc_split.index(token_split[0])\n",
        "#             with doc.retokenize() as retokenizer:\n",
        "#                 try:\n",
        "#                     retokenizer.merge(doc[merge_pos:merge_pos + token_length], attrs={'LEMMA' : token.lower()})\n",
        "#                 except:\n",
        "#                     print(merge_pos, merge_pos+token_length)\n",
        "\n",
        "#     return doc\n",
        "\n",
        "# # custom lemmatizer\n",
        "# @Language.component(\"custom_preprocess\")\n",
        "# def custom_preprocess(doc):\n",
        "#     temp = []\n",
        "#     # filter through each token and add to preprocessed text if requirements met.\n",
        "#     for t in doc:\n",
        "#         if (not t.is_punct and not t.like_num and not t.is_stop and not t.is_digit and not (t.ent_type == 396 or t.ent_type == 397)):\n",
        "#             temp.append(t.lemma_.lower())\n",
        "\n",
        "#     temp = ' '.join(temp)\n",
        "#     doc._.processed = temp\n",
        "\n",
        "#     return doc\n",
        "\n",
        "# # add custom pipeline components to default pipeline\n",
        "# nlp.add_pipe('custom_retokenizer')\n",
        "# nlp.add_pipe('custom_preprocess', last=True)"
      ],
      "execution_count": 27,
      "outputs": []
    },
    {
      "cell_type": "code",
      "metadata": {
        "id": "WvUk_jkUm5HT"
      },
      "source": [
        "# # run the pipeline on data\n",
        "# processed_doc = list(nlp.pipe(df_valid['Company Profile Information']))"
      ],
      "execution_count": 28,
      "outputs": []
    },
    {
      "cell_type": "code",
      "metadata": {
        "id": "XqTnQObwnwq2"
      },
      "source": [
        "# # get a view of the entity visualizer\n",
        "# from spacy import displacy\n",
        "# displacy.render(processed_doc[4], style=\"ent\", jupyter=True)"
      ],
      "execution_count": 29,
      "outputs": []
    },
    {
      "cell_type": "code",
      "metadata": {
        "id": "HYiznpTKoaco"
      },
      "source": [
        "# # add lemmatised words to dataframe\n",
        "# df_valid['processed'] = [doc._.processed for doc in processed_doc]\n",
        "\n",
        "# df_valid"
      ],
      "execution_count": 30,
      "outputs": []
    },
    {
      "cell_type": "markdown",
      "metadata": {
        "id": "RB67NQ3P3bbe"
      },
      "source": [
        "### 4.7. Preprocessing data for validation testset.\n",
        "\n",
        "---\n",
        "\n",
        "We will perform data preprocessing for the validation testset."
      ]
    },
    {
      "cell_type": "code",
      "metadata": {
        "id": "ipFt_Fgx3kWS"
      },
      "source": [
        "df_test.replace('NAN', np.NaN, inplace=True)\n",
        "\n",
        "# drop unnecessary columns\n",
        "df_test.drop(rows_to_drop, axis=1, inplace=True)\n",
        "\n",
        "# replace newline characters in validation data\n",
        "df_test = df_test = df_test.replace('\\n', ' ', regex=True)\n",
        "\n",
        "# fill in NAN values in validation data\n",
        "df_test.fillna(' ', inplace=True)\n",
        "\n",
        "# change dtype of validation data columns\n",
        "for i in columns_to_convert:\n",
        "    df_valid[i] = df_valid[i].astype(str)\n",
        "\n",
        "# add tags to validation data\n",
        "taglist_df = []\n",
        "# process tags for records\n",
        "for index, row in df_test.iterrows():\n",
        "    temp = []\n",
        "\n",
        "    try: # for error handling\n",
        "        temp.append(np.where(sector == row['Sector'])[0][0])\n",
        "        temp.append(np.where(subsector == row['Subsector'])[0][0])\n",
        "        temp.append(np.where(archetype == row['Archetype'])[0][0])\n",
        "        temp.append(np.where(valuechain == row['Valuechain'])[0][0])\n",
        "\n",
        "        taglist_df.append(temp)\n",
        "    except Exception as e:\n",
        "        # drop data if not valid\n",
        "        print(row.name, e, '\\n')\n",
        "        df_test.drop(index, inplace=True)\n",
        "\n",
        "df_test['list_tag'] = taglist_df\n",
        "\n",
        "# # run spacy on validation data\n",
        "# evaluate_doc = list(nlp.pipe(df_test['Company Profile Information']))\n",
        "\n",
        "# # add spacy processed words and vectors to validation dataframe\n",
        "# df_test['processed'] = [doc._.processed for doc in evaluate_doc]"
      ],
      "execution_count": 31,
      "outputs": []
    },
    {
      "cell_type": "markdown",
      "metadata": {
        "id": "4RJiqV_Dzf8Y"
      },
      "source": [
        "### 4.8. Preparing data for BERT\n",
        "\n",
        "---\n",
        "\n",
        "Now we will start to partition the data for BERT."
      ]
    },
    {
      "cell_type": "code",
      "metadata": {
        "id": "tDgyFNp05bhO"
      },
      "source": [
        "# randomise dataset first here\n",
        "df_train_rand = df_valid.sample(frac=1).reset_index(drop=True)\n",
        "df_test_rand = df_test.sample(frac=1).reset_index(drop=True)"
      ],
      "execution_count": 32,
      "outputs": []
    },
    {
      "cell_type": "code",
      "metadata": {
        "id": "qntLAgl7C60Y"
      },
      "source": [
        "# drop the length column section from the train_rand df since its not necessary\n",
        "df_train_rand.drop(['length'], axis=1, inplace=True)\n",
        "\n",
        "# define one hot encode function\n",
        "def one_hot(arr, n_cat):\n",
        "    output = []\n",
        "    for n in arr:\n",
        "        result = np.zeros(n_cat)\n",
        "        result[n] = 1\n",
        "\n",
        "        output.append(result)\n",
        "\n",
        "    return np.array(output, dtype=int)"
      ],
      "execution_count": 33,
      "outputs": []
    },
    {
      "cell_type": "code",
      "metadata": {
        "id": "NDCPb4aQBmtQ"
      },
      "source": [
        "# split into data and labels\n",
        "from keras.preprocessing import sequence\n",
        "\n",
        "X_train = tokenizer(text=df_train_rand['Company Profile Information'].to_list(),\n",
        "                    add_special_tokens=True, # add special tokens like [SEP] and others\n",
        "                    max_length=100,  # this is the max length of the sentence-to-be-token\n",
        "                    truncation=True,\n",
        "                    padding=True,\n",
        "                    return_tensors='tf', # to return it as tf tensors to feed into keras API\n",
        "                    return_token_type_ids=False,\n",
        "                    return_attention_mask=True, # generate attention mask\n",
        "                    verbose=True)\n",
        "\n",
        "X_test = tokenizer(text=df_test_rand['Company Profile Information'].to_list(),\n",
        "                   add_special_tokens=True,\n",
        "                   max_length=100,  # we use the max length that BERT can handle\n",
        "                   truncation=True,\n",
        "                   padding=True,\n",
        "                   return_tensors='tf',\n",
        "                   return_token_type_ids=False,\n",
        "                   return_attention_mask=True,\n",
        "                   verbose=True)\n",
        "\n",
        "y_train = np.array(list(df_train_rand['list_tag']))\n",
        "y_test = np.array(list(df_test_rand['list_tag']))"
      ],
      "execution_count": 34,
      "outputs": []
    },
    {
      "cell_type": "code",
      "metadata": {
        "colab": {
          "base_uri": "https://localhost:8080/"
        },
        "id": "MYtH08ZsbW8J",
        "outputId": "41a56097-e5da-4a46-a7b7-85b57d37c817"
      },
      "source": [
        "# have a view of the input_ids\n",
        "X_train['input_ids']"
      ],
      "execution_count": 35,
      "outputs": [
        {
          "output_type": "execute_result",
          "data": {
            "text/plain": [
              "<tf.Tensor: shape=(5745, 100), dtype=int32, numpy=\n",
              "array([[  101,  3449,  5937, ...,  1012,   102,     0],\n",
              "       [  101,  1015,  1012, ...,     0,     0,     0],\n",
              "       [  101,  2055,  4206, ...,     0,     0,     0],\n",
              "       ...,\n",
              "       [  101,  3225,  2041, ..., 27258, 11679,   102],\n",
              "       [  101,  1996,  2194, ...,     0,     0,     0],\n",
              "       [  101,  2060,  3173, ...,     0,     0,     0]], dtype=int32)>"
            ]
          },
          "metadata": {
            "tags": []
          },
          "execution_count": 35
        }
      ]
    },
    {
      "cell_type": "code",
      "metadata": {
        "colab": {
          "base_uri": "https://localhost:8080/"
        },
        "id": "JkbBlw5JaCXB",
        "outputId": "27376409-226a-4d25-f589-d5d02f3a7f3d"
      },
      "source": [
        "# have a view of the attention_mask.\n",
        "# The “attention mask” tells the model which tokens should be attended to and which (the [PAD] tokens) should not (see the documentation for more detail). It will be needed when we feed the input into the BERT model.\n",
        "X_train['attention_mask']"
      ],
      "execution_count": 36,
      "outputs": [
        {
          "output_type": "execute_result",
          "data": {
            "text/plain": [
              "<tf.Tensor: shape=(5745, 100), dtype=int32, numpy=\n",
              "array([[1, 1, 1, ..., 1, 1, 0],\n",
              "       [1, 1, 1, ..., 0, 0, 0],\n",
              "       [1, 1, 1, ..., 0, 0, 0],\n",
              "       ...,\n",
              "       [1, 1, 1, ..., 1, 1, 1],\n",
              "       [1, 1, 1, ..., 0, 0, 0],\n",
              "       [1, 1, 1, ..., 0, 0, 0]], dtype=int32)>"
            ]
          },
          "metadata": {
            "tags": []
          },
          "execution_count": 36
        }
      ]
    },
    {
      "cell_type": "code",
      "metadata": {
        "id": "iAkbAY2FEsXq"
      },
      "source": [
        "label_names = ['sector', 'subsector', 'archetype', 'valuechain']\n",
        "\n",
        "y_train_multi = {label_names[i] : one_hot(y_train[:, i], tag_counts[i]) for i in range(4)}\n",
        "y_test_multi = {label_names[i] : one_hot(y_test[:, i], tag_counts[i]) for i in range(4)}"
      ],
      "execution_count": 37,
      "outputs": []
    },
    {
      "cell_type": "markdown",
      "metadata": {
        "id": "nYiY5zkc2fs9"
      },
      "source": [
        "---\n",
        "---"
      ]
    },
    {
      "cell_type": "markdown",
      "metadata": {
        "id": "uXPxFhqqgX9f"
      },
      "source": [
        "# 5.BERT model\n",
        "---\n",
        "Here we will train the model that will help categorize each company."
      ]
    },
    {
      "cell_type": "markdown",
      "metadata": {
        "id": "QhjAJFR4NOq9"
      },
      "source": [
        "### 5.1. Training Models\n",
        "\n",
        "---\n",
        "\n",
        "Now we will put in the BERT model using Keras Functional API and train it."
      ]
    },
    {
      "cell_type": "code",
      "metadata": {
        "colab": {
          "base_uri": "https://localhost:8080/"
        },
        "id": "hi2lRa6pgWtj",
        "outputId": "a9dd5302-c601-4652-b148-5fd03346a9a8"
      },
      "source": [
        "import keras\n",
        "\n",
        "print('--- Version Checking ---')\n",
        "print(\"Keras:\", keras.__version__)"
      ],
      "execution_count": 38,
      "outputs": [
        {
          "output_type": "stream",
          "text": [
            "--- Version Checking ---\n",
            "Keras: 2.5.0\n"
          ],
          "name": "stdout"
        }
      ]
    },
    {
      "cell_type": "code",
      "metadata": {
        "colab": {
          "base_uri": "https://localhost:8080/",
          "height": 170,
          "referenced_widgets": [
            "ea0914748a2149f8b6b949bab5167f9e",
            "c015fe73b5dd40deacd1e36a950ed7b3",
            "631f386fbfaf4ea3864b9a23c0126141",
            "7583631ee0a545a59bfb973e62a71eba",
            "a13ad766c3144481ba04040922003f61",
            "282a047b8cb04091a80ebab7bc9aa14f",
            "01d00932e7fc4c06b655dddaab19fc39",
            "0aa646f26e8142389616f01a45bad18b"
          ]
        },
        "id": "4BAuS_IgFeRF",
        "outputId": "ee70e826-3a0d-422d-e23d-ff478abac523"
      },
      "source": [
        "# preload the BERT transformer model\n",
        "transformer_model = TFBertModel.from_pretrained('bert-base-uncased', config=config)"
      ],
      "execution_count": 39,
      "outputs": [
        {
          "output_type": "display_data",
          "data": {
            "application/vnd.jupyter.widget-view+json": {
              "model_id": "ea0914748a2149f8b6b949bab5167f9e",
              "version_minor": 0,
              "version_major": 2
            },
            "text/plain": [
              "HBox(children=(FloatProgress(value=0.0, description='Downloading', max=536063208.0, style=ProgressStyle(descri…"
            ]
          },
          "metadata": {
            "tags": []
          }
        },
        {
          "output_type": "stream",
          "text": [
            "\n"
          ],
          "name": "stdout"
        },
        {
          "output_type": "stream",
          "text": [
            "Some layers from the model checkpoint at bert-base-uncased were not used when initializing TFBertModel: ['nsp___cls', 'mlm___cls']\n",
            "- This IS expected if you are initializing TFBertModel from the checkpoint of a model trained on another task or with another architecture (e.g. initializing a BertForSequenceClassification model from a BertForPreTraining model).\n",
            "- This IS NOT expected if you are initializing TFBertModel from the checkpoint of a model that you expect to be exactly identical (initializing a BertForSequenceClassification model from a BertForSequenceClassification model).\n",
            "All the layers of TFBertModel were initialized from the model checkpoint at bert-base-uncased.\n",
            "If your task is similar to the task the model of the checkpoint was trained on, you can already use TFBertModel for predictions without further training.\n"
          ],
          "name": "stderr"
        }
      ]
    },
    {
      "cell_type": "code",
      "metadata": {
        "id": "XlbgxsopcP3r"
      },
      "source": [
        "from tensorflow.keras.regularizers import l2\n",
        "from tensorflow.keras.layers import Conv1D, Dense, Dropout, MaxPooling1D, GlobalAveragePooling1D, Input, Lambda, Embedding\n",
        "from tensorflow.keras.layers import ReLU, BatchNormalization, Activation\n",
        "from tensorflow.keras import Sequential\n",
        "from tensorflow.keras.models import Model\n",
        "from tensorflow.keras.initializers import TruncatedNormal\n",
        "\n",
        "# create mulit output model\n",
        "def multi_branch(inputs, name, output_dim, counter):\n",
        "\n",
        "  # Load the Transformers BERT model as a layer in a Keras model\n",
        "  bert = transformer_model.layers[0]\n",
        "  bert_model = bert(inputs)[1]\n",
        "  dropout = Dropout(config.hidden_dropout_prob, name=\"pooled_output_{}\".format(counter+1))\n",
        "  pooled_output = dropout(bert_model, training=False)\n",
        "\n",
        "  # build the model output\n",
        "  output = Dense(output_dim, kernel_initializer=TruncatedNormal(stddev=config.initializer_range), name=name)(pooled_output)\n",
        "  \n",
        "  return output"
      ],
      "execution_count": 40,
      "outputs": []
    },
    {
      "cell_type": "code",
      "metadata": {
        "id": "xu5kLprzcP1q"
      },
      "source": [
        "# create the multi output branches\n",
        "def create_model(labels, output_dim):\n",
        "  # input\n",
        "  input_ids = Input(shape=(100,), name='input_ids', dtype='int32')\n",
        "  attention_mask = Input(shape=(100,), name='attention_mask', dtype='int32') \n",
        "  inputs = {'input_ids': input_ids, 'attention_mask': attention_mask}\n",
        "\n",
        "  # create the respective branches for the outputs\n",
        "  branches = []\n",
        "\n",
        "  for i in range(len(labels)):\n",
        "    branches.append(multi_branch(inputs, labels[i], output_dim[i], i))\n",
        "\n",
        "  # fit the entire model into keras Model class\n",
        "  model = Model(inputs=inputs, outputs=branches, name='company_classification_model')\n",
        "\n",
        "  return model"
      ],
      "execution_count": 41,
      "outputs": []
    },
    {
      "cell_type": "code",
      "metadata": {
        "id": "yvvvTNk1cPro",
        "colab": {
          "base_uri": "https://localhost:8080/"
        },
        "outputId": "868fcb29-d82b-46d8-eab0-e08f05c4d2c3"
      },
      "source": [
        "# create the model\n",
        "model = create_model(label_names, tag_counts)\n",
        "\n",
        "# print model summary\n",
        "model.summary()"
      ],
      "execution_count": 42,
      "outputs": [
        {
          "output_type": "stream",
          "text": [
            "WARNING:tensorflow:From /usr/local/lib/python3.7/dist-packages/tensorflow/python/ops/array_ops.py:5049: calling gather (from tensorflow.python.ops.array_ops) with validate_indices is deprecated and will be removed in a future version.\n",
            "Instructions for updating:\n",
            "The `validate_indices` argument has no effect. Indices are always validated on CPU and never validated on GPU.\n",
            "Model: \"company_classification_model\"\n",
            "__________________________________________________________________________________________________\n",
            "Layer (type)                    Output Shape         Param #     Connected to                     \n",
            "==================================================================================================\n",
            "attention_mask (InputLayer)     [(None, 100)]        0                                            \n",
            "__________________________________________________________________________________________________\n",
            "input_ids (InputLayer)          [(None, 100)]        0                                            \n",
            "__________________________________________________________________________________________________\n",
            "bert (TFBertMainLayer)          TFBaseModelOutputWit 109482240   attention_mask[0][0]             \n",
            "                                                                 input_ids[0][0]                  \n",
            "                                                                 attention_mask[0][0]             \n",
            "                                                                 input_ids[0][0]                  \n",
            "                                                                 attention_mask[0][0]             \n",
            "                                                                 input_ids[0][0]                  \n",
            "                                                                 attention_mask[0][0]             \n",
            "                                                                 input_ids[0][0]                  \n",
            "__________________________________________________________________________________________________\n",
            "pooled_output_1 (Dropout)       (None, 768)          0           bert[0][1]                       \n",
            "__________________________________________________________________________________________________\n",
            "pooled_output_2 (Dropout)       (None, 768)          0           bert[1][1]                       \n",
            "__________________________________________________________________________________________________\n",
            "pooled_output_3 (Dropout)       (None, 768)          0           bert[2][1]                       \n",
            "__________________________________________________________________________________________________\n",
            "pooled_output_4 (Dropout)       (None, 768)          0           bert[3][1]                       \n",
            "__________________________________________________________________________________________________\n",
            "sector (Dense)                  (None, 7)            5383        pooled_output_1[0][0]            \n",
            "__________________________________________________________________________________________________\n",
            "subsector (Dense)               (None, 32)           24608       pooled_output_2[0][0]            \n",
            "__________________________________________________________________________________________________\n",
            "archetype (Dense)               (None, 92)           70748       pooled_output_3[0][0]            \n",
            "__________________________________________________________________________________________________\n",
            "valuechain (Dense)              (None, 9)            6921        pooled_output_4[0][0]            \n",
            "==================================================================================================\n",
            "Total params: 109,589,900\n",
            "Trainable params: 109,589,900\n",
            "Non-trainable params: 0\n",
            "__________________________________________________________________________________________________\n"
          ],
          "name": "stdout"
        }
      ]
    },
    {
      "cell_type": "code",
      "metadata": {
        "id": "1Rh4NzwJcPpp",
        "colab": {
          "base_uri": "https://localhost:8080/",
          "height": 279
        },
        "outputId": "bae3f371-3c0c-4e91-e03b-94e68bb01737"
      },
      "source": [
        "tf.keras.utils.plot_model(model, show_shapes=True)"
      ],
      "execution_count": 43,
      "outputs": [
        {
          "output_type": "execute_result",
          "data": {
            "image/png": "[encoded data removed]",
            "text/plain": [
              "<IPython.core.display.Image object>"
            ]
          },
          "metadata": {
            "tags": []
          },
          "execution_count": 43
        }
      ]
    },
    {
      "cell_type": "code",
      "metadata": {
        "id": "sU_cI9a-uk9L",
        "colab": {
          "base_uri": "https://localhost:8080/",
          "height": 572
        },
        "outputId": "ed0ea4d6-5fa1-4931-d4af-92854d8b781a"
      },
      "source": [
        "from tensorflow.keras.metrics import Precision, Recall, AUC\n",
        "from tensorflow.keras.optimizers import SGD, Adam\n",
        "from tensorflow.keras.callbacks import EarlyStopping\n",
        "\n",
        "# setting optimizer\n",
        "opt = Adam(learning_rate=5e-05, epsilon=1e-08, decay=0.01, clipnorm=1.0)\n",
        "\n",
        "# defining loss\n",
        "losses = {i : 'categorical_crossentropy' for i in label_names}\n",
        "\n",
        "# model compile\n",
        "model.compile(loss=losses, optimizer=opt, metrics=['accuracy', Precision(), Recall(), AUC(name='auc_precision_recall', num_thresholds=10000)])\n",
        "\n",
        "# train model\n",
        "history = model.fit({'input_ids': X_train['input_ids'], 'attention_mask': X_train['attention_mask']}, y_train_multi, validation_split=0.2, epochs=10, batch_size=8, verbose=1)"
      ],
      "execution_count": 44,
      "outputs": [
        {
          "output_type": "stream",
          "text": [
            "Epoch 1/10\n"
          ],
          "name": "stdout"
        },
        {
          "output_type": "error",
          "ename": "InvalidArgumentError",
          "evalue": "ignored",
          "traceback": [
            "\u001b[0;31m---------------------------------------------------------------------------\u001b[0m",
            "\u001b[0;31mInvalidArgumentError\u001b[0m                      Traceback (most recent call last)",
            "\u001b[0;32m<ipython-input-44-3ea915353304>\u001b[0m in \u001b[0;36m<module>\u001b[0;34m()\u001b[0m\n\u001b[1;32m     13\u001b[0m \u001b[0;34m\u001b[0m\u001b[0m\n\u001b[1;32m     14\u001b[0m \u001b[0;31m# train model\u001b[0m\u001b[0;34m\u001b[0m\u001b[0;34m\u001b[0m\u001b[0;34m\u001b[0m\u001b[0m\n\u001b[0;32m---> 15\u001b[0;31m \u001b[0mhistory\u001b[0m \u001b[0;34m=\u001b[0m \u001b[0mmodel\u001b[0m\u001b[0;34m.\u001b[0m\u001b[0mfit\u001b[0m\u001b[0;34m(\u001b[0m\u001b[0;34m{\u001b[0m\u001b[0;34m'input_ids'\u001b[0m\u001b[0;34m:\u001b[0m \u001b[0mX_train\u001b[0m\u001b[0;34m[\u001b[0m\u001b[0;34m'input_ids'\u001b[0m\u001b[0;34m]\u001b[0m\u001b[0;34m,\u001b[0m \u001b[0;34m'attention_mask'\u001b[0m\u001b[0;34m:\u001b[0m \u001b[0mX_train\u001b[0m\u001b[0;34m[\u001b[0m\u001b[0;34m'attention_mask'\u001b[0m\u001b[0;34m]\u001b[0m\u001b[0;34m}\u001b[0m\u001b[0;34m,\u001b[0m \u001b[0my_train_multi\u001b[0m\u001b[0;34m,\u001b[0m \u001b[0mvalidation_split\u001b[0m\u001b[0;34m=\u001b[0m\u001b[0;36m0.2\u001b[0m\u001b[0;34m,\u001b[0m \u001b[0mepochs\u001b[0m\u001b[0;34m=\u001b[0m\u001b[0;36m10\u001b[0m\u001b[0;34m,\u001b[0m \u001b[0mbatch_size\u001b[0m\u001b[0;34m=\u001b[0m\u001b[0;36m8\u001b[0m\u001b[0;34m,\u001b[0m \u001b[0mverbose\u001b[0m\u001b[0;34m=\u001b[0m\u001b[0;36m1\u001b[0m\u001b[0;34m)\u001b[0m\u001b[0;34m\u001b[0m\u001b[0;34m\u001b[0m\u001b[0m\n\u001b[0m",
            "\u001b[0;32m/usr/local/lib/python3.7/dist-packages/tensorflow/python/keras/engine/training.py\u001b[0m in \u001b[0;36mfit\u001b[0;34m(self, x, y, batch_size, epochs, verbose, callbacks, validation_split, validation_data, shuffle, class_weight, sample_weight, initial_epoch, steps_per_epoch, validation_steps, validation_batch_size, validation_freq, max_queue_size, workers, use_multiprocessing)\u001b[0m\n\u001b[1;32m   1181\u001b[0m                 _r=1):\n\u001b[1;32m   1182\u001b[0m               \u001b[0mcallbacks\u001b[0m\u001b[0;34m.\u001b[0m\u001b[0mon_train_batch_begin\u001b[0m\u001b[0;34m(\u001b[0m\u001b[0mstep\u001b[0m\u001b[0;34m)\u001b[0m\u001b[0;34m\u001b[0m\u001b[0;34m\u001b[0m\u001b[0m\n\u001b[0;32m-> 1183\u001b[0;31m               \u001b[0mtmp_logs\u001b[0m \u001b[0;34m=\u001b[0m \u001b[0mself\u001b[0m\u001b[0;34m.\u001b[0m\u001b[0mtrain_function\u001b[0m\u001b[0;34m(\u001b[0m\u001b[0miterator\u001b[0m\u001b[0;34m)\u001b[0m\u001b[0;34m\u001b[0m\u001b[0;34m\u001b[0m\u001b[0m\n\u001b[0m\u001b[1;32m   1184\u001b[0m               \u001b[0;32mif\u001b[0m \u001b[0mdata_handler\u001b[0m\u001b[0;34m.\u001b[0m\u001b[0mshould_sync\u001b[0m\u001b[0;34m:\u001b[0m\u001b[0;34m\u001b[0m\u001b[0;34m\u001b[0m\u001b[0m\n\u001b[1;32m   1185\u001b[0m                 \u001b[0mcontext\u001b[0m\u001b[0;34m.\u001b[0m\u001b[0masync_wait\u001b[0m\u001b[0;34m(\u001b[0m\u001b[0;34m)\u001b[0m\u001b[0;34m\u001b[0m\u001b[0;34m\u001b[0m\u001b[0m\n",
            "\u001b[0;32m/usr/local/lib/python3.7/dist-packages/tensorflow/python/eager/def_function.py\u001b[0m in \u001b[0;36m__call__\u001b[0;34m(self, *args, **kwds)\u001b[0m\n\u001b[1;32m    887\u001b[0m \u001b[0;34m\u001b[0m\u001b[0m\n\u001b[1;32m    888\u001b[0m       \u001b[0;32mwith\u001b[0m \u001b[0mOptionalXlaContext\u001b[0m\u001b[0;34m(\u001b[0m\u001b[0mself\u001b[0m\u001b[0;34m.\u001b[0m\u001b[0m_jit_compile\u001b[0m\u001b[0;34m)\u001b[0m\u001b[0;34m:\u001b[0m\u001b[0;34m\u001b[0m\u001b[0;34m\u001b[0m\u001b[0m\n\u001b[0;32m--> 889\u001b[0;31m         \u001b[0mresult\u001b[0m \u001b[0;34m=\u001b[0m \u001b[0mself\u001b[0m\u001b[0;34m.\u001b[0m\u001b[0m_call\u001b[0m\u001b[0;34m(\u001b[0m\u001b[0;34m*\u001b[0m\u001b[0margs\u001b[0m\u001b[0;34m,\u001b[0m \u001b[0;34m**\u001b[0m\u001b[0mkwds\u001b[0m\u001b[0;34m)\u001b[0m\u001b[0;34m\u001b[0m\u001b[0;34m\u001b[0m\u001b[0m\n\u001b[0m\u001b[1;32m    890\u001b[0m \u001b[0;34m\u001b[0m\u001b[0m\n\u001b[1;32m    891\u001b[0m       \u001b[0mnew_tracing_count\u001b[0m \u001b[0;34m=\u001b[0m \u001b[0mself\u001b[0m\u001b[0;34m.\u001b[0m\u001b[0mexperimental_get_tracing_count\u001b[0m\u001b[0;34m(\u001b[0m\u001b[0;34m)\u001b[0m\u001b[0;34m\u001b[0m\u001b[0;34m\u001b[0m\u001b[0m\n",
            "\u001b[0;32m/usr/local/lib/python3.7/dist-packages/tensorflow/python/eager/def_function.py\u001b[0m in \u001b[0;36m_call\u001b[0;34m(self, *args, **kwds)\u001b[0m\n\u001b[1;32m    948\u001b[0m         \u001b[0;31m# Lifting succeeded, so variables are initialized and we can run the\u001b[0m\u001b[0;34m\u001b[0m\u001b[0;34m\u001b[0m\u001b[0;34m\u001b[0m\u001b[0m\n\u001b[1;32m    949\u001b[0m         \u001b[0;31m# stateless function.\u001b[0m\u001b[0;34m\u001b[0m\u001b[0;34m\u001b[0m\u001b[0;34m\u001b[0m\u001b[0m\n\u001b[0;32m--> 950\u001b[0;31m         \u001b[0;32mreturn\u001b[0m \u001b[0mself\u001b[0m\u001b[0;34m.\u001b[0m\u001b[0m_stateless_fn\u001b[0m\u001b[0;34m(\u001b[0m\u001b[0;34m*\u001b[0m\u001b[0margs\u001b[0m\u001b[0;34m,\u001b[0m \u001b[0;34m**\u001b[0m\u001b[0mkwds\u001b[0m\u001b[0;34m)\u001b[0m\u001b[0;34m\u001b[0m\u001b[0;34m\u001b[0m\u001b[0m\n\u001b[0m\u001b[1;32m    951\u001b[0m     \u001b[0;32melse\u001b[0m\u001b[0;34m:\u001b[0m\u001b[0;34m\u001b[0m\u001b[0;34m\u001b[0m\u001b[0m\n\u001b[1;32m    952\u001b[0m       \u001b[0m_\u001b[0m\u001b[0;34m,\u001b[0m \u001b[0m_\u001b[0m\u001b[0;34m,\u001b[0m \u001b[0m_\u001b[0m\u001b[0;34m,\u001b[0m \u001b[0mfiltered_flat_args\u001b[0m \u001b[0;34m=\u001b[0m\u001b[0;31m \u001b[0m\u001b[0;31m\\\u001b[0m\u001b[0;34m\u001b[0m\u001b[0;34m\u001b[0m\u001b[0m\n",
            "\u001b[0;32m/usr/local/lib/python3.7/dist-packages/tensorflow/python/eager/function.py\u001b[0m in \u001b[0;36m__call__\u001b[0;34m(self, *args, **kwargs)\u001b[0m\n\u001b[1;32m   3022\u001b[0m        filtered_flat_args) = self._maybe_define_function(args, kwargs)\n\u001b[1;32m   3023\u001b[0m     return graph_function._call_flat(\n\u001b[0;32m-> 3024\u001b[0;31m         filtered_flat_args, captured_inputs=graph_function.captured_inputs)  # pylint: disable=protected-access\n\u001b[0m\u001b[1;32m   3025\u001b[0m \u001b[0;34m\u001b[0m\u001b[0m\n\u001b[1;32m   3026\u001b[0m   \u001b[0;34m@\u001b[0m\u001b[0mproperty\u001b[0m\u001b[0;34m\u001b[0m\u001b[0;34m\u001b[0m\u001b[0m\n",
            "\u001b[0;32m/usr/local/lib/python3.7/dist-packages/tensorflow/python/eager/function.py\u001b[0m in \u001b[0;36m_call_flat\u001b[0;34m(self, args, captured_inputs, cancellation_manager)\u001b[0m\n\u001b[1;32m   1959\u001b[0m       \u001b[0;31m# No tape is watching; skip to running the function.\u001b[0m\u001b[0;34m\u001b[0m\u001b[0;34m\u001b[0m\u001b[0;34m\u001b[0m\u001b[0m\n\u001b[1;32m   1960\u001b[0m       return self._build_call_outputs(self._inference_function.call(\n\u001b[0;32m-> 1961\u001b[0;31m           ctx, args, cancellation_manager=cancellation_manager))\n\u001b[0m\u001b[1;32m   1962\u001b[0m     forward_backward = self._select_forward_and_backward_functions(\n\u001b[1;32m   1963\u001b[0m         \u001b[0margs\u001b[0m\u001b[0;34m,\u001b[0m\u001b[0;34m\u001b[0m\u001b[0;34m\u001b[0m\u001b[0m\n",
            "\u001b[0;32m/usr/local/lib/python3.7/dist-packages/tensorflow/python/eager/function.py\u001b[0m in \u001b[0;36mcall\u001b[0;34m(self, ctx, args, cancellation_manager)\u001b[0m\n\u001b[1;32m    594\u001b[0m               \u001b[0minputs\u001b[0m\u001b[0;34m=\u001b[0m\u001b[0margs\u001b[0m\u001b[0;34m,\u001b[0m\u001b[0;34m\u001b[0m\u001b[0;34m\u001b[0m\u001b[0m\n\u001b[1;32m    595\u001b[0m               \u001b[0mattrs\u001b[0m\u001b[0;34m=\u001b[0m\u001b[0mattrs\u001b[0m\u001b[0;34m,\u001b[0m\u001b[0;34m\u001b[0m\u001b[0;34m\u001b[0m\u001b[0m\n\u001b[0;32m--> 596\u001b[0;31m               ctx=ctx)\n\u001b[0m\u001b[1;32m    597\u001b[0m         \u001b[0;32melse\u001b[0m\u001b[0;34m:\u001b[0m\u001b[0;34m\u001b[0m\u001b[0;34m\u001b[0m\u001b[0m\n\u001b[1;32m    598\u001b[0m           outputs = execute.execute_with_cancellation(\n",
            "\u001b[0;32m/usr/local/lib/python3.7/dist-packages/tensorflow/python/eager/execute.py\u001b[0m in \u001b[0;36mquick_execute\u001b[0;34m(op_name, num_outputs, inputs, attrs, ctx, name)\u001b[0m\n\u001b[1;32m     58\u001b[0m     \u001b[0mctx\u001b[0m\u001b[0;34m.\u001b[0m\u001b[0mensure_initialized\u001b[0m\u001b[0;34m(\u001b[0m\u001b[0;34m)\u001b[0m\u001b[0;34m\u001b[0m\u001b[0;34m\u001b[0m\u001b[0m\n\u001b[1;32m     59\u001b[0m     tensors = pywrap_tfe.TFE_Py_Execute(ctx._handle, device_name, op_name,\n\u001b[0;32m---> 60\u001b[0;31m                                         inputs, attrs, num_outputs)\n\u001b[0m\u001b[1;32m     61\u001b[0m   \u001b[0;32mexcept\u001b[0m \u001b[0mcore\u001b[0m\u001b[0;34m.\u001b[0m\u001b[0m_NotOkStatusException\u001b[0m \u001b[0;32mas\u001b[0m \u001b[0me\u001b[0m\u001b[0;34m:\u001b[0m\u001b[0;34m\u001b[0m\u001b[0;34m\u001b[0m\u001b[0m\n\u001b[1;32m     62\u001b[0m     \u001b[0;32mif\u001b[0m \u001b[0mname\u001b[0m \u001b[0;32mis\u001b[0m \u001b[0;32mnot\u001b[0m \u001b[0;32mNone\u001b[0m\u001b[0;34m:\u001b[0m\u001b[0;34m\u001b[0m\u001b[0;34m\u001b[0m\u001b[0m\n",
            "\u001b[0;31mInvalidArgumentError\u001b[0m: 2 root error(s) found.\n  (0) Invalid argument:  assertion failed: [predictions must be >= 0] [Condition x >= y did not hold element-wise:] [x (company_classification_model/sector/BiasAdd:0) = ] [[-0.0840759 0.146974266 -0.584294736...]...] [y (Cast_10/x:0) = ] [0]\n\t [[{{node assert_greater_equal/Assert/AssertGuard/else/_1/assert_greater_equal/Assert/AssertGuard/Assert}}]]\n\t [[assert_less_equal_1/Assert/AssertGuard/pivot_f/_41/_2119]]\n  (1) Invalid argument:  assertion failed: [predictions must be >= 0] [Condition x >= y did not hold element-wise:] [x (company_classification_model/sector/BiasAdd:0) = ] [[-0.0840759 0.146974266 -0.584294736...]...] [y (Cast_10/x:0) = ] [0]\n\t [[{{node assert_greater_equal/Assert/AssertGuard/else/_1/assert_greater_equal/Assert/AssertGuard/Assert}}]]\n0 successful operations.\n0 derived errors ignored. [Op:__inference_train_function_96031]\n\nFunction call stack:\ntrain_function -> train_function\n"
          ]
        }
      ]
    },
    {
      "cell_type": "markdown",
      "metadata": {
        "id": "BhKZIK81ND8g"
      },
      "source": [
        "### 5.2 Testing Models\n",
        "\n",
        "---\n",
        "\n",
        "After we train finish, we shall now see the accuracy and loss graph to determine model overfitting and how the model turns out to be like."
      ]
    },
    {
      "cell_type": "code",
      "metadata": {
        "colab": {
          "base_uri": "https://localhost:8080/",
          "height": 656
        },
        "id": "i5AR-InYTIZ4",
        "outputId": "54438940-557d-4d6c-f8df-b95613ded83d"
      },
      "source": [
        "# subplots for model accuracies\n",
        "fig = plt.figure(figsize=(23,9))\n",
        "\n",
        "plt.subplot(2,2,1)\n",
        "plt.plot(models[0].history.history['accuracy'])\n",
        "plt.title('Model 1 Accuracy')\n",
        "plt.ylabel('accuracy')\n",
        "plt.xlabel('epoch')\n",
        "plt.legend(['Training accuracy'], loc='best')\n",
        "\n",
        "plt.subplot(2,2,2)\n",
        "plt.plot(models[1].history.history['accuracy'])\n",
        "plt.title('Model 2 Accuracy')\n",
        "plt.ylabel('accuracy')\n",
        "plt.xlabel('epoch')\n",
        "plt.legend(['Training accuracy'], loc='best')\n",
        "\n",
        "plt.subplot(2,2,3)\n",
        "plt.plot(models[2].history.history['accuracy'])\n",
        "plt.title('Model 3 Accuracy')\n",
        "plt.ylabel('accuracy')\n",
        "plt.xlabel('epoch')\n",
        "plt.legend(['Training accuracy'], loc='best')\n",
        "\n",
        "plt.subplot(2,2,4)\n",
        "plt.plot(models[3].history.history['accuracy'])\n",
        "plt.title('Model 4 Accuracy')\n",
        "plt.ylabel('accuracy')\n",
        "plt.xlabel('epoch')\n",
        "plt.legend(['Training accuracy'], loc='best')\n",
        "\n",
        "plt.tight_layout()"
      ],
      "execution_count": null,
      "outputs": [
        {
          "output_type": "display_data",
          "data": {
            "image/png": "[encoded data removed]",
            "text/plain": [
              "<Figure size 1656x648 with 4 Axes>"
            ]
          },
          "metadata": {
            "tags": []
          }
        }
      ]
    },
    {
      "cell_type": "code",
      "metadata": {
        "colab": {
          "base_uri": "https://localhost:8080/",
          "height": 656
        },
        "id": "TRjkonZRZC9E",
        "outputId": "3d43b25c-0ca3-4a8a-dab5-201e0dc2e9c2"
      },
      "source": [
        "# subplot for model loss\n",
        "fig = plt.figure(figsize=(23,9))\n",
        "\n",
        "plt.subplot(2,2,1)\n",
        "plt.plot(models[0].history.history['loss'])\n",
        "plt.title('Model 1 loss')\n",
        "plt.ylabel('loss')\n",
        "plt.xlabel('epoch')\n",
        "plt.legend(['Training loss'], loc='best')\n",
        "\n",
        "plt.subplot(2,2,2)\n",
        "plt.plot(models[1].history.history['loss'])\n",
        "plt.title('Model 2 loss')\n",
        "plt.ylabel('loss')\n",
        "plt.xlabel('epoch')\n",
        "plt.legend(['Training loss'], loc='best')\n",
        "\n",
        "plt.subplot(2,2,3)\n",
        "plt.plot(models[2].history.history['loss'])\n",
        "plt.title('Model 3 loss')\n",
        "plt.ylabel('loss')\n",
        "plt.xlabel('epoch')\n",
        "plt.legend(['Training loss'], loc='best')\n",
        "\n",
        "plt.subplot(2,2,4)\n",
        "plt.plot(models[3].history.history['loss'])\n",
        "plt.title('Model 4 loss')\n",
        "plt.ylabel('loss')\n",
        "plt.xlabel('epoch')\n",
        "plt.legend(['Training loss'], loc='best')\n",
        "\n",
        "plt.tight_layout()"
      ],
      "execution_count": null,
      "outputs": [
        {
          "output_type": "display_data",
          "data": {
            "image/png": "[encoded data removed]",
            "text/plain": [
              "<Figure size 1656x648 with 4 Axes>"
            ]
          },
          "metadata": {
            "tags": []
          }
        }
      ]
    },
    {
      "cell_type": "code",
      "metadata": {
        "colab": {
          "base_uri": "https://localhost:8080/"
        },
        "id": "2c80Fy6oGPr5",
        "outputId": "ef1a33f2-26b4-4810-fa7c-4de41e82ae28"
      },
      "source": [
        "# print the results\n",
        "print(f'Label\\t\\tLoss\\tAccuracy\\tPrecision\\tRecall')\n",
        "for i in range(4):\n",
        "  loss, accuracy, precision, recall = models[i].evaluate(X_test, one_hot(y_test[:,i], tag_counts[i]), verbose=0)\n",
        "  print(f'Model {i+1:<10}{loss:<8.3f}{accuracy:<8.3%}\\t{precision:<9.3f}\\t{recall:<6.3f}')"
      ],
      "execution_count": null,
      "outputs": [
        {
          "output_type": "stream",
          "text": [
            "Label\t\tLoss\tAccuracy\tPrecision\tRecall\n",
            "Model 1         2.242   46.384% \t0.236    \t0.803 \n",
            "Model 2         3.122   31.421% \t0.057    \t0.860 \n",
            "Model 3         4.062   23.940% \t0.019    \t0.868 \n",
            "Model 4         1.781   48.130% \t0.227    \t0.858 \n"
          ],
          "name": "stdout"
        }
      ]
    },
    {
      "cell_type": "code",
      "metadata": {
        "colab": {
          "base_uri": "https://localhost:8080/"
        },
        "id": "HZ3BNe8O4Zul",
        "outputId": "e77f7597-c1ae-493b-fb48-807d2785d8a6"
      },
      "source": [
        "results = sector_model.predict(X_test)\n",
        "results = np.argmax(results, axis=1)\n",
        "\n",
        "for i in range(len(results)):\n",
        "    print(f'Expected: {y_test[i,0]} Got: {results[i]}')"
      ],
      "execution_count": null,
      "outputs": [
        {
          "output_type": "stream",
          "text": [
            "Expected: 2 Got: 6\n",
            "Expected: 3 Got: 1\n",
            "Expected: 1 Got: 1\n",
            "Expected: 5 Got: 1\n",
            "Expected: 2 Got: 1\n",
            "Expected: 1 Got: 1\n",
            "Expected: 4 Got: 1\n",
            "Expected: 2 Got: 2\n",
            "Expected: 3 Got: 1\n",
            "Expected: 3 Got: 4\n",
            "Expected: 6 Got: 1\n",
            "Expected: 0 Got: 1\n",
            "Expected: 3 Got: 1\n",
            "Expected: 5 Got: 6\n",
            "Expected: 3 Got: 1\n",
            "Expected: 2 Got: 1\n",
            "Expected: 1 Got: 1\n",
            "Expected: 1 Got: 1\n",
            "Expected: 4 Got: 1\n",
            "Expected: 3 Got: 3\n",
            "Expected: 3 Got: 3\n",
            "Expected: 6 Got: 6\n",
            "Expected: 0 Got: 3\n",
            "Expected: 5 Got: 5\n",
            "Expected: 1 Got: 1\n",
            "Expected: 1 Got: 1\n",
            "Expected: 1 Got: 1\n",
            "Expected: 0 Got: 1\n",
            "Expected: 3 Got: 3\n",
            "Expected: 1 Got: 1\n",
            "Expected: 1 Got: 1\n",
            "Expected: 1 Got: 1\n",
            "Expected: 4 Got: 4\n",
            "Expected: 1 Got: 3\n",
            "Expected: 2 Got: 1\n",
            "Expected: 6 Got: 3\n",
            "Expected: 5 Got: 1\n",
            "Expected: 4 Got: 4\n",
            "Expected: 6 Got: 1\n",
            "Expected: 2 Got: 1\n",
            "Expected: 4 Got: 1\n",
            "Expected: 2 Got: 2\n",
            "Expected: 4 Got: 3\n",
            "Expected: 4 Got: 4\n",
            "Expected: 0 Got: 4\n",
            "Expected: 4 Got: 4\n",
            "Expected: 4 Got: 2\n",
            "Expected: 4 Got: 4\n",
            "Expected: 2 Got: 2\n",
            "Expected: 1 Got: 1\n",
            "Expected: 3 Got: 3\n",
            "Expected: 4 Got: 5\n",
            "Expected: 1 Got: 1\n",
            "Expected: 1 Got: 1\n",
            "Expected: 2 Got: 4\n",
            "Expected: 0 Got: 4\n",
            "Expected: 5 Got: 1\n",
            "Expected: 1 Got: 1\n",
            "Expected: 0 Got: 6\n",
            "Expected: 1 Got: 1\n",
            "Expected: 2 Got: 6\n",
            "Expected: 4 Got: 2\n",
            "Expected: 1 Got: 1\n",
            "Expected: 1 Got: 1\n",
            "Expected: 0 Got: 6\n",
            "Expected: 1 Got: 1\n",
            "Expected: 1 Got: 1\n",
            "Expected: 3 Got: 1\n",
            "Expected: 2 Got: 6\n",
            "Expected: 3 Got: 3\n",
            "Expected: 6 Got: 1\n",
            "Expected: 1 Got: 1\n",
            "Expected: 1 Got: 1\n",
            "Expected: 2 Got: 1\n",
            "Expected: 4 Got: 6\n",
            "Expected: 6 Got: 1\n",
            "Expected: 6 Got: 1\n",
            "Expected: 0 Got: 6\n",
            "Expected: 0 Got: 2\n",
            "Expected: 3 Got: 3\n",
            "Expected: 4 Got: 1\n",
            "Expected: 1 Got: 1\n",
            "Expected: 1 Got: 1\n",
            "Expected: 2 Got: 6\n",
            "Expected: 6 Got: 6\n",
            "Expected: 6 Got: 4\n",
            "Expected: 0 Got: 1\n",
            "Expected: 0 Got: 0\n",
            "Expected: 5 Got: 5\n",
            "Expected: 4 Got: 6\n",
            "Expected: 1 Got: 1\n",
            "Expected: 3 Got: 1\n",
            "Expected: 1 Got: 1\n",
            "Expected: 1 Got: 1\n",
            "Expected: 5 Got: 5\n",
            "Expected: 1 Got: 1\n",
            "Expected: 2 Got: 1\n",
            "Expected: 1 Got: 1\n",
            "Expected: 0 Got: 1\n",
            "Expected: 4 Got: 4\n",
            "Expected: 6 Got: 6\n",
            "Expected: 4 Got: 2\n",
            "Expected: 4 Got: 6\n",
            "Expected: 1 Got: 1\n",
            "Expected: 1 Got: 1\n",
            "Expected: 1 Got: 1\n",
            "Expected: 3 Got: 3\n",
            "Expected: 2 Got: 1\n",
            "Expected: 0 Got: 1\n",
            "Expected: 4 Got: 1\n",
            "Expected: 1 Got: 1\n",
            "Expected: 4 Got: 1\n",
            "Expected: 2 Got: 2\n",
            "Expected: 1 Got: 1\n",
            "Expected: 1 Got: 1\n",
            "Expected: 5 Got: 5\n",
            "Expected: 0 Got: 3\n",
            "Expected: 3 Got: 1\n",
            "Expected: 5 Got: 3\n",
            "Expected: 2 Got: 6\n",
            "Expected: 6 Got: 1\n",
            "Expected: 0 Got: 6\n",
            "Expected: 1 Got: 0\n",
            "Expected: 5 Got: 4\n",
            "Expected: 2 Got: 1\n",
            "Expected: 6 Got: 1\n",
            "Expected: 1 Got: 1\n",
            "Expected: 0 Got: 1\n",
            "Expected: 2 Got: 3\n",
            "Expected: 5 Got: 1\n",
            "Expected: 2 Got: 4\n",
            "Expected: 1 Got: 1\n",
            "Expected: 4 Got: 6\n",
            "Expected: 4 Got: 3\n",
            "Expected: 2 Got: 1\n",
            "Expected: 5 Got: 4\n",
            "Expected: 4 Got: 1\n",
            "Expected: 1 Got: 4\n",
            "Expected: 1 Got: 1\n",
            "Expected: 4 Got: 3\n",
            "Expected: 6 Got: 1\n",
            "Expected: 1 Got: 1\n",
            "Expected: 1 Got: 1\n",
            "Expected: 2 Got: 2\n",
            "Expected: 4 Got: 6\n",
            "Expected: 6 Got: 6\n",
            "Expected: 6 Got: 5\n",
            "Expected: 2 Got: 1\n",
            "Expected: 3 Got: 3\n",
            "Expected: 5 Got: 1\n",
            "Expected: 5 Got: 5\n",
            "Expected: 2 Got: 2\n",
            "Expected: 3 Got: 3\n",
            "Expected: 2 Got: 1\n",
            "Expected: 2 Got: 2\n",
            "Expected: 2 Got: 1\n",
            "Expected: 1 Got: 1\n",
            "Expected: 4 Got: 3\n",
            "Expected: 3 Got: 2\n",
            "Expected: 4 Got: 0\n",
            "Expected: 6 Got: 6\n",
            "Expected: 1 Got: 1\n",
            "Expected: 4 Got: 1\n",
            "Expected: 3 Got: 1\n",
            "Expected: 2 Got: 1\n",
            "Expected: 1 Got: 1\n",
            "Expected: 5 Got: 1\n",
            "Expected: 1 Got: 2\n",
            "Expected: 1 Got: 1\n",
            "Expected: 2 Got: 3\n",
            "Expected: 1 Got: 1\n",
            "Expected: 1 Got: 1\n",
            "Expected: 5 Got: 4\n",
            "Expected: 4 Got: 1\n",
            "Expected: 1 Got: 1\n",
            "Expected: 0 Got: 2\n",
            "Expected: 2 Got: 2\n",
            "Expected: 6 Got: 6\n",
            "Expected: 3 Got: 3\n",
            "Expected: 1 Got: 1\n",
            "Expected: 4 Got: 4\n",
            "Expected: 0 Got: 1\n",
            "Expected: 6 Got: 6\n",
            "Expected: 1 Got: 1\n",
            "Expected: 2 Got: 1\n",
            "Expected: 2 Got: 3\n",
            "Expected: 4 Got: 6\n",
            "Expected: 6 Got: 6\n",
            "Expected: 0 Got: 6\n",
            "Expected: 2 Got: 2\n",
            "Expected: 5 Got: 1\n",
            "Expected: 0 Got: 1\n",
            "Expected: 3 Got: 1\n",
            "Expected: 2 Got: 2\n",
            "Expected: 4 Got: 1\n",
            "Expected: 4 Got: 3\n",
            "Expected: 1 Got: 1\n",
            "Expected: 0 Got: 0\n",
            "Expected: 5 Got: 0\n",
            "Expected: 2 Got: 1\n",
            "Expected: 4 Got: 0\n",
            "Expected: 3 Got: 1\n",
            "Expected: 1 Got: 2\n",
            "Expected: 3 Got: 3\n",
            "Expected: 0 Got: 4\n",
            "Expected: 3 Got: 1\n",
            "Expected: 0 Got: 4\n",
            "Expected: 0 Got: 2\n",
            "Expected: 5 Got: 5\n",
            "Expected: 5 Got: 4\n",
            "Expected: 5 Got: 1\n",
            "Expected: 2 Got: 3\n",
            "Expected: 1 Got: 1\n",
            "Expected: 2 Got: 2\n",
            "Expected: 5 Got: 4\n",
            "Expected: 4 Got: 1\n",
            "Expected: 6 Got: 6\n",
            "Expected: 5 Got: 3\n",
            "Expected: 3 Got: 4\n",
            "Expected: 1 Got: 1\n",
            "Expected: 4 Got: 1\n",
            "Expected: 6 Got: 6\n",
            "Expected: 3 Got: 1\n",
            "Expected: 2 Got: 2\n",
            "Expected: 1 Got: 1\n",
            "Expected: 3 Got: 1\n",
            "Expected: 2 Got: 1\n",
            "Expected: 3 Got: 1\n",
            "Expected: 1 Got: 1\n",
            "Expected: 2 Got: 4\n",
            "Expected: 2 Got: 2\n",
            "Expected: 3 Got: 1\n",
            "Expected: 1 Got: 1\n",
            "Expected: 1 Got: 1\n",
            "Expected: 4 Got: 3\n",
            "Expected: 1 Got: 1\n",
            "Expected: 5 Got: 1\n",
            "Expected: 3 Got: 1\n",
            "Expected: 0 Got: 1\n",
            "Expected: 1 Got: 6\n",
            "Expected: 3 Got: 3\n",
            "Expected: 4 Got: 1\n",
            "Expected: 0 Got: 3\n",
            "Expected: 1 Got: 1\n",
            "Expected: 1 Got: 1\n",
            "Expected: 1 Got: 1\n",
            "Expected: 3 Got: 3\n",
            "Expected: 1 Got: 1\n",
            "Expected: 1 Got: 1\n",
            "Expected: 5 Got: 4\n",
            "Expected: 6 Got: 6\n",
            "Expected: 3 Got: 2\n",
            "Expected: 2 Got: 2\n",
            "Expected: 4 Got: 3\n",
            "Expected: 1 Got: 1\n",
            "Expected: 3 Got: 3\n",
            "Expected: 6 Got: 6\n",
            "Expected: 2 Got: 2\n",
            "Expected: 2 Got: 2\n",
            "Expected: 1 Got: 1\n",
            "Expected: 6 Got: 6\n",
            "Expected: 1 Got: 1\n",
            "Expected: 1 Got: 1\n",
            "Expected: 2 Got: 1\n",
            "Expected: 3 Got: 1\n",
            "Expected: 6 Got: 1\n",
            "Expected: 1 Got: 1\n",
            "Expected: 4 Got: 1\n",
            "Expected: 5 Got: 2\n",
            "Expected: 0 Got: 6\n",
            "Expected: 5 Got: 5\n",
            "Expected: 1 Got: 1\n",
            "Expected: 0 Got: 1\n",
            "Expected: 1 Got: 1\n",
            "Expected: 1 Got: 1\n",
            "Expected: 1 Got: 1\n",
            "Expected: 3 Got: 3\n",
            "Expected: 2 Got: 3\n",
            "Expected: 1 Got: 1\n",
            "Expected: 2 Got: 2\n",
            "Expected: 0 Got: 1\n",
            "Expected: 2 Got: 1\n",
            "Expected: 2 Got: 4\n",
            "Expected: 5 Got: 6\n",
            "Expected: 5 Got: 1\n",
            "Expected: 2 Got: 2\n",
            "Expected: 3 Got: 1\n",
            "Expected: 3 Got: 1\n",
            "Expected: 5 Got: 3\n",
            "Expected: 1 Got: 1\n",
            "Expected: 1 Got: 1\n",
            "Expected: 1 Got: 1\n",
            "Expected: 0 Got: 0\n",
            "Expected: 3 Got: 3\n",
            "Expected: 4 Got: 1\n",
            "Expected: 1 Got: 1\n",
            "Expected: 3 Got: 1\n",
            "Expected: 0 Got: 0\n",
            "Expected: 2 Got: 4\n",
            "Expected: 2 Got: 6\n",
            "Expected: 0 Got: 6\n",
            "Expected: 3 Got: 3\n",
            "Expected: 1 Got: 5\n",
            "Expected: 1 Got: 1\n",
            "Expected: 2 Got: 3\n",
            "Expected: 1 Got: 1\n",
            "Expected: 1 Got: 1\n",
            "Expected: 2 Got: 2\n",
            "Expected: 1 Got: 1\n",
            "Expected: 5 Got: 5\n",
            "Expected: 6 Got: 1\n",
            "Expected: 6 Got: 1\n",
            "Expected: 1 Got: 1\n",
            "Expected: 5 Got: 2\n",
            "Expected: 1 Got: 1\n",
            "Expected: 0 Got: 1\n",
            "Expected: 4 Got: 1\n",
            "Expected: 1 Got: 1\n",
            "Expected: 0 Got: 1\n",
            "Expected: 5 Got: 4\n",
            "Expected: 1 Got: 1\n",
            "Expected: 1 Got: 1\n",
            "Expected: 1 Got: 1\n",
            "Expected: 5 Got: 3\n",
            "Expected: 6 Got: 1\n",
            "Expected: 4 Got: 1\n",
            "Expected: 6 Got: 1\n",
            "Expected: 1 Got: 1\n",
            "Expected: 0 Got: 1\n",
            "Expected: 5 Got: 6\n",
            "Expected: 3 Got: 1\n",
            "Expected: 1 Got: 1\n",
            "Expected: 1 Got: 1\n",
            "Expected: 6 Got: 6\n",
            "Expected: 1 Got: 6\n",
            "Expected: 5 Got: 4\n",
            "Expected: 1 Got: 2\n",
            "Expected: 6 Got: 3\n",
            "Expected: 1 Got: 1\n",
            "Expected: 1 Got: 1\n",
            "Expected: 0 Got: 2\n",
            "Expected: 3 Got: 3\n",
            "Expected: 1 Got: 2\n",
            "Expected: 0 Got: 1\n",
            "Expected: 1 Got: 6\n",
            "Expected: 1 Got: 1\n",
            "Expected: 4 Got: 1\n",
            "Expected: 0 Got: 1\n",
            "Expected: 2 Got: 2\n",
            "Expected: 1 Got: 1\n",
            "Expected: 5 Got: 1\n",
            "Expected: 1 Got: 1\n",
            "Expected: 1 Got: 1\n",
            "Expected: 2 Got: 1\n",
            "Expected: 4 Got: 2\n",
            "Expected: 0 Got: 4\n",
            "Expected: 2 Got: 2\n",
            "Expected: 0 Got: 5\n",
            "Expected: 1 Got: 1\n",
            "Expected: 5 Got: 5\n",
            "Expected: 1 Got: 1\n",
            "Expected: 0 Got: 1\n",
            "Expected: 1 Got: 1\n",
            "Expected: 6 Got: 6\n",
            "Expected: 1 Got: 1\n",
            "Expected: 6 Got: 0\n",
            "Expected: 5 Got: 1\n",
            "Expected: 3 Got: 6\n",
            "Expected: 0 Got: 1\n",
            "Expected: 0 Got: 4\n",
            "Expected: 3 Got: 2\n",
            "Expected: 6 Got: 6\n",
            "Expected: 1 Got: 1\n",
            "Expected: 1 Got: 1\n",
            "Expected: 2 Got: 6\n",
            "Expected: 1 Got: 1\n",
            "Expected: 3 Got: 3\n",
            "Expected: 2 Got: 4\n",
            "Expected: 2 Got: 2\n",
            "Expected: 6 Got: 6\n",
            "Expected: 3 Got: 1\n",
            "Expected: 0 Got: 1\n",
            "Expected: 1 Got: 1\n",
            "Expected: 4 Got: 1\n",
            "Expected: 6 Got: 1\n",
            "Expected: 0 Got: 3\n",
            "Expected: 1 Got: 3\n",
            "Expected: 3 Got: 3\n",
            "Expected: 1 Got: 1\n",
            "Expected: 3 Got: 1\n",
            "Expected: 4 Got: 4\n",
            "Expected: 1 Got: 1\n",
            "Expected: 6 Got: 1\n",
            "Expected: 1 Got: 1\n",
            "Expected: 3 Got: 3\n",
            "Expected: 4 Got: 4\n",
            "Expected: 5 Got: 4\n",
            "Expected: 5 Got: 1\n",
            "Expected: 6 Got: 1\n",
            "Expected: 3 Got: 2\n",
            "Expected: 2 Got: 6\n"
          ],
          "name": "stdout"
        }
      ]
    },
    {
      "cell_type": "code",
      "metadata": {
        "colab": {
          "base_uri": "https://localhost:8080/"
        },
        "id": "M5hNw2PQyw2Q",
        "outputId": "b38322fd-87cc-43fb-90b8-ed6bfd87af44"
      },
      "source": [
        "results"
      ],
      "execution_count": null,
      "outputs": [
        {
          "output_type": "execute_result",
          "data": {
            "text/plain": [
              "array([[0, 0, 0, ..., 0, 0, 0],\n",
              "       [0, 0, 0, ..., 0, 0, 0],\n",
              "       [0, 0, 0, ..., 0, 0, 0],\n",
              "       ...,\n",
              "       [0, 0, 0, ..., 0, 0, 0],\n",
              "       [0, 0, 0, ..., 0, 0, 0],\n",
              "       [0, 0, 0, ..., 0, 0, 0]])"
            ]
          },
          "metadata": {
            "tags": []
          },
          "execution_count": 275
        }
      ]
    },
    {
      "cell_type": "markdown",
      "metadata": {
        "id": "1aarHE3sNuN1"
      },
      "source": [
        "### 5.3. Saving Models"
      ]
    },
    {
      "cell_type": "code",
      "metadata": {
        "colab": {
          "base_uri": "https://localhost:8080/"
        },
        "id": "5Vd4RJP0NxVB",
        "outputId": "5ce21237-9abf-49ca-e404-cb22c382160d"
      },
      "source": [
        "# save models to file\n",
        "for i in range(4):\n",
        "    models[i].save(f'./model_{i+1}')"
      ],
      "execution_count": null,
      "outputs": [
        {
          "output_type": "stream",
          "text": [
            "INFO:tensorflow:Assets written to: ./model_1/assets\n",
            "INFO:tensorflow:Assets written to: ./model_2/assets\n",
            "INFO:tensorflow:Assets written to: ./model_3/assets\n",
            "INFO:tensorflow:Assets written to: ./model_4/assets\n"
          ],
          "name": "stdout"
        }
      ]
    },
    {
      "cell_type": "code",
      "metadata": {
        "colab": {
          "base_uri": "https://localhost:8080/"
        },
        "id": "-frVyS9_OqM5",
        "outputId": "7f0d3734-8bfd-46e0-a390-8c57de8aceb2"
      },
      "source": [
        "!zip -r model_4.zip ./model_4"
      ],
      "execution_count": null,
      "outputs": [
        {
          "output_type": "stream",
          "text": [
            "  adding: model_4/ (stored 0%)\n",
            "  adding: model_4/saved_model.pb (deflated 89%)\n",
            "  adding: model_4/variables/ (stored 0%)\n",
            "  adding: model_4/variables/variables.index (deflated 66%)\n",
            "  adding: model_4/variables/variables.data-00000-of-00001 (deflated 43%)\n",
            "  adding: model_4/assets/ (stored 0%)\n"
          ],
          "name": "stdout"
        }
      ]
    },
    {
      "cell_type": "markdown",
      "metadata": {
        "id": "kbZZCbdHv3ME"
      },
      "source": [
        "---\n",
        "---"
      ]
    },
    {
      "cell_type": "markdown",
      "metadata": {
        "id": "0hKvKHV38ly_"
      },
      "source": [
        "# 10.References\n",
        "\n",
        "\n",
        "## Linking GitHub Private Repo with Google Colab\n",
        "---\n",
        "1. [How to clone private Github repo from Google Colab using SSH](https://medium.com/@purba0101/how-to-clone-private-github-repo-in-google-colab-using-ssh-77384cfef18f)\n",
        "2. [Adding a new SSH key to your GitHub account](https://docs.github.com/en/github/authenticating-to-github/adding-a-new-ssh-key-to-your-github-account)\n",
        "\n",
        "\n",
        "## How to classify text with NLTK\n",
        "---\n",
        "1. [Learning to Classify Text](https://www.nltk.org/book/ch06.html)\n",
        "\n",
        "\n",
        "## Other references\n",
        "---\n",
        "1. [Print very long string completely in pandas dataframe](https://stackoverflow.com/questions/29902714/print-very-long-string-completely-in-pandas-dataframe)\n",
        "2. [Removing newlines from messy strings in pandas dataframe cells?\n",
        "](https://stackoverflow.com/questions/44227748/removing-newlines-from-messy-strings-in-pandas-dataframe-cells)\n",
        "3. [Tokenizing using Pandas and spaCy](https://stackoverflow.com/questions/46981137/tokenizing-using-pandas-and-spacy)\n",
        "4. [Intro to NLP with spaCy](https://nicschrading.com/project/Intro-to-NLP-with-spaCy/)\n",
        "5. [A short introduction to NLP in Python with spaCy](https://towardsdatascience.com/a-short-introduction-to-nlp-in-python-with-spacy-d0aa819af3ad)\n",
        "6. [Punctuation, stopwords and lemmatization with spacy](https://stackoverflow.com/questions/57747613/punctuation-stopwords-and-lemmatization-with-spacy)\n",
        "\n"
      ]
    }
  ]
}