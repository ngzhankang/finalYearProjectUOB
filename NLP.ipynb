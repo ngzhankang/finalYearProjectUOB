{
  "nbformat": 4,
  "nbformat_minor": 0,
  "metadata": {
    "colab": {
      "name": "NLP.ipynb",
      "provenance": [],
      "authorship_tag": "ABX9TyOFNd9FQ9k5Jc2kwg5i9HzM",
      "include_colab_link": true
    },
    "kernelspec": {
      "name": "python3",
      "display_name": "Python 3"
    },
    "language_info": {
      "name": "python"
    }
  },
  "cells": [
    {
      "cell_type": "markdown",
      "metadata": {
        "id": "view-in-github",
        "colab_type": "text"
      },
      "source": [
        "<a href=\"https://colab.research.google.com/github/ngzhankang/finalYearProjectUOB/blob/main/NLP.ipynb\" target=\"_parent\"><img src=\"https://colab.research.google.com/assets/colab-badge.svg\" alt=\"Open In Colab\"/></a>"
      ]
    },
    {
      "cell_type": "markdown",
      "metadata": {
        "id": "C4WG19GGjVCN"
      },
      "source": [
        "# FINAL YEAR PROJECT\n",
        "Done by : \n",
        "- P1935000 Ang Yak Hng\n",
        "- P1935000 Teo Swee Hong Winson\n",
        "- P1935727 Ng Zhan Kang\n",
        "- P1935488 Triston Loh\n",
        "- P1935000 Ng Ao Yang\n",
        "\n",
        "Class of DIT/FT/3A/05\n"
      ]
    },
    {
      "cell_type": "markdown",
      "metadata": {
        "id": "lTixCl0Yj3aC"
      },
      "source": [
        "---\n",
        "---"
      ]
    },
    {
      "cell_type": "markdown",
      "metadata": {
        "id": "Xa-0olzCkDtZ"
      },
      "source": [
        "# 1. Cloning Github To Colab Workspace"
      ]
    },
    {
      "cell_type": "markdown",
      "metadata": {
        "id": "B_no5sNXlBZ_"
      },
      "source": [
        "<div class=\"alert alert-block alert-danger\">\n",
        "    <b>ATTENTION:</b> The entire section 1 is dedicated to users who are using google colab to do the entire project. This entire process clones the private repository directly into the temporary google colab workspace. Google colab user are to repeat this same proccess whenever in a new session. Users who do not use colab to do this project CAN OMIT THE ENTIRE SECTION 1. \n",
        "</div>"
      ]
    },
    {
      "cell_type": "markdown",
      "metadata": {
        "id": "B-ZvXSUPkPBq"
      },
      "source": [
        "### 1.1. Configurating SSH keys for GitHub and Colab connection\n",
        "\n",
        "---\n",
        "\n",
        "This entire section can be omitted if users are not using Google Colab at all."
      ]
    },
    {
      "cell_type": "code",
      "metadata": {
        "id": "JH5jhDiOliB2",
        "colab": {
          "base_uri": "https://localhost:8080/"
        },
        "outputId": "12f25352-6001-4a5c-b6a8-126e6271b244"
      },
      "source": [
        "!ssh-keygen -t rsa -b 4096"
      ],
      "execution_count": 1,
      "outputs": [
        {
          "output_type": "stream",
          "text": [
            "Generating public/private rsa key pair.\n",
            "Enter file in which to save the key (/root/.ssh/id_rsa): \n",
            "Created directory '/root/.ssh'.\n",
            "Enter passphrase (empty for no passphrase): \n",
            "Enter same passphrase again: \n",
            "Your identification has been saved in /root/.ssh/id_rsa.\n",
            "Your public key has been saved in /root/.ssh/id_rsa.pub.\n",
            "The key fingerprint is:\n",
            "SHA256:2VUjcEC3v8JSpA2x3mlopTGsr5BhEOIt2ZzX3ISkESQ root@38a3b0a22df2\n",
            "The key's randomart image is:\n",
            "+---[RSA 4096]----+\n",
            "|  . E.+o.o*o+ o  |\n",
            "| . * + =.+ = + . |\n",
            "|  + * o o B =    |\n",
            "|   . o   = & o   |\n",
            "|      o S B * .  |\n",
            "|     . o o +   . |\n",
            "|      o   o o .  |\n",
            "|       . . . .   |\n",
            "|        .        |\n",
            "+----[SHA256]-----+\n"
          ],
          "name": "stdout"
        }
      ]
    },
    {
      "cell_type": "markdown",
      "metadata": {
        "id": "ujcbhDqDmqP7"
      },
      "source": [
        "<div class=\"alert alert-block alert-danger\">\n",
        "    <b>ATTENTION:</b> When prompted for a set of informations such as \"Enter a file in which to save the key...\", please press enter and DO NOT type in anything.\n",
        "</div>"
      ]
    },
    {
      "cell_type": "code",
      "metadata": {
        "colab": {
          "base_uri": "https://localhost:8080/"
        },
        "id": "AUsKDe9tm0hQ",
        "outputId": "9103b760-7327-45d9-f438-45fa4a45b6b2"
      },
      "source": [
        "!ssh-keyscan -t rsa github.com >> ~/.ssh/known_hosts"
      ],
      "execution_count": 2,
      "outputs": [
        {
          "output_type": "stream",
          "text": [
            "# github.com:22 SSH-2.0-babeld-10d0a39d\n"
          ],
          "name": "stdout"
        }
      ]
    },
    {
      "cell_type": "code",
      "metadata": {
        "colab": {
          "base_uri": "https://localhost:8080/"
        },
        "id": "sc7qLuG1m-9h",
        "outputId": "a8262471-1313-43dc-e8a7-836e79180016"
      },
      "source": [
        "!cat /root/.ssh/id_rsa.pub"
      ],
      "execution_count": 3,
      "outputs": [
        {
          "output_type": "stream",
          "text": [
            "ssh-rsa AAAAB3NzaC1yc2EAAAADAQABAAACAQC/bAkIBnr8DrbObwCKtjq997JL2saQFeFH05hIKYp/8a2CqMHZbPBZtDb5oJ5OnKRNvSTUBfIRJvdhHJxIN8uiEXLoJiF4sh88Zx3gf2Nj/rYDGCeHILpHmVzuWY63EY6U4VO4qVH6kh9vtiQSYfj/8FKSna0QQcY8bDGX+onNXswmwEtjF+gsn7Y0UdCcZsljvDUKmPO3zVMQ2GBhm6867nsrOKqREnlMfZnYUPNmDFcUazlqKDcXarcF8h8yGvT9pPZzxGOVXUHr8Aq47rIh/TZI1EAOLQF4oa2jeazvJlpdaMCHHNYHADMaGCnuhTrVeN9oLvtVgJ+rc3eAfX704py905ath53sFIkugpVY2VxRaKWNjBNzYo4a0zlneMlVhxE5aki2I4Pw5cRxiFMc0/k/M2ZfSZUOngyvEAOAgNFsWhsC+KLooXJMPmYEr+ikHk5eJ9DEnZbdmOWGMOeDlABMnTHn9HujDFmrk41zxcl3LrqKygfiY6tChCTvNedrDam89LtmxjcK8ajr7d7nRah9baTxAvz1w2L4MUdMtScQ6XEL4m+VDyGRD4o6hKjpApx8TSGEsUd+jTAeQJ+LHGyRdZtxGiZZ71CEFtwfX6k5Sim8jn3QuoR23xEgx4HLES+P4ImtqGMF+7GM9rLOryyicuBao3+R3RaXj2MylQ== root@38a3b0a22df2\n"
          ],
          "name": "stdout"
        }
      ]
    },
    {
      "cell_type": "markdown",
      "metadata": {
        "id": "iSwt6wnDnSjx"
      },
      "source": [
        "<div class=\"alert alert-block alert-danger\">\n",
        "    <b>ATTENTION:</b> After the key has been generated, please copy the entire key. Navigate to your Github Account > Profile Picture > Settings > SSH and GPG keys > New SSH Keys. Paste the generated key into the blank and lable it for your own convenience.\n",
        "</div>"
      ]
    },
    {
      "cell_type": "markdown",
      "metadata": {
        "id": "Z_rpok3voY8A"
      },
      "source": [
        "### 1.2. Testing SSH keys for GitHub and Colab connection\n",
        "\n",
        "---\n",
        "\n",
        "This entire section can be omitted if users are not using Google Colab at all."
      ]
    },
    {
      "cell_type": "code",
      "metadata": {
        "colab": {
          "base_uri": "https://localhost:8080/"
        },
        "id": "cYEnWGicnnC0",
        "outputId": "f3d9205e-1aad-465a-f86e-c5aed719273b"
      },
      "source": [
        "!ssh -T git@github.com"
      ],
      "execution_count": 4,
      "outputs": [
        {
          "output_type": "stream",
          "text": [
            "Warning: Permanently added the RSA host key for IP address '140.82.114.3' to the list of known hosts.\r\n",
            "Hi ngzhankang! You've successfully authenticated, but GitHub does not provide shell access.\n"
          ],
          "name": "stdout"
        }
      ]
    },
    {
      "cell_type": "markdown",
      "metadata": {
        "id": "D0hIsUsBHxVO"
      },
      "source": [
        "### 1.3. Specify Git Configuration Settings\n",
        "\n",
        "---\n",
        "\n",
        "This entire section can be omitted if users are not using Google Colab at all. In this section, change email to your github email and username to your github username."
      ]
    },
    {
      "cell_type": "code",
      "metadata": {
        "id": "96qlBytFH7xV"
      },
      "source": [
        "!git config --global user.email \"zhankang.19@ichat.sp.edu.sg\"\n",
        "!git config --global user.name \"ngzhankang\""
      ],
      "execution_count": 5,
      "outputs": []
    },
    {
      "cell_type": "markdown",
      "metadata": {
        "id": "0gtHa7l8ID8u"
      },
      "source": [
        "### 1.4. Clone Private Repository\n",
        "\n",
        "---\n",
        "\n",
        "This entire section can be omitted if users are not using Google Colab at all."
      ]
    },
    {
      "cell_type": "code",
      "metadata": {
        "id": "y7c65FyJIEXu",
        "outputId": "c5a0311b-0416-4aa8-8e3a-0620b876b7e3",
        "colab": {
          "base_uri": "https://localhost:8080/"
        }
      },
      "source": [
        "!git clone git@github.com:ngzhankang/finalYearProjectUOB.git"
      ],
      "execution_count": 6,
      "outputs": [
        {
          "output_type": "stream",
          "text": [
            "Cloning into 'finalYearProjectUOB'...\n",
            "Warning: Permanently added the RSA host key for IP address '140.82.113.4' to the list of known hosts.\n",
            "remote: Enumerating objects: 19, done.\u001b[K\n",
            "remote: Counting objects: 100% (19/19), done.\u001b[K\n",
            "remote: Compressing objects: 100% (19/19), done.\u001b[K\n",
            "remote: Total 19 (delta 5), reused 0 (delta 0), pack-reused 0\u001b[K\n",
            "Receiving objects: 100% (19/19), 9.12 KiB | 9.12 MiB/s, done.\n",
            "Resolving deltas: 100% (5/5), done.\n"
          ],
          "name": "stdout"
        }
      ]
    },
    {
      "cell_type": "markdown",
      "metadata": {
        "id": "lpQsykkUqHOB"
      },
      "source": [
        "---\n",
        "---"
      ]
    },
    {
      "cell_type": "markdown",
      "metadata": {
        "id": "D74lUe_QF3kh"
      },
      "source": [
        "  # 2. Data Importing"
      ]
    },
    {
      "cell_type": "markdown",
      "metadata": {
        "id": "6VbDZ5ymKTR6"
      },
      "source": [
        "### 2.1. Load the libraries\n",
        "\n",
        "---\n",
        "\n",
        "Load the necessary libraries for usage in the entire project."
      ]
    },
    {
      "cell_type": "code",
      "metadata": {
        "id": "U_20qw2UohOC"
      },
      "source": [
        "# suppress future warnings\n",
        "import warnings\n",
        "warnings.filterwarnings('ignore')"
      ],
      "execution_count": 7,
      "outputs": []
    },
    {
      "cell_type": "code",
      "metadata": {
        "colab": {
          "base_uri": "https://localhost:8080/"
        },
        "id": "EldCY0t9v2uV",
        "outputId": "a408fe7a-cd01-476c-c217-301a0b8631fa"
      },
      "source": [
        "# install necessary libraries that might not be found\n",
        "!pip install nltk\n",
        "\n",
        "# check versions of libraries we are going to use\n",
        "%tensorflow_version 2.x\n",
        "import os\n",
        "import tensorflow\n",
        "import sklearn\n",
        "import numpy as np\n",
        "import pandas as pd\n",
        "import seaborn as sns\n",
        "import matplotlib\n",
        "import nltk\n",
        "import platform\n",
        "\n",
        "message=\"        Versions        \"\n",
        "print(\"*\"*len(message))\n",
        "print(message)\n",
        "print(\"*\"*len(message))\n",
        "print(\"Tensorflow version={}\".format(tensorflow.__version__))\n",
        "print(\"Keras version={}\".format(tensorflow.keras.__version__))\n",
        "print(\"Sklearn version={}\".format(sklearn.__version__))\n",
        "print(\"Numpy version={}\".format(np.__version__))\n",
        "print(\"Pandas version={}\".format(pd.__version__))\n",
        "print(\"Seaborn version={}\".format(sns.__version__))\n",
        "print(\"Matplotlib version={}\".format(matplotlib.__version__))\n",
        "print(\"NLTK version={}\".format(nltk.__version__))\n",
        "print(\"Python version={}\".format(platform.python_version()))"
      ],
      "execution_count": 13,
      "outputs": [
        {
          "output_type": "stream",
          "text": [
            "Requirement already satisfied: nltk in /usr/local/lib/python3.7/dist-packages (3.2.5)\n",
            "Requirement already satisfied: six in /usr/local/lib/python3.7/dist-packages (from nltk) (1.15.0)\n",
            "************************\n",
            "        Versions        \n",
            "************************\n",
            "Tensorflow version=2.4.1\n",
            "Keras version=2.4.0\n",
            "Sklearn version=0.22.2.post1\n",
            "Numpy version=1.19.5\n",
            "Pandas version=1.1.5\n",
            "Seaborn version=0.11.1\n",
            "Matplotlib version=3.2.2\n",
            "NLTK version=3.2.5\n",
            "Python version=3.7.10\n"
          ],
          "name": "stdout"
        }
      ]
    },
    {
      "cell_type": "markdown",
      "metadata": {
        "id": "leKoAEG_KWf8"
      },
      "source": [
        "### 2.2. Load the modules\n",
        "\n",
        "---\n",
        "\n",
        "Load the necessary modules for usage in the entire project."
      ]
    },
    {
      "cell_type": "code",
      "metadata": {
        "colab": {
          "base_uri": "https://localhost:8080/"
        },
        "id": "U04wypEUv2p1",
        "outputId": "4d2779e2-0e40-42f7-e832-b1f398cb0975"
      },
      "source": [
        "# importing necessary modules for this project\n",
        "import tensorflow as tf\n",
        "\n",
        "import pandas as pd\n",
        "import matplotlib.pyplot as plt\n",
        "import seaborn as sns\n",
        "import numpy as np\n",
        "import string\n",
        "import nltk\n",
        "\n",
        "# we need these nltk modules to do data cleansing\n",
        "nltk.download('punkt')\n",
        "from nltk.tokenize import word_tokenize\n",
        "nltk.download('stopwords')\n",
        "from nltk.corpus import stopwords\n",
        "nltk.download('averaged_perceptron_tagger')\n",
        "nltk.download('wordnet') \n",
        "from nltk.corpus import wordnet\n",
        "from nltk.stem import WordNetLemmatizer\n",
        "\n",
        "%matplotlib inline"
      ],
      "execution_count": 14,
      "outputs": [
        {
          "output_type": "stream",
          "text": [
            "[nltk_data] Downloading package punkt to /root/nltk_data...\n",
            "[nltk_data]   Unzipping tokenizers/punkt.zip.\n",
            "[nltk_data] Downloading package stopwords to /root/nltk_data...\n",
            "[nltk_data]   Unzipping corpora/stopwords.zip.\n",
            "[nltk_data] Downloading package averaged_perceptron_tagger to\n",
            "[nltk_data]     /root/nltk_data...\n",
            "[nltk_data]   Unzipping taggers/averaged_perceptron_tagger.zip.\n",
            "[nltk_data] Downloading package wordnet to /root/nltk_data...\n",
            "[nltk_data]   Unzipping corpora/wordnet.zip.\n"
          ],
          "name": "stdout"
        }
      ]
    },
    {
      "cell_type": "markdown",
      "metadata": {
        "id": "ca1X-gSJKap_"
      },
      "source": [
        "### 2.3. Load the dataset\n",
        "\n",
        "---\n",
        "\n",
        "Load the dataset for usage in the entire project."
      ]
    },
    {
      "cell_type": "code",
      "metadata": {
        "id": "owSKzElwKdh1",
        "outputId": "c4690cf7-8f49-403c-fff1-6606ee0ccfb9",
        "colab": {
          "base_uri": "https://localhost:8080/",
          "height": 334
        }
      },
      "source": [
        "# use pandas to read the excel file and populate it in a pandas dataframe\n",
        "companies = pd.read_excel('./Company_Dataset_Batch1.3_TRIAL.xlsx')\n",
        "\n",
        "# see the top 10 companies that are populated in the dataframe\n",
        "companies.head(10)"
      ],
      "execution_count": 33,
      "outputs": [
        {
          "output_type": "execute_result",
          "data": {
            "text/html": [
              "<div>\n",
              "<style scoped>\n",
              "    .dataframe tbody tr th:only-of-type {\n",
              "        vertical-align: middle;\n",
              "    }\n",
              "\n",
              "    .dataframe tbody tr th {\n",
              "        vertical-align: top;\n",
              "    }\n",
              "\n",
              "    .dataframe thead th {\n",
              "        text-align: right;\n",
              "    }\n",
              "</style>\n",
              "<table border=\"1\" class=\"dataframe\">\n",
              "  <thead>\n",
              "    <tr style=\"text-align: right;\">\n",
              "      <th></th>\n",
              "      <th>Company_ID</th>\n",
              "      <th>Company</th>\n",
              "      <th>Country</th>\n",
              "      <th>PIC</th>\n",
              "      <th>Sector</th>\n",
              "      <th>Subsector</th>\n",
              "      <th>Archetype</th>\n",
              "      <th>Valuechain</th>\n",
              "      <th>Websites</th>\n",
              "      <th>Company Profile Information</th>\n",
              "      <th>Remarks</th>\n",
              "    </tr>\n",
              "  </thead>\n",
              "  <tbody>\n",
              "    <tr>\n",
              "      <th>0</th>\n",
              "      <td>6659723700627433472</td>\n",
              "      <td>ANDERCO PTE LTD</td>\n",
              "      <td>SINGAPORE</td>\n",
              "      <td>NaN</td>\n",
              "      <td>CNI</td>\n",
              "      <td>buildings &amp; industrial</td>\n",
              "      <td>buildings &amp; industrial_contractor</td>\n",
              "      <td>MIDSTREAM</td>\n",
              "      <td>http://www.anderco.com.sg/our-products/project...</td>\n",
              "      <td>We specialize in design and building from dorm...</td>\n",
              "      <td>NaN</td>\n",
              "    </tr>\n",
              "    <tr>\n",
              "      <th>1</th>\n",
              "      <td>6856115970005237760</td>\n",
              "      <td>WEC ENGINEERS &amp; CONSTRUCTORS PTE LTD</td>\n",
              "      <td>SINGAPORE</td>\n",
              "      <td>NaN</td>\n",
              "      <td>CNI</td>\n",
              "      <td>buildings &amp; industrial</td>\n",
              "      <td>buildings &amp; industrial_contractor</td>\n",
              "      <td>MIDSTREAM</td>\n",
              "      <td>http://www.wec.com.sg/about.html</td>\n",
              "      <td>We have transformed ourselves into a specialis...</td>\n",
              "      <td>NaN</td>\n",
              "    </tr>\n",
              "    <tr>\n",
              "      <th>2</th>\n",
              "      <td>7369198031907269632</td>\n",
              "      <td>ECHO PORT INTERNATIONAL LIMITED</td>\n",
              "      <td>HONG KONG</td>\n",
              "      <td>NaN</td>\n",
              "      <td>TMT</td>\n",
              "      <td>consumer electronics</td>\n",
              "      <td>consumer electronics_distributor</td>\n",
              "      <td>DOWNSTREAM</td>\n",
              "      <td>https://www.made-in-china.com/showroom/echo-port</td>\n",
              "      <td>Echo Port is specialized in manufacturing CHES...</td>\n",
              "      <td>NaN</td>\n",
              "    </tr>\n",
              "    <tr>\n",
              "      <th>3</th>\n",
              "      <td>2902596962999106048</td>\n",
              "      <td>DEKORAMIK PERDANA,PT</td>\n",
              "      <td>INDONESIA</td>\n",
              "      <td>NaN</td>\n",
              "      <td>CNI</td>\n",
              "      <td>building material</td>\n",
              "      <td>building material_distributor</td>\n",
              "      <td>DOWNSTREAM</td>\n",
              "      <td>http://www.sandimas.co.id/en/about</td>\n",
              "      <td>Sandimas provides a wide range of commercial, ...</td>\n",
              "      <td>NaN</td>\n",
              "    </tr>\n",
              "    <tr>\n",
              "      <th>4</th>\n",
              "      <td>4869680436385200128</td>\n",
              "      <td>ELCA CONTRACT FLOORING PTE LTD</td>\n",
              "      <td>SINGAPORE</td>\n",
              "      <td>NaN</td>\n",
              "      <td>CNI</td>\n",
              "      <td>building material</td>\n",
              "      <td>building material_distributor</td>\n",
              "      <td>DOWNSTREAM</td>\n",
              "      <td>http://www.elca.com.sg/</td>\n",
              "      <td>Elca Contract Flooring Pte Ltd established in ...</td>\n",
              "      <td>NaN</td>\n",
              "    </tr>\n",
              "    <tr>\n",
              "      <th>5</th>\n",
              "      <td>2833793606053527552</td>\n",
              "      <td>SYNNEX (THAILAND) PUBLIC CO., LTD.</td>\n",
              "      <td>THAILAND</td>\n",
              "      <td>NaN</td>\n",
              "      <td>TMT</td>\n",
              "      <td>consumer electronics</td>\n",
              "      <td>consumer electronics_distributor</td>\n",
              "      <td>DOWNSTREAM</td>\n",
              "      <td>https://www.synnex.co.th/th/about/business.aspx</td>\n",
              "      <td>The Company distributes computers, computer pe...</td>\n",
              "      <td>NaN</td>\n",
              "    </tr>\n",
              "    <tr>\n",
              "      <th>6</th>\n",
              "      <td>815115935851177472</td>\n",
              "      <td>CAPPITECH ENGINEERING PTE LTD</td>\n",
              "      <td>SINGAPORE</td>\n",
              "      <td>NaN</td>\n",
              "      <td>TMT</td>\n",
              "      <td>consumer electronics</td>\n",
              "      <td>consumer electronics_distributor</td>\n",
              "      <td>DOWNSTREAM</td>\n",
              "      <td>https://sgpgrid.com/company-details/cappitech-...</td>\n",
              "      <td>CAPPITECH ENGINEERING is an ACRA-registered en...</td>\n",
              "      <td>NaN</td>\n",
              "    </tr>\n",
              "    <tr>\n",
              "      <th>7</th>\n",
              "      <td>7375353431500220416</td>\n",
              "      <td>CE-TEST AND MEASUREMENT (S) PTE LTD</td>\n",
              "      <td>SINGAPORE</td>\n",
              "      <td>NaN</td>\n",
              "      <td>CNI</td>\n",
              "      <td>cni_equipment suppliers</td>\n",
              "      <td>cni_equipment suppliers</td>\n",
              "      <td>MIDSTREAM</td>\n",
              "      <td>https://www.cetm.com.sg/content/4-about-us</td>\n",
              "      <td>In the year 2002, we formed a strategic allian...</td>\n",
              "      <td>NaN</td>\n",
              "    </tr>\n",
              "    <tr>\n",
              "      <th>8</th>\n",
              "      <td>5322820782371812352</td>\n",
              "      <td>QUEL INTERNATIONAL SDN BHD</td>\n",
              "      <td>MALAYSIA</td>\n",
              "      <td>NaN</td>\n",
              "      <td>CNI</td>\n",
              "      <td>building material</td>\n",
              "      <td>building material_distributor</td>\n",
              "      <td>DOWNSTREAM</td>\n",
              "      <td>https://www.quelfurniture.com/about-us</td>\n",
              "      <td>Commemorating 10 solid years of providing furn...</td>\n",
              "      <td>NaN</td>\n",
              "    </tr>\n",
              "    <tr>\n",
              "      <th>9</th>\n",
              "      <td>1059731912908073216</td>\n",
              "      <td>NALURI PERINTIS SDN. BHD.</td>\n",
              "      <td>MALAYSIA</td>\n",
              "      <td>NaN</td>\n",
              "      <td>NaN</td>\n",
              "      <td>NaN</td>\n",
              "      <td>NaN</td>\n",
              "      <td>NaN</td>\n",
              "      <td>NaN</td>\n",
              "      <td>NaN</td>\n",
              "      <td>UNABLE TO LOCATE COMPANY</td>\n",
              "    </tr>\n",
              "  </tbody>\n",
              "</table>\n",
              "</div>"
            ],
            "text/plain": [
              "            Company_ID  ...                   Remarks\n",
              "0  6659723700627433472  ...                       NaN\n",
              "1  6856115970005237760  ...                       NaN\n",
              "2  7369198031907269632  ...                       NaN\n",
              "3  2902596962999106048  ...                       NaN\n",
              "4  4869680436385200128  ...                       NaN\n",
              "5  2833793606053527552  ...                       NaN\n",
              "6   815115935851177472  ...                       NaN\n",
              "7  7375353431500220416  ...                       NaN\n",
              "8  5322820782371812352  ...                       NaN\n",
              "9  1059731912908073216  ...  UNABLE TO LOCATE COMPANY\n",
              "\n",
              "[10 rows x 11 columns]"
            ]
          },
          "metadata": {
            "tags": []
          },
          "execution_count": 33
        }
      ]
    },
    {
      "cell_type": "markdown",
      "metadata": {
        "id": "2TI1D_-KP6hC"
      },
      "source": [
        "---\n",
        "---"
      ]
    },
    {
      "cell_type": "markdown",
      "metadata": {
        "id": "9qKHTDyOP9bz"
      },
      "source": [
        "  # 3. Exploratory Data Analysis"
      ]
    },
    {
      "cell_type": "markdown",
      "metadata": {
        "id": "P8p50I8GQCAg"
      },
      "source": [
        "### 3.1. Get overview of dataset\n",
        "\n",
        "---\n",
        "\n",
        "Get statistical information of the dataset to understand the dataset better."
      ]
    },
    {
      "cell_type": "code",
      "metadata": {
        "id": "OVX1CBSTLZqm",
        "outputId": "75e16f7a-941f-4214-965e-4c9690d74b9b",
        "colab": {
          "base_uri": "https://localhost:8080/"
        }
      },
      "source": [
        "# get the total number of records in the dataframe\n",
        "df_count = companies['Company_ID'].count()\n",
        "\n",
        "# get count of unique contries where companies are based in\n",
        "df_countCountry = companies['Country'].count()\n",
        "\n",
        "# get count of unique sectors where companies are from\n",
        "df_countCountry = companies['Country'].count()\n",
        "\n",
        "# get count of unique sectors where companies are from\n",
        "\n",
        "print('Total number of records:', df_totalRecords)"
      ],
      "execution_count": 56,
      "outputs": [
        {
          "output_type": "stream",
          "text": [
            "Total number of records: 400\n"
          ],
          "name": "stdout"
        }
      ]
    },
    {
      "cell_type": "code",
      "metadata": {
        "id": "O1C_l7ytUixQ",
        "outputId": "228aaa18-9378-42e0-843e-4af8cbeb270b",
        "colab": {
          "base_uri": "https://localhost:8080/"
        }
      },
      "source": [
        "# get total number of countries\n",
        "df_totalCountries = companies['Country'].value_counts()\n",
        "\n",
        "# get list of unique sector\n",
        "df_sector = companies['Sector'].value_counts()\n",
        "\n",
        "# get list of unique archetype\n",
        "df_archetype = companies['Archetype'].value_counts()\n",
        "\n",
        "# get list of unique valuechain\n",
        "df_valuechain = companies['Valuechain'].value_counts()\n",
        "\n",
        "print('List of unique countries:\\n{}'.format(df_totalCountries))\n",
        "print()\n",
        "print('List of unique sector:\\n{}'.format(df_sector))\n",
        "print()\n",
        "print('List of unique valuechain:\\n{}'.format(df_valuechain))"
      ],
      "execution_count": 64,
      "outputs": [
        {
          "output_type": "stream",
          "text": [
            "List of unique countries:\n",
            "SINGAPORE    172\n",
            "MALAYSIA      89\n",
            "THAILAND      72\n",
            "CHINA         33\n",
            "HONG KONG     20\n",
            "INDONESIA     14\n",
            "Name: Country, dtype: int64\n",
            "\n",
            "List of unique sector:\n",
            "CNI    164\n",
            "TMT    121\n",
            "OOS     33\n",
            "ONG     32\n",
            "REH     11\n",
            "CG       9\n",
            "IND      9\n",
            "Name: Sector, dtype: int64\n",
            "\n",
            "List of unique valuechain:\n",
            "MIDSTREAM                 208\n",
            "DOWNSTREAM                 93\n",
            "UPSTREAM                   26\n",
            "ACROSS VALUE CHAIN          5\n",
            "UPSTREAM OR DOWNSTREAM      4\n",
            "DISTRIBUTOR                 2\n",
            "MANUFACTURER                2\n",
            "Downstream                  1\n",
            "Upstream                    1\n",
            "TRADER                      1\n",
            "Name: Valuechain, dtype: int64\n"
          ],
          "name": "stdout"
        }
      ]
    },
    {
      "cell_type": "code",
      "metadata": {
        "id": "NIoXot6HWEWP",
        "outputId": "5bcd9dc3-2eeb-48f0-968a-ce023c2b7a88",
        "colab": {
          "base_uri": "https://localhost:8080/"
        }
      },
      "source": [
        "# get list of unique subsector\n",
        "df_subsector = companies['Subsector'].value_counts()\n",
        "\n",
        "print('List of unique Subsector:\\n{}'.format(df_subsector))"
      ],
      "execution_count": 65,
      "outputs": [
        {
          "output_type": "stream",
          "text": [
            "List of unique Subsector:\n",
            "buildings & industrial               61\n",
            "building material                    48\n",
            "consumer electronics                 45\n",
            "others                               33\n",
            "it services                          29\n",
            "cni_service providers                29\n",
            "semiconductor                        19\n",
            "o&g                                  14\n",
            "digital_business                     12\n",
            "utilities                            12\n",
            "telecommunication                     9\n",
            "petrochemical                         8\n",
            "o&g_service providers/contractors     7\n",
            "media                                 7\n",
            "retail n distribution                 7\n",
            "cni_equipment suppliers               6\n",
            "infrastructure                        6\n",
            "metals and mining                     5\n",
            "commercial                            5\n",
            "auto & mec                            4\n",
            "mixed                                 3\n",
            "ioc                                   2\n",
            "residential                           2\n",
            "building_material                     1\n",
            "fmcg                                  1\n",
            "cni_equipment_suppliers               1\n",
            "agribusiness                          1\n",
            "industrial                            1\n",
            "noc                                   1\n",
            "Name: Subsector, dtype: int64\n"
          ],
          "name": "stdout"
        }
      ]
    },
    {
      "cell_type": "code",
      "metadata": {
        "id": "SjaNooD3Uz3c",
        "outputId": "600a308e-ac76-4f5f-c524-0227dc38f106",
        "colab": {
          "base_uri": "https://localhost:8080/"
        }
      },
      "source": [
        "print('List of unique archetype:\\n{}'.format(df_archetype))"
      ],
      "execution_count": 62,
      "outputs": [
        {
          "output_type": "stream",
          "text": [
            "List of unique archetype:\n",
            "buildings & industrial_contractor                              60\n",
            "consumer electronics_distributor                               39\n",
            "others                                                         33\n",
            "building material_manufacturer                                 32\n",
            "cni_service providers                                          29\n",
            "it services                                                    29\n",
            "building material_supplier_distributor                         14\n",
            "digital_business                                               12\n",
            "electronics components/semiconductor_component distributor     10\n",
            "electronics components/semiconductor_component manufacturer     9\n",
            "o&g_distributor                                                 8\n",
            "utilities_developer                                             7\n",
            "cni_equipment suppliers                                         6\n",
            "content creator                                                 6\n",
            "o&g_retail outlet                                               6\n",
            "o&g midstream and downstream service provider                   5\n",
            "consumer electronics                                            5\n",
            "consumer discretionary distributor                              5\n",
            "infrastructure_contractor                                       5\n",
            "petrochemical_producer                                          4\n",
            "petrochemical_distributor                                       4\n",
            "commercial_operator                                             4\n",
            "mixed_developer                                                 3\n",
            "network equipment supplier                                      3\n",
            "building material_distributor                                   3\n",
            "telecommunication infrastructure                                3\n",
            "utilities_operator                                              3\n",
            "network operator                                                2\n",
            "ioc                                                             2\n",
            "mec oem dealer                                                  2\n",
            "steel distributor                                               2\n",
            "steel fabricator                                                2\n",
            "o&g midstream service provider (transportation/storage)         2\n",
            "utilities_contractor                                            2\n",
            "auto component dealer                                           1\n",
            "noc                                                             1\n",
            "precious metal                                                  1\n",
            "residential_integrated player                                   1\n",
            "consuumer electronics                                           1\n",
            "auto dealer                                                     1\n",
            "modern trade                                                    1\n",
            "infrastructure_operator                                         1\n",
            "industrial_integrated player                                    1\n",
            "media_aggregator/distributor                                    1\n",
            "residential_developer                                           1\n",
            "tisp – fiber cable                                              1\n",
            "cni_equipment_suppliers                                         1\n",
            "hpc                                                             1\n",
            "packaged food                                                   1\n",
            "buildings & industrial_sub contractor                           1\n",
            "palm oil                                                        1\n",
            "commercial_developer                                            1\n",
            "Name: Archetype, dtype: int64\n",
            "\n"
          ],
          "name": "stdout"
        }
      ]
    },
    {
      "cell_type": "markdown",
      "metadata": {
        "id": "gf69nqOrWr_b"
      },
      "source": [
        "### 3.2. Get graphical overview of dataset\n",
        "\n",
        "---\n",
        "\n",
        "Get visualised information of the dataset to understand the dataset better."
      ]
    },
    {
      "cell_type": "code",
      "metadata": {
        "id": "dRLIFECVS1os"
      },
      "source": [
        ""
      ],
      "execution_count": null,
      "outputs": []
    },
    {
      "cell_type": "code",
      "metadata": {
        "id": "vpOP_2oVVTKi"
      },
      "source": [
        ""
      ],
      "execution_count": null,
      "outputs": []
    },
    {
      "cell_type": "code",
      "metadata": {
        "id": "5Wmn593qVTHm"
      },
      "source": [
        ""
      ],
      "execution_count": null,
      "outputs": []
    },
    {
      "cell_type": "markdown",
      "metadata": {
        "id": "c3S6ZQzySmC0"
      },
      "source": [
        "### 3.1. Get Nan values\n",
        "\n",
        "---\n",
        "\n",
        "Extract columns with Nan values and list them out here."
      ]
    },
    {
      "cell_type": "code",
      "metadata": {
        "id": "7ZLoO_4SSry7"
      },
      "source": [
        ""
      ],
      "execution_count": null,
      "outputs": []
    },
    {
      "cell_type": "code",
      "metadata": {
        "id": "nrQjbN7uStmr"
      },
      "source": [
        ""
      ],
      "execution_count": null,
      "outputs": []
    },
    {
      "cell_type": "code",
      "metadata": {
        "id": "SwMqcB0MStbJ"
      },
      "source": [
        ""
      ],
      "execution_count": null,
      "outputs": []
    },
    {
      "cell_type": "markdown",
      "metadata": {
        "id": "kbZZCbdHv3ME"
      },
      "source": [
        "---\n",
        "---"
      ]
    },
    {
      "cell_type": "markdown",
      "metadata": {
        "id": "0hKvKHV38ly_"
      },
      "source": [
        "# 10.References\n",
        "\n",
        "\n",
        "## Linking GitHub Private Repo with Google Colab\n",
        "---\n",
        "1. [How to clone private Github repo from Google Colab using SSH](https://medium.com/@purba0101/how-to-clone-private-github-repo-in-google-colab-using-ssh-77384cfef18f)\n",
        "2. [Adding a new SSH key to your GitHub account](https://docs.github.com/en/github/authenticating-to-github/adding-a-new-ssh-key-to-your-github-account)\n",
        "\n",
        "\n",
        "## How to classify text with NLTK\n",
        "---\n",
        "1. [Learning to Classify Text](https://www.nltk.org/book/ch06.html)"
      ]
    }
  ]
}