{
 "cells": [
  {
   "cell_type": "markdown",
   "metadata": {
    "colab_type": "text",
    "id": "view-in-github"
   },
   "source": [
    "<a href=\"https://colab.research.google.com/github/ngzhankang/finalYearProjectUOB/blob/main/NLP_MLP_Multilabel.ipynb\" target=\"_parent\"><img src=\"https://colab.research.google.com/assets/colab-badge.svg\" alt=\"Open In Colab\"/></a>"
   ]
  },
  {
   "cell_type": "markdown",
   "metadata": {
    "id": "C4WG19GGjVCN"
   },
   "source": [
    "# FINAL YEAR PROJECT\n",
    "Done by : \n",
    "- P1935785 Ang Yak Hng\n",
    "- P1932964 Teo Swee Hong Winson\n",
    "- P1935727 Ng Zhan Kang\n",
    "- P1935488 Triston Loh\n",
    "- P1935602 Ng Ao Yang\n",
    "\n",
    "Class of DIT/FT/3A/05\n"
   ]
  },
  {
   "cell_type": "markdown",
   "metadata": {
    "id": "lTixCl0Yj3aC"
   },
   "source": [
    "---\n",
    "---"
   ]
  },
  {
   "cell_type": "markdown",
   "metadata": {
    "id": "Xa-0olzCkDtZ"
   },
   "source": [
    "# 1.Cloning Github To Colab Workspace"
   ]
  },
  {
   "cell_type": "markdown",
   "metadata": {
    "id": "B_no5sNXlBZ_"
   },
   "source": [
    "<div class=\"alert alert-block alert-danger\">\n",
    "    <b>ATTENTION:</b> The entire section 1 is dedicated to users who are using google colab to do the entire project. This entire process clones the private repository directly into the temporary google colab workspace. Google colab user are to repeat this same proccess whenever in a new session. Users who do not use colab to do this project CAN OMIT THE ENTIRE SECTION 1. \n",
    "</div>"
   ]
  },
  {
   "cell_type": "markdown",
   "metadata": {
    "id": "B-ZvXSUPkPBq"
   },
   "source": [
    "### 1.1. Configurating SSH keys for GitHub and Colab connection\n",
    "\n",
    "---\n",
    "\n",
    "This entire section can be omitted if users are not using Google Colab at all."
   ]
  },
  {
   "cell_type": "code",
   "execution_count": null,
   "metadata": {
    "colab": {
     "base_uri": "https://localhost:8080/"
    },
    "id": "JH5jhDiOliB2",
    "outputId": "b007e97a-e4a0-43fb-fc5f-6a02e82262db"
   },
   "outputs": [
    {
     "name": "stdout",
     "output_type": "stream",
     "text": [
      "Generating public/private rsa key pair.\n",
      "Enter file in which to save the key (/root/.ssh/id_rsa): \n",
      "Created directory '/root/.ssh'.\n",
      "Enter passphrase (empty for no passphrase): \n",
      "Enter same passphrase again: \n",
      "Your identification has been saved in /root/.ssh/id_rsa.\n",
      "Your public key has been saved in /root/.ssh/id_rsa.pub.\n",
      "The key fingerprint is:\n",
      "SHA256:ZspmrdJA7vPoERsLNONcIRZV/ukm3jsqxAm3hBpJy1M root@ca7698c4e106\n",
      "The key's randomart image is:\n",
      "+---[RSA 4096]----+\n",
      "|  +oo..          |\n",
      "| o E o           |\n",
      "|o.*.. .          |\n",
      "|oBo++  . .       |\n",
      "| o=Boo  S        |\n",
      "|.  .B* *         |\n",
      "|   o+o* +        |\n",
      "|    =*.=.        |\n",
      "|   .o==.oo       |\n",
      "+----[SHA256]-----+\n"
     ]
    }
   ],
   "source": [
    "!ssh-keygen -t rsa -b 4096"
   ]
  },
  {
   "cell_type": "markdown",
   "metadata": {
    "id": "ujcbhDqDmqP7"
   },
   "source": [
    "<div class=\"alert alert-block alert-danger\">\n",
    "    <b>ATTENTION:</b> When prompted for a set of informations such as \"Enter a file in which to save the key...\", please press enter and DO NOT type in anything.\n",
    "</div>"
   ]
  },
  {
   "cell_type": "code",
   "execution_count": null,
   "metadata": {
    "colab": {
     "base_uri": "https://localhost:8080/"
    },
    "id": "AUsKDe9tm0hQ",
    "outputId": "ec7908c3-4df2-4e1e-87c0-76181016d879"
   },
   "outputs": [
    {
     "name": "stdout",
     "output_type": "stream",
     "text": [
      "# github.com:22 SSH-2.0-babeld-3fa83667\n"
     ]
    }
   ],
   "source": [
    "!ssh-keyscan -t rsa github.com >> ~/.ssh/known_hosts"
   ]
  },
  {
   "cell_type": "code",
   "execution_count": null,
   "metadata": {
    "colab": {
     "base_uri": "https://localhost:8080/"
    },
    "id": "sc7qLuG1m-9h",
    "outputId": "461d36b1-5a5d-4e31-cad8-4edb423548e9"
   },
   "outputs": [
    {
     "name": "stdout",
     "output_type": "stream",
     "text": [
      "ssh-rsa AAAAB3NzaC1yc2EAAAADAQABAAACAQC1wuqf4+DWiaDu1GYypdqhrv8ilPqdHvYGvPB+BpCy+YGOWu8EezJylrkbg4yyL9kGqkGKBIcH0QITzSSBYH7tuDGtV584bK9ZHuxeowJbkMFp5lgq06yVT47wGvcgOS7aOoX/eV3TbxC5RxKCNlvLjxYWFtyK26gGk83/gnBk9h/rHCqmNT28rbm5+3Q9HxzM4QQkdpU4/qBmI4dji8vyGNHGLY74z9hbyCh654nHcPuhK42GYTowmfOv9JP5ru/zGy6u28bO6GaHc7wMtgIi691LCiC76FulemTMfomAiW42zhNdi/abxouqYAXb1vu9OmoAU9AyayL0hlpEO1VhQ6WOfbSwQSAB2Jm+3Y3ZIhZvBxR1/tqXno3PBfTWnWN/W5w+wAGmeYYyU4ZOHDef9pr/Vv4ODe3dlR1kbSqVKMzXJDipkOsuS8HrOIAbfK3vkRaCkpRK23Y3mUmeOLXyDGOihbZ11mXToaoFfAyEJYCReyYxg8tSaq5Yu4Lr5++U52/GQLicYV06dmGcmJY4ZWiOvnm8eB+ZBksobFgtJdWAK5qFWrIdpYtNaekawGQAJ/5JWgfsg6mN3/kvmPNbLo6tHRbrFPTpkyJbunPJNiJOfA9RyvF0z5OqichAbU2asVmo7PnQGFRoCMMOjL7v0DH9OrKQaCcxwKea5kIMpw== root@ca7698c4e106\n"
     ]
    }
   ],
   "source": [
    "!cat /root/.ssh/id_rsa.pub"
   ]
  },
  {
   "cell_type": "markdown",
   "metadata": {
    "id": "iSwt6wnDnSjx"
   },
   "source": [
    "<div class=\"alert alert-block alert-danger\">\n",
    "    <b>ATTENTION:</b> After the key has been generated, please copy the entire key. Navigate to your Github Account > Profile Picture > Settings > SSH and GPG keys > New SSH Keys. Paste the generated key into the blank and lable it for your own convenience.\n",
    "</div>"
   ]
  },
  {
   "cell_type": "markdown",
   "metadata": {
    "id": "Z_rpok3voY8A"
   },
   "source": [
    "### 1.2. Testing SSH keys for GitHub and Colab connection\n",
    "\n",
    "---\n",
    "\n",
    "This entire section can be omitted if users are not using Google Colab at all."
   ]
  },
  {
   "cell_type": "code",
   "execution_count": null,
   "metadata": {
    "colab": {
     "base_uri": "https://localhost:8080/"
    },
    "id": "cYEnWGicnnC0",
    "outputId": "d29511b8-2349-4bce-f9d6-c56df161a934"
   },
   "outputs": [
    {
     "name": "stdout",
     "output_type": "stream",
     "text": [
      "Warning: Permanently added the RSA host key for IP address '140.82.121.3' to the list of known hosts.\n",
      "Hi ngzhankang! You've successfully authenticated, but GitHub does not provide shell access.\n"
     ]
    }
   ],
   "source": [
    "!ssh -T git@github.com"
   ]
  },
  {
   "cell_type": "markdown",
   "metadata": {
    "id": "0gtHa7l8ID8u"
   },
   "source": [
    "### 1.3. Clone Private Repository\n",
    "\n",
    "---\n",
    "\n",
    "This entire section can be omitted if users are not using Google Colab at all."
   ]
  },
  {
   "cell_type": "code",
   "execution_count": null,
   "metadata": {
    "colab": {
     "base_uri": "https://localhost:8080/"
    },
    "id": "y7c65FyJIEXu",
    "outputId": "17a1b6de-dcca-4512-b4ac-cde37ec35f23"
   },
   "outputs": [
    {
     "name": "stdout",
     "output_type": "stream",
     "text": [
      "Cloning into 'finalYearProjectUOB'...\n",
      "remote: Enumerating objects: 145, done.\u001b[K\n",
      "remote: Counting objects: 100% (145/145), done.\u001b[K\n",
      "remote: Compressing objects: 100% (127/127), done.\u001b[K\n",
      "remote: Total 145 (delta 46), reused 58 (delta 16), pack-reused 0\u001b[K\n",
      "Receiving objects: 100% (145/145), 96.56 MiB | 9.40 MiB/s, done.\n",
      "Resolving deltas: 100% (46/46), done.\n"
     ]
    }
   ],
   "source": [
    "!git clone git@github.com:ngzhankang/finalYearProjectUOB.git"
   ]
  },
  {
   "cell_type": "markdown",
   "metadata": {
    "id": "lpQsykkUqHOB"
   },
   "source": [
    "---\n",
    "---"
   ]
  },
  {
   "cell_type": "markdown",
   "metadata": {
    "id": "D74lUe_QF3kh"
   },
   "source": [
    "# 2.Data Importing"
   ]
  },
  {
   "cell_type": "markdown",
   "metadata": {
    "id": "6VbDZ5ymKTR6"
   },
   "source": [
    "### 2.1. Load the libraries\n",
    "\n",
    "---\n",
    "\n",
    "Load the necessary libraries for usage in the entire project."
   ]
  },
  {
   "cell_type": "code",
   "execution_count": 1,
   "metadata": {
    "colab": {
     "base_uri": "https://localhost:8080/"
    },
    "id": "hMBiWwY8sBBl",
    "outputId": "0d969ce1-42c8-4a95-c435-f8330cfdad9c"
   },
   "outputs": [
    {
     "name": "stdout",
     "output_type": "stream",
     "text": [
      "nvcc: NVIDIA (R) Cuda compiler driver\n",
      "Copyright (c) 2005-2021 NVIDIA Corporation\n",
      "Built on Sun_Feb_14_21:12:58_PST_2021\n",
      "Cuda compilation tools, release 11.2, V11.2.152\n",
      "Build cuda_11.2.r11.2/compiler.29618528_0\n"
     ]
    }
   ],
   "source": [
    "! nvcc --version"
   ]
  },
  {
   "cell_type": "markdown",
   "metadata": {
    "id": "4FacXEFOsC04"
   },
   "source": [
    "### 2.2. Check CUDA Version\n",
    "\n",
    "---\n",
    "\n",
    "We need to check the cuda version to download the correct version of spaCy for this application."
   ]
  },
  {
   "cell_type": "code",
   "execution_count": 2,
   "metadata": {
    "id": "U_20qw2UohOC"
   },
   "outputs": [],
   "source": [
    "# suppress future warnings\n",
    "import warnings\n",
    "warnings.filterwarnings('ignore')"
   ]
  },
  {
   "cell_type": "code",
   "execution_count": 3,
   "metadata": {
    "colab": {
     "base_uri": "https://localhost:8080/"
    },
    "id": "EldCY0t9v2uV",
    "outputId": "4f916a20-fc75-4191-c2fc-a21b909dce18"
   },
   "outputs": [
    {
     "name": "stdout",
     "output_type": "stream",
     "text": [
      "Collecting tensorflow_addons\n",
      "  Downloading tensorflow_addons-0.13.0-cp39-cp39-manylinux2010_x86_64.whl (679 kB)\n",
      "\u001b[K     |████████████████████████████████| 679 kB 21.4 MB/s eta 0:00:01\n",
      "\u001b[?25hCollecting typeguard>=2.7\n",
      "  Downloading typeguard-2.12.1-py3-none-any.whl (17 kB)\n",
      "Installing collected packages: typeguard, tensorflow-addons\n",
      "Successfully installed tensorflow-addons-0.13.0 typeguard-2.12.1\n",
      "Requirement already satisfied: spacy in /home/yak/anaconda3/envs/uob_fyp/lib/python3.9/site-packages (3.0.6)\n",
      "Requirement already satisfied: pydantic<1.8.0,>=1.7.1 in /home/yak/anaconda3/envs/uob_fyp/lib/python3.9/site-packages (from spacy) (1.7.3)\n",
      "Requirement already satisfied: requests<3.0.0,>=2.13.0 in /home/yak/anaconda3/envs/uob_fyp/lib/python3.9/site-packages (from spacy) (2.25.1)\n",
      "Requirement already satisfied: thinc<8.1.0,>=8.0.3 in /home/yak/anaconda3/envs/uob_fyp/lib/python3.9/site-packages (from spacy) (8.0.3)\n",
      "Requirement already satisfied: typer<0.4.0,>=0.3.0 in /home/yak/anaconda3/envs/uob_fyp/lib/python3.9/site-packages (from spacy) (0.3.2)\n",
      "Requirement already satisfied: murmurhash<1.1.0,>=0.28.0 in /home/yak/anaconda3/envs/uob_fyp/lib/python3.9/site-packages (from spacy) (1.0.5)\n",
      "Requirement already satisfied: pathy>=0.3.5 in /home/yak/anaconda3/envs/uob_fyp/lib/python3.9/site-packages (from spacy) (0.5.2)\n",
      "Requirement already satisfied: wasabi<1.1.0,>=0.8.1 in /home/yak/anaconda3/envs/uob_fyp/lib/python3.9/site-packages (from spacy) (0.8.2)\n",
      "Requirement already satisfied: spacy-legacy<3.1.0,>=3.0.4 in /home/yak/anaconda3/envs/uob_fyp/lib/python3.9/site-packages (from spacy) (3.0.5)\n",
      "Requirement already satisfied: tqdm<5.0.0,>=4.38.0 in /home/yak/anaconda3/envs/uob_fyp/lib/python3.9/site-packages (from spacy) (4.60.0)\n",
      "Requirement already satisfied: numpy>=1.15.0 in /home/yak/anaconda3/envs/uob_fyp/lib/python3.9/site-packages (from spacy) (1.19.5)\n",
      "Requirement already satisfied: setuptools in /home/yak/anaconda3/envs/uob_fyp/lib/python3.9/site-packages (from spacy) (52.0.0.post20210125)\n",
      "Requirement already satisfied: jinja2 in /home/yak/anaconda3/envs/uob_fyp/lib/python3.9/site-packages (from spacy) (3.0.0)\n",
      "Requirement already satisfied: srsly<3.0.0,>=2.4.1 in /home/yak/anaconda3/envs/uob_fyp/lib/python3.9/site-packages (from spacy) (2.4.1)\n",
      "Requirement already satisfied: catalogue<2.1.0,>=2.0.3 in /home/yak/anaconda3/envs/uob_fyp/lib/python3.9/site-packages (from spacy) (2.0.4)\n",
      "Requirement already satisfied: preshed<3.1.0,>=3.0.2 in /home/yak/anaconda3/envs/uob_fyp/lib/python3.9/site-packages (from spacy) (3.0.5)\n",
      "Requirement already satisfied: cymem<2.1.0,>=2.0.2 in /home/yak/anaconda3/envs/uob_fyp/lib/python3.9/site-packages (from spacy) (2.0.5)\n",
      "Requirement already satisfied: blis<0.8.0,>=0.4.0 in /home/yak/anaconda3/envs/uob_fyp/lib/python3.9/site-packages (from spacy) (0.7.4)\n",
      "Requirement already satisfied: packaging>=20.0 in /home/yak/anaconda3/envs/uob_fyp/lib/python3.9/site-packages (from spacy) (20.9)\n",
      "Requirement already satisfied: pyparsing>=2.0.2 in /home/yak/anaconda3/envs/uob_fyp/lib/python3.9/site-packages (from packaging>=20.0->spacy) (2.4.7)\n",
      "Requirement already satisfied: smart-open<4.0.0,>=2.2.0 in /home/yak/anaconda3/envs/uob_fyp/lib/python3.9/site-packages (from pathy>=0.3.5->spacy) (3.0.0)\n",
      "Requirement already satisfied: chardet<5,>=3.0.2 in /home/yak/anaconda3/envs/uob_fyp/lib/python3.9/site-packages (from requests<3.0.0,>=2.13.0->spacy) (4.0.0)\n",
      "Requirement already satisfied: idna<3,>=2.5 in /home/yak/anaconda3/envs/uob_fyp/lib/python3.9/site-packages (from requests<3.0.0,>=2.13.0->spacy) (2.10)\n",
      "Requirement already satisfied: certifi>=2017.4.17 in /home/yak/anaconda3/envs/uob_fyp/lib/python3.9/site-packages (from requests<3.0.0,>=2.13.0->spacy) (2021.5.30)\n",
      "Requirement already satisfied: urllib3<1.27,>=1.21.1 in /home/yak/anaconda3/envs/uob_fyp/lib/python3.9/site-packages (from requests<3.0.0,>=2.13.0->spacy) (1.26.4)\n",
      "Requirement already satisfied: click<7.2.0,>=7.1.1 in /home/yak/anaconda3/envs/uob_fyp/lib/python3.9/site-packages (from typer<0.4.0,>=0.3.0->spacy) (7.1.2)\n",
      "Requirement already satisfied: MarkupSafe>=2.0.0rc2 in /home/yak/anaconda3/envs/uob_fyp/lib/python3.9/site-packages (from jinja2->spacy) (2.0.1)\n",
      "2021-06-16 12:39:53.531967: I tensorflow/stream_executor/platform/default/dso_loader.cc:53] Successfully opened dynamic library libcudart.so.11.0\n",
      "\u001b[2K\u001b[38;5;2m✔ Loaded compatibility table\u001b[0m\n",
      "\u001b[1m\n",
      "================= Installed pipeline packages (spaCy v3.0.6) =================\u001b[0m\n",
      "\u001b[38;5;4mℹ spaCy installation:\n",
      "/home/yak/anaconda3/envs/uob_fyp/lib/python3.9/site-packages/spacy\u001b[0m\n",
      "\n",
      "NAME             SPACY            VERSION                            \n",
      "en_core_web_lg   >=3.0.0,<3.1.0   \u001b[38;5;2m3.0.0\u001b[0m   \u001b[38;5;2m✔\u001b[0m\n",
      "\n",
      "Requirement already satisfied: pip in /home/yak/anaconda3/envs/uob_fyp/lib/python3.9/site-packages (21.0.1)\n",
      "Collecting pip\n",
      "  Downloading pip-21.1.2-py3-none-any.whl (1.5 MB)\n",
      "\u001b[K     |████████████████████████████████| 1.5 MB 32.0 MB/s eta 0:00:01\n",
      "\u001b[?25hRequirement already satisfied: setuptools in /home/yak/anaconda3/envs/uob_fyp/lib/python3.9/site-packages (52.0.0.post20210125)\n",
      "Collecting setuptools\n",
      "  Downloading setuptools-57.0.0-py3-none-any.whl (821 kB)\n",
      "\u001b[K     |████████████████████████████████| 821 kB 96.1 MB/s eta 0:00:01\n",
      "\u001b[?25hRequirement already satisfied: wheel in /home/yak/anaconda3/envs/uob_fyp/lib/python3.9/site-packages (0.36.2)\n",
      "Installing collected packages: setuptools, pip\n",
      "  Attempting uninstall: setuptools\n",
      "    Found existing installation: setuptools 52.0.0.post20210125\n",
      "    Uninstalling setuptools-52.0.0.post20210125:\n",
      "      Successfully uninstalled setuptools-52.0.0.post20210125\n",
      "  Attempting uninstall: pip\n",
      "    Found existing installation: pip 21.0.1\n",
      "    Uninstalling pip-21.0.1:\n",
      "      Successfully uninstalled pip-21.0.1\n",
      "Successfully installed pip-21.1.2 setuptools-57.0.0\n",
      "Requirement already satisfied: spacy[cuda110,lookups,transformers] in /home/yak/anaconda3/envs/uob_fyp/lib/python3.9/site-packages (3.0.6)\n",
      "Requirement already satisfied: pydantic<1.8.0,>=1.7.1 in /home/yak/anaconda3/envs/uob_fyp/lib/python3.9/site-packages (from spacy[cuda110,lookups,transformers]) (1.7.3)\n",
      "Requirement already satisfied: pathy>=0.3.5 in /home/yak/anaconda3/envs/uob_fyp/lib/python3.9/site-packages (from spacy[cuda110,lookups,transformers]) (0.5.2)\n",
      "Requirement already satisfied: thinc<8.1.0,>=8.0.3 in /home/yak/anaconda3/envs/uob_fyp/lib/python3.9/site-packages (from spacy[cuda110,lookups,transformers]) (8.0.3)\n",
      "Requirement already satisfied: blis<0.8.0,>=0.4.0 in /home/yak/anaconda3/envs/uob_fyp/lib/python3.9/site-packages (from spacy[cuda110,lookups,transformers]) (0.7.4)\n",
      "Requirement already satisfied: wasabi<1.1.0,>=0.8.1 in /home/yak/anaconda3/envs/uob_fyp/lib/python3.9/site-packages (from spacy[cuda110,lookups,transformers]) (0.8.2)\n",
      "Requirement already satisfied: tqdm<5.0.0,>=4.38.0 in /home/yak/anaconda3/envs/uob_fyp/lib/python3.9/site-packages (from spacy[cuda110,lookups,transformers]) (4.60.0)\n",
      "Requirement already satisfied: requests<3.0.0,>=2.13.0 in /home/yak/anaconda3/envs/uob_fyp/lib/python3.9/site-packages (from spacy[cuda110,lookups,transformers]) (2.25.1)\n",
      "Requirement already satisfied: jinja2 in /home/yak/anaconda3/envs/uob_fyp/lib/python3.9/site-packages (from spacy[cuda110,lookups,transformers]) (3.0.0)\n",
      "Requirement already satisfied: preshed<3.1.0,>=3.0.2 in /home/yak/anaconda3/envs/uob_fyp/lib/python3.9/site-packages (from spacy[cuda110,lookups,transformers]) (3.0.5)\n",
      "Requirement already satisfied: catalogue<2.1.0,>=2.0.3 in /home/yak/anaconda3/envs/uob_fyp/lib/python3.9/site-packages (from spacy[cuda110,lookups,transformers]) (2.0.4)\n",
      "Requirement already satisfied: murmurhash<1.1.0,>=0.28.0 in /home/yak/anaconda3/envs/uob_fyp/lib/python3.9/site-packages (from spacy[cuda110,lookups,transformers]) (1.0.5)\n",
      "Requirement already satisfied: packaging>=20.0 in /home/yak/anaconda3/envs/uob_fyp/lib/python3.9/site-packages (from spacy[cuda110,lookups,transformers]) (20.9)\n",
      "Requirement already satisfied: cymem<2.1.0,>=2.0.2 in /home/yak/anaconda3/envs/uob_fyp/lib/python3.9/site-packages (from spacy[cuda110,lookups,transformers]) (2.0.5)\n",
      "Requirement already satisfied: typer<0.4.0,>=0.3.0 in /home/yak/anaconda3/envs/uob_fyp/lib/python3.9/site-packages (from spacy[cuda110,lookups,transformers]) (0.3.2)\n",
      "Requirement already satisfied: srsly<3.0.0,>=2.4.1 in /home/yak/anaconda3/envs/uob_fyp/lib/python3.9/site-packages (from spacy[cuda110,lookups,transformers]) (2.4.1)\n",
      "Requirement already satisfied: numpy>=1.15.0 in /home/yak/anaconda3/envs/uob_fyp/lib/python3.9/site-packages (from spacy[cuda110,lookups,transformers]) (1.19.5)\n",
      "Requirement already satisfied: spacy-legacy<3.1.0,>=3.0.4 in /home/yak/anaconda3/envs/uob_fyp/lib/python3.9/site-packages (from spacy[cuda110,lookups,transformers]) (3.0.5)\n",
      "Requirement already satisfied: setuptools in /home/yak/anaconda3/envs/uob_fyp/lib/python3.9/site-packages (from spacy[cuda110,lookups,transformers]) (57.0.0)\n",
      "Requirement already satisfied: spacy-transformers<1.1.0,>=1.0.1 in /home/yak/anaconda3/envs/uob_fyp/lib/python3.9/site-packages (from spacy[cuda110,lookups,transformers]) (1.0.2)\n",
      "Requirement already satisfied: spacy-lookups-data<1.1.0,>=1.0.0 in /home/yak/anaconda3/envs/uob_fyp/lib/python3.9/site-packages (from spacy[cuda110,lookups,transformers]) (1.0.0)\n",
      "Requirement already satisfied: cupy-cuda110<9.0.0,>=5.0.0b4 in /home/yak/anaconda3/envs/uob_fyp/lib/python3.9/site-packages (from spacy[cuda110,lookups,transformers]) (8.6.0)\n",
      "Requirement already satisfied: fastrlock>=0.3 in /home/yak/anaconda3/envs/uob_fyp/lib/python3.9/site-packages (from cupy-cuda110<9.0.0,>=5.0.0b4->spacy[cuda110,lookups,transformers]) (0.6)\n",
      "Requirement already satisfied: pyparsing>=2.0.2 in /home/yak/anaconda3/envs/uob_fyp/lib/python3.9/site-packages (from packaging>=20.0->spacy[cuda110,lookups,transformers]) (2.4.7)\n",
      "Requirement already satisfied: smart-open<4.0.0,>=2.2.0 in /home/yak/anaconda3/envs/uob_fyp/lib/python3.9/site-packages (from pathy>=0.3.5->spacy[cuda110,lookups,transformers]) (3.0.0)\n",
      "Requirement already satisfied: urllib3<1.27,>=1.21.1 in /home/yak/anaconda3/envs/uob_fyp/lib/python3.9/site-packages (from requests<3.0.0,>=2.13.0->spacy[cuda110,lookups,transformers]) (1.26.4)\n",
      "Requirement already satisfied: idna<3,>=2.5 in /home/yak/anaconda3/envs/uob_fyp/lib/python3.9/site-packages (from requests<3.0.0,>=2.13.0->spacy[cuda110,lookups,transformers]) (2.10)\n",
      "Requirement already satisfied: chardet<5,>=3.0.2 in /home/yak/anaconda3/envs/uob_fyp/lib/python3.9/site-packages (from requests<3.0.0,>=2.13.0->spacy[cuda110,lookups,transformers]) (4.0.0)\n",
      "Requirement already satisfied: certifi>=2017.4.17 in /home/yak/anaconda3/envs/uob_fyp/lib/python3.9/site-packages (from requests<3.0.0,>=2.13.0->spacy[cuda110,lookups,transformers]) (2021.5.30)\n",
      "Requirement already satisfied: torch>=1.5.0 in /home/yak/anaconda3/envs/uob_fyp/lib/python3.9/site-packages (from spacy-transformers<1.1.0,>=1.0.1->spacy[cuda110,lookups,transformers]) (1.8.1)\n",
      "Requirement already satisfied: spacy-alignments<1.0.0,>=0.7.2 in /home/yak/anaconda3/envs/uob_fyp/lib/python3.9/site-packages (from spacy-transformers<1.1.0,>=1.0.1->spacy[cuda110,lookups,transformers]) (0.8.3)\n",
      "Requirement already satisfied: transformers<4.6.0,>=3.4.0 in /home/yak/anaconda3/envs/uob_fyp/lib/python3.9/site-packages (from spacy-transformers<1.1.0,>=1.0.1->spacy[cuda110,lookups,transformers]) (4.5.1)\n",
      "Requirement already satisfied: typing-extensions in /home/yak/anaconda3/envs/uob_fyp/lib/python3.9/site-packages (from torch>=1.5.0->spacy-transformers<1.1.0,>=1.0.1->spacy[cuda110,lookups,transformers]) (3.7.4.3)\n",
      "Requirement already satisfied: regex!=2019.12.17 in /home/yak/anaconda3/envs/uob_fyp/lib/python3.9/site-packages (from transformers<4.6.0,>=3.4.0->spacy-transformers<1.1.0,>=1.0.1->spacy[cuda110,lookups,transformers]) (2021.4.4)\n",
      "Requirement already satisfied: sacremoses in /home/yak/anaconda3/envs/uob_fyp/lib/python3.9/site-packages (from transformers<4.6.0,>=3.4.0->spacy-transformers<1.1.0,>=1.0.1->spacy[cuda110,lookups,transformers]) (0.0.45)\n",
      "Requirement already satisfied: filelock in /home/yak/anaconda3/envs/uob_fyp/lib/python3.9/site-packages (from transformers<4.6.0,>=3.4.0->spacy-transformers<1.1.0,>=1.0.1->spacy[cuda110,lookups,transformers]) (3.0.12)\n",
      "Requirement already satisfied: tokenizers<0.11,>=0.10.1 in /home/yak/anaconda3/envs/uob_fyp/lib/python3.9/site-packages (from transformers<4.6.0,>=3.4.0->spacy-transformers<1.1.0,>=1.0.1->spacy[cuda110,lookups,transformers]) (0.10.2)\n",
      "Requirement already satisfied: click<7.2.0,>=7.1.1 in /home/yak/anaconda3/envs/uob_fyp/lib/python3.9/site-packages (from typer<0.4.0,>=0.3.0->spacy[cuda110,lookups,transformers]) (7.1.2)\n",
      "Requirement already satisfied: MarkupSafe>=2.0.0rc2 in /home/yak/anaconda3/envs/uob_fyp/lib/python3.9/site-packages (from jinja2->spacy[cuda110,lookups,transformers]) (2.0.1)\n",
      "Requirement already satisfied: joblib in /home/yak/anaconda3/envs/uob_fyp/lib/python3.9/site-packages (from sacremoses->transformers<4.6.0,>=3.4.0->spacy-transformers<1.1.0,>=1.0.1->spacy[cuda110,lookups,transformers]) (1.0.1)\n",
      "Requirement already satisfied: six in /home/yak/anaconda3/envs/uob_fyp/lib/python3.9/site-packages (from sacremoses->transformers<4.6.0,>=3.4.0->spacy-transformers<1.1.0,>=1.0.1->spacy[cuda110,lookups,transformers]) (1.16.0)\n",
      "2021-06-16 12:39:59.313058: I tensorflow/stream_executor/platform/default/dso_loader.cc:53] Successfully opened dynamic library libcudart.so.11.0\n",
      "Collecting en-core-web-lg==3.0.0\n",
      "  Downloading https://github.com/explosion/spacy-models/releases/download/en_core_web_lg-3.0.0/en_core_web_lg-3.0.0-py3-none-any.whl (778.8 MB)\n",
      "\u001b[K     |████████████████████████████████| 778.8 MB 81 kB/s s eta 0:00:01     |████▏                           | 101.1 MB 18.2 MB/s eta 0:00:38     |███████▎                        | 177.2 MB 11.6 MB/s eta 0:00:52     |███████▋                        | 185.7 MB 22.2 MB/s eta 0:00:27     |████████                        | 195.1 MB 22.2 MB/s eta 0:00:27     |████████▊                       | 213.2 MB 19.0 MB/s eta 0:00:30     |█████████▎                      | 226.7 MB 29.3 MB/s eta 0:00:19     |████████████                    | 294.4 MB 16.2 MB/s eta 0:00:30     |█████████████▌                  | 327.4 MB 7.2 MB/s eta 0:01:04     |███████████████▎                | 371.1 MB 21.1 MB/s eta 0:00:20     |████████████████▊               | 408.0 MB 17.7 MB/s eta 0:00:21     |███████████████████▎            | 470.1 MB 17.3 MB/s eta 0:00:18     |█████████████████████▋          | 525.9 MB 26.2 MB/s eta 0:00:10     |██████████████████████▊         | 553.3 MB 9.6 MB/s eta 0:00:24     |███████████████████████         | 557.7 MB 27.0 MB/s eta 0:00:09     |██████████████████████████████  | 731.4 MB 29.0 MB/s eta 0:00:02     |██████████████████████████████▍ | 738.6 MB 14.0 MB/s eta 0:00:03     |███████████████████████████████▎| 762.4 MB 23.6 MB/s eta 0:00:01\n",
      "\u001b[?25hRequirement already satisfied: spacy<3.1.0,>=3.0.0 in /home/yak/anaconda3/envs/uob_fyp/lib/python3.9/site-packages (from en-core-web-lg==3.0.0) (3.0.6)\n",
      "Requirement already satisfied: spacy-legacy<3.1.0,>=3.0.4 in /home/yak/anaconda3/envs/uob_fyp/lib/python3.9/site-packages (from spacy<3.1.0,>=3.0.0->en-core-web-lg==3.0.0) (3.0.5)\n",
      "Requirement already satisfied: cymem<2.1.0,>=2.0.2 in /home/yak/anaconda3/envs/uob_fyp/lib/python3.9/site-packages (from spacy<3.1.0,>=3.0.0->en-core-web-lg==3.0.0) (2.0.5)\n",
      "Requirement already satisfied: setuptools in /home/yak/anaconda3/envs/uob_fyp/lib/python3.9/site-packages (from spacy<3.1.0,>=3.0.0->en-core-web-lg==3.0.0) (57.0.0)\n",
      "Requirement already satisfied: tqdm<5.0.0,>=4.38.0 in /home/yak/anaconda3/envs/uob_fyp/lib/python3.9/site-packages (from spacy<3.1.0,>=3.0.0->en-core-web-lg==3.0.0) (4.60.0)\n",
      "Requirement already satisfied: thinc<8.1.0,>=8.0.3 in /home/yak/anaconda3/envs/uob_fyp/lib/python3.9/site-packages (from spacy<3.1.0,>=3.0.0->en-core-web-lg==3.0.0) (8.0.3)\n",
      "Requirement already satisfied: blis<0.8.0,>=0.4.0 in /home/yak/anaconda3/envs/uob_fyp/lib/python3.9/site-packages (from spacy<3.1.0,>=3.0.0->en-core-web-lg==3.0.0) (0.7.4)\n",
      "Requirement already satisfied: srsly<3.0.0,>=2.4.1 in /home/yak/anaconda3/envs/uob_fyp/lib/python3.9/site-packages (from spacy<3.1.0,>=3.0.0->en-core-web-lg==3.0.0) (2.4.1)\n",
      "Requirement already satisfied: jinja2 in /home/yak/anaconda3/envs/uob_fyp/lib/python3.9/site-packages (from spacy<3.1.0,>=3.0.0->en-core-web-lg==3.0.0) (3.0.0)\n",
      "Requirement already satisfied: pydantic<1.8.0,>=1.7.1 in /home/yak/anaconda3/envs/uob_fyp/lib/python3.9/site-packages (from spacy<3.1.0,>=3.0.0->en-core-web-lg==3.0.0) (1.7.3)\n",
      "Requirement already satisfied: packaging>=20.0 in /home/yak/anaconda3/envs/uob_fyp/lib/python3.9/site-packages (from spacy<3.1.0,>=3.0.0->en-core-web-lg==3.0.0) (20.9)\n",
      "Requirement already satisfied: murmurhash<1.1.0,>=0.28.0 in /home/yak/anaconda3/envs/uob_fyp/lib/python3.9/site-packages (from spacy<3.1.0,>=3.0.0->en-core-web-lg==3.0.0) (1.0.5)\n",
      "Requirement already satisfied: preshed<3.1.0,>=3.0.2 in /home/yak/anaconda3/envs/uob_fyp/lib/python3.9/site-packages (from spacy<3.1.0,>=3.0.0->en-core-web-lg==3.0.0) (3.0.5)\n",
      "Requirement already satisfied: typer<0.4.0,>=0.3.0 in /home/yak/anaconda3/envs/uob_fyp/lib/python3.9/site-packages (from spacy<3.1.0,>=3.0.0->en-core-web-lg==3.0.0) (0.3.2)\n",
      "Requirement already satisfied: pathy>=0.3.5 in /home/yak/anaconda3/envs/uob_fyp/lib/python3.9/site-packages (from spacy<3.1.0,>=3.0.0->en-core-web-lg==3.0.0) (0.5.2)\n",
      "Requirement already satisfied: numpy>=1.15.0 in /home/yak/anaconda3/envs/uob_fyp/lib/python3.9/site-packages (from spacy<3.1.0,>=3.0.0->en-core-web-lg==3.0.0) (1.19.5)\n",
      "Requirement already satisfied: catalogue<2.1.0,>=2.0.3 in /home/yak/anaconda3/envs/uob_fyp/lib/python3.9/site-packages (from spacy<3.1.0,>=3.0.0->en-core-web-lg==3.0.0) (2.0.4)\n",
      "Requirement already satisfied: wasabi<1.1.0,>=0.8.1 in /home/yak/anaconda3/envs/uob_fyp/lib/python3.9/site-packages (from spacy<3.1.0,>=3.0.0->en-core-web-lg==3.0.0) (0.8.2)\n",
      "Requirement already satisfied: requests<3.0.0,>=2.13.0 in /home/yak/anaconda3/envs/uob_fyp/lib/python3.9/site-packages (from spacy<3.1.0,>=3.0.0->en-core-web-lg==3.0.0) (2.25.1)\n",
      "Requirement already satisfied: pyparsing>=2.0.2 in /home/yak/anaconda3/envs/uob_fyp/lib/python3.9/site-packages (from packaging>=20.0->spacy<3.1.0,>=3.0.0->en-core-web-lg==3.0.0) (2.4.7)\n",
      "Requirement already satisfied: smart-open<4.0.0,>=2.2.0 in /home/yak/anaconda3/envs/uob_fyp/lib/python3.9/site-packages (from pathy>=0.3.5->spacy<3.1.0,>=3.0.0->en-core-web-lg==3.0.0) (3.0.0)\n",
      "Requirement already satisfied: chardet<5,>=3.0.2 in /home/yak/anaconda3/envs/uob_fyp/lib/python3.9/site-packages (from requests<3.0.0,>=2.13.0->spacy<3.1.0,>=3.0.0->en-core-web-lg==3.0.0) (4.0.0)\n",
      "Requirement already satisfied: certifi>=2017.4.17 in /home/yak/anaconda3/envs/uob_fyp/lib/python3.9/site-packages (from requests<3.0.0,>=2.13.0->spacy<3.1.0,>=3.0.0->en-core-web-lg==3.0.0) (2021.5.30)\n",
      "Requirement already satisfied: idna<3,>=2.5 in /home/yak/anaconda3/envs/uob_fyp/lib/python3.9/site-packages (from requests<3.0.0,>=2.13.0->spacy<3.1.0,>=3.0.0->en-core-web-lg==3.0.0) (2.10)\n",
      "Requirement already satisfied: urllib3<1.27,>=1.21.1 in /home/yak/anaconda3/envs/uob_fyp/lib/python3.9/site-packages (from requests<3.0.0,>=2.13.0->spacy<3.1.0,>=3.0.0->en-core-web-lg==3.0.0) (1.26.4)\n",
      "Requirement already satisfied: click<7.2.0,>=7.1.1 in /home/yak/anaconda3/envs/uob_fyp/lib/python3.9/site-packages (from typer<0.4.0,>=0.3.0->spacy<3.1.0,>=3.0.0->en-core-web-lg==3.0.0) (7.1.2)\n",
      "Requirement already satisfied: MarkupSafe>=2.0.0rc2 in /home/yak/anaconda3/envs/uob_fyp/lib/python3.9/site-packages (from jinja2->spacy<3.1.0,>=3.0.0->en-core-web-lg==3.0.0) (2.0.1)\n",
      "\u001b[38;5;2m✔ Download and installation successful\u001b[0m\n",
      "You can now load the package via spacy.load('en_core_web_lg')\n"
     ]
    },
    {
     "name": "stderr",
     "output_type": "stream",
     "text": [
      "UsageError: Line magic function `%tensorflow_version` not found.\n"
     ]
    }
   ],
   "source": [
    "# install necessary libraries that might not be found\n",
    "!pip install tensorflow_addons\n",
    "!pip install -U spacy\n",
    "!python -m spacy validate\n",
    "!pip install -U pip setuptools wheel\n",
    "!pip install -U spacy[cuda110,transformers,lookups]\n",
    "!python -m spacy download en_core_web_lg\n",
    "\n",
    "# check versions of libraries we are going to use\n",
    "%tensorflow_version 2.x\n",
    "import os\n",
    "import tensorflow\n",
    "import sklearn\n",
    "import numpy as np\n",
    "import pandas as pd\n",
    "import seaborn as sns\n",
    "import matplotlib\n",
    "import spacy\n",
    "import platform\n",
    "\n",
    "message=\"        Versions        \"\n",
    "print(\"*\"*len(message))\n",
    "print(message)\n",
    "print(\"*\"*len(message))\n",
    "print(\"Tensorflow version={}\".format(tensorflow.__version__))\n",
    "print(\"Keras version={}\".format(tensorflow.keras.__version__))\n",
    "print(\"Sklearn version={}\".format(sklearn.__version__))\n",
    "print(\"Numpy version={}\".format(np.__version__))\n",
    "print(\"Pandas version={}\".format(pd.__version__))\n",
    "print(\"Seaborn version={}\".format(sns.__version__))\n",
    "print(\"Matplotlib version={}\".format(matplotlib.__version__))\n",
    "print(\"SpaCy version={}\".format(spacy.__version__))\n",
    "print(\"Python version={}\".format(platform.python_version()))"
   ]
  },
  {
   "cell_type": "markdown",
   "metadata": {
    "id": "leKoAEG_KWf8"
   },
   "source": [
    "### 2.3. Load the modules\n",
    "\n",
    "---\n",
    "\n",
    "Load the necessary modules for usage in the entire project."
   ]
  },
  {
   "cell_type": "code",
   "execution_count": 5,
   "metadata": {
    "id": "U04wypEUv2p1"
   },
   "outputs": [],
   "source": [
    "# importing necessary modules for this project\n",
    "import tensorflow as tf\n",
    "\n",
    "import pandas as pd\n",
    "import matplotlib.pyplot as plt\n",
    "import seaborn as sns\n",
    "import numpy as np\n",
    "import string\n",
    "import spacy\n",
    "\n",
    "# activate the GPU to run spaCy with GPU\n",
    "spacy.prefer_gpu()\n",
    "\n",
    "%matplotlib inline"
   ]
  },
  {
   "cell_type": "markdown",
   "metadata": {
    "id": "ca1X-gSJKap_"
   },
   "source": [
    "### 2.4. Load the dataset\n",
    "\n",
    "---\n",
    "\n",
    "Load the dataset for usage in the entire project."
   ]
  },
  {
   "cell_type": "code",
   "execution_count": 6,
   "metadata": {
    "colab": {
     "base_uri": "https://localhost:8080/",
     "height": 1000
    },
    "id": "owSKzElwKdh1",
    "outputId": "5d429962-7ec5-4f5f-c3d6-c4fc7709dbc7"
   },
   "outputs": [
    {
     "data": {
      "text/html": [
       "<div>\n",
       "<style scoped>\n",
       "    .dataframe tbody tr th:only-of-type {\n",
       "        vertical-align: middle;\n",
       "    }\n",
       "\n",
       "    .dataframe tbody tr th {\n",
       "        vertical-align: top;\n",
       "    }\n",
       "\n",
       "    .dataframe thead th {\n",
       "        text-align: right;\n",
       "    }\n",
       "</style>\n",
       "<table border=\"1\" class=\"dataframe\">\n",
       "  <thead>\n",
       "    <tr style=\"text-align: right;\">\n",
       "      <th></th>\n",
       "      <th>Company_ID</th>\n",
       "      <th>Company</th>\n",
       "      <th>Country</th>\n",
       "      <th>PIC</th>\n",
       "      <th>Sector</th>\n",
       "      <th>Subsector</th>\n",
       "      <th>Archetype</th>\n",
       "      <th>Valuechain</th>\n",
       "      <th>Websites</th>\n",
       "      <th>Company Profile Information</th>\n",
       "      <th>Remarks</th>\n",
       "    </tr>\n",
       "  </thead>\n",
       "  <tbody>\n",
       "    <tr>\n",
       "      <th>0</th>\n",
       "      <td>4137190062363536</td>\n",
       "      <td>AKSORN CHAROEN TAT ACT. CO.,LTD.</td>\n",
       "      <td>THAILAND</td>\n",
       "      <td>NaN</td>\n",
       "      <td>TMT</td>\n",
       "      <td>media</td>\n",
       "      <td>media_aggregator/distributor</td>\n",
       "      <td>Midstream</td>\n",
       "      <td>https://getlinks.co/6831</td>\n",
       "      <td>For over 80 years of experience in creating an...</td>\n",
       "      <td>NaN</td>\n",
       "    </tr>\n",
       "    <tr>\n",
       "      <th>1</th>\n",
       "      <td>23248790229909748</td>\n",
       "      <td>DONGGUAN SHENGYA CLEANING APPLIAME CO.LTD</td>\n",
       "      <td>CHINA</td>\n",
       "      <td>NaN</td>\n",
       "      <td>TMT</td>\n",
       "      <td>consumer electronics</td>\n",
       "      <td>consumer electronics_distributor</td>\n",
       "      <td>Downstream</td>\n",
       "      <td>https://baike.baidu.com/item/%E4%B8%9C%E8%8E%9...</td>\n",
       "      <td>Yatai's main products cover various cleaning m...</td>\n",
       "      <td>NaN</td>\n",
       "    </tr>\n",
       "    <tr>\n",
       "      <th>2</th>\n",
       "      <td>28486505934571008</td>\n",
       "      <td>EXIS TECH SDN. BHD.</td>\n",
       "      <td>MALAYSIA</td>\n",
       "      <td>NaN</td>\n",
       "      <td>oos</td>\n",
       "      <td>others</td>\n",
       "      <td>others</td>\n",
       "      <td>NaN</td>\n",
       "      <td>http://www.exis-tech.com/</td>\n",
       "      <td>In the beginning, it started off by providing ...</td>\n",
       "      <td>NaN</td>\n",
       "    </tr>\n",
       "    <tr>\n",
       "      <th>3</th>\n",
       "      <td>38251695094669872</td>\n",
       "      <td>BEI JING ESTRABA IMPORT AND EXPORT</td>\n",
       "      <td>CHINA</td>\n",
       "      <td>NaN</td>\n",
       "      <td>NaN</td>\n",
       "      <td>NaN</td>\n",
       "      <td>NaN</td>\n",
       "      <td>NaN</td>\n",
       "      <td>NaN</td>\n",
       "      <td>NaN</td>\n",
       "      <td>NaN</td>\n",
       "    </tr>\n",
       "    <tr>\n",
       "      <th>4</th>\n",
       "      <td>39910921263510776</td>\n",
       "      <td>Aztech Electronics Pte Ltd</td>\n",
       "      <td>SINGAPORE</td>\n",
       "      <td>NaN</td>\n",
       "      <td>TMT</td>\n",
       "      <td>consumer electronics</td>\n",
       "      <td>consumer electronics_distributor</td>\n",
       "      <td>Downstream</td>\n",
       "      <td>https://www.aztech.com/business/about-us/</td>\n",
       "      <td>Being a turnkey, one-stop integrated solutions...</td>\n",
       "      <td>NaN</td>\n",
       "    </tr>\n",
       "    <tr>\n",
       "      <th>5</th>\n",
       "      <td>54863889264716592</td>\n",
       "      <td>TONGDUN INTERNATIONAL PTE LTD</td>\n",
       "      <td>SINGAPORE</td>\n",
       "      <td>NaN</td>\n",
       "      <td>tmt</td>\n",
       "      <td>it_services</td>\n",
       "      <td>it_services</td>\n",
       "      <td>midstream</td>\n",
       "      <td>https://www.tongdun.net/info/company</td>\n",
       "      <td>Tongdun Technology is a professional third-par...</td>\n",
       "      <td>NaN</td>\n",
       "    </tr>\n",
       "    <tr>\n",
       "      <th>6</th>\n",
       "      <td>60624700618157752</td>\n",
       "      <td>EMASTIGA ENGRG PTE LTD</td>\n",
       "      <td>SINGAPORE</td>\n",
       "      <td>NaN</td>\n",
       "      <td>cni</td>\n",
       "      <td>cni_service providers</td>\n",
       "      <td>cni_service providers</td>\n",
       "      <td>midstream</td>\n",
       "      <td>http://emastiga.com/</td>\n",
       "      <td>For over 30 years, EMASTIGA has been servicing...</td>\n",
       "      <td>Holding company and also provides it_services....</td>\n",
       "    </tr>\n",
       "    <tr>\n",
       "      <th>7</th>\n",
       "      <td>102285011598298000</td>\n",
       "      <td>AEROFLUID CO.,LTD.</td>\n",
       "      <td>THAILAND</td>\n",
       "      <td>NaN</td>\n",
       "      <td>CNI</td>\n",
       "      <td>cni_equipment suppliers</td>\n",
       "      <td>cni_equipment suppliers</td>\n",
       "      <td>MIDSTREAM</td>\n",
       "      <td>https://www.matchlink.asia/business/page/Thail...</td>\n",
       "      <td>Sales of hydraulic equipment and parts</td>\n",
       "      <td>NaN</td>\n",
       "    </tr>\n",
       "    <tr>\n",
       "      <th>8</th>\n",
       "      <td>116707715618748400</td>\n",
       "      <td>POLYCOM ASIA PACIFIC PTE. LTD.</td>\n",
       "      <td>SINGAPORE</td>\n",
       "      <td>NaN</td>\n",
       "      <td>tmt</td>\n",
       "      <td>telecommunication</td>\n",
       "      <td>network equipment supplier</td>\n",
       "      <td>upstream</td>\n",
       "      <td>https://www.sgpbusiness.com/company/Polycom-As...</td>\n",
       "      <td>WHOLESALE OF TELECOMMUNICATIONS EQUIPMENT (EXC...</td>\n",
       "      <td>NaN</td>\n",
       "    </tr>\n",
       "    <tr>\n",
       "      <th>9</th>\n",
       "      <td>120313950904532592</td>\n",
       "      <td>EXCELKOS SDN. BHD.</td>\n",
       "      <td>MALAYSIA</td>\n",
       "      <td>NaN</td>\n",
       "      <td>IND</td>\n",
       "      <td>diversified</td>\n",
       "      <td>rubber</td>\n",
       "      <td>Manufacturer</td>\n",
       "      <td>https://www.excelkos.com/</td>\n",
       "      <td>For Excelkos, it all started with a far-sighte...</td>\n",
       "      <td>NaN</td>\n",
       "    </tr>\n",
       "  </tbody>\n",
       "</table>\n",
       "</div>"
      ],
      "text/plain": [
       "           Company_ID                                    Company    Country  \\\n",
       "0    4137190062363536           AKSORN CHAROEN TAT ACT. CO.,LTD.   THAILAND   \n",
       "1   23248790229909748  DONGGUAN SHENGYA CLEANING APPLIAME CO.LTD      CHINA   \n",
       "2   28486505934571008                        EXIS TECH SDN. BHD.   MALAYSIA   \n",
       "3   38251695094669872         BEI JING ESTRABA IMPORT AND EXPORT      CHINA   \n",
       "4   39910921263510776                 Aztech Electronics Pte Ltd  SINGAPORE   \n",
       "5   54863889264716592              TONGDUN INTERNATIONAL PTE LTD  SINGAPORE   \n",
       "6   60624700618157752                     EMASTIGA ENGRG PTE LTD  SINGAPORE   \n",
       "7  102285011598298000                         AEROFLUID CO.,LTD.   THAILAND   \n",
       "8  116707715618748400             POLYCOM ASIA PACIFIC PTE. LTD.  SINGAPORE   \n",
       "9  120313950904532592                         EXCELKOS SDN. BHD.   MALAYSIA   \n",
       "\n",
       "   PIC Sector                Subsector                         Archetype  \\\n",
       "0  NaN    TMT                    media      media_aggregator/distributor   \n",
       "1  NaN    TMT     consumer electronics  consumer electronics_distributor   \n",
       "2  NaN    oos                   others                            others   \n",
       "3  NaN    NaN                      NaN                               NaN   \n",
       "4  NaN    TMT     consumer electronics  consumer electronics_distributor   \n",
       "5  NaN    tmt              it_services                       it_services   \n",
       "6  NaN    cni    cni_service providers             cni_service providers   \n",
       "7  NaN    CNI  cni_equipment suppliers           cni_equipment suppliers   \n",
       "8  NaN    tmt        telecommunication        network equipment supplier   \n",
       "9  NaN    IND              diversified                            rubber   \n",
       "\n",
       "     Valuechain                                           Websites  \\\n",
       "0     Midstream                           https://getlinks.co/6831   \n",
       "1    Downstream  https://baike.baidu.com/item/%E4%B8%9C%E8%8E%9...   \n",
       "2           NaN                          http://www.exis-tech.com/   \n",
       "3           NaN                                                NaN   \n",
       "4    Downstream          https://www.aztech.com/business/about-us/   \n",
       "5     midstream               https://www.tongdun.net/info/company   \n",
       "6     midstream                               http://emastiga.com/   \n",
       "7     MIDSTREAM  https://www.matchlink.asia/business/page/Thail...   \n",
       "8      upstream  https://www.sgpbusiness.com/company/Polycom-As...   \n",
       "9  Manufacturer                          https://www.excelkos.com/   \n",
       "\n",
       "                         Company Profile Information  \\\n",
       "0  For over 80 years of experience in creating an...   \n",
       "1  Yatai's main products cover various cleaning m...   \n",
       "2  In the beginning, it started off by providing ...   \n",
       "3                                                NaN   \n",
       "4  Being a turnkey, one-stop integrated solutions...   \n",
       "5  Tongdun Technology is a professional third-par...   \n",
       "6  For over 30 years, EMASTIGA has been servicing...   \n",
       "7             Sales of hydraulic equipment and parts   \n",
       "8  WHOLESALE OF TELECOMMUNICATIONS EQUIPMENT (EXC...   \n",
       "9  For Excelkos, it all started with a far-sighte...   \n",
       "\n",
       "                                             Remarks  \n",
       "0                                                NaN  \n",
       "1                                                NaN  \n",
       "2                                                NaN  \n",
       "3                                                NaN  \n",
       "4                                                NaN  \n",
       "5                                                NaN  \n",
       "6  Holding company and also provides it_services....  \n",
       "7                                                NaN  \n",
       "8                                                NaN  \n",
       "9                                                NaN  "
      ]
     },
     "execution_count": 6,
     "metadata": {},
     "output_type": "execute_result"
    }
   ],
   "source": [
    "# use pandas to read the excel file and populate it in a pandas dataframe\n",
    "companies = pd.read_excel('./clean_dataset.xlsx')\n",
    "\n",
    "# see the top 10 companies that are populated in the dataframe\n",
    "companies.head(10)"
   ]
  },
  {
   "cell_type": "markdown",
   "metadata": {
    "id": "2TI1D_-KP6hC"
   },
   "source": [
    "---\n",
    "---"
   ]
  },
  {
   "cell_type": "markdown",
   "metadata": {
    "id": "9qKHTDyOP9bz"
   },
   "source": [
    "# 3.Exploratory Data Analysis"
   ]
  },
  {
   "cell_type": "markdown",
   "metadata": {
    "id": "P8p50I8GQCAg"
   },
   "source": [
    "### 3.1. Get overview of dataset\n",
    "\n",
    "---\n",
    "\n",
    "Get statistical information of the dataset to understand the dataset better."
   ]
  },
  {
   "cell_type": "code",
   "execution_count": 7,
   "metadata": {
    "colab": {
     "base_uri": "https://localhost:8080/"
    },
    "id": "2iea82R6Dm2J",
    "outputId": "c6d0d1c8-70ba-4253-d98c-570d0c3f7e29"
   },
   "outputs": [
    {
     "data": {
      "text/plain": [
       "['Company_ID',\n",
       " 'Company',\n",
       " 'Country',\n",
       " 'PIC',\n",
       " 'Sector',\n",
       " 'Subsector',\n",
       " 'Archetype',\n",
       " 'Valuechain',\n",
       " 'Websites',\n",
       " 'Company Profile Information',\n",
       " 'Remarks']"
      ]
     },
     "execution_count": 7,
     "metadata": {},
     "output_type": "execute_result"
    }
   ],
   "source": [
    "# see the row headers of the entire pandas dataframe first\n",
    "list(companies.columns)"
   ]
  },
  {
   "cell_type": "code",
   "execution_count": 8,
   "metadata": {
    "colab": {
     "base_uri": "https://localhost:8080/"
    },
    "id": "OVX1CBSTLZqm",
    "outputId": "06e9981e-f3a1-4f52-8acb-4bd48bb18020"
   },
   "outputs": [
    {
     "name": "stdout",
     "output_type": "stream",
     "text": [
      "Total number of records: 5000\n",
      "Total number of countries: 11\n",
      "Total number of sectors: 14\n",
      "Total number of subsectors: 35\n",
      "Total number of valuechain: 20\n"
     ]
    }
   ],
   "source": [
    "# get the total number of records in the dataframe\n",
    "df_count = companies['Company_ID'].count()\n",
    "\n",
    "# get count of unique contries where companies are based in\n",
    "df_countCountry = companies['Country'].nunique()\n",
    "\n",
    "# get count of total unique sectors where companies are from\n",
    "df_countSector = companies['Sector'].nunique()\n",
    "\n",
    "# get count of total unique subseector where companies are from\n",
    "df_countsubSector = companies['Subsector'].nunique()\n",
    "\n",
    "# get count of total unique valuechain where companies are from\n",
    "df_countValuechain = companies['Valuechain'].nunique()\n",
    "\n",
    "print('Total number of records:', df_count)\n",
    "print('Total number of countries:', df_countCountry)\n",
    "print('Total number of sectors:', df_countSector)\n",
    "print('Total number of subsectors:', df_countsubSector)\n",
    "print('Total number of valuechain:', df_countValuechain)"
   ]
  },
  {
   "cell_type": "code",
   "execution_count": 9,
   "metadata": {
    "colab": {
     "base_uri": "https://localhost:8080/"
    },
    "id": "O1C_l7ytUixQ",
    "outputId": "3235fd51-2026-4da7-8acd-deb08221b93f"
   },
   "outputs": [
    {
     "name": "stdout",
     "output_type": "stream",
     "text": [
      "List of unique countries:\n",
      "SINGAPORE         1727\n",
      "MALAYSIA          1226\n",
      "THAILAND           998\n",
      "CHINA              512\n",
      "INDONESIA          271\n",
      "HONG KONG          258\n",
      "VIETNAM              4\n",
      "TAIWAN               1\n",
      "UNITED KINGDOM       1\n",
      "LABUAN               1\n",
      "AUSTRALIA            1\n",
      "Name: Country, dtype: int64\n",
      "\n",
      "List of unique sector:\n",
      "CNI    880\n",
      "OOS    877\n",
      "CG     440\n",
      "IND    428\n",
      "REH    424\n",
      "ONG    341\n",
      "TMT    339\n",
      "cni    291\n",
      "tmt    257\n",
      "oos     97\n",
      "ong     97\n",
      "ind     21\n",
      "cg      15\n",
      "reh      6\n",
      "Name: Sector, dtype: int64\n",
      "\n",
      "List of unique valuechain:\n",
      "MIDSTREAM                 847\n",
      "Downstream                632\n",
      "midstream                 373\n",
      "Midstream                 349\n",
      "                          304\n",
      "DOWNSTREAM                302\n",
      "downstream                232\n",
      "Manufacturer              127\n",
      "UPSTREAM                  122\n",
      "Upstream                   94\n",
      "Trader                     88\n",
      "Upstream or Downstream     82\n",
      "distributor                81\n",
      "Across value chain         60\n",
      "upstream                   51\n",
      "upstream or downstream     17\n",
      "manufacturer               10\n",
      "across value chain          2\n",
      "trader                      2\n",
      "steel fabricator            1\n",
      "Name: Valuechain, dtype: int64\n"
     ]
    }
   ],
   "source": [
    "# get total number of countries\n",
    "df_totalCountries = companies['Country'].value_counts()\n",
    "\n",
    "# get list of unique sector\n",
    "df_sector = companies['Sector'].value_counts()\n",
    "\n",
    "# get list of unique archetype\n",
    "df_archetype = companies['Archetype'].value_counts()\n",
    "\n",
    "# get list of unique valuechain\n",
    "df_valuechain = companies['Valuechain'].value_counts()\n",
    "\n",
    "print('List of unique countries:\\n{}'.format(df_totalCountries))\n",
    "print()\n",
    "print('List of unique sector:\\n{}'.format(df_sector))\n",
    "print()\n",
    "print('List of unique valuechain:\\n{}'.format(df_valuechain))"
   ]
  },
  {
   "cell_type": "code",
   "execution_count": 10,
   "metadata": {
    "colab": {
     "base_uri": "https://localhost:8080/"
    },
    "id": "NIoXot6HWEWP",
    "outputId": "cba3f41c-4c7a-40ae-931a-a2f533ea3514"
   },
   "outputs": [
    {
     "name": "stdout",
     "output_type": "stream",
     "text": [
      "List of unique Subsector:\n",
      "others                               974\n",
      "building_material                    475\n",
      "buildings & industrial               343\n",
      "retail n distribution                303\n",
      "consumer electronics                 235\n",
      "auto & mec                           234\n",
      "petrochemical                        218\n",
      "metals and mining                    168\n",
      "cni_service providers                156\n",
      "residential                          146\n",
      "it_services                          114\n",
      "utilities                            108\n",
      "o&g                                  106\n",
      "restaurants, catering & services     106\n",
      "semiconductor                         92\n",
      "o&g_service providers/contractors     90\n",
      "fmcg                                  90\n",
      "telecommunication                     69\n",
      "mixed                                 66\n",
      "infrastructure                        59\n",
      "media                                 57\n",
      "commercial                            50\n",
      "diversified                           46\n",
      "hotels and accommodation              44\n",
      "animal protein                        35\n",
      "digital_business                      29\n",
      "agribusiness                          27\n",
      "cni_equipment suppliers               22\n",
      "industrial                            18\n",
      "ong_traders                           16\n",
      "ioc/noc                                8\n",
      "building material                      7\n",
      "                                       1\n",
      "IND                                    1\n",
      "buildings & industrial_contractor      1\n",
      "Name: Subsector, dtype: int64\n"
     ]
    }
   ],
   "source": [
    "# get list of unique subsector\n",
    "df_subsector = companies['Subsector'].value_counts()\n",
    "\n",
    "print('List of unique Subsector:\\n{}'.format(df_subsector))"
   ]
  },
  {
   "cell_type": "code",
   "execution_count": 11,
   "metadata": {
    "colab": {
     "base_uri": "https://localhost:8080/"
    },
    "id": "SjaNooD3Uz3c",
    "outputId": "cc5aadc8-86ee-4818-e9d2-d39ce1968482"
   },
   "outputs": [
    {
     "name": "stdout",
     "output_type": "stream",
     "text": [
      "List of unique archetype:\n",
      "others                                974\n",
      "building_material_manufacturer        324\n",
      "buildings & industrial_contractor     309\n",
      "consumer discretionary distributor    191\n",
      "consumer electronics_distributor      183\n",
      "                                     ... \n",
      "tisp – fiber cable                      1\n",
      "industrial gas                          1\n",
      "building material_manufacturer          1\n",
      "hotels and accommodation_developer      1\n",
      "MIDSTREAM                               1\n",
      "Name: Archetype, Length: 93, dtype: int64\n"
     ]
    }
   ],
   "source": [
    "print('List of unique archetype:\\n{}'.format(df_archetype))"
   ]
  },
  {
   "cell_type": "markdown",
   "metadata": {
    "id": "57EHaR92D9UP"
   },
   "source": [
    "### 3.2. Drop unncessary columns\n",
    "\n",
    "---\n",
    "\n",
    "Here, we will drop columns that wiill not aid in our EDA."
   ]
  },
  {
   "cell_type": "code",
   "execution_count": 12,
   "metadata": {
    "colab": {
     "base_uri": "https://localhost:8080/",
     "height": 788
    },
    "id": "TC9-PuS6EDXT",
    "outputId": "2c35f3ae-083e-4e24-9795-1afda6c845e1"
   },
   "outputs": [
    {
     "data": {
      "text/html": [
       "<div>\n",
       "<style scoped>\n",
       "    .dataframe tbody tr th:only-of-type {\n",
       "        vertical-align: middle;\n",
       "    }\n",
       "\n",
       "    .dataframe tbody tr th {\n",
       "        vertical-align: top;\n",
       "    }\n",
       "\n",
       "    .dataframe thead th {\n",
       "        text-align: right;\n",
       "    }\n",
       "</style>\n",
       "<table border=\"1\" class=\"dataframe\">\n",
       "  <thead>\n",
       "    <tr style=\"text-align: right;\">\n",
       "      <th></th>\n",
       "      <th>Company</th>\n",
       "      <th>Country</th>\n",
       "      <th>Sector</th>\n",
       "      <th>Subsector</th>\n",
       "      <th>Archetype</th>\n",
       "      <th>Valuechain</th>\n",
       "      <th>Company Profile Information</th>\n",
       "    </tr>\n",
       "  </thead>\n",
       "  <tbody>\n",
       "    <tr>\n",
       "      <th>0</th>\n",
       "      <td>AKSORN CHAROEN TAT ACT. CO.,LTD.</td>\n",
       "      <td>THAILAND</td>\n",
       "      <td>TMT</td>\n",
       "      <td>media</td>\n",
       "      <td>media_aggregator/distributor</td>\n",
       "      <td>Midstream</td>\n",
       "      <td>For over 80 years of experience in creating an...</td>\n",
       "    </tr>\n",
       "    <tr>\n",
       "      <th>1</th>\n",
       "      <td>DONGGUAN SHENGYA CLEANING APPLIAME CO.LTD</td>\n",
       "      <td>CHINA</td>\n",
       "      <td>TMT</td>\n",
       "      <td>consumer electronics</td>\n",
       "      <td>consumer electronics_distributor</td>\n",
       "      <td>Downstream</td>\n",
       "      <td>Yatai's main products cover various cleaning m...</td>\n",
       "    </tr>\n",
       "    <tr>\n",
       "      <th>2</th>\n",
       "      <td>EXIS TECH SDN. BHD.</td>\n",
       "      <td>MALAYSIA</td>\n",
       "      <td>oos</td>\n",
       "      <td>others</td>\n",
       "      <td>others</td>\n",
       "      <td>NaN</td>\n",
       "      <td>In the beginning, it started off by providing ...</td>\n",
       "    </tr>\n",
       "    <tr>\n",
       "      <th>3</th>\n",
       "      <td>BEI JING ESTRABA IMPORT AND EXPORT</td>\n",
       "      <td>CHINA</td>\n",
       "      <td>NaN</td>\n",
       "      <td>NaN</td>\n",
       "      <td>NaN</td>\n",
       "      <td>NaN</td>\n",
       "      <td>NaN</td>\n",
       "    </tr>\n",
       "    <tr>\n",
       "      <th>4</th>\n",
       "      <td>Aztech Electronics Pte Ltd</td>\n",
       "      <td>SINGAPORE</td>\n",
       "      <td>TMT</td>\n",
       "      <td>consumer electronics</td>\n",
       "      <td>consumer electronics_distributor</td>\n",
       "      <td>Downstream</td>\n",
       "      <td>Being a turnkey, one-stop integrated solutions...</td>\n",
       "    </tr>\n",
       "    <tr>\n",
       "      <th>...</th>\n",
       "      <td>...</td>\n",
       "      <td>...</td>\n",
       "      <td>...</td>\n",
       "      <td>...</td>\n",
       "      <td>...</td>\n",
       "      <td>...</td>\n",
       "      <td>...</td>\n",
       "    </tr>\n",
       "    <tr>\n",
       "      <th>4995</th>\n",
       "      <td>SHENGYA (SG) PTE. LTD.</td>\n",
       "      <td>SINGAPORE</td>\n",
       "      <td>OOS</td>\n",
       "      <td>others</td>\n",
       "      <td>others</td>\n",
       "      <td>NaN</td>\n",
       "      <td>OTHER INFORMATION SERVICE ACTIVITIES N.E.C.</td>\n",
       "    </tr>\n",
       "    <tr>\n",
       "      <th>4996</th>\n",
       "      <td>HUBEI HONG MAO SLAG POWDER CO., LTD.</td>\n",
       "      <td>CHINA</td>\n",
       "      <td>NaN</td>\n",
       "      <td>NaN</td>\n",
       "      <td>NaN</td>\n",
       "      <td>NaN</td>\n",
       "      <td>NaN</td>\n",
       "    </tr>\n",
       "    <tr>\n",
       "      <th>4997</th>\n",
       "      <td>ADAMPAK (THAILAND) LTD.</td>\n",
       "      <td>THAILAND</td>\n",
       "      <td>OOS</td>\n",
       "      <td>others</td>\n",
       "      <td>others</td>\n",
       "      <td>NaN</td>\n",
       "      <td>Known for our high quality products and dynami...</td>\n",
       "    </tr>\n",
       "    <tr>\n",
       "      <th>4998</th>\n",
       "      <td>HOE LEONG CRAWLER PARTS PTE. LTD.</td>\n",
       "      <td>SINGAPORE</td>\n",
       "      <td>OOS</td>\n",
       "      <td>others</td>\n",
       "      <td>others</td>\n",
       "      <td>NaN</td>\n",
       "      <td>WHOLESALE TRADE OF A VARIETY OF GOODS WITHOUT ...</td>\n",
       "    </tr>\n",
       "    <tr>\n",
       "      <th>4999</th>\n",
       "      <td>SINOROCK (JIUJIANG) STONE &amp; TILE CO., LTD.</td>\n",
       "      <td>CHINA</td>\n",
       "      <td>CNI</td>\n",
       "      <td>building_material</td>\n",
       "      <td>building_material_manufacturer</td>\n",
       "      <td>MIDSTREAM</td>\n",
       "      <td>SINOROCK Co., established in 2001 has become a...</td>\n",
       "    </tr>\n",
       "  </tbody>\n",
       "</table>\n",
       "<p>5000 rows × 7 columns</p>\n",
       "</div>"
      ],
      "text/plain": [
       "                                         Company    Country Sector  \\\n",
       "0               AKSORN CHAROEN TAT ACT. CO.,LTD.   THAILAND    TMT   \n",
       "1      DONGGUAN SHENGYA CLEANING APPLIAME CO.LTD      CHINA    TMT   \n",
       "2                            EXIS TECH SDN. BHD.   MALAYSIA    oos   \n",
       "3             BEI JING ESTRABA IMPORT AND EXPORT      CHINA    NaN   \n",
       "4                     Aztech Electronics Pte Ltd  SINGAPORE    TMT   \n",
       "...                                          ...        ...    ...   \n",
       "4995                      SHENGYA (SG) PTE. LTD.  SINGAPORE    OOS   \n",
       "4996        HUBEI HONG MAO SLAG POWDER CO., LTD.      CHINA    NaN   \n",
       "4997                     ADAMPAK (THAILAND) LTD.   THAILAND    OOS   \n",
       "4998           HOE LEONG CRAWLER PARTS PTE. LTD.  SINGAPORE    OOS   \n",
       "4999  SINOROCK (JIUJIANG) STONE & TILE CO., LTD.      CHINA    CNI   \n",
       "\n",
       "                 Subsector                         Archetype  Valuechain  \\\n",
       "0                    media      media_aggregator/distributor   Midstream   \n",
       "1     consumer electronics  consumer electronics_distributor  Downstream   \n",
       "2                   others                            others         NaN   \n",
       "3                      NaN                               NaN         NaN   \n",
       "4     consumer electronics  consumer electronics_distributor  Downstream   \n",
       "...                    ...                               ...         ...   \n",
       "4995                others                            others         NaN   \n",
       "4996                   NaN                               NaN         NaN   \n",
       "4997                others                            others         NaN   \n",
       "4998                others                            others         NaN   \n",
       "4999     building_material    building_material_manufacturer   MIDSTREAM   \n",
       "\n",
       "                            Company Profile Information  \n",
       "0     For over 80 years of experience in creating an...  \n",
       "1     Yatai's main products cover various cleaning m...  \n",
       "2     In the beginning, it started off by providing ...  \n",
       "3                                                   NaN  \n",
       "4     Being a turnkey, one-stop integrated solutions...  \n",
       "...                                                 ...  \n",
       "4995        OTHER INFORMATION SERVICE ACTIVITIES N.E.C.  \n",
       "4996                                                NaN  \n",
       "4997  Known for our high quality products and dynami...  \n",
       "4998  WHOLESALE TRADE OF A VARIETY OF GOODS WITHOUT ...  \n",
       "4999  SINOROCK Co., established in 2001 has become a...  \n",
       "\n",
       "[5000 rows x 7 columns]"
      ]
     },
     "execution_count": 12,
     "metadata": {},
     "output_type": "execute_result"
    }
   ],
   "source": [
    "# declare the list of the row names that are redundant\n",
    "rows_to_drop = ['Company_ID', 'PIC', 'Websites', 'Remarks']\n",
    "\n",
    "# use a conditional expression to filter out those rows\n",
    "df_filteredCompanies = companies.drop(labels=rows_to_drop, axis=1)\n",
    "\n",
    "df_filteredCompanies"
   ]
  },
  {
   "cell_type": "markdown",
   "metadata": {
    "id": "c3S6ZQzySmC0"
   },
   "source": [
    "### 3.3. Filter rows with valid data\n",
    "\n",
    "---\n",
    "\n",
    "Extract columns with Nan values and list them out here. Afterwards, gather the rows deemed suitable to process NLP."
   ]
  },
  {
   "cell_type": "code",
   "execution_count": 13,
   "metadata": {
    "colab": {
     "base_uri": "https://localhost:8080/",
     "height": 424
    },
    "id": "7ZLoO_4SSry7",
    "outputId": "3fd645de-2c53-484a-974d-c18cc43a0067"
   },
   "outputs": [
    {
     "data": {
      "text/html": [
       "<div>\n",
       "<style scoped>\n",
       "    .dataframe tbody tr th:only-of-type {\n",
       "        vertical-align: middle;\n",
       "    }\n",
       "\n",
       "    .dataframe tbody tr th {\n",
       "        vertical-align: top;\n",
       "    }\n",
       "\n",
       "    .dataframe thead th {\n",
       "        text-align: right;\n",
       "    }\n",
       "</style>\n",
       "<table border=\"1\" class=\"dataframe\">\n",
       "  <thead>\n",
       "    <tr style=\"text-align: right;\">\n",
       "      <th></th>\n",
       "      <th>Company</th>\n",
       "      <th>Country</th>\n",
       "      <th>Sector</th>\n",
       "      <th>Subsector</th>\n",
       "      <th>Archetype</th>\n",
       "      <th>Valuechain</th>\n",
       "      <th>Company Profile Information</th>\n",
       "    </tr>\n",
       "  </thead>\n",
       "  <tbody>\n",
       "    <tr>\n",
       "      <th>3</th>\n",
       "      <td>BEI JING ESTRABA IMPORT AND EXPORT</td>\n",
       "      <td>CHINA</td>\n",
       "      <td>NaN</td>\n",
       "      <td>NaN</td>\n",
       "      <td>NaN</td>\n",
       "      <td>NaN</td>\n",
       "      <td>NaN</td>\n",
       "    </tr>\n",
       "    <tr>\n",
       "      <th>13</th>\n",
       "      <td>CHANGTU COUNTRY LONGXING FERTILIZER CO.,LTD</td>\n",
       "      <td>CHINA</td>\n",
       "      <td>NaN</td>\n",
       "      <td>NaN</td>\n",
       "      <td>NaN</td>\n",
       "      <td>NaN</td>\n",
       "      <td>NaN</td>\n",
       "    </tr>\n",
       "    <tr>\n",
       "      <th>35</th>\n",
       "      <td>ZIBOBOSHANHONGLIWEI MOTOR CO.,LTD</td>\n",
       "      <td>CHINA</td>\n",
       "      <td>NaN</td>\n",
       "      <td>NaN</td>\n",
       "      <td>NaN</td>\n",
       "      <td>NaN</td>\n",
       "      <td>NaN</td>\n",
       "    </tr>\n",
       "    <tr>\n",
       "      <th>62</th>\n",
       "      <td>BEIJING DUO MEIDUO SHIYOU PRODUCTS SALES CO., ...</td>\n",
       "      <td>CHINA</td>\n",
       "      <td>NaN</td>\n",
       "      <td>NaN</td>\n",
       "      <td>NaN</td>\n",
       "      <td>NaN</td>\n",
       "      <td>NaN</td>\n",
       "    </tr>\n",
       "    <tr>\n",
       "      <th>79</th>\n",
       "      <td>TRUSVEST SDN. BHD.</td>\n",
       "      <td>MALAYSIA</td>\n",
       "      <td>NaN</td>\n",
       "      <td>NaN</td>\n",
       "      <td>NaN</td>\n",
       "      <td>NaN</td>\n",
       "      <td>NaN</td>\n",
       "    </tr>\n",
       "    <tr>\n",
       "      <th>...</th>\n",
       "      <td>...</td>\n",
       "      <td>...</td>\n",
       "      <td>...</td>\n",
       "      <td>...</td>\n",
       "      <td>...</td>\n",
       "      <td>...</td>\n",
       "      <td>...</td>\n",
       "    </tr>\n",
       "    <tr>\n",
       "      <th>4947</th>\n",
       "      <td>D.T.CONCRETE (CHIANGRAI) CO.,LTD.</td>\n",
       "      <td>THAILAND</td>\n",
       "      <td>NaN</td>\n",
       "      <td>NaN</td>\n",
       "      <td>NaN</td>\n",
       "      <td>NaN</td>\n",
       "      <td>NaN</td>\n",
       "    </tr>\n",
       "    <tr>\n",
       "      <th>4948</th>\n",
       "      <td>ABR (HK) LIMITED</td>\n",
       "      <td>HONG KONG</td>\n",
       "      <td>NaN</td>\n",
       "      <td>NaN</td>\n",
       "      <td>NaN</td>\n",
       "      <td>NaN</td>\n",
       "      <td>NaN</td>\n",
       "    </tr>\n",
       "    <tr>\n",
       "      <th>4951</th>\n",
       "      <td>YAKESHI CHENG NEW TYPE WALL MATERIAL CO.,LTD</td>\n",
       "      <td>CHINA</td>\n",
       "      <td>NaN</td>\n",
       "      <td>NaN</td>\n",
       "      <td>NaN</td>\n",
       "      <td>NaN</td>\n",
       "      <td>NaN</td>\n",
       "    </tr>\n",
       "    <tr>\n",
       "      <th>4955</th>\n",
       "      <td>HUAI AN CITY ZHENG HE TRADE CO.,</td>\n",
       "      <td>CHINA</td>\n",
       "      <td>NaN</td>\n",
       "      <td>NaN</td>\n",
       "      <td>NaN</td>\n",
       "      <td>NaN</td>\n",
       "      <td>NaN</td>\n",
       "    </tr>\n",
       "    <tr>\n",
       "      <th>4996</th>\n",
       "      <td>HUBEI HONG MAO SLAG POWDER CO., LTD.</td>\n",
       "      <td>CHINA</td>\n",
       "      <td>NaN</td>\n",
       "      <td>NaN</td>\n",
       "      <td>NaN</td>\n",
       "      <td>NaN</td>\n",
       "      <td>NaN</td>\n",
       "    </tr>\n",
       "  </tbody>\n",
       "</table>\n",
       "<p>479 rows × 7 columns</p>\n",
       "</div>"
      ],
      "text/plain": [
       "                                                Company    Country Sector  \\\n",
       "3                    BEI JING ESTRABA IMPORT AND EXPORT      CHINA    NaN   \n",
       "13          CHANGTU COUNTRY LONGXING FERTILIZER CO.,LTD      CHINA    NaN   \n",
       "35                    ZIBOBOSHANHONGLIWEI MOTOR CO.,LTD      CHINA    NaN   \n",
       "62    BEIJING DUO MEIDUO SHIYOU PRODUCTS SALES CO., ...      CHINA    NaN   \n",
       "79                                   TRUSVEST SDN. BHD.   MALAYSIA    NaN   \n",
       "...                                                 ...        ...    ...   \n",
       "4947                  D.T.CONCRETE (CHIANGRAI) CO.,LTD.   THAILAND    NaN   \n",
       "4948                                   ABR (HK) LIMITED  HONG KONG    NaN   \n",
       "4951       YAKESHI CHENG NEW TYPE WALL MATERIAL CO.,LTD      CHINA    NaN   \n",
       "4955                   HUAI AN CITY ZHENG HE TRADE CO.,      CHINA    NaN   \n",
       "4996               HUBEI HONG MAO SLAG POWDER CO., LTD.      CHINA    NaN   \n",
       "\n",
       "     Subsector Archetype Valuechain Company Profile Information  \n",
       "3          NaN       NaN        NaN                         NaN  \n",
       "13         NaN       NaN        NaN                         NaN  \n",
       "35         NaN       NaN        NaN                         NaN  \n",
       "62         NaN       NaN        NaN                         NaN  \n",
       "79         NaN       NaN        NaN                         NaN  \n",
       "...        ...       ...        ...                         ...  \n",
       "4947       NaN       NaN        NaN                         NaN  \n",
       "4948       NaN       NaN        NaN                         NaN  \n",
       "4951       NaN       NaN        NaN                         NaN  \n",
       "4955       NaN       NaN        NaN                         NaN  \n",
       "4996       NaN       NaN        NaN                         NaN  \n",
       "\n",
       "[479 rows x 7 columns]"
      ]
     },
     "execution_count": 13,
     "metadata": {},
     "output_type": "execute_result"
    }
   ],
   "source": [
    "# find all the rows with nan data in sector, subsector, archetype and valuechain\n",
    "cols_to_check = ['Sector', 'Subsector', 'Archetype', 'Valuechain', 'Company Profile Information']\n",
    "empty = df_filteredCompanies[df_filteredCompanies[cols_to_check].isnull().all(1)]\n",
    "\n",
    "empty"
   ]
  },
  {
   "cell_type": "code",
   "execution_count": 14,
   "metadata": {
    "colab": {
     "base_uri": "https://localhost:8080/",
     "height": 788
    },
    "id": "nrQjbN7uStmr",
    "outputId": "a8c0bab4-8ad5-4bc6-e01a-8d1277faf14f"
   },
   "outputs": [
    {
     "data": {
      "text/html": [
       "<div>\n",
       "<style scoped>\n",
       "    .dataframe tbody tr th:only-of-type {\n",
       "        vertical-align: middle;\n",
       "    }\n",
       "\n",
       "    .dataframe tbody tr th {\n",
       "        vertical-align: top;\n",
       "    }\n",
       "\n",
       "    .dataframe thead th {\n",
       "        text-align: right;\n",
       "    }\n",
       "</style>\n",
       "<table border=\"1\" class=\"dataframe\">\n",
       "  <thead>\n",
       "    <tr style=\"text-align: right;\">\n",
       "      <th></th>\n",
       "      <th>Company</th>\n",
       "      <th>Country</th>\n",
       "      <th>Sector</th>\n",
       "      <th>Subsector</th>\n",
       "      <th>Archetype</th>\n",
       "      <th>Valuechain</th>\n",
       "      <th>Company Profile Information</th>\n",
       "    </tr>\n",
       "  </thead>\n",
       "  <tbody>\n",
       "    <tr>\n",
       "      <th>0</th>\n",
       "      <td>AKSORN CHAROEN TAT ACT. CO.,LTD.</td>\n",
       "      <td>THAILAND</td>\n",
       "      <td>TMT</td>\n",
       "      <td>media</td>\n",
       "      <td>media_aggregator/distributor</td>\n",
       "      <td>Midstream</td>\n",
       "      <td>For over 80 years of experience in creating an...</td>\n",
       "    </tr>\n",
       "    <tr>\n",
       "      <th>1</th>\n",
       "      <td>DONGGUAN SHENGYA CLEANING APPLIAME CO.LTD</td>\n",
       "      <td>CHINA</td>\n",
       "      <td>TMT</td>\n",
       "      <td>consumer electronics</td>\n",
       "      <td>consumer electronics_distributor</td>\n",
       "      <td>Downstream</td>\n",
       "      <td>Yatai's main products cover various cleaning m...</td>\n",
       "    </tr>\n",
       "    <tr>\n",
       "      <th>2</th>\n",
       "      <td>EXIS TECH SDN. BHD.</td>\n",
       "      <td>MALAYSIA</td>\n",
       "      <td>oos</td>\n",
       "      <td>others</td>\n",
       "      <td>others</td>\n",
       "      <td>NaN</td>\n",
       "      <td>In the beginning, it started off by providing ...</td>\n",
       "    </tr>\n",
       "    <tr>\n",
       "      <th>4</th>\n",
       "      <td>Aztech Electronics Pte Ltd</td>\n",
       "      <td>SINGAPORE</td>\n",
       "      <td>TMT</td>\n",
       "      <td>consumer electronics</td>\n",
       "      <td>consumer electronics_distributor</td>\n",
       "      <td>Downstream</td>\n",
       "      <td>Being a turnkey, one-stop integrated solutions...</td>\n",
       "    </tr>\n",
       "    <tr>\n",
       "      <th>5</th>\n",
       "      <td>TONGDUN INTERNATIONAL PTE LTD</td>\n",
       "      <td>SINGAPORE</td>\n",
       "      <td>tmt</td>\n",
       "      <td>it_services</td>\n",
       "      <td>it_services</td>\n",
       "      <td>midstream</td>\n",
       "      <td>Tongdun Technology is a professional third-par...</td>\n",
       "    </tr>\n",
       "    <tr>\n",
       "      <th>...</th>\n",
       "      <td>...</td>\n",
       "      <td>...</td>\n",
       "      <td>...</td>\n",
       "      <td>...</td>\n",
       "      <td>...</td>\n",
       "      <td>...</td>\n",
       "      <td>...</td>\n",
       "    </tr>\n",
       "    <tr>\n",
       "      <th>4994</th>\n",
       "      <td>KARYA MANIS SDN BHD</td>\n",
       "      <td>MALAYSIA</td>\n",
       "      <td>REH</td>\n",
       "      <td>residential</td>\n",
       "      <td>residential_developer</td>\n",
       "      <td>UPSTREAM</td>\n",
       "      <td>PROPERTY DEVELOPMENT</td>\n",
       "    </tr>\n",
       "    <tr>\n",
       "      <th>4995</th>\n",
       "      <td>SHENGYA (SG) PTE. LTD.</td>\n",
       "      <td>SINGAPORE</td>\n",
       "      <td>OOS</td>\n",
       "      <td>others</td>\n",
       "      <td>others</td>\n",
       "      <td>NaN</td>\n",
       "      <td>OTHER INFORMATION SERVICE ACTIVITIES N.E.C.</td>\n",
       "    </tr>\n",
       "    <tr>\n",
       "      <th>4997</th>\n",
       "      <td>ADAMPAK (THAILAND) LTD.</td>\n",
       "      <td>THAILAND</td>\n",
       "      <td>OOS</td>\n",
       "      <td>others</td>\n",
       "      <td>others</td>\n",
       "      <td>NaN</td>\n",
       "      <td>Known for our high quality products and dynami...</td>\n",
       "    </tr>\n",
       "    <tr>\n",
       "      <th>4998</th>\n",
       "      <td>HOE LEONG CRAWLER PARTS PTE. LTD.</td>\n",
       "      <td>SINGAPORE</td>\n",
       "      <td>OOS</td>\n",
       "      <td>others</td>\n",
       "      <td>others</td>\n",
       "      <td>NaN</td>\n",
       "      <td>WHOLESALE TRADE OF A VARIETY OF GOODS WITHOUT ...</td>\n",
       "    </tr>\n",
       "    <tr>\n",
       "      <th>4999</th>\n",
       "      <td>SINOROCK (JIUJIANG) STONE &amp; TILE CO., LTD.</td>\n",
       "      <td>CHINA</td>\n",
       "      <td>CNI</td>\n",
       "      <td>building_material</td>\n",
       "      <td>building_material_manufacturer</td>\n",
       "      <td>MIDSTREAM</td>\n",
       "      <td>SINOROCK Co., established in 2001 has become a...</td>\n",
       "    </tr>\n",
       "  </tbody>\n",
       "</table>\n",
       "<p>4519 rows × 7 columns</p>\n",
       "</div>"
      ],
      "text/plain": [
       "                                         Company    Country Sector  \\\n",
       "0               AKSORN CHAROEN TAT ACT. CO.,LTD.   THAILAND    TMT   \n",
       "1      DONGGUAN SHENGYA CLEANING APPLIAME CO.LTD      CHINA    TMT   \n",
       "2                            EXIS TECH SDN. BHD.   MALAYSIA    oos   \n",
       "4                     Aztech Electronics Pte Ltd  SINGAPORE    TMT   \n",
       "5                  TONGDUN INTERNATIONAL PTE LTD  SINGAPORE    tmt   \n",
       "...                                          ...        ...    ...   \n",
       "4994                         KARYA MANIS SDN BHD   MALAYSIA    REH   \n",
       "4995                      SHENGYA (SG) PTE. LTD.  SINGAPORE    OOS   \n",
       "4997                     ADAMPAK (THAILAND) LTD.   THAILAND    OOS   \n",
       "4998           HOE LEONG CRAWLER PARTS PTE. LTD.  SINGAPORE    OOS   \n",
       "4999  SINOROCK (JIUJIANG) STONE & TILE CO., LTD.      CHINA    CNI   \n",
       "\n",
       "                 Subsector                         Archetype  Valuechain  \\\n",
       "0                    media      media_aggregator/distributor   Midstream   \n",
       "1     consumer electronics  consumer electronics_distributor  Downstream   \n",
       "2                   others                            others         NaN   \n",
       "4     consumer electronics  consumer electronics_distributor  Downstream   \n",
       "5              it_services                       it_services   midstream   \n",
       "...                    ...                               ...         ...   \n",
       "4994           residential             residential_developer    UPSTREAM   \n",
       "4995                others                            others         NaN   \n",
       "4997                others                            others         NaN   \n",
       "4998                others                            others         NaN   \n",
       "4999     building_material    building_material_manufacturer   MIDSTREAM   \n",
       "\n",
       "                            Company Profile Information  \n",
       "0     For over 80 years of experience in creating an...  \n",
       "1     Yatai's main products cover various cleaning m...  \n",
       "2     In the beginning, it started off by providing ...  \n",
       "4     Being a turnkey, one-stop integrated solutions...  \n",
       "5     Tongdun Technology is a professional third-par...  \n",
       "...                                                 ...  \n",
       "4994                               PROPERTY DEVELOPMENT  \n",
       "4995        OTHER INFORMATION SERVICE ACTIVITIES N.E.C.  \n",
       "4997  Known for our high quality products and dynami...  \n",
       "4998  WHOLESALE TRADE OF A VARIETY OF GOODS WITHOUT ...  \n",
       "4999  SINOROCK Co., established in 2001 has become a...  \n",
       "\n",
       "[4519 rows x 7 columns]"
      ]
     },
     "execution_count": 14,
     "metadata": {},
     "output_type": "execute_result"
    }
   ],
   "source": [
    "# now we get the dataset that are valid\n",
    "df_valid = pd.concat([df_filteredCompanies, empty, empty]).drop_duplicates(keep=False)\n",
    "\n",
    "df_valid"
   ]
  },
  {
   "cell_type": "code",
   "execution_count": 15,
   "metadata": {
    "colab": {
     "base_uri": "https://localhost:8080/"
    },
    "id": "IuYZkLS8fkjV",
    "outputId": "cfb8c569-48bf-4882-d351-951842a460af"
   },
   "outputs": [
    {
     "name": "stdout",
     "output_type": "stream",
     "text": [
      "Total number of filtered records: 4519\n"
     ]
    }
   ],
   "source": [
    "# now we check the count of the total filtered dataset again\n",
    "df_filterCount = df_valid['Company'].count()\n",
    "\n",
    "print('Total number of filtered records:', df_filterCount)"
   ]
  },
  {
   "cell_type": "markdown",
   "metadata": {
    "id": "gf69nqOrWr_b"
   },
   "source": [
    "### 3.4. Get graphical overview of dataset\n",
    "\n",
    "---\n",
    "\n",
    "Get visualised information of the dataset to understand the dataset better."
   ]
  },
  {
   "cell_type": "code",
   "execution_count": 16,
   "metadata": {
    "colab": {
     "base_uri": "https://localhost:8080/",
     "height": 722
    },
    "id": "dRLIFECVS1os",
    "outputId": "aab9236a-09e6-4ed0-cb24-655283e22248"
   },
   "outputs": [
    {
     "data": {
      "image/png": "[encoded data removed]",
      "text/plain": [
       "<Figure size 2160x936 with 1 Axes>"
      ]
     },
     "metadata": {},
     "output_type": "display_data"
    }
   ],
   "source": [
    "sns.set_style('darkgrid')\n",
    "plt_dims = (30, 13)\n",
    "fig, ax = plt.subplots(figsize=plt_dims)\n",
    "\n",
    "# plot a barplot to see number of companies that belongs to specific sectors\n",
    "sns.countplot(x=\"Sector\", data=df_valid, ax=ax)\n",
    "plt.show()"
   ]
  },
  {
   "cell_type": "markdown",
   "metadata": {
    "id": "1EyLs8d1TfSw"
   },
   "source": [
    "<div class=\"alert alert-block alert-info\">\n",
    "    <b>Analysis Summary:</b> We see that most of the companies comes from the CNI(Construction And Infrastructure), with TMT(Technology, Media and Telecomm) sector.\n",
    "</div>"
   ]
  },
  {
   "cell_type": "code",
   "execution_count": 17,
   "metadata": {
    "colab": {
     "base_uri": "https://localhost:8080/",
     "height": 716
    },
    "id": "SwMqcB0MStbJ",
    "outputId": "594a3cb1-6125-4663-c324-3e8a7fe1419d"
   },
   "outputs": [
    {
     "data": {
      "image/png": "[encoded data removed]",
      "text/plain": [
       "<Figure size 2160x936 with 1 Axes>"
      ]
     },
     "metadata": {},
     "output_type": "display_data"
    }
   ],
   "source": [
    "# Pie chart\n",
    "labels = list(df_valid['Country'].unique())\n",
    "sizes = list(df_valid['Country'].value_counts())\n",
    "\n",
    "plt_dims = (30, 13)\n",
    "fig1, ax1 = plt.subplots(figsize=plt_dims)\n",
    "ax1.pie(sizes, labels=labels, autopct='%1.1f%%',\n",
    "        shadow=True, startangle=90)\n",
    "# Equal aspect ratio ensures that pie is drawn as a circle\n",
    "ax1.axis('equal')  \n",
    "plt.tight_layout()\n",
    "plt.show()"
   ]
  },
  {
   "cell_type": "markdown",
   "metadata": {
    "id": "A73dge-zZhSD"
   },
   "source": [
    "<div class=\"alert alert-block alert-info\">\n",
    "    <b>Analysis Summary:</b> We see that most of the companies are Singapre-Based companies, followed up by Hong Kong, Indonesia and so on.\n",
    "</div>"
   ]
  },
  {
   "cell_type": "markdown",
   "metadata": {
    "id": "L3bMDdQTfTnX"
   },
   "source": [
    "### 3.5. See examples of company description\n",
    "\n",
    "---\n",
    "\n",
    "We would now like to see some examples of the company descriptions in order to undestand later how to preprocess them later on."
   ]
  },
  {
   "cell_type": "code",
   "execution_count": 18,
   "metadata": {
    "colab": {
     "base_uri": "https://localhost:8080/"
    },
    "id": "LBQ4Ml5gfkg7",
    "outputId": "56781d4f-6cb1-4b26-d25f-5b1ffc090f04"
   },
   "outputs": [
    {
     "data": {
      "text/plain": [
       "0                                                                                                                                                                                                                                                                                                                                                                        For over 80 years of experience in creating and developing high-quality learning materials has enabled us to provide world-class educational innovation to meet the needs of all teachers, students, institutions and educational authorities.\n",
       "1                                                                                                                                                                                                                                                                                                                                    Yatai's main products cover various cleaning machinery, cleaning agents, cleaning tools, stone maintenance and other cleaning products; cleaning solutions and services include product technical consultation, product customization, employee training, maintenance and so on.\\n\n",
       "2                                                                                                                                                                                                                                                             In the beginning, it started off by providing technical support for test handlers, then moving into module design and production. Its first, in-house designed, full-fledged handler was introduced in 2008.\\nSince then, the company has designed and produced a wide range of turret and pick-and-place solutions for its customers all over the world.\n",
       "4                                                                          Being a turnkey, one-stop integrated solutions provider based in Singapore, Aztech is equipped with state-of-the-art equipment, R&D, design, manufacturing and packaging capabilities to deliver a seamless, unified experience. Each and every time. Always striving towards the edge of technology for more than 34 years, we have been building capabilities to serve clients’ manufacturing needs, including the consumer electronics, telecommunications, healthtech, LED lighting, automotive and technology start-up market segments.\n",
       "5     Tongdun Technology is a professional third-party intelligent risk management and decision-making service provider headquartered in Hangzhou, Zhejiang. By integrating artificial intelligence into business scenarios, Tongdun Technology offers solutions in intelligent user analysis, intelligent risk management, intelligent antifraud and intelligent operation to clients from various industries including financial industry, internet business, logistics, healthcare, retail, smart cities and government bodies. Over 10,000 corporate clients have chosen Tongdun Technology’s products and services\n",
       "6                                                                                                                                                                                                                                                                                                                                                                                                  For over 30 years, EMASTIGA has been servicing the construction and the oil and gas industries with distinction.We try our hardest to create win-win situations and value-add to our clients with every transaction.\n",
       "7                                                                                                                                                                                                                                                                                                                                                                                                                                                                                                                                                                                Sales of hydraulic equipment and parts\n",
       "8                                                                                                                                                                                                                                                                                                                                                                                                                                                                                                                                                    WHOLESALE OF TELECOMMUNICATIONS EQUIPMENT (EXCLUDING HANDPHONES)\\n\n",
       "9                                                                                                                                                                                                                                                                                                      For Excelkos, it all started with a far-sighted vision to deliver quality industrial products and solutions to meet the increasing demands of various industries. ​ The vision became a reality in 1988 when the Excelkos Group was established to distribute and provide quality rubber industrial chemicals. ​\n",
       "10                                                                                                                                                                                                                                                                                                                                                                                                                                                       Kum Eng Huat is the authorised dealer for Osram and Philips, as well as a trusted supplier of lighting solutions for major projects with the local government.\n",
       "Name: Company Profile Information, dtype: object"
      ]
     },
     "execution_count": 18,
     "metadata": {},
     "output_type": "execute_result"
    }
   ],
   "source": [
    "# configurate pandas dataframe to let us see the entire company description IN FULL\n",
    "pd.set_option('display.max_colwidth', None)\n",
    "\n",
    "# get the 1st 50 results and observe\n",
    "df_valid.loc[0:10,'Company Profile Information']"
   ]
  },
  {
   "cell_type": "markdown",
   "metadata": {
    "id": "x50UFKzNkezP"
   },
   "source": [
    "<div class=\"alert alert-block alert-info\">\n",
    "    <b>Analysis Summary:</b> We do realise that some of the company profile message have some breaks in between like '\\n'. Now, we will have to take away all these problems so that it is one string of paragraph with no such annotations in betweeen.\n",
    "</div>"
   ]
  },
  {
   "cell_type": "markdown",
   "metadata": {
    "id": "ETEpM1eCk9Cf"
   },
   "source": [
    "---\n",
    "---"
   ]
  },
  {
   "cell_type": "markdown",
   "metadata": {
    "id": "l0rub1v2k-dq"
   },
   "source": [
    "# 4.Data Preprocessing"
   ]
  },
  {
   "cell_type": "markdown",
   "metadata": {
    "id": "ZxCABlrVlDW6"
   },
   "source": [
    "### 4.1. Removing `\\n`\n",
    "\n",
    "---\n",
    "\n",
    "Now, we will like to standardize all the paragraphs such that the are homogenous, before we tokenize the paragraph."
   ]
  },
  {
   "cell_type": "code",
   "execution_count": 19,
   "metadata": {
    "colab": {
     "base_uri": "https://localhost:8080/"
    },
    "id": "MAq4hq6XlMBp",
    "outputId": "fa11d576-0123-4cd6-ebf1-ea192f4ef583"
   },
   "outputs": [
    {
     "data": {
      "text/plain": [
       "0                                                                                                                                                                                                                                                                                                                                                                        For over 80 years of experience in creating and developing high-quality learning materials has enabled us to provide world-class educational innovation to meet the needs of all teachers, students, institutions and educational authorities.\n",
       "1                                                                                                                                                                                                                                                                                                                                     Yatai's main products cover various cleaning machinery, cleaning agents, cleaning tools, stone maintenance and other cleaning products; cleaning solutions and services include product technical consultation, product customization, employee training, maintenance and so on. \n",
       "2                                                                                                                                                                                                                                                              In the beginning, it started off by providing technical support for test handlers, then moving into module design and production. Its first, in-house designed, full-fledged handler was introduced in 2008. Since then, the company has designed and produced a wide range of turret and pick-and-place solutions for its customers all over the world.\n",
       "4                                                                          Being a turnkey, one-stop integrated solutions provider based in Singapore, Aztech is equipped with state-of-the-art equipment, R&D, design, manufacturing and packaging capabilities to deliver a seamless, unified experience. Each and every time. Always striving towards the edge of technology for more than 34 years, we have been building capabilities to serve clients’ manufacturing needs, including the consumer electronics, telecommunications, healthtech, LED lighting, automotive and technology start-up market segments.\n",
       "5     Tongdun Technology is a professional third-party intelligent risk management and decision-making service provider headquartered in Hangzhou, Zhejiang. By integrating artificial intelligence into business scenarios, Tongdun Technology offers solutions in intelligent user analysis, intelligent risk management, intelligent antifraud and intelligent operation to clients from various industries including financial industry, internet business, logistics, healthcare, retail, smart cities and government bodies. Over 10,000 corporate clients have chosen Tongdun Technology’s products and services\n",
       "6                                                                                                                                                                                                                                                                                                                                                                                                  For over 30 years, EMASTIGA has been servicing the construction and the oil and gas industries with distinction.We try our hardest to create win-win situations and value-add to our clients with every transaction.\n",
       "7                                                                                                                                                                                                                                                                                                                                                                                                                                                                                                                                                                                Sales of hydraulic equipment and parts\n",
       "8                                                                                                                                                                                                                                                                                                                                                                                                                                                                                                                                                     WHOLESALE OF TELECOMMUNICATIONS EQUIPMENT (EXCLUDING HANDPHONES) \n",
       "9                                                                                                                                                                                                                                                                                                      For Excelkos, it all started with a far-sighted vision to deliver quality industrial products and solutions to meet the increasing demands of various industries. ​ The vision became a reality in 1988 when the Excelkos Group was established to distribute and provide quality rubber industrial chemicals. ​\n",
       "10                                                                                                                                                                                                                                                                                                                                                                                                                                                       Kum Eng Huat is the authorised dealer for Osram and Philips, as well as a trusted supplier of lighting solutions for major projects with the local government.\n",
       "Name: Company Profile Information, dtype: object"
      ]
     },
     "execution_count": 19,
     "metadata": {},
     "output_type": "execute_result"
    }
   ],
   "source": [
    "# get rid of the \\n found in the respective descriptions\n",
    "df_valid = df_valid.replace('\\n',' ', regex=True)\n",
    "\n",
    "# now we validate to see if theye are really gone\n",
    "df_valid.loc[0:10,'Company Profile Information']"
   ]
  },
  {
   "cell_type": "markdown",
   "metadata": {
    "id": "_UbMqS2dvXeZ"
   },
   "source": [
    "### 4.2. Calculating the word length distribution\n",
    "\n",
    "---\n",
    "\n",
    "Here, we will be calculating the world length distribution of the collective company description."
   ]
  },
  {
   "cell_type": "code",
   "execution_count": 20,
   "metadata": {
    "colab": {
     "base_uri": "https://localhost:8080/",
     "height": 432
    },
    "id": "uDsrjeimvDl8",
    "outputId": "6cf33b56-66cf-433b-ed96-846f6260a42b"
   },
   "outputs": [
    {
     "data": {
      "text/html": [
       "<div>\n",
       "<style scoped>\n",
       "    .dataframe tbody tr th:only-of-type {\n",
       "        vertical-align: middle;\n",
       "    }\n",
       "\n",
       "    .dataframe tbody tr th {\n",
       "        vertical-align: top;\n",
       "    }\n",
       "\n",
       "    .dataframe thead th {\n",
       "        text-align: right;\n",
       "    }\n",
       "</style>\n",
       "<table border=\"1\" class=\"dataframe\">\n",
       "  <thead>\n",
       "    <tr style=\"text-align: right;\">\n",
       "      <th></th>\n",
       "      <th>Company</th>\n",
       "      <th>Country</th>\n",
       "      <th>Sector</th>\n",
       "      <th>Subsector</th>\n",
       "      <th>Archetype</th>\n",
       "      <th>Valuechain</th>\n",
       "      <th>Company Profile Information</th>\n",
       "      <th>length</th>\n",
       "    </tr>\n",
       "  </thead>\n",
       "  <tbody>\n",
       "    <tr>\n",
       "      <th>0</th>\n",
       "      <td>AKSORN CHAROEN TAT ACT. CO.,LTD.</td>\n",
       "      <td>THAILAND</td>\n",
       "      <td>TMT</td>\n",
       "      <td>media</td>\n",
       "      <td>media_aggregator/distributor</td>\n",
       "      <td>Midstream</td>\n",
       "      <td>For over 80 years of experience in creating and developing high-quality learning materials has enabled us to provide world-class educational innovation to meet the needs of all teachers, students, institutions and educational authorities.</td>\n",
       "      <td>238.0</td>\n",
       "    </tr>\n",
       "    <tr>\n",
       "      <th>1</th>\n",
       "      <td>DONGGUAN SHENGYA CLEANING APPLIAME CO.LTD</td>\n",
       "      <td>CHINA</td>\n",
       "      <td>TMT</td>\n",
       "      <td>consumer electronics</td>\n",
       "      <td>consumer electronics_distributor</td>\n",
       "      <td>Downstream</td>\n",
       "      <td>Yatai's main products cover various cleaning machinery, cleaning agents, cleaning tools, stone maintenance and other cleaning products; cleaning solutions and services include product technical consultation, product customization, employee training, maintenance and so on.</td>\n",
       "      <td>273.0</td>\n",
       "    </tr>\n",
       "    <tr>\n",
       "      <th>2</th>\n",
       "      <td>EXIS TECH SDN. BHD.</td>\n",
       "      <td>MALAYSIA</td>\n",
       "      <td>oos</td>\n",
       "      <td>others</td>\n",
       "      <td>others</td>\n",
       "      <td>NaN</td>\n",
       "      <td>In the beginning, it started off by providing technical support for test handlers, then moving into module design and production. Its first, in-house designed, full-fledged handler was introduced in 2008. Since then, the company has designed and produced a wide range of turret and pick-and-place solutions for its customers all over the world.</td>\n",
       "      <td>344.0</td>\n",
       "    </tr>\n",
       "    <tr>\n",
       "      <th>4</th>\n",
       "      <td>Aztech Electronics Pte Ltd</td>\n",
       "      <td>SINGAPORE</td>\n",
       "      <td>TMT</td>\n",
       "      <td>consumer electronics</td>\n",
       "      <td>consumer electronics_distributor</td>\n",
       "      <td>Downstream</td>\n",
       "      <td>Being a turnkey, one-stop integrated solutions provider based in Singapore, Aztech is equipped with state-of-the-art equipment, R&amp;D, design, manufacturing and packaging capabilities to deliver a seamless, unified experience. Each and every time. Always striving towards the edge of technology for more than 34 years, we have been building capabilities to serve clients’ manufacturing needs, including the consumer electronics, telecommunications, healthtech, LED lighting, automotive and technology start-up market segments.</td>\n",
       "      <td>524.0</td>\n",
       "    </tr>\n",
       "    <tr>\n",
       "      <th>5</th>\n",
       "      <td>TONGDUN INTERNATIONAL PTE LTD</td>\n",
       "      <td>SINGAPORE</td>\n",
       "      <td>tmt</td>\n",
       "      <td>it_services</td>\n",
       "      <td>it_services</td>\n",
       "      <td>midstream</td>\n",
       "      <td>Tongdun Technology is a professional third-party intelligent risk management and decision-making service provider headquartered in Hangzhou, Zhejiang. By integrating artificial intelligence into business scenarios, Tongdun Technology offers solutions in intelligent user analysis, intelligent risk management, intelligent antifraud and intelligent operation to clients from various industries including financial industry, internet business, logistics, healthcare, retail, smart cities and government bodies. Over 10,000 corporate clients have chosen Tongdun Technology’s products and services</td>\n",
       "      <td>593.0</td>\n",
       "    </tr>\n",
       "  </tbody>\n",
       "</table>\n",
       "</div>"
      ],
      "text/plain": [
       "                                     Company    Country Sector  \\\n",
       "0           AKSORN CHAROEN TAT ACT. CO.,LTD.   THAILAND    TMT   \n",
       "1  DONGGUAN SHENGYA CLEANING APPLIAME CO.LTD      CHINA    TMT   \n",
       "2                        EXIS TECH SDN. BHD.   MALAYSIA    oos   \n",
       "4                 Aztech Electronics Pte Ltd  SINGAPORE    TMT   \n",
       "5              TONGDUN INTERNATIONAL PTE LTD  SINGAPORE    tmt   \n",
       "\n",
       "              Subsector                         Archetype  Valuechain  \\\n",
       "0                 media      media_aggregator/distributor   Midstream   \n",
       "1  consumer electronics  consumer electronics_distributor  Downstream   \n",
       "2                others                            others         NaN   \n",
       "4  consumer electronics  consumer electronics_distributor  Downstream   \n",
       "5           it_services                       it_services   midstream   \n",
       "\n",
       "                                                                                                                                                                                                                                                                                                                                                                                                                                                                                                                                                                                         Company Profile Information  \\\n",
       "0                                                                                                                                                                                                                                                                                                                                                                     For over 80 years of experience in creating and developing high-quality learning materials has enabled us to provide world-class educational innovation to meet the needs of all teachers, students, institutions and educational authorities.   \n",
       "1                                                                                                                                                                                                                                                                                                                                  Yatai's main products cover various cleaning machinery, cleaning agents, cleaning tools, stone maintenance and other cleaning products; cleaning solutions and services include product technical consultation, product customization, employee training, maintenance and so on.    \n",
       "2                                                                                                                                                                                                                                                           In the beginning, it started off by providing technical support for test handlers, then moving into module design and production. Its first, in-house designed, full-fledged handler was introduced in 2008. Since then, the company has designed and produced a wide range of turret and pick-and-place solutions for its customers all over the world.   \n",
       "4                                                                       Being a turnkey, one-stop integrated solutions provider based in Singapore, Aztech is equipped with state-of-the-art equipment, R&D, design, manufacturing and packaging capabilities to deliver a seamless, unified experience. Each and every time. Always striving towards the edge of technology for more than 34 years, we have been building capabilities to serve clients’ manufacturing needs, including the consumer electronics, telecommunications, healthtech, LED lighting, automotive and technology start-up market segments.   \n",
       "5  Tongdun Technology is a professional third-party intelligent risk management and decision-making service provider headquartered in Hangzhou, Zhejiang. By integrating artificial intelligence into business scenarios, Tongdun Technology offers solutions in intelligent user analysis, intelligent risk management, intelligent antifraud and intelligent operation to clients from various industries including financial industry, internet business, logistics, healthcare, retail, smart cities and government bodies. Over 10,000 corporate clients have chosen Tongdun Technology’s products and services   \n",
       "\n",
       "   length  \n",
       "0   238.0  \n",
       "1   273.0  \n",
       "2   344.0  \n",
       "4   524.0  \n",
       "5   593.0  "
      ]
     },
     "execution_count": 20,
     "metadata": {},
     "output_type": "execute_result"
    }
   ],
   "source": [
    "# first, add in a new column that tabluates the length of the respecive company description\n",
    "df_valid[\"length\"] = df_valid[\"Company Profile Information\"].str.len()\n",
    "df_valid.head()"
   ]
  },
  {
   "cell_type": "code",
   "execution_count": 21,
   "metadata": {
    "colab": {
     "base_uri": "https://localhost:8080/",
     "height": 295
    },
    "id": "725S9NxvyZXQ",
    "outputId": "97e9743b-70d5-407a-e0bc-02ce4ca1265c"
   },
   "outputs": [
    {
     "data": {
      "image/png": "[encoded data removed]",
      "text/plain": [
       "<Figure size 432x288 with 1 Axes>"
      ]
     },
     "metadata": {},
     "output_type": "display_data"
    }
   ],
   "source": [
    "# now plot a distribution plot to see the word length distribution\n",
    "sns.distplot(df_valid[\"length\"], kde=True)\n",
    "plt.title('Word Length Distribution')\n",
    "plt.show()"
   ]
  },
  {
   "cell_type": "markdown",
   "metadata": {
    "id": "ZjI1Z5ogyl6h"
   },
   "source": [
    "<div class=\"alert alert-block alert-info\">\n",
    "    <b>Analysis Summary:</b> We can see that there is a high record of the company description having a total word length of around 200 to 300, while those aboce 800 is very rare.\n",
    "</div>"
   ]
  },
  {
   "cell_type": "markdown",
   "metadata": {
    "id": "OdPgyXL60rqg"
   },
   "source": [
    "### 4.3. Subsample from the entire dataset\n",
    "\n",
    "---\n",
    "\n",
    "We will now subsample a part of the dataset from the entire dataset. This is important as firstly, we need to ensure that our tokenization is working correctly in a smaller scale dataset, since using the entire dataset to do it will be very time consuming."
   ]
  },
  {
   "cell_type": "code",
   "execution_count": 22,
   "metadata": {
    "colab": {
     "base_uri": "https://localhost:8080/",
     "height": 979
    },
    "id": "OC9h-jIM07v2",
    "outputId": "dde98c8f-06ac-4b88-f525-cabc6bc5ba63"
   },
   "outputs": [
    {
     "data": {
      "text/html": [
       "<div>\n",
       "<style scoped>\n",
       "    .dataframe tbody tr th:only-of-type {\n",
       "        vertical-align: middle;\n",
       "    }\n",
       "\n",
       "    .dataframe tbody tr th {\n",
       "        vertical-align: top;\n",
       "    }\n",
       "\n",
       "    .dataframe thead th {\n",
       "        text-align: right;\n",
       "    }\n",
       "</style>\n",
       "<table border=\"1\" class=\"dataframe\">\n",
       "  <thead>\n",
       "    <tr style=\"text-align: right;\">\n",
       "      <th></th>\n",
       "      <th>Company</th>\n",
       "      <th>Country</th>\n",
       "      <th>Sector</th>\n",
       "      <th>Subsector</th>\n",
       "      <th>Archetype</th>\n",
       "      <th>Valuechain</th>\n",
       "      <th>Company Profile Information</th>\n",
       "      <th>length</th>\n",
       "    </tr>\n",
       "  </thead>\n",
       "  <tbody>\n",
       "    <tr>\n",
       "      <th>0</th>\n",
       "      <td>AKSORN CHAROEN TAT ACT. CO.,LTD.</td>\n",
       "      <td>THAILAND</td>\n",
       "      <td>TMT</td>\n",
       "      <td>media</td>\n",
       "      <td>media_aggregator/distributor</td>\n",
       "      <td>Midstream</td>\n",
       "      <td>For over 80 years of experience in creating and developing high-quality learning materials has enabled us to provide world-class educational innovation to meet the needs of all teachers, students, institutions and educational authorities.</td>\n",
       "      <td>238.0</td>\n",
       "    </tr>\n",
       "    <tr>\n",
       "      <th>1</th>\n",
       "      <td>DONGGUAN SHENGYA CLEANING APPLIAME CO.LTD</td>\n",
       "      <td>CHINA</td>\n",
       "      <td>TMT</td>\n",
       "      <td>consumer electronics</td>\n",
       "      <td>consumer electronics_distributor</td>\n",
       "      <td>Downstream</td>\n",
       "      <td>Yatai's main products cover various cleaning machinery, cleaning agents, cleaning tools, stone maintenance and other cleaning products; cleaning solutions and services include product technical consultation, product customization, employee training, maintenance and so on.</td>\n",
       "      <td>273.0</td>\n",
       "    </tr>\n",
       "    <tr>\n",
       "      <th>2</th>\n",
       "      <td>EXIS TECH SDN. BHD.</td>\n",
       "      <td>MALAYSIA</td>\n",
       "      <td>oos</td>\n",
       "      <td>others</td>\n",
       "      <td>others</td>\n",
       "      <td>NaN</td>\n",
       "      <td>In the beginning, it started off by providing technical support for test handlers, then moving into module design and production. Its first, in-house designed, full-fledged handler was introduced in 2008. Since then, the company has designed and produced a wide range of turret and pick-and-place solutions for its customers all over the world.</td>\n",
       "      <td>344.0</td>\n",
       "    </tr>\n",
       "    <tr>\n",
       "      <th>4</th>\n",
       "      <td>Aztech Electronics Pte Ltd</td>\n",
       "      <td>SINGAPORE</td>\n",
       "      <td>TMT</td>\n",
       "      <td>consumer electronics</td>\n",
       "      <td>consumer electronics_distributor</td>\n",
       "      <td>Downstream</td>\n",
       "      <td>Being a turnkey, one-stop integrated solutions provider based in Singapore, Aztech is equipped with state-of-the-art equipment, R&amp;D, design, manufacturing and packaging capabilities to deliver a seamless, unified experience. Each and every time. Always striving towards the edge of technology for more than 34 years, we have been building capabilities to serve clients’ manufacturing needs, including the consumer electronics, telecommunications, healthtech, LED lighting, automotive and technology start-up market segments.</td>\n",
       "      <td>524.0</td>\n",
       "    </tr>\n",
       "    <tr>\n",
       "      <th>5</th>\n",
       "      <td>TONGDUN INTERNATIONAL PTE LTD</td>\n",
       "      <td>SINGAPORE</td>\n",
       "      <td>tmt</td>\n",
       "      <td>it_services</td>\n",
       "      <td>it_services</td>\n",
       "      <td>midstream</td>\n",
       "      <td>Tongdun Technology is a professional third-party intelligent risk management and decision-making service provider headquartered in Hangzhou, Zhejiang. By integrating artificial intelligence into business scenarios, Tongdun Technology offers solutions in intelligent user analysis, intelligent risk management, intelligent antifraud and intelligent operation to clients from various industries including financial industry, internet business, logistics, healthcare, retail, smart cities and government bodies. Over 10,000 corporate clients have chosen Tongdun Technology’s products and services</td>\n",
       "      <td>593.0</td>\n",
       "    </tr>\n",
       "    <tr>\n",
       "      <th>...</th>\n",
       "      <td>...</td>\n",
       "      <td>...</td>\n",
       "      <td>...</td>\n",
       "      <td>...</td>\n",
       "      <td>...</td>\n",
       "      <td>...</td>\n",
       "      <td>...</td>\n",
       "      <td>...</td>\n",
       "    </tr>\n",
       "    <tr>\n",
       "      <th>366</th>\n",
       "      <td>SHOPEE HONG KONG LIMITED</td>\n",
       "      <td>HONG KONG</td>\n",
       "      <td>tmt</td>\n",
       "      <td>digital_business</td>\n",
       "      <td>digital_business</td>\n",
       "      <td>midstream</td>\n",
       "      <td>Shopee is the leading e-commerce platform in Southeast Asia and Taiwan. It is a platform tailored for the region, providing customers with an easy, secure and fast online shopping experience through strong payment and logistical support. Shopee aims to continually enhance its platform and become the region’s e-commerce destination of choice. Shopee has a wide selection of product categories ranging from consumer electronics to home &amp; living, health &amp; beauty, baby &amp; toys, fashion and fitness equipment. Shopee, a Sea company, was first launched in Singapore in 2015, and has since expanded its reach to Malaysia, Thailand, Taiwan, Indonesia, Vietnam and the Philippines. Sea is a leader in digital entertainment, e-commerce and digital financial services across Greater Southeast Asia. Sea’s mission is to better the lives of consumers and small businesses with technology, and is listed on the NYSE under the symbol SE.</td>\n",
       "      <td>924.0</td>\n",
       "    </tr>\n",
       "    <tr>\n",
       "      <th>367</th>\n",
       "      <td>M-LINK SYSTEM (M) SDN. BHD.</td>\n",
       "      <td>MALAYSIA</td>\n",
       "      <td>tmt</td>\n",
       "      <td>consumer electronics</td>\n",
       "      <td>consumer electronics_distributor</td>\n",
       "      <td>downstream</td>\n",
       "      <td>Formed in 1989, and with the rapid growth, the company has incorporated in 1994 as M-LINK SYSTEM (M) SDN BHD, with its headquarter in Petaling Jaya, Selangor and 7 branches located at strategic and important network points of Malaysia. M-Link System (M) Sdn Bhd has forged ahead in its area of specialization – distribution. A leading distributor for information technology products in the country, M-Link System has carved a reputation for strong dealer support and a penchant for product selection. This entails a corporate structure that is based on intimate industry experience, and which also recognizes and caters to the needs of the dealer supply network. It also means that the company is cognizant of the changing market environment and can introduce products in anticipation of strong market demand. M-Link System represents several leading brands and principal vendors recognize that M-Link System forms an important conduit for their products. In essence, M-Link System has proven to be constantly at the forefront of the distribution services with its market knowledge, product expertise and corporate services.</td>\n",
       "      <td>1124.0</td>\n",
       "    </tr>\n",
       "    <tr>\n",
       "      <th>368</th>\n",
       "      <td>BUILDERS 265 PRIVATE LIMITED</td>\n",
       "      <td>SINGAPORE</td>\n",
       "      <td>cni</td>\n",
       "      <td>buildings &amp; industrial</td>\n",
       "      <td>buildings &amp; industrial_contractor</td>\n",
       "      <td>midstream</td>\n",
       "      <td>Singapore Building Contractors, Civil Engineering, Interior Decoration, Construction Contractors, Waterproofing Installation, Civil Engineering Consultants, Civil Engineers, Interior Decoration Contractors, Interior Decorators</td>\n",
       "      <td>226.0</td>\n",
       "    </tr>\n",
       "    <tr>\n",
       "      <th>369</th>\n",
       "      <td>THEPMAHANAKORN CHEMICALS CO.,LTD.</td>\n",
       "      <td>THAILAND</td>\n",
       "      <td>ong</td>\n",
       "      <td>petrochemical</td>\n",
       "      <td>petrochemical_distributor</td>\n",
       "      <td>downstream</td>\n",
       "      <td>Sell ​​all kinds of paints, oil paints, paint mixing oils, paint tools.</td>\n",
       "      <td>71.0</td>\n",
       "    </tr>\n",
       "    <tr>\n",
       "      <th>370</th>\n",
       "      <td>RYOSHO TECHNO SINGAPORE PTE LTD</td>\n",
       "      <td>SINGAPORE</td>\n",
       "      <td>tmt</td>\n",
       "      <td>telecommunication</td>\n",
       "      <td>network equipment supplier</td>\n",
       "      <td>upstream</td>\n",
       "      <td>The Company's line of business includes the wholesale distribution of electronic parts and electronic communications equipment.</td>\n",
       "      <td>128.0</td>\n",
       "    </tr>\n",
       "  </tbody>\n",
       "</table>\n",
       "<p>350 rows × 8 columns</p>\n",
       "</div>"
      ],
      "text/plain": [
       "                                       Company    Country Sector  \\\n",
       "0             AKSORN CHAROEN TAT ACT. CO.,LTD.   THAILAND    TMT   \n",
       "1    DONGGUAN SHENGYA CLEANING APPLIAME CO.LTD      CHINA    TMT   \n",
       "2                          EXIS TECH SDN. BHD.   MALAYSIA    oos   \n",
       "4                   Aztech Electronics Pte Ltd  SINGAPORE    TMT   \n",
       "5                TONGDUN INTERNATIONAL PTE LTD  SINGAPORE    tmt   \n",
       "..                                         ...        ...    ...   \n",
       "366                   SHOPEE HONG KONG LIMITED  HONG KONG    tmt   \n",
       "367                M-LINK SYSTEM (M) SDN. BHD.   MALAYSIA    tmt   \n",
       "368               BUILDERS 265 PRIVATE LIMITED  SINGAPORE    cni   \n",
       "369          THEPMAHANAKORN CHEMICALS CO.,LTD.   THAILAND    ong   \n",
       "370            RYOSHO TECHNO SINGAPORE PTE LTD  SINGAPORE    tmt   \n",
       "\n",
       "                  Subsector                          Archetype  Valuechain  \\\n",
       "0                     media       media_aggregator/distributor   Midstream   \n",
       "1      consumer electronics   consumer electronics_distributor  Downstream   \n",
       "2                    others                             others         NaN   \n",
       "4      consumer electronics   consumer electronics_distributor  Downstream   \n",
       "5               it_services                        it_services   midstream   \n",
       "..                      ...                                ...         ...   \n",
       "366        digital_business                   digital_business   midstream   \n",
       "367    consumer electronics   consumer electronics_distributor  downstream   \n",
       "368  buildings & industrial  buildings & industrial_contractor   midstream   \n",
       "369           petrochemical          petrochemical_distributor  downstream   \n",
       "370       telecommunication         network equipment supplier    upstream   \n",
       "\n",
       "                                                                                                                                                                                                                                                                                                                                                                                                                                                                                                                                                                                                                                                                                                                                                                                                                                                                                                                                                                                                                                                                                                                                              Company Profile Information  \\\n",
       "0                                                                                                                                                                                                                                                                                                                                                                                                                                                                                                                                                                                                                                                                                                                                                                                                                                                                                                                          For over 80 years of experience in creating and developing high-quality learning materials has enabled us to provide world-class educational innovation to meet the needs of all teachers, students, institutions and educational authorities.   \n",
       "1                                                                                                                                                                                                                                                                                                                                                                                                                                                                                                                                                                                                                                                                                                                                                                                                                                                                                       Yatai's main products cover various cleaning machinery, cleaning agents, cleaning tools, stone maintenance and other cleaning products; cleaning solutions and services include product technical consultation, product customization, employee training, maintenance and so on.    \n",
       "2                                                                                                                                                                                                                                                                                                                                                                                                                                                                                                                                                                                                                                                                                                                                                                                                                In the beginning, it started off by providing technical support for test handlers, then moving into module design and production. Its first, in-house designed, full-fledged handler was introduced in 2008. Since then, the company has designed and produced a wide range of turret and pick-and-place solutions for its customers all over the world.   \n",
       "4                                                                                                                                                                                                                                                                                                                                                                                                                                                                                                                                                                                                                            Being a turnkey, one-stop integrated solutions provider based in Singapore, Aztech is equipped with state-of-the-art equipment, R&D, design, manufacturing and packaging capabilities to deliver a seamless, unified experience. Each and every time. Always striving towards the edge of technology for more than 34 years, we have been building capabilities to serve clients’ manufacturing needs, including the consumer electronics, telecommunications, healthtech, LED lighting, automotive and technology start-up market segments.   \n",
       "5                                                                                                                                                                                                                                                                                                                                                                                                                                                                                                                                                       Tongdun Technology is a professional third-party intelligent risk management and decision-making service provider headquartered in Hangzhou, Zhejiang. By integrating artificial intelligence into business scenarios, Tongdun Technology offers solutions in intelligent user analysis, intelligent risk management, intelligent antifraud and intelligent operation to clients from various industries including financial industry, internet business, logistics, healthcare, retail, smart cities and government bodies. Over 10,000 corporate clients have chosen Tongdun Technology’s products and services   \n",
       "..                                                                                                                                                                                                                                                                                                                                                                                                                                                                                                                                                                                                                                                                                                                                                                                                                                                                                                                                                                                                                                                                                                                                                                    ...   \n",
       "366                                                                                                                                                                                                          Shopee is the leading e-commerce platform in Southeast Asia and Taiwan. It is a platform tailored for the region, providing customers with an easy, secure and fast online shopping experience through strong payment and logistical support. Shopee aims to continually enhance its platform and become the region’s e-commerce destination of choice. Shopee has a wide selection of product categories ranging from consumer electronics to home & living, health & beauty, baby & toys, fashion and fitness equipment. Shopee, a Sea company, was first launched in Singapore in 2015, and has since expanded its reach to Malaysia, Thailand, Taiwan, Indonesia, Vietnam and the Philippines. Sea is a leader in digital entertainment, e-commerce and digital financial services across Greater Southeast Asia. Sea’s mission is to better the lives of consumers and small businesses with technology, and is listed on the NYSE under the symbol SE.   \n",
       "367  Formed in 1989, and with the rapid growth, the company has incorporated in 1994 as M-LINK SYSTEM (M) SDN BHD, with its headquarter in Petaling Jaya, Selangor and 7 branches located at strategic and important network points of Malaysia. M-Link System (M) Sdn Bhd has forged ahead in its area of specialization – distribution. A leading distributor for information technology products in the country, M-Link System has carved a reputation for strong dealer support and a penchant for product selection. This entails a corporate structure that is based on intimate industry experience, and which also recognizes and caters to the needs of the dealer supply network. It also means that the company is cognizant of the changing market environment and can introduce products in anticipation of strong market demand. M-Link System represents several leading brands and principal vendors recognize that M-Link System forms an important conduit for their products. In essence, M-Link System has proven to be constantly at the forefront of the distribution services with its market knowledge, product expertise and corporate services.   \n",
       "368                                                                                                                                                                                                                                                                                                                                                                                                                                                                                                                                                                                                                                                                                                                                                                                                                                                                                                                                    Singapore Building Contractors, Civil Engineering, Interior Decoration, Construction Contractors, Waterproofing Installation, Civil Engineering Consultants, Civil Engineers, Interior Decoration Contractors, Interior Decorators   \n",
       "369                                                                                                                                                                                                                                                                                                                                                                                                                                                                                                                                                                                                                                                                                                                                                                                                                                                                                                                                                                                                                                                                                               Sell ​​all kinds of paints, oil paints, paint mixing oils, paint tools.   \n",
       "370                                                                                                                                                                                                                                                                                                                                                                                                                                                                                                                                                                                                                                                                                                                                                                                                                                                                                                                                                                                                                                      The Company's line of business includes the wholesale distribution of electronic parts and electronic communications equipment.    \n",
       "\n",
       "     length  \n",
       "0     238.0  \n",
       "1     273.0  \n",
       "2     344.0  \n",
       "4     524.0  \n",
       "5     593.0  \n",
       "..      ...  \n",
       "366   924.0  \n",
       "367  1124.0  \n",
       "368   226.0  \n",
       "369    71.0  \n",
       "370   128.0  \n",
       "\n",
       "[350 rows x 8 columns]"
      ]
     },
     "execution_count": 22,
     "metadata": {},
     "output_type": "execute_result"
    }
   ],
   "source": [
    "# declare sample size here first (CHANGE IT AS THE TRAINING DATA INCREASES)\n",
    "sample_size = 350\n",
    "\n",
    "# now we will get the data from the restricted range of sample size\n",
    "subsample = df_valid[:sample_size]\n",
    "subsample"
   ]
  },
  {
   "cell_type": "markdown",
   "metadata": {
    "id": "V2q_t5v3SSq2"
   },
   "source": [
    "### 4.4. Populating Nan cells\n",
    "\n",
    "---\n",
    "\n",
    "We will now have to populate Nan cells with space so that we can carry on and process with text tokenization."
   ]
  },
  {
   "cell_type": "code",
   "execution_count": 23,
   "metadata": {
    "colab": {
     "base_uri": "https://localhost:8080/",
     "height": 823
    },
    "id": "iAUWZOuMSP7O",
    "outputId": "57fd41a2-2b69-4efe-b959-3dbc38589b2e"
   },
   "outputs": [
    {
     "data": {
      "text/html": [
       "<div>\n",
       "<style scoped>\n",
       "    .dataframe tbody tr th:only-of-type {\n",
       "        vertical-align: middle;\n",
       "    }\n",
       "\n",
       "    .dataframe tbody tr th {\n",
       "        vertical-align: top;\n",
       "    }\n",
       "\n",
       "    .dataframe thead th {\n",
       "        text-align: right;\n",
       "    }\n",
       "</style>\n",
       "<table border=\"1\" class=\"dataframe\">\n",
       "  <thead>\n",
       "    <tr style=\"text-align: right;\">\n",
       "      <th></th>\n",
       "      <th>Company</th>\n",
       "      <th>Country</th>\n",
       "      <th>Sector</th>\n",
       "      <th>Subsector</th>\n",
       "      <th>Archetype</th>\n",
       "      <th>Valuechain</th>\n",
       "      <th>Company Profile Information</th>\n",
       "      <th>length</th>\n",
       "    </tr>\n",
       "  </thead>\n",
       "  <tbody>\n",
       "    <tr>\n",
       "      <th>0</th>\n",
       "      <td>AKSORN CHAROEN TAT ACT. CO.,LTD.</td>\n",
       "      <td>THAILAND</td>\n",
       "      <td>TMT</td>\n",
       "      <td>media</td>\n",
       "      <td>media_aggregator/distributor</td>\n",
       "      <td>Midstream</td>\n",
       "      <td>For over 80 years of experience in creating and developing high-quality learning materials has enabled us to provide world-class educational innovation to meet the needs of all teachers, students, institutions and educational authorities.</td>\n",
       "      <td>238.0</td>\n",
       "    </tr>\n",
       "    <tr>\n",
       "      <th>1</th>\n",
       "      <td>DONGGUAN SHENGYA CLEANING APPLIAME CO.LTD</td>\n",
       "      <td>CHINA</td>\n",
       "      <td>TMT</td>\n",
       "      <td>consumer electronics</td>\n",
       "      <td>consumer electronics_distributor</td>\n",
       "      <td>Downstream</td>\n",
       "      <td>Yatai's main products cover various cleaning machinery, cleaning agents, cleaning tools, stone maintenance and other cleaning products; cleaning solutions and services include product technical consultation, product customization, employee training, maintenance and so on.</td>\n",
       "      <td>273.0</td>\n",
       "    </tr>\n",
       "    <tr>\n",
       "      <th>2</th>\n",
       "      <td>EXIS TECH SDN. BHD.</td>\n",
       "      <td>MALAYSIA</td>\n",
       "      <td>oos</td>\n",
       "      <td>others</td>\n",
       "      <td>others</td>\n",
       "      <td></td>\n",
       "      <td>In the beginning, it started off by providing technical support for test handlers, then moving into module design and production. Its first, in-house designed, full-fledged handler was introduced in 2008. Since then, the company has designed and produced a wide range of turret and pick-and-place solutions for its customers all over the world.</td>\n",
       "      <td>344.0</td>\n",
       "    </tr>\n",
       "    <tr>\n",
       "      <th>4</th>\n",
       "      <td>Aztech Electronics Pte Ltd</td>\n",
       "      <td>SINGAPORE</td>\n",
       "      <td>TMT</td>\n",
       "      <td>consumer electronics</td>\n",
       "      <td>consumer electronics_distributor</td>\n",
       "      <td>Downstream</td>\n",
       "      <td>Being a turnkey, one-stop integrated solutions provider based in Singapore, Aztech is equipped with state-of-the-art equipment, R&amp;D, design, manufacturing and packaging capabilities to deliver a seamless, unified experience. Each and every time. Always striving towards the edge of technology for more than 34 years, we have been building capabilities to serve clients’ manufacturing needs, including the consumer electronics, telecommunications, healthtech, LED lighting, automotive and technology start-up market segments.</td>\n",
       "      <td>524.0</td>\n",
       "    </tr>\n",
       "    <tr>\n",
       "      <th>5</th>\n",
       "      <td>TONGDUN INTERNATIONAL PTE LTD</td>\n",
       "      <td>SINGAPORE</td>\n",
       "      <td>tmt</td>\n",
       "      <td>it_services</td>\n",
       "      <td>it_services</td>\n",
       "      <td>midstream</td>\n",
       "      <td>Tongdun Technology is a professional third-party intelligent risk management and decision-making service provider headquartered in Hangzhou, Zhejiang. By integrating artificial intelligence into business scenarios, Tongdun Technology offers solutions in intelligent user analysis, intelligent risk management, intelligent antifraud and intelligent operation to clients from various industries including financial industry, internet business, logistics, healthcare, retail, smart cities and government bodies. Over 10,000 corporate clients have chosen Tongdun Technology’s products and services</td>\n",
       "      <td>593.0</td>\n",
       "    </tr>\n",
       "    <tr>\n",
       "      <th>...</th>\n",
       "      <td>...</td>\n",
       "      <td>...</td>\n",
       "      <td>...</td>\n",
       "      <td>...</td>\n",
       "      <td>...</td>\n",
       "      <td>...</td>\n",
       "      <td>...</td>\n",
       "      <td>...</td>\n",
       "    </tr>\n",
       "    <tr>\n",
       "      <th>4994</th>\n",
       "      <td>KARYA MANIS SDN BHD</td>\n",
       "      <td>MALAYSIA</td>\n",
       "      <td>REH</td>\n",
       "      <td>residential</td>\n",
       "      <td>residential_developer</td>\n",
       "      <td>UPSTREAM</td>\n",
       "      <td>PROPERTY DEVELOPMENT</td>\n",
       "      <td>20.0</td>\n",
       "    </tr>\n",
       "    <tr>\n",
       "      <th>4995</th>\n",
       "      <td>SHENGYA (SG) PTE. LTD.</td>\n",
       "      <td>SINGAPORE</td>\n",
       "      <td>OOS</td>\n",
       "      <td>others</td>\n",
       "      <td>others</td>\n",
       "      <td></td>\n",
       "      <td>OTHER INFORMATION SERVICE ACTIVITIES N.E.C.</td>\n",
       "      <td>43.0</td>\n",
       "    </tr>\n",
       "    <tr>\n",
       "      <th>4997</th>\n",
       "      <td>ADAMPAK (THAILAND) LTD.</td>\n",
       "      <td>THAILAND</td>\n",
       "      <td>OOS</td>\n",
       "      <td>others</td>\n",
       "      <td>others</td>\n",
       "      <td></td>\n",
       "      <td>Known for our high quality products and dynamic service, we are a leading tape and label converter delivering premium solutions to a range of clients right across the globe.</td>\n",
       "      <td>174.0</td>\n",
       "    </tr>\n",
       "    <tr>\n",
       "      <th>4998</th>\n",
       "      <td>HOE LEONG CRAWLER PARTS PTE. LTD.</td>\n",
       "      <td>SINGAPORE</td>\n",
       "      <td>OOS</td>\n",
       "      <td>others</td>\n",
       "      <td>others</td>\n",
       "      <td></td>\n",
       "      <td>WHOLESALE TRADE OF A VARIETY OF GOODS WITHOUT A DOMINANT PRODUCT</td>\n",
       "      <td>64.0</td>\n",
       "    </tr>\n",
       "    <tr>\n",
       "      <th>4999</th>\n",
       "      <td>SINOROCK (JIUJIANG) STONE &amp; TILE CO., LTD.</td>\n",
       "      <td>CHINA</td>\n",
       "      <td>CNI</td>\n",
       "      <td>building_material</td>\n",
       "      <td>building_material_manufacturer</td>\n",
       "      <td>MIDSTREAM</td>\n",
       "      <td>SINOROCK Co., established in 2001 has become an integrated operation and processing enterprise concentrating on natural stone, glass and porcelain processing, engineering design and construction, and international trading. Our company owns several stone quarries with the processing base in Shuitou, Fujian province which mainly process imported marble, and the base in Jiangxi province which mainly process marble and slate, while established two wholly-owned subsidiaries in Xiamen and Nanchang.</td>\n",
       "      <td>497.0</td>\n",
       "    </tr>\n",
       "  </tbody>\n",
       "</table>\n",
       "<p>4519 rows × 8 columns</p>\n",
       "</div>"
      ],
      "text/plain": [
       "                                         Company    Country Sector  \\\n",
       "0               AKSORN CHAROEN TAT ACT. CO.,LTD.   THAILAND    TMT   \n",
       "1      DONGGUAN SHENGYA CLEANING APPLIAME CO.LTD      CHINA    TMT   \n",
       "2                            EXIS TECH SDN. BHD.   MALAYSIA    oos   \n",
       "4                     Aztech Electronics Pte Ltd  SINGAPORE    TMT   \n",
       "5                  TONGDUN INTERNATIONAL PTE LTD  SINGAPORE    tmt   \n",
       "...                                          ...        ...    ...   \n",
       "4994                         KARYA MANIS SDN BHD   MALAYSIA    REH   \n",
       "4995                      SHENGYA (SG) PTE. LTD.  SINGAPORE    OOS   \n",
       "4997                     ADAMPAK (THAILAND) LTD.   THAILAND    OOS   \n",
       "4998           HOE LEONG CRAWLER PARTS PTE. LTD.  SINGAPORE    OOS   \n",
       "4999  SINOROCK (JIUJIANG) STONE & TILE CO., LTD.      CHINA    CNI   \n",
       "\n",
       "                 Subsector                         Archetype  Valuechain  \\\n",
       "0                    media      media_aggregator/distributor   Midstream   \n",
       "1     consumer electronics  consumer electronics_distributor  Downstream   \n",
       "2                   others                            others               \n",
       "4     consumer electronics  consumer electronics_distributor  Downstream   \n",
       "5              it_services                       it_services   midstream   \n",
       "...                    ...                               ...         ...   \n",
       "4994           residential             residential_developer    UPSTREAM   \n",
       "4995                others                            others               \n",
       "4997                others                            others               \n",
       "4998                others                            others               \n",
       "4999     building_material    building_material_manufacturer   MIDSTREAM   \n",
       "\n",
       "                                                                                                                                                                                                                                                                                                                                                                                                                                                                                                                                                                                            Company Profile Information  \\\n",
       "0                                                                                                                                                                                                                                                                                                                                                                        For over 80 years of experience in creating and developing high-quality learning materials has enabled us to provide world-class educational innovation to meet the needs of all teachers, students, institutions and educational authorities.   \n",
       "1                                                                                                                                                                                                                                                                                                                                     Yatai's main products cover various cleaning machinery, cleaning agents, cleaning tools, stone maintenance and other cleaning products; cleaning solutions and services include product technical consultation, product customization, employee training, maintenance and so on.    \n",
       "2                                                                                                                                                                                                                                                              In the beginning, it started off by providing technical support for test handlers, then moving into module design and production. Its first, in-house designed, full-fledged handler was introduced in 2008. Since then, the company has designed and produced a wide range of turret and pick-and-place solutions for its customers all over the world.   \n",
       "4                                                                          Being a turnkey, one-stop integrated solutions provider based in Singapore, Aztech is equipped with state-of-the-art equipment, R&D, design, manufacturing and packaging capabilities to deliver a seamless, unified experience. Each and every time. Always striving towards the edge of technology for more than 34 years, we have been building capabilities to serve clients’ manufacturing needs, including the consumer electronics, telecommunications, healthtech, LED lighting, automotive and technology start-up market segments.   \n",
       "5     Tongdun Technology is a professional third-party intelligent risk management and decision-making service provider headquartered in Hangzhou, Zhejiang. By integrating artificial intelligence into business scenarios, Tongdun Technology offers solutions in intelligent user analysis, intelligent risk management, intelligent antifraud and intelligent operation to clients from various industries including financial industry, internet business, logistics, healthcare, retail, smart cities and government bodies. Over 10,000 corporate clients have chosen Tongdun Technology’s products and services   \n",
       "...                                                                                                                                                                                                                                                                                                                                                                                                                                                                                                                                                                                                                 ...   \n",
       "4994                                                                                                                                                                                                                                                                                                                                                                                                                                                                                                                                                                                               PROPERTY DEVELOPMENT   \n",
       "4995                                                                                                                                                                                                                                                                                                                                                                                                                                                                                                                                                                        OTHER INFORMATION SERVICE ACTIVITIES N.E.C.   \n",
       "4997                                                                                                                                                                                                                                                                                                                                                                                                                                     Known for our high quality products and dynamic service, we are a leading tape and label converter delivering premium solutions to a range of clients right across the globe.    \n",
       "4998                                                                                                                                                                                                                                                                                                                                                                                                                                                                                                                                                   WHOLESALE TRADE OF A VARIETY OF GOODS WITHOUT A DOMINANT PRODUCT   \n",
       "4999                                                                                                  SINOROCK Co., established in 2001 has become an integrated operation and processing enterprise concentrating on natural stone, glass and porcelain processing, engineering design and construction, and international trading. Our company owns several stone quarries with the processing base in Shuitou, Fujian province which mainly process imported marble, and the base in Jiangxi province which mainly process marble and slate, while established two wholly-owned subsidiaries in Xiamen and Nanchang.   \n",
       "\n",
       "     length  \n",
       "0     238.0  \n",
       "1     273.0  \n",
       "2     344.0  \n",
       "4     524.0  \n",
       "5     593.0  \n",
       "...     ...  \n",
       "4994   20.0  \n",
       "4995   43.0  \n",
       "4997  174.0  \n",
       "4998   64.0  \n",
       "4999  497.0  \n",
       "\n",
       "[4519 rows x 8 columns]"
      ]
     },
     "execution_count": 23,
     "metadata": {},
     "output_type": "execute_result"
    }
   ],
   "source": [
    "# fill na with space instead of others\n",
    "df_valid.fillna(\" \" ,inplace=True)\n",
    "df_valid"
   ]
  },
  {
   "cell_type": "markdown",
   "metadata": {
    "id": "KvaDZUtsVIYk"
   },
   "source": [
    "### 4.5. Assigning tags\n",
    "---\n",
    "In this section, we will be assigning tags to every row, so that we can make use of the given keywords for bag-of-words (BoW) processing."
   ]
  },
  {
   "cell_type": "code",
   "execution_count": 24,
   "metadata": {
    "colab": {
     "base_uri": "https://localhost:8080/"
    },
    "id": "RMryE61_3L3d",
    "outputId": "8db97084-a660-4568-b0a9-6ad24610981c"
   },
   "outputs": [
    {
     "name": "stdout",
     "output_type": "stream",
     "text": [
      "7 32 92 9\n"
     ]
    }
   ],
   "source": [
    "# Programmatically assign tags to each definition\n",
    "sector_keywords = pd.read_excel('./sector_master_definition.xlsx')\n",
    "df_keywords = sector_keywords[['Sector', 'Subsector', 'Archetype', 'Value Chain', 'Sector Keywords']]\n",
    "\n",
    "# capitalise all tags\n",
    "df_keywords['Value Chain'] = df_keywords['Value Chain'].str.upper()\n",
    "df_keywords.fillna(' ', inplace=True)\n",
    "df_keywords['Sector Keywords'] = df_keywords['Sector Keywords'].str.upper()\n",
    "df_keywords['Sector Keywords'].replace(' ', '[]', inplace=True)\n",
    "\n",
    "# save unique tags, sorted for consistency across runs\n",
    "sector = np.sort(df_keywords['Sector'].unique())\n",
    "subsector = np.sort(df_keywords['Subsector'].unique())\n",
    "archetype = np.sort(df_keywords['Archetype'].unique())\n",
    "valuechain = np.sort(df_keywords['Value Chain'].unique())\n",
    "\n",
    "# save counts for use in model\n",
    "print(len(sector), len(subsector), len(archetype), len(valuechain))\n",
    "tag_counts = [len(sector), len(subsector), len(archetype), len(valuechain)]\n",
    "\n",
    "# assign number tag list to each row\n",
    "taglist = []\n",
    "for index, row in df_keywords.iterrows():\n",
    "    temp = []\n",
    "\n",
    "    temp.append(np.where(sector == row['Sector'])[0][0])\n",
    "    temp.append(np.where(subsector == row['Subsector'])[0][0])\n",
    "    temp.append(np.where(archetype == row['Archetype'])[0][0])\n",
    "    temp.append(np.where(valuechain == row['Value Chain'])[0][0])\n",
    "\n",
    "    taglist.append(temp)\n",
    "\n",
    "# assign completed taglist to column in dataframe\n",
    "df_keywords['list_tag'] = taglist"
   ]
  },
  {
   "cell_type": "code",
   "execution_count": 25,
   "metadata": {
    "colab": {
     "base_uri": "https://localhost:8080/"
    },
    "id": "qeY7nEgNAL5n",
    "outputId": "34fb2c35-36e5-4407-91db-021d47f8534f"
   },
   "outputs": [
    {
     "name": "stdout",
     "output_type": "stream",
     "text": [
      "Company                        TOP FOUNTAIN LIMITED\n",
      "Country                                   HONG KONG\n",
      "Sector                                             \n",
      "Subsector                                          \n",
      "Archetype                                          \n",
      "Valuechain                                         \n",
      "Company Profile Information                        \n",
      "length                                             \n",
      "Name: 1905, dtype: object \n",
      "\n",
      "Company                                                                                                                        NASA CONCRETE LIMITED PARTNERSHIP\n",
      "Country                                                                                                                                                 THAILAND\n",
      "Sector                                                                                                                                                       CNI\n",
      "Subsector                                                                                                                      buildings & industrial_contractor\n",
      "Archetype                                                                                                                                              MIDSTREAM\n",
      "Valuechain                                                                                                                                            DOWNSTREAM\n",
      "Company Profile Information    Operations, production, distribution of ready-mixed concrete, providing construction services and selling construction materials \n",
      "length                                                                                                                                                     129.0\n",
      "Name: 2209, dtype: object \n",
      "\n",
      "Company                                                                                                                                                                  GARMCO (S) PTE LTD\n",
      "Country                                                                                                                                                                           SINGAPORE\n",
      "Sector                                                                                                                                                                                  IND\n",
      "Subsector                                                                                                                                                                               IND\n",
      "Archetype                                                                                                                                                                 metals and mining\n",
      "Valuechain                                                                                                                                                                 STEEL FABRICATOR\n",
      "Company Profile Information    GARMCO Singapore is a metal service center, which carries a full range of aluminium plate, coils & sheets, extrusions, stainless steel and EG / GI products.\n",
      "length                                                                                                                                                                                156.0\n",
      "Name: 2299, dtype: object \n",
      "\n",
      "Company                        GB PEARL RESOURCES SDN. BHD.\n",
      "Country                                            MALAYSIA\n",
      "Sector                                                     \n",
      "Subsector                                                  \n",
      "Archetype                                                  \n",
      "Valuechain                                                 \n",
      "Company Profile Information                         DORMANT\n",
      "length                                                  7.0\n",
      "Name: 2369, dtype: object \n",
      "\n",
      "Company                        PTT REGIONAL TREASURY CENTER PTE LTD\n",
      "Country                                                   SINGAPORE\n",
      "Sector                                                             \n",
      "Subsector                                                          \n",
      "Archetype                                                          \n",
      "Valuechain                                                         \n",
      "Company Profile Information                        TREASURY CENTRES\n",
      "length                                                         16.0\n",
      "Name: 2735, dtype: object \n",
      "\n",
      "Company                        TANAPATARA CO.,LTD.\n",
      "Country                                   THAILAND\n",
      "Sector                                            \n",
      "Subsector                                         \n",
      "Archetype                                         \n",
      "Valuechain                                        \n",
      "Company Profile Information                Service\n",
      "length                                         7.0\n",
      "Name: 2960, dtype: object \n",
      "\n",
      "Company                                         GOLDEN STAR CONCRETE SDN. BHD.\n",
      "Country                                                               MALAYSIA\n",
      "Sector                                                                     CNI\n",
      "Subsector                                                    building material\n",
      "Archetype                               building material_supplier_distributor\n",
      "Valuechain                                                          DOWNSTREAM\n",
      "Company Profile Information    TRADING IN CONCRETE PRODUCTS, TRANSPORT SERVICE\n",
      "length                                                                    47.0\n",
      "Name: 3003, dtype: object \n",
      "\n",
      "Company                                                           GYPSUM FIBERBOARD CO.,LTD.\n",
      "Country                                                                             THAILAND\n",
      "Sector                                                                                   CNI\n",
      "Subsector                                                                  building material\n",
      "Archetype                                             building material_supplier_distributor\n",
      "Valuechain                                                                        DOWNSTREAM\n",
      "Company Profile Information    Business in the production and distribution of gypsum sheets.\n",
      "length                                                                                  61.0\n",
      "Name: 3027, dtype: object \n",
      "\n",
      "Company                                                                                                                                                                                                                                                                                                                   PANTECH CORPORATION SDN. BHD.\n",
      "Country                                                                                                                                                                                                                                                                                                                                        MALAYSIA\n",
      "Sector                                                                                                                                                                                                                                                                                                                                              CNI\n",
      "Subsector                                                                                                                                                                                                                                                                                                                             building material\n",
      "Archetype                                                                                                                                                                                                                                                                                                        building material_supplier_distributor\n",
      "Valuechain                                                                                                                                                                                                                                                                                                                                   DOWNSTREAM\n",
      "Company Profile Information    Pantech Corporation Sdn Bhd initially started business as a partnership in 1987 under the name Pantech Hardware and Machinery Trading(PHMT), supplying industrial hardware and machinery in the southern region of Peninsular Malaysia. On 29 November 1988, the partnership was converted to a private limited company.\n",
      "length                                                                                                                                                                                                                                                                                                                                            312.0\n",
      "Name: 3031, dtype: object \n",
      "\n",
      "Company                                                                             LAUTAN EMAS OENTOENG,CV\n",
      "Country                                                                                           INDONESIA\n",
      "Sector                                                                                                  CNI\n",
      "Subsector                                                                                 building material\n",
      "Archetype                                                            building material_supplier_distributor\n",
      "Valuechain                                                                                       DOWNSTREAM\n",
      "Company Profile Information    Pvc coated welded wire mesh grout 1/2 \"x1 / 2\" x0.914mx10mx4kgs good and new\n",
      "length                                                                                                 76.0\n",
      "Name: 3044, dtype: object \n",
      "\n",
      "Company                        LENG BUENGKAL CONCRETE SERVICE LIMITED PARTNERSHIP\n",
      "Country                                                                  THAILAND\n",
      "Sector                                                                        CNI\n",
      "Subsector                                                       building material\n",
      "Archetype                                  building material_supplier_distributor\n",
      "Valuechain                                                             DOWNSTREAM\n",
      "Company Profile Information                          Precast Concrete Distributor\n",
      "length                                                                       28.0\n",
      "Name: 3061, dtype: object \n",
      "\n",
      "Company                                                                                                                                                                                                                                                                                                        DCON PRODUCTS PUBLIC COMPANY LIMITED\n",
      "Country                                                                                                                                                                                                                                                                                                                                    THAILAND\n",
      "Sector                                                                                                                                                                                                                                                                                                                                          CNI\n",
      "Subsector                                                                                                                                                                                                                                                                                                                         building material\n",
      "Archetype                                                                                                                                                                                                                                                                                                    building material_supplier_distributor\n",
      "Valuechain                                                                                                                                                                                                                                                                                                                               DOWNSTREAM\n",
      "Company Profile Information    Dcon Products Company Limited registered capital worth 40 million Baht (fully paid-up) on 6th August  in order to operate the business of manufacturing and distributing pre-stressed concrete planks and piles under the brand “DCON” by constructing the factory at A. Pattanikom, Lopburi from August to December\n",
      "length                                                                                                                                                                                                                                                                                                                                        308.0\n",
      "Name: 3081, dtype: object \n",
      "\n",
      "Company                                                                                                                                                                                                                                                                                                                                                                                                                     ANYUAN GLASS CO., LTD\n",
      "Country                                                                                                                                                                                                                                                                                                                                                                                                                                     CHINA\n",
      "Sector                                                                                                                                                                                                                                                                                                                                                                                                                                        CNI\n",
      "Subsector                                                                                                                                                                                                                                                                                                                                                                                                                       building material\n",
      "Archetype                                                                                                                                                                                                                                                                                                                                                                                                          building material_manufacturer\n",
      "Valuechain                                                                                                                                                                                                                                                                                                                                                                                                                              MIDSTREAM\n",
      "Company Profile Information    We are a manufacturer majoring in glass deep processing, mianly produce Low-emissivity coating glasses and toughening, hollow, sandwich and other glass. Our products are of excellent quality and our factory has passed ISO9000 certification. We have a wealth of experience in export, products are sold to Saudi Arabia, UAE, Algeria, etc. We are glad to cooperate with you on building glass business. ...\n",
      "length                                                                                                                                                                                                                                                                                                                                                                                                                                      402.0\n",
      "Name: 3101, dtype: object \n",
      "\n",
      "Company                                                                 FARSIGHT INVESTMENT LIMITED\n",
      "Country                                                                                   HONG KONG\n",
      "Sector                                                                                             \n",
      "Subsector                                                                                          \n",
      "Archetype                                                                                          \n",
      "Valuechain                                                                                         \n",
      "Company Profile Information    Financials INDUSTRY Financial Services SUB-INDUSTRY Asset Management\n",
      "length                                                                                         68.0\n",
      "Name: 3673, dtype: object \n",
      "\n",
      "Company                                                                                                                                                                    HOCK PENG REALTY SDN. BHD.\n",
      "Country                                                                                                                                                                                      MALAYSIA\n",
      "Sector                                                                                                                                                                                               \n",
      "Subsector                                                                                                                                                                                            \n",
      "Archetype                                                                                                                                                                                            \n",
      "Valuechain                                                                                                                                                                                           \n",
      "Company Profile Information    Hock Peng Realty Sdn Bhd is based in Malaysia, with the head office in Sibu. It operates in the Construction industry. The company was established on August 01, 1974.\n",
      "length                                                                                                                                                                                          166.0\n",
      "Name: 4528, dtype: object \n",
      "\n",
      "Company                                                                           RAM I PTE LTD\n",
      "Country                                                                               SINGAPORE\n",
      "Sector                                                                                         \n",
      "Subsector                                                                                      \n",
      "Archetype                                                                                      \n",
      "Valuechain                                                                                     \n",
      "Company Profile Information    WHOLESALE TRADE OF A VARIETY OF GOODS WITHOUT A DOMINANT PRODUCT\n",
      "length                                                                                     64.0\n",
      "Name: 4639, dtype: object \n",
      "\n",
      "Company                        JIANGSU PROVINCE FENGCAI NEW TYPE BUILDING MATERIALS CO.,LTD\n",
      "Country                                                                               CHINA\n",
      "Sector                                                                                     \n",
      "Subsector                                                                                  \n",
      "Archetype                                                                                  \n",
      "Valuechain                                                                                 \n",
      "Company Profile Information                 Miscellaneous: Manufacturing; Stock Cooperative\n",
      "length                                                                                 47.0\n",
      "Name: 4890, dtype: object \n",
      "\n"
     ]
    },
    {
     "data": {
      "text/plain": [
       "(4502, 9)"
      ]
     },
     "execution_count": 25,
     "metadata": {},
     "output_type": "execute_result"
    }
   ],
   "source": [
    "# process data for homogenity\n",
    "df_valid['Valuechain'] = df_valid['Valuechain'].str.split().str.join(' ')\n",
    "df_valid['Valuechain'] = df_valid['Valuechain'].str.upper()\n",
    "df_valid['Sector'] = df_valid['Sector'].str.upper()\n",
    "df_valid['Valuechain'].replace('', ' ', inplace=True)\n",
    "\n",
    "taglist_df = []\n",
    "# process tags for records\n",
    "for index, row in df_valid.iterrows():\n",
    "    temp = []\n",
    "\n",
    "    try: # for error handling\n",
    "        temp.append(np.where(sector == row['Sector'])[0][0])\n",
    "        temp.append(np.where(subsector == row['Subsector'])[0][0])\n",
    "        temp.append(np.where(archetype == row['Archetype'])[0][0])\n",
    "        temp.append(np.where(valuechain == row['Valuechain'])[0][0])\n",
    "\n",
    "        taglist_df.append(temp)\n",
    "    except:\n",
    "        # drop data if not valid\n",
    "        print(row, '\\n')\n",
    "        df_valid.drop(index, inplace=True)\n",
    "\n",
    "\n",
    "df_valid['list_tag'] = taglist_df\n",
    "\n",
    "df_valid.shape"
   ]
  },
  {
   "cell_type": "code",
   "execution_count": 26,
   "metadata": {
    "colab": {
     "base_uri": "https://localhost:8080/"
    },
    "id": "G1zJBkfx6euk",
    "outputId": "032a470c-a217-4145-d45f-09b4f96feb41"
   },
   "outputs": [
    {
     "name": "stdout",
     "output_type": "stream",
     "text": [
      "1474\n"
     ]
    }
   ],
   "source": [
    "# combine all keywords from all sectors\n",
    "keywords_masterlist = []\n",
    "for index, row in df_keywords.iterrows():\n",
    "    keywords_masterlist += eval(row['Sector Keywords'])\n",
    "\n",
    "# remove extraenous keywords, then sort\n",
    "keywords_masterlist = sorted(list(set(keywords_masterlist)))\n",
    "print(len(keywords_masterlist))"
   ]
  },
  {
   "cell_type": "markdown",
   "metadata": {
    "id": "vMQVBNOGz4cn"
   },
   "source": [
    "### 4.6. Text Tokenization, Removing Stop Words, punctuations, numbers, stop words and Lower Case\n",
    "\n",
    "---\n",
    "\n",
    "Now we will start to tokenize the word after we have ensure that the text description between the company descriptions are homogenous. In this process, we will also process with stop words, punctuations, numeric figures, lower cap words and lemmatize words all using the spaCy API."
   ]
  },
  {
   "cell_type": "code",
   "execution_count": 27,
   "metadata": {
    "id": "XM-Q_-iEUgFQ"
   },
   "outputs": [],
   "source": [
    "# we will have to ensure all the dtype of the respective columns are in string and not float for spacy to handle properly, so now we will attempt to convert all into strings\n",
    "columns_to_convert = ['Sector', 'Subsector', 'Archetype', 'Valuechain', 'Company Profile Information']\n",
    "\n",
    "for i in columns_to_convert:\n",
    "  df_valid[i] = df_valid[i].astype(str)"
   ]
  },
  {
   "cell_type": "markdown",
   "metadata": {
    "id": "ihIc0sUPPu_A"
   },
   "source": [
    "Here we will do everything necessary to start up spacy for use in preprocessing the text."
   ]
  },
  {
   "cell_type": "code",
   "execution_count": 28,
   "metadata": {
    "colab": {
     "base_uri": "https://localhost:8080/"
    },
    "id": "zf-9naDFAIZq",
    "outputId": "4fcc88b8-0229-4f87-b8ef-2059a595a847"
   },
   "outputs": [
    {
     "data": {
      "text/plain": [
       "<function __main__.custom_preprocess(doc)>"
      ]
     },
     "execution_count": 28,
     "metadata": {},
     "output_type": "execute_result"
    }
   ],
   "source": [
    "# import required libraries \n",
    "from spacy.language import Language\n",
    "from spacy.tokens import Doc\n",
    "from spacy.lang.char_classes import ALPHA, ALPHA_LOWER, ALPHA_UPPER, CONCAT_QUOTES, LIST_ELLIPSES, LIST_ICONS\n",
    "from spacy.util import compile_infix_regex\n",
    "\n",
    "# initialise nlp engine\n",
    "nlp = spacy.load(\"en_core_web_lg\")\n",
    "\n",
    "# declare custom properties\n",
    "Doc.set_extension('processed', default=True, force=True)\n",
    "\n",
    "# Modify tokenizer infix patterns\n",
    "infixes = (\n",
    "    LIST_ELLIPSES\n",
    "    + LIST_ICONS\n",
    "    + [\n",
    "        r\"(?<=[0-9])[+\\-\\*^](?=[0-9-])\",\n",
    "        r\"(?<=[{al}{q}])\\.(?=[{au}{q}])\".format(\n",
    "            al=ALPHA_LOWER, au=ALPHA_UPPER, q=CONCAT_QUOTES\n",
    "        ),\n",
    "        r\"(?<=[{a}]),(?=[{a}])\".format(a=ALPHA),\n",
    "        r\"(?<=[{a}0-9])[:<>=/](?=[{a}])\".format(a=ALPHA),\n",
    "    ]\n",
    ")\n",
    "\n",
    "infix_re = compile_infix_regex(infixes)\n",
    "nlp.tokenizer.infix_finditer = infix_re.finditer\n",
    "\n",
    "# custom retokenizer\n",
    "@Language.component('custom_retokenizer')\n",
    "def custom_retoken(doc):\n",
    "    doc_text = doc.text.upper()\n",
    "    doc_split = [i.text.upper() for i in doc]\n",
    "    temp_kw = [i.lstrip().rstrip() for i in keywords_masterlist if len(i.lstrip().rstrip().split(' ')) > 1]\n",
    "    for token in temp_kw:\n",
    "        token_length = len(token.split(' '))\n",
    "        token_split = token.split(' ')\n",
    "        if token in doc_text and token_split[0] in doc_split:\n",
    "            merge_pos = doc_split.index(token_split[0])\n",
    "            with doc.retokenize() as retokenizer:\n",
    "                try:\n",
    "                    retokenizer.merge(doc[merge_pos:merge_pos + token_length], attrs={'LEMMA' : token.lower()})\n",
    "                except:\n",
    "                    print(merge_pos, merge_pos+token_length)\n",
    "\n",
    "    return doc\n",
    "\n",
    "# custom lemmatizer\n",
    "@Language.component(\"custom_preprocess\")\n",
    "def custom_preprocess(doc):\n",
    "    temp = []\n",
    "    # filter through each token and add to preprocessed text if requirements #\n",
    "    # met.                                                                   #\n",
    "    for t in doc:\n",
    "        if (not t.is_punct and not t.like_num and not t.is_stop and not t.is_digit and not (t.ent_type == 396 or t.ent_type == 397)):\n",
    "            temp.append(t.lemma_.upper())\n",
    "\n",
    "    doc._.processed = temp\n",
    "\n",
    "    return doc\n",
    "\n",
    "# add custom pipeline components to default pipeline\n",
    "nlp.add_pipe('custom_retokenizer')\n",
    "nlp.add_pipe('custom_preprocess', last=True)"
   ]
  },
  {
   "cell_type": "code",
   "execution_count": 29,
   "metadata": {
    "colab": {
     "base_uri": "https://localhost:8080/"
    },
    "id": "13bwIYewPsD9",
    "outputId": "cb91d26b-1cf6-4b22-a54c-b165d0dc140a"
   },
   "outputs": [
    {
     "name": "stdout",
     "output_type": "stream",
     "text": [
      "3 5\n",
      "95 97\n",
      "3 5\n"
     ]
    }
   ],
   "source": [
    "# run the pipeline on data\n",
    "processed_doc = list(nlp.pipe(df_valid['Company Profile Information']))"
   ]
  },
  {
   "cell_type": "code",
   "execution_count": 30,
   "metadata": {
    "colab": {
     "base_uri": "https://localhost:8080/"
    },
    "id": "YV2WYBMc7mSW",
    "outputId": "31191ca3-b9d2-414d-e3fd-39594c692fde"
   },
   "outputs": [
    {
     "name": "stdout",
     "output_type": "stream",
     "text": [
      "Text\t\t\tEntity Type\tPart-of-Speech\tSentiment\t\n",
      "Tongdun                 ORG             PROPN           0.0             \n",
      "Technology              ORG             PROPN           0.0             \n",
      "is                                      AUX             0.0             \n",
      "a                                       DET             0.0             \n",
      "professional                            ADJ             0.0             \n",
      "third-party                             ADJ             0.0             \n",
      "intelligent                             ADJ             0.0             \n",
      "risk                                    NOUN            0.0             \n",
      "management                              NOUN            0.0             \n",
      "and                                     CCONJ           0.0             \n",
      "decision-making                         NOUN            0.0             \n",
      "service                                 NOUN            0.0             \n",
      "provider                                NOUN            0.0             \n",
      "headquartered                           VERB            0.0             \n",
      "in                                      ADP             0.0             \n",
      "Hangzhou                GPE             PROPN           0.0             \n",
      ",                                       PUNCT           0.0             \n",
      "Zhejiang                GPE             PROPN           0.0             \n",
      ".                                       PUNCT           0.0             \n",
      "By                                      ADP             0.0             \n",
      "integrating                             VERB            0.0             \n",
      "artificial intelligence                 NOUN            0.0             \n",
      "into                                    ADP             0.0             \n",
      "business                                NOUN            0.0             \n",
      "scenarios                               NOUN            0.0             \n",
      ",                                       PUNCT           0.0             \n",
      "Tongdun                 ORG             PROPN           0.0             \n",
      "Technology              ORG             PROPN           0.0             \n",
      "offers                                  VERB            0.0             \n",
      "solutions                               NOUN            0.0             \n",
      "in                                      ADP             0.0             \n",
      "intelligent                             ADJ             0.0             \n",
      "user                                    NOUN            0.0             \n",
      "analysis                                NOUN            0.0             \n",
      ",                                       PUNCT           0.0             \n",
      "intelligent                             ADJ             0.0             \n",
      "risk                                    NOUN            0.0             \n",
      "management                              NOUN            0.0             \n",
      ",                                       PUNCT           0.0             \n",
      "intelligent                             ADJ             0.0             \n",
      "antifraud                               NOUN            0.0             \n",
      "and                                     CCONJ           0.0             \n",
      "intelligent                             ADJ             0.0             \n",
      "operation                               NOUN            0.0             \n",
      "to                                      ADP             0.0             \n",
      "clients                                 NOUN            0.0             \n",
      "from                                    ADP             0.0             \n",
      "various                                 ADJ             0.0             \n",
      "industries                              NOUN            0.0             \n",
      "including                               VERB            0.0             \n",
      "financial                               ADJ             0.0             \n",
      "industry                                NOUN            0.0             \n",
      ",                                       PUNCT           0.0             \n",
      "internet                                NOUN            0.0             \n",
      "business                                NOUN            0.0             \n",
      ",                                       PUNCT           0.0             \n",
      "logistics                               NOUN            0.0             \n",
      ",                                       PUNCT           0.0             \n",
      "healthcare                              NOUN            0.0             \n",
      ",                                       PUNCT           0.0             \n",
      "retail                                  ADJ             0.0             \n",
      ",                                       PUNCT           0.0             \n",
      "smart                                   ADJ             0.0             \n",
      "cities                                  NOUN            0.0             \n",
      "and                                     CCONJ           0.0             \n",
      "government                              NOUN            0.0             \n",
      "bodies                                  NOUN            0.0             \n",
      ".                                       PUNCT           0.0             \n",
      "Over                                    ADP             0.0             \n",
      "10,000                  CARDINAL        NUM             0.0             \n",
      "corporate                               ADJ             0.0             \n",
      "clients                                 NOUN            0.0             \n",
      "have                                    AUX             0.0             \n",
      "chosen                                  VERB            0.0             \n",
      "Tongdun                 ORG             PROPN           0.0             \n",
      "Technology              ORG             PROPN           0.0             \n",
      "’s                      ORG             PART            0.0             \n",
      "products                                NOUN            0.0             \n",
      "and                                     CCONJ           0.0             \n",
      "services                                NOUN            0.0             \n"
     ]
    }
   ],
   "source": [
    "# print information on given company\n",
    "print(f'Text\\t\\t\\tEntity Type\\tPart-of-Speech\\tSentiment\\t')\n",
    "\n",
    "for token in processed_doc[4]:\n",
    "    print(f'{token.text: <24}{token.ent_type_: <16}{token.pos_: <16}{token.sentiment: <16}')"
   ]
  },
  {
   "cell_type": "code",
   "execution_count": 31,
   "metadata": {
    "colab": {
     "base_uri": "https://localhost:8080/",
     "height": 1000
    },
    "id": "4UaWgX5lZStt",
    "outputId": "07c5ea47-8eb9-4727-b13f-895e4caa3eed"
   },
   "outputs": [
    {
     "data": {
      "text/html": [
       "<div>\n",
       "<style scoped>\n",
       "    .dataframe tbody tr th:only-of-type {\n",
       "        vertical-align: middle;\n",
       "    }\n",
       "\n",
       "    .dataframe tbody tr th {\n",
       "        vertical-align: top;\n",
       "    }\n",
       "\n",
       "    .dataframe thead th {\n",
       "        text-align: right;\n",
       "    }\n",
       "</style>\n",
       "<table border=\"1\" class=\"dataframe\">\n",
       "  <thead>\n",
       "    <tr style=\"text-align: right;\">\n",
       "      <th></th>\n",
       "      <th>Company</th>\n",
       "      <th>Country</th>\n",
       "      <th>Sector</th>\n",
       "      <th>Subsector</th>\n",
       "      <th>Archetype</th>\n",
       "      <th>Valuechain</th>\n",
       "      <th>Company Profile Information</th>\n",
       "      <th>length</th>\n",
       "      <th>list_tag</th>\n",
       "      <th>processed</th>\n",
       "    </tr>\n",
       "  </thead>\n",
       "  <tbody>\n",
       "    <tr>\n",
       "      <th>0</th>\n",
       "      <td>AKSORN CHAROEN TAT ACT. CO.,LTD.</td>\n",
       "      <td>THAILAND</td>\n",
       "      <td>TMT</td>\n",
       "      <td>media</td>\n",
       "      <td>media_aggregator/distributor</td>\n",
       "      <td>MIDSTREAM</td>\n",
       "      <td>For over 80 years of experience in creating and developing high-quality learning materials has enabled us to provide world-class educational innovation to meet the needs of all teachers, students, institutions and educational authorities.</td>\n",
       "      <td>238.0</td>\n",
       "      <td>[6, 18, 49, 5]</td>\n",
       "      <td>[YEAR, EXPERIENCE, CREATE, DEVELOP, HIGH-QUALITY, LEARNING, MATERIAL, ENABLE, PROVIDE, WORLD-CLASS, EDUCATIONAL, INNOVATION, MEET, NEED, TEACHER, STUDENT, INSTITUTION, EDUCATIONAL, AUTHORITY]</td>\n",
       "    </tr>\n",
       "    <tr>\n",
       "      <th>1</th>\n",
       "      <td>DONGGUAN SHENGYA CLEANING APPLIAME CO.LTD</td>\n",
       "      <td>CHINA</td>\n",
       "      <td>TMT</td>\n",
       "      <td>consumer electronics</td>\n",
       "      <td>consumer electronics_distributor</td>\n",
       "      <td>DOWNSTREAM</td>\n",
       "      <td>Yatai's main products cover various cleaning machinery, cleaning agents, cleaning tools, stone maintenance and other cleaning products; cleaning solutions and services include product technical consultation, product customization, employee training, maintenance and so on.</td>\n",
       "      <td>273.0</td>\n",
       "      <td>[6, 8, 20, 3]</td>\n",
       "      <td>[YATAI, MAIN, PRODUCT, COVER, CLEANING, MACHINERY, CLEAN, AGENT, CLEANING, TOOL, STONE, MAINTENANCE, CLEANING, PRODUCT, CLEAN, SOLUTION, SERVICE, INCLUDE, PRODUCT, TECHNICAL, CONSULTATION, PRODUCT, CUSTOMIZATION, EMPLOYEE, TRAINING, MAINTENANCE]</td>\n",
       "    </tr>\n",
       "    <tr>\n",
       "      <th>2</th>\n",
       "      <td>EXIS TECH SDN. BHD.</td>\n",
       "      <td>MALAYSIA</td>\n",
       "      <td>OOS</td>\n",
       "      <td>others</td>\n",
       "      <td>others</td>\n",
       "      <td></td>\n",
       "      <td>In the beginning, it started off by providing technical support for test handlers, then moving into module design and production. Its first, in-house designed, full-fledged handler was introduced in 2008. Since then, the company has designed and produced a wide range of turret and pick-and-place solutions for its customers all over the world.</td>\n",
       "      <td>344.0</td>\n",
       "      <td>[4, 24, 64, 0]</td>\n",
       "      <td>[BEGINNING, START, PROVIDE, TECHNICAL, SUPPORT, TEST, HANDLER, MOVE, MODULE, DESIGN, PRODUCTION, IN-HOUSE, DESIGN, FULL-FLEDGED, HANDLER, INTRODUCE, COMPANY, DESIGN, PRODUCE, WIDE, RANGE, TURRET, PICK-AND-PLACE, SOLUTION, CUSTOMER, WORLD]</td>\n",
       "    </tr>\n",
       "    <tr>\n",
       "      <th>4</th>\n",
       "      <td>Aztech Electronics Pte Ltd</td>\n",
       "      <td>SINGAPORE</td>\n",
       "      <td>TMT</td>\n",
       "      <td>consumer electronics</td>\n",
       "      <td>consumer electronics_distributor</td>\n",
       "      <td>DOWNSTREAM</td>\n",
       "      <td>Being a turnkey, one-stop integrated solutions provider based in Singapore, Aztech is equipped with state-of-the-art equipment, R&amp;D, design, manufacturing and packaging capabilities to deliver a seamless, unified experience. Each and every time. Always striving towards the edge of technology for more than 34 years, we have been building capabilities to serve clients’ manufacturing needs, including the consumer electronics, telecommunications, healthtech, LED lighting, automotive and technology start-up market segments.</td>\n",
       "      <td>524.0</td>\n",
       "      <td>[6, 8, 20, 3]</td>\n",
       "      <td>[TURNKEY, ONE-STOP, INTEGRATED, SOLUTION, PROVIDER, BASE, SINGAPORE, AZTECH, EQUIP, STATE-OF-THE-ART, EQUIPMENT, R&amp;D, DESIGN, MANUFACTURING, PACKAGING, CAPABILITY, DELIVER, SEAMLESS, UNIFIED, EXPERIENCE, TIME, STRIVE, EDGE, TECHNOLOGY, YEAR, BUILD, CAPABILITY, SERVE, CLIENT, MANUFACTURING, NEED, INCLUDE, CONSUMER ELECTRONICS, TELECOMMUNICATION, HEALTHTECH, LED, LIGHTING, AUTOMOTIVE, TECHNOLOGY, START-UP, MARKET, SEGMENT]</td>\n",
       "    </tr>\n",
       "    <tr>\n",
       "      <th>5</th>\n",
       "      <td>TONGDUN INTERNATIONAL PTE LTD</td>\n",
       "      <td>SINGAPORE</td>\n",
       "      <td>TMT</td>\n",
       "      <td>it_services</td>\n",
       "      <td>it_services</td>\n",
       "      <td>MIDSTREAM</td>\n",
       "      <td>Tongdun Technology is a professional third-party intelligent risk management and decision-making service provider headquartered in Hangzhou, Zhejiang. By integrating artificial intelligence into business scenarios, Tongdun Technology offers solutions in intelligent user analysis, intelligent risk management, intelligent antifraud and intelligent operation to clients from various industries including financial industry, internet business, logistics, healthcare, retail, smart cities and government bodies. Over 10,000 corporate clients have chosen Tongdun Technology’s products and services</td>\n",
       "      <td>593.0</td>\n",
       "      <td>[6, 17, 46, 5]</td>\n",
       "      <td>[TONGDUN, TECHNOLOGY, PROFESSIONAL, THIRD-PARTY, INTELLIGENT, RISK, MANAGEMENT, DECISION-MAKING, SERVICE, PROVIDER, HEADQUARTER, HANGZHOU, ZHEJIANG, INTEGRATE, ARTIFICIAL INTELLIGENCE, BUSINESS, SCENARIO, TONGDUN, TECHNOLOGY, OFFER, SOLUTION, INTELLIGENT, USER, ANALYSIS, INTELLIGENT, RISK, MANAGEMENT, INTELLIGENT, ANTIFRAUD, INTELLIGENT, OPERATION, CLIENT, INDUSTRY, INCLUDE, FINANCIAL, INDUSTRY, INTERNET, BUSINESS, LOGISTICS, HEALTHCARE, RETAIL, SMART, CITY, GOVERNMENT, BODY, CORPORATE, CLIENT, CHOOSE, TONGDUN, TECHNOLOGY, PRODUCT, SERVICE]</td>\n",
       "    </tr>\n",
       "    <tr>\n",
       "      <th>...</th>\n",
       "      <td>...</td>\n",
       "      <td>...</td>\n",
       "      <td>...</td>\n",
       "      <td>...</td>\n",
       "      <td>...</td>\n",
       "      <td>...</td>\n",
       "      <td>...</td>\n",
       "      <td>...</td>\n",
       "      <td>...</td>\n",
       "      <td>...</td>\n",
       "    </tr>\n",
       "    <tr>\n",
       "      <th>4994</th>\n",
       "      <td>KARYA MANIS SDN BHD</td>\n",
       "      <td>MALAYSIA</td>\n",
       "      <td>REH</td>\n",
       "      <td>residential</td>\n",
       "      <td>residential_developer</td>\n",
       "      <td>UPSTREAM</td>\n",
       "      <td>PROPERTY DEVELOPMENT</td>\n",
       "      <td>20.0</td>\n",
       "      <td>[5, 26, 75, 7]</td>\n",
       "      <td>[PROPERTY DEVELOPMENT]</td>\n",
       "    </tr>\n",
       "    <tr>\n",
       "      <th>4995</th>\n",
       "      <td>SHENGYA (SG) PTE. LTD.</td>\n",
       "      <td>SINGAPORE</td>\n",
       "      <td>OOS</td>\n",
       "      <td>others</td>\n",
       "      <td>others</td>\n",
       "      <td></td>\n",
       "      <td>OTHER INFORMATION SERVICE ACTIVITIES N.E.C.</td>\n",
       "      <td>43.0</td>\n",
       "      <td>[4, 24, 64, 0]</td>\n",
       "      <td>[INFORMATION, SERVICE, ACTIVITY, N.E.C.]</td>\n",
       "    </tr>\n",
       "    <tr>\n",
       "      <th>4997</th>\n",
       "      <td>ADAMPAK (THAILAND) LTD.</td>\n",
       "      <td>THAILAND</td>\n",
       "      <td>OOS</td>\n",
       "      <td>others</td>\n",
       "      <td>others</td>\n",
       "      <td></td>\n",
       "      <td>Known for our high quality products and dynamic service, we are a leading tape and label converter delivering premium solutions to a range of clients right across the globe.</td>\n",
       "      <td>174.0</td>\n",
       "      <td>[4, 24, 64, 0]</td>\n",
       "      <td>[KNOW, HIGH, QUALITY, PRODUCT, DYNAMIC, SERVICE, LEAD, TAPE, LABEL, CONVERTER, DELIVER, PREMIUM, SOLUTION, RANGE, CLIENT, RIGHT, GLOBE]</td>\n",
       "    </tr>\n",
       "    <tr>\n",
       "      <th>4998</th>\n",
       "      <td>HOE LEONG CRAWLER PARTS PTE. LTD.</td>\n",
       "      <td>SINGAPORE</td>\n",
       "      <td>OOS</td>\n",
       "      <td>others</td>\n",
       "      <td>others</td>\n",
       "      <td></td>\n",
       "      <td>WHOLESALE TRADE OF A VARIETY OF GOODS WITHOUT A DOMINANT PRODUCT</td>\n",
       "      <td>64.0</td>\n",
       "      <td>[4, 24, 64, 0]</td>\n",
       "      <td>[WHOLESALE, TRADE, VARIETY, GOOD, DOMINANT, PRODUCT]</td>\n",
       "    </tr>\n",
       "    <tr>\n",
       "      <th>4999</th>\n",
       "      <td>SINOROCK (JIUJIANG) STONE &amp; TILE CO., LTD.</td>\n",
       "      <td>CHINA</td>\n",
       "      <td>CNI</td>\n",
       "      <td>building_material</td>\n",
       "      <td>building_material_manufacturer</td>\n",
       "      <td>MIDSTREAM</td>\n",
       "      <td>SINOROCK Co., established in 2001 has become an integrated operation and processing enterprise concentrating on natural stone, glass and porcelain processing, engineering design and construction, and international trading. Our company owns several stone quarries with the processing base in Shuitou, Fujian province which mainly process imported marble, and the base in Jiangxi province which mainly process marble and slate, while established two wholly-owned subsidiaries in Xiamen and Nanchang.</td>\n",
       "      <td>497.0</td>\n",
       "      <td>[1, 3, 8, 5]</td>\n",
       "      <td>[SINOROCK, CO., ESTABLISH, INTEGRATED, OPERATION, PROCESSING, ENTERPRISE, CONCENTRATE, NATURAL, STONE, GLASS, PORCELAIN, PROCESSING, ENGINEERING, DESIGN, CONSTRUCTION, INTERNATIONAL, TRADING, COMPANY, OWN, STONE, QUARRY, PROCESSING, BASE, SHUITOU, FUJIAN, PROVINCE, MAINLY, PROCESS, IMPORT, MARBLE, BASE, JIANGXI, PROVINCE, MAINLY, PROCESS, MARBLE, SLATE, ESTABLISH, WHOLLY-OWNED, SUBSIDIARY, XIAMEN, NANCHANG]</td>\n",
       "    </tr>\n",
       "  </tbody>\n",
       "</table>\n",
       "<p>4502 rows × 10 columns</p>\n",
       "</div>"
      ],
      "text/plain": [
       "                                         Company    Country Sector  \\\n",
       "0               AKSORN CHAROEN TAT ACT. CO.,LTD.   THAILAND    TMT   \n",
       "1      DONGGUAN SHENGYA CLEANING APPLIAME CO.LTD      CHINA    TMT   \n",
       "2                            EXIS TECH SDN. BHD.   MALAYSIA    OOS   \n",
       "4                     Aztech Electronics Pte Ltd  SINGAPORE    TMT   \n",
       "5                  TONGDUN INTERNATIONAL PTE LTD  SINGAPORE    TMT   \n",
       "...                                          ...        ...    ...   \n",
       "4994                         KARYA MANIS SDN BHD   MALAYSIA    REH   \n",
       "4995                      SHENGYA (SG) PTE. LTD.  SINGAPORE    OOS   \n",
       "4997                     ADAMPAK (THAILAND) LTD.   THAILAND    OOS   \n",
       "4998           HOE LEONG CRAWLER PARTS PTE. LTD.  SINGAPORE    OOS   \n",
       "4999  SINOROCK (JIUJIANG) STONE & TILE CO., LTD.      CHINA    CNI   \n",
       "\n",
       "                 Subsector                         Archetype  Valuechain  \\\n",
       "0                    media      media_aggregator/distributor   MIDSTREAM   \n",
       "1     consumer electronics  consumer electronics_distributor  DOWNSTREAM   \n",
       "2                   others                            others               \n",
       "4     consumer electronics  consumer electronics_distributor  DOWNSTREAM   \n",
       "5              it_services                       it_services   MIDSTREAM   \n",
       "...                    ...                               ...         ...   \n",
       "4994           residential             residential_developer    UPSTREAM   \n",
       "4995                others                            others               \n",
       "4997                others                            others               \n",
       "4998                others                            others               \n",
       "4999     building_material    building_material_manufacturer   MIDSTREAM   \n",
       "\n",
       "                                                                                                                                                                                                                                                                                                                                                                                                                                                                                                                                                                                            Company Profile Information  \\\n",
       "0                                                                                                                                                                                                                                                                                                                                                                        For over 80 years of experience in creating and developing high-quality learning materials has enabled us to provide world-class educational innovation to meet the needs of all teachers, students, institutions and educational authorities.   \n",
       "1                                                                                                                                                                                                                                                                                                                                     Yatai's main products cover various cleaning machinery, cleaning agents, cleaning tools, stone maintenance and other cleaning products; cleaning solutions and services include product technical consultation, product customization, employee training, maintenance and so on.    \n",
       "2                                                                                                                                                                                                                                                              In the beginning, it started off by providing technical support for test handlers, then moving into module design and production. Its first, in-house designed, full-fledged handler was introduced in 2008. Since then, the company has designed and produced a wide range of turret and pick-and-place solutions for its customers all over the world.   \n",
       "4                                                                          Being a turnkey, one-stop integrated solutions provider based in Singapore, Aztech is equipped with state-of-the-art equipment, R&D, design, manufacturing and packaging capabilities to deliver a seamless, unified experience. Each and every time. Always striving towards the edge of technology for more than 34 years, we have been building capabilities to serve clients’ manufacturing needs, including the consumer electronics, telecommunications, healthtech, LED lighting, automotive and technology start-up market segments.   \n",
       "5     Tongdun Technology is a professional third-party intelligent risk management and decision-making service provider headquartered in Hangzhou, Zhejiang. By integrating artificial intelligence into business scenarios, Tongdun Technology offers solutions in intelligent user analysis, intelligent risk management, intelligent antifraud and intelligent operation to clients from various industries including financial industry, internet business, logistics, healthcare, retail, smart cities and government bodies. Over 10,000 corporate clients have chosen Tongdun Technology’s products and services   \n",
       "...                                                                                                                                                                                                                                                                                                                                                                                                                                                                                                                                                                                                                 ...   \n",
       "4994                                                                                                                                                                                                                                                                                                                                                                                                                                                                                                                                                                                               PROPERTY DEVELOPMENT   \n",
       "4995                                                                                                                                                                                                                                                                                                                                                                                                                                                                                                                                                                        OTHER INFORMATION SERVICE ACTIVITIES N.E.C.   \n",
       "4997                                                                                                                                                                                                                                                                                                                                                                                                                                     Known for our high quality products and dynamic service, we are a leading tape and label converter delivering premium solutions to a range of clients right across the globe.    \n",
       "4998                                                                                                                                                                                                                                                                                                                                                                                                                                                                                                                                                   WHOLESALE TRADE OF A VARIETY OF GOODS WITHOUT A DOMINANT PRODUCT   \n",
       "4999                                                                                                  SINOROCK Co., established in 2001 has become an integrated operation and processing enterprise concentrating on natural stone, glass and porcelain processing, engineering design and construction, and international trading. Our company owns several stone quarries with the processing base in Shuitou, Fujian province which mainly process imported marble, and the base in Jiangxi province which mainly process marble and slate, while established two wholly-owned subsidiaries in Xiamen and Nanchang.   \n",
       "\n",
       "     length        list_tag  \\\n",
       "0     238.0  [6, 18, 49, 5]   \n",
       "1     273.0   [6, 8, 20, 3]   \n",
       "2     344.0  [4, 24, 64, 0]   \n",
       "4     524.0   [6, 8, 20, 3]   \n",
       "5     593.0  [6, 17, 46, 5]   \n",
       "...     ...             ...   \n",
       "4994   20.0  [5, 26, 75, 7]   \n",
       "4995   43.0  [4, 24, 64, 0]   \n",
       "4997  174.0  [4, 24, 64, 0]   \n",
       "4998   64.0  [4, 24, 64, 0]   \n",
       "4999  497.0    [1, 3, 8, 5]   \n",
       "\n",
       "                                                                                                                                                                                                                                                                                                                                                                                                                                                                                                                                                               processed  \n",
       "0                                                                                                                                                                                                                                                                                                                                                                        [YEAR, EXPERIENCE, CREATE, DEVELOP, HIGH-QUALITY, LEARNING, MATERIAL, ENABLE, PROVIDE, WORLD-CLASS, EDUCATIONAL, INNOVATION, MEET, NEED, TEACHER, STUDENT, INSTITUTION, EDUCATIONAL, AUTHORITY]  \n",
       "1                                                                                                                                                                                                                                                                                                                  [YATAI, MAIN, PRODUCT, COVER, CLEANING, MACHINERY, CLEAN, AGENT, CLEANING, TOOL, STONE, MAINTENANCE, CLEANING, PRODUCT, CLEAN, SOLUTION, SERVICE, INCLUDE, PRODUCT, TECHNICAL, CONSULTATION, PRODUCT, CUSTOMIZATION, EMPLOYEE, TRAINING, MAINTENANCE]  \n",
       "2                                                                                                                                                                                                                                                                                                                         [BEGINNING, START, PROVIDE, TECHNICAL, SUPPORT, TEST, HANDLER, MOVE, MODULE, DESIGN, PRODUCTION, IN-HOUSE, DESIGN, FULL-FLEDGED, HANDLER, INTRODUCE, COMPANY, DESIGN, PRODUCE, WIDE, RANGE, TURRET, PICK-AND-PLACE, SOLUTION, CUSTOMER, WORLD]  \n",
       "4                                                                                                                               [TURNKEY, ONE-STOP, INTEGRATED, SOLUTION, PROVIDER, BASE, SINGAPORE, AZTECH, EQUIP, STATE-OF-THE-ART, EQUIPMENT, R&D, DESIGN, MANUFACTURING, PACKAGING, CAPABILITY, DELIVER, SEAMLESS, UNIFIED, EXPERIENCE, TIME, STRIVE, EDGE, TECHNOLOGY, YEAR, BUILD, CAPABILITY, SERVE, CLIENT, MANUFACTURING, NEED, INCLUDE, CONSUMER ELECTRONICS, TELECOMMUNICATION, HEALTHTECH, LED, LIGHTING, AUTOMOTIVE, TECHNOLOGY, START-UP, MARKET, SEGMENT]  \n",
       "5     [TONGDUN, TECHNOLOGY, PROFESSIONAL, THIRD-PARTY, INTELLIGENT, RISK, MANAGEMENT, DECISION-MAKING, SERVICE, PROVIDER, HEADQUARTER, HANGZHOU, ZHEJIANG, INTEGRATE, ARTIFICIAL INTELLIGENCE, BUSINESS, SCENARIO, TONGDUN, TECHNOLOGY, OFFER, SOLUTION, INTELLIGENT, USER, ANALYSIS, INTELLIGENT, RISK, MANAGEMENT, INTELLIGENT, ANTIFRAUD, INTELLIGENT, OPERATION, CLIENT, INDUSTRY, INCLUDE, FINANCIAL, INDUSTRY, INTERNET, BUSINESS, LOGISTICS, HEALTHCARE, RETAIL, SMART, CITY, GOVERNMENT, BODY, CORPORATE, CLIENT, CHOOSE, TONGDUN, TECHNOLOGY, PRODUCT, SERVICE]  \n",
       "...                                                                                                                                                                                                                                                                                                                                                                                                                                                                                                                                                                  ...  \n",
       "4994                                                                                                                                                                                                                                                                                                                                                                                                                                                                                                                                              [PROPERTY DEVELOPMENT]  \n",
       "4995                                                                                                                                                                                                                                                                                                                                                                                                                                                                                                                            [INFORMATION, SERVICE, ACTIVITY, N.E.C.]  \n",
       "4997                                                                                                                                                                                                                                                                                                                                                                                                                             [KNOW, HIGH, QUALITY, PRODUCT, DYNAMIC, SERVICE, LEAD, TAPE, LABEL, CONVERTER, DELIVER, PREMIUM, SOLUTION, RANGE, CLIENT, RIGHT, GLOBE]  \n",
       "4998                                                                                                                                                                                                                                                                                                                                                                                                                                                                                                                [WHOLESALE, TRADE, VARIETY, GOOD, DOMINANT, PRODUCT]  \n",
       "4999                                                                                                                                          [SINOROCK, CO., ESTABLISH, INTEGRATED, OPERATION, PROCESSING, ENTERPRISE, CONCENTRATE, NATURAL, STONE, GLASS, PORCELAIN, PROCESSING, ENGINEERING, DESIGN, CONSTRUCTION, INTERNATIONAL, TRADING, COMPANY, OWN, STONE, QUARRY, PROCESSING, BASE, SHUITOU, FUJIAN, PROVINCE, MAINLY, PROCESS, IMPORT, MARBLE, BASE, JIANGXI, PROVINCE, MAINLY, PROCESS, MARBLE, SLATE, ESTABLISH, WHOLLY-OWNED, SUBSIDIARY, XIAMEN, NANCHANG]  \n",
       "\n",
       "[4502 rows x 10 columns]"
      ]
     },
     "execution_count": 31,
     "metadata": {},
     "output_type": "execute_result"
    }
   ],
   "source": [
    "# add lemmatised words to dataframe\n",
    "df_valid['processed'] = [doc._.processed for doc in processed_doc]\n",
    "\n",
    "df_valid"
   ]
  },
  {
   "cell_type": "markdown",
   "metadata": {
    "id": "oNrfPLrEbXSh"
   },
   "source": [
    "### 4.7. Bag of Words / TF-IDF"
   ]
  },
  {
   "cell_type": "code",
   "execution_count": 32,
   "metadata": {
    "colab": {
     "base_uri": "https://localhost:8080/",
     "height": 1000
    },
    "id": "tyzmOri2ZrGl",
    "outputId": "49790043-bc8a-421c-d5e6-c44e6174bf8b"
   },
   "outputs": [
    {
     "data": {
      "text/html": [
       "<div>\n",
       "<style scoped>\n",
       "    .dataframe tbody tr th:only-of-type {\n",
       "        vertical-align: middle;\n",
       "    }\n",
       "\n",
       "    .dataframe tbody tr th {\n",
       "        vertical-align: top;\n",
       "    }\n",
       "\n",
       "    .dataframe thead th {\n",
       "        text-align: right;\n",
       "    }\n",
       "</style>\n",
       "<table border=\"1\" class=\"dataframe\">\n",
       "  <thead>\n",
       "    <tr style=\"text-align: right;\">\n",
       "      <th></th>\n",
       "      <th>Company</th>\n",
       "      <th>Country</th>\n",
       "      <th>Sector</th>\n",
       "      <th>Subsector</th>\n",
       "      <th>Archetype</th>\n",
       "      <th>Valuechain</th>\n",
       "      <th>Company Profile Information</th>\n",
       "      <th>length</th>\n",
       "      <th>list_tag</th>\n",
       "      <th>processed</th>\n",
       "      <th>BoW_vectors</th>\n",
       "    </tr>\n",
       "  </thead>\n",
       "  <tbody>\n",
       "    <tr>\n",
       "      <th>0</th>\n",
       "      <td>AKSORN CHAROEN TAT ACT. CO.,LTD.</td>\n",
       "      <td>THAILAND</td>\n",
       "      <td>TMT</td>\n",
       "      <td>media</td>\n",
       "      <td>media_aggregator/distributor</td>\n",
       "      <td>MIDSTREAM</td>\n",
       "      <td>For over 80 years of experience in creating and developing high-quality learning materials has enabled us to provide world-class educational innovation to meet the needs of all teachers, students, institutions and educational authorities.</td>\n",
       "      <td>238.0</td>\n",
       "      <td>[6, 18, 49, 5]</td>\n",
       "      <td>[YEAR, EXPERIENCE, CREATE, DEVELOP, HIGH-QUALITY, LEARNING, MATERIAL, ENABLE, PROVIDE, WORLD-CLASS, EDUCATIONAL, INNOVATION, MEET, NEED, TEACHER, STUDENT, INSTITUTION, EDUCATIONAL, AUTHORITY]</td>\n",
       "      <td>[0, 0, 0, 0, 0, 0, 0, 0, 0, 0, 0, 0, 0, 0, 0, 0, 0, 0, 0, 0, 0, 0, 0, 0, 0, 0, 0, 0, 0, 0, 0, 0, 0, 0, 0, 0, 0, 0, 0, 0, 0, 0, 0, 0, 0, 0, 0, 0, 0, 0, 0, 0, 0, 0, 0, 0, 0, 0, 0, 0, 0, 0, 0, 0, 0, 0, 0, 0, 0, 0, 0, 0, 0, 0, 0, 0, 0, 0, 0, 0, 0, 0, 0, 0, 0, 0, 0, 0, 0, 0, 0, 0, 0, 0, 0, 0, 0, 0, 0, 0, ...]</td>\n",
       "    </tr>\n",
       "    <tr>\n",
       "      <th>1</th>\n",
       "      <td>DONGGUAN SHENGYA CLEANING APPLIAME CO.LTD</td>\n",
       "      <td>CHINA</td>\n",
       "      <td>TMT</td>\n",
       "      <td>consumer electronics</td>\n",
       "      <td>consumer electronics_distributor</td>\n",
       "      <td>DOWNSTREAM</td>\n",
       "      <td>Yatai's main products cover various cleaning machinery, cleaning agents, cleaning tools, stone maintenance and other cleaning products; cleaning solutions and services include product technical consultation, product customization, employee training, maintenance and so on.</td>\n",
       "      <td>273.0</td>\n",
       "      <td>[6, 8, 20, 3]</td>\n",
       "      <td>[YATAI, MAIN, PRODUCT, COVER, CLEANING, MACHINERY, CLEAN, AGENT, CLEANING, TOOL, STONE, MAINTENANCE, CLEANING, PRODUCT, CLEAN, SOLUTION, SERVICE, INCLUDE, PRODUCT, TECHNICAL, CONSULTATION, PRODUCT, CUSTOMIZATION, EMPLOYEE, TRAINING, MAINTENANCE]</td>\n",
       "      <td>[0, 0, 0, 0, 0, 0, 0, 0, 0, 0, 0, 0, 0, 0, 0, 0, 0, 0, 0, 0, 0, 0, 0, 0, 0, 0, 0, 0, 0, 0, 0, 0, 0, 0, 0, 0, 0, 0, 0, 0, 0, 0, 0, 0, 0, 0, 0, 0, 0, 0, 0, 0, 0, 0, 0, 0, 0, 0, 0, 0, 0, 0, 0, 0, 0, 0, 0, 0, 0, 0, 0, 0, 0, 0, 0, 0, 0, 0, 0, 0, 0, 0, 0, 0, 0, 0, 0, 0, 0, 0, 0, 0, 0, 0, 0, 0, 0, 0, 0, 0, ...]</td>\n",
       "    </tr>\n",
       "    <tr>\n",
       "      <th>2</th>\n",
       "      <td>EXIS TECH SDN. BHD.</td>\n",
       "      <td>MALAYSIA</td>\n",
       "      <td>OOS</td>\n",
       "      <td>others</td>\n",
       "      <td>others</td>\n",
       "      <td></td>\n",
       "      <td>In the beginning, it started off by providing technical support for test handlers, then moving into module design and production. Its first, in-house designed, full-fledged handler was introduced in 2008. Since then, the company has designed and produced a wide range of turret and pick-and-place solutions for its customers all over the world.</td>\n",
       "      <td>344.0</td>\n",
       "      <td>[4, 24, 64, 0]</td>\n",
       "      <td>[BEGINNING, START, PROVIDE, TECHNICAL, SUPPORT, TEST, HANDLER, MOVE, MODULE, DESIGN, PRODUCTION, IN-HOUSE, DESIGN, FULL-FLEDGED, HANDLER, INTRODUCE, COMPANY, DESIGN, PRODUCE, WIDE, RANGE, TURRET, PICK-AND-PLACE, SOLUTION, CUSTOMER, WORLD]</td>\n",
       "      <td>[0, 0, 0, 0, 0, 0, 0, 0, 0, 0, 0, 0, 0, 0, 0, 0, 0, 0, 0, 0, 0, 0, 0, 0, 0, 0, 0, 0, 0, 0, 0, 0, 0, 0, 0, 0, 0, 0, 0, 0, 0, 0, 0, 0, 0, 0, 0, 0, 0, 0, 0, 0, 0, 0, 0, 0, 0, 0, 0, 0, 0, 0, 0, 0, 0, 0, 0, 0, 0, 0, 0, 0, 0, 0, 0, 0, 0, 0, 0, 0, 0, 0, 0, 0, 0, 0, 0, 0, 0, 0, 0, 0, 0, 0, 0, 0, 0, 0, 0, 0, ...]</td>\n",
       "    </tr>\n",
       "    <tr>\n",
       "      <th>4</th>\n",
       "      <td>Aztech Electronics Pte Ltd</td>\n",
       "      <td>SINGAPORE</td>\n",
       "      <td>TMT</td>\n",
       "      <td>consumer electronics</td>\n",
       "      <td>consumer electronics_distributor</td>\n",
       "      <td>DOWNSTREAM</td>\n",
       "      <td>Being a turnkey, one-stop integrated solutions provider based in Singapore, Aztech is equipped with state-of-the-art equipment, R&amp;D, design, manufacturing and packaging capabilities to deliver a seamless, unified experience. Each and every time. Always striving towards the edge of technology for more than 34 years, we have been building capabilities to serve clients’ manufacturing needs, including the consumer electronics, telecommunications, healthtech, LED lighting, automotive and technology start-up market segments.</td>\n",
       "      <td>524.0</td>\n",
       "      <td>[6, 8, 20, 3]</td>\n",
       "      <td>[TURNKEY, ONE-STOP, INTEGRATED, SOLUTION, PROVIDER, BASE, SINGAPORE, AZTECH, EQUIP, STATE-OF-THE-ART, EQUIPMENT, R&amp;D, DESIGN, MANUFACTURING, PACKAGING, CAPABILITY, DELIVER, SEAMLESS, UNIFIED, EXPERIENCE, TIME, STRIVE, EDGE, TECHNOLOGY, YEAR, BUILD, CAPABILITY, SERVE, CLIENT, MANUFACTURING, NEED, INCLUDE, CONSUMER ELECTRONICS, TELECOMMUNICATION, HEALTHTECH, LED, LIGHTING, AUTOMOTIVE, TECHNOLOGY, START-UP, MARKET, SEGMENT]</td>\n",
       "      <td>[0, 0, 0, 0, 0, 0, 0, 0, 0, 0, 0, 0, 0, 0, 0, 0, 0, 0, 0, 0, 0, 0, 0, 0, 0, 0, 0, 0, 0, 0, 0, 0, 0, 0, 0, 0, 0, 0, 0, 0, 0, 0, 0, 0, 0, 0, 0, 0, 0, 0, 0, 0, 0, 0, 0, 0, 0, 0, 0, 0, 0, 0, 0, 0, 0, 0, 0, 0, 0, 0, 0, 0, 0, 0, 0, 0, 0, 0, 0, 0, 0, 0, 0, 0, 0, 0, 0, 0, 0, 0, 0, 0, 0, 0, 0, 0, 0, 0, 0, 0, ...]</td>\n",
       "    </tr>\n",
       "    <tr>\n",
       "      <th>5</th>\n",
       "      <td>TONGDUN INTERNATIONAL PTE LTD</td>\n",
       "      <td>SINGAPORE</td>\n",
       "      <td>TMT</td>\n",
       "      <td>it_services</td>\n",
       "      <td>it_services</td>\n",
       "      <td>MIDSTREAM</td>\n",
       "      <td>Tongdun Technology is a professional third-party intelligent risk management and decision-making service provider headquartered in Hangzhou, Zhejiang. By integrating artificial intelligence into business scenarios, Tongdun Technology offers solutions in intelligent user analysis, intelligent risk management, intelligent antifraud and intelligent operation to clients from various industries including financial industry, internet business, logistics, healthcare, retail, smart cities and government bodies. Over 10,000 corporate clients have chosen Tongdun Technology’s products and services</td>\n",
       "      <td>593.0</td>\n",
       "      <td>[6, 17, 46, 5]</td>\n",
       "      <td>[TONGDUN, TECHNOLOGY, PROFESSIONAL, THIRD-PARTY, INTELLIGENT, RISK, MANAGEMENT, DECISION-MAKING, SERVICE, PROVIDER, HEADQUARTER, HANGZHOU, ZHEJIANG, INTEGRATE, ARTIFICIAL INTELLIGENCE, BUSINESS, SCENARIO, TONGDUN, TECHNOLOGY, OFFER, SOLUTION, INTELLIGENT, USER, ANALYSIS, INTELLIGENT, RISK, MANAGEMENT, INTELLIGENT, ANTIFRAUD, INTELLIGENT, OPERATION, CLIENT, INDUSTRY, INCLUDE, FINANCIAL, INDUSTRY, INTERNET, BUSINESS, LOGISTICS, HEALTHCARE, RETAIL, SMART, CITY, GOVERNMENT, BODY, CORPORATE, CLIENT, CHOOSE, TONGDUN, TECHNOLOGY, PRODUCT, SERVICE]</td>\n",
       "      <td>[0, 0, 0, 0, 0, 0, 0, 0, 0, 0, 0, 0, 0, 0, 0, 0, 0, 0, 0, 0, 0, 0, 0, 0, 0, 0, 0, 0, 0, 0, 0, 0, 0, 0, 0, 0, 0, 0, 0, 0, 0, 0, 0, 0, 0, 0, 0, 0, 0, 0, 0, 0, 0, 0, 0, 0, 0, 0, 0, 0, 0, 0, 0, 0, 0, 0, 0, 0, 0, 0, 0, 0, 0, 0, 0, 0, 0, 0, 0, 1, 0, 0, 0, 0, 0, 0, 0, 0, 0, 0, 0, 0, 0, 0, 0, 0, 0, 0, 0, 0, ...]</td>\n",
       "    </tr>\n",
       "    <tr>\n",
       "      <th>...</th>\n",
       "      <td>...</td>\n",
       "      <td>...</td>\n",
       "      <td>...</td>\n",
       "      <td>...</td>\n",
       "      <td>...</td>\n",
       "      <td>...</td>\n",
       "      <td>...</td>\n",
       "      <td>...</td>\n",
       "      <td>...</td>\n",
       "      <td>...</td>\n",
       "      <td>...</td>\n",
       "    </tr>\n",
       "    <tr>\n",
       "      <th>4994</th>\n",
       "      <td>KARYA MANIS SDN BHD</td>\n",
       "      <td>MALAYSIA</td>\n",
       "      <td>REH</td>\n",
       "      <td>residential</td>\n",
       "      <td>residential_developer</td>\n",
       "      <td>UPSTREAM</td>\n",
       "      <td>PROPERTY DEVELOPMENT</td>\n",
       "      <td>20.0</td>\n",
       "      <td>[5, 26, 75, 7]</td>\n",
       "      <td>[PROPERTY DEVELOPMENT]</td>\n",
       "      <td>[0, 0, 0, 0, 0, 0, 0, 0, 0, 0, 0, 0, 0, 0, 0, 0, 0, 0, 0, 0, 0, 0, 0, 0, 0, 0, 0, 0, 0, 0, 0, 0, 0, 0, 0, 0, 0, 0, 0, 0, 0, 0, 0, 0, 0, 0, 0, 0, 0, 0, 0, 0, 0, 0, 0, 0, 0, 0, 0, 0, 0, 0, 0, 0, 0, 0, 0, 0, 0, 0, 0, 0, 0, 0, 0, 0, 0, 0, 0, 0, 0, 0, 0, 0, 0, 0, 0, 0, 0, 0, 0, 0, 0, 0, 0, 0, 0, 0, 0, 0, ...]</td>\n",
       "    </tr>\n",
       "    <tr>\n",
       "      <th>4995</th>\n",
       "      <td>SHENGYA (SG) PTE. LTD.</td>\n",
       "      <td>SINGAPORE</td>\n",
       "      <td>OOS</td>\n",
       "      <td>others</td>\n",
       "      <td>others</td>\n",
       "      <td></td>\n",
       "      <td>OTHER INFORMATION SERVICE ACTIVITIES N.E.C.</td>\n",
       "      <td>43.0</td>\n",
       "      <td>[4, 24, 64, 0]</td>\n",
       "      <td>[INFORMATION, SERVICE, ACTIVITY, N.E.C.]</td>\n",
       "      <td>[0, 0, 0, 0, 0, 0, 0, 0, 0, 0, 0, 0, 0, 0, 0, 0, 0, 0, 0, 0, 0, 0, 0, 0, 0, 0, 0, 0, 0, 0, 0, 0, 0, 0, 0, 0, 0, 0, 0, 0, 0, 0, 0, 0, 0, 0, 0, 0, 0, 0, 0, 0, 0, 0, 0, 0, 0, 0, 0, 0, 0, 0, 0, 0, 0, 0, 0, 0, 0, 0, 0, 0, 0, 0, 0, 0, 0, 0, 0, 0, 0, 0, 0, 0, 0, 0, 0, 0, 0, 0, 0, 0, 0, 0, 0, 0, 0, 0, 0, 0, ...]</td>\n",
       "    </tr>\n",
       "    <tr>\n",
       "      <th>4997</th>\n",
       "      <td>ADAMPAK (THAILAND) LTD.</td>\n",
       "      <td>THAILAND</td>\n",
       "      <td>OOS</td>\n",
       "      <td>others</td>\n",
       "      <td>others</td>\n",
       "      <td></td>\n",
       "      <td>Known for our high quality products and dynamic service, we are a leading tape and label converter delivering premium solutions to a range of clients right across the globe.</td>\n",
       "      <td>174.0</td>\n",
       "      <td>[4, 24, 64, 0]</td>\n",
       "      <td>[KNOW, HIGH, QUALITY, PRODUCT, DYNAMIC, SERVICE, LEAD, TAPE, LABEL, CONVERTER, DELIVER, PREMIUM, SOLUTION, RANGE, CLIENT, RIGHT, GLOBE]</td>\n",
       "      <td>[0, 0, 0, 0, 0, 0, 0, 0, 0, 0, 0, 0, 0, 0, 0, 0, 0, 0, 0, 0, 0, 0, 0, 0, 0, 0, 0, 0, 0, 0, 0, 0, 0, 0, 0, 0, 0, 0, 0, 0, 0, 0, 0, 0, 0, 0, 0, 0, 0, 0, 0, 0, 0, 0, 0, 0, 0, 0, 0, 0, 0, 0, 0, 0, 0, 0, 0, 0, 0, 0, 0, 0, 0, 0, 0, 0, 0, 0, 0, 0, 0, 0, 0, 0, 0, 0, 0, 0, 0, 0, 0, 0, 0, 0, 0, 0, 0, 0, 0, 0, ...]</td>\n",
       "    </tr>\n",
       "    <tr>\n",
       "      <th>4998</th>\n",
       "      <td>HOE LEONG CRAWLER PARTS PTE. LTD.</td>\n",
       "      <td>SINGAPORE</td>\n",
       "      <td>OOS</td>\n",
       "      <td>others</td>\n",
       "      <td>others</td>\n",
       "      <td></td>\n",
       "      <td>WHOLESALE TRADE OF A VARIETY OF GOODS WITHOUT A DOMINANT PRODUCT</td>\n",
       "      <td>64.0</td>\n",
       "      <td>[4, 24, 64, 0]</td>\n",
       "      <td>[WHOLESALE, TRADE, VARIETY, GOOD, DOMINANT, PRODUCT]</td>\n",
       "      <td>[0, 0, 0, 0, 0, 0, 0, 0, 0, 0, 0, 0, 0, 0, 0, 0, 0, 0, 0, 0, 0, 0, 0, 0, 0, 0, 0, 0, 0, 0, 0, 0, 0, 0, 0, 0, 0, 0, 0, 0, 0, 0, 0, 0, 0, 0, 0, 0, 0, 0, 0, 0, 0, 0, 0, 0, 0, 0, 0, 0, 0, 0, 0, 0, 0, 0, 0, 0, 0, 0, 0, 0, 0, 0, 0, 0, 0, 0, 0, 0, 0, 0, 0, 0, 0, 0, 0, 0, 0, 0, 0, 0, 0, 0, 0, 0, 0, 0, 0, 0, ...]</td>\n",
       "    </tr>\n",
       "    <tr>\n",
       "      <th>4999</th>\n",
       "      <td>SINOROCK (JIUJIANG) STONE &amp; TILE CO., LTD.</td>\n",
       "      <td>CHINA</td>\n",
       "      <td>CNI</td>\n",
       "      <td>building_material</td>\n",
       "      <td>building_material_manufacturer</td>\n",
       "      <td>MIDSTREAM</td>\n",
       "      <td>SINOROCK Co., established in 2001 has become an integrated operation and processing enterprise concentrating on natural stone, glass and porcelain processing, engineering design and construction, and international trading. Our company owns several stone quarries with the processing base in Shuitou, Fujian province which mainly process imported marble, and the base in Jiangxi province which mainly process marble and slate, while established two wholly-owned subsidiaries in Xiamen and Nanchang.</td>\n",
       "      <td>497.0</td>\n",
       "      <td>[1, 3, 8, 5]</td>\n",
       "      <td>[SINOROCK, CO., ESTABLISH, INTEGRATED, OPERATION, PROCESSING, ENTERPRISE, CONCENTRATE, NATURAL, STONE, GLASS, PORCELAIN, PROCESSING, ENGINEERING, DESIGN, CONSTRUCTION, INTERNATIONAL, TRADING, COMPANY, OWN, STONE, QUARRY, PROCESSING, BASE, SHUITOU, FUJIAN, PROVINCE, MAINLY, PROCESS, IMPORT, MARBLE, BASE, JIANGXI, PROVINCE, MAINLY, PROCESS, MARBLE, SLATE, ESTABLISH, WHOLLY-OWNED, SUBSIDIARY, XIAMEN, NANCHANG]</td>\n",
       "      <td>[0, 0, 0, 0, 0, 0, 0, 0, 0, 0, 0, 0, 0, 0, 0, 0, 0, 0, 0, 0, 0, 0, 0, 0, 0, 0, 0, 0, 0, 0, 0, 0, 0, 0, 0, 0, 0, 0, 0, 0, 0, 0, 0, 0, 0, 0, 0, 0, 0, 0, 0, 0, 0, 0, 0, 0, 0, 0, 0, 0, 0, 0, 0, 0, 0, 0, 0, 0, 0, 0, 0, 0, 0, 0, 0, 0, 0, 0, 0, 0, 0, 0, 0, 0, 0, 0, 0, 0, 0, 0, 0, 0, 0, 0, 0, 0, 0, 0, 0, 0, ...]</td>\n",
       "    </tr>\n",
       "  </tbody>\n",
       "</table>\n",
       "<p>4502 rows × 11 columns</p>\n",
       "</div>"
      ],
      "text/plain": [
       "                                         Company    Country Sector  \\\n",
       "0               AKSORN CHAROEN TAT ACT. CO.,LTD.   THAILAND    TMT   \n",
       "1      DONGGUAN SHENGYA CLEANING APPLIAME CO.LTD      CHINA    TMT   \n",
       "2                            EXIS TECH SDN. BHD.   MALAYSIA    OOS   \n",
       "4                     Aztech Electronics Pte Ltd  SINGAPORE    TMT   \n",
       "5                  TONGDUN INTERNATIONAL PTE LTD  SINGAPORE    TMT   \n",
       "...                                          ...        ...    ...   \n",
       "4994                         KARYA MANIS SDN BHD   MALAYSIA    REH   \n",
       "4995                      SHENGYA (SG) PTE. LTD.  SINGAPORE    OOS   \n",
       "4997                     ADAMPAK (THAILAND) LTD.   THAILAND    OOS   \n",
       "4998           HOE LEONG CRAWLER PARTS PTE. LTD.  SINGAPORE    OOS   \n",
       "4999  SINOROCK (JIUJIANG) STONE & TILE CO., LTD.      CHINA    CNI   \n",
       "\n",
       "                 Subsector                         Archetype  Valuechain  \\\n",
       "0                    media      media_aggregator/distributor   MIDSTREAM   \n",
       "1     consumer electronics  consumer electronics_distributor  DOWNSTREAM   \n",
       "2                   others                            others               \n",
       "4     consumer electronics  consumer electronics_distributor  DOWNSTREAM   \n",
       "5              it_services                       it_services   MIDSTREAM   \n",
       "...                    ...                               ...         ...   \n",
       "4994           residential             residential_developer    UPSTREAM   \n",
       "4995                others                            others               \n",
       "4997                others                            others               \n",
       "4998                others                            others               \n",
       "4999     building_material    building_material_manufacturer   MIDSTREAM   \n",
       "\n",
       "                                                                                                                                                                                                                                                                                                                                                                                                                                                                                                                                                                                            Company Profile Information  \\\n",
       "0                                                                                                                                                                                                                                                                                                                                                                        For over 80 years of experience in creating and developing high-quality learning materials has enabled us to provide world-class educational innovation to meet the needs of all teachers, students, institutions and educational authorities.   \n",
       "1                                                                                                                                                                                                                                                                                                                                     Yatai's main products cover various cleaning machinery, cleaning agents, cleaning tools, stone maintenance and other cleaning products; cleaning solutions and services include product technical consultation, product customization, employee training, maintenance and so on.    \n",
       "2                                                                                                                                                                                                                                                              In the beginning, it started off by providing technical support for test handlers, then moving into module design and production. Its first, in-house designed, full-fledged handler was introduced in 2008. Since then, the company has designed and produced a wide range of turret and pick-and-place solutions for its customers all over the world.   \n",
       "4                                                                          Being a turnkey, one-stop integrated solutions provider based in Singapore, Aztech is equipped with state-of-the-art equipment, R&D, design, manufacturing and packaging capabilities to deliver a seamless, unified experience. Each and every time. Always striving towards the edge of technology for more than 34 years, we have been building capabilities to serve clients’ manufacturing needs, including the consumer electronics, telecommunications, healthtech, LED lighting, automotive and technology start-up market segments.   \n",
       "5     Tongdun Technology is a professional third-party intelligent risk management and decision-making service provider headquartered in Hangzhou, Zhejiang. By integrating artificial intelligence into business scenarios, Tongdun Technology offers solutions in intelligent user analysis, intelligent risk management, intelligent antifraud and intelligent operation to clients from various industries including financial industry, internet business, logistics, healthcare, retail, smart cities and government bodies. Over 10,000 corporate clients have chosen Tongdun Technology’s products and services   \n",
       "...                                                                                                                                                                                                                                                                                                                                                                                                                                                                                                                                                                                                                 ...   \n",
       "4994                                                                                                                                                                                                                                                                                                                                                                                                                                                                                                                                                                                               PROPERTY DEVELOPMENT   \n",
       "4995                                                                                                                                                                                                                                                                                                                                                                                                                                                                                                                                                                        OTHER INFORMATION SERVICE ACTIVITIES N.E.C.   \n",
       "4997                                                                                                                                                                                                                                                                                                                                                                                                                                     Known for our high quality products and dynamic service, we are a leading tape and label converter delivering premium solutions to a range of clients right across the globe.    \n",
       "4998                                                                                                                                                                                                                                                                                                                                                                                                                                                                                                                                                   WHOLESALE TRADE OF A VARIETY OF GOODS WITHOUT A DOMINANT PRODUCT   \n",
       "4999                                                                                                  SINOROCK Co., established in 2001 has become an integrated operation and processing enterprise concentrating on natural stone, glass and porcelain processing, engineering design and construction, and international trading. Our company owns several stone quarries with the processing base in Shuitou, Fujian province which mainly process imported marble, and the base in Jiangxi province which mainly process marble and slate, while established two wholly-owned subsidiaries in Xiamen and Nanchang.   \n",
       "\n",
       "     length        list_tag  \\\n",
       "0     238.0  [6, 18, 49, 5]   \n",
       "1     273.0   [6, 8, 20, 3]   \n",
       "2     344.0  [4, 24, 64, 0]   \n",
       "4     524.0   [6, 8, 20, 3]   \n",
       "5     593.0  [6, 17, 46, 5]   \n",
       "...     ...             ...   \n",
       "4994   20.0  [5, 26, 75, 7]   \n",
       "4995   43.0  [4, 24, 64, 0]   \n",
       "4997  174.0  [4, 24, 64, 0]   \n",
       "4998   64.0  [4, 24, 64, 0]   \n",
       "4999  497.0    [1, 3, 8, 5]   \n",
       "\n",
       "                                                                                                                                                                                                                                                                                                                                                                                                                                                                                                                                                               processed  \\\n",
       "0                                                                                                                                                                                                                                                                                                                                                                        [YEAR, EXPERIENCE, CREATE, DEVELOP, HIGH-QUALITY, LEARNING, MATERIAL, ENABLE, PROVIDE, WORLD-CLASS, EDUCATIONAL, INNOVATION, MEET, NEED, TEACHER, STUDENT, INSTITUTION, EDUCATIONAL, AUTHORITY]   \n",
       "1                                                                                                                                                                                                                                                                                                                  [YATAI, MAIN, PRODUCT, COVER, CLEANING, MACHINERY, CLEAN, AGENT, CLEANING, TOOL, STONE, MAINTENANCE, CLEANING, PRODUCT, CLEAN, SOLUTION, SERVICE, INCLUDE, PRODUCT, TECHNICAL, CONSULTATION, PRODUCT, CUSTOMIZATION, EMPLOYEE, TRAINING, MAINTENANCE]   \n",
       "2                                                                                                                                                                                                                                                                                                                         [BEGINNING, START, PROVIDE, TECHNICAL, SUPPORT, TEST, HANDLER, MOVE, MODULE, DESIGN, PRODUCTION, IN-HOUSE, DESIGN, FULL-FLEDGED, HANDLER, INTRODUCE, COMPANY, DESIGN, PRODUCE, WIDE, RANGE, TURRET, PICK-AND-PLACE, SOLUTION, CUSTOMER, WORLD]   \n",
       "4                                                                                                                               [TURNKEY, ONE-STOP, INTEGRATED, SOLUTION, PROVIDER, BASE, SINGAPORE, AZTECH, EQUIP, STATE-OF-THE-ART, EQUIPMENT, R&D, DESIGN, MANUFACTURING, PACKAGING, CAPABILITY, DELIVER, SEAMLESS, UNIFIED, EXPERIENCE, TIME, STRIVE, EDGE, TECHNOLOGY, YEAR, BUILD, CAPABILITY, SERVE, CLIENT, MANUFACTURING, NEED, INCLUDE, CONSUMER ELECTRONICS, TELECOMMUNICATION, HEALTHTECH, LED, LIGHTING, AUTOMOTIVE, TECHNOLOGY, START-UP, MARKET, SEGMENT]   \n",
       "5     [TONGDUN, TECHNOLOGY, PROFESSIONAL, THIRD-PARTY, INTELLIGENT, RISK, MANAGEMENT, DECISION-MAKING, SERVICE, PROVIDER, HEADQUARTER, HANGZHOU, ZHEJIANG, INTEGRATE, ARTIFICIAL INTELLIGENCE, BUSINESS, SCENARIO, TONGDUN, TECHNOLOGY, OFFER, SOLUTION, INTELLIGENT, USER, ANALYSIS, INTELLIGENT, RISK, MANAGEMENT, INTELLIGENT, ANTIFRAUD, INTELLIGENT, OPERATION, CLIENT, INDUSTRY, INCLUDE, FINANCIAL, INDUSTRY, INTERNET, BUSINESS, LOGISTICS, HEALTHCARE, RETAIL, SMART, CITY, GOVERNMENT, BODY, CORPORATE, CLIENT, CHOOSE, TONGDUN, TECHNOLOGY, PRODUCT, SERVICE]   \n",
       "...                                                                                                                                                                                                                                                                                                                                                                                                                                                                                                                                                                  ...   \n",
       "4994                                                                                                                                                                                                                                                                                                                                                                                                                                                                                                                                              [PROPERTY DEVELOPMENT]   \n",
       "4995                                                                                                                                                                                                                                                                                                                                                                                                                                                                                                                            [INFORMATION, SERVICE, ACTIVITY, N.E.C.]   \n",
       "4997                                                                                                                                                                                                                                                                                                                                                                                                                             [KNOW, HIGH, QUALITY, PRODUCT, DYNAMIC, SERVICE, LEAD, TAPE, LABEL, CONVERTER, DELIVER, PREMIUM, SOLUTION, RANGE, CLIENT, RIGHT, GLOBE]   \n",
       "4998                                                                                                                                                                                                                                                                                                                                                                                                                                                                                                                [WHOLESALE, TRADE, VARIETY, GOOD, DOMINANT, PRODUCT]   \n",
       "4999                                                                                                                                          [SINOROCK, CO., ESTABLISH, INTEGRATED, OPERATION, PROCESSING, ENTERPRISE, CONCENTRATE, NATURAL, STONE, GLASS, PORCELAIN, PROCESSING, ENGINEERING, DESIGN, CONSTRUCTION, INTERNATIONAL, TRADING, COMPANY, OWN, STONE, QUARRY, PROCESSING, BASE, SHUITOU, FUJIAN, PROVINCE, MAINLY, PROCESS, IMPORT, MARBLE, BASE, JIANGXI, PROVINCE, MAINLY, PROCESS, MARBLE, SLATE, ESTABLISH, WHOLLY-OWNED, SUBSIDIARY, XIAMEN, NANCHANG]   \n",
       "\n",
       "                                                                                                                                                                                                                                                                                                            BoW_vectors  \n",
       "0     [0, 0, 0, 0, 0, 0, 0, 0, 0, 0, 0, 0, 0, 0, 0, 0, 0, 0, 0, 0, 0, 0, 0, 0, 0, 0, 0, 0, 0, 0, 0, 0, 0, 0, 0, 0, 0, 0, 0, 0, 0, 0, 0, 0, 0, 0, 0, 0, 0, 0, 0, 0, 0, 0, 0, 0, 0, 0, 0, 0, 0, 0, 0, 0, 0, 0, 0, 0, 0, 0, 0, 0, 0, 0, 0, 0, 0, 0, 0, 0, 0, 0, 0, 0, 0, 0, 0, 0, 0, 0, 0, 0, 0, 0, 0, 0, 0, 0, 0, 0, ...]  \n",
       "1     [0, 0, 0, 0, 0, 0, 0, 0, 0, 0, 0, 0, 0, 0, 0, 0, 0, 0, 0, 0, 0, 0, 0, 0, 0, 0, 0, 0, 0, 0, 0, 0, 0, 0, 0, 0, 0, 0, 0, 0, 0, 0, 0, 0, 0, 0, 0, 0, 0, 0, 0, 0, 0, 0, 0, 0, 0, 0, 0, 0, 0, 0, 0, 0, 0, 0, 0, 0, 0, 0, 0, 0, 0, 0, 0, 0, 0, 0, 0, 0, 0, 0, 0, 0, 0, 0, 0, 0, 0, 0, 0, 0, 0, 0, 0, 0, 0, 0, 0, 0, ...]  \n",
       "2     [0, 0, 0, 0, 0, 0, 0, 0, 0, 0, 0, 0, 0, 0, 0, 0, 0, 0, 0, 0, 0, 0, 0, 0, 0, 0, 0, 0, 0, 0, 0, 0, 0, 0, 0, 0, 0, 0, 0, 0, 0, 0, 0, 0, 0, 0, 0, 0, 0, 0, 0, 0, 0, 0, 0, 0, 0, 0, 0, 0, 0, 0, 0, 0, 0, 0, 0, 0, 0, 0, 0, 0, 0, 0, 0, 0, 0, 0, 0, 0, 0, 0, 0, 0, 0, 0, 0, 0, 0, 0, 0, 0, 0, 0, 0, 0, 0, 0, 0, 0, ...]  \n",
       "4     [0, 0, 0, 0, 0, 0, 0, 0, 0, 0, 0, 0, 0, 0, 0, 0, 0, 0, 0, 0, 0, 0, 0, 0, 0, 0, 0, 0, 0, 0, 0, 0, 0, 0, 0, 0, 0, 0, 0, 0, 0, 0, 0, 0, 0, 0, 0, 0, 0, 0, 0, 0, 0, 0, 0, 0, 0, 0, 0, 0, 0, 0, 0, 0, 0, 0, 0, 0, 0, 0, 0, 0, 0, 0, 0, 0, 0, 0, 0, 0, 0, 0, 0, 0, 0, 0, 0, 0, 0, 0, 0, 0, 0, 0, 0, 0, 0, 0, 0, 0, ...]  \n",
       "5     [0, 0, 0, 0, 0, 0, 0, 0, 0, 0, 0, 0, 0, 0, 0, 0, 0, 0, 0, 0, 0, 0, 0, 0, 0, 0, 0, 0, 0, 0, 0, 0, 0, 0, 0, 0, 0, 0, 0, 0, 0, 0, 0, 0, 0, 0, 0, 0, 0, 0, 0, 0, 0, 0, 0, 0, 0, 0, 0, 0, 0, 0, 0, 0, 0, 0, 0, 0, 0, 0, 0, 0, 0, 0, 0, 0, 0, 0, 0, 1, 0, 0, 0, 0, 0, 0, 0, 0, 0, 0, 0, 0, 0, 0, 0, 0, 0, 0, 0, 0, ...]  \n",
       "...                                                                                                                                                                                                                                                                                                                 ...  \n",
       "4994  [0, 0, 0, 0, 0, 0, 0, 0, 0, 0, 0, 0, 0, 0, 0, 0, 0, 0, 0, 0, 0, 0, 0, 0, 0, 0, 0, 0, 0, 0, 0, 0, 0, 0, 0, 0, 0, 0, 0, 0, 0, 0, 0, 0, 0, 0, 0, 0, 0, 0, 0, 0, 0, 0, 0, 0, 0, 0, 0, 0, 0, 0, 0, 0, 0, 0, 0, 0, 0, 0, 0, 0, 0, 0, 0, 0, 0, 0, 0, 0, 0, 0, 0, 0, 0, 0, 0, 0, 0, 0, 0, 0, 0, 0, 0, 0, 0, 0, 0, 0, ...]  \n",
       "4995  [0, 0, 0, 0, 0, 0, 0, 0, 0, 0, 0, 0, 0, 0, 0, 0, 0, 0, 0, 0, 0, 0, 0, 0, 0, 0, 0, 0, 0, 0, 0, 0, 0, 0, 0, 0, 0, 0, 0, 0, 0, 0, 0, 0, 0, 0, 0, 0, 0, 0, 0, 0, 0, 0, 0, 0, 0, 0, 0, 0, 0, 0, 0, 0, 0, 0, 0, 0, 0, 0, 0, 0, 0, 0, 0, 0, 0, 0, 0, 0, 0, 0, 0, 0, 0, 0, 0, 0, 0, 0, 0, 0, 0, 0, 0, 0, 0, 0, 0, 0, ...]  \n",
       "4997  [0, 0, 0, 0, 0, 0, 0, 0, 0, 0, 0, 0, 0, 0, 0, 0, 0, 0, 0, 0, 0, 0, 0, 0, 0, 0, 0, 0, 0, 0, 0, 0, 0, 0, 0, 0, 0, 0, 0, 0, 0, 0, 0, 0, 0, 0, 0, 0, 0, 0, 0, 0, 0, 0, 0, 0, 0, 0, 0, 0, 0, 0, 0, 0, 0, 0, 0, 0, 0, 0, 0, 0, 0, 0, 0, 0, 0, 0, 0, 0, 0, 0, 0, 0, 0, 0, 0, 0, 0, 0, 0, 0, 0, 0, 0, 0, 0, 0, 0, 0, ...]  \n",
       "4998  [0, 0, 0, 0, 0, 0, 0, 0, 0, 0, 0, 0, 0, 0, 0, 0, 0, 0, 0, 0, 0, 0, 0, 0, 0, 0, 0, 0, 0, 0, 0, 0, 0, 0, 0, 0, 0, 0, 0, 0, 0, 0, 0, 0, 0, 0, 0, 0, 0, 0, 0, 0, 0, 0, 0, 0, 0, 0, 0, 0, 0, 0, 0, 0, 0, 0, 0, 0, 0, 0, 0, 0, 0, 0, 0, 0, 0, 0, 0, 0, 0, 0, 0, 0, 0, 0, 0, 0, 0, 0, 0, 0, 0, 0, 0, 0, 0, 0, 0, 0, ...]  \n",
       "4999  [0, 0, 0, 0, 0, 0, 0, 0, 0, 0, 0, 0, 0, 0, 0, 0, 0, 0, 0, 0, 0, 0, 0, 0, 0, 0, 0, 0, 0, 0, 0, 0, 0, 0, 0, 0, 0, 0, 0, 0, 0, 0, 0, 0, 0, 0, 0, 0, 0, 0, 0, 0, 0, 0, 0, 0, 0, 0, 0, 0, 0, 0, 0, 0, 0, 0, 0, 0, 0, 0, 0, 0, 0, 0, 0, 0, 0, 0, 0, 0, 0, 0, 0, 0, 0, 0, 0, 0, 0, 0, 0, 0, 0, 0, 0, 0, 0, 0, 0, 0, ...]  \n",
       "\n",
       "[4502 rows x 11 columns]"
      ]
     },
     "execution_count": 32,
     "metadata": {},
     "output_type": "execute_result"
    }
   ],
   "source": [
    "# do bag of words\n",
    "bow_vectors = []\n",
    "for index, row in df_valid.iterrows():\n",
    "    company = row['processed']\n",
    "\n",
    "    dictionary = dict.fromkeys(keywords_masterlist, 0)\n",
    "    for word in company:\n",
    "        if word in keywords_masterlist:\n",
    "            dictionary[word] += 1\n",
    "\n",
    "    # append to dataframe\n",
    "    bow_vectors.append(list(dictionary.values()))\n",
    "\n",
    "    # print(f'{sum(dictionary.values()):>3}/{len(dictionary.values()):<3} |', dictionary.values())\n",
    "\n",
    "df_valid['BoW_vectors'] = bow_vectors\n",
    "\n",
    "df_valid"
   ]
  },
  {
   "cell_type": "code",
   "execution_count": 33,
   "metadata": {
    "colab": {
     "base_uri": "https://localhost:8080/"
    },
    "id": "GynU6j-bLgdn",
    "outputId": "0539a7e8-b151-4c0a-e782-54220e1e69fb"
   },
   "outputs": [
    {
     "data": {
      "text/plain": [
       "(3527, 11)"
      ]
     },
     "execution_count": 33,
     "metadata": {},
     "output_type": "execute_result"
    }
   ],
   "source": [
    "# clean up BoW data \n",
    "temp = 0\n",
    "for index, row in df_valid.iterrows():\n",
    "    if sum(row['BoW_vectors']) < 1:\n",
    "        df_valid.drop(index, inplace=True)\n",
    "\n",
    "df_valid.shape"
   ]
  },
  {
   "cell_type": "markdown",
   "metadata": {
    "id": "uXPxFhqqgX9f"
   },
   "source": [
    "# 5.Models\n",
    "---\n",
    "Here we will train the model that will help categorize each company."
   ]
  },
  {
   "cell_type": "markdown",
   "metadata": {
    "id": "QhjAJFR4NOq9"
   },
   "source": [
    "### 5.1. Training Models"
   ]
  },
  {
   "cell_type": "code",
   "execution_count": 39,
   "metadata": {
    "colab": {
     "base_uri": "https://localhost:8080/"
    },
    "id": "hi2lRa6pgWtj",
    "outputId": "379a91b5-2cf2-4dd7-8bf0-164e1de1f955"
   },
   "outputs": [
    {
     "name": "stdout",
     "output_type": "stream",
     "text": [
      "--- Version Checking ---\n",
      "Keras: 2.5.0\n"
     ]
    }
   ],
   "source": [
    "import tensorflow.keras as Keras\n",
    "\n",
    "print('--- Version Checking ---')\n",
    "print(\"Keras:\", keras.__version__)"
   ]
  },
  {
   "cell_type": "code",
   "execution_count": 40,
   "metadata": {
    "id": "il4Tp6FBlYSR"
   },
   "outputs": [],
   "source": [
    "# split datasets to train and test\n",
    "distribution = int(df_valid.shape[0] * 0.9)\n",
    "\n",
    "# randomise dataset\n",
    "df_valid = df_valid.sample(frac=1)\n",
    "\n",
    "df_train = df_valid.iloc[:distribution]\n",
    "df_test = df_valid.iloc[distribution:]\n",
    "\n",
    "df_train.fillna(0, inplace=True)\n",
    "df_test.fillna(0, inplace=True)\n",
    "\n",
    "X_train = np.array(list(df_train['BoW_vectors']))\n",
    "y_train = np.array(list(df_train['list_tag']))\n",
    "\n",
    "X_test = np.array(list(df_test['BoW_vectors']))\n",
    "y_test = np.array(list(df_test['list_tag']))"
   ]
  },
  {
   "cell_type": "code",
   "execution_count": 43,
   "metadata": {
    "id": "SDAuui9N9jrw"
   },
   "outputs": [],
   "source": [
    "# create multi-output model\n",
    "from tensorflow.keras.layers import Dense, Input, Dropout\n",
    "from tensorflow.keras import Model\n",
    "\n",
    "# function to build model branches\n",
    "def multi_branch(x, name, input_dim, output_dim, dropout_rate):\n",
    "    x = Dense(input_dim // 2, activation='selu')(x)\n",
    "    x = Dropout(dropout_rate)(x)\n",
    "\n",
    "    if name == 'sector' or name == 'subsector' or name == 'archetype':\n",
    "        x = Dense(input_dim // 3, activation='selu')(x)\n",
    "        x = Dropout(dropout_rate)(x)\n",
    "\n",
    "    x = Dense(input_dim // 4, activation='tanh')(x)\n",
    "    x = Dropout(dropout_rate)(x)\n",
    "\n",
    "    if name == 'sector' or name == 'subsector' or name == 'archetype':\n",
    "        x = Dense(input_dim // 4, activation='tanh')(x)\n",
    "        x = Dropout(dropout_rate)(x)\n",
    "    \n",
    "    x = Dense(input_dim // 8, activation='tanh')(x)\n",
    "\n",
    "    # output\n",
    "    output = Dense(output_dim, name=name, activation='softmax')(x)\n",
    "\n",
    "    return output\n",
    "\n",
    "def create_multilabel(labels, labels_output_dim, input_dim, dropout_rate=0.3):\n",
    "    # check labels\n",
    "    assert len(labels) == len(labels_output_dim)\n",
    "\n",
    "    input_layer = Input(input_dim)\n",
    "\n",
    "    # group 1 dense layers\n",
    "    group_1 = Dense(int(input_dim * 1.5), activation='swish')(input_layer)\n",
    "    group_1 = Dropout(dropout_rate)(group_1)\n",
    "    group_1 = Dense(input_dim // 1.5, activation='swish')(group_1)\n",
    "    group_1 = Dropout(dropout_rate)(group_1)\n",
    "\n",
    "    # multilabel branches\n",
    "    branches = []\n",
    "    for i in range(len(labels)):\n",
    "        branches.append(multi_branch(group_1, labels[i], input_dim, labels_output_dim[i], dropout_rate))\n",
    "\n",
    "    # put model together\n",
    "    model = Model(inputs=input_layer, outputs=branches, name='company_classification_model')\n",
    "\n",
    "    return model\n",
    "\n",
    "# one hot \n",
    "def one_hot(arr, n_cat):\n",
    "    output = []\n",
    "    for n in arr:\n",
    "        result = np.zeros(n_cat)\n",
    "        result[n] = 1\n",
    "\n",
    "        output.append(result)\n",
    "\n",
    "    return np.array(output, dtype=int)"
   ]
  },
  {
   "cell_type": "code",
   "execution_count": 47,
   "metadata": {
    "colab": {
     "base_uri": "https://localhost:8080/",
     "height": 1000
    },
    "id": "roBjnBsxEMJU",
    "outputId": "a13852f4-42ae-488a-cae0-315014ab9450"
   },
   "outputs": [
    {
     "name": "stdout",
     "output_type": "stream",
     "text": [
      "('You must install pydot (`pip install pydot`) and install graphviz (see instructions at https://graphviz.gitlab.io/download/) ', 'for plot_model/model_to_dot to work.')\n"
     ]
    }
   ],
   "source": [
    "label_names = ['sector', 'subsector', 'archetype', 'valuechain']\n",
    "\n",
    "model = create_multilabel(label_names, tag_counts, len(keywords_masterlist))\n",
    "\n",
    "tf.keras.utils.plot_model(model, show_shapes=True)"
   ]
  },
  {
   "cell_type": "code",
   "execution_count": 48,
   "metadata": {
    "id": "FPmHQGQ8GlI2"
   },
   "outputs": [],
   "source": [
    "# preprocess labels before training\n",
    "y_train_multi = {label_names[0] : one_hot(y_train[:,0], tag_counts[0]),\n",
    "                 label_names[1] : one_hot(y_train[:,1], tag_counts[1]),\n",
    "                 label_names[2] : one_hot(y_train[:,2], tag_counts[2]),\n",
    "                 label_names[3] : one_hot(y_train[:,3], tag_counts[3]),\n",
    "                 }\n",
    "y_test_multi = {label_names[0] : one_hot(y_test[:,0], tag_counts[0]),\n",
    "                label_names[1] : one_hot(y_test[:,1], tag_counts[1]),\n",
    "                label_names[2] : one_hot(y_test[:,2], tag_counts[2]),\n",
    "                label_names[3] : one_hot(y_test[:,3], tag_counts[3]),\n",
    "                }\n",
    "\n",
    "losses = {i : 'categorical_crossentropy' for i in label_names}"
   ]
  },
  {
   "cell_type": "code",
   "execution_count": 49,
   "metadata": {
    "colab": {
     "base_uri": "https://localhost:8080/"
    },
    "id": "qw_tZtVTQ_fD",
    "outputId": "76911e35-1fd8-4128-a699-4badbad91b6e"
   },
   "outputs": [
    {
     "name": "stdout",
     "output_type": "stream",
     "text": [
      "Epoch 1/50\n",
      "159/159 [==============================] - 5s 12ms/step - loss: 8.0450 - sector_loss: 1.2818 - subsector_loss: 2.2596 - archetype_loss: 3.0795 - valuechain_loss: 1.4241 - sector_accuracy: 0.5904 - sector_precision: 0.7034 - sector_recall: 0.4805 - sector_auc_precision_recall: 0.8627 - subsector_accuracy: 0.3872 - subsector_precision: 0.6088 - subsector_recall: 0.2142 - subsector_auc_precision_recall: 0.8818 - archetype_accuracy: 0.2955 - archetype_precision: 0.5464 - archetype_recall: 0.1021 - archetype_auc_precision_recall: 0.8783 - valuechain_accuracy: 0.4883 - valuechain_precision: 0.6103 - valuechain_recall: 0.3226 - valuechain_auc_precision_recall: 0.8731    \n",
      "Epoch 2/50\n",
      "159/159 [==============================] - 2s 12ms/step - loss: 6.1090 - sector_loss: 0.9370 - subsector_loss: 1.6604 - archetype_loss: 2.3346 - valuechain_loss: 1.1769 - sector_accuracy: 0.7190 - sector_precision: 0.7624 - sector_recall: 0.6660 - sector_auc_precision_recall: 0.9209 - subsector_accuracy: 0.5249 - subsector_precision: 0.6582 - subsector_recall: 0.3749 - subsector_auc_precision_recall: 0.9427 - archetype_accuracy: 0.4020 - archetype_precision: 0.6012 - archetype_recall: 0.1928 - archetype_auc_precision_recall: 0.9477 - valuechain_accuracy: 0.5706 - valuechain_precision: 0.6372 - valuechain_recall: 0.4638 - valuechain_auc_precision_recall: 0.9150\n",
      "Epoch 3/50\n",
      "159/159 [==============================] - 2s 12ms/step - loss: 5.4390 - sector_loss: 0.8267 - subsector_loss: 1.4586 - archetype_loss: 2.0957 - valuechain_loss: 1.0580 - sector_accuracy: 0.7483 - sector_precision: 0.7827 - sector_recall: 0.6944 - sector_auc_precision_recall: 0.9385 - subsector_accuracy: 0.5731 - subsector_precision: 0.6860 - subsector_recall: 0.4357 - subsector_auc_precision_recall: 0.9580 - archetype_accuracy: 0.4342 - archetype_precision: 0.6240 - archetype_recall: 0.2426 - archetype_auc_precision_recall: 0.9627 - valuechain_accuracy: 0.6128 - valuechain_precision: 0.6764 - valuechain_recall: 0.5236 - valuechain_auc_precision_recall: 0.9310\n",
      "Epoch 4/50\n",
      "159/159 [==============================] - 2s 12ms/step - loss: 5.0091 - sector_loss: 0.7588 - subsector_loss: 1.3298 - archetype_loss: 1.9197 - valuechain_loss: 1.0008 - sector_accuracy: 0.7650 - sector_precision: 0.8033 - sector_recall: 0.7218 - sector_auc_precision_recall: 0.9476 - subsector_accuracy: 0.6052 - subsector_precision: 0.7110 - subsector_recall: 0.4846 - subsector_auc_precision_recall: 0.9659 - archetype_accuracy: 0.4597 - archetype_precision: 0.6358 - archetype_recall: 0.2810 - archetype_auc_precision_recall: 0.9711 - valuechain_accuracy: 0.6235 - valuechain_precision: 0.6869 - valuechain_recall: 0.5309 - valuechain_auc_precision_recall: 0.9380\n",
      "Epoch 5/50\n",
      "159/159 [==============================] - 2s 12ms/step - loss: 4.7683 - sector_loss: 0.7191 - subsector_loss: 1.2757 - archetype_loss: 1.8298 - valuechain_loss: 0.9437 - sector_accuracy: 0.7706 - sector_precision: 0.8033 - sector_recall: 0.7413 - sector_auc_precision_recall: 0.9536 - subsector_accuracy: 0.6257 - subsector_precision: 0.7267 - subsector_recall: 0.5110 - subsector_auc_precision_recall: 0.9685 - archetype_accuracy: 0.4745 - archetype_precision: 0.6440 - archetype_recall: 0.2952 - archetype_auc_precision_recall: 0.9740 - valuechain_accuracy: 0.6386 - valuechain_precision: 0.6979 - valuechain_recall: 0.5583 - valuechain_auc_precision_recall: 0.9447\n",
      "Epoch 6/50\n",
      "159/159 [==============================] - 2s 12ms/step - loss: 4.6019 - sector_loss: 0.6995 - subsector_loss: 1.2264 - archetype_loss: 1.7687 - valuechain_loss: 0.9072 - sector_accuracy: 0.7750 - sector_precision: 0.8062 - sector_recall: 0.7470 - sector_auc_precision_recall: 0.9557 - subsector_accuracy: 0.6298 - subsector_precision: 0.7334 - subsector_recall: 0.5331 - subsector_auc_precision_recall: 0.9720 - archetype_accuracy: 0.4978 - archetype_precision: 0.6511 - archetype_recall: 0.3217 - archetype_auc_precision_recall: 0.9768 - valuechain_accuracy: 0.6547 - valuechain_precision: 0.7161 - valuechain_recall: 0.5731 - valuechain_auc_precision_recall: 0.9486\n",
      "Epoch 7/50\n",
      "159/159 [==============================] - 2s 12ms/step - loss: 4.4567 - sector_loss: 0.6767 - subsector_loss: 1.1875 - archetype_loss: 1.7175 - valuechain_loss: 0.8750 - sector_accuracy: 0.7858 - sector_precision: 0.8128 - sector_recall: 0.7577 - sector_auc_precision_recall: 0.9582 - subsector_accuracy: 0.6361 - subsector_precision: 0.7427 - subsector_recall: 0.5302 - subsector_auc_precision_recall: 0.9743 - archetype_accuracy: 0.4991 - archetype_precision: 0.6733 - archetype_recall: 0.3318 - archetype_auc_precision_recall: 0.9785 - valuechain_accuracy: 0.6660 - valuechain_precision: 0.7287 - valuechain_recall: 0.5882 - valuechain_auc_precision_recall: 0.9520\n",
      "Epoch 8/50\n",
      "159/159 [==============================] - 2s 12ms/step - loss: 4.3182 - sector_loss: 0.6496 - subsector_loss: 1.1621 - archetype_loss: 1.6507 - valuechain_loss: 0.8558 - sector_accuracy: 0.7940 - sector_precision: 0.8168 - sector_recall: 0.7669 - sector_auc_precision_recall: 0.9613 - subsector_accuracy: 0.6487 - subsector_precision: 0.7372 - subsector_recall: 0.5463 - subsector_auc_precision_recall: 0.9753 - archetype_accuracy: 0.5268 - archetype_precision: 0.6772 - archetype_recall: 0.3595 - archetype_auc_precision_recall: 0.9803 - valuechain_accuracy: 0.6711 - valuechain_precision: 0.7240 - valuechain_recall: 0.5860 - valuechain_auc_precision_recall: 0.9540\n",
      "Epoch 9/50\n",
      "159/159 [==============================] - 2s 12ms/step - loss: 4.2069 - sector_loss: 0.6444 - subsector_loss: 1.1062 - archetype_loss: 1.6292 - valuechain_loss: 0.8272 - sector_accuracy: 0.7984 - sector_precision: 0.8241 - sector_recall: 0.7675 - sector_auc_precision_recall: 0.9617 - subsector_accuracy: 0.6616 - subsector_precision: 0.7480 - subsector_recall: 0.5658 - subsector_auc_precision_recall: 0.9778 - archetype_accuracy: 0.5183 - archetype_precision: 0.6817 - archetype_recall: 0.3611 - archetype_auc_precision_recall: 0.9810 - valuechain_accuracy: 0.6821 - valuechain_precision: 0.7407 - valuechain_recall: 0.6030 - valuechain_auc_precision_recall: 0.9570\n",
      "Epoch 10/50\n",
      "159/159 [==============================] - 2s 12ms/step - loss: 4.1912 - sector_loss: 0.6435 - subsector_loss: 1.1108 - archetype_loss: 1.6101 - valuechain_loss: 0.8268 - sector_accuracy: 0.7908 - sector_precision: 0.8147 - sector_recall: 0.7602 - sector_auc_precision_recall: 0.9634 - subsector_accuracy: 0.6610 - subsector_precision: 0.7520 - subsector_recall: 0.5561 - subsector_auc_precision_recall: 0.9775 - archetype_accuracy: 0.5217 - archetype_precision: 0.6730 - archetype_recall: 0.3670 - archetype_auc_precision_recall: 0.9821 - valuechain_accuracy: 0.6824 - valuechain_precision: 0.7457 - valuechain_recall: 0.6087 - valuechain_auc_precision_recall: 0.9571\n",
      "Epoch 11/50\n",
      "159/159 [==============================] - 2s 12ms/step - loss: 4.1436 - sector_loss: 0.6355 - subsector_loss: 1.1008 - archetype_loss: 1.5889 - valuechain_loss: 0.8184 - sector_accuracy: 0.7968 - sector_precision: 0.8234 - sector_recall: 0.7681 - sector_auc_precision_recall: 0.9636 - subsector_accuracy: 0.6575 - subsector_precision: 0.7532 - subsector_recall: 0.5605 - subsector_auc_precision_recall: 0.9782 - archetype_accuracy: 0.5400 - archetype_precision: 0.6703 - archetype_recall: 0.3696 - archetype_auc_precision_recall: 0.9822 - valuechain_accuracy: 0.6853 - valuechain_precision: 0.7422 - valuechain_recall: 0.6059 - valuechain_auc_precision_recall: 0.9579\n",
      "Epoch 12/50\n",
      "159/159 [==============================] - 2s 12ms/step - loss: 4.0661 - sector_loss: 0.6222 - subsector_loss: 1.0758 - archetype_loss: 1.5728 - valuechain_loss: 0.7953 - sector_accuracy: 0.7993 - sector_precision: 0.8214 - sector_recall: 0.7681 - sector_auc_precision_recall: 0.9649 - subsector_accuracy: 0.6739 - subsector_precision: 0.7585 - subsector_recall: 0.5857 - subsector_auc_precision_recall: 0.9786 - archetype_accuracy: 0.5384 - archetype_precision: 0.6827 - archetype_recall: 0.3885 - archetype_auc_precision_recall: 0.9825 - valuechain_accuracy: 0.6878 - valuechain_precision: 0.7477 - valuechain_recall: 0.6134 - valuechain_auc_precision_recall: 0.9602\n",
      "Epoch 13/50\n",
      "159/159 [==============================] - 2s 12ms/step - loss: 4.0340 - sector_loss: 0.6197 - subsector_loss: 1.0820 - archetype_loss: 1.5399 - valuechain_loss: 0.7925 - sector_accuracy: 0.8006 - sector_precision: 0.8248 - sector_recall: 0.7785 - sector_auc_precision_recall: 0.9652 - subsector_accuracy: 0.6623 - subsector_precision: 0.7464 - subsector_recall: 0.5731 - subsector_auc_precision_recall: 0.9788 - archetype_accuracy: 0.5447 - archetype_precision: 0.6903 - archetype_recall: 0.3904 - archetype_auc_precision_recall: 0.9835 - valuechain_accuracy: 0.6919 - valuechain_precision: 0.7542 - valuechain_recall: 0.6235 - valuechain_auc_precision_recall: 0.9605\n",
      "Epoch 14/50\n",
      "159/159 [==============================] - 2s 12ms/step - loss: 4.0503 - sector_loss: 0.6209 - subsector_loss: 1.0808 - archetype_loss: 1.5509 - valuechain_loss: 0.7976 - sector_accuracy: 0.8037 - sector_precision: 0.8259 - sector_recall: 0.7757 - sector_auc_precision_recall: 0.9654 - subsector_accuracy: 0.6613 - subsector_precision: 0.7600 - subsector_recall: 0.5696 - subsector_auc_precision_recall: 0.9788 - archetype_accuracy: 0.5473 - archetype_precision: 0.6858 - archetype_recall: 0.3982 - archetype_auc_precision_recall: 0.9834 - valuechain_accuracy: 0.6979 - valuechain_precision: 0.7446 - valuechain_recall: 0.6282 - valuechain_auc_precision_recall: 0.9600\n",
      "Epoch 15/50\n",
      "159/159 [==============================] - 2s 12ms/step - loss: 4.0355 - sector_loss: 0.6280 - subsector_loss: 1.0822 - archetype_loss: 1.5512 - valuechain_loss: 0.7741 - sector_accuracy: 0.7999 - sector_precision: 0.8242 - sector_recall: 0.7782 - sector_auc_precision_recall: 0.9645 - subsector_accuracy: 0.6638 - subsector_precision: 0.7525 - subsector_recall: 0.5681 - subsector_auc_precision_recall: 0.9786 - archetype_accuracy: 0.5432 - archetype_precision: 0.6943 - archetype_recall: 0.3963 - archetype_auc_precision_recall: 0.9834 - valuechain_accuracy: 0.7010 - valuechain_precision: 0.7518 - valuechain_recall: 0.6270 - valuechain_auc_precision_recall: 0.9622\n",
      "Epoch 16/50\n",
      "159/159 [==============================] - 2s 12ms/step - loss: 4.0090 - sector_loss: 0.6063 - subsector_loss: 1.0738 - archetype_loss: 1.5516 - valuechain_loss: 0.7774 - sector_accuracy: 0.8088 - sector_precision: 0.8347 - sector_recall: 0.7810 - sector_auc_precision_recall: 0.9665 - subsector_accuracy: 0.6679 - subsector_precision: 0.7618 - subsector_recall: 0.5775 - subsector_auc_precision_recall: 0.9789 - archetype_accuracy: 0.5384 - archetype_precision: 0.6788 - archetype_recall: 0.3875 - archetype_auc_precision_recall: 0.9835 - valuechain_accuracy: 0.7032 - valuechain_precision: 0.7579 - valuechain_recall: 0.6333 - valuechain_auc_precision_recall: 0.9619\n",
      "Epoch 17/50\n",
      "159/159 [==============================] - 2s 12ms/step - loss: 4.0775 - sector_loss: 0.6276 - subsector_loss: 1.0852 - archetype_loss: 1.5847 - valuechain_loss: 0.7800 - sector_accuracy: 0.8031 - sector_precision: 0.8296 - sector_recall: 0.7744 - sector_auc_precision_recall: 0.9643 - subsector_accuracy: 0.6626 - subsector_precision: 0.7592 - subsector_recall: 0.5703 - subsector_auc_precision_recall: 0.9786 - archetype_accuracy: 0.5274 - archetype_precision: 0.6874 - archetype_recall: 0.3831 - archetype_auc_precision_recall: 0.9824 - valuechain_accuracy: 0.7016 - valuechain_precision: 0.7606 - valuechain_recall: 0.6358 - valuechain_auc_precision_recall: 0.9618\n",
      "Epoch 18/50\n",
      "159/159 [==============================] - 2s 12ms/step - loss: 4.0305 - sector_loss: 0.6149 - subsector_loss: 1.0914 - archetype_loss: 1.5626 - valuechain_loss: 0.7616 - sector_accuracy: 0.8037 - sector_precision: 0.8340 - sector_recall: 0.7738 - sector_auc_precision_recall: 0.9661 - subsector_accuracy: 0.6667 - subsector_precision: 0.7552 - subsector_recall: 0.5715 - subsector_auc_precision_recall: 0.9786 - archetype_accuracy: 0.5299 - archetype_precision: 0.6680 - archetype_recall: 0.3721 - archetype_auc_precision_recall: 0.9832 - valuechain_accuracy: 0.7042 - valuechain_precision: 0.7575 - valuechain_recall: 0.6405 - valuechain_auc_precision_recall: 0.9636\n",
      "Epoch 19/50\n",
      "159/159 [==============================] - 2s 12ms/step - loss: 3.9888 - sector_loss: 0.5956 - subsector_loss: 1.0775 - archetype_loss: 1.5700 - valuechain_loss: 0.7456 - sector_accuracy: 0.8116 - sector_precision: 0.8359 - sector_recall: 0.7880 - sector_auc_precision_recall: 0.9672 - subsector_accuracy: 0.6799 - subsector_precision: 0.7694 - subsector_recall: 0.5781 - subsector_auc_precision_recall: 0.9785 - archetype_accuracy: 0.5334 - archetype_precision: 0.6850 - archetype_recall: 0.3878 - archetype_auc_precision_recall: 0.9829 - valuechain_accuracy: 0.7114 - valuechain_precision: 0.7652 - valuechain_recall: 0.6509 - valuechain_auc_precision_recall: 0.9650\n",
      "Epoch 20/50\n",
      "159/159 [==============================] - 2s 12ms/step - loss: 4.0257 - sector_loss: 0.6076 - subsector_loss: 1.0809 - archetype_loss: 1.5867 - valuechain_loss: 0.7504 - sector_accuracy: 0.8066 - sector_precision: 0.8350 - sector_recall: 0.7845 - sector_auc_precision_recall: 0.9662 - subsector_accuracy: 0.6717 - subsector_precision: 0.7603 - subsector_recall: 0.5737 - subsector_auc_precision_recall: 0.9787 - archetype_accuracy: 0.5230 - archetype_precision: 0.6618 - archetype_recall: 0.3847 - archetype_auc_precision_recall: 0.9825 - valuechain_accuracy: 0.7101 - valuechain_precision: 0.7638 - valuechain_recall: 0.6418 - valuechain_auc_precision_recall: 0.9645\n",
      "Epoch 21/50\n",
      "159/159 [==============================] - 2s 12ms/step - loss: 3.9616 - sector_loss: 0.5947 - subsector_loss: 1.0681 - archetype_loss: 1.5417 - valuechain_loss: 0.7570 - sector_accuracy: 0.8141 - sector_precision: 0.8401 - sector_recall: 0.7880 - sector_auc_precision_recall: 0.9670 - subsector_accuracy: 0.6689 - subsector_precision: 0.7539 - subsector_recall: 0.5725 - subsector_auc_precision_recall: 0.9792 - archetype_accuracy: 0.5501 - archetype_precision: 0.6827 - archetype_recall: 0.3938 - archetype_auc_precision_recall: 0.9837 - valuechain_accuracy: 0.7076 - valuechain_precision: 0.7545 - valuechain_recall: 0.6421 - valuechain_auc_precision_recall: 0.9639\n",
      "Epoch 22/50\n",
      "159/159 [==============================] - 2s 12ms/step - loss: 4.0790 - sector_loss: 0.6095 - subsector_loss: 1.1052 - archetype_loss: 1.5922 - valuechain_loss: 0.7721 - sector_accuracy: 0.8066 - sector_precision: 0.8319 - sector_recall: 0.7798 - sector_auc_precision_recall: 0.9664 - subsector_accuracy: 0.6638 - subsector_precision: 0.7458 - subsector_recall: 0.5630 - subsector_auc_precision_recall: 0.9782 - archetype_accuracy: 0.5236 - archetype_precision: 0.6701 - archetype_recall: 0.3693 - archetype_auc_precision_recall: 0.9828 - valuechain_accuracy: 0.7029 - valuechain_precision: 0.7577 - valuechain_recall: 0.6267 - valuechain_auc_precision_recall: 0.9626\n",
      "Epoch 23/50\n",
      "159/159 [==============================] - 2s 12ms/step - loss: 3.9593 - sector_loss: 0.5967 - subsector_loss: 1.0706 - archetype_loss: 1.5436 - valuechain_loss: 0.7485 - sector_accuracy: 0.8129 - sector_precision: 0.8348 - sector_recall: 0.7880 - sector_auc_precision_recall: 0.9672 - subsector_accuracy: 0.6720 - subsector_precision: 0.7545 - subsector_recall: 0.5857 - subsector_auc_precision_recall: 0.9791 - archetype_accuracy: 0.5451 - archetype_precision: 0.6771 - archetype_recall: 0.3970 - archetype_auc_precision_recall: 0.9837 - valuechain_accuracy: 0.7108 - valuechain_precision: 0.7752 - valuechain_recall: 0.6333 - valuechain_auc_precision_recall: 0.9647\n",
      "Epoch 24/50\n",
      "159/159 [==============================] - 2s 12ms/step - loss: 4.0012 - sector_loss: 0.6020 - subsector_loss: 1.0871 - archetype_loss: 1.5658 - valuechain_loss: 0.7463 - sector_accuracy: 0.8009 - sector_precision: 0.8251 - sector_recall: 0.7773 - sector_auc_precision_recall: 0.9665 - subsector_accuracy: 0.6654 - subsector_precision: 0.7545 - subsector_recall: 0.5674 - subsector_auc_precision_recall: 0.9785 - archetype_accuracy: 0.5325 - archetype_precision: 0.6704 - archetype_recall: 0.3941 - archetype_auc_precision_recall: 0.9835 - valuechain_accuracy: 0.7127 - valuechain_precision: 0.7573 - valuechain_recall: 0.6509 - valuechain_auc_precision_recall: 0.9649\n",
      "Epoch 25/50\n",
      "159/159 [==============================] - 2s 12ms/step - loss: 3.9337 - sector_loss: 0.5966 - subsector_loss: 1.0535 - archetype_loss: 1.5471 - valuechain_loss: 0.7366 - sector_accuracy: 0.8084 - sector_precision: 0.8264 - sector_recall: 0.7861 - sector_auc_precision_recall: 0.9678 - subsector_accuracy: 0.6767 - subsector_precision: 0.7581 - subsector_recall: 0.5835 - subsector_auc_precision_recall: 0.9796 - archetype_accuracy: 0.5410 - archetype_precision: 0.6723 - archetype_recall: 0.3787 - archetype_auc_precision_recall: 0.9840 - valuechain_accuracy: 0.7180 - valuechain_precision: 0.7665 - valuechain_recall: 0.6497 - valuechain_auc_precision_recall: 0.9657\n",
      "Epoch 26/50\n",
      "159/159 [==============================] - 2s 12ms/step - loss: 3.9482 - sector_loss: 0.5908 - subsector_loss: 1.0604 - archetype_loss: 1.5464 - valuechain_loss: 0.7507 - sector_accuracy: 0.8182 - sector_precision: 0.8404 - sector_recall: 0.7965 - sector_auc_precision_recall: 0.9670 - subsector_accuracy: 0.6727 - subsector_precision: 0.7558 - subsector_recall: 0.5684 - subsector_auc_precision_recall: 0.9800 - archetype_accuracy: 0.5447 - archetype_precision: 0.6843 - archetype_recall: 0.3919 - archetype_auc_precision_recall: 0.9838 - valuechain_accuracy: 0.7083 - valuechain_precision: 0.7685 - valuechain_recall: 0.6452 - valuechain_auc_precision_recall: 0.9645\n",
      "Epoch 27/50\n",
      "159/159 [==============================] - 2s 12ms/step - loss: 3.9608 - sector_loss: 0.5954 - subsector_loss: 1.0722 - archetype_loss: 1.5548 - valuechain_loss: 0.7385 - sector_accuracy: 0.8094 - sector_precision: 0.8302 - sector_recall: 0.7886 - sector_auc_precision_recall: 0.9680 - subsector_accuracy: 0.6727 - subsector_precision: 0.7548 - subsector_recall: 0.5876 - subsector_auc_precision_recall: 0.9788 - archetype_accuracy: 0.5350 - archetype_precision: 0.6748 - archetype_recall: 0.3897 - archetype_auc_precision_recall: 0.9840 - valuechain_accuracy: 0.7155 - valuechain_precision: 0.7666 - valuechain_recall: 0.6531 - valuechain_auc_precision_recall: 0.9656\n",
      "Epoch 28/50\n",
      "159/159 [==============================] - 2s 12ms/step - loss: 3.9301 - sector_loss: 0.5926 - subsector_loss: 1.0705 - archetype_loss: 1.5359 - valuechain_loss: 0.7311 - sector_accuracy: 0.8138 - sector_precision: 0.8339 - sector_recall: 0.7927 - sector_auc_precision_recall: 0.9675 - subsector_accuracy: 0.6808 - subsector_precision: 0.7751 - subsector_recall: 0.5819 - subsector_auc_precision_recall: 0.9790 - archetype_accuracy: 0.5463 - archetype_precision: 0.6875 - archetype_recall: 0.4055 - archetype_auc_precision_recall: 0.9838 - valuechain_accuracy: 0.7114 - valuechain_precision: 0.7569 - valuechain_recall: 0.6424 - valuechain_auc_precision_recall: 0.9663\n",
      "Epoch 29/50\n",
      "159/159 [==============================] - 2s 12ms/step - loss: 3.9192 - sector_loss: 0.5834 - subsector_loss: 1.0394 - archetype_loss: 1.5691 - valuechain_loss: 0.7274 - sector_accuracy: 0.8135 - sector_precision: 0.8376 - sector_recall: 0.7899 - sector_auc_precision_recall: 0.9687 - subsector_accuracy: 0.6859 - subsector_precision: 0.7742 - subsector_recall: 0.5835 - subsector_auc_precision_recall: 0.9801 - archetype_accuracy: 0.5321 - archetype_precision: 0.6833 - archetype_recall: 0.3759 - archetype_auc_precision_recall: 0.9833 - valuechain_accuracy: 0.7231 - valuechain_precision: 0.7759 - valuechain_recall: 0.6588 - valuechain_auc_precision_recall: 0.9666\n",
      "Epoch 30/50\n",
      "159/159 [==============================] - 2s 12ms/step - loss: 3.9533 - sector_loss: 0.5949 - subsector_loss: 1.0735 - archetype_loss: 1.5534 - valuechain_loss: 0.7316 - sector_accuracy: 0.8116 - sector_precision: 0.8389 - sector_recall: 0.7858 - sector_auc_precision_recall: 0.9671 - subsector_accuracy: 0.6796 - subsector_precision: 0.7721 - subsector_recall: 0.5851 - subsector_auc_precision_recall: 0.9788 - archetype_accuracy: 0.5406 - archetype_precision: 0.6791 - archetype_recall: 0.3900 - archetype_auc_precision_recall: 0.9837 - valuechain_accuracy: 0.7221 - valuechain_precision: 0.7736 - valuechain_recall: 0.6534 - valuechain_auc_precision_recall: 0.9663\n",
      "Epoch 31/50\n",
      "159/159 [==============================] - 2s 12ms/step - loss: 3.8978 - sector_loss: 0.5862 - subsector_loss: 1.0542 - archetype_loss: 1.5424 - valuechain_loss: 0.7150 - sector_accuracy: 0.8151 - sector_precision: 0.8390 - sector_recall: 0.7946 - sector_auc_precision_recall: 0.9684 - subsector_accuracy: 0.6755 - subsector_precision: 0.7664 - subsector_recall: 0.5819 - subsector_auc_precision_recall: 0.9800 - archetype_accuracy: 0.5343 - archetype_precision: 0.6747 - archetype_recall: 0.3784 - archetype_auc_precision_recall: 0.9841 - valuechain_accuracy: 0.7234 - valuechain_precision: 0.7772 - valuechain_recall: 0.6604 - valuechain_auc_precision_recall: 0.9677\n",
      "Epoch 32/50\n",
      "159/159 [==============================] - 2s 12ms/step - loss: 3.9481 - sector_loss: 0.6104 - subsector_loss: 1.0534 - archetype_loss: 1.5552 - valuechain_loss: 0.7290 - sector_accuracy: 0.8072 - sector_precision: 0.8311 - sector_recall: 0.7858 - sector_auc_precision_recall: 0.9654 - subsector_accuracy: 0.6802 - subsector_precision: 0.7612 - subsector_recall: 0.5885 - subsector_auc_precision_recall: 0.9796 - archetype_accuracy: 0.5328 - archetype_precision: 0.6764 - archetype_recall: 0.3938 - archetype_auc_precision_recall: 0.9834 - valuechain_accuracy: 0.7171 - valuechain_precision: 0.7670 - valuechain_recall: 0.6525 - valuechain_auc_precision_recall: 0.9665\n",
      "Epoch 33/50\n",
      "159/159 [==============================] - 2s 12ms/step - loss: 3.9265 - sector_loss: 0.5977 - subsector_loss: 1.0675 - archetype_loss: 1.5388 - valuechain_loss: 0.7226 - sector_accuracy: 0.8154 - sector_precision: 0.8412 - sector_recall: 0.7927 - sector_auc_precision_recall: 0.9665 - subsector_accuracy: 0.6830 - subsector_precision: 0.7688 - subsector_recall: 0.5983 - subsector_auc_precision_recall: 0.9786 - archetype_accuracy: 0.5523 - archetype_precision: 0.6848 - archetype_recall: 0.3929 - archetype_auc_precision_recall: 0.9843 - valuechain_accuracy: 0.7174 - valuechain_precision: 0.7674 - valuechain_recall: 0.6601 - valuechain_auc_precision_recall: 0.9672\n",
      "Epoch 34/50\n",
      "159/159 [==============================] - 2s 12ms/step - loss: 3.9433 - sector_loss: 0.5876 - subsector_loss: 1.0689 - archetype_loss: 1.5721 - valuechain_loss: 0.7147 - sector_accuracy: 0.8179 - sector_precision: 0.8422 - sector_recall: 0.7971 - sector_auc_precision_recall: 0.9680 - subsector_accuracy: 0.6736 - subsector_precision: 0.7624 - subsector_recall: 0.5854 - subsector_auc_precision_recall: 0.9794 - archetype_accuracy: 0.5296 - archetype_precision: 0.6827 - archetype_recall: 0.3891 - archetype_auc_precision_recall: 0.9833 - valuechain_accuracy: 0.7240 - valuechain_precision: 0.7743 - valuechain_recall: 0.6635 - valuechain_auc_precision_recall: 0.9678\n",
      "Epoch 35/50\n",
      "159/159 [==============================] - 2s 12ms/step - loss: 4.0567 - sector_loss: 0.5966 - subsector_loss: 1.1069 - archetype_loss: 1.6163 - valuechain_loss: 0.7369 - sector_accuracy: 0.8084 - sector_precision: 0.8346 - sector_recall: 0.7836 - sector_auc_precision_recall: 0.9673 - subsector_accuracy: 0.6714 - subsector_precision: 0.7548 - subsector_recall: 0.5800 - subsector_auc_precision_recall: 0.9770 - archetype_accuracy: 0.5372 - archetype_precision: 0.6750 - archetype_recall: 0.3664 - archetype_auc_precision_recall: 0.9819 - valuechain_accuracy: 0.7133 - valuechain_precision: 0.7588 - valuechain_recall: 0.6512 - valuechain_auc_precision_recall: 0.9659\n",
      "Epoch 36/50\n",
      "159/159 [==============================] - 2s 12ms/step - loss: 3.9387 - sector_loss: 0.5882 - subsector_loss: 1.0689 - archetype_loss: 1.5564 - valuechain_loss: 0.7251 - sector_accuracy: 0.8125 - sector_precision: 0.8382 - sector_recall: 0.7886 - sector_auc_precision_recall: 0.9678 - subsector_accuracy: 0.6758 - subsector_precision: 0.7644 - subsector_recall: 0.5825 - subsector_auc_precision_recall: 0.9795 - archetype_accuracy: 0.5372 - archetype_precision: 0.6881 - archetype_recall: 0.3919 - archetype_auc_precision_recall: 0.9833 - valuechain_accuracy: 0.7139 - valuechain_precision: 0.7679 - valuechain_recall: 0.6474 - valuechain_auc_precision_recall: 0.9668\n",
      "Epoch 37/50\n",
      "159/159 [==============================] - 2s 12ms/step - loss: 3.9846 - sector_loss: 0.5836 - subsector_loss: 1.0716 - archetype_loss: 1.6007 - valuechain_loss: 0.7287 - sector_accuracy: 0.8173 - sector_precision: 0.8374 - sector_recall: 0.7952 - sector_auc_precision_recall: 0.9687 - subsector_accuracy: 0.6720 - subsector_precision: 0.7543 - subsector_recall: 0.5870 - subsector_auc_precision_recall: 0.9791 - archetype_accuracy: 0.5315 - archetype_precision: 0.6829 - archetype_recall: 0.3800 - archetype_auc_precision_recall: 0.9824 - valuechain_accuracy: 0.7196 - valuechain_precision: 0.7730 - valuechain_recall: 0.6575 - valuechain_auc_precision_recall: 0.9666\n",
      "Epoch 38/50\n",
      "159/159 [==============================] - 2s 12ms/step - loss: 3.9088 - sector_loss: 0.6031 - subsector_loss: 1.0584 - archetype_loss: 1.5370 - valuechain_loss: 0.7102 - sector_accuracy: 0.8078 - sector_precision: 0.8351 - sector_recall: 0.7820 - sector_auc_precision_recall: 0.9663 - subsector_accuracy: 0.6793 - subsector_precision: 0.7778 - subsector_recall: 0.5901 - subsector_auc_precision_recall: 0.9795 - archetype_accuracy: 0.5488 - archetype_precision: 0.6960 - archetype_recall: 0.3910 - archetype_auc_precision_recall: 0.9843 - valuechain_accuracy: 0.7237 - valuechain_precision: 0.7766 - valuechain_recall: 0.6648 - valuechain_auc_precision_recall: 0.9681\n",
      "Epoch 39/50\n",
      "159/159 [==============================] - 2s 12ms/step - loss: 4.0296 - sector_loss: 0.6175 - subsector_loss: 1.0847 - archetype_loss: 1.6180 - valuechain_loss: 0.7094 - sector_accuracy: 0.8110 - sector_precision: 0.8393 - sector_recall: 0.7813 - sector_auc_precision_recall: 0.9638 - subsector_accuracy: 0.6714 - subsector_precision: 0.7619 - subsector_recall: 0.5797 - subsector_auc_precision_recall: 0.9786 - archetype_accuracy: 0.5265 - archetype_precision: 0.6665 - archetype_recall: 0.3778 - archetype_auc_precision_recall: 0.9821 - valuechain_accuracy: 0.7259 - valuechain_precision: 0.7748 - valuechain_recall: 0.6676 - valuechain_auc_precision_recall: 0.9683\n",
      "Epoch 40/50\n",
      "159/159 [==============================] - 2s 12ms/step - loss: 4.0895 - sector_loss: 0.6174 - subsector_loss: 1.1102 - archetype_loss: 1.6383 - valuechain_loss: 0.7235 - sector_accuracy: 0.8053 - sector_precision: 0.8345 - sector_recall: 0.7766 - sector_auc_precision_recall: 0.9650 - subsector_accuracy: 0.6588 - subsector_precision: 0.7565 - subsector_recall: 0.5589 - subsector_auc_precision_recall: 0.9777 - archetype_accuracy: 0.5265 - archetype_precision: 0.6678 - archetype_recall: 0.3756 - archetype_auc_precision_recall: 0.9816 - valuechain_accuracy: 0.7183 - valuechain_precision: 0.7712 - valuechain_recall: 0.6563 - valuechain_auc_precision_recall: 0.9670\n",
      "Epoch 41/50\n",
      "159/159 [==============================] - 2s 12ms/step - loss: 4.0205 - sector_loss: 0.5953 - subsector_loss: 1.1190 - archetype_loss: 1.5871 - valuechain_loss: 0.7191 - sector_accuracy: 0.8166 - sector_precision: 0.8392 - sector_recall: 0.7911 - sector_auc_precision_recall: 0.9672 - subsector_accuracy: 0.6588 - subsector_precision: 0.7488 - subsector_recall: 0.5618 - subsector_auc_precision_recall: 0.9773 - archetype_accuracy: 0.5343 - archetype_precision: 0.6761 - archetype_recall: 0.3913 - archetype_auc_precision_recall: 0.9827 - valuechain_accuracy: 0.7234 - valuechain_precision: 0.7803 - valuechain_recall: 0.6591 - valuechain_auc_precision_recall: 0.9674\n",
      "Epoch 42/50\n",
      "159/159 [==============================] - 2s 12ms/step - loss: 3.9985 - sector_loss: 0.6004 - subsector_loss: 1.1224 - archetype_loss: 1.5634 - valuechain_loss: 0.7122 - sector_accuracy: 0.8151 - sector_precision: 0.8379 - sector_recall: 0.7917 - sector_auc_precision_recall: 0.9663 - subsector_accuracy: 0.6682 - subsector_precision: 0.7613 - subsector_recall: 0.5677 - subsector_auc_precision_recall: 0.9763 - archetype_accuracy: 0.5394 - archetype_precision: 0.6858 - archetype_recall: 0.3809 - archetype_auc_precision_recall: 0.9832 - valuechain_accuracy: 0.7193 - valuechain_precision: 0.7755 - valuechain_recall: 0.6585 - valuechain_auc_precision_recall: 0.9679\n",
      "Epoch 43/50\n",
      "159/159 [==============================] - 2s 12ms/step - loss: 3.9922 - sector_loss: 0.5882 - subsector_loss: 1.1038 - archetype_loss: 1.5758 - valuechain_loss: 0.7244 - sector_accuracy: 0.8207 - sector_precision: 0.8406 - sector_recall: 0.8009 - sector_auc_precision_recall: 0.9676 - subsector_accuracy: 0.6651 - subsector_precision: 0.7525 - subsector_recall: 0.5728 - subsector_auc_precision_recall: 0.9776 - archetype_accuracy: 0.5299 - archetype_precision: 0.6849 - archetype_recall: 0.3822 - archetype_auc_precision_recall: 0.9829 - valuechain_accuracy: 0.7221 - valuechain_precision: 0.7735 - valuechain_recall: 0.6585 - valuechain_auc_precision_recall: 0.9668\n",
      "Epoch 44/50\n",
      "159/159 [==============================] - 2s 12ms/step - loss: 3.9867 - sector_loss: 0.5854 - subsector_loss: 1.1025 - archetype_loss: 1.5864 - valuechain_loss: 0.7124 - sector_accuracy: 0.8192 - sector_precision: 0.8408 - sector_recall: 0.7968 - sector_auc_precision_recall: 0.9679 - subsector_accuracy: 0.6755 - subsector_precision: 0.7638 - subsector_recall: 0.5725 - subsector_auc_precision_recall: 0.9772 - archetype_accuracy: 0.5435 - archetype_precision: 0.6712 - archetype_recall: 0.4014 - archetype_auc_precision_recall: 0.9830 - valuechain_accuracy: 0.7338 - valuechain_precision: 0.7849 - valuechain_recall: 0.6714 - valuechain_auc_precision_recall: 0.9679\n",
      "Epoch 45/50\n",
      "159/159 [==============================] - 2s 12ms/step - loss: 4.0437 - sector_loss: 0.6117 - subsector_loss: 1.0883 - archetype_loss: 1.6218 - valuechain_loss: 0.7218 - sector_accuracy: 0.8132 - sector_precision: 0.8349 - sector_recall: 0.7952 - sector_auc_precision_recall: 0.9647 - subsector_accuracy: 0.6767 - subsector_precision: 0.7790 - subsector_recall: 0.5810 - subsector_auc_precision_recall: 0.9780 - archetype_accuracy: 0.5277 - archetype_precision: 0.6886 - archetype_recall: 0.3727 - archetype_auc_precision_recall: 0.9820 - valuechain_accuracy: 0.7193 - valuechain_precision: 0.7711 - valuechain_recall: 0.6632 - valuechain_auc_precision_recall: 0.9671\n",
      "Epoch 46/50\n",
      "159/159 [==============================] - 2s 12ms/step - loss: 4.0039 - sector_loss: 0.5929 - subsector_loss: 1.0990 - archetype_loss: 1.5889 - valuechain_loss: 0.7230 - sector_accuracy: 0.8207 - sector_precision: 0.8455 - sector_recall: 0.7984 - sector_auc_precision_recall: 0.9659 - subsector_accuracy: 0.6745 - subsector_precision: 0.7573 - subsector_recall: 0.5750 - subsector_auc_precision_recall: 0.9775 - archetype_accuracy: 0.5438 - archetype_precision: 0.6958 - archetype_recall: 0.3819 - archetype_auc_precision_recall: 0.9827 - valuechain_accuracy: 0.7218 - valuechain_precision: 0.7706 - valuechain_recall: 0.6667 - valuechain_auc_precision_recall: 0.9672\n",
      "Epoch 47/50\n",
      "159/159 [==============================] - 2s 12ms/step - loss: 3.9657 - sector_loss: 0.5818 - subsector_loss: 1.1228 - archetype_loss: 1.5492 - valuechain_loss: 0.7120 - sector_accuracy: 0.8185 - sector_precision: 0.8429 - sector_recall: 0.7977 - sector_auc_precision_recall: 0.9684 - subsector_accuracy: 0.6657 - subsector_precision: 0.7589 - subsector_recall: 0.5693 - subsector_auc_precision_recall: 0.9768 - archetype_accuracy: 0.5526 - archetype_precision: 0.6931 - archetype_recall: 0.4055 - archetype_auc_precision_recall: 0.9834 - valuechain_accuracy: 0.7234 - valuechain_precision: 0.7786 - valuechain_recall: 0.6616 - valuechain_auc_precision_recall: 0.9680\n",
      "Epoch 48/50\n",
      "159/159 [==============================] - 2s 12ms/step - loss: 3.9951 - sector_loss: 0.5982 - subsector_loss: 1.1340 - archetype_loss: 1.5640 - valuechain_loss: 0.6989 - sector_accuracy: 0.8119 - sector_precision: 0.8368 - sector_recall: 0.7886 - sector_auc_precision_recall: 0.9668 - subsector_accuracy: 0.6594 - subsector_precision: 0.7513 - subsector_recall: 0.5671 - subsector_auc_precision_recall: 0.9762 - archetype_accuracy: 0.5365 - archetype_precision: 0.6716 - archetype_recall: 0.3976 - archetype_auc_precision_recall: 0.9835 - valuechain_accuracy: 0.7234 - valuechain_precision: 0.7764 - valuechain_recall: 0.6686 - valuechain_auc_precision_recall: 0.9691\n",
      "Epoch 49/50\n",
      "159/159 [==============================] - 2s 12ms/step - loss: 3.9820 - sector_loss: 0.6026 - subsector_loss: 1.1068 - archetype_loss: 1.5568 - valuechain_loss: 0.7158 - sector_accuracy: 0.8132 - sector_precision: 0.8384 - sector_recall: 0.7848 - sector_auc_precision_recall: 0.9665 - subsector_accuracy: 0.6667 - subsector_precision: 0.7655 - subsector_recall: 0.5614 - subsector_auc_precision_recall: 0.9771 - archetype_accuracy: 0.5343 - archetype_precision: 0.6861 - archetype_recall: 0.3822 - archetype_auc_precision_recall: 0.9843 - valuechain_accuracy: 0.7309 - valuechain_precision: 0.7724 - valuechain_recall: 0.6660 - valuechain_auc_precision_recall: 0.9676\n",
      "Epoch 50/50\n",
      "159/159 [==============================] - 2s 12ms/step - loss: 3.9570 - sector_loss: 0.5991 - subsector_loss: 1.1111 - archetype_loss: 1.5376 - valuechain_loss: 0.7091 - sector_accuracy: 0.8157 - sector_precision: 0.8446 - sector_recall: 0.7858 - sector_auc_precision_recall: 0.9668 - subsector_accuracy: 0.6610 - subsector_precision: 0.7528 - subsector_recall: 0.5633 - subsector_auc_precision_recall: 0.9777 - archetype_accuracy: 0.5463 - archetype_precision: 0.6943 - archetype_recall: 0.3900 - archetype_auc_precision_recall: 0.9842 - valuechain_accuracy: 0.7268 - valuechain_precision: 0.7739 - valuechain_recall: 0.6771 - valuechain_auc_precision_recall: 0.9683\n"
     ]
    }
   ],
   "source": [
    "# import metrics\n",
    "from tensorflow.keras.metrics import Precision, Recall, AUC\n",
    "\n",
    "model.compile(optimizer='adam', loss=losses, metrics=['accuracy', Precision(), Recall(), AUC(name='auc_precision_recall', num_thresholds=10000)])\n",
    "history = model.fit(X_train, y_train_multi, epochs=50, batch_size=20)"
   ]
  },
  {
   "cell_type": "markdown",
   "metadata": {
    "id": "BhKZIK81ND8g"
   },
   "source": [
    "### 5.2 Testing Models"
   ]
  },
  {
   "cell_type": "code",
   "execution_count": 50,
   "metadata": {
    "colab": {
     "base_uri": "https://localhost:8080/"
    },
    "id": "t1xsD2r5Th95",
    "outputId": "d6afd764-52d9-417f-a1ca-b42cd0a71e99"
   },
   "outputs": [
    {
     "name": "stdout",
     "output_type": "stream",
     "text": [
      "Label\t\tLoss\tAccuracy\tPrecision\tRecall\tPR AUC\tF1 Score\n",
      "sector          1.127   71.955% \t0.564    \t0.402 \t0.595 \t0.235   \n",
      "subsector       1.865   73.273% \t0.602    \t0.538 \t0.608 \t0.284   \n",
      "archetype       2.524   69.122% \t0.518    \t0.323 \t0.558 \t0.199   \n",
      "valuechain      1.477   90.652% \t0.938    \t0.941 \t0.903 \t0.470   \n"
     ]
    }
   ],
   "source": [
    "metrics = model.evaluate(X_test, y_test_multi, verbose=0)[1:]\n",
    "\n",
    "print(f'Label\\t\\tLoss\\tAccuracy\\tPrecision\\tRecall\\tPR AUC\\tF1 Score')\n",
    "for i, label in enumerate(label_names):\n",
    "    print(f'{label:<16}{metrics[i]:<8.3f}{metrics[i+4]:<8.3%}\\t{metrics[i+8]:<9.3f}\\t{metrics[i+12]:<6.3f}\\t{metrics[i+16]:<6.3f}\\t{(metrics[i+8] * metrics[i+12]) / (metrics[i+8] + metrics[i+12]):<8.3f}')"
   ]
  },
  {
   "cell_type": "code",
   "execution_count": 51,
   "metadata": {
    "colab": {
     "base_uri": "https://localhost:8080/"
    },
    "id": "ISp3IGRVLIq3",
    "outputId": "10977924-8d22-4422-be74-848c6e515b34"
   },
   "outputs": [
    {
     "name": "stdout",
     "output_type": "stream",
     "text": [
      "Label\t\t\tCount\tPercent\n",
      "                           63\t 17.85%\n",
      "ACROSS VALUE CHAIN          5\t  1.42%\n",
      "DISTRIBUTOR                 5\t  1.42%\n",
      "DOWNSTREAM                 85\t 24.08%\n",
      "MANUFACTURER               15\t  4.25%\n",
      "MIDSTREAM                 137\t 38.81%\n",
      "TRADER                     10\t  2.83%\n",
      "UPSTREAM                   26\t  7.37%\n",
      "UPSTREAM OR DOWNSTREAM      7\t  1.98%\n"
     ]
    }
   ],
   "source": [
    "unique, counts = np.unique(y_test[:, 3], return_counts=True)\n",
    "sum_counts = sum(counts)\n",
    "\n",
    "print(f'Label\\t\\t\\tCount\\tPercent')\n",
    "for i, label in enumerate(unique):\n",
    "    print(f'{valuechain[label]:<24}{counts[i]:>5}\\t{counts[i] / sum_counts:>7.2%}')"
   ]
  },
  {
   "cell_type": "code",
   "execution_count": 52,
   "metadata": {
    "colab": {
     "base_uri": "https://localhost:8080/",
     "height": 1000
    },
    "id": "gUvuwWVcV_BM",
    "outputId": "4a953409-1a50-432f-9e8e-54f441e530b0"
   },
   "outputs": [
    {
     "data": {
      "image/png": "[encoded data removed]",
      "text/plain": [
       "<Figure size 1440x720 with 4 Axes>"
      ]
     },
     "metadata": {},
     "output_type": "display_data"
    },
    {
     "data": {
      "image/png": "[encoded data removed]",
      "text/plain": [
       "<Figure size 1440x720 with 4 Axes>"
      ]
     },
     "metadata": {},
     "output_type": "display_data"
    },
    {
     "data": {
      "image/png": "[encoded data removed]",
      "text/plain": [
       "<Figure size 1440x720 with 4 Axes>"
      ]
     },
     "metadata": {},
     "output_type": "display_data"
    },
    {
     "data": {
      "image/png": "[encoded data removed]",
      "text/plain": [
       "<Figure size 1440x720 with 4 Axes>"
      ]
     },
     "metadata": {},
     "output_type": "display_data"
    }
   ],
   "source": [
    "# plot metric graphs for all labels\n",
    "metric_names = model.metrics_names\n",
    "\n",
    "fig = plt.figure(1, figsize=(20,10))\n",
    "plt.suptitle('Model Training Loss Breakdown', y=0.95)\n",
    "\n",
    "for i, name in enumerate(label_names):\n",
    "    plt.subplot(2, 2, i+1)\n",
    "    plt.plot(history.history[metric_names[i+1]])\n",
    "    plt.title(f'{name} Loss')\n",
    "    plt.ylabel('loss')\n",
    "    plt.xlabel('epoch')\n",
    "    plt.legend(['Training loss'])\n",
    "\n",
    "fig = plt.figure(2, figsize=(20,10))\n",
    "plt.suptitle('Model Training Accuracy Breakdown', y=0.95)\n",
    "\n",
    "for i, name in enumerate(label_names):\n",
    "    plt.subplot(2, 2, i+1)\n",
    "    plt.plot(history.history[metric_names[i+5]])\n",
    "    plt.title(f'{name} Accuracy')\n",
    "    plt.ylabel('accuracy')\n",
    "    plt.xlabel('epoch')\n",
    "    plt.legend(['Training Accuracy'])\n",
    "\n",
    "fig = plt.figure(3, figsize=(20,10))\n",
    "plt.suptitle('Model Training Precision Breakdown', y=0.95)\n",
    "\n",
    "for i, name in enumerate(label_names):\n",
    "    plt.subplot(2, 2, i+1)\n",
    "    plt.plot(history.history[metric_names[i+9]])\n",
    "    plt.title(f'{name} Precision')\n",
    "    plt.ylabel('precision')\n",
    "    plt.xlabel('epoch')\n",
    "    plt.legend(['Training Loss'])\n",
    "\n",
    "fig = plt.figure(4, figsize=(20,10))\n",
    "plt.suptitle('Model Training Recall Breakdown', y=0.95)\n",
    "\n",
    "for i, name in enumerate(label_names):\n",
    "    plt.subplot(2, 2, i+1)\n",
    "    plt.plot(history.history[metric_names[i+13]])\n",
    "    plt.title(f'{name} Recall')\n",
    "    plt.ylabel('recall')\n",
    "    plt.xlabel('epoch')\n",
    "    plt.legend(['Training Loss'])\n",
    "\n",
    "plt.show()"
   ]
  },
  {
   "cell_type": "code",
   "execution_count": null,
   "metadata": {
    "id": "M5hNw2PQyw2Q"
   },
   "outputs": [],
   "source": [
    "results = model.predict(X_test)\n",
    "\n",
    "predicted_label = []\n",
    "for label in results:\n",
    "    predicted_label.append(np.argmax(label, axis = 1))\n",
    "predicted_label = np.array(predicted_label)\n",
    "\n",
    "for i in range(predicted_label.shape[1]):\n",
    "    print(f'Expected: {y_test[i]} | got {predicted_label[:,i]}')"
   ]
  },
  {
   "cell_type": "markdown",
   "metadata": {
    "id": "1aarHE3sNuN1"
   },
   "source": [
    "### 5.3. Saving Models"
   ]
  },
  {
   "cell_type": "code",
   "execution_count": null,
   "metadata": {
    "id": "5Vd4RJP0NxVB"
   },
   "outputs": [],
   "source": [
    "# save models to file\n",
    "model.save('./multilabel_model')"
   ]
  },
  {
   "cell_type": "code",
   "execution_count": null,
   "metadata": {
    "id": "-frVyS9_OqM5"
   },
   "outputs": [],
   "source": [
    "!zip -r multilabel_model.zip ./multilabel_model"
   ]
  },
  {
   "cell_type": "markdown",
   "metadata": {
    "id": "-vcPrnMEK8tR"
   },
   "source": [
    "---\n",
    "---\n",
    "---"
   ]
  },
  {
   "cell_type": "markdown",
   "metadata": {
    "id": "0hKvKHV38ly_"
   },
   "source": [
    "# 6.References\n",
    "\n",
    "\n",
    "## Linking GitHub Private Repo with Google Colab\n",
    "---\n",
    "1. [How to clone private Github repo from Google Colab using SSH](https://medium.com/@purba0101/how-to-clone-private-github-repo-in-google-colab-using-ssh-77384cfef18f)\n",
    "2. [Adding a new SSH key to your GitHub account](https://docs.github.com/en/github/authenticating-to-github/adding-a-new-ssh-key-to-your-github-account)\n",
    "\n",
    "\n",
    "## How to classify text with NLTK\n",
    "---\n",
    "1. [Learning to Classify Text](https://www.nltk.org/book/ch06.html)\n",
    "\n",
    "\n",
    "## Other references\n",
    "---\n",
    "1. [Print very long string completely in pandas dataframe](https://stackoverflow.com/questions/29902714/print-very-long-string-completely-in-pandas-dataframe)\n",
    "2. [Removing newlines from messy strings in pandas dataframe cells?\n",
    "](https://stackoverflow.com/questions/44227748/removing-newlines-from-messy-strings-in-pandas-dataframe-cells)\n",
    "3. [Tokenizing using Pandas and spaCy](https://stackoverflow.com/questions/46981137/tokenizing-using-pandas-and-spacy)\n",
    "4. [Intro to NLP with spaCy](https://nicschrading.com/project/Intro-to-NLP-with-spaCy/)\n",
    "5. [A short introduction to NLP in Python with spaCy](https://towardsdatascience.com/a-short-introduction-to-nlp-in-python-with-spacy-d0aa819af3ad)\n",
    "6. [Punctuation, stopwords and lemmatization with spacy](https://stackoverflow.com/questions/57747613/punctuation-stopwords-and-lemmatization-with-spacy)\n",
    "\n"
   ]
  }
 ],
 "metadata": {
  "accelerator": "GPU",
  "colab": {
   "collapsed_sections": [],
   "include_colab_link": true,
   "name": "NLP_MLP_Multilabel.ipynb",
   "provenance": [],
   "toc_visible": true
  },
  "kernelspec": {
   "display_name": "Python 3",
   "language": "python",
   "name": "python3"
  },
  "language_info": {
   "codemirror_mode": {
    "name": "ipython",
    "version": 3
   },
   "file_extension": ".py",
   "mimetype": "text/x-python",
   "name": "python",
   "nbconvert_exporter": "python",
   "pygments_lexer": "ipython3",
   "version": "3.9.4"
  }
 },
 "nbformat": 4,
 "nbformat_minor": 4
}
