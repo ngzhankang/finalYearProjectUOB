{
  "nbformat": 4,
  "nbformat_minor": 0,
  "metadata": {
    "accelerator": "GPU",
    "colab": {
      "name": "NLP_CNN_Hyperparameter.ipynb",
      "provenance": [],
      "collapsed_sections": [],
      "include_colab_link": true
    },
    "kernelspec": {
      "display_name": "Python 3",
      "name": "python3"
    },
    "language_info": {
      "name": "python"
    }
  },
  "cells": [
    {
      "cell_type": "markdown",
      "metadata": {
        "id": "view-in-github",
        "colab_type": "text"
      },
      "source": [
        "<a href=\"https://colab.research.google.com/github/ngzhankang/finalYearProjectUOB/blob/main/NLP_CNN_Hyperparameter.ipynb\" target=\"_parent\"><img src=\"https://colab.research.google.com/assets/colab-badge.svg\" alt=\"Open In Colab\"/></a>"
      ]
    },
    {
      "cell_type": "markdown",
      "metadata": {
        "id": "C4WG19GGjVCN"
      },
      "source": [
        "# FINAL YEAR PROJECT\n",
        "Done by : \n",
        "- P1935785 Ang Yak Hng\n",
        "- P1932964 Teo Swee Hong Winson\n",
        "- P1935727 Ng Zhan Kang\n",
        "- P1935488 Triston Loh\n",
        "- P1935602 Ng Ao Yang\n",
        "\n",
        "Class of DIT/FT/3A/05\n"
      ]
    },
    {
      "cell_type": "markdown",
      "metadata": {
        "id": "lTixCl0Yj3aC"
      },
      "source": [
        "---\n",
        "---"
      ]
    },
    {
      "cell_type": "markdown",
      "metadata": {
        "id": "Xa-0olzCkDtZ"
      },
      "source": [
        "# 1.Cloning Github To Colab Workspace"
      ]
    },
    {
      "cell_type": "markdown",
      "metadata": {
        "id": "B_no5sNXlBZ_"
      },
      "source": [
        "<div class=\"alert alert-block alert-danger\">\n",
        "    <b>ATTENTION:</b> The entire section 1 is dedicated to users who are using google colab to do the entire project. This entire process clones the private repository directly into the temporary google colab workspace. Google colab user are to repeat this same proccess whenever in a new session. Users who do not use colab to do this project CAN OMIT THE ENTIRE SECTION 1. \n",
        "</div>"
      ]
    },
    {
      "cell_type": "markdown",
      "metadata": {
        "id": "B-ZvXSUPkPBq"
      },
      "source": [
        "### 1.1. Configurating SSH keys for GitHub and Colab connection\n",
        "\n",
        "---\n",
        "\n",
        "This entire section can be omitted if users are not using Google Colab at all."
      ]
    },
    {
      "cell_type": "code",
      "metadata": {
        "colab": {
          "base_uri": "https://localhost:8080/"
        },
        "id": "JH5jhDiOliB2",
        "outputId": "1085bedc-63fd-4ec3-d9db-fc6581a3fc42"
      },
      "source": [
        "!ssh-keygen -t rsa -b 4096"
      ],
      "execution_count": 1,
      "outputs": [
        {
          "output_type": "stream",
          "text": [
            "Generating public/private rsa key pair.\n",
            "Enter file in which to save the key (/root/.ssh/id_rsa): \n",
            "Created directory '/root/.ssh'.\n",
            "Enter passphrase (empty for no passphrase): \n",
            "Enter same passphrase again: \n",
            "Your identification has been saved in /root/.ssh/id_rsa.\n",
            "Your public key has been saved in /root/.ssh/id_rsa.pub.\n",
            "The key fingerprint is:\n",
            "SHA256:d9ieR7R2pnbvWnovsTr2DvXgv3Qr6SbgeZgLhx0lJvk root@38ce778bb099\n",
            "The key's randomart image is:\n",
            "+---[RSA 4096]----+\n",
            "|                 |\n",
            "|        .        |\n",
            "|       o o .  .  |\n",
            "|        + oo . . |\n",
            "|        SEo o * o|\n",
            "|        oo.o *.* |\n",
            "|       o.o= + *+=|\n",
            "|        o= ooB+==|\n",
            "|         .o.=**BB|\n",
            "+----[SHA256]-----+\n"
          ],
          "name": "stdout"
        }
      ]
    },
    {
      "cell_type": "markdown",
      "metadata": {
        "id": "ujcbhDqDmqP7"
      },
      "source": [
        "<div class=\"alert alert-block alert-danger\">\n",
        "    <b>ATTENTION:</b> When prompted for a set of informations such as \"Enter a file in which to save the key...\", please press enter and DO NOT type in anything.\n",
        "</div>"
      ]
    },
    {
      "cell_type": "code",
      "metadata": {
        "colab": {
          "base_uri": "https://localhost:8080/"
        },
        "id": "AUsKDe9tm0hQ",
        "outputId": "0aafbb04-d480-4b17-e255-e17a813746ae"
      },
      "source": [
        "!ssh-keyscan -t rsa github.com >> ~/.ssh/known_hosts"
      ],
      "execution_count": 2,
      "outputs": [
        {
          "output_type": "stream",
          "text": [
            "\n",
            "# github.com:22 SSH-2.0-babeld-191121bb\n"
          ],
          "name": "stdout"
        }
      ]
    },
    {
      "cell_type": "code",
      "metadata": {
        "colab": {
          "base_uri": "https://localhost:8080/"
        },
        "id": "sc7qLuG1m-9h",
        "outputId": "a7c0a5cc-48d4-4e73-8697-580d992354e2"
      },
      "source": [
        "!cat /root/.ssh/id_rsa.pub"
      ],
      "execution_count": 3,
      "outputs": [
        {
          "output_type": "stream",
          "text": [
            "ssh-rsa AAAAB3NzaC1yc2EAAAADAQABAAACAQCp39OQN5tdkKacM1ym+f/CpxCgK44pbdPZHI2xWElUFs5bxPFMDvCzMAZsLB8O0jFeUYjljW4j+2FIrwc5aCpBtJux0pWNDYEpjao3qG1MjwiHFMJDLw+X5rG4hcNnmSHGa9Eorh0bgM7aPX4l7qIRBqyNEuvgqSqMPWxX7DwItNXzzW3BLp3rGdh6dRLXXTtQOnlnN6Z0bP5JxDbIhQxEl/d/TJzmUopRnGUp4rEmkmfjXXoqDUbImj9T7B8mtyy9d9rTCe6G2eSnNJmVhaZ2VoBYNNIxrgV8qCjLxIkpzeuAWXs25ratPx5X/83jSNdL440ThfF3NjeBCRqa/3AaOnq9HSXQKZAc5lSV0X7HOqfyDUa+h8JLVTIasd/4L8m3k+By/W5+IMP9aNMbmIT0wlgzm05qsUzPItEYL5+HK1WllpxU2eeFpQSzFNPCs5lBXdaLEVOAYTmUQM3j8hbveqhMI1DTcUfb54YQ6FNQHRMflH2hJdqvaqrH3/1CIks1BbUlQ30M61a4dUVg5wdRyC02OFCv9zRQedmHnORlCDfEKoY/0/sDGOiTqKl5GYAasFQAdGwmOz9BJClynm8qb0sva/kxHsWXQKvJGRM0oTYfjjvT0tpF0YLe8bR9OodqikwOTTCUcW8xmlWie76riymClIUYkkb/IL6IGauIrw== root@38ce778bb099\n"
          ],
          "name": "stdout"
        }
      ]
    },
    {
      "cell_type": "markdown",
      "metadata": {
        "id": "iSwt6wnDnSjx"
      },
      "source": [
        "<div class=\"alert alert-block alert-danger\">\n",
        "    <b>ATTENTION:</b> After the key has been generated, please copy the entire key. Navigate to your Github Account > Profile Picture > Settings > SSH and GPG keys > New SSH Keys. Paste the generated key into the blank and lable it for your own convenience.\n",
        "</div>"
      ]
    },
    {
      "cell_type": "markdown",
      "metadata": {
        "id": "Z_rpok3voY8A"
      },
      "source": [
        "### 1.2. Testing SSH keys for GitHub and Colab connection\n",
        "\n",
        "---\n",
        "\n",
        "This entire section can be omitted if users are not using Google Colab at all."
      ]
    },
    {
      "cell_type": "code",
      "metadata": {
        "colab": {
          "base_uri": "https://localhost:8080/"
        },
        "id": "cYEnWGicnnC0",
        "outputId": "719ba527-c142-4b96-e02f-b81d10ea288a"
      },
      "source": [
        "!ssh -T git@github.com"
      ],
      "execution_count": 4,
      "outputs": [
        {
          "output_type": "stream",
          "text": [
            "Warning: Permanently added the RSA host key for IP address '140.82.121.4' to the list of known hosts.\r\n",
            "Hi ngzhankang! You've successfully authenticated, but GitHub does not provide shell access.\n"
          ],
          "name": "stdout"
        }
      ]
    },
    {
      "cell_type": "markdown",
      "metadata": {
        "id": "0gtHa7l8ID8u"
      },
      "source": [
        "### 1.3. Clone Private Repository\n",
        "\n",
        "---\n",
        "\n",
        "This entire section can be omitted if users are not using Google Colab at all."
      ]
    },
    {
      "cell_type": "code",
      "metadata": {
        "colab": {
          "base_uri": "https://localhost:8080/"
        },
        "id": "y7c65FyJIEXu",
        "outputId": "bb78cd60-889a-4aeb-e2c2-983829d8ef7c"
      },
      "source": [
        "!git clone git@github.com:ngzhankang/finalYearProjectUOB.git"
      ],
      "execution_count": 5,
      "outputs": [
        {
          "output_type": "stream",
          "text": [
            "Cloning into 'finalYearProjectUOB'...\n",
            "remote: Enumerating objects: 234, done.\u001b[K\n",
            "remote: Counting objects: 100% (24/24), done.\u001b[K\n",
            "remote: Compressing objects: 100% (17/17), done.\u001b[K\n",
            "remote: Total 234 (delta 8), reused 22 (delta 6), pack-reused 210\u001b[K\n",
            "Receiving objects: 100% (234/234), 196.50 MiB | 20.45 MiB/s, done.\n",
            "Resolving deltas: 100% (81/81), done.\n"
          ],
          "name": "stdout"
        }
      ]
    },
    {
      "cell_type": "markdown",
      "metadata": {
        "id": "lpQsykkUqHOB"
      },
      "source": [
        "---\n",
        "---"
      ]
    },
    {
      "cell_type": "markdown",
      "metadata": {
        "id": "D74lUe_QF3kh"
      },
      "source": [
        "# 2.Data Importing"
      ]
    },
    {
      "cell_type": "markdown",
      "metadata": {
        "id": "6VbDZ5ymKTR6"
      },
      "source": [
        "### 2.1. Load the libraries\n",
        "\n",
        "---\n",
        "\n",
        "Load the necessary libraries for usage in the entire project."
      ]
    },
    {
      "cell_type": "code",
      "metadata": {
        "colab": {
          "base_uri": "https://localhost:8080/"
        },
        "id": "hMBiWwY8sBBl",
        "outputId": "a17274ec-0163-4561-ac71-11c60dd01463"
      },
      "source": [
        "! nvcc --version"
      ],
      "execution_count": 6,
      "outputs": [
        {
          "output_type": "stream",
          "text": [
            "nvcc: NVIDIA (R) Cuda compiler driver\n",
            "Copyright (c) 2005-2020 NVIDIA Corporation\n",
            "Built on Wed_Jul_22_19:09:09_PDT_2020\n",
            "Cuda compilation tools, release 11.0, V11.0.221\n",
            "Build cuda_11.0_bu.TC445_37.28845127_0\n"
          ],
          "name": "stdout"
        }
      ]
    },
    {
      "cell_type": "markdown",
      "metadata": {
        "id": "4FacXEFOsC04"
      },
      "source": [
        "### 2.2. Check CUDA Version\n",
        "\n",
        "---\n",
        "\n",
        "We need to check the cuda version to download the correct version of spaCy for this application."
      ]
    },
    {
      "cell_type": "code",
      "metadata": {
        "id": "U_20qw2UohOC"
      },
      "source": [
        "# suppress future warnings\n",
        "import warnings\n",
        "warnings.filterwarnings('ignore')"
      ],
      "execution_count": 7,
      "outputs": []
    },
    {
      "cell_type": "code",
      "metadata": {
        "colab": {
          "base_uri": "https://localhost:8080/"
        },
        "id": "EldCY0t9v2uV",
        "outputId": "31f1d839-8abd-49a9-c18d-746e87c3312e"
      },
      "source": [
        "# install necessary libraries that might not be found\n",
        "!pip install -U spacy\n",
        "!python -m spacy validate\n",
        "!pip install -U pip setuptools wheel\n",
        "!pip install -U spacy[cuda110,transformers,lookups]\n",
        "!python -m spacy download en_core_web_lg\n",
        "\n",
        "!pip install talos\n",
        "\n",
        "# check versions of libraries we are going to use\n",
        "%tensorflow_version 2.x\n",
        "import os\n",
        "import tensorflow\n",
        "import sklearn\n",
        "import numpy as np\n",
        "import pandas as pd\n",
        "import seaborn as sns\n",
        "import matplotlib\n",
        "import spacy\n",
        "import platform\n",
        "\n",
        "message=\"        Versions        \"\n",
        "print(\"*\"*len(message))\n",
        "print(message)\n",
        "print(\"*\"*len(message))\n",
        "print(\"Tensorflow version={}\".format(tensorflow.__version__))\n",
        "print(\"Keras version={}\".format(tensorflow.keras.__version__))\n",
        "print(\"Sklearn version={}\".format(sklearn.__version__))\n",
        "print(\"Numpy version={}\".format(np.__version__))\n",
        "print(\"Pandas version={}\".format(pd.__version__))\n",
        "print(\"Seaborn version={}\".format(sns.__version__))\n",
        "print(\"Matplotlib version={}\".format(matplotlib.__version__))\n",
        "print(\"SpaCy version={}\".format(spacy.__version__))\n",
        "print(\"Python version={}\".format(platform.python_version()))"
      ],
      "execution_count": 32,
      "outputs": [
        {
          "output_type": "stream",
          "text": [
            "Requirement already satisfied: spacy in /usr/local/lib/python3.7/dist-packages (3.0.6)\n",
            "Requirement already satisfied: tqdm<5.0.0,>=4.38.0 in /usr/local/lib/python3.7/dist-packages (from spacy) (4.41.1)\n",
            "Requirement already satisfied: preshed<3.1.0,>=3.0.2 in /usr/local/lib/python3.7/dist-packages (from spacy) (3.0.5)\n",
            "Requirement already satisfied: srsly<3.0.0,>=2.4.1 in /usr/local/lib/python3.7/dist-packages (from spacy) (2.4.1)\n",
            "Requirement already satisfied: requests<3.0.0,>=2.13.0 in /usr/local/lib/python3.7/dist-packages (from spacy) (2.23.0)\n",
            "Requirement already satisfied: typer<0.4.0,>=0.3.0 in /usr/local/lib/python3.7/dist-packages (from spacy) (0.3.2)\n",
            "Requirement already satisfied: pydantic<1.8.0,>=1.7.1 in /usr/local/lib/python3.7/dist-packages (from spacy) (1.7.4)\n",
            "Requirement already satisfied: thinc<8.1.0,>=8.0.3 in /usr/local/lib/python3.7/dist-packages (from spacy) (8.0.3)\n",
            "Requirement already satisfied: blis<0.8.0,>=0.4.0 in /usr/local/lib/python3.7/dist-packages (from spacy) (0.4.1)\n",
            "Requirement already satisfied: spacy-legacy<3.1.0,>=3.0.4 in /usr/local/lib/python3.7/dist-packages (from spacy) (3.0.5)\n",
            "Requirement already satisfied: pathy>=0.3.5 in /usr/local/lib/python3.7/dist-packages (from spacy) (0.5.2)\n",
            "Requirement already satisfied: packaging>=20.0 in /usr/local/lib/python3.7/dist-packages (from spacy) (20.9)\n",
            "Requirement already satisfied: numpy>=1.15.0 in /usr/local/lib/python3.7/dist-packages (from spacy) (1.19.5)\n",
            "Requirement already satisfied: catalogue<2.1.0,>=2.0.3 in /usr/local/lib/python3.7/dist-packages (from spacy) (2.0.4)\n",
            "Requirement already satisfied: setuptools in /usr/local/lib/python3.7/dist-packages (from spacy) (56.2.0)\n",
            "Requirement already satisfied: murmurhash<1.1.0,>=0.28.0 in /usr/local/lib/python3.7/dist-packages (from spacy) (1.0.5)\n",
            "Requirement already satisfied: typing-extensions<4.0.0.0,>=3.7.4 in /usr/local/lib/python3.7/dist-packages (from spacy) (3.7.4.3)\n",
            "Requirement already satisfied: wasabi<1.1.0,>=0.8.1 in /usr/local/lib/python3.7/dist-packages (from spacy) (0.8.2)\n",
            "Requirement already satisfied: jinja2 in /usr/local/lib/python3.7/dist-packages (from spacy) (2.11.3)\n",
            "Requirement already satisfied: cymem<2.1.0,>=2.0.2 in /usr/local/lib/python3.7/dist-packages (from spacy) (2.0.5)\n",
            "Requirement already satisfied: zipp>=0.5 in /usr/local/lib/python3.7/dist-packages (from catalogue<2.1.0,>=2.0.3->spacy) (3.4.1)\n",
            "Requirement already satisfied: pyparsing>=2.0.2 in /usr/local/lib/python3.7/dist-packages (from packaging>=20.0->spacy) (2.4.7)\n",
            "Requirement already satisfied: smart-open<4.0.0,>=2.2.0 in /usr/local/lib/python3.7/dist-packages (from pathy>=0.3.5->spacy) (3.0.0)\n",
            "Requirement already satisfied: idna<3,>=2.5 in /usr/local/lib/python3.7/dist-packages (from requests<3.0.0,>=2.13.0->spacy) (2.10)\n",
            "Requirement already satisfied: urllib3!=1.25.0,!=1.25.1,<1.26,>=1.21.1 in /usr/local/lib/python3.7/dist-packages (from requests<3.0.0,>=2.13.0->spacy) (1.24.3)\n",
            "Requirement already satisfied: chardet<4,>=3.0.2 in /usr/local/lib/python3.7/dist-packages (from requests<3.0.0,>=2.13.0->spacy) (3.0.4)\n",
            "Requirement already satisfied: certifi>=2017.4.17 in /usr/local/lib/python3.7/dist-packages (from requests<3.0.0,>=2.13.0->spacy) (2020.12.5)\n",
            "Requirement already satisfied: click<7.2.0,>=7.1.1 in /usr/local/lib/python3.7/dist-packages (from typer<0.4.0,>=0.3.0->spacy) (7.1.2)\n",
            "Requirement already satisfied: MarkupSafe>=0.23 in /usr/local/lib/python3.7/dist-packages (from jinja2->spacy) (2.0.0)\n",
            "\u001b[33mWARNING: Running pip as root will break packages and permissions. You should install packages reliably by using venv: https://pip.pypa.io/warnings/venv\u001b[0m\n",
            "2021-05-22 06:56:53.044576: I tensorflow/stream_executor/platform/default/dso_loader.cc:49] Successfully opened dynamic library libcudart.so.11.0\n",
            "\u001b[2K\u001b[38;5;2m✔ Loaded compatibility table\u001b[0m\n",
            "\u001b[1m\n",
            "================= Installed pipeline packages (spaCy v3.0.6) =================\u001b[0m\n",
            "\u001b[38;5;4mℹ spaCy installation: /usr/local/lib/python3.7/dist-packages/spacy\u001b[0m\n",
            "\n",
            "No pipeline packages found in your current environment.\n",
            "\n",
            "Requirement already satisfied: pip in /usr/local/lib/python3.7/dist-packages (21.1.1)\n",
            "Requirement already satisfied: setuptools in /usr/local/lib/python3.7/dist-packages (56.2.0)\n",
            "Requirement already satisfied: wheel in /usr/local/lib/python3.7/dist-packages (0.36.2)\n",
            "\u001b[33mWARNING: Running pip as root will break packages and permissions. You should install packages reliably by using venv: https://pip.pypa.io/warnings/venv\u001b[0m\n",
            "Requirement already satisfied: spacy[cuda110,lookups,transformers] in /usr/local/lib/python3.7/dist-packages (3.0.6)\n",
            "Requirement already satisfied: pydantic<1.8.0,>=1.7.1 in /usr/local/lib/python3.7/dist-packages (from spacy[cuda110,lookups,transformers]) (1.7.4)\n",
            "Requirement already satisfied: packaging>=20.0 in /usr/local/lib/python3.7/dist-packages (from spacy[cuda110,lookups,transformers]) (20.9)\n",
            "Requirement already satisfied: spacy-legacy<3.1.0,>=3.0.4 in /usr/local/lib/python3.7/dist-packages (from spacy[cuda110,lookups,transformers]) (3.0.5)\n",
            "Requirement already satisfied: thinc<8.1.0,>=8.0.3 in /usr/local/lib/python3.7/dist-packages (from spacy[cuda110,lookups,transformers]) (8.0.3)\n",
            "Requirement already satisfied: typer<0.4.0,>=0.3.0 in /usr/local/lib/python3.7/dist-packages (from spacy[cuda110,lookups,transformers]) (0.3.2)\n",
            "Requirement already satisfied: requests<3.0.0,>=2.13.0 in /usr/local/lib/python3.7/dist-packages (from spacy[cuda110,lookups,transformers]) (2.23.0)\n",
            "Requirement already satisfied: setuptools in /usr/local/lib/python3.7/dist-packages (from spacy[cuda110,lookups,transformers]) (56.2.0)\n",
            "Requirement already satisfied: jinja2 in /usr/local/lib/python3.7/dist-packages (from spacy[cuda110,lookups,transformers]) (2.11.3)\n",
            "Requirement already satisfied: pathy>=0.3.5 in /usr/local/lib/python3.7/dist-packages (from spacy[cuda110,lookups,transformers]) (0.5.2)\n",
            "Requirement already satisfied: srsly<3.0.0,>=2.4.1 in /usr/local/lib/python3.7/dist-packages (from spacy[cuda110,lookups,transformers]) (2.4.1)\n",
            "Requirement already satisfied: tqdm<5.0.0,>=4.38.0 in /usr/local/lib/python3.7/dist-packages (from spacy[cuda110,lookups,transformers]) (4.41.1)\n",
            "Requirement already satisfied: cymem<2.1.0,>=2.0.2 in /usr/local/lib/python3.7/dist-packages (from spacy[cuda110,lookups,transformers]) (2.0.5)\n",
            "Requirement already satisfied: catalogue<2.1.0,>=2.0.3 in /usr/local/lib/python3.7/dist-packages (from spacy[cuda110,lookups,transformers]) (2.0.4)\n",
            "Requirement already satisfied: numpy>=1.15.0 in /usr/local/lib/python3.7/dist-packages (from spacy[cuda110,lookups,transformers]) (1.19.5)\n",
            "Requirement already satisfied: typing-extensions<4.0.0.0,>=3.7.4 in /usr/local/lib/python3.7/dist-packages (from spacy[cuda110,lookups,transformers]) (3.7.4.3)\n",
            "Requirement already satisfied: blis<0.8.0,>=0.4.0 in /usr/local/lib/python3.7/dist-packages (from spacy[cuda110,lookups,transformers]) (0.4.1)\n",
            "Requirement already satisfied: murmurhash<1.1.0,>=0.28.0 in /usr/local/lib/python3.7/dist-packages (from spacy[cuda110,lookups,transformers]) (1.0.5)\n",
            "Requirement already satisfied: wasabi<1.1.0,>=0.8.1 in /usr/local/lib/python3.7/dist-packages (from spacy[cuda110,lookups,transformers]) (0.8.2)\n",
            "Requirement already satisfied: preshed<3.1.0,>=3.0.2 in /usr/local/lib/python3.7/dist-packages (from spacy[cuda110,lookups,transformers]) (3.0.5)\n",
            "Requirement already satisfied: spacy-lookups-data<1.1.0,>=1.0.0 in /usr/local/lib/python3.7/dist-packages (from spacy[cuda110,lookups,transformers]) (1.0.0)\n",
            "Requirement already satisfied: spacy-transformers<1.1.0,>=1.0.1 in /usr/local/lib/python3.7/dist-packages (from spacy[cuda110,lookups,transformers]) (1.0.2)\n",
            "Requirement already satisfied: cupy-cuda110<9.0.0,>=5.0.0b4 in /usr/local/lib/python3.7/dist-packages (from spacy[cuda110,lookups,transformers]) (8.6.0)\n",
            "Requirement already satisfied: zipp>=0.5 in /usr/local/lib/python3.7/dist-packages (from catalogue<2.1.0,>=2.0.3->spacy[cuda110,lookups,transformers]) (3.4.1)\n",
            "Requirement already satisfied: fastrlock>=0.3 in /usr/local/lib/python3.7/dist-packages (from cupy-cuda110<9.0.0,>=5.0.0b4->spacy[cuda110,lookups,transformers]) (0.6)\n",
            "Requirement already satisfied: pyparsing>=2.0.2 in /usr/local/lib/python3.7/dist-packages (from packaging>=20.0->spacy[cuda110,lookups,transformers]) (2.4.7)\n",
            "Requirement already satisfied: smart-open<4.0.0,>=2.2.0 in /usr/local/lib/python3.7/dist-packages (from pathy>=0.3.5->spacy[cuda110,lookups,transformers]) (3.0.0)\n",
            "Requirement already satisfied: urllib3!=1.25.0,!=1.25.1,<1.26,>=1.21.1 in /usr/local/lib/python3.7/dist-packages (from requests<3.0.0,>=2.13.0->spacy[cuda110,lookups,transformers]) (1.24.3)\n",
            "Requirement already satisfied: certifi>=2017.4.17 in /usr/local/lib/python3.7/dist-packages (from requests<3.0.0,>=2.13.0->spacy[cuda110,lookups,transformers]) (2020.12.5)\n",
            "Requirement already satisfied: idna<3,>=2.5 in /usr/local/lib/python3.7/dist-packages (from requests<3.0.0,>=2.13.0->spacy[cuda110,lookups,transformers]) (2.10)\n",
            "Requirement already satisfied: chardet<4,>=3.0.2 in /usr/local/lib/python3.7/dist-packages (from requests<3.0.0,>=2.13.0->spacy[cuda110,lookups,transformers]) (3.0.4)\n",
            "Requirement already satisfied: transformers<4.6.0,>=3.4.0 in /usr/local/lib/python3.7/dist-packages (from spacy-transformers<1.1.0,>=1.0.1->spacy[cuda110,lookups,transformers]) (4.5.1)\n",
            "Requirement already satisfied: torch>=1.5.0 in /usr/local/lib/python3.7/dist-packages (from spacy-transformers<1.1.0,>=1.0.1->spacy[cuda110,lookups,transformers]) (1.8.1+cu101)\n",
            "Requirement already satisfied: spacy-alignments<1.0.0,>=0.7.2 in /usr/local/lib/python3.7/dist-packages (from spacy-transformers<1.1.0,>=1.0.1->spacy[cuda110,lookups,transformers]) (0.8.3)\n",
            "Requirement already satisfied: importlib-metadata in /usr/local/lib/python3.7/dist-packages (from transformers<4.6.0,>=3.4.0->spacy-transformers<1.1.0,>=1.0.1->spacy[cuda110,lookups,transformers]) (4.0.1)\n",
            "Requirement already satisfied: sacremoses in /usr/local/lib/python3.7/dist-packages (from transformers<4.6.0,>=3.4.0->spacy-transformers<1.1.0,>=1.0.1->spacy[cuda110,lookups,transformers]) (0.0.45)\n",
            "Requirement already satisfied: regex!=2019.12.17 in /usr/local/lib/python3.7/dist-packages (from transformers<4.6.0,>=3.4.0->spacy-transformers<1.1.0,>=1.0.1->spacy[cuda110,lookups,transformers]) (2019.12.20)\n",
            "Requirement already satisfied: tokenizers<0.11,>=0.10.1 in /usr/local/lib/python3.7/dist-packages (from transformers<4.6.0,>=3.4.0->spacy-transformers<1.1.0,>=1.0.1->spacy[cuda110,lookups,transformers]) (0.10.2)\n",
            "Requirement already satisfied: filelock in /usr/local/lib/python3.7/dist-packages (from transformers<4.6.0,>=3.4.0->spacy-transformers<1.1.0,>=1.0.1->spacy[cuda110,lookups,transformers]) (3.0.12)\n",
            "Requirement already satisfied: click<7.2.0,>=7.1.1 in /usr/local/lib/python3.7/dist-packages (from typer<0.4.0,>=0.3.0->spacy[cuda110,lookups,transformers]) (7.1.2)\n",
            "Requirement already satisfied: MarkupSafe>=0.23 in /usr/local/lib/python3.7/dist-packages (from jinja2->spacy[cuda110,lookups,transformers]) (2.0.0)\n",
            "Requirement already satisfied: six in /usr/local/lib/python3.7/dist-packages (from sacremoses->transformers<4.6.0,>=3.4.0->spacy-transformers<1.1.0,>=1.0.1->spacy[cuda110,lookups,transformers]) (1.15.0)\n",
            "Requirement already satisfied: joblib in /usr/local/lib/python3.7/dist-packages (from sacremoses->transformers<4.6.0,>=3.4.0->spacy-transformers<1.1.0,>=1.0.1->spacy[cuda110,lookups,transformers]) (1.0.1)\n",
            "\u001b[33mWARNING: Running pip as root will break packages and permissions. You should install packages reliably by using venv: https://pip.pypa.io/warnings/venv\u001b[0m\n",
            "2021-05-22 06:57:02.782050: I tensorflow/stream_executor/platform/default/dso_loader.cc:49] Successfully opened dynamic library libcudart.so.11.0\n",
            "Collecting en-core-web-lg==3.0.0\n",
            "  Downloading https://github.com/explosion/spacy-models/releases/download/en_core_web_lg-3.0.0/en_core_web_lg-3.0.0-py3-none-any.whl (778.8 MB)\n",
            "\u001b[K     |████████████████████████████████| 778.8 MB 20 kB/s \n",
            "\u001b[?25hRequirement already satisfied: spacy<3.1.0,>=3.0.0 in /usr/local/lib/python3.7/dist-packages (from en-core-web-lg==3.0.0) (3.0.6)\n",
            "Requirement already satisfied: jinja2 in /usr/local/lib/python3.7/dist-packages (from spacy<3.1.0,>=3.0.0->en-core-web-lg==3.0.0) (2.11.3)\n",
            "Requirement already satisfied: cymem<2.1.0,>=2.0.2 in /usr/local/lib/python3.7/dist-packages (from spacy<3.1.0,>=3.0.0->en-core-web-lg==3.0.0) (2.0.5)\n",
            "Requirement already satisfied: tqdm<5.0.0,>=4.38.0 in /usr/local/lib/python3.7/dist-packages (from spacy<3.1.0,>=3.0.0->en-core-web-lg==3.0.0) (4.41.1)\n",
            "Requirement already satisfied: murmurhash<1.1.0,>=0.28.0 in /usr/local/lib/python3.7/dist-packages (from spacy<3.1.0,>=3.0.0->en-core-web-lg==3.0.0) (1.0.5)\n",
            "Requirement already satisfied: typer<0.4.0,>=0.3.0 in /usr/local/lib/python3.7/dist-packages (from spacy<3.1.0,>=3.0.0->en-core-web-lg==3.0.0) (0.3.2)\n",
            "Requirement already satisfied: pathy>=0.3.5 in /usr/local/lib/python3.7/dist-packages (from spacy<3.1.0,>=3.0.0->en-core-web-lg==3.0.0) (0.5.2)\n",
            "Requirement already satisfied: srsly<3.0.0,>=2.4.1 in /usr/local/lib/python3.7/dist-packages (from spacy<3.1.0,>=3.0.0->en-core-web-lg==3.0.0) (2.4.1)\n",
            "Requirement already satisfied: typing-extensions<4.0.0.0,>=3.7.4 in /usr/local/lib/python3.7/dist-packages (from spacy<3.1.0,>=3.0.0->en-core-web-lg==3.0.0) (3.7.4.3)\n",
            "Requirement already satisfied: blis<0.8.0,>=0.4.0 in /usr/local/lib/python3.7/dist-packages (from spacy<3.1.0,>=3.0.0->en-core-web-lg==3.0.0) (0.4.1)\n",
            "Requirement already satisfied: wasabi<1.1.0,>=0.8.1 in /usr/local/lib/python3.7/dist-packages (from spacy<3.1.0,>=3.0.0->en-core-web-lg==3.0.0) (0.8.2)\n",
            "Requirement already satisfied: thinc<8.1.0,>=8.0.3 in /usr/local/lib/python3.7/dist-packages (from spacy<3.1.0,>=3.0.0->en-core-web-lg==3.0.0) (8.0.3)\n",
            "Requirement already satisfied: requests<3.0.0,>=2.13.0 in /usr/local/lib/python3.7/dist-packages (from spacy<3.1.0,>=3.0.0->en-core-web-lg==3.0.0) (2.23.0)\n",
            "Requirement already satisfied: catalogue<2.1.0,>=2.0.3 in /usr/local/lib/python3.7/dist-packages (from spacy<3.1.0,>=3.0.0->en-core-web-lg==3.0.0) (2.0.4)\n",
            "Requirement already satisfied: preshed<3.1.0,>=3.0.2 in /usr/local/lib/python3.7/dist-packages (from spacy<3.1.0,>=3.0.0->en-core-web-lg==3.0.0) (3.0.5)\n",
            "Requirement already satisfied: spacy-legacy<3.1.0,>=3.0.4 in /usr/local/lib/python3.7/dist-packages (from spacy<3.1.0,>=3.0.0->en-core-web-lg==3.0.0) (3.0.5)\n",
            "Requirement already satisfied: numpy>=1.15.0 in /usr/local/lib/python3.7/dist-packages (from spacy<3.1.0,>=3.0.0->en-core-web-lg==3.0.0) (1.19.5)\n",
            "Requirement already satisfied: pydantic<1.8.0,>=1.7.1 in /usr/local/lib/python3.7/dist-packages (from spacy<3.1.0,>=3.0.0->en-core-web-lg==3.0.0) (1.7.4)\n",
            "Requirement already satisfied: setuptools in /usr/local/lib/python3.7/dist-packages (from spacy<3.1.0,>=3.0.0->en-core-web-lg==3.0.0) (56.2.0)\n",
            "Requirement already satisfied: packaging>=20.0 in /usr/local/lib/python3.7/dist-packages (from spacy<3.1.0,>=3.0.0->en-core-web-lg==3.0.0) (20.9)\n",
            "Requirement already satisfied: zipp>=0.5 in /usr/local/lib/python3.7/dist-packages (from catalogue<2.1.0,>=2.0.3->spacy<3.1.0,>=3.0.0->en-core-web-lg==3.0.0) (3.4.1)\n",
            "Requirement already satisfied: pyparsing>=2.0.2 in /usr/local/lib/python3.7/dist-packages (from packaging>=20.0->spacy<3.1.0,>=3.0.0->en-core-web-lg==3.0.0) (2.4.7)\n",
            "Requirement already satisfied: smart-open<4.0.0,>=2.2.0 in /usr/local/lib/python3.7/dist-packages (from pathy>=0.3.5->spacy<3.1.0,>=3.0.0->en-core-web-lg==3.0.0) (3.0.0)\n",
            "Requirement already satisfied: certifi>=2017.4.17 in /usr/local/lib/python3.7/dist-packages (from requests<3.0.0,>=2.13.0->spacy<3.1.0,>=3.0.0->en-core-web-lg==3.0.0) (2020.12.5)\n",
            "Requirement already satisfied: chardet<4,>=3.0.2 in /usr/local/lib/python3.7/dist-packages (from requests<3.0.0,>=2.13.0->spacy<3.1.0,>=3.0.0->en-core-web-lg==3.0.0) (3.0.4)\n",
            "Requirement already satisfied: urllib3!=1.25.0,!=1.25.1,<1.26,>=1.21.1 in /usr/local/lib/python3.7/dist-packages (from requests<3.0.0,>=2.13.0->spacy<3.1.0,>=3.0.0->en-core-web-lg==3.0.0) (1.24.3)\n",
            "Requirement already satisfied: idna<3,>=2.5 in /usr/local/lib/python3.7/dist-packages (from requests<3.0.0,>=2.13.0->spacy<3.1.0,>=3.0.0->en-core-web-lg==3.0.0) (2.10)\n",
            "Requirement already satisfied: click<7.2.0,>=7.1.1 in /usr/local/lib/python3.7/dist-packages (from typer<0.4.0,>=0.3.0->spacy<3.1.0,>=3.0.0->en-core-web-lg==3.0.0) (7.1.2)\n",
            "Requirement already satisfied: MarkupSafe>=0.23 in /usr/local/lib/python3.7/dist-packages (from jinja2->spacy<3.1.0,>=3.0.0->en-core-web-lg==3.0.0) (2.0.0)\n",
            "Installing collected packages: en-core-web-lg\n",
            "Successfully installed en-core-web-lg-3.0.0\n",
            "\u001b[33mWARNING: Running pip as root will break packages and permissions. You should install packages reliably by using venv: https://pip.pypa.io/warnings/venv\u001b[0m\n",
            "\u001b[38;5;2m✔ Download and installation successful\u001b[0m\n",
            "You can now load the package via spacy.load('en_core_web_lg')\n",
            "Requirement already satisfied: talos in /usr/local/lib/python3.7/dist-packages (1.0)\n",
            "Requirement already satisfied: wrangle in /usr/local/lib/python3.7/dist-packages (from talos) (0.6.7)\n",
            "Requirement already satisfied: numpy in /usr/local/lib/python3.7/dist-packages (from talos) (1.19.5)\n",
            "Requirement already satisfied: requests in /usr/local/lib/python3.7/dist-packages (from talos) (2.23.0)\n",
            "Requirement already satisfied: sklearn in /usr/local/lib/python3.7/dist-packages (from talos) (0.0)\n",
            "Requirement already satisfied: chances in /usr/local/lib/python3.7/dist-packages (from talos) (0.1.9)\n",
            "Requirement already satisfied: pandas in /usr/local/lib/python3.7/dist-packages (from talos) (1.1.5)\n",
            "Requirement already satisfied: tensorflow>=2.0.0 in /usr/local/lib/python3.7/dist-packages (from talos) (2.4.1)\n",
            "Requirement already satisfied: tqdm in /usr/local/lib/python3.7/dist-packages (from talos) (4.41.1)\n",
            "Requirement already satisfied: kerasplotlib in /usr/local/lib/python3.7/dist-packages (from talos) (0.1.6)\n",
            "Requirement already satisfied: statsmodels>=0.11.0 in /usr/local/lib/python3.7/dist-packages (from talos) (0.12.2)\n",
            "Requirement already satisfied: astetik in /usr/local/lib/python3.7/dist-packages (from talos) (1.11.1)\n",
            "Requirement already satisfied: scipy>=1.1 in /usr/local/lib/python3.7/dist-packages (from statsmodels>=0.11.0->talos) (1.2.0)\n",
            "Requirement already satisfied: patsy>=0.5 in /usr/local/lib/python3.7/dist-packages (from statsmodels>=0.11.0->talos) (0.5.1)\n",
            "Requirement already satisfied: pytz>=2017.2 in /usr/local/lib/python3.7/dist-packages (from pandas->talos) (2018.9)\n",
            "Requirement already satisfied: python-dateutil>=2.7.3 in /usr/local/lib/python3.7/dist-packages (from pandas->talos) (2.8.1)\n",
            "Requirement already satisfied: six in /usr/local/lib/python3.7/dist-packages (from patsy>=0.5->statsmodels>=0.11.0->talos) (1.15.0)\n",
            "Requirement already satisfied: termcolor~=1.1.0 in /usr/local/lib/python3.7/dist-packages (from tensorflow>=2.0.0->talos) (1.1.0)\n",
            "Requirement already satisfied: wheel~=0.35 in /usr/local/lib/python3.7/dist-packages (from tensorflow>=2.0.0->talos) (0.36.2)\n",
            "Requirement already satisfied: h5py~=2.10.0 in /usr/local/lib/python3.7/dist-packages (from tensorflow>=2.0.0->talos) (2.10.0)\n",
            "Requirement already satisfied: protobuf>=3.9.2 in /usr/local/lib/python3.7/dist-packages (from tensorflow>=2.0.0->talos) (3.12.4)\n",
            "Requirement already satisfied: wrapt~=1.12.1 in /usr/local/lib/python3.7/dist-packages (from tensorflow>=2.0.0->talos) (1.12.1)\n",
            "Requirement already satisfied: gast==0.3.3 in /usr/local/lib/python3.7/dist-packages (from tensorflow>=2.0.0->talos) (0.3.3)\n",
            "Requirement already satisfied: tensorboard~=2.4 in /usr/local/lib/python3.7/dist-packages (from tensorflow>=2.0.0->talos) (2.4.1)\n",
            "Requirement already satisfied: tensorflow-estimator<2.5.0,>=2.4.0 in /usr/local/lib/python3.7/dist-packages (from tensorflow>=2.0.0->talos) (2.4.0)\n",
            "Requirement already satisfied: grpcio~=1.32.0 in /usr/local/lib/python3.7/dist-packages (from tensorflow>=2.0.0->talos) (1.32.0)\n",
            "Requirement already satisfied: keras-preprocessing~=1.1.2 in /usr/local/lib/python3.7/dist-packages (from tensorflow>=2.0.0->talos) (1.1.2)\n",
            "Requirement already satisfied: typing-extensions~=3.7.4 in /usr/local/lib/python3.7/dist-packages (from tensorflow>=2.0.0->talos) (3.7.4.3)\n",
            "Requirement already satisfied: astunparse~=1.6.3 in /usr/local/lib/python3.7/dist-packages (from tensorflow>=2.0.0->talos) (1.6.3)\n",
            "Requirement already satisfied: absl-py~=0.10 in /usr/local/lib/python3.7/dist-packages (from tensorflow>=2.0.0->talos) (0.12.0)\n",
            "Requirement already satisfied: opt-einsum~=3.3.0 in /usr/local/lib/python3.7/dist-packages (from tensorflow>=2.0.0->talos) (3.3.0)\n",
            "Requirement already satisfied: google-pasta~=0.2 in /usr/local/lib/python3.7/dist-packages (from tensorflow>=2.0.0->talos) (0.2.0)\n",
            "Requirement already satisfied: flatbuffers~=1.12.0 in /usr/local/lib/python3.7/dist-packages (from tensorflow>=2.0.0->talos) (1.12)\n",
            "Requirement already satisfied: setuptools in /usr/local/lib/python3.7/dist-packages (from protobuf>=3.9.2->tensorflow>=2.0.0->talos) (56.2.0)\n",
            "Requirement already satisfied: google-auth-oauthlib<0.5,>=0.4.1 in /usr/local/lib/python3.7/dist-packages (from tensorboard~=2.4->tensorflow>=2.0.0->talos) (0.4.4)\n",
            "Requirement already satisfied: tensorboard-plugin-wit>=1.6.0 in /usr/local/lib/python3.7/dist-packages (from tensorboard~=2.4->tensorflow>=2.0.0->talos) (1.8.0)\n",
            "Requirement already satisfied: markdown>=2.6.8 in /usr/local/lib/python3.7/dist-packages (from tensorboard~=2.4->tensorflow>=2.0.0->talos) (3.3.4)\n",
            "Requirement already satisfied: werkzeug>=0.11.15 in /usr/local/lib/python3.7/dist-packages (from tensorboard~=2.4->tensorflow>=2.0.0->talos) (2.0.0)\n",
            "Requirement already satisfied: google-auth<2,>=1.6.3 in /usr/local/lib/python3.7/dist-packages (from tensorboard~=2.4->tensorflow>=2.0.0->talos) (1.30.0)\n",
            "Requirement already satisfied: pyasn1-modules>=0.2.1 in /usr/local/lib/python3.7/dist-packages (from google-auth<2,>=1.6.3->tensorboard~=2.4->tensorflow>=2.0.0->talos) (0.2.8)\n",
            "Requirement already satisfied: rsa<5,>=3.1.4 in /usr/local/lib/python3.7/dist-packages (from google-auth<2,>=1.6.3->tensorboard~=2.4->tensorflow>=2.0.0->talos) (4.7.2)\n",
            "Requirement already satisfied: cachetools<5.0,>=2.0.0 in /usr/local/lib/python3.7/dist-packages (from google-auth<2,>=1.6.3->tensorboard~=2.4->tensorflow>=2.0.0->talos) (4.2.2)\n",
            "Requirement already satisfied: requests-oauthlib>=0.7.0 in /usr/local/lib/python3.7/dist-packages (from google-auth-oauthlib<0.5,>=0.4.1->tensorboard~=2.4->tensorflow>=2.0.0->talos) (1.3.0)\n",
            "Requirement already satisfied: importlib-metadata in /usr/local/lib/python3.7/dist-packages (from markdown>=2.6.8->tensorboard~=2.4->tensorflow>=2.0.0->talos) (4.0.1)\n",
            "Requirement already satisfied: pyasn1<0.5.0,>=0.4.6 in /usr/local/lib/python3.7/dist-packages (from pyasn1-modules>=0.2.1->google-auth<2,>=1.6.3->tensorboard~=2.4->tensorflow>=2.0.0->talos) (0.4.8)\n",
            "Requirement already satisfied: certifi>=2017.4.17 in /usr/local/lib/python3.7/dist-packages (from requests->talos) (2020.12.5)\n",
            "Requirement already satisfied: urllib3!=1.25.0,!=1.25.1,<1.26,>=1.21.1 in /usr/local/lib/python3.7/dist-packages (from requests->talos) (1.24.3)\n",
            "Requirement already satisfied: chardet<4,>=3.0.2 in /usr/local/lib/python3.7/dist-packages (from requests->talos) (3.0.4)\n",
            "Requirement already satisfied: idna<3,>=2.5 in /usr/local/lib/python3.7/dist-packages (from requests->talos) (2.10)\n",
            "Requirement already satisfied: oauthlib>=3.0.0 in /usr/local/lib/python3.7/dist-packages (from requests-oauthlib>=0.7.0->google-auth-oauthlib<0.5,>=0.4.1->tensorboard~=2.4->tensorflow>=2.0.0->talos) (3.1.0)\n",
            "Requirement already satisfied: seaborn in /usr/local/lib/python3.7/dist-packages (from astetik->talos) (0.11.1)\n",
            "Requirement already satisfied: geonamescache in /usr/local/lib/python3.7/dist-packages (from astetik->talos) (1.2.0)\n",
            "Requirement already satisfied: IPython in /usr/local/lib/python3.7/dist-packages (from astetik->talos) (5.5.0)\n",
            "Requirement already satisfied: zipp>=0.5 in /usr/local/lib/python3.7/dist-packages (from importlib-metadata->markdown>=2.6.8->tensorboard~=2.4->tensorflow>=2.0.0->talos) (3.4.1)\n",
            "Requirement already satisfied: prompt-toolkit<2.0.0,>=1.0.4 in /usr/local/lib/python3.7/dist-packages (from IPython->astetik->talos) (1.0.18)\n",
            "Requirement already satisfied: pickleshare in /usr/local/lib/python3.7/dist-packages (from IPython->astetik->talos) (0.7.5)\n",
            "Requirement already satisfied: decorator in /usr/local/lib/python3.7/dist-packages (from IPython->astetik->talos) (4.4.2)\n",
            "Requirement already satisfied: simplegeneric>0.8 in /usr/local/lib/python3.7/dist-packages (from IPython->astetik->talos) (0.8.1)\n",
            "Requirement already satisfied: pexpect in /usr/local/lib/python3.7/dist-packages (from IPython->astetik->talos) (4.8.0)\n",
            "Requirement already satisfied: pygments in /usr/local/lib/python3.7/dist-packages (from IPython->astetik->talos) (2.6.1)\n",
            "Requirement already satisfied: traitlets>=4.2 in /usr/local/lib/python3.7/dist-packages (from IPython->astetik->talos) (5.0.5)\n",
            "Requirement already satisfied: wcwidth in /usr/local/lib/python3.7/dist-packages (from prompt-toolkit<2.0.0,>=1.0.4->IPython->astetik->talos) (0.2.5)\n",
            "Requirement already satisfied: ipython-genutils in /usr/local/lib/python3.7/dist-packages (from traitlets>=4.2->IPython->astetik->talos) (0.2.0)\n",
            "Requirement already satisfied: ptyprocess>=0.5 in /usr/local/lib/python3.7/dist-packages (from pexpect->IPython->astetik->talos) (0.7.0)\n",
            "Requirement already satisfied: matplotlib>=2.2 in /usr/local/lib/python3.7/dist-packages (from seaborn->astetik->talos) (3.2.2)\n",
            "Requirement already satisfied: kiwisolver>=1.0.1 in /usr/local/lib/python3.7/dist-packages (from matplotlib>=2.2->seaborn->astetik->talos) (1.3.1)\n",
            "Requirement already satisfied: cycler>=0.10 in /usr/local/lib/python3.7/dist-packages (from matplotlib>=2.2->seaborn->astetik->talos) (0.10.0)\n",
            "Requirement already satisfied: pyparsing!=2.0.4,!=2.1.2,!=2.1.6,>=2.0.1 in /usr/local/lib/python3.7/dist-packages (from matplotlib>=2.2->seaborn->astetik->talos) (2.4.7)\n",
            "Requirement already satisfied: scikit-learn in /usr/local/lib/python3.7/dist-packages (from sklearn->talos) (0.22.2.post1)\n",
            "Requirement already satisfied: joblib>=0.11 in /usr/local/lib/python3.7/dist-packages (from scikit-learn->sklearn->talos) (1.0.1)\n",
            "Requirement already satisfied: keras in /usr/local/lib/python3.7/dist-packages (from wrangle->talos) (2.4.3)\n",
            "Requirement already satisfied: pyyaml in /usr/local/lib/python3.7/dist-packages (from keras->wrangle->talos) (3.13)\n",
            "\u001b[33mWARNING: Running pip as root will break packages and permissions. You should install packages reliably by using venv: https://pip.pypa.io/warnings/venv\u001b[0m\n",
            "************************\n",
            "        Versions        \n",
            "************************\n",
            "Tensorflow version=2.4.1\n",
            "Keras version=2.4.0\n",
            "Sklearn version=0.22.2.post1\n",
            "Numpy version=1.19.5\n",
            "Pandas version=1.1.5\n",
            "Seaborn version=0.11.1\n",
            "Matplotlib version=3.2.2\n",
            "SpaCy version=3.0.6\n",
            "Python version=3.7.10\n"
          ],
          "name": "stdout"
        }
      ]
    },
    {
      "cell_type": "markdown",
      "metadata": {
        "id": "leKoAEG_KWf8"
      },
      "source": [
        "### 2.3. Load the modules\n",
        "\n",
        "---\n",
        "\n",
        "Load the necessary modules for usage in the entire project."
      ]
    },
    {
      "cell_type": "code",
      "metadata": {
        "id": "U04wypEUv2p1"
      },
      "source": [
        "# importing necessary modules for this project\n",
        "import tensorflow as tf\n",
        "\n",
        "import pandas as pd\n",
        "import matplotlib.pyplot as plt\n",
        "import seaborn as sns\n",
        "import numpy as np\n",
        "import string\n",
        "import spacy\n",
        "\n",
        "# activate the GPU to run spaCy with GPU\n",
        "spacy.prefer_gpu()\n",
        "\n",
        "%matplotlib inline"
      ],
      "execution_count": 1,
      "outputs": []
    },
    {
      "cell_type": "markdown",
      "metadata": {
        "id": "ca1X-gSJKap_"
      },
      "source": [
        "### 2.4. Load the dataset\n",
        "\n",
        "---\n",
        "\n",
        "Load the dataset for usage in the entire project."
      ]
    },
    {
      "cell_type": "code",
      "metadata": {
        "colab": {
          "base_uri": "https://localhost:8080/",
          "height": 653
        },
        "id": "owSKzElwKdh1",
        "outputId": "fa36ad08-ef71-4e86-ccac-5fee052d4e48"
      },
      "source": [
        "# use pandas to read the excel file and populate it in a pandas dataframe\n",
        "companies = pd.read_excel('./clean_dataset.xlsx')\n",
        "\n",
        "# see the top 10 companies that are populated in the dataframe\n",
        "companies.head(10)"
      ],
      "execution_count": 2,
      "outputs": [
        {
          "output_type": "execute_result",
          "data": {
            "text/html": [
              "<div>\n",
              "<style scoped>\n",
              "    .dataframe tbody tr th:only-of-type {\n",
              "        vertical-align: middle;\n",
              "    }\n",
              "\n",
              "    .dataframe tbody tr th {\n",
              "        vertical-align: top;\n",
              "    }\n",
              "\n",
              "    .dataframe thead th {\n",
              "        text-align: right;\n",
              "    }\n",
              "</style>\n",
              "<table border=\"1\" class=\"dataframe\">\n",
              "  <thead>\n",
              "    <tr style=\"text-align: right;\">\n",
              "      <th></th>\n",
              "      <th>Company_ID</th>\n",
              "      <th>Company</th>\n",
              "      <th>Country</th>\n",
              "      <th>PIC</th>\n",
              "      <th>Sector</th>\n",
              "      <th>Subsector</th>\n",
              "      <th>Archetype</th>\n",
              "      <th>Valuechain</th>\n",
              "      <th>Websites</th>\n",
              "      <th>Company Profile Information</th>\n",
              "      <th>Remarks</th>\n",
              "    </tr>\n",
              "  </thead>\n",
              "  <tbody>\n",
              "    <tr>\n",
              "      <th>0</th>\n",
              "      <td>4137190062363536</td>\n",
              "      <td>AKSORN CHAROEN TAT ACT. CO.,LTD.</td>\n",
              "      <td>THAILAND</td>\n",
              "      <td>NaN</td>\n",
              "      <td>TMT</td>\n",
              "      <td>media</td>\n",
              "      <td>media_aggregator/distributor</td>\n",
              "      <td>Midstream</td>\n",
              "      <td>https://getlinks.co/6831</td>\n",
              "      <td>For over 80 years of experience in creating an...</td>\n",
              "      <td>NaN</td>\n",
              "    </tr>\n",
              "    <tr>\n",
              "      <th>1</th>\n",
              "      <td>23248790229909748</td>\n",
              "      <td>DONGGUAN SHENGYA CLEANING APPLIAME CO.LTD</td>\n",
              "      <td>CHINA</td>\n",
              "      <td>NaN</td>\n",
              "      <td>TMT</td>\n",
              "      <td>consumer electronics</td>\n",
              "      <td>consumer electronics_distributor</td>\n",
              "      <td>Downstream</td>\n",
              "      <td>https://baike.baidu.com/item/%E4%B8%9C%E8%8E%9...</td>\n",
              "      <td>Yatai's main products cover various cleaning m...</td>\n",
              "      <td>NaN</td>\n",
              "    </tr>\n",
              "    <tr>\n",
              "      <th>2</th>\n",
              "      <td>28486505934571008</td>\n",
              "      <td>EXIS TECH SDN. BHD.</td>\n",
              "      <td>MALAYSIA</td>\n",
              "      <td>NaN</td>\n",
              "      <td>oos</td>\n",
              "      <td>others</td>\n",
              "      <td>others</td>\n",
              "      <td>NaN</td>\n",
              "      <td>http://www.exis-tech.com/</td>\n",
              "      <td>In the beginning, it started off by providing ...</td>\n",
              "      <td>NaN</td>\n",
              "    </tr>\n",
              "    <tr>\n",
              "      <th>3</th>\n",
              "      <td>38251695094669872</td>\n",
              "      <td>BEI JING ESTRABA IMPORT AND EXPORT</td>\n",
              "      <td>CHINA</td>\n",
              "      <td>NaN</td>\n",
              "      <td>NaN</td>\n",
              "      <td>NaN</td>\n",
              "      <td>NaN</td>\n",
              "      <td>NaN</td>\n",
              "      <td>NaN</td>\n",
              "      <td>NaN</td>\n",
              "      <td>NaN</td>\n",
              "    </tr>\n",
              "    <tr>\n",
              "      <th>4</th>\n",
              "      <td>39910921263510776</td>\n",
              "      <td>Aztech Electronics Pte Ltd</td>\n",
              "      <td>SINGAPORE</td>\n",
              "      <td>NaN</td>\n",
              "      <td>TMT</td>\n",
              "      <td>consumer electronics</td>\n",
              "      <td>consumer electronics_distributor</td>\n",
              "      <td>Downstream</td>\n",
              "      <td>https://www.aztech.com/business/about-us/</td>\n",
              "      <td>Being a turnkey, one-stop integrated solutions...</td>\n",
              "      <td>NaN</td>\n",
              "    </tr>\n",
              "    <tr>\n",
              "      <th>5</th>\n",
              "      <td>54863889264716592</td>\n",
              "      <td>TONGDUN INTERNATIONAL PTE LTD</td>\n",
              "      <td>SINGAPORE</td>\n",
              "      <td>NaN</td>\n",
              "      <td>tmt</td>\n",
              "      <td>it_services</td>\n",
              "      <td>it_services</td>\n",
              "      <td>midstream</td>\n",
              "      <td>https://www.tongdun.net/info/company</td>\n",
              "      <td>Tongdun Technology is a professional third-par...</td>\n",
              "      <td>NaN</td>\n",
              "    </tr>\n",
              "    <tr>\n",
              "      <th>6</th>\n",
              "      <td>60624700618157752</td>\n",
              "      <td>EMASTIGA ENGRG PTE LTD</td>\n",
              "      <td>SINGAPORE</td>\n",
              "      <td>NaN</td>\n",
              "      <td>cni</td>\n",
              "      <td>cni_service providers</td>\n",
              "      <td>cni_service providers</td>\n",
              "      <td>midstream</td>\n",
              "      <td>http://emastiga.com/</td>\n",
              "      <td>For over 30 years, EMASTIGA has been servicing...</td>\n",
              "      <td>Holding company and also provides it_services....</td>\n",
              "    </tr>\n",
              "    <tr>\n",
              "      <th>7</th>\n",
              "      <td>102285011598298000</td>\n",
              "      <td>AEROFLUID CO.,LTD.</td>\n",
              "      <td>THAILAND</td>\n",
              "      <td>NaN</td>\n",
              "      <td>CNI</td>\n",
              "      <td>cni_equipment suppliers</td>\n",
              "      <td>cni_equipment suppliers</td>\n",
              "      <td>MIDSTREAM</td>\n",
              "      <td>https://www.matchlink.asia/business/page/Thail...</td>\n",
              "      <td>Sales of hydraulic equipment and parts</td>\n",
              "      <td>NaN</td>\n",
              "    </tr>\n",
              "    <tr>\n",
              "      <th>8</th>\n",
              "      <td>116707715618748400</td>\n",
              "      <td>POLYCOM ASIA PACIFIC PTE. LTD.</td>\n",
              "      <td>SINGAPORE</td>\n",
              "      <td>NaN</td>\n",
              "      <td>tmt</td>\n",
              "      <td>telecommunication</td>\n",
              "      <td>network equipment supplier</td>\n",
              "      <td>upstream</td>\n",
              "      <td>https://www.sgpbusiness.com/company/Polycom-As...</td>\n",
              "      <td>WHOLESALE OF TELECOMMUNICATIONS EQUIPMENT (EXC...</td>\n",
              "      <td>NaN</td>\n",
              "    </tr>\n",
              "    <tr>\n",
              "      <th>9</th>\n",
              "      <td>120313950904532592</td>\n",
              "      <td>EXCELKOS SDN. BHD.</td>\n",
              "      <td>MALAYSIA</td>\n",
              "      <td>NaN</td>\n",
              "      <td>IND</td>\n",
              "      <td>diversified</td>\n",
              "      <td>rubber</td>\n",
              "      <td>Manufacturer</td>\n",
              "      <td>https://www.excelkos.com/</td>\n",
              "      <td>For Excelkos, it all started with a far-sighte...</td>\n",
              "      <td>NaN</td>\n",
              "    </tr>\n",
              "  </tbody>\n",
              "</table>\n",
              "</div>"
            ],
            "text/plain": [
              "           Company_ID  ...                                            Remarks\n",
              "0    4137190062363536  ...                                                NaN\n",
              "1   23248790229909748  ...                                                NaN\n",
              "2   28486505934571008  ...                                                NaN\n",
              "3   38251695094669872  ...                                                NaN\n",
              "4   39910921263510776  ...                                                NaN\n",
              "5   54863889264716592  ...                                                NaN\n",
              "6   60624700618157752  ...  Holding company and also provides it_services....\n",
              "7  102285011598298000  ...                                                NaN\n",
              "8  116707715618748400  ...                                                NaN\n",
              "9  120313950904532592  ...                                                NaN\n",
              "\n",
              "[10 rows x 11 columns]"
            ]
          },
          "metadata": {
            "tags": []
          },
          "execution_count": 2
        }
      ]
    },
    {
      "cell_type": "markdown",
      "metadata": {
        "id": "2TI1D_-KP6hC"
      },
      "source": [
        "---\n",
        "---"
      ]
    },
    {
      "cell_type": "markdown",
      "metadata": {
        "id": "9qKHTDyOP9bz"
      },
      "source": [
        "# 3.Exploratory Data Analysis"
      ]
    },
    {
      "cell_type": "markdown",
      "metadata": {
        "id": "P8p50I8GQCAg"
      },
      "source": [
        "### 3.1. Get overview of dataset\n",
        "\n",
        "---\n",
        "\n",
        "Get statistical information of the dataset to understand the dataset better."
      ]
    },
    {
      "cell_type": "code",
      "metadata": {
        "colab": {
          "base_uri": "https://localhost:8080/"
        },
        "id": "2iea82R6Dm2J",
        "outputId": "51f30d06-13d4-468a-c26f-09811e829dc8"
      },
      "source": [
        "# see the row headers of the entire pandas dataframe first\n",
        "list(companies.columns)"
      ],
      "execution_count": 3,
      "outputs": [
        {
          "output_type": "execute_result",
          "data": {
            "text/plain": [
              "['Company_ID',\n",
              " 'Company',\n",
              " 'Country',\n",
              " 'PIC',\n",
              " 'Sector',\n",
              " 'Subsector',\n",
              " 'Archetype',\n",
              " 'Valuechain',\n",
              " 'Websites',\n",
              " 'Company Profile Information',\n",
              " 'Remarks']"
            ]
          },
          "metadata": {
            "tags": []
          },
          "execution_count": 3
        }
      ]
    },
    {
      "cell_type": "code",
      "metadata": {
        "colab": {
          "base_uri": "https://localhost:8080/"
        },
        "id": "OVX1CBSTLZqm",
        "outputId": "2738ea3c-5ea4-4292-ab75-9d9844b1a638"
      },
      "source": [
        "# get the total number of records in the dataframe\n",
        "df_count = companies['Company_ID'].count()\n",
        "\n",
        "# get count of unique contries where companies are based in\n",
        "df_countCountry = companies['Country'].nunique()\n",
        "\n",
        "# get count of total unique sectors where companies are from\n",
        "df_countSector = companies['Sector'].nunique()\n",
        "\n",
        "# get count of total unique subseector where companies are from\n",
        "df_countsubSector = companies['Subsector'].nunique()\n",
        "\n",
        "# get count of total unique valuechain where companies are from\n",
        "df_countValuechain = companies['Valuechain'].nunique()\n",
        "\n",
        "print('Total number of records:', df_count)\n",
        "print('Total number of countries:', df_countCountry)\n",
        "print('Total number of sectors:', df_countSector)\n",
        "print('Total number of subsectors:', df_countsubSector)\n",
        "print('Total number of valuechain:', df_countValuechain)"
      ],
      "execution_count": 4,
      "outputs": [
        {
          "output_type": "stream",
          "text": [
            "Total number of records: 1000\n",
            "Total number of countries: 7\n",
            "Total number of sectors: 14\n",
            "Total number of subsectors: 26\n",
            "Total number of valuechain: 18\n"
          ],
          "name": "stdout"
        }
      ]
    },
    {
      "cell_type": "code",
      "metadata": {
        "colab": {
          "base_uri": "https://localhost:8080/"
        },
        "id": "O1C_l7ytUixQ",
        "outputId": "2afae2a3-1baa-4e39-fd20-768e24465244"
      },
      "source": [
        "# get total number of countries\n",
        "df_totalCountries = companies['Country'].value_counts()\n",
        "\n",
        "# get list of unique sector\n",
        "df_sector = companies['Sector'].value_counts()\n",
        "\n",
        "# get list of unique archetype\n",
        "df_archetype = companies['Archetype'].value_counts()\n",
        "\n",
        "# get list of unique valuechain\n",
        "df_valuechain = companies['Valuechain'].value_counts()\n",
        "\n",
        "print('List of unique countries:\\n{}'.format(df_totalCountries))\n",
        "print()\n",
        "print('List of unique sector:\\n{}'.format(df_sector))\n",
        "print()\n",
        "print('List of unique valuechain:\\n{}'.format(df_valuechain))"
      ],
      "execution_count": 5,
      "outputs": [
        {
          "output_type": "stream",
          "text": [
            "List of unique countries:\n",
            "SINGAPORE    359\n",
            "THAILAND     244\n",
            "MALAYSIA     223\n",
            "CHINA        103\n",
            "HONG KONG     36\n",
            "INDONESIA     34\n",
            "AUSTRALIA      1\n",
            "Name: Country, dtype: int64\n",
            "\n",
            "List of unique sector:\n",
            "cni    291\n",
            "tmt    257\n",
            "ong     97\n",
            "oos     97\n",
            "CNI     74\n",
            "TMT     42\n",
            "ind     21\n",
            "OOS     18\n",
            "cg      15\n",
            "IND     10\n",
            "CG       8\n",
            "ONG      8\n",
            "REH      8\n",
            "reh      6\n",
            "Name: Sector, dtype: int64\n",
            "\n",
            "List of unique valuechain:\n",
            "midstream                 373\n",
            "downstream                227\n",
            "MIDSTREAM                  68\n",
            "upstream                   51\n",
            "Midstream                  24\n",
            "Downstream                 23\n",
            "upstream or downstream     17\n",
            "DOWNSTREAM                 14\n",
            "manufacturer               10\n",
            "Upstream                   10\n",
            "distributor                 6\n",
            "Manufacturer                4\n",
            "UPSTREAM                    3\n",
            "                            3\n",
            "Across value chain          2\n",
            "trader                      2\n",
            "across value chain          2\n",
            "Upstream or Downstream      1\n",
            "Name: Valuechain, dtype: int64\n"
          ],
          "name": "stdout"
        }
      ]
    },
    {
      "cell_type": "code",
      "metadata": {
        "colab": {
          "base_uri": "https://localhost:8080/"
        },
        "id": "NIoXot6HWEWP",
        "outputId": "297ca09c-5e2e-414f-a2e4-e2d31a0d6c0c"
      },
      "source": [
        "# get list of unique subsector\n",
        "df_subsector = companies['Subsector'].value_counts()\n",
        "\n",
        "print('List of unique Subsector:\\n{}'.format(df_subsector))"
      ],
      "execution_count": 6,
      "outputs": [
        {
          "output_type": "stream",
          "text": [
            "List of unique Subsector:\n",
            "buildings & industrial               154\n",
            "others                               115\n",
            "consumer electronics                 111\n",
            "building_material                    102\n",
            "o&g                                   66\n",
            "it_services                           59\n",
            "cni_service providers                 57\n",
            "semiconductor                         51\n",
            "telecommunication                     40\n",
            "utilities                             33\n",
            "petrochemical                         30\n",
            "retail n distribution                 22\n",
            "digital_business                      20\n",
            "metals and mining                     19\n",
            "media                                 18\n",
            "infrastructure                        14\n",
            "auto & mec                            10\n",
            "o&g_service providers/contractors      8\n",
            "residential                            7\n",
            "cni_equipment suppliers                5\n",
            "commercial                             5\n",
            "diversified                            2\n",
            "ioc/noc                                1\n",
            "hotels and accommodation               1\n",
            "industrial                             1\n",
            "agribusiness                           1\n",
            "Name: Subsector, dtype: int64\n"
          ],
          "name": "stdout"
        }
      ]
    },
    {
      "cell_type": "code",
      "metadata": {
        "colab": {
          "base_uri": "https://localhost:8080/"
        },
        "id": "SjaNooD3Uz3c",
        "outputId": "a86961b6-cf66-464e-a853-279a07775797"
      },
      "source": [
        "print('List of unique archetype:\\n{}'.format(df_archetype))"
      ],
      "execution_count": 7,
      "outputs": [
        {
          "output_type": "stream",
          "text": [
            "List of unique archetype:\n",
            "buildings & industrial_contractor     143\n",
            "others                                115\n",
            "consumer electronics_distributor       96\n",
            "building_material_manufacturer         62\n",
            "it_services                            59\n",
            "                                     ... \n",
            "o&g_refiner                             1\n",
            "residential_operator                    1\n",
            "commercial_developer                    1\n",
            "packaged food distributor               1\n",
            "hotels and accommodation_developer      1\n",
            "Name: Archetype, Length: 61, dtype: int64\n"
          ],
          "name": "stdout"
        }
      ]
    },
    {
      "cell_type": "markdown",
      "metadata": {
        "id": "57EHaR92D9UP"
      },
      "source": [
        "### 3.2. Drop unncessary columns\n",
        "\n",
        "---\n",
        "\n",
        "Here, we will drop columns that wiill not aid in our EDA."
      ]
    },
    {
      "cell_type": "code",
      "metadata": {
        "colab": {
          "base_uri": "https://localhost:8080/",
          "height": 405
        },
        "id": "TC9-PuS6EDXT",
        "outputId": "f9a44a8c-f309-43a6-8dcf-5d47a4492349"
      },
      "source": [
        "# declare the list of the row names that are redundant\n",
        "rows_to_drop = ['Company_ID', 'PIC', 'Websites', 'Remarks']\n",
        "\n",
        "# use a conditional expression to filter out those rows\n",
        "df_filteredCompanies = companies.drop(labels=rows_to_drop, axis=1)\n",
        "\n",
        "df_filteredCompanies"
      ],
      "execution_count": 8,
      "outputs": [
        {
          "output_type": "execute_result",
          "data": {
            "text/html": [
              "<div>\n",
              "<style scoped>\n",
              "    .dataframe tbody tr th:only-of-type {\n",
              "        vertical-align: middle;\n",
              "    }\n",
              "\n",
              "    .dataframe tbody tr th {\n",
              "        vertical-align: top;\n",
              "    }\n",
              "\n",
              "    .dataframe thead th {\n",
              "        text-align: right;\n",
              "    }\n",
              "</style>\n",
              "<table border=\"1\" class=\"dataframe\">\n",
              "  <thead>\n",
              "    <tr style=\"text-align: right;\">\n",
              "      <th></th>\n",
              "      <th>Company</th>\n",
              "      <th>Country</th>\n",
              "      <th>Sector</th>\n",
              "      <th>Subsector</th>\n",
              "      <th>Archetype</th>\n",
              "      <th>Valuechain</th>\n",
              "      <th>Company Profile Information</th>\n",
              "    </tr>\n",
              "  </thead>\n",
              "  <tbody>\n",
              "    <tr>\n",
              "      <th>0</th>\n",
              "      <td>AKSORN CHAROEN TAT ACT. CO.,LTD.</td>\n",
              "      <td>THAILAND</td>\n",
              "      <td>TMT</td>\n",
              "      <td>media</td>\n",
              "      <td>media_aggregator/distributor</td>\n",
              "      <td>Midstream</td>\n",
              "      <td>For over 80 years of experience in creating an...</td>\n",
              "    </tr>\n",
              "    <tr>\n",
              "      <th>1</th>\n",
              "      <td>DONGGUAN SHENGYA CLEANING APPLIAME CO.LTD</td>\n",
              "      <td>CHINA</td>\n",
              "      <td>TMT</td>\n",
              "      <td>consumer electronics</td>\n",
              "      <td>consumer electronics_distributor</td>\n",
              "      <td>Downstream</td>\n",
              "      <td>Yatai's main products cover various cleaning m...</td>\n",
              "    </tr>\n",
              "    <tr>\n",
              "      <th>2</th>\n",
              "      <td>EXIS TECH SDN. BHD.</td>\n",
              "      <td>MALAYSIA</td>\n",
              "      <td>oos</td>\n",
              "      <td>others</td>\n",
              "      <td>others</td>\n",
              "      <td>NaN</td>\n",
              "      <td>In the beginning, it started off by providing ...</td>\n",
              "    </tr>\n",
              "    <tr>\n",
              "      <th>3</th>\n",
              "      <td>BEI JING ESTRABA IMPORT AND EXPORT</td>\n",
              "      <td>CHINA</td>\n",
              "      <td>NaN</td>\n",
              "      <td>NaN</td>\n",
              "      <td>NaN</td>\n",
              "      <td>NaN</td>\n",
              "      <td>NaN</td>\n",
              "    </tr>\n",
              "    <tr>\n",
              "      <th>4</th>\n",
              "      <td>Aztech Electronics Pte Ltd</td>\n",
              "      <td>SINGAPORE</td>\n",
              "      <td>TMT</td>\n",
              "      <td>consumer electronics</td>\n",
              "      <td>consumer electronics_distributor</td>\n",
              "      <td>Downstream</td>\n",
              "      <td>Being a turnkey, one-stop integrated solutions...</td>\n",
              "    </tr>\n",
              "    <tr>\n",
              "      <th>...</th>\n",
              "      <td>...</td>\n",
              "      <td>...</td>\n",
              "      <td>...</td>\n",
              "      <td>...</td>\n",
              "      <td>...</td>\n",
              "      <td>...</td>\n",
              "      <td>...</td>\n",
              "    </tr>\n",
              "    <tr>\n",
              "      <th>995</th>\n",
              "      <td>LUX DISTRIBUTOR SDN. BHD.</td>\n",
              "      <td>MALAYSIA</td>\n",
              "      <td>cni</td>\n",
              "      <td>building_material</td>\n",
              "      <td>building_material_supplier_distributor</td>\n",
              "      <td>downstream</td>\n",
              "      <td>Lux Distributor Sdn Bhd provides building prod...</td>\n",
              "    </tr>\n",
              "    <tr>\n",
              "      <th>996</th>\n",
              "      <td>KJI INDUSTRIAL LIMITED</td>\n",
              "      <td>HONG KONG</td>\n",
              "      <td>tmt</td>\n",
              "      <td>consumer electronics</td>\n",
              "      <td>consumer electronics_distributor</td>\n",
              "      <td>downstream</td>\n",
              "      <td>Our wide product range including Citrus Juicer...</td>\n",
              "    </tr>\n",
              "    <tr>\n",
              "      <th>997</th>\n",
              "      <td>TEKNOSERV ENGINEERING SDN. BHD.</td>\n",
              "      <td>MALAYSIA</td>\n",
              "      <td>cni</td>\n",
              "      <td>utilities</td>\n",
              "      <td>utilities_developer</td>\n",
              "      <td>upstream</td>\n",
              "      <td>Teknoserv Engineering Sdn Bhd provides water s...</td>\n",
              "    </tr>\n",
              "    <tr>\n",
              "      <th>998</th>\n",
              "      <td>THERMAL SOLUTIONS ASIA PTE LTD</td>\n",
              "      <td>SINGAPORE</td>\n",
              "      <td>CNI</td>\n",
              "      <td>cni_service providers</td>\n",
              "      <td>cni_service providers</td>\n",
              "      <td>MIDSTREAM</td>\n",
              "      <td>Founded in 2000, Thermal Solutions Asia Pte Lt...</td>\n",
              "    </tr>\n",
              "    <tr>\n",
              "      <th>999</th>\n",
              "      <td>AUDIO ZOOM PTE LTD</td>\n",
              "      <td>SINGAPORE</td>\n",
              "      <td>TMT</td>\n",
              "      <td>it_services</td>\n",
              "      <td>it_services</td>\n",
              "      <td>Midstream</td>\n",
              "      <td>AUDIO ZOOM is an ACRA-registered entity that h...</td>\n",
              "    </tr>\n",
              "  </tbody>\n",
              "</table>\n",
              "<p>1000 rows × 7 columns</p>\n",
              "</div>"
            ],
            "text/plain": [
              "                                       Company  ...                        Company Profile Information\n",
              "0             AKSORN CHAROEN TAT ACT. CO.,LTD.  ...  For over 80 years of experience in creating an...\n",
              "1    DONGGUAN SHENGYA CLEANING APPLIAME CO.LTD  ...  Yatai's main products cover various cleaning m...\n",
              "2                          EXIS TECH SDN. BHD.  ...  In the beginning, it started off by providing ...\n",
              "3           BEI JING ESTRABA IMPORT AND EXPORT  ...                                                NaN\n",
              "4                   Aztech Electronics Pte Ltd  ...  Being a turnkey, one-stop integrated solutions...\n",
              "..                                         ...  ...                                                ...\n",
              "995                  LUX DISTRIBUTOR SDN. BHD.  ...  Lux Distributor Sdn Bhd provides building prod...\n",
              "996                     KJI INDUSTRIAL LIMITED  ...  Our wide product range including Citrus Juicer...\n",
              "997            TEKNOSERV ENGINEERING SDN. BHD.  ...  Teknoserv Engineering Sdn Bhd provides water s...\n",
              "998             THERMAL SOLUTIONS ASIA PTE LTD  ...  Founded in 2000, Thermal Solutions Asia Pte Lt...\n",
              "999                         AUDIO ZOOM PTE LTD  ...  AUDIO ZOOM is an ACRA-registered entity that h...\n",
              "\n",
              "[1000 rows x 7 columns]"
            ]
          },
          "metadata": {
            "tags": []
          },
          "execution_count": 8
        }
      ]
    },
    {
      "cell_type": "markdown",
      "metadata": {
        "id": "c3S6ZQzySmC0"
      },
      "source": [
        "### 3.3. Filter rows with valid data\n",
        "\n",
        "---\n",
        "\n",
        "Extract columns with Nan values and list them out here. Afterwards, gather the rows deemed suitable to process NLP."
      ]
    },
    {
      "cell_type": "code",
      "metadata": {
        "colab": {
          "base_uri": "https://localhost:8080/",
          "height": 1000
        },
        "id": "7ZLoO_4SSry7",
        "outputId": "d8f080b9-252a-40a7-a208-2fbb855b6c55"
      },
      "source": [
        "# find all the rows with nan data in sector, subsector, archetype and valuechain\n",
        "cols_to_check = ['Sector', 'Subsector', 'Archetype', 'Valuechain', 'Company Profile Information']\n",
        "empty = df_filteredCompanies[df_filteredCompanies[cols_to_check].isnull().all(1)]\n",
        "\n",
        "empty"
      ],
      "execution_count": 9,
      "outputs": [
        {
          "output_type": "execute_result",
          "data": {
            "text/html": [
              "<div>\n",
              "<style scoped>\n",
              "    .dataframe tbody tr th:only-of-type {\n",
              "        vertical-align: middle;\n",
              "    }\n",
              "\n",
              "    .dataframe tbody tr th {\n",
              "        vertical-align: top;\n",
              "    }\n",
              "\n",
              "    .dataframe thead th {\n",
              "        text-align: right;\n",
              "    }\n",
              "</style>\n",
              "<table border=\"1\" class=\"dataframe\">\n",
              "  <thead>\n",
              "    <tr style=\"text-align: right;\">\n",
              "      <th></th>\n",
              "      <th>Company</th>\n",
              "      <th>Country</th>\n",
              "      <th>Sector</th>\n",
              "      <th>Subsector</th>\n",
              "      <th>Archetype</th>\n",
              "      <th>Valuechain</th>\n",
              "      <th>Company Profile Information</th>\n",
              "    </tr>\n",
              "  </thead>\n",
              "  <tbody>\n",
              "    <tr>\n",
              "      <th>3</th>\n",
              "      <td>BEI JING ESTRABA IMPORT AND EXPORT</td>\n",
              "      <td>CHINA</td>\n",
              "      <td>NaN</td>\n",
              "      <td>NaN</td>\n",
              "      <td>NaN</td>\n",
              "      <td>NaN</td>\n",
              "      <td>NaN</td>\n",
              "    </tr>\n",
              "    <tr>\n",
              "      <th>13</th>\n",
              "      <td>CHANGTU COUNTRY LONGXING FERTILIZER CO.,LTD</td>\n",
              "      <td>CHINA</td>\n",
              "      <td>NaN</td>\n",
              "      <td>NaN</td>\n",
              "      <td>NaN</td>\n",
              "      <td>NaN</td>\n",
              "      <td>NaN</td>\n",
              "    </tr>\n",
              "    <tr>\n",
              "      <th>35</th>\n",
              "      <td>ZIBOBOSHANHONGLIWEI MOTOR CO.,LTD</td>\n",
              "      <td>CHINA</td>\n",
              "      <td>NaN</td>\n",
              "      <td>NaN</td>\n",
              "      <td>NaN</td>\n",
              "      <td>NaN</td>\n",
              "      <td>NaN</td>\n",
              "    </tr>\n",
              "    <tr>\n",
              "      <th>62</th>\n",
              "      <td>BEIJING DUO MEIDUO SHIYOU PRODUCTS SALES CO., ...</td>\n",
              "      <td>CHINA</td>\n",
              "      <td>NaN</td>\n",
              "      <td>NaN</td>\n",
              "      <td>NaN</td>\n",
              "      <td>NaN</td>\n",
              "      <td>NaN</td>\n",
              "    </tr>\n",
              "    <tr>\n",
              "      <th>79</th>\n",
              "      <td>TRUSVEST SDN. BHD.</td>\n",
              "      <td>MALAYSIA</td>\n",
              "      <td>NaN</td>\n",
              "      <td>NaN</td>\n",
              "      <td>NaN</td>\n",
              "      <td>NaN</td>\n",
              "      <td>NaN</td>\n",
              "    </tr>\n",
              "    <tr>\n",
              "      <th>108</th>\n",
              "      <td>LUOTIAN COUNTY SILICON CARBIDE PLANT</td>\n",
              "      <td>CHINA</td>\n",
              "      <td>NaN</td>\n",
              "      <td>NaN</td>\n",
              "      <td>NaN</td>\n",
              "      <td>NaN</td>\n",
              "      <td>NaN</td>\n",
              "    </tr>\n",
              "    <tr>\n",
              "      <th>111</th>\n",
              "      <td>NEWTON INTERNATIONAL (HK) LIMITED</td>\n",
              "      <td>SINGAPORE</td>\n",
              "      <td>NaN</td>\n",
              "      <td>NaN</td>\n",
              "      <td>NaN</td>\n",
              "      <td>NaN</td>\n",
              "      <td>NaN</td>\n",
              "    </tr>\n",
              "    <tr>\n",
              "      <th>129</th>\n",
              "      <td>ZHEJIANG-THAI PHOTOVOLTAIC TECHNOLOGY CO., LTD.</td>\n",
              "      <td>CHINA</td>\n",
              "      <td>NaN</td>\n",
              "      <td>NaN</td>\n",
              "      <td>NaN</td>\n",
              "      <td>NaN</td>\n",
              "      <td>NaN</td>\n",
              "    </tr>\n",
              "    <tr>\n",
              "      <th>162</th>\n",
              "      <td>RAINBOW BLISS LIMITED</td>\n",
              "      <td>SINGAPORE</td>\n",
              "      <td>NaN</td>\n",
              "      <td>NaN</td>\n",
              "      <td>NaN</td>\n",
              "      <td>NaN</td>\n",
              "      <td>NaN</td>\n",
              "    </tr>\n",
              "    <tr>\n",
              "      <th>195</th>\n",
              "      <td>VATCHAREE TANGTRAKOOLCHAROEN</td>\n",
              "      <td>THAILAND</td>\n",
              "      <td>NaN</td>\n",
              "      <td>NaN</td>\n",
              "      <td>NaN</td>\n",
              "      <td>NaN</td>\n",
              "      <td>NaN</td>\n",
              "    </tr>\n",
              "    <tr>\n",
              "      <th>220</th>\n",
              "      <td>LIAONING JINYUN ELECTROMECHANICAL EQUIPMENT CO...</td>\n",
              "      <td>CHINA</td>\n",
              "      <td>NaN</td>\n",
              "      <td>NaN</td>\n",
              "      <td>NaN</td>\n",
              "      <td>NaN</td>\n",
              "      <td>NaN</td>\n",
              "    </tr>\n",
              "    <tr>\n",
              "      <th>221</th>\n",
              "      <td>NANJING JIASHAN CONCRETE CO., LTD.</td>\n",
              "      <td>CHINA</td>\n",
              "      <td>NaN</td>\n",
              "      <td>NaN</td>\n",
              "      <td>NaN</td>\n",
              "      <td>NaN</td>\n",
              "      <td>NaN</td>\n",
              "    </tr>\n",
              "    <tr>\n",
              "      <th>226</th>\n",
              "      <td>EDC TECHNOLOGY (KUNSHAN) CO., LTD</td>\n",
              "      <td>CHINA</td>\n",
              "      <td>NaN</td>\n",
              "      <td>NaN</td>\n",
              "      <td>NaN</td>\n",
              "      <td>NaN</td>\n",
              "      <td>NaN</td>\n",
              "    </tr>\n",
              "    <tr>\n",
              "      <th>234</th>\n",
              "      <td>MARLBORO TO MOTOR (SHANGHAI) CO., LTD.</td>\n",
              "      <td>CHINA</td>\n",
              "      <td>NaN</td>\n",
              "      <td>NaN</td>\n",
              "      <td>NaN</td>\n",
              "      <td>NaN</td>\n",
              "      <td>NaN</td>\n",
              "    </tr>\n",
              "    <tr>\n",
              "      <th>262</th>\n",
              "      <td>XIAMEN XINYI SHENGFEI METAL MATERIAL SCIENCE A...</td>\n",
              "      <td>CHINA</td>\n",
              "      <td>NaN</td>\n",
              "      <td>NaN</td>\n",
              "      <td>NaN</td>\n",
              "      <td>NaN</td>\n",
              "      <td>NaN</td>\n",
              "    </tr>\n",
              "    <tr>\n",
              "      <th>312</th>\n",
              "      <td>DEKORAMIK PERDANA,PT</td>\n",
              "      <td>INDONESIA</td>\n",
              "      <td>NaN</td>\n",
              "      <td>NaN</td>\n",
              "      <td>NaN</td>\n",
              "      <td>NaN</td>\n",
              "      <td>NaN</td>\n",
              "    </tr>\n",
              "    <tr>\n",
              "      <th>321</th>\n",
              "      <td>YANCHENG HENGXIN AIR-CONDITION XIAOSHOU CO.,LTD</td>\n",
              "      <td>CHINA</td>\n",
              "      <td>NaN</td>\n",
              "      <td>NaN</td>\n",
              "      <td>NaN</td>\n",
              "      <td>NaN</td>\n",
              "      <td>NaN</td>\n",
              "    </tr>\n",
              "    <tr>\n",
              "      <th>328</th>\n",
              "      <td>GUANGZHOU EAST PLASTIC OIL DRILLING AND MINING...</td>\n",
              "      <td>CHINA</td>\n",
              "      <td>NaN</td>\n",
              "      <td>NaN</td>\n",
              "      <td>NaN</td>\n",
              "      <td>NaN</td>\n",
              "      <td>NaN</td>\n",
              "    </tr>\n",
              "    <tr>\n",
              "      <th>331</th>\n",
              "      <td>BATHROOM DESIGN COMPANY LIMITED</td>\n",
              "      <td>THAILAND</td>\n",
              "      <td>NaN</td>\n",
              "      <td>NaN</td>\n",
              "      <td>NaN</td>\n",
              "      <td>NaN</td>\n",
              "      <td>NaN</td>\n",
              "    </tr>\n",
              "    <tr>\n",
              "      <th>333</th>\n",
              "      <td>PETROLEUM NGV (UBON) CO.,LTD.</td>\n",
              "      <td>THAILAND</td>\n",
              "      <td>NaN</td>\n",
              "      <td>NaN</td>\n",
              "      <td>NaN</td>\n",
              "      <td>NaN</td>\n",
              "      <td>NaN</td>\n",
              "    </tr>\n",
              "    <tr>\n",
              "      <th>340</th>\n",
              "      <td>GUANGXI YINXIN ELECTROMECHANICAL EQUIPMENT CO....</td>\n",
              "      <td>CHINA</td>\n",
              "      <td>NaN</td>\n",
              "      <td>NaN</td>\n",
              "      <td>NaN</td>\n",
              "      <td>NaN</td>\n",
              "      <td>NaN</td>\n",
              "    </tr>\n",
              "    <tr>\n",
              "      <th>391</th>\n",
              "      <td>QUANZHOU LU:WAN TRADE CO., LTD.</td>\n",
              "      <td>CHINA</td>\n",
              "      <td>NaN</td>\n",
              "      <td>NaN</td>\n",
              "      <td>NaN</td>\n",
              "      <td>NaN</td>\n",
              "      <td>NaN</td>\n",
              "    </tr>\n",
              "    <tr>\n",
              "      <th>455</th>\n",
              "      <td>GREAT DYNASTY HK CO., LIMITED</td>\n",
              "      <td>CHINA</td>\n",
              "      <td>NaN</td>\n",
              "      <td>NaN</td>\n",
              "      <td>NaN</td>\n",
              "      <td>NaN</td>\n",
              "      <td>NaN</td>\n",
              "    </tr>\n",
              "    <tr>\n",
              "      <th>457</th>\n",
              "      <td>THE CONSORTIUM OF UAHWATANASAKUL CO.,LTD.AND P...</td>\n",
              "      <td>THAILAND</td>\n",
              "      <td>NaN</td>\n",
              "      <td>NaN</td>\n",
              "      <td>NaN</td>\n",
              "      <td>NaN</td>\n",
              "      <td>NaN</td>\n",
              "    </tr>\n",
              "    <tr>\n",
              "      <th>462</th>\n",
              "      <td>EDSUZ (HK) LIMITED</td>\n",
              "      <td>SINGAPORE</td>\n",
              "      <td>NaN</td>\n",
              "      <td>NaN</td>\n",
              "      <td>NaN</td>\n",
              "      <td>NaN</td>\n",
              "      <td>NaN</td>\n",
              "    </tr>\n",
              "    <tr>\n",
              "      <th>469</th>\n",
              "      <td>CAKRATAMA KRESNA BUANA,PT</td>\n",
              "      <td>INDONESIA</td>\n",
              "      <td>NaN</td>\n",
              "      <td>NaN</td>\n",
              "      <td>NaN</td>\n",
              "      <td>NaN</td>\n",
              "      <td>NaN</td>\n",
              "    </tr>\n",
              "    <tr>\n",
              "      <th>472</th>\n",
              "      <td>HYFLUX NEW SPRING (GUAN YUN)</td>\n",
              "      <td>CHINA</td>\n",
              "      <td>NaN</td>\n",
              "      <td>NaN</td>\n",
              "      <td>NaN</td>\n",
              "      <td>NaN</td>\n",
              "      <td>NaN</td>\n",
              "    </tr>\n",
              "    <tr>\n",
              "      <th>543</th>\n",
              "      <td>TAIZHOU HENGYUAN ARCHITECTURE MATERIAL CO.,LTD</td>\n",
              "      <td>CHINA</td>\n",
              "      <td>NaN</td>\n",
              "      <td>NaN</td>\n",
              "      <td>NaN</td>\n",
              "      <td>NaN</td>\n",
              "      <td>NaN</td>\n",
              "    </tr>\n",
              "    <tr>\n",
              "      <th>552</th>\n",
              "      <td>PAWEENA TEMVANISH</td>\n",
              "      <td>THAILAND</td>\n",
              "      <td>NaN</td>\n",
              "      <td>NaN</td>\n",
              "      <td>NaN</td>\n",
              "      <td>NaN</td>\n",
              "      <td>NaN</td>\n",
              "    </tr>\n",
              "    <tr>\n",
              "      <th>610</th>\n",
              "      <td>BBTV ALLIANCE LIMITED</td>\n",
              "      <td>SINGAPORE</td>\n",
              "      <td>NaN</td>\n",
              "      <td>NaN</td>\n",
              "      <td>NaN</td>\n",
              "      <td>NaN</td>\n",
              "      <td>NaN</td>\n",
              "    </tr>\n",
              "    <tr>\n",
              "      <th>620</th>\n",
              "      <td>SHANGHAI FANG SI TRADING CO., LTD</td>\n",
              "      <td>CHINA</td>\n",
              "      <td>NaN</td>\n",
              "      <td>NaN</td>\n",
              "      <td>NaN</td>\n",
              "      <td>NaN</td>\n",
              "      <td>NaN</td>\n",
              "    </tr>\n",
              "    <tr>\n",
              "      <th>630</th>\n",
              "      <td>JIANGSU PROVINCE AIWEITE STEEL STRUCTURE CO.,LTD</td>\n",
              "      <td>CHINA</td>\n",
              "      <td>NaN</td>\n",
              "      <td>NaN</td>\n",
              "      <td>NaN</td>\n",
              "      <td>NaN</td>\n",
              "      <td>NaN</td>\n",
              "    </tr>\n",
              "    <tr>\n",
              "      <th>654</th>\n",
              "      <td>JOVIAL PLUS LIMITED</td>\n",
              "      <td>HONG KONG</td>\n",
              "      <td>NaN</td>\n",
              "      <td>NaN</td>\n",
              "      <td>NaN</td>\n",
              "      <td>NaN</td>\n",
              "      <td>NaN</td>\n",
              "    </tr>\n",
              "    <tr>\n",
              "      <th>656</th>\n",
              "      <td>KSO SUMMARECON VARIATATA SERPONG</td>\n",
              "      <td>INDONESIA</td>\n",
              "      <td>NaN</td>\n",
              "      <td>NaN</td>\n",
              "      <td>NaN</td>\n",
              "      <td>NaN</td>\n",
              "      <td>NaN</td>\n",
              "    </tr>\n",
              "    <tr>\n",
              "      <th>664</th>\n",
              "      <td>TOWER HOPE LIMITED</td>\n",
              "      <td>SINGAPORE</td>\n",
              "      <td>NaN</td>\n",
              "      <td>NaN</td>\n",
              "      <td>NaN</td>\n",
              "      <td>NaN</td>\n",
              "      <td>NaN</td>\n",
              "    </tr>\n",
              "    <tr>\n",
              "      <th>682</th>\n",
              "      <td>GIARTO AUDRI CEMERLANG,PT</td>\n",
              "      <td>INDONESIA</td>\n",
              "      <td>NaN</td>\n",
              "      <td>NaN</td>\n",
              "      <td>NaN</td>\n",
              "      <td>NaN</td>\n",
              "      <td>NaN</td>\n",
              "    </tr>\n",
              "    <tr>\n",
              "      <th>711</th>\n",
              "      <td>DA LIAN HUAXIN ZHONG GONG GANG JIE GOU CO., LTD.</td>\n",
              "      <td>CHINA</td>\n",
              "      <td>NaN</td>\n",
              "      <td>NaN</td>\n",
              "      <td>NaN</td>\n",
              "      <td>NaN</td>\n",
              "      <td>NaN</td>\n",
              "    </tr>\n",
              "    <tr>\n",
              "      <th>778</th>\n",
              "      <td>QF NEAR TECHNOLOGY (TIAN JIN) CORP.</td>\n",
              "      <td>CHINA</td>\n",
              "      <td>NaN</td>\n",
              "      <td>NaN</td>\n",
              "      <td>NaN</td>\n",
              "      <td>NaN</td>\n",
              "      <td>NaN</td>\n",
              "    </tr>\n",
              "    <tr>\n",
              "      <th>805</th>\n",
              "      <td>BEIJING HUAFUQIN ELECTRONIC CO., LTD.</td>\n",
              "      <td>CHINA</td>\n",
              "      <td>NaN</td>\n",
              "      <td>NaN</td>\n",
              "      <td>NaN</td>\n",
              "      <td>NaN</td>\n",
              "      <td>NaN</td>\n",
              "    </tr>\n",
              "    <tr>\n",
              "      <th>828</th>\n",
              "      <td>HONG KONG JULE TRADING CO., LIMITED</td>\n",
              "      <td>HONG KONG</td>\n",
              "      <td>NaN</td>\n",
              "      <td>NaN</td>\n",
              "      <td>NaN</td>\n",
              "      <td>NaN</td>\n",
              "      <td>NaN</td>\n",
              "    </tr>\n",
              "    <tr>\n",
              "      <th>836</th>\n",
              "      <td>ZHONGSHAN TENGFA ELECTRONIC CO., LTD</td>\n",
              "      <td>CHINA</td>\n",
              "      <td>NaN</td>\n",
              "      <td>NaN</td>\n",
              "      <td>NaN</td>\n",
              "      <td>NaN</td>\n",
              "      <td>NaN</td>\n",
              "    </tr>\n",
              "    <tr>\n",
              "      <th>852</th>\n",
              "      <td>SONGYUAN WEI BO WOOD CO., LTD.</td>\n",
              "      <td>CHINA</td>\n",
              "      <td>NaN</td>\n",
              "      <td>NaN</td>\n",
              "      <td>NaN</td>\n",
              "      <td>NaN</td>\n",
              "      <td>NaN</td>\n",
              "    </tr>\n",
              "    <tr>\n",
              "      <th>892</th>\n",
              "      <td>JINHUA ZHONGDONG TOOLS CO., LTD.</td>\n",
              "      <td>CHINA</td>\n",
              "      <td>NaN</td>\n",
              "      <td>NaN</td>\n",
              "      <td>NaN</td>\n",
              "      <td>NaN</td>\n",
              "      <td>NaN</td>\n",
              "    </tr>\n",
              "    <tr>\n",
              "      <th>900</th>\n",
              "      <td>GUANGDONG HUILONG PAINT CO., LTD.</td>\n",
              "      <td>CHINA</td>\n",
              "      <td>NaN</td>\n",
              "      <td>NaN</td>\n",
              "      <td>NaN</td>\n",
              "      <td>NaN</td>\n",
              "      <td>NaN</td>\n",
              "    </tr>\n",
              "    <tr>\n",
              "      <th>903</th>\n",
              "      <td>UDUN COMMERCIAL TRADE CO.,LTD.OF HOTAN PREFECTURE</td>\n",
              "      <td>CHINA</td>\n",
              "      <td>NaN</td>\n",
              "      <td>NaN</td>\n",
              "      <td>NaN</td>\n",
              "      <td>NaN</td>\n",
              "      <td>NaN</td>\n",
              "    </tr>\n",
              "    <tr>\n",
              "      <th>943</th>\n",
              "      <td>XINYI ZHONGTIAN CHEMICAL INDUSTRY CO.,LTD</td>\n",
              "      <td>CHINA</td>\n",
              "      <td>NaN</td>\n",
              "      <td>NaN</td>\n",
              "      <td>NaN</td>\n",
              "      <td>NaN</td>\n",
              "      <td>NaN</td>\n",
              "    </tr>\n",
              "    <tr>\n",
              "      <th>958</th>\n",
              "      <td>YIBIN CITY, SICHUAN PROVINCE YANJUN TRADE CHAI...</td>\n",
              "      <td>CHINA</td>\n",
              "      <td>NaN</td>\n",
              "      <td>NaN</td>\n",
              "      <td>NaN</td>\n",
              "      <td>NaN</td>\n",
              "      <td>NaN</td>\n",
              "    </tr>\n",
              "    <tr>\n",
              "      <th>970</th>\n",
              "      <td>SINO CONCORD VENTURES LIMITED</td>\n",
              "      <td>SINGAPORE</td>\n",
              "      <td>NaN</td>\n",
              "      <td>NaN</td>\n",
              "      <td>NaN</td>\n",
              "      <td>NaN</td>\n",
              "      <td>NaN</td>\n",
              "    </tr>\n",
              "  </tbody>\n",
              "</table>\n",
              "</div>"
            ],
            "text/plain": [
              "                                               Company  ... Company Profile Information\n",
              "3                   BEI JING ESTRABA IMPORT AND EXPORT  ...                         NaN\n",
              "13         CHANGTU COUNTRY LONGXING FERTILIZER CO.,LTD  ...                         NaN\n",
              "35                   ZIBOBOSHANHONGLIWEI MOTOR CO.,LTD  ...                         NaN\n",
              "62   BEIJING DUO MEIDUO SHIYOU PRODUCTS SALES CO., ...  ...                         NaN\n",
              "79                                  TRUSVEST SDN. BHD.  ...                         NaN\n",
              "108               LUOTIAN COUNTY SILICON CARBIDE PLANT  ...                         NaN\n",
              "111                  NEWTON INTERNATIONAL (HK) LIMITED  ...                         NaN\n",
              "129    ZHEJIANG-THAI PHOTOVOLTAIC TECHNOLOGY CO., LTD.  ...                         NaN\n",
              "162                              RAINBOW BLISS LIMITED  ...                         NaN\n",
              "195                       VATCHAREE TANGTRAKOOLCHAROEN  ...                         NaN\n",
              "220  LIAONING JINYUN ELECTROMECHANICAL EQUIPMENT CO...  ...                         NaN\n",
              "221                 NANJING JIASHAN CONCRETE CO., LTD.  ...                         NaN\n",
              "226                  EDC TECHNOLOGY (KUNSHAN) CO., LTD  ...                         NaN\n",
              "234             MARLBORO TO MOTOR (SHANGHAI) CO., LTD.  ...                         NaN\n",
              "262  XIAMEN XINYI SHENGFEI METAL MATERIAL SCIENCE A...  ...                         NaN\n",
              "312                               DEKORAMIK PERDANA,PT  ...                         NaN\n",
              "321    YANCHENG HENGXIN AIR-CONDITION XIAOSHOU CO.,LTD  ...                         NaN\n",
              "328  GUANGZHOU EAST PLASTIC OIL DRILLING AND MINING...  ...                         NaN\n",
              "331                    BATHROOM DESIGN COMPANY LIMITED  ...                         NaN\n",
              "333                      PETROLEUM NGV (UBON) CO.,LTD.  ...                         NaN\n",
              "340  GUANGXI YINXIN ELECTROMECHANICAL EQUIPMENT CO....  ...                         NaN\n",
              "391                    QUANZHOU LU:WAN TRADE CO., LTD.  ...                         NaN\n",
              "455                      GREAT DYNASTY HK CO., LIMITED  ...                         NaN\n",
              "457  THE CONSORTIUM OF UAHWATANASAKUL CO.,LTD.AND P...  ...                         NaN\n",
              "462                                 EDSUZ (HK) LIMITED  ...                         NaN\n",
              "469                          CAKRATAMA KRESNA BUANA,PT  ...                         NaN\n",
              "472                       HYFLUX NEW SPRING (GUAN YUN)  ...                         NaN\n",
              "543     TAIZHOU HENGYUAN ARCHITECTURE MATERIAL CO.,LTD  ...                         NaN\n",
              "552                                  PAWEENA TEMVANISH  ...                         NaN\n",
              "610                              BBTV ALLIANCE LIMITED  ...                         NaN\n",
              "620                  SHANGHAI FANG SI TRADING CO., LTD  ...                         NaN\n",
              "630   JIANGSU PROVINCE AIWEITE STEEL STRUCTURE CO.,LTD  ...                         NaN\n",
              "654                                JOVIAL PLUS LIMITED  ...                         NaN\n",
              "656                   KSO SUMMARECON VARIATATA SERPONG  ...                         NaN\n",
              "664                                 TOWER HOPE LIMITED  ...                         NaN\n",
              "682                          GIARTO AUDRI CEMERLANG,PT  ...                         NaN\n",
              "711   DA LIAN HUAXIN ZHONG GONG GANG JIE GOU CO., LTD.  ...                         NaN\n",
              "778                QF NEAR TECHNOLOGY (TIAN JIN) CORP.  ...                         NaN\n",
              "805              BEIJING HUAFUQIN ELECTRONIC CO., LTD.  ...                         NaN\n",
              "828                HONG KONG JULE TRADING CO., LIMITED  ...                         NaN\n",
              "836               ZHONGSHAN TENGFA ELECTRONIC CO., LTD  ...                         NaN\n",
              "852                     SONGYUAN WEI BO WOOD CO., LTD.  ...                         NaN\n",
              "892                   JINHUA ZHONGDONG TOOLS CO., LTD.  ...                         NaN\n",
              "900                  GUANGDONG HUILONG PAINT CO., LTD.  ...                         NaN\n",
              "903  UDUN COMMERCIAL TRADE CO.,LTD.OF HOTAN PREFECTURE  ...                         NaN\n",
              "943          XINYI ZHONGTIAN CHEMICAL INDUSTRY CO.,LTD  ...                         NaN\n",
              "958  YIBIN CITY, SICHUAN PROVINCE YANJUN TRADE CHAI...  ...                         NaN\n",
              "970                      SINO CONCORD VENTURES LIMITED  ...                         NaN\n",
              "\n",
              "[48 rows x 7 columns]"
            ]
          },
          "metadata": {
            "tags": []
          },
          "execution_count": 9
        }
      ]
    },
    {
      "cell_type": "code",
      "metadata": {
        "colab": {
          "base_uri": "https://localhost:8080/",
          "height": 405
        },
        "id": "nrQjbN7uStmr",
        "outputId": "ae608437-38ca-4cf0-dc6f-65de1625583e"
      },
      "source": [
        "# now we get the dataset that are valid\n",
        "df_valid = pd.concat([df_filteredCompanies, empty, empty]).drop_duplicates(keep=False)\n",
        "\n",
        "df_valid"
      ],
      "execution_count": 10,
      "outputs": [
        {
          "output_type": "execute_result",
          "data": {
            "text/html": [
              "<div>\n",
              "<style scoped>\n",
              "    .dataframe tbody tr th:only-of-type {\n",
              "        vertical-align: middle;\n",
              "    }\n",
              "\n",
              "    .dataframe tbody tr th {\n",
              "        vertical-align: top;\n",
              "    }\n",
              "\n",
              "    .dataframe thead th {\n",
              "        text-align: right;\n",
              "    }\n",
              "</style>\n",
              "<table border=\"1\" class=\"dataframe\">\n",
              "  <thead>\n",
              "    <tr style=\"text-align: right;\">\n",
              "      <th></th>\n",
              "      <th>Company</th>\n",
              "      <th>Country</th>\n",
              "      <th>Sector</th>\n",
              "      <th>Subsector</th>\n",
              "      <th>Archetype</th>\n",
              "      <th>Valuechain</th>\n",
              "      <th>Company Profile Information</th>\n",
              "    </tr>\n",
              "  </thead>\n",
              "  <tbody>\n",
              "    <tr>\n",
              "      <th>0</th>\n",
              "      <td>AKSORN CHAROEN TAT ACT. CO.,LTD.</td>\n",
              "      <td>THAILAND</td>\n",
              "      <td>TMT</td>\n",
              "      <td>media</td>\n",
              "      <td>media_aggregator/distributor</td>\n",
              "      <td>Midstream</td>\n",
              "      <td>For over 80 years of experience in creating an...</td>\n",
              "    </tr>\n",
              "    <tr>\n",
              "      <th>1</th>\n",
              "      <td>DONGGUAN SHENGYA CLEANING APPLIAME CO.LTD</td>\n",
              "      <td>CHINA</td>\n",
              "      <td>TMT</td>\n",
              "      <td>consumer electronics</td>\n",
              "      <td>consumer electronics_distributor</td>\n",
              "      <td>Downstream</td>\n",
              "      <td>Yatai's main products cover various cleaning m...</td>\n",
              "    </tr>\n",
              "    <tr>\n",
              "      <th>2</th>\n",
              "      <td>EXIS TECH SDN. BHD.</td>\n",
              "      <td>MALAYSIA</td>\n",
              "      <td>oos</td>\n",
              "      <td>others</td>\n",
              "      <td>others</td>\n",
              "      <td>NaN</td>\n",
              "      <td>In the beginning, it started off by providing ...</td>\n",
              "    </tr>\n",
              "    <tr>\n",
              "      <th>4</th>\n",
              "      <td>Aztech Electronics Pte Ltd</td>\n",
              "      <td>SINGAPORE</td>\n",
              "      <td>TMT</td>\n",
              "      <td>consumer electronics</td>\n",
              "      <td>consumer electronics_distributor</td>\n",
              "      <td>Downstream</td>\n",
              "      <td>Being a turnkey, one-stop integrated solutions...</td>\n",
              "    </tr>\n",
              "    <tr>\n",
              "      <th>5</th>\n",
              "      <td>TONGDUN INTERNATIONAL PTE LTD</td>\n",
              "      <td>SINGAPORE</td>\n",
              "      <td>tmt</td>\n",
              "      <td>it_services</td>\n",
              "      <td>it_services</td>\n",
              "      <td>midstream</td>\n",
              "      <td>Tongdun Technology is a professional third-par...</td>\n",
              "    </tr>\n",
              "    <tr>\n",
              "      <th>...</th>\n",
              "      <td>...</td>\n",
              "      <td>...</td>\n",
              "      <td>...</td>\n",
              "      <td>...</td>\n",
              "      <td>...</td>\n",
              "      <td>...</td>\n",
              "      <td>...</td>\n",
              "    </tr>\n",
              "    <tr>\n",
              "      <th>995</th>\n",
              "      <td>LUX DISTRIBUTOR SDN. BHD.</td>\n",
              "      <td>MALAYSIA</td>\n",
              "      <td>cni</td>\n",
              "      <td>building_material</td>\n",
              "      <td>building_material_supplier_distributor</td>\n",
              "      <td>downstream</td>\n",
              "      <td>Lux Distributor Sdn Bhd provides building prod...</td>\n",
              "    </tr>\n",
              "    <tr>\n",
              "      <th>996</th>\n",
              "      <td>KJI INDUSTRIAL LIMITED</td>\n",
              "      <td>HONG KONG</td>\n",
              "      <td>tmt</td>\n",
              "      <td>consumer electronics</td>\n",
              "      <td>consumer electronics_distributor</td>\n",
              "      <td>downstream</td>\n",
              "      <td>Our wide product range including Citrus Juicer...</td>\n",
              "    </tr>\n",
              "    <tr>\n",
              "      <th>997</th>\n",
              "      <td>TEKNOSERV ENGINEERING SDN. BHD.</td>\n",
              "      <td>MALAYSIA</td>\n",
              "      <td>cni</td>\n",
              "      <td>utilities</td>\n",
              "      <td>utilities_developer</td>\n",
              "      <td>upstream</td>\n",
              "      <td>Teknoserv Engineering Sdn Bhd provides water s...</td>\n",
              "    </tr>\n",
              "    <tr>\n",
              "      <th>998</th>\n",
              "      <td>THERMAL SOLUTIONS ASIA PTE LTD</td>\n",
              "      <td>SINGAPORE</td>\n",
              "      <td>CNI</td>\n",
              "      <td>cni_service providers</td>\n",
              "      <td>cni_service providers</td>\n",
              "      <td>MIDSTREAM</td>\n",
              "      <td>Founded in 2000, Thermal Solutions Asia Pte Lt...</td>\n",
              "    </tr>\n",
              "    <tr>\n",
              "      <th>999</th>\n",
              "      <td>AUDIO ZOOM PTE LTD</td>\n",
              "      <td>SINGAPORE</td>\n",
              "      <td>TMT</td>\n",
              "      <td>it_services</td>\n",
              "      <td>it_services</td>\n",
              "      <td>Midstream</td>\n",
              "      <td>AUDIO ZOOM is an ACRA-registered entity that h...</td>\n",
              "    </tr>\n",
              "  </tbody>\n",
              "</table>\n",
              "<p>950 rows × 7 columns</p>\n",
              "</div>"
            ],
            "text/plain": [
              "                                       Company  ...                        Company Profile Information\n",
              "0             AKSORN CHAROEN TAT ACT. CO.,LTD.  ...  For over 80 years of experience in creating an...\n",
              "1    DONGGUAN SHENGYA CLEANING APPLIAME CO.LTD  ...  Yatai's main products cover various cleaning m...\n",
              "2                          EXIS TECH SDN. BHD.  ...  In the beginning, it started off by providing ...\n",
              "4                   Aztech Electronics Pte Ltd  ...  Being a turnkey, one-stop integrated solutions...\n",
              "5                TONGDUN INTERNATIONAL PTE LTD  ...  Tongdun Technology is a professional third-par...\n",
              "..                                         ...  ...                                                ...\n",
              "995                  LUX DISTRIBUTOR SDN. BHD.  ...  Lux Distributor Sdn Bhd provides building prod...\n",
              "996                     KJI INDUSTRIAL LIMITED  ...  Our wide product range including Citrus Juicer...\n",
              "997            TEKNOSERV ENGINEERING SDN. BHD.  ...  Teknoserv Engineering Sdn Bhd provides water s...\n",
              "998             THERMAL SOLUTIONS ASIA PTE LTD  ...  Founded in 2000, Thermal Solutions Asia Pte Lt...\n",
              "999                         AUDIO ZOOM PTE LTD  ...  AUDIO ZOOM is an ACRA-registered entity that h...\n",
              "\n",
              "[950 rows x 7 columns]"
            ]
          },
          "metadata": {
            "tags": []
          },
          "execution_count": 10
        }
      ]
    },
    {
      "cell_type": "code",
      "metadata": {
        "colab": {
          "base_uri": "https://localhost:8080/"
        },
        "id": "IuYZkLS8fkjV",
        "outputId": "06aa6efa-d8bd-4136-e071-0bce366ed620"
      },
      "source": [
        "# now we check the count of the total filtered dataset again\n",
        "df_filterCount = df_valid['Company'].count()\n",
        "\n",
        "print('Total number of filtered records:', df_filterCount)"
      ],
      "execution_count": 11,
      "outputs": [
        {
          "output_type": "stream",
          "text": [
            "Total number of filtered records: 950\n"
          ],
          "name": "stdout"
        }
      ]
    },
    {
      "cell_type": "markdown",
      "metadata": {
        "id": "gf69nqOrWr_b"
      },
      "source": [
        "### 3.4. Get graphical overview of dataset\n",
        "\n",
        "---\n",
        "\n",
        "Get visualised information of the dataset to understand the dataset better."
      ]
    },
    {
      "cell_type": "code",
      "metadata": {
        "colab": {
          "base_uri": "https://localhost:8080/",
          "height": 724
        },
        "id": "dRLIFECVS1os",
        "outputId": "55d8ba92-fff2-4087-c9f0-76db8352afb1"
      },
      "source": [
        "sns.set_style('darkgrid')\n",
        "plt_dims = (30, 13)\n",
        "fig, ax = plt.subplots(figsize=plt_dims)\n",
        "\n",
        "# plot a barplot to see number of companies that belongs to specific sectors\n",
        "sns.countplot(x=\"Sector\", data=df_valid, ax=ax)\n",
        "plt.show()"
      ],
      "execution_count": 12,
      "outputs": [
        {
          "output_type": "display_data",
          "data": {
            "image/png": "[encoded data removed]",
            "text/plain": [
              "<Figure size 2160x936 with 1 Axes>"
            ]
          },
          "metadata": {
            "tags": []
          }
        }
      ]
    },
    {
      "cell_type": "markdown",
      "metadata": {
        "id": "1EyLs8d1TfSw"
      },
      "source": [
        "<div class=\"alert alert-block alert-info\">\n",
        "    <b>Analysis Summary:</b> We see that most of the companies comes from the CNI(Construction And Infrastructure), with TMT(Technology, Media and Telecomm) sector.\n",
        "</div>"
      ]
    },
    {
      "cell_type": "code",
      "metadata": {
        "id": "SwMqcB0MStbJ",
        "colab": {
          "base_uri": "https://localhost:8080/",
          "height": 717
        },
        "outputId": "0fa7c6b9-5253-4107-d655-08aeaa710f1d"
      },
      "source": [
        "# Pie chart\n",
        "labels = list(df_valid['Country'].unique())\n",
        "sizes = list(df_valid['Country'].value_counts())\n",
        "\n",
        "plt_dims = (30, 13)\n",
        "fig1, ax1 = plt.subplots(figsize=plt_dims)\n",
        "ax1.pie(sizes, labels=labels, autopct='%1.1f%%',\n",
        "        shadow=True, startangle=90)\n",
        "# Equal aspect ratio ensures that pie is drawn as a circle\n",
        "ax1.axis('equal')  \n",
        "plt.tight_layout()\n",
        "plt.show()"
      ],
      "execution_count": 13,
      "outputs": [
        {
          "output_type": "display_data",
          "data": {
            "image/png": "[encoded data removed]",
            "text/plain": [
              "<Figure size 2160x936 with 1 Axes>"
            ]
          },
          "metadata": {
            "tags": []
          }
        }
      ]
    },
    {
      "cell_type": "markdown",
      "metadata": {
        "id": "A73dge-zZhSD"
      },
      "source": [
        "<div class=\"alert alert-block alert-info\">\n",
        "    <b>Analysis Summary:</b> We see that most of the companies are Singapre-Based companies, followed up by Hong Kong, Indonesia and so on.\n",
        "</div>"
      ]
    },
    {
      "cell_type": "markdown",
      "metadata": {
        "id": "L3bMDdQTfTnX"
      },
      "source": [
        "### 3.5. See examples of company description\n",
        "\n",
        "---\n",
        "\n",
        "We would now like to see some examples of the company descriptions in order to undestand later how to preprocess them later on."
      ]
    },
    {
      "cell_type": "code",
      "metadata": {
        "id": "LBQ4Ml5gfkg7",
        "colab": {
          "base_uri": "https://localhost:8080/"
        },
        "outputId": "4faa0428-d82a-49bf-d43b-5c9c7c3a26cd"
      },
      "source": [
        "# configurate pandas dataframe to let us see the entire company description IN FULL\n",
        "pd.set_option('display.max_colwidth', None)\n",
        "\n",
        "# get the 1st 50 results and observe\n",
        "df_valid.loc[0:49,'Company Profile Information']"
      ],
      "execution_count": 14,
      "outputs": [
        {
          "output_type": "execute_result",
          "data": {
            "text/plain": [
              "0                                                                                                                                                                                                                                                                                                                                                                                                                                                                                                                                                                                                                                                                                                                                                                                                                                                                                                                                                                                                                                                                                                                                                                                                                                                                                                                                   For over 80 years of experience in creating and developing high-quality learning materials has enabled us to provide world-class educational innovation to meet the needs of all teachers, students, institutions and educational authorities.\n",
              "1                                                                                                                                                                                                                                                                                                                                                                                                                                                                                                                                                                                                                                                                                                                                                                                                                                                                                                                                                                                                                                                                                                                                                                                                                                                                                               Yatai's main products cover various cleaning machinery, cleaning agents, cleaning tools, stone maintenance and other cleaning products; cleaning solutions and services include product technical consultation, product customization, employee training, maintenance and so on.\\n\n",
              "2                                                                                                                                                                                                                                                                                                                                                                                                                                                                                                                                                                                                                                                                                                                                                                                                                                                                                                                                                                                                                                                                                                                                                                                                                        In the beginning, it started off by providing technical support for test handlers, then moving into module design and production. Its first, in-house designed, full-fledged handler was introduced in 2008.\\nSince then, the company has designed and produced a wide range of turret and pick-and-place solutions for its customers all over the world.\n",
              "4                                                                                                                                                                                                                                                                                                                                                                                                                                                                                                                                                                                                                                                                                                                                                                                                                                                                                                                                                                                                                                     Being a turnkey, one-stop integrated solutions provider based in Singapore, Aztech is equipped with state-of-the-art equipment, R&D, design, manufacturing and packaging capabilities to deliver a seamless, unified experience. Each and every time. Always striving towards the edge of technology for more than 34 years, we have been building capabilities to serve clients’ manufacturing needs, including the consumer electronics, telecommunications, healthtech, LED lighting, automotive and technology start-up market segments.\n",
              "5                                                                                                                                                                                                                                                                                                                                                                                                                                                                                                                                                                                                                                                                                                                                                                                                                                                                                                                                                                Tongdun Technology is a professional third-party intelligent risk management and decision-making service provider headquartered in Hangzhou, Zhejiang. By integrating artificial intelligence into business scenarios, Tongdun Technology offers solutions in intelligent user analysis, intelligent risk management, intelligent antifraud and intelligent operation to clients from various industries including financial industry, internet business, logistics, healthcare, retail, smart cities and government bodies. Over 10,000 corporate clients have chosen Tongdun Technology’s products and services\n",
              "6                                                                                                                                                                                                                                                                                                                                                                                                                                                                                                                                                                                                                                                                                                                                                                                                                                                                                                                                                                                                                                                                                                                                                                                                                                                                                                                                                             For over 30 years, EMASTIGA has been servicing the construction and the oil and gas industries with distinction.We try our hardest to create win-win situations and value-add to our clients with every transaction.\n",
              "7                                                                                                                                                                                                                                                                                                                                                                                                                                                                                                                                                                                                                                                                                                                                                                                                                                                                                                                                                                                                                                                                                                                                                                                                                                                                                                                                                                                                                                                                                                                                           Sales of hydraulic equipment and parts\n",
              "8                                                                                                                                                                                                                                                                                                                                                                                                                                                                                                                                                                                                                                                                                                                                                                                                                                                                                                                                                                                                                                                                                                                                                                                                                                                                                                                                                                                                                                                                                                               WHOLESALE OF TELECOMMUNICATIONS EQUIPMENT (EXCLUDING HANDPHONES)\\n\n",
              "9                                                                                                                                                                                                                                                                                                                                                                                                                                                                                                                                                                                                                                                                                                                                                                                                                                                                                                                                                                                                                                                                                                                                                                                                                                                                 For Excelkos, it all started with a far-sighted vision to deliver quality industrial products and solutions to meet the increasing demands of various industries. ​ The vision became a reality in 1988 when the Excelkos Group was established to distribute and provide quality rubber industrial chemicals. ​\n",
              "10                                                                                                                                                                                                                                                                                                                                                                                                                                                                                                                                                                                                                                                                                                                                                                                                                                                                                                                                                                                                                                                                                                                                                                                                                                                                                                                                                                                                                  Kum Eng Huat is the authorised dealer for Osram and Philips, as well as a trusted supplier of lighting solutions for major projects with the local government.\n",
              "11                                                                                                                                                                                                                                                                                                                                                                                                                                                                                                                                                                                                                                                                                                                                                                                                                                                                                                                                                                                                                                                                                                                                                                                                                                                                                                                                                                                                                                                                                                                 Wholesale of other building_materials, not elsewhere classified\n",
              "12                                                                                                                                                                                                                                                                                                                                                                                                                                                                                                                                                                                                                             Power Line Engineering Public Co., Ltd was established on July 8th, 1988 by a group of engineers led by Mr. Swake Srisuchart and Mr. Amnuay Kanjanopas, to engage in the services of the design, engineering and installation of mechanical and electrical (M&E) system and civil construction for offices, hotels, complex and plaza buildings, hospitals and factories. To be in line with the company’s expansion, the company was registered to be a public company on August 29th, 2002 and its shares were listed and floated in the Stock Exchange of Thailand on December 12th, 2002. The company’s services can be classified into 5 main areas, according to the systems being installed, including electrical system, telecommunication system, air conditioning system, plumbing & sanitary and fire protection system and civil construction for both private and government sectors through being main contractor and sub-contractor.\n",
              "14                                                                                                                                                                                                                                                                                                                                                                                                                                                                                                                                                                                                                                                                                                                                                                                                                                                                                                                                                                                                                                                                                                                                                                                                                                                                                                         Welcome to SECCO, Thailand’s leading engineering and construction ﬁrm. 30 years and counting. we've been there every step of the way when it comes to electrical, communication. construction, mechanical, high voltage and other design and value engineering systems.\n",
              "15                                                                                                                                                                                                                                                                                                                                                                                                                                                                                                                                                                                                                                                                                                                                                                                                                                                                                                                                                                                                                                                                                                                                                    COMPRO INNOVA SOLUTION is an ACRA-registered entity that has been operating for 2 years 11 months in Singapore since its incorporation y in 2018. Officially, COMPRO INNOVA SOLUTION PTE. LTD. is registered as Exempt Private Limited Company with its address in District 1 (Raffles Place, Cecil, Marina, People's Park), primarily operates in the sector of \"DEVELOPMENT OF E-COMMERCE APPLICATIONS\", SSIC code - 62011\n",
              "16                                                                                                                                                                                                                                                                                                                                                                                                                                                                                                                                                                                                                                                                                                                                                                                                                                                                                                                                                                                                                                                                                                                                                                                                                                                                                                                                                                                                                                                                                                                                                    General building contractor.\n",
              "17                                                                                                                                                                                                                                                                                                                                                                                                                                                                                                                                                                                                                                                                                                                                                                                                                                                                                                                                                                                                                                                                                     Gree Electric Appliances, Inc. of Zhuhai was founded in 1991 and it was listed on the Shenzhen Stock Exchange in November 1996. At the beginning, Gree was only a company that assembled residential air conditioners. Now it has grown into a diversified technological global industrial group that has expanded its business to air conditioners, home appliances, high-end equipment and communication equipment. Gree products are sold widely to more than 160 countries and regions.\n",
              "18                                                                                                                                                                                                                                                                                                                                                                                                                                                                                                                                                                                                                                                                                                                                                                                                                                                                                                                                                               Since the inception of our operations, our primary objective has been to position our firm as one of the top contract manufacturers to cater to the mushrooming of outsourcing activities from the developed countries. Our aim is to provide an under-one-roof manufacturing facility and thereby offer a holistic approach to meet customers' ever growing demand. ProductsCapability to manufacture products covering a full range of industries: Industrial controls, Consumer electronics, Automotive, Office equipment, Security, Safety & Lighting systems, Aerospace, Medical devices, Telecommunication.\n",
              "19                                                                                                                                                                                                                                                                                                                                                                                                                                                                                                                                                                                                                                                                                                                                                                                                                                                                                                                                                                                                                                                                                                                                                                                                                                                                                                                                                                                                                                                                                                                                   Lubricated fuel distributor (service station)\n",
              "20                                                                                                                                                                                                                                                                                                                                                                                                                                                                                                                                                                                                                                                                                                                                                                                                                                                                                                                                                                                                                                                                                                                                                                                                                                                                                                                                                                                                                   Hanwha International (S) Pte Ltd was founded in 1991. The company's line of business includes the wholesale distribution of petroleum and petroleum products.\n",
              "21                                                                                                                                                                                                                                                                                                                                                                                                                                                                                                                                                                                                                                                                                                                                                                                                                                                                                                                                                                                                                                                                                                                                                                                                                                                                                                                                                                                                                                      Hor Kew Corporation Limited is a building construction group, providing an integrated range of construction-related products and services.\n",
              "22                                                                                                                                                                                                                                                                                                                                                                                                                                                                                                                                                                                                                                                                                                                                                                                                                                                                                                                                                                                                                                                                                                                                                                                                                                                                                                                                                                                                                                                                                                                  ELECTRICAL AND ENGINEERING CONTRACTOR AND INVESTMENT HOLDING\\n\n",
              "23                                                                                                                                                                                                                                                                                                                                                                                                                                                                                                                                                                                                                                                                                                                                                                                          PNT Marketing Sdn Bhd is now one of the largest wholesaler for electrical accessories in its well know brand, namely MD, SJP and ADS in Malaysia. We also have the largest stock around in Malaysia. At PNT Marketing Sdn Bhd we understand all your electrical needs and we are proud to be able to provide all your electrical needs under one roof. Also, PNT Marketing Sdn Bhd electrical accessories products, such as Socket, Plug Top, Timer and Adaptor are all complied to the most stringent safety standards of Malaysia SIRIM.\\n\\nOur company's extensive wide range of product are to meet the demand of all industries such as engineering, construction, contractors, wholesaler, retailer, lighting industry, supermarkets, hardware, DIY etc. and the export markets.\n",
              "24                                                                                                                                                                                                                                                                                                                                                                                                                                                                                                                                                                                                                                                                                                                                                                                                                                                                                                                                                                                                                                                                                                                                                                                                                       T&L Premium Sdn Bhd is a company based in Malaysia, with its head office in Kuala Lumpur. It operates in the Miscellaneous Durable Goods Merchant Wholesalers industry. The company was established on July 13, 2011. In 2019, the company reported a net sales revenue increase of 48.96%. A negative growth of 16.01% was recorded in its total assets.\n",
              "25                                                                                                                                                                                                                                                                                                                                                                                                                                                                                                                                                                                                                                                                                                                                                                                                                                                                                                           Science-Tech Solutions Sdn Bhd (STS), established in 1993, is an Engineering Constructions and Technical Services Provider for the Oil, Gas and Petrochemical (OGP) Industry and other Industrial Sectors. Our areas of expertise include Project Management, Engineering Procurement Constructions and Commissioning (EPCC), Plant Maintenance, Revamp, Shutdown and Turnaround. \\nBasically, we can summarised as follows:\\nA. Civil and Building Constructions and Commissioning\\nB. Plant Construction and Mechanical Erection\\nC. Plant Maintenance and Revamp\\nD. Plant Shutdown and Turnaround\\nE. Piping and Structural Fabrication\\nF. Industrial Automation\n",
              "26                                                                                                                                                                                                                                                                                                                                                                                                                                                                                                                                                                                                                                                                                                                                                                                                                                                                                                                                                                                                                                                                                                                                                                                                                                                                                                                                                                                                         Advanide Pte. Ltd. was founded in 1998. The Company's line of business includes the wholesale distribution of electronic parts and electronic communications equipment.\n",
              "27                                                                                                                                                                                                                                                                                                                                                                                                                                                                                                                                                                                                                                                                                                                                                                                                                                                                                                                                                                                                                                                                                                                                                                                                                                                                                                                                                                                                                                                                                                                                                             PROPERTY INVESTMENT\n",
              "28                                                                                                                                                                                                                                                                                                                                                                                                                                                                                                                                                                                                                                                                                                                                                                                                                                                                                                                                                                                                                                                                                                                                                                                                                                                                                                                                                                                                                        OTHER HOLDING COMPANIES\\nWIRED TELECOMMUNICATIONS NETWORK OPERATION (INCLUDING FIXED-LINE, FIBRE OPTICS, LOCAL/INTERNATIONAL PSTN AND LEASED CIRCUITS)\\n\n",
              "29                                                                                                                                                                                                                                                                                                                                                                                                                                                                                                                                                                                                                                                                                                                                                                                                                                                         United Business Solutions Limited (UBS), with a paid-up capital of THB 62 million (USD 1.86 million) is an experienced IT solutions, IT outsourcing and services provider to all sectors of the Thailand market. Established in 1989 with 8 employees, we have grown to a staff strength of 150 IT professionals today. Technology is critical and using the right technology will increase the productivity and efficiency of an organisation. UBS is a mature organisation delivering IT products, solutions and services to businesses ranging from small to large enterprises. We have the industry knowledge and expertise to meet the technology needs of our customers and help them gain competitive advantage.\n",
              "30                                                                                                                                                                                                                                                                                                                                                                                                                                                                                                                                                                                                                                                                                                                                                                                                                                                                                                                              Aerial Lift is the Official Distributor of JLG Access Equipment for Malaysia and is a wholly owned subsidiary of TVH, international distributor of fork-lifts, access equipment and its spare parts.\\n\\nWe are dedicated to providing comprehensive sales & service solutions to the access needs of the rental industry and offer a wide range of financing options and technical support to help the rental companies in expanding and renewing their rental fleets.\\n\\nAerial Lift aims to provide their customers with high-quality machines with a view to raising the industry standard of the access equipment industry in South East Asia.\n",
              "31                                                                                                                                                                                                                                                                                                                                                                                                                                                                                                                                                                                                                                                                                                                                                                                                                                                                                                                                                                                                                                                                                     Weng Zheng Marketing Sdn Bhd is an enterprise in Malaysia, with the main office in Seri Kembangan. The enterprise operates in the Iron and Steel Mills and Ferroalloy Manufacturing industry. The company was established on August 17, 1995. The company’s latest financial report indicates a net sales revenue increase of 11.79% in 2019. Over the same period, its total assets decreased by 0.03%. The net profit margin of Weng Zheng Marketing Sdn Bhd decreased by 14.07% in 2019.\n",
              "32                                                                                                                                                                                                                                                                                                                                                                                                                                                                                                                                                                                                                                                                                                                                                                                                                                                                                                                                                                                                                                                                                                                                                                                                                                                                                                                                                                                                                                                  Product description\\n\\nประกอบกิจการผลิตผลิตภัณฑ์ที่ทำจากเหล็ก \\nTranslation: Entrepreneurship, produce products made of steel.\n",
              "33                                                                                                                                                                                                                                                                                                                                                                                                                                                                                                                                                            Artich Display (Changshu) Co., Ltd. was established on January 26, 2014. Legal representative NATHAN RICHARD LOUIS, the company's business scope includes: design, research and development, production of display stands, shelves and accessories, sales of self-produced products; provision of warehousing, installation, after-sales and maintenance services and technical consulting services; toy model wholesale, Retail; engaged in the import and export of goods and technology, except for the commodities and technologies that the state restricts or prohibits the import and export of goods and technologies; engaged in the wholesale, import and export business and commission agency of display stands, shelves, electronic equipment and related ancillary products (excluding auctions ) (Does not involve state-owned trade management commodities, but involves quota and license management, apply in accordance with relevant national regulations) and related supporting services, etc.\n",
              "34                                                                                                                                                                                                                                                                                                                                                                                                                                                                                                                                                                                                                                                                                                                                                                                                                                                                                                                                                                                                                                                                                                                                                                                                                                                                                                                                                                                                             Serial System is a leading authorized distributor of electronic components and maintains one of largest electronic distribution network in the Asia Pacific region.\n",
              "36                                                                                                                                                                                                                                                                                                                                                                                                                                                                                                                                                                                                                                                                                                                                                                                                                                                                                                                                                                                                                                                                                                                                                                                                                                                                                                                                                                                                          Matrix Excelcon Sdn Bhd is based in Malaysia, with the head office in Bandar Sri Sendayan. The enterprise operates in the Wholesale Trade Agents and Brokers industry.\n",
              "37                                                                                                                                                                                                                                                                                                                                                                                                                                                                                                                                                                                                                                                                                                                                                                                                                                                                                                                                                                                                                                                                                                                                                                                                                                                                  Suntiga Concrete stands for quality, reliability and agility in manufacturing and supplying ready-mixed concrete to its many partners and clients. For the past 19 years, we have been serving our customers across Malaysia and have proven to be their dependable ready-mixed concrete supplier in Malaysia.\n",
              "38                                                                                                                                                                                                                                                                                                                                                                                                                                                                                                                                                                                                                                                                                                                                                                                                                                                                                                                                                                                                                                                                                                                       PAN PAC RESOURCES is an ACRA-registered entity that has been operating for 7 years in Singapore since its incorporation y in 2014. Officially, PAN PAC RESOURCES PTE. LTD. is registered as Exempt Private Limited Company with its address in District 14 (Geylang, Eunos), primarily operates in the sector of \"WHOLESALE OF CONSTRUCTION MATERIALS, HARDWARE, PLUMBING AND HEATING EQUIPMENT AND SUPPLIES N.E.C. (EG CEMENT, SAND)\", SSIC code - 46639\n",
              "39    The seeds for GATES PCM CONSTRUCTION LTD, were sown as early as 1983, when CEO & FOUNDER, MR KRISHNA, founded his first Piling & Civil engineering company known as Denwick Piling & Civil Engineering. Having worked on projects locally in Singapore and regionally in countries like Malaysia and Sri Lanka, the company and its management had garnered much experience and expertise in not just piling works, but also a variety of construction works that included those in the railway industry locally and regionally. In 2000, with an abundance of opportunities emerging in the railway construction sector, Denwick found it to be the right time to change tracks and focus on the railway construction sector. It re-branded itself as GATES PCM CONSTRUCTION LTD and forged to become a specialist in railway projects. Since the birth of GATES PCM CONSTRUCTION LTD, the company has transformed itself from a firm dealing in Civil Engineering works & manpower resource management to become a sub-contractor in major railway projects such as the CIRCLE LINE project, DOWNTOWN LINE 1, 2 & 3. In recent times, with its staff gaining more experience in railway linking and laying works, it has further diversified its capabilities to handle track maintenance works as well. With the solid foundations that GATES PCM CONSTRUCTION LTD built under its long history in the construction and railway industries, the company has found the courage to move forward from strength to strength and the tenacity to take adversity in its stride.\n",
              "40                                                                                                                                                                                                                                                                                                                                                                                                                                                                                                                                                                                                                                                                                                                                                                                                                                                                                                                                                                                                                                                                                                                                       Hangzhou Huari Marketing Co., Ltd. was established on March 10, 2009. The legal representative Sheng Jun, the company's business scope includes: wholesale and retail: household appliances, hardware, department stores; import and export of goods (except for items prohibited by laws and administrative regulations, and items restricted by laws and administrative regulations can only be operated after obtaining permits) Wait.\n",
              "41                                                                                                                                                                                                                                                                                                                                                                                                                                                                                                                                                                                                                                                                                                                                                                                                                                                                                                                               The key shareholders of the company are a registered professional engineer and a registered architect and together they bring about complementary synergies todrive the company in its quest to provide functional and aesthetically appealing solar energy solutions to meet their Client's needs. It is the company's vision that by designing effective and creative solar energy solutions, they will enthuse and attract more building owners to consider solar energy as an alternative or to supplement their energy needs. In turn, this strategy will help to cut down carbon emissions from our home country and to the world at large.\n",
              "42                                                                                                                                                                                                                                                                                                                                                                                                                                                                                                                                                                                                                                                                                                                                                                                                                                                                                                                                                                                                                                                                                                                                                                                                    Founded in 1980, ASJ has evolved to become one of the world's leading manufacturers of resistors. Headquartered in Singapore, ASJ offers a comprehensive portfolio of resistors manufactured to meet the highest quality and technical standards. Equipped with an excellent global logistics network, ASJ delivers to a wide range of customers in various market segments.\n",
              "43                                                                                                                                                                                                                                                                                                                                                                                                                                                                                                                                                                                                                                                                                                                                                                                                                                                                                                   Established in 2013, Easteel Services (Malaysia) Sdn Bhd is a wholly owned subsidiary of NatSteel Holdings Pte Ltd. Located at Senai Industrial Park, Johor Bahru, our 25,000 square metre facility is a full-fledged downstream plant that generates over 40,000 tonnes of products each year. Easteel offers prefabricated solutions and services for the construction industry, enabling customers to significantly enhance productivity and safety. Our welded meshes, cut-and-bend products, couplers and wire processing services are tailored according to customers’ requirements and aligned with stringent quality assurances such as ISO 9001 and SIRIM standards.\n",
              "44                                                                                                                                                                                                                                                                                                                                                                                                                                                                                                                                                                                                                                                                                                                                                                                                                                                                                                                                                                                                                                                                                                                                                                                                                    Along the way, more International electrical and stationery brands such as Parker, Waterman, Sharpie, Kuvings, Severin and more were added to our portfolio. Our products are imported directly from its country of origin and are then redistributed to retail outlets in Singapore. There is no involvement in alteration or modification of our products.\n",
              "45                                                                                                                                                                                                                                                                                                                                                                                                                                                                                                                                                                                                                                                                                                                                                                                                                                                                                                                                                                                                                                                                                                                                                                                                                                                                                                                                                                                                                                                                                                                                                                    gas stations\n",
              "46                                                                                                                                                                                                                                                                                                                                                                                                                                                                                                                                                                                                                                                                                                                                                                                                                                                                                                                                                                                                                                                                                                                                                                                                                                                                                                                                                                                                                                                                                                                                                               Fuel distribution\n",
              "47                                                                                                                                                                                                                                                                                                                                                                                                                                                                                                                                                                                                                                                                                                                                                                                                                                                                                                                                                                                                                                                                                                                                                                                                                                                                                                                                                                                                                                                    The company provides full design, consultancy and installation services for all mechanical, electrical and plumbing systems.\n",
              "48                                                                                                                                                                                                                                                                                                                                                                                                                                                                                                                                                                                                                                                                                                                                                                                                                                                                                                                                                                                                                                                                                                                                                                                                                                                                                                                                                                                                                                                                                                                                                 Ready-mixed concrete production\n",
              "49                                                                                                                                                                                                                                                                                                                                                                                                                                                                                                                                                                                                                                                                                                                                                                                                                                                                                                                                                                                                                                                                                                                                                                                                                                                                                                                                                               The company manufactures a wide selection of medical disposables. Its manufacturing activity covers initial design, prototype testing and eventual mass production for in-house products as well as OEM products.\n",
              "Name: Company Profile Information, dtype: object"
            ]
          },
          "metadata": {
            "tags": []
          },
          "execution_count": 14
        }
      ]
    },
    {
      "cell_type": "markdown",
      "metadata": {
        "id": "x50UFKzNkezP"
      },
      "source": [
        "<div class=\"alert alert-block alert-info\">\n",
        "    <b>Analysis Summary:</b> We do realise that some of the company profile message have some breaks in between like '\\n'. Now, we will have to take away all these problems so that it is one string of paragraph with no such annotations in betweeen.\n",
        "</div>"
      ]
    },
    {
      "cell_type": "markdown",
      "metadata": {
        "id": "ETEpM1eCk9Cf"
      },
      "source": [
        "---\n",
        "---"
      ]
    },
    {
      "cell_type": "markdown",
      "metadata": {
        "id": "l0rub1v2k-dq"
      },
      "source": [
        "# 4.Data Preprocessing"
      ]
    },
    {
      "cell_type": "markdown",
      "metadata": {
        "id": "ZxCABlrVlDW6"
      },
      "source": [
        "### 4.1. Removing `\\n`\n",
        "\n",
        "---\n",
        "\n",
        "Now, we will like to standardize all the paragraphs such that the are homogenous, before we tokenize the paragraph."
      ]
    },
    {
      "cell_type": "code",
      "metadata": {
        "id": "MAq4hq6XlMBp",
        "colab": {
          "base_uri": "https://localhost:8080/"
        },
        "outputId": "f272c719-0b7c-4a6a-f914-831f9306d36b"
      },
      "source": [
        "# get rid of the \\n found in the respective descriptions\n",
        "df_valid = df_valid.replace('\\n',' ', regex=True)\n",
        "\n",
        "# now we validate to see if theye are really gone\n",
        "df_valid.loc[0:49,'Company Profile Information']"
      ],
      "execution_count": 15,
      "outputs": [
        {
          "output_type": "execute_result",
          "data": {
            "text/plain": [
              "0                                                                                                                                                                                                                                                                                                                                                                                                                                                                                                                                                                                                                                                                                                                                                                                                                                                                                                                                                                                                                                                                                                                                                                                                                                                                                                                                   For over 80 years of experience in creating and developing high-quality learning materials has enabled us to provide world-class educational innovation to meet the needs of all teachers, students, institutions and educational authorities.\n",
              "1                                                                                                                                                                                                                                                                                                                                                                                                                                                                                                                                                                                                                                                                                                                                                                                                                                                                                                                                                                                                                                                                                                                                                                                                                                                                                                Yatai's main products cover various cleaning machinery, cleaning agents, cleaning tools, stone maintenance and other cleaning products; cleaning solutions and services include product technical consultation, product customization, employee training, maintenance and so on. \n",
              "2                                                                                                                                                                                                                                                                                                                                                                                                                                                                                                                                                                                                                                                                                                                                                                                                                                                                                                                                                                                                                                                                                                                                                                                                                         In the beginning, it started off by providing technical support for test handlers, then moving into module design and production. Its first, in-house designed, full-fledged handler was introduced in 2008. Since then, the company has designed and produced a wide range of turret and pick-and-place solutions for its customers all over the world.\n",
              "4                                                                                                                                                                                                                                                                                                                                                                                                                                                                                                                                                                                                                                                                                                                                                                                                                                                                                                                                                                                                                                     Being a turnkey, one-stop integrated solutions provider based in Singapore, Aztech is equipped with state-of-the-art equipment, R&D, design, manufacturing and packaging capabilities to deliver a seamless, unified experience. Each and every time. Always striving towards the edge of technology for more than 34 years, we have been building capabilities to serve clients’ manufacturing needs, including the consumer electronics, telecommunications, healthtech, LED lighting, automotive and technology start-up market segments.\n",
              "5                                                                                                                                                                                                                                                                                                                                                                                                                                                                                                                                                                                                                                                                                                                                                                                                                                                                                                                                                                Tongdun Technology is a professional third-party intelligent risk management and decision-making service provider headquartered in Hangzhou, Zhejiang. By integrating artificial intelligence into business scenarios, Tongdun Technology offers solutions in intelligent user analysis, intelligent risk management, intelligent antifraud and intelligent operation to clients from various industries including financial industry, internet business, logistics, healthcare, retail, smart cities and government bodies. Over 10,000 corporate clients have chosen Tongdun Technology’s products and services\n",
              "6                                                                                                                                                                                                                                                                                                                                                                                                                                                                                                                                                                                                                                                                                                                                                                                                                                                                                                                                                                                                                                                                                                                                                                                                                                                                                                                                                             For over 30 years, EMASTIGA has been servicing the construction and the oil and gas industries with distinction.We try our hardest to create win-win situations and value-add to our clients with every transaction.\n",
              "7                                                                                                                                                                                                                                                                                                                                                                                                                                                                                                                                                                                                                                                                                                                                                                                                                                                                                                                                                                                                                                                                                                                                                                                                                                                                                                                                                                                                                                                                                                                                           Sales of hydraulic equipment and parts\n",
              "8                                                                                                                                                                                                                                                                                                                                                                                                                                                                                                                                                                                                                                                                                                                                                                                                                                                                                                                                                                                                                                                                                                                                                                                                                                                                                                                                                                                                                                                                                                                WHOLESALE OF TELECOMMUNICATIONS EQUIPMENT (EXCLUDING HANDPHONES) \n",
              "9                                                                                                                                                                                                                                                                                                                                                                                                                                                                                                                                                                                                                                                                                                                                                                                                                                                                                                                                                                                                                                                                                                                                                                                                                                                                 For Excelkos, it all started with a far-sighted vision to deliver quality industrial products and solutions to meet the increasing demands of various industries. ​ The vision became a reality in 1988 when the Excelkos Group was established to distribute and provide quality rubber industrial chemicals. ​\n",
              "10                                                                                                                                                                                                                                                                                                                                                                                                                                                                                                                                                                                                                                                                                                                                                                                                                                                                                                                                                                                                                                                                                                                                                                                                                                                                                                                                                                                                                  Kum Eng Huat is the authorised dealer for Osram and Philips, as well as a trusted supplier of lighting solutions for major projects with the local government.\n",
              "11                                                                                                                                                                                                                                                                                                                                                                                                                                                                                                                                                                                                                                                                                                                                                                                                                                                                                                                                                                                                                                                                                                                                                                                                                                                                                                                                                                                                                                                                                                                 Wholesale of other building_materials, not elsewhere classified\n",
              "12                                                                                                                                                                                                                                                                                                                                                                                                                                                                                                                                                                                                                             Power Line Engineering Public Co., Ltd was established on July 8th, 1988 by a group of engineers led by Mr. Swake Srisuchart and Mr. Amnuay Kanjanopas, to engage in the services of the design, engineering and installation of mechanical and electrical (M&E) system and civil construction for offices, hotels, complex and plaza buildings, hospitals and factories. To be in line with the company’s expansion, the company was registered to be a public company on August 29th, 2002 and its shares were listed and floated in the Stock Exchange of Thailand on December 12th, 2002. The company’s services can be classified into 5 main areas, according to the systems being installed, including electrical system, telecommunication system, air conditioning system, plumbing & sanitary and fire protection system and civil construction for both private and government sectors through being main contractor and sub-contractor.\n",
              "14                                                                                                                                                                                                                                                                                                                                                                                                                                                                                                                                                                                                                                                                                                                                                                                                                                                                                                                                                                                                                                                                                                                                                                                                                                                                                                         Welcome to SECCO, Thailand’s leading engineering and construction ﬁrm. 30 years and counting. we've been there every step of the way when it comes to electrical, communication. construction, mechanical, high voltage and other design and value engineering systems.\n",
              "15                                                                                                                                                                                                                                                                                                                                                                                                                                                                                                                                                                                                                                                                                                                                                                                                                                                                                                                                                                                                                                                                                                                                                    COMPRO INNOVA SOLUTION is an ACRA-registered entity that has been operating for 2 years 11 months in Singapore since its incorporation y in 2018. Officially, COMPRO INNOVA SOLUTION PTE. LTD. is registered as Exempt Private Limited Company with its address in District 1 (Raffles Place, Cecil, Marina, People's Park), primarily operates in the sector of \"DEVELOPMENT OF E-COMMERCE APPLICATIONS\", SSIC code - 62011\n",
              "16                                                                                                                                                                                                                                                                                                                                                                                                                                                                                                                                                                                                                                                                                                                                                                                                                                                                                                                                                                                                                                                                                                                                                                                                                                                                                                                                                                                                                                                                                                                                                    General building contractor.\n",
              "17                                                                                                                                                                                                                                                                                                                                                                                                                                                                                                                                                                                                                                                                                                                                                                                                                                                                                                                                                                                                                                                                                     Gree Electric Appliances, Inc. of Zhuhai was founded in 1991 and it was listed on the Shenzhen Stock Exchange in November 1996. At the beginning, Gree was only a company that assembled residential air conditioners. Now it has grown into a diversified technological global industrial group that has expanded its business to air conditioners, home appliances, high-end equipment and communication equipment. Gree products are sold widely to more than 160 countries and regions.\n",
              "18                                                                                                                                                                                                                                                                                                                                                                                                                                                                                                                                                                                                                                                                                                                                                                                                                                                                                                                                                               Since the inception of our operations, our primary objective has been to position our firm as one of the top contract manufacturers to cater to the mushrooming of outsourcing activities from the developed countries. Our aim is to provide an under-one-roof manufacturing facility and thereby offer a holistic approach to meet customers' ever growing demand. ProductsCapability to manufacture products covering a full range of industries: Industrial controls, Consumer electronics, Automotive, Office equipment, Security, Safety & Lighting systems, Aerospace, Medical devices, Telecommunication.\n",
              "19                                                                                                                                                                                                                                                                                                                                                                                                                                                                                                                                                                                                                                                                                                                                                                                                                                                                                                                                                                                                                                                                                                                                                                                                                                                                                                                                                                                                                                                                                                                                   Lubricated fuel distributor (service station)\n",
              "20                                                                                                                                                                                                                                                                                                                                                                                                                                                                                                                                                                                                                                                                                                                                                                                                                                                                                                                                                                                                                                                                                                                                                                                                                                                                                                                                                                                                                   Hanwha International (S) Pte Ltd was founded in 1991. The company's line of business includes the wholesale distribution of petroleum and petroleum products.\n",
              "21                                                                                                                                                                                                                                                                                                                                                                                                                                                                                                                                                                                                                                                                                                                                                                                                                                                                                                                                                                                                                                                                                                                                                                                                                                                                                                                                                                                                                                      Hor Kew Corporation Limited is a building construction group, providing an integrated range of construction-related products and services.\n",
              "22                                                                                                                                                                                                                                                                                                                                                                                                                                                                                                                                                                                                                                                                                                                                                                                                                                                                                                                                                                                                                                                                                                                                                                                                                                                                                                                                                                                                                                                                                                                   ELECTRICAL AND ENGINEERING CONTRACTOR AND INVESTMENT HOLDING \n",
              "23                                                                                                                                                                                                                                                                                                                                                                                                                                                                                                                                                                                                                                                                                                                                                                                            PNT Marketing Sdn Bhd is now one of the largest wholesaler for electrical accessories in its well know brand, namely MD, SJP and ADS in Malaysia. We also have the largest stock around in Malaysia. At PNT Marketing Sdn Bhd we understand all your electrical needs and we are proud to be able to provide all your electrical needs under one roof. Also, PNT Marketing Sdn Bhd electrical accessories products, such as Socket, Plug Top, Timer and Adaptor are all complied to the most stringent safety standards of Malaysia SIRIM.  Our company's extensive wide range of product are to meet the demand of all industries such as engineering, construction, contractors, wholesaler, retailer, lighting industry, supermarkets, hardware, DIY etc. and the export markets.\n",
              "24                                                                                                                                                                                                                                                                                                                                                                                                                                                                                                                                                                                                                                                                                                                                                                                                                                                                                                                                                                                                                                                                                                                                                                                                                       T&L Premium Sdn Bhd is a company based in Malaysia, with its head office in Kuala Lumpur. It operates in the Miscellaneous Durable Goods Merchant Wholesalers industry. The company was established on July 13, 2011. In 2019, the company reported a net sales revenue increase of 48.96%. A negative growth of 16.01% was recorded in its total assets.\n",
              "25                                                                                                                                                                                                                                                                                                                                                                                                                                                                                                                                                                                                                                                                                                                                                                                                                                                                                                                  Science-Tech Solutions Sdn Bhd (STS), established in 1993, is an Engineering Constructions and Technical Services Provider for the Oil, Gas and Petrochemical (OGP) Industry and other Industrial Sectors. Our areas of expertise include Project Management, Engineering Procurement Constructions and Commissioning (EPCC), Plant Maintenance, Revamp, Shutdown and Turnaround.  Basically, we can summarised as follows: A. Civil and Building Constructions and Commissioning B. Plant Construction and Mechanical Erection C. Plant Maintenance and Revamp D. Plant Shutdown and Turnaround E. Piping and Structural Fabrication F. Industrial Automation\n",
              "26                                                                                                                                                                                                                                                                                                                                                                                                                                                                                                                                                                                                                                                                                                                                                                                                                                                                                                                                                                                                                                                                                                                                                                                                                                                                                                                                                                                                         Advanide Pte. Ltd. was founded in 1998. The Company's line of business includes the wholesale distribution of electronic parts and electronic communications equipment.\n",
              "27                                                                                                                                                                                                                                                                                                                                                                                                                                                                                                                                                                                                                                                                                                                                                                                                                                                                                                                                                                                                                                                                                                                                                                                                                                                                                                                                                                                                                                                                                                                                                             PROPERTY INVESTMENT\n",
              "28                                                                                                                                                                                                                                                                                                                                                                                                                                                                                                                                                                                                                                                                                                                                                                                                                                                                                                                                                                                                                                                                                                                                                                                                                                                                                                                                                                                                                          OTHER HOLDING COMPANIES WIRED TELECOMMUNICATIONS NETWORK OPERATION (INCLUDING FIXED-LINE, FIBRE OPTICS, LOCAL/INTERNATIONAL PSTN AND LEASED CIRCUITS) \n",
              "29                                                                                                                                                                                                                                                                                                                                                                                                                                                                                                                                                                                                                                                                                                                                                                                                                                                         United Business Solutions Limited (UBS), with a paid-up capital of THB 62 million (USD 1.86 million) is an experienced IT solutions, IT outsourcing and services provider to all sectors of the Thailand market. Established in 1989 with 8 employees, we have grown to a staff strength of 150 IT professionals today. Technology is critical and using the right technology will increase the productivity and efficiency of an organisation. UBS is a mature organisation delivering IT products, solutions and services to businesses ranging from small to large enterprises. We have the industry knowledge and expertise to meet the technology needs of our customers and help them gain competitive advantage.\n",
              "30                                                                                                                                                                                                                                                                                                                                                                                                                                                                                                                                                                                                                                                                                                                                                                                                                                                                                                                                  Aerial Lift is the Official Distributor of JLG Access Equipment for Malaysia and is a wholly owned subsidiary of TVH, international distributor of fork-lifts, access equipment and its spare parts.  We are dedicated to providing comprehensive sales & service solutions to the access needs of the rental industry and offer a wide range of financing options and technical support to help the rental companies in expanding and renewing their rental fleets.  Aerial Lift aims to provide their customers with high-quality machines with a view to raising the industry standard of the access equipment industry in South East Asia.\n",
              "31                                                                                                                                                                                                                                                                                                                                                                                                                                                                                                                                                                                                                                                                                                                                                                                                                                                                                                                                                                                                                                                                                     Weng Zheng Marketing Sdn Bhd is an enterprise in Malaysia, with the main office in Seri Kembangan. The enterprise operates in the Iron and Steel Mills and Ferroalloy Manufacturing industry. The company was established on August 17, 1995. The company’s latest financial report indicates a net sales revenue increase of 11.79% in 2019. Over the same period, its total assets decreased by 0.03%. The net profit margin of Weng Zheng Marketing Sdn Bhd decreased by 14.07% in 2019.\n",
              "32                                                                                                                                                                                                                                                                                                                                                                                                                                                                                                                                                                                                                                                                                                                                                                                                                                                                                                                                                                                                                                                                                                                                                                                                                                                                                                                                                                                                                                                     Product description  ประกอบกิจการผลิตผลิตภัณฑ์ที่ทำจากเหล็ก  Translation: Entrepreneurship, produce products made of steel.\n",
              "33                                                                                                                                                                                                                                                                                                                                                                                                                                                                                                                                                            Artich Display (Changshu) Co., Ltd. was established on January 26, 2014. Legal representative NATHAN RICHARD LOUIS, the company's business scope includes: design, research and development, production of display stands, shelves and accessories, sales of self-produced products; provision of warehousing, installation, after-sales and maintenance services and technical consulting services; toy model wholesale, Retail; engaged in the import and export of goods and technology, except for the commodities and technologies that the state restricts or prohibits the import and export of goods and technologies; engaged in the wholesale, import and export business and commission agency of display stands, shelves, electronic equipment and related ancillary products (excluding auctions ) (Does not involve state-owned trade management commodities, but involves quota and license management, apply in accordance with relevant national regulations) and related supporting services, etc.\n",
              "34                                                                                                                                                                                                                                                                                                                                                                                                                                                                                                                                                                                                                                                                                                                                                                                                                                                                                                                                                                                                                                                                                                                                                                                                                                                                                                                                                                                                             Serial System is a leading authorized distributor of electronic components and maintains one of largest electronic distribution network in the Asia Pacific region.\n",
              "36                                                                                                                                                                                                                                                                                                                                                                                                                                                                                                                                                                                                                                                                                                                                                                                                                                                                                                                                                                                                                                                                                                                                                                                                                                                                                                                                                                                                          Matrix Excelcon Sdn Bhd is based in Malaysia, with the head office in Bandar Sri Sendayan. The enterprise operates in the Wholesale Trade Agents and Brokers industry.\n",
              "37                                                                                                                                                                                                                                                                                                                                                                                                                                                                                                                                                                                                                                                                                                                                                                                                                                                                                                                                                                                                                                                                                                                                                                                                                                                                  Suntiga Concrete stands for quality, reliability and agility in manufacturing and supplying ready-mixed concrete to its many partners and clients. For the past 19 years, we have been serving our customers across Malaysia and have proven to be their dependable ready-mixed concrete supplier in Malaysia.\n",
              "38                                                                                                                                                                                                                                                                                                                                                                                                                                                                                                                                                                                                                                                                                                                                                                                                                                                                                                                                                                                                                                                                                                                       PAN PAC RESOURCES is an ACRA-registered entity that has been operating for 7 years in Singapore since its incorporation y in 2014. Officially, PAN PAC RESOURCES PTE. LTD. is registered as Exempt Private Limited Company with its address in District 14 (Geylang, Eunos), primarily operates in the sector of \"WHOLESALE OF CONSTRUCTION MATERIALS, HARDWARE, PLUMBING AND HEATING EQUIPMENT AND SUPPLIES N.E.C. (EG CEMENT, SAND)\", SSIC code - 46639\n",
              "39    The seeds for GATES PCM CONSTRUCTION LTD, were sown as early as 1983, when CEO & FOUNDER, MR KRISHNA, founded his first Piling & Civil engineering company known as Denwick Piling & Civil Engineering. Having worked on projects locally in Singapore and regionally in countries like Malaysia and Sri Lanka, the company and its management had garnered much experience and expertise in not just piling works, but also a variety of construction works that included those in the railway industry locally and regionally. In 2000, with an abundance of opportunities emerging in the railway construction sector, Denwick found it to be the right time to change tracks and focus on the railway construction sector. It re-branded itself as GATES PCM CONSTRUCTION LTD and forged to become a specialist in railway projects. Since the birth of GATES PCM CONSTRUCTION LTD, the company has transformed itself from a firm dealing in Civil Engineering works & manpower resource management to become a sub-contractor in major railway projects such as the CIRCLE LINE project, DOWNTOWN LINE 1, 2 & 3. In recent times, with its staff gaining more experience in railway linking and laying works, it has further diversified its capabilities to handle track maintenance works as well. With the solid foundations that GATES PCM CONSTRUCTION LTD built under its long history in the construction and railway industries, the company has found the courage to move forward from strength to strength and the tenacity to take adversity in its stride.\n",
              "40                                                                                                                                                                                                                                                                                                                                                                                                                                                                                                                                                                                                                                                                                                                                                                                                                                                                                                                                                                                                                                                                                                                                       Hangzhou Huari Marketing Co., Ltd. was established on March 10, 2009. The legal representative Sheng Jun, the company's business scope includes: wholesale and retail: household appliances, hardware, department stores; import and export of goods (except for items prohibited by laws and administrative regulations, and items restricted by laws and administrative regulations can only be operated after obtaining permits) Wait.\n",
              "41                                                                                                                                                                                                                                                                                                                                                                                                                                                                                                                                                                                                                                                                                                                                                                                                                                                                                                                               The key shareholders of the company are a registered professional engineer and a registered architect and together they bring about complementary synergies todrive the company in its quest to provide functional and aesthetically appealing solar energy solutions to meet their Client's needs. It is the company's vision that by designing effective and creative solar energy solutions, they will enthuse and attract more building owners to consider solar energy as an alternative or to supplement their energy needs. In turn, this strategy will help to cut down carbon emissions from our home country and to the world at large.\n",
              "42                                                                                                                                                                                                                                                                                                                                                                                                                                                                                                                                                                                                                                                                                                                                                                                                                                                                                                                                                                                                                                                                                                                                                                                                    Founded in 1980, ASJ has evolved to become one of the world's leading manufacturers of resistors. Headquartered in Singapore, ASJ offers a comprehensive portfolio of resistors manufactured to meet the highest quality and technical standards. Equipped with an excellent global logistics network, ASJ delivers to a wide range of customers in various market segments.\n",
              "43                                                                                                                                                                                                                                                                                                                                                                                                                                                                                                                                                                                                                                                                                                                                                                                                                                                                                                   Established in 2013, Easteel Services (Malaysia) Sdn Bhd is a wholly owned subsidiary of NatSteel Holdings Pte Ltd. Located at Senai Industrial Park, Johor Bahru, our 25,000 square metre facility is a full-fledged downstream plant that generates over 40,000 tonnes of products each year. Easteel offers prefabricated solutions and services for the construction industry, enabling customers to significantly enhance productivity and safety. Our welded meshes, cut-and-bend products, couplers and wire processing services are tailored according to customers’ requirements and aligned with stringent quality assurances such as ISO 9001 and SIRIM standards.\n",
              "44                                                                                                                                                                                                                                                                                                                                                                                                                                                                                                                                                                                                                                                                                                                                                                                                                                                                                                                                                                                                                                                                                                                                                                                                                    Along the way, more International electrical and stationery brands such as Parker, Waterman, Sharpie, Kuvings, Severin and more were added to our portfolio. Our products are imported directly from its country of origin and are then redistributed to retail outlets in Singapore. There is no involvement in alteration or modification of our products.\n",
              "45                                                                                                                                                                                                                                                                                                                                                                                                                                                                                                                                                                                                                                                                                                                                                                                                                                                                                                                                                                                                                                                                                                                                                                                                                                                                                                                                                                                                                                                                                                                                                                    gas stations\n",
              "46                                                                                                                                                                                                                                                                                                                                                                                                                                                                                                                                                                                                                                                                                                                                                                                                                                                                                                                                                                                                                                                                                                                                                                                                                                                                                                                                                                                                                                                                                                                                                               Fuel distribution\n",
              "47                                                                                                                                                                                                                                                                                                                                                                                                                                                                                                                                                                                                                                                                                                                                                                                                                                                                                                                                                                                                                                                                                                                                                                                                                                                                                                                                                                                                                                                    The company provides full design, consultancy and installation services for all mechanical, electrical and plumbing systems.\n",
              "48                                                                                                                                                                                                                                                                                                                                                                                                                                                                                                                                                                                                                                                                                                                                                                                                                                                                                                                                                                                                                                                                                                                                                                                                                                                                                                                                                                                                                                                                                                                                                 Ready-mixed concrete production\n",
              "49                                                                                                                                                                                                                                                                                                                                                                                                                                                                                                                                                                                                                                                                                                                                                                                                                                                                                                                                                                                                                                                                                                                                                                                                                                                                                                                                                               The company manufactures a wide selection of medical disposables. Its manufacturing activity covers initial design, prototype testing and eventual mass production for in-house products as well as OEM products.\n",
              "Name: Company Profile Information, dtype: object"
            ]
          },
          "metadata": {
            "tags": []
          },
          "execution_count": 15
        }
      ]
    },
    {
      "cell_type": "markdown",
      "metadata": {
        "id": "_UbMqS2dvXeZ"
      },
      "source": [
        "### 4.2. Calculating the word length distribution\n",
        "\n",
        "---\n",
        "\n",
        "Here, we will be calculating the world length distribution of the collective company description."
      ]
    },
    {
      "cell_type": "code",
      "metadata": {
        "id": "uDsrjeimvDl8",
        "colab": {
          "base_uri": "https://localhost:8080/",
          "height": 453
        },
        "outputId": "5cf32c1f-fa16-4ff2-8841-1ee8150a9748"
      },
      "source": [
        "# first, add in a new column that tabluates the length of the respecive company description\n",
        "df_valid[\"length\"] = df_valid[\"Company Profile Information\"].str.len()\n",
        "df_valid.head()"
      ],
      "execution_count": 16,
      "outputs": [
        {
          "output_type": "execute_result",
          "data": {
            "text/html": [
              "<div>\n",
              "<style scoped>\n",
              "    .dataframe tbody tr th:only-of-type {\n",
              "        vertical-align: middle;\n",
              "    }\n",
              "\n",
              "    .dataframe tbody tr th {\n",
              "        vertical-align: top;\n",
              "    }\n",
              "\n",
              "    .dataframe thead th {\n",
              "        text-align: right;\n",
              "    }\n",
              "</style>\n",
              "<table border=\"1\" class=\"dataframe\">\n",
              "  <thead>\n",
              "    <tr style=\"text-align: right;\">\n",
              "      <th></th>\n",
              "      <th>Company</th>\n",
              "      <th>Country</th>\n",
              "      <th>Sector</th>\n",
              "      <th>Subsector</th>\n",
              "      <th>Archetype</th>\n",
              "      <th>Valuechain</th>\n",
              "      <th>Company Profile Information</th>\n",
              "      <th>length</th>\n",
              "    </tr>\n",
              "  </thead>\n",
              "  <tbody>\n",
              "    <tr>\n",
              "      <th>0</th>\n",
              "      <td>AKSORN CHAROEN TAT ACT. CO.,LTD.</td>\n",
              "      <td>THAILAND</td>\n",
              "      <td>TMT</td>\n",
              "      <td>media</td>\n",
              "      <td>media_aggregator/distributor</td>\n",
              "      <td>Midstream</td>\n",
              "      <td>For over 80 years of experience in creating and developing high-quality learning materials has enabled us to provide world-class educational innovation to meet the needs of all teachers, students, institutions and educational authorities.</td>\n",
              "      <td>238.0</td>\n",
              "    </tr>\n",
              "    <tr>\n",
              "      <th>1</th>\n",
              "      <td>DONGGUAN SHENGYA CLEANING APPLIAME CO.LTD</td>\n",
              "      <td>CHINA</td>\n",
              "      <td>TMT</td>\n",
              "      <td>consumer electronics</td>\n",
              "      <td>consumer electronics_distributor</td>\n",
              "      <td>Downstream</td>\n",
              "      <td>Yatai's main products cover various cleaning machinery, cleaning agents, cleaning tools, stone maintenance and other cleaning products; cleaning solutions and services include product technical consultation, product customization, employee training, maintenance and so on.</td>\n",
              "      <td>273.0</td>\n",
              "    </tr>\n",
              "    <tr>\n",
              "      <th>2</th>\n",
              "      <td>EXIS TECH SDN. BHD.</td>\n",
              "      <td>MALAYSIA</td>\n",
              "      <td>oos</td>\n",
              "      <td>others</td>\n",
              "      <td>others</td>\n",
              "      <td>NaN</td>\n",
              "      <td>In the beginning, it started off by providing technical support for test handlers, then moving into module design and production. Its first, in-house designed, full-fledged handler was introduced in 2008. Since then, the company has designed and produced a wide range of turret and pick-and-place solutions for its customers all over the world.</td>\n",
              "      <td>344.0</td>\n",
              "    </tr>\n",
              "    <tr>\n",
              "      <th>4</th>\n",
              "      <td>Aztech Electronics Pte Ltd</td>\n",
              "      <td>SINGAPORE</td>\n",
              "      <td>TMT</td>\n",
              "      <td>consumer electronics</td>\n",
              "      <td>consumer electronics_distributor</td>\n",
              "      <td>Downstream</td>\n",
              "      <td>Being a turnkey, one-stop integrated solutions provider based in Singapore, Aztech is equipped with state-of-the-art equipment, R&amp;D, design, manufacturing and packaging capabilities to deliver a seamless, unified experience. Each and every time. Always striving towards the edge of technology for more than 34 years, we have been building capabilities to serve clients’ manufacturing needs, including the consumer electronics, telecommunications, healthtech, LED lighting, automotive and technology start-up market segments.</td>\n",
              "      <td>524.0</td>\n",
              "    </tr>\n",
              "    <tr>\n",
              "      <th>5</th>\n",
              "      <td>TONGDUN INTERNATIONAL PTE LTD</td>\n",
              "      <td>SINGAPORE</td>\n",
              "      <td>tmt</td>\n",
              "      <td>it_services</td>\n",
              "      <td>it_services</td>\n",
              "      <td>midstream</td>\n",
              "      <td>Tongdun Technology is a professional third-party intelligent risk management and decision-making service provider headquartered in Hangzhou, Zhejiang. By integrating artificial intelligence into business scenarios, Tongdun Technology offers solutions in intelligent user analysis, intelligent risk management, intelligent antifraud and intelligent operation to clients from various industries including financial industry, internet business, logistics, healthcare, retail, smart cities and government bodies. Over 10,000 corporate clients have chosen Tongdun Technology’s products and services</td>\n",
              "      <td>593.0</td>\n",
              "    </tr>\n",
              "  </tbody>\n",
              "</table>\n",
              "</div>"
            ],
            "text/plain": [
              "                                     Company  ... length\n",
              "0           AKSORN CHAROEN TAT ACT. CO.,LTD.  ...  238.0\n",
              "1  DONGGUAN SHENGYA CLEANING APPLIAME CO.LTD  ...  273.0\n",
              "2                        EXIS TECH SDN. BHD.  ...  344.0\n",
              "4                 Aztech Electronics Pte Ltd  ...  524.0\n",
              "5              TONGDUN INTERNATIONAL PTE LTD  ...  593.0\n",
              "\n",
              "[5 rows x 8 columns]"
            ]
          },
          "metadata": {
            "tags": []
          },
          "execution_count": 16
        }
      ]
    },
    {
      "cell_type": "code",
      "metadata": {
        "id": "725S9NxvyZXQ",
        "colab": {
          "base_uri": "https://localhost:8080/",
          "height": 349
        },
        "outputId": "e71a8822-6158-46ec-c21a-17c642e529ee"
      },
      "source": [
        "# now plot a distribution plot to see the word length distribution\n",
        "sns.distplot(df_valid[\"length\"], kde=True)\n",
        "plt.title('Word Length Distribution')\n",
        "plt.show()"
      ],
      "execution_count": 17,
      "outputs": [
        {
          "output_type": "stream",
          "text": [
            "/usr/local/lib/python3.7/dist-packages/seaborn/distributions.py:2557: FutureWarning: `distplot` is a deprecated function and will be removed in a future version. Please adapt your code to use either `displot` (a figure-level function with similar flexibility) or `histplot` (an axes-level function for histograms).\n",
            "  warnings.warn(msg, FutureWarning)\n"
          ],
          "name": "stderr"
        },
        {
          "output_type": "display_data",
          "data": {
            "image/png": "[encoded data removed]",
            "text/plain": [
              "<Figure size 432x288 with 1 Axes>"
            ]
          },
          "metadata": {
            "tags": []
          }
        }
      ]
    },
    {
      "cell_type": "markdown",
      "metadata": {
        "id": "ZjI1Z5ogyl6h"
      },
      "source": [
        "<div class=\"alert alert-block alert-info\">\n",
        "    <b>Analysis Summary:</b> We can see that there is a high record of the company description having a total word length of around 200 to 300, while those aboce 800 is very rare.\n",
        "</div>"
      ]
    },
    {
      "cell_type": "markdown",
      "metadata": {
        "id": "OdPgyXL60rqg"
      },
      "source": [
        "### 4.3. Subsample from the entire dataset\n",
        "\n",
        "---\n",
        "\n",
        "We will now subsample a part of the dataset from the entire dataset. This is important as firstly, we need to ensure that our tokenization is working correctly in a smaller scale dataset, since using the entire dataset to do it will be very time consuming."
      ]
    },
    {
      "cell_type": "code",
      "metadata": {
        "id": "OC9h-jIM07v2",
        "colab": {
          "base_uri": "https://localhost:8080/",
          "height": 1000
        },
        "outputId": "7ee9e8a1-c605-44e5-80da-dee02e6332e5"
      },
      "source": [
        "# declare sample size here first (CHANGE IT AS THE TRAINING DATA INCREASES)\n",
        "sample_size = 350\n",
        "\n",
        "# now we will get the data from the restricted range of sample size\n",
        "subsample = df_valid[:sample_size]\n",
        "subsample"
      ],
      "execution_count": 18,
      "outputs": [
        {
          "output_type": "execute_result",
          "data": {
            "text/html": [
              "<div>\n",
              "<style scoped>\n",
              "    .dataframe tbody tr th:only-of-type {\n",
              "        vertical-align: middle;\n",
              "    }\n",
              "\n",
              "    .dataframe tbody tr th {\n",
              "        vertical-align: top;\n",
              "    }\n",
              "\n",
              "    .dataframe thead th {\n",
              "        text-align: right;\n",
              "    }\n",
              "</style>\n",
              "<table border=\"1\" class=\"dataframe\">\n",
              "  <thead>\n",
              "    <tr style=\"text-align: right;\">\n",
              "      <th></th>\n",
              "      <th>Company</th>\n",
              "      <th>Country</th>\n",
              "      <th>Sector</th>\n",
              "      <th>Subsector</th>\n",
              "      <th>Archetype</th>\n",
              "      <th>Valuechain</th>\n",
              "      <th>Company Profile Information</th>\n",
              "      <th>length</th>\n",
              "    </tr>\n",
              "  </thead>\n",
              "  <tbody>\n",
              "    <tr>\n",
              "      <th>0</th>\n",
              "      <td>AKSORN CHAROEN TAT ACT. CO.,LTD.</td>\n",
              "      <td>THAILAND</td>\n",
              "      <td>TMT</td>\n",
              "      <td>media</td>\n",
              "      <td>media_aggregator/distributor</td>\n",
              "      <td>Midstream</td>\n",
              "      <td>For over 80 years of experience in creating and developing high-quality learning materials has enabled us to provide world-class educational innovation to meet the needs of all teachers, students, institutions and educational authorities.</td>\n",
              "      <td>238.0</td>\n",
              "    </tr>\n",
              "    <tr>\n",
              "      <th>1</th>\n",
              "      <td>DONGGUAN SHENGYA CLEANING APPLIAME CO.LTD</td>\n",
              "      <td>CHINA</td>\n",
              "      <td>TMT</td>\n",
              "      <td>consumer electronics</td>\n",
              "      <td>consumer electronics_distributor</td>\n",
              "      <td>Downstream</td>\n",
              "      <td>Yatai's main products cover various cleaning machinery, cleaning agents, cleaning tools, stone maintenance and other cleaning products; cleaning solutions and services include product technical consultation, product customization, employee training, maintenance and so on.</td>\n",
              "      <td>273.0</td>\n",
              "    </tr>\n",
              "    <tr>\n",
              "      <th>2</th>\n",
              "      <td>EXIS TECH SDN. BHD.</td>\n",
              "      <td>MALAYSIA</td>\n",
              "      <td>oos</td>\n",
              "      <td>others</td>\n",
              "      <td>others</td>\n",
              "      <td>NaN</td>\n",
              "      <td>In the beginning, it started off by providing technical support for test handlers, then moving into module design and production. Its first, in-house designed, full-fledged handler was introduced in 2008. Since then, the company has designed and produced a wide range of turret and pick-and-place solutions for its customers all over the world.</td>\n",
              "      <td>344.0</td>\n",
              "    </tr>\n",
              "    <tr>\n",
              "      <th>4</th>\n",
              "      <td>Aztech Electronics Pte Ltd</td>\n",
              "      <td>SINGAPORE</td>\n",
              "      <td>TMT</td>\n",
              "      <td>consumer electronics</td>\n",
              "      <td>consumer electronics_distributor</td>\n",
              "      <td>Downstream</td>\n",
              "      <td>Being a turnkey, one-stop integrated solutions provider based in Singapore, Aztech is equipped with state-of-the-art equipment, R&amp;D, design, manufacturing and packaging capabilities to deliver a seamless, unified experience. Each and every time. Always striving towards the edge of technology for more than 34 years, we have been building capabilities to serve clients’ manufacturing needs, including the consumer electronics, telecommunications, healthtech, LED lighting, automotive and technology start-up market segments.</td>\n",
              "      <td>524.0</td>\n",
              "    </tr>\n",
              "    <tr>\n",
              "      <th>5</th>\n",
              "      <td>TONGDUN INTERNATIONAL PTE LTD</td>\n",
              "      <td>SINGAPORE</td>\n",
              "      <td>tmt</td>\n",
              "      <td>it_services</td>\n",
              "      <td>it_services</td>\n",
              "      <td>midstream</td>\n",
              "      <td>Tongdun Technology is a professional third-party intelligent risk management and decision-making service provider headquartered in Hangzhou, Zhejiang. By integrating artificial intelligence into business scenarios, Tongdun Technology offers solutions in intelligent user analysis, intelligent risk management, intelligent antifraud and intelligent operation to clients from various industries including financial industry, internet business, logistics, healthcare, retail, smart cities and government bodies. Over 10,000 corporate clients have chosen Tongdun Technology’s products and services</td>\n",
              "      <td>593.0</td>\n",
              "    </tr>\n",
              "    <tr>\n",
              "      <th>...</th>\n",
              "      <td>...</td>\n",
              "      <td>...</td>\n",
              "      <td>...</td>\n",
              "      <td>...</td>\n",
              "      <td>...</td>\n",
              "      <td>...</td>\n",
              "      <td>...</td>\n",
              "      <td>...</td>\n",
              "    </tr>\n",
              "    <tr>\n",
              "      <th>366</th>\n",
              "      <td>SHOPEE HONG KONG LIMITED</td>\n",
              "      <td>HONG KONG</td>\n",
              "      <td>tmt</td>\n",
              "      <td>digital_business</td>\n",
              "      <td>digital_business</td>\n",
              "      <td>midstream</td>\n",
              "      <td>Shopee is the leading e-commerce platform in Southeast Asia and Taiwan. It is a platform tailored for the region, providing customers with an easy, secure and fast online shopping experience through strong payment and logistical support. Shopee aims to continually enhance its platform and become the region’s e-commerce destination of choice. Shopee has a wide selection of product categories ranging from consumer electronics to home &amp; living, health &amp; beauty, baby &amp; toys, fashion and fitness equipment. Shopee, a Sea company, was first launched in Singapore in 2015, and has since expanded its reach to Malaysia, Thailand, Taiwan, Indonesia, Vietnam and the Philippines. Sea is a leader in digital entertainment, e-commerce and digital financial services across Greater Southeast Asia. Sea’s mission is to better the lives of consumers and small businesses with technology, and is listed on the NYSE under the symbol SE.</td>\n",
              "      <td>924.0</td>\n",
              "    </tr>\n",
              "    <tr>\n",
              "      <th>367</th>\n",
              "      <td>M-LINK SYSTEM (M) SDN. BHD.</td>\n",
              "      <td>MALAYSIA</td>\n",
              "      <td>tmt</td>\n",
              "      <td>consumer electronics</td>\n",
              "      <td>consumer electronics_distributor</td>\n",
              "      <td>downstream</td>\n",
              "      <td>Formed in 1989, and with the rapid growth, the company has incorporated in 1994 as M-LINK SYSTEM (M) SDN BHD, with its headquarter in Petaling Jaya, Selangor and 7 branches located at strategic and important network points of Malaysia. M-Link System (M) Sdn Bhd has forged ahead in its area of specialization – distribution. A leading distributor for information technology products in the country, M-Link System has carved a reputation for strong dealer support and a penchant for product selection. This entails a corporate structure that is based on intimate industry experience, and which also recognizes and caters to the needs of the dealer supply network. It also means that the company is cognizant of the changing market environment and can introduce products in anticipation of strong market demand. M-Link System represents several leading brands and principal vendors recognize that M-Link System forms an important conduit for their products. In essence, M-Link System has proven to be constantly at the forefront of the distribution services with its market knowledge, product expertise and corporate services.</td>\n",
              "      <td>1124.0</td>\n",
              "    </tr>\n",
              "    <tr>\n",
              "      <th>368</th>\n",
              "      <td>BUILDERS 265 PRIVATE LIMITED</td>\n",
              "      <td>SINGAPORE</td>\n",
              "      <td>cni</td>\n",
              "      <td>buildings &amp; industrial</td>\n",
              "      <td>buildings &amp; industrial_contractor</td>\n",
              "      <td>midstream</td>\n",
              "      <td>Singapore Building Contractors, Civil Engineering, Interior Decoration, Construction Contractors, Waterproofing Installation, Civil Engineering Consultants, Civil Engineers, Interior Decoration Contractors, Interior Decorators</td>\n",
              "      <td>226.0</td>\n",
              "    </tr>\n",
              "    <tr>\n",
              "      <th>369</th>\n",
              "      <td>THEPMAHANAKORN CHEMICALS CO.,LTD.</td>\n",
              "      <td>THAILAND</td>\n",
              "      <td>ong</td>\n",
              "      <td>petrochemical</td>\n",
              "      <td>petrochemical_distributor</td>\n",
              "      <td>downstream</td>\n",
              "      <td>Sell ​​all kinds of paints, oil paints, paint mixing oils, paint tools.</td>\n",
              "      <td>71.0</td>\n",
              "    </tr>\n",
              "    <tr>\n",
              "      <th>370</th>\n",
              "      <td>RYOSHO TECHNO SINGAPORE PTE LTD</td>\n",
              "      <td>SINGAPORE</td>\n",
              "      <td>tmt</td>\n",
              "      <td>telecommunication</td>\n",
              "      <td>network equipment supplier</td>\n",
              "      <td>upstream</td>\n",
              "      <td>The Company's line of business includes the wholesale distribution of electronic parts and electronic communications equipment.</td>\n",
              "      <td>128.0</td>\n",
              "    </tr>\n",
              "  </tbody>\n",
              "</table>\n",
              "<p>350 rows × 8 columns</p>\n",
              "</div>"
            ],
            "text/plain": [
              "                                       Company  ...  length\n",
              "0             AKSORN CHAROEN TAT ACT. CO.,LTD.  ...   238.0\n",
              "1    DONGGUAN SHENGYA CLEANING APPLIAME CO.LTD  ...   273.0\n",
              "2                          EXIS TECH SDN. BHD.  ...   344.0\n",
              "4                   Aztech Electronics Pte Ltd  ...   524.0\n",
              "5                TONGDUN INTERNATIONAL PTE LTD  ...   593.0\n",
              "..                                         ...  ...     ...\n",
              "366                   SHOPEE HONG KONG LIMITED  ...   924.0\n",
              "367                M-LINK SYSTEM (M) SDN. BHD.  ...  1124.0\n",
              "368               BUILDERS 265 PRIVATE LIMITED  ...   226.0\n",
              "369          THEPMAHANAKORN CHEMICALS CO.,LTD.  ...    71.0\n",
              "370            RYOSHO TECHNO SINGAPORE PTE LTD  ...   128.0\n",
              "\n",
              "[350 rows x 8 columns]"
            ]
          },
          "metadata": {
            "tags": []
          },
          "execution_count": 18
        }
      ]
    },
    {
      "cell_type": "markdown",
      "metadata": {
        "id": "V2q_t5v3SSq2"
      },
      "source": [
        "### 4.4. Populating Nan cells\n",
        "\n",
        "---\n",
        "\n",
        "We will now have to populate Nan cells with space so that we can carry on and process with text tokenization."
      ]
    },
    {
      "cell_type": "code",
      "metadata": {
        "id": "iAUWZOuMSP7O",
        "colab": {
          "base_uri": "https://localhost:8080/",
          "height": 849
        },
        "outputId": "a1ef6656-2e14-47cd-bc3d-b879ad7b0733"
      },
      "source": [
        "# fill na with space instead of others\n",
        "df_valid.fillna(\" \" ,inplace=True)\n",
        "df_valid"
      ],
      "execution_count": 19,
      "outputs": [
        {
          "output_type": "execute_result",
          "data": {
            "text/html": [
              "<div>\n",
              "<style scoped>\n",
              "    .dataframe tbody tr th:only-of-type {\n",
              "        vertical-align: middle;\n",
              "    }\n",
              "\n",
              "    .dataframe tbody tr th {\n",
              "        vertical-align: top;\n",
              "    }\n",
              "\n",
              "    .dataframe thead th {\n",
              "        text-align: right;\n",
              "    }\n",
              "</style>\n",
              "<table border=\"1\" class=\"dataframe\">\n",
              "  <thead>\n",
              "    <tr style=\"text-align: right;\">\n",
              "      <th></th>\n",
              "      <th>Company</th>\n",
              "      <th>Country</th>\n",
              "      <th>Sector</th>\n",
              "      <th>Subsector</th>\n",
              "      <th>Archetype</th>\n",
              "      <th>Valuechain</th>\n",
              "      <th>Company Profile Information</th>\n",
              "      <th>length</th>\n",
              "    </tr>\n",
              "  </thead>\n",
              "  <tbody>\n",
              "    <tr>\n",
              "      <th>0</th>\n",
              "      <td>AKSORN CHAROEN TAT ACT. CO.,LTD.</td>\n",
              "      <td>THAILAND</td>\n",
              "      <td>TMT</td>\n",
              "      <td>media</td>\n",
              "      <td>media_aggregator/distributor</td>\n",
              "      <td>Midstream</td>\n",
              "      <td>For over 80 years of experience in creating and developing high-quality learning materials has enabled us to provide world-class educational innovation to meet the needs of all teachers, students, institutions and educational authorities.</td>\n",
              "      <td>238</td>\n",
              "    </tr>\n",
              "    <tr>\n",
              "      <th>1</th>\n",
              "      <td>DONGGUAN SHENGYA CLEANING APPLIAME CO.LTD</td>\n",
              "      <td>CHINA</td>\n",
              "      <td>TMT</td>\n",
              "      <td>consumer electronics</td>\n",
              "      <td>consumer electronics_distributor</td>\n",
              "      <td>Downstream</td>\n",
              "      <td>Yatai's main products cover various cleaning machinery, cleaning agents, cleaning tools, stone maintenance and other cleaning products; cleaning solutions and services include product technical consultation, product customization, employee training, maintenance and so on.</td>\n",
              "      <td>273</td>\n",
              "    </tr>\n",
              "    <tr>\n",
              "      <th>2</th>\n",
              "      <td>EXIS TECH SDN. BHD.</td>\n",
              "      <td>MALAYSIA</td>\n",
              "      <td>oos</td>\n",
              "      <td>others</td>\n",
              "      <td>others</td>\n",
              "      <td></td>\n",
              "      <td>In the beginning, it started off by providing technical support for test handlers, then moving into module design and production. Its first, in-house designed, full-fledged handler was introduced in 2008. Since then, the company has designed and produced a wide range of turret and pick-and-place solutions for its customers all over the world.</td>\n",
              "      <td>344</td>\n",
              "    </tr>\n",
              "    <tr>\n",
              "      <th>4</th>\n",
              "      <td>Aztech Electronics Pte Ltd</td>\n",
              "      <td>SINGAPORE</td>\n",
              "      <td>TMT</td>\n",
              "      <td>consumer electronics</td>\n",
              "      <td>consumer electronics_distributor</td>\n",
              "      <td>Downstream</td>\n",
              "      <td>Being a turnkey, one-stop integrated solutions provider based in Singapore, Aztech is equipped with state-of-the-art equipment, R&amp;D, design, manufacturing and packaging capabilities to deliver a seamless, unified experience. Each and every time. Always striving towards the edge of technology for more than 34 years, we have been building capabilities to serve clients’ manufacturing needs, including the consumer electronics, telecommunications, healthtech, LED lighting, automotive and technology start-up market segments.</td>\n",
              "      <td>524</td>\n",
              "    </tr>\n",
              "    <tr>\n",
              "      <th>5</th>\n",
              "      <td>TONGDUN INTERNATIONAL PTE LTD</td>\n",
              "      <td>SINGAPORE</td>\n",
              "      <td>tmt</td>\n",
              "      <td>it_services</td>\n",
              "      <td>it_services</td>\n",
              "      <td>midstream</td>\n",
              "      <td>Tongdun Technology is a professional third-party intelligent risk management and decision-making service provider headquartered in Hangzhou, Zhejiang. By integrating artificial intelligence into business scenarios, Tongdun Technology offers solutions in intelligent user analysis, intelligent risk management, intelligent antifraud and intelligent operation to clients from various industries including financial industry, internet business, logistics, healthcare, retail, smart cities and government bodies. Over 10,000 corporate clients have chosen Tongdun Technology’s products and services</td>\n",
              "      <td>593</td>\n",
              "    </tr>\n",
              "    <tr>\n",
              "      <th>...</th>\n",
              "      <td>...</td>\n",
              "      <td>...</td>\n",
              "      <td>...</td>\n",
              "      <td>...</td>\n",
              "      <td>...</td>\n",
              "      <td>...</td>\n",
              "      <td>...</td>\n",
              "      <td>...</td>\n",
              "    </tr>\n",
              "    <tr>\n",
              "      <th>995</th>\n",
              "      <td>LUX DISTRIBUTOR SDN. BHD.</td>\n",
              "      <td>MALAYSIA</td>\n",
              "      <td>cni</td>\n",
              "      <td>building_material</td>\n",
              "      <td>building_material_supplier_distributor</td>\n",
              "      <td>downstream</td>\n",
              "      <td>Lux Distributor Sdn Bhd provides building products. The Company offers distribution of tiles, woods, doors, concrete, and other building_materials. Lux supplies its products throughout Malaysia.</td>\n",
              "      <td>194</td>\n",
              "    </tr>\n",
              "    <tr>\n",
              "      <th>996</th>\n",
              "      <td>KJI INDUSTRIAL LIMITED</td>\n",
              "      <td>HONG KONG</td>\n",
              "      <td>tmt</td>\n",
              "      <td>consumer electronics</td>\n",
              "      <td>consumer electronics_distributor</td>\n",
              "      <td>downstream</td>\n",
              "      <td>Our wide product range including Citrus Juicer, Hand Blender, Hand Mixer, Stand Blender, Mini Chopper, Egg boiler, Electric knife... etc. Nowsdays, our products are selling to numerous worldwide brands all around the world.</td>\n",
              "      <td>223</td>\n",
              "    </tr>\n",
              "    <tr>\n",
              "      <th>997</th>\n",
              "      <td>TEKNOSERV ENGINEERING SDN. BHD.</td>\n",
              "      <td>MALAYSIA</td>\n",
              "      <td>cni</td>\n",
              "      <td>utilities</td>\n",
              "      <td>utilities_developer</td>\n",
              "      <td>upstream</td>\n",
              "      <td>Teknoserv Engineering Sdn Bhd provides water services. The Company installs waste water and water treatment plants. Teknoserv Engineering operates in Shah Alam, Malaysia.</td>\n",
              "      <td>170</td>\n",
              "    </tr>\n",
              "    <tr>\n",
              "      <th>998</th>\n",
              "      <td>THERMAL SOLUTIONS ASIA PTE LTD</td>\n",
              "      <td>SINGAPORE</td>\n",
              "      <td>CNI</td>\n",
              "      <td>cni_service providers</td>\n",
              "      <td>cni_service providers</td>\n",
              "      <td>MIDSTREAM</td>\n",
              "      <td>Founded in 2000, Thermal Solutions Asia Pte Ltd has become a leading supplier of Combustion Equipment and Related Services.</td>\n",
              "      <td>124</td>\n",
              "    </tr>\n",
              "    <tr>\n",
              "      <th>999</th>\n",
              "      <td>AUDIO ZOOM PTE LTD</td>\n",
              "      <td>SINGAPORE</td>\n",
              "      <td>TMT</td>\n",
              "      <td>it_services</td>\n",
              "      <td>it_services</td>\n",
              "      <td>Midstream</td>\n",
              "      <td>AUDIO ZOOM is an ACRA-registered entity that has been operating for 3 years 1 month in Singapore since its incorporation y in 2018. Officially, AUDIO ZOOM PTE. LTD. is registered as Exempt Private Limited Company with its address in District 22 (Jurong), primarily operates in the sector of \"RESEARCH AND EXPERIMENTAL DEVELOPMENT ON ELECTRONICS\", SSIC code - 72102</td>\n",
              "      <td>364</td>\n",
              "    </tr>\n",
              "  </tbody>\n",
              "</table>\n",
              "<p>950 rows × 8 columns</p>\n",
              "</div>"
            ],
            "text/plain": [
              "                                       Company  ... length\n",
              "0             AKSORN CHAROEN TAT ACT. CO.,LTD.  ...    238\n",
              "1    DONGGUAN SHENGYA CLEANING APPLIAME CO.LTD  ...    273\n",
              "2                          EXIS TECH SDN. BHD.  ...    344\n",
              "4                   Aztech Electronics Pte Ltd  ...    524\n",
              "5                TONGDUN INTERNATIONAL PTE LTD  ...    593\n",
              "..                                         ...  ...    ...\n",
              "995                  LUX DISTRIBUTOR SDN. BHD.  ...    194\n",
              "996                     KJI INDUSTRIAL LIMITED  ...    223\n",
              "997            TEKNOSERV ENGINEERING SDN. BHD.  ...    170\n",
              "998             THERMAL SOLUTIONS ASIA PTE LTD  ...    124\n",
              "999                         AUDIO ZOOM PTE LTD  ...    364\n",
              "\n",
              "[950 rows x 8 columns]"
            ]
          },
          "metadata": {
            "tags": []
          },
          "execution_count": 19
        }
      ]
    },
    {
      "cell_type": "markdown",
      "metadata": {
        "id": "KvaDZUtsVIYk"
      },
      "source": [
        "### 4.5. Assigning tags\n",
        "---\n",
        "In this section, we will be assigning tags to every row, so that we can make use of the given keywords for bag-of-words (BoW) processing."
      ]
    },
    {
      "cell_type": "code",
      "metadata": {
        "id": "RMryE61_3L3d",
        "colab": {
          "base_uri": "https://localhost:8080/"
        },
        "outputId": "8afd92a4-dd81-4ba4-f445-4265974f042e"
      },
      "source": [
        "# Programmatically assign tags to each definition\n",
        "sector_keywords = pd.read_excel('./sector_master_definition.xlsx')\n",
        "df_keywords = sector_keywords[['Sector', 'Subsector', 'Archetype', 'Value Chain', 'Sector Keywords']]\n",
        "\n",
        "# capitalise all tags\n",
        "df_keywords['Value Chain'] = df_keywords['Value Chain'].str.upper()\n",
        "df_keywords.fillna(' ', inplace=True)\n",
        "df_keywords['Sector Keywords'] = df_keywords['Sector Keywords'].str.upper()\n",
        "df_keywords['Sector Keywords'].replace(' ', '[]', inplace=True)\n",
        "\n",
        "# save unique tags, sorted for consistency across runs\n",
        "sector = np.sort(df_keywords['Sector'].unique())\n",
        "subsector = np.sort(df_keywords['Subsector'].unique())\n",
        "archetype = np.sort(df_keywords['Archetype'].unique())\n",
        "valuechain = np.sort(df_keywords['Value Chain'].unique())\n",
        "print(len(sector), len(subsector), len(archetype), len(valuechain))\n",
        "tag_counts = [len(sector), len(subsector), len(archetype), len(valuechain)]\n",
        "\n",
        "# assign number tag list to each row\n",
        "taglist = []\n",
        "for index, row in df_keywords.iterrows():\n",
        "    temp = []\n",
        "\n",
        "    temp.append(np.where(sector == row['Sector'])[0][0])\n",
        "    temp.append(np.where(subsector == row['Subsector'])[0][0])\n",
        "    temp.append(np.where(archetype == row['Archetype'])[0][0])\n",
        "    temp.append(np.where(valuechain == row['Value Chain'])[0][0])\n",
        "\n",
        "    taglist.append(temp)\n",
        "\n",
        "# assign completed taglist to column in dataframe\n",
        "df_keywords['list_tag'] = taglist\n",
        "df_keywords['list_tag']"
      ],
      "execution_count": 20,
      "outputs": [
        {
          "output_type": "stream",
          "text": [
            "7 32 92 9\n"
          ],
          "name": "stdout"
        },
        {
          "output_type": "stream",
          "text": [
            "/usr/local/lib/python3.7/dist-packages/ipykernel_launcher.py:6: SettingWithCopyWarning: \n",
            "A value is trying to be set on a copy of a slice from a DataFrame.\n",
            "Try using .loc[row_indexer,col_indexer] = value instead\n",
            "\n",
            "See the caveats in the documentation: https://pandas.pydata.org/pandas-docs/stable/user_guide/indexing.html#returning-a-view-versus-a-copy\n",
            "  \n",
            "/usr/local/lib/python3.7/dist-packages/pandas/core/frame.py:4327: SettingWithCopyWarning: \n",
            "A value is trying to be set on a copy of a slice from a DataFrame\n",
            "\n",
            "See the caveats in the documentation: https://pandas.pydata.org/pandas-docs/stable/user_guide/indexing.html#returning-a-view-versus-a-copy\n",
            "  downcast=downcast,\n",
            "/usr/local/lib/python3.7/dist-packages/ipykernel_launcher.py:8: SettingWithCopyWarning: \n",
            "A value is trying to be set on a copy of a slice from a DataFrame.\n",
            "Try using .loc[row_indexer,col_indexer] = value instead\n",
            "\n",
            "See the caveats in the documentation: https://pandas.pydata.org/pandas-docs/stable/user_guide/indexing.html#returning-a-view-versus-a-copy\n",
            "  \n",
            "/usr/local/lib/python3.7/dist-packages/pandas/core/series.py:4582: SettingWithCopyWarning: \n",
            "A value is trying to be set on a copy of a slice from a DataFrame\n",
            "\n",
            "See the caveats in the documentation: https://pandas.pydata.org/pandas-docs/stable/user_guide/indexing.html#returning-a-view-versus-a-copy\n",
            "  method=method,\n",
            "/usr/local/lib/python3.7/dist-packages/ipykernel_launcher.py:32: SettingWithCopyWarning: \n",
            "A value is trying to be set on a copy of a slice from a DataFrame.\n",
            "Try using .loc[row_indexer,col_indexer] = value instead\n",
            "\n",
            "See the caveats in the documentation: https://pandas.pydata.org/pandas-docs/stable/user_guide/indexing.html#returning-a-view-versus-a-copy\n"
          ],
          "name": "stderr"
        },
        {
          "output_type": "execute_result",
          "data": {
            "text/plain": [
              "0      [0, 0, 67, 1]\n",
              "1      [0, 1, 27, 7]\n",
              "2      [0, 1, 22, 5]\n",
              "3      [0, 1, 73, 5]\n",
              "4       [0, 1, 2, 3]\n",
              "           ...      \n",
              "91    [6, 30, 85, 5]\n",
              "92    [6, 30, 86, 5]\n",
              "93    [6, 30, 87, 5]\n",
              "94    [6, 30, 83, 5]\n",
              "95    [4, 24, 64, 0]\n",
              "Name: list_tag, Length: 96, dtype: object"
            ]
          },
          "metadata": {
            "tags": []
          },
          "execution_count": 20
        }
      ]
    },
    {
      "cell_type": "code",
      "metadata": {
        "id": "qeY7nEgNAL5n"
      },
      "source": [
        "# process data for homogenity\n",
        "df_valid['Valuechain'] = df_valid['Valuechain'].str.split().str.join(' ')\n",
        "df_valid['Valuechain'] = df_valid['Valuechain'].str.upper()\n",
        "df_valid['Sector'] = df_valid['Sector'].str.upper()\n",
        "df_valid['Valuechain'].replace('', ' ', inplace=True)\n",
        "\n",
        "taglist_df = []\n",
        "# process tags for records\n",
        "for index, row in df_valid.iterrows():\n",
        "    temp = []\n",
        "\n",
        "    temp.append(np.where(sector == row['Sector'])[0][0])\n",
        "    temp.append(np.where(subsector == row['Subsector'])[0][0])\n",
        "    temp.append(np.where(archetype == row['Archetype'])[0][0])\n",
        "    temp.append(np.where(valuechain == row['Valuechain'])[0][0])\n",
        "\n",
        "    taglist_df.append(temp)\n",
        "\n",
        "df_valid['list_tag'] = taglist_df"
      ],
      "execution_count": 21,
      "outputs": []
    },
    {
      "cell_type": "markdown",
      "metadata": {
        "id": "vMQVBNOGz4cn"
      },
      "source": [
        "### 4.6. Text Tokenization, Removing Stop Words, punctuations, numbers, stop words and Lower Case\n",
        "\n",
        "---\n",
        "\n",
        "Now we will start to tokenize the word after we have ensure that the text description between the company descriptions are homogenous. In this process, we will also process with stop words, punctuations, numeric figures, lower cap words and lemmatize words all using the spaCy API."
      ]
    },
    {
      "cell_type": "code",
      "metadata": {
        "id": "XM-Q_-iEUgFQ"
      },
      "source": [
        "# we will have to ensure all the dtype of the respective columns are in string and not float for spacy to handle properly, so now we will attempt to convert all into strings\n",
        "columns_to_convert = ['Sector', 'Subsector', 'Archetype', 'Valuechain', 'Company Profile Information']\n",
        "\n",
        "for i in columns_to_convert:\n",
        "  df_valid[i] = df_valid[i].astype(str)"
      ],
      "execution_count": 22,
      "outputs": []
    },
    {
      "cell_type": "markdown",
      "metadata": {
        "id": "ihIc0sUPPu_A"
      },
      "source": [
        "Here we will do everything necessary to start up spacy for use in preprocessing the text."
      ]
    },
    {
      "cell_type": "code",
      "metadata": {
        "id": "zf-9naDFAIZq",
        "colab": {
          "base_uri": "https://localhost:8080/"
        },
        "outputId": "684e2531-4d8e-41cf-adc0-c0babcf00405"
      },
      "source": [
        "# import required libraries \n",
        "from spacy.language import Language\n",
        "from spacy.tokens import Doc\n",
        "from spacy.lang.char_classes import ALPHA, ALPHA_LOWER, ALPHA_UPPER, CONCAT_QUOTES, LIST_ELLIPSES, LIST_ICONS\n",
        "from spacy.util import compile_infix_regex\n",
        "\n",
        "# initialise nlp engine\n",
        "nlp = spacy.load(\"en_core_web_lg\")\n",
        "\n",
        "# declare custom properties\n",
        "Doc.set_extension('processed', default=True, force=True)\n",
        "\n",
        "# Modify tokenizer infix patterns\n",
        "infixes = (\n",
        "    LIST_ELLIPSES\n",
        "    + LIST_ICONS\n",
        "    + [\n",
        "        r\"(?<=[0-9])[+\\-\\*^](?=[0-9-])\",\n",
        "        r\"(?<=[{al}{q}])\\.(?=[{au}{q}])\".format(\n",
        "            al=ALPHA_LOWER, au=ALPHA_UPPER, q=CONCAT_QUOTES\n",
        "        ),\n",
        "        r\"(?<=[{a}]),(?=[{a}])\".format(a=ALPHA),\n",
        "        r\"(?<=[{a}0-9])[:<>=/](?=[{a}])\".format(a=ALPHA),\n",
        "    ]\n",
        ")\n",
        "\n",
        "infix_re = compile_infix_regex(infixes)\n",
        "nlp.tokenizer.infix_finditer = infix_re.finditer\n",
        "\n",
        "# custom lemmatizer\n",
        "@Language.component(\"custom_preprocess\")\n",
        "def custom_preprocess(doc):\n",
        "    temp = []\n",
        "\n",
        "    # filter through each token and add to preprocessed text if requirements #\n",
        "    # met.                                                                   #\n",
        "    for t in doc:\n",
        "        if (not t.is_punct and not t.like_num and not t.is_stop and not t.is_digit and not (t.ent_type == 396 or t.ent_type == 397)):\n",
        "            temp.append(t.lemma_.upper())\n",
        "\n",
        "    doc._.processed = temp\n",
        "\n",
        "    return doc\n",
        "\n",
        "# add custom pipeline components to default pipeline\n",
        "nlp.add_pipe('custom_preprocess', last=True)"
      ],
      "execution_count": 23,
      "outputs": [
        {
          "output_type": "execute_result",
          "data": {
            "text/plain": [
              "<function __main__.custom_preprocess>"
            ]
          },
          "metadata": {
            "tags": []
          },
          "execution_count": 23
        }
      ]
    },
    {
      "cell_type": "code",
      "metadata": {
        "id": "13bwIYewPsD9"
      },
      "source": [
        "# run the pipeline on data\n",
        "processed_doc = list(nlp.pipe(df_valid['Company Profile Information']))"
      ],
      "execution_count": 24,
      "outputs": []
    },
    {
      "cell_type": "code",
      "metadata": {
        "id": "4UaWgX5lZStt",
        "colab": {
          "base_uri": "https://localhost:8080/",
          "height": 1000
        },
        "outputId": "8416d0c8-3380-46df-fe6f-f0925b828929"
      },
      "source": [
        "# add lemmatised words to dataframe\n",
        "df_valid['processed'] = [doc._.processed for doc in processed_doc]\n",
        "\n",
        "df_valid"
      ],
      "execution_count": 25,
      "outputs": [
        {
          "output_type": "execute_result",
          "data": {
            "text/html": [
              "<div>\n",
              "<style scoped>\n",
              "    .dataframe tbody tr th:only-of-type {\n",
              "        vertical-align: middle;\n",
              "    }\n",
              "\n",
              "    .dataframe tbody tr th {\n",
              "        vertical-align: top;\n",
              "    }\n",
              "\n",
              "    .dataframe thead th {\n",
              "        text-align: right;\n",
              "    }\n",
              "</style>\n",
              "<table border=\"1\" class=\"dataframe\">\n",
              "  <thead>\n",
              "    <tr style=\"text-align: right;\">\n",
              "      <th></th>\n",
              "      <th>Company</th>\n",
              "      <th>Country</th>\n",
              "      <th>Sector</th>\n",
              "      <th>Subsector</th>\n",
              "      <th>Archetype</th>\n",
              "      <th>Valuechain</th>\n",
              "      <th>Company Profile Information</th>\n",
              "      <th>length</th>\n",
              "      <th>list_tag</th>\n",
              "      <th>processed</th>\n",
              "    </tr>\n",
              "  </thead>\n",
              "  <tbody>\n",
              "    <tr>\n",
              "      <th>0</th>\n",
              "      <td>AKSORN CHAROEN TAT ACT. CO.,LTD.</td>\n",
              "      <td>THAILAND</td>\n",
              "      <td>TMT</td>\n",
              "      <td>media</td>\n",
              "      <td>media_aggregator/distributor</td>\n",
              "      <td>MIDSTREAM</td>\n",
              "      <td>For over 80 years of experience in creating and developing high-quality learning materials has enabled us to provide world-class educational innovation to meet the needs of all teachers, students, institutions and educational authorities.</td>\n",
              "      <td>238</td>\n",
              "      <td>[6, 18, 49, 5]</td>\n",
              "      <td>[YEAR, EXPERIENCE, CREATE, DEVELOP, HIGH-QUALITY, LEARNING, MATERIAL, ENABLE, PROVIDE, WORLD-CLASS, EDUCATIONAL, INNOVATION, MEET, NEED, TEACHER, STUDENT, INSTITUTION, EDUCATIONAL, AUTHORITY]</td>\n",
              "    </tr>\n",
              "    <tr>\n",
              "      <th>1</th>\n",
              "      <td>DONGGUAN SHENGYA CLEANING APPLIAME CO.LTD</td>\n",
              "      <td>CHINA</td>\n",
              "      <td>TMT</td>\n",
              "      <td>consumer electronics</td>\n",
              "      <td>consumer electronics_distributor</td>\n",
              "      <td>DOWNSTREAM</td>\n",
              "      <td>Yatai's main products cover various cleaning machinery, cleaning agents, cleaning tools, stone maintenance and other cleaning products; cleaning solutions and services include product technical consultation, product customization, employee training, maintenance and so on.</td>\n",
              "      <td>273</td>\n",
              "      <td>[6, 8, 20, 3]</td>\n",
              "      <td>[YATAI, MAIN, PRODUCT, COVER, CLEANING, MACHINERY, CLEAN, AGENT, CLEANING, TOOL, STONE, MAINTENANCE, CLEANING, PRODUCT, CLEAN, SOLUTION, SERVICE, INCLUDE, PRODUCT, TECHNICAL, CONSULTATION, PRODUCT, CUSTOMIZATION, EMPLOYEE, TRAINING, MAINTENANCE]</td>\n",
              "    </tr>\n",
              "    <tr>\n",
              "      <th>2</th>\n",
              "      <td>EXIS TECH SDN. BHD.</td>\n",
              "      <td>MALAYSIA</td>\n",
              "      <td>OOS</td>\n",
              "      <td>others</td>\n",
              "      <td>others</td>\n",
              "      <td></td>\n",
              "      <td>In the beginning, it started off by providing technical support for test handlers, then moving into module design and production. Its first, in-house designed, full-fledged handler was introduced in 2008. Since then, the company has designed and produced a wide range of turret and pick-and-place solutions for its customers all over the world.</td>\n",
              "      <td>344</td>\n",
              "      <td>[4, 24, 64, 0]</td>\n",
              "      <td>[BEGINNING, START, PROVIDE, TECHNICAL, SUPPORT, TEST, HANDLER, MOVE, MODULE, DESIGN, PRODUCTION, IN-HOUSE, DESIGN, FULL-FLEDGED, HANDLER, INTRODUCE, COMPANY, DESIGN, PRODUCE, WIDE, RANGE, TURRET, PICK-AND-PLACE, SOLUTION, CUSTOMER, WORLD]</td>\n",
              "    </tr>\n",
              "    <tr>\n",
              "      <th>4</th>\n",
              "      <td>Aztech Electronics Pte Ltd</td>\n",
              "      <td>SINGAPORE</td>\n",
              "      <td>TMT</td>\n",
              "      <td>consumer electronics</td>\n",
              "      <td>consumer electronics_distributor</td>\n",
              "      <td>DOWNSTREAM</td>\n",
              "      <td>Being a turnkey, one-stop integrated solutions provider based in Singapore, Aztech is equipped with state-of-the-art equipment, R&amp;D, design, manufacturing and packaging capabilities to deliver a seamless, unified experience. Each and every time. Always striving towards the edge of technology for more than 34 years, we have been building capabilities to serve clients’ manufacturing needs, including the consumer electronics, telecommunications, healthtech, LED lighting, automotive and technology start-up market segments.</td>\n",
              "      <td>524</td>\n",
              "      <td>[6, 8, 20, 3]</td>\n",
              "      <td>[TURNKEY, ONE-STOP, INTEGRATED, SOLUTION, PROVIDER, BASE, SINGAPORE, AZTECH, EQUIP, STATE-OF-THE-ART, EQUIPMENT, R&amp;D, DESIGN, MANUFACTURING, PACKAGING, CAPABILITY, DELIVER, SEAMLESS, UNIFIED, EXPERIENCE, TIME, STRIVE, EDGE, TECHNOLOGY, YEAR, BUILD, CAPABILITY, SERVE, CLIENT, MANUFACTURING, NEED, INCLUDE, CONSUMER, ELECTRONIC, TELECOMMUNICATION, HEALTHTECH, LED, LIGHTING, AUTOMOTIVE, TECHNOLOGY, START-UP, MARKET, SEGMENT]</td>\n",
              "    </tr>\n",
              "    <tr>\n",
              "      <th>5</th>\n",
              "      <td>TONGDUN INTERNATIONAL PTE LTD</td>\n",
              "      <td>SINGAPORE</td>\n",
              "      <td>TMT</td>\n",
              "      <td>it_services</td>\n",
              "      <td>it_services</td>\n",
              "      <td>MIDSTREAM</td>\n",
              "      <td>Tongdun Technology is a professional third-party intelligent risk management and decision-making service provider headquartered in Hangzhou, Zhejiang. By integrating artificial intelligence into business scenarios, Tongdun Technology offers solutions in intelligent user analysis, intelligent risk management, intelligent antifraud and intelligent operation to clients from various industries including financial industry, internet business, logistics, healthcare, retail, smart cities and government bodies. Over 10,000 corporate clients have chosen Tongdun Technology’s products and services</td>\n",
              "      <td>593</td>\n",
              "      <td>[6, 17, 46, 5]</td>\n",
              "      <td>[TONGDUN, TECHNOLOGY, PROFESSIONAL, THIRD-PARTY, INTELLIGENT, RISK, MANAGEMENT, DECISION-MAKING, SERVICE, PROVIDER, HEADQUARTER, HANGZHOU, ZHEJIANG, INTEGRATE, ARTIFICIAL, INTELLIGENCE, BUSINESS, SCENARIO, TONGDUN, TECHNOLOGY, OFFER, SOLUTION, INTELLIGENT, USER, ANALYSIS, INTELLIGENT, RISK, MANAGEMENT, INTELLIGENT, ANTIFRAUD, INTELLIGENT, OPERATION, CLIENT, INDUSTRY, INCLUDE, FINANCIAL, INDUSTRY, INTERNET, BUSINESS, LOGISTICS, HEALTHCARE, RETAIL, SMART, CITY, GOVERNMENT, BODY, CORPORATE, CLIENT, CHOOSE, TONGDUN, TECHNOLOGY, PRODUCT, SERVICE]</td>\n",
              "    </tr>\n",
              "    <tr>\n",
              "      <th>...</th>\n",
              "      <td>...</td>\n",
              "      <td>...</td>\n",
              "      <td>...</td>\n",
              "      <td>...</td>\n",
              "      <td>...</td>\n",
              "      <td>...</td>\n",
              "      <td>...</td>\n",
              "      <td>...</td>\n",
              "      <td>...</td>\n",
              "      <td>...</td>\n",
              "    </tr>\n",
              "    <tr>\n",
              "      <th>995</th>\n",
              "      <td>LUX DISTRIBUTOR SDN. BHD.</td>\n",
              "      <td>MALAYSIA</td>\n",
              "      <td>CNI</td>\n",
              "      <td>building_material</td>\n",
              "      <td>building_material_supplier_distributor</td>\n",
              "      <td>DOWNSTREAM</td>\n",
              "      <td>Lux Distributor Sdn Bhd provides building products. The Company offers distribution of tiles, woods, doors, concrete, and other building_materials. Lux supplies its products throughout Malaysia.</td>\n",
              "      <td>194</td>\n",
              "      <td>[1, 3, 9, 3]</td>\n",
              "      <td>[LUX, DISTRIBUTOR, SDN, BHD, PROVIDE, BUILDING, PRODUCT, COMPANY, OFFER, DISTRIBUTION, TILE, WOOD, DOOR, CONCRETE, BUILDING_MATERIAL, LUX, SUPPLY, PRODUCT, MALAYSIA]</td>\n",
              "    </tr>\n",
              "    <tr>\n",
              "      <th>996</th>\n",
              "      <td>KJI INDUSTRIAL LIMITED</td>\n",
              "      <td>HONG KONG</td>\n",
              "      <td>TMT</td>\n",
              "      <td>consumer electronics</td>\n",
              "      <td>consumer electronics_distributor</td>\n",
              "      <td>DOWNSTREAM</td>\n",
              "      <td>Our wide product range including Citrus Juicer, Hand Blender, Hand Mixer, Stand Blender, Mini Chopper, Egg boiler, Electric knife... etc. Nowsdays, our products are selling to numerous worldwide brands all around the world.</td>\n",
              "      <td>223</td>\n",
              "      <td>[6, 8, 20, 3]</td>\n",
              "      <td>[WIDE, PRODUCT, RANGE, INCLUDE, CITRUS, JUICER, HAND, BLENDER, HAND, MIXER, STAND, BLENDER, MINI, CHOPPER, EGG, BOILER, ELECTRIC, KNIFE, ETC, NOWSDAYS, PRODUCT, SELL, NUMEROUS, WORLDWIDE, BRAND, WORLD]</td>\n",
              "    </tr>\n",
              "    <tr>\n",
              "      <th>997</th>\n",
              "      <td>TEKNOSERV ENGINEERING SDN. BHD.</td>\n",
              "      <td>MALAYSIA</td>\n",
              "      <td>CNI</td>\n",
              "      <td>utilities</td>\n",
              "      <td>utilities_developer</td>\n",
              "      <td>UPSTREAM</td>\n",
              "      <td>Teknoserv Engineering Sdn Bhd provides water services. The Company installs waste water and water treatment plants. Teknoserv Engineering operates in Shah Alam, Malaysia.</td>\n",
              "      <td>170</td>\n",
              "      <td>[1, 31, 89, 7]</td>\n",
              "      <td>[TEKNOSERV, ENGINEERING, SDN, BHD, PROVIDE, WATER, SERVICE, COMPANY, INSTALL, WASTE, WATER, WATER, TREATMENT, PLANT, TEKNOSERV, ENGINEERING, OPERATE, SHAH, ALAM, MALAYSIA]</td>\n",
              "    </tr>\n",
              "    <tr>\n",
              "      <th>998</th>\n",
              "      <td>THERMAL SOLUTIONS ASIA PTE LTD</td>\n",
              "      <td>SINGAPORE</td>\n",
              "      <td>CNI</td>\n",
              "      <td>cni_service providers</td>\n",
              "      <td>cni_service providers</td>\n",
              "      <td>MIDSTREAM</td>\n",
              "      <td>Founded in 2000, Thermal Solutions Asia Pte Ltd has become a leading supplier of Combustion Equipment and Related Services.</td>\n",
              "      <td>124</td>\n",
              "      <td>[1, 6, 14, 5]</td>\n",
              "      <td>[FOUND, THERMAL, SOLUTIONS, ASIA, PTE, LTD, LEAD, SUPPLIER, COMBUSTION, EQUIPMENT, RELATED, SERVICES]</td>\n",
              "    </tr>\n",
              "    <tr>\n",
              "      <th>999</th>\n",
              "      <td>AUDIO ZOOM PTE LTD</td>\n",
              "      <td>SINGAPORE</td>\n",
              "      <td>TMT</td>\n",
              "      <td>it_services</td>\n",
              "      <td>it_services</td>\n",
              "      <td>MIDSTREAM</td>\n",
              "      <td>AUDIO ZOOM is an ACRA-registered entity that has been operating for 3 years 1 month in Singapore since its incorporation y in 2018. Officially, AUDIO ZOOM PTE. LTD. is registered as Exempt Private Limited Company with its address in District 22 (Jurong), primarily operates in the sector of \"RESEARCH AND EXPERIMENTAL DEVELOPMENT ON ELECTRONICS\", SSIC code - 72102</td>\n",
              "      <td>364</td>\n",
              "      <td>[6, 17, 46, 5]</td>\n",
              "      <td>[AUDIO, ZOOM, ACRA-REGISTERED, ENTITY, OPERATE, YEAR, MONTH, SINGAPORE, INCORPORATION, Y, OFFICIALLY, AUDIO, ZOOM, PTE, LTD, REGISTER, EXEMPT, PRIVATE, LIMITED, COMPANY, ADDRESS, DISTRICT, JURONG, PRIMARILY, OPERATE, SECTOR, RESEARCH, EXPERIMENTAL, DEVELOPMENT, ELECTRONICS, SSIC, CODE]</td>\n",
              "    </tr>\n",
              "  </tbody>\n",
              "</table>\n",
              "<p>950 rows × 10 columns</p>\n",
              "</div>"
            ],
            "text/plain": [
              "                                       Company  ...                                                                                                                                                                                                                                                                                                                                                                                                                                                                                                                                                            processed\n",
              "0             AKSORN CHAROEN TAT ACT. CO.,LTD.  ...                                                                                                                                                                                                                                                                                                                                                                      [YEAR, EXPERIENCE, CREATE, DEVELOP, HIGH-QUALITY, LEARNING, MATERIAL, ENABLE, PROVIDE, WORLD-CLASS, EDUCATIONAL, INNOVATION, MEET, NEED, TEACHER, STUDENT, INSTITUTION, EDUCATIONAL, AUTHORITY]\n",
              "1    DONGGUAN SHENGYA CLEANING APPLIAME CO.LTD  ...                                                                                                                                                                                                                                                                                                                [YATAI, MAIN, PRODUCT, COVER, CLEANING, MACHINERY, CLEAN, AGENT, CLEANING, TOOL, STONE, MAINTENANCE, CLEANING, PRODUCT, CLEAN, SOLUTION, SERVICE, INCLUDE, PRODUCT, TECHNICAL, CONSULTATION, PRODUCT, CUSTOMIZATION, EMPLOYEE, TRAINING, MAINTENANCE]\n",
              "2                          EXIS TECH SDN. BHD.  ...                                                                                                                                                                                                                                                                                                                       [BEGINNING, START, PROVIDE, TECHNICAL, SUPPORT, TEST, HANDLER, MOVE, MODULE, DESIGN, PRODUCTION, IN-HOUSE, DESIGN, FULL-FLEDGED, HANDLER, INTRODUCE, COMPANY, DESIGN, PRODUCE, WIDE, RANGE, TURRET, PICK-AND-PLACE, SOLUTION, CUSTOMER, WORLD]\n",
              "4                   Aztech Electronics Pte Ltd  ...                                                                                                                             [TURNKEY, ONE-STOP, INTEGRATED, SOLUTION, PROVIDER, BASE, SINGAPORE, AZTECH, EQUIP, STATE-OF-THE-ART, EQUIPMENT, R&D, DESIGN, MANUFACTURING, PACKAGING, CAPABILITY, DELIVER, SEAMLESS, UNIFIED, EXPERIENCE, TIME, STRIVE, EDGE, TECHNOLOGY, YEAR, BUILD, CAPABILITY, SERVE, CLIENT, MANUFACTURING, NEED, INCLUDE, CONSUMER, ELECTRONIC, TELECOMMUNICATION, HEALTHTECH, LED, LIGHTING, AUTOMOTIVE, TECHNOLOGY, START-UP, MARKET, SEGMENT]\n",
              "5                TONGDUN INTERNATIONAL PTE LTD  ...  [TONGDUN, TECHNOLOGY, PROFESSIONAL, THIRD-PARTY, INTELLIGENT, RISK, MANAGEMENT, DECISION-MAKING, SERVICE, PROVIDER, HEADQUARTER, HANGZHOU, ZHEJIANG, INTEGRATE, ARTIFICIAL, INTELLIGENCE, BUSINESS, SCENARIO, TONGDUN, TECHNOLOGY, OFFER, SOLUTION, INTELLIGENT, USER, ANALYSIS, INTELLIGENT, RISK, MANAGEMENT, INTELLIGENT, ANTIFRAUD, INTELLIGENT, OPERATION, CLIENT, INDUSTRY, INCLUDE, FINANCIAL, INDUSTRY, INTERNET, BUSINESS, LOGISTICS, HEALTHCARE, RETAIL, SMART, CITY, GOVERNMENT, BODY, CORPORATE, CLIENT, CHOOSE, TONGDUN, TECHNOLOGY, PRODUCT, SERVICE]\n",
              "..                                         ...  ...                                                                                                                                                                                                                                                                                                                                                                                                                                                                                                                                                                  ...\n",
              "995                  LUX DISTRIBUTOR SDN. BHD.  ...                                                                                                                                                                                                                                                                                                                                                                                                [LUX, DISTRIBUTOR, SDN, BHD, PROVIDE, BUILDING, PRODUCT, COMPANY, OFFER, DISTRIBUTION, TILE, WOOD, DOOR, CONCRETE, BUILDING_MATERIAL, LUX, SUPPLY, PRODUCT, MALAYSIA]\n",
              "996                     KJI INDUSTRIAL LIMITED  ...                                                                                                                                                                                                                                                                                                                                                            [WIDE, PRODUCT, RANGE, INCLUDE, CITRUS, JUICER, HAND, BLENDER, HAND, MIXER, STAND, BLENDER, MINI, CHOPPER, EGG, BOILER, ELECTRIC, KNIFE, ETC, NOWSDAYS, PRODUCT, SELL, NUMEROUS, WORLDWIDE, BRAND, WORLD]\n",
              "997            TEKNOSERV ENGINEERING SDN. BHD.  ...                                                                                                                                                                                                                                                                                                                                                                                          [TEKNOSERV, ENGINEERING, SDN, BHD, PROVIDE, WATER, SERVICE, COMPANY, INSTALL, WASTE, WATER, WATER, TREATMENT, PLANT, TEKNOSERV, ENGINEERING, OPERATE, SHAH, ALAM, MALAYSIA]\n",
              "998             THERMAL SOLUTIONS ASIA PTE LTD  ...                                                                                                                                                                                                                                                                                                                                                                                                                                                                [FOUND, THERMAL, SOLUTIONS, ASIA, PTE, LTD, LEAD, SUPPLIER, COMBUSTION, EQUIPMENT, RELATED, SERVICES]\n",
              "999                         AUDIO ZOOM PTE LTD  ...                                                                                                                                                                                                                                                                       [AUDIO, ZOOM, ACRA-REGISTERED, ENTITY, OPERATE, YEAR, MONTH, SINGAPORE, INCORPORATION, Y, OFFICIALLY, AUDIO, ZOOM, PTE, LTD, REGISTER, EXEMPT, PRIVATE, LIMITED, COMPANY, ADDRESS, DISTRICT, JURONG, PRIMARILY, OPERATE, SECTOR, RESEARCH, EXPERIMENTAL, DEVELOPMENT, ELECTRONICS, SSIC, CODE]\n",
              "\n",
              "[950 rows x 10 columns]"
            ]
          },
          "metadata": {
            "tags": []
          },
          "execution_count": 25
        }
      ]
    },
    {
      "cell_type": "markdown",
      "metadata": {
        "id": "oNrfPLrEbXSh"
      },
      "source": [
        "### 4.7. Bag of Words\n",
        "\n",
        "---\n",
        "\n",
        "Here, we will do Bag Of Words to tokenize our word vector."
      ]
    },
    {
      "cell_type": "code",
      "metadata": {
        "id": "G1zJBkfx6euk",
        "colab": {
          "base_uri": "https://localhost:8080/"
        },
        "outputId": "bba08c5c-3b90-43c2-d3a5-b8f9c906cc57"
      },
      "source": [
        "# combine all keywords from all sectors\n",
        "keywords_masterlist = []\n",
        "for index, row in df_keywords.iterrows():\n",
        "    keywords_masterlist += eval(row['Sector Keywords'])\n",
        "\n",
        "# remove extraenous keywords, then sort\n",
        "keywords_masterlist = sorted(list(set(keywords_masterlist)))\n",
        "print(len(keywords_masterlist))"
      ],
      "execution_count": 26,
      "outputs": [
        {
          "output_type": "stream",
          "text": [
            "1473\n"
          ],
          "name": "stdout"
        }
      ]
    },
    {
      "cell_type": "code",
      "metadata": {
        "id": "tyzmOri2ZrGl",
        "colab": {
          "base_uri": "https://localhost:8080/",
          "height": 1000
        },
        "outputId": "b9f16e43-6151-418a-8620-0c423f961e95"
      },
      "source": [
        "# do bag of words\n",
        "bow_vectors = []\n",
        "for index, row in df_valid.iterrows():\n",
        "    company = row['processed']\n",
        "\n",
        "    dictionary = dict.fromkeys(keywords_masterlist, 0)\n",
        "    for word in company:\n",
        "        if word in keywords_masterlist:\n",
        "            dictionary[word] += 1\n",
        "\n",
        "    # append to dataframe\n",
        "    bow_vectors.append(list(dictionary.values()))\n",
        "\n",
        "df_valid['BoW_vectors'] = bow_vectors\n",
        "\n",
        "df_valid"
      ],
      "execution_count": 27,
      "outputs": [
        {
          "output_type": "execute_result",
          "data": {
            "text/html": [
              "<div>\n",
              "<style scoped>\n",
              "    .dataframe tbody tr th:only-of-type {\n",
              "        vertical-align: middle;\n",
              "    }\n",
              "\n",
              "    .dataframe tbody tr th {\n",
              "        vertical-align: top;\n",
              "    }\n",
              "\n",
              "    .dataframe thead th {\n",
              "        text-align: right;\n",
              "    }\n",
              "</style>\n",
              "<table border=\"1\" class=\"dataframe\">\n",
              "  <thead>\n",
              "    <tr style=\"text-align: right;\">\n",
              "      <th></th>\n",
              "      <th>Company</th>\n",
              "      <th>Country</th>\n",
              "      <th>Sector</th>\n",
              "      <th>Subsector</th>\n",
              "      <th>Archetype</th>\n",
              "      <th>Valuechain</th>\n",
              "      <th>Company Profile Information</th>\n",
              "      <th>length</th>\n",
              "      <th>list_tag</th>\n",
              "      <th>processed</th>\n",
              "      <th>BoW_vectors</th>\n",
              "    </tr>\n",
              "  </thead>\n",
              "  <tbody>\n",
              "    <tr>\n",
              "      <th>0</th>\n",
              "      <td>AKSORN CHAROEN TAT ACT. CO.,LTD.</td>\n",
              "      <td>THAILAND</td>\n",
              "      <td>TMT</td>\n",
              "      <td>media</td>\n",
              "      <td>media_aggregator/distributor</td>\n",
              "      <td>MIDSTREAM</td>\n",
              "      <td>For over 80 years of experience in creating and developing high-quality learning materials has enabled us to provide world-class educational innovation to meet the needs of all teachers, students, institutions and educational authorities.</td>\n",
              "      <td>238</td>\n",
              "      <td>[6, 18, 49, 5]</td>\n",
              "      <td>[YEAR, EXPERIENCE, CREATE, DEVELOP, HIGH-QUALITY, LEARNING, MATERIAL, ENABLE, PROVIDE, WORLD-CLASS, EDUCATIONAL, INNOVATION, MEET, NEED, TEACHER, STUDENT, INSTITUTION, EDUCATIONAL, AUTHORITY]</td>\n",
              "      <td>[0, 0, 0, 0, 0, 0, 0, 0, 0, 0, 0, 0, 0, 0, 0, 0, 0, 0, 0, 0, 0, 0, 0, 0, 0, 0, 0, 0, 0, 0, 0, 0, 0, 0, 0, 0, 0, 0, 0, 0, 0, 0, 0, 0, 0, 0, 0, 0, 0, 0, 0, 0, 0, 0, 0, 0, 0, 0, 0, 0, 0, 0, 0, 0, 0, 0, 0, 0, 0, 0, 0, 0, 0, 0, 0, 0, 0, 0, 0, 0, 0, 0, 0, 0, 0, 0, 0, 0, 0, 0, 0, 0, 0, 0, 0, 0, 0, 0, 0, 0, ...]</td>\n",
              "    </tr>\n",
              "    <tr>\n",
              "      <th>1</th>\n",
              "      <td>DONGGUAN SHENGYA CLEANING APPLIAME CO.LTD</td>\n",
              "      <td>CHINA</td>\n",
              "      <td>TMT</td>\n",
              "      <td>consumer electronics</td>\n",
              "      <td>consumer electronics_distributor</td>\n",
              "      <td>DOWNSTREAM</td>\n",
              "      <td>Yatai's main products cover various cleaning machinery, cleaning agents, cleaning tools, stone maintenance and other cleaning products; cleaning solutions and services include product technical consultation, product customization, employee training, maintenance and so on.</td>\n",
              "      <td>273</td>\n",
              "      <td>[6, 8, 20, 3]</td>\n",
              "      <td>[YATAI, MAIN, PRODUCT, COVER, CLEANING, MACHINERY, CLEAN, AGENT, CLEANING, TOOL, STONE, MAINTENANCE, CLEANING, PRODUCT, CLEAN, SOLUTION, SERVICE, INCLUDE, PRODUCT, TECHNICAL, CONSULTATION, PRODUCT, CUSTOMIZATION, EMPLOYEE, TRAINING, MAINTENANCE]</td>\n",
              "      <td>[0, 0, 0, 0, 0, 0, 0, 0, 0, 0, 0, 0, 0, 0, 0, 0, 0, 0, 0, 0, 0, 0, 0, 0, 0, 0, 0, 0, 0, 0, 0, 0, 0, 0, 0, 0, 0, 0, 0, 0, 0, 0, 0, 0, 0, 0, 0, 0, 0, 0, 0, 0, 0, 0, 0, 0, 0, 0, 0, 0, 0, 0, 0, 0, 0, 0, 0, 0, 0, 0, 0, 0, 0, 0, 0, 0, 0, 0, 0, 0, 0, 0, 0, 0, 0, 0, 0, 0, 0, 0, 0, 0, 0, 0, 0, 0, 0, 0, 0, 0, ...]</td>\n",
              "    </tr>\n",
              "    <tr>\n",
              "      <th>2</th>\n",
              "      <td>EXIS TECH SDN. BHD.</td>\n",
              "      <td>MALAYSIA</td>\n",
              "      <td>OOS</td>\n",
              "      <td>others</td>\n",
              "      <td>others</td>\n",
              "      <td></td>\n",
              "      <td>In the beginning, it started off by providing technical support for test handlers, then moving into module design and production. Its first, in-house designed, full-fledged handler was introduced in 2008. Since then, the company has designed and produced a wide range of turret and pick-and-place solutions for its customers all over the world.</td>\n",
              "      <td>344</td>\n",
              "      <td>[4, 24, 64, 0]</td>\n",
              "      <td>[BEGINNING, START, PROVIDE, TECHNICAL, SUPPORT, TEST, HANDLER, MOVE, MODULE, DESIGN, PRODUCTION, IN-HOUSE, DESIGN, FULL-FLEDGED, HANDLER, INTRODUCE, COMPANY, DESIGN, PRODUCE, WIDE, RANGE, TURRET, PICK-AND-PLACE, SOLUTION, CUSTOMER, WORLD]</td>\n",
              "      <td>[0, 0, 0, 0, 0, 0, 0, 0, 0, 0, 0, 0, 0, 0, 0, 0, 0, 0, 0, 0, 0, 0, 0, 0, 0, 0, 0, 0, 0, 0, 0, 0, 0, 0, 0, 0, 0, 0, 0, 0, 0, 0, 0, 0, 0, 0, 0, 0, 0, 0, 0, 0, 0, 0, 0, 0, 0, 0, 0, 0, 0, 0, 0, 0, 0, 0, 0, 0, 0, 0, 0, 0, 0, 0, 0, 0, 0, 0, 0, 0, 0, 0, 0, 0, 0, 0, 0, 0, 0, 0, 0, 0, 0, 0, 0, 0, 0, 0, 0, 0, ...]</td>\n",
              "    </tr>\n",
              "    <tr>\n",
              "      <th>4</th>\n",
              "      <td>Aztech Electronics Pte Ltd</td>\n",
              "      <td>SINGAPORE</td>\n",
              "      <td>TMT</td>\n",
              "      <td>consumer electronics</td>\n",
              "      <td>consumer electronics_distributor</td>\n",
              "      <td>DOWNSTREAM</td>\n",
              "      <td>Being a turnkey, one-stop integrated solutions provider based in Singapore, Aztech is equipped with state-of-the-art equipment, R&amp;D, design, manufacturing and packaging capabilities to deliver a seamless, unified experience. Each and every time. Always striving towards the edge of technology for more than 34 years, we have been building capabilities to serve clients’ manufacturing needs, including the consumer electronics, telecommunications, healthtech, LED lighting, automotive and technology start-up market segments.</td>\n",
              "      <td>524</td>\n",
              "      <td>[6, 8, 20, 3]</td>\n",
              "      <td>[TURNKEY, ONE-STOP, INTEGRATED, SOLUTION, PROVIDER, BASE, SINGAPORE, AZTECH, EQUIP, STATE-OF-THE-ART, EQUIPMENT, R&amp;D, DESIGN, MANUFACTURING, PACKAGING, CAPABILITY, DELIVER, SEAMLESS, UNIFIED, EXPERIENCE, TIME, STRIVE, EDGE, TECHNOLOGY, YEAR, BUILD, CAPABILITY, SERVE, CLIENT, MANUFACTURING, NEED, INCLUDE, CONSUMER, ELECTRONIC, TELECOMMUNICATION, HEALTHTECH, LED, LIGHTING, AUTOMOTIVE, TECHNOLOGY, START-UP, MARKET, SEGMENT]</td>\n",
              "      <td>[0, 0, 0, 0, 0, 0, 0, 0, 0, 0, 0, 0, 0, 0, 0, 0, 0, 0, 0, 0, 0, 0, 0, 0, 0, 0, 0, 0, 0, 0, 0, 0, 0, 0, 0, 0, 0, 0, 0, 0, 0, 0, 0, 0, 0, 0, 0, 0, 0, 0, 0, 0, 0, 0, 0, 0, 0, 0, 0, 0, 0, 0, 0, 0, 0, 0, 0, 0, 0, 0, 0, 0, 0, 0, 0, 0, 0, 0, 0, 0, 0, 0, 0, 0, 0, 0, 0, 0, 0, 0, 0, 0, 0, 0, 0, 0, 0, 0, 0, 0, ...]</td>\n",
              "    </tr>\n",
              "    <tr>\n",
              "      <th>5</th>\n",
              "      <td>TONGDUN INTERNATIONAL PTE LTD</td>\n",
              "      <td>SINGAPORE</td>\n",
              "      <td>TMT</td>\n",
              "      <td>it_services</td>\n",
              "      <td>it_services</td>\n",
              "      <td>MIDSTREAM</td>\n",
              "      <td>Tongdun Technology is a professional third-party intelligent risk management and decision-making service provider headquartered in Hangzhou, Zhejiang. By integrating artificial intelligence into business scenarios, Tongdun Technology offers solutions in intelligent user analysis, intelligent risk management, intelligent antifraud and intelligent operation to clients from various industries including financial industry, internet business, logistics, healthcare, retail, smart cities and government bodies. Over 10,000 corporate clients have chosen Tongdun Technology’s products and services</td>\n",
              "      <td>593</td>\n",
              "      <td>[6, 17, 46, 5]</td>\n",
              "      <td>[TONGDUN, TECHNOLOGY, PROFESSIONAL, THIRD-PARTY, INTELLIGENT, RISK, MANAGEMENT, DECISION-MAKING, SERVICE, PROVIDER, HEADQUARTER, HANGZHOU, ZHEJIANG, INTEGRATE, ARTIFICIAL, INTELLIGENCE, BUSINESS, SCENARIO, TONGDUN, TECHNOLOGY, OFFER, SOLUTION, INTELLIGENT, USER, ANALYSIS, INTELLIGENT, RISK, MANAGEMENT, INTELLIGENT, ANTIFRAUD, INTELLIGENT, OPERATION, CLIENT, INDUSTRY, INCLUDE, FINANCIAL, INDUSTRY, INTERNET, BUSINESS, LOGISTICS, HEALTHCARE, RETAIL, SMART, CITY, GOVERNMENT, BODY, CORPORATE, CLIENT, CHOOSE, TONGDUN, TECHNOLOGY, PRODUCT, SERVICE]</td>\n",
              "      <td>[0, 0, 0, 0, 0, 0, 0, 0, 0, 0, 0, 0, 0, 0, 0, 0, 0, 0, 0, 0, 0, 0, 0, 0, 0, 0, 0, 0, 0, 0, 0, 0, 0, 0, 0, 0, 0, 0, 0, 0, 0, 0, 0, 0, 0, 0, 0, 0, 0, 0, 0, 0, 0, 0, 0, 0, 0, 0, 0, 0, 0, 0, 0, 0, 0, 0, 0, 0, 0, 0, 0, 0, 0, 0, 0, 0, 0, 0, 0, 0, 0, 0, 0, 0, 0, 0, 0, 0, 0, 0, 0, 0, 0, 0, 0, 0, 0, 0, 0, 0, ...]</td>\n",
              "    </tr>\n",
              "    <tr>\n",
              "      <th>...</th>\n",
              "      <td>...</td>\n",
              "      <td>...</td>\n",
              "      <td>...</td>\n",
              "      <td>...</td>\n",
              "      <td>...</td>\n",
              "      <td>...</td>\n",
              "      <td>...</td>\n",
              "      <td>...</td>\n",
              "      <td>...</td>\n",
              "      <td>...</td>\n",
              "      <td>...</td>\n",
              "    </tr>\n",
              "    <tr>\n",
              "      <th>995</th>\n",
              "      <td>LUX DISTRIBUTOR SDN. BHD.</td>\n",
              "      <td>MALAYSIA</td>\n",
              "      <td>CNI</td>\n",
              "      <td>building_material</td>\n",
              "      <td>building_material_supplier_distributor</td>\n",
              "      <td>DOWNSTREAM</td>\n",
              "      <td>Lux Distributor Sdn Bhd provides building products. The Company offers distribution of tiles, woods, doors, concrete, and other building_materials. Lux supplies its products throughout Malaysia.</td>\n",
              "      <td>194</td>\n",
              "      <td>[1, 3, 9, 3]</td>\n",
              "      <td>[LUX, DISTRIBUTOR, SDN, BHD, PROVIDE, BUILDING, PRODUCT, COMPANY, OFFER, DISTRIBUTION, TILE, WOOD, DOOR, CONCRETE, BUILDING_MATERIAL, LUX, SUPPLY, PRODUCT, MALAYSIA]</td>\n",
              "      <td>[0, 0, 0, 0, 0, 0, 0, 0, 0, 0, 0, 0, 0, 0, 0, 0, 0, 0, 0, 0, 0, 0, 0, 0, 0, 0, 0, 0, 0, 0, 0, 0, 0, 0, 0, 0, 0, 0, 0, 0, 0, 0, 0, 0, 0, 0, 0, 0, 0, 0, 0, 0, 0, 0, 0, 0, 0, 0, 0, 0, 0, 0, 0, 0, 0, 0, 0, 0, 0, 0, 0, 0, 0, 0, 0, 0, 0, 0, 0, 0, 0, 0, 0, 0, 0, 0, 0, 0, 0, 0, 0, 0, 0, 0, 0, 0, 0, 0, 0, 0, ...]</td>\n",
              "    </tr>\n",
              "    <tr>\n",
              "      <th>996</th>\n",
              "      <td>KJI INDUSTRIAL LIMITED</td>\n",
              "      <td>HONG KONG</td>\n",
              "      <td>TMT</td>\n",
              "      <td>consumer electronics</td>\n",
              "      <td>consumer electronics_distributor</td>\n",
              "      <td>DOWNSTREAM</td>\n",
              "      <td>Our wide product range including Citrus Juicer, Hand Blender, Hand Mixer, Stand Blender, Mini Chopper, Egg boiler, Electric knife... etc. Nowsdays, our products are selling to numerous worldwide brands all around the world.</td>\n",
              "      <td>223</td>\n",
              "      <td>[6, 8, 20, 3]</td>\n",
              "      <td>[WIDE, PRODUCT, RANGE, INCLUDE, CITRUS, JUICER, HAND, BLENDER, HAND, MIXER, STAND, BLENDER, MINI, CHOPPER, EGG, BOILER, ELECTRIC, KNIFE, ETC, NOWSDAYS, PRODUCT, SELL, NUMEROUS, WORLDWIDE, BRAND, WORLD]</td>\n",
              "      <td>[0, 0, 0, 0, 0, 0, 0, 0, 0, 0, 0, 0, 0, 0, 0, 0, 0, 0, 0, 0, 0, 0, 0, 0, 0, 0, 0, 0, 0, 0, 0, 0, 0, 0, 0, 0, 0, 0, 0, 0, 0, 0, 0, 0, 0, 0, 0, 0, 0, 0, 0, 0, 0, 0, 0, 0, 0, 0, 0, 0, 0, 0, 0, 0, 0, 0, 0, 0, 0, 0, 0, 0, 0, 0, 0, 0, 0, 0, 0, 0, 0, 0, 0, 0, 0, 0, 0, 0, 0, 0, 0, 0, 0, 0, 0, 0, 0, 0, 0, 0, ...]</td>\n",
              "    </tr>\n",
              "    <tr>\n",
              "      <th>997</th>\n",
              "      <td>TEKNOSERV ENGINEERING SDN. BHD.</td>\n",
              "      <td>MALAYSIA</td>\n",
              "      <td>CNI</td>\n",
              "      <td>utilities</td>\n",
              "      <td>utilities_developer</td>\n",
              "      <td>UPSTREAM</td>\n",
              "      <td>Teknoserv Engineering Sdn Bhd provides water services. The Company installs waste water and water treatment plants. Teknoserv Engineering operates in Shah Alam, Malaysia.</td>\n",
              "      <td>170</td>\n",
              "      <td>[1, 31, 89, 7]</td>\n",
              "      <td>[TEKNOSERV, ENGINEERING, SDN, BHD, PROVIDE, WATER, SERVICE, COMPANY, INSTALL, WASTE, WATER, WATER, TREATMENT, PLANT, TEKNOSERV, ENGINEERING, OPERATE, SHAH, ALAM, MALAYSIA]</td>\n",
              "      <td>[0, 0, 0, 0, 0, 0, 0, 0, 0, 0, 0, 0, 0, 0, 0, 0, 0, 0, 0, 0, 0, 0, 0, 0, 0, 0, 0, 0, 0, 0, 0, 0, 0, 0, 0, 0, 0, 0, 0, 0, 0, 0, 0, 0, 0, 0, 0, 0, 0, 0, 0, 0, 0, 0, 0, 0, 0, 0, 0, 0, 0, 0, 0, 0, 0, 0, 0, 0, 0, 0, 0, 0, 0, 0, 0, 0, 0, 0, 0, 0, 0, 0, 0, 0, 0, 0, 0, 0, 0, 0, 0, 0, 0, 0, 0, 0, 0, 0, 0, 0, ...]</td>\n",
              "    </tr>\n",
              "    <tr>\n",
              "      <th>998</th>\n",
              "      <td>THERMAL SOLUTIONS ASIA PTE LTD</td>\n",
              "      <td>SINGAPORE</td>\n",
              "      <td>CNI</td>\n",
              "      <td>cni_service providers</td>\n",
              "      <td>cni_service providers</td>\n",
              "      <td>MIDSTREAM</td>\n",
              "      <td>Founded in 2000, Thermal Solutions Asia Pte Ltd has become a leading supplier of Combustion Equipment and Related Services.</td>\n",
              "      <td>124</td>\n",
              "      <td>[1, 6, 14, 5]</td>\n",
              "      <td>[FOUND, THERMAL, SOLUTIONS, ASIA, PTE, LTD, LEAD, SUPPLIER, COMBUSTION, EQUIPMENT, RELATED, SERVICES]</td>\n",
              "      <td>[0, 0, 0, 0, 0, 0, 0, 0, 0, 0, 0, 0, 0, 0, 0, 0, 0, 0, 0, 0, 0, 0, 0, 0, 0, 0, 0, 0, 0, 0, 0, 0, 0, 0, 0, 0, 0, 0, 0, 0, 0, 0, 0, 0, 0, 0, 0, 0, 0, 0, 0, 0, 0, 0, 0, 0, 0, 0, 0, 0, 0, 0, 0, 0, 0, 0, 0, 0, 0, 0, 0, 0, 0, 0, 0, 0, 0, 0, 0, 0, 0, 0, 0, 0, 0, 0, 0, 0, 0, 0, 0, 0, 0, 0, 0, 0, 0, 0, 0, 0, ...]</td>\n",
              "    </tr>\n",
              "    <tr>\n",
              "      <th>999</th>\n",
              "      <td>AUDIO ZOOM PTE LTD</td>\n",
              "      <td>SINGAPORE</td>\n",
              "      <td>TMT</td>\n",
              "      <td>it_services</td>\n",
              "      <td>it_services</td>\n",
              "      <td>MIDSTREAM</td>\n",
              "      <td>AUDIO ZOOM is an ACRA-registered entity that has been operating for 3 years 1 month in Singapore since its incorporation y in 2018. Officially, AUDIO ZOOM PTE. LTD. is registered as Exempt Private Limited Company with its address in District 22 (Jurong), primarily operates in the sector of \"RESEARCH AND EXPERIMENTAL DEVELOPMENT ON ELECTRONICS\", SSIC code - 72102</td>\n",
              "      <td>364</td>\n",
              "      <td>[6, 17, 46, 5]</td>\n",
              "      <td>[AUDIO, ZOOM, ACRA-REGISTERED, ENTITY, OPERATE, YEAR, MONTH, SINGAPORE, INCORPORATION, Y, OFFICIALLY, AUDIO, ZOOM, PTE, LTD, REGISTER, EXEMPT, PRIVATE, LIMITED, COMPANY, ADDRESS, DISTRICT, JURONG, PRIMARILY, OPERATE, SECTOR, RESEARCH, EXPERIMENTAL, DEVELOPMENT, ELECTRONICS, SSIC, CODE]</td>\n",
              "      <td>[0, 0, 0, 0, 0, 0, 0, 0, 0, 0, 0, 0, 0, 0, 0, 0, 0, 0, 0, 0, 0, 0, 0, 0, 0, 0, 0, 0, 0, 0, 0, 0, 0, 0, 0, 0, 0, 0, 0, 0, 0, 0, 0, 0, 0, 0, 0, 0, 0, 0, 0, 0, 0, 0, 0, 0, 0, 0, 0, 0, 0, 0, 0, 0, 0, 0, 0, 0, 0, 0, 0, 0, 0, 0, 0, 0, 0, 0, 0, 0, 0, 0, 0, 0, 0, 0, 0, 0, 0, 0, 0, 0, 0, 0, 0, 0, 0, 0, 0, 0, ...]</td>\n",
              "    </tr>\n",
              "  </tbody>\n",
              "</table>\n",
              "<p>950 rows × 11 columns</p>\n",
              "</div>"
            ],
            "text/plain": [
              "                                       Company  ...                                                                                                                                                                                                                                                                                                        BoW_vectors\n",
              "0             AKSORN CHAROEN TAT ACT. CO.,LTD.  ...  [0, 0, 0, 0, 0, 0, 0, 0, 0, 0, 0, 0, 0, 0, 0, 0, 0, 0, 0, 0, 0, 0, 0, 0, 0, 0, 0, 0, 0, 0, 0, 0, 0, 0, 0, 0, 0, 0, 0, 0, 0, 0, 0, 0, 0, 0, 0, 0, 0, 0, 0, 0, 0, 0, 0, 0, 0, 0, 0, 0, 0, 0, 0, 0, 0, 0, 0, 0, 0, 0, 0, 0, 0, 0, 0, 0, 0, 0, 0, 0, 0, 0, 0, 0, 0, 0, 0, 0, 0, 0, 0, 0, 0, 0, 0, 0, 0, 0, 0, 0, ...]\n",
              "1    DONGGUAN SHENGYA CLEANING APPLIAME CO.LTD  ...  [0, 0, 0, 0, 0, 0, 0, 0, 0, 0, 0, 0, 0, 0, 0, 0, 0, 0, 0, 0, 0, 0, 0, 0, 0, 0, 0, 0, 0, 0, 0, 0, 0, 0, 0, 0, 0, 0, 0, 0, 0, 0, 0, 0, 0, 0, 0, 0, 0, 0, 0, 0, 0, 0, 0, 0, 0, 0, 0, 0, 0, 0, 0, 0, 0, 0, 0, 0, 0, 0, 0, 0, 0, 0, 0, 0, 0, 0, 0, 0, 0, 0, 0, 0, 0, 0, 0, 0, 0, 0, 0, 0, 0, 0, 0, 0, 0, 0, 0, 0, ...]\n",
              "2                          EXIS TECH SDN. BHD.  ...  [0, 0, 0, 0, 0, 0, 0, 0, 0, 0, 0, 0, 0, 0, 0, 0, 0, 0, 0, 0, 0, 0, 0, 0, 0, 0, 0, 0, 0, 0, 0, 0, 0, 0, 0, 0, 0, 0, 0, 0, 0, 0, 0, 0, 0, 0, 0, 0, 0, 0, 0, 0, 0, 0, 0, 0, 0, 0, 0, 0, 0, 0, 0, 0, 0, 0, 0, 0, 0, 0, 0, 0, 0, 0, 0, 0, 0, 0, 0, 0, 0, 0, 0, 0, 0, 0, 0, 0, 0, 0, 0, 0, 0, 0, 0, 0, 0, 0, 0, 0, ...]\n",
              "4                   Aztech Electronics Pte Ltd  ...  [0, 0, 0, 0, 0, 0, 0, 0, 0, 0, 0, 0, 0, 0, 0, 0, 0, 0, 0, 0, 0, 0, 0, 0, 0, 0, 0, 0, 0, 0, 0, 0, 0, 0, 0, 0, 0, 0, 0, 0, 0, 0, 0, 0, 0, 0, 0, 0, 0, 0, 0, 0, 0, 0, 0, 0, 0, 0, 0, 0, 0, 0, 0, 0, 0, 0, 0, 0, 0, 0, 0, 0, 0, 0, 0, 0, 0, 0, 0, 0, 0, 0, 0, 0, 0, 0, 0, 0, 0, 0, 0, 0, 0, 0, 0, 0, 0, 0, 0, 0, ...]\n",
              "5                TONGDUN INTERNATIONAL PTE LTD  ...  [0, 0, 0, 0, 0, 0, 0, 0, 0, 0, 0, 0, 0, 0, 0, 0, 0, 0, 0, 0, 0, 0, 0, 0, 0, 0, 0, 0, 0, 0, 0, 0, 0, 0, 0, 0, 0, 0, 0, 0, 0, 0, 0, 0, 0, 0, 0, 0, 0, 0, 0, 0, 0, 0, 0, 0, 0, 0, 0, 0, 0, 0, 0, 0, 0, 0, 0, 0, 0, 0, 0, 0, 0, 0, 0, 0, 0, 0, 0, 0, 0, 0, 0, 0, 0, 0, 0, 0, 0, 0, 0, 0, 0, 0, 0, 0, 0, 0, 0, 0, ...]\n",
              "..                                         ...  ...                                                                                                                                                                                                                                                                                                                ...\n",
              "995                  LUX DISTRIBUTOR SDN. BHD.  ...  [0, 0, 0, 0, 0, 0, 0, 0, 0, 0, 0, 0, 0, 0, 0, 0, 0, 0, 0, 0, 0, 0, 0, 0, 0, 0, 0, 0, 0, 0, 0, 0, 0, 0, 0, 0, 0, 0, 0, 0, 0, 0, 0, 0, 0, 0, 0, 0, 0, 0, 0, 0, 0, 0, 0, 0, 0, 0, 0, 0, 0, 0, 0, 0, 0, 0, 0, 0, 0, 0, 0, 0, 0, 0, 0, 0, 0, 0, 0, 0, 0, 0, 0, 0, 0, 0, 0, 0, 0, 0, 0, 0, 0, 0, 0, 0, 0, 0, 0, 0, ...]\n",
              "996                     KJI INDUSTRIAL LIMITED  ...  [0, 0, 0, 0, 0, 0, 0, 0, 0, 0, 0, 0, 0, 0, 0, 0, 0, 0, 0, 0, 0, 0, 0, 0, 0, 0, 0, 0, 0, 0, 0, 0, 0, 0, 0, 0, 0, 0, 0, 0, 0, 0, 0, 0, 0, 0, 0, 0, 0, 0, 0, 0, 0, 0, 0, 0, 0, 0, 0, 0, 0, 0, 0, 0, 0, 0, 0, 0, 0, 0, 0, 0, 0, 0, 0, 0, 0, 0, 0, 0, 0, 0, 0, 0, 0, 0, 0, 0, 0, 0, 0, 0, 0, 0, 0, 0, 0, 0, 0, 0, ...]\n",
              "997            TEKNOSERV ENGINEERING SDN. BHD.  ...  [0, 0, 0, 0, 0, 0, 0, 0, 0, 0, 0, 0, 0, 0, 0, 0, 0, 0, 0, 0, 0, 0, 0, 0, 0, 0, 0, 0, 0, 0, 0, 0, 0, 0, 0, 0, 0, 0, 0, 0, 0, 0, 0, 0, 0, 0, 0, 0, 0, 0, 0, 0, 0, 0, 0, 0, 0, 0, 0, 0, 0, 0, 0, 0, 0, 0, 0, 0, 0, 0, 0, 0, 0, 0, 0, 0, 0, 0, 0, 0, 0, 0, 0, 0, 0, 0, 0, 0, 0, 0, 0, 0, 0, 0, 0, 0, 0, 0, 0, 0, ...]\n",
              "998             THERMAL SOLUTIONS ASIA PTE LTD  ...  [0, 0, 0, 0, 0, 0, 0, 0, 0, 0, 0, 0, 0, 0, 0, 0, 0, 0, 0, 0, 0, 0, 0, 0, 0, 0, 0, 0, 0, 0, 0, 0, 0, 0, 0, 0, 0, 0, 0, 0, 0, 0, 0, 0, 0, 0, 0, 0, 0, 0, 0, 0, 0, 0, 0, 0, 0, 0, 0, 0, 0, 0, 0, 0, 0, 0, 0, 0, 0, 0, 0, 0, 0, 0, 0, 0, 0, 0, 0, 0, 0, 0, 0, 0, 0, 0, 0, 0, 0, 0, 0, 0, 0, 0, 0, 0, 0, 0, 0, 0, ...]\n",
              "999                         AUDIO ZOOM PTE LTD  ...  [0, 0, 0, 0, 0, 0, 0, 0, 0, 0, 0, 0, 0, 0, 0, 0, 0, 0, 0, 0, 0, 0, 0, 0, 0, 0, 0, 0, 0, 0, 0, 0, 0, 0, 0, 0, 0, 0, 0, 0, 0, 0, 0, 0, 0, 0, 0, 0, 0, 0, 0, 0, 0, 0, 0, 0, 0, 0, 0, 0, 0, 0, 0, 0, 0, 0, 0, 0, 0, 0, 0, 0, 0, 0, 0, 0, 0, 0, 0, 0, 0, 0, 0, 0, 0, 0, 0, 0, 0, 0, 0, 0, 0, 0, 0, 0, 0, 0, 0, 0, ...]\n",
              "\n",
              "[950 rows x 11 columns]"
            ]
          },
          "metadata": {
            "tags": []
          },
          "execution_count": 27
        }
      ]
    },
    {
      "cell_type": "code",
      "metadata": {
        "id": "GynU6j-bLgdn",
        "colab": {
          "base_uri": "https://localhost:8080/"
        },
        "outputId": "237ba390-e1d0-4143-edbb-cfb04c73d726"
      },
      "source": [
        "# clean up BoW data \n",
        "temp = 0\n",
        "for index, row in df_valid.iterrows():\n",
        "    if sum(row['BoW_vectors']) < 1:\n",
        "        df_valid.drop(index, inplace=True)\n",
        "\n",
        "df_valid.shape"
      ],
      "execution_count": 28,
      "outputs": [
        {
          "output_type": "execute_result",
          "data": {
            "text/plain": [
              "(752, 11)"
            ]
          },
          "metadata": {
            "tags": []
          },
          "execution_count": 28
        }
      ]
    },
    {
      "cell_type": "markdown",
      "metadata": {
        "id": "BOhie4yrqs4M"
      },
      "source": [
        "---\n",
        "---"
      ]
    },
    {
      "cell_type": "markdown",
      "metadata": {
        "id": "uXPxFhqqgX9f"
      },
      "source": [
        "# 5.Models"
      ]
    },
    {
      "cell_type": "markdown",
      "metadata": {
        "id": "3WeKbzLZrOew"
      },
      "source": [
        "### 5.1. Splitting into training and testing dataset.\n",
        "\n",
        "---\n",
        "\n",
        "Here, we will first split our training and testing dataset by a ration of 8:2 respectively."
      ]
    },
    {
      "cell_type": "code",
      "metadata": {
        "id": "hi2lRa6pgWtj",
        "colab": {
          "base_uri": "https://localhost:8080/"
        },
        "outputId": "a9a69f3c-8f0a-40df-a4b8-68530ed69b87"
      },
      "source": [
        "import keras\n",
        "import tensorflow\n",
        "\n",
        "print('--- Version Checking ---')\n",
        "print(\"Keras:\", keras.__version__)\n",
        "\n",
        "vector = np.vectorize(np.float)"
      ],
      "execution_count": 29,
      "outputs": [
        {
          "output_type": "stream",
          "text": [
            "--- Version Checking ---\n",
            "Keras: 2.4.3\n"
          ],
          "name": "stdout"
        }
      ]
    },
    {
      "cell_type": "code",
      "metadata": {
        "colab": {
          "base_uri": "https://localhost:8080/"
        },
        "id": "il4Tp6FBlYSR",
        "outputId": "befbd9e6-5639-4818-e950-a2d37d195c0a"
      },
      "source": [
        "from tensorflow.keras.preprocessing import sequence\n",
        "\n",
        "# split datasets to train and test and validation by 4/5, 1/10 and 1/10 fraction respectively\n",
        "df_train = df_valid.iloc[:600]\n",
        "df_test = df_valid.iloc[600:676]\n",
        "df_validation = df_valid.iloc[676:]\n",
        "\n",
        "df_train.fillna(0, inplace=True)\n",
        "df_test.fillna(0, inplace=True)\n",
        "df_validation.fillna(0 , inplace=True)\n",
        "\n",
        "X_train = sequence.pad_sequences(np.array(list(df_train['BoW_vectors'])))\n",
        "y_train = np.array(list(df_train['list_tag']))\n",
        "\n",
        "X_test = sequence.pad_sequences(np.array(list(df_test['BoW_vectors'])))\n",
        "y_test = np.array(list(df_test['list_tag']))\n",
        "\n",
        "X_validation = sequence.pad_sequences(np.array(list(df_validation['BoW_vectors'])))\n",
        "y_validation = np.array(list(df_validation['list_tag']))\n",
        "\n",
        "print(f'Train data shape: {X_train.shape}\\nTest data shape: {X_test.shape}\\nValidation data shape: {X_validation.shape}')"
      ],
      "execution_count": 30,
      "outputs": [
        {
          "output_type": "stream",
          "text": [
            "Train data shape: (600, 1473)\n",
            "Test data shape: (76, 1473)\n",
            "Validation data shape: (76, 1473)\n"
          ],
          "name": "stdout"
        },
        {
          "output_type": "stream",
          "text": [
            "/usr/local/lib/python3.7/dist-packages/pandas/core/frame.py:4327: SettingWithCopyWarning: \n",
            "A value is trying to be set on a copy of a slice from a DataFrame\n",
            "\n",
            "See the caveats in the documentation: https://pandas.pydata.org/pandas-docs/stable/user_guide/indexing.html#returning-a-view-versus-a-copy\n",
            "  downcast=downcast,\n"
          ],
          "name": "stderr"
        }
      ]
    },
    {
      "cell_type": "code",
      "metadata": {
        "colab": {
          "base_uri": "https://localhost:8080/"
        },
        "id": "DuHIkPHA9ZBT",
        "outputId": "49107b5a-5338-4a76-d754-8d80946552b8"
      },
      "source": [
        "print(f'Train data labels: {y_train.__len__()}\\nTest data labels: {y_test.__len__()}\\nValidation data labels: {y_validation.__len__()}')"
      ],
      "execution_count": 31,
      "outputs": [
        {
          "output_type": "stream",
          "text": [
            "Train data labels: 600\n",
            "Test data labels: 76\n",
            "Validation data labels: 76\n"
          ],
          "name": "stdout"
        }
      ]
    },
    {
      "cell_type": "markdown",
      "metadata": {
        "id": "QhjAJFR4NOq9"
      },
      "source": [
        "### 5.2. Training CNN Model\n",
        "\n",
        "---\n",
        "\n",
        "Here, we will train our CNN model. We will also be doing some hyperparameter tuning to get the best result."
      ]
    },
    {
      "cell_type": "code",
      "metadata": {
        "id": "gpjKtHpC2XhI"
      },
      "source": [
        "p = {'activation' : ['relu'],\n",
        "    'optimizer' : ['Adam'],\n",
        "    'losses' : ['binary_crossentropy', 'categorical_crossentropy'],\n",
        "    # 'shapes' : ['brick', 'triangle'],\n",
        "    'shapes' : ['brick'],\n",
        "    # 'first_neuron' : [64, 128],\n",
        "    'first_neuron' : [64],\n",
        "    # 'hidden_layers' : [2, 3],\n",
        "    'hidden_layers' : [2],\n",
        "    # 'dropout' : (0.3, 0.4, 0.5),\n",
        "    'dropout' : [0.3],\n",
        "    'kernel_initializer' : ['normal', 'glorot_normal', 'glorot_uniform'],\n",
        "    # 'batch_size' : (20, 30, 40),\n",
        "    'batch_size' : [20]\n",
        "}"
      ],
      "execution_count": 32,
      "outputs": []
    },
    {
      "cell_type": "code",
      "metadata": {
        "id": "6KRBNPh0hHTY"
      },
      "source": [
        "# create CNN model\n",
        "from tensorflow.keras.layers import Dense, Conv1D, Dropout, MaxPooling1D, GlobalMaxPooling1D, Embedding, Input\n",
        "from tensorflow.keras import Sequential\n",
        "from talos.utils import hidden_layers,ExperimentLogCallback\n",
        "import talos as ts\n",
        "\n",
        "def create_model(X_train, y_train, X_validation, y_validation, params):\n",
        "\n",
        "    # # create a if else here in order to label the models\n",
        "    if len(y_train[0]) == len(sector):\n",
        "      name = 'sector_model'\n",
        "      exp_name = 'sector_model_experiment'\n",
        "    elif len(y_train[0]) == len(subsector):\n",
        "      name = 'subsector_model'\n",
        "      exp_name = 'subsector_model_experiment'\n",
        "    elif len(y_train[0]) == len(archetype):\n",
        "      name = 'archetype_model'\n",
        "      exp_name = 'archetype_model_experiment'\n",
        "    elif len(y_train[0]) == len(valuechain):\n",
        "      name = 'valuechain_model'\n",
        "      exp_name = 'valuechain_model_experiment'\n",
        "\n",
        "    model = Sequential(name=name)\n",
        "\n",
        "    # hidden layers\n",
        "    series_input = Input(shape=(len(keywords_masterlist), ))\n",
        "    model.add(Conv1D(filters=256, kernel_size=7, activation='relu', padding='same', input_shape=series_input.shape))\n",
        "\n",
        "    hidden_layers(model, params, len(y_train[0]))\n",
        "\n",
        "    model.add(MaxPooling1D(pool_size=2, padding='same'))\n",
        "    model.add(Conv1D(filters=256, kernel_size=7, activation='relu', padding='same'))\n",
        "    model.add(GlobalMaxPooling1D())\n",
        "    model.add(Dropout(params['dropout']))\n",
        "    model.add(Dense(params['first_neuron'], kernel_initializer=params['kernel_initializer'], activation=params['activation']))\n",
        "\n",
        "    # output\n",
        "    model.add(Dense(len(y_train[0]), activation='softmax'))\n",
        "\n",
        "    # model summary\n",
        "    model.summary()\n",
        "\n",
        "    # compile model\n",
        "    model.compile(loss=params['losses'], optimizer=params['optimizer'], metrics=['accuracy'])\n",
        "\n",
        "    # history\n",
        "    history = model.fit(X_train, y_train, validation_data=(X_validation, y_validation), epochs=200, batch_size=params['batch_size'], callbacks=[ExperimentLogCallback(exp_name,params)], verbose=0)\n",
        "\n",
        "    return history, model\n",
        "\n",
        "# one hot encode\n",
        "def one_hot(arr, n_cat):\n",
        "    output = []\n",
        "    for n in arr:\n",
        "        result = np.zeros(n_cat)\n",
        "        result[n] = 1\n",
        "\n",
        "        output.append(result)\n",
        "\n",
        "    return np.array(output, dtype=int)"
      ],
      "execution_count": 33,
      "outputs": []
    },
    {
      "cell_type": "code",
      "metadata": {
        "colab": {
          "base_uri": "https://localhost:8080/"
        },
        "id": "yvGIYGxlAetm",
        "outputId": "0d9298f6-5225-4e9b-cc9d-9360a84c3c0d"
      },
      "source": [
        "print(one_hot(y_train[:,0], len(sector)).shape)"
      ],
      "execution_count": 34,
      "outputs": [
        {
          "output_type": "stream",
          "text": [
            "(600, 7)\n"
          ],
          "name": "stdout"
        }
      ]
    },
    {
      "cell_type": "code",
      "metadata": {
        "id": "UnDZycnzxWyW"
      },
      "source": [
        "X_train = vector(X_train.reshape(X_train.shape[0], 1, X_train.shape[1]))\n",
        "X_validation = vector(X_validation.reshape(X_validation.shape[0], 1, X_validation.shape[1]))\n",
        "X_test = X_test.reshape(X_test.shape[0], 1, X_test.shape[1])"
      ],
      "execution_count": 35,
      "outputs": []
    },
    {
      "cell_type": "code",
      "metadata": {
        "colab": {
          "base_uri": "https://localhost:8080/"
        },
        "id": "stQ9Jewc1_Cc",
        "outputId": "7c62447c-741d-45b7-cc26-d28cd7070fe1"
      },
      "source": [
        "# split into multijobs for faster processing\n",
        "from talos.utils.gpu_utils import parallel_gpu_jobs\n",
        "parallel_gpu_jobs(0.5)\n",
        "\n",
        "# plot a real life dataplot\n",
        "test_sector_model = ts.Scan(x=X_train, y=one_hot(y_train[:,0], tag_counts[0]), params = p, model=create_model, experiment_name='sector_model_experiment', random_method='pseudo', print_params=True)\n",
        "test_subsector_model = ts.Scan(x=X_train, y=one_hot(y_train[:,1], tag_counts[1]), params = p, model=create_model, experiment_name='subsector_model_experiment', random_method='pseudo', print_params=True)\n",
        "test_archetype_model = ts.Scan(x=X_train, y=one_hot(y_train[:,2], tag_counts[2]), params = p, model=create_model, experiment_name='archetype_model_experiment', random_method='pseudo', print_params=True)\n",
        "test_valuechain_model = ts.Scan(x=X_train, y=one_hot(y_train[:,3], tag_counts[3]), params = p, model=create_model, experiment_name='valuechain_model_experiment', random_method='pseudo', print_params=True)"
      ],
      "execution_count": 36,
      "outputs": [
        {
          "output_type": "stream",
          "text": [
            "WARNING:tensorflow:From /usr/local/lib/python3.7/dist-packages/talos/utils/gpu_utils.py:19: The name tf.keras.backend.set_session is deprecated. Please use tf.compat.v1.keras.backend.set_session instead.\n",
            "\n"
          ],
          "name": "stdout"
        },
        {
          "output_type": "stream",
          "text": [
            "\r  0%|          | 0/6 [00:00<?, ?it/s]"
          ],
          "name": "stderr"
        },
        {
          "output_type": "stream",
          "text": [
            "{'activation': 'relu', 'batch_size': 20, 'dropout': 0.3, 'first_neuron': 64, 'hidden_layers': 2, 'kernel_initializer': 'normal', 'losses': 'binary_crossentropy', 'optimizer': 'Adam', 'shapes': 'brick'}\n",
            "Model: \"sector_model\"\n",
            "_________________________________________________________________\n",
            "Layer (type)                 Output Shape              Param #   \n",
            "=================================================================\n",
            "conv1d (Conv1D)              (None, None, 256)         2639872   \n",
            "_________________________________________________________________\n",
            "dense (Dense)                (None, None, 64)          16448     \n",
            "_________________________________________________________________\n",
            "dropout (Dropout)            (None, None, 64)          0         \n",
            "_________________________________________________________________\n",
            "dense_1 (Dense)              (None, None, 64)          4160      \n",
            "_________________________________________________________________\n",
            "dropout_1 (Dropout)          (None, None, 64)          0         \n",
            "_________________________________________________________________\n",
            "max_pooling1d (MaxPooling1D) (None, None, 64)          0         \n",
            "_________________________________________________________________\n",
            "conv1d_1 (Conv1D)            (None, None, 256)         114944    \n",
            "_________________________________________________________________\n",
            "global_max_pooling1d (Global (None, 256)               0         \n",
            "_________________________________________________________________\n",
            "dropout_2 (Dropout)          (None, 256)               0         \n",
            "_________________________________________________________________\n",
            "dense_2 (Dense)              (None, 64)                16448     \n",
            "_________________________________________________________________\n",
            "dense_3 (Dense)              (None, 7)                 455       \n",
            "=================================================================\n",
            "Total params: 2,792,327\n",
            "Trainable params: 2,792,327\n",
            "Non-trainable params: 0\n",
            "_________________________________________________________________\n"
          ],
          "name": "stdout"
        },
        {
          "output_type": "stream",
          "text": [
            "\r 17%|█▋        | 1/6 [00:24<02:04, 24.91s/it]"
          ],
          "name": "stderr"
        },
        {
          "output_type": "stream",
          "text": [
            "{'activation': 'relu', 'batch_size': 20, 'dropout': 0.3, 'first_neuron': 64, 'hidden_layers': 2, 'kernel_initializer': 'normal', 'losses': 'categorical_crossentropy', 'optimizer': 'Adam', 'shapes': 'brick'}\n",
            "Model: \"sector_model\"\n",
            "_________________________________________________________________\n",
            "Layer (type)                 Output Shape              Param #   \n",
            "=================================================================\n",
            "conv1d (Conv1D)              (None, None, 256)         2639872   \n",
            "_________________________________________________________________\n",
            "dense (Dense)                (None, None, 64)          16448     \n",
            "_________________________________________________________________\n",
            "dropout (Dropout)            (None, None, 64)          0         \n",
            "_________________________________________________________________\n",
            "dense_1 (Dense)              (None, None, 64)          4160      \n",
            "_________________________________________________________________\n",
            "dropout_1 (Dropout)          (None, None, 64)          0         \n",
            "_________________________________________________________________\n",
            "max_pooling1d (MaxPooling1D) (None, None, 64)          0         \n",
            "_________________________________________________________________\n",
            "conv1d_1 (Conv1D)            (None, None, 256)         114944    \n",
            "_________________________________________________________________\n",
            "global_max_pooling1d (Global (None, 256)               0         \n",
            "_________________________________________________________________\n",
            "dropout_2 (Dropout)          (None, 256)               0         \n",
            "_________________________________________________________________\n",
            "dense_2 (Dense)              (None, 64)                16448     \n",
            "_________________________________________________________________\n",
            "dense_3 (Dense)              (None, 7)                 455       \n",
            "=================================================================\n",
            "Total params: 2,792,327\n",
            "Trainable params: 2,792,327\n",
            "Non-trainable params: 0\n",
            "_________________________________________________________________\n"
          ],
          "name": "stdout"
        },
        {
          "output_type": "stream",
          "text": [
            "\r 33%|███▎      | 2/6 [00:48<01:38, 24.59s/it]"
          ],
          "name": "stderr"
        },
        {
          "output_type": "stream",
          "text": [
            "{'activation': 'relu', 'batch_size': 20, 'dropout': 0.3, 'first_neuron': 64, 'hidden_layers': 2, 'kernel_initializer': 'glorot_normal', 'losses': 'binary_crossentropy', 'optimizer': 'Adam', 'shapes': 'brick'}\n",
            "Model: \"sector_model\"\n",
            "_________________________________________________________________\n",
            "Layer (type)                 Output Shape              Param #   \n",
            "=================================================================\n",
            "conv1d (Conv1D)              (None, None, 256)         2639872   \n",
            "_________________________________________________________________\n",
            "dense (Dense)                (None, None, 64)          16448     \n",
            "_________________________________________________________________\n",
            "dropout (Dropout)            (None, None, 64)          0         \n",
            "_________________________________________________________________\n",
            "dense_1 (Dense)              (None, None, 64)          4160      \n",
            "_________________________________________________________________\n",
            "dropout_1 (Dropout)          (None, None, 64)          0         \n",
            "_________________________________________________________________\n",
            "max_pooling1d (MaxPooling1D) (None, None, 64)          0         \n",
            "_________________________________________________________________\n",
            "conv1d_1 (Conv1D)            (None, None, 256)         114944    \n",
            "_________________________________________________________________\n",
            "global_max_pooling1d (Global (None, 256)               0         \n",
            "_________________________________________________________________\n",
            "dropout_2 (Dropout)          (None, 256)               0         \n",
            "_________________________________________________________________\n",
            "dense_2 (Dense)              (None, 64)                16448     \n",
            "_________________________________________________________________\n",
            "dense_3 (Dense)              (None, 7)                 455       \n",
            "=================================================================\n",
            "Total params: 2,792,327\n",
            "Trainable params: 2,792,327\n",
            "Non-trainable params: 0\n",
            "_________________________________________________________________\n"
          ],
          "name": "stdout"
        },
        {
          "output_type": "stream",
          "text": [
            "\r 50%|█████     | 3/6 [01:11<01:12, 24.12s/it]"
          ],
          "name": "stderr"
        },
        {
          "output_type": "stream",
          "text": [
            "{'activation': 'relu', 'batch_size': 20, 'dropout': 0.3, 'first_neuron': 64, 'hidden_layers': 2, 'kernel_initializer': 'glorot_normal', 'losses': 'categorical_crossentropy', 'optimizer': 'Adam', 'shapes': 'brick'}\n",
            "Model: \"sector_model\"\n",
            "_________________________________________________________________\n",
            "Layer (type)                 Output Shape              Param #   \n",
            "=================================================================\n",
            "conv1d (Conv1D)              (None, None, 256)         2639872   \n",
            "_________________________________________________________________\n",
            "dense (Dense)                (None, None, 64)          16448     \n",
            "_________________________________________________________________\n",
            "dropout (Dropout)            (None, None, 64)          0         \n",
            "_________________________________________________________________\n",
            "dense_1 (Dense)              (None, None, 64)          4160      \n",
            "_________________________________________________________________\n",
            "dropout_1 (Dropout)          (None, None, 64)          0         \n",
            "_________________________________________________________________\n",
            "max_pooling1d (MaxPooling1D) (None, None, 64)          0         \n",
            "_________________________________________________________________\n",
            "conv1d_1 (Conv1D)            (None, None, 256)         114944    \n",
            "_________________________________________________________________\n",
            "global_max_pooling1d (Global (None, 256)               0         \n",
            "_________________________________________________________________\n",
            "dropout_2 (Dropout)          (None, 256)               0         \n",
            "_________________________________________________________________\n",
            "dense_2 (Dense)              (None, 64)                16448     \n",
            "_________________________________________________________________\n",
            "dense_3 (Dense)              (None, 7)                 455       \n",
            "=================================================================\n",
            "Total params: 2,792,327\n",
            "Trainable params: 2,792,327\n",
            "Non-trainable params: 0\n",
            "_________________________________________________________________\n"
          ],
          "name": "stdout"
        },
        {
          "output_type": "stream",
          "text": [
            "\r 67%|██████▋   | 4/6 [01:35<00:48, 24.10s/it]"
          ],
          "name": "stderr"
        },
        {
          "output_type": "stream",
          "text": [
            "{'activation': 'relu', 'batch_size': 20, 'dropout': 0.3, 'first_neuron': 64, 'hidden_layers': 2, 'kernel_initializer': 'glorot_uniform', 'losses': 'binary_crossentropy', 'optimizer': 'Adam', 'shapes': 'brick'}\n",
            "Model: \"sector_model\"\n",
            "_________________________________________________________________\n",
            "Layer (type)                 Output Shape              Param #   \n",
            "=================================================================\n",
            "conv1d (Conv1D)              (None, None, 256)         2639872   \n",
            "_________________________________________________________________\n",
            "dense (Dense)                (None, None, 64)          16448     \n",
            "_________________________________________________________________\n",
            "dropout (Dropout)            (None, None, 64)          0         \n",
            "_________________________________________________________________\n",
            "dense_1 (Dense)              (None, None, 64)          4160      \n",
            "_________________________________________________________________\n",
            "dropout_1 (Dropout)          (None, None, 64)          0         \n",
            "_________________________________________________________________\n",
            "max_pooling1d (MaxPooling1D) (None, None, 64)          0         \n",
            "_________________________________________________________________\n",
            "conv1d_1 (Conv1D)            (None, None, 256)         114944    \n",
            "_________________________________________________________________\n",
            "global_max_pooling1d (Global (None, 256)               0         \n",
            "_________________________________________________________________\n",
            "dropout_2 (Dropout)          (None, 256)               0         \n",
            "_________________________________________________________________\n",
            "dense_2 (Dense)              (None, 64)                16448     \n",
            "_________________________________________________________________\n",
            "dense_3 (Dense)              (None, 7)                 455       \n",
            "=================================================================\n",
            "Total params: 2,792,327\n",
            "Trainable params: 2,792,327\n",
            "Non-trainable params: 0\n",
            "_________________________________________________________________\n"
          ],
          "name": "stdout"
        },
        {
          "output_type": "stream",
          "text": [
            "\r 83%|████████▎ | 5/6 [01:58<00:23, 23.78s/it]"
          ],
          "name": "stderr"
        },
        {
          "output_type": "stream",
          "text": [
            "{'activation': 'relu', 'batch_size': 20, 'dropout': 0.3, 'first_neuron': 64, 'hidden_layers': 2, 'kernel_initializer': 'glorot_uniform', 'losses': 'categorical_crossentropy', 'optimizer': 'Adam', 'shapes': 'brick'}\n",
            "Model: \"sector_model\"\n",
            "_________________________________________________________________\n",
            "Layer (type)                 Output Shape              Param #   \n",
            "=================================================================\n",
            "conv1d (Conv1D)              (None, None, 256)         2639872   \n",
            "_________________________________________________________________\n",
            "dense (Dense)                (None, None, 64)          16448     \n",
            "_________________________________________________________________\n",
            "dropout (Dropout)            (None, None, 64)          0         \n",
            "_________________________________________________________________\n",
            "dense_1 (Dense)              (None, None, 64)          4160      \n",
            "_________________________________________________________________\n",
            "dropout_1 (Dropout)          (None, None, 64)          0         \n",
            "_________________________________________________________________\n",
            "max_pooling1d (MaxPooling1D) (None, None, 64)          0         \n",
            "_________________________________________________________________\n",
            "conv1d_1 (Conv1D)            (None, None, 256)         114944    \n",
            "_________________________________________________________________\n",
            "global_max_pooling1d (Global (None, 256)               0         \n",
            "_________________________________________________________________\n",
            "dropout_2 (Dropout)          (None, 256)               0         \n",
            "_________________________________________________________________\n",
            "dense_2 (Dense)              (None, 64)                16448     \n",
            "_________________________________________________________________\n",
            "dense_3 (Dense)              (None, 7)                 455       \n",
            "=================================================================\n",
            "Total params: 2,792,327\n",
            "Trainable params: 2,792,327\n",
            "Non-trainable params: 0\n",
            "_________________________________________________________________\n"
          ],
          "name": "stdout"
        },
        {
          "output_type": "stream",
          "text": [
            "100%|██████████| 6/6 [02:23<00:00, 23.87s/it]\n",
            "  0%|          | 0/6 [00:00<?, ?it/s]"
          ],
          "name": "stderr"
        },
        {
          "output_type": "stream",
          "text": [
            "{'activation': 'relu', 'batch_size': 20, 'dropout': 0.3, 'first_neuron': 64, 'hidden_layers': 2, 'kernel_initializer': 'normal', 'losses': 'binary_crossentropy', 'optimizer': 'Adam', 'shapes': 'brick'}\n",
            "Model: \"subsector_model\"\n",
            "_________________________________________________________________\n",
            "Layer (type)                 Output Shape              Param #   \n",
            "=================================================================\n",
            "conv1d (Conv1D)              (None, None, 256)         2639872   \n",
            "_________________________________________________________________\n",
            "dense (Dense)                (None, None, 64)          16448     \n",
            "_________________________________________________________________\n",
            "dropout (Dropout)            (None, None, 64)          0         \n",
            "_________________________________________________________________\n",
            "dense_1 (Dense)              (None, None, 64)          4160      \n",
            "_________________________________________________________________\n",
            "dropout_1 (Dropout)          (None, None, 64)          0         \n",
            "_________________________________________________________________\n",
            "max_pooling1d (MaxPooling1D) (None, None, 64)          0         \n",
            "_________________________________________________________________\n",
            "conv1d_1 (Conv1D)            (None, None, 256)         114944    \n",
            "_________________________________________________________________\n",
            "global_max_pooling1d (Global (None, 256)               0         \n",
            "_________________________________________________________________\n",
            "dropout_2 (Dropout)          (None, 256)               0         \n",
            "_________________________________________________________________\n",
            "dense_2 (Dense)              (None, 64)                16448     \n",
            "_________________________________________________________________\n",
            "dense_3 (Dense)              (None, 32)                2080      \n",
            "=================================================================\n",
            "Total params: 2,793,952\n",
            "Trainable params: 2,793,952\n",
            "Non-trainable params: 0\n",
            "_________________________________________________________________\n"
          ],
          "name": "stdout"
        },
        {
          "output_type": "stream",
          "text": [
            "\r 17%|█▋        | 1/6 [00:23<01:55, 23.12s/it]"
          ],
          "name": "stderr"
        },
        {
          "output_type": "stream",
          "text": [
            "{'activation': 'relu', 'batch_size': 20, 'dropout': 0.3, 'first_neuron': 64, 'hidden_layers': 2, 'kernel_initializer': 'normal', 'losses': 'categorical_crossentropy', 'optimizer': 'Adam', 'shapes': 'brick'}\n",
            "Model: \"subsector_model\"\n",
            "_________________________________________________________________\n",
            "Layer (type)                 Output Shape              Param #   \n",
            "=================================================================\n",
            "conv1d (Conv1D)              (None, None, 256)         2639872   \n",
            "_________________________________________________________________\n",
            "dense (Dense)                (None, None, 64)          16448     \n",
            "_________________________________________________________________\n",
            "dropout (Dropout)            (None, None, 64)          0         \n",
            "_________________________________________________________________\n",
            "dense_1 (Dense)              (None, None, 64)          4160      \n",
            "_________________________________________________________________\n",
            "dropout_1 (Dropout)          (None, None, 64)          0         \n",
            "_________________________________________________________________\n",
            "max_pooling1d (MaxPooling1D) (None, None, 64)          0         \n",
            "_________________________________________________________________\n",
            "conv1d_1 (Conv1D)            (None, None, 256)         114944    \n",
            "_________________________________________________________________\n",
            "global_max_pooling1d (Global (None, 256)               0         \n",
            "_________________________________________________________________\n",
            "dropout_2 (Dropout)          (None, 256)               0         \n",
            "_________________________________________________________________\n",
            "dense_2 (Dense)              (None, 64)                16448     \n",
            "_________________________________________________________________\n",
            "dense_3 (Dense)              (None, 32)                2080      \n",
            "=================================================================\n",
            "Total params: 2,793,952\n",
            "Trainable params: 2,793,952\n",
            "Non-trainable params: 0\n",
            "_________________________________________________________________\n"
          ],
          "name": "stdout"
        },
        {
          "output_type": "stream",
          "text": [
            "\r 33%|███▎      | 2/6 [00:47<01:33, 23.38s/it]"
          ],
          "name": "stderr"
        },
        {
          "output_type": "stream",
          "text": [
            "{'activation': 'relu', 'batch_size': 20, 'dropout': 0.3, 'first_neuron': 64, 'hidden_layers': 2, 'kernel_initializer': 'glorot_normal', 'losses': 'binary_crossentropy', 'optimizer': 'Adam', 'shapes': 'brick'}\n",
            "Model: \"subsector_model\"\n",
            "_________________________________________________________________\n",
            "Layer (type)                 Output Shape              Param #   \n",
            "=================================================================\n",
            "conv1d (Conv1D)              (None, None, 256)         2639872   \n",
            "_________________________________________________________________\n",
            "dense (Dense)                (None, None, 64)          16448     \n",
            "_________________________________________________________________\n",
            "dropout (Dropout)            (None, None, 64)          0         \n",
            "_________________________________________________________________\n",
            "dense_1 (Dense)              (None, None, 64)          4160      \n",
            "_________________________________________________________________\n",
            "dropout_1 (Dropout)          (None, None, 64)          0         \n",
            "_________________________________________________________________\n",
            "max_pooling1d (MaxPooling1D) (None, None, 64)          0         \n",
            "_________________________________________________________________\n",
            "conv1d_1 (Conv1D)            (None, None, 256)         114944    \n",
            "_________________________________________________________________\n",
            "global_max_pooling1d (Global (None, 256)               0         \n",
            "_________________________________________________________________\n",
            "dropout_2 (Dropout)          (None, 256)               0         \n",
            "_________________________________________________________________\n",
            "dense_2 (Dense)              (None, 64)                16448     \n",
            "_________________________________________________________________\n",
            "dense_3 (Dense)              (None, 32)                2080      \n",
            "=================================================================\n",
            "Total params: 2,793,952\n",
            "Trainable params: 2,793,952\n",
            "Non-trainable params: 0\n",
            "_________________________________________________________________\n"
          ],
          "name": "stdout"
        },
        {
          "output_type": "stream",
          "text": [
            "\r 50%|█████     | 3/6 [01:10<01:09, 23.30s/it]"
          ],
          "name": "stderr"
        },
        {
          "output_type": "stream",
          "text": [
            "{'activation': 'relu', 'batch_size': 20, 'dropout': 0.3, 'first_neuron': 64, 'hidden_layers': 2, 'kernel_initializer': 'glorot_normal', 'losses': 'categorical_crossentropy', 'optimizer': 'Adam', 'shapes': 'brick'}\n",
            "Model: \"subsector_model\"\n",
            "_________________________________________________________________\n",
            "Layer (type)                 Output Shape              Param #   \n",
            "=================================================================\n",
            "conv1d (Conv1D)              (None, None, 256)         2639872   \n",
            "_________________________________________________________________\n",
            "dense (Dense)                (None, None, 64)          16448     \n",
            "_________________________________________________________________\n",
            "dropout (Dropout)            (None, None, 64)          0         \n",
            "_________________________________________________________________\n",
            "dense_1 (Dense)              (None, None, 64)          4160      \n",
            "_________________________________________________________________\n",
            "dropout_1 (Dropout)          (None, None, 64)          0         \n",
            "_________________________________________________________________\n",
            "max_pooling1d (MaxPooling1D) (None, None, 64)          0         \n",
            "_________________________________________________________________\n",
            "conv1d_1 (Conv1D)            (None, None, 256)         114944    \n",
            "_________________________________________________________________\n",
            "global_max_pooling1d (Global (None, 256)               0         \n",
            "_________________________________________________________________\n",
            "dropout_2 (Dropout)          (None, 256)               0         \n",
            "_________________________________________________________________\n",
            "dense_2 (Dense)              (None, 64)                16448     \n",
            "_________________________________________________________________\n",
            "dense_3 (Dense)              (None, 32)                2080      \n",
            "=================================================================\n",
            "Total params: 2,793,952\n",
            "Trainable params: 2,793,952\n",
            "Non-trainable params: 0\n",
            "_________________________________________________________________\n"
          ],
          "name": "stdout"
        },
        {
          "output_type": "stream",
          "text": [
            "\r 67%|██████▋   | 4/6 [01:34<00:47, 23.58s/it]"
          ],
          "name": "stderr"
        },
        {
          "output_type": "stream",
          "text": [
            "{'activation': 'relu', 'batch_size': 20, 'dropout': 0.3, 'first_neuron': 64, 'hidden_layers': 2, 'kernel_initializer': 'glorot_uniform', 'losses': 'binary_crossentropy', 'optimizer': 'Adam', 'shapes': 'brick'}\n",
            "Model: \"subsector_model\"\n",
            "_________________________________________________________________\n",
            "Layer (type)                 Output Shape              Param #   \n",
            "=================================================================\n",
            "conv1d (Conv1D)              (None, None, 256)         2639872   \n",
            "_________________________________________________________________\n",
            "dense (Dense)                (None, None, 64)          16448     \n",
            "_________________________________________________________________\n",
            "dropout (Dropout)            (None, None, 64)          0         \n",
            "_________________________________________________________________\n",
            "dense_1 (Dense)              (None, None, 64)          4160      \n",
            "_________________________________________________________________\n",
            "dropout_1 (Dropout)          (None, None, 64)          0         \n",
            "_________________________________________________________________\n",
            "max_pooling1d (MaxPooling1D) (None, None, 64)          0         \n",
            "_________________________________________________________________\n",
            "conv1d_1 (Conv1D)            (None, None, 256)         114944    \n",
            "_________________________________________________________________\n",
            "global_max_pooling1d (Global (None, 256)               0         \n",
            "_________________________________________________________________\n",
            "dropout_2 (Dropout)          (None, 256)               0         \n",
            "_________________________________________________________________\n",
            "dense_2 (Dense)              (None, 64)                16448     \n",
            "_________________________________________________________________\n",
            "dense_3 (Dense)              (None, 32)                2080      \n",
            "=================================================================\n",
            "Total params: 2,793,952\n",
            "Trainable params: 2,793,952\n",
            "Non-trainable params: 0\n",
            "_________________________________________________________________\n"
          ],
          "name": "stdout"
        },
        {
          "output_type": "stream",
          "text": [
            "\r 83%|████████▎ | 5/6 [01:57<00:23, 23.36s/it]"
          ],
          "name": "stderr"
        },
        {
          "output_type": "stream",
          "text": [
            "{'activation': 'relu', 'batch_size': 20, 'dropout': 0.3, 'first_neuron': 64, 'hidden_layers': 2, 'kernel_initializer': 'glorot_uniform', 'losses': 'categorical_crossentropy', 'optimizer': 'Adam', 'shapes': 'brick'}\n",
            "Model: \"subsector_model\"\n",
            "_________________________________________________________________\n",
            "Layer (type)                 Output Shape              Param #   \n",
            "=================================================================\n",
            "conv1d (Conv1D)              (None, None, 256)         2639872   \n",
            "_________________________________________________________________\n",
            "dense (Dense)                (None, None, 64)          16448     \n",
            "_________________________________________________________________\n",
            "dropout (Dropout)            (None, None, 64)          0         \n",
            "_________________________________________________________________\n",
            "dense_1 (Dense)              (None, None, 64)          4160      \n",
            "_________________________________________________________________\n",
            "dropout_1 (Dropout)          (None, None, 64)          0         \n",
            "_________________________________________________________________\n",
            "max_pooling1d (MaxPooling1D) (None, None, 64)          0         \n",
            "_________________________________________________________________\n",
            "conv1d_1 (Conv1D)            (None, None, 256)         114944    \n",
            "_________________________________________________________________\n",
            "global_max_pooling1d (Global (None, 256)               0         \n",
            "_________________________________________________________________\n",
            "dropout_2 (Dropout)          (None, 256)               0         \n",
            "_________________________________________________________________\n",
            "dense_2 (Dense)              (None, 64)                16448     \n",
            "_________________________________________________________________\n",
            "dense_3 (Dense)              (None, 32)                2080      \n",
            "=================================================================\n",
            "Total params: 2,793,952\n",
            "Trainable params: 2,793,952\n",
            "Non-trainable params: 0\n",
            "_________________________________________________________________\n"
          ],
          "name": "stdout"
        },
        {
          "output_type": "stream",
          "text": [
            "100%|██████████| 6/6 [02:20<00:00, 23.50s/it]\n",
            "  0%|          | 0/6 [00:00<?, ?it/s]"
          ],
          "name": "stderr"
        },
        {
          "output_type": "stream",
          "text": [
            "{'activation': 'relu', 'batch_size': 20, 'dropout': 0.3, 'first_neuron': 64, 'hidden_layers': 2, 'kernel_initializer': 'normal', 'losses': 'binary_crossentropy', 'optimizer': 'Adam', 'shapes': 'brick'}\n",
            "Model: \"archetype_model\"\n",
            "_________________________________________________________________\n",
            "Layer (type)                 Output Shape              Param #   \n",
            "=================================================================\n",
            "conv1d (Conv1D)              (None, None, 256)         2639872   \n",
            "_________________________________________________________________\n",
            "dense (Dense)                (None, None, 64)          16448     \n",
            "_________________________________________________________________\n",
            "dropout (Dropout)            (None, None, 64)          0         \n",
            "_________________________________________________________________\n",
            "dense_1 (Dense)              (None, None, 64)          4160      \n",
            "_________________________________________________________________\n",
            "dropout_1 (Dropout)          (None, None, 64)          0         \n",
            "_________________________________________________________________\n",
            "max_pooling1d (MaxPooling1D) (None, None, 64)          0         \n",
            "_________________________________________________________________\n",
            "conv1d_1 (Conv1D)            (None, None, 256)         114944    \n",
            "_________________________________________________________________\n",
            "global_max_pooling1d (Global (None, 256)               0         \n",
            "_________________________________________________________________\n",
            "dropout_2 (Dropout)          (None, 256)               0         \n",
            "_________________________________________________________________\n",
            "dense_2 (Dense)              (None, 64)                16448     \n",
            "_________________________________________________________________\n",
            "dense_3 (Dense)              (None, 92)                5980      \n",
            "=================================================================\n",
            "Total params: 2,797,852\n",
            "Trainable params: 2,797,852\n",
            "Non-trainable params: 0\n",
            "_________________________________________________________________\n"
          ],
          "name": "stdout"
        },
        {
          "output_type": "stream",
          "text": [
            "\r 17%|█▋        | 1/6 [00:22<01:53, 22.77s/it]"
          ],
          "name": "stderr"
        },
        {
          "output_type": "stream",
          "text": [
            "{'activation': 'relu', 'batch_size': 20, 'dropout': 0.3, 'first_neuron': 64, 'hidden_layers': 2, 'kernel_initializer': 'normal', 'losses': 'categorical_crossentropy', 'optimizer': 'Adam', 'shapes': 'brick'}\n",
            "Model: \"archetype_model\"\n",
            "_________________________________________________________________\n",
            "Layer (type)                 Output Shape              Param #   \n",
            "=================================================================\n",
            "conv1d (Conv1D)              (None, None, 256)         2639872   \n",
            "_________________________________________________________________\n",
            "dense (Dense)                (None, None, 64)          16448     \n",
            "_________________________________________________________________\n",
            "dropout (Dropout)            (None, None, 64)          0         \n",
            "_________________________________________________________________\n",
            "dense_1 (Dense)              (None, None, 64)          4160      \n",
            "_________________________________________________________________\n",
            "dropout_1 (Dropout)          (None, None, 64)          0         \n",
            "_________________________________________________________________\n",
            "max_pooling1d (MaxPooling1D) (None, None, 64)          0         \n",
            "_________________________________________________________________\n",
            "conv1d_1 (Conv1D)            (None, None, 256)         114944    \n",
            "_________________________________________________________________\n",
            "global_max_pooling1d (Global (None, 256)               0         \n",
            "_________________________________________________________________\n",
            "dropout_2 (Dropout)          (None, 256)               0         \n",
            "_________________________________________________________________\n",
            "dense_2 (Dense)              (None, 64)                16448     \n",
            "_________________________________________________________________\n",
            "dense_3 (Dense)              (None, 92)                5980      \n",
            "=================================================================\n",
            "Total params: 2,797,852\n",
            "Trainable params: 2,797,852\n",
            "Non-trainable params: 0\n",
            "_________________________________________________________________\n"
          ],
          "name": "stdout"
        },
        {
          "output_type": "stream",
          "text": [
            "\r 33%|███▎      | 2/6 [00:46<01:32, 23.06s/it]"
          ],
          "name": "stderr"
        },
        {
          "output_type": "stream",
          "text": [
            "{'activation': 'relu', 'batch_size': 20, 'dropout': 0.3, 'first_neuron': 64, 'hidden_layers': 2, 'kernel_initializer': 'glorot_normal', 'losses': 'binary_crossentropy', 'optimizer': 'Adam', 'shapes': 'brick'}\n",
            "Model: \"archetype_model\"\n",
            "_________________________________________________________________\n",
            "Layer (type)                 Output Shape              Param #   \n",
            "=================================================================\n",
            "conv1d (Conv1D)              (None, None, 256)         2639872   \n",
            "_________________________________________________________________\n",
            "dense (Dense)                (None, None, 64)          16448     \n",
            "_________________________________________________________________\n",
            "dropout (Dropout)            (None, None, 64)          0         \n",
            "_________________________________________________________________\n",
            "dense_1 (Dense)              (None, None, 64)          4160      \n",
            "_________________________________________________________________\n",
            "dropout_1 (Dropout)          (None, None, 64)          0         \n",
            "_________________________________________________________________\n",
            "max_pooling1d (MaxPooling1D) (None, None, 64)          0         \n",
            "_________________________________________________________________\n",
            "conv1d_1 (Conv1D)            (None, None, 256)         114944    \n",
            "_________________________________________________________________\n",
            "global_max_pooling1d (Global (None, 256)               0         \n",
            "_________________________________________________________________\n",
            "dropout_2 (Dropout)          (None, 256)               0         \n",
            "_________________________________________________________________\n",
            "dense_2 (Dense)              (None, 64)                16448     \n",
            "_________________________________________________________________\n",
            "dense_3 (Dense)              (None, 92)                5980      \n",
            "=================================================================\n",
            "Total params: 2,797,852\n",
            "Trainable params: 2,797,852\n",
            "Non-trainable params: 0\n",
            "_________________________________________________________________\n"
          ],
          "name": "stdout"
        },
        {
          "output_type": "stream",
          "text": [
            "\r 50%|█████     | 3/6 [01:09<01:08, 22.98s/it]"
          ],
          "name": "stderr"
        },
        {
          "output_type": "stream",
          "text": [
            "{'activation': 'relu', 'batch_size': 20, 'dropout': 0.3, 'first_neuron': 64, 'hidden_layers': 2, 'kernel_initializer': 'glorot_normal', 'losses': 'categorical_crossentropy', 'optimizer': 'Adam', 'shapes': 'brick'}\n",
            "Model: \"archetype_model\"\n",
            "_________________________________________________________________\n",
            "Layer (type)                 Output Shape              Param #   \n",
            "=================================================================\n",
            "conv1d (Conv1D)              (None, None, 256)         2639872   \n",
            "_________________________________________________________________\n",
            "dense (Dense)                (None, None, 64)          16448     \n",
            "_________________________________________________________________\n",
            "dropout (Dropout)            (None, None, 64)          0         \n",
            "_________________________________________________________________\n",
            "dense_1 (Dense)              (None, None, 64)          4160      \n",
            "_________________________________________________________________\n",
            "dropout_1 (Dropout)          (None, None, 64)          0         \n",
            "_________________________________________________________________\n",
            "max_pooling1d (MaxPooling1D) (None, None, 64)          0         \n",
            "_________________________________________________________________\n",
            "conv1d_1 (Conv1D)            (None, None, 256)         114944    \n",
            "_________________________________________________________________\n",
            "global_max_pooling1d (Global (None, 256)               0         \n",
            "_________________________________________________________________\n",
            "dropout_2 (Dropout)          (None, 256)               0         \n",
            "_________________________________________________________________\n",
            "dense_2 (Dense)              (None, 64)                16448     \n",
            "_________________________________________________________________\n",
            "dense_3 (Dense)              (None, 92)                5980      \n",
            "=================================================================\n",
            "Total params: 2,797,852\n",
            "Trainable params: 2,797,852\n",
            "Non-trainable params: 0\n",
            "_________________________________________________________________\n"
          ],
          "name": "stdout"
        },
        {
          "output_type": "stream",
          "text": [
            "\r 67%|██████▋   | 4/6 [01:33<00:46, 23.21s/it]"
          ],
          "name": "stderr"
        },
        {
          "output_type": "stream",
          "text": [
            "{'activation': 'relu', 'batch_size': 20, 'dropout': 0.3, 'first_neuron': 64, 'hidden_layers': 2, 'kernel_initializer': 'glorot_uniform', 'losses': 'binary_crossentropy', 'optimizer': 'Adam', 'shapes': 'brick'}\n",
            "Model: \"archetype_model\"\n",
            "_________________________________________________________________\n",
            "Layer (type)                 Output Shape              Param #   \n",
            "=================================================================\n",
            "conv1d (Conv1D)              (None, None, 256)         2639872   \n",
            "_________________________________________________________________\n",
            "dense (Dense)                (None, None, 64)          16448     \n",
            "_________________________________________________________________\n",
            "dropout (Dropout)            (None, None, 64)          0         \n",
            "_________________________________________________________________\n",
            "dense_1 (Dense)              (None, None, 64)          4160      \n",
            "_________________________________________________________________\n",
            "dropout_1 (Dropout)          (None, None, 64)          0         \n",
            "_________________________________________________________________\n",
            "max_pooling1d (MaxPooling1D) (None, None, 64)          0         \n",
            "_________________________________________________________________\n",
            "conv1d_1 (Conv1D)            (None, None, 256)         114944    \n",
            "_________________________________________________________________\n",
            "global_max_pooling1d (Global (None, 256)               0         \n",
            "_________________________________________________________________\n",
            "dropout_2 (Dropout)          (None, 256)               0         \n",
            "_________________________________________________________________\n",
            "dense_2 (Dense)              (None, 64)                16448     \n",
            "_________________________________________________________________\n",
            "dense_3 (Dense)              (None, 92)                5980      \n",
            "=================================================================\n",
            "Total params: 2,797,852\n",
            "Trainable params: 2,797,852\n",
            "Non-trainable params: 0\n",
            "_________________________________________________________________\n"
          ],
          "name": "stdout"
        },
        {
          "output_type": "stream",
          "text": [
            "\r 83%|████████▎ | 5/6 [01:55<00:23, 23.11s/it]"
          ],
          "name": "stderr"
        },
        {
          "output_type": "stream",
          "text": [
            "{'activation': 'relu', 'batch_size': 20, 'dropout': 0.3, 'first_neuron': 64, 'hidden_layers': 2, 'kernel_initializer': 'glorot_uniform', 'losses': 'categorical_crossentropy', 'optimizer': 'Adam', 'shapes': 'brick'}\n",
            "Model: \"archetype_model\"\n",
            "_________________________________________________________________\n",
            "Layer (type)                 Output Shape              Param #   \n",
            "=================================================================\n",
            "conv1d (Conv1D)              (None, None, 256)         2639872   \n",
            "_________________________________________________________________\n",
            "dense (Dense)                (None, None, 64)          16448     \n",
            "_________________________________________________________________\n",
            "dropout (Dropout)            (None, None, 64)          0         \n",
            "_________________________________________________________________\n",
            "dense_1 (Dense)              (None, None, 64)          4160      \n",
            "_________________________________________________________________\n",
            "dropout_1 (Dropout)          (None, None, 64)          0         \n",
            "_________________________________________________________________\n",
            "max_pooling1d (MaxPooling1D) (None, None, 64)          0         \n",
            "_________________________________________________________________\n",
            "conv1d_1 (Conv1D)            (None, None, 256)         114944    \n",
            "_________________________________________________________________\n",
            "global_max_pooling1d (Global (None, 256)               0         \n",
            "_________________________________________________________________\n",
            "dropout_2 (Dropout)          (None, 256)               0         \n",
            "_________________________________________________________________\n",
            "dense_2 (Dense)              (None, 64)                16448     \n",
            "_________________________________________________________________\n",
            "dense_3 (Dense)              (None, 92)                5980      \n",
            "=================================================================\n",
            "Total params: 2,797,852\n",
            "Trainable params: 2,797,852\n",
            "Non-trainable params: 0\n",
            "_________________________________________________________________\n"
          ],
          "name": "stdout"
        },
        {
          "output_type": "stream",
          "text": [
            "100%|██████████| 6/6 [02:19<00:00, 23.27s/it]\n",
            "  0%|          | 0/6 [00:00<?, ?it/s]"
          ],
          "name": "stderr"
        },
        {
          "output_type": "stream",
          "text": [
            "{'activation': 'relu', 'batch_size': 20, 'dropout': 0.3, 'first_neuron': 64, 'hidden_layers': 2, 'kernel_initializer': 'normal', 'losses': 'binary_crossentropy', 'optimizer': 'Adam', 'shapes': 'brick'}\n",
            "Model: \"valuechain_model\"\n",
            "_________________________________________________________________\n",
            "Layer (type)                 Output Shape              Param #   \n",
            "=================================================================\n",
            "conv1d (Conv1D)              (None, None, 256)         2639872   \n",
            "_________________________________________________________________\n",
            "dense (Dense)                (None, None, 64)          16448     \n",
            "_________________________________________________________________\n",
            "dropout (Dropout)            (None, None, 64)          0         \n",
            "_________________________________________________________________\n",
            "dense_1 (Dense)              (None, None, 64)          4160      \n",
            "_________________________________________________________________\n",
            "dropout_1 (Dropout)          (None, None, 64)          0         \n",
            "_________________________________________________________________\n",
            "max_pooling1d (MaxPooling1D) (None, None, 64)          0         \n",
            "_________________________________________________________________\n",
            "conv1d_1 (Conv1D)            (None, None, 256)         114944    \n",
            "_________________________________________________________________\n",
            "global_max_pooling1d (Global (None, 256)               0         \n",
            "_________________________________________________________________\n",
            "dropout_2 (Dropout)          (None, 256)               0         \n",
            "_________________________________________________________________\n",
            "dense_2 (Dense)              (None, 64)                16448     \n",
            "_________________________________________________________________\n",
            "dense_3 (Dense)              (None, 9)                 585       \n",
            "=================================================================\n",
            "Total params: 2,792,457\n",
            "Trainable params: 2,792,457\n",
            "Non-trainable params: 0\n",
            "_________________________________________________________________\n"
          ],
          "name": "stdout"
        },
        {
          "output_type": "stream",
          "text": [
            "\r 17%|█▋        | 1/6 [00:22<01:54, 22.85s/it]"
          ],
          "name": "stderr"
        },
        {
          "output_type": "stream",
          "text": [
            "{'activation': 'relu', 'batch_size': 20, 'dropout': 0.3, 'first_neuron': 64, 'hidden_layers': 2, 'kernel_initializer': 'normal', 'losses': 'categorical_crossentropy', 'optimizer': 'Adam', 'shapes': 'brick'}\n",
            "Model: \"valuechain_model\"\n",
            "_________________________________________________________________\n",
            "Layer (type)                 Output Shape              Param #   \n",
            "=================================================================\n",
            "conv1d (Conv1D)              (None, None, 256)         2639872   \n",
            "_________________________________________________________________\n",
            "dense (Dense)                (None, None, 64)          16448     \n",
            "_________________________________________________________________\n",
            "dropout (Dropout)            (None, None, 64)          0         \n",
            "_________________________________________________________________\n",
            "dense_1 (Dense)              (None, None, 64)          4160      \n",
            "_________________________________________________________________\n",
            "dropout_1 (Dropout)          (None, None, 64)          0         \n",
            "_________________________________________________________________\n",
            "max_pooling1d (MaxPooling1D) (None, None, 64)          0         \n",
            "_________________________________________________________________\n",
            "conv1d_1 (Conv1D)            (None, None, 256)         114944    \n",
            "_________________________________________________________________\n",
            "global_max_pooling1d (Global (None, 256)               0         \n",
            "_________________________________________________________________\n",
            "dropout_2 (Dropout)          (None, 256)               0         \n",
            "_________________________________________________________________\n",
            "dense_2 (Dense)              (None, 64)                16448     \n",
            "_________________________________________________________________\n",
            "dense_3 (Dense)              (None, 9)                 585       \n",
            "=================================================================\n",
            "Total params: 2,792,457\n",
            "Trainable params: 2,792,457\n",
            "Non-trainable params: 0\n",
            "_________________________________________________________________\n"
          ],
          "name": "stdout"
        },
        {
          "output_type": "stream",
          "text": [
            "\r 33%|███▎      | 2/6 [00:46<01:32, 23.08s/it]"
          ],
          "name": "stderr"
        },
        {
          "output_type": "stream",
          "text": [
            "{'activation': 'relu', 'batch_size': 20, 'dropout': 0.3, 'first_neuron': 64, 'hidden_layers': 2, 'kernel_initializer': 'glorot_normal', 'losses': 'binary_crossentropy', 'optimizer': 'Adam', 'shapes': 'brick'}\n",
            "Model: \"valuechain_model\"\n",
            "_________________________________________________________________\n",
            "Layer (type)                 Output Shape              Param #   \n",
            "=================================================================\n",
            "conv1d (Conv1D)              (None, None, 256)         2639872   \n",
            "_________________________________________________________________\n",
            "dense (Dense)                (None, None, 64)          16448     \n",
            "_________________________________________________________________\n",
            "dropout (Dropout)            (None, None, 64)          0         \n",
            "_________________________________________________________________\n",
            "dense_1 (Dense)              (None, None, 64)          4160      \n",
            "_________________________________________________________________\n",
            "dropout_1 (Dropout)          (None, None, 64)          0         \n",
            "_________________________________________________________________\n",
            "max_pooling1d (MaxPooling1D) (None, None, 64)          0         \n",
            "_________________________________________________________________\n",
            "conv1d_1 (Conv1D)            (None, None, 256)         114944    \n",
            "_________________________________________________________________\n",
            "global_max_pooling1d (Global (None, 256)               0         \n",
            "_________________________________________________________________\n",
            "dropout_2 (Dropout)          (None, 256)               0         \n",
            "_________________________________________________________________\n",
            "dense_2 (Dense)              (None, 64)                16448     \n",
            "_________________________________________________________________\n",
            "dense_3 (Dense)              (None, 9)                 585       \n",
            "=================================================================\n",
            "Total params: 2,792,457\n",
            "Trainable params: 2,792,457\n",
            "Non-trainable params: 0\n",
            "_________________________________________________________________\n"
          ],
          "name": "stdout"
        },
        {
          "output_type": "stream",
          "text": [
            "\r 50%|█████     | 3/6 [01:09<01:09, 23.03s/it]"
          ],
          "name": "stderr"
        },
        {
          "output_type": "stream",
          "text": [
            "{'activation': 'relu', 'batch_size': 20, 'dropout': 0.3, 'first_neuron': 64, 'hidden_layers': 2, 'kernel_initializer': 'glorot_normal', 'losses': 'categorical_crossentropy', 'optimizer': 'Adam', 'shapes': 'brick'}\n",
            "Model: \"valuechain_model\"\n",
            "_________________________________________________________________\n",
            "Layer (type)                 Output Shape              Param #   \n",
            "=================================================================\n",
            "conv1d (Conv1D)              (None, None, 256)         2639872   \n",
            "_________________________________________________________________\n",
            "dense (Dense)                (None, None, 64)          16448     \n",
            "_________________________________________________________________\n",
            "dropout (Dropout)            (None, None, 64)          0         \n",
            "_________________________________________________________________\n",
            "dense_1 (Dense)              (None, None, 64)          4160      \n",
            "_________________________________________________________________\n",
            "dropout_1 (Dropout)          (None, None, 64)          0         \n",
            "_________________________________________________________________\n",
            "max_pooling1d (MaxPooling1D) (None, None, 64)          0         \n",
            "_________________________________________________________________\n",
            "conv1d_1 (Conv1D)            (None, None, 256)         114944    \n",
            "_________________________________________________________________\n",
            "global_max_pooling1d (Global (None, 256)               0         \n",
            "_________________________________________________________________\n",
            "dropout_2 (Dropout)          (None, 256)               0         \n",
            "_________________________________________________________________\n",
            "dense_2 (Dense)              (None, 64)                16448     \n",
            "_________________________________________________________________\n",
            "dense_3 (Dense)              (None, 9)                 585       \n",
            "=================================================================\n",
            "Total params: 2,792,457\n",
            "Trainable params: 2,792,457\n",
            "Non-trainable params: 0\n",
            "_________________________________________________________________\n"
          ],
          "name": "stdout"
        },
        {
          "output_type": "stream",
          "text": [
            "\r 67%|██████▋   | 4/6 [01:33<00:46, 23.32s/it]"
          ],
          "name": "stderr"
        },
        {
          "output_type": "stream",
          "text": [
            "{'activation': 'relu', 'batch_size': 20, 'dropout': 0.3, 'first_neuron': 64, 'hidden_layers': 2, 'kernel_initializer': 'glorot_uniform', 'losses': 'binary_crossentropy', 'optimizer': 'Adam', 'shapes': 'brick'}\n",
            "Model: \"valuechain_model\"\n",
            "_________________________________________________________________\n",
            "Layer (type)                 Output Shape              Param #   \n",
            "=================================================================\n",
            "conv1d (Conv1D)              (None, None, 256)         2639872   \n",
            "_________________________________________________________________\n",
            "dense (Dense)                (None, None, 64)          16448     \n",
            "_________________________________________________________________\n",
            "dropout (Dropout)            (None, None, 64)          0         \n",
            "_________________________________________________________________\n",
            "dense_1 (Dense)              (None, None, 64)          4160      \n",
            "_________________________________________________________________\n",
            "dropout_1 (Dropout)          (None, None, 64)          0         \n",
            "_________________________________________________________________\n",
            "max_pooling1d (MaxPooling1D) (None, None, 64)          0         \n",
            "_________________________________________________________________\n",
            "conv1d_1 (Conv1D)            (None, None, 256)         114944    \n",
            "_________________________________________________________________\n",
            "global_max_pooling1d (Global (None, 256)               0         \n",
            "_________________________________________________________________\n",
            "dropout_2 (Dropout)          (None, 256)               0         \n",
            "_________________________________________________________________\n",
            "dense_2 (Dense)              (None, 64)                16448     \n",
            "_________________________________________________________________\n",
            "dense_3 (Dense)              (None, 9)                 585       \n",
            "=================================================================\n",
            "Total params: 2,792,457\n",
            "Trainable params: 2,792,457\n",
            "Non-trainable params: 0\n",
            "_________________________________________________________________\n"
          ],
          "name": "stdout"
        },
        {
          "output_type": "stream",
          "text": [
            "\r 83%|████████▎ | 5/6 [01:56<00:23, 23.22s/it]"
          ],
          "name": "stderr"
        },
        {
          "output_type": "stream",
          "text": [
            "{'activation': 'relu', 'batch_size': 20, 'dropout': 0.3, 'first_neuron': 64, 'hidden_layers': 2, 'kernel_initializer': 'glorot_uniform', 'losses': 'categorical_crossentropy', 'optimizer': 'Adam', 'shapes': 'brick'}\n",
            "Model: \"valuechain_model\"\n",
            "_________________________________________________________________\n",
            "Layer (type)                 Output Shape              Param #   \n",
            "=================================================================\n",
            "conv1d (Conv1D)              (None, None, 256)         2639872   \n",
            "_________________________________________________________________\n",
            "dense (Dense)                (None, None, 64)          16448     \n",
            "_________________________________________________________________\n",
            "dropout (Dropout)            (None, None, 64)          0         \n",
            "_________________________________________________________________\n",
            "dense_1 (Dense)              (None, None, 64)          4160      \n",
            "_________________________________________________________________\n",
            "dropout_1 (Dropout)          (None, None, 64)          0         \n",
            "_________________________________________________________________\n",
            "max_pooling1d (MaxPooling1D) (None, None, 64)          0         \n",
            "_________________________________________________________________\n",
            "conv1d_1 (Conv1D)            (None, None, 256)         114944    \n",
            "_________________________________________________________________\n",
            "global_max_pooling1d (Global (None, 256)               0         \n",
            "_________________________________________________________________\n",
            "dropout_2 (Dropout)          (None, 256)               0         \n",
            "_________________________________________________________________\n",
            "dense_2 (Dense)              (None, 64)                16448     \n",
            "_________________________________________________________________\n",
            "dense_3 (Dense)              (None, 9)                 585       \n",
            "=================================================================\n",
            "Total params: 2,792,457\n",
            "Trainable params: 2,792,457\n",
            "Non-trainable params: 0\n",
            "_________________________________________________________________\n"
          ],
          "name": "stdout"
        },
        {
          "output_type": "stream",
          "text": [
            "100%|██████████| 6/6 [02:20<00:00, 23.37s/it]\n"
          ],
          "name": "stderr"
        }
      ]
    },
    {
      "cell_type": "markdown",
      "metadata": {
        "id": "BhKZIK81ND8g"
      },
      "source": [
        "### 5.3 Evaluate Models\n",
        "\n",
        "---\n",
        "\n",
        "Since we have completed training the models, now we will evaluate them."
      ]
    },
    {
      "cell_type": "code",
      "metadata": {
        "id": "IPOuhRpgp6Xs"
      },
      "source": [
        "# analyse the scan results\n",
        "# we now plot out a heat map to see which factor affects the accuracy and val_loss the most\n",
        "sector_model = ts.Analyze(test_sector_model)\n",
        "subsector_model = ts.Analyze(test_subsector_model)\n",
        "valuechain_model = ts.Analyze(test_valuechain_model)\n",
        "archetype_model = ts.Analyze(test_archetype_model)"
      ],
      "execution_count": null,
      "outputs": []
    },
    {
      "cell_type": "code",
      "metadata": {
        "colab": {
          "base_uri": "https://localhost:8080/",
          "height": 349
        },
        "id": "7AEJVQwmlAgF",
        "outputId": "b562c8b7-d62e-45ce-f54c-802db2b4ade9"
      },
      "source": [
        "sector_model.table('accuracy')"
      ],
      "execution_count": 131,
      "outputs": [
        {
          "output_type": "execute_result",
          "data": {
            "text/html": [
              "<div>\n",
              "<style scoped>\n",
              "    .dataframe tbody tr th:only-of-type {\n",
              "        vertical-align: middle;\n",
              "    }\n",
              "\n",
              "    .dataframe tbody tr th {\n",
              "        vertical-align: top;\n",
              "    }\n",
              "\n",
              "    .dataframe thead th {\n",
              "        text-align: right;\n",
              "    }\n",
              "</style>\n",
              "<table border=\"1\" class=\"dataframe\">\n",
              "  <thead>\n",
              "    <tr style=\"text-align: right;\">\n",
              "      <th></th>\n",
              "      <th>round_epochs</th>\n",
              "      <th>optimizer</th>\n",
              "      <th>loss</th>\n",
              "      <th>end</th>\n",
              "      <th>losses</th>\n",
              "      <th>start</th>\n",
              "      <th>kernel_initializer</th>\n",
              "      <th>activation</th>\n",
              "      <th>batch_size</th>\n",
              "      <th>dropout</th>\n",
              "      <th>duration</th>\n",
              "      <th>val_accuracy</th>\n",
              "      <th>first_neuron</th>\n",
              "      <th>shapes</th>\n",
              "      <th>val_loss</th>\n",
              "      <th>hidden_layers</th>\n",
              "      <th>accuracy</th>\n",
              "    </tr>\n",
              "  </thead>\n",
              "  <tbody>\n",
              "    <tr>\n",
              "      <th>0</th>\n",
              "      <td>200</td>\n",
              "      <td>Adam</td>\n",
              "      <td>0.028266</td>\n",
              "      <td>05/22/21-073407</td>\n",
              "      <td>binary_crossentropy</td>\n",
              "      <td>05/22/21-073342</td>\n",
              "      <td>normal</td>\n",
              "      <td>relu</td>\n",
              "      <td>20</td>\n",
              "      <td>0.3</td>\n",
              "      <td>24.691147</td>\n",
              "      <td>0.727778</td>\n",
              "      <td>64</td>\n",
              "      <td>brick</td>\n",
              "      <td>1.424763</td>\n",
              "      <td>2</td>\n",
              "      <td>0.957143</td>\n",
              "    </tr>\n",
              "    <tr>\n",
              "      <th>1</th>\n",
              "      <td>200</td>\n",
              "      <td>Adam</td>\n",
              "      <td>0.103137</td>\n",
              "      <td>05/22/21-073430</td>\n",
              "      <td>categorical_crossentropy</td>\n",
              "      <td>05/22/21-073407</td>\n",
              "      <td>normal</td>\n",
              "      <td>relu</td>\n",
              "      <td>20</td>\n",
              "      <td>0.3</td>\n",
              "      <td>23.611174</td>\n",
              "      <td>0.711111</td>\n",
              "      <td>64</td>\n",
              "      <td>brick</td>\n",
              "      <td>7.785834</td>\n",
              "      <td>2</td>\n",
              "      <td>0.957143</td>\n",
              "    </tr>\n",
              "    <tr>\n",
              "      <th>5</th>\n",
              "      <td>200</td>\n",
              "      <td>Adam</td>\n",
              "      <td>0.102219</td>\n",
              "      <td>05/22/21-073605</td>\n",
              "      <td>categorical_crossentropy</td>\n",
              "      <td>05/22/21-073541</td>\n",
              "      <td>glorot_uniform</td>\n",
              "      <td>relu</td>\n",
              "      <td>20</td>\n",
              "      <td>0.3</td>\n",
              "      <td>24.116240</td>\n",
              "      <td>0.711111</td>\n",
              "      <td>64</td>\n",
              "      <td>brick</td>\n",
              "      <td>7.355363</td>\n",
              "      <td>2</td>\n",
              "      <td>0.957143</td>\n",
              "    </tr>\n",
              "    <tr>\n",
              "      <th>3</th>\n",
              "      <td>200</td>\n",
              "      <td>Adam</td>\n",
              "      <td>0.100635</td>\n",
              "      <td>05/22/21-073517</td>\n",
              "      <td>categorical_crossentropy</td>\n",
              "      <td>05/22/21-073454</td>\n",
              "      <td>glorot_normal</td>\n",
              "      <td>relu</td>\n",
              "      <td>20</td>\n",
              "      <td>0.3</td>\n",
              "      <td>23.811329</td>\n",
              "      <td>0.716667</td>\n",
              "      <td>64</td>\n",
              "      <td>brick</td>\n",
              "      <td>6.201900</td>\n",
              "      <td>2</td>\n",
              "      <td>0.954762</td>\n",
              "    </tr>\n",
              "    <tr>\n",
              "      <th>4</th>\n",
              "      <td>200</td>\n",
              "      <td>Adam</td>\n",
              "      <td>0.031615</td>\n",
              "      <td>05/22/21-073541</td>\n",
              "      <td>binary_crossentropy</td>\n",
              "      <td>05/22/21-073518</td>\n",
              "      <td>glorot_uniform</td>\n",
              "      <td>relu</td>\n",
              "      <td>20</td>\n",
              "      <td>0.3</td>\n",
              "      <td>22.820210</td>\n",
              "      <td>0.700000</td>\n",
              "      <td>64</td>\n",
              "      <td>brick</td>\n",
              "      <td>1.318659</td>\n",
              "      <td>2</td>\n",
              "      <td>0.954762</td>\n",
              "    </tr>\n",
              "    <tr>\n",
              "      <th>2</th>\n",
              "      <td>200</td>\n",
              "      <td>Adam</td>\n",
              "      <td>0.027010</td>\n",
              "      <td>05/22/21-073453</td>\n",
              "      <td>binary_crossentropy</td>\n",
              "      <td>05/22/21-073431</td>\n",
              "      <td>glorot_normal</td>\n",
              "      <td>relu</td>\n",
              "      <td>20</td>\n",
              "      <td>0.3</td>\n",
              "      <td>22.791808</td>\n",
              "      <td>0.716667</td>\n",
              "      <td>64</td>\n",
              "      <td>brick</td>\n",
              "      <td>1.507827</td>\n",
              "      <td>2</td>\n",
              "      <td>0.952381</td>\n",
              "    </tr>\n",
              "  </tbody>\n",
              "</table>\n",
              "</div>"
            ],
            "text/plain": [
              "   round_epochs optimizer      loss  ...  val_loss hidden_layers  accuracy\n",
              "0           200      Adam  0.028266  ...  1.424763             2  0.957143\n",
              "1           200      Adam  0.103137  ...  7.785834             2  0.957143\n",
              "5           200      Adam  0.102219  ...  7.355363             2  0.957143\n",
              "3           200      Adam  0.100635  ...  6.201900             2  0.954762\n",
              "4           200      Adam  0.031615  ...  1.318659             2  0.954762\n",
              "2           200      Adam  0.027010  ...  1.507827             2  0.952381\n",
              "\n",
              "[6 rows x 17 columns]"
            ]
          },
          "metadata": {
            "tags": []
          },
          "execution_count": 131
        }
      ]
    },
    {
      "cell_type": "code",
      "metadata": {
        "colab": {
          "base_uri": "https://localhost:8080/",
          "height": 349
        },
        "id": "_ffCG3WEoENk",
        "outputId": "adcb6d94-acb7-4189-cf53-3e2b0afad7d1"
      },
      "source": [
        "subsector_model.table('accuracy')"
      ],
      "execution_count": 38,
      "outputs": [
        {
          "output_type": "execute_result",
          "data": {
            "text/html": [
              "<div>\n",
              "<style scoped>\n",
              "    .dataframe tbody tr th:only-of-type {\n",
              "        vertical-align: middle;\n",
              "    }\n",
              "\n",
              "    .dataframe tbody tr th {\n",
              "        vertical-align: top;\n",
              "    }\n",
              "\n",
              "    .dataframe thead th {\n",
              "        text-align: right;\n",
              "    }\n",
              "</style>\n",
              "<table border=\"1\" class=\"dataframe\">\n",
              "  <thead>\n",
              "    <tr style=\"text-align: right;\">\n",
              "      <th></th>\n",
              "      <th>round_epochs</th>\n",
              "      <th>optimizer</th>\n",
              "      <th>loss</th>\n",
              "      <th>end</th>\n",
              "      <th>losses</th>\n",
              "      <th>start</th>\n",
              "      <th>kernel_initializer</th>\n",
              "      <th>activation</th>\n",
              "      <th>batch_size</th>\n",
              "      <th>dropout</th>\n",
              "      <th>duration</th>\n",
              "      <th>val_accuracy</th>\n",
              "      <th>first_neuron</th>\n",
              "      <th>shapes</th>\n",
              "      <th>val_loss</th>\n",
              "      <th>hidden_layers</th>\n",
              "      <th>accuracy</th>\n",
              "    </tr>\n",
              "  </thead>\n",
              "  <tbody>\n",
              "    <tr>\n",
              "      <th>0</th>\n",
              "      <td>200</td>\n",
              "      <td>Adam</td>\n",
              "      <td>0.017445</td>\n",
              "      <td>05/22/21-073628</td>\n",
              "      <td>binary_crossentropy</td>\n",
              "      <td>05/22/21-073605</td>\n",
              "      <td>normal</td>\n",
              "      <td>relu</td>\n",
              "      <td>20</td>\n",
              "      <td>0.3</td>\n",
              "      <td>22.884656</td>\n",
              "      <td>0.483333</td>\n",
              "      <td>64</td>\n",
              "      <td>brick</td>\n",
              "      <td>0.522091</td>\n",
              "      <td>2</td>\n",
              "      <td>0.885714</td>\n",
              "    </tr>\n",
              "    <tr>\n",
              "      <th>5</th>\n",
              "      <td>200</td>\n",
              "      <td>Adam</td>\n",
              "      <td>0.322737</td>\n",
              "      <td>05/22/21-073826</td>\n",
              "      <td>categorical_crossentropy</td>\n",
              "      <td>05/22/21-073802</td>\n",
              "      <td>glorot_uniform</td>\n",
              "      <td>relu</td>\n",
              "      <td>20</td>\n",
              "      <td>0.3</td>\n",
              "      <td>23.469456</td>\n",
              "      <td>0.477778</td>\n",
              "      <td>64</td>\n",
              "      <td>brick</td>\n",
              "      <td>9.131015</td>\n",
              "      <td>2</td>\n",
              "      <td>0.885714</td>\n",
              "    </tr>\n",
              "    <tr>\n",
              "      <th>3</th>\n",
              "      <td>200</td>\n",
              "      <td>Adam</td>\n",
              "      <td>0.323487</td>\n",
              "      <td>05/22/21-073739</td>\n",
              "      <td>categorical_crossentropy</td>\n",
              "      <td>05/22/21-073715</td>\n",
              "      <td>glorot_normal</td>\n",
              "      <td>relu</td>\n",
              "      <td>20</td>\n",
              "      <td>0.3</td>\n",
              "      <td>24.000776</td>\n",
              "      <td>0.511111</td>\n",
              "      <td>64</td>\n",
              "      <td>brick</td>\n",
              "      <td>8.738485</td>\n",
              "      <td>2</td>\n",
              "      <td>0.880952</td>\n",
              "    </tr>\n",
              "    <tr>\n",
              "      <th>4</th>\n",
              "      <td>200</td>\n",
              "      <td>Adam</td>\n",
              "      <td>0.016694</td>\n",
              "      <td>05/22/21-073802</td>\n",
              "      <td>binary_crossentropy</td>\n",
              "      <td>05/22/21-073740</td>\n",
              "      <td>glorot_uniform</td>\n",
              "      <td>relu</td>\n",
              "      <td>20</td>\n",
              "      <td>0.3</td>\n",
              "      <td>22.637671</td>\n",
              "      <td>0.461111</td>\n",
              "      <td>64</td>\n",
              "      <td>brick</td>\n",
              "      <td>0.443109</td>\n",
              "      <td>2</td>\n",
              "      <td>0.878571</td>\n",
              "    </tr>\n",
              "    <tr>\n",
              "      <th>2</th>\n",
              "      <td>200</td>\n",
              "      <td>Adam</td>\n",
              "      <td>0.017039</td>\n",
              "      <td>05/22/21-073715</td>\n",
              "      <td>binary_crossentropy</td>\n",
              "      <td>05/22/21-073652</td>\n",
              "      <td>glorot_normal</td>\n",
              "      <td>relu</td>\n",
              "      <td>20</td>\n",
              "      <td>0.3</td>\n",
              "      <td>22.881403</td>\n",
              "      <td>0.488889</td>\n",
              "      <td>64</td>\n",
              "      <td>brick</td>\n",
              "      <td>0.449572</td>\n",
              "      <td>2</td>\n",
              "      <td>0.873810</td>\n",
              "    </tr>\n",
              "    <tr>\n",
              "      <th>1</th>\n",
              "      <td>200</td>\n",
              "      <td>Adam</td>\n",
              "      <td>0.425979</td>\n",
              "      <td>05/22/21-073652</td>\n",
              "      <td>categorical_crossentropy</td>\n",
              "      <td>05/22/21-073628</td>\n",
              "      <td>normal</td>\n",
              "      <td>relu</td>\n",
              "      <td>20</td>\n",
              "      <td>0.3</td>\n",
              "      <td>23.744646</td>\n",
              "      <td>0.477778</td>\n",
              "      <td>64</td>\n",
              "      <td>brick</td>\n",
              "      <td>9.156876</td>\n",
              "      <td>2</td>\n",
              "      <td>0.869048</td>\n",
              "    </tr>\n",
              "  </tbody>\n",
              "</table>\n",
              "</div>"
            ],
            "text/plain": [
              "   round_epochs optimizer      loss  ...  val_loss hidden_layers  accuracy\n",
              "0           200      Adam  0.017445  ...  0.522091             2  0.885714\n",
              "5           200      Adam  0.322737  ...  9.131015             2  0.885714\n",
              "3           200      Adam  0.323487  ...  8.738485             2  0.880952\n",
              "4           200      Adam  0.016694  ...  0.443109             2  0.878571\n",
              "2           200      Adam  0.017039  ...  0.449572             2  0.873810\n",
              "1           200      Adam  0.425979  ...  9.156876             2  0.869048\n",
              "\n",
              "[6 rows x 17 columns]"
            ]
          },
          "metadata": {
            "tags": []
          },
          "execution_count": 38
        }
      ]
    },
    {
      "cell_type": "code",
      "metadata": {
        "colab": {
          "base_uri": "https://localhost:8080/",
          "height": 349
        },
        "id": "95H0RV8ZoELV",
        "outputId": "e40ff07e-1d53-44c1-89d7-43e158010f36"
      },
      "source": [
        "valuechain_model.table('accuracy')"
      ],
      "execution_count": 39,
      "outputs": [
        {
          "output_type": "execute_result",
          "data": {
            "text/html": [
              "<div>\n",
              "<style scoped>\n",
              "    .dataframe tbody tr th:only-of-type {\n",
              "        vertical-align: middle;\n",
              "    }\n",
              "\n",
              "    .dataframe tbody tr th {\n",
              "        vertical-align: top;\n",
              "    }\n",
              "\n",
              "    .dataframe thead th {\n",
              "        text-align: right;\n",
              "    }\n",
              "</style>\n",
              "<table border=\"1\" class=\"dataframe\">\n",
              "  <thead>\n",
              "    <tr style=\"text-align: right;\">\n",
              "      <th></th>\n",
              "      <th>round_epochs</th>\n",
              "      <th>optimizer</th>\n",
              "      <th>loss</th>\n",
              "      <th>end</th>\n",
              "      <th>losses</th>\n",
              "      <th>start</th>\n",
              "      <th>kernel_initializer</th>\n",
              "      <th>activation</th>\n",
              "      <th>batch_size</th>\n",
              "      <th>dropout</th>\n",
              "      <th>duration</th>\n",
              "      <th>val_accuracy</th>\n",
              "      <th>first_neuron</th>\n",
              "      <th>shapes</th>\n",
              "      <th>val_loss</th>\n",
              "      <th>hidden_layers</th>\n",
              "      <th>accuracy</th>\n",
              "    </tr>\n",
              "  </thead>\n",
              "  <tbody>\n",
              "    <tr>\n",
              "      <th>1</th>\n",
              "      <td>200</td>\n",
              "      <td>Adam</td>\n",
              "      <td>0.199403</td>\n",
              "      <td>05/22/21-074132</td>\n",
              "      <td>categorical_crossentropy</td>\n",
              "      <td>05/22/21-074109</td>\n",
              "      <td>normal</td>\n",
              "      <td>relu</td>\n",
              "      <td>20</td>\n",
              "      <td>0.3</td>\n",
              "      <td>23.379484</td>\n",
              "      <td>0.683333</td>\n",
              "      <td>64</td>\n",
              "      <td>brick</td>\n",
              "      <td>5.426382</td>\n",
              "      <td>2</td>\n",
              "      <td>0.921429</td>\n",
              "    </tr>\n",
              "    <tr>\n",
              "      <th>2</th>\n",
              "      <td>200</td>\n",
              "      <td>Adam</td>\n",
              "      <td>0.039730</td>\n",
              "      <td>05/22/21-074155</td>\n",
              "      <td>binary_crossentropy</td>\n",
              "      <td>05/22/21-074132</td>\n",
              "      <td>glorot_normal</td>\n",
              "      <td>relu</td>\n",
              "      <td>20</td>\n",
              "      <td>0.3</td>\n",
              "      <td>22.689053</td>\n",
              "      <td>0.633333</td>\n",
              "      <td>64</td>\n",
              "      <td>brick</td>\n",
              "      <td>0.971997</td>\n",
              "      <td>2</td>\n",
              "      <td>0.914286</td>\n",
              "    </tr>\n",
              "    <tr>\n",
              "      <th>4</th>\n",
              "      <td>200</td>\n",
              "      <td>Adam</td>\n",
              "      <td>0.038102</td>\n",
              "      <td>05/22/21-074242</td>\n",
              "      <td>binary_crossentropy</td>\n",
              "      <td>05/22/21-074219</td>\n",
              "      <td>glorot_uniform</td>\n",
              "      <td>relu</td>\n",
              "      <td>20</td>\n",
              "      <td>0.3</td>\n",
              "      <td>22.778861</td>\n",
              "      <td>0.655556</td>\n",
              "      <td>64</td>\n",
              "      <td>brick</td>\n",
              "      <td>0.868576</td>\n",
              "      <td>2</td>\n",
              "      <td>0.914286</td>\n",
              "    </tr>\n",
              "    <tr>\n",
              "      <th>0</th>\n",
              "      <td>200</td>\n",
              "      <td>Adam</td>\n",
              "      <td>0.048869</td>\n",
              "      <td>05/22/21-074108</td>\n",
              "      <td>binary_crossentropy</td>\n",
              "      <td>05/22/21-074046</td>\n",
              "      <td>normal</td>\n",
              "      <td>relu</td>\n",
              "      <td>20</td>\n",
              "      <td>0.3</td>\n",
              "      <td>22.615481</td>\n",
              "      <td>0.633333</td>\n",
              "      <td>64</td>\n",
              "      <td>brick</td>\n",
              "      <td>0.913094</td>\n",
              "      <td>2</td>\n",
              "      <td>0.909524</td>\n",
              "    </tr>\n",
              "    <tr>\n",
              "      <th>3</th>\n",
              "      <td>200</td>\n",
              "      <td>Adam</td>\n",
              "      <td>0.202863</td>\n",
              "      <td>05/22/21-074219</td>\n",
              "      <td>categorical_crossentropy</td>\n",
              "      <td>05/22/21-074155</td>\n",
              "      <td>glorot_normal</td>\n",
              "      <td>relu</td>\n",
              "      <td>20</td>\n",
              "      <td>0.3</td>\n",
              "      <td>23.761103</td>\n",
              "      <td>0.672222</td>\n",
              "      <td>64</td>\n",
              "      <td>brick</td>\n",
              "      <td>4.916444</td>\n",
              "      <td>2</td>\n",
              "      <td>0.907143</td>\n",
              "    </tr>\n",
              "    <tr>\n",
              "      <th>5</th>\n",
              "      <td>200</td>\n",
              "      <td>Adam</td>\n",
              "      <td>0.206564</td>\n",
              "      <td>05/22/21-074306</td>\n",
              "      <td>categorical_crossentropy</td>\n",
              "      <td>05/22/21-074242</td>\n",
              "      <td>glorot_uniform</td>\n",
              "      <td>relu</td>\n",
              "      <td>20</td>\n",
              "      <td>0.3</td>\n",
              "      <td>23.600178</td>\n",
              "      <td>0.661111</td>\n",
              "      <td>64</td>\n",
              "      <td>brick</td>\n",
              "      <td>5.076324</td>\n",
              "      <td>2</td>\n",
              "      <td>0.897619</td>\n",
              "    </tr>\n",
              "  </tbody>\n",
              "</table>\n",
              "</div>"
            ],
            "text/plain": [
              "   round_epochs optimizer      loss  ...  val_loss hidden_layers  accuracy\n",
              "1           200      Adam  0.199403  ...  5.426382             2  0.921429\n",
              "2           200      Adam  0.039730  ...  0.971997             2  0.914286\n",
              "4           200      Adam  0.038102  ...  0.868576             2  0.914286\n",
              "0           200      Adam  0.048869  ...  0.913094             2  0.909524\n",
              "3           200      Adam  0.202863  ...  4.916444             2  0.907143\n",
              "5           200      Adam  0.206564  ...  5.076324             2  0.897619\n",
              "\n",
              "[6 rows x 17 columns]"
            ]
          },
          "metadata": {
            "tags": []
          },
          "execution_count": 39
        }
      ]
    },
    {
      "cell_type": "code",
      "metadata": {
        "colab": {
          "base_uri": "https://localhost:8080/",
          "height": 349
        },
        "id": "FtBbjWFLoEJf",
        "outputId": "fba64a30-dce9-4d3b-d970-1678407fed22"
      },
      "source": [
        "archetype_model.table('accuracy')"
      ],
      "execution_count": 40,
      "outputs": [
        {
          "output_type": "execute_result",
          "data": {
            "text/html": [
              "<div>\n",
              "<style scoped>\n",
              "    .dataframe tbody tr th:only-of-type {\n",
              "        vertical-align: middle;\n",
              "    }\n",
              "\n",
              "    .dataframe tbody tr th {\n",
              "        vertical-align: top;\n",
              "    }\n",
              "\n",
              "    .dataframe thead th {\n",
              "        text-align: right;\n",
              "    }\n",
              "</style>\n",
              "<table border=\"1\" class=\"dataframe\">\n",
              "  <thead>\n",
              "    <tr style=\"text-align: right;\">\n",
              "      <th></th>\n",
              "      <th>round_epochs</th>\n",
              "      <th>optimizer</th>\n",
              "      <th>loss</th>\n",
              "      <th>end</th>\n",
              "      <th>losses</th>\n",
              "      <th>start</th>\n",
              "      <th>kernel_initializer</th>\n",
              "      <th>activation</th>\n",
              "      <th>batch_size</th>\n",
              "      <th>dropout</th>\n",
              "      <th>duration</th>\n",
              "      <th>val_accuracy</th>\n",
              "      <th>first_neuron</th>\n",
              "      <th>shapes</th>\n",
              "      <th>val_loss</th>\n",
              "      <th>hidden_layers</th>\n",
              "      <th>accuracy</th>\n",
              "    </tr>\n",
              "  </thead>\n",
              "  <tbody>\n",
              "    <tr>\n",
              "      <th>3</th>\n",
              "      <td>200</td>\n",
              "      <td>Adam</td>\n",
              "      <td>0.400886</td>\n",
              "      <td>05/22/21-073959</td>\n",
              "      <td>categorical_crossentropy</td>\n",
              "      <td>05/22/21-073935</td>\n",
              "      <td>glorot_normal</td>\n",
              "      <td>relu</td>\n",
              "      <td>20</td>\n",
              "      <td>0.3</td>\n",
              "      <td>23.503186</td>\n",
              "      <td>0.355556</td>\n",
              "      <td>64</td>\n",
              "      <td>brick</td>\n",
              "      <td>16.452169</td>\n",
              "      <td>2</td>\n",
              "      <td>0.861905</td>\n",
              "    </tr>\n",
              "    <tr>\n",
              "      <th>5</th>\n",
              "      <td>200</td>\n",
              "      <td>Adam</td>\n",
              "      <td>0.387194</td>\n",
              "      <td>05/22/21-074046</td>\n",
              "      <td>categorical_crossentropy</td>\n",
              "      <td>05/22/21-074022</td>\n",
              "      <td>glorot_uniform</td>\n",
              "      <td>relu</td>\n",
              "      <td>20</td>\n",
              "      <td>0.3</td>\n",
              "      <td>23.475323</td>\n",
              "      <td>0.372222</td>\n",
              "      <td>64</td>\n",
              "      <td>brick</td>\n",
              "      <td>13.950021</td>\n",
              "      <td>2</td>\n",
              "      <td>0.861905</td>\n",
              "    </tr>\n",
              "    <tr>\n",
              "      <th>4</th>\n",
              "      <td>200</td>\n",
              "      <td>Adam</td>\n",
              "      <td>0.007939</td>\n",
              "      <td>05/22/21-074022</td>\n",
              "      <td>binary_crossentropy</td>\n",
              "      <td>05/22/21-073959</td>\n",
              "      <td>glorot_uniform</td>\n",
              "      <td>relu</td>\n",
              "      <td>20</td>\n",
              "      <td>0.3</td>\n",
              "      <td>22.662694</td>\n",
              "      <td>0.405556</td>\n",
              "      <td>64</td>\n",
              "      <td>brick</td>\n",
              "      <td>0.178484</td>\n",
              "      <td>2</td>\n",
              "      <td>0.859524</td>\n",
              "    </tr>\n",
              "    <tr>\n",
              "      <th>2</th>\n",
              "      <td>200</td>\n",
              "      <td>Adam</td>\n",
              "      <td>0.007688</td>\n",
              "      <td>05/22/21-073935</td>\n",
              "      <td>binary_crossentropy</td>\n",
              "      <td>05/22/21-073913</td>\n",
              "      <td>glorot_normal</td>\n",
              "      <td>relu</td>\n",
              "      <td>20</td>\n",
              "      <td>0.3</td>\n",
              "      <td>22.562086</td>\n",
              "      <td>0.355556</td>\n",
              "      <td>64</td>\n",
              "      <td>brick</td>\n",
              "      <td>0.175185</td>\n",
              "      <td>2</td>\n",
              "      <td>0.850000</td>\n",
              "    </tr>\n",
              "    <tr>\n",
              "      <th>1</th>\n",
              "      <td>200</td>\n",
              "      <td>Adam</td>\n",
              "      <td>0.616669</td>\n",
              "      <td>05/22/21-073912</td>\n",
              "      <td>categorical_crossentropy</td>\n",
              "      <td>05/22/21-073849</td>\n",
              "      <td>normal</td>\n",
              "      <td>relu</td>\n",
              "      <td>20</td>\n",
              "      <td>0.3</td>\n",
              "      <td>23.539545</td>\n",
              "      <td>0.344444</td>\n",
              "      <td>64</td>\n",
              "      <td>brick</td>\n",
              "      <td>16.679644</td>\n",
              "      <td>2</td>\n",
              "      <td>0.816667</td>\n",
              "    </tr>\n",
              "    <tr>\n",
              "      <th>0</th>\n",
              "      <td>200</td>\n",
              "      <td>Adam</td>\n",
              "      <td>0.010623</td>\n",
              "      <td>05/22/21-073849</td>\n",
              "      <td>binary_crossentropy</td>\n",
              "      <td>05/22/21-073826</td>\n",
              "      <td>normal</td>\n",
              "      <td>relu</td>\n",
              "      <td>20</td>\n",
              "      <td>0.3</td>\n",
              "      <td>22.538991</td>\n",
              "      <td>0.400000</td>\n",
              "      <td>64</td>\n",
              "      <td>brick</td>\n",
              "      <td>0.156409</td>\n",
              "      <td>2</td>\n",
              "      <td>0.802381</td>\n",
              "    </tr>\n",
              "  </tbody>\n",
              "</table>\n",
              "</div>"
            ],
            "text/plain": [
              "   round_epochs optimizer      loss  ...   val_loss hidden_layers  accuracy\n",
              "3           200      Adam  0.400886  ...  16.452169             2  0.861905\n",
              "5           200      Adam  0.387194  ...  13.950021             2  0.861905\n",
              "4           200      Adam  0.007939  ...   0.178484             2  0.859524\n",
              "2           200      Adam  0.007688  ...   0.175185             2  0.850000\n",
              "1           200      Adam  0.616669  ...  16.679644             2  0.816667\n",
              "0           200      Adam  0.010623  ...   0.156409             2  0.802381\n",
              "\n",
              "[6 rows x 17 columns]"
            ]
          },
          "metadata": {
            "tags": []
          },
          "execution_count": 40
        }
      ]
    },
    {
      "cell_type": "code",
      "metadata": {
        "id": "Wtywrqw9yRmL"
      },
      "source": [
        "# get current dir\n",
        "import os\n",
        "loc_arr = ['./sector_model_experiment', './subsector_model_experiment', './valuechain_model_experiment', './archetype_model_experiment']\n",
        "temp_list = []\n",
        "\n",
        "for loc in enumerate(loc_arr):\n",
        "  for file in os.listdir(loc[1]):\n",
        "    if file.endswith('.log'):\n",
        "      f = open(os.path.join(loc[1], file), \"r\")\n",
        "      temp_df = pd.read_csv(f)\n",
        "      temp_df.drop(columns=['id'], inplace=True)\n",
        "      temp_list.append(temp_df)"
      ],
      "execution_count": 41,
      "outputs": []
    },
    {
      "cell_type": "code",
      "metadata": {
        "id": "X2FiX0LZMPrM"
      },
      "source": [
        "# we use head 200 as that 1st 200 records is the best record for the entire hyper_param\n",
        "model1_accRecord = temp_list[0][['epoch', 'accuracy']].head(200)\n",
        "model2_accRecord = temp_list[1][['epoch', 'accuracy']].head(200)\n",
        "model3_accRecord = temp_list[2][['epoch', 'accuracy']].head(200)\n",
        "model4_accRecord = temp_list[3][['epoch', 'accuracy']].head(200)\n",
        "\n",
        "model1_lossRecord = temp_list[0][['epoch', 'loss']].head(200)\n",
        "model2_lossRecord = temp_list[1][['epoch', 'loss']].head(200)\n",
        "model3_lossRecord = temp_list[2][['epoch', 'loss']].head(200)\n",
        "model4_lossRecord = temp_list[3][['epoch', 'loss']].head(200)"
      ],
      "execution_count": 42,
      "outputs": []
    },
    {
      "cell_type": "code",
      "metadata": {
        "id": "Z3vQFkbMMV7y"
      },
      "source": [
        "# set epoch to be the index\n",
        "model1_accRecord.set_index('epoch', inplace=True)\n",
        "model2_accRecord.set_index('epoch', inplace=True)\n",
        "model3_accRecord.set_index('epoch', inplace=True)\n",
        "model4_accRecord.set_index('epoch', inplace=True)\n",
        "\n",
        "model1_lossRecord.set_index('epoch', inplace=True)\n",
        "model2_lossRecord.set_index('epoch', inplace=True)\n",
        "model3_lossRecord.set_index('epoch', inplace=True)\n",
        "model4_lossRecord.set_index('epoch', inplace=True)"
      ],
      "execution_count": 43,
      "outputs": []
    },
    {
      "cell_type": "code",
      "metadata": {
        "colab": {
          "base_uri": "https://localhost:8080/",
          "height": 648
        },
        "id": "i5AR-InYTIZ4",
        "outputId": "b514d6cb-4809-4235-ee61-77beaf5048b6"
      },
      "source": [
        "# subplots for model accuracies\n",
        "fig = plt.figure(figsize=(23,9))\n",
        "\n",
        "plt.subplot(2,2,1)\n",
        "plt.plot(model1_accRecord)\n",
        "plt.title('Model 1 Accuracy')\n",
        "plt.ylabel('accuracy')\n",
        "plt.xlabel('epoch')\n",
        "plt.legend(['Training accuracy'], loc='best')\n",
        "\n",
        "plt.subplot(2,2,2)\n",
        "plt.plot(model2_accRecord)\n",
        "plt.title('Model 2 Accuracy')\n",
        "plt.ylabel('accuracy')\n",
        "plt.xlabel('epoch')\n",
        "plt.legend(['Training accuracy'], loc='best')\n",
        "\n",
        "plt.subplot(2,2,3)\n",
        "plt.plot(model3_accRecord)\n",
        "plt.title('Model 3 Accuracy')\n",
        "plt.ylabel('accuracy')\n",
        "plt.xlabel('epoch')\n",
        "plt.legend(['Training accuracy'], loc='best')\n",
        "\n",
        "plt.subplot(2,2,4)\n",
        "plt.plot(model4_accRecord)\n",
        "plt.title('Model 4 Accuracy')\n",
        "plt.ylabel('accuracy')\n",
        "plt.xlabel('epoch')\n",
        "plt.legend(['Training accuracy'], loc='best')\n",
        "\n",
        "plt.tight_layout()"
      ],
      "execution_count": 44,
      "outputs": [
        {
          "output_type": "display_data",
          "data": {
            "image/png": "[encoded data removed]",
            "text/plain": [
              "<Figure size 1656x648 with 4 Axes>"
            ]
          },
          "metadata": {
            "tags": []
          }
        }
      ]
    },
    {
      "cell_type": "code",
      "metadata": {
        "colab": {
          "base_uri": "https://localhost:8080/",
          "height": 648
        },
        "id": "TRjkonZRZC9E",
        "outputId": "3d4a3c7e-2b1b-4635-8097-c21deaa632a6"
      },
      "source": [
        "# subplot for model loss\n",
        "fig = plt.figure(figsize=(23,9))\n",
        "\n",
        "plt.subplot(2,2,1)\n",
        "plt.plot(model1_lossRecord)\n",
        "plt.title('Model 1 loss')\n",
        "plt.ylabel('accuracy')\n",
        "plt.xlabel('epoch')\n",
        "plt.legend(['Training loss'], loc='best')\n",
        "\n",
        "plt.subplot(2,2,2)\n",
        "plt.plot(model2_lossRecord)\n",
        "plt.title('Model 2 loss')\n",
        "plt.ylabel('accuracy')\n",
        "plt.xlabel('epoch')\n",
        "plt.legend(['Training loss'], loc='best')\n",
        "\n",
        "plt.subplot(2,2,3)\n",
        "plt.plot(model3_lossRecord)\n",
        "plt.title('Model 3 loss')\n",
        "plt.ylabel('accuracy')\n",
        "plt.xlabel('epoch')\n",
        "plt.legend(['Training loss'], loc='best')\n",
        "\n",
        "plt.subplot(2,2,4)\n",
        "plt.plot(model4_lossRecord)\n",
        "plt.title('Model 4 loss')\n",
        "plt.ylabel('accuracy')\n",
        "plt.xlabel('epoch')\n",
        "plt.legend(['Training loss'], loc='best')\n",
        "\n",
        "plt.tight_layout()"
      ],
      "execution_count": 47,
      "outputs": [
        {
          "output_type": "display_data",
          "data": {
            "image/png": "[encoded data removed]",
            "text/plain": [
              "<Figure size 1656x648 with 4 Axes>"
            ]
          },
          "metadata": {
            "tags": []
          }
        }
      ]
    },
    {
      "cell_type": "markdown",
      "metadata": {
        "id": "Ta_9Flu6gYH2"
      },
      "source": [
        "### 5.4. Refitting Models\n",
        "\n",
        "---\n",
        "\n",
        "Now that we know which params are the best, we will now refit the model so that we can use Keras evaluate and predict."
      ]
    },
    {
      "cell_type": "code",
      "metadata": {
        "colab": {
          "base_uri": "https://localhost:8080/"
        },
        "id": "OT0bbhiMnROK",
        "outputId": "6ced5875-77c6-43c7-d6c7-87f390ee707b"
      },
      "source": [
        "sector_model.best_params(metric='accuracy', exclude=['end', 'start', 'duration', 'shapes'])"
      ],
      "execution_count": 146,
      "outputs": [
        {
          "output_type": "execute_result",
          "data": {
            "text/plain": [
              "array([[200, 'Adam', 0.02826562151312828, 'binary_crossentropy',\n",
              "        'normal', 'relu', 20, 0.3, 0.7277777791023254, 64,\n",
              "        1.4247633218765259, 2, 0],\n",
              "       [200, 'Adam', 0.1031365692615509, 'categorical_crossentropy',\n",
              "        'normal', 'relu', 20, 0.3, 0.7111111283302307, 64,\n",
              "        7.785833835601807, 2, 1],\n",
              "       [200, 'Adam', 0.10221922397613525, 'categorical_crossentropy',\n",
              "        'glorot_uniform', 'relu', 20, 0.3, 0.7111111283302307, 64,\n",
              "        7.355362892150879, 2, 2],\n",
              "       [200, 'Adam', 0.1006350889801979, 'categorical_crossentropy',\n",
              "        'glorot_normal', 'relu', 20, 0.3, 0.7166666388511658, 64,\n",
              "        6.201899528503418, 2, 3],\n",
              "       [200, 'Adam', 0.03161521628499031, 'binary_crossentropy',\n",
              "        'glorot_uniform', 'relu', 20, 0.3, 0.699999988079071, 64,\n",
              "        1.3186590671539307, 2, 4],\n",
              "       [200, 'Adam', 0.027009915560483932, 'binary_crossentropy',\n",
              "        'glorot_normal', 'relu', 20, 0.3, 0.7166666388511658, 64,\n",
              "        1.5078270435333252, 2, 5]], dtype=object)"
            ]
          },
          "metadata": {
            "tags": []
          },
          "execution_count": 146
        }
      ]
    },
    {
      "cell_type": "code",
      "metadata": {
        "id": "1bf438-nfMyV"
      },
      "source": [
        "# refitting and retraining\n",
        "from talos.utils.best_model import best_model, activate_model\n",
        "\n",
        "# model1\n",
        "model_1 = test_sector_model.best_model(metric='accuracy', asc=False)\n",
        "model_1.compile(loss='binary_crossentropy', optimizer='adam', metrics=['accuracy'])\n",
        "\n",
        "# model2\n",
        "model_2 = test_subsector_model.best_model(metric='accuracy', asc=False)\n",
        "model_2.compile(loss='binary_crossentropy', optimizer='adam', metrics=['accuracy'])\n",
        "\n",
        "# model3\n",
        "model_3 = test_archetype_model.best_model(metric='accuracy', asc=False)\n",
        "model_3.compile(loss='categorical_crossentropy', optimizer='adam', metrics=['accuracy'])\n",
        "\n",
        "# model4\n",
        "model_4 = test_valuechain_model.best_model(metric='accuracy', asc=False)\n",
        "model_4.compile(loss='categorical_crossentropy', optimizer='adam', metrics=['accuracy'])"
      ],
      "execution_count": 125,
      "outputs": []
    },
    {
      "cell_type": "code",
      "metadata": {
        "colab": {
          "base_uri": "https://localhost:8080/"
        },
        "id": "63npqs5BfMo0",
        "outputId": "284d8b43-afd7-4a60-f2b9-caca06c7521e"
      },
      "source": [
        "models = [model_1, model_2, model_3, model_4]\n",
        "\n",
        "for i in range(4):\n",
        "    loss, accuracy = models[i].evaluate(X_test, one_hot(y_test[:,i], tag_counts[i]), verbose=0)\n",
        "\n",
        "    print(f'Model {i+1} loss: {loss:.5}')\n",
        "    print(f'Model {i+1} accuracy: {accuracy:.5}')"
      ],
      "execution_count": 126,
      "outputs": [
        {
          "output_type": "stream",
          "text": [
            "Model 1 loss: 1.142\n",
            "Model 1 accuracy: 0.64474\n",
            "Model 2 loss: 0.30393\n",
            "Model 2 accuracy: 0.46053\n",
            "Model 3 loss: 7.6637\n",
            "Model 3 accuracy: 0.36842\n",
            "WARNING:tensorflow:5 out of the last 22 calls to <function Model.make_test_function.<locals>.test_function at 0x7fdef45c8e60> triggered tf.function retracing. Tracing is expensive and the excessive number of tracings could be due to (1) creating @tf.function repeatedly in a loop, (2) passing tensors with different shapes, (3) passing Python objects instead of tensors. For (1), please define your @tf.function outside of the loop. For (2), @tf.function has experimental_relax_shapes=True option that relaxes argument shapes that can avoid unnecessary retracing. For (3), please refer to https://www.tensorflow.org/guide/function#controlling_retracing and https://www.tensorflow.org/api_docs/python/tf/function for  more details.\n",
            "Model 4 loss: 3.575\n",
            "Model 4 accuracy: 0.63158\n"
          ],
          "name": "stdout"
        }
      ]
    },
    {
      "cell_type": "code",
      "metadata": {
        "colab": {
          "base_uri": "https://localhost:8080/"
        },
        "id": "HZ3BNe8O4Zul",
        "outputId": "45e6fbaa-86b8-4e62-d27d-2348054ec01d"
      },
      "source": [
        "results = model_1.predict(X_test)\n",
        "results = np.argmax(results, axis=1)\n",
        "\n",
        "for i in range(len(results)):\n",
        "    print(f'Expected: {y_test[i,0]} Got: {results[i]}')"
      ],
      "execution_count": 127,
      "outputs": [
        {
          "output_type": "stream",
          "text": [
            "Expected: 1 Got: 1\n",
            "Expected: 6 Got: 6\n",
            "Expected: 1 Got: 1\n",
            "Expected: 6 Got: 6\n",
            "Expected: 1 Got: 1\n",
            "Expected: 0 Got: 1\n",
            "Expected: 1 Got: 1\n",
            "Expected: 4 Got: 3\n",
            "Expected: 3 Got: 1\n",
            "Expected: 1 Got: 1\n",
            "Expected: 1 Got: 1\n",
            "Expected: 1 Got: 1\n",
            "Expected: 1 Got: 1\n",
            "Expected: 4 Got: 6\n",
            "Expected: 1 Got: 1\n",
            "Expected: 6 Got: 6\n",
            "Expected: 1 Got: 1\n",
            "Expected: 1 Got: 1\n",
            "Expected: 4 Got: 6\n",
            "Expected: 3 Got: 4\n",
            "Expected: 1 Got: 1\n",
            "Expected: 6 Got: 6\n",
            "Expected: 6 Got: 6\n",
            "Expected: 6 Got: 1\n",
            "Expected: 6 Got: 4\n",
            "Expected: 1 Got: 2\n",
            "Expected: 1 Got: 1\n",
            "Expected: 1 Got: 1\n",
            "Expected: 6 Got: 6\n",
            "Expected: 6 Got: 6\n",
            "Expected: 1 Got: 1\n",
            "Expected: 1 Got: 1\n",
            "Expected: 1 Got: 4\n",
            "Expected: 1 Got: 1\n",
            "Expected: 1 Got: 1\n",
            "Expected: 3 Got: 3\n",
            "Expected: 6 Got: 1\n",
            "Expected: 1 Got: 0\n",
            "Expected: 3 Got: 1\n",
            "Expected: 1 Got: 1\n",
            "Expected: 1 Got: 1\n",
            "Expected: 1 Got: 1\n",
            "Expected: 1 Got: 1\n",
            "Expected: 4 Got: 4\n",
            "Expected: 6 Got: 4\n",
            "Expected: 6 Got: 6\n",
            "Expected: 6 Got: 6\n",
            "Expected: 1 Got: 1\n",
            "Expected: 6 Got: 1\n",
            "Expected: 1 Got: 1\n",
            "Expected: 4 Got: 1\n",
            "Expected: 6 Got: 6\n",
            "Expected: 4 Got: 6\n",
            "Expected: 1 Got: 1\n",
            "Expected: 1 Got: 1\n",
            "Expected: 4 Got: 0\n",
            "Expected: 1 Got: 1\n",
            "Expected: 1 Got: 1\n",
            "Expected: 1 Got: 1\n",
            "Expected: 4 Got: 1\n",
            "Expected: 6 Got: 0\n",
            "Expected: 3 Got: 4\n",
            "Expected: 6 Got: 1\n",
            "Expected: 2 Got: 2\n",
            "Expected: 4 Got: 0\n",
            "Expected: 1 Got: 4\n",
            "Expected: 6 Got: 6\n",
            "Expected: 6 Got: 6\n",
            "Expected: 1 Got: 6\n",
            "Expected: 6 Got: 6\n",
            "Expected: 6 Got: 6\n",
            "Expected: 4 Got: 4\n",
            "Expected: 6 Got: 6\n",
            "Expected: 4 Got: 3\n",
            "Expected: 2 Got: 1\n",
            "Expected: 1 Got: 1\n"
          ],
          "name": "stdout"
        }
      ]
    },
    {
      "cell_type": "code",
      "metadata": {
        "colab": {
          "base_uri": "https://localhost:8080/"
        },
        "id": "M5hNw2PQyw2Q",
        "outputId": "ce264229-4417-480d-9a48-e25c01a35ea3"
      },
      "source": [
        "results"
      ],
      "execution_count": 128,
      "outputs": [
        {
          "output_type": "execute_result",
          "data": {
            "text/plain": [
              "array([1, 6, 1, 6, 1, 1, 1, 3, 1, 1, 1, 1, 1, 6, 1, 6, 1, 1, 6, 4, 1, 6,\n",
              "       6, 1, 4, 2, 1, 1, 6, 6, 1, 1, 4, 1, 1, 3, 1, 0, 1, 1, 1, 1, 1, 4,\n",
              "       4, 6, 6, 1, 1, 1, 1, 6, 6, 1, 1, 0, 1, 1, 1, 1, 0, 4, 1, 2, 0, 4,\n",
              "       6, 6, 6, 6, 6, 4, 6, 3, 1, 1])"
            ]
          },
          "metadata": {
            "tags": []
          },
          "execution_count": 128
        }
      ]
    },
    {
      "cell_type": "markdown",
      "metadata": {
        "id": "1OWQ7GhrjtT6"
      },
      "source": [
        "---\n",
        "---"
      ]
    },
    {
      "cell_type": "markdown",
      "metadata": {
        "id": "1aarHE3sNuN1"
      },
      "source": [
        "### 5.3. Saving Models"
      ]
    },
    {
      "cell_type": "code",
      "metadata": {
        "colab": {
          "base_uri": "https://localhost:8080/"
        },
        "id": "5Vd4RJP0NxVB",
        "outputId": "5ce21237-9abf-49ca-e404-cb22c382160d"
      },
      "source": [
        "# save models to file\n",
        "for i in range(4):\n",
        "    models[i].save(f'./model_{i+1}')"
      ],
      "execution_count": null,
      "outputs": [
        {
          "output_type": "stream",
          "text": [
            "INFO:tensorflow:Assets written to: ./model_1/assets\n",
            "INFO:tensorflow:Assets written to: ./model_2/assets\n",
            "INFO:tensorflow:Assets written to: ./model_3/assets\n",
            "INFO:tensorflow:Assets written to: ./model_4/assets\n"
          ],
          "name": "stdout"
        }
      ]
    },
    {
      "cell_type": "code",
      "metadata": {
        "colab": {
          "base_uri": "https://localhost:8080/"
        },
        "id": "-frVyS9_OqM5",
        "outputId": "7f0d3734-8bfd-46e0-a390-8c57de8aceb2"
      },
      "source": [
        "!zip -r model_4.zip ./model_4"
      ],
      "execution_count": null,
      "outputs": [
        {
          "output_type": "stream",
          "text": [
            "  adding: model_4/ (stored 0%)\n",
            "  adding: model_4/saved_model.pb (deflated 89%)\n",
            "  adding: model_4/variables/ (stored 0%)\n",
            "  adding: model_4/variables/variables.index (deflated 66%)\n",
            "  adding: model_4/variables/variables.data-00000-of-00001 (deflated 43%)\n",
            "  adding: model_4/assets/ (stored 0%)\n"
          ],
          "name": "stdout"
        }
      ]
    },
    {
      "cell_type": "markdown",
      "metadata": {
        "id": "kbZZCbdHv3ME"
      },
      "source": [
        "---\n",
        "---"
      ]
    },
    {
      "cell_type": "markdown",
      "metadata": {
        "id": "0hKvKHV38ly_"
      },
      "source": [
        "# 10.References\n",
        "\n",
        "\n",
        "## Linking GitHub Private Repo with Google Colab\n",
        "---\n",
        "1. [How to clone private Github repo from Google Colab using SSH](https://medium.com/@purba0101/how-to-clone-private-github-repo-in-google-colab-using-ssh-77384cfef18f)\n",
        "2. [Adding a new SSH key to your GitHub account](https://docs.github.com/en/github/authenticating-to-github/adding-a-new-ssh-key-to-your-github-account)\n",
        "\n",
        "\n",
        "## How to classify text with NLTK\n",
        "---\n",
        "1. [Learning to Classify Text](https://www.nltk.org/book/ch06.html)\n",
        "\n",
        "\n",
        "## Other references\n",
        "---\n",
        "1. [Print very long string completely in pandas dataframe](https://stackoverflow.com/questions/29902714/print-very-long-string-completely-in-pandas-dataframe)\n",
        "2. [Removing newlines from messy strings in pandas dataframe cells?\n",
        "](https://stackoverflow.com/questions/44227748/removing-newlines-from-messy-strings-in-pandas-dataframe-cells)\n",
        "3. [Tokenizing using Pandas and spaCy](https://stackoverflow.com/questions/46981137/tokenizing-using-pandas-and-spacy)\n",
        "4. [Intro to NLP with spaCy](https://nicschrading.com/project/Intro-to-NLP-with-spaCy/)\n",
        "5. [A short introduction to NLP in Python with spaCy](https://towardsdatascience.com/a-short-introduction-to-nlp-in-python-with-spacy-d0aa819af3ad)\n",
        "6. [Punctuation, stopwords and lemmatization with spacy](https://stackoverflow.com/questions/57747613/punctuation-stopwords-and-lemmatization-with-spacy)\n",
        "7. [How to Develop a Multichannel CNN Model for Text Classification](https://machinelearningmastery.com/develop-n-gram-multichannel-convolutional-neural-network-sentiment-analysis/)\n",
        "\n"
      ]
    }
  ]
}