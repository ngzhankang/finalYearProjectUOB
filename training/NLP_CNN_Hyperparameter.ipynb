{
  "nbformat": 4,
  "nbformat_minor": 0,
  "metadata": {
    "accelerator": "GPU",
    "colab": {
      "name": "NLP_CNN_Hyperparameter.ipynb",
      "provenance": [],
      "collapsed_sections": [],
      "include_colab_link": true
    },
    "kernelspec": {
      "display_name": "Python 3",
      "name": "python3"
    },
    "language_info": {
      "name": "python"
    }
  },
  "cells": [
    {
      "cell_type": "markdown",
      "metadata": {
        "id": "view-in-github",
        "colab_type": "text"
      },
      "source": [
        "<a href=\"https://colab.research.google.com/github/ngzhankang/finalYearProjectUOB/blob/main/training/NLP_CNN_Hyperparameter.ipynb\" target=\"_parent\"><img src=\"https://colab.research.google.com/assets/colab-badge.svg\" alt=\"Open In Colab\"/></a>"
      ]
    },
    {
      "cell_type": "markdown",
      "metadata": {
        "id": "C4WG19GGjVCN"
      },
      "source": [
        "# FINAL YEAR PROJECT\n",
        "Done by : \n",
        "- P1935785 Ang Yak Hng\n",
        "- P1932964 Teo Swee Hong Winson\n",
        "- P1935727 Ng Zhan Kang\n",
        "- P1935488 Triston Loh\n",
        "- P1935602 Ng Ao Yang\n",
        "\n",
        "Class of DIT/FT/3A/05\n"
      ]
    },
    {
      "cell_type": "markdown",
      "metadata": {
        "id": "lTixCl0Yj3aC"
      },
      "source": [
        "---\n",
        "---"
      ]
    },
    {
      "cell_type": "markdown",
      "metadata": {
        "id": "Xa-0olzCkDtZ"
      },
      "source": [
        "# 1.Cloning Github To Colab Workspace"
      ]
    },
    {
      "cell_type": "markdown",
      "metadata": {
        "id": "B_no5sNXlBZ_"
      },
      "source": [
        "<div class=\"alert alert-block alert-danger\">\n",
        "    <b>ATTENTION:</b> The entire section 1 is dedicated to users who are using google colab to do the entire project. This entire process clones the private repository directly into the temporary google colab workspace. Google colab user are to repeat this same proccess whenever in a new session. Users who do not use colab to do this project CAN OMIT THE ENTIRE SECTION 1. \n",
        "</div>"
      ]
    },
    {
      "cell_type": "markdown",
      "metadata": {
        "id": "B-ZvXSUPkPBq"
      },
      "source": [
        "### 1.1. Configurating SSH keys for GitHub and Colab connection\n",
        "\n",
        "---\n",
        "\n",
        "This entire section can be omitted if users are not using Google Colab at all."
      ]
    },
    {
      "cell_type": "code",
      "metadata": {
        "colab": {
          "base_uri": "https://localhost:8080/"
        },
        "id": "JH5jhDiOliB2",
        "outputId": "65bf8f15-7eff-4b5b-fd02-4cec497bee4e"
      },
      "source": [
        "!ssh-keygen -t rsa -b 4096"
      ],
      "execution_count": null,
      "outputs": [
        {
          "output_type": "stream",
          "text": [
            "Generating public/private rsa key pair.\n",
            "Enter file in which to save the key (/root/.ssh/id_rsa): \n",
            "Created directory '/root/.ssh'.\n",
            "Enter passphrase (empty for no passphrase): \n",
            "Enter same passphrase again: \n",
            "Your identification has been saved in /root/.ssh/id_rsa.\n",
            "Your public key has been saved in /root/.ssh/id_rsa.pub.\n",
            "The key fingerprint is:\n",
            "SHA256:maadv09DyyTGm5UB+/Thz6h5w1vwk6lKN2xSFWf3mSs root@8a23bd7e664f\n",
            "The key's randomart image is:\n",
            "+---[RSA 4096]----+\n",
            "|          .    .+|\n",
            "|           o   .B|\n",
            "|          . o .+.|\n",
            "|         + o =...|\n",
            "|        S + *E+. |\n",
            "|       + o Oo..*o|\n",
            "|      . o oo=*.+=|\n",
            "|         ...++*..|\n",
            "|          o+=o.o |\n",
            "+----[SHA256]-----+\n"
          ],
          "name": "stdout"
        }
      ]
    },
    {
      "cell_type": "markdown",
      "metadata": {
        "id": "ujcbhDqDmqP7"
      },
      "source": [
        "<div class=\"alert alert-block alert-danger\">\n",
        "    <b>ATTENTION:</b> When prompted for a set of informations such as \"Enter a file in which to save the key...\", please press enter and DO NOT type in anything.\n",
        "</div>"
      ]
    },
    {
      "cell_type": "code",
      "metadata": {
        "colab": {
          "base_uri": "https://localhost:8080/"
        },
        "id": "AUsKDe9tm0hQ",
        "outputId": "810bd9af-3c89-4734-f88b-f9f861d5b40f"
      },
      "source": [
        "!ssh-keyscan -t rsa github.com >> ~/.ssh/known_hosts"
      ],
      "execution_count": null,
      "outputs": [
        {
          "output_type": "stream",
          "text": [
            "\n",
            "\n",
            "# github.com:22 SSH-2.0-babeld-728b22c0\n"
          ],
          "name": "stdout"
        }
      ]
    },
    {
      "cell_type": "code",
      "metadata": {
        "colab": {
          "base_uri": "https://localhost:8080/"
        },
        "id": "sc7qLuG1m-9h",
        "outputId": "0151f248-f8e2-4dea-cdd0-facbb737f4f0"
      },
      "source": [
        "!cat /root/.ssh/id_rsa.pub"
      ],
      "execution_count": null,
      "outputs": [
        {
          "output_type": "stream",
          "text": [
            "ssh-rsa AAAAB3NzaC1yc2EAAAADAQABAAACAQDY+/OWCHpcAXigM88JyeyvXzjkWBbMIfrH0s6OSVI9uboccvpN5FYNj3j7ah+zAZaTDGORCH0Zt76Ot4+9mOxhwPE+5EC0Et2zKpPHdcyoJbpVZ3rggcu6Wc8sNQz5Oj9qwK5fyeix0OTM7o4Y8sNjSqahnE5je93Q9srRfV1ZnX+aDrytNldgQHEC6vwyPzeFp8e2/+l/Vn0/3zA52Te1DJJUH/TaFqTnhInpOnihk5o6zsCv/BWex1rUROfeW8uogw98so9UOLT+fWu6iWabb+C3nQaUSTNCmaMiPAe8P7/s6i/tPDHBBoqQSMmTIbEK72hgYlwMW/Khwlt5640P1ebFhNIyrK3ZTAU78uTjBIOilN0W29J1v6MjTg6fl9TSXJmP8xgFIMJdTzQM7arj7Szt7bY2EfoT8yXP64bBr0Vkm8scBU4oP0TGXxKPKxKL1F2uNBsUMjeAv+x1/C3I8ljVhrFuIZFtbs1rHlze7UqZhyWCmIlOII5rX4tpCQZeSD0M9fR7PPJnqRJa5YIox3SwHx7DxVWpsRa2VWFRwYAk12kMhORg7Sy6kqyON2V+YgtEXw4KqLsqdHvxLL0t/6jx+z1WPdIMOJ1bg0OccX8dAIpYx+lPWMVbusSRtHFM65nAL8dRLU899kM4TcMZNgfY5rfV4NxUo23XYzXnAw== root@8a23bd7e664f\n"
          ],
          "name": "stdout"
        }
      ]
    },
    {
      "cell_type": "markdown",
      "metadata": {
        "id": "iSwt6wnDnSjx"
      },
      "source": [
        "<div class=\"alert alert-block alert-danger\">\n",
        "    <b>ATTENTION:</b> After the key has been generated, please copy the entire key. Navigate to your Github Account > Profile Picture > Settings > SSH and GPG keys > New SSH Keys. Paste the generated key into the blank and lable it for your own convenience.\n",
        "</div>"
      ]
    },
    {
      "cell_type": "markdown",
      "metadata": {
        "id": "Z_rpok3voY8A"
      },
      "source": [
        "### 1.2. Testing SSH keys for GitHub and Colab connection\n",
        "\n",
        "---\n",
        "\n",
        "This entire section can be omitted if users are not using Google Colab at all."
      ]
    },
    {
      "cell_type": "code",
      "metadata": {
        "colab": {
          "base_uri": "https://localhost:8080/"
        },
        "id": "cYEnWGicnnC0",
        "outputId": "dbd235e6-b325-45a4-a7c6-df817e2a4bbb"
      },
      "source": [
        "!ssh -T git@github.com"
      ],
      "execution_count": null,
      "outputs": [
        {
          "output_type": "stream",
          "text": [
            "Warning: Permanently added the RSA host key for IP address '192.30.255.113' to the list of known hosts.\r\n",
            "Hi ngzhankang! You've successfully authenticated, but GitHub does not provide shell access.\n"
          ],
          "name": "stdout"
        }
      ]
    },
    {
      "cell_type": "markdown",
      "metadata": {
        "id": "0gtHa7l8ID8u"
      },
      "source": [
        "### 1.3. Clone Private Repository\n",
        "\n",
        "---\n",
        "\n",
        "This entire section can be omitted if users are not using Google Colab at all."
      ]
    },
    {
      "cell_type": "code",
      "metadata": {
        "colab": {
          "base_uri": "https://localhost:8080/"
        },
        "id": "y7c65FyJIEXu",
        "outputId": "d5f3f2e8-9274-458d-df40-37576ff5896e"
      },
      "source": [
        "!git clone git@github.com:ngzhankang/finalYearProjectUOB.git"
      ],
      "execution_count": null,
      "outputs": [
        {
          "output_type": "stream",
          "text": [
            "Cloning into 'finalYearProjectUOB'...\n",
            "remote: Enumerating objects: 289, done.\u001b[K\n",
            "remote: Counting objects: 100% (43/43), done.\u001b[K\n",
            "remote: Compressing objects: 100% (31/31), done.\u001b[K\n",
            "remote: Total 289 (delta 17), reused 32 (delta 11), pack-reused 246\u001b[K\n",
            "Receiving objects: 100% (289/289), 265.63 MiB | 24.49 MiB/s, done.\n",
            "Resolving deltas: 100% (112/112), done.\n",
            "Checking out files: 100% (31/31), done.\n"
          ],
          "name": "stdout"
        }
      ]
    },
    {
      "cell_type": "markdown",
      "metadata": {
        "id": "lpQsykkUqHOB"
      },
      "source": [
        "---\n",
        "---"
      ]
    },
    {
      "cell_type": "markdown",
      "metadata": {
        "id": "D74lUe_QF3kh"
      },
      "source": [
        "# 2.Data Importing"
      ]
    },
    {
      "cell_type": "markdown",
      "metadata": {
        "id": "6VbDZ5ymKTR6"
      },
      "source": [
        "### 2.1. Load the libraries\n",
        "\n",
        "---\n",
        "\n",
        "Load the necessary libraries for usage in the entire project."
      ]
    },
    {
      "cell_type": "code",
      "metadata": {
        "colab": {
          "base_uri": "https://localhost:8080/"
        },
        "id": "hMBiWwY8sBBl",
        "outputId": "65d3603d-3efb-412d-bdfe-94027190e82f"
      },
      "source": [
        "! nvcc --version"
      ],
      "execution_count": 1,
      "outputs": [
        {
          "output_type": "stream",
          "text": [
            "nvcc: NVIDIA (R) Cuda compiler driver\n",
            "Copyright (c) 2005-2020 NVIDIA Corporation\n",
            "Built on Wed_Jul_22_19:09:09_PDT_2020\n",
            "Cuda compilation tools, release 11.0, V11.0.221\n",
            "Build cuda_11.0_bu.TC445_37.28845127_0\n"
          ],
          "name": "stdout"
        }
      ]
    },
    {
      "cell_type": "markdown",
      "metadata": {
        "id": "4FacXEFOsC04"
      },
      "source": [
        "### 2.2. Check CUDA Version\n",
        "\n",
        "---\n",
        "\n",
        "We need to check the cuda version to download the correct version of spaCy for this application."
      ]
    },
    {
      "cell_type": "code",
      "metadata": {
        "id": "U_20qw2UohOC"
      },
      "source": [
        "# suppress future warnings\n",
        "import warnings\n",
        "warnings.filterwarnings('ignore')"
      ],
      "execution_count": 2,
      "outputs": []
    },
    {
      "cell_type": "code",
      "metadata": {
        "colab": {
          "base_uri": "https://localhost:8080/",
          "height": 1000
        },
        "id": "EldCY0t9v2uV",
        "outputId": "e1c3efb6-5537-483d-add9-ed857740f9ba"
      },
      "source": [
        "# install necessary libraries that might not be found\n",
        "!pip install -U spacy\n",
        "!python -m spacy validate\n",
        "!pip install -U pip setuptools wheel\n",
        "!pip install -U spacy[cuda110,transformers,lookups]\n",
        "!python -m spacy download en_core_web_lg\n",
        "\n",
        "!pip install talos\n",
        "\n",
        "# check versions of libraries we are going to use\n",
        "%tensorflow_version 2.x\n",
        "import os\n",
        "import tensorflow\n",
        "import sklearn\n",
        "import numpy as np\n",
        "import pandas as pd\n",
        "import seaborn as sns\n",
        "import matplotlib\n",
        "import spacy\n",
        "import platform\n",
        "\n",
        "message=\"        Versions        \"\n",
        "print(\"*\"*len(message))\n",
        "print(message)\n",
        "print(\"*\"*len(message))\n",
        "print(\"Tensorflow version={}\".format(tensorflow.__version__))\n",
        "print(\"Keras version={}\".format(tensorflow.keras.__version__))\n",
        "print(\"Sklearn version={}\".format(sklearn.__version__))\n",
        "print(\"Numpy version={}\".format(np.__version__))\n",
        "print(\"Pandas version={}\".format(pd.__version__))\n",
        "print(\"Seaborn version={}\".format(sns.__version__))\n",
        "print(\"Matplotlib version={}\".format(matplotlib.__version__))\n",
        "print(\"SpaCy version={}\".format(spacy.__version__))\n",
        "print(\"Python version={}\".format(platform.python_version()))"
      ],
      "execution_count": 3,
      "outputs": [
        {
          "output_type": "stream",
          "text": [
            "Requirement already satisfied: spacy in /usr/local/lib/python3.7/dist-packages (2.2.4)\n",
            "Collecting spacy\n",
            "  Downloading spacy-3.1.1-cp37-cp37m-manylinux_2_17_x86_64.manylinux2014_x86_64.whl (6.4 MB)\n",
            "\u001b[K     |████████████████████████████████| 6.4 MB 6.5 MB/s \n",
            "\u001b[?25hCollecting catalogue<2.1.0,>=2.0.4\n",
            "  Downloading catalogue-2.0.4-py3-none-any.whl (16 kB)\n",
            "Collecting thinc<8.1.0,>=8.0.8\n",
            "  Downloading thinc-8.0.8-cp37-cp37m-manylinux_2_17_x86_64.manylinux2014_x86_64.whl (621 kB)\n",
            "\u001b[K     |████████████████████████████████| 621 kB 43.5 MB/s \n",
            "\u001b[?25hRequirement already satisfied: numpy>=1.15.0 in /usr/local/lib/python3.7/dist-packages (from spacy) (1.19.5)\n",
            "Collecting pydantic!=1.8,!=1.8.1,<1.9.0,>=1.7.4\n",
            "  Downloading pydantic-1.8.2-cp37-cp37m-manylinux2014_x86_64.whl (10.1 MB)\n",
            "\u001b[K     |████████████████████████████████| 10.1 MB 43.9 MB/s \n",
            "\u001b[?25hRequirement already satisfied: murmurhash<1.1.0,>=0.28.0 in /usr/local/lib/python3.7/dist-packages (from spacy) (1.0.5)\n",
            "Requirement already satisfied: wasabi<1.1.0,>=0.8.1 in /usr/local/lib/python3.7/dist-packages (from spacy) (0.8.2)\n",
            "Requirement already satisfied: typing-extensions<4.0.0.0,>=3.7.4 in /usr/local/lib/python3.7/dist-packages (from spacy) (3.7.4.3)\n",
            "Requirement already satisfied: cymem<2.1.0,>=2.0.2 in /usr/local/lib/python3.7/dist-packages (from spacy) (2.0.5)\n",
            "Requirement already satisfied: packaging>=20.0 in /usr/local/lib/python3.7/dist-packages (from spacy) (21.0)\n",
            "Collecting typer<0.4.0,>=0.3.0\n",
            "  Downloading typer-0.3.2-py3-none-any.whl (21 kB)\n",
            "Collecting pathy>=0.3.5\n",
            "  Downloading pathy-0.6.0-py3-none-any.whl (42 kB)\n",
            "\u001b[K     |████████████████████████████████| 42 kB 1.9 MB/s \n",
            "\u001b[?25hRequirement already satisfied: blis<0.8.0,>=0.4.0 in /usr/local/lib/python3.7/dist-packages (from spacy) (0.4.1)\n",
            "Requirement already satisfied: requests<3.0.0,>=2.13.0 in /usr/local/lib/python3.7/dist-packages (from spacy) (2.23.0)\n",
            "Requirement already satisfied: jinja2 in /usr/local/lib/python3.7/dist-packages (from spacy) (2.11.3)\n",
            "Collecting spacy-legacy<3.1.0,>=3.0.7\n",
            "  Downloading spacy_legacy-3.0.8-py2.py3-none-any.whl (14 kB)\n",
            "Requirement already satisfied: preshed<3.1.0,>=3.0.2 in /usr/local/lib/python3.7/dist-packages (from spacy) (3.0.5)\n",
            "Collecting srsly<3.0.0,>=2.4.1\n",
            "  Downloading srsly-2.4.1-cp37-cp37m-manylinux2014_x86_64.whl (456 kB)\n",
            "\u001b[K     |████████████████████████████████| 456 kB 65.0 MB/s \n",
            "\u001b[?25hRequirement already satisfied: tqdm<5.0.0,>=4.38.0 in /usr/local/lib/python3.7/dist-packages (from spacy) (4.41.1)\n",
            "Requirement already satisfied: setuptools in /usr/local/lib/python3.7/dist-packages (from spacy) (57.2.0)\n",
            "Requirement already satisfied: zipp>=0.5 in /usr/local/lib/python3.7/dist-packages (from catalogue<2.1.0,>=2.0.4->spacy) (3.5.0)\n",
            "Requirement already satisfied: pyparsing>=2.0.2 in /usr/local/lib/python3.7/dist-packages (from packaging>=20.0->spacy) (2.4.7)\n",
            "Requirement already satisfied: smart-open<6.0.0,>=5.0.0 in /usr/local/lib/python3.7/dist-packages (from pathy>=0.3.5->spacy) (5.1.0)\n",
            "Requirement already satisfied: certifi>=2017.4.17 in /usr/local/lib/python3.7/dist-packages (from requests<3.0.0,>=2.13.0->spacy) (2021.5.30)\n",
            "Requirement already satisfied: idna<3,>=2.5 in /usr/local/lib/python3.7/dist-packages (from requests<3.0.0,>=2.13.0->spacy) (2.10)\n",
            "Requirement already satisfied: urllib3!=1.25.0,!=1.25.1,<1.26,>=1.21.1 in /usr/local/lib/python3.7/dist-packages (from requests<3.0.0,>=2.13.0->spacy) (1.24.3)\n",
            "Requirement already satisfied: chardet<4,>=3.0.2 in /usr/local/lib/python3.7/dist-packages (from requests<3.0.0,>=2.13.0->spacy) (3.0.4)\n",
            "Requirement already satisfied: click<7.2.0,>=7.1.1 in /usr/local/lib/python3.7/dist-packages (from typer<0.4.0,>=0.3.0->spacy) (7.1.2)\n",
            "Requirement already satisfied: MarkupSafe>=0.23 in /usr/local/lib/python3.7/dist-packages (from jinja2->spacy) (2.0.1)\n",
            "Installing collected packages: catalogue, typer, srsly, pydantic, thinc, spacy-legacy, pathy, spacy\n",
            "  Attempting uninstall: catalogue\n",
            "    Found existing installation: catalogue 1.0.0\n",
            "    Uninstalling catalogue-1.0.0:\n",
            "      Successfully uninstalled catalogue-1.0.0\n",
            "  Attempting uninstall: srsly\n",
            "    Found existing installation: srsly 1.0.5\n",
            "    Uninstalling srsly-1.0.5:\n",
            "      Successfully uninstalled srsly-1.0.5\n",
            "  Attempting uninstall: thinc\n",
            "    Found existing installation: thinc 7.4.0\n",
            "    Uninstalling thinc-7.4.0:\n",
            "      Successfully uninstalled thinc-7.4.0\n",
            "  Attempting uninstall: spacy\n",
            "    Found existing installation: spacy 2.2.4\n",
            "    Uninstalling spacy-2.2.4:\n",
            "      Successfully uninstalled spacy-2.2.4\n",
            "Successfully installed catalogue-2.0.4 pathy-0.6.0 pydantic-1.8.2 spacy-3.1.1 spacy-legacy-3.0.8 srsly-2.4.1 thinc-8.0.8 typer-0.3.2\n",
            "2021-07-27 10:01:38.605814: I tensorflow/stream_executor/platform/default/dso_loader.cc:53] Successfully opened dynamic library libcudart.so.11.0\n",
            "\u001b[2K\u001b[38;5;2m✔ Loaded compatibility table\u001b[0m\n",
            "\u001b[1m\n",
            "================= Installed pipeline packages (spaCy v3.1.1) =================\u001b[0m\n",
            "\u001b[38;5;4mℹ spaCy installation: /usr/local/lib/python3.7/dist-packages/spacy\u001b[0m\n",
            "\n",
            "No pipeline packages found in your current environment.\n",
            "\n",
            "Requirement already satisfied: pip in /usr/local/lib/python3.7/dist-packages (21.1.3)\n",
            "Collecting pip\n",
            "  Downloading pip-21.2.1-py3-none-any.whl (1.6 MB)\n",
            "\u001b[K     |████████████████████████████████| 1.6 MB 6.6 MB/s \n",
            "\u001b[?25hRequirement already satisfied: setuptools in /usr/local/lib/python3.7/dist-packages (57.2.0)\n",
            "Collecting setuptools\n",
            "  Downloading setuptools-57.4.0-py3-none-any.whl (819 kB)\n",
            "\u001b[K     |████████████████████████████████| 819 kB 47.1 MB/s \n",
            "\u001b[?25hRequirement already satisfied: wheel in /usr/local/lib/python3.7/dist-packages (0.36.2)\n",
            "Installing collected packages: setuptools, pip\n",
            "  Attempting uninstall: setuptools\n",
            "    Found existing installation: setuptools 57.2.0\n",
            "    Uninstalling setuptools-57.2.0:\n",
            "      Successfully uninstalled setuptools-57.2.0\n",
            "  Attempting uninstall: pip\n",
            "    Found existing installation: pip 21.1.3\n",
            "    Uninstalling pip-21.1.3:\n",
            "      Successfully uninstalled pip-21.1.3\n",
            "\u001b[31mERROR: pip's dependency resolver does not currently take into account all the packages that are installed. This behaviour is the source of the following dependency conflicts.\n",
            "datascience 0.10.6 requires folium==0.2.1, but you have folium 0.8.3 which is incompatible.\u001b[0m\n",
            "Successfully installed pip-21.2.1 setuptools-57.4.0\n"
          ],
          "name": "stdout"
        },
        {
          "output_type": "display_data",
          "data": {
            "application/vnd.colab-display-data+json": {
              "pip_warning": {
                "packages": [
                  "pkg_resources"
                ]
              }
            }
          },
          "metadata": {
            "tags": []
          }
        },
        {
          "output_type": "stream",
          "text": [
            "\u001b[33mWARNING: Value for scheme.platlib does not match. Please report this to <https://github.com/pypa/pip/issues/10151>\n",
            "distutils: /usr/local/lib/python3.7/dist-packages\n",
            "sysconfig: /usr/lib/python3.7/site-packages\u001b[0m\n",
            "\u001b[33mWARNING: Value for scheme.purelib does not match. Please report this to <https://github.com/pypa/pip/issues/10151>\n",
            "distutils: /usr/local/lib/python3.7/dist-packages\n",
            "sysconfig: /usr/lib/python3.7/site-packages\u001b[0m\n",
            "\u001b[33mWARNING: Value for scheme.headers does not match. Please report this to <https://github.com/pypa/pip/issues/10151>\n",
            "distutils: /usr/local/include/python3.7/UNKNOWN\n",
            "sysconfig: /usr/include/python3.7m/UNKNOWN\u001b[0m\n",
            "\u001b[33mWARNING: Value for scheme.scripts does not match. Please report this to <https://github.com/pypa/pip/issues/10151>\n",
            "distutils: /usr/local/bin\n",
            "sysconfig: /usr/bin\u001b[0m\n",
            "\u001b[33mWARNING: Value for scheme.data does not match. Please report this to <https://github.com/pypa/pip/issues/10151>\n",
            "distutils: /usr/local\n",
            "sysconfig: /usr\u001b[0m\n",
            "\u001b[33mWARNING: Additional context:\n",
            "user = False\n",
            "home = None\n",
            "root = None\n",
            "prefix = None\u001b[0m\n",
            "Requirement already satisfied: spacy[cuda110,lookups,transformers] in /usr/local/lib/python3.7/dist-packages (3.1.1)\n",
            "Requirement already satisfied: numpy>=1.15.0 in /usr/local/lib/python3.7/dist-packages (from spacy[cuda110,lookups,transformers]) (1.19.5)\n",
            "Requirement already satisfied: wasabi<1.1.0,>=0.8.1 in /usr/local/lib/python3.7/dist-packages (from spacy[cuda110,lookups,transformers]) (0.8.2)\n",
            "Requirement already satisfied: typer<0.4.0,>=0.3.0 in /usr/local/lib/python3.7/dist-packages (from spacy[cuda110,lookups,transformers]) (0.3.2)\n",
            "Requirement already satisfied: pathy>=0.3.5 in /usr/local/lib/python3.7/dist-packages (from spacy[cuda110,lookups,transformers]) (0.6.0)\n",
            "Requirement already satisfied: setuptools in /usr/local/lib/python3.7/dist-packages (from spacy[cuda110,lookups,transformers]) (57.4.0)\n",
            "Requirement already satisfied: cymem<2.1.0,>=2.0.2 in /usr/local/lib/python3.7/dist-packages (from spacy[cuda110,lookups,transformers]) (2.0.5)\n",
            "Requirement already satisfied: typing-extensions<4.0.0.0,>=3.7.4 in /usr/local/lib/python3.7/dist-packages (from spacy[cuda110,lookups,transformers]) (3.7.4.3)\n",
            "Requirement already satisfied: spacy-legacy<3.1.0,>=3.0.7 in /usr/local/lib/python3.7/dist-packages (from spacy[cuda110,lookups,transformers]) (3.0.8)\n",
            "Requirement already satisfied: thinc<8.1.0,>=8.0.8 in /usr/local/lib/python3.7/dist-packages (from spacy[cuda110,lookups,transformers]) (8.0.8)\n",
            "Requirement already satisfied: jinja2 in /usr/local/lib/python3.7/dist-packages (from spacy[cuda110,lookups,transformers]) (2.11.3)\n",
            "Requirement already satisfied: preshed<3.1.0,>=3.0.2 in /usr/local/lib/python3.7/dist-packages (from spacy[cuda110,lookups,transformers]) (3.0.5)\n",
            "Requirement already satisfied: catalogue<2.1.0,>=2.0.4 in /usr/local/lib/python3.7/dist-packages (from spacy[cuda110,lookups,transformers]) (2.0.4)\n",
            "Requirement already satisfied: blis<0.8.0,>=0.4.0 in /usr/local/lib/python3.7/dist-packages (from spacy[cuda110,lookups,transformers]) (0.4.1)\n",
            "Requirement already satisfied: tqdm<5.0.0,>=4.38.0 in /usr/local/lib/python3.7/dist-packages (from spacy[cuda110,lookups,transformers]) (4.41.1)\n",
            "Requirement already satisfied: murmurhash<1.1.0,>=0.28.0 in /usr/local/lib/python3.7/dist-packages (from spacy[cuda110,lookups,transformers]) (1.0.5)\n",
            "Requirement already satisfied: srsly<3.0.0,>=2.4.1 in /usr/local/lib/python3.7/dist-packages (from spacy[cuda110,lookups,transformers]) (2.4.1)\n",
            "Requirement already satisfied: requests<3.0.0,>=2.13.0 in /usr/local/lib/python3.7/dist-packages (from spacy[cuda110,lookups,transformers]) (2.23.0)\n",
            "Requirement already satisfied: packaging>=20.0 in /usr/local/lib/python3.7/dist-packages (from spacy[cuda110,lookups,transformers]) (21.0)\n",
            "Requirement already satisfied: pydantic!=1.8,!=1.8.1,<1.9.0,>=1.7.4 in /usr/local/lib/python3.7/dist-packages (from spacy[cuda110,lookups,transformers]) (1.8.2)\n",
            "Collecting spacy-transformers<1.1.0,>=1.0.1\n",
            "  Downloading spacy_transformers-1.0.3-py2.py3-none-any.whl (39 kB)\n",
            "Collecting cupy-cuda110<10.0.0,>=5.0.0b4\n",
            "  Downloading cupy_cuda110-9.0.0b3-cp37-cp37m-manylinux1_x86_64.whl (169.2 MB)\n",
            "\u001b[K     |████████████████████████████████| 169.2 MB 23 kB/s \n",
            "\u001b[?25hCollecting spacy-lookups-data<1.1.0,>=1.0.2\n",
            "  Downloading spacy_lookups_data-1.0.2-py2.py3-none-any.whl (97.3 MB)\n",
            "\u001b[K     |████████████████████████████████| 97.3 MB 33 kB/s \n",
            "\u001b[?25hRequirement already satisfied: zipp>=0.5 in /usr/local/lib/python3.7/dist-packages (from catalogue<2.1.0,>=2.0.4->spacy[cuda110,lookups,transformers]) (3.5.0)\n",
            "Requirement already satisfied: fastrlock>=0.5 in /usr/local/lib/python3.7/dist-packages (from cupy-cuda110<10.0.0,>=5.0.0b4->spacy[cuda110,lookups,transformers]) (0.6)\n",
            "Requirement already satisfied: pyparsing>=2.0.2 in /usr/local/lib/python3.7/dist-packages (from packaging>=20.0->spacy[cuda110,lookups,transformers]) (2.4.7)\n",
            "Requirement already satisfied: smart-open<6.0.0,>=5.0.0 in /usr/local/lib/python3.7/dist-packages (from pathy>=0.3.5->spacy[cuda110,lookups,transformers]) (5.1.0)\n",
            "Requirement already satisfied: chardet<4,>=3.0.2 in /usr/local/lib/python3.7/dist-packages (from requests<3.0.0,>=2.13.0->spacy[cuda110,lookups,transformers]) (3.0.4)\n",
            "Requirement already satisfied: idna<3,>=2.5 in /usr/local/lib/python3.7/dist-packages (from requests<3.0.0,>=2.13.0->spacy[cuda110,lookups,transformers]) (2.10)\n",
            "Requirement already satisfied: certifi>=2017.4.17 in /usr/local/lib/python3.7/dist-packages (from requests<3.0.0,>=2.13.0->spacy[cuda110,lookups,transformers]) (2021.5.30)\n",
            "Requirement already satisfied: urllib3!=1.25.0,!=1.25.1,<1.26,>=1.21.1 in /usr/local/lib/python3.7/dist-packages (from requests<3.0.0,>=2.13.0->spacy[cuda110,lookups,transformers]) (1.24.3)\n",
            "Requirement already satisfied: torch>=1.5.0 in /usr/local/lib/python3.7/dist-packages (from spacy-transformers<1.1.0,>=1.0.1->spacy[cuda110,lookups,transformers]) (1.9.0+cu102)\n",
            "Collecting spacy-alignments<1.0.0,>=0.7.2\n",
            "  Downloading spacy_alignments-0.8.3-cp37-cp37m-manylinux2014_x86_64.whl (998 kB)\n",
            "\u001b[K     |████████████████████████████████| 998 kB 48.9 MB/s \n",
            "\u001b[?25hCollecting transformers<4.7.0,>=3.4.0\n",
            "  Downloading transformers-4.6.1-py3-none-any.whl (2.2 MB)\n",
            "\u001b[K     |████████████████████████████████| 2.2 MB 55.5 MB/s \n",
            "\u001b[?25hCollecting tokenizers<0.11,>=0.10.1\n",
            "  Downloading tokenizers-0.10.3-cp37-cp37m-manylinux_2_5_x86_64.manylinux1_x86_64.manylinux_2_12_x86_64.manylinux2010_x86_64.whl (3.3 MB)\n",
            "\u001b[K     |████████████████████████████████| 3.3 MB 47.5 MB/s \n",
            "\u001b[?25hRequirement already satisfied: filelock in /usr/local/lib/python3.7/dist-packages (from transformers<4.7.0,>=3.4.0->spacy-transformers<1.1.0,>=1.0.1->spacy[cuda110,lookups,transformers]) (3.0.12)\n",
            "Collecting huggingface-hub==0.0.8\n",
            "  Downloading huggingface_hub-0.0.8-py3-none-any.whl (34 kB)\n",
            "Collecting sacremoses\n",
            "  Downloading sacremoses-0.0.45-py3-none-any.whl (895 kB)\n",
            "\u001b[K     |████████████████████████████████| 895 kB 47.4 MB/s \n",
            "\u001b[?25hRequirement already satisfied: importlib-metadata in /usr/local/lib/python3.7/dist-packages (from transformers<4.7.0,>=3.4.0->spacy-transformers<1.1.0,>=1.0.1->spacy[cuda110,lookups,transformers]) (4.6.1)\n",
            "Requirement already satisfied: regex!=2019.12.17 in /usr/local/lib/python3.7/dist-packages (from transformers<4.7.0,>=3.4.0->spacy-transformers<1.1.0,>=1.0.1->spacy[cuda110,lookups,transformers]) (2019.12.20)\n",
            "Requirement already satisfied: click<7.2.0,>=7.1.1 in /usr/local/lib/python3.7/dist-packages (from typer<0.4.0,>=0.3.0->spacy[cuda110,lookups,transformers]) (7.1.2)\n",
            "Requirement already satisfied: MarkupSafe>=0.23 in /usr/local/lib/python3.7/dist-packages (from jinja2->spacy[cuda110,lookups,transformers]) (2.0.1)\n",
            "Requirement already satisfied: joblib in /usr/local/lib/python3.7/dist-packages (from sacremoses->transformers<4.7.0,>=3.4.0->spacy-transformers<1.1.0,>=1.0.1->spacy[cuda110,lookups,transformers]) (1.0.1)\n",
            "Requirement already satisfied: six in /usr/local/lib/python3.7/dist-packages (from sacremoses->transformers<4.7.0,>=3.4.0->spacy-transformers<1.1.0,>=1.0.1->spacy[cuda110,lookups,transformers]) (1.15.0)\n",
            "Installing collected packages: tokenizers, sacremoses, huggingface-hub, transformers, spacy-alignments, spacy-transformers, spacy-lookups-data, cupy-cuda110\n",
            "\u001b[33m  WARNING: Value for scheme.headers does not match. Please report this to <https://github.com/pypa/pip/issues/10151>\n",
            "  distutils: /usr/local/include/python3.7/tokenizers\n",
            "  sysconfig: /usr/include/python3.7m/tokenizers\u001b[0m\n",
            "\u001b[33m  WARNING: Value for scheme.headers does not match. Please report this to <https://github.com/pypa/pip/issues/10151>\n",
            "  distutils: /usr/local/include/python3.7/sacremoses\n",
            "  sysconfig: /usr/include/python3.7m/sacremoses\u001b[0m\n",
            "\u001b[33m  WARNING: Value for scheme.headers does not match. Please report this to <https://github.com/pypa/pip/issues/10151>\n",
            "  distutils: /usr/local/include/python3.7/huggingface-hub\n",
            "  sysconfig: /usr/include/python3.7m/huggingface-hub\u001b[0m\n",
            "\u001b[33m  WARNING: Value for scheme.headers does not match. Please report this to <https://github.com/pypa/pip/issues/10151>\n",
            "  distutils: /usr/local/include/python3.7/transformers\n",
            "  sysconfig: /usr/include/python3.7m/transformers\u001b[0m\n",
            "\u001b[33m  WARNING: Value for scheme.headers does not match. Please report this to <https://github.com/pypa/pip/issues/10151>\n",
            "  distutils: /usr/local/include/python3.7/spacy-alignments\n",
            "  sysconfig: /usr/include/python3.7m/spacy-alignments\u001b[0m\n",
            "\u001b[33m  WARNING: Value for scheme.headers does not match. Please report this to <https://github.com/pypa/pip/issues/10151>\n",
            "  distutils: /usr/local/include/python3.7/spacy-transformers\n",
            "  sysconfig: /usr/include/python3.7m/spacy-transformers\u001b[0m\n",
            "\u001b[33m  WARNING: Value for scheme.headers does not match. Please report this to <https://github.com/pypa/pip/issues/10151>\n",
            "  distutils: /usr/local/include/python3.7/spacy-lookups-data\n",
            "  sysconfig: /usr/include/python3.7m/spacy-lookups-data\u001b[0m\n",
            "\u001b[33m  WARNING: Value for scheme.headers does not match. Please report this to <https://github.com/pypa/pip/issues/10151>\n",
            "  distutils: /usr/local/include/python3.7/cupy-cuda110\n",
            "  sysconfig: /usr/include/python3.7m/cupy-cuda110\u001b[0m\n",
            "Successfully installed cupy-cuda110-9.0.0b3 huggingface-hub-0.0.8 sacremoses-0.0.45 spacy-alignments-0.8.3 spacy-lookups-data-1.0.2 spacy-transformers-1.0.3 tokenizers-0.10.3 transformers-4.6.1\n",
            "\u001b[33mWARNING: Running pip as the 'root' user can result in broken permissions and conflicting behaviour with the system package manager. It is recommended to use a virtual environment instead: https://pip.pypa.io/warnings/venv\u001b[0m\n",
            "2021-07-27 10:02:21.047653: I tensorflow/stream_executor/platform/default/dso_loader.cc:53] Successfully opened dynamic library libcudart.so.11.0\n",
            "\u001b[33mWARNING: Value for scheme.platlib does not match. Please report this to <https://github.com/pypa/pip/issues/10151>\n",
            "distutils: /usr/local/lib/python3.7/dist-packages\n",
            "sysconfig: /usr/lib/python3.7/site-packages\u001b[0m\n",
            "\u001b[33mWARNING: Value for scheme.purelib does not match. Please report this to <https://github.com/pypa/pip/issues/10151>\n",
            "distutils: /usr/local/lib/python3.7/dist-packages\n",
            "sysconfig: /usr/lib/python3.7/site-packages\u001b[0m\n",
            "\u001b[33mWARNING: Value for scheme.headers does not match. Please report this to <https://github.com/pypa/pip/issues/10151>\n",
            "distutils: /usr/local/include/python3.7/UNKNOWN\n",
            "sysconfig: /usr/include/python3.7m/UNKNOWN\u001b[0m\n",
            "\u001b[33mWARNING: Value for scheme.scripts does not match. Please report this to <https://github.com/pypa/pip/issues/10151>\n",
            "distutils: /usr/local/bin\n",
            "sysconfig: /usr/bin\u001b[0m\n",
            "\u001b[33mWARNING: Value for scheme.data does not match. Please report this to <https://github.com/pypa/pip/issues/10151>\n",
            "distutils: /usr/local\n",
            "sysconfig: /usr\u001b[0m\n",
            "\u001b[33mWARNING: Additional context:\n",
            "user = False\n",
            "home = None\n",
            "root = None\n",
            "prefix = None\u001b[0m\n",
            "Collecting en-core-web-lg==3.1.0\n",
            "  Downloading https://github.com/explosion/spacy-models/releases/download/en_core_web_lg-3.1.0/en_core_web_lg-3.1.0-py3-none-any.whl (777.1 MB)\n",
            "\u001b[K     |████████████████████████████████| 777.1 MB 13 kB/s \n",
            "\u001b[?25hRequirement already satisfied: spacy<3.2.0,>=3.1.0 in /usr/local/lib/python3.7/dist-packages (from en-core-web-lg==3.1.0) (3.1.1)\n",
            "Requirement already satisfied: thinc<8.1.0,>=8.0.8 in /usr/local/lib/python3.7/dist-packages (from spacy<3.2.0,>=3.1.0->en-core-web-lg==3.1.0) (8.0.8)\n",
            "Requirement already satisfied: requests<3.0.0,>=2.13.0 in /usr/local/lib/python3.7/dist-packages (from spacy<3.2.0,>=3.1.0->en-core-web-lg==3.1.0) (2.23.0)\n",
            "Requirement already satisfied: packaging>=20.0 in /usr/local/lib/python3.7/dist-packages (from spacy<3.2.0,>=3.1.0->en-core-web-lg==3.1.0) (21.0)\n",
            "Requirement already satisfied: pydantic!=1.8,!=1.8.1,<1.9.0,>=1.7.4 in /usr/local/lib/python3.7/dist-packages (from spacy<3.2.0,>=3.1.0->en-core-web-lg==3.1.0) (1.8.2)\n",
            "Requirement already satisfied: setuptools in /usr/local/lib/python3.7/dist-packages (from spacy<3.2.0,>=3.1.0->en-core-web-lg==3.1.0) (57.4.0)\n",
            "Requirement already satisfied: typing-extensions<4.0.0.0,>=3.7.4 in /usr/local/lib/python3.7/dist-packages (from spacy<3.2.0,>=3.1.0->en-core-web-lg==3.1.0) (3.7.4.3)\n",
            "Requirement already satisfied: typer<0.4.0,>=0.3.0 in /usr/local/lib/python3.7/dist-packages (from spacy<3.2.0,>=3.1.0->en-core-web-lg==3.1.0) (0.3.2)\n",
            "Requirement already satisfied: numpy>=1.15.0 in /usr/local/lib/python3.7/dist-packages (from spacy<3.2.0,>=3.1.0->en-core-web-lg==3.1.0) (1.19.5)\n",
            "Requirement already satisfied: pathy>=0.3.5 in /usr/local/lib/python3.7/dist-packages (from spacy<3.2.0,>=3.1.0->en-core-web-lg==3.1.0) (0.6.0)\n",
            "Requirement already satisfied: cymem<2.1.0,>=2.0.2 in /usr/local/lib/python3.7/dist-packages (from spacy<3.2.0,>=3.1.0->en-core-web-lg==3.1.0) (2.0.5)\n",
            "Requirement already satisfied: wasabi<1.1.0,>=0.8.1 in /usr/local/lib/python3.7/dist-packages (from spacy<3.2.0,>=3.1.0->en-core-web-lg==3.1.0) (0.8.2)\n",
            "Requirement already satisfied: preshed<3.1.0,>=3.0.2 in /usr/local/lib/python3.7/dist-packages (from spacy<3.2.0,>=3.1.0->en-core-web-lg==3.1.0) (3.0.5)\n",
            "Requirement already satisfied: murmurhash<1.1.0,>=0.28.0 in /usr/local/lib/python3.7/dist-packages (from spacy<3.2.0,>=3.1.0->en-core-web-lg==3.1.0) (1.0.5)\n",
            "Requirement already satisfied: jinja2 in /usr/local/lib/python3.7/dist-packages (from spacy<3.2.0,>=3.1.0->en-core-web-lg==3.1.0) (2.11.3)\n",
            "Requirement already satisfied: blis<0.8.0,>=0.4.0 in /usr/local/lib/python3.7/dist-packages (from spacy<3.2.0,>=3.1.0->en-core-web-lg==3.1.0) (0.4.1)\n",
            "Requirement already satisfied: tqdm<5.0.0,>=4.38.0 in /usr/local/lib/python3.7/dist-packages (from spacy<3.2.0,>=3.1.0->en-core-web-lg==3.1.0) (4.41.1)\n",
            "Requirement already satisfied: srsly<3.0.0,>=2.4.1 in /usr/local/lib/python3.7/dist-packages (from spacy<3.2.0,>=3.1.0->en-core-web-lg==3.1.0) (2.4.1)\n",
            "Requirement already satisfied: spacy-legacy<3.1.0,>=3.0.7 in /usr/local/lib/python3.7/dist-packages (from spacy<3.2.0,>=3.1.0->en-core-web-lg==3.1.0) (3.0.8)\n",
            "Requirement already satisfied: catalogue<2.1.0,>=2.0.4 in /usr/local/lib/python3.7/dist-packages (from spacy<3.2.0,>=3.1.0->en-core-web-lg==3.1.0) (2.0.4)\n",
            "Requirement already satisfied: zipp>=0.5 in /usr/local/lib/python3.7/dist-packages (from catalogue<2.1.0,>=2.0.4->spacy<3.2.0,>=3.1.0->en-core-web-lg==3.1.0) (3.5.0)\n",
            "Requirement already satisfied: pyparsing>=2.0.2 in /usr/local/lib/python3.7/dist-packages (from packaging>=20.0->spacy<3.2.0,>=3.1.0->en-core-web-lg==3.1.0) (2.4.7)\n",
            "Requirement already satisfied: smart-open<6.0.0,>=5.0.0 in /usr/local/lib/python3.7/dist-packages (from pathy>=0.3.5->spacy<3.2.0,>=3.1.0->en-core-web-lg==3.1.0) (5.1.0)\n",
            "Requirement already satisfied: certifi>=2017.4.17 in /usr/local/lib/python3.7/dist-packages (from requests<3.0.0,>=2.13.0->spacy<3.2.0,>=3.1.0->en-core-web-lg==3.1.0) (2021.5.30)\n",
            "Requirement already satisfied: urllib3!=1.25.0,!=1.25.1,<1.26,>=1.21.1 in /usr/local/lib/python3.7/dist-packages (from requests<3.0.0,>=2.13.0->spacy<3.2.0,>=3.1.0->en-core-web-lg==3.1.0) (1.24.3)\n",
            "Requirement already satisfied: idna<3,>=2.5 in /usr/local/lib/python3.7/dist-packages (from requests<3.0.0,>=2.13.0->spacy<3.2.0,>=3.1.0->en-core-web-lg==3.1.0) (2.10)\n",
            "Requirement already satisfied: chardet<4,>=3.0.2 in /usr/local/lib/python3.7/dist-packages (from requests<3.0.0,>=2.13.0->spacy<3.2.0,>=3.1.0->en-core-web-lg==3.1.0) (3.0.4)\n",
            "Requirement already satisfied: click<7.2.0,>=7.1.1 in /usr/local/lib/python3.7/dist-packages (from typer<0.4.0,>=0.3.0->spacy<3.2.0,>=3.1.0->en-core-web-lg==3.1.0) (7.1.2)\n",
            "Requirement already satisfied: MarkupSafe>=0.23 in /usr/local/lib/python3.7/dist-packages (from jinja2->spacy<3.2.0,>=3.1.0->en-core-web-lg==3.1.0) (2.0.1)\n",
            "Installing collected packages: en-core-web-lg\n",
            "\u001b[33m  WARNING: Value for scheme.headers does not match. Please report this to <https://github.com/pypa/pip/issues/10151>\n",
            "  distutils: /usr/local/include/python3.7/en-core-web-lg\n",
            "  sysconfig: /usr/include/python3.7m/en-core-web-lg\u001b[0m\n",
            "Successfully installed en-core-web-lg-3.1.0\n",
            "\u001b[33mWARNING: Running pip as the 'root' user can result in broken permissions and conflicting behaviour with the system package manager. It is recommended to use a virtual environment instead: https://pip.pypa.io/warnings/venv\u001b[0m\n",
            "\u001b[38;5;2m✔ Download and installation successful\u001b[0m\n",
            "You can now load the package via spacy.load('en_core_web_lg')\n",
            "\u001b[33mWARNING: Value for scheme.platlib does not match. Please report this to <https://github.com/pypa/pip/issues/10151>\n",
            "distutils: /usr/local/lib/python3.7/dist-packages\n",
            "sysconfig: /usr/lib/python3.7/site-packages\u001b[0m\n",
            "\u001b[33mWARNING: Value for scheme.purelib does not match. Please report this to <https://github.com/pypa/pip/issues/10151>\n",
            "distutils: /usr/local/lib/python3.7/dist-packages\n",
            "sysconfig: /usr/lib/python3.7/site-packages\u001b[0m\n",
            "\u001b[33mWARNING: Value for scheme.headers does not match. Please report this to <https://github.com/pypa/pip/issues/10151>\n",
            "distutils: /usr/local/include/python3.7/UNKNOWN\n",
            "sysconfig: /usr/include/python3.7m/UNKNOWN\u001b[0m\n",
            "\u001b[33mWARNING: Value for scheme.scripts does not match. Please report this to <https://github.com/pypa/pip/issues/10151>\n",
            "distutils: /usr/local/bin\n",
            "sysconfig: /usr/bin\u001b[0m\n",
            "\u001b[33mWARNING: Value for scheme.data does not match. Please report this to <https://github.com/pypa/pip/issues/10151>\n",
            "distutils: /usr/local\n",
            "sysconfig: /usr\u001b[0m\n",
            "\u001b[33mWARNING: Additional context:\n",
            "user = False\n",
            "home = None\n",
            "root = None\n",
            "prefix = None\u001b[0m\n",
            "Collecting talos\n",
            "  Downloading talos-1.0-py3-none-any.whl (53 kB)\n",
            "\u001b[K     |████████████████████████████████| 53 kB 1.7 MB/s \n",
            "\u001b[?25hCollecting astetik\n",
            "  Downloading astetik-1.11.1-py3-none-any.whl (5.4 MB)\n",
            "\u001b[K     |████████████████████████████████| 5.4 MB 7.9 MB/s \n",
            "\u001b[?25hRequirement already satisfied: requests in /usr/local/lib/python3.7/dist-packages (from talos) (2.23.0)\n",
            "Collecting kerasplotlib\n",
            "  Downloading kerasplotlib-0.1.6.tar.gz (3.5 kB)\n",
            "Collecting wrangle\n",
            "  Downloading wrangle-0.6.7.tar.gz (25 kB)\n",
            "Requirement already satisfied: pandas in /usr/local/lib/python3.7/dist-packages (from talos) (1.1.5)\n",
            "Requirement already satisfied: sklearn in /usr/local/lib/python3.7/dist-packages (from talos) (0.0)\n",
            "Requirement already satisfied: tensorflow>=2.0.0 in /usr/local/lib/python3.7/dist-packages (from talos) (2.5.0)\n",
            "Collecting statsmodels>=0.11.0\n",
            "  Downloading statsmodels-0.12.2-cp37-cp37m-manylinux1_x86_64.whl (9.5 MB)\n",
            "\u001b[K     |████████████████████████████████| 9.5 MB 47.0 MB/s \n",
            "\u001b[?25hRequirement already satisfied: numpy in /usr/local/lib/python3.7/dist-packages (from talos) (1.19.5)\n",
            "Collecting chances\n",
            "  Downloading chances-0.1.9.tar.gz (35 kB)\n",
            "Requirement already satisfied: tqdm in /usr/local/lib/python3.7/dist-packages (from talos) (4.41.1)\n",
            "Requirement already satisfied: scipy>=1.1 in /usr/local/lib/python3.7/dist-packages (from statsmodels>=0.11.0->talos) (1.4.1)\n",
            "Requirement already satisfied: patsy>=0.5 in /usr/local/lib/python3.7/dist-packages (from statsmodels>=0.11.0->talos) (0.5.1)\n",
            "Requirement already satisfied: pytz>=2017.2 in /usr/local/lib/python3.7/dist-packages (from pandas->talos) (2018.9)\n",
            "Requirement already satisfied: python-dateutil>=2.7.3 in /usr/local/lib/python3.7/dist-packages (from pandas->talos) (2.8.1)\n",
            "Requirement already satisfied: six in /usr/local/lib/python3.7/dist-packages (from patsy>=0.5->statsmodels>=0.11.0->talos) (1.15.0)\n",
            "Requirement already satisfied: gast==0.4.0 in /usr/local/lib/python3.7/dist-packages (from tensorflow>=2.0.0->talos) (0.4.0)\n",
            "Requirement already satisfied: opt-einsum~=3.3.0 in /usr/local/lib/python3.7/dist-packages (from tensorflow>=2.0.0->talos) (3.3.0)\n",
            "Requirement already satisfied: absl-py~=0.10 in /usr/local/lib/python3.7/dist-packages (from tensorflow>=2.0.0->talos) (0.12.0)\n",
            "Requirement already satisfied: keras-preprocessing~=1.1.2 in /usr/local/lib/python3.7/dist-packages (from tensorflow>=2.0.0->talos) (1.1.2)\n",
            "Requirement already satisfied: tensorboard~=2.5 in /usr/local/lib/python3.7/dist-packages (from tensorflow>=2.0.0->talos) (2.5.0)\n",
            "Requirement already satisfied: google-pasta~=0.2 in /usr/local/lib/python3.7/dist-packages (from tensorflow>=2.0.0->talos) (0.2.0)\n",
            "Requirement already satisfied: tensorflow-estimator<2.6.0,>=2.5.0rc0 in /usr/local/lib/python3.7/dist-packages (from tensorflow>=2.0.0->talos) (2.5.0)\n",
            "Requirement already satisfied: h5py~=3.1.0 in /usr/local/lib/python3.7/dist-packages (from tensorflow>=2.0.0->talos) (3.1.0)\n",
            "Requirement already satisfied: typing-extensions~=3.7.4 in /usr/local/lib/python3.7/dist-packages (from tensorflow>=2.0.0->talos) (3.7.4.3)\n",
            "Requirement already satisfied: grpcio~=1.34.0 in /usr/local/lib/python3.7/dist-packages (from tensorflow>=2.0.0->talos) (1.34.1)\n",
            "Requirement already satisfied: keras-nightly~=2.5.0.dev in /usr/local/lib/python3.7/dist-packages (from tensorflow>=2.0.0->talos) (2.5.0.dev2021032900)\n",
            "Requirement already satisfied: wrapt~=1.12.1 in /usr/local/lib/python3.7/dist-packages (from tensorflow>=2.0.0->talos) (1.12.1)\n",
            "Requirement already satisfied: termcolor~=1.1.0 in /usr/local/lib/python3.7/dist-packages (from tensorflow>=2.0.0->talos) (1.1.0)\n",
            "Requirement already satisfied: protobuf>=3.9.2 in /usr/local/lib/python3.7/dist-packages (from tensorflow>=2.0.0->talos) (3.17.3)\n",
            "Requirement already satisfied: astunparse~=1.6.3 in /usr/local/lib/python3.7/dist-packages (from tensorflow>=2.0.0->talos) (1.6.3)\n",
            "Requirement already satisfied: flatbuffers~=1.12.0 in /usr/local/lib/python3.7/dist-packages (from tensorflow>=2.0.0->talos) (1.12)\n",
            "Requirement already satisfied: wheel~=0.35 in /usr/local/lib/python3.7/dist-packages (from tensorflow>=2.0.0->talos) (0.36.2)\n",
            "Requirement already satisfied: cached-property in /usr/local/lib/python3.7/dist-packages (from h5py~=3.1.0->tensorflow>=2.0.0->talos) (1.5.2)\n",
            "Requirement already satisfied: tensorboard-data-server<0.7.0,>=0.6.0 in /usr/local/lib/python3.7/dist-packages (from tensorboard~=2.5->tensorflow>=2.0.0->talos) (0.6.1)\n",
            "Requirement already satisfied: werkzeug>=0.11.15 in /usr/local/lib/python3.7/dist-packages (from tensorboard~=2.5->tensorflow>=2.0.0->talos) (1.0.1)\n",
            "Requirement already satisfied: tensorboard-plugin-wit>=1.6.0 in /usr/local/lib/python3.7/dist-packages (from tensorboard~=2.5->tensorflow>=2.0.0->talos) (1.8.0)\n",
            "Requirement already satisfied: google-auth-oauthlib<0.5,>=0.4.1 in /usr/local/lib/python3.7/dist-packages (from tensorboard~=2.5->tensorflow>=2.0.0->talos) (0.4.4)\n",
            "Requirement already satisfied: setuptools>=41.0.0 in /usr/local/lib/python3.7/dist-packages (from tensorboard~=2.5->tensorflow>=2.0.0->talos) (57.4.0)\n",
            "Requirement already satisfied: google-auth<2,>=1.6.3 in /usr/local/lib/python3.7/dist-packages (from tensorboard~=2.5->tensorflow>=2.0.0->talos) (1.32.1)\n",
            "Requirement already satisfied: markdown>=2.6.8 in /usr/local/lib/python3.7/dist-packages (from tensorboard~=2.5->tensorflow>=2.0.0->talos) (3.3.4)\n",
            "Requirement already satisfied: rsa<5,>=3.1.4 in /usr/local/lib/python3.7/dist-packages (from google-auth<2,>=1.6.3->tensorboard~=2.5->tensorflow>=2.0.0->talos) (4.7.2)\n",
            "Requirement already satisfied: cachetools<5.0,>=2.0.0 in /usr/local/lib/python3.7/dist-packages (from google-auth<2,>=1.6.3->tensorboard~=2.5->tensorflow>=2.0.0->talos) (4.2.2)\n",
            "Requirement already satisfied: pyasn1-modules>=0.2.1 in /usr/local/lib/python3.7/dist-packages (from google-auth<2,>=1.6.3->tensorboard~=2.5->tensorflow>=2.0.0->talos) (0.2.8)\n",
            "Requirement already satisfied: requests-oauthlib>=0.7.0 in /usr/local/lib/python3.7/dist-packages (from google-auth-oauthlib<0.5,>=0.4.1->tensorboard~=2.5->tensorflow>=2.0.0->talos) (1.3.0)\n",
            "Requirement already satisfied: importlib-metadata in /usr/local/lib/python3.7/dist-packages (from markdown>=2.6.8->tensorboard~=2.5->tensorflow>=2.0.0->talos) (4.6.1)\n",
            "Requirement already satisfied: pyasn1<0.5.0,>=0.4.6 in /usr/local/lib/python3.7/dist-packages (from pyasn1-modules>=0.2.1->google-auth<2,>=1.6.3->tensorboard~=2.5->tensorflow>=2.0.0->talos) (0.4.8)\n",
            "Requirement already satisfied: chardet<4,>=3.0.2 in /usr/local/lib/python3.7/dist-packages (from requests->talos) (3.0.4)\n",
            "Requirement already satisfied: certifi>=2017.4.17 in /usr/local/lib/python3.7/dist-packages (from requests->talos) (2021.5.30)\n",
            "Requirement already satisfied: idna<3,>=2.5 in /usr/local/lib/python3.7/dist-packages (from requests->talos) (2.10)\n",
            "Requirement already satisfied: urllib3!=1.25.0,!=1.25.1,<1.26,>=1.21.1 in /usr/local/lib/python3.7/dist-packages (from requests->talos) (1.24.3)\n",
            "Requirement already satisfied: oauthlib>=3.0.0 in /usr/local/lib/python3.7/dist-packages (from requests-oauthlib>=0.7.0->google-auth-oauthlib<0.5,>=0.4.1->tensorboard~=2.5->tensorflow>=2.0.0->talos) (3.1.1)\n",
            "Requirement already satisfied: IPython in /usr/local/lib/python3.7/dist-packages (from astetik->talos) (5.5.0)\n",
            "Collecting geonamescache\n",
            "  Downloading geonamescache-1.2.0-py3-none-any.whl (2.6 MB)\n",
            "\u001b[K     |████████████████████████████████| 2.6 MB 52.8 MB/s \n",
            "\u001b[?25hRequirement already satisfied: seaborn in /usr/local/lib/python3.7/dist-packages (from astetik->talos) (0.11.1)\n",
            "Requirement already satisfied: zipp>=0.5 in /usr/local/lib/python3.7/dist-packages (from importlib-metadata->markdown>=2.6.8->tensorboard~=2.5->tensorflow>=2.0.0->talos) (3.5.0)\n",
            "Requirement already satisfied: simplegeneric>0.8 in /usr/local/lib/python3.7/dist-packages (from IPython->astetik->talos) (0.8.1)\n",
            "Requirement already satisfied: pickleshare in /usr/local/lib/python3.7/dist-packages (from IPython->astetik->talos) (0.7.5)\n",
            "Requirement already satisfied: decorator in /usr/local/lib/python3.7/dist-packages (from IPython->astetik->talos) (4.4.2)\n",
            "Requirement already satisfied: prompt-toolkit<2.0.0,>=1.0.4 in /usr/local/lib/python3.7/dist-packages (from IPython->astetik->talos) (1.0.18)\n",
            "Requirement already satisfied: traitlets>=4.2 in /usr/local/lib/python3.7/dist-packages (from IPython->astetik->talos) (5.0.5)\n",
            "Requirement already satisfied: pygments in /usr/local/lib/python3.7/dist-packages (from IPython->astetik->talos) (2.6.1)\n",
            "Requirement already satisfied: pexpect in /usr/local/lib/python3.7/dist-packages (from IPython->astetik->talos) (4.8.0)\n",
            "Requirement already satisfied: wcwidth in /usr/local/lib/python3.7/dist-packages (from prompt-toolkit<2.0.0,>=1.0.4->IPython->astetik->talos) (0.2.5)\n",
            "Requirement already satisfied: ipython-genutils in /usr/local/lib/python3.7/dist-packages (from traitlets>=4.2->IPython->astetik->talos) (0.2.0)\n",
            "Requirement already satisfied: ptyprocess>=0.5 in /usr/local/lib/python3.7/dist-packages (from pexpect->IPython->astetik->talos) (0.7.0)\n",
            "Requirement already satisfied: matplotlib>=2.2 in /usr/local/lib/python3.7/dist-packages (from seaborn->astetik->talos) (3.2.2)\n",
            "Requirement already satisfied: cycler>=0.10 in /usr/local/lib/python3.7/dist-packages (from matplotlib>=2.2->seaborn->astetik->talos) (0.10.0)\n",
            "Requirement already satisfied: kiwisolver>=1.0.1 in /usr/local/lib/python3.7/dist-packages (from matplotlib>=2.2->seaborn->astetik->talos) (1.3.1)\n",
            "Requirement already satisfied: pyparsing!=2.0.4,!=2.1.2,!=2.1.6,>=2.0.1 in /usr/local/lib/python3.7/dist-packages (from matplotlib>=2.2->seaborn->astetik->talos) (2.4.7)\n",
            "Requirement already satisfied: scikit-learn in /usr/local/lib/python3.7/dist-packages (from sklearn->talos) (0.22.2.post1)\n",
            "Requirement already satisfied: joblib>=0.11 in /usr/local/lib/python3.7/dist-packages (from scikit-learn->sklearn->talos) (1.0.1)\n",
            "Collecting scipy>=1.1\n",
            "  Downloading scipy-1.2.0-cp37-cp37m-manylinux1_x86_64.whl (26.6 MB)\n",
            "\u001b[K     |████████████████████████████████| 26.6 MB 60 kB/s \n",
            "\u001b[?25hRequirement already satisfied: keras in /usr/local/lib/python3.7/dist-packages (from wrangle->talos) (2.4.3)\n",
            "Requirement already satisfied: pyyaml in /usr/local/lib/python3.7/dist-packages (from keras->wrangle->talos) (3.13)\n",
            "Building wheels for collected packages: chances, kerasplotlib, wrangle\n",
            "  Building wheel for chances (setup.py) ... \u001b[?25l\u001b[?25hdone\n",
            "  Created wheel for chances: filename=chances-0.1.9-py3-none-any.whl size=41608 sha256=b163a6efef641c3e4b4e4738b0ed73ad8d2ff6e9b10a4a36d0786ce7806816fc\n",
            "  Stored in directory: /root/.cache/pip/wheels/f3/2e/7e/316f7da11ccf2195ff05e4a0186a4b5975be9bd0b0004198b6\n",
            "  Building wheel for kerasplotlib (setup.py) ... \u001b[?25l\u001b[?25hdone\n",
            "  Created wheel for kerasplotlib: filename=kerasplotlib-0.1.6-py3-none-any.whl size=3601 sha256=6e8832a208be2e461965773d118a5ca4b097829a3fc8ca6b703a6eb633c4af5a\n",
            "  Stored in directory: /root/.cache/pip/wheels/1c/b4/c8/d1533d85f7fc617e3201c3f41b79fe49ae9284c8fc4a5bd4b2\n",
            "  Building wheel for wrangle (setup.py) ... \u001b[?25l\u001b[?25hdone\n",
            "  Created wheel for wrangle: filename=wrangle-0.6.7-py3-none-any.whl size=49894 sha256=5974ed556532f817520ca20394ab1e98d2315732327ab18b7a73dca891c250ac\n",
            "  Stored in directory: /root/.cache/pip/wheels/ed/30/6f/0ef272d1dc45d60081669b1bb8b6122dd5107cd5afb29b2598\n",
            "Successfully built chances kerasplotlib wrangle\n",
            "Installing collected packages: scipy, statsmodels, wrangle, geonamescache, kerasplotlib, chances, astetik, talos\n",
            "  Attempting uninstall: scipy\n",
            "    Found existing installation: scipy 1.4.1\n",
            "    Uninstalling scipy-1.4.1:\n",
            "      Successfully uninstalled scipy-1.4.1\n",
            "\u001b[33m  WARNING: Value for scheme.headers does not match. Please report this to <https://github.com/pypa/pip/issues/10151>\n",
            "  distutils: /usr/local/include/python3.7/scipy\n",
            "  sysconfig: /usr/include/python3.7m/scipy\u001b[0m\n",
            "  Attempting uninstall: statsmodels\n",
            "    Found existing installation: statsmodels 0.10.2\n",
            "    Uninstalling statsmodels-0.10.2:\n",
            "      Successfully uninstalled statsmodels-0.10.2\n",
            "\u001b[33m  WARNING: Value for scheme.headers does not match. Please report this to <https://github.com/pypa/pip/issues/10151>\n",
            "  distutils: /usr/local/include/python3.7/statsmodels\n",
            "  sysconfig: /usr/include/python3.7m/statsmodels\u001b[0m\n",
            "\u001b[33m  WARNING: Value for scheme.headers does not match. Please report this to <https://github.com/pypa/pip/issues/10151>\n",
            "  distutils: /usr/local/include/python3.7/wrangle\n",
            "  sysconfig: /usr/include/python3.7m/wrangle\u001b[0m\n",
            "\u001b[33m  WARNING: Value for scheme.headers does not match. Please report this to <https://github.com/pypa/pip/issues/10151>\n",
            "  distutils: /usr/local/include/python3.7/geonamescache\n",
            "  sysconfig: /usr/include/python3.7m/geonamescache\u001b[0m\n",
            "\u001b[33m  WARNING: Value for scheme.headers does not match. Please report this to <https://github.com/pypa/pip/issues/10151>\n",
            "  distutils: /usr/local/include/python3.7/kerasplotlib\n",
            "  sysconfig: /usr/include/python3.7m/kerasplotlib\u001b[0m\n",
            "\u001b[33m  WARNING: Value for scheme.headers does not match. Please report this to <https://github.com/pypa/pip/issues/10151>\n",
            "  distutils: /usr/local/include/python3.7/chances\n",
            "  sysconfig: /usr/include/python3.7m/chances\u001b[0m\n",
            "\u001b[33m  WARNING: Value for scheme.headers does not match. Please report this to <https://github.com/pypa/pip/issues/10151>\n",
            "  distutils: /usr/local/include/python3.7/astetik\n",
            "  sysconfig: /usr/include/python3.7m/astetik\u001b[0m\n",
            "\u001b[33m  WARNING: Value for scheme.headers does not match. Please report this to <https://github.com/pypa/pip/issues/10151>\n",
            "  distutils: /usr/local/include/python3.7/talos\n",
            "  sysconfig: /usr/include/python3.7m/talos\u001b[0m\n",
            "\u001b[31mERROR: pip's dependency resolver does not currently take into account all the packages that are installed. This behaviour is the source of the following dependency conflicts.\n",
            "albumentations 0.1.12 requires imgaug<0.2.7,>=0.2.5, but you have imgaug 0.2.9 which is incompatible.\u001b[0m\n",
            "Successfully installed astetik-1.11.1 chances-0.1.9 geonamescache-1.2.0 kerasplotlib-0.1.6 scipy-1.2.0 statsmodels-0.12.2 talos-1.0 wrangle-0.6.7\n",
            "\u001b[33mWARNING: Running pip as the 'root' user can result in broken permissions and conflicting behaviour with the system package manager. It is recommended to use a virtual environment instead: https://pip.pypa.io/warnings/venv\u001b[0m\n",
            "************************\n",
            "        Versions        \n",
            "************************\n",
            "Tensorflow version=2.5.0\n",
            "Keras version=2.5.0\n",
            "Sklearn version=0.22.2.post1\n",
            "Numpy version=1.19.5\n",
            "Pandas version=1.1.5\n",
            "Seaborn version=0.11.1\n",
            "Matplotlib version=3.2.2\n",
            "SpaCy version=3.1.1\n",
            "Python version=3.7.11\n"
          ],
          "name": "stdout"
        }
      ]
    },
    {
      "cell_type": "markdown",
      "metadata": {
        "id": "leKoAEG_KWf8"
      },
      "source": [
        "### 2.3. Load the modules\n",
        "\n",
        "---\n",
        "\n",
        "Load the necessary modules for usage in the entire project."
      ]
    },
    {
      "cell_type": "code",
      "metadata": {
        "id": "U04wypEUv2p1"
      },
      "source": [
        "# importing necessary modules for this project\n",
        "import tensorflow as tf\n",
        "\n",
        "import pandas as pd\n",
        "import matplotlib.pyplot as plt\n",
        "import seaborn as sns\n",
        "import numpy as np\n",
        "import string\n",
        "import spacy\n",
        "\n",
        "# activate the GPU to run spaCy with GPU\n",
        "spacy.prefer_gpu()\n",
        "\n",
        "%matplotlib inline"
      ],
      "execution_count": 4,
      "outputs": []
    },
    {
      "cell_type": "markdown",
      "metadata": {
        "id": "ca1X-gSJKap_"
      },
      "source": [
        "### 2.4. Load the dataset\n",
        "\n",
        "---\n",
        "\n",
        "Load the dataset for usage in the entire project."
      ]
    },
    {
      "cell_type": "code",
      "metadata": {
        "colab": {
          "base_uri": "https://localhost:8080/",
          "height": 730
        },
        "id": "owSKzElwKdh1",
        "outputId": "fc83196a-f0d3-490c-dc36-f70bfd57bd1f"
      },
      "source": [
        "# use pandas to read the excel file and populate it in a pandas dataframe\n",
        "companies = pd.read_excel('./clean_dataset.xlsx')\n",
        "\n",
        "# see the top 10 companies that are populated in the dataframe\n",
        "companies.head(10)"
      ],
      "execution_count": 5,
      "outputs": [
        {
          "output_type": "execute_result",
          "data": {
            "text/html": [
              "<div>\n",
              "<style scoped>\n",
              "    .dataframe tbody tr th:only-of-type {\n",
              "        vertical-align: middle;\n",
              "    }\n",
              "\n",
              "    .dataframe tbody tr th {\n",
              "        vertical-align: top;\n",
              "    }\n",
              "\n",
              "    .dataframe thead th {\n",
              "        text-align: right;\n",
              "    }\n",
              "</style>\n",
              "<table border=\"1\" class=\"dataframe\">\n",
              "  <thead>\n",
              "    <tr style=\"text-align: right;\">\n",
              "      <th></th>\n",
              "      <th>Company_ID</th>\n",
              "      <th>Company</th>\n",
              "      <th>Country</th>\n",
              "      <th>PIC</th>\n",
              "      <th>Sector</th>\n",
              "      <th>Subsector</th>\n",
              "      <th>Archetype</th>\n",
              "      <th>Valuechain</th>\n",
              "      <th>Websites</th>\n",
              "      <th>Company Profile Information</th>\n",
              "      <th>Remarks</th>\n",
              "    </tr>\n",
              "  </thead>\n",
              "  <tbody>\n",
              "    <tr>\n",
              "      <th>0</th>\n",
              "      <td>4137190062363536</td>\n",
              "      <td>AKSORN CHAROEN TAT ACT. CO.,LTD.</td>\n",
              "      <td>THAILAND</td>\n",
              "      <td>NaN</td>\n",
              "      <td>TMT</td>\n",
              "      <td>media</td>\n",
              "      <td>media_aggregator/distributor</td>\n",
              "      <td>Midstream</td>\n",
              "      <td>https://getlinks.co/6831</td>\n",
              "      <td>For over 80 years of experience in creating an...</td>\n",
              "      <td>NaN</td>\n",
              "    </tr>\n",
              "    <tr>\n",
              "      <th>1</th>\n",
              "      <td>23248790229909752</td>\n",
              "      <td>DONGGUAN SHENGYA CLEANING APPLIAME CO.LTD</td>\n",
              "      <td>CHINA</td>\n",
              "      <td>NaN</td>\n",
              "      <td>TMT</td>\n",
              "      <td>consumer electronics</td>\n",
              "      <td>consumer electronics_distributor</td>\n",
              "      <td>Downstream</td>\n",
              "      <td>https://baike.baidu.com/item/%E4%B8%9C%E8%8E%9...</td>\n",
              "      <td>Yatai's main products cover various cleaning m...</td>\n",
              "      <td>NaN</td>\n",
              "    </tr>\n",
              "    <tr>\n",
              "      <th>2</th>\n",
              "      <td>28486505934571008</td>\n",
              "      <td>EXIS TECH SDN. BHD.</td>\n",
              "      <td>MALAYSIA</td>\n",
              "      <td>NaN</td>\n",
              "      <td>oos</td>\n",
              "      <td>others</td>\n",
              "      <td>others</td>\n",
              "      <td>NaN</td>\n",
              "      <td>http://www.exis-tech.com/</td>\n",
              "      <td>In the beginning, it started off by providing ...</td>\n",
              "      <td>NaN</td>\n",
              "    </tr>\n",
              "    <tr>\n",
              "      <th>3</th>\n",
              "      <td>38251695094669872</td>\n",
              "      <td>BEI JING ESTRABA IMPORT AND EXPORT</td>\n",
              "      <td>CHINA</td>\n",
              "      <td>NaN</td>\n",
              "      <td>NaN</td>\n",
              "      <td>NaN</td>\n",
              "      <td>NaN</td>\n",
              "      <td>NaN</td>\n",
              "      <td>NaN</td>\n",
              "      <td>NaN</td>\n",
              "      <td>NaN</td>\n",
              "    </tr>\n",
              "    <tr>\n",
              "      <th>4</th>\n",
              "      <td>39910921263510784</td>\n",
              "      <td>Aztech Electronics Pte Ltd</td>\n",
              "      <td>SINGAPORE</td>\n",
              "      <td>NaN</td>\n",
              "      <td>TMT</td>\n",
              "      <td>consumer electronics</td>\n",
              "      <td>consumer electronics_distributor</td>\n",
              "      <td>Downstream</td>\n",
              "      <td>https://www.aztech.com/business/about-us/</td>\n",
              "      <td>Being a turnkey, one-stop integrated solutions...</td>\n",
              "      <td>NaN</td>\n",
              "    </tr>\n",
              "    <tr>\n",
              "      <th>5</th>\n",
              "      <td>54863889264716592</td>\n",
              "      <td>TONGDUN INTERNATIONAL PTE LTD</td>\n",
              "      <td>SINGAPORE</td>\n",
              "      <td>NaN</td>\n",
              "      <td>tmt</td>\n",
              "      <td>it_services</td>\n",
              "      <td>it_services</td>\n",
              "      <td>midstream</td>\n",
              "      <td>https://www.tongdun.net/info/company</td>\n",
              "      <td>Tongdun Technology is a professional third-par...</td>\n",
              "      <td>NaN</td>\n",
              "    </tr>\n",
              "    <tr>\n",
              "      <th>6</th>\n",
              "      <td>60624700618157752</td>\n",
              "      <td>EMASTIGA ENGRG PTE LTD</td>\n",
              "      <td>SINGAPORE</td>\n",
              "      <td>NaN</td>\n",
              "      <td>cni</td>\n",
              "      <td>cni_service providers</td>\n",
              "      <td>cni_service providers</td>\n",
              "      <td>midstream</td>\n",
              "      <td>http://emastiga.com/</td>\n",
              "      <td>For over 30 years, EMASTIGA has been servicing...</td>\n",
              "      <td>Holding company and also provides it_services....</td>\n",
              "    </tr>\n",
              "    <tr>\n",
              "      <th>7</th>\n",
              "      <td>102285011598298000</td>\n",
              "      <td>AEROFLUID CO.,LTD.</td>\n",
              "      <td>THAILAND</td>\n",
              "      <td>NaN</td>\n",
              "      <td>CNI</td>\n",
              "      <td>cni_equipment suppliers</td>\n",
              "      <td>cni_equipment suppliers</td>\n",
              "      <td>MIDSTREAM</td>\n",
              "      <td>https://www.matchlink.asia/business/page/Thail...</td>\n",
              "      <td>Sales of hydraulic equipment and parts</td>\n",
              "      <td>NaN</td>\n",
              "    </tr>\n",
              "    <tr>\n",
              "      <th>8</th>\n",
              "      <td>120313950904532608</td>\n",
              "      <td>EXCELKOS SDN. BHD.</td>\n",
              "      <td>MALAYSIA</td>\n",
              "      <td>NaN</td>\n",
              "      <td>IND</td>\n",
              "      <td>diversified</td>\n",
              "      <td>rubber</td>\n",
              "      <td>Manufacturer</td>\n",
              "      <td>https://www.excelkos.com/</td>\n",
              "      <td>For Excelkos, it all started with a far-sighte...</td>\n",
              "      <td>NaN</td>\n",
              "    </tr>\n",
              "    <tr>\n",
              "      <th>9</th>\n",
              "      <td>125319506467804896</td>\n",
              "      <td>KUM ENG HUAT ELECTRIC CO PTE LTD</td>\n",
              "      <td>SINGAPORE</td>\n",
              "      <td>NaN</td>\n",
              "      <td>tmt</td>\n",
              "      <td>consumer electronics</td>\n",
              "      <td>consumer electronics_distributor</td>\n",
              "      <td>downstream</td>\n",
              "      <td>https://kumenghuat.com.sg/pages/about</td>\n",
              "      <td>Kum Eng Huat is the authorised dealer for Osra...</td>\n",
              "      <td>NaN</td>\n",
              "    </tr>\n",
              "  </tbody>\n",
              "</table>\n",
              "</div>"
            ],
            "text/plain": [
              "           Company_ID  ...                                            Remarks\n",
              "0    4137190062363536  ...                                                NaN\n",
              "1   23248790229909752  ...                                                NaN\n",
              "2   28486505934571008  ...                                                NaN\n",
              "3   38251695094669872  ...                                                NaN\n",
              "4   39910921263510784  ...                                                NaN\n",
              "5   54863889264716592  ...                                                NaN\n",
              "6   60624700618157752  ...  Holding company and also provides it_services....\n",
              "7  102285011598298000  ...                                                NaN\n",
              "8  120313950904532608  ...                                                NaN\n",
              "9  125319506467804896  ...                                                NaN\n",
              "\n",
              "[10 rows x 11 columns]"
            ]
          },
          "metadata": {
            "tags": []
          },
          "execution_count": 5
        }
      ]
    },
    {
      "cell_type": "markdown",
      "metadata": {
        "id": "2TI1D_-KP6hC"
      },
      "source": [
        "---\n",
        "---"
      ]
    },
    {
      "cell_type": "markdown",
      "metadata": {
        "id": "9qKHTDyOP9bz"
      },
      "source": [
        "# 3.Exploratory Data Analysis"
      ]
    },
    {
      "cell_type": "markdown",
      "metadata": {
        "id": "P8p50I8GQCAg"
      },
      "source": [
        "### 3.1. Get overview of dataset\n",
        "\n",
        "---\n",
        "\n",
        "Get statistical information of the dataset to understand the dataset better."
      ]
    },
    {
      "cell_type": "code",
      "metadata": {
        "colab": {
          "base_uri": "https://localhost:8080/"
        },
        "id": "2iea82R6Dm2J",
        "outputId": "94c568a2-3f1b-4eaa-8ed3-0495a7d9fab2"
      },
      "source": [
        "# see the row headers of the entire pandas dataframe first\n",
        "list(companies.columns)"
      ],
      "execution_count": 6,
      "outputs": [
        {
          "output_type": "execute_result",
          "data": {
            "text/plain": [
              "['Company_ID',\n",
              " 'Company',\n",
              " 'Country',\n",
              " 'PIC',\n",
              " 'Sector',\n",
              " 'Subsector',\n",
              " 'Archetype',\n",
              " 'Valuechain',\n",
              " 'Websites',\n",
              " 'Company Profile Information',\n",
              " 'Remarks']"
            ]
          },
          "metadata": {
            "tags": []
          },
          "execution_count": 6
        }
      ]
    },
    {
      "cell_type": "code",
      "metadata": {
        "colab": {
          "base_uri": "https://localhost:8080/"
        },
        "id": "OVX1CBSTLZqm",
        "outputId": "ce6aa0a8-0331-47d8-b755-d1874db6666c"
      },
      "source": [
        "# get the total number of records in the dataframe\n",
        "df_count = companies['Company_ID'].count()\n",
        "\n",
        "# get count of unique contries where companies are based in\n",
        "df_countCountry = companies['Country'].nunique()\n",
        "\n",
        "# get count of total unique sectors where companies are from\n",
        "df_countSector = companies['Sector'].nunique()\n",
        "\n",
        "# get count of total unique subseector where companies are from\n",
        "df_countsubSector = companies['Subsector'].nunique()\n",
        "\n",
        "# get count of total unique valuechain where companies are from\n",
        "df_countValuechain = companies['Valuechain'].nunique()\n",
        "\n",
        "print('Total number of records:', df_count)\n",
        "print('Total number of countries:', df_countCountry)\n",
        "print('Total number of sectors:', df_countSector)\n",
        "print('Total number of subsectors:', df_countsubSector)\n",
        "print('Total number of valuechain:', df_countValuechain)"
      ],
      "execution_count": 7,
      "outputs": [
        {
          "output_type": "stream",
          "text": [
            "Total number of records: 6600\n",
            "Total number of countries: 13\n",
            "Total number of sectors: 15\n",
            "Total number of subsectors: 36\n",
            "Total number of valuechain: 18\n"
          ],
          "name": "stdout"
        }
      ]
    },
    {
      "cell_type": "code",
      "metadata": {
        "colab": {
          "base_uri": "https://localhost:8080/"
        },
        "id": "O1C_l7ytUixQ",
        "outputId": "ca5cbd24-c85a-4595-eea6-5c117d6717da"
      },
      "source": [
        "# get total number of countries\n",
        "df_totalCountries = companies['Country'].value_counts()\n",
        "\n",
        "# get list of unique sector\n",
        "df_sector = companies['Sector'].value_counts()\n",
        "\n",
        "# get list of unique archetype\n",
        "df_archetype = companies['Archetype'].value_counts()\n",
        "\n",
        "# get list of unique valuechain\n",
        "df_valuechain = companies['Valuechain'].value_counts()\n",
        "\n",
        "print('List of unique countries:\\n{}'.format(df_totalCountries))\n",
        "print()\n",
        "print('List of unique sector:\\n{}'.format(df_sector))\n",
        "print()\n",
        "print('List of unique valuechain:\\n{}'.format(df_valuechain))"
      ],
      "execution_count": 8,
      "outputs": [
        {
          "output_type": "stream",
          "text": [
            "List of unique countries:\n",
            "SINGAPORE         2213\n",
            "MALAYSIA          1586\n",
            "THAILAND          1321\n",
            "CHINA              729\n",
            "HONG KONG          380\n",
            "INDONESIA          357\n",
            "VIETNAM              5\n",
            "TAIWAN               2\n",
            "AUSTRALIA            2\n",
            "MYANMAR              2\n",
            "UNITED KINGDOM       1\n",
            "CANADA               1\n",
            "LABUAN               1\n",
            "Name: Country, dtype: int64\n",
            "\n",
            "List of unique sector:\n",
            "OOS    1353\n",
            "CNI    1261\n",
            "REH     566\n",
            "CG      565\n",
            "IND     550\n",
            "ONG     428\n",
            "TMT     419\n",
            "cni     258\n",
            "tmt     188\n",
            "oos      79\n",
            "ong      66\n",
            "ind      11\n",
            "cg        7\n",
            "reh       6\n",
            "          1\n",
            "Name: Sector, dtype: int64\n",
            "\n",
            "List of unique valuechain:\n",
            "MIDSTREAM                 1188\n",
            "Downstream                 791\n",
            "Midstream                  455\n",
            "DOWNSTREAM                 437\n",
            "                           432\n",
            "midstream                  309\n",
            "Manufacturer               175\n",
            "downstream                 172\n",
            "UPSTREAM                   159\n",
            "Upstream or Downstream     119\n",
            "Trader                     113\n",
            "Upstream                    99\n",
            "distributor                 92\n",
            "Across value chain          69\n",
            "upstream                    38\n",
            "upstream or downstream      13\n",
            "manufacturer                 8\n",
            "steel fabricator             1\n",
            "Name: Valuechain, dtype: int64\n"
          ],
          "name": "stdout"
        }
      ]
    },
    {
      "cell_type": "code",
      "metadata": {
        "colab": {
          "base_uri": "https://localhost:8080/"
        },
        "id": "NIoXot6HWEWP",
        "outputId": "2062c595-a48e-4434-e754-e5db3c955732"
      },
      "source": [
        "# get list of unique subsector\n",
        "df_subsector = companies['Subsector'].value_counts()\n",
        "\n",
        "print('List of unique Subsector:\\n{}'.format(df_subsector))"
      ],
      "execution_count": 9,
      "outputs": [
        {
          "output_type": "stream",
          "text": [
            "List of unique Subsector:\n",
            "others                               1432\n",
            "building_material                     645\n",
            "buildings & industrial                415\n",
            "retail n distribution                 376\n",
            "auto & mec                            296\n",
            "petrochemical                         282\n",
            "consumer electronics                  238\n",
            "metals and mining                     203\n",
            "cni_service providers                 200\n",
            "residential                           190\n",
            "restaurants, catering & services      163\n",
            "utilities                             138\n",
            "fmcg                                  123\n",
            "it_services                           120\n",
            "o&g_service providers/contractors      93\n",
            "semiconductor                          90\n",
            "o&g                                    89\n",
            "mixed                                  87\n",
            "infrastructure                         75\n",
            "telecommunication                      69\n",
            "media                                  63\n",
            "commercial                             63\n",
            "diversified                            61\n",
            "hotels and accommodation               46\n",
            "animal protein                         42\n",
            "cni_equipment suppliers                40\n",
            "agribusiness                           31\n",
            "digital_business                       27\n",
            "industrial                             23\n",
            "ong_traders                            21\n",
            "ioc/noc                                 8\n",
            "building material                       6\n",
            "IND                                     1\n",
            "gas                                     1\n",
            "                                        1\n",
            "buildings & industrial_contractor       1\n",
            "Name: Subsector, dtype: int64\n"
          ],
          "name": "stdout"
        }
      ]
    },
    {
      "cell_type": "code",
      "metadata": {
        "colab": {
          "base_uri": "https://localhost:8080/"
        },
        "id": "SjaNooD3Uz3c",
        "outputId": "82c57cb4-f2e4-458e-c796-4469eb8b985f"
      },
      "source": [
        "print('List of unique archetype:\\n{}'.format(df_archetype))"
      ],
      "execution_count": 10,
      "outputs": [
        {
          "output_type": "stream",
          "text": [
            "List of unique archetype:\n",
            "others                                    1432\n",
            "building_material_manufacturer             434\n",
            "buildings & industrial_contractor          381\n",
            "consumer discretionary distributor         236\n",
            "building_material_supplier_distributor     211\n",
            "                                          ... \n",
            "metals and mining                            1\n",
            "building material_manufacturer               1\n",
            "o&g_refiner                                  1\n",
            "gas and lng                                  1\n",
            "MIDSTREAM                                    1\n",
            "Name: Archetype, Length: 93, dtype: int64\n"
          ],
          "name": "stdout"
        }
      ]
    },
    {
      "cell_type": "markdown",
      "metadata": {
        "id": "57EHaR92D9UP"
      },
      "source": [
        "### 3.2. Drop unncessary columns\n",
        "\n",
        "---\n",
        "\n",
        "Here, we will drop columns that wiill not aid in our EDA."
      ]
    },
    {
      "cell_type": "code",
      "metadata": {
        "colab": {
          "base_uri": "https://localhost:8080/",
          "height": 468
        },
        "id": "TC9-PuS6EDXT",
        "outputId": "cadda74e-fdbd-4754-ecf1-53f163d2f9ec"
      },
      "source": [
        "# declare the list of the row names that are redundant\n",
        "rows_to_drop = ['Company_ID', 'PIC', 'Websites', 'Remarks']\n",
        "\n",
        "# use a conditional expression to filter out those rows\n",
        "df_filteredCompanies = companies.drop(labels=rows_to_drop, axis=1)\n",
        "\n",
        "df_filteredCompanies"
      ],
      "execution_count": 11,
      "outputs": [
        {
          "output_type": "execute_result",
          "data": {
            "text/html": [
              "<div>\n",
              "<style scoped>\n",
              "    .dataframe tbody tr th:only-of-type {\n",
              "        vertical-align: middle;\n",
              "    }\n",
              "\n",
              "    .dataframe tbody tr th {\n",
              "        vertical-align: top;\n",
              "    }\n",
              "\n",
              "    .dataframe thead th {\n",
              "        text-align: right;\n",
              "    }\n",
              "</style>\n",
              "<table border=\"1\" class=\"dataframe\">\n",
              "  <thead>\n",
              "    <tr style=\"text-align: right;\">\n",
              "      <th></th>\n",
              "      <th>Company</th>\n",
              "      <th>Country</th>\n",
              "      <th>Sector</th>\n",
              "      <th>Subsector</th>\n",
              "      <th>Archetype</th>\n",
              "      <th>Valuechain</th>\n",
              "      <th>Company Profile Information</th>\n",
              "    </tr>\n",
              "  </thead>\n",
              "  <tbody>\n",
              "    <tr>\n",
              "      <th>0</th>\n",
              "      <td>AKSORN CHAROEN TAT ACT. CO.,LTD.</td>\n",
              "      <td>THAILAND</td>\n",
              "      <td>TMT</td>\n",
              "      <td>media</td>\n",
              "      <td>media_aggregator/distributor</td>\n",
              "      <td>Midstream</td>\n",
              "      <td>For over 80 years of experience in creating an...</td>\n",
              "    </tr>\n",
              "    <tr>\n",
              "      <th>1</th>\n",
              "      <td>DONGGUAN SHENGYA CLEANING APPLIAME CO.LTD</td>\n",
              "      <td>CHINA</td>\n",
              "      <td>TMT</td>\n",
              "      <td>consumer electronics</td>\n",
              "      <td>consumer electronics_distributor</td>\n",
              "      <td>Downstream</td>\n",
              "      <td>Yatai's main products cover various cleaning m...</td>\n",
              "    </tr>\n",
              "    <tr>\n",
              "      <th>2</th>\n",
              "      <td>EXIS TECH SDN. BHD.</td>\n",
              "      <td>MALAYSIA</td>\n",
              "      <td>oos</td>\n",
              "      <td>others</td>\n",
              "      <td>others</td>\n",
              "      <td>NaN</td>\n",
              "      <td>In the beginning, it started off by providing ...</td>\n",
              "    </tr>\n",
              "    <tr>\n",
              "      <th>3</th>\n",
              "      <td>BEI JING ESTRABA IMPORT AND EXPORT</td>\n",
              "      <td>CHINA</td>\n",
              "      <td>NaN</td>\n",
              "      <td>NaN</td>\n",
              "      <td>NaN</td>\n",
              "      <td>NaN</td>\n",
              "      <td>NaN</td>\n",
              "    </tr>\n",
              "    <tr>\n",
              "      <th>4</th>\n",
              "      <td>Aztech Electronics Pte Ltd</td>\n",
              "      <td>SINGAPORE</td>\n",
              "      <td>TMT</td>\n",
              "      <td>consumer electronics</td>\n",
              "      <td>consumer electronics_distributor</td>\n",
              "      <td>Downstream</td>\n",
              "      <td>Being a turnkey, one-stop integrated solutions...</td>\n",
              "    </tr>\n",
              "    <tr>\n",
              "      <th>...</th>\n",
              "      <td>...</td>\n",
              "      <td>...</td>\n",
              "      <td>...</td>\n",
              "      <td>...</td>\n",
              "      <td>...</td>\n",
              "      <td>...</td>\n",
              "      <td>...</td>\n",
              "    </tr>\n",
              "    <tr>\n",
              "      <th>6595</th>\n",
              "      <td>PAN ENERGY PTE. LTD.</td>\n",
              "      <td>SINGAPORE</td>\n",
              "      <td>ONG</td>\n",
              "      <td>ong_traders</td>\n",
              "      <td>bunker trader</td>\n",
              "      <td>Downstream</td>\n",
              "      <td>PAN ENERGY is an ACRA-registered entity that h...</td>\n",
              "    </tr>\n",
              "    <tr>\n",
              "      <th>6596</th>\n",
              "      <td>TRIM INTERNATIONAL CO.,LTD.</td>\n",
              "      <td>THAILAND</td>\n",
              "      <td>OOS</td>\n",
              "      <td>others</td>\n",
              "      <td>others</td>\n",
              "      <td>NaN</td>\n",
              "      <td>Established in 2000, TI has grown to become o...</td>\n",
              "    </tr>\n",
              "    <tr>\n",
              "      <th>6597</th>\n",
              "      <td>SIAK SIONG CONSTRUCTION SDN BHD</td>\n",
              "      <td>MALAYSIA</td>\n",
              "      <td>REH</td>\n",
              "      <td>commercial</td>\n",
              "      <td>commercial_integrated player</td>\n",
              "      <td>MIDSTREAM</td>\n",
              "      <td>Siak Siong Group is an established group speci...</td>\n",
              "    </tr>\n",
              "    <tr>\n",
              "      <th>6598</th>\n",
              "      <td>KIJ THAWEE PATTANA CO.,LTD.</td>\n",
              "      <td>THAILAND</td>\n",
              "      <td>REH</td>\n",
              "      <td>commercial</td>\n",
              "      <td>commercial_operator</td>\n",
              "      <td>DOWNSTREAM</td>\n",
              "      <td>Rental, purchase, sale and real estate operations</td>\n",
              "    </tr>\n",
              "    <tr>\n",
              "      <th>6599</th>\n",
              "      <td>CNI ENGINEERING &amp; CONSTRUCTION MALAYSIA SDN. BHD.</td>\n",
              "      <td>MALAYSIA</td>\n",
              "      <td>ONG</td>\n",
              "      <td>o&amp;g_service providers/contractors</td>\n",
              "      <td>o&amp;g upstream service provider</td>\n",
              "      <td>Upstream</td>\n",
              "      <td>ENGINEERING, PROCUREMENT, CONSTRUCTION,SERVICE...</td>\n",
              "    </tr>\n",
              "  </tbody>\n",
              "</table>\n",
              "<p>6600 rows × 7 columns</p>\n",
              "</div>"
            ],
            "text/plain": [
              "                                                Company  ...                        Company Profile Information\n",
              "0                      AKSORN CHAROEN TAT ACT. CO.,LTD.  ...  For over 80 years of experience in creating an...\n",
              "1             DONGGUAN SHENGYA CLEANING APPLIAME CO.LTD  ...  Yatai's main products cover various cleaning m...\n",
              "2                                   EXIS TECH SDN. BHD.  ...  In the beginning, it started off by providing ...\n",
              "3                    BEI JING ESTRABA IMPORT AND EXPORT  ...                                                NaN\n",
              "4                            Aztech Electronics Pte Ltd  ...  Being a turnkey, one-stop integrated solutions...\n",
              "...                                                 ...  ...                                                ...\n",
              "6595                               PAN ENERGY PTE. LTD.  ...  PAN ENERGY is an ACRA-registered entity that h...\n",
              "6596                        TRIM INTERNATIONAL CO.,LTD.  ...   Established in 2000, TI has grown to become o...\n",
              "6597                    SIAK SIONG CONSTRUCTION SDN BHD  ...  Siak Siong Group is an established group speci...\n",
              "6598                        KIJ THAWEE PATTANA CO.,LTD.  ...  Rental, purchase, sale and real estate operations\n",
              "6599  CNI ENGINEERING & CONSTRUCTION MALAYSIA SDN. BHD.  ...  ENGINEERING, PROCUREMENT, CONSTRUCTION,SERVICE...\n",
              "\n",
              "[6600 rows x 7 columns]"
            ]
          },
          "metadata": {
            "tags": []
          },
          "execution_count": 11
        }
      ]
    },
    {
      "cell_type": "markdown",
      "metadata": {
        "id": "c3S6ZQzySmC0"
      },
      "source": [
        "### 3.3. Filter rows with valid data\n",
        "\n",
        "---\n",
        "\n",
        "Extract columns with Nan values and list them out here. Afterwards, gather the rows deemed suitable to process NLP."
      ]
    },
    {
      "cell_type": "code",
      "metadata": {
        "colab": {
          "base_uri": "https://localhost:8080/",
          "height": 418
        },
        "id": "7ZLoO_4SSry7",
        "outputId": "c4aeaadc-70b6-4111-d61b-7dea21091a44"
      },
      "source": [
        "# find all the rows with nan data in sector, subsector, archetype and valuechain\n",
        "cols_to_check = ['Sector', 'Subsector', 'Archetype', 'Valuechain', 'Company Profile Information']\n",
        "empty = df_filteredCompanies[df_filteredCompanies[cols_to_check].isnull().all(1)]\n",
        "\n",
        "empty"
      ],
      "execution_count": 12,
      "outputs": [
        {
          "output_type": "execute_result",
          "data": {
            "text/html": [
              "<div>\n",
              "<style scoped>\n",
              "    .dataframe tbody tr th:only-of-type {\n",
              "        vertical-align: middle;\n",
              "    }\n",
              "\n",
              "    .dataframe tbody tr th {\n",
              "        vertical-align: top;\n",
              "    }\n",
              "\n",
              "    .dataframe thead th {\n",
              "        text-align: right;\n",
              "    }\n",
              "</style>\n",
              "<table border=\"1\" class=\"dataframe\">\n",
              "  <thead>\n",
              "    <tr style=\"text-align: right;\">\n",
              "      <th></th>\n",
              "      <th>Company</th>\n",
              "      <th>Country</th>\n",
              "      <th>Sector</th>\n",
              "      <th>Subsector</th>\n",
              "      <th>Archetype</th>\n",
              "      <th>Valuechain</th>\n",
              "      <th>Company Profile Information</th>\n",
              "    </tr>\n",
              "  </thead>\n",
              "  <tbody>\n",
              "    <tr>\n",
              "      <th>3</th>\n",
              "      <td>BEI JING ESTRABA IMPORT AND EXPORT</td>\n",
              "      <td>CHINA</td>\n",
              "      <td>NaN</td>\n",
              "      <td>NaN</td>\n",
              "      <td>NaN</td>\n",
              "      <td>NaN</td>\n",
              "      <td>NaN</td>\n",
              "    </tr>\n",
              "    <tr>\n",
              "      <th>12</th>\n",
              "      <td>CHANGTU COUNTRY LONGXING FERTILIZER CO.,LTD</td>\n",
              "      <td>CHINA</td>\n",
              "      <td>NaN</td>\n",
              "      <td>NaN</td>\n",
              "      <td>NaN</td>\n",
              "      <td>NaN</td>\n",
              "      <td>NaN</td>\n",
              "    </tr>\n",
              "    <tr>\n",
              "      <th>28</th>\n",
              "      <td>ZIBOBOSHANHONGLIWEI MOTOR CO.,LTD</td>\n",
              "      <td>CHINA</td>\n",
              "      <td>NaN</td>\n",
              "      <td>NaN</td>\n",
              "      <td>NaN</td>\n",
              "      <td>NaN</td>\n",
              "      <td>NaN</td>\n",
              "    </tr>\n",
              "    <tr>\n",
              "      <th>48</th>\n",
              "      <td>BEIJING DUO MEIDUO SHIYOU PRODUCTS SALES CO., ...</td>\n",
              "      <td>CHINA</td>\n",
              "      <td>NaN</td>\n",
              "      <td>NaN</td>\n",
              "      <td>NaN</td>\n",
              "      <td>NaN</td>\n",
              "      <td>NaN</td>\n",
              "    </tr>\n",
              "    <tr>\n",
              "      <th>63</th>\n",
              "      <td>TRUSVEST SDN. BHD.</td>\n",
              "      <td>MALAYSIA</td>\n",
              "      <td>NaN</td>\n",
              "      <td>NaN</td>\n",
              "      <td>NaN</td>\n",
              "      <td>NaN</td>\n",
              "      <td>NaN</td>\n",
              "    </tr>\n",
              "    <tr>\n",
              "      <th>...</th>\n",
              "      <td>...</td>\n",
              "      <td>...</td>\n",
              "      <td>...</td>\n",
              "      <td>...</td>\n",
              "      <td>...</td>\n",
              "      <td>...</td>\n",
              "      <td>...</td>\n",
              "    </tr>\n",
              "    <tr>\n",
              "      <th>6554</th>\n",
              "      <td>HUAYE STEEL STRUCTURE NUCLEAR POWER EQUIPMENT ...</td>\n",
              "      <td>CHINA</td>\n",
              "      <td>NaN</td>\n",
              "      <td>NaN</td>\n",
              "      <td>NaN</td>\n",
              "      <td>NaN</td>\n",
              "      <td>NaN</td>\n",
              "    </tr>\n",
              "    <tr>\n",
              "      <th>6558</th>\n",
              "      <td>XINYANG SITONG MACHINERY MANUFACTURE CO.,LTD</td>\n",
              "      <td>CHINA</td>\n",
              "      <td>NaN</td>\n",
              "      <td>NaN</td>\n",
              "      <td>NaN</td>\n",
              "      <td>NaN</td>\n",
              "      <td>NaN</td>\n",
              "    </tr>\n",
              "    <tr>\n",
              "      <th>6574</th>\n",
              "      <td>SENLIN HOLDINGS LIMITED</td>\n",
              "      <td>HONG KONG</td>\n",
              "      <td>NaN</td>\n",
              "      <td>NaN</td>\n",
              "      <td>NaN</td>\n",
              "      <td>NaN</td>\n",
              "      <td>NaN</td>\n",
              "    </tr>\n",
              "    <tr>\n",
              "      <th>6585</th>\n",
              "      <td>SETIA AWAN PROPERTIES SDN. BHD.</td>\n",
              "      <td>MALAYSIA</td>\n",
              "      <td>NaN</td>\n",
              "      <td>NaN</td>\n",
              "      <td>NaN</td>\n",
              "      <td>NaN</td>\n",
              "      <td>NaN</td>\n",
              "    </tr>\n",
              "    <tr>\n",
              "      <th>6591</th>\n",
              "      <td>MASTER ARCH INTERNATIONAL LIMITED</td>\n",
              "      <td>HONG KONG</td>\n",
              "      <td>NaN</td>\n",
              "      <td>NaN</td>\n",
              "      <td>NaN</td>\n",
              "      <td>NaN</td>\n",
              "      <td>NaN</td>\n",
              "    </tr>\n",
              "  </tbody>\n",
              "</table>\n",
              "<p>830 rows × 7 columns</p>\n",
              "</div>"
            ],
            "text/plain": [
              "                                                Company  ... Company Profile Information\n",
              "3                    BEI JING ESTRABA IMPORT AND EXPORT  ...                         NaN\n",
              "12          CHANGTU COUNTRY LONGXING FERTILIZER CO.,LTD  ...                         NaN\n",
              "28                    ZIBOBOSHANHONGLIWEI MOTOR CO.,LTD  ...                         NaN\n",
              "48    BEIJING DUO MEIDUO SHIYOU PRODUCTS SALES CO., ...  ...                         NaN\n",
              "63                                   TRUSVEST SDN. BHD.  ...                         NaN\n",
              "...                                                 ...  ...                         ...\n",
              "6554  HUAYE STEEL STRUCTURE NUCLEAR POWER EQUIPMENT ...  ...                         NaN\n",
              "6558       XINYANG SITONG MACHINERY MANUFACTURE CO.,LTD  ...                         NaN\n",
              "6574                            SENLIN HOLDINGS LIMITED  ...                         NaN\n",
              "6585                    SETIA AWAN PROPERTIES SDN. BHD.  ...                         NaN\n",
              "6591                  MASTER ARCH INTERNATIONAL LIMITED  ...                         NaN\n",
              "\n",
              "[830 rows x 7 columns]"
            ]
          },
          "metadata": {
            "tags": []
          },
          "execution_count": 12
        }
      ]
    },
    {
      "cell_type": "code",
      "metadata": {
        "colab": {
          "base_uri": "https://localhost:8080/",
          "height": 468
        },
        "id": "nrQjbN7uStmr",
        "outputId": "9635702d-7ce6-4e97-ddc1-94cde6508af6"
      },
      "source": [
        "# now we get the dataset that are valid\n",
        "df_valid = pd.concat([df_filteredCompanies, empty, empty]).drop_duplicates(keep=False)\n",
        "\n",
        "df_valid"
      ],
      "execution_count": 13,
      "outputs": [
        {
          "output_type": "execute_result",
          "data": {
            "text/html": [
              "<div>\n",
              "<style scoped>\n",
              "    .dataframe tbody tr th:only-of-type {\n",
              "        vertical-align: middle;\n",
              "    }\n",
              "\n",
              "    .dataframe tbody tr th {\n",
              "        vertical-align: top;\n",
              "    }\n",
              "\n",
              "    .dataframe thead th {\n",
              "        text-align: right;\n",
              "    }\n",
              "</style>\n",
              "<table border=\"1\" class=\"dataframe\">\n",
              "  <thead>\n",
              "    <tr style=\"text-align: right;\">\n",
              "      <th></th>\n",
              "      <th>Company</th>\n",
              "      <th>Country</th>\n",
              "      <th>Sector</th>\n",
              "      <th>Subsector</th>\n",
              "      <th>Archetype</th>\n",
              "      <th>Valuechain</th>\n",
              "      <th>Company Profile Information</th>\n",
              "    </tr>\n",
              "  </thead>\n",
              "  <tbody>\n",
              "    <tr>\n",
              "      <th>0</th>\n",
              "      <td>AKSORN CHAROEN TAT ACT. CO.,LTD.</td>\n",
              "      <td>THAILAND</td>\n",
              "      <td>TMT</td>\n",
              "      <td>media</td>\n",
              "      <td>media_aggregator/distributor</td>\n",
              "      <td>Midstream</td>\n",
              "      <td>For over 80 years of experience in creating an...</td>\n",
              "    </tr>\n",
              "    <tr>\n",
              "      <th>1</th>\n",
              "      <td>DONGGUAN SHENGYA CLEANING APPLIAME CO.LTD</td>\n",
              "      <td>CHINA</td>\n",
              "      <td>TMT</td>\n",
              "      <td>consumer electronics</td>\n",
              "      <td>consumer electronics_distributor</td>\n",
              "      <td>Downstream</td>\n",
              "      <td>Yatai's main products cover various cleaning m...</td>\n",
              "    </tr>\n",
              "    <tr>\n",
              "      <th>2</th>\n",
              "      <td>EXIS TECH SDN. BHD.</td>\n",
              "      <td>MALAYSIA</td>\n",
              "      <td>oos</td>\n",
              "      <td>others</td>\n",
              "      <td>others</td>\n",
              "      <td>NaN</td>\n",
              "      <td>In the beginning, it started off by providing ...</td>\n",
              "    </tr>\n",
              "    <tr>\n",
              "      <th>4</th>\n",
              "      <td>Aztech Electronics Pte Ltd</td>\n",
              "      <td>SINGAPORE</td>\n",
              "      <td>TMT</td>\n",
              "      <td>consumer electronics</td>\n",
              "      <td>consumer electronics_distributor</td>\n",
              "      <td>Downstream</td>\n",
              "      <td>Being a turnkey, one-stop integrated solutions...</td>\n",
              "    </tr>\n",
              "    <tr>\n",
              "      <th>5</th>\n",
              "      <td>TONGDUN INTERNATIONAL PTE LTD</td>\n",
              "      <td>SINGAPORE</td>\n",
              "      <td>tmt</td>\n",
              "      <td>it_services</td>\n",
              "      <td>it_services</td>\n",
              "      <td>midstream</td>\n",
              "      <td>Tongdun Technology is a professional third-par...</td>\n",
              "    </tr>\n",
              "    <tr>\n",
              "      <th>...</th>\n",
              "      <td>...</td>\n",
              "      <td>...</td>\n",
              "      <td>...</td>\n",
              "      <td>...</td>\n",
              "      <td>...</td>\n",
              "      <td>...</td>\n",
              "      <td>...</td>\n",
              "    </tr>\n",
              "    <tr>\n",
              "      <th>6595</th>\n",
              "      <td>PAN ENERGY PTE. LTD.</td>\n",
              "      <td>SINGAPORE</td>\n",
              "      <td>ONG</td>\n",
              "      <td>ong_traders</td>\n",
              "      <td>bunker trader</td>\n",
              "      <td>Downstream</td>\n",
              "      <td>PAN ENERGY is an ACRA-registered entity that h...</td>\n",
              "    </tr>\n",
              "    <tr>\n",
              "      <th>6596</th>\n",
              "      <td>TRIM INTERNATIONAL CO.,LTD.</td>\n",
              "      <td>THAILAND</td>\n",
              "      <td>OOS</td>\n",
              "      <td>others</td>\n",
              "      <td>others</td>\n",
              "      <td>NaN</td>\n",
              "      <td>Established in 2000, TI has grown to become o...</td>\n",
              "    </tr>\n",
              "    <tr>\n",
              "      <th>6597</th>\n",
              "      <td>SIAK SIONG CONSTRUCTION SDN BHD</td>\n",
              "      <td>MALAYSIA</td>\n",
              "      <td>REH</td>\n",
              "      <td>commercial</td>\n",
              "      <td>commercial_integrated player</td>\n",
              "      <td>MIDSTREAM</td>\n",
              "      <td>Siak Siong Group is an established group speci...</td>\n",
              "    </tr>\n",
              "    <tr>\n",
              "      <th>6598</th>\n",
              "      <td>KIJ THAWEE PATTANA CO.,LTD.</td>\n",
              "      <td>THAILAND</td>\n",
              "      <td>REH</td>\n",
              "      <td>commercial</td>\n",
              "      <td>commercial_operator</td>\n",
              "      <td>DOWNSTREAM</td>\n",
              "      <td>Rental, purchase, sale and real estate operations</td>\n",
              "    </tr>\n",
              "    <tr>\n",
              "      <th>6599</th>\n",
              "      <td>CNI ENGINEERING &amp; CONSTRUCTION MALAYSIA SDN. BHD.</td>\n",
              "      <td>MALAYSIA</td>\n",
              "      <td>ONG</td>\n",
              "      <td>o&amp;g_service providers/contractors</td>\n",
              "      <td>o&amp;g upstream service provider</td>\n",
              "      <td>Upstream</td>\n",
              "      <td>ENGINEERING, PROCUREMENT, CONSTRUCTION,SERVICE...</td>\n",
              "    </tr>\n",
              "  </tbody>\n",
              "</table>\n",
              "<p>5766 rows × 7 columns</p>\n",
              "</div>"
            ],
            "text/plain": [
              "                                                Company  ...                        Company Profile Information\n",
              "0                      AKSORN CHAROEN TAT ACT. CO.,LTD.  ...  For over 80 years of experience in creating an...\n",
              "1             DONGGUAN SHENGYA CLEANING APPLIAME CO.LTD  ...  Yatai's main products cover various cleaning m...\n",
              "2                                   EXIS TECH SDN. BHD.  ...  In the beginning, it started off by providing ...\n",
              "4                            Aztech Electronics Pte Ltd  ...  Being a turnkey, one-stop integrated solutions...\n",
              "5                         TONGDUN INTERNATIONAL PTE LTD  ...  Tongdun Technology is a professional third-par...\n",
              "...                                                 ...  ...                                                ...\n",
              "6595                               PAN ENERGY PTE. LTD.  ...  PAN ENERGY is an ACRA-registered entity that h...\n",
              "6596                        TRIM INTERNATIONAL CO.,LTD.  ...   Established in 2000, TI has grown to become o...\n",
              "6597                    SIAK SIONG CONSTRUCTION SDN BHD  ...  Siak Siong Group is an established group speci...\n",
              "6598                        KIJ THAWEE PATTANA CO.,LTD.  ...  Rental, purchase, sale and real estate operations\n",
              "6599  CNI ENGINEERING & CONSTRUCTION MALAYSIA SDN. BHD.  ...  ENGINEERING, PROCUREMENT, CONSTRUCTION,SERVICE...\n",
              "\n",
              "[5766 rows x 7 columns]"
            ]
          },
          "metadata": {
            "tags": []
          },
          "execution_count": 13
        }
      ]
    },
    {
      "cell_type": "code",
      "metadata": {
        "colab": {
          "base_uri": "https://localhost:8080/"
        },
        "id": "IuYZkLS8fkjV",
        "outputId": "de5c8ff2-f0c2-4270-b9d9-9ef79708e009"
      },
      "source": [
        "# now we check the count of the total filtered dataset again\n",
        "df_filterCount = df_valid['Company'].count()\n",
        "\n",
        "print('Total number of filtered records:', df_filterCount)"
      ],
      "execution_count": 14,
      "outputs": [
        {
          "output_type": "stream",
          "text": [
            "Total number of filtered records: 5766\n"
          ],
          "name": "stdout"
        }
      ]
    },
    {
      "cell_type": "markdown",
      "metadata": {
        "id": "gf69nqOrWr_b"
      },
      "source": [
        "### 3.4. Get graphical overview of dataset\n",
        "\n",
        "---\n",
        "\n",
        "Get visualised information of the dataset to understand the dataset better."
      ]
    },
    {
      "cell_type": "code",
      "metadata": {
        "colab": {
          "base_uri": "https://localhost:8080/",
          "height": 705
        },
        "id": "dRLIFECVS1os",
        "outputId": "bf054096-7778-4d04-88ab-9a16db5ccd3b"
      },
      "source": [
        "sns.set_style('darkgrid')\n",
        "plt_dims = (30, 13)\n",
        "fig, ax = plt.subplots(figsize=plt_dims)\n",
        "\n",
        "# plot a barplot to see number of companies that belongs to specific sectors\n",
        "sns.countplot(x=\"Sector\", data=df_valid, ax=ax)\n",
        "plt.show()"
      ],
      "execution_count": 15,
      "outputs": [
        {
          "output_type": "display_data",
          "data": {
            "image/png": "[encoded data removed]",
            "text/plain": [
              "<Figure size 2160x936 with 1 Axes>"
            ]
          },
          "metadata": {
            "tags": []
          }
        }
      ]
    },
    {
      "cell_type": "markdown",
      "metadata": {
        "id": "1EyLs8d1TfSw"
      },
      "source": [
        "<div class=\"alert alert-block alert-info\">\n",
        "    <b>Analysis Summary:</b> We see that most of the companies comes from the CNI(Construction And Infrastructure), with TMT(Technology, Media and Telecomm) sector.\n",
        "</div>"
      ]
    },
    {
      "cell_type": "code",
      "metadata": {
        "id": "SwMqcB0MStbJ",
        "colab": {
          "base_uri": "https://localhost:8080/",
          "height": 700
        },
        "outputId": "7101158a-f9f1-4bd6-b217-fa8290dc7a5b"
      },
      "source": [
        "# Pie chart\n",
        "labels = list(df_valid['Country'].unique())\n",
        "sizes = list(df_valid['Country'].value_counts())\n",
        "\n",
        "plt_dims = (30, 13)\n",
        "fig1, ax1 = plt.subplots(figsize=plt_dims)\n",
        "ax1.pie(sizes, labels=labels, autopct='%1.1f%%',\n",
        "        shadow=True, startangle=90)\n",
        "# Equal aspect ratio ensures that pie is drawn as a circle\n",
        "ax1.axis('equal')  \n",
        "plt.tight_layout()\n",
        "plt.show()"
      ],
      "execution_count": 16,
      "outputs": [
        {
          "output_type": "display_data",
          "data": {
            "image/png": "[encoded data removed]",
            "text/plain": [
              "<Figure size 2160x936 with 1 Axes>"
            ]
          },
          "metadata": {
            "tags": []
          }
        }
      ]
    },
    {
      "cell_type": "markdown",
      "metadata": {
        "id": "A73dge-zZhSD"
      },
      "source": [
        "<div class=\"alert alert-block alert-info\">\n",
        "    <b>Analysis Summary:</b> We see that most of the companies are Singapre-Based companies, followed up by Hong Kong, Indonesia and so on.\n",
        "</div>"
      ]
    },
    {
      "cell_type": "markdown",
      "metadata": {
        "id": "L3bMDdQTfTnX"
      },
      "source": [
        "### 3.5. See examples of company description\n",
        "\n",
        "---\n",
        "\n",
        "We would now like to see some examples of the company descriptions in order to undestand later how to preprocess them later on."
      ]
    },
    {
      "cell_type": "code",
      "metadata": {
        "id": "LBQ4Ml5gfkg7",
        "colab": {
          "base_uri": "https://localhost:8080/"
        },
        "outputId": "bb9656fd-51a3-4537-8a9e-06aca1857999"
      },
      "source": [
        "# configurate pandas dataframe to let us see the entire company description IN FULL\n",
        "pd.set_option('display.max_colwidth', None)\n",
        "\n",
        "# get the 1st 50 results and observe\n",
        "df_valid.loc[0:49,'Company Profile Information']"
      ],
      "execution_count": 17,
      "outputs": [
        {
          "output_type": "execute_result",
          "data": {
            "text/plain": [
              "0                                                                                                                                                                                                                                                                                                                                                                                                                                                                                                                                                                                                                                                                                                                                                                                                                                                                                                                                                                                                                                                                                                                                                                                                                                                                                                                                   For over 80 years of experience in creating and developing high-quality learning materials has enabled us to provide world-class educational innovation to meet the needs of all teachers, students, institutions and educational authorities.\n",
              "1                                                                                                                                                                                                                                                                                                                                                                                                                                                                                                                                                                                                                                                                                                                                                                                                                                                                                                                                                                                                                                                                                                                                                                                                                                                                                               Yatai's main products cover various cleaning machinery, cleaning agents, cleaning tools, stone maintenance and other cleaning products; cleaning solutions and services include product technical consultation, product customization, employee training, maintenance and so on.\\n\n",
              "2                                                                                                                                                                                                                                                                                                                                                                                                                                                                                                                                                                                                                                                                                                                                                                                                                                                                                                                                                                                                                                                                                                                                                                                                                        In the beginning, it started off by providing technical support for test handlers, then moving into module design and production. Its first, in-house designed, full-fledged handler was introduced in 2008.\\nSince then, the company has designed and produced a wide range of turret and pick-and-place solutions for its customers all over the world.\n",
              "4                                                                                                                                                                                                                                                                                                                                                                                                                                                                                                                                                                                                                                                                                                                                                                                                                                                                                                                                                                                                                                     Being a turnkey, one-stop integrated solutions provider based in Singapore, Aztech is equipped with state-of-the-art equipment, R&D, design, manufacturing and packaging capabilities to deliver a seamless, unified experience. Each and every time. Always striving towards the edge of technology for more than 34 years, we have been building capabilities to serve clients’ manufacturing needs, including the consumer electronics, telecommunications, healthtech, LED lighting, automotive and technology start-up market segments.\n",
              "5                                                                                                                                                                                                                                                                                                                                                                                                                                                                                                                                                                                                                                                                                                                                                                                                                                                                                                                                                                Tongdun Technology is a professional third-party intelligent risk management and decision-making service provider headquartered in Hangzhou, Zhejiang. By integrating artificial intelligence into business scenarios, Tongdun Technology offers solutions in intelligent user analysis, intelligent risk management, intelligent antifraud and intelligent operation to clients from various industries including financial industry, internet business, logistics, healthcare, retail, smart cities and government bodies. Over 10,000 corporate clients have chosen Tongdun Technology’s products and services\n",
              "6                                                                                                                                                                                                                                                                                                                                                                                                                                                                                                                                                                                                                                                                                                                                                                                                                                                                                                                                                                                                                                                                                                                                                                                                                                                                                                                                                             For over 30 years, EMASTIGA has been servicing the construction and the oil and gas industries with distinction.We try our hardest to create win-win situations and value-add to our clients with every transaction.\n",
              "7                                                                                                                                                                                                                                                                                                                                                                                                                                                                                                                                                                                                                                                                                                                                                                                                                                                                                                                                                                                                                                                                                                                                                                                                                                                                                                                                                                                                                                                                                                                                           Sales of hydraulic equipment and parts\n",
              "8                                                                                                                                                                                                                                                                                                                                                                                                                                                                                                                                                                                                                                                                                                                                                                                                                                                                                                                                                                                                                                                                                                                                                                                                                                                                 For Excelkos, it all started with a far-sighted vision to deliver quality industrial products and solutions to meet the increasing demands of various industries. ​ The vision became a reality in 1988 when the Excelkos Group was established to distribute and provide quality rubber industrial chemicals. ​\n",
              "9                                                                                                                                                                                                                                                                                                                                                                                                                                                                                                                                                                                                                                                                                                                                                                                                                                                                                                                                                                                                                                                                                                                                                                                                                                                                                                                                                                                                                   Kum Eng Huat is the authorised dealer for Osram and Philips, as well as a trusted supplier of lighting solutions for major projects with the local government.\n",
              "10                                                                                                                                                                                                                                                                                                                                                                                                                                                                                                                                                                                                                                                                                                                                                                                                                                                                                                                                                                                                                                                                                                                                                                                                                                                                                                                                                                                                                                                                                                                 Wholesale of other building_materials, not elsewhere classified\n",
              "11                                                                                                                                                                                                                                                                                                                                                                                                                                                                                                                                                                                                                             Power Line Engineering Public Co., Ltd was established on July 8th, 1988 by a group of engineers led by Mr. Swake Srisuchart and Mr. Amnuay Kanjanopas, to engage in the services of the design, engineering and installation of mechanical and electrical (M&E) system and civil construction for offices, hotels, complex and plaza buildings, hospitals and factories. To be in line with the company’s expansion, the company was registered to be a public company on August 29th, 2002 and its shares were listed and floated in the Stock Exchange of Thailand on December 12th, 2002. The company’s services can be classified into 5 main areas, according to the systems being installed, including electrical system, telecommunication system, air conditioning system, plumbing & sanitary and fire protection system and civil construction for both private and government sectors through being main contractor and sub-contractor.\n",
              "13                                                                                                                                                                                                                                                                                                                                                                                                                                                                                                                                                                                                                                                                                                                                                                                                                                                                                                                                                                                                                                                                                                                                                                                                                                                                                                         Welcome to SECCO, Thailand’s leading engineering and construction ﬁrm. 30 years and counting. we've been there every step of the way when it comes to electrical, communication. construction, mechanical, high voltage and other design and value engineering systems.\n",
              "14                                                                                                                                                                                                                                                                                                                                                                                                                                                                                                                                                                                                                                                                                                                                                                                                                                                                                                                                                                                                                                                                                                                                                    COMPRO INNOVA SOLUTION is an ACRA-registered entity that has been operating for 2 years 11 months in Singapore since its incorporation y in 2018. Officially, COMPRO INNOVA SOLUTION PTE. LTD. is registered as Exempt Private Limited Company with its address in District 1 (Raffles Place, Cecil, Marina, People's Park), primarily operates in the sector of \"DEVELOPMENT OF E-COMMERCE APPLICATIONS\", SSIC code - 62011\n",
              "15                                                                                                                                                                                                                                                                                                                                                                                                                                                                                                                                                                                                                                                                                                                                                                                                                                                                                                                                                                                                                                                                                                                                                                                                                                                                                                                                                                                                                                                                                                                                                    General building contractor.\n",
              "16                                                                                                                                                                                                                                                                                                                                                                                                                                                                                                                                                                                                                                                                                                                                                                                                                                                                                                                                                                                                                                                                                     Gree Electric Appliances, Inc. of Zhuhai was founded in 1991 and it was listed on the Shenzhen Stock Exchange in November 1996. At the beginning, Gree was only a company that assembled residential air conditioners. Now it has grown into a diversified technological global industrial group that has expanded its business to air conditioners, home appliances, high-end equipment and communication equipment. Gree products are sold widely to more than 160 countries and regions.\n",
              "17                                                                                                                                                                                                                                                                                                                                                                                                                                                                                                                                                                                                                                                                                                                                                                                                                                                                                                                                                               Since the inception of our operations, our primary objective has been to position our firm as one of the top contract manufacturers to cater to the mushrooming of outsourcing activities from the developed countries. Our aim is to provide an under-one-roof manufacturing facility and thereby offer a holistic approach to meet customers' ever growing demand. ProductsCapability to manufacture products covering a full range of industries: Industrial controls, Consumer electronics, Automotive, Office equipment, Security, Safety & Lighting systems, Aerospace, Medical devices, Telecommunication.\n",
              "18                                                                                                                                                                                                                                                                                                                                                                                                                                                                                                                                                                                                                                                                                                                                                                                                                                                                                                                                                                                                                                                                                                                                                                                                                                                                                                                                                                                                                                                                                                                                   Lubricated fuel distributor (service station)\n",
              "19                                                                                                                                                                                                                                                                                                                                                                                                                                                                                                                                                                                                                                                                                                                                                                                                                                                                                                                                                                                                                                                                                                                                                                                                                                                                                                                                                                                                                   Hanwha International (S) Pte Ltd was founded in 1991. The company's line of business includes the wholesale distribution of petroleum and petroleum products.\n",
              "20                                                                                                                                                                                                                                                                                                                                                                                                                                                                                                                                                                                                                                                                                                                                                                                                                                                                                                                                                                                                                                                                                                                                                                                                                                                                                                                                                                                                                                      Hor Kew Corporation Limited is a building construction group, providing an integrated range of construction-related products and services.\n",
              "21                                                                                                                                                                                                                                                                                                                                                                                                                                                                                                                                                                                                                                                                                                                                                                                                                                                                                                                                                                                                                                                                                                                                                                                                                                                                                                                                                                                                                                                                                                                  ELECTRICAL AND ENGINEERING CONTRACTOR AND INVESTMENT HOLDING\\n\n",
              "22                                                                                                                                                                                                                                                                                                                                                                                                                                                                                                                                                                                                                                                                                                                                                                                                                                                                                                                                                                                                                                                                                                                                                                                                                       T&L Premium Sdn Bhd is a company based in Malaysia, with its head office in Kuala Lumpur. It operates in the Miscellaneous Durable Goods Merchant Wholesalers industry. The company was established on July 13, 2011. In 2019, the company reported a net sales revenue increase of 48.96%. A negative growth of 16.01% was recorded in its total assets.\n",
              "23                                                                                                                                                                                                                                                                                                                                                                                                                                                                                                                                                                                                                                                                                                                                                                                                                                                                                                           Science-Tech Solutions Sdn Bhd (STS), established in 1993, is an Engineering Constructions and Technical Services Provider for the Oil, Gas and Petrochemical (OGP) Industry and other Industrial Sectors. Our areas of expertise include Project Management, Engineering Procurement Constructions and Commissioning (EPCC), Plant Maintenance, Revamp, Shutdown and Turnaround. \\nBasically, we can summarised as follows:\\nA. Civil and Building Constructions and Commissioning\\nB. Plant Construction and Mechanical Erection\\nC. Plant Maintenance and Revamp\\nD. Plant Shutdown and Turnaround\\nE. Piping and Structural Fabrication\\nF. Industrial Automation\n",
              "24                                                                                                                                                                                                                                                                                                                                                                                                                                                                                                                                                                                                                                                                                                                                                                                                                                                                                                                                                                                                                                                                                                                                                                                                                                                                                                                                                                                                         Advanide Pte. Ltd. was founded in 1998. The Company's line of business includes the wholesale distribution of electronic parts and electronic communications equipment.\n",
              "25                                                                                                                                                                                                                                                                                                                                                                                                                                                                                                                                                                                                                                                                                                                                                                                                                                                         United Business Solutions Limited (UBS), with a paid-up capital of THB 62 million (USD 1.86 million) is an experienced IT solutions, IT outsourcing and services provider to all sectors of the Thailand market. Established in 1989 with 8 employees, we have grown to a staff strength of 150 IT professionals today. Technology is critical and using the right technology will increase the productivity and efficiency of an organisation. UBS is a mature organisation delivering IT products, solutions and services to businesses ranging from small to large enterprises. We have the industry knowledge and expertise to meet the technology needs of our customers and help them gain competitive advantage.\n",
              "26                                                                                                                                                                                                                                                                                                                                                                                                                                                                                                                                                                                                                                                                                                                                                                                                                                                                                                                              Aerial Lift is the Official Distributor of JLG Access Equipment for Malaysia and is a wholly owned subsidiary of TVH, international distributor of fork-lifts, access equipment and its spare parts.\\n\\nWe are dedicated to providing comprehensive sales & service solutions to the access needs of the rental industry and offer a wide range of financing options and technical support to help the rental companies in expanding and renewing their rental fleets.\\n\\nAerial Lift aims to provide their customers with high-quality machines with a view to raising the industry standard of the access equipment industry in South East Asia.\n",
              "27                                                                                                                                                                                                                                                                                                                                                                                                                                                                                                                                                                                                                                                                                                                                                                                                                                                                                                                                                                                                                                                                                                                                                                                                                                                                                                                                                                                                                                                                                                                               Entrepreneurship, produce products made of steel.\n",
              "29                                                                                                                                                                                                                                                                                                                                                                                                                                                                                                                                                                                                                                                                                                                                                                                                                                                                                                                                                                                                                                                                                                                                                                                                                                                                                                                                                                                                          Matrix Excelcon Sdn Bhd is based in Malaysia, with the head office in Bandar Sri Sendayan. The enterprise operates in the Wholesale Trade Agents and Brokers industry.\n",
              "30                                                                                                                                                                                                                                                                                                                                                                                                                                                                                                                                                                                                                                                                                                                                                                                                                                                                                                                                                                                                                                                                                                                                                                                                                                                                  Suntiga Concrete stands for quality, reliability and agility in manufacturing and supplying ready-mixed concrete to its many partners and clients. For the past 19 years, we have been serving our customers across Malaysia and have proven to be their dependable ready-mixed concrete supplier in Malaysia.\n",
              "31                                                                                                                                                                                                                                                                                                                                                                                                                                                                                                                                                                                                                                                                                                                                                                                                                                                                                                                                                                                                                                                                                                                       PAN PAC RESOURCES is an ACRA-registered entity that has been operating for 7 years in Singapore since its incorporation y in 2014. Officially, PAN PAC RESOURCES PTE. LTD. is registered as Exempt Private Limited Company with its address in District 14 (Geylang, Eunos), primarily operates in the sector of \"WHOLESALE OF CONSTRUCTION MATERIALS, HARDWARE, PLUMBING AND HEATING EQUIPMENT AND SUPPLIES N.E.C. (EG CEMENT, SAND)\", SSIC code - 46639\n",
              "32    The seeds for GATES PCM CONSTRUCTION LTD, were sown as early as 1983, when CEO & FOUNDER, MR KRISHNA, founded his first Piling & Civil engineering company known as Denwick Piling & Civil Engineering. Having worked on projects locally in Singapore and regionally in countries like Malaysia and Sri Lanka, the company and its management had garnered much experience and expertise in not just piling works, but also a variety of construction works that included those in the railway industry locally and regionally. In 2000, with an abundance of opportunities emerging in the railway construction sector, Denwick found it to be the right time to change tracks and focus on the railway construction sector. It re-branded itself as GATES PCM CONSTRUCTION LTD and forged to become a specialist in railway projects. Since the birth of GATES PCM CONSTRUCTION LTD, the company has transformed itself from a firm dealing in Civil Engineering works & manpower resource management to become a sub-contractor in major railway projects such as the CIRCLE LINE project, DOWNTOWN LINE 1, 2 & 3. In recent times, with its staff gaining more experience in railway linking and laying works, it has further diversified its capabilities to handle track maintenance works as well. With the solid foundations that GATES PCM CONSTRUCTION LTD built under its long history in the construction and railway industries, the company has found the courage to move forward from strength to strength and the tenacity to take adversity in its stride.\n",
              "33                                                                                                                                                                                                                                                                                                                                                                                                                                                                                                                                                                                                                                                                                                                                                                                                                                                                                                                                                                                                                                                                                                                                       Hangzhou Huari Marketing Co., Ltd. was established on March 10, 2009. The legal representative Sheng Jun, the company's business scope includes: wholesale and retail: household appliances, hardware, department stores; import and export of goods (except for items prohibited by laws and administrative regulations, and items restricted by laws and administrative regulations can only be operated after obtaining permits) Wait.\n",
              "34                                                                                                                                                                                                                                                                                                                                                                                                                                                                                                                                                                                                                                                                                                                                                                                                                                                                                                                               The key shareholders of the company are a registered professional engineer and a registered architect and together they bring about complementary synergies todrive the company in its quest to provide functional and aesthetically appealing solar energy solutions to meet their Client's needs. It is the company's vision that by designing effective and creative solar energy solutions, they will enthuse and attract more building owners to consider solar energy as an alternative or to supplement their energy needs. In turn, this strategy will help to cut down carbon emissions from our home country and to the world at large.\n",
              "35                                                                                                                                                                                                                                                                                                                                                                                                                                                                                                                                                                                                                                                                                                                                                                                                                                                                                                   Established in 2013, Easteel Services (Malaysia) Sdn Bhd is a wholly owned subsidiary of NatSteel Holdings Pte Ltd. Located at Senai Industrial Park, Johor Bahru, our 25,000 square metre facility is a full-fledged downstream plant that generates over 40,000 tonnes of products each year. Easteel offers prefabricated solutions and services for the construction industry, enabling customers to significantly enhance productivity and safety. Our welded meshes, cut-and-bend products, couplers and wire processing services are tailored according to customers’ requirements and aligned with stringent quality assurances such as ISO 9001 and SIRIM standards.\n",
              "36                                                                                                                                                                                                                                                                                                                                                                                                                                                                                                                                                                                                                                                                                                                                                                                                                                                                                                                                                                                                                                                                                                                                                                                                                                                                                                                                                                                                                                                                                                                                                                    gas stations\n",
              "37                                                                                                                                                                                                                                                                                                                                                                                                                                                                                                                                                                                                                                                                                                                                                                                                                                                                                                                                                                                                                                                                                                                                                                                                                                                                                                                                                                                                                                                    The company provides full design, consultancy and installation services for all mechanical, electrical and plumbing systems.\n",
              "38                                                                                                                                                                                                                                                                                                                                                                                                                                                                                                                                                                                                                                                                                                                                                                                                                                                                                                                                                                                                                                                                                                                                                                                                                                                                                                                                                                                                                                                                                                                                                 Ready-mixed concrete production\n",
              "39                                                                                                                                                                                                                                                                                                                                                                                                                                                                                                                                                                                                                                                                                                                                                                                                                                                                                                                                                                                                                                                                                                                                                                                                                                                                                                                                                                                                    Zte Singapore Pte. Ltd. was founded in 2006. The company's line of business includes the wholesale distribution of electronic parts and electronic communications equipment.\n",
              "40                                                                                                                                                                                                                                                                                                                                                                                                                                                                                                                                                                                                                                                                                                                                                                                                                                                                                                                                                                                                                                                                                                                                                                                                                                                                                                                                                                       We are a leading real estate solutions provider in Singapore, with core engineering expertise in the design-and-build and development of smart eco-sustainable business park and industrial developments.\n",
              "41                                                                                                                                                                                                                                                                                                                                                                                                                                                                                                                                                                                                                                                                                                                                                                                                                                                         Mayfield & Co Pte Ltd, established in Singapore since 1979, is one for the leading Computer Media & Supplies distributor in the region. The company.s Foundation is built on our total commitment to the customers, as well as the manufacturers. Over the years, we have established relationship with many top names in the industry around the world. Mayfield is the authorize distributor of Canon, Fuji Xerox, Sony, Maxell and Verbatim, also the authorize reseller of Samsung, HP, Brother, Epson & IBM. Last but not least Mayfield is the partner of Tri-Optic which is the world leader in media label technology for nearly 20 years. Our marketing network includes corporate users, dealers and exports.\n",
              "42                                                                                                                                                                                                                                                                                                                                                                                                                                                                                                                                                                                                                                                                                                                                                                                                                                                                                                                                                                                                                                                                                                                                                                                                                                                                                                                                                                                                                                                                                                                                                          Concrete - Ready Mixed\n",
              "43                                                                                                                                                                                                                                                                                                                                                                                                                                                                                                                                                                                                                                                                                                                                                                                                                                                                                                                                                                                                                                                                                                                                                                                                   XL Axiata (1996) became the first private cellular company in Indonesia. At present, XL Axiata's shares are owned by Axiata Investments (Indonesia) (66.4%) part of Axiata Group Berhad, as the largest telecommunications company in Asia and public (33.6%). XL Axiata continues to innovate and becomes the first telecommunications operator in Indonesia to launch 4.5G.\n",
              "44                                                                                                                                                                                                                                                                                                                                                                                                                                                                                                                                                                                                                                                                                                                                                                                                                                                                                                                                                                                                                                                                                                                                                                                                                                                                                                                                                                                                                                                                                                     Pristine Gateway is a Full Range Electrical and Electronic Service Provider\n",
              "45                                                                                                                                                                                                                                                                                                                                                                                                                                                                                                                                                                                                                                                                                                                                                                                                                                                                                                                                                                                                                                                                                                                                                  SENG & KENG CONSTRUCTION is an ACRA-registered entity that has been operating for 32 years 8 months in Singapore since its incorporation y in 1988. Officially, SENG & KENG CONSTRUCTION PTE. LTD. is registered as Exempt Private Limited Company with its address in District 23 (Hillview, Dairy Farm, Bukit Panjang, Choa Chu Kang), primarily operates in the sector of \"BUILDING CONSTRUCTION N.E.C.\", SSIC code - 41009\n",
              "46                                                                                                                                                                                                                                                                                                                                                                                                                                                                                                                                                                                                                                                                                                                                                                                                                                                                                                                                                                                                                                                                                                                                                                                                                                                                                                                                                                                                                                                                                                                    Company Nature Of Business:\\nCONSTRUCTION MANAGEMENT COMPANY\n",
              "47                                                                                                                                                                                                                                                                                                                                                                                                                                                                                                                                                                                                                                                                                                                                                                                                                                                                                                                                                                                                                                                                                                                                                                                                                                                                                                                                                                                                                                                                                                                                                    BUILDING CONSTRUCTION N.E.C.\n",
              "49                                                                                                                                                                                                                                                                                                                                                                                                                                                                                                                                                                                                                                                                                                                                                                                                                                                                                                                                                                                                                                                                                                                                                                                                                                                                                                                                                                                                                     From meticulous stone selection to in-house expertise and modern technology, we ensure all materials are processed, cut and polished to industry standards.\n",
              "Name: Company Profile Information, dtype: object"
            ]
          },
          "metadata": {
            "tags": []
          },
          "execution_count": 17
        }
      ]
    },
    {
      "cell_type": "markdown",
      "metadata": {
        "id": "x50UFKzNkezP"
      },
      "source": [
        "<div class=\"alert alert-block alert-info\">\n",
        "    <b>Analysis Summary:</b> We do realise that some of the company profile message have some breaks in between like '\\n'. Now, we will have to take away all these problems so that it is one string of paragraph with no such annotations in betweeen.\n",
        "</div>"
      ]
    },
    {
      "cell_type": "markdown",
      "metadata": {
        "id": "ETEpM1eCk9Cf"
      },
      "source": [
        "---\n",
        "---"
      ]
    },
    {
      "cell_type": "markdown",
      "metadata": {
        "id": "l0rub1v2k-dq"
      },
      "source": [
        "# 4.Data Preprocessing"
      ]
    },
    {
      "cell_type": "markdown",
      "metadata": {
        "id": "ZxCABlrVlDW6"
      },
      "source": [
        "### 4.1. Removing `\\n`\n",
        "\n",
        "---\n",
        "\n",
        "Now, we will like to standardize all the paragraphs such that the are homogenous, before we tokenize the paragraph."
      ]
    },
    {
      "cell_type": "code",
      "metadata": {
        "id": "MAq4hq6XlMBp",
        "colab": {
          "base_uri": "https://localhost:8080/"
        },
        "outputId": "7e8daac0-741e-4ceb-a6c2-015cac483c2f"
      },
      "source": [
        "# get rid of the \\n found in the respective descriptions\n",
        "df_valid = df_valid.replace('\\n',' ', regex=True)\n",
        "\n",
        "# now we validate to see if theye are really gone\n",
        "df_valid.loc[0:49,'Company Profile Information']"
      ],
      "execution_count": 18,
      "outputs": [
        {
          "output_type": "execute_result",
          "data": {
            "text/plain": [
              "0                                                                                                                                                                                                                                                                                                                                                                                                                                                                                                                                                                                                                                                                                                                                                                                                                                                                                                                                                                                                                                                                                                                                                                                                                                                                                                                                   For over 80 years of experience in creating and developing high-quality learning materials has enabled us to provide world-class educational innovation to meet the needs of all teachers, students, institutions and educational authorities.\n",
              "1                                                                                                                                                                                                                                                                                                                                                                                                                                                                                                                                                                                                                                                                                                                                                                                                                                                                                                                                                                                                                                                                                                                                                                                                                                                                                                Yatai's main products cover various cleaning machinery, cleaning agents, cleaning tools, stone maintenance and other cleaning products; cleaning solutions and services include product technical consultation, product customization, employee training, maintenance and so on. \n",
              "2                                                                                                                                                                                                                                                                                                                                                                                                                                                                                                                                                                                                                                                                                                                                                                                                                                                                                                                                                                                                                                                                                                                                                                                                                         In the beginning, it started off by providing technical support for test handlers, then moving into module design and production. Its first, in-house designed, full-fledged handler was introduced in 2008. Since then, the company has designed and produced a wide range of turret and pick-and-place solutions for its customers all over the world.\n",
              "4                                                                                                                                                                                                                                                                                                                                                                                                                                                                                                                                                                                                                                                                                                                                                                                                                                                                                                                                                                                                                                     Being a turnkey, one-stop integrated solutions provider based in Singapore, Aztech is equipped with state-of-the-art equipment, R&D, design, manufacturing and packaging capabilities to deliver a seamless, unified experience. Each and every time. Always striving towards the edge of technology for more than 34 years, we have been building capabilities to serve clients’ manufacturing needs, including the consumer electronics, telecommunications, healthtech, LED lighting, automotive and technology start-up market segments.\n",
              "5                                                                                                                                                                                                                                                                                                                                                                                                                                                                                                                                                                                                                                                                                                                                                                                                                                                                                                                                                                Tongdun Technology is a professional third-party intelligent risk management and decision-making service provider headquartered in Hangzhou, Zhejiang. By integrating artificial intelligence into business scenarios, Tongdun Technology offers solutions in intelligent user analysis, intelligent risk management, intelligent antifraud and intelligent operation to clients from various industries including financial industry, internet business, logistics, healthcare, retail, smart cities and government bodies. Over 10,000 corporate clients have chosen Tongdun Technology’s products and services\n",
              "6                                                                                                                                                                                                                                                                                                                                                                                                                                                                                                                                                                                                                                                                                                                                                                                                                                                                                                                                                                                                                                                                                                                                                                                                                                                                                                                                                             For over 30 years, EMASTIGA has been servicing the construction and the oil and gas industries with distinction.We try our hardest to create win-win situations and value-add to our clients with every transaction.\n",
              "7                                                                                                                                                                                                                                                                                                                                                                                                                                                                                                                                                                                                                                                                                                                                                                                                                                                                                                                                                                                                                                                                                                                                                                                                                                                                                                                                                                                                                                                                                                                                           Sales of hydraulic equipment and parts\n",
              "8                                                                                                                                                                                                                                                                                                                                                                                                                                                                                                                                                                                                                                                                                                                                                                                                                                                                                                                                                                                                                                                                                                                                                                                                                                                                 For Excelkos, it all started with a far-sighted vision to deliver quality industrial products and solutions to meet the increasing demands of various industries. ​ The vision became a reality in 1988 when the Excelkos Group was established to distribute and provide quality rubber industrial chemicals. ​\n",
              "9                                                                                                                                                                                                                                                                                                                                                                                                                                                                                                                                                                                                                                                                                                                                                                                                                                                                                                                                                                                                                                                                                                                                                                                                                                                                                                                                                                                                                   Kum Eng Huat is the authorised dealer for Osram and Philips, as well as a trusted supplier of lighting solutions for major projects with the local government.\n",
              "10                                                                                                                                                                                                                                                                                                                                                                                                                                                                                                                                                                                                                                                                                                                                                                                                                                                                                                                                                                                                                                                                                                                                                                                                                                                                                                                                                                                                                                                                                                                 Wholesale of other building_materials, not elsewhere classified\n",
              "11                                                                                                                                                                                                                                                                                                                                                                                                                                                                                                                                                                                                                             Power Line Engineering Public Co., Ltd was established on July 8th, 1988 by a group of engineers led by Mr. Swake Srisuchart and Mr. Amnuay Kanjanopas, to engage in the services of the design, engineering and installation of mechanical and electrical (M&E) system and civil construction for offices, hotels, complex and plaza buildings, hospitals and factories. To be in line with the company’s expansion, the company was registered to be a public company on August 29th, 2002 and its shares were listed and floated in the Stock Exchange of Thailand on December 12th, 2002. The company’s services can be classified into 5 main areas, according to the systems being installed, including electrical system, telecommunication system, air conditioning system, plumbing & sanitary and fire protection system and civil construction for both private and government sectors through being main contractor and sub-contractor.\n",
              "13                                                                                                                                                                                                                                                                                                                                                                                                                                                                                                                                                                                                                                                                                                                                                                                                                                                                                                                                                                                                                                                                                                                                                                                                                                                                                                         Welcome to SECCO, Thailand’s leading engineering and construction ﬁrm. 30 years and counting. we've been there every step of the way when it comes to electrical, communication. construction, mechanical, high voltage and other design and value engineering systems.\n",
              "14                                                                                                                                                                                                                                                                                                                                                                                                                                                                                                                                                                                                                                                                                                                                                                                                                                                                                                                                                                                                                                                                                                                                                    COMPRO INNOVA SOLUTION is an ACRA-registered entity that has been operating for 2 years 11 months in Singapore since its incorporation y in 2018. Officially, COMPRO INNOVA SOLUTION PTE. LTD. is registered as Exempt Private Limited Company with its address in District 1 (Raffles Place, Cecil, Marina, People's Park), primarily operates in the sector of \"DEVELOPMENT OF E-COMMERCE APPLICATIONS\", SSIC code - 62011\n",
              "15                                                                                                                                                                                                                                                                                                                                                                                                                                                                                                                                                                                                                                                                                                                                                                                                                                                                                                                                                                                                                                                                                                                                                                                                                                                                                                                                                                                                                                                                                                                                                    General building contractor.\n",
              "16                                                                                                                                                                                                                                                                                                                                                                                                                                                                                                                                                                                                                                                                                                                                                                                                                                                                                                                                                                                                                                                                                     Gree Electric Appliances, Inc. of Zhuhai was founded in 1991 and it was listed on the Shenzhen Stock Exchange in November 1996. At the beginning, Gree was only a company that assembled residential air conditioners. Now it has grown into a diversified technological global industrial group that has expanded its business to air conditioners, home appliances, high-end equipment and communication equipment. Gree products are sold widely to more than 160 countries and regions.\n",
              "17                                                                                                                                                                                                                                                                                                                                                                                                                                                                                                                                                                                                                                                                                                                                                                                                                                                                                                                                                               Since the inception of our operations, our primary objective has been to position our firm as one of the top contract manufacturers to cater to the mushrooming of outsourcing activities from the developed countries. Our aim is to provide an under-one-roof manufacturing facility and thereby offer a holistic approach to meet customers' ever growing demand. ProductsCapability to manufacture products covering a full range of industries: Industrial controls, Consumer electronics, Automotive, Office equipment, Security, Safety & Lighting systems, Aerospace, Medical devices, Telecommunication.\n",
              "18                                                                                                                                                                                                                                                                                                                                                                                                                                                                                                                                                                                                                                                                                                                                                                                                                                                                                                                                                                                                                                                                                                                                                                                                                                                                                                                                                                                                                                                                                                                                   Lubricated fuel distributor (service station)\n",
              "19                                                                                                                                                                                                                                                                                                                                                                                                                                                                                                                                                                                                                                                                                                                                                                                                                                                                                                                                                                                                                                                                                                                                                                                                                                                                                                                                                                                                                   Hanwha International (S) Pte Ltd was founded in 1991. The company's line of business includes the wholesale distribution of petroleum and petroleum products.\n",
              "20                                                                                                                                                                                                                                                                                                                                                                                                                                                                                                                                                                                                                                                                                                                                                                                                                                                                                                                                                                                                                                                                                                                                                                                                                                                                                                                                                                                                                                      Hor Kew Corporation Limited is a building construction group, providing an integrated range of construction-related products and services.\n",
              "21                                                                                                                                                                                                                                                                                                                                                                                                                                                                                                                                                                                                                                                                                                                                                                                                                                                                                                                                                                                                                                                                                                                                                                                                                                                                                                                                                                                                                                                                                                                   ELECTRICAL AND ENGINEERING CONTRACTOR AND INVESTMENT HOLDING \n",
              "22                                                                                                                                                                                                                                                                                                                                                                                                                                                                                                                                                                                                                                                                                                                                                                                                                                                                                                                                                                                                                                                                                                                                                                                                                       T&L Premium Sdn Bhd is a company based in Malaysia, with its head office in Kuala Lumpur. It operates in the Miscellaneous Durable Goods Merchant Wholesalers industry. The company was established on July 13, 2011. In 2019, the company reported a net sales revenue increase of 48.96%. A negative growth of 16.01% was recorded in its total assets.\n",
              "23                                                                                                                                                                                                                                                                                                                                                                                                                                                                                                                                                                                                                                                                                                                                                                                                                                                                                                                  Science-Tech Solutions Sdn Bhd (STS), established in 1993, is an Engineering Constructions and Technical Services Provider for the Oil, Gas and Petrochemical (OGP) Industry and other Industrial Sectors. Our areas of expertise include Project Management, Engineering Procurement Constructions and Commissioning (EPCC), Plant Maintenance, Revamp, Shutdown and Turnaround.  Basically, we can summarised as follows: A. Civil and Building Constructions and Commissioning B. Plant Construction and Mechanical Erection C. Plant Maintenance and Revamp D. Plant Shutdown and Turnaround E. Piping and Structural Fabrication F. Industrial Automation\n",
              "24                                                                                                                                                                                                                                                                                                                                                                                                                                                                                                                                                                                                                                                                                                                                                                                                                                                                                                                                                                                                                                                                                                                                                                                                                                                                                                                                                                                                         Advanide Pte. Ltd. was founded in 1998. The Company's line of business includes the wholesale distribution of electronic parts and electronic communications equipment.\n",
              "25                                                                                                                                                                                                                                                                                                                                                                                                                                                                                                                                                                                                                                                                                                                                                                                                                                                         United Business Solutions Limited (UBS), with a paid-up capital of THB 62 million (USD 1.86 million) is an experienced IT solutions, IT outsourcing and services provider to all sectors of the Thailand market. Established in 1989 with 8 employees, we have grown to a staff strength of 150 IT professionals today. Technology is critical and using the right technology will increase the productivity and efficiency of an organisation. UBS is a mature organisation delivering IT products, solutions and services to businesses ranging from small to large enterprises. We have the industry knowledge and expertise to meet the technology needs of our customers and help them gain competitive advantage.\n",
              "26                                                                                                                                                                                                                                                                                                                                                                                                                                                                                                                                                                                                                                                                                                                                                                                                                                                                                                                                  Aerial Lift is the Official Distributor of JLG Access Equipment for Malaysia and is a wholly owned subsidiary of TVH, international distributor of fork-lifts, access equipment and its spare parts.  We are dedicated to providing comprehensive sales & service solutions to the access needs of the rental industry and offer a wide range of financing options and technical support to help the rental companies in expanding and renewing their rental fleets.  Aerial Lift aims to provide their customers with high-quality machines with a view to raising the industry standard of the access equipment industry in South East Asia.\n",
              "27                                                                                                                                                                                                                                                                                                                                                                                                                                                                                                                                                                                                                                                                                                                                                                                                                                                                                                                                                                                                                                                                                                                                                                                                                                                                                                                                                                                                                                                                                                                               Entrepreneurship, produce products made of steel.\n",
              "29                                                                                                                                                                                                                                                                                                                                                                                                                                                                                                                                                                                                                                                                                                                                                                                                                                                                                                                                                                                                                                                                                                                                                                                                                                                                                                                                                                                                          Matrix Excelcon Sdn Bhd is based in Malaysia, with the head office in Bandar Sri Sendayan. The enterprise operates in the Wholesale Trade Agents and Brokers industry.\n",
              "30                                                                                                                                                                                                                                                                                                                                                                                                                                                                                                                                                                                                                                                                                                                                                                                                                                                                                                                                                                                                                                                                                                                                                                                                                                                                  Suntiga Concrete stands for quality, reliability and agility in manufacturing and supplying ready-mixed concrete to its many partners and clients. For the past 19 years, we have been serving our customers across Malaysia and have proven to be their dependable ready-mixed concrete supplier in Malaysia.\n",
              "31                                                                                                                                                                                                                                                                                                                                                                                                                                                                                                                                                                                                                                                                                                                                                                                                                                                                                                                                                                                                                                                                                                                       PAN PAC RESOURCES is an ACRA-registered entity that has been operating for 7 years in Singapore since its incorporation y in 2014. Officially, PAN PAC RESOURCES PTE. LTD. is registered as Exempt Private Limited Company with its address in District 14 (Geylang, Eunos), primarily operates in the sector of \"WHOLESALE OF CONSTRUCTION MATERIALS, HARDWARE, PLUMBING AND HEATING EQUIPMENT AND SUPPLIES N.E.C. (EG CEMENT, SAND)\", SSIC code - 46639\n",
              "32    The seeds for GATES PCM CONSTRUCTION LTD, were sown as early as 1983, when CEO & FOUNDER, MR KRISHNA, founded his first Piling & Civil engineering company known as Denwick Piling & Civil Engineering. Having worked on projects locally in Singapore and regionally in countries like Malaysia and Sri Lanka, the company and its management had garnered much experience and expertise in not just piling works, but also a variety of construction works that included those in the railway industry locally and regionally. In 2000, with an abundance of opportunities emerging in the railway construction sector, Denwick found it to be the right time to change tracks and focus on the railway construction sector. It re-branded itself as GATES PCM CONSTRUCTION LTD and forged to become a specialist in railway projects. Since the birth of GATES PCM CONSTRUCTION LTD, the company has transformed itself from a firm dealing in Civil Engineering works & manpower resource management to become a sub-contractor in major railway projects such as the CIRCLE LINE project, DOWNTOWN LINE 1, 2 & 3. In recent times, with its staff gaining more experience in railway linking and laying works, it has further diversified its capabilities to handle track maintenance works as well. With the solid foundations that GATES PCM CONSTRUCTION LTD built under its long history in the construction and railway industries, the company has found the courage to move forward from strength to strength and the tenacity to take adversity in its stride.\n",
              "33                                                                                                                                                                                                                                                                                                                                                                                                                                                                                                                                                                                                                                                                                                                                                                                                                                                                                                                                                                                                                                                                                                                                       Hangzhou Huari Marketing Co., Ltd. was established on March 10, 2009. The legal representative Sheng Jun, the company's business scope includes: wholesale and retail: household appliances, hardware, department stores; import and export of goods (except for items prohibited by laws and administrative regulations, and items restricted by laws and administrative regulations can only be operated after obtaining permits) Wait.\n",
              "34                                                                                                                                                                                                                                                                                                                                                                                                                                                                                                                                                                                                                                                                                                                                                                                                                                                                                                                               The key shareholders of the company are a registered professional engineer and a registered architect and together they bring about complementary synergies todrive the company in its quest to provide functional and aesthetically appealing solar energy solutions to meet their Client's needs. It is the company's vision that by designing effective and creative solar energy solutions, they will enthuse and attract more building owners to consider solar energy as an alternative or to supplement their energy needs. In turn, this strategy will help to cut down carbon emissions from our home country and to the world at large.\n",
              "35                                                                                                                                                                                                                                                                                                                                                                                                                                                                                                                                                                                                                                                                                                                                                                                                                                                                                                   Established in 2013, Easteel Services (Malaysia) Sdn Bhd is a wholly owned subsidiary of NatSteel Holdings Pte Ltd. Located at Senai Industrial Park, Johor Bahru, our 25,000 square metre facility is a full-fledged downstream plant that generates over 40,000 tonnes of products each year. Easteel offers prefabricated solutions and services for the construction industry, enabling customers to significantly enhance productivity and safety. Our welded meshes, cut-and-bend products, couplers and wire processing services are tailored according to customers’ requirements and aligned with stringent quality assurances such as ISO 9001 and SIRIM standards.\n",
              "36                                                                                                                                                                                                                                                                                                                                                                                                                                                                                                                                                                                                                                                                                                                                                                                                                                                                                                                                                                                                                                                                                                                                                                                                                                                                                                                                                                                                                                                                                                                                                                    gas stations\n",
              "37                                                                                                                                                                                                                                                                                                                                                                                                                                                                                                                                                                                                                                                                                                                                                                                                                                                                                                                                                                                                                                                                                                                                                                                                                                                                                                                                                                                                                                                    The company provides full design, consultancy and installation services for all mechanical, electrical and plumbing systems.\n",
              "38                                                                                                                                                                                                                                                                                                                                                                                                                                                                                                                                                                                                                                                                                                                                                                                                                                                                                                                                                                                                                                                                                                                                                                                                                                                                                                                                                                                                                                                                                                                                                 Ready-mixed concrete production\n",
              "39                                                                                                                                                                                                                                                                                                                                                                                                                                                                                                                                                                                                                                                                                                                                                                                                                                                                                                                                                                                                                                                                                                                                                                                                                                                                                                                                                                                                    Zte Singapore Pte. Ltd. was founded in 2006. The company's line of business includes the wholesale distribution of electronic parts and electronic communications equipment.\n",
              "40                                                                                                                                                                                                                                                                                                                                                                                                                                                                                                                                                                                                                                                                                                                                                                                                                                                                                                                                                                                                                                                                                                                                                                                                                                                                                                                                                                       We are a leading real estate solutions provider in Singapore, with core engineering expertise in the design-and-build and development of smart eco-sustainable business park and industrial developments.\n",
              "41                                                                                                                                                                                                                                                                                                                                                                                                                                                                                                                                                                                                                                                                                                                                                                                                                                                         Mayfield & Co Pte Ltd, established in Singapore since 1979, is one for the leading Computer Media & Supplies distributor in the region. The company.s Foundation is built on our total commitment to the customers, as well as the manufacturers. Over the years, we have established relationship with many top names in the industry around the world. Mayfield is the authorize distributor of Canon, Fuji Xerox, Sony, Maxell and Verbatim, also the authorize reseller of Samsung, HP, Brother, Epson & IBM. Last but not least Mayfield is the partner of Tri-Optic which is the world leader in media label technology for nearly 20 years. Our marketing network includes corporate users, dealers and exports.\n",
              "42                                                                                                                                                                                                                                                                                                                                                                                                                                                                                                                                                                                                                                                                                                                                                                                                                                                                                                                                                                                                                                                                                                                                                                                                                                                                                                                                                                                                                                                                                                                                                          Concrete - Ready Mixed\n",
              "43                                                                                                                                                                                                                                                                                                                                                                                                                                                                                                                                                                                                                                                                                                                                                                                                                                                                                                                                                                                                                                                                                                                                                                                                   XL Axiata (1996) became the first private cellular company in Indonesia. At present, XL Axiata's shares are owned by Axiata Investments (Indonesia) (66.4%) part of Axiata Group Berhad, as the largest telecommunications company in Asia and public (33.6%). XL Axiata continues to innovate and becomes the first telecommunications operator in Indonesia to launch 4.5G.\n",
              "44                                                                                                                                                                                                                                                                                                                                                                                                                                                                                                                                                                                                                                                                                                                                                                                                                                                                                                                                                                                                                                                                                                                                                                                                                                                                                                                                                                                                                                                                                                     Pristine Gateway is a Full Range Electrical and Electronic Service Provider\n",
              "45                                                                                                                                                                                                                                                                                                                                                                                                                                                                                                                                                                                                                                                                                                                                                                                                                                                                                                                                                                                                                                                                                                                                                  SENG & KENG CONSTRUCTION is an ACRA-registered entity that has been operating for 32 years 8 months in Singapore since its incorporation y in 1988. Officially, SENG & KENG CONSTRUCTION PTE. LTD. is registered as Exempt Private Limited Company with its address in District 23 (Hillview, Dairy Farm, Bukit Panjang, Choa Chu Kang), primarily operates in the sector of \"BUILDING CONSTRUCTION N.E.C.\", SSIC code - 41009\n",
              "46                                                                                                                                                                                                                                                                                                                                                                                                                                                                                                                                                                                                                                                                                                                                                                                                                                                                                                                                                                                                                                                                                                                                                                                                                                                                                                                                                                                                                                                                                                                     Company Nature Of Business: CONSTRUCTION MANAGEMENT COMPANY\n",
              "47                                                                                                                                                                                                                                                                                                                                                                                                                                                                                                                                                                                                                                                                                                                                                                                                                                                                                                                                                                                                                                                                                                                                                                                                                                                                                                                                                                                                                                                                                                                                                    BUILDING CONSTRUCTION N.E.C.\n",
              "49                                                                                                                                                                                                                                                                                                                                                                                                                                                                                                                                                                                                                                                                                                                                                                                                                                                                                                                                                                                                                                                                                                                                                                                                                                                                                                                                                                                                                     From meticulous stone selection to in-house expertise and modern technology, we ensure all materials are processed, cut and polished to industry standards.\n",
              "Name: Company Profile Information, dtype: object"
            ]
          },
          "metadata": {
            "tags": []
          },
          "execution_count": 18
        }
      ]
    },
    {
      "cell_type": "markdown",
      "metadata": {
        "id": "_UbMqS2dvXeZ"
      },
      "source": [
        "### 4.2. Calculating the word length distribution\n",
        "\n",
        "---\n",
        "\n",
        "Here, we will be calculating the world length distribution of the collective company description."
      ]
    },
    {
      "cell_type": "code",
      "metadata": {
        "id": "uDsrjeimvDl8",
        "colab": {
          "base_uri": "https://localhost:8080/",
          "height": 423
        },
        "outputId": "3ef60e47-0784-4d96-c5d7-4b999be13d7d"
      },
      "source": [
        "# first, add in a new column that tabluates the length of the respecive company description\n",
        "df_valid[\"length\"] = df_valid[\"Company Profile Information\"].str.len()\n",
        "df_valid.head()"
      ],
      "execution_count": 19,
      "outputs": [
        {
          "output_type": "execute_result",
          "data": {
            "text/html": [
              "<div>\n",
              "<style scoped>\n",
              "    .dataframe tbody tr th:only-of-type {\n",
              "        vertical-align: middle;\n",
              "    }\n",
              "\n",
              "    .dataframe tbody tr th {\n",
              "        vertical-align: top;\n",
              "    }\n",
              "\n",
              "    .dataframe thead th {\n",
              "        text-align: right;\n",
              "    }\n",
              "</style>\n",
              "<table border=\"1\" class=\"dataframe\">\n",
              "  <thead>\n",
              "    <tr style=\"text-align: right;\">\n",
              "      <th></th>\n",
              "      <th>Company</th>\n",
              "      <th>Country</th>\n",
              "      <th>Sector</th>\n",
              "      <th>Subsector</th>\n",
              "      <th>Archetype</th>\n",
              "      <th>Valuechain</th>\n",
              "      <th>Company Profile Information</th>\n",
              "      <th>length</th>\n",
              "    </tr>\n",
              "  </thead>\n",
              "  <tbody>\n",
              "    <tr>\n",
              "      <th>0</th>\n",
              "      <td>AKSORN CHAROEN TAT ACT. CO.,LTD.</td>\n",
              "      <td>THAILAND</td>\n",
              "      <td>TMT</td>\n",
              "      <td>media</td>\n",
              "      <td>media_aggregator/distributor</td>\n",
              "      <td>Midstream</td>\n",
              "      <td>For over 80 years of experience in creating and developing high-quality learning materials has enabled us to provide world-class educational innovation to meet the needs of all teachers, students, institutions and educational authorities.</td>\n",
              "      <td>238.0</td>\n",
              "    </tr>\n",
              "    <tr>\n",
              "      <th>1</th>\n",
              "      <td>DONGGUAN SHENGYA CLEANING APPLIAME CO.LTD</td>\n",
              "      <td>CHINA</td>\n",
              "      <td>TMT</td>\n",
              "      <td>consumer electronics</td>\n",
              "      <td>consumer electronics_distributor</td>\n",
              "      <td>Downstream</td>\n",
              "      <td>Yatai's main products cover various cleaning machinery, cleaning agents, cleaning tools, stone maintenance and other cleaning products; cleaning solutions and services include product technical consultation, product customization, employee training, maintenance and so on.</td>\n",
              "      <td>273.0</td>\n",
              "    </tr>\n",
              "    <tr>\n",
              "      <th>2</th>\n",
              "      <td>EXIS TECH SDN. BHD.</td>\n",
              "      <td>MALAYSIA</td>\n",
              "      <td>oos</td>\n",
              "      <td>others</td>\n",
              "      <td>others</td>\n",
              "      <td>NaN</td>\n",
              "      <td>In the beginning, it started off by providing technical support for test handlers, then moving into module design and production. Its first, in-house designed, full-fledged handler was introduced in 2008. Since then, the company has designed and produced a wide range of turret and pick-and-place solutions for its customers all over the world.</td>\n",
              "      <td>344.0</td>\n",
              "    </tr>\n",
              "    <tr>\n",
              "      <th>4</th>\n",
              "      <td>Aztech Electronics Pte Ltd</td>\n",
              "      <td>SINGAPORE</td>\n",
              "      <td>TMT</td>\n",
              "      <td>consumer electronics</td>\n",
              "      <td>consumer electronics_distributor</td>\n",
              "      <td>Downstream</td>\n",
              "      <td>Being a turnkey, one-stop integrated solutions provider based in Singapore, Aztech is equipped with state-of-the-art equipment, R&amp;D, design, manufacturing and packaging capabilities to deliver a seamless, unified experience. Each and every time. Always striving towards the edge of technology for more than 34 years, we have been building capabilities to serve clients’ manufacturing needs, including the consumer electronics, telecommunications, healthtech, LED lighting, automotive and technology start-up market segments.</td>\n",
              "      <td>524.0</td>\n",
              "    </tr>\n",
              "    <tr>\n",
              "      <th>5</th>\n",
              "      <td>TONGDUN INTERNATIONAL PTE LTD</td>\n",
              "      <td>SINGAPORE</td>\n",
              "      <td>tmt</td>\n",
              "      <td>it_services</td>\n",
              "      <td>it_services</td>\n",
              "      <td>midstream</td>\n",
              "      <td>Tongdun Technology is a professional third-party intelligent risk management and decision-making service provider headquartered in Hangzhou, Zhejiang. By integrating artificial intelligence into business scenarios, Tongdun Technology offers solutions in intelligent user analysis, intelligent risk management, intelligent antifraud and intelligent operation to clients from various industries including financial industry, internet business, logistics, healthcare, retail, smart cities and government bodies. Over 10,000 corporate clients have chosen Tongdun Technology’s products and services</td>\n",
              "      <td>593.0</td>\n",
              "    </tr>\n",
              "  </tbody>\n",
              "</table>\n",
              "</div>"
            ],
            "text/plain": [
              "                                     Company  ... length\n",
              "0           AKSORN CHAROEN TAT ACT. CO.,LTD.  ...  238.0\n",
              "1  DONGGUAN SHENGYA CLEANING APPLIAME CO.LTD  ...  273.0\n",
              "2                        EXIS TECH SDN. BHD.  ...  344.0\n",
              "4                 Aztech Electronics Pte Ltd  ...  524.0\n",
              "5              TONGDUN INTERNATIONAL PTE LTD  ...  593.0\n",
              "\n",
              "[5 rows x 8 columns]"
            ]
          },
          "metadata": {
            "tags": []
          },
          "execution_count": 19
        }
      ]
    },
    {
      "cell_type": "code",
      "metadata": {
        "id": "725S9NxvyZXQ",
        "colab": {
          "base_uri": "https://localhost:8080/",
          "height": 295
        },
        "outputId": "c9abe5f1-29d5-451d-a7e4-5c2fbbde2c98"
      },
      "source": [
        "# now plot a distribution plot to see the word length distribution\n",
        "sns.distplot(df_valid[\"length\"], kde=True)\n",
        "plt.title('Word Length Distribution')\n",
        "plt.show()"
      ],
      "execution_count": 20,
      "outputs": [
        {
          "output_type": "display_data",
          "data": {
            "image/png": "[encoded data removed]",
            "text/plain": [
              "<Figure size 432x288 with 1 Axes>"
            ]
          },
          "metadata": {
            "tags": []
          }
        }
      ]
    },
    {
      "cell_type": "markdown",
      "metadata": {
        "id": "ZjI1Z5ogyl6h"
      },
      "source": [
        "<div class=\"alert alert-block alert-info\">\n",
        "    <b>Analysis Summary:</b> We can see that there is a high record of the company description having a total word length of around 200 to 300, while those aboce 800 is very rare.\n",
        "</div>"
      ]
    },
    {
      "cell_type": "markdown",
      "metadata": {
        "id": "OdPgyXL60rqg"
      },
      "source": [
        "### 4.3. Subsample from the entire dataset\n",
        "\n",
        "---\n",
        "\n",
        "We will now subsample a part of the dataset from the entire dataset. This is important as firstly, we need to ensure that our tokenization is working correctly in a smaller scale dataset, since using the entire dataset to do it will be very time consuming."
      ]
    },
    {
      "cell_type": "code",
      "metadata": {
        "id": "OC9h-jIM07v2",
        "colab": {
          "base_uri": "https://localhost:8080/",
          "height": 891
        },
        "outputId": "18a5f558-08d0-431b-8fc5-e446d41e4773"
      },
      "source": [
        "# declare sample size here first (CHANGE IT AS THE TRAINING DATA INCREASES)\n",
        "sample_size = 350\n",
        "\n",
        "# now we will get the data from the restricted range of sample size\n",
        "subsample = df_valid[:sample_size]\n",
        "subsample"
      ],
      "execution_count": 21,
      "outputs": [
        {
          "output_type": "execute_result",
          "data": {
            "text/html": [
              "<div>\n",
              "<style scoped>\n",
              "    .dataframe tbody tr th:only-of-type {\n",
              "        vertical-align: middle;\n",
              "    }\n",
              "\n",
              "    .dataframe tbody tr th {\n",
              "        vertical-align: top;\n",
              "    }\n",
              "\n",
              "    .dataframe thead th {\n",
              "        text-align: right;\n",
              "    }\n",
              "</style>\n",
              "<table border=\"1\" class=\"dataframe\">\n",
              "  <thead>\n",
              "    <tr style=\"text-align: right;\">\n",
              "      <th></th>\n",
              "      <th>Company</th>\n",
              "      <th>Country</th>\n",
              "      <th>Sector</th>\n",
              "      <th>Subsector</th>\n",
              "      <th>Archetype</th>\n",
              "      <th>Valuechain</th>\n",
              "      <th>Company Profile Information</th>\n",
              "      <th>length</th>\n",
              "    </tr>\n",
              "  </thead>\n",
              "  <tbody>\n",
              "    <tr>\n",
              "      <th>0</th>\n",
              "      <td>AKSORN CHAROEN TAT ACT. CO.,LTD.</td>\n",
              "      <td>THAILAND</td>\n",
              "      <td>TMT</td>\n",
              "      <td>media</td>\n",
              "      <td>media_aggregator/distributor</td>\n",
              "      <td>Midstream</td>\n",
              "      <td>For over 80 years of experience in creating and developing high-quality learning materials has enabled us to provide world-class educational innovation to meet the needs of all teachers, students, institutions and educational authorities.</td>\n",
              "      <td>238.0</td>\n",
              "    </tr>\n",
              "    <tr>\n",
              "      <th>1</th>\n",
              "      <td>DONGGUAN SHENGYA CLEANING APPLIAME CO.LTD</td>\n",
              "      <td>CHINA</td>\n",
              "      <td>TMT</td>\n",
              "      <td>consumer electronics</td>\n",
              "      <td>consumer electronics_distributor</td>\n",
              "      <td>Downstream</td>\n",
              "      <td>Yatai's main products cover various cleaning machinery, cleaning agents, cleaning tools, stone maintenance and other cleaning products; cleaning solutions and services include product technical consultation, product customization, employee training, maintenance and so on.</td>\n",
              "      <td>273.0</td>\n",
              "    </tr>\n",
              "    <tr>\n",
              "      <th>2</th>\n",
              "      <td>EXIS TECH SDN. BHD.</td>\n",
              "      <td>MALAYSIA</td>\n",
              "      <td>oos</td>\n",
              "      <td>others</td>\n",
              "      <td>others</td>\n",
              "      <td>NaN</td>\n",
              "      <td>In the beginning, it started off by providing technical support for test handlers, then moving into module design and production. Its first, in-house designed, full-fledged handler was introduced in 2008. Since then, the company has designed and produced a wide range of turret and pick-and-place solutions for its customers all over the world.</td>\n",
              "      <td>344.0</td>\n",
              "    </tr>\n",
              "    <tr>\n",
              "      <th>4</th>\n",
              "      <td>Aztech Electronics Pte Ltd</td>\n",
              "      <td>SINGAPORE</td>\n",
              "      <td>TMT</td>\n",
              "      <td>consumer electronics</td>\n",
              "      <td>consumer electronics_distributor</td>\n",
              "      <td>Downstream</td>\n",
              "      <td>Being a turnkey, one-stop integrated solutions provider based in Singapore, Aztech is equipped with state-of-the-art equipment, R&amp;D, design, manufacturing and packaging capabilities to deliver a seamless, unified experience. Each and every time. Always striving towards the edge of technology for more than 34 years, we have been building capabilities to serve clients’ manufacturing needs, including the consumer electronics, telecommunications, healthtech, LED lighting, automotive and technology start-up market segments.</td>\n",
              "      <td>524.0</td>\n",
              "    </tr>\n",
              "    <tr>\n",
              "      <th>5</th>\n",
              "      <td>TONGDUN INTERNATIONAL PTE LTD</td>\n",
              "      <td>SINGAPORE</td>\n",
              "      <td>tmt</td>\n",
              "      <td>it_services</td>\n",
              "      <td>it_services</td>\n",
              "      <td>midstream</td>\n",
              "      <td>Tongdun Technology is a professional third-party intelligent risk management and decision-making service provider headquartered in Hangzhou, Zhejiang. By integrating artificial intelligence into business scenarios, Tongdun Technology offers solutions in intelligent user analysis, intelligent risk management, intelligent antifraud and intelligent operation to clients from various industries including financial industry, internet business, logistics, healthcare, retail, smart cities and government bodies. Over 10,000 corporate clients have chosen Tongdun Technology’s products and services</td>\n",
              "      <td>593.0</td>\n",
              "    </tr>\n",
              "    <tr>\n",
              "      <th>...</th>\n",
              "      <td>...</td>\n",
              "      <td>...</td>\n",
              "      <td>...</td>\n",
              "      <td>...</td>\n",
              "      <td>...</td>\n",
              "      <td>...</td>\n",
              "      <td>...</td>\n",
              "      <td>...</td>\n",
              "    </tr>\n",
              "    <tr>\n",
              "      <th>369</th>\n",
              "      <td>KOIZUMI LIGHTING SINGAPORE PTE. LTD.</td>\n",
              "      <td>SINGAPORE</td>\n",
              "      <td>cni</td>\n",
              "      <td>building_material</td>\n",
              "      <td>building_material_manufacturer</td>\n",
              "      <td>midstream</td>\n",
              "      <td>MANUFACTURE AND REPAIR OF ELECTRIC LAMPS AND LIGHTING EQUIPMENT (INCLUDING SILVER REFLECTORS, FITTINGS AND PARTS)</td>\n",
              "      <td>114.0</td>\n",
              "    </tr>\n",
              "    <tr>\n",
              "      <th>370</th>\n",
              "      <td>LUMINTU INSAN MANDIRI,PT</td>\n",
              "      <td>INDONESIA</td>\n",
              "      <td>cni</td>\n",
              "      <td>buildings &amp; industrial</td>\n",
              "      <td>buildings &amp; industrial_contractor</td>\n",
              "      <td>midstream</td>\n",
              "      <td>PT. Lumintu Insan Mandiri , is a company that runs a business within the scope of Engineering and Construction for Civil and Mechanical Electrical including Procurement Services.</td>\n",
              "      <td>179.0</td>\n",
              "    </tr>\n",
              "    <tr>\n",
              "      <th>372</th>\n",
              "      <td>COETERNITY CO.,LTD.</td>\n",
              "      <td>THAILAND</td>\n",
              "      <td>oos</td>\n",
              "      <td>others</td>\n",
              "      <td>others</td>\n",
              "      <td>NaN</td>\n",
              "      <td>Production and distribution of sandpaper, equipment used in industrial plants</td>\n",
              "      <td>77.0</td>\n",
              "    </tr>\n",
              "    <tr>\n",
              "      <th>373</th>\n",
              "      <td>UFCT TECHNOLOGY CO., LIMITED</td>\n",
              "      <td>HONG KONG</td>\n",
              "      <td>tmt</td>\n",
              "      <td>consumer electronics</td>\n",
              "      <td>consumer electronics_distributor</td>\n",
              "      <td>downstream</td>\n",
              "      <td>UFCT is an authorized distributor of an electronic component product. Since the beginning of 2014, it has entered a clear position in the electronics distributor business. The main agent line is located in the internationally known resource type product line. The qualification of the strong product line determines the company's industry status. The company has the world famous chip brand MTK and SK SKHynix, one of the three global industrial storage providers, as well as the Korean brand FCI agent qualification, Taiwan brand Lepower agent qualification. Both MTK and SK helix are the leading global IC industry. MTK is known as the Polytron Technologies Inc of Taiwan (Polytron Technologies Inc). It is the fourth largest IC design company in the world, and the second largest mobile chip supplier in the world. SK helix is one of the world's three whole industry memory suppliers, dedicated to the production of semiconductor products based on DRAM and NAND Flash.</td>\n",
              "      <td>971.0</td>\n",
              "    </tr>\n",
              "    <tr>\n",
              "      <th>374</th>\n",
              "      <td>HATYAI SHUTTER DEE LIMITED PARTNERSHIP</td>\n",
              "      <td>THAILAND</td>\n",
              "      <td>cni</td>\n",
              "      <td>building_material</td>\n",
              "      <td>building_material_manufacturer</td>\n",
              "      <td>midstream</td>\n",
              "      <td>Production of rolling doors</td>\n",
              "      <td>27.0</td>\n",
              "    </tr>\n",
              "  </tbody>\n",
              "</table>\n",
              "<p>350 rows × 8 columns</p>\n",
              "</div>"
            ],
            "text/plain": [
              "                                       Company  ... length\n",
              "0             AKSORN CHAROEN TAT ACT. CO.,LTD.  ...  238.0\n",
              "1    DONGGUAN SHENGYA CLEANING APPLIAME CO.LTD  ...  273.0\n",
              "2                          EXIS TECH SDN. BHD.  ...  344.0\n",
              "4                   Aztech Electronics Pte Ltd  ...  524.0\n",
              "5                TONGDUN INTERNATIONAL PTE LTD  ...  593.0\n",
              "..                                         ...  ...    ...\n",
              "369       KOIZUMI LIGHTING SINGAPORE PTE. LTD.  ...  114.0\n",
              "370                   LUMINTU INSAN MANDIRI,PT  ...  179.0\n",
              "372                        COETERNITY CO.,LTD.  ...   77.0\n",
              "373               UFCT TECHNOLOGY CO., LIMITED  ...  971.0\n",
              "374     HATYAI SHUTTER DEE LIMITED PARTNERSHIP  ...   27.0\n",
              "\n",
              "[350 rows x 8 columns]"
            ]
          },
          "metadata": {
            "tags": []
          },
          "execution_count": 21
        }
      ]
    },
    {
      "cell_type": "markdown",
      "metadata": {
        "id": "V2q_t5v3SSq2"
      },
      "source": [
        "### 4.4. Populating Nan cells\n",
        "\n",
        "---\n",
        "\n",
        "We will now have to populate Nan cells with space so that we can carry on and process with text tokenization."
      ]
    },
    {
      "cell_type": "code",
      "metadata": {
        "id": "iAUWZOuMSP7O",
        "colab": {
          "base_uri": "https://localhost:8080/",
          "height": 857
        },
        "outputId": "362b9856-7c21-402b-8f30-dc7eda773fdc"
      },
      "source": [
        "# fill na with space instead of others\n",
        "df_valid.fillna(\" \" ,inplace=True)\n",
        "df_valid"
      ],
      "execution_count": 22,
      "outputs": [
        {
          "output_type": "execute_result",
          "data": {
            "text/html": [
              "<div>\n",
              "<style scoped>\n",
              "    .dataframe tbody tr th:only-of-type {\n",
              "        vertical-align: middle;\n",
              "    }\n",
              "\n",
              "    .dataframe tbody tr th {\n",
              "        vertical-align: top;\n",
              "    }\n",
              "\n",
              "    .dataframe thead th {\n",
              "        text-align: right;\n",
              "    }\n",
              "</style>\n",
              "<table border=\"1\" class=\"dataframe\">\n",
              "  <thead>\n",
              "    <tr style=\"text-align: right;\">\n",
              "      <th></th>\n",
              "      <th>Company</th>\n",
              "      <th>Country</th>\n",
              "      <th>Sector</th>\n",
              "      <th>Subsector</th>\n",
              "      <th>Archetype</th>\n",
              "      <th>Valuechain</th>\n",
              "      <th>Company Profile Information</th>\n",
              "      <th>length</th>\n",
              "    </tr>\n",
              "  </thead>\n",
              "  <tbody>\n",
              "    <tr>\n",
              "      <th>0</th>\n",
              "      <td>AKSORN CHAROEN TAT ACT. CO.,LTD.</td>\n",
              "      <td>THAILAND</td>\n",
              "      <td>TMT</td>\n",
              "      <td>media</td>\n",
              "      <td>media_aggregator/distributor</td>\n",
              "      <td>Midstream</td>\n",
              "      <td>For over 80 years of experience in creating and developing high-quality learning materials has enabled us to provide world-class educational innovation to meet the needs of all teachers, students, institutions and educational authorities.</td>\n",
              "      <td>238</td>\n",
              "    </tr>\n",
              "    <tr>\n",
              "      <th>1</th>\n",
              "      <td>DONGGUAN SHENGYA CLEANING APPLIAME CO.LTD</td>\n",
              "      <td>CHINA</td>\n",
              "      <td>TMT</td>\n",
              "      <td>consumer electronics</td>\n",
              "      <td>consumer electronics_distributor</td>\n",
              "      <td>Downstream</td>\n",
              "      <td>Yatai's main products cover various cleaning machinery, cleaning agents, cleaning tools, stone maintenance and other cleaning products; cleaning solutions and services include product technical consultation, product customization, employee training, maintenance and so on.</td>\n",
              "      <td>273</td>\n",
              "    </tr>\n",
              "    <tr>\n",
              "      <th>2</th>\n",
              "      <td>EXIS TECH SDN. BHD.</td>\n",
              "      <td>MALAYSIA</td>\n",
              "      <td>oos</td>\n",
              "      <td>others</td>\n",
              "      <td>others</td>\n",
              "      <td></td>\n",
              "      <td>In the beginning, it started off by providing technical support for test handlers, then moving into module design and production. Its first, in-house designed, full-fledged handler was introduced in 2008. Since then, the company has designed and produced a wide range of turret and pick-and-place solutions for its customers all over the world.</td>\n",
              "      <td>344</td>\n",
              "    </tr>\n",
              "    <tr>\n",
              "      <th>4</th>\n",
              "      <td>Aztech Electronics Pte Ltd</td>\n",
              "      <td>SINGAPORE</td>\n",
              "      <td>TMT</td>\n",
              "      <td>consumer electronics</td>\n",
              "      <td>consumer electronics_distributor</td>\n",
              "      <td>Downstream</td>\n",
              "      <td>Being a turnkey, one-stop integrated solutions provider based in Singapore, Aztech is equipped with state-of-the-art equipment, R&amp;D, design, manufacturing and packaging capabilities to deliver a seamless, unified experience. Each and every time. Always striving towards the edge of technology for more than 34 years, we have been building capabilities to serve clients’ manufacturing needs, including the consumer electronics, telecommunications, healthtech, LED lighting, automotive and technology start-up market segments.</td>\n",
              "      <td>524</td>\n",
              "    </tr>\n",
              "    <tr>\n",
              "      <th>5</th>\n",
              "      <td>TONGDUN INTERNATIONAL PTE LTD</td>\n",
              "      <td>SINGAPORE</td>\n",
              "      <td>tmt</td>\n",
              "      <td>it_services</td>\n",
              "      <td>it_services</td>\n",
              "      <td>midstream</td>\n",
              "      <td>Tongdun Technology is a professional third-party intelligent risk management and decision-making service provider headquartered in Hangzhou, Zhejiang. By integrating artificial intelligence into business scenarios, Tongdun Technology offers solutions in intelligent user analysis, intelligent risk management, intelligent antifraud and intelligent operation to clients from various industries including financial industry, internet business, logistics, healthcare, retail, smart cities and government bodies. Over 10,000 corporate clients have chosen Tongdun Technology’s products and services</td>\n",
              "      <td>593</td>\n",
              "    </tr>\n",
              "    <tr>\n",
              "      <th>...</th>\n",
              "      <td>...</td>\n",
              "      <td>...</td>\n",
              "      <td>...</td>\n",
              "      <td>...</td>\n",
              "      <td>...</td>\n",
              "      <td>...</td>\n",
              "      <td>...</td>\n",
              "      <td>...</td>\n",
              "    </tr>\n",
              "    <tr>\n",
              "      <th>6595</th>\n",
              "      <td>PAN ENERGY PTE. LTD.</td>\n",
              "      <td>SINGAPORE</td>\n",
              "      <td>ONG</td>\n",
              "      <td>ong_traders</td>\n",
              "      <td>bunker trader</td>\n",
              "      <td>Downstream</td>\n",
              "      <td>PAN ENERGY is an ACRA-registered entity that has been operating for 5 years 7 months in Singapore since its incorporation y in 2015. Officially, PAN ENERGY PTE. LTD. is registered as Exempt Private Limited Company with its address in District 9 (Orchard, Cairnhill, River Valley), primarily operates in the sector of \"SHIPPING LINES (SCHEDULED SERVICES)\", SSIC code - 50021 SHIP BUNKERING</td>\n",
              "      <td>388</td>\n",
              "    </tr>\n",
              "    <tr>\n",
              "      <th>6596</th>\n",
              "      <td>TRIM INTERNATIONAL CO.,LTD.</td>\n",
              "      <td>THAILAND</td>\n",
              "      <td>OOS</td>\n",
              "      <td>others</td>\n",
              "      <td>others</td>\n",
              "      <td></td>\n",
              "      <td>Established in 2000, TI has grown to become one of Southeast Asia's leaders in leather cut and sewn furniture covers.</td>\n",
              "      <td>118</td>\n",
              "    </tr>\n",
              "    <tr>\n",
              "      <th>6597</th>\n",
              "      <td>SIAK SIONG CONSTRUCTION SDN BHD</td>\n",
              "      <td>MALAYSIA</td>\n",
              "      <td>REH</td>\n",
              "      <td>commercial</td>\n",
              "      <td>commercial_integrated player</td>\n",
              "      <td>MIDSTREAM</td>\n",
              "      <td>Siak Siong Group is an established group specialised in construction industry with diversity in engineering industry, real estate development, building materials industry, plantation and Real Estate Investment and Management industry.</td>\n",
              "      <td>234</td>\n",
              "    </tr>\n",
              "    <tr>\n",
              "      <th>6598</th>\n",
              "      <td>KIJ THAWEE PATTANA CO.,LTD.</td>\n",
              "      <td>THAILAND</td>\n",
              "      <td>REH</td>\n",
              "      <td>commercial</td>\n",
              "      <td>commercial_operator</td>\n",
              "      <td>DOWNSTREAM</td>\n",
              "      <td>Rental, purchase, sale and real estate operations</td>\n",
              "      <td>49</td>\n",
              "    </tr>\n",
              "    <tr>\n",
              "      <th>6599</th>\n",
              "      <td>CNI ENGINEERING &amp; CONSTRUCTION MALAYSIA SDN. BHD.</td>\n",
              "      <td>MALAYSIA</td>\n",
              "      <td>ONG</td>\n",
              "      <td>o&amp;g_service providers/contractors</td>\n",
              "      <td>o&amp;g upstream service provider</td>\n",
              "      <td>Upstream</td>\n",
              "      <td>ENGINEERING, PROCUREMENT, CONSTRUCTION,SERVICE FABRICATION AND MAINTENANCE WORKS FOR MECHANICAL, ELECTRICAL AND ERECTION RELATED TO OIL AND GAS, POWER, PETROCHEMICAL AND RENEWABLE ENERGY PROJECTS</td>\n",
              "      <td>195</td>\n",
              "    </tr>\n",
              "  </tbody>\n",
              "</table>\n",
              "<p>5766 rows × 8 columns</p>\n",
              "</div>"
            ],
            "text/plain": [
              "                                                Company  ... length\n",
              "0                      AKSORN CHAROEN TAT ACT. CO.,LTD.  ...    238\n",
              "1             DONGGUAN SHENGYA CLEANING APPLIAME CO.LTD  ...    273\n",
              "2                                   EXIS TECH SDN. BHD.  ...    344\n",
              "4                            Aztech Electronics Pte Ltd  ...    524\n",
              "5                         TONGDUN INTERNATIONAL PTE LTD  ...    593\n",
              "...                                                 ...  ...    ...\n",
              "6595                               PAN ENERGY PTE. LTD.  ...    388\n",
              "6596                        TRIM INTERNATIONAL CO.,LTD.  ...    118\n",
              "6597                    SIAK SIONG CONSTRUCTION SDN BHD  ...    234\n",
              "6598                        KIJ THAWEE PATTANA CO.,LTD.  ...     49\n",
              "6599  CNI ENGINEERING & CONSTRUCTION MALAYSIA SDN. BHD.  ...    195\n",
              "\n",
              "[5766 rows x 8 columns]"
            ]
          },
          "metadata": {
            "tags": []
          },
          "execution_count": 22
        }
      ]
    },
    {
      "cell_type": "markdown",
      "metadata": {
        "id": "KvaDZUtsVIYk"
      },
      "source": [
        "### 4.5. Assigning tags\n",
        "---\n",
        "In this section, we will be assigning tags to every row, so that we can make use of the given keywords for bag-of-words (BoW) processing."
      ]
    },
    {
      "cell_type": "code",
      "metadata": {
        "id": "RMryE61_3L3d",
        "colab": {
          "base_uri": "https://localhost:8080/"
        },
        "outputId": "f3bb9407-03c3-4380-dc6f-047ed8f05d0f"
      },
      "source": [
        "# Programmatically assign tags to each definition\n",
        "sector_keywords = pd.read_excel('./sector_master_definition.xlsx')\n",
        "df_keywords = sector_keywords[['Sector', 'Subsector', 'Archetype', 'Value Chain', 'Sector Keywords']]\n",
        "\n",
        "# capitalise all tags\n",
        "df_keywords['Value Chain'] = df_keywords['Value Chain'].str.upper()\n",
        "df_keywords.fillna(' ', inplace=True)\n",
        "df_keywords['Sector Keywords'] = df_keywords['Sector Keywords'].str.upper()\n",
        "df_keywords['Sector Keywords'].replace(' ', '[]', inplace=True)\n",
        "\n",
        "# save unique tags, sorted for consistency across runs\n",
        "sector = np.sort(df_keywords['Sector'].unique())\n",
        "subsector = np.sort(df_keywords['Subsector'].unique())\n",
        "archetype = np.sort(df_keywords['Archetype'].unique())\n",
        "valuechain = np.sort(df_keywords['Value Chain'].unique())\n",
        "print(len(sector), len(subsector), len(archetype), len(valuechain))\n",
        "tag_counts = [len(sector), len(subsector), len(archetype), len(valuechain)]\n",
        "\n",
        "# assign number tag list to each row\n",
        "taglist = []\n",
        "for index, row in df_keywords.iterrows():\n",
        "    temp = []\n",
        "\n",
        "    temp.append(np.where(sector == row['Sector'])[0][0])\n",
        "    temp.append(np.where(subsector == row['Subsector'])[0][0])\n",
        "    temp.append(np.where(archetype == row['Archetype'])[0][0])\n",
        "    temp.append(np.where(valuechain == row['Value Chain'])[0][0])\n",
        "\n",
        "    taglist.append(temp)\n",
        "\n",
        "# assign completed taglist to column in dataframe\n",
        "df_keywords['list_tag'] = taglist\n",
        "df_keywords['list_tag']"
      ],
      "execution_count": 23,
      "outputs": [
        {
          "output_type": "stream",
          "text": [
            "7 32 92 9\n"
          ],
          "name": "stdout"
        },
        {
          "output_type": "execute_result",
          "data": {
            "text/plain": [
              "0      [0, 0, 67, 1]\n",
              "1      [0, 1, 27, 7]\n",
              "2      [0, 1, 22, 5]\n",
              "3      [0, 1, 73, 5]\n",
              "4       [0, 1, 2, 3]\n",
              "           ...      \n",
              "91    [6, 30, 85, 5]\n",
              "92    [6, 30, 86, 5]\n",
              "93    [6, 30, 87, 5]\n",
              "94    [6, 30, 83, 5]\n",
              "95    [4, 24, 64, 0]\n",
              "Name: list_tag, Length: 96, dtype: object"
            ]
          },
          "metadata": {
            "tags": []
          },
          "execution_count": 23
        }
      ]
    },
    {
      "cell_type": "code",
      "metadata": {
        "id": "qeY7nEgNAL5n",
        "outputId": "c976d62d-8552-4d96-bd50-b56ae273d9fe",
        "colab": {
          "base_uri": "https://localhost:8080/"
        }
      },
      "source": [
        "# process data for homogenity\n",
        "df_valid['Valuechain'] = df_valid['Valuechain'].str.split().str.join(' ')\n",
        "df_valid['Valuechain'] = df_valid['Valuechain'].str.upper()\n",
        "df_valid['Sector'] = df_valid['Sector'].str.upper()\n",
        "df_valid['Valuechain'].replace('', ' ', inplace=True)\n",
        "\n",
        "taglist_df = []\n",
        "# process tags for records\n",
        "for index, row in df_valid.iterrows():\n",
        "    temp = []\n",
        "\n",
        "    try: # for error handling\n",
        "        temp.append(np.where(sector == row['Sector'])[0][0])\n",
        "        temp.append(np.where(subsector == row['Subsector'])[0][0])\n",
        "        temp.append(np.where(archetype == row['Archetype'])[0][0])\n",
        "        temp.append(np.where(valuechain == row['Valuechain'])[0][0])\n",
        "\n",
        "        taglist_df.append(temp)\n",
        "    except:\n",
        "        # drop data if not valid\n",
        "        df_valid.drop(index, inplace=True)\n",
        "\n",
        "\n",
        "df_valid['list_tag'] = taglist_df\n",
        "\n",
        "df_valid.shape"
      ],
      "execution_count": 25,
      "outputs": [
        {
          "output_type": "execute_result",
          "data": {
            "text/plain": [
              "(5745, 9)"
            ]
          },
          "metadata": {
            "tags": []
          },
          "execution_count": 25
        }
      ]
    },
    {
      "cell_type": "markdown",
      "metadata": {
        "id": "vMQVBNOGz4cn"
      },
      "source": [
        "### 4.6. Text Tokenization, Removing Stop Words, punctuations, numbers, stop words and Lower Case\n",
        "\n",
        "---\n",
        "\n",
        "Now we will start to tokenize the word after we have ensure that the text description between the company descriptions are homogenous. In this process, we will also process with stop words, punctuations, numeric figures, lower cap words and lemmatize words all using the spaCy API."
      ]
    },
    {
      "cell_type": "code",
      "metadata": {
        "id": "XM-Q_-iEUgFQ"
      },
      "source": [
        "# we will have to ensure all the dtype of the respective columns are in string and not float for spacy to handle properly, so now we will attempt to convert all into strings\n",
        "columns_to_convert = ['Sector', 'Subsector', 'Archetype', 'Valuechain', 'Company Profile Information']\n",
        "\n",
        "for i in columns_to_convert:\n",
        "  df_valid[i] = df_valid[i].astype(str)"
      ],
      "execution_count": 26,
      "outputs": []
    },
    {
      "cell_type": "markdown",
      "metadata": {
        "id": "ihIc0sUPPu_A"
      },
      "source": [
        "Here we will do everything necessary to start up spacy for use in preprocessing the text."
      ]
    },
    {
      "cell_type": "code",
      "metadata": {
        "id": "zf-9naDFAIZq",
        "colab": {
          "base_uri": "https://localhost:8080/"
        },
        "outputId": "631b7f7f-2d7a-4f91-8f3d-ff14307199c3"
      },
      "source": [
        "# import required libraries \n",
        "from spacy.language import Language\n",
        "from spacy.tokens import Doc\n",
        "from spacy.lang.char_classes import ALPHA, ALPHA_LOWER, ALPHA_UPPER, CONCAT_QUOTES, LIST_ELLIPSES, LIST_ICONS\n",
        "from spacy.util import compile_infix_regex\n",
        "\n",
        "# initialise nlp engine\n",
        "nlp = spacy.load(\"en_core_web_lg\")\n",
        "\n",
        "# declare custom properties\n",
        "Doc.set_extension('processed', default=True, force=True)\n",
        "\n",
        "# Modify tokenizer infix patterns\n",
        "infixes = (\n",
        "    LIST_ELLIPSES\n",
        "    + LIST_ICONS\n",
        "    + [\n",
        "        r\"(?<=[0-9])[+\\-\\*^](?=[0-9-])\",\n",
        "        r\"(?<=[{al}{q}])\\.(?=[{au}{q}])\".format(\n",
        "            al=ALPHA_LOWER, au=ALPHA_UPPER, q=CONCAT_QUOTES\n",
        "        ),\n",
        "        r\"(?<=[{a}]),(?=[{a}])\".format(a=ALPHA),\n",
        "        r\"(?<=[{a}0-9])[:<>=/](?=[{a}])\".format(a=ALPHA),\n",
        "    ]\n",
        ")\n",
        "\n",
        "infix_re = compile_infix_regex(infixes)\n",
        "nlp.tokenizer.infix_finditer = infix_re.finditer\n",
        "\n",
        "# custom lemmatizer\n",
        "@Language.component(\"custom_preprocess\")\n",
        "def custom_preprocess(doc):\n",
        "    temp = []\n",
        "\n",
        "    # filter through each token and add to preprocessed text if requirements #\n",
        "    # met.                                                                   #\n",
        "    for t in doc:\n",
        "        if (not t.is_punct and not t.like_num and not t.is_stop and not t.is_digit and not (t.ent_type == 396 or t.ent_type == 397)):\n",
        "            temp.append(t.lemma_.upper())\n",
        "\n",
        "    doc._.processed = temp\n",
        "\n",
        "    return doc\n",
        "\n",
        "# add custom pipeline components to default pipeline\n",
        "nlp.add_pipe('custom_preprocess', last=True)"
      ],
      "execution_count": 27,
      "outputs": [
        {
          "output_type": "execute_result",
          "data": {
            "text/plain": [
              "<function __main__.custom_preprocess>"
            ]
          },
          "metadata": {
            "tags": []
          },
          "execution_count": 27
        }
      ]
    },
    {
      "cell_type": "code",
      "metadata": {
        "id": "13bwIYewPsD9"
      },
      "source": [
        "# run the pipeline on data\n",
        "processed_doc = list(nlp.pipe(df_valid['Company Profile Information']))"
      ],
      "execution_count": 28,
      "outputs": []
    },
    {
      "cell_type": "code",
      "metadata": {
        "id": "4UaWgX5lZStt",
        "colab": {
          "base_uri": "https://localhost:8080/",
          "height": 1000
        },
        "outputId": "3830b32d-bfe2-4c24-fa10-ddf31ee9785d"
      },
      "source": [
        "# add lemmatised words to dataframe\n",
        "df_valid['processed'] = [doc._.processed for doc in processed_doc]\n",
        "\n",
        "df_valid"
      ],
      "execution_count": 29,
      "outputs": [
        {
          "output_type": "execute_result",
          "data": {
            "text/html": [
              "<div>\n",
              "<style scoped>\n",
              "    .dataframe tbody tr th:only-of-type {\n",
              "        vertical-align: middle;\n",
              "    }\n",
              "\n",
              "    .dataframe tbody tr th {\n",
              "        vertical-align: top;\n",
              "    }\n",
              "\n",
              "    .dataframe thead th {\n",
              "        text-align: right;\n",
              "    }\n",
              "</style>\n",
              "<table border=\"1\" class=\"dataframe\">\n",
              "  <thead>\n",
              "    <tr style=\"text-align: right;\">\n",
              "      <th></th>\n",
              "      <th>Company</th>\n",
              "      <th>Country</th>\n",
              "      <th>Sector</th>\n",
              "      <th>Subsector</th>\n",
              "      <th>Archetype</th>\n",
              "      <th>Valuechain</th>\n",
              "      <th>Company Profile Information</th>\n",
              "      <th>length</th>\n",
              "      <th>list_tag</th>\n",
              "      <th>processed</th>\n",
              "    </tr>\n",
              "  </thead>\n",
              "  <tbody>\n",
              "    <tr>\n",
              "      <th>0</th>\n",
              "      <td>AKSORN CHAROEN TAT ACT. CO.,LTD.</td>\n",
              "      <td>THAILAND</td>\n",
              "      <td>TMT</td>\n",
              "      <td>media</td>\n",
              "      <td>media_aggregator/distributor</td>\n",
              "      <td>MIDSTREAM</td>\n",
              "      <td>For over 80 years of experience in creating and developing high-quality learning materials has enabled us to provide world-class educational innovation to meet the needs of all teachers, students, institutions and educational authorities.</td>\n",
              "      <td>238</td>\n",
              "      <td>[6, 18, 49, 5]</td>\n",
              "      <td>[YEAR, EXPERIENCE, CREATE, DEVELOP, HIGH-QUALITY, LEARNING, MATERIAL, ENABLE, PROVIDE, WORLD-CLASS, EDUCATIONAL, INNOVATION, MEET, NEED, TEACHER, STUDENT, INSTITUTION, EDUCATIONAL, AUTHORITY]</td>\n",
              "    </tr>\n",
              "    <tr>\n",
              "      <th>1</th>\n",
              "      <td>DONGGUAN SHENGYA CLEANING APPLIAME CO.LTD</td>\n",
              "      <td>CHINA</td>\n",
              "      <td>TMT</td>\n",
              "      <td>consumer electronics</td>\n",
              "      <td>consumer electronics_distributor</td>\n",
              "      <td>DOWNSTREAM</td>\n",
              "      <td>Yatai's main products cover various cleaning machinery, cleaning agents, cleaning tools, stone maintenance and other cleaning products; cleaning solutions and services include product technical consultation, product customization, employee training, maintenance and so on.</td>\n",
              "      <td>273</td>\n",
              "      <td>[6, 8, 20, 3]</td>\n",
              "      <td>[YATAI, MAIN, PRODUCT, COVER, CLEANING, MACHINERY, CLEAN, AGENT, CLEAN, TOOL, STONE, MAINTENANCE, CLEANING, PRODUCT, CLEAN, SOLUTION, SERVICE, INCLUDE, PRODUCT, TECHNICAL, CONSULTATION, PRODUCT, CUSTOMIZATION, EMPLOYEE, TRAINING, MAINTENANCE]</td>\n",
              "    </tr>\n",
              "    <tr>\n",
              "      <th>2</th>\n",
              "      <td>EXIS TECH SDN. BHD.</td>\n",
              "      <td>MALAYSIA</td>\n",
              "      <td>OOS</td>\n",
              "      <td>others</td>\n",
              "      <td>others</td>\n",
              "      <td></td>\n",
              "      <td>In the beginning, it started off by providing technical support for test handlers, then moving into module design and production. Its first, in-house designed, full-fledged handler was introduced in 2008. Since then, the company has designed and produced a wide range of turret and pick-and-place solutions for its customers all over the world.</td>\n",
              "      <td>344</td>\n",
              "      <td>[4, 24, 64, 0]</td>\n",
              "      <td>[BEGINNING, START, PROVIDE, TECHNICAL, SUPPORT, TEST, HANDLER, MOVE, MODULE, DESIGN, PRODUCTION, IN-HOUSE, DESIGN, FULL-FLEDGED, HANDLER, INTRODUCE, COMPANY, DESIGN, PRODUCE, WIDE, RANGE, TURRET, PICK-AND-PLACE, SOLUTION, CUSTOMER, WORLD]</td>\n",
              "    </tr>\n",
              "    <tr>\n",
              "      <th>4</th>\n",
              "      <td>Aztech Electronics Pte Ltd</td>\n",
              "      <td>SINGAPORE</td>\n",
              "      <td>TMT</td>\n",
              "      <td>consumer electronics</td>\n",
              "      <td>consumer electronics_distributor</td>\n",
              "      <td>DOWNSTREAM</td>\n",
              "      <td>Being a turnkey, one-stop integrated solutions provider based in Singapore, Aztech is equipped with state-of-the-art equipment, R&amp;D, design, manufacturing and packaging capabilities to deliver a seamless, unified experience. Each and every time. Always striving towards the edge of technology for more than 34 years, we have been building capabilities to serve clients’ manufacturing needs, including the consumer electronics, telecommunications, healthtech, LED lighting, automotive and technology start-up market segments.</td>\n",
              "      <td>524</td>\n",
              "      <td>[6, 8, 20, 3]</td>\n",
              "      <td>[TURNKEY, ONE-STOP, INTEGRATE, SOLUTION, PROVIDER, BASE, SINGAPORE, AZTECH, EQUIP, STATE-OF-THE-ART, EQUIPMENT, R&amp;D, DESIGN, MANUFACTURING, PACKAGING, CAPABILITY, DELIVER, SEAMLESS, UNIFIED, EXPERIENCE, TIME, STRIVE, EDGE, TECHNOLOGY, YEAR, BUILD, CAPABILITY, SERVE, CLIENT, MANUFACTURING, NEED, INCLUDE, CONSUMER, ELECTRONIC, TELECOMMUNICATION, HEALTHTECH, LEAD, LIGHTING, AUTOMOTIVE, TECHNOLOGY, START-UP, MARKET, SEGMENT]</td>\n",
              "    </tr>\n",
              "    <tr>\n",
              "      <th>5</th>\n",
              "      <td>TONGDUN INTERNATIONAL PTE LTD</td>\n",
              "      <td>SINGAPORE</td>\n",
              "      <td>TMT</td>\n",
              "      <td>it_services</td>\n",
              "      <td>it_services</td>\n",
              "      <td>MIDSTREAM</td>\n",
              "      <td>Tongdun Technology is a professional third-party intelligent risk management and decision-making service provider headquartered in Hangzhou, Zhejiang. By integrating artificial intelligence into business scenarios, Tongdun Technology offers solutions in intelligent user analysis, intelligent risk management, intelligent antifraud and intelligent operation to clients from various industries including financial industry, internet business, logistics, healthcare, retail, smart cities and government bodies. Over 10,000 corporate clients have chosen Tongdun Technology’s products and services</td>\n",
              "      <td>593</td>\n",
              "      <td>[6, 17, 46, 5]</td>\n",
              "      <td>[TONGDUN, TECHNOLOGY, PROFESSIONAL, THIRD-PARTY, INTELLIGENT, RISK, MANAGEMENT, DECISION-MAKING, SERVICE, PROVIDER, HEADQUARTER, HANGZHOU, ZHEJIANG, INTEGRATE, ARTIFICIAL, INTELLIGENCE, BUSINESS, SCENARIO, TONGDUN, TECHNOLOGY, OFFER, SOLUTION, INTELLIGENT, USER, ANALYSIS, INTELLIGENT, RISK, MANAGEMENT, INTELLIGENT, ANTIFRAUD, INTELLIGENT, OPERATION, CLIENT, INDUSTRY, INCLUDE, FINANCIAL, INDUSTRY, INTERNET, BUSINESS, LOGISTIC, HEALTHCARE, RETAIL, SMART, CITY, GOVERNMENT, BODY, CORPORATE, CLIENT, CHOOSE, TONGDUN, TECHNOLOGY, PRODUCT, SERVICE]</td>\n",
              "    </tr>\n",
              "    <tr>\n",
              "      <th>...</th>\n",
              "      <td>...</td>\n",
              "      <td>...</td>\n",
              "      <td>...</td>\n",
              "      <td>...</td>\n",
              "      <td>...</td>\n",
              "      <td>...</td>\n",
              "      <td>...</td>\n",
              "      <td>...</td>\n",
              "      <td>...</td>\n",
              "      <td>...</td>\n",
              "    </tr>\n",
              "    <tr>\n",
              "      <th>6595</th>\n",
              "      <td>PAN ENERGY PTE. LTD.</td>\n",
              "      <td>SINGAPORE</td>\n",
              "      <td>ONG</td>\n",
              "      <td>ong_traders</td>\n",
              "      <td>bunker trader</td>\n",
              "      <td>DOWNSTREAM</td>\n",
              "      <td>PAN ENERGY is an ACRA-registered entity that has been operating for 5 years 7 months in Singapore since its incorporation y in 2015. Officially, PAN ENERGY PTE. LTD. is registered as Exempt Private Limited Company with its address in District 9 (Orchard, Cairnhill, River Valley), primarily operates in the sector of \"SHIPPING LINES (SCHEDULED SERVICES)\", SSIC code - 50021 SHIP BUNKERING</td>\n",
              "      <td>388</td>\n",
              "      <td>[3, 23, 12, 3]</td>\n",
              "      <td>[PAN, ENERGY, ACRA-REGISTERED, ENTITY, OPERATE, YEAR, MONTH, SINGAPORE, INCORPORATION, Y, OFFICIALLY, PAN, ENERGY, PTE, LTD, REGISTER, EXEMPT, PRIVATE, LIMITED, COMPANY, ADDRESS, DISTRICT, ORCHARD, CAIRNHILL, RIVER, VALLEY, PRIMARILY, OPERATE, SECTOR, SHIPPING, LINES, SCHEDULED, SERVICES, SSIC, CODE, SHIP, BUNKERING]</td>\n",
              "    </tr>\n",
              "    <tr>\n",
              "      <th>6596</th>\n",
              "      <td>TRIM INTERNATIONAL CO.,LTD.</td>\n",
              "      <td>THAILAND</td>\n",
              "      <td>OOS</td>\n",
              "      <td>others</td>\n",
              "      <td>others</td>\n",
              "      <td></td>\n",
              "      <td>Established in 2000, TI has grown to become one of Southeast Asia's leaders in leather cut and sewn furniture covers.</td>\n",
              "      <td>118</td>\n",
              "      <td>[4, 24, 64, 0]</td>\n",
              "      <td>[ , ESTABLISH, TI, GROW, SOUTHEAST, ASIA, LEADER, LEATHER, CUT, SEW, FURNITURE, COVER]</td>\n",
              "    </tr>\n",
              "    <tr>\n",
              "      <th>6597</th>\n",
              "      <td>SIAK SIONG CONSTRUCTION SDN BHD</td>\n",
              "      <td>MALAYSIA</td>\n",
              "      <td>REH</td>\n",
              "      <td>commercial</td>\n",
              "      <td>commercial_integrated player</td>\n",
              "      <td>MIDSTREAM</td>\n",
              "      <td>Siak Siong Group is an established group specialised in construction industry with diversity in engineering industry, real estate development, building materials industry, plantation and Real Estate Investment and Management industry.</td>\n",
              "      <td>234</td>\n",
              "      <td>[5, 7, 16, 5]</td>\n",
              "      <td>[SIAK, SIONG, GROUP, ESTABLISHED, GROUP, SPECIALISE, CONSTRUCTION, INDUSTRY, DIVERSITY, ENGINEERING, INDUSTRY, REAL, ESTATE, DEVELOPMENT, BUILDING, MATERIAL, INDUSTRY, PLANTATION, REAL, ESTATE, INVESTMENT, MANAGEMENT, INDUSTRY]</td>\n",
              "    </tr>\n",
              "    <tr>\n",
              "      <th>6598</th>\n",
              "      <td>KIJ THAWEE PATTANA CO.,LTD.</td>\n",
              "      <td>THAILAND</td>\n",
              "      <td>REH</td>\n",
              "      <td>commercial</td>\n",
              "      <td>commercial_operator</td>\n",
              "      <td>DOWNSTREAM</td>\n",
              "      <td>Rental, purchase, sale and real estate operations</td>\n",
              "      <td>49</td>\n",
              "      <td>[5, 7, 17, 3]</td>\n",
              "      <td>[RENTAL, PURCHASE, SALE, REAL, ESTATE, OPERATION]</td>\n",
              "    </tr>\n",
              "    <tr>\n",
              "      <th>6599</th>\n",
              "      <td>CNI ENGINEERING &amp; CONSTRUCTION MALAYSIA SDN. BHD.</td>\n",
              "      <td>MALAYSIA</td>\n",
              "      <td>ONG</td>\n",
              "      <td>o&amp;g_service providers/contractors</td>\n",
              "      <td>o&amp;g upstream service provider</td>\n",
              "      <td>UPSTREAM</td>\n",
              "      <td>ENGINEERING, PROCUREMENT, CONSTRUCTION,SERVICE FABRICATION AND MAINTENANCE WORKS FOR MECHANICAL, ELECTRICAL AND ERECTION RELATED TO OIL AND GAS, POWER, PETROCHEMICAL AND RENEWABLE ENERGY PROJECTS</td>\n",
              "      <td>195</td>\n",
              "      <td>[3, 22, 59, 7]</td>\n",
              "      <td>[ENGINEERING, PROCUREMENT, CONSTRUCTION, SERVICE, FABRICATION, MAINTENANCE, WORKS, MECHANICAL, ELECTRICAL, ERECTION, RELATE, OIL, GAS, POWER, PETROCHEMICAL, RENEWABLE, ENERGY, PROJECT]</td>\n",
              "    </tr>\n",
              "  </tbody>\n",
              "</table>\n",
              "<p>5745 rows × 10 columns</p>\n",
              "</div>"
            ],
            "text/plain": [
              "                                                Company  ...                                                                                                                                                                                                                                                                                                                                                                                                                                                                                                                                                           processed\n",
              "0                      AKSORN CHAROEN TAT ACT. CO.,LTD.  ...                                                                                                                                                                                                                                                                                                                                                                     [YEAR, EXPERIENCE, CREATE, DEVELOP, HIGH-QUALITY, LEARNING, MATERIAL, ENABLE, PROVIDE, WORLD-CLASS, EDUCATIONAL, INNOVATION, MEET, NEED, TEACHER, STUDENT, INSTITUTION, EDUCATIONAL, AUTHORITY]\n",
              "1             DONGGUAN SHENGYA CLEANING APPLIAME CO.LTD  ...                                                                                                                                                                                                                                                                                                                  [YATAI, MAIN, PRODUCT, COVER, CLEANING, MACHINERY, CLEAN, AGENT, CLEAN, TOOL, STONE, MAINTENANCE, CLEANING, PRODUCT, CLEAN, SOLUTION, SERVICE, INCLUDE, PRODUCT, TECHNICAL, CONSULTATION, PRODUCT, CUSTOMIZATION, EMPLOYEE, TRAINING, MAINTENANCE]\n",
              "2                                   EXIS TECH SDN. BHD.  ...                                                                                                                                                                                                                                                                                                                      [BEGINNING, START, PROVIDE, TECHNICAL, SUPPORT, TEST, HANDLER, MOVE, MODULE, DESIGN, PRODUCTION, IN-HOUSE, DESIGN, FULL-FLEDGED, HANDLER, INTRODUCE, COMPANY, DESIGN, PRODUCE, WIDE, RANGE, TURRET, PICK-AND-PLACE, SOLUTION, CUSTOMER, WORLD]\n",
              "4                            Aztech Electronics Pte Ltd  ...                                                                                                                            [TURNKEY, ONE-STOP, INTEGRATE, SOLUTION, PROVIDER, BASE, SINGAPORE, AZTECH, EQUIP, STATE-OF-THE-ART, EQUIPMENT, R&D, DESIGN, MANUFACTURING, PACKAGING, CAPABILITY, DELIVER, SEAMLESS, UNIFIED, EXPERIENCE, TIME, STRIVE, EDGE, TECHNOLOGY, YEAR, BUILD, CAPABILITY, SERVE, CLIENT, MANUFACTURING, NEED, INCLUDE, CONSUMER, ELECTRONIC, TELECOMMUNICATION, HEALTHTECH, LEAD, LIGHTING, AUTOMOTIVE, TECHNOLOGY, START-UP, MARKET, SEGMENT]\n",
              "5                         TONGDUN INTERNATIONAL PTE LTD  ...  [TONGDUN, TECHNOLOGY, PROFESSIONAL, THIRD-PARTY, INTELLIGENT, RISK, MANAGEMENT, DECISION-MAKING, SERVICE, PROVIDER, HEADQUARTER, HANGZHOU, ZHEJIANG, INTEGRATE, ARTIFICIAL, INTELLIGENCE, BUSINESS, SCENARIO, TONGDUN, TECHNOLOGY, OFFER, SOLUTION, INTELLIGENT, USER, ANALYSIS, INTELLIGENT, RISK, MANAGEMENT, INTELLIGENT, ANTIFRAUD, INTELLIGENT, OPERATION, CLIENT, INDUSTRY, INCLUDE, FINANCIAL, INDUSTRY, INTERNET, BUSINESS, LOGISTIC, HEALTHCARE, RETAIL, SMART, CITY, GOVERNMENT, BODY, CORPORATE, CLIENT, CHOOSE, TONGDUN, TECHNOLOGY, PRODUCT, SERVICE]\n",
              "...                                                 ...  ...                                                                                                                                                                                                                                                                                                                                                                                                                                                                                                                                                                 ...\n",
              "6595                               PAN ENERGY PTE. LTD.  ...                                                                                                                                                                                                                                      [PAN, ENERGY, ACRA-REGISTERED, ENTITY, OPERATE, YEAR, MONTH, SINGAPORE, INCORPORATION, Y, OFFICIALLY, PAN, ENERGY, PTE, LTD, REGISTER, EXEMPT, PRIVATE, LIMITED, COMPANY, ADDRESS, DISTRICT, ORCHARD, CAIRNHILL, RIVER, VALLEY, PRIMARILY, OPERATE, SECTOR, SHIPPING, LINES, SCHEDULED, SERVICES, SSIC, CODE, SHIP, BUNKERING]\n",
              "6596                        TRIM INTERNATIONAL CO.,LTD.  ...                                                                                                                                                                                                                                                                                                                                                                                                                                                                              [ , ESTABLISH, TI, GROW, SOUTHEAST, ASIA, LEADER, LEATHER, CUT, SEW, FURNITURE, COVER]\n",
              "6597                    SIAK SIONG CONSTRUCTION SDN BHD  ...                                                                                                                                                                                                                                                                                                                                 [SIAK, SIONG, GROUP, ESTABLISHED, GROUP, SPECIALISE, CONSTRUCTION, INDUSTRY, DIVERSITY, ENGINEERING, INDUSTRY, REAL, ESTATE, DEVELOPMENT, BUILDING, MATERIAL, INDUSTRY, PLANTATION, REAL, ESTATE, INVESTMENT, MANAGEMENT, INDUSTRY]\n",
              "6598                        KIJ THAWEE PATTANA CO.,LTD.  ...                                                                                                                                                                                                                                                                                                                                                                                                                                                                                                                   [RENTAL, PURCHASE, SALE, REAL, ESTATE, OPERATION]\n",
              "6599  CNI ENGINEERING & CONSTRUCTION MALAYSIA SDN. BHD.  ...                                                                                                                                                                                                                                                                                                                                                                            [ENGINEERING, PROCUREMENT, CONSTRUCTION, SERVICE, FABRICATION, MAINTENANCE, WORKS, MECHANICAL, ELECTRICAL, ERECTION, RELATE, OIL, GAS, POWER, PETROCHEMICAL, RENEWABLE, ENERGY, PROJECT]\n",
              "\n",
              "[5745 rows x 10 columns]"
            ]
          },
          "metadata": {
            "tags": []
          },
          "execution_count": 29
        }
      ]
    },
    {
      "cell_type": "markdown",
      "metadata": {
        "id": "oNrfPLrEbXSh"
      },
      "source": [
        "### 4.7. Bag of Words\n",
        "\n",
        "---\n",
        "\n",
        "Here, we will do Bag Of Words to tokenize our word vector."
      ]
    },
    {
      "cell_type": "code",
      "metadata": {
        "id": "G1zJBkfx6euk",
        "colab": {
          "base_uri": "https://localhost:8080/"
        },
        "outputId": "34e5856f-efd9-449b-fec7-69aef5639517"
      },
      "source": [
        "# combine all keywords from all sectors\n",
        "keywords_masterlist = []\n",
        "for index, row in df_keywords.iterrows():\n",
        "    keywords_masterlist += eval(row['Sector Keywords'])\n",
        "\n",
        "# remove extraenous keywords, then sort\n",
        "keywords_masterlist = sorted(list(set(keywords_masterlist)))\n",
        "print(len(keywords_masterlist))"
      ],
      "execution_count": 30,
      "outputs": [
        {
          "output_type": "stream",
          "text": [
            "1481\n"
          ],
          "name": "stdout"
        }
      ]
    },
    {
      "cell_type": "code",
      "metadata": {
        "id": "tyzmOri2ZrGl",
        "colab": {
          "base_uri": "https://localhost:8080/",
          "height": 1000
        },
        "outputId": "d7eaac04-1a4b-4cf7-b238-2efd7f8345ae"
      },
      "source": [
        "# do bag of words\n",
        "bow_vectors = []\n",
        "for index, row in df_valid.iterrows():\n",
        "    company = row['processed']\n",
        "\n",
        "    dictionary = dict.fromkeys(keywords_masterlist, 0)\n",
        "    for word in company:\n",
        "        if word in keywords_masterlist:\n",
        "            dictionary[word] += 1\n",
        "\n",
        "    # append to dataframe\n",
        "    bow_vectors.append(list(dictionary.values()))\n",
        "\n",
        "df_valid['BoW_vectors'] = bow_vectors\n",
        "\n",
        "df_valid"
      ],
      "execution_count": 31,
      "outputs": [
        {
          "output_type": "execute_result",
          "data": {
            "text/html": [
              "<div>\n",
              "<style scoped>\n",
              "    .dataframe tbody tr th:only-of-type {\n",
              "        vertical-align: middle;\n",
              "    }\n",
              "\n",
              "    .dataframe tbody tr th {\n",
              "        vertical-align: top;\n",
              "    }\n",
              "\n",
              "    .dataframe thead th {\n",
              "        text-align: right;\n",
              "    }\n",
              "</style>\n",
              "<table border=\"1\" class=\"dataframe\">\n",
              "  <thead>\n",
              "    <tr style=\"text-align: right;\">\n",
              "      <th></th>\n",
              "      <th>Company</th>\n",
              "      <th>Country</th>\n",
              "      <th>Sector</th>\n",
              "      <th>Subsector</th>\n",
              "      <th>Archetype</th>\n",
              "      <th>Valuechain</th>\n",
              "      <th>Company Profile Information</th>\n",
              "      <th>length</th>\n",
              "      <th>list_tag</th>\n",
              "      <th>processed</th>\n",
              "      <th>BoW_vectors</th>\n",
              "    </tr>\n",
              "  </thead>\n",
              "  <tbody>\n",
              "    <tr>\n",
              "      <th>0</th>\n",
              "      <td>AKSORN CHAROEN TAT ACT. CO.,LTD.</td>\n",
              "      <td>THAILAND</td>\n",
              "      <td>TMT</td>\n",
              "      <td>media</td>\n",
              "      <td>media_aggregator/distributor</td>\n",
              "      <td>MIDSTREAM</td>\n",
              "      <td>For over 80 years of experience in creating and developing high-quality learning materials has enabled us to provide world-class educational innovation to meet the needs of all teachers, students, institutions and educational authorities.</td>\n",
              "      <td>238</td>\n",
              "      <td>[6, 18, 49, 5]</td>\n",
              "      <td>[YEAR, EXPERIENCE, CREATE, DEVELOP, HIGH-QUALITY, LEARNING, MATERIAL, ENABLE, PROVIDE, WORLD-CLASS, EDUCATIONAL, INNOVATION, MEET, NEED, TEACHER, STUDENT, INSTITUTION, EDUCATIONAL, AUTHORITY]</td>\n",
              "      <td>[0, 0, 0, 0, 0, 0, 0, 0, 0, 0, 0, 0, 0, 0, 0, 0, 0, 0, 0, 0, 0, 0, 0, 0, 0, 0, 0, 0, 0, 0, 0, 0, 0, 0, 0, 0, 0, 0, 0, 0, 0, 0, 0, 0, 0, 0, 0, 0, 0, 0, 0, 0, 0, 0, 0, 0, 0, 0, 0, 0, 0, 0, 0, 0, 0, 0, 0, 0, 0, 0, 0, 0, 0, 0, 0, 0, 0, 0, 0, 0, 0, 0, 0, 0, 0, 0, 0, 0, 0, 0, 0, 0, 0, 0, 0, 0, 0, 0, 0, 0, ...]</td>\n",
              "    </tr>\n",
              "    <tr>\n",
              "      <th>1</th>\n",
              "      <td>DONGGUAN SHENGYA CLEANING APPLIAME CO.LTD</td>\n",
              "      <td>CHINA</td>\n",
              "      <td>TMT</td>\n",
              "      <td>consumer electronics</td>\n",
              "      <td>consumer electronics_distributor</td>\n",
              "      <td>DOWNSTREAM</td>\n",
              "      <td>Yatai's main products cover various cleaning machinery, cleaning agents, cleaning tools, stone maintenance and other cleaning products; cleaning solutions and services include product technical consultation, product customization, employee training, maintenance and so on.</td>\n",
              "      <td>273</td>\n",
              "      <td>[6, 8, 20, 3]</td>\n",
              "      <td>[YATAI, MAIN, PRODUCT, COVER, CLEANING, MACHINERY, CLEAN, AGENT, CLEAN, TOOL, STONE, MAINTENANCE, CLEANING, PRODUCT, CLEAN, SOLUTION, SERVICE, INCLUDE, PRODUCT, TECHNICAL, CONSULTATION, PRODUCT, CUSTOMIZATION, EMPLOYEE, TRAINING, MAINTENANCE]</td>\n",
              "      <td>[0, 0, 0, 0, 0, 0, 0, 0, 0, 0, 0, 0, 0, 0, 0, 0, 0, 0, 0, 0, 0, 0, 0, 0, 0, 0, 0, 0, 0, 0, 0, 0, 0, 0, 0, 0, 0, 0, 0, 0, 0, 0, 0, 0, 0, 0, 0, 0, 0, 0, 0, 0, 0, 0, 0, 0, 0, 0, 0, 0, 0, 0, 0, 0, 0, 0, 0, 0, 0, 0, 0, 0, 0, 0, 0, 0, 0, 0, 0, 0, 0, 0, 0, 0, 0, 0, 0, 0, 0, 0, 0, 0, 0, 0, 0, 0, 0, 0, 0, 0, ...]</td>\n",
              "    </tr>\n",
              "    <tr>\n",
              "      <th>2</th>\n",
              "      <td>EXIS TECH SDN. BHD.</td>\n",
              "      <td>MALAYSIA</td>\n",
              "      <td>OOS</td>\n",
              "      <td>others</td>\n",
              "      <td>others</td>\n",
              "      <td></td>\n",
              "      <td>In the beginning, it started off by providing technical support for test handlers, then moving into module design and production. Its first, in-house designed, full-fledged handler was introduced in 2008. Since then, the company has designed and produced a wide range of turret and pick-and-place solutions for its customers all over the world.</td>\n",
              "      <td>344</td>\n",
              "      <td>[4, 24, 64, 0]</td>\n",
              "      <td>[BEGINNING, START, PROVIDE, TECHNICAL, SUPPORT, TEST, HANDLER, MOVE, MODULE, DESIGN, PRODUCTION, IN-HOUSE, DESIGN, FULL-FLEDGED, HANDLER, INTRODUCE, COMPANY, DESIGN, PRODUCE, WIDE, RANGE, TURRET, PICK-AND-PLACE, SOLUTION, CUSTOMER, WORLD]</td>\n",
              "      <td>[0, 0, 0, 0, 0, 0, 0, 0, 0, 0, 0, 0, 0, 0, 0, 0, 0, 0, 0, 0, 0, 0, 0, 0, 0, 0, 0, 0, 0, 0, 0, 0, 0, 0, 0, 0, 0, 0, 0, 0, 0, 0, 0, 0, 0, 0, 0, 0, 0, 0, 0, 0, 0, 0, 0, 0, 0, 0, 0, 0, 0, 0, 0, 0, 0, 0, 0, 0, 0, 0, 0, 0, 0, 0, 0, 0, 0, 0, 0, 0, 0, 0, 0, 0, 0, 0, 0, 0, 0, 0, 0, 0, 0, 0, 0, 0, 0, 0, 0, 0, ...]</td>\n",
              "    </tr>\n",
              "    <tr>\n",
              "      <th>4</th>\n",
              "      <td>Aztech Electronics Pte Ltd</td>\n",
              "      <td>SINGAPORE</td>\n",
              "      <td>TMT</td>\n",
              "      <td>consumer electronics</td>\n",
              "      <td>consumer electronics_distributor</td>\n",
              "      <td>DOWNSTREAM</td>\n",
              "      <td>Being a turnkey, one-stop integrated solutions provider based in Singapore, Aztech is equipped with state-of-the-art equipment, R&amp;D, design, manufacturing and packaging capabilities to deliver a seamless, unified experience. Each and every time. Always striving towards the edge of technology for more than 34 years, we have been building capabilities to serve clients’ manufacturing needs, including the consumer electronics, telecommunications, healthtech, LED lighting, automotive and technology start-up market segments.</td>\n",
              "      <td>524</td>\n",
              "      <td>[6, 8, 20, 3]</td>\n",
              "      <td>[TURNKEY, ONE-STOP, INTEGRATE, SOLUTION, PROVIDER, BASE, SINGAPORE, AZTECH, EQUIP, STATE-OF-THE-ART, EQUIPMENT, R&amp;D, DESIGN, MANUFACTURING, PACKAGING, CAPABILITY, DELIVER, SEAMLESS, UNIFIED, EXPERIENCE, TIME, STRIVE, EDGE, TECHNOLOGY, YEAR, BUILD, CAPABILITY, SERVE, CLIENT, MANUFACTURING, NEED, INCLUDE, CONSUMER, ELECTRONIC, TELECOMMUNICATION, HEALTHTECH, LEAD, LIGHTING, AUTOMOTIVE, TECHNOLOGY, START-UP, MARKET, SEGMENT]</td>\n",
              "      <td>[0, 0, 0, 0, 0, 0, 0, 0, 0, 0, 0, 0, 0, 0, 0, 0, 0, 0, 0, 0, 0, 0, 0, 0, 0, 0, 0, 0, 0, 0, 0, 0, 0, 0, 0, 0, 0, 0, 0, 0, 0, 0, 0, 0, 0, 0, 0, 0, 0, 0, 0, 0, 0, 0, 0, 0, 0, 0, 0, 0, 0, 0, 0, 0, 0, 0, 0, 0, 0, 0, 0, 0, 0, 0, 0, 0, 0, 0, 0, 0, 0, 0, 0, 0, 0, 0, 0, 0, 0, 0, 0, 0, 0, 0, 0, 0, 0, 0, 0, 0, ...]</td>\n",
              "    </tr>\n",
              "    <tr>\n",
              "      <th>5</th>\n",
              "      <td>TONGDUN INTERNATIONAL PTE LTD</td>\n",
              "      <td>SINGAPORE</td>\n",
              "      <td>TMT</td>\n",
              "      <td>it_services</td>\n",
              "      <td>it_services</td>\n",
              "      <td>MIDSTREAM</td>\n",
              "      <td>Tongdun Technology is a professional third-party intelligent risk management and decision-making service provider headquartered in Hangzhou, Zhejiang. By integrating artificial intelligence into business scenarios, Tongdun Technology offers solutions in intelligent user analysis, intelligent risk management, intelligent antifraud and intelligent operation to clients from various industries including financial industry, internet business, logistics, healthcare, retail, smart cities and government bodies. Over 10,000 corporate clients have chosen Tongdun Technology’s products and services</td>\n",
              "      <td>593</td>\n",
              "      <td>[6, 17, 46, 5]</td>\n",
              "      <td>[TONGDUN, TECHNOLOGY, PROFESSIONAL, THIRD-PARTY, INTELLIGENT, RISK, MANAGEMENT, DECISION-MAKING, SERVICE, PROVIDER, HEADQUARTER, HANGZHOU, ZHEJIANG, INTEGRATE, ARTIFICIAL, INTELLIGENCE, BUSINESS, SCENARIO, TONGDUN, TECHNOLOGY, OFFER, SOLUTION, INTELLIGENT, USER, ANALYSIS, INTELLIGENT, RISK, MANAGEMENT, INTELLIGENT, ANTIFRAUD, INTELLIGENT, OPERATION, CLIENT, INDUSTRY, INCLUDE, FINANCIAL, INDUSTRY, INTERNET, BUSINESS, LOGISTIC, HEALTHCARE, RETAIL, SMART, CITY, GOVERNMENT, BODY, CORPORATE, CLIENT, CHOOSE, TONGDUN, TECHNOLOGY, PRODUCT, SERVICE]</td>\n",
              "      <td>[0, 0, 0, 0, 0, 0, 0, 0, 0, 0, 0, 0, 0, 0, 0, 0, 0, 0, 0, 0, 0, 0, 0, 0, 0, 0, 0, 0, 0, 0, 0, 0, 0, 0, 0, 0, 0, 0, 0, 0, 0, 0, 0, 0, 0, 0, 0, 0, 0, 0, 0, 0, 0, 0, 0, 0, 0, 0, 0, 0, 0, 0, 0, 0, 0, 0, 0, 0, 0, 0, 0, 0, 0, 0, 0, 0, 0, 0, 0, 0, 0, 0, 0, 0, 0, 0, 0, 0, 0, 0, 0, 0, 0, 0, 0, 0, 0, 0, 0, 0, ...]</td>\n",
              "    </tr>\n",
              "    <tr>\n",
              "      <th>...</th>\n",
              "      <td>...</td>\n",
              "      <td>...</td>\n",
              "      <td>...</td>\n",
              "      <td>...</td>\n",
              "      <td>...</td>\n",
              "      <td>...</td>\n",
              "      <td>...</td>\n",
              "      <td>...</td>\n",
              "      <td>...</td>\n",
              "      <td>...</td>\n",
              "      <td>...</td>\n",
              "    </tr>\n",
              "    <tr>\n",
              "      <th>6595</th>\n",
              "      <td>PAN ENERGY PTE. LTD.</td>\n",
              "      <td>SINGAPORE</td>\n",
              "      <td>ONG</td>\n",
              "      <td>ong_traders</td>\n",
              "      <td>bunker trader</td>\n",
              "      <td>DOWNSTREAM</td>\n",
              "      <td>PAN ENERGY is an ACRA-registered entity that has been operating for 5 years 7 months in Singapore since its incorporation y in 2015. Officially, PAN ENERGY PTE. LTD. is registered as Exempt Private Limited Company with its address in District 9 (Orchard, Cairnhill, River Valley), primarily operates in the sector of \"SHIPPING LINES (SCHEDULED SERVICES)\", SSIC code - 50021 SHIP BUNKERING</td>\n",
              "      <td>388</td>\n",
              "      <td>[3, 23, 12, 3]</td>\n",
              "      <td>[PAN, ENERGY, ACRA-REGISTERED, ENTITY, OPERATE, YEAR, MONTH, SINGAPORE, INCORPORATION, Y, OFFICIALLY, PAN, ENERGY, PTE, LTD, REGISTER, EXEMPT, PRIVATE, LIMITED, COMPANY, ADDRESS, DISTRICT, ORCHARD, CAIRNHILL, RIVER, VALLEY, PRIMARILY, OPERATE, SECTOR, SHIPPING, LINES, SCHEDULED, SERVICES, SSIC, CODE, SHIP, BUNKERING]</td>\n",
              "      <td>[0, 0, 0, 0, 0, 0, 0, 0, 0, 0, 0, 0, 0, 0, 0, 0, 0, 0, 0, 0, 0, 0, 0, 0, 0, 0, 0, 0, 0, 0, 0, 0, 0, 0, 0, 0, 0, 0, 0, 0, 0, 0, 0, 0, 0, 0, 0, 0, 0, 0, 0, 0, 0, 0, 0, 0, 0, 0, 0, 0, 0, 0, 0, 0, 0, 0, 0, 0, 0, 0, 0, 0, 0, 0, 0, 0, 0, 0, 0, 0, 0, 0, 0, 0, 0, 0, 0, 0, 0, 0, 0, 0, 0, 0, 0, 0, 0, 0, 0, 0, ...]</td>\n",
              "    </tr>\n",
              "    <tr>\n",
              "      <th>6596</th>\n",
              "      <td>TRIM INTERNATIONAL CO.,LTD.</td>\n",
              "      <td>THAILAND</td>\n",
              "      <td>OOS</td>\n",
              "      <td>others</td>\n",
              "      <td>others</td>\n",
              "      <td></td>\n",
              "      <td>Established in 2000, TI has grown to become one of Southeast Asia's leaders in leather cut and sewn furniture covers.</td>\n",
              "      <td>118</td>\n",
              "      <td>[4, 24, 64, 0]</td>\n",
              "      <td>[ , ESTABLISH, TI, GROW, SOUTHEAST, ASIA, LEADER, LEATHER, CUT, SEW, FURNITURE, COVER]</td>\n",
              "      <td>[0, 0, 0, 0, 0, 0, 0, 0, 0, 0, 0, 0, 0, 0, 0, 0, 0, 0, 0, 0, 0, 0, 0, 0, 0, 0, 0, 0, 0, 0, 0, 0, 0, 0, 0, 0, 0, 0, 0, 0, 0, 0, 0, 0, 0, 0, 0, 0, 0, 0, 0, 0, 0, 0, 0, 0, 0, 0, 0, 0, 0, 0, 0, 0, 0, 0, 0, 0, 0, 0, 0, 0, 0, 0, 0, 0, 0, 0, 0, 0, 0, 0, 0, 0, 0, 0, 0, 0, 0, 0, 0, 0, 0, 0, 0, 0, 0, 0, 0, 0, ...]</td>\n",
              "    </tr>\n",
              "    <tr>\n",
              "      <th>6597</th>\n",
              "      <td>SIAK SIONG CONSTRUCTION SDN BHD</td>\n",
              "      <td>MALAYSIA</td>\n",
              "      <td>REH</td>\n",
              "      <td>commercial</td>\n",
              "      <td>commercial_integrated player</td>\n",
              "      <td>MIDSTREAM</td>\n",
              "      <td>Siak Siong Group is an established group specialised in construction industry with diversity in engineering industry, real estate development, building materials industry, plantation and Real Estate Investment and Management industry.</td>\n",
              "      <td>234</td>\n",
              "      <td>[5, 7, 16, 5]</td>\n",
              "      <td>[SIAK, SIONG, GROUP, ESTABLISHED, GROUP, SPECIALISE, CONSTRUCTION, INDUSTRY, DIVERSITY, ENGINEERING, INDUSTRY, REAL, ESTATE, DEVELOPMENT, BUILDING, MATERIAL, INDUSTRY, PLANTATION, REAL, ESTATE, INVESTMENT, MANAGEMENT, INDUSTRY]</td>\n",
              "      <td>[0, 0, 0, 0, 0, 0, 0, 0, 0, 0, 0, 0, 0, 0, 0, 0, 0, 0, 0, 0, 0, 0, 0, 0, 0, 0, 0, 0, 0, 0, 0, 0, 0, 0, 0, 0, 0, 0, 0, 0, 0, 0, 0, 0, 0, 0, 0, 0, 0, 0, 0, 0, 0, 0, 0, 0, 0, 0, 0, 0, 0, 0, 0, 0, 0, 0, 0, 0, 0, 0, 0, 0, 0, 0, 0, 0, 0, 0, 0, 0, 0, 0, 0, 0, 0, 0, 0, 0, 0, 0, 0, 0, 0, 0, 0, 0, 0, 0, 0, 0, ...]</td>\n",
              "    </tr>\n",
              "    <tr>\n",
              "      <th>6598</th>\n",
              "      <td>KIJ THAWEE PATTANA CO.,LTD.</td>\n",
              "      <td>THAILAND</td>\n",
              "      <td>REH</td>\n",
              "      <td>commercial</td>\n",
              "      <td>commercial_operator</td>\n",
              "      <td>DOWNSTREAM</td>\n",
              "      <td>Rental, purchase, sale and real estate operations</td>\n",
              "      <td>49</td>\n",
              "      <td>[5, 7, 17, 3]</td>\n",
              "      <td>[RENTAL, PURCHASE, SALE, REAL, ESTATE, OPERATION]</td>\n",
              "      <td>[0, 0, 0, 0, 0, 0, 0, 0, 0, 0, 0, 0, 0, 0, 0, 0, 0, 0, 0, 0, 0, 0, 0, 0, 0, 0, 0, 0, 0, 0, 0, 0, 0, 0, 0, 0, 0, 0, 0, 0, 0, 0, 0, 0, 0, 0, 0, 0, 0, 0, 0, 0, 0, 0, 0, 0, 0, 0, 0, 0, 0, 0, 0, 0, 0, 0, 0, 0, 0, 0, 0, 0, 0, 0, 0, 0, 0, 0, 0, 0, 0, 0, 0, 0, 0, 0, 0, 0, 0, 0, 0, 0, 0, 0, 0, 0, 0, 0, 0, 0, ...]</td>\n",
              "    </tr>\n",
              "    <tr>\n",
              "      <th>6599</th>\n",
              "      <td>CNI ENGINEERING &amp; CONSTRUCTION MALAYSIA SDN. BHD.</td>\n",
              "      <td>MALAYSIA</td>\n",
              "      <td>ONG</td>\n",
              "      <td>o&amp;g_service providers/contractors</td>\n",
              "      <td>o&amp;g upstream service provider</td>\n",
              "      <td>UPSTREAM</td>\n",
              "      <td>ENGINEERING, PROCUREMENT, CONSTRUCTION,SERVICE FABRICATION AND MAINTENANCE WORKS FOR MECHANICAL, ELECTRICAL AND ERECTION RELATED TO OIL AND GAS, POWER, PETROCHEMICAL AND RENEWABLE ENERGY PROJECTS</td>\n",
              "      <td>195</td>\n",
              "      <td>[3, 22, 59, 7]</td>\n",
              "      <td>[ENGINEERING, PROCUREMENT, CONSTRUCTION, SERVICE, FABRICATION, MAINTENANCE, WORKS, MECHANICAL, ELECTRICAL, ERECTION, RELATE, OIL, GAS, POWER, PETROCHEMICAL, RENEWABLE, ENERGY, PROJECT]</td>\n",
              "      <td>[0, 0, 0, 0, 0, 0, 0, 0, 0, 0, 0, 0, 0, 0, 0, 0, 0, 0, 0, 0, 0, 0, 0, 0, 0, 0, 0, 0, 0, 0, 0, 0, 0, 0, 0, 0, 0, 0, 0, 0, 0, 0, 0, 0, 0, 0, 0, 0, 0, 0, 0, 0, 0, 0, 0, 0, 0, 0, 0, 0, 0, 0, 0, 0, 0, 0, 0, 0, 0, 0, 0, 0, 0, 0, 0, 0, 0, 0, 0, 0, 0, 0, 0, 0, 0, 0, 0, 0, 0, 0, 0, 0, 0, 0, 0, 0, 0, 0, 0, 0, ...]</td>\n",
              "    </tr>\n",
              "  </tbody>\n",
              "</table>\n",
              "<p>5745 rows × 11 columns</p>\n",
              "</div>"
            ],
            "text/plain": [
              "                                                Company  ...                                                                                                                                                                                                                                                                                                        BoW_vectors\n",
              "0                      AKSORN CHAROEN TAT ACT. CO.,LTD.  ...  [0, 0, 0, 0, 0, 0, 0, 0, 0, 0, 0, 0, 0, 0, 0, 0, 0, 0, 0, 0, 0, 0, 0, 0, 0, 0, 0, 0, 0, 0, 0, 0, 0, 0, 0, 0, 0, 0, 0, 0, 0, 0, 0, 0, 0, 0, 0, 0, 0, 0, 0, 0, 0, 0, 0, 0, 0, 0, 0, 0, 0, 0, 0, 0, 0, 0, 0, 0, 0, 0, 0, 0, 0, 0, 0, 0, 0, 0, 0, 0, 0, 0, 0, 0, 0, 0, 0, 0, 0, 0, 0, 0, 0, 0, 0, 0, 0, 0, 0, 0, ...]\n",
              "1             DONGGUAN SHENGYA CLEANING APPLIAME CO.LTD  ...  [0, 0, 0, 0, 0, 0, 0, 0, 0, 0, 0, 0, 0, 0, 0, 0, 0, 0, 0, 0, 0, 0, 0, 0, 0, 0, 0, 0, 0, 0, 0, 0, 0, 0, 0, 0, 0, 0, 0, 0, 0, 0, 0, 0, 0, 0, 0, 0, 0, 0, 0, 0, 0, 0, 0, 0, 0, 0, 0, 0, 0, 0, 0, 0, 0, 0, 0, 0, 0, 0, 0, 0, 0, 0, 0, 0, 0, 0, 0, 0, 0, 0, 0, 0, 0, 0, 0, 0, 0, 0, 0, 0, 0, 0, 0, 0, 0, 0, 0, 0, ...]\n",
              "2                                   EXIS TECH SDN. BHD.  ...  [0, 0, 0, 0, 0, 0, 0, 0, 0, 0, 0, 0, 0, 0, 0, 0, 0, 0, 0, 0, 0, 0, 0, 0, 0, 0, 0, 0, 0, 0, 0, 0, 0, 0, 0, 0, 0, 0, 0, 0, 0, 0, 0, 0, 0, 0, 0, 0, 0, 0, 0, 0, 0, 0, 0, 0, 0, 0, 0, 0, 0, 0, 0, 0, 0, 0, 0, 0, 0, 0, 0, 0, 0, 0, 0, 0, 0, 0, 0, 0, 0, 0, 0, 0, 0, 0, 0, 0, 0, 0, 0, 0, 0, 0, 0, 0, 0, 0, 0, 0, ...]\n",
              "4                            Aztech Electronics Pte Ltd  ...  [0, 0, 0, 0, 0, 0, 0, 0, 0, 0, 0, 0, 0, 0, 0, 0, 0, 0, 0, 0, 0, 0, 0, 0, 0, 0, 0, 0, 0, 0, 0, 0, 0, 0, 0, 0, 0, 0, 0, 0, 0, 0, 0, 0, 0, 0, 0, 0, 0, 0, 0, 0, 0, 0, 0, 0, 0, 0, 0, 0, 0, 0, 0, 0, 0, 0, 0, 0, 0, 0, 0, 0, 0, 0, 0, 0, 0, 0, 0, 0, 0, 0, 0, 0, 0, 0, 0, 0, 0, 0, 0, 0, 0, 0, 0, 0, 0, 0, 0, 0, ...]\n",
              "5                         TONGDUN INTERNATIONAL PTE LTD  ...  [0, 0, 0, 0, 0, 0, 0, 0, 0, 0, 0, 0, 0, 0, 0, 0, 0, 0, 0, 0, 0, 0, 0, 0, 0, 0, 0, 0, 0, 0, 0, 0, 0, 0, 0, 0, 0, 0, 0, 0, 0, 0, 0, 0, 0, 0, 0, 0, 0, 0, 0, 0, 0, 0, 0, 0, 0, 0, 0, 0, 0, 0, 0, 0, 0, 0, 0, 0, 0, 0, 0, 0, 0, 0, 0, 0, 0, 0, 0, 0, 0, 0, 0, 0, 0, 0, 0, 0, 0, 0, 0, 0, 0, 0, 0, 0, 0, 0, 0, 0, ...]\n",
              "...                                                 ...  ...                                                                                                                                                                                                                                                                                                                ...\n",
              "6595                               PAN ENERGY PTE. LTD.  ...  [0, 0, 0, 0, 0, 0, 0, 0, 0, 0, 0, 0, 0, 0, 0, 0, 0, 0, 0, 0, 0, 0, 0, 0, 0, 0, 0, 0, 0, 0, 0, 0, 0, 0, 0, 0, 0, 0, 0, 0, 0, 0, 0, 0, 0, 0, 0, 0, 0, 0, 0, 0, 0, 0, 0, 0, 0, 0, 0, 0, 0, 0, 0, 0, 0, 0, 0, 0, 0, 0, 0, 0, 0, 0, 0, 0, 0, 0, 0, 0, 0, 0, 0, 0, 0, 0, 0, 0, 0, 0, 0, 0, 0, 0, 0, 0, 0, 0, 0, 0, ...]\n",
              "6596                        TRIM INTERNATIONAL CO.,LTD.  ...  [0, 0, 0, 0, 0, 0, 0, 0, 0, 0, 0, 0, 0, 0, 0, 0, 0, 0, 0, 0, 0, 0, 0, 0, 0, 0, 0, 0, 0, 0, 0, 0, 0, 0, 0, 0, 0, 0, 0, 0, 0, 0, 0, 0, 0, 0, 0, 0, 0, 0, 0, 0, 0, 0, 0, 0, 0, 0, 0, 0, 0, 0, 0, 0, 0, 0, 0, 0, 0, 0, 0, 0, 0, 0, 0, 0, 0, 0, 0, 0, 0, 0, 0, 0, 0, 0, 0, 0, 0, 0, 0, 0, 0, 0, 0, 0, 0, 0, 0, 0, ...]\n",
              "6597                    SIAK SIONG CONSTRUCTION SDN BHD  ...  [0, 0, 0, 0, 0, 0, 0, 0, 0, 0, 0, 0, 0, 0, 0, 0, 0, 0, 0, 0, 0, 0, 0, 0, 0, 0, 0, 0, 0, 0, 0, 0, 0, 0, 0, 0, 0, 0, 0, 0, 0, 0, 0, 0, 0, 0, 0, 0, 0, 0, 0, 0, 0, 0, 0, 0, 0, 0, 0, 0, 0, 0, 0, 0, 0, 0, 0, 0, 0, 0, 0, 0, 0, 0, 0, 0, 0, 0, 0, 0, 0, 0, 0, 0, 0, 0, 0, 0, 0, 0, 0, 0, 0, 0, 0, 0, 0, 0, 0, 0, ...]\n",
              "6598                        KIJ THAWEE PATTANA CO.,LTD.  ...  [0, 0, 0, 0, 0, 0, 0, 0, 0, 0, 0, 0, 0, 0, 0, 0, 0, 0, 0, 0, 0, 0, 0, 0, 0, 0, 0, 0, 0, 0, 0, 0, 0, 0, 0, 0, 0, 0, 0, 0, 0, 0, 0, 0, 0, 0, 0, 0, 0, 0, 0, 0, 0, 0, 0, 0, 0, 0, 0, 0, 0, 0, 0, 0, 0, 0, 0, 0, 0, 0, 0, 0, 0, 0, 0, 0, 0, 0, 0, 0, 0, 0, 0, 0, 0, 0, 0, 0, 0, 0, 0, 0, 0, 0, 0, 0, 0, 0, 0, 0, ...]\n",
              "6599  CNI ENGINEERING & CONSTRUCTION MALAYSIA SDN. BHD.  ...  [0, 0, 0, 0, 0, 0, 0, 0, 0, 0, 0, 0, 0, 0, 0, 0, 0, 0, 0, 0, 0, 0, 0, 0, 0, 0, 0, 0, 0, 0, 0, 0, 0, 0, 0, 0, 0, 0, 0, 0, 0, 0, 0, 0, 0, 0, 0, 0, 0, 0, 0, 0, 0, 0, 0, 0, 0, 0, 0, 0, 0, 0, 0, 0, 0, 0, 0, 0, 0, 0, 0, 0, 0, 0, 0, 0, 0, 0, 0, 0, 0, 0, 0, 0, 0, 0, 0, 0, 0, 0, 0, 0, 0, 0, 0, 0, 0, 0, 0, 0, ...]\n",
              "\n",
              "[5745 rows x 11 columns]"
            ]
          },
          "metadata": {
            "tags": []
          },
          "execution_count": 31
        }
      ]
    },
    {
      "cell_type": "code",
      "metadata": {
        "id": "GynU6j-bLgdn",
        "colab": {
          "base_uri": "https://localhost:8080/"
        },
        "outputId": "1050631f-cf06-430d-8eb0-25f5d2b960a2"
      },
      "source": [
        "# clean up BoW data \n",
        "temp = 0\n",
        "for index, row in df_valid.iterrows():\n",
        "    if sum(row['BoW_vectors']) < 1:\n",
        "        df_valid.drop(index, inplace=True)\n",
        "\n",
        "df_valid.shape"
      ],
      "execution_count": 32,
      "outputs": [
        {
          "output_type": "execute_result",
          "data": {
            "text/plain": [
              "(4476, 11)"
            ]
          },
          "metadata": {
            "tags": []
          },
          "execution_count": 32
        }
      ]
    },
    {
      "cell_type": "code",
      "metadata": {
        "id": "PRqhGoiB23xJ",
        "outputId": "aa9ff256-8119-443a-822b-c8325e86e880",
        "colab": {
          "base_uri": "https://localhost:8080/",
          "height": 1000
        }
      },
      "source": [
        "# import validation dataset\n",
        "df_test = pd.read_excel('./val_dataset.xlsx')\n",
        "df_test.replace('NAN', np.NaN, inplace=True)\n",
        "\n",
        "# drop unnecessary columns\n",
        "df_test.drop(rows_to_drop, axis=1, inplace=True)\n",
        "\n",
        "# replace newline characters in validation data\n",
        "df_test = df_test = df_test.replace('\\n', ' ', regex=True)\n",
        "\n",
        "# fill in NAN values in validation data\n",
        "df_test.fillna(' ', inplace=True)\n",
        "\n",
        "# change dtype of validation data columns\n",
        "for i in columns_to_convert:\n",
        "    df_valid[i] = df_valid[i].astype(str)\n",
        "    \n",
        "# process validation dataset\n",
        "df_test['Valuechain'] = df_test['Valuechain'].str.split().str.join(' ')\n",
        "df_test['Valuechain'] = df_test['Valuechain'].str.upper()\n",
        "df_test['Sector'] = df_test['Sector'].str.upper()\n",
        "df_test['Valuechain'].replace('', ' ', inplace=True)\n",
        "\n",
        "# add tags to validation data\n",
        "taglist_df = []\n",
        "# process tags for records\n",
        "for index, row in df_test.iterrows():\n",
        "    temp = []\n",
        "\n",
        "    try: # for error handling\n",
        "        temp.append(np.where(sector == row['Sector'])[0][0])\n",
        "        temp.append(np.where(subsector == row['Subsector'])[0][0])\n",
        "        temp.append(np.where(archetype == row['Archetype'])[0][0])\n",
        "        temp.append(np.where(valuechain == row['Valuechain'])[0][0])\n",
        "\n",
        "        taglist_df.append(temp)\n",
        "    except Exception as e:\n",
        "        # drop data if not valid\n",
        "        print(row.name, e, '\\n')\n",
        "        df_test.drop(index, inplace=True)\n",
        "\n",
        "df_test['list_tag'] = taglist_df\n",
        "\n",
        "# run spacy on validation data\n",
        "evaluate_doc = list(nlp.pipe(df_test['Company Profile Information']))\n",
        "\n",
        "# add spacy processed words and vectors to validation dataframe\n",
        "df_test['processed'] = [doc._.processed for doc in evaluate_doc]\n",
        "df_test['tok2vec_vectors'] = [doc.vector for doc in evaluate_doc]\n",
        "\n",
        "# do bow processing\n",
        "bow_vectors = []\n",
        "for index, row in df_test.iterrows():\n",
        "    company = row['processed']\n",
        "\n",
        "    dictionary = dict.fromkeys(keywords_masterlist, 0)\n",
        "    for word in company:\n",
        "        if word in keywords_masterlist:\n",
        "            dictionary[word] += 1\n",
        "\n",
        "    # append to dataframe\n",
        "    bow_vectors.append(list(dictionary.values()))\n",
        "\n",
        "df_test['BoW_vectors'] = bow_vectors\n",
        "\n",
        "# clean up BoW data \n",
        "temp = 0\n",
        "for index, row in df_test.iterrows():\n",
        "    if sum(row['BoW_vectors']) < 1:\n",
        "        df_test.drop(index, inplace=True)\n",
        "\n",
        "df_test.head(3)"
      ],
      "execution_count": 33,
      "outputs": [
        {
          "output_type": "execute_result",
          "data": {
            "text/html": [
              "<div>\n",
              "<style scoped>\n",
              "    .dataframe tbody tr th:only-of-type {\n",
              "        vertical-align: middle;\n",
              "    }\n",
              "\n",
              "    .dataframe tbody tr th {\n",
              "        vertical-align: top;\n",
              "    }\n",
              "\n",
              "    .dataframe thead th {\n",
              "        text-align: right;\n",
              "    }\n",
              "</style>\n",
              "<table border=\"1\" class=\"dataframe\">\n",
              "  <thead>\n",
              "    <tr style=\"text-align: right;\">\n",
              "      <th></th>\n",
              "      <th>Company</th>\n",
              "      <th>Country</th>\n",
              "      <th>Sector</th>\n",
              "      <th>Subsector</th>\n",
              "      <th>Archetype</th>\n",
              "      <th>Valuechain</th>\n",
              "      <th>Company Profile Information</th>\n",
              "      <th>list_tag</th>\n",
              "      <th>processed</th>\n",
              "      <th>tok2vec_vectors</th>\n",
              "      <th>BoW_vectors</th>\n",
              "    </tr>\n",
              "  </thead>\n",
              "  <tbody>\n",
              "    <tr>\n",
              "      <th>0</th>\n",
              "      <td>BANGKOK ROLLER CO., LTD.</td>\n",
              "      <td>THAILAND</td>\n",
              "      <td>OOS</td>\n",
              "      <td>others</td>\n",
              "      <td>others</td>\n",
              "      <td></td>\n",
              "      <td>Bangkok Roller Co., Ltd. is the leading manufacturer and supplier of supplier rolls in Thailand. For over 20 years, we have been trusted by local and overseas customer. Our Rubber roll products have been major role in many manufacturing industries such as paper, steel sheets, textiles, plastic, films, printing, packaging product, and many more. Furthermore, our reputable rubber roll products have been parted in reducing the import of high priced rubber rolls from overseas.</td>\n",
              "      <td>[4, 24, 64, 0]</td>\n",
              "      <td>[BANGKOK, ROLLER, CO., LTD., LEAD, MANUFACTURER, SUPPLIER, SUPPLIER, ROLL, THAILAND, YEAR, TRUST, LOCAL, OVERSEAS, CUSTOMER, RUBBER, ROLL, PRODUCT, MAJOR, ROLE, MANUFACTURING, INDUSTRY, PAPER, STEEL, SHEET, TEXTILE, PLASTIC, FILM, PRINTING, PACKAGING, PRODUCT, FURTHERMORE, REPUTABLE, RUBBER, ROLL, PRODUCT, PART, REDUCE, IMPORT, HIGH, PRICE, RUBBER, ROLL, OVERSEAS]</td>\n",
              "      <td>[-0.056447383, 0.21101695, -0.031103438, -0.17660287, 0.16936646, 0.029999636, -0.02729656, -0.11956256, -0.13651244, 1.8386289, -0.15647945, 0.029125435, 0.11581242, -0.1224828, -0.075444, -0.093223214, 0.06679476, 1.3783227, -0.15340182, 0.13426617, -0.05553677, 0.0733473, -0.05833775, 0.046665534, -0.011252216, 0.015606452, -0.10524113, -0.03883239, 0.012557545, -0.07256938, 0.104613096, 0.06876958, -0.11247012, 0.08075604, 0.10944588, -0.05372884, 0.014704669, -0.009136189, 0.08763046, -0.036022905, 0.03523675, 0.07158786, 0.049226988, -0.13759813, -0.08809008, 0.019306742, -0.09959378, -0.0792771, 0.12232084, -0.004915998, 0.07396954, -0.029459797, -0.03244562, -0.025194354, -0.022714354, -0.052229084, 0.035303228, -0.118275955, 0.015565012, -0.10310424, 0.008569539, -0.14869425, -0.024494044, 0.18901749, 0.079915404, -0.035579078, 0.06129637, 0.14250755, -0.016735168, 0.077657625, -0.02607618, 0.06608145, 0.077682376, 0.039997973, 0.091477185, 0.07980899, 0.0704945, 0.020879705, 0.081921235, 0.10234961, 0.039634015, 0.1061775, -0.11746443, -0.089563645, -0.027652077, -0.30871576, -0.046182428, 0.40071592, 0.19297376, 0.11824047, 0.010926973, -0.054769695, -0.017911289, 0.04894328, 0.12306946, -0.0728587, 0.07885992, -0.069001995, -0.11834788, -0.042323086, ...]</td>\n",
              "      <td>[0, 0, 0, 0, 0, 0, 0, 0, 0, 0, 0, 0, 0, 0, 0, 0, 0, 0, 0, 0, 0, 0, 0, 0, 0, 0, 0, 0, 0, 0, 0, 0, 0, 0, 0, 0, 0, 0, 0, 0, 0, 0, 0, 0, 0, 0, 0, 0, 0, 0, 0, 0, 0, 0, 0, 0, 0, 0, 0, 0, 0, 0, 0, 0, 0, 0, 0, 0, 0, 0, 0, 0, 0, 0, 0, 0, 0, 0, 0, 0, 0, 0, 0, 0, 0, 0, 0, 0, 0, 0, 0, 0, 0, 0, 0, 0, 0, 0, 0, 0, ...]</td>\n",
              "    </tr>\n",
              "    <tr>\n",
              "      <th>1</th>\n",
              "      <td>MJETS LIMITED</td>\n",
              "      <td>THAILAND</td>\n",
              "      <td>OOS</td>\n",
              "      <td>others</td>\n",
              "      <td>others</td>\n",
              "      <td></td>\n",
              "      <td>MJets currently operates the first and only FBO &amp; Private Jet Terminal in Thailand offering 7 distinct business lines. These include: aircraft charter, aircraft management, consultancy, maintenance &amp; AOG services, air ambulance, ground handling services and FBO facilities with VIP lounge. The highest of safety standards, world-class service and a personal touch are the things about us that have allowed MJets to continue to lead private aviation in Thailand and South-East Asia.</td>\n",
              "      <td>[4, 24, 64, 0]</td>\n",
              "      <td>[MJETS, CURRENTLY, OPERATE, FBO, PRIVATE, JET, TERMINAL, THAILAND, OFFER, DISTINCT, BUSINESS, LINE, INCLUDE, AIRCRAFT, CHARTER, AIRCRAFT, MANAGEMENT, CONSULTANCY, MAINTENANCE, AOG, SERVICE, AIR, AMBULANCE, GROUND, HANDLING, SERVICE, FBO, FACILITY, VIP, LOUNGE, HIGH, SAFETY, STANDARD, WORLD-CLASS, SERVICE, PERSONAL, TOUCH, THING, ALLOW, MJETS, CONTINUE, LEAD, PRIVATE, AVIATION, THAILAND, SOUTH-EAST, ASIA]</td>\n",
              "      <td>[0.0809934, 0.14199032, 0.028656067, -0.08420108, 0.20223913, -0.027773317, 0.032055527, -0.07215808, -0.0042647133, 1.8860918, -0.19495092, -0.075085916, 0.06470871, 0.018912286, -0.11437266, -0.08431523, -0.09094049, 1.2504501, -0.16896108, -0.012921025, -0.027268585, 0.087456286, -0.102900065, -0.116656445, 0.09514114, 0.023276709, -0.06993913, -0.015264425, 0.09763413, 0.014724674, 0.05217219, 0.022539778, -0.02333108, 0.09238883, 0.024357544, -0.12791446, -0.08248366, -0.0073084687, -0.044511795, -0.049822487, 0.023655523, 0.0031230908, 0.054980546, 0.011045002, -0.029635293, 0.09233701, -0.06413491, 0.03373935, 0.11590718, 0.033882607, 0.05610274, -0.08579245, -0.0060072695, 0.062290326, -0.11453266, 0.026217472, 0.036879808, -0.020318966, 0.02137824, -0.015835902, 0.107629314, -0.029153341, -0.04828099, 0.075999826, 0.06136432, 0.044858497, 0.033070665, 0.10833289, -0.06731815, 0.07160718, -0.044524748, 0.056041792, 0.085500725, 0.017022321, 0.044079117, 0.09516215, 0.041591227, -0.019637622, 0.048503276, 0.1222938, 0.014914673, 0.049736574, -0.09350921, 0.016503997, -0.03455162, -0.12375457, -0.11096153, 0.2647084, 0.19840854, -0.0038614175, -0.04129903, -0.009055517, 0.022909619, -0.1390808, 0.07901039, -0.022696584, 0.010263185, 0.016300732, -0.08198599, -0.008890738, ...]</td>\n",
              "      <td>[0, 0, 0, 0, 0, 0, 0, 0, 0, 0, 0, 0, 0, 0, 0, 0, 0, 0, 0, 0, 0, 0, 0, 0, 0, 0, 0, 0, 0, 0, 0, 0, 0, 0, 0, 0, 0, 0, 0, 0, 0, 0, 0, 0, 0, 0, 0, 0, 0, 0, 0, 0, 0, 0, 0, 0, 0, 0, 0, 0, 0, 0, 0, 0, 0, 0, 0, 0, 0, 0, 0, 0, 0, 0, 0, 0, 0, 0, 0, 0, 0, 0, 0, 0, 0, 0, 0, 0, 0, 0, 0, 0, 0, 0, 0, 0, 0, 0, 0, 0, ...]</td>\n",
              "    </tr>\n",
              "    <tr>\n",
              "      <th>2</th>\n",
              "      <td>PH HOTEL HOLDINGS SDN. BHD.</td>\n",
              "      <td>MALAYSIA</td>\n",
              "      <td>REH</td>\n",
              "      <td>hotels and accommodation</td>\n",
              "      <td>hotels and accommodation_operator</td>\n",
              "      <td>DOWNSTREAM</td>\n",
              "      <td>BUSINESS OF HOTEL</td>\n",
              "      <td>[5, 13, 33, 3]</td>\n",
              "      <td>[BUSINESS, HOTEL]</td>\n",
              "      <td>[0.072841994, 0.33187333, 0.068784334, -0.6984733, 0.33929667, -0.052951664, 0.012110335, -0.14827667, 0.09298944, 2.7530334, -0.55992335, -0.045062333, -0.05552667, 0.042024, 0.04353568, -0.28627333, -0.12331266, 1.5180999, 0.008003314, -0.037982002, -0.14003667, 0.20375367, -0.30595034, -0.053818002, 0.278694, -0.12710701, -0.39349, 0.085733175, -0.19099666, 0.33909667, 0.42545602, -0.0010366639, 0.049761336, 0.101743005, 0.017928332, -0.057267305, -0.058781665, -0.1354, -0.3049581, 0.0036263317, -0.025654001, -0.028996328, -0.061290998, -0.131342, -0.057598665, 0.17505, 0.13372666, -0.03504333, 0.034769993, -0.06138933, -0.03917666, -0.22167234, 0.24079533, 0.19355465, -0.06293333, 0.074136995, 0.20887633, -0.130333, 0.058633666, -0.025297001, 0.43687668, -0.28205666, -0.13245368, 0.15691534, -0.017823339, -0.16842167, 0.014522001, 0.22757201, -0.26312932, 0.43170634, 0.04489733, -0.024505675, 0.15371583, 0.152208, 0.1359, 0.08978001, -0.038776666, -0.13542666, 0.042469334, 0.158469, 0.024011334, 0.18258034, 0.34465334, -0.24136668, -0.096826665, 0.105927, -0.40117332, 0.6363867, 0.23119967, -0.24847901, -0.20956333, 0.103603005, -0.34680665, -0.29365668, 0.28728068, -0.076507665, -0.25249532, -0.325536, -0.042646673, -0.085319996, ...]</td>\n",
              "      <td>[0, 0, 0, 0, 0, 0, 0, 0, 0, 0, 0, 0, 0, 0, 0, 0, 0, 0, 0, 0, 0, 0, 0, 0, 0, 0, 0, 0, 0, 0, 0, 0, 0, 0, 0, 0, 0, 0, 0, 0, 0, 0, 0, 0, 0, 0, 0, 0, 0, 0, 0, 0, 0, 0, 0, 0, 0, 0, 0, 0, 0, 0, 0, 0, 0, 0, 0, 0, 0, 0, 0, 0, 0, 0, 0, 0, 0, 0, 0, 0, 0, 0, 0, 0, 0, 0, 0, 0, 0, 0, 0, 0, 0, 0, 0, 0, 0, 0, 0, 0, ...]</td>\n",
              "    </tr>\n",
              "  </tbody>\n",
              "</table>\n",
              "</div>"
            ],
            "text/plain": [
              "                       Company  ...                                                                                                                                                                                                                                                                                                        BoW_vectors\n",
              "0     BANGKOK ROLLER CO., LTD.  ...  [0, 0, 0, 0, 0, 0, 0, 0, 0, 0, 0, 0, 0, 0, 0, 0, 0, 0, 0, 0, 0, 0, 0, 0, 0, 0, 0, 0, 0, 0, 0, 0, 0, 0, 0, 0, 0, 0, 0, 0, 0, 0, 0, 0, 0, 0, 0, 0, 0, 0, 0, 0, 0, 0, 0, 0, 0, 0, 0, 0, 0, 0, 0, 0, 0, 0, 0, 0, 0, 0, 0, 0, 0, 0, 0, 0, 0, 0, 0, 0, 0, 0, 0, 0, 0, 0, 0, 0, 0, 0, 0, 0, 0, 0, 0, 0, 0, 0, 0, 0, ...]\n",
              "1                MJETS LIMITED  ...  [0, 0, 0, 0, 0, 0, 0, 0, 0, 0, 0, 0, 0, 0, 0, 0, 0, 0, 0, 0, 0, 0, 0, 0, 0, 0, 0, 0, 0, 0, 0, 0, 0, 0, 0, 0, 0, 0, 0, 0, 0, 0, 0, 0, 0, 0, 0, 0, 0, 0, 0, 0, 0, 0, 0, 0, 0, 0, 0, 0, 0, 0, 0, 0, 0, 0, 0, 0, 0, 0, 0, 0, 0, 0, 0, 0, 0, 0, 0, 0, 0, 0, 0, 0, 0, 0, 0, 0, 0, 0, 0, 0, 0, 0, 0, 0, 0, 0, 0, 0, ...]\n",
              "2  PH HOTEL HOLDINGS SDN. BHD.  ...  [0, 0, 0, 0, 0, 0, 0, 0, 0, 0, 0, 0, 0, 0, 0, 0, 0, 0, 0, 0, 0, 0, 0, 0, 0, 0, 0, 0, 0, 0, 0, 0, 0, 0, 0, 0, 0, 0, 0, 0, 0, 0, 0, 0, 0, 0, 0, 0, 0, 0, 0, 0, 0, 0, 0, 0, 0, 0, 0, 0, 0, 0, 0, 0, 0, 0, 0, 0, 0, 0, 0, 0, 0, 0, 0, 0, 0, 0, 0, 0, 0, 0, 0, 0, 0, 0, 0, 0, 0, 0, 0, 0, 0, 0, 0, 0, 0, 0, 0, 0, ...]\n",
              "\n",
              "[3 rows x 11 columns]"
            ]
          },
          "metadata": {
            "tags": []
          },
          "execution_count": 33
        }
      ]
    },
    {
      "cell_type": "markdown",
      "metadata": {
        "id": "BOhie4yrqs4M"
      },
      "source": [
        "---\n",
        "---"
      ]
    },
    {
      "cell_type": "markdown",
      "metadata": {
        "id": "uXPxFhqqgX9f"
      },
      "source": [
        "# 5.Models"
      ]
    },
    {
      "cell_type": "markdown",
      "metadata": {
        "id": "3WeKbzLZrOew"
      },
      "source": [
        "### 5.1. Splitting into training and testing dataset.\n",
        "\n",
        "---\n",
        "\n",
        "Here, we will first split our training and testing dataset by a ration of 8:2 respectively."
      ]
    },
    {
      "cell_type": "code",
      "metadata": {
        "id": "hi2lRa6pgWtj",
        "colab": {
          "base_uri": "https://localhost:8080/"
        },
        "outputId": "e8fdb202-22e7-4f0f-afa4-9f50726145fd"
      },
      "source": [
        "import keras\n",
        "import tensorflow\n",
        "\n",
        "print('--- Version Checking ---')\n",
        "print(\"Keras:\", keras.__version__)\n",
        "\n",
        "vector = np.vectorize(np.float)"
      ],
      "execution_count": 34,
      "outputs": [
        {
          "output_type": "stream",
          "text": [
            "--- Version Checking ---\n",
            "Keras: 2.5.0\n"
          ],
          "name": "stdout"
        }
      ]
    },
    {
      "cell_type": "code",
      "metadata": {
        "colab": {
          "base_uri": "https://localhost:8080/"
        },
        "id": "il4Tp6FBlYSR",
        "outputId": "203d7e7b-1995-4f9d-f4db-2c15a3010fae"
      },
      "source": [
        "from tensorflow.keras.preprocessing import sequence\n",
        "\n",
        "# # do random shuffling to ensure randomness\n",
        "# df_valid.sample(frac=1, random_state=752)\n",
        "\n",
        "# # split data set by 7:3 for train and test\n",
        "# distribution = int(df_valid.shape[0] * 0.7)\n",
        "\n",
        "# # split datasets to train and test and validation by 70%, 30% and then 80% and 20% for validation and test fraction respectively\n",
        "# df_train = df_valid.iloc[:distribution]\n",
        "# df_test = df_valid.iloc[distribution:distribution+180]\n",
        "# df_validation = df_valid.iloc[distribution+180:]\n",
        "\n",
        "# df_train.fillna(0, inplace=True)\n",
        "# df_test.fillna(0, inplace=True)\n",
        "# df_validation.fillna(0 , inplace=True)\n",
        "\n",
        "# split data set by 8:2 for validation and test\n",
        "distribution = int(df_test.shape[0] * 0.8)\n",
        "\n",
        "df_validation = df_test.iloc[:distribution]\n",
        "df_test = df_test.iloc[distribution:]\n",
        "\n",
        "X_train = sequence.pad_sequences(np.array(list(df_valid['BoW_vectors'])))\n",
        "y_train = np.array(list(df_valid['list_tag']))\n",
        "\n",
        "X_test = sequence.pad_sequences(np.array(list(df_test['BoW_vectors'])))\n",
        "y_test = np.array(list(df_test['list_tag']))\n",
        "\n",
        "X_validation = sequence.pad_sequences(np.array(list(df_validation['BoW_vectors'])))\n",
        "y_validation = np.array(list(df_validation['list_tag']))\n",
        "\n",
        "print(f'Train data shape: {X_train.shape}\\nTest data shape: {X_test.shape}\\nValidation data shape: {X_validation.shape}')"
      ],
      "execution_count": 35,
      "outputs": [
        {
          "output_type": "stream",
          "text": [
            "Train data shape: (4476, 1481)\n",
            "Test data shape: (215, 1481)\n",
            "Validation data shape: (856, 1481)\n"
          ],
          "name": "stdout"
        }
      ]
    },
    {
      "cell_type": "code",
      "metadata": {
        "colab": {
          "base_uri": "https://localhost:8080/"
        },
        "id": "DuHIkPHA9ZBT",
        "outputId": "86291403-218d-43e7-ca2b-e15361fd2ff8"
      },
      "source": [
        "print(f'Train data labels: {y_train.__len__()}\\nTest data labels: {y_test.__len__()}\\nValidation data labels: {y_validation.__len__()}')"
      ],
      "execution_count": 36,
      "outputs": [
        {
          "output_type": "stream",
          "text": [
            "Train data labels: 4476\n",
            "Test data labels: 215\n",
            "Validation data labels: 856\n"
          ],
          "name": "stdout"
        }
      ]
    },
    {
      "cell_type": "markdown",
      "metadata": {
        "id": "QhjAJFR4NOq9"
      },
      "source": [
        "### 5.2. Training CNN Model\n",
        "\n",
        "---\n",
        "\n",
        "Here, we will train our CNN model. We will also be doing some hyperparameter tuning to get the best result."
      ]
    },
    {
      "cell_type": "code",
      "metadata": {
        "id": "gpjKtHpC2XhI"
      },
      "source": [
        "p = {'activation' : ['relu'],\n",
        "    'losses' : ['binary_crossentropy', 'categorical_crossentropy'],\n",
        "    'shapes' : ['brick'],\n",
        "    'first_neuron' : [512],\n",
        "    'hidden_layers' : [1, 2],\n",
        "    'dropout' : [0.2, 0.3, 0.4],\n",
        "    'kernel_initializer' : ['normal', 'glorot_normal'],\n",
        "    'batch_size' : [20, 21, 22]\n",
        "}"
      ],
      "execution_count": 37,
      "outputs": []
    },
    {
      "cell_type": "code",
      "metadata": {
        "id": "6KRBNPh0hHTY"
      },
      "source": [
        "# create CNN model\n",
        "from tensorflow.keras.layers import Dense, Conv1D, Dropout, MaxPooling1D, GlobalMaxPooling1D, Embedding, Input, Flatten\n",
        "from tensorflow.keras import Sequential\n",
        "from talos.utils import hidden_layers, ExperimentLogCallback\n",
        "import talos as ts\n",
        "\n",
        "def create_model(X_train, y_train, X_validation, y_validation, params):\n",
        "\n",
        "    # # create a if else here in order to label the models\n",
        "    if len(y_train[0]) == len(sector):\n",
        "      name = 'sector_model'\n",
        "      exp_name = 'sector_model_experiment'\n",
        "    elif len(y_train[0]) == len(subsector):\n",
        "      name = 'subsector_model'\n",
        "      exp_name = 'subsector_model_experiment'\n",
        "    elif len(y_train[0]) == len(archetype):\n",
        "      name = 'archetype_model'\n",
        "      exp_name = 'archetype_model_experiment'\n",
        "    elif len(y_train[0]) == len(valuechain):\n",
        "      name = 'valuechain_model'\n",
        "      exp_name = 'valuechain_model_experiment'\n",
        "\n",
        "    model = Sequential(name=name)\n",
        "\n",
        "    # # hidden layers design 1\n",
        "    # series_input = Input(shape=(len(keywords_masterlist), ))\n",
        "    # model.add(Conv1D(filters=256, kernel_size=5, activation='relu', padding='same', input_shape=series_input.shape))\n",
        "    # hidden_layers(model, params, len(y_train[0]))\n",
        "    # model.add(Conv1D(filters=512, kernel_size=5, activation='relu', padding='same'))\n",
        "    # model.add(MaxPooling1D(pool_size=2, padding='same'))\n",
        "    # model.add(GlobalMaxPooling1D())\n",
        "    # model.add(Dropout(params['dropout']))\n",
        "    # model.add(Dense(params['first_neuron'], kernel_initializer=params['kernel_initializer'], activation=params['activation']))\n",
        "\n",
        "    # hidden layers design 2 (Decent)\n",
        "    series_input = Input(shape=(len(keywords_masterlist), ))\n",
        "    model.add(Conv1D(filters=params['first_neuron'], kernel_size=5, activation=params['activation'], padding='same', input_shape=series_input.shape))\n",
        "    hidden_layers(model, params, len(y_train[0]))\n",
        "    model.add(Conv1D(filters=128, kernel_size=5, activation=params['activation'], padding='same'))\n",
        "    model.add(Conv1D(filters=256, kernel_size=5, activation=params['activation'], padding='same'))\n",
        "    model.add(MaxPooling1D(pool_size=2, padding='same'))\n",
        "    model.add(GlobalMaxPooling1D())\n",
        "    model.add(Dropout(params['dropout']))\n",
        "    hidden_layers(model, params, len(y_train[0]))\n",
        "\n",
        "    # # hidden layers design 3 (Bad)\n",
        "    # series_input = Input(shape=(len(keywords_masterlist), ))\n",
        "    # model.add(Conv1D(filters=params['first_neuron'], kernel_size=5, activation=params['activation'], padding='same', input_shape=series_input.shape))\n",
        "    # hidden_layers(model, params, len(y_train[0]))\n",
        "    # model.add(Conv1D(filters=128, kernel_size=5, activation=params['activation'], padding='same'))\n",
        "    # model.add(Dropout(params['dropout']))\n",
        "    # model.add(Conv1D(filters=256, kernel_size=5, activation=params['activation'], padding='same'))\n",
        "    # model.add(Dropout(params['dropout']))\n",
        "    # model.add(MaxPooling1D(pool_size=2, padding='same'))\n",
        "    # model.add(GlobalMaxPooling1D())\n",
        "    # model.add(Dropout(params['dropout']))\n",
        "    # hidden_layers(model, params, len(y_train[0]))\n",
        "\n",
        "    # output\n",
        "    model.add(Dense(len(y_train[0]), activation='softmax'))\n",
        "\n",
        "    # compile model\n",
        "    model.compile(loss=params['losses'], optimizer='adam', metrics=['accuracy'])\n",
        "\n",
        "    # history\n",
        "    history = model.fit(X_train, y_train, validation_data=(X_validation, y_validation), epochs=200, batch_size=params['batch_size'], callbacks=[ExperimentLogCallback(exp_name,params)], verbose=0)\n",
        "\n",
        "    return history, model\n",
        "\n",
        "# one hot encode\n",
        "def one_hot(arr, n_cat):\n",
        "    output = []\n",
        "    for n in arr:\n",
        "        result = np.zeros(n_cat)\n",
        "        result[n] = 1\n",
        "\n",
        "        output.append(result)\n",
        "\n",
        "    return np.array(output, dtype=int)"
      ],
      "execution_count": 38,
      "outputs": []
    },
    {
      "cell_type": "code",
      "metadata": {
        "colab": {
          "base_uri": "https://localhost:8080/"
        },
        "id": "yvGIYGxlAetm",
        "outputId": "5a6fbed4-25d7-43c8-fd1e-c6a835ee8d22"
      },
      "source": [
        "print(one_hot(y_train[:,0], len(sector)).shape)"
      ],
      "execution_count": 39,
      "outputs": [
        {
          "output_type": "stream",
          "text": [
            "(4476, 7)\n"
          ],
          "name": "stdout"
        }
      ]
    },
    {
      "cell_type": "code",
      "metadata": {
        "id": "UnDZycnzxWyW"
      },
      "source": [
        "X_train = vector(X_train.reshape(X_train.shape[0], 1, X_train.shape[1]))\n",
        "X_validation = vector(X_validation.reshape(X_validation.shape[0], 1, X_validation.shape[1]))\n",
        "X_test = X_test.reshape(X_test.shape[0], 1, X_test.shape[1])"
      ],
      "execution_count": 40,
      "outputs": []
    },
    {
      "cell_type": "code",
      "metadata": {
        "colab": {
          "base_uri": "https://localhost:8080/",
          "height": 494
        },
        "id": "stQ9Jewc1_Cc",
        "outputId": "f8aa870f-15e7-4b18-d967-71010340ed2b"
      },
      "source": [
        "from timeit import default_timer as timer\n",
        "\n",
        "# split into multijobs for faster processing\n",
        "from talos.utils.gpu_utils import parallel_gpu_jobs\n",
        "parallel_gpu_jobs(0.25)\n",
        "\n",
        "# plot a real life dataplot\n",
        "start = timer() \n",
        "test_sector_model = ts.Scan(x=X_train, y=one_hot(y_train[:,0], tag_counts[0]), params = p, model=create_model, experiment_name='sector_model_experiment', random_method='sobol', print_params=True)\n",
        "test_subsector_model = ts.Scan(x=X_train, y=one_hot(y_train[:,1], tag_counts[1]), params = p, model=create_model, experiment_name='subsector_model_experiment', random_method='sobol', print_params=True)\n",
        "test_archetype_model = ts.Scan(x=X_train, y=one_hot(y_train[:,2], tag_counts[2]), params = p, model=create_model, experiment_name='archetype_model_experiment', random_method='sobol', print_params=True)\n",
        "test_valuechain_model = ts.Scan(x=X_train, y=one_hot(y_train[:,3], tag_counts[3]), params = p, model=create_model, experiment_name='valuechain_model_experiment', random_method='sobol', print_params=True)\n",
        "end = timer() \n",
        "print(\"Total time taken for execution: \", end-start, \"s\")"
      ],
      "execution_count": 41,
      "outputs": [
        {
          "output_type": "stream",
          "text": [
            "WARNING:tensorflow:From /usr/local/lib/python3.7/dist-packages/talos/utils/gpu_utils.py:19: The name tf.keras.backend.set_session is deprecated. Please use tf.compat.v1.keras.backend.set_session instead.\n",
            "\n"
          ],
          "name": "stdout"
        },
        {
          "output_type": "stream",
          "text": [
            "\r  0%|          | 0/72 [00:00<?, ?it/s]"
          ],
          "name": "stderr"
        },
        {
          "output_type": "stream",
          "text": [
            "{'activation': 'relu', 'batch_size': 20, 'dropout': 0.2, 'first_neuron': 512, 'hidden_layers': 1, 'kernel_initializer': 'normal', 'losses': 'binary_crossentropy', 'shapes': 'brick'}\n"
          ],
          "name": "stdout"
        },
        {
          "output_type": "error",
          "ename": "KeyboardInterrupt",
          "evalue": "ignored",
          "traceback": [
            "\u001b[0;31m---------------------------------------------------------------------------\u001b[0m",
            "\u001b[0;31mKeyboardInterrupt\u001b[0m                         Traceback (most recent call last)",
            "\u001b[0;32m<ipython-input-41-ca106e843f97>\u001b[0m in \u001b[0;36m<module>\u001b[0;34m()\u001b[0m\n\u001b[1;32m      7\u001b[0m \u001b[0;31m# plot a real life dataplot\u001b[0m\u001b[0;34m\u001b[0m\u001b[0;34m\u001b[0m\u001b[0;34m\u001b[0m\u001b[0m\n\u001b[1;32m      8\u001b[0m \u001b[0mstart\u001b[0m \u001b[0;34m=\u001b[0m \u001b[0mtimer\u001b[0m\u001b[0;34m(\u001b[0m\u001b[0;34m)\u001b[0m\u001b[0;34m\u001b[0m\u001b[0;34m\u001b[0m\u001b[0m\n\u001b[0;32m----> 9\u001b[0;31m \u001b[0mtest_sector_model\u001b[0m \u001b[0;34m=\u001b[0m \u001b[0mts\u001b[0m\u001b[0;34m.\u001b[0m\u001b[0mScan\u001b[0m\u001b[0;34m(\u001b[0m\u001b[0mx\u001b[0m\u001b[0;34m=\u001b[0m\u001b[0mX_train\u001b[0m\u001b[0;34m,\u001b[0m \u001b[0my\u001b[0m\u001b[0;34m=\u001b[0m\u001b[0mone_hot\u001b[0m\u001b[0;34m(\u001b[0m\u001b[0my_train\u001b[0m\u001b[0;34m[\u001b[0m\u001b[0;34m:\u001b[0m\u001b[0;34m,\u001b[0m\u001b[0;36m0\u001b[0m\u001b[0;34m]\u001b[0m\u001b[0;34m,\u001b[0m \u001b[0mtag_counts\u001b[0m\u001b[0;34m[\u001b[0m\u001b[0;36m0\u001b[0m\u001b[0;34m]\u001b[0m\u001b[0;34m)\u001b[0m\u001b[0;34m,\u001b[0m \u001b[0mparams\u001b[0m \u001b[0;34m=\u001b[0m \u001b[0mp\u001b[0m\u001b[0;34m,\u001b[0m \u001b[0mmodel\u001b[0m\u001b[0;34m=\u001b[0m\u001b[0mcreate_model\u001b[0m\u001b[0;34m,\u001b[0m \u001b[0mexperiment_name\u001b[0m\u001b[0;34m=\u001b[0m\u001b[0;34m'sector_model_experiment'\u001b[0m\u001b[0;34m,\u001b[0m \u001b[0mrandom_method\u001b[0m\u001b[0;34m=\u001b[0m\u001b[0;34m'sobol'\u001b[0m\u001b[0;34m,\u001b[0m \u001b[0mprint_params\u001b[0m\u001b[0;34m=\u001b[0m\u001b[0;32mTrue\u001b[0m\u001b[0;34m)\u001b[0m\u001b[0;34m\u001b[0m\u001b[0;34m\u001b[0m\u001b[0m\n\u001b[0m\u001b[1;32m     10\u001b[0m \u001b[0mtest_subsector_model\u001b[0m \u001b[0;34m=\u001b[0m \u001b[0mts\u001b[0m\u001b[0;34m.\u001b[0m\u001b[0mScan\u001b[0m\u001b[0;34m(\u001b[0m\u001b[0mx\u001b[0m\u001b[0;34m=\u001b[0m\u001b[0mX_train\u001b[0m\u001b[0;34m,\u001b[0m \u001b[0my\u001b[0m\u001b[0;34m=\u001b[0m\u001b[0mone_hot\u001b[0m\u001b[0;34m(\u001b[0m\u001b[0my_train\u001b[0m\u001b[0;34m[\u001b[0m\u001b[0;34m:\u001b[0m\u001b[0;34m,\u001b[0m\u001b[0;36m1\u001b[0m\u001b[0;34m]\u001b[0m\u001b[0;34m,\u001b[0m \u001b[0mtag_counts\u001b[0m\u001b[0;34m[\u001b[0m\u001b[0;36m1\u001b[0m\u001b[0;34m]\u001b[0m\u001b[0;34m)\u001b[0m\u001b[0;34m,\u001b[0m \u001b[0mparams\u001b[0m \u001b[0;34m=\u001b[0m \u001b[0mp\u001b[0m\u001b[0;34m,\u001b[0m \u001b[0mmodel\u001b[0m\u001b[0;34m=\u001b[0m\u001b[0mcreate_model\u001b[0m\u001b[0;34m,\u001b[0m \u001b[0mexperiment_name\u001b[0m\u001b[0;34m=\u001b[0m\u001b[0;34m'subsector_model_experiment'\u001b[0m\u001b[0;34m,\u001b[0m \u001b[0mrandom_method\u001b[0m\u001b[0;34m=\u001b[0m\u001b[0;34m'sobol'\u001b[0m\u001b[0;34m,\u001b[0m \u001b[0mprint_params\u001b[0m\u001b[0;34m=\u001b[0m\u001b[0;32mTrue\u001b[0m\u001b[0;34m)\u001b[0m\u001b[0;34m\u001b[0m\u001b[0;34m\u001b[0m\u001b[0m\n\u001b[1;32m     11\u001b[0m \u001b[0mtest_archetype_model\u001b[0m \u001b[0;34m=\u001b[0m \u001b[0mts\u001b[0m\u001b[0;34m.\u001b[0m\u001b[0mScan\u001b[0m\u001b[0;34m(\u001b[0m\u001b[0mx\u001b[0m\u001b[0;34m=\u001b[0m\u001b[0mX_train\u001b[0m\u001b[0;34m,\u001b[0m \u001b[0my\u001b[0m\u001b[0;34m=\u001b[0m\u001b[0mone_hot\u001b[0m\u001b[0;34m(\u001b[0m\u001b[0my_train\u001b[0m\u001b[0;34m[\u001b[0m\u001b[0;34m:\u001b[0m\u001b[0;34m,\u001b[0m\u001b[0;36m2\u001b[0m\u001b[0;34m]\u001b[0m\u001b[0;34m,\u001b[0m \u001b[0mtag_counts\u001b[0m\u001b[0;34m[\u001b[0m\u001b[0;36m2\u001b[0m\u001b[0;34m]\u001b[0m\u001b[0;34m)\u001b[0m\u001b[0;34m,\u001b[0m \u001b[0mparams\u001b[0m \u001b[0;34m=\u001b[0m \u001b[0mp\u001b[0m\u001b[0;34m,\u001b[0m \u001b[0mmodel\u001b[0m\u001b[0;34m=\u001b[0m\u001b[0mcreate_model\u001b[0m\u001b[0;34m,\u001b[0m \u001b[0mexperiment_name\u001b[0m\u001b[0;34m=\u001b[0m\u001b[0;34m'archetype_model_experiment'\u001b[0m\u001b[0;34m,\u001b[0m \u001b[0mrandom_method\u001b[0m\u001b[0;34m=\u001b[0m\u001b[0;34m'sobol'\u001b[0m\u001b[0;34m,\u001b[0m \u001b[0mprint_params\u001b[0m\u001b[0;34m=\u001b[0m\u001b[0;32mTrue\u001b[0m\u001b[0;34m)\u001b[0m\u001b[0;34m\u001b[0m\u001b[0;34m\u001b[0m\u001b[0m\n",
            "\u001b[0;32m/usr/local/lib/python3.7/dist-packages/talos/scan/Scan.py\u001b[0m in \u001b[0;36m__init__\u001b[0;34m(self, x, y, params, model, experiment_name, x_val, y_val, val_split, random_method, seed, performance_target, fraction_limit, round_limit, time_limit, boolean_limit, reduction_method, reduction_interval, reduction_window, reduction_threshold, reduction_metric, minimize_loss, disable_progress_bar, print_params, clear_session, save_weights)\u001b[0m\n\u001b[1;32m    194\u001b[0m         \u001b[0;31m# start runtime\u001b[0m\u001b[0;34m\u001b[0m\u001b[0;34m\u001b[0m\u001b[0;34m\u001b[0m\u001b[0m\n\u001b[1;32m    195\u001b[0m         \u001b[0;32mfrom\u001b[0m \u001b[0;34m.\u001b[0m\u001b[0mscan_run\u001b[0m \u001b[0;32mimport\u001b[0m \u001b[0mscan_run\u001b[0m\u001b[0;34m\u001b[0m\u001b[0;34m\u001b[0m\u001b[0m\n\u001b[0;32m--> 196\u001b[0;31m         \u001b[0mscan_run\u001b[0m\u001b[0;34m(\u001b[0m\u001b[0mself\u001b[0m\u001b[0;34m)\u001b[0m\u001b[0;34m\u001b[0m\u001b[0;34m\u001b[0m\u001b[0m\n\u001b[0m",
            "\u001b[0;32m/usr/local/lib/python3.7/dist-packages/talos/scan/scan_run.py\u001b[0m in \u001b[0;36mscan_run\u001b[0;34m(self)\u001b[0m\n\u001b[1;32m     24\u001b[0m         \u001b[0;31m# otherwise proceed with next permutation\u001b[0m\u001b[0;34m\u001b[0m\u001b[0;34m\u001b[0m\u001b[0;34m\u001b[0m\u001b[0m\n\u001b[1;32m     25\u001b[0m         \u001b[0;32mfrom\u001b[0m \u001b[0;34m.\u001b[0m\u001b[0mscan_round\u001b[0m \u001b[0;32mimport\u001b[0m \u001b[0mscan_round\u001b[0m\u001b[0;34m\u001b[0m\u001b[0;34m\u001b[0m\u001b[0m\n\u001b[0;32m---> 26\u001b[0;31m         \u001b[0mself\u001b[0m \u001b[0;34m=\u001b[0m \u001b[0mscan_round\u001b[0m\u001b[0;34m(\u001b[0m\u001b[0mself\u001b[0m\u001b[0;34m)\u001b[0m\u001b[0;34m\u001b[0m\u001b[0;34m\u001b[0m\u001b[0m\n\u001b[0m\u001b[1;32m     27\u001b[0m         \u001b[0mself\u001b[0m\u001b[0;34m.\u001b[0m\u001b[0mpbar\u001b[0m\u001b[0;34m.\u001b[0m\u001b[0mupdate\u001b[0m\u001b[0;34m(\u001b[0m\u001b[0;36m1\u001b[0m\u001b[0;34m)\u001b[0m\u001b[0;34m\u001b[0m\u001b[0;34m\u001b[0m\u001b[0m\n\u001b[1;32m     28\u001b[0m \u001b[0;34m\u001b[0m\u001b[0m\n",
            "\u001b[0;32m/usr/local/lib/python3.7/dist-packages/talos/scan/scan_round.py\u001b[0m in \u001b[0;36mscan_round\u001b[0;34m(self)\u001b[0m\n\u001b[1;32m     17\u001b[0m     \u001b[0;31m# fit the model\u001b[0m\u001b[0;34m\u001b[0m\u001b[0;34m\u001b[0m\u001b[0;34m\u001b[0m\u001b[0m\n\u001b[1;32m     18\u001b[0m     \u001b[0;32mfrom\u001b[0m \u001b[0;34m.\u001b[0m\u001b[0;34m.\u001b[0m\u001b[0mmodel\u001b[0m\u001b[0;34m.\u001b[0m\u001b[0mingest_model\u001b[0m \u001b[0;32mimport\u001b[0m \u001b[0mingest_model\u001b[0m\u001b[0;34m\u001b[0m\u001b[0;34m\u001b[0m\u001b[0m\n\u001b[0;32m---> 19\u001b[0;31m     \u001b[0mself\u001b[0m\u001b[0;34m.\u001b[0m\u001b[0mmodel_history\u001b[0m\u001b[0;34m,\u001b[0m \u001b[0mself\u001b[0m\u001b[0;34m.\u001b[0m\u001b[0mround_model\u001b[0m \u001b[0;34m=\u001b[0m \u001b[0mingest_model\u001b[0m\u001b[0;34m(\u001b[0m\u001b[0mself\u001b[0m\u001b[0;34m)\u001b[0m\u001b[0;34m\u001b[0m\u001b[0;34m\u001b[0m\u001b[0m\n\u001b[0m\u001b[1;32m     20\u001b[0m     \u001b[0mself\u001b[0m\u001b[0;34m.\u001b[0m\u001b[0mround_history\u001b[0m\u001b[0;34m.\u001b[0m\u001b[0mappend\u001b[0m\u001b[0;34m(\u001b[0m\u001b[0mself\u001b[0m\u001b[0;34m.\u001b[0m\u001b[0mmodel_history\u001b[0m\u001b[0;34m.\u001b[0m\u001b[0mhistory\u001b[0m\u001b[0;34m)\u001b[0m\u001b[0;34m\u001b[0m\u001b[0;34m\u001b[0m\u001b[0m\n\u001b[1;32m     21\u001b[0m \u001b[0;34m\u001b[0m\u001b[0m\n",
            "\u001b[0;32m/usr/local/lib/python3.7/dist-packages/talos/model/ingest_model.py\u001b[0m in \u001b[0;36mingest_model\u001b[0;34m(self)\u001b[0m\n\u001b[1;32m      8\u001b[0m                       \u001b[0mself\u001b[0m\u001b[0;34m.\u001b[0m\u001b[0mx_val\u001b[0m\u001b[0;34m,\u001b[0m\u001b[0;34m\u001b[0m\u001b[0;34m\u001b[0m\u001b[0m\n\u001b[1;32m      9\u001b[0m                       \u001b[0mself\u001b[0m\u001b[0;34m.\u001b[0m\u001b[0my_val\u001b[0m\u001b[0;34m,\u001b[0m\u001b[0;34m\u001b[0m\u001b[0;34m\u001b[0m\u001b[0m\n\u001b[0;32m---> 10\u001b[0;31m                       self.round_params)\n\u001b[0m",
            "\u001b[0;32m<ipython-input-38-050de7f246f2>\u001b[0m in \u001b[0;36mcreate_model\u001b[0;34m(X_train, y_train, X_validation, y_validation, params)\u001b[0m\n\u001b[1;32m     64\u001b[0m \u001b[0;34m\u001b[0m\u001b[0m\n\u001b[1;32m     65\u001b[0m     \u001b[0;31m# history\u001b[0m\u001b[0;34m\u001b[0m\u001b[0;34m\u001b[0m\u001b[0;34m\u001b[0m\u001b[0m\n\u001b[0;32m---> 66\u001b[0;31m     \u001b[0mhistory\u001b[0m \u001b[0;34m=\u001b[0m \u001b[0mmodel\u001b[0m\u001b[0;34m.\u001b[0m\u001b[0mfit\u001b[0m\u001b[0;34m(\u001b[0m\u001b[0mX_train\u001b[0m\u001b[0;34m,\u001b[0m \u001b[0my_train\u001b[0m\u001b[0;34m,\u001b[0m \u001b[0mvalidation_data\u001b[0m\u001b[0;34m=\u001b[0m\u001b[0;34m(\u001b[0m\u001b[0mX_validation\u001b[0m\u001b[0;34m,\u001b[0m \u001b[0my_validation\u001b[0m\u001b[0;34m)\u001b[0m\u001b[0;34m,\u001b[0m \u001b[0mepochs\u001b[0m\u001b[0;34m=\u001b[0m\u001b[0;36m200\u001b[0m\u001b[0;34m,\u001b[0m \u001b[0mbatch_size\u001b[0m\u001b[0;34m=\u001b[0m\u001b[0mparams\u001b[0m\u001b[0;34m[\u001b[0m\u001b[0;34m'batch_size'\u001b[0m\u001b[0;34m]\u001b[0m\u001b[0;34m,\u001b[0m \u001b[0mcallbacks\u001b[0m\u001b[0;34m=\u001b[0m\u001b[0;34m[\u001b[0m\u001b[0mExperimentLogCallback\u001b[0m\u001b[0;34m(\u001b[0m\u001b[0mexp_name\u001b[0m\u001b[0;34m,\u001b[0m\u001b[0mparams\u001b[0m\u001b[0;34m)\u001b[0m\u001b[0;34m]\u001b[0m\u001b[0;34m,\u001b[0m \u001b[0mverbose\u001b[0m\u001b[0;34m=\u001b[0m\u001b[0;36m0\u001b[0m\u001b[0;34m)\u001b[0m\u001b[0;34m\u001b[0m\u001b[0;34m\u001b[0m\u001b[0m\n\u001b[0m\u001b[1;32m     67\u001b[0m \u001b[0;34m\u001b[0m\u001b[0m\n\u001b[1;32m     68\u001b[0m     \u001b[0;32mreturn\u001b[0m \u001b[0mhistory\u001b[0m\u001b[0;34m,\u001b[0m \u001b[0mmodel\u001b[0m\u001b[0;34m\u001b[0m\u001b[0;34m\u001b[0m\u001b[0m\n",
            "\u001b[0;32m/usr/local/lib/python3.7/dist-packages/tensorflow/python/keras/engine/training.py\u001b[0m in \u001b[0;36mfit\u001b[0;34m(self, x, y, batch_size, epochs, verbose, callbacks, validation_split, validation_data, shuffle, class_weight, sample_weight, initial_epoch, steps_per_epoch, validation_steps, validation_batch_size, validation_freq, max_queue_size, workers, use_multiprocessing)\u001b[0m\n\u001b[1;32m   1181\u001b[0m                 _r=1):\n\u001b[1;32m   1182\u001b[0m               \u001b[0mcallbacks\u001b[0m\u001b[0;34m.\u001b[0m\u001b[0mon_train_batch_begin\u001b[0m\u001b[0;34m(\u001b[0m\u001b[0mstep\u001b[0m\u001b[0;34m)\u001b[0m\u001b[0;34m\u001b[0m\u001b[0;34m\u001b[0m\u001b[0m\n\u001b[0;32m-> 1183\u001b[0;31m               \u001b[0mtmp_logs\u001b[0m \u001b[0;34m=\u001b[0m \u001b[0mself\u001b[0m\u001b[0;34m.\u001b[0m\u001b[0mtrain_function\u001b[0m\u001b[0;34m(\u001b[0m\u001b[0miterator\u001b[0m\u001b[0;34m)\u001b[0m\u001b[0;34m\u001b[0m\u001b[0;34m\u001b[0m\u001b[0m\n\u001b[0m\u001b[1;32m   1184\u001b[0m               \u001b[0;32mif\u001b[0m \u001b[0mdata_handler\u001b[0m\u001b[0;34m.\u001b[0m\u001b[0mshould_sync\u001b[0m\u001b[0;34m:\u001b[0m\u001b[0;34m\u001b[0m\u001b[0;34m\u001b[0m\u001b[0m\n\u001b[1;32m   1185\u001b[0m                 \u001b[0mcontext\u001b[0m\u001b[0;34m.\u001b[0m\u001b[0masync_wait\u001b[0m\u001b[0;34m(\u001b[0m\u001b[0;34m)\u001b[0m\u001b[0;34m\u001b[0m\u001b[0;34m\u001b[0m\u001b[0m\n",
            "\u001b[0;32m/usr/local/lib/python3.7/dist-packages/tensorflow/python/eager/def_function.py\u001b[0m in \u001b[0;36m__call__\u001b[0;34m(self, *args, **kwds)\u001b[0m\n\u001b[1;32m    887\u001b[0m \u001b[0;34m\u001b[0m\u001b[0m\n\u001b[1;32m    888\u001b[0m       \u001b[0;32mwith\u001b[0m \u001b[0mOptionalXlaContext\u001b[0m\u001b[0;34m(\u001b[0m\u001b[0mself\u001b[0m\u001b[0;34m.\u001b[0m\u001b[0m_jit_compile\u001b[0m\u001b[0;34m)\u001b[0m\u001b[0;34m:\u001b[0m\u001b[0;34m\u001b[0m\u001b[0;34m\u001b[0m\u001b[0m\n\u001b[0;32m--> 889\u001b[0;31m         \u001b[0mresult\u001b[0m \u001b[0;34m=\u001b[0m \u001b[0mself\u001b[0m\u001b[0;34m.\u001b[0m\u001b[0m_call\u001b[0m\u001b[0;34m(\u001b[0m\u001b[0;34m*\u001b[0m\u001b[0margs\u001b[0m\u001b[0;34m,\u001b[0m \u001b[0;34m**\u001b[0m\u001b[0mkwds\u001b[0m\u001b[0;34m)\u001b[0m\u001b[0;34m\u001b[0m\u001b[0;34m\u001b[0m\u001b[0m\n\u001b[0m\u001b[1;32m    890\u001b[0m \u001b[0;34m\u001b[0m\u001b[0m\n\u001b[1;32m    891\u001b[0m       \u001b[0mnew_tracing_count\u001b[0m \u001b[0;34m=\u001b[0m \u001b[0mself\u001b[0m\u001b[0;34m.\u001b[0m\u001b[0mexperimental_get_tracing_count\u001b[0m\u001b[0;34m(\u001b[0m\u001b[0;34m)\u001b[0m\u001b[0;34m\u001b[0m\u001b[0;34m\u001b[0m\u001b[0m\n",
            "\u001b[0;32m/usr/local/lib/python3.7/dist-packages/tensorflow/python/eager/def_function.py\u001b[0m in \u001b[0;36m_call\u001b[0;34m(self, *args, **kwds)\u001b[0m\n\u001b[1;32m    915\u001b[0m       \u001b[0;31m# In this case we have created variables on the first call, so we run the\u001b[0m\u001b[0;34m\u001b[0m\u001b[0;34m\u001b[0m\u001b[0;34m\u001b[0m\u001b[0m\n\u001b[1;32m    916\u001b[0m       \u001b[0;31m# defunned version which is guaranteed to never create variables.\u001b[0m\u001b[0;34m\u001b[0m\u001b[0;34m\u001b[0m\u001b[0;34m\u001b[0m\u001b[0m\n\u001b[0;32m--> 917\u001b[0;31m       \u001b[0;32mreturn\u001b[0m \u001b[0mself\u001b[0m\u001b[0;34m.\u001b[0m\u001b[0m_stateless_fn\u001b[0m\u001b[0;34m(\u001b[0m\u001b[0;34m*\u001b[0m\u001b[0margs\u001b[0m\u001b[0;34m,\u001b[0m \u001b[0;34m**\u001b[0m\u001b[0mkwds\u001b[0m\u001b[0;34m)\u001b[0m  \u001b[0;31m# pylint: disable=not-callable\u001b[0m\u001b[0;34m\u001b[0m\u001b[0;34m\u001b[0m\u001b[0m\n\u001b[0m\u001b[1;32m    918\u001b[0m     \u001b[0;32melif\u001b[0m \u001b[0mself\u001b[0m\u001b[0;34m.\u001b[0m\u001b[0m_stateful_fn\u001b[0m \u001b[0;32mis\u001b[0m \u001b[0;32mnot\u001b[0m \u001b[0;32mNone\u001b[0m\u001b[0;34m:\u001b[0m\u001b[0;34m\u001b[0m\u001b[0;34m\u001b[0m\u001b[0m\n\u001b[1;32m    919\u001b[0m       \u001b[0;31m# Release the lock early so that multiple threads can perform the call\u001b[0m\u001b[0;34m\u001b[0m\u001b[0;34m\u001b[0m\u001b[0;34m\u001b[0m\u001b[0m\n",
            "\u001b[0;32m/usr/local/lib/python3.7/dist-packages/tensorflow/python/eager/function.py\u001b[0m in \u001b[0;36m__call__\u001b[0;34m(self, *args, **kwargs)\u001b[0m\n\u001b[1;32m   3022\u001b[0m        filtered_flat_args) = self._maybe_define_function(args, kwargs)\n\u001b[1;32m   3023\u001b[0m     return graph_function._call_flat(\n\u001b[0;32m-> 3024\u001b[0;31m         filtered_flat_args, captured_inputs=graph_function.captured_inputs)  # pylint: disable=protected-access\n\u001b[0m\u001b[1;32m   3025\u001b[0m \u001b[0;34m\u001b[0m\u001b[0m\n\u001b[1;32m   3026\u001b[0m   \u001b[0;34m@\u001b[0m\u001b[0mproperty\u001b[0m\u001b[0;34m\u001b[0m\u001b[0;34m\u001b[0m\u001b[0m\n",
            "\u001b[0;32m/usr/local/lib/python3.7/dist-packages/tensorflow/python/eager/function.py\u001b[0m in \u001b[0;36m_call_flat\u001b[0;34m(self, args, captured_inputs, cancellation_manager)\u001b[0m\n\u001b[1;32m   1959\u001b[0m       \u001b[0;31m# No tape is watching; skip to running the function.\u001b[0m\u001b[0;34m\u001b[0m\u001b[0;34m\u001b[0m\u001b[0;34m\u001b[0m\u001b[0m\n\u001b[1;32m   1960\u001b[0m       return self._build_call_outputs(self._inference_function.call(\n\u001b[0;32m-> 1961\u001b[0;31m           ctx, args, cancellation_manager=cancellation_manager))\n\u001b[0m\u001b[1;32m   1962\u001b[0m     forward_backward = self._select_forward_and_backward_functions(\n\u001b[1;32m   1963\u001b[0m         \u001b[0margs\u001b[0m\u001b[0;34m,\u001b[0m\u001b[0;34m\u001b[0m\u001b[0;34m\u001b[0m\u001b[0m\n",
            "\u001b[0;32m/usr/local/lib/python3.7/dist-packages/tensorflow/python/eager/function.py\u001b[0m in \u001b[0;36mcall\u001b[0;34m(self, ctx, args, cancellation_manager)\u001b[0m\n\u001b[1;32m    594\u001b[0m               \u001b[0minputs\u001b[0m\u001b[0;34m=\u001b[0m\u001b[0margs\u001b[0m\u001b[0;34m,\u001b[0m\u001b[0;34m\u001b[0m\u001b[0;34m\u001b[0m\u001b[0m\n\u001b[1;32m    595\u001b[0m               \u001b[0mattrs\u001b[0m\u001b[0;34m=\u001b[0m\u001b[0mattrs\u001b[0m\u001b[0;34m,\u001b[0m\u001b[0;34m\u001b[0m\u001b[0;34m\u001b[0m\u001b[0m\n\u001b[0;32m--> 596\u001b[0;31m               ctx=ctx)\n\u001b[0m\u001b[1;32m    597\u001b[0m         \u001b[0;32melse\u001b[0m\u001b[0;34m:\u001b[0m\u001b[0;34m\u001b[0m\u001b[0;34m\u001b[0m\u001b[0m\n\u001b[1;32m    598\u001b[0m           outputs = execute.execute_with_cancellation(\n",
            "\u001b[0;32m/usr/local/lib/python3.7/dist-packages/tensorflow/python/eager/execute.py\u001b[0m in \u001b[0;36mquick_execute\u001b[0;34m(op_name, num_outputs, inputs, attrs, ctx, name)\u001b[0m\n\u001b[1;32m     58\u001b[0m     \u001b[0mctx\u001b[0m\u001b[0;34m.\u001b[0m\u001b[0mensure_initialized\u001b[0m\u001b[0;34m(\u001b[0m\u001b[0;34m)\u001b[0m\u001b[0;34m\u001b[0m\u001b[0;34m\u001b[0m\u001b[0m\n\u001b[1;32m     59\u001b[0m     tensors = pywrap_tfe.TFE_Py_Execute(ctx._handle, device_name, op_name,\n\u001b[0;32m---> 60\u001b[0;31m                                         inputs, attrs, num_outputs)\n\u001b[0m\u001b[1;32m     61\u001b[0m   \u001b[0;32mexcept\u001b[0m \u001b[0mcore\u001b[0m\u001b[0;34m.\u001b[0m\u001b[0m_NotOkStatusException\u001b[0m \u001b[0;32mas\u001b[0m \u001b[0me\u001b[0m\u001b[0;34m:\u001b[0m\u001b[0;34m\u001b[0m\u001b[0;34m\u001b[0m\u001b[0m\n\u001b[1;32m     62\u001b[0m     \u001b[0;32mif\u001b[0m \u001b[0mname\u001b[0m \u001b[0;32mis\u001b[0m \u001b[0;32mnot\u001b[0m \u001b[0;32mNone\u001b[0m\u001b[0;34m:\u001b[0m\u001b[0;34m\u001b[0m\u001b[0;34m\u001b[0m\u001b[0m\n",
            "\u001b[0;31mKeyboardInterrupt\u001b[0m: "
          ]
        }
      ]
    },
    {
      "cell_type": "markdown",
      "metadata": {
        "id": "BhKZIK81ND8g"
      },
      "source": [
        "### 5.3 Evaluate Models\n",
        "\n",
        "---\n",
        "\n",
        "Since we have completed training the models, now we will evaluate them."
      ]
    },
    {
      "cell_type": "code",
      "metadata": {
        "id": "IPOuhRpgp6Xs"
      },
      "source": [
        "# analyse the scan results\n",
        "# we now plot out a heat map to see which factor affects the accuracy and val_loss the most\n",
        "sector_model = ts.Analyze(test_sector_model)\n",
        "subsector_model = ts.Analyze(test_subsector_model)\n",
        "valuechain_model = ts.Analyze(test_valuechain_model)\n",
        "archetype_model = ts.Analyze(test_archetype_model)"
      ],
      "execution_count": null,
      "outputs": []
    },
    {
      "cell_type": "code",
      "metadata": {
        "id": "7AEJVQwmlAgF"
      },
      "source": [
        "sector_model.table('accuracy')"
      ],
      "execution_count": null,
      "outputs": []
    },
    {
      "cell_type": "code",
      "metadata": {
        "id": "_ffCG3WEoENk"
      },
      "source": [
        "subsector_model.table('accuracy')"
      ],
      "execution_count": null,
      "outputs": []
    },
    {
      "cell_type": "code",
      "metadata": {
        "id": "95H0RV8ZoELV"
      },
      "source": [
        "valuechain_model.table('accuracy')"
      ],
      "execution_count": null,
      "outputs": []
    },
    {
      "cell_type": "code",
      "metadata": {
        "id": "FtBbjWFLoEJf"
      },
      "source": [
        "archetype_model.table('accuracy')"
      ],
      "execution_count": null,
      "outputs": []
    },
    {
      "cell_type": "code",
      "metadata": {
        "id": "Wtywrqw9yRmL"
      },
      "source": [
        "# get current dir\n",
        "import os\n",
        "loc_arr = ['./sector_model_experiment', './subsector_model_experiment', './valuechain_model_experiment', './archetype_model_experiment']\n",
        "temp_list = []\n",
        "\n",
        "for loc in enumerate(loc_arr):\n",
        "  for file in os.listdir(loc[1]):\n",
        "    if file.endswith('.log'):\n",
        "      f = open(os.path.join(loc[1], file), \"r\")\n",
        "      temp_df = pd.read_csv(f)\n",
        "      temp_df.drop(columns=['id'], inplace=True)\n",
        "      temp_list.append(temp_df)"
      ],
      "execution_count": null,
      "outputs": []
    },
    {
      "cell_type": "code",
      "metadata": {
        "id": "X2FiX0LZMPrM"
      },
      "source": [
        "# we use head 200 as that 1st 200 records is the best record for the entire hyper_param\n",
        "model1_accRecord = temp_list[0][['epoch', 'accuracy']].head(200)\n",
        "model2_accRecord = temp_list[1][['epoch', 'accuracy']].head(200)\n",
        "model3_accRecord = temp_list[2][['epoch', 'accuracy']].head(200)\n",
        "model4_accRecord = temp_list[3][['epoch', 'accuracy']].head(200)\n",
        "\n",
        "model1_lossRecord = temp_list[0][['epoch', 'loss']].head(200)\n",
        "model2_lossRecord = temp_list[1][['epoch', 'loss']].head(200)\n",
        "model3_lossRecord = temp_list[2][['epoch', 'loss']].head(200)\n",
        "model4_lossRecord = temp_list[3][['epoch', 'loss']].head(200)"
      ],
      "execution_count": null,
      "outputs": []
    },
    {
      "cell_type": "code",
      "metadata": {
        "id": "Z3vQFkbMMV7y"
      },
      "source": [
        "# set epoch to be the index\n",
        "model1_accRecord.set_index('epoch', inplace=True)\n",
        "model2_accRecord.set_index('epoch', inplace=True)\n",
        "model3_accRecord.set_index('epoch', inplace=True)\n",
        "model4_accRecord.set_index('epoch', inplace=True)\n",
        "\n",
        "model1_lossRecord.set_index('epoch', inplace=True)\n",
        "model2_lossRecord.set_index('epoch', inplace=True)\n",
        "model3_lossRecord.set_index('epoch', inplace=True)\n",
        "model4_lossRecord.set_index('epoch', inplace=True)"
      ],
      "execution_count": null,
      "outputs": []
    },
    {
      "cell_type": "code",
      "metadata": {
        "id": "i5AR-InYTIZ4"
      },
      "source": [
        "# subplots for model accuracies\n",
        "fig = plt.figure(figsize=(23,9))\n",
        "\n",
        "plt.subplot(2,2,1)\n",
        "plt.plot(model1_accRecord)\n",
        "plt.title('Model 1 Accuracy')\n",
        "plt.ylabel('accuracy')\n",
        "plt.xlabel('epoch')\n",
        "plt.legend(['Training accuracy'], loc='best')\n",
        "\n",
        "plt.subplot(2,2,2)\n",
        "plt.plot(model2_accRecord)\n",
        "plt.title('Model 2 Accuracy')\n",
        "plt.ylabel('accuracy')\n",
        "plt.xlabel('epoch')\n",
        "plt.legend(['Training accuracy'], loc='best')\n",
        "\n",
        "plt.subplot(2,2,3)\n",
        "plt.plot(model3_accRecord)\n",
        "plt.title('Model 3 Accuracy')\n",
        "plt.ylabel('accuracy')\n",
        "plt.xlabel('epoch')\n",
        "plt.legend(['Training accuracy'], loc='best')\n",
        "\n",
        "plt.subplot(2,2,4)\n",
        "plt.plot(model4_accRecord)\n",
        "plt.title('Model 4 Accuracy')\n",
        "plt.ylabel('accuracy')\n",
        "plt.xlabel('epoch')\n",
        "plt.legend(['Training accuracy'], loc='best')\n",
        "\n",
        "plt.tight_layout()"
      ],
      "execution_count": null,
      "outputs": []
    },
    {
      "cell_type": "code",
      "metadata": {
        "id": "TRjkonZRZC9E"
      },
      "source": [
        "# subplot for model loss\n",
        "fig = plt.figure(figsize=(23,9))\n",
        "\n",
        "plt.subplot(2,2,1)\n",
        "plt.plot(model1_lossRecord)\n",
        "plt.title('Model 1 loss')\n",
        "plt.ylabel('accuracy')\n",
        "plt.xlabel('epoch')\n",
        "plt.legend(['Training loss'], loc='best')\n",
        "\n",
        "plt.subplot(2,2,2)\n",
        "plt.plot(model2_lossRecord)\n",
        "plt.title('Model 2 loss')\n",
        "plt.ylabel('accuracy')\n",
        "plt.xlabel('epoch')\n",
        "plt.legend(['Training loss'], loc='best')\n",
        "\n",
        "plt.subplot(2,2,3)\n",
        "plt.plot(model3_lossRecord)\n",
        "plt.title('Model 3 loss')\n",
        "plt.ylabel('accuracy')\n",
        "plt.xlabel('epoch')\n",
        "plt.legend(['Training loss'], loc='best')\n",
        "\n",
        "plt.subplot(2,2,4)\n",
        "plt.plot(model4_lossRecord)\n",
        "plt.title('Model 4 loss')\n",
        "plt.ylabel('accuracy')\n",
        "plt.xlabel('epoch')\n",
        "plt.legend(['Training loss'], loc='best')\n",
        "\n",
        "plt.tight_layout()"
      ],
      "execution_count": null,
      "outputs": []
    },
    {
      "cell_type": "markdown",
      "metadata": {
        "id": "Ta_9Flu6gYH2"
      },
      "source": [
        "### 5.4. Refitting Models and further evaluation.\n",
        "\n",
        "---\n",
        "\n",
        "Now that we know which params are the best, we will now refit the model so that we can use Keras evaluate and predict."
      ]
    },
    {
      "cell_type": "code",
      "metadata": {
        "id": "1bf438-nfMyV"
      },
      "source": [
        "# refitting and retraining\n",
        "from talos.utils.best_model import best_model\n",
        "\n",
        "# model1\n",
        "model_1 = test_sector_model.best_model(metric='accuracy', asc=False)\n",
        "model_1.compile(loss='binary_crossentropy', optimizer='adam', metrics=['accuracy'])\n",
        "\n",
        "# model2\n",
        "model_2 = test_subsector_model.best_model(metric='accuracy', asc=False)\n",
        "model_2.compile(loss='binary_crossentropy', optimizer='adam', metrics=['accuracy'])\n",
        "\n",
        "# model3\n",
        "model_3 = test_archetype_model.best_model(metric='accuracy', asc=False)\n",
        "model_3.compile(loss='binary_crossentropy', optimizer='adam', metrics=['accuracy'])\n",
        "\n",
        "# model4\n",
        "model_4 = test_valuechain_model.best_model(metric='accuracy', asc=False)\n",
        "model_4.compile(loss='binary_crossentropy', optimizer='adam', metrics=['accuracy'])"
      ],
      "execution_count": null,
      "outputs": []
    },
    {
      "cell_type": "code",
      "metadata": {
        "id": "wztsIZJCCLhj"
      },
      "source": [
        "models = [model_1, model_2, model_3, model_4]\n",
        "\n",
        "for i in range(4):\n",
        "  print(models[i].summary())"
      ],
      "execution_count": null,
      "outputs": []
    },
    {
      "cell_type": "code",
      "metadata": {
        "id": "NP-gxqDf6vfi"
      },
      "source": [
        "tf.keras.utils.plot_model(model_1, \"sector_model.png\", show_shapes=True)"
      ],
      "execution_count": null,
      "outputs": []
    },
    {
      "cell_type": "code",
      "metadata": {
        "id": "cY4xOXdG6yHz"
      },
      "source": [
        "tf.keras.utils.plot_model(model_2, \"sub_sector_model.png\", show_shapes=True)"
      ],
      "execution_count": null,
      "outputs": []
    },
    {
      "cell_type": "code",
      "metadata": {
        "id": "uS8n1wi-6x3V"
      },
      "source": [
        "tf.keras.utils.plot_model(model_3, \"archetype_model.png\", show_shapes=True)"
      ],
      "execution_count": null,
      "outputs": []
    },
    {
      "cell_type": "code",
      "metadata": {
        "id": "axrU5qcM6xtY"
      },
      "source": [
        "tf.keras.utils.plot_model(model_4, \"valuechain_model.png\", show_shapes=True)"
      ],
      "execution_count": null,
      "outputs": []
    },
    {
      "cell_type": "code",
      "metadata": {
        "id": "63npqs5BfMo0"
      },
      "source": [
        "for i in range(4):\n",
        "    loss, accuracy = models[i].evaluate(X_test, one_hot(y_test[:,i], tag_counts[i]), verbose=0)\n",
        "\n",
        "    print(f'Model {i+1} accuracy: {accuracy * 100:.5}%')\n",
        "    print(f'Model {i+1} loss: {loss:.5}')"
      ],
      "execution_count": null,
      "outputs": []
    },
    {
      "cell_type": "code",
      "metadata": {
        "id": "HZ3BNe8O4Zul"
      },
      "source": [
        "results = model_1.predict(X_test)\n",
        "results = np.argmax(results, axis=1)\n",
        "\n",
        "for i in range(len(results)):\n",
        "    print(f'Expected: {y_test[i,0]} Got: {results[i]}')"
      ],
      "execution_count": null,
      "outputs": []
    },
    {
      "cell_type": "code",
      "metadata": {
        "id": "M5hNw2PQyw2Q"
      },
      "source": [
        "results"
      ],
      "execution_count": null,
      "outputs": []
    },
    {
      "cell_type": "markdown",
      "metadata": {
        "id": "1aarHE3sNuN1"
      },
      "source": [
        "### 5.5. Saving Models.\n",
        "\n",
        "---\n",
        "\n",
        "Now that we have trained the model already, we can proceed on to save the model."
      ]
    },
    {
      "cell_type": "code",
      "metadata": {
        "colab": {
          "base_uri": "https://localhost:8080/"
        },
        "id": "5Vd4RJP0NxVB",
        "outputId": "306ae92c-1b4a-4cdb-a8c1-f79abc24e05b"
      },
      "source": [
        "# save models to file\n",
        "for i in range(4):\n",
        "    models[i].save(f'./model_{i+1}')"
      ],
      "execution_count": null,
      "outputs": [
        {
          "output_type": "stream",
          "text": [
            "INFO:tensorflow:Assets written to: ./model_1/assets\n",
            "INFO:tensorflow:Assets written to: ./model_2/assets\n",
            "INFO:tensorflow:Assets written to: ./model_3/assets\n",
            "INFO:tensorflow:Assets written to: ./model_4/assets\n"
          ],
          "name": "stdout"
        }
      ]
    },
    {
      "cell_type": "code",
      "metadata": {
        "colab": {
          "base_uri": "https://localhost:8080/"
        },
        "id": "-frVyS9_OqM5",
        "outputId": "f7bc314d-6a11-4001-bab9-1a8c063c947c"
      },
      "source": [
        "!zip -r model_4.zip ./model_4"
      ],
      "execution_count": null,
      "outputs": [
        {
          "output_type": "stream",
          "text": [
            "  adding: model_4/ (stored 0%)\n",
            "  adding: model_4/assets/ (stored 0%)\n",
            "  adding: model_4/saved_model.pb (deflated 89%)\n",
            "  adding: model_4/variables/ (stored 0%)\n",
            "  adding: model_4/variables/variables.index (deflated 59%)\n",
            "  adding: model_4/variables/variables.data-00000-of-00001 (deflated 9%)\n"
          ],
          "name": "stdout"
        }
      ]
    },
    {
      "cell_type": "markdown",
      "metadata": {
        "id": "kbZZCbdHv3ME"
      },
      "source": [
        "---\n",
        "---"
      ]
    },
    {
      "cell_type": "markdown",
      "metadata": {
        "id": "0hKvKHV38ly_"
      },
      "source": [
        "# 10.References\n",
        "\n",
        "\n",
        "## Linking GitHub Private Repo with Google Colab\n",
        "---\n",
        "1. [How to clone private Github repo from Google Colab using SSH](https://medium.com/@purba0101/how-to-clone-private-github-repo-in-google-colab-using-ssh-77384cfef18f)\n",
        "2. [Adding a new SSH key to your GitHub account](https://docs.github.com/en/github/authenticating-to-github/adding-a-new-ssh-key-to-your-github-account)\n",
        "\n",
        "\n",
        "## How to classify text with NLTK\n",
        "---\n",
        "1. [Learning to Classify Text](https://www.nltk.org/book/ch06.html)\n",
        "\n",
        "\n",
        "## Other references\n",
        "---\n",
        "1. [Print very long string completely in pandas dataframe](https://stackoverflow.com/questions/29902714/print-very-long-string-completely-in-pandas-dataframe)\n",
        "2. [Removing newlines from messy strings in pandas dataframe cells?\n",
        "](https://stackoverflow.com/questions/44227748/removing-newlines-from-messy-strings-in-pandas-dataframe-cells)\n",
        "3. [Tokenizing using Pandas and spaCy](https://stackoverflow.com/questions/46981137/tokenizing-using-pandas-and-spacy)\n",
        "4. [Intro to NLP with spaCy](https://nicschrading.com/project/Intro-to-NLP-with-spaCy/)\n",
        "5. [A short introduction to NLP in Python with spaCy](https://towardsdatascience.com/a-short-introduction-to-nlp-in-python-with-spacy-d0aa819af3ad)\n",
        "6. [Punctuation, stopwords and lemmatization with spacy](https://stackoverflow.com/questions/57747613/punctuation-stopwords-and-lemmatization-with-spacy)\n",
        "7. [How to Develop a Multichannel CNN Model for Text Classification](https://machinelearningmastery.com/develop-n-gram-multichannel-convolutional-neural-network-sentiment-analysis/)\n",
        "\n"
      ]
    }
  ]
}