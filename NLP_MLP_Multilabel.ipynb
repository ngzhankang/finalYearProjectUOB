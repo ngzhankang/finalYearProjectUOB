{
  "nbformat": 4,
  "nbformat_minor": 0,
  "metadata": {
    "colab": {
      "name": "NLP_MLP_Multilabel.ipynb",
      "provenance": [],
      "collapsed_sections": [],
      "include_colab_link": true
    },
    "kernelspec": {
      "name": "python3",
      "display_name": "Python 3"
    },
    "language_info": {
      "name": "python"
    },
    "accelerator": "GPU"
  },
  "cells": [
    {
      "cell_type": "markdown",
      "metadata": {
        "id": "view-in-github",
        "colab_type": "text"
      },
      "source": [
        "<a href=\"https://colab.research.google.com/github/ngzhankang/finalYearProjectUOB/blob/main/NLP_MLP_Multilabel.ipynb\" target=\"_parent\"><img src=\"https://colab.research.google.com/assets/colab-badge.svg\" alt=\"Open In Colab\"/></a>"
      ]
    },
    {
      "cell_type": "markdown",
      "metadata": {
        "id": "C4WG19GGjVCN"
      },
      "source": [
        "# FINAL YEAR PROJECT\n",
        "Done by : \n",
        "- P1935785 Ang Yak Hng\n",
        "- P1932964 Teo Swee Hong Winson\n",
        "- P1935727 Ng Zhan Kang\n",
        "- P1935488 Triston Loh\n",
        "- P1935602 Ng Ao Yang\n",
        "\n",
        "Class of DIT/FT/3A/05\n"
      ]
    },
    {
      "cell_type": "markdown",
      "metadata": {
        "id": "lTixCl0Yj3aC"
      },
      "source": [
        "---\n",
        "---"
      ]
    },
    {
      "cell_type": "markdown",
      "metadata": {
        "id": "Xa-0olzCkDtZ"
      },
      "source": [
        "# 1.Cloning Github To Colab Workspace"
      ]
    },
    {
      "cell_type": "markdown",
      "metadata": {
        "id": "B_no5sNXlBZ_"
      },
      "source": [
        "<div class=\"alert alert-block alert-danger\">\n",
        "    <b>ATTENTION:</b> The entire section 1 is dedicated to users who are using google colab to do the entire project. This entire process clones the private repository directly into the temporary google colab workspace. Google colab user are to repeat this same proccess whenever in a new session. Users who do not use colab to do this project CAN OMIT THE ENTIRE SECTION 1. \n",
        "</div>"
      ]
    },
    {
      "cell_type": "markdown",
      "metadata": {
        "id": "B-ZvXSUPkPBq"
      },
      "source": [
        "### 1.1. Configurating SSH keys for GitHub and Colab connection\n",
        "\n",
        "---\n",
        "\n",
        "This entire section can be omitted if users are not using Google Colab at all."
      ]
    },
    {
      "cell_type": "code",
      "metadata": {
        "id": "JH5jhDiOliB2",
        "colab": {
          "base_uri": "https://localhost:8080/"
        },
        "outputId": "b007e97a-e4a0-43fb-fc5f-6a02e82262db"
      },
      "source": [
        "!ssh-keygen -t rsa -b 4096"
      ],
      "execution_count": null,
      "outputs": [
        {
          "output_type": "stream",
          "text": [
            "Generating public/private rsa key pair.\n",
            "Enter file in which to save the key (/root/.ssh/id_rsa): \n",
            "Created directory '/root/.ssh'.\n",
            "Enter passphrase (empty for no passphrase): \n",
            "Enter same passphrase again: \n",
            "Your identification has been saved in /root/.ssh/id_rsa.\n",
            "Your public key has been saved in /root/.ssh/id_rsa.pub.\n",
            "The key fingerprint is:\n",
            "SHA256:ZspmrdJA7vPoERsLNONcIRZV/ukm3jsqxAm3hBpJy1M root@ca7698c4e106\n",
            "The key's randomart image is:\n",
            "+---[RSA 4096]----+\n",
            "|  +oo..          |\n",
            "| o E o           |\n",
            "|o.*.. .          |\n",
            "|oBo++  . .       |\n",
            "| o=Boo  S        |\n",
            "|.  .B* *         |\n",
            "|   o+o* +        |\n",
            "|    =*.=.        |\n",
            "|   .o==.oo       |\n",
            "+----[SHA256]-----+\n"
          ],
          "name": "stdout"
        }
      ]
    },
    {
      "cell_type": "markdown",
      "metadata": {
        "id": "ujcbhDqDmqP7"
      },
      "source": [
        "<div class=\"alert alert-block alert-danger\">\n",
        "    <b>ATTENTION:</b> When prompted for a set of informations such as \"Enter a file in which to save the key...\", please press enter and DO NOT type in anything.\n",
        "</div>"
      ]
    },
    {
      "cell_type": "code",
      "metadata": {
        "colab": {
          "base_uri": "https://localhost:8080/"
        },
        "id": "AUsKDe9tm0hQ",
        "outputId": "ec7908c3-4df2-4e1e-87c0-76181016d879"
      },
      "source": [
        "!ssh-keyscan -t rsa github.com >> ~/.ssh/known_hosts"
      ],
      "execution_count": null,
      "outputs": [
        {
          "output_type": "stream",
          "text": [
            "# github.com:22 SSH-2.0-babeld-3fa83667\n"
          ],
          "name": "stdout"
        }
      ]
    },
    {
      "cell_type": "code",
      "metadata": {
        "colab": {
          "base_uri": "https://localhost:8080/"
        },
        "id": "sc7qLuG1m-9h",
        "outputId": "461d36b1-5a5d-4e31-cad8-4edb423548e9"
      },
      "source": [
        "!cat /root/.ssh/id_rsa.pub"
      ],
      "execution_count": null,
      "outputs": [
        {
          "output_type": "stream",
          "text": [
            "ssh-rsa AAAAB3NzaC1yc2EAAAADAQABAAACAQC1wuqf4+DWiaDu1GYypdqhrv8ilPqdHvYGvPB+BpCy+YGOWu8EezJylrkbg4yyL9kGqkGKBIcH0QITzSSBYH7tuDGtV584bK9ZHuxeowJbkMFp5lgq06yVT47wGvcgOS7aOoX/eV3TbxC5RxKCNlvLjxYWFtyK26gGk83/gnBk9h/rHCqmNT28rbm5+3Q9HxzM4QQkdpU4/qBmI4dji8vyGNHGLY74z9hbyCh654nHcPuhK42GYTowmfOv9JP5ru/zGy6u28bO6GaHc7wMtgIi691LCiC76FulemTMfomAiW42zhNdi/abxouqYAXb1vu9OmoAU9AyayL0hlpEO1VhQ6WOfbSwQSAB2Jm+3Y3ZIhZvBxR1/tqXno3PBfTWnWN/W5w+wAGmeYYyU4ZOHDef9pr/Vv4ODe3dlR1kbSqVKMzXJDipkOsuS8HrOIAbfK3vkRaCkpRK23Y3mUmeOLXyDGOihbZ11mXToaoFfAyEJYCReyYxg8tSaq5Yu4Lr5++U52/GQLicYV06dmGcmJY4ZWiOvnm8eB+ZBksobFgtJdWAK5qFWrIdpYtNaekawGQAJ/5JWgfsg6mN3/kvmPNbLo6tHRbrFPTpkyJbunPJNiJOfA9RyvF0z5OqichAbU2asVmo7PnQGFRoCMMOjL7v0DH9OrKQaCcxwKea5kIMpw== root@ca7698c4e106\n"
          ],
          "name": "stdout"
        }
      ]
    },
    {
      "cell_type": "markdown",
      "metadata": {
        "id": "iSwt6wnDnSjx"
      },
      "source": [
        "<div class=\"alert alert-block alert-danger\">\n",
        "    <b>ATTENTION:</b> After the key has been generated, please copy the entire key. Navigate to your Github Account > Profile Picture > Settings > SSH and GPG keys > New SSH Keys. Paste the generated key into the blank and lable it for your own convenience.\n",
        "</div>"
      ]
    },
    {
      "cell_type": "markdown",
      "metadata": {
        "id": "Z_rpok3voY8A"
      },
      "source": [
        "### 1.2. Testing SSH keys for GitHub and Colab connection\n",
        "\n",
        "---\n",
        "\n",
        "This entire section can be omitted if users are not using Google Colab at all."
      ]
    },
    {
      "cell_type": "code",
      "metadata": {
        "colab": {
          "base_uri": "https://localhost:8080/"
        },
        "id": "cYEnWGicnnC0",
        "outputId": "d29511b8-2349-4bce-f9d6-c56df161a934"
      },
      "source": [
        "!ssh -T git@github.com"
      ],
      "execution_count": null,
      "outputs": [
        {
          "output_type": "stream",
          "text": [
            "Warning: Permanently added the RSA host key for IP address '140.82.121.3' to the list of known hosts.\r\n",
            "Hi ngzhankang! You've successfully authenticated, but GitHub does not provide shell access.\n"
          ],
          "name": "stdout"
        }
      ]
    },
    {
      "cell_type": "markdown",
      "metadata": {
        "id": "0gtHa7l8ID8u"
      },
      "source": [
        "### 1.3. Clone Private Repository\n",
        "\n",
        "---\n",
        "\n",
        "This entire section can be omitted if users are not using Google Colab at all."
      ]
    },
    {
      "cell_type": "code",
      "metadata": {
        "id": "y7c65FyJIEXu",
        "colab": {
          "base_uri": "https://localhost:8080/"
        },
        "outputId": "17a1b6de-dcca-4512-b4ac-cde37ec35f23"
      },
      "source": [
        "!git clone git@github.com:ngzhankang/finalYearProjectUOB.git"
      ],
      "execution_count": null,
      "outputs": [
        {
          "output_type": "stream",
          "text": [
            "Cloning into 'finalYearProjectUOB'...\n",
            "remote: Enumerating objects: 145, done.\u001b[K\n",
            "remote: Counting objects: 100% (145/145), done.\u001b[K\n",
            "remote: Compressing objects: 100% (127/127), done.\u001b[K\n",
            "remote: Total 145 (delta 46), reused 58 (delta 16), pack-reused 0\u001b[K\n",
            "Receiving objects: 100% (145/145), 96.56 MiB | 9.40 MiB/s, done.\n",
            "Resolving deltas: 100% (46/46), done.\n"
          ],
          "name": "stdout"
        }
      ]
    },
    {
      "cell_type": "markdown",
      "metadata": {
        "id": "lpQsykkUqHOB"
      },
      "source": [
        "---\n",
        "---"
      ]
    },
    {
      "cell_type": "markdown",
      "metadata": {
        "id": "D74lUe_QF3kh"
      },
      "source": [
        "# 2.Data Importing"
      ]
    },
    {
      "cell_type": "markdown",
      "metadata": {
        "id": "6VbDZ5ymKTR6"
      },
      "source": [
        "### 2.1. Load the libraries\n",
        "\n",
        "---\n",
        "\n",
        "Load the necessary libraries for usage in the entire project."
      ]
    },
    {
      "cell_type": "code",
      "metadata": {
        "colab": {
          "base_uri": "https://localhost:8080/"
        },
        "id": "hMBiWwY8sBBl",
        "outputId": "0d969ce1-42c8-4a95-c435-f8330cfdad9c"
      },
      "source": [
        "! nvcc --version"
      ],
      "execution_count": null,
      "outputs": [
        {
          "output_type": "stream",
          "text": [
            "nvcc: NVIDIA (R) Cuda compiler driver\n",
            "Copyright (c) 2005-2020 NVIDIA Corporation\n",
            "Built on Wed_Jul_22_19:09:09_PDT_2020\n",
            "Cuda compilation tools, release 11.0, V11.0.221\n",
            "Build cuda_11.0_bu.TC445_37.28845127_0\n"
          ],
          "name": "stdout"
        }
      ]
    },
    {
      "cell_type": "markdown",
      "metadata": {
        "id": "4FacXEFOsC04"
      },
      "source": [
        "### 2.2. Check CUDA Version\n",
        "\n",
        "---\n",
        "\n",
        "We need to check the cuda version to download the correct version of spaCy for this application."
      ]
    },
    {
      "cell_type": "code",
      "metadata": {
        "id": "U_20qw2UohOC"
      },
      "source": [
        "# suppress future warnings\n",
        "import warnings\n",
        "warnings.filterwarnings('ignore')"
      ],
      "execution_count": null,
      "outputs": []
    },
    {
      "cell_type": "code",
      "metadata": {
        "colab": {
          "base_uri": "https://localhost:8080/",
          "height": 1000
        },
        "id": "EldCY0t9v2uV",
        "outputId": "2f607eb3-8b9c-4b58-eabf-e518865a6182"
      },
      "source": [
        "# install necessary libraries that might not be found\n",
        "!pip install -U spacy\n",
        "!python -m spacy validate\n",
        "!pip install -U pip setuptools wheel\n",
        "!pip install -U spacy[cuda110,transformers,lookups]\n",
        "!python -m spacy download en_core_web_lg\n",
        "\n",
        "# check versions of libraries we are going to use\n",
        "%tensorflow_version 2.x\n",
        "import os\n",
        "import tensorflow\n",
        "import sklearn\n",
        "import numpy as np\n",
        "import pandas as pd\n",
        "import seaborn as sns\n",
        "import matplotlib\n",
        "import spacy\n",
        "import platform\n",
        "\n",
        "message=\"        Versions        \"\n",
        "print(\"*\"*len(message))\n",
        "print(message)\n",
        "print(\"*\"*len(message))\n",
        "print(\"Tensorflow version={}\".format(tensorflow.__version__))\n",
        "print(\"Keras version={}\".format(tensorflow.keras.__version__))\n",
        "print(\"Sklearn version={}\".format(sklearn.__version__))\n",
        "print(\"Numpy version={}\".format(np.__version__))\n",
        "print(\"Pandas version={}\".format(pd.__version__))\n",
        "print(\"Seaborn version={}\".format(sns.__version__))\n",
        "print(\"Matplotlib version={}\".format(matplotlib.__version__))\n",
        "print(\"SpaCy version={}\".format(spacy.__version__))\n",
        "print(\"Python version={}\".format(platform.python_version()))"
      ],
      "execution_count": null,
      "outputs": [
        {
          "output_type": "stream",
          "text": [
            "Collecting spacy\n",
            "\u001b[?25l  Downloading https://files.pythonhosted.org/packages/1b/d8/0361bbaf7a1ff56b44dca04dace54c82d63dad7475b7d25ea1baefafafb2/spacy-3.0.6-cp37-cp37m-manylinux2014_x86_64.whl (12.8MB)\n",
            "\u001b[K     |████████████████████████████████| 12.8MB 188kB/s \n",
            "\u001b[?25hRequirement already satisfied, skipping upgrade: cymem<2.1.0,>=2.0.2 in /usr/local/lib/python3.7/dist-packages (from spacy) (2.0.5)\n",
            "Requirement already satisfied, skipping upgrade: murmurhash<1.1.0,>=0.28.0 in /usr/local/lib/python3.7/dist-packages (from spacy) (1.0.5)\n",
            "Collecting typer<0.4.0,>=0.3.0\n",
            "  Downloading https://files.pythonhosted.org/packages/90/34/d138832f6945432c638f32137e6c79a3b682f06a63c488dcfaca6b166c64/typer-0.3.2-py3-none-any.whl\n",
            "Requirement already satisfied, skipping upgrade: tqdm<5.0.0,>=4.38.0 in /usr/local/lib/python3.7/dist-packages (from spacy) (4.41.1)\n",
            "Requirement already satisfied, skipping upgrade: preshed<3.1.0,>=3.0.2 in /usr/local/lib/python3.7/dist-packages (from spacy) (3.0.5)\n",
            "Requirement already satisfied, skipping upgrade: typing-extensions<4.0.0.0,>=3.7.4; python_version < \"3.8\" in /usr/local/lib/python3.7/dist-packages (from spacy) (3.7.4.3)\n",
            "Requirement already satisfied, skipping upgrade: packaging>=20.0 in /usr/local/lib/python3.7/dist-packages (from spacy) (20.9)\n",
            "Requirement already satisfied, skipping upgrade: requests<3.0.0,>=2.13.0 in /usr/local/lib/python3.7/dist-packages (from spacy) (2.23.0)\n",
            "Requirement already satisfied, skipping upgrade: blis<0.8.0,>=0.4.0 in /usr/local/lib/python3.7/dist-packages (from spacy) (0.4.1)\n",
            "Collecting thinc<8.1.0,>=8.0.3\n",
            "\u001b[?25l  Downloading https://files.pythonhosted.org/packages/61/87/decceba68a0c6ca356ddcb6aea8b2500e71d9bc187f148aae19b747b7d3c/thinc-8.0.3-cp37-cp37m-manylinux2014_x86_64.whl (1.1MB)\n",
            "\u001b[K     |████████████████████████████████| 1.1MB 48.3MB/s \n",
            "\u001b[?25hCollecting catalogue<2.1.0,>=2.0.3\n",
            "  Downloading https://files.pythonhosted.org/packages/9c/10/dbc1203a4b1367c7b02fddf08cb2981d9aa3e688d398f587cea0ab9e3bec/catalogue-2.0.4-py3-none-any.whl\n",
            "Collecting spacy-legacy<3.1.0,>=3.0.4\n",
            "  Downloading https://files.pythonhosted.org/packages/8d/67/d4002a18e26bf29b17ab563ddb55232b445ab6a02f97bf17d1345ff34d3f/spacy_legacy-3.0.5-py2.py3-none-any.whl\n",
            "Requirement already satisfied, skipping upgrade: setuptools in /usr/local/lib/python3.7/dist-packages (from spacy) (56.1.0)\n",
            "Requirement already satisfied, skipping upgrade: wasabi<1.1.0,>=0.8.1 in /usr/local/lib/python3.7/dist-packages (from spacy) (0.8.2)\n",
            "Collecting srsly<3.0.0,>=2.4.1\n",
            "\u001b[?25l  Downloading https://files.pythonhosted.org/packages/c3/84/dfdfc9f6f04f6b88207d96d9520b911e5fec0c67ff47a0dea31ab5429a1e/srsly-2.4.1-cp37-cp37m-manylinux2014_x86_64.whl (456kB)\n",
            "\u001b[K     |████████████████████████████████| 460kB 49.2MB/s \n",
            "\u001b[?25hRequirement already satisfied, skipping upgrade: numpy>=1.15.0 in /usr/local/lib/python3.7/dist-packages (from spacy) (1.19.5)\n",
            "Collecting pathy>=0.3.5\n",
            "\u001b[?25l  Downloading https://files.pythonhosted.org/packages/13/87/5991d87be8ed60beb172b4062dbafef18b32fa559635a8e2b633c2974f85/pathy-0.5.2-py3-none-any.whl (42kB)\n",
            "\u001b[K     |████████████████████████████████| 51kB 9.0MB/s \n",
            "\u001b[?25hCollecting pydantic<1.8.0,>=1.7.1\n",
            "\u001b[?25l  Downloading https://files.pythonhosted.org/packages/ca/fa/d43f31874e1f2a9633e4c025be310f2ce7a8350017579e9e837a62630a7e/pydantic-1.7.4-cp37-cp37m-manylinux2014_x86_64.whl (9.1MB)\n",
            "\u001b[K     |████████████████████████████████| 9.1MB 42.3MB/s \n",
            "\u001b[?25hRequirement already satisfied, skipping upgrade: jinja2 in /usr/local/lib/python3.7/dist-packages (from spacy) (2.11.3)\n",
            "Collecting click<7.2.0,>=7.1.1\n",
            "\u001b[?25l  Downloading https://files.pythonhosted.org/packages/d2/3d/fa76db83bf75c4f8d338c2fd15c8d33fdd7ad23a9b5e57eb6c5de26b430e/click-7.1.2-py2.py3-none-any.whl (82kB)\n",
            "\u001b[K     |████████████████████████████████| 92kB 12.8MB/s \n",
            "\u001b[?25hRequirement already satisfied, skipping upgrade: pyparsing>=2.0.2 in /usr/local/lib/python3.7/dist-packages (from packaging>=20.0->spacy) (2.4.7)\n",
            "Requirement already satisfied, skipping upgrade: urllib3!=1.25.0,!=1.25.1,<1.26,>=1.21.1 in /usr/local/lib/python3.7/dist-packages (from requests<3.0.0,>=2.13.0->spacy) (1.24.3)\n",
            "Requirement already satisfied, skipping upgrade: idna<3,>=2.5 in /usr/local/lib/python3.7/dist-packages (from requests<3.0.0,>=2.13.0->spacy) (2.10)\n",
            "Requirement already satisfied, skipping upgrade: certifi>=2017.4.17 in /usr/local/lib/python3.7/dist-packages (from requests<3.0.0,>=2.13.0->spacy) (2020.12.5)\n",
            "Requirement already satisfied, skipping upgrade: chardet<4,>=3.0.2 in /usr/local/lib/python3.7/dist-packages (from requests<3.0.0,>=2.13.0->spacy) (3.0.4)\n",
            "Requirement already satisfied, skipping upgrade: zipp>=0.5; python_version < \"3.8\" in /usr/local/lib/python3.7/dist-packages (from catalogue<2.1.0,>=2.0.3->spacy) (3.4.1)\n",
            "Collecting smart-open<4.0.0,>=2.2.0\n",
            "\u001b[?25l  Downloading https://files.pythonhosted.org/packages/11/9a/ba2d5f67f25e8d5bbf2fcec7a99b1e38428e83cb715f64dd179ca43a11bb/smart_open-3.0.0.tar.gz (113kB)\n",
            "\u001b[K     |████████████████████████████████| 122kB 57.0MB/s \n",
            "\u001b[?25hRequirement already satisfied, skipping upgrade: MarkupSafe>=0.23 in /usr/local/lib/python3.7/dist-packages (from jinja2->spacy) (2.0.0)\n",
            "Building wheels for collected packages: smart-open\n",
            "  Building wheel for smart-open (setup.py) ... \u001b[?25l\u001b[?25hdone\n",
            "  Created wheel for smart-open: filename=smart_open-3.0.0-cp37-none-any.whl size=107098 sha256=96ce962347998be3b81140ba35d45473046064fd11f72646021ca8fb9a800fcd\n",
            "  Stored in directory: /root/.cache/pip/wheels/18/88/7c/f06dabd5e9cabe02d2269167bcacbbf9b47d0c0ff7d6ebcb78\n",
            "Successfully built smart-open\n",
            "Installing collected packages: click, typer, catalogue, pydantic, srsly, thinc, spacy-legacy, smart-open, pathy, spacy\n",
            "  Found existing installation: click 8.0.0\n",
            "    Uninstalling click-8.0.0:\n",
            "      Successfully uninstalled click-8.0.0\n",
            "  Found existing installation: catalogue 1.0.0\n",
            "    Uninstalling catalogue-1.0.0:\n",
            "      Successfully uninstalled catalogue-1.0.0\n",
            "  Found existing installation: srsly 1.0.5\n",
            "    Uninstalling srsly-1.0.5:\n",
            "      Successfully uninstalled srsly-1.0.5\n",
            "  Found existing installation: thinc 7.4.0\n",
            "    Uninstalling thinc-7.4.0:\n",
            "      Successfully uninstalled thinc-7.4.0\n",
            "  Found existing installation: smart-open 5.0.0\n",
            "    Uninstalling smart-open-5.0.0:\n",
            "      Successfully uninstalled smart-open-5.0.0\n",
            "  Found existing installation: spacy 2.2.4\n",
            "    Uninstalling spacy-2.2.4:\n",
            "      Successfully uninstalled spacy-2.2.4\n",
            "Successfully installed catalogue-2.0.4 click-7.1.2 pathy-0.5.2 pydantic-1.7.4 smart-open-3.0.0 spacy-3.0.6 spacy-legacy-3.0.5 srsly-2.4.1 thinc-8.0.3 typer-0.3.2\n",
            "2021-05-21 09:20:35.228779: I tensorflow/stream_executor/platform/default/dso_loader.cc:49] Successfully opened dynamic library libcudart.so.11.0\n",
            "\u001b[2K\u001b[38;5;2m✔ Loaded compatibility table\u001b[0m\n",
            "\u001b[1m\n",
            "================= Installed pipeline packages (spaCy v3.0.6) =================\u001b[0m\n",
            "\u001b[38;5;4mℹ spaCy installation: /usr/local/lib/python3.7/dist-packages/spacy\u001b[0m\n",
            "\n",
            "No pipeline packages found in your current environment.\n",
            "\n",
            "Collecting pip\n",
            "\u001b[?25l  Downloading https://files.pythonhosted.org/packages/cd/6f/43037c7bcc8bd8ba7c9074256b1a11596daa15555808ec748048c1507f08/pip-21.1.1-py3-none-any.whl (1.5MB)\n",
            "\u001b[K     |████████████████████████████████| 1.6MB 30.5MB/s \n",
            "\u001b[?25hCollecting setuptools\n",
            "\u001b[?25l  Downloading https://files.pythonhosted.org/packages/d0/15/5041473f5d142ee93bf1593deb8f932e27a078f6f04e2020cf44044f72c5/setuptools-56.2.0-py3-none-any.whl (785kB)\n",
            "\u001b[K     |████████████████████████████████| 788kB 46.9MB/s \n",
            "\u001b[?25hRequirement already up-to-date: wheel in /usr/local/lib/python3.7/dist-packages (0.36.2)\n",
            "\u001b[31mERROR: datascience 0.10.6 has requirement folium==0.2.1, but you'll have folium 0.8.3 which is incompatible.\u001b[0m\n",
            "Installing collected packages: pip, setuptools\n",
            "  Found existing installation: pip 19.3.1\n",
            "    Uninstalling pip-19.3.1:\n",
            "      Successfully uninstalled pip-19.3.1\n",
            "  Found existing installation: setuptools 56.1.0\n",
            "    Uninstalling setuptools-56.1.0:\n",
            "      Successfully uninstalled setuptools-56.1.0\n",
            "Successfully installed pip-21.1.1 setuptools-56.2.0\n"
          ],
          "name": "stdout"
        },
        {
          "output_type": "display_data",
          "data": {
            "application/vnd.colab-display-data+json": {
              "pip_warning": {
                "packages": [
                  "pkg_resources"
                ]
              }
            }
          },
          "metadata": {
            "tags": []
          }
        },
        {
          "output_type": "stream",
          "text": [
            "Requirement already satisfied: spacy[cuda110,lookups,transformers] in /usr/local/lib/python3.7/dist-packages (3.0.6)\n",
            "Requirement already satisfied: wasabi<1.1.0,>=0.8.1 in /usr/local/lib/python3.7/dist-packages (from spacy[cuda110,lookups,transformers]) (0.8.2)\n",
            "Requirement already satisfied: numpy>=1.15.0 in /usr/local/lib/python3.7/dist-packages (from spacy[cuda110,lookups,transformers]) (1.19.5)\n",
            "Requirement already satisfied: setuptools in /usr/local/lib/python3.7/dist-packages (from spacy[cuda110,lookups,transformers]) (56.2.0)\n",
            "Requirement already satisfied: murmurhash<1.1.0,>=0.28.0 in /usr/local/lib/python3.7/dist-packages (from spacy[cuda110,lookups,transformers]) (1.0.5)\n",
            "Requirement already satisfied: pathy>=0.3.5 in /usr/local/lib/python3.7/dist-packages (from spacy[cuda110,lookups,transformers]) (0.5.2)\n",
            "Requirement already satisfied: srsly<3.0.0,>=2.4.1 in /usr/local/lib/python3.7/dist-packages (from spacy[cuda110,lookups,transformers]) (2.4.1)\n",
            "Requirement already satisfied: jinja2 in /usr/local/lib/python3.7/dist-packages (from spacy[cuda110,lookups,transformers]) (2.11.3)\n",
            "Requirement already satisfied: tqdm<5.0.0,>=4.38.0 in /usr/local/lib/python3.7/dist-packages (from spacy[cuda110,lookups,transformers]) (4.41.1)\n",
            "Requirement already satisfied: typer<0.4.0,>=0.3.0 in /usr/local/lib/python3.7/dist-packages (from spacy[cuda110,lookups,transformers]) (0.3.2)\n",
            "Requirement already satisfied: requests<3.0.0,>=2.13.0 in /usr/local/lib/python3.7/dist-packages (from spacy[cuda110,lookups,transformers]) (2.23.0)\n",
            "Requirement already satisfied: pydantic<1.8.0,>=1.7.1 in /usr/local/lib/python3.7/dist-packages (from spacy[cuda110,lookups,transformers]) (1.7.4)\n",
            "Requirement already satisfied: spacy-legacy<3.1.0,>=3.0.4 in /usr/local/lib/python3.7/dist-packages (from spacy[cuda110,lookups,transformers]) (3.0.5)\n",
            "Requirement already satisfied: typing-extensions<4.0.0.0,>=3.7.4 in /usr/local/lib/python3.7/dist-packages (from spacy[cuda110,lookups,transformers]) (3.7.4.3)\n",
            "Requirement already satisfied: cymem<2.1.0,>=2.0.2 in /usr/local/lib/python3.7/dist-packages (from spacy[cuda110,lookups,transformers]) (2.0.5)\n",
            "Requirement already satisfied: blis<0.8.0,>=0.4.0 in /usr/local/lib/python3.7/dist-packages (from spacy[cuda110,lookups,transformers]) (0.4.1)\n",
            "Requirement already satisfied: preshed<3.1.0,>=3.0.2 in /usr/local/lib/python3.7/dist-packages (from spacy[cuda110,lookups,transformers]) (3.0.5)\n",
            "Requirement already satisfied: catalogue<2.1.0,>=2.0.3 in /usr/local/lib/python3.7/dist-packages (from spacy[cuda110,lookups,transformers]) (2.0.4)\n",
            "Requirement already satisfied: thinc<8.1.0,>=8.0.3 in /usr/local/lib/python3.7/dist-packages (from spacy[cuda110,lookups,transformers]) (8.0.3)\n",
            "Requirement already satisfied: packaging>=20.0 in /usr/local/lib/python3.7/dist-packages (from spacy[cuda110,lookups,transformers]) (20.9)\n",
            "Collecting cupy-cuda110<9.0.0,>=5.0.0b4\n",
            "  Downloading cupy_cuda110-8.6.0-cp37-cp37m-manylinux1_x86_64.whl (165.3 MB)\n",
            "\u001b[K     |████████████████████████████████| 165.3 MB 41 kB/s \n",
            "\u001b[?25hCollecting spacy-lookups-data<1.1.0,>=1.0.0\n",
            "  Downloading spacy_lookups_data-1.0.0-py2.py3-none-any.whl (93.4 MB)\n",
            "\u001b[K     |████████████████████████████████| 93.4 MB 1.2 MB/s \n",
            "\u001b[?25hCollecting spacy-transformers<1.1.0,>=1.0.1\n",
            "  Downloading spacy_transformers-1.0.2-py2.py3-none-any.whl (39 kB)\n",
            "Requirement already satisfied: zipp>=0.5 in /usr/local/lib/python3.7/dist-packages (from catalogue<2.1.0,>=2.0.3->spacy[cuda110,lookups,transformers]) (3.4.1)\n",
            "Requirement already satisfied: fastrlock>=0.3 in /usr/local/lib/python3.7/dist-packages (from cupy-cuda110<9.0.0,>=5.0.0b4->spacy[cuda110,lookups,transformers]) (0.6)\n",
            "Requirement already satisfied: pyparsing>=2.0.2 in /usr/local/lib/python3.7/dist-packages (from packaging>=20.0->spacy[cuda110,lookups,transformers]) (2.4.7)\n",
            "Requirement already satisfied: smart-open<4.0.0,>=2.2.0 in /usr/local/lib/python3.7/dist-packages (from pathy>=0.3.5->spacy[cuda110,lookups,transformers]) (3.0.0)\n",
            "Requirement already satisfied: certifi>=2017.4.17 in /usr/local/lib/python3.7/dist-packages (from requests<3.0.0,>=2.13.0->spacy[cuda110,lookups,transformers]) (2020.12.5)\n",
            "Requirement already satisfied: idna<3,>=2.5 in /usr/local/lib/python3.7/dist-packages (from requests<3.0.0,>=2.13.0->spacy[cuda110,lookups,transformers]) (2.10)\n",
            "Requirement already satisfied: urllib3!=1.25.0,!=1.25.1,<1.26,>=1.21.1 in /usr/local/lib/python3.7/dist-packages (from requests<3.0.0,>=2.13.0->spacy[cuda110,lookups,transformers]) (1.24.3)\n",
            "Requirement already satisfied: chardet<4,>=3.0.2 in /usr/local/lib/python3.7/dist-packages (from requests<3.0.0,>=2.13.0->spacy[cuda110,lookups,transformers]) (3.0.4)\n",
            "Requirement already satisfied: torch>=1.5.0 in /usr/local/lib/python3.7/dist-packages (from spacy-transformers<1.1.0,>=1.0.1->spacy[cuda110,lookups,transformers]) (1.8.1+cu101)\n",
            "Collecting spacy-alignments<1.0.0,>=0.7.2\n",
            "  Downloading spacy_alignments-0.8.3-cp37-cp37m-manylinux2014_x86_64.whl (998 kB)\n",
            "\u001b[K     |████████████████████████████████| 998 kB 54.7 MB/s \n",
            "\u001b[?25hCollecting transformers<4.6.0,>=3.4.0\n",
            "  Downloading transformers-4.5.1-py3-none-any.whl (2.1 MB)\n",
            "\u001b[K     |████████████████████████████████| 2.1 MB 57.4 MB/s \n",
            "\u001b[?25hRequirement already satisfied: regex!=2019.12.17 in /usr/local/lib/python3.7/dist-packages (from transformers<4.6.0,>=3.4.0->spacy-transformers<1.1.0,>=1.0.1->spacy[cuda110,lookups,transformers]) (2019.12.20)\n",
            "Requirement already satisfied: filelock in /usr/local/lib/python3.7/dist-packages (from transformers<4.6.0,>=3.4.0->spacy-transformers<1.1.0,>=1.0.1->spacy[cuda110,lookups,transformers]) (3.0.12)\n",
            "Collecting tokenizers<0.11,>=0.10.1\n",
            "  Downloading tokenizers-0.10.2-cp37-cp37m-manylinux2010_x86_64.whl (3.3 MB)\n",
            "\u001b[K     |████████████████████████████████| 3.3 MB 31.8 MB/s \n",
            "\u001b[?25hCollecting sacremoses\n",
            "  Downloading sacremoses-0.0.45-py3-none-any.whl (895 kB)\n",
            "\u001b[K     |████████████████████████████████| 895 kB 49.9 MB/s \n",
            "\u001b[?25hRequirement already satisfied: importlib-metadata in /usr/local/lib/python3.7/dist-packages (from transformers<4.6.0,>=3.4.0->spacy-transformers<1.1.0,>=1.0.1->spacy[cuda110,lookups,transformers]) (4.0.1)\n",
            "Requirement already satisfied: click<7.2.0,>=7.1.1 in /usr/local/lib/python3.7/dist-packages (from typer<0.4.0,>=0.3.0->spacy[cuda110,lookups,transformers]) (7.1.2)\n",
            "Requirement already satisfied: MarkupSafe>=0.23 in /usr/local/lib/python3.7/dist-packages (from jinja2->spacy[cuda110,lookups,transformers]) (2.0.0)\n",
            "Requirement already satisfied: joblib in /usr/local/lib/python3.7/dist-packages (from sacremoses->transformers<4.6.0,>=3.4.0->spacy-transformers<1.1.0,>=1.0.1->spacy[cuda110,lookups,transformers]) (1.0.1)\n",
            "Requirement already satisfied: six in /usr/local/lib/python3.7/dist-packages (from sacremoses->transformers<4.6.0,>=3.4.0->spacy-transformers<1.1.0,>=1.0.1->spacy[cuda110,lookups,transformers]) (1.15.0)\n",
            "Installing collected packages: tokenizers, sacremoses, transformers, spacy-alignments, spacy-transformers, spacy-lookups-data, cupy-cuda110\n",
            "Successfully installed cupy-cuda110-8.6.0 sacremoses-0.0.45 spacy-alignments-0.8.3 spacy-lookups-data-1.0.0 spacy-transformers-1.0.2 tokenizers-0.10.2 transformers-4.5.1\n",
            "\u001b[33mWARNING: Running pip as root will break packages and permissions. You should install packages reliably by using venv: https://pip.pypa.io/warnings/venv\u001b[0m\n",
            "2021-05-21 09:21:12.656480: I tensorflow/stream_executor/platform/default/dso_loader.cc:49] Successfully opened dynamic library libcudart.so.11.0\n",
            "Collecting en-core-web-lg==3.0.0\n",
            "  Downloading https://github.com/explosion/spacy-models/releases/download/en_core_web_lg-3.0.0/en_core_web_lg-3.0.0-py3-none-any.whl (778.8 MB)\n",
            "\u001b[K     |████████████████████████████████| 778.8 MB 19 kB/s \n",
            "\u001b[?25hRequirement already satisfied: spacy<3.1.0,>=3.0.0 in /usr/local/lib/python3.7/dist-packages (from en-core-web-lg==3.0.0) (3.0.6)\n",
            "Requirement already satisfied: jinja2 in /usr/local/lib/python3.7/dist-packages (from spacy<3.1.0,>=3.0.0->en-core-web-lg==3.0.0) (2.11.3)\n",
            "Requirement already satisfied: spacy-legacy<3.1.0,>=3.0.4 in /usr/local/lib/python3.7/dist-packages (from spacy<3.1.0,>=3.0.0->en-core-web-lg==3.0.0) (3.0.5)\n",
            "Requirement already satisfied: typer<0.4.0,>=0.3.0 in /usr/local/lib/python3.7/dist-packages (from spacy<3.1.0,>=3.0.0->en-core-web-lg==3.0.0) (0.3.2)\n",
            "Requirement already satisfied: murmurhash<1.1.0,>=0.28.0 in /usr/local/lib/python3.7/dist-packages (from spacy<3.1.0,>=3.0.0->en-core-web-lg==3.0.0) (1.0.5)\n",
            "Requirement already satisfied: wasabi<1.1.0,>=0.8.1 in /usr/local/lib/python3.7/dist-packages (from spacy<3.1.0,>=3.0.0->en-core-web-lg==3.0.0) (0.8.2)\n",
            "Requirement already satisfied: blis<0.8.0,>=0.4.0 in /usr/local/lib/python3.7/dist-packages (from spacy<3.1.0,>=3.0.0->en-core-web-lg==3.0.0) (0.4.1)\n",
            "Requirement already satisfied: cymem<2.1.0,>=2.0.2 in /usr/local/lib/python3.7/dist-packages (from spacy<3.1.0,>=3.0.0->en-core-web-lg==3.0.0) (2.0.5)\n",
            "Requirement already satisfied: pydantic<1.8.0,>=1.7.1 in /usr/local/lib/python3.7/dist-packages (from spacy<3.1.0,>=3.0.0->en-core-web-lg==3.0.0) (1.7.4)\n",
            "Requirement already satisfied: srsly<3.0.0,>=2.4.1 in /usr/local/lib/python3.7/dist-packages (from spacy<3.1.0,>=3.0.0->en-core-web-lg==3.0.0) (2.4.1)\n",
            "Requirement already satisfied: catalogue<2.1.0,>=2.0.3 in /usr/local/lib/python3.7/dist-packages (from spacy<3.1.0,>=3.0.0->en-core-web-lg==3.0.0) (2.0.4)\n",
            "Requirement already satisfied: pathy>=0.3.5 in /usr/local/lib/python3.7/dist-packages (from spacy<3.1.0,>=3.0.0->en-core-web-lg==3.0.0) (0.5.2)\n",
            "Requirement already satisfied: preshed<3.1.0,>=3.0.2 in /usr/local/lib/python3.7/dist-packages (from spacy<3.1.0,>=3.0.0->en-core-web-lg==3.0.0) (3.0.5)\n",
            "Requirement already satisfied: tqdm<5.0.0,>=4.38.0 in /usr/local/lib/python3.7/dist-packages (from spacy<3.1.0,>=3.0.0->en-core-web-lg==3.0.0) (4.41.1)\n",
            "Requirement already satisfied: numpy>=1.15.0 in /usr/local/lib/python3.7/dist-packages (from spacy<3.1.0,>=3.0.0->en-core-web-lg==3.0.0) (1.19.5)\n",
            "Requirement already satisfied: setuptools in /usr/local/lib/python3.7/dist-packages (from spacy<3.1.0,>=3.0.0->en-core-web-lg==3.0.0) (56.2.0)\n",
            "Requirement already satisfied: thinc<8.1.0,>=8.0.3 in /usr/local/lib/python3.7/dist-packages (from spacy<3.1.0,>=3.0.0->en-core-web-lg==3.0.0) (8.0.3)\n",
            "Requirement already satisfied: requests<3.0.0,>=2.13.0 in /usr/local/lib/python3.7/dist-packages (from spacy<3.1.0,>=3.0.0->en-core-web-lg==3.0.0) (2.23.0)\n",
            "Requirement already satisfied: packaging>=20.0 in /usr/local/lib/python3.7/dist-packages (from spacy<3.1.0,>=3.0.0->en-core-web-lg==3.0.0) (20.9)\n",
            "Requirement already satisfied: typing-extensions<4.0.0.0,>=3.7.4 in /usr/local/lib/python3.7/dist-packages (from spacy<3.1.0,>=3.0.0->en-core-web-lg==3.0.0) (3.7.4.3)\n",
            "Requirement already satisfied: zipp>=0.5 in /usr/local/lib/python3.7/dist-packages (from catalogue<2.1.0,>=2.0.3->spacy<3.1.0,>=3.0.0->en-core-web-lg==3.0.0) (3.4.1)\n",
            "Requirement already satisfied: pyparsing>=2.0.2 in /usr/local/lib/python3.7/dist-packages (from packaging>=20.0->spacy<3.1.0,>=3.0.0->en-core-web-lg==3.0.0) (2.4.7)\n",
            "Requirement already satisfied: smart-open<4.0.0,>=2.2.0 in /usr/local/lib/python3.7/dist-packages (from pathy>=0.3.5->spacy<3.1.0,>=3.0.0->en-core-web-lg==3.0.0) (3.0.0)\n",
            "Requirement already satisfied: chardet<4,>=3.0.2 in /usr/local/lib/python3.7/dist-packages (from requests<3.0.0,>=2.13.0->spacy<3.1.0,>=3.0.0->en-core-web-lg==3.0.0) (3.0.4)\n",
            "Requirement already satisfied: certifi>=2017.4.17 in /usr/local/lib/python3.7/dist-packages (from requests<3.0.0,>=2.13.0->spacy<3.1.0,>=3.0.0->en-core-web-lg==3.0.0) (2020.12.5)\n",
            "Requirement already satisfied: urllib3!=1.25.0,!=1.25.1,<1.26,>=1.21.1 in /usr/local/lib/python3.7/dist-packages (from requests<3.0.0,>=2.13.0->spacy<3.1.0,>=3.0.0->en-core-web-lg==3.0.0) (1.24.3)\n",
            "Requirement already satisfied: idna<3,>=2.5 in /usr/local/lib/python3.7/dist-packages (from requests<3.0.0,>=2.13.0->spacy<3.1.0,>=3.0.0->en-core-web-lg==3.0.0) (2.10)\n",
            "Requirement already satisfied: click<7.2.0,>=7.1.1 in /usr/local/lib/python3.7/dist-packages (from typer<0.4.0,>=0.3.0->spacy<3.1.0,>=3.0.0->en-core-web-lg==3.0.0) (7.1.2)\n",
            "Requirement already satisfied: MarkupSafe>=0.23 in /usr/local/lib/python3.7/dist-packages (from jinja2->spacy<3.1.0,>=3.0.0->en-core-web-lg==3.0.0) (2.0.0)\n",
            "Installing collected packages: en-core-web-lg\n",
            "Successfully installed en-core-web-lg-3.0.0\n",
            "\u001b[33mWARNING: Running pip as root will break packages and permissions. You should install packages reliably by using venv: https://pip.pypa.io/warnings/venv\u001b[0m\n",
            "\u001b[38;5;2m✔ Download and installation successful\u001b[0m\n",
            "You can now load the package via spacy.load('en_core_web_lg')\n",
            "************************\n",
            "        Versions        \n",
            "************************\n",
            "Tensorflow version=2.4.1\n",
            "Keras version=2.4.0\n",
            "Sklearn version=0.22.2.post1\n",
            "Numpy version=1.19.5\n",
            "Pandas version=1.1.5\n",
            "Seaborn version=0.11.1\n",
            "Matplotlib version=3.2.2\n",
            "SpaCy version=3.0.6\n",
            "Python version=3.7.10\n"
          ],
          "name": "stdout"
        }
      ]
    },
    {
      "cell_type": "markdown",
      "metadata": {
        "id": "leKoAEG_KWf8"
      },
      "source": [
        "### 2.3. Load the modules\n",
        "\n",
        "---\n",
        "\n",
        "Load the necessary modules for usage in the entire project."
      ]
    },
    {
      "cell_type": "code",
      "metadata": {
        "id": "U04wypEUv2p1"
      },
      "source": [
        "# importing necessary modules for this project\n",
        "import tensorflow as tf\n",
        "\n",
        "import pandas as pd\n",
        "import matplotlib.pyplot as plt\n",
        "import seaborn as sns\n",
        "import numpy as np\n",
        "import string\n",
        "import spacy\n",
        "\n",
        "# activate the GPU to run spaCy with GPU\n",
        "spacy.prefer_gpu()\n",
        "\n",
        "%matplotlib inline"
      ],
      "execution_count": null,
      "outputs": []
    },
    {
      "cell_type": "markdown",
      "metadata": {
        "id": "ca1X-gSJKap_"
      },
      "source": [
        "### 2.4. Load the dataset\n",
        "\n",
        "---\n",
        "\n",
        "Load the dataset for usage in the entire project."
      ]
    },
    {
      "cell_type": "code",
      "metadata": {
        "id": "owSKzElwKdh1",
        "colab": {
          "base_uri": "https://localhost:8080/",
          "height": 623
        },
        "outputId": "1444b988-aa05-4af7-feae-62919bc7c287"
      },
      "source": [
        "# use pandas to read the excel file and populate it in a pandas dataframe\n",
        "companies = pd.read_excel('./clean_dataset.xlsx')\n",
        "\n",
        "# see the top 10 companies that are populated in the dataframe\n",
        "companies.head(10)"
      ],
      "execution_count": null,
      "outputs": [
        {
          "output_type": "execute_result",
          "data": {
            "text/html": [
              "<div>\n",
              "<style scoped>\n",
              "    .dataframe tbody tr th:only-of-type {\n",
              "        vertical-align: middle;\n",
              "    }\n",
              "\n",
              "    .dataframe tbody tr th {\n",
              "        vertical-align: top;\n",
              "    }\n",
              "\n",
              "    .dataframe thead th {\n",
              "        text-align: right;\n",
              "    }\n",
              "</style>\n",
              "<table border=\"1\" class=\"dataframe\">\n",
              "  <thead>\n",
              "    <tr style=\"text-align: right;\">\n",
              "      <th></th>\n",
              "      <th>Company_ID</th>\n",
              "      <th>Company</th>\n",
              "      <th>Country</th>\n",
              "      <th>PIC</th>\n",
              "      <th>Sector</th>\n",
              "      <th>Subsector</th>\n",
              "      <th>Archetype</th>\n",
              "      <th>Valuechain</th>\n",
              "      <th>Websites</th>\n",
              "      <th>Company Profile Information</th>\n",
              "      <th>Remarks</th>\n",
              "    </tr>\n",
              "  </thead>\n",
              "  <tbody>\n",
              "    <tr>\n",
              "      <th>0</th>\n",
              "      <td>4137190062363536</td>\n",
              "      <td>AKSORN CHAROEN TAT ACT. CO.,LTD.</td>\n",
              "      <td>THAILAND</td>\n",
              "      <td>NaN</td>\n",
              "      <td>TMT</td>\n",
              "      <td>media</td>\n",
              "      <td>media_aggregator/distributor</td>\n",
              "      <td>Midstream</td>\n",
              "      <td>https://getlinks.co/6831</td>\n",
              "      <td>For over 80 years of experience in creating an...</td>\n",
              "      <td>NaN</td>\n",
              "    </tr>\n",
              "    <tr>\n",
              "      <th>1</th>\n",
              "      <td>23248790229909748</td>\n",
              "      <td>DONGGUAN SHENGYA CLEANING APPLIAME CO.LTD</td>\n",
              "      <td>CHINA</td>\n",
              "      <td>NaN</td>\n",
              "      <td>TMT</td>\n",
              "      <td>consumer electronics</td>\n",
              "      <td>consumer electronics_distributor</td>\n",
              "      <td>Downstream</td>\n",
              "      <td>https://baike.baidu.com/item/%E4%B8%9C%E8%8E%9...</td>\n",
              "      <td>Yatai's main products cover various cleaning m...</td>\n",
              "      <td>NaN</td>\n",
              "    </tr>\n",
              "    <tr>\n",
              "      <th>2</th>\n",
              "      <td>28486505934571008</td>\n",
              "      <td>EXIS TECH SDN. BHD.</td>\n",
              "      <td>MALAYSIA</td>\n",
              "      <td>NaN</td>\n",
              "      <td>oos</td>\n",
              "      <td>others</td>\n",
              "      <td>others</td>\n",
              "      <td>NaN</td>\n",
              "      <td>http://www.exis-tech.com/</td>\n",
              "      <td>In the beginning, it started off by providing ...</td>\n",
              "      <td>NaN</td>\n",
              "    </tr>\n",
              "    <tr>\n",
              "      <th>3</th>\n",
              "      <td>38251695094669872</td>\n",
              "      <td>BEI JING ESTRABA IMPORT AND EXPORT</td>\n",
              "      <td>CHINA</td>\n",
              "      <td>NaN</td>\n",
              "      <td>NaN</td>\n",
              "      <td>NaN</td>\n",
              "      <td>NaN</td>\n",
              "      <td>NaN</td>\n",
              "      <td>NaN</td>\n",
              "      <td>NaN</td>\n",
              "      <td>NaN</td>\n",
              "    </tr>\n",
              "    <tr>\n",
              "      <th>4</th>\n",
              "      <td>39910921263510776</td>\n",
              "      <td>Aztech Electronics Pte Ltd</td>\n",
              "      <td>SINGAPORE</td>\n",
              "      <td>NaN</td>\n",
              "      <td>TMT</td>\n",
              "      <td>consumer electronics</td>\n",
              "      <td>consumer electronics_distributor</td>\n",
              "      <td>Downstream</td>\n",
              "      <td>https://www.aztech.com/business/about-us/</td>\n",
              "      <td>Being a turnkey, one-stop integrated solutions...</td>\n",
              "      <td>NaN</td>\n",
              "    </tr>\n",
              "    <tr>\n",
              "      <th>5</th>\n",
              "      <td>54863889264716592</td>\n",
              "      <td>TONGDUN INTERNATIONAL PTE LTD</td>\n",
              "      <td>SINGAPORE</td>\n",
              "      <td>NaN</td>\n",
              "      <td>tmt</td>\n",
              "      <td>it_services</td>\n",
              "      <td>it_services</td>\n",
              "      <td>midstream</td>\n",
              "      <td>https://www.tongdun.net/info/company</td>\n",
              "      <td>Tongdun Technology is a professional third-par...</td>\n",
              "      <td>NaN</td>\n",
              "    </tr>\n",
              "    <tr>\n",
              "      <th>6</th>\n",
              "      <td>60624700618157752</td>\n",
              "      <td>EMASTIGA ENGRG PTE LTD</td>\n",
              "      <td>SINGAPORE</td>\n",
              "      <td>NaN</td>\n",
              "      <td>cni</td>\n",
              "      <td>cni_service providers</td>\n",
              "      <td>cni_service providers</td>\n",
              "      <td>midstream</td>\n",
              "      <td>http://emastiga.com/</td>\n",
              "      <td>For over 30 years, EMASTIGA has been servicing...</td>\n",
              "      <td>Holding company and also provides it_services....</td>\n",
              "    </tr>\n",
              "    <tr>\n",
              "      <th>7</th>\n",
              "      <td>102285011598298000</td>\n",
              "      <td>AEROFLUID CO.,LTD.</td>\n",
              "      <td>THAILAND</td>\n",
              "      <td>NaN</td>\n",
              "      <td>CNI</td>\n",
              "      <td>cni_equipment suppliers</td>\n",
              "      <td>cni_equipment suppliers</td>\n",
              "      <td>MIDSTREAM</td>\n",
              "      <td>https://www.matchlink.asia/business/page/Thail...</td>\n",
              "      <td>Sales of hydraulic equipment and parts</td>\n",
              "      <td>NaN</td>\n",
              "    </tr>\n",
              "    <tr>\n",
              "      <th>8</th>\n",
              "      <td>116707715618748400</td>\n",
              "      <td>POLYCOM ASIA PACIFIC PTE. LTD.</td>\n",
              "      <td>SINGAPORE</td>\n",
              "      <td>NaN</td>\n",
              "      <td>tmt</td>\n",
              "      <td>telecommunication</td>\n",
              "      <td>network equipment supplier</td>\n",
              "      <td>upstream</td>\n",
              "      <td>https://www.sgpbusiness.com/company/Polycom-As...</td>\n",
              "      <td>WHOLESALE OF TELECOMMUNICATIONS EQUIPMENT (EXC...</td>\n",
              "      <td>NaN</td>\n",
              "    </tr>\n",
              "    <tr>\n",
              "      <th>9</th>\n",
              "      <td>120313950904532592</td>\n",
              "      <td>EXCELKOS SDN. BHD.</td>\n",
              "      <td>MALAYSIA</td>\n",
              "      <td>NaN</td>\n",
              "      <td>IND</td>\n",
              "      <td>diversified</td>\n",
              "      <td>rubber</td>\n",
              "      <td>Manufacturer</td>\n",
              "      <td>https://www.excelkos.com/</td>\n",
              "      <td>For Excelkos, it all started with a far-sighte...</td>\n",
              "      <td>NaN</td>\n",
              "    </tr>\n",
              "  </tbody>\n",
              "</table>\n",
              "</div>"
            ],
            "text/plain": [
              "           Company_ID  ...                                            Remarks\n",
              "0    4137190062363536  ...                                                NaN\n",
              "1   23248790229909748  ...                                                NaN\n",
              "2   28486505934571008  ...                                                NaN\n",
              "3   38251695094669872  ...                                                NaN\n",
              "4   39910921263510776  ...                                                NaN\n",
              "5   54863889264716592  ...                                                NaN\n",
              "6   60624700618157752  ...  Holding company and also provides it_services....\n",
              "7  102285011598298000  ...                                                NaN\n",
              "8  116707715618748400  ...                                                NaN\n",
              "9  120313950904532592  ...                                                NaN\n",
              "\n",
              "[10 rows x 11 columns]"
            ]
          },
          "metadata": {
            "tags": []
          },
          "execution_count": 5
        }
      ]
    },
    {
      "cell_type": "markdown",
      "metadata": {
        "id": "2TI1D_-KP6hC"
      },
      "source": [
        "---\n",
        "---"
      ]
    },
    {
      "cell_type": "markdown",
      "metadata": {
        "id": "9qKHTDyOP9bz"
      },
      "source": [
        "# 3.Exploratory Data Analysis"
      ]
    },
    {
      "cell_type": "markdown",
      "metadata": {
        "id": "P8p50I8GQCAg"
      },
      "source": [
        "### 3.1. Get overview of dataset\n",
        "\n",
        "---\n",
        "\n",
        "Get statistical information of the dataset to understand the dataset better."
      ]
    },
    {
      "cell_type": "code",
      "metadata": {
        "id": "2iea82R6Dm2J",
        "colab": {
          "base_uri": "https://localhost:8080/"
        },
        "outputId": "9bbfc6b7-ec01-4c75-dd2e-9f5afb409b87"
      },
      "source": [
        "# see the row headers of the entire pandas dataframe first\n",
        "list(companies.columns)"
      ],
      "execution_count": null,
      "outputs": [
        {
          "output_type": "execute_result",
          "data": {
            "text/plain": [
              "['Company_ID',\n",
              " 'Company',\n",
              " 'Country',\n",
              " 'PIC',\n",
              " 'Sector',\n",
              " 'Subsector',\n",
              " 'Archetype',\n",
              " 'Valuechain',\n",
              " 'Websites',\n",
              " 'Company Profile Information',\n",
              " 'Remarks']"
            ]
          },
          "metadata": {
            "tags": []
          },
          "execution_count": 6
        }
      ]
    },
    {
      "cell_type": "code",
      "metadata": {
        "id": "OVX1CBSTLZqm",
        "colab": {
          "base_uri": "https://localhost:8080/"
        },
        "outputId": "bb235cb7-a810-49cc-9721-f1ab3939b0e1"
      },
      "source": [
        "# get the total number of records in the dataframe\n",
        "df_count = companies['Company_ID'].count()\n",
        "\n",
        "# get count of unique contries where companies are based in\n",
        "df_countCountry = companies['Country'].nunique()\n",
        "\n",
        "# get count of total unique sectors where companies are from\n",
        "df_countSector = companies['Sector'].nunique()\n",
        "\n",
        "# get count of total unique subseector where companies are from\n",
        "df_countsubSector = companies['Subsector'].nunique()\n",
        "\n",
        "# get count of total unique valuechain where companies are from\n",
        "df_countValuechain = companies['Valuechain'].nunique()\n",
        "\n",
        "print('Total number of records:', df_count)\n",
        "print('Total number of countries:', df_countCountry)\n",
        "print('Total number of sectors:', df_countSector)\n",
        "print('Total number of subsectors:', df_countsubSector)\n",
        "print('Total number of valuechain:', df_countValuechain)"
      ],
      "execution_count": null,
      "outputs": [
        {
          "output_type": "stream",
          "text": [
            "Total number of records: 1000\n",
            "Total number of countries: 7\n",
            "Total number of sectors: 14\n",
            "Total number of subsectors: 26\n",
            "Total number of valuechain: 18\n"
          ],
          "name": "stdout"
        }
      ]
    },
    {
      "cell_type": "code",
      "metadata": {
        "id": "O1C_l7ytUixQ",
        "colab": {
          "base_uri": "https://localhost:8080/"
        },
        "outputId": "0882b40e-a26e-48af-9b69-91966269e990"
      },
      "source": [
        "# get total number of countries\n",
        "df_totalCountries = companies['Country'].value_counts()\n",
        "\n",
        "# get list of unique sector\n",
        "df_sector = companies['Sector'].value_counts()\n",
        "\n",
        "# get list of unique archetype\n",
        "df_archetype = companies['Archetype'].value_counts()\n",
        "\n",
        "# get list of unique valuechain\n",
        "df_valuechain = companies['Valuechain'].value_counts()\n",
        "\n",
        "print('List of unique countries:\\n{}'.format(df_totalCountries))\n",
        "print()\n",
        "print('List of unique sector:\\n{}'.format(df_sector))\n",
        "print()\n",
        "print('List of unique valuechain:\\n{}'.format(df_valuechain))"
      ],
      "execution_count": null,
      "outputs": [
        {
          "output_type": "stream",
          "text": [
            "List of unique countries:\n",
            "SINGAPORE    359\n",
            "THAILAND     244\n",
            "MALAYSIA     223\n",
            "CHINA        103\n",
            "HONG KONG     36\n",
            "INDONESIA     34\n",
            "AUSTRALIA      1\n",
            "Name: Country, dtype: int64\n",
            "\n",
            "List of unique sector:\n",
            "cni    291\n",
            "tmt    257\n",
            "ong     97\n",
            "oos     97\n",
            "CNI     74\n",
            "TMT     42\n",
            "ind     21\n",
            "OOS     18\n",
            "cg      15\n",
            "IND     10\n",
            "ONG      8\n",
            "REH      8\n",
            "CG       8\n",
            "reh      6\n",
            "Name: Sector, dtype: int64\n",
            "\n",
            "List of unique valuechain:\n",
            "midstream                 373\n",
            "downstream                227\n",
            "MIDSTREAM                  68\n",
            "upstream                   51\n",
            "Midstream                  24\n",
            "Downstream                 23\n",
            "upstream or downstream     17\n",
            "DOWNSTREAM                 14\n",
            "manufacturer               10\n",
            "Upstream                   10\n",
            "distributor                 6\n",
            "Manufacturer                4\n",
            "                            3\n",
            "UPSTREAM                    3\n",
            "across value chain          2\n",
            "trader                      2\n",
            "Across value chain          2\n",
            "Upstream or Downstream      1\n",
            "Name: Valuechain, dtype: int64\n"
          ],
          "name": "stdout"
        }
      ]
    },
    {
      "cell_type": "code",
      "metadata": {
        "id": "NIoXot6HWEWP",
        "colab": {
          "base_uri": "https://localhost:8080/"
        },
        "outputId": "d191c58a-193e-44f8-e5e7-3fd79c16bccd"
      },
      "source": [
        "# get list of unique subsector\n",
        "df_subsector = companies['Subsector'].value_counts()\n",
        "\n",
        "print('List of unique Subsector:\\n{}'.format(df_subsector))"
      ],
      "execution_count": null,
      "outputs": [
        {
          "output_type": "stream",
          "text": [
            "List of unique Subsector:\n",
            "buildings & industrial               154\n",
            "others                               115\n",
            "consumer electronics                 111\n",
            "building_material                    102\n",
            "o&g                                   66\n",
            "it_services                           59\n",
            "cni_service providers                 57\n",
            "semiconductor                         51\n",
            "telecommunication                     40\n",
            "utilities                             33\n",
            "petrochemical                         30\n",
            "retail n distribution                 22\n",
            "digital_business                      20\n",
            "metals and mining                     19\n",
            "media                                 18\n",
            "infrastructure                        14\n",
            "auto & mec                            10\n",
            "o&g_service providers/contractors      8\n",
            "residential                            7\n",
            "commercial                             5\n",
            "cni_equipment suppliers                5\n",
            "diversified                            2\n",
            "industrial                             1\n",
            "ioc/noc                                1\n",
            "agribusiness                           1\n",
            "hotels and accommodation               1\n",
            "Name: Subsector, dtype: int64\n"
          ],
          "name": "stdout"
        }
      ]
    },
    {
      "cell_type": "code",
      "metadata": {
        "id": "SjaNooD3Uz3c",
        "colab": {
          "base_uri": "https://localhost:8080/"
        },
        "outputId": "88a6518e-8b0b-42ed-9b80-9d917ae23479"
      },
      "source": [
        "print('List of unique archetype:\\n{}'.format(df_archetype))"
      ],
      "execution_count": null,
      "outputs": [
        {
          "output_type": "stream",
          "text": [
            "List of unique archetype:\n",
            "buildings & industrial_contractor                          143\n",
            "others                                                     115\n",
            "consumer electronics_distributor                            96\n",
            "building_material_manufacturer                              62\n",
            "it_services                                                 59\n",
            "                                                          ... \n",
            "packaged food distributor                                    1\n",
            "hotels and accommodation_developer                           1\n",
            "o&g midstream service provider (transportation/storage)      1\n",
            "auto component                                               1\n",
            "commercial_developer                                         1\n",
            "Name: Archetype, Length: 61, dtype: int64\n"
          ],
          "name": "stdout"
        }
      ]
    },
    {
      "cell_type": "markdown",
      "metadata": {
        "id": "57EHaR92D9UP"
      },
      "source": [
        "### 3.2. Drop unncessary columns\n",
        "\n",
        "---\n",
        "\n",
        "Here, we will drop columns that wiill not aid in our EDA."
      ]
    },
    {
      "cell_type": "code",
      "metadata": {
        "id": "TC9-PuS6EDXT",
        "colab": {
          "base_uri": "https://localhost:8080/",
          "height": 424
        },
        "outputId": "c5aff5e4-178b-4ada-ff5e-c75e6dc92301"
      },
      "source": [
        "# declare the list of the row names that are redundant\n",
        "rows_to_drop = ['Company_ID', 'PIC', 'Websites', 'Remarks']\n",
        "\n",
        "# use a conditional expression to filter out those rows\n",
        "df_filteredCompanies = companies.drop(labels=rows_to_drop, axis=1)\n",
        "\n",
        "df_filteredCompanies"
      ],
      "execution_count": null,
      "outputs": [
        {
          "output_type": "execute_result",
          "data": {
            "text/html": [
              "<div>\n",
              "<style scoped>\n",
              "    .dataframe tbody tr th:only-of-type {\n",
              "        vertical-align: middle;\n",
              "    }\n",
              "\n",
              "    .dataframe tbody tr th {\n",
              "        vertical-align: top;\n",
              "    }\n",
              "\n",
              "    .dataframe thead th {\n",
              "        text-align: right;\n",
              "    }\n",
              "</style>\n",
              "<table border=\"1\" class=\"dataframe\">\n",
              "  <thead>\n",
              "    <tr style=\"text-align: right;\">\n",
              "      <th></th>\n",
              "      <th>Company</th>\n",
              "      <th>Country</th>\n",
              "      <th>Sector</th>\n",
              "      <th>Subsector</th>\n",
              "      <th>Archetype</th>\n",
              "      <th>Valuechain</th>\n",
              "      <th>Company Profile Information</th>\n",
              "    </tr>\n",
              "  </thead>\n",
              "  <tbody>\n",
              "    <tr>\n",
              "      <th>0</th>\n",
              "      <td>AKSORN CHAROEN TAT ACT. CO.,LTD.</td>\n",
              "      <td>THAILAND</td>\n",
              "      <td>TMT</td>\n",
              "      <td>media</td>\n",
              "      <td>media_aggregator/distributor</td>\n",
              "      <td>Midstream</td>\n",
              "      <td>For over 80 years of experience in creating an...</td>\n",
              "    </tr>\n",
              "    <tr>\n",
              "      <th>1</th>\n",
              "      <td>DONGGUAN SHENGYA CLEANING APPLIAME CO.LTD</td>\n",
              "      <td>CHINA</td>\n",
              "      <td>TMT</td>\n",
              "      <td>consumer electronics</td>\n",
              "      <td>consumer electronics_distributor</td>\n",
              "      <td>Downstream</td>\n",
              "      <td>Yatai's main products cover various cleaning m...</td>\n",
              "    </tr>\n",
              "    <tr>\n",
              "      <th>2</th>\n",
              "      <td>EXIS TECH SDN. BHD.</td>\n",
              "      <td>MALAYSIA</td>\n",
              "      <td>oos</td>\n",
              "      <td>others</td>\n",
              "      <td>others</td>\n",
              "      <td>NaN</td>\n",
              "      <td>In the beginning, it started off by providing ...</td>\n",
              "    </tr>\n",
              "    <tr>\n",
              "      <th>3</th>\n",
              "      <td>BEI JING ESTRABA IMPORT AND EXPORT</td>\n",
              "      <td>CHINA</td>\n",
              "      <td>NaN</td>\n",
              "      <td>NaN</td>\n",
              "      <td>NaN</td>\n",
              "      <td>NaN</td>\n",
              "      <td>NaN</td>\n",
              "    </tr>\n",
              "    <tr>\n",
              "      <th>4</th>\n",
              "      <td>Aztech Electronics Pte Ltd</td>\n",
              "      <td>SINGAPORE</td>\n",
              "      <td>TMT</td>\n",
              "      <td>consumer electronics</td>\n",
              "      <td>consumer electronics_distributor</td>\n",
              "      <td>Downstream</td>\n",
              "      <td>Being a turnkey, one-stop integrated solutions...</td>\n",
              "    </tr>\n",
              "    <tr>\n",
              "      <th>...</th>\n",
              "      <td>...</td>\n",
              "      <td>...</td>\n",
              "      <td>...</td>\n",
              "      <td>...</td>\n",
              "      <td>...</td>\n",
              "      <td>...</td>\n",
              "      <td>...</td>\n",
              "    </tr>\n",
              "    <tr>\n",
              "      <th>995</th>\n",
              "      <td>LUX DISTRIBUTOR SDN. BHD.</td>\n",
              "      <td>MALAYSIA</td>\n",
              "      <td>cni</td>\n",
              "      <td>building_material</td>\n",
              "      <td>building_material_supplier_distributor</td>\n",
              "      <td>downstream</td>\n",
              "      <td>Lux Distributor Sdn Bhd provides building prod...</td>\n",
              "    </tr>\n",
              "    <tr>\n",
              "      <th>996</th>\n",
              "      <td>KJI INDUSTRIAL LIMITED</td>\n",
              "      <td>HONG KONG</td>\n",
              "      <td>tmt</td>\n",
              "      <td>consumer electronics</td>\n",
              "      <td>consumer electronics_distributor</td>\n",
              "      <td>downstream</td>\n",
              "      <td>Our wide product range including Citrus Juicer...</td>\n",
              "    </tr>\n",
              "    <tr>\n",
              "      <th>997</th>\n",
              "      <td>TEKNOSERV ENGINEERING SDN. BHD.</td>\n",
              "      <td>MALAYSIA</td>\n",
              "      <td>cni</td>\n",
              "      <td>utilities</td>\n",
              "      <td>utilities_developer</td>\n",
              "      <td>upstream</td>\n",
              "      <td>Teknoserv Engineering Sdn Bhd provides water s...</td>\n",
              "    </tr>\n",
              "    <tr>\n",
              "      <th>998</th>\n",
              "      <td>THERMAL SOLUTIONS ASIA PTE LTD</td>\n",
              "      <td>SINGAPORE</td>\n",
              "      <td>CNI</td>\n",
              "      <td>cni_service providers</td>\n",
              "      <td>cni_service providers</td>\n",
              "      <td>MIDSTREAM</td>\n",
              "      <td>Founded in 2000, Thermal Solutions Asia Pte Lt...</td>\n",
              "    </tr>\n",
              "    <tr>\n",
              "      <th>999</th>\n",
              "      <td>AUDIO ZOOM PTE LTD</td>\n",
              "      <td>SINGAPORE</td>\n",
              "      <td>TMT</td>\n",
              "      <td>it_services</td>\n",
              "      <td>it_services</td>\n",
              "      <td>Midstream</td>\n",
              "      <td>AUDIO ZOOM is an ACRA-registered entity that h...</td>\n",
              "    </tr>\n",
              "  </tbody>\n",
              "</table>\n",
              "<p>1000 rows × 7 columns</p>\n",
              "</div>"
            ],
            "text/plain": [
              "                                       Company  ...                        Company Profile Information\n",
              "0             AKSORN CHAROEN TAT ACT. CO.,LTD.  ...  For over 80 years of experience in creating an...\n",
              "1    DONGGUAN SHENGYA CLEANING APPLIAME CO.LTD  ...  Yatai's main products cover various cleaning m...\n",
              "2                          EXIS TECH SDN. BHD.  ...  In the beginning, it started off by providing ...\n",
              "3           BEI JING ESTRABA IMPORT AND EXPORT  ...                                                NaN\n",
              "4                   Aztech Electronics Pte Ltd  ...  Being a turnkey, one-stop integrated solutions...\n",
              "..                                         ...  ...                                                ...\n",
              "995                  LUX DISTRIBUTOR SDN. BHD.  ...  Lux Distributor Sdn Bhd provides building prod...\n",
              "996                     KJI INDUSTRIAL LIMITED  ...  Our wide product range including Citrus Juicer...\n",
              "997            TEKNOSERV ENGINEERING SDN. BHD.  ...  Teknoserv Engineering Sdn Bhd provides water s...\n",
              "998             THERMAL SOLUTIONS ASIA PTE LTD  ...  Founded in 2000, Thermal Solutions Asia Pte Lt...\n",
              "999                         AUDIO ZOOM PTE LTD  ...  AUDIO ZOOM is an ACRA-registered entity that h...\n",
              "\n",
              "[1000 rows x 7 columns]"
            ]
          },
          "metadata": {
            "tags": []
          },
          "execution_count": 11
        }
      ]
    },
    {
      "cell_type": "markdown",
      "metadata": {
        "id": "c3S6ZQzySmC0"
      },
      "source": [
        "### 3.3. Filter rows with valid data\n",
        "\n",
        "---\n",
        "\n",
        "Extract columns with Nan values and list them out here. Afterwards, gather the rows deemed suitable to process NLP."
      ]
    },
    {
      "cell_type": "code",
      "metadata": {
        "id": "7ZLoO_4SSry7",
        "colab": {
          "base_uri": "https://localhost:8080/",
          "height": 1000
        },
        "outputId": "7ef93f77-f5da-4a42-d403-9f12cdefbe90"
      },
      "source": [
        "# find all the rows with nan data in sector, subsector, archetype and valuechain\n",
        "cols_to_check = ['Sector', 'Subsector', 'Archetype', 'Valuechain', 'Company Profile Information']\n",
        "empty = df_filteredCompanies[df_filteredCompanies[cols_to_check].isnull().all(1)]\n",
        "\n",
        "empty"
      ],
      "execution_count": null,
      "outputs": [
        {
          "output_type": "execute_result",
          "data": {
            "text/html": [
              "<div>\n",
              "<style scoped>\n",
              "    .dataframe tbody tr th:only-of-type {\n",
              "        vertical-align: middle;\n",
              "    }\n",
              "\n",
              "    .dataframe tbody tr th {\n",
              "        vertical-align: top;\n",
              "    }\n",
              "\n",
              "    .dataframe thead th {\n",
              "        text-align: right;\n",
              "    }\n",
              "</style>\n",
              "<table border=\"1\" class=\"dataframe\">\n",
              "  <thead>\n",
              "    <tr style=\"text-align: right;\">\n",
              "      <th></th>\n",
              "      <th>Company</th>\n",
              "      <th>Country</th>\n",
              "      <th>Sector</th>\n",
              "      <th>Subsector</th>\n",
              "      <th>Archetype</th>\n",
              "      <th>Valuechain</th>\n",
              "      <th>Company Profile Information</th>\n",
              "    </tr>\n",
              "  </thead>\n",
              "  <tbody>\n",
              "    <tr>\n",
              "      <th>3</th>\n",
              "      <td>BEI JING ESTRABA IMPORT AND EXPORT</td>\n",
              "      <td>CHINA</td>\n",
              "      <td>NaN</td>\n",
              "      <td>NaN</td>\n",
              "      <td>NaN</td>\n",
              "      <td>NaN</td>\n",
              "      <td>NaN</td>\n",
              "    </tr>\n",
              "    <tr>\n",
              "      <th>13</th>\n",
              "      <td>CHANGTU COUNTRY LONGXING FERTILIZER CO.,LTD</td>\n",
              "      <td>CHINA</td>\n",
              "      <td>NaN</td>\n",
              "      <td>NaN</td>\n",
              "      <td>NaN</td>\n",
              "      <td>NaN</td>\n",
              "      <td>NaN</td>\n",
              "    </tr>\n",
              "    <tr>\n",
              "      <th>35</th>\n",
              "      <td>ZIBOBOSHANHONGLIWEI MOTOR CO.,LTD</td>\n",
              "      <td>CHINA</td>\n",
              "      <td>NaN</td>\n",
              "      <td>NaN</td>\n",
              "      <td>NaN</td>\n",
              "      <td>NaN</td>\n",
              "      <td>NaN</td>\n",
              "    </tr>\n",
              "    <tr>\n",
              "      <th>62</th>\n",
              "      <td>BEIJING DUO MEIDUO SHIYOU PRODUCTS SALES CO., ...</td>\n",
              "      <td>CHINA</td>\n",
              "      <td>NaN</td>\n",
              "      <td>NaN</td>\n",
              "      <td>NaN</td>\n",
              "      <td>NaN</td>\n",
              "      <td>NaN</td>\n",
              "    </tr>\n",
              "    <tr>\n",
              "      <th>79</th>\n",
              "      <td>TRUSVEST SDN. BHD.</td>\n",
              "      <td>MALAYSIA</td>\n",
              "      <td>NaN</td>\n",
              "      <td>NaN</td>\n",
              "      <td>NaN</td>\n",
              "      <td>NaN</td>\n",
              "      <td>NaN</td>\n",
              "    </tr>\n",
              "    <tr>\n",
              "      <th>108</th>\n",
              "      <td>LUOTIAN COUNTY SILICON CARBIDE PLANT</td>\n",
              "      <td>CHINA</td>\n",
              "      <td>NaN</td>\n",
              "      <td>NaN</td>\n",
              "      <td>NaN</td>\n",
              "      <td>NaN</td>\n",
              "      <td>NaN</td>\n",
              "    </tr>\n",
              "    <tr>\n",
              "      <th>111</th>\n",
              "      <td>NEWTON INTERNATIONAL (HK) LIMITED</td>\n",
              "      <td>SINGAPORE</td>\n",
              "      <td>NaN</td>\n",
              "      <td>NaN</td>\n",
              "      <td>NaN</td>\n",
              "      <td>NaN</td>\n",
              "      <td>NaN</td>\n",
              "    </tr>\n",
              "    <tr>\n",
              "      <th>129</th>\n",
              "      <td>ZHEJIANG-THAI PHOTOVOLTAIC TECHNOLOGY CO., LTD.</td>\n",
              "      <td>CHINA</td>\n",
              "      <td>NaN</td>\n",
              "      <td>NaN</td>\n",
              "      <td>NaN</td>\n",
              "      <td>NaN</td>\n",
              "      <td>NaN</td>\n",
              "    </tr>\n",
              "    <tr>\n",
              "      <th>162</th>\n",
              "      <td>RAINBOW BLISS LIMITED</td>\n",
              "      <td>SINGAPORE</td>\n",
              "      <td>NaN</td>\n",
              "      <td>NaN</td>\n",
              "      <td>NaN</td>\n",
              "      <td>NaN</td>\n",
              "      <td>NaN</td>\n",
              "    </tr>\n",
              "    <tr>\n",
              "      <th>195</th>\n",
              "      <td>VATCHAREE TANGTRAKOOLCHAROEN</td>\n",
              "      <td>THAILAND</td>\n",
              "      <td>NaN</td>\n",
              "      <td>NaN</td>\n",
              "      <td>NaN</td>\n",
              "      <td>NaN</td>\n",
              "      <td>NaN</td>\n",
              "    </tr>\n",
              "    <tr>\n",
              "      <th>220</th>\n",
              "      <td>LIAONING JINYUN ELECTROMECHANICAL EQUIPMENT CO...</td>\n",
              "      <td>CHINA</td>\n",
              "      <td>NaN</td>\n",
              "      <td>NaN</td>\n",
              "      <td>NaN</td>\n",
              "      <td>NaN</td>\n",
              "      <td>NaN</td>\n",
              "    </tr>\n",
              "    <tr>\n",
              "      <th>221</th>\n",
              "      <td>NANJING JIASHAN CONCRETE CO., LTD.</td>\n",
              "      <td>CHINA</td>\n",
              "      <td>NaN</td>\n",
              "      <td>NaN</td>\n",
              "      <td>NaN</td>\n",
              "      <td>NaN</td>\n",
              "      <td>NaN</td>\n",
              "    </tr>\n",
              "    <tr>\n",
              "      <th>226</th>\n",
              "      <td>EDC TECHNOLOGY (KUNSHAN) CO., LTD</td>\n",
              "      <td>CHINA</td>\n",
              "      <td>NaN</td>\n",
              "      <td>NaN</td>\n",
              "      <td>NaN</td>\n",
              "      <td>NaN</td>\n",
              "      <td>NaN</td>\n",
              "    </tr>\n",
              "    <tr>\n",
              "      <th>234</th>\n",
              "      <td>MARLBORO TO MOTOR (SHANGHAI) CO., LTD.</td>\n",
              "      <td>CHINA</td>\n",
              "      <td>NaN</td>\n",
              "      <td>NaN</td>\n",
              "      <td>NaN</td>\n",
              "      <td>NaN</td>\n",
              "      <td>NaN</td>\n",
              "    </tr>\n",
              "    <tr>\n",
              "      <th>262</th>\n",
              "      <td>XIAMEN XINYI SHENGFEI METAL MATERIAL SCIENCE A...</td>\n",
              "      <td>CHINA</td>\n",
              "      <td>NaN</td>\n",
              "      <td>NaN</td>\n",
              "      <td>NaN</td>\n",
              "      <td>NaN</td>\n",
              "      <td>NaN</td>\n",
              "    </tr>\n",
              "    <tr>\n",
              "      <th>312</th>\n",
              "      <td>DEKORAMIK PERDANA,PT</td>\n",
              "      <td>INDONESIA</td>\n",
              "      <td>NaN</td>\n",
              "      <td>NaN</td>\n",
              "      <td>NaN</td>\n",
              "      <td>NaN</td>\n",
              "      <td>NaN</td>\n",
              "    </tr>\n",
              "    <tr>\n",
              "      <th>321</th>\n",
              "      <td>YANCHENG HENGXIN AIR-CONDITION XIAOSHOU CO.,LTD</td>\n",
              "      <td>CHINA</td>\n",
              "      <td>NaN</td>\n",
              "      <td>NaN</td>\n",
              "      <td>NaN</td>\n",
              "      <td>NaN</td>\n",
              "      <td>NaN</td>\n",
              "    </tr>\n",
              "    <tr>\n",
              "      <th>328</th>\n",
              "      <td>GUANGZHOU EAST PLASTIC OIL DRILLING AND MINING...</td>\n",
              "      <td>CHINA</td>\n",
              "      <td>NaN</td>\n",
              "      <td>NaN</td>\n",
              "      <td>NaN</td>\n",
              "      <td>NaN</td>\n",
              "      <td>NaN</td>\n",
              "    </tr>\n",
              "    <tr>\n",
              "      <th>331</th>\n",
              "      <td>BATHROOM DESIGN COMPANY LIMITED</td>\n",
              "      <td>THAILAND</td>\n",
              "      <td>NaN</td>\n",
              "      <td>NaN</td>\n",
              "      <td>NaN</td>\n",
              "      <td>NaN</td>\n",
              "      <td>NaN</td>\n",
              "    </tr>\n",
              "    <tr>\n",
              "      <th>333</th>\n",
              "      <td>PETROLEUM NGV (UBON) CO.,LTD.</td>\n",
              "      <td>THAILAND</td>\n",
              "      <td>NaN</td>\n",
              "      <td>NaN</td>\n",
              "      <td>NaN</td>\n",
              "      <td>NaN</td>\n",
              "      <td>NaN</td>\n",
              "    </tr>\n",
              "    <tr>\n",
              "      <th>340</th>\n",
              "      <td>GUANGXI YINXIN ELECTROMECHANICAL EQUIPMENT CO....</td>\n",
              "      <td>CHINA</td>\n",
              "      <td>NaN</td>\n",
              "      <td>NaN</td>\n",
              "      <td>NaN</td>\n",
              "      <td>NaN</td>\n",
              "      <td>NaN</td>\n",
              "    </tr>\n",
              "    <tr>\n",
              "      <th>391</th>\n",
              "      <td>QUANZHOU LU:WAN TRADE CO., LTD.</td>\n",
              "      <td>CHINA</td>\n",
              "      <td>NaN</td>\n",
              "      <td>NaN</td>\n",
              "      <td>NaN</td>\n",
              "      <td>NaN</td>\n",
              "      <td>NaN</td>\n",
              "    </tr>\n",
              "    <tr>\n",
              "      <th>455</th>\n",
              "      <td>GREAT DYNASTY HK CO., LIMITED</td>\n",
              "      <td>CHINA</td>\n",
              "      <td>NaN</td>\n",
              "      <td>NaN</td>\n",
              "      <td>NaN</td>\n",
              "      <td>NaN</td>\n",
              "      <td>NaN</td>\n",
              "    </tr>\n",
              "    <tr>\n",
              "      <th>457</th>\n",
              "      <td>THE CONSORTIUM OF UAHWATANASAKUL CO.,LTD.AND P...</td>\n",
              "      <td>THAILAND</td>\n",
              "      <td>NaN</td>\n",
              "      <td>NaN</td>\n",
              "      <td>NaN</td>\n",
              "      <td>NaN</td>\n",
              "      <td>NaN</td>\n",
              "    </tr>\n",
              "    <tr>\n",
              "      <th>462</th>\n",
              "      <td>EDSUZ (HK) LIMITED</td>\n",
              "      <td>SINGAPORE</td>\n",
              "      <td>NaN</td>\n",
              "      <td>NaN</td>\n",
              "      <td>NaN</td>\n",
              "      <td>NaN</td>\n",
              "      <td>NaN</td>\n",
              "    </tr>\n",
              "    <tr>\n",
              "      <th>469</th>\n",
              "      <td>CAKRATAMA KRESNA BUANA,PT</td>\n",
              "      <td>INDONESIA</td>\n",
              "      <td>NaN</td>\n",
              "      <td>NaN</td>\n",
              "      <td>NaN</td>\n",
              "      <td>NaN</td>\n",
              "      <td>NaN</td>\n",
              "    </tr>\n",
              "    <tr>\n",
              "      <th>472</th>\n",
              "      <td>HYFLUX NEW SPRING (GUAN YUN)</td>\n",
              "      <td>CHINA</td>\n",
              "      <td>NaN</td>\n",
              "      <td>NaN</td>\n",
              "      <td>NaN</td>\n",
              "      <td>NaN</td>\n",
              "      <td>NaN</td>\n",
              "    </tr>\n",
              "    <tr>\n",
              "      <th>543</th>\n",
              "      <td>TAIZHOU HENGYUAN ARCHITECTURE MATERIAL CO.,LTD</td>\n",
              "      <td>CHINA</td>\n",
              "      <td>NaN</td>\n",
              "      <td>NaN</td>\n",
              "      <td>NaN</td>\n",
              "      <td>NaN</td>\n",
              "      <td>NaN</td>\n",
              "    </tr>\n",
              "    <tr>\n",
              "      <th>552</th>\n",
              "      <td>PAWEENA TEMVANISH</td>\n",
              "      <td>THAILAND</td>\n",
              "      <td>NaN</td>\n",
              "      <td>NaN</td>\n",
              "      <td>NaN</td>\n",
              "      <td>NaN</td>\n",
              "      <td>NaN</td>\n",
              "    </tr>\n",
              "    <tr>\n",
              "      <th>610</th>\n",
              "      <td>BBTV ALLIANCE LIMITED</td>\n",
              "      <td>SINGAPORE</td>\n",
              "      <td>NaN</td>\n",
              "      <td>NaN</td>\n",
              "      <td>NaN</td>\n",
              "      <td>NaN</td>\n",
              "      <td>NaN</td>\n",
              "    </tr>\n",
              "    <tr>\n",
              "      <th>620</th>\n",
              "      <td>SHANGHAI FANG SI TRADING CO., LTD</td>\n",
              "      <td>CHINA</td>\n",
              "      <td>NaN</td>\n",
              "      <td>NaN</td>\n",
              "      <td>NaN</td>\n",
              "      <td>NaN</td>\n",
              "      <td>NaN</td>\n",
              "    </tr>\n",
              "    <tr>\n",
              "      <th>630</th>\n",
              "      <td>JIANGSU PROVINCE AIWEITE STEEL STRUCTURE CO.,LTD</td>\n",
              "      <td>CHINA</td>\n",
              "      <td>NaN</td>\n",
              "      <td>NaN</td>\n",
              "      <td>NaN</td>\n",
              "      <td>NaN</td>\n",
              "      <td>NaN</td>\n",
              "    </tr>\n",
              "    <tr>\n",
              "      <th>654</th>\n",
              "      <td>JOVIAL PLUS LIMITED</td>\n",
              "      <td>HONG KONG</td>\n",
              "      <td>NaN</td>\n",
              "      <td>NaN</td>\n",
              "      <td>NaN</td>\n",
              "      <td>NaN</td>\n",
              "      <td>NaN</td>\n",
              "    </tr>\n",
              "    <tr>\n",
              "      <th>656</th>\n",
              "      <td>KSO SUMMARECON VARIATATA SERPONG</td>\n",
              "      <td>INDONESIA</td>\n",
              "      <td>NaN</td>\n",
              "      <td>NaN</td>\n",
              "      <td>NaN</td>\n",
              "      <td>NaN</td>\n",
              "      <td>NaN</td>\n",
              "    </tr>\n",
              "    <tr>\n",
              "      <th>664</th>\n",
              "      <td>TOWER HOPE LIMITED</td>\n",
              "      <td>SINGAPORE</td>\n",
              "      <td>NaN</td>\n",
              "      <td>NaN</td>\n",
              "      <td>NaN</td>\n",
              "      <td>NaN</td>\n",
              "      <td>NaN</td>\n",
              "    </tr>\n",
              "    <tr>\n",
              "      <th>682</th>\n",
              "      <td>GIARTO AUDRI CEMERLANG,PT</td>\n",
              "      <td>INDONESIA</td>\n",
              "      <td>NaN</td>\n",
              "      <td>NaN</td>\n",
              "      <td>NaN</td>\n",
              "      <td>NaN</td>\n",
              "      <td>NaN</td>\n",
              "    </tr>\n",
              "    <tr>\n",
              "      <th>711</th>\n",
              "      <td>DA LIAN HUAXIN ZHONG GONG GANG JIE GOU CO., LTD.</td>\n",
              "      <td>CHINA</td>\n",
              "      <td>NaN</td>\n",
              "      <td>NaN</td>\n",
              "      <td>NaN</td>\n",
              "      <td>NaN</td>\n",
              "      <td>NaN</td>\n",
              "    </tr>\n",
              "    <tr>\n",
              "      <th>778</th>\n",
              "      <td>QF NEAR TECHNOLOGY (TIAN JIN) CORP.</td>\n",
              "      <td>CHINA</td>\n",
              "      <td>NaN</td>\n",
              "      <td>NaN</td>\n",
              "      <td>NaN</td>\n",
              "      <td>NaN</td>\n",
              "      <td>NaN</td>\n",
              "    </tr>\n",
              "    <tr>\n",
              "      <th>805</th>\n",
              "      <td>BEIJING HUAFUQIN ELECTRONIC CO., LTD.</td>\n",
              "      <td>CHINA</td>\n",
              "      <td>NaN</td>\n",
              "      <td>NaN</td>\n",
              "      <td>NaN</td>\n",
              "      <td>NaN</td>\n",
              "      <td>NaN</td>\n",
              "    </tr>\n",
              "    <tr>\n",
              "      <th>828</th>\n",
              "      <td>HONG KONG JULE TRADING CO., LIMITED</td>\n",
              "      <td>HONG KONG</td>\n",
              "      <td>NaN</td>\n",
              "      <td>NaN</td>\n",
              "      <td>NaN</td>\n",
              "      <td>NaN</td>\n",
              "      <td>NaN</td>\n",
              "    </tr>\n",
              "    <tr>\n",
              "      <th>836</th>\n",
              "      <td>ZHONGSHAN TENGFA ELECTRONIC CO., LTD</td>\n",
              "      <td>CHINA</td>\n",
              "      <td>NaN</td>\n",
              "      <td>NaN</td>\n",
              "      <td>NaN</td>\n",
              "      <td>NaN</td>\n",
              "      <td>NaN</td>\n",
              "    </tr>\n",
              "    <tr>\n",
              "      <th>852</th>\n",
              "      <td>SONGYUAN WEI BO WOOD CO., LTD.</td>\n",
              "      <td>CHINA</td>\n",
              "      <td>NaN</td>\n",
              "      <td>NaN</td>\n",
              "      <td>NaN</td>\n",
              "      <td>NaN</td>\n",
              "      <td>NaN</td>\n",
              "    </tr>\n",
              "    <tr>\n",
              "      <th>892</th>\n",
              "      <td>JINHUA ZHONGDONG TOOLS CO., LTD.</td>\n",
              "      <td>CHINA</td>\n",
              "      <td>NaN</td>\n",
              "      <td>NaN</td>\n",
              "      <td>NaN</td>\n",
              "      <td>NaN</td>\n",
              "      <td>NaN</td>\n",
              "    </tr>\n",
              "    <tr>\n",
              "      <th>900</th>\n",
              "      <td>GUANGDONG HUILONG PAINT CO., LTD.</td>\n",
              "      <td>CHINA</td>\n",
              "      <td>NaN</td>\n",
              "      <td>NaN</td>\n",
              "      <td>NaN</td>\n",
              "      <td>NaN</td>\n",
              "      <td>NaN</td>\n",
              "    </tr>\n",
              "    <tr>\n",
              "      <th>903</th>\n",
              "      <td>UDUN COMMERCIAL TRADE CO.,LTD.OF HOTAN PREFECTURE</td>\n",
              "      <td>CHINA</td>\n",
              "      <td>NaN</td>\n",
              "      <td>NaN</td>\n",
              "      <td>NaN</td>\n",
              "      <td>NaN</td>\n",
              "      <td>NaN</td>\n",
              "    </tr>\n",
              "    <tr>\n",
              "      <th>943</th>\n",
              "      <td>XINYI ZHONGTIAN CHEMICAL INDUSTRY CO.,LTD</td>\n",
              "      <td>CHINA</td>\n",
              "      <td>NaN</td>\n",
              "      <td>NaN</td>\n",
              "      <td>NaN</td>\n",
              "      <td>NaN</td>\n",
              "      <td>NaN</td>\n",
              "    </tr>\n",
              "    <tr>\n",
              "      <th>958</th>\n",
              "      <td>YIBIN CITY, SICHUAN PROVINCE YANJUN TRADE CHAI...</td>\n",
              "      <td>CHINA</td>\n",
              "      <td>NaN</td>\n",
              "      <td>NaN</td>\n",
              "      <td>NaN</td>\n",
              "      <td>NaN</td>\n",
              "      <td>NaN</td>\n",
              "    </tr>\n",
              "    <tr>\n",
              "      <th>970</th>\n",
              "      <td>SINO CONCORD VENTURES LIMITED</td>\n",
              "      <td>SINGAPORE</td>\n",
              "      <td>NaN</td>\n",
              "      <td>NaN</td>\n",
              "      <td>NaN</td>\n",
              "      <td>NaN</td>\n",
              "      <td>NaN</td>\n",
              "    </tr>\n",
              "  </tbody>\n",
              "</table>\n",
              "</div>"
            ],
            "text/plain": [
              "                                               Company  ... Company Profile Information\n",
              "3                   BEI JING ESTRABA IMPORT AND EXPORT  ...                         NaN\n",
              "13         CHANGTU COUNTRY LONGXING FERTILIZER CO.,LTD  ...                         NaN\n",
              "35                   ZIBOBOSHANHONGLIWEI MOTOR CO.,LTD  ...                         NaN\n",
              "62   BEIJING DUO MEIDUO SHIYOU PRODUCTS SALES CO., ...  ...                         NaN\n",
              "79                                  TRUSVEST SDN. BHD.  ...                         NaN\n",
              "108               LUOTIAN COUNTY SILICON CARBIDE PLANT  ...                         NaN\n",
              "111                  NEWTON INTERNATIONAL (HK) LIMITED  ...                         NaN\n",
              "129    ZHEJIANG-THAI PHOTOVOLTAIC TECHNOLOGY CO., LTD.  ...                         NaN\n",
              "162                              RAINBOW BLISS LIMITED  ...                         NaN\n",
              "195                       VATCHAREE TANGTRAKOOLCHAROEN  ...                         NaN\n",
              "220  LIAONING JINYUN ELECTROMECHANICAL EQUIPMENT CO...  ...                         NaN\n",
              "221                 NANJING JIASHAN CONCRETE CO., LTD.  ...                         NaN\n",
              "226                  EDC TECHNOLOGY (KUNSHAN) CO., LTD  ...                         NaN\n",
              "234             MARLBORO TO MOTOR (SHANGHAI) CO., LTD.  ...                         NaN\n",
              "262  XIAMEN XINYI SHENGFEI METAL MATERIAL SCIENCE A...  ...                         NaN\n",
              "312                               DEKORAMIK PERDANA,PT  ...                         NaN\n",
              "321    YANCHENG HENGXIN AIR-CONDITION XIAOSHOU CO.,LTD  ...                         NaN\n",
              "328  GUANGZHOU EAST PLASTIC OIL DRILLING AND MINING...  ...                         NaN\n",
              "331                    BATHROOM DESIGN COMPANY LIMITED  ...                         NaN\n",
              "333                      PETROLEUM NGV (UBON) CO.,LTD.  ...                         NaN\n",
              "340  GUANGXI YINXIN ELECTROMECHANICAL EQUIPMENT CO....  ...                         NaN\n",
              "391                    QUANZHOU LU:WAN TRADE CO., LTD.  ...                         NaN\n",
              "455                      GREAT DYNASTY HK CO., LIMITED  ...                         NaN\n",
              "457  THE CONSORTIUM OF UAHWATANASAKUL CO.,LTD.AND P...  ...                         NaN\n",
              "462                                 EDSUZ (HK) LIMITED  ...                         NaN\n",
              "469                          CAKRATAMA KRESNA BUANA,PT  ...                         NaN\n",
              "472                       HYFLUX NEW SPRING (GUAN YUN)  ...                         NaN\n",
              "543     TAIZHOU HENGYUAN ARCHITECTURE MATERIAL CO.,LTD  ...                         NaN\n",
              "552                                  PAWEENA TEMVANISH  ...                         NaN\n",
              "610                              BBTV ALLIANCE LIMITED  ...                         NaN\n",
              "620                  SHANGHAI FANG SI TRADING CO., LTD  ...                         NaN\n",
              "630   JIANGSU PROVINCE AIWEITE STEEL STRUCTURE CO.,LTD  ...                         NaN\n",
              "654                                JOVIAL PLUS LIMITED  ...                         NaN\n",
              "656                   KSO SUMMARECON VARIATATA SERPONG  ...                         NaN\n",
              "664                                 TOWER HOPE LIMITED  ...                         NaN\n",
              "682                          GIARTO AUDRI CEMERLANG,PT  ...                         NaN\n",
              "711   DA LIAN HUAXIN ZHONG GONG GANG JIE GOU CO., LTD.  ...                         NaN\n",
              "778                QF NEAR TECHNOLOGY (TIAN JIN) CORP.  ...                         NaN\n",
              "805              BEIJING HUAFUQIN ELECTRONIC CO., LTD.  ...                         NaN\n",
              "828                HONG KONG JULE TRADING CO., LIMITED  ...                         NaN\n",
              "836               ZHONGSHAN TENGFA ELECTRONIC CO., LTD  ...                         NaN\n",
              "852                     SONGYUAN WEI BO WOOD CO., LTD.  ...                         NaN\n",
              "892                   JINHUA ZHONGDONG TOOLS CO., LTD.  ...                         NaN\n",
              "900                  GUANGDONG HUILONG PAINT CO., LTD.  ...                         NaN\n",
              "903  UDUN COMMERCIAL TRADE CO.,LTD.OF HOTAN PREFECTURE  ...                         NaN\n",
              "943          XINYI ZHONGTIAN CHEMICAL INDUSTRY CO.,LTD  ...                         NaN\n",
              "958  YIBIN CITY, SICHUAN PROVINCE YANJUN TRADE CHAI...  ...                         NaN\n",
              "970                      SINO CONCORD VENTURES LIMITED  ...                         NaN\n",
              "\n",
              "[48 rows x 7 columns]"
            ]
          },
          "metadata": {
            "tags": []
          },
          "execution_count": 12
        }
      ]
    },
    {
      "cell_type": "code",
      "metadata": {
        "id": "nrQjbN7uStmr",
        "colab": {
          "base_uri": "https://localhost:8080/",
          "height": 424
        },
        "outputId": "5beb8c19-4205-427e-ec6f-b999a7a724ac"
      },
      "source": [
        "# now we get the dataset that are valid\n",
        "df_valid = pd.concat([df_filteredCompanies, empty, empty]).drop_duplicates(keep=False)\n",
        "\n",
        "df_valid"
      ],
      "execution_count": null,
      "outputs": [
        {
          "output_type": "execute_result",
          "data": {
            "text/html": [
              "<div>\n",
              "<style scoped>\n",
              "    .dataframe tbody tr th:only-of-type {\n",
              "        vertical-align: middle;\n",
              "    }\n",
              "\n",
              "    .dataframe tbody tr th {\n",
              "        vertical-align: top;\n",
              "    }\n",
              "\n",
              "    .dataframe thead th {\n",
              "        text-align: right;\n",
              "    }\n",
              "</style>\n",
              "<table border=\"1\" class=\"dataframe\">\n",
              "  <thead>\n",
              "    <tr style=\"text-align: right;\">\n",
              "      <th></th>\n",
              "      <th>Company</th>\n",
              "      <th>Country</th>\n",
              "      <th>Sector</th>\n",
              "      <th>Subsector</th>\n",
              "      <th>Archetype</th>\n",
              "      <th>Valuechain</th>\n",
              "      <th>Company Profile Information</th>\n",
              "    </tr>\n",
              "  </thead>\n",
              "  <tbody>\n",
              "    <tr>\n",
              "      <th>0</th>\n",
              "      <td>AKSORN CHAROEN TAT ACT. CO.,LTD.</td>\n",
              "      <td>THAILAND</td>\n",
              "      <td>TMT</td>\n",
              "      <td>media</td>\n",
              "      <td>media_aggregator/distributor</td>\n",
              "      <td>Midstream</td>\n",
              "      <td>For over 80 years of experience in creating an...</td>\n",
              "    </tr>\n",
              "    <tr>\n",
              "      <th>1</th>\n",
              "      <td>DONGGUAN SHENGYA CLEANING APPLIAME CO.LTD</td>\n",
              "      <td>CHINA</td>\n",
              "      <td>TMT</td>\n",
              "      <td>consumer electronics</td>\n",
              "      <td>consumer electronics_distributor</td>\n",
              "      <td>Downstream</td>\n",
              "      <td>Yatai's main products cover various cleaning m...</td>\n",
              "    </tr>\n",
              "    <tr>\n",
              "      <th>2</th>\n",
              "      <td>EXIS TECH SDN. BHD.</td>\n",
              "      <td>MALAYSIA</td>\n",
              "      <td>oos</td>\n",
              "      <td>others</td>\n",
              "      <td>others</td>\n",
              "      <td>NaN</td>\n",
              "      <td>In the beginning, it started off by providing ...</td>\n",
              "    </tr>\n",
              "    <tr>\n",
              "      <th>4</th>\n",
              "      <td>Aztech Electronics Pte Ltd</td>\n",
              "      <td>SINGAPORE</td>\n",
              "      <td>TMT</td>\n",
              "      <td>consumer electronics</td>\n",
              "      <td>consumer electronics_distributor</td>\n",
              "      <td>Downstream</td>\n",
              "      <td>Being a turnkey, one-stop integrated solutions...</td>\n",
              "    </tr>\n",
              "    <tr>\n",
              "      <th>5</th>\n",
              "      <td>TONGDUN INTERNATIONAL PTE LTD</td>\n",
              "      <td>SINGAPORE</td>\n",
              "      <td>tmt</td>\n",
              "      <td>it_services</td>\n",
              "      <td>it_services</td>\n",
              "      <td>midstream</td>\n",
              "      <td>Tongdun Technology is a professional third-par...</td>\n",
              "    </tr>\n",
              "    <tr>\n",
              "      <th>...</th>\n",
              "      <td>...</td>\n",
              "      <td>...</td>\n",
              "      <td>...</td>\n",
              "      <td>...</td>\n",
              "      <td>...</td>\n",
              "      <td>...</td>\n",
              "      <td>...</td>\n",
              "    </tr>\n",
              "    <tr>\n",
              "      <th>995</th>\n",
              "      <td>LUX DISTRIBUTOR SDN. BHD.</td>\n",
              "      <td>MALAYSIA</td>\n",
              "      <td>cni</td>\n",
              "      <td>building_material</td>\n",
              "      <td>building_material_supplier_distributor</td>\n",
              "      <td>downstream</td>\n",
              "      <td>Lux Distributor Sdn Bhd provides building prod...</td>\n",
              "    </tr>\n",
              "    <tr>\n",
              "      <th>996</th>\n",
              "      <td>KJI INDUSTRIAL LIMITED</td>\n",
              "      <td>HONG KONG</td>\n",
              "      <td>tmt</td>\n",
              "      <td>consumer electronics</td>\n",
              "      <td>consumer electronics_distributor</td>\n",
              "      <td>downstream</td>\n",
              "      <td>Our wide product range including Citrus Juicer...</td>\n",
              "    </tr>\n",
              "    <tr>\n",
              "      <th>997</th>\n",
              "      <td>TEKNOSERV ENGINEERING SDN. BHD.</td>\n",
              "      <td>MALAYSIA</td>\n",
              "      <td>cni</td>\n",
              "      <td>utilities</td>\n",
              "      <td>utilities_developer</td>\n",
              "      <td>upstream</td>\n",
              "      <td>Teknoserv Engineering Sdn Bhd provides water s...</td>\n",
              "    </tr>\n",
              "    <tr>\n",
              "      <th>998</th>\n",
              "      <td>THERMAL SOLUTIONS ASIA PTE LTD</td>\n",
              "      <td>SINGAPORE</td>\n",
              "      <td>CNI</td>\n",
              "      <td>cni_service providers</td>\n",
              "      <td>cni_service providers</td>\n",
              "      <td>MIDSTREAM</td>\n",
              "      <td>Founded in 2000, Thermal Solutions Asia Pte Lt...</td>\n",
              "    </tr>\n",
              "    <tr>\n",
              "      <th>999</th>\n",
              "      <td>AUDIO ZOOM PTE LTD</td>\n",
              "      <td>SINGAPORE</td>\n",
              "      <td>TMT</td>\n",
              "      <td>it_services</td>\n",
              "      <td>it_services</td>\n",
              "      <td>Midstream</td>\n",
              "      <td>AUDIO ZOOM is an ACRA-registered entity that h...</td>\n",
              "    </tr>\n",
              "  </tbody>\n",
              "</table>\n",
              "<p>950 rows × 7 columns</p>\n",
              "</div>"
            ],
            "text/plain": [
              "                                       Company  ...                        Company Profile Information\n",
              "0             AKSORN CHAROEN TAT ACT. CO.,LTD.  ...  For over 80 years of experience in creating an...\n",
              "1    DONGGUAN SHENGYA CLEANING APPLIAME CO.LTD  ...  Yatai's main products cover various cleaning m...\n",
              "2                          EXIS TECH SDN. BHD.  ...  In the beginning, it started off by providing ...\n",
              "4                   Aztech Electronics Pte Ltd  ...  Being a turnkey, one-stop integrated solutions...\n",
              "5                TONGDUN INTERNATIONAL PTE LTD  ...  Tongdun Technology is a professional third-par...\n",
              "..                                         ...  ...                                                ...\n",
              "995                  LUX DISTRIBUTOR SDN. BHD.  ...  Lux Distributor Sdn Bhd provides building prod...\n",
              "996                     KJI INDUSTRIAL LIMITED  ...  Our wide product range including Citrus Juicer...\n",
              "997            TEKNOSERV ENGINEERING SDN. BHD.  ...  Teknoserv Engineering Sdn Bhd provides water s...\n",
              "998             THERMAL SOLUTIONS ASIA PTE LTD  ...  Founded in 2000, Thermal Solutions Asia Pte Lt...\n",
              "999                         AUDIO ZOOM PTE LTD  ...  AUDIO ZOOM is an ACRA-registered entity that h...\n",
              "\n",
              "[950 rows x 7 columns]"
            ]
          },
          "metadata": {
            "tags": []
          },
          "execution_count": 13
        }
      ]
    },
    {
      "cell_type": "code",
      "metadata": {
        "id": "IuYZkLS8fkjV",
        "colab": {
          "base_uri": "https://localhost:8080/"
        },
        "outputId": "2c32264c-3a5f-43c2-83c9-7aa7422a7920"
      },
      "source": [
        "# now we check the count of the total filtered dataset again\n",
        "df_filterCount = df_valid['Company'].count()\n",
        "\n",
        "print('Total number of filtered records:', df_filterCount)"
      ],
      "execution_count": null,
      "outputs": [
        {
          "output_type": "stream",
          "text": [
            "Total number of filtered records: 950\n"
          ],
          "name": "stdout"
        }
      ]
    },
    {
      "cell_type": "markdown",
      "metadata": {
        "id": "gf69nqOrWr_b"
      },
      "source": [
        "### 3.4. Get graphical overview of dataset\n",
        "\n",
        "---\n",
        "\n",
        "Get visualised information of the dataset to understand the dataset better."
      ]
    },
    {
      "cell_type": "code",
      "metadata": {
        "id": "dRLIFECVS1os",
        "colab": {
          "base_uri": "https://localhost:8080/",
          "height": 723
        },
        "outputId": "948b1355-9da2-4a1f-97e1-9a5a6becaade"
      },
      "source": [
        "sns.set_style('darkgrid')\n",
        "plt_dims = (30, 13)\n",
        "fig, ax = plt.subplots(figsize=plt_dims)\n",
        "\n",
        "# plot a barplot to see number of companies that belongs to specific sectors\n",
        "sns.countplot(x=\"Sector\", data=df_valid, ax=ax)\n",
        "plt.show()"
      ],
      "execution_count": null,
      "outputs": [
        {
          "output_type": "display_data",
          "data": {
            "image/png": "[encoded data removed]",
            "text/plain": [
              "<Figure size 2160x936 with 1 Axes>"
            ]
          },
          "metadata": {
            "tags": []
          }
        }
      ]
    },
    {
      "cell_type": "markdown",
      "metadata": {
        "id": "1EyLs8d1TfSw"
      },
      "source": [
        "<div class=\"alert alert-block alert-info\">\n",
        "    <b>Analysis Summary:</b> We see that most of the companies comes from the CNI(Construction And Infrastructure), with TMT(Technology, Media and Telecomm) sector.\n",
        "</div>"
      ]
    },
    {
      "cell_type": "code",
      "metadata": {
        "id": "SwMqcB0MStbJ",
        "colab": {
          "base_uri": "https://localhost:8080/",
          "height": 716
        },
        "outputId": "3bb74b54-74cd-4e18-8284-787151214e0d"
      },
      "source": [
        "# Pie chart\n",
        "labels = list(df_valid['Country'].unique())\n",
        "sizes = list(df_valid['Country'].value_counts())\n",
        "\n",
        "plt_dims = (30, 13)\n",
        "fig1, ax1 = plt.subplots(figsize=plt_dims)\n",
        "ax1.pie(sizes, labels=labels, autopct='%1.1f%%',\n",
        "        shadow=True, startangle=90)\n",
        "# Equal aspect ratio ensures that pie is drawn as a circle\n",
        "ax1.axis('equal')  \n",
        "plt.tight_layout()\n",
        "plt.show()"
      ],
      "execution_count": null,
      "outputs": [
        {
          "output_type": "display_data",
          "data": {
            "image/png": "[encoded data removed]",
            "text/plain": [
              "<Figure size 2160x936 with 1 Axes>"
            ]
          },
          "metadata": {
            "tags": []
          }
        }
      ]
    },
    {
      "cell_type": "markdown",
      "metadata": {
        "id": "A73dge-zZhSD"
      },
      "source": [
        "<div class=\"alert alert-block alert-info\">\n",
        "    <b>Analysis Summary:</b> We see that most of the companies are Singapre-Based companies, followed up by Hong Kong, Indonesia and so on.\n",
        "</div>"
      ]
    },
    {
      "cell_type": "markdown",
      "metadata": {
        "id": "L3bMDdQTfTnX"
      },
      "source": [
        "### 3.5. See examples of company description\n",
        "\n",
        "---\n",
        "\n",
        "We would now like to see some examples of the company descriptions in order to undestand later how to preprocess them later on."
      ]
    },
    {
      "cell_type": "code",
      "metadata": {
        "id": "LBQ4Ml5gfkg7",
        "colab": {
          "base_uri": "https://localhost:8080/"
        },
        "outputId": "19cc9d29-985f-481f-c93a-1e0ec93f4c70"
      },
      "source": [
        "# configurate pandas dataframe to let us see the entire company description IN FULL\n",
        "pd.set_option('display.max_colwidth', None)\n",
        "\n",
        "# get the 1st 50 results and observe\n",
        "df_valid.loc[0:10,'Company Profile Information']"
      ],
      "execution_count": null,
      "outputs": [
        {
          "output_type": "execute_result",
          "data": {
            "text/plain": [
              "0                                                                                                                                                                                                                                                                                                                                                                        For over 80 years of experience in creating and developing high-quality learning materials has enabled us to provide world-class educational innovation to meet the needs of all teachers, students, institutions and educational authorities.\n",
              "1                                                                                                                                                                                                                                                                                                                                    Yatai's main products cover various cleaning machinery, cleaning agents, cleaning tools, stone maintenance and other cleaning products; cleaning solutions and services include product technical consultation, product customization, employee training, maintenance and so on.\\n\n",
              "2                                                                                                                                                                                                                                                             In the beginning, it started off by providing technical support for test handlers, then moving into module design and production. Its first, in-house designed, full-fledged handler was introduced in 2008.\\nSince then, the company has designed and produced a wide range of turret and pick-and-place solutions for its customers all over the world.\n",
              "4                                                                          Being a turnkey, one-stop integrated solutions provider based in Singapore, Aztech is equipped with state-of-the-art equipment, R&D, design, manufacturing and packaging capabilities to deliver a seamless, unified experience. Each and every time. Always striving towards the edge of technology for more than 34 years, we have been building capabilities to serve clients’ manufacturing needs, including the consumer electronics, telecommunications, healthtech, LED lighting, automotive and technology start-up market segments.\n",
              "5     Tongdun Technology is a professional third-party intelligent risk management and decision-making service provider headquartered in Hangzhou, Zhejiang. By integrating artificial intelligence into business scenarios, Tongdun Technology offers solutions in intelligent user analysis, intelligent risk management, intelligent antifraud and intelligent operation to clients from various industries including financial industry, internet business, logistics, healthcare, retail, smart cities and government bodies. Over 10,000 corporate clients have chosen Tongdun Technology’s products and services\n",
              "6                                                                                                                                                                                                                                                                                                                                                                                                  For over 30 years, EMASTIGA has been servicing the construction and the oil and gas industries with distinction.We try our hardest to create win-win situations and value-add to our clients with every transaction.\n",
              "7                                                                                                                                                                                                                                                                                                                                                                                                                                                                                                                                                                                Sales of hydraulic equipment and parts\n",
              "8                                                                                                                                                                                                                                                                                                                                                                                                                                                                                                                                                    WHOLESALE OF TELECOMMUNICATIONS EQUIPMENT (EXCLUDING HANDPHONES)\\n\n",
              "9                                                                                                                                                                                                                                                                                                      For Excelkos, it all started with a far-sighted vision to deliver quality industrial products and solutions to meet the increasing demands of various industries. ​ The vision became a reality in 1988 when the Excelkos Group was established to distribute and provide quality rubber industrial chemicals. ​\n",
              "10                                                                                                                                                                                                                                                                                                                                                                                                                                                       Kum Eng Huat is the authorised dealer for Osram and Philips, as well as a trusted supplier of lighting solutions for major projects with the local government.\n",
              "Name: Company Profile Information, dtype: object"
            ]
          },
          "metadata": {
            "tags": []
          },
          "execution_count": 17
        }
      ]
    },
    {
      "cell_type": "markdown",
      "metadata": {
        "id": "x50UFKzNkezP"
      },
      "source": [
        "<div class=\"alert alert-block alert-info\">\n",
        "    <b>Analysis Summary:</b> We do realise that some of the company profile message have some breaks in between like '\\n'. Now, we will have to take away all these problems so that it is one string of paragraph with no such annotations in betweeen.\n",
        "</div>"
      ]
    },
    {
      "cell_type": "markdown",
      "metadata": {
        "id": "ETEpM1eCk9Cf"
      },
      "source": [
        "---\n",
        "---"
      ]
    },
    {
      "cell_type": "markdown",
      "metadata": {
        "id": "l0rub1v2k-dq"
      },
      "source": [
        "# 4.Data Preprocessing"
      ]
    },
    {
      "cell_type": "markdown",
      "metadata": {
        "id": "ZxCABlrVlDW6"
      },
      "source": [
        "### 4.1. Removing `\\n`\n",
        "\n",
        "---\n",
        "\n",
        "Now, we will like to standardize all the paragraphs such that the are homogenous, before we tokenize the paragraph."
      ]
    },
    {
      "cell_type": "code",
      "metadata": {
        "id": "MAq4hq6XlMBp",
        "colab": {
          "base_uri": "https://localhost:8080/"
        },
        "outputId": "0e4fe713-1af8-45b1-e254-faa4ece9299c"
      },
      "source": [
        "# get rid of the \\n found in the respective descriptions\n",
        "df_valid = df_valid.replace('\\n',' ', regex=True)\n",
        "\n",
        "# now we validate to see if theye are really gone\n",
        "df_valid.loc[0:10,'Company Profile Information']"
      ],
      "execution_count": null,
      "outputs": [
        {
          "output_type": "execute_result",
          "data": {
            "text/plain": [
              "0                                                                                                                                                                                                                                                                                                                                                                        For over 80 years of experience in creating and developing high-quality learning materials has enabled us to provide world-class educational innovation to meet the needs of all teachers, students, institutions and educational authorities.\n",
              "1                                                                                                                                                                                                                                                                                                                                     Yatai's main products cover various cleaning machinery, cleaning agents, cleaning tools, stone maintenance and other cleaning products; cleaning solutions and services include product technical consultation, product customization, employee training, maintenance and so on. \n",
              "2                                                                                                                                                                                                                                                              In the beginning, it started off by providing technical support for test handlers, then moving into module design and production. Its first, in-house designed, full-fledged handler was introduced in 2008. Since then, the company has designed and produced a wide range of turret and pick-and-place solutions for its customers all over the world.\n",
              "4                                                                          Being a turnkey, one-stop integrated solutions provider based in Singapore, Aztech is equipped with state-of-the-art equipment, R&D, design, manufacturing and packaging capabilities to deliver a seamless, unified experience. Each and every time. Always striving towards the edge of technology for more than 34 years, we have been building capabilities to serve clients’ manufacturing needs, including the consumer electronics, telecommunications, healthtech, LED lighting, automotive and technology start-up market segments.\n",
              "5     Tongdun Technology is a professional third-party intelligent risk management and decision-making service provider headquartered in Hangzhou, Zhejiang. By integrating artificial intelligence into business scenarios, Tongdun Technology offers solutions in intelligent user analysis, intelligent risk management, intelligent antifraud and intelligent operation to clients from various industries including financial industry, internet business, logistics, healthcare, retail, smart cities and government bodies. Over 10,000 corporate clients have chosen Tongdun Technology’s products and services\n",
              "6                                                                                                                                                                                                                                                                                                                                                                                                  For over 30 years, EMASTIGA has been servicing the construction and the oil and gas industries with distinction.We try our hardest to create win-win situations and value-add to our clients with every transaction.\n",
              "7                                                                                                                                                                                                                                                                                                                                                                                                                                                                                                                                                                                Sales of hydraulic equipment and parts\n",
              "8                                                                                                                                                                                                                                                                                                                                                                                                                                                                                                                                                     WHOLESALE OF TELECOMMUNICATIONS EQUIPMENT (EXCLUDING HANDPHONES) \n",
              "9                                                                                                                                                                                                                                                                                                      For Excelkos, it all started with a far-sighted vision to deliver quality industrial products and solutions to meet the increasing demands of various industries. ​ The vision became a reality in 1988 when the Excelkos Group was established to distribute and provide quality rubber industrial chemicals. ​\n",
              "10                                                                                                                                                                                                                                                                                                                                                                                                                                                       Kum Eng Huat is the authorised dealer for Osram and Philips, as well as a trusted supplier of lighting solutions for major projects with the local government.\n",
              "Name: Company Profile Information, dtype: object"
            ]
          },
          "metadata": {
            "tags": []
          },
          "execution_count": 18
        }
      ]
    },
    {
      "cell_type": "markdown",
      "metadata": {
        "id": "_UbMqS2dvXeZ"
      },
      "source": [
        "### 4.2. Calculating the word length distribution\n",
        "\n",
        "---\n",
        "\n",
        "Here, we will be calculating the world length distribution of the collective company description."
      ]
    },
    {
      "cell_type": "code",
      "metadata": {
        "id": "uDsrjeimvDl8",
        "colab": {
          "base_uri": "https://localhost:8080/",
          "height": 432
        },
        "outputId": "8c7925e7-c892-460e-8890-f7a642996751"
      },
      "source": [
        "# first, add in a new column that tabluates the length of the respecive company description\n",
        "df_valid[\"length\"] = df_valid[\"Company Profile Information\"].str.len()\n",
        "df_valid.head()"
      ],
      "execution_count": null,
      "outputs": [
        {
          "output_type": "execute_result",
          "data": {
            "text/html": [
              "<div>\n",
              "<style scoped>\n",
              "    .dataframe tbody tr th:only-of-type {\n",
              "        vertical-align: middle;\n",
              "    }\n",
              "\n",
              "    .dataframe tbody tr th {\n",
              "        vertical-align: top;\n",
              "    }\n",
              "\n",
              "    .dataframe thead th {\n",
              "        text-align: right;\n",
              "    }\n",
              "</style>\n",
              "<table border=\"1\" class=\"dataframe\">\n",
              "  <thead>\n",
              "    <tr style=\"text-align: right;\">\n",
              "      <th></th>\n",
              "      <th>Company</th>\n",
              "      <th>Country</th>\n",
              "      <th>Sector</th>\n",
              "      <th>Subsector</th>\n",
              "      <th>Archetype</th>\n",
              "      <th>Valuechain</th>\n",
              "      <th>Company Profile Information</th>\n",
              "      <th>length</th>\n",
              "    </tr>\n",
              "  </thead>\n",
              "  <tbody>\n",
              "    <tr>\n",
              "      <th>0</th>\n",
              "      <td>AKSORN CHAROEN TAT ACT. CO.,LTD.</td>\n",
              "      <td>THAILAND</td>\n",
              "      <td>TMT</td>\n",
              "      <td>media</td>\n",
              "      <td>media_aggregator/distributor</td>\n",
              "      <td>Midstream</td>\n",
              "      <td>For over 80 years of experience in creating and developing high-quality learning materials has enabled us to provide world-class educational innovation to meet the needs of all teachers, students, institutions and educational authorities.</td>\n",
              "      <td>238.0</td>\n",
              "    </tr>\n",
              "    <tr>\n",
              "      <th>1</th>\n",
              "      <td>DONGGUAN SHENGYA CLEANING APPLIAME CO.LTD</td>\n",
              "      <td>CHINA</td>\n",
              "      <td>TMT</td>\n",
              "      <td>consumer electronics</td>\n",
              "      <td>consumer electronics_distributor</td>\n",
              "      <td>Downstream</td>\n",
              "      <td>Yatai's main products cover various cleaning machinery, cleaning agents, cleaning tools, stone maintenance and other cleaning products; cleaning solutions and services include product technical consultation, product customization, employee training, maintenance and so on.</td>\n",
              "      <td>273.0</td>\n",
              "    </tr>\n",
              "    <tr>\n",
              "      <th>2</th>\n",
              "      <td>EXIS TECH SDN. BHD.</td>\n",
              "      <td>MALAYSIA</td>\n",
              "      <td>oos</td>\n",
              "      <td>others</td>\n",
              "      <td>others</td>\n",
              "      <td>NaN</td>\n",
              "      <td>In the beginning, it started off by providing technical support for test handlers, then moving into module design and production. Its first, in-house designed, full-fledged handler was introduced in 2008. Since then, the company has designed and produced a wide range of turret and pick-and-place solutions for its customers all over the world.</td>\n",
              "      <td>344.0</td>\n",
              "    </tr>\n",
              "    <tr>\n",
              "      <th>4</th>\n",
              "      <td>Aztech Electronics Pte Ltd</td>\n",
              "      <td>SINGAPORE</td>\n",
              "      <td>TMT</td>\n",
              "      <td>consumer electronics</td>\n",
              "      <td>consumer electronics_distributor</td>\n",
              "      <td>Downstream</td>\n",
              "      <td>Being a turnkey, one-stop integrated solutions provider based in Singapore, Aztech is equipped with state-of-the-art equipment, R&amp;D, design, manufacturing and packaging capabilities to deliver a seamless, unified experience. Each and every time. Always striving towards the edge of technology for more than 34 years, we have been building capabilities to serve clients’ manufacturing needs, including the consumer electronics, telecommunications, healthtech, LED lighting, automotive and technology start-up market segments.</td>\n",
              "      <td>524.0</td>\n",
              "    </tr>\n",
              "    <tr>\n",
              "      <th>5</th>\n",
              "      <td>TONGDUN INTERNATIONAL PTE LTD</td>\n",
              "      <td>SINGAPORE</td>\n",
              "      <td>tmt</td>\n",
              "      <td>it_services</td>\n",
              "      <td>it_services</td>\n",
              "      <td>midstream</td>\n",
              "      <td>Tongdun Technology is a professional third-party intelligent risk management and decision-making service provider headquartered in Hangzhou, Zhejiang. By integrating artificial intelligence into business scenarios, Tongdun Technology offers solutions in intelligent user analysis, intelligent risk management, intelligent antifraud and intelligent operation to clients from various industries including financial industry, internet business, logistics, healthcare, retail, smart cities and government bodies. Over 10,000 corporate clients have chosen Tongdun Technology’s products and services</td>\n",
              "      <td>593.0</td>\n",
              "    </tr>\n",
              "  </tbody>\n",
              "</table>\n",
              "</div>"
            ],
            "text/plain": [
              "                                     Company  ... length\n",
              "0           AKSORN CHAROEN TAT ACT. CO.,LTD.  ...  238.0\n",
              "1  DONGGUAN SHENGYA CLEANING APPLIAME CO.LTD  ...  273.0\n",
              "2                        EXIS TECH SDN. BHD.  ...  344.0\n",
              "4                 Aztech Electronics Pte Ltd  ...  524.0\n",
              "5              TONGDUN INTERNATIONAL PTE LTD  ...  593.0\n",
              "\n",
              "[5 rows x 8 columns]"
            ]
          },
          "metadata": {
            "tags": []
          },
          "execution_count": 19
        }
      ]
    },
    {
      "cell_type": "code",
      "metadata": {
        "id": "725S9NxvyZXQ",
        "colab": {
          "base_uri": "https://localhost:8080/",
          "height": 295
        },
        "outputId": "de7fce95-51e9-48bf-e2b6-e2d8994483c3"
      },
      "source": [
        "# now plot a distribution plot to see the word length distribution\n",
        "sns.distplot(df_valid[\"length\"], kde=True)\n",
        "plt.title('Word Length Distribution')\n",
        "plt.show()"
      ],
      "execution_count": null,
      "outputs": [
        {
          "output_type": "display_data",
          "data": {
            "image/png": "[encoded data removed]",
            "text/plain": [
              "<Figure size 432x288 with 1 Axes>"
            ]
          },
          "metadata": {
            "tags": []
          }
        }
      ]
    },
    {
      "cell_type": "markdown",
      "metadata": {
        "id": "ZjI1Z5ogyl6h"
      },
      "source": [
        "<div class=\"alert alert-block alert-info\">\n",
        "    <b>Analysis Summary:</b> We can see that there is a high record of the company description having a total word length of around 200 to 300, while those aboce 800 is very rare.\n",
        "</div>"
      ]
    },
    {
      "cell_type": "markdown",
      "metadata": {
        "id": "OdPgyXL60rqg"
      },
      "source": [
        "### 4.3. Subsample from the entire dataset\n",
        "\n",
        "---\n",
        "\n",
        "We will now subsample a part of the dataset from the entire dataset. This is important as firstly, we need to ensure that our tokenization is working correctly in a smaller scale dataset, since using the entire dataset to do it will be very time consuming."
      ]
    },
    {
      "cell_type": "code",
      "metadata": {
        "id": "OC9h-jIM07v2",
        "colab": {
          "base_uri": "https://localhost:8080/",
          "height": 1000
        },
        "outputId": "6a71cbee-b8df-4152-9b09-07f860c28c49"
      },
      "source": [
        "# declare sample size here first (CHANGE IT AS THE TRAINING DATA INCREASES)\n",
        "sample_size = 350\n",
        "\n",
        "# now we will get the data from the restricted range of sample size\n",
        "subsample = df_valid[:sample_size]\n",
        "subsample"
      ],
      "execution_count": null,
      "outputs": [
        {
          "output_type": "execute_result",
          "data": {
            "text/html": [
              "<div>\n",
              "<style scoped>\n",
              "    .dataframe tbody tr th:only-of-type {\n",
              "        vertical-align: middle;\n",
              "    }\n",
              "\n",
              "    .dataframe tbody tr th {\n",
              "        vertical-align: top;\n",
              "    }\n",
              "\n",
              "    .dataframe thead th {\n",
              "        text-align: right;\n",
              "    }\n",
              "</style>\n",
              "<table border=\"1\" class=\"dataframe\">\n",
              "  <thead>\n",
              "    <tr style=\"text-align: right;\">\n",
              "      <th></th>\n",
              "      <th>Company</th>\n",
              "      <th>Country</th>\n",
              "      <th>Sector</th>\n",
              "      <th>Subsector</th>\n",
              "      <th>Archetype</th>\n",
              "      <th>Valuechain</th>\n",
              "      <th>Company Profile Information</th>\n",
              "      <th>length</th>\n",
              "    </tr>\n",
              "  </thead>\n",
              "  <tbody>\n",
              "    <tr>\n",
              "      <th>0</th>\n",
              "      <td>AKSORN CHAROEN TAT ACT. CO.,LTD.</td>\n",
              "      <td>THAILAND</td>\n",
              "      <td>TMT</td>\n",
              "      <td>media</td>\n",
              "      <td>media_aggregator/distributor</td>\n",
              "      <td>Midstream</td>\n",
              "      <td>For over 80 years of experience in creating and developing high-quality learning materials has enabled us to provide world-class educational innovation to meet the needs of all teachers, students, institutions and educational authorities.</td>\n",
              "      <td>238.0</td>\n",
              "    </tr>\n",
              "    <tr>\n",
              "      <th>1</th>\n",
              "      <td>DONGGUAN SHENGYA CLEANING APPLIAME CO.LTD</td>\n",
              "      <td>CHINA</td>\n",
              "      <td>TMT</td>\n",
              "      <td>consumer electronics</td>\n",
              "      <td>consumer electronics_distributor</td>\n",
              "      <td>Downstream</td>\n",
              "      <td>Yatai's main products cover various cleaning machinery, cleaning agents, cleaning tools, stone maintenance and other cleaning products; cleaning solutions and services include product technical consultation, product customization, employee training, maintenance and so on.</td>\n",
              "      <td>273.0</td>\n",
              "    </tr>\n",
              "    <tr>\n",
              "      <th>2</th>\n",
              "      <td>EXIS TECH SDN. BHD.</td>\n",
              "      <td>MALAYSIA</td>\n",
              "      <td>oos</td>\n",
              "      <td>others</td>\n",
              "      <td>others</td>\n",
              "      <td>NaN</td>\n",
              "      <td>In the beginning, it started off by providing technical support for test handlers, then moving into module design and production. Its first, in-house designed, full-fledged handler was introduced in 2008. Since then, the company has designed and produced a wide range of turret and pick-and-place solutions for its customers all over the world.</td>\n",
              "      <td>344.0</td>\n",
              "    </tr>\n",
              "    <tr>\n",
              "      <th>4</th>\n",
              "      <td>Aztech Electronics Pte Ltd</td>\n",
              "      <td>SINGAPORE</td>\n",
              "      <td>TMT</td>\n",
              "      <td>consumer electronics</td>\n",
              "      <td>consumer electronics_distributor</td>\n",
              "      <td>Downstream</td>\n",
              "      <td>Being a turnkey, one-stop integrated solutions provider based in Singapore, Aztech is equipped with state-of-the-art equipment, R&amp;D, design, manufacturing and packaging capabilities to deliver a seamless, unified experience. Each and every time. Always striving towards the edge of technology for more than 34 years, we have been building capabilities to serve clients’ manufacturing needs, including the consumer electronics, telecommunications, healthtech, LED lighting, automotive and technology start-up market segments.</td>\n",
              "      <td>524.0</td>\n",
              "    </tr>\n",
              "    <tr>\n",
              "      <th>5</th>\n",
              "      <td>TONGDUN INTERNATIONAL PTE LTD</td>\n",
              "      <td>SINGAPORE</td>\n",
              "      <td>tmt</td>\n",
              "      <td>it_services</td>\n",
              "      <td>it_services</td>\n",
              "      <td>midstream</td>\n",
              "      <td>Tongdun Technology is a professional third-party intelligent risk management and decision-making service provider headquartered in Hangzhou, Zhejiang. By integrating artificial intelligence into business scenarios, Tongdun Technology offers solutions in intelligent user analysis, intelligent risk management, intelligent antifraud and intelligent operation to clients from various industries including financial industry, internet business, logistics, healthcare, retail, smart cities and government bodies. Over 10,000 corporate clients have chosen Tongdun Technology’s products and services</td>\n",
              "      <td>593.0</td>\n",
              "    </tr>\n",
              "    <tr>\n",
              "      <th>...</th>\n",
              "      <td>...</td>\n",
              "      <td>...</td>\n",
              "      <td>...</td>\n",
              "      <td>...</td>\n",
              "      <td>...</td>\n",
              "      <td>...</td>\n",
              "      <td>...</td>\n",
              "      <td>...</td>\n",
              "    </tr>\n",
              "    <tr>\n",
              "      <th>366</th>\n",
              "      <td>SHOPEE HONG KONG LIMITED</td>\n",
              "      <td>HONG KONG</td>\n",
              "      <td>tmt</td>\n",
              "      <td>digital_business</td>\n",
              "      <td>digital_business</td>\n",
              "      <td>midstream</td>\n",
              "      <td>Shopee is the leading e-commerce platform in Southeast Asia and Taiwan. It is a platform tailored for the region, providing customers with an easy, secure and fast online shopping experience through strong payment and logistical support. Shopee aims to continually enhance its platform and become the region’s e-commerce destination of choice. Shopee has a wide selection of product categories ranging from consumer electronics to home &amp; living, health &amp; beauty, baby &amp; toys, fashion and fitness equipment. Shopee, a Sea company, was first launched in Singapore in 2015, and has since expanded its reach to Malaysia, Thailand, Taiwan, Indonesia, Vietnam and the Philippines. Sea is a leader in digital entertainment, e-commerce and digital financial services across Greater Southeast Asia. Sea’s mission is to better the lives of consumers and small businesses with technology, and is listed on the NYSE under the symbol SE.</td>\n",
              "      <td>924.0</td>\n",
              "    </tr>\n",
              "    <tr>\n",
              "      <th>367</th>\n",
              "      <td>M-LINK SYSTEM (M) SDN. BHD.</td>\n",
              "      <td>MALAYSIA</td>\n",
              "      <td>tmt</td>\n",
              "      <td>consumer electronics</td>\n",
              "      <td>consumer electronics_distributor</td>\n",
              "      <td>downstream</td>\n",
              "      <td>Formed in 1989, and with the rapid growth, the company has incorporated in 1994 as M-LINK SYSTEM (M) SDN BHD, with its headquarter in Petaling Jaya, Selangor and 7 branches located at strategic and important network points of Malaysia. M-Link System (M) Sdn Bhd has forged ahead in its area of specialization – distribution. A leading distributor for information technology products in the country, M-Link System has carved a reputation for strong dealer support and a penchant for product selection. This entails a corporate structure that is based on intimate industry experience, and which also recognizes and caters to the needs of the dealer supply network. It also means that the company is cognizant of the changing market environment and can introduce products in anticipation of strong market demand. M-Link System represents several leading brands and principal vendors recognize that M-Link System forms an important conduit for their products. In essence, M-Link System has proven to be constantly at the forefront of the distribution services with its market knowledge, product expertise and corporate services.</td>\n",
              "      <td>1124.0</td>\n",
              "    </tr>\n",
              "    <tr>\n",
              "      <th>368</th>\n",
              "      <td>BUILDERS 265 PRIVATE LIMITED</td>\n",
              "      <td>SINGAPORE</td>\n",
              "      <td>cni</td>\n",
              "      <td>buildings &amp; industrial</td>\n",
              "      <td>buildings &amp; industrial_contractor</td>\n",
              "      <td>midstream</td>\n",
              "      <td>Singapore Building Contractors, Civil Engineering, Interior Decoration, Construction Contractors, Waterproofing Installation, Civil Engineering Consultants, Civil Engineers, Interior Decoration Contractors, Interior Decorators</td>\n",
              "      <td>226.0</td>\n",
              "    </tr>\n",
              "    <tr>\n",
              "      <th>369</th>\n",
              "      <td>THEPMAHANAKORN CHEMICALS CO.,LTD.</td>\n",
              "      <td>THAILAND</td>\n",
              "      <td>ong</td>\n",
              "      <td>petrochemical</td>\n",
              "      <td>petrochemical_distributor</td>\n",
              "      <td>downstream</td>\n",
              "      <td>Sell ​​all kinds of paints, oil paints, paint mixing oils, paint tools.</td>\n",
              "      <td>71.0</td>\n",
              "    </tr>\n",
              "    <tr>\n",
              "      <th>370</th>\n",
              "      <td>RYOSHO TECHNO SINGAPORE PTE LTD</td>\n",
              "      <td>SINGAPORE</td>\n",
              "      <td>tmt</td>\n",
              "      <td>telecommunication</td>\n",
              "      <td>network equipment supplier</td>\n",
              "      <td>upstream</td>\n",
              "      <td>The Company's line of business includes the wholesale distribution of electronic parts and electronic communications equipment.</td>\n",
              "      <td>128.0</td>\n",
              "    </tr>\n",
              "  </tbody>\n",
              "</table>\n",
              "<p>350 rows × 8 columns</p>\n",
              "</div>"
            ],
            "text/plain": [
              "                                       Company  ...  length\n",
              "0             AKSORN CHAROEN TAT ACT. CO.,LTD.  ...   238.0\n",
              "1    DONGGUAN SHENGYA CLEANING APPLIAME CO.LTD  ...   273.0\n",
              "2                          EXIS TECH SDN. BHD.  ...   344.0\n",
              "4                   Aztech Electronics Pte Ltd  ...   524.0\n",
              "5                TONGDUN INTERNATIONAL PTE LTD  ...   593.0\n",
              "..                                         ...  ...     ...\n",
              "366                   SHOPEE HONG KONG LIMITED  ...   924.0\n",
              "367                M-LINK SYSTEM (M) SDN. BHD.  ...  1124.0\n",
              "368               BUILDERS 265 PRIVATE LIMITED  ...   226.0\n",
              "369          THEPMAHANAKORN CHEMICALS CO.,LTD.  ...    71.0\n",
              "370            RYOSHO TECHNO SINGAPORE PTE LTD  ...   128.0\n",
              "\n",
              "[350 rows x 8 columns]"
            ]
          },
          "metadata": {
            "tags": []
          },
          "execution_count": 21
        }
      ]
    },
    {
      "cell_type": "markdown",
      "metadata": {
        "id": "V2q_t5v3SSq2"
      },
      "source": [
        "### 4.4. Populating Nan cells\n",
        "\n",
        "---\n",
        "\n",
        "We will now have to populate Nan cells with space so that we can carry on and process with text tokenization."
      ]
    },
    {
      "cell_type": "code",
      "metadata": {
        "id": "iAUWZOuMSP7O",
        "colab": {
          "base_uri": "https://localhost:8080/",
          "height": 823
        },
        "outputId": "cf892653-dc7f-4a6b-89d1-8f35a4438657"
      },
      "source": [
        "# fill na with space instead of others\n",
        "df_valid.fillna(\" \" ,inplace=True)\n",
        "df_valid"
      ],
      "execution_count": null,
      "outputs": [
        {
          "output_type": "execute_result",
          "data": {
            "text/html": [
              "<div>\n",
              "<style scoped>\n",
              "    .dataframe tbody tr th:only-of-type {\n",
              "        vertical-align: middle;\n",
              "    }\n",
              "\n",
              "    .dataframe tbody tr th {\n",
              "        vertical-align: top;\n",
              "    }\n",
              "\n",
              "    .dataframe thead th {\n",
              "        text-align: right;\n",
              "    }\n",
              "</style>\n",
              "<table border=\"1\" class=\"dataframe\">\n",
              "  <thead>\n",
              "    <tr style=\"text-align: right;\">\n",
              "      <th></th>\n",
              "      <th>Company</th>\n",
              "      <th>Country</th>\n",
              "      <th>Sector</th>\n",
              "      <th>Subsector</th>\n",
              "      <th>Archetype</th>\n",
              "      <th>Valuechain</th>\n",
              "      <th>Company Profile Information</th>\n",
              "      <th>length</th>\n",
              "    </tr>\n",
              "  </thead>\n",
              "  <tbody>\n",
              "    <tr>\n",
              "      <th>0</th>\n",
              "      <td>AKSORN CHAROEN TAT ACT. CO.,LTD.</td>\n",
              "      <td>THAILAND</td>\n",
              "      <td>TMT</td>\n",
              "      <td>media</td>\n",
              "      <td>media_aggregator/distributor</td>\n",
              "      <td>Midstream</td>\n",
              "      <td>For over 80 years of experience in creating and developing high-quality learning materials has enabled us to provide world-class educational innovation to meet the needs of all teachers, students, institutions and educational authorities.</td>\n",
              "      <td>238</td>\n",
              "    </tr>\n",
              "    <tr>\n",
              "      <th>1</th>\n",
              "      <td>DONGGUAN SHENGYA CLEANING APPLIAME CO.LTD</td>\n",
              "      <td>CHINA</td>\n",
              "      <td>TMT</td>\n",
              "      <td>consumer electronics</td>\n",
              "      <td>consumer electronics_distributor</td>\n",
              "      <td>Downstream</td>\n",
              "      <td>Yatai's main products cover various cleaning machinery, cleaning agents, cleaning tools, stone maintenance and other cleaning products; cleaning solutions and services include product technical consultation, product customization, employee training, maintenance and so on.</td>\n",
              "      <td>273</td>\n",
              "    </tr>\n",
              "    <tr>\n",
              "      <th>2</th>\n",
              "      <td>EXIS TECH SDN. BHD.</td>\n",
              "      <td>MALAYSIA</td>\n",
              "      <td>oos</td>\n",
              "      <td>others</td>\n",
              "      <td>others</td>\n",
              "      <td></td>\n",
              "      <td>In the beginning, it started off by providing technical support for test handlers, then moving into module design and production. Its first, in-house designed, full-fledged handler was introduced in 2008. Since then, the company has designed and produced a wide range of turret and pick-and-place solutions for its customers all over the world.</td>\n",
              "      <td>344</td>\n",
              "    </tr>\n",
              "    <tr>\n",
              "      <th>4</th>\n",
              "      <td>Aztech Electronics Pte Ltd</td>\n",
              "      <td>SINGAPORE</td>\n",
              "      <td>TMT</td>\n",
              "      <td>consumer electronics</td>\n",
              "      <td>consumer electronics_distributor</td>\n",
              "      <td>Downstream</td>\n",
              "      <td>Being a turnkey, one-stop integrated solutions provider based in Singapore, Aztech is equipped with state-of-the-art equipment, R&amp;D, design, manufacturing and packaging capabilities to deliver a seamless, unified experience. Each and every time. Always striving towards the edge of technology for more than 34 years, we have been building capabilities to serve clients’ manufacturing needs, including the consumer electronics, telecommunications, healthtech, LED lighting, automotive and technology start-up market segments.</td>\n",
              "      <td>524</td>\n",
              "    </tr>\n",
              "    <tr>\n",
              "      <th>5</th>\n",
              "      <td>TONGDUN INTERNATIONAL PTE LTD</td>\n",
              "      <td>SINGAPORE</td>\n",
              "      <td>tmt</td>\n",
              "      <td>it_services</td>\n",
              "      <td>it_services</td>\n",
              "      <td>midstream</td>\n",
              "      <td>Tongdun Technology is a professional third-party intelligent risk management and decision-making service provider headquartered in Hangzhou, Zhejiang. By integrating artificial intelligence into business scenarios, Tongdun Technology offers solutions in intelligent user analysis, intelligent risk management, intelligent antifraud and intelligent operation to clients from various industries including financial industry, internet business, logistics, healthcare, retail, smart cities and government bodies. Over 10,000 corporate clients have chosen Tongdun Technology’s products and services</td>\n",
              "      <td>593</td>\n",
              "    </tr>\n",
              "    <tr>\n",
              "      <th>...</th>\n",
              "      <td>...</td>\n",
              "      <td>...</td>\n",
              "      <td>...</td>\n",
              "      <td>...</td>\n",
              "      <td>...</td>\n",
              "      <td>...</td>\n",
              "      <td>...</td>\n",
              "      <td>...</td>\n",
              "    </tr>\n",
              "    <tr>\n",
              "      <th>995</th>\n",
              "      <td>LUX DISTRIBUTOR SDN. BHD.</td>\n",
              "      <td>MALAYSIA</td>\n",
              "      <td>cni</td>\n",
              "      <td>building_material</td>\n",
              "      <td>building_material_supplier_distributor</td>\n",
              "      <td>downstream</td>\n",
              "      <td>Lux Distributor Sdn Bhd provides building products. The Company offers distribution of tiles, woods, doors, concrete, and other building_materials. Lux supplies its products throughout Malaysia.</td>\n",
              "      <td>194</td>\n",
              "    </tr>\n",
              "    <tr>\n",
              "      <th>996</th>\n",
              "      <td>KJI INDUSTRIAL LIMITED</td>\n",
              "      <td>HONG KONG</td>\n",
              "      <td>tmt</td>\n",
              "      <td>consumer electronics</td>\n",
              "      <td>consumer electronics_distributor</td>\n",
              "      <td>downstream</td>\n",
              "      <td>Our wide product range including Citrus Juicer, Hand Blender, Hand Mixer, Stand Blender, Mini Chopper, Egg boiler, Electric knife... etc. Nowsdays, our products are selling to numerous worldwide brands all around the world.</td>\n",
              "      <td>223</td>\n",
              "    </tr>\n",
              "    <tr>\n",
              "      <th>997</th>\n",
              "      <td>TEKNOSERV ENGINEERING SDN. BHD.</td>\n",
              "      <td>MALAYSIA</td>\n",
              "      <td>cni</td>\n",
              "      <td>utilities</td>\n",
              "      <td>utilities_developer</td>\n",
              "      <td>upstream</td>\n",
              "      <td>Teknoserv Engineering Sdn Bhd provides water services. The Company installs waste water and water treatment plants. Teknoserv Engineering operates in Shah Alam, Malaysia.</td>\n",
              "      <td>170</td>\n",
              "    </tr>\n",
              "    <tr>\n",
              "      <th>998</th>\n",
              "      <td>THERMAL SOLUTIONS ASIA PTE LTD</td>\n",
              "      <td>SINGAPORE</td>\n",
              "      <td>CNI</td>\n",
              "      <td>cni_service providers</td>\n",
              "      <td>cni_service providers</td>\n",
              "      <td>MIDSTREAM</td>\n",
              "      <td>Founded in 2000, Thermal Solutions Asia Pte Ltd has become a leading supplier of Combustion Equipment and Related Services.</td>\n",
              "      <td>124</td>\n",
              "    </tr>\n",
              "    <tr>\n",
              "      <th>999</th>\n",
              "      <td>AUDIO ZOOM PTE LTD</td>\n",
              "      <td>SINGAPORE</td>\n",
              "      <td>TMT</td>\n",
              "      <td>it_services</td>\n",
              "      <td>it_services</td>\n",
              "      <td>Midstream</td>\n",
              "      <td>AUDIO ZOOM is an ACRA-registered entity that has been operating for 3 years 1 month in Singapore since its incorporation y in 2018. Officially, AUDIO ZOOM PTE. LTD. is registered as Exempt Private Limited Company with its address in District 22 (Jurong), primarily operates in the sector of \"RESEARCH AND EXPERIMENTAL DEVELOPMENT ON ELECTRONICS\", SSIC code - 72102</td>\n",
              "      <td>364</td>\n",
              "    </tr>\n",
              "  </tbody>\n",
              "</table>\n",
              "<p>950 rows × 8 columns</p>\n",
              "</div>"
            ],
            "text/plain": [
              "                                       Company  ... length\n",
              "0             AKSORN CHAROEN TAT ACT. CO.,LTD.  ...    238\n",
              "1    DONGGUAN SHENGYA CLEANING APPLIAME CO.LTD  ...    273\n",
              "2                          EXIS TECH SDN. BHD.  ...    344\n",
              "4                   Aztech Electronics Pte Ltd  ...    524\n",
              "5                TONGDUN INTERNATIONAL PTE LTD  ...    593\n",
              "..                                         ...  ...    ...\n",
              "995                  LUX DISTRIBUTOR SDN. BHD.  ...    194\n",
              "996                     KJI INDUSTRIAL LIMITED  ...    223\n",
              "997            TEKNOSERV ENGINEERING SDN. BHD.  ...    170\n",
              "998             THERMAL SOLUTIONS ASIA PTE LTD  ...    124\n",
              "999                         AUDIO ZOOM PTE LTD  ...    364\n",
              "\n",
              "[950 rows x 8 columns]"
            ]
          },
          "metadata": {
            "tags": []
          },
          "execution_count": 22
        }
      ]
    },
    {
      "cell_type": "markdown",
      "metadata": {
        "id": "KvaDZUtsVIYk"
      },
      "source": [
        "### 4.5. Assigning tags\n",
        "---\n",
        "In this section, we will be assigning tags to every row, so that we can make use of the given keywords for bag-of-words (BoW) processing."
      ]
    },
    {
      "cell_type": "code",
      "metadata": {
        "id": "RMryE61_3L3d",
        "colab": {
          "base_uri": "https://localhost:8080/"
        },
        "outputId": "51e8a750-39fd-4c81-d3a2-9eb554650d5b"
      },
      "source": [
        "# Programmatically assign tags to each definition\n",
        "sector_keywords = pd.read_excel('./sector_master_definition.xlsx')\n",
        "df_keywords = sector_keywords[['Sector', 'Subsector', 'Archetype', 'Value Chain', 'Sector Keywords']]\n",
        "\n",
        "# capitalise all tags\n",
        "df_keywords['Value Chain'] = df_keywords['Value Chain'].str.upper()\n",
        "df_keywords.fillna(' ', inplace=True)\n",
        "df_keywords['Sector Keywords'] = df_keywords['Sector Keywords'].str.upper()\n",
        "df_keywords['Sector Keywords'].replace(' ', '[]', inplace=True)\n",
        "\n",
        "# save unique tags, sorted for consistency across runs\n",
        "sector = np.sort(df_keywords['Sector'].unique())\n",
        "subsector = np.sort(df_keywords['Subsector'].unique())\n",
        "archetype = np.sort(df_keywords['Archetype'].unique())\n",
        "valuechain = np.sort(df_keywords['Value Chain'].unique())\n",
        "\n",
        "# save counts for use in model\n",
        "print(len(sector), len(subsector), len(archetype), len(valuechain))\n",
        "tag_counts = [len(sector), len(subsector), len(archetype), len(valuechain)]\n",
        "\n",
        "# assign number tag list to each row\n",
        "taglist = []\n",
        "for index, row in df_keywords.iterrows():\n",
        "    temp = []\n",
        "\n",
        "    temp.append(np.where(sector == row['Sector'])[0][0])\n",
        "    temp.append(np.where(subsector == row['Subsector'])[0][0])\n",
        "    temp.append(np.where(archetype == row['Archetype'])[0][0])\n",
        "    temp.append(np.where(valuechain == row['Value Chain'])[0][0])\n",
        "\n",
        "    taglist.append(temp)\n",
        "\n",
        "# assign completed taglist to column in dataframe\n",
        "df_keywords['list_tag'] = taglist"
      ],
      "execution_count": null,
      "outputs": [
        {
          "output_type": "stream",
          "text": [
            "7 32 92 9\n"
          ],
          "name": "stdout"
        }
      ]
    },
    {
      "cell_type": "code",
      "metadata": {
        "id": "qeY7nEgNAL5n"
      },
      "source": [
        "# process data for homogenity\n",
        "df_valid['Valuechain'] = df_valid['Valuechain'].str.split().str.join(' ')\n",
        "df_valid['Valuechain'] = df_valid['Valuechain'].str.upper()\n",
        "df_valid['Sector'] = df_valid['Sector'].str.upper()\n",
        "df_valid['Valuechain'].replace('', ' ', inplace=True)\n",
        "\n",
        "taglist_df = []\n",
        "# process tags for records\n",
        "for index, row in df_valid.iterrows():\n",
        "    temp = []\n",
        "\n",
        "    temp.append(np.where(sector == row['Sector'])[0][0])\n",
        "    temp.append(np.where(subsector == row['Subsector'])[0][0])\n",
        "    temp.append(np.where(archetype == row['Archetype'])[0][0])\n",
        "    temp.append(np.where(valuechain == row['Valuechain'])[0][0])\n",
        "\n",
        "    taglist_df.append(temp)\n",
        "\n",
        "df_valid['list_tag'] = taglist_df"
      ],
      "execution_count": null,
      "outputs": []
    },
    {
      "cell_type": "markdown",
      "metadata": {
        "id": "vMQVBNOGz4cn"
      },
      "source": [
        "### 4.6. Text Tokenization, Removing Stop Words, punctuations, numbers, stop words and Lower Case\n",
        "\n",
        "---\n",
        "\n",
        "Now we will start to tokenize the word after we have ensure that the text description between the company descriptions are homogenous. In this process, we will also process with stop words, punctuations, numeric figures, lower cap words and lemmatize words all using the spaCy API."
      ]
    },
    {
      "cell_type": "code",
      "metadata": {
        "id": "XM-Q_-iEUgFQ"
      },
      "source": [
        "# we will have to ensure all the dtype of the respective columns are in string and not float for spacy to handle properly, so now we will attempt to convert all into strings\n",
        "columns_to_convert = ['Sector', 'Subsector', 'Archetype', 'Valuechain', 'Company Profile Information']\n",
        "\n",
        "for i in columns_to_convert:\n",
        "  df_valid[i] = df_valid[i].astype(str)"
      ],
      "execution_count": null,
      "outputs": []
    },
    {
      "cell_type": "markdown",
      "metadata": {
        "id": "ihIc0sUPPu_A"
      },
      "source": [
        "Here we will do everything necessary to start up spacy for use in preprocessing the text."
      ]
    },
    {
      "cell_type": "code",
      "metadata": {
        "id": "zf-9naDFAIZq",
        "colab": {
          "base_uri": "https://localhost:8080/"
        },
        "outputId": "f5b9abfe-7888-4051-bf10-9e06f4bb628a"
      },
      "source": [
        "# import required libraries \n",
        "from spacy.language import Language\n",
        "from spacy.tokens import Doc\n",
        "from spacy.lang.char_classes import ALPHA, ALPHA_LOWER, ALPHA_UPPER, CONCAT_QUOTES, LIST_ELLIPSES, LIST_ICONS\n",
        "from spacy.util import compile_infix_regex\n",
        "\n",
        "# initialise nlp engine\n",
        "nlp = spacy.load(\"en_core_web_lg\")\n",
        "\n",
        "# declare custom properties\n",
        "Doc.set_extension('processed', default=True, force=True)\n",
        "\n",
        "# Modify tokenizer infix patterns\n",
        "infixes = (\n",
        "    LIST_ELLIPSES\n",
        "    + LIST_ICONS\n",
        "    + [\n",
        "        r\"(?<=[0-9])[+\\-\\*^](?=[0-9-])\",\n",
        "        r\"(?<=[{al}{q}])\\.(?=[{au}{q}])\".format(\n",
        "            al=ALPHA_LOWER, au=ALPHA_UPPER, q=CONCAT_QUOTES\n",
        "        ),\n",
        "        r\"(?<=[{a}]),(?=[{a}])\".format(a=ALPHA),\n",
        "        r\"(?<=[{a}0-9])[:<>=/](?=[{a}])\".format(a=ALPHA),\n",
        "    ]\n",
        ")\n",
        "\n",
        "infix_re = compile_infix_regex(infixes)\n",
        "nlp.tokenizer.infix_finditer = infix_re.finditer\n",
        "\n",
        "# custom lemmatizer\n",
        "@Language.component(\"custom_preprocess\")\n",
        "def custom_preprocess(doc):\n",
        "    temp = []\n",
        "\n",
        "    # filter through each token and add to preprocessed text if requirements #\n",
        "    # met.                                                                   #\n",
        "    for t in doc:\n",
        "        if (not t.is_punct and not t.like_num and not t.is_stop and not t.is_digit and not (t.ent_type == 396 or t.ent_type == 397)):\n",
        "            temp.append(t.lemma_.upper())\n",
        "\n",
        "    doc._.processed = temp\n",
        "\n",
        "    return doc\n",
        "\n",
        "# add custom pipeline components to default pipeline\n",
        "nlp.add_pipe('custom_preprocess', last=True)"
      ],
      "execution_count": null,
      "outputs": [
        {
          "output_type": "execute_result",
          "data": {
            "text/plain": [
              "<function __main__.custom_preprocess>"
            ]
          },
          "metadata": {
            "tags": []
          },
          "execution_count": 26
        }
      ]
    },
    {
      "cell_type": "code",
      "metadata": {
        "id": "13bwIYewPsD9"
      },
      "source": [
        "# run the pipeline on data\n",
        "processed_doc = list(nlp.pipe(df_valid['Company Profile Information']))"
      ],
      "execution_count": null,
      "outputs": []
    },
    {
      "cell_type": "code",
      "metadata": {
        "id": "4UaWgX5lZStt",
        "colab": {
          "base_uri": "https://localhost:8080/",
          "height": 1000
        },
        "outputId": "8bbfe2f8-dab5-437c-efc4-514a1f12a29e"
      },
      "source": [
        "# add lemmatised words to dataframe\n",
        "df_valid['processed'] = [doc._.processed for doc in processed_doc]\n",
        "\n",
        "df_valid"
      ],
      "execution_count": null,
      "outputs": [
        {
          "output_type": "execute_result",
          "data": {
            "text/html": [
              "<div>\n",
              "<style scoped>\n",
              "    .dataframe tbody tr th:only-of-type {\n",
              "        vertical-align: middle;\n",
              "    }\n",
              "\n",
              "    .dataframe tbody tr th {\n",
              "        vertical-align: top;\n",
              "    }\n",
              "\n",
              "    .dataframe thead th {\n",
              "        text-align: right;\n",
              "    }\n",
              "</style>\n",
              "<table border=\"1\" class=\"dataframe\">\n",
              "  <thead>\n",
              "    <tr style=\"text-align: right;\">\n",
              "      <th></th>\n",
              "      <th>Company</th>\n",
              "      <th>Country</th>\n",
              "      <th>Sector</th>\n",
              "      <th>Subsector</th>\n",
              "      <th>Archetype</th>\n",
              "      <th>Valuechain</th>\n",
              "      <th>Company Profile Information</th>\n",
              "      <th>length</th>\n",
              "      <th>list_tag</th>\n",
              "      <th>processed</th>\n",
              "    </tr>\n",
              "  </thead>\n",
              "  <tbody>\n",
              "    <tr>\n",
              "      <th>0</th>\n",
              "      <td>AKSORN CHAROEN TAT ACT. CO.,LTD.</td>\n",
              "      <td>THAILAND</td>\n",
              "      <td>TMT</td>\n",
              "      <td>media</td>\n",
              "      <td>media_aggregator/distributor</td>\n",
              "      <td>MIDSTREAM</td>\n",
              "      <td>For over 80 years of experience in creating and developing high-quality learning materials has enabled us to provide world-class educational innovation to meet the needs of all teachers, students, institutions and educational authorities.</td>\n",
              "      <td>238</td>\n",
              "      <td>[6, 18, 49, 5]</td>\n",
              "      <td>[YEAR, EXPERIENCE, CREATE, DEVELOP, HIGH-QUALITY, LEARNING, MATERIAL, ENABLE, PROVIDE, WORLD-CLASS, EDUCATIONAL, INNOVATION, MEET, NEED, TEACHER, STUDENT, INSTITUTION, EDUCATIONAL, AUTHORITY]</td>\n",
              "    </tr>\n",
              "    <tr>\n",
              "      <th>1</th>\n",
              "      <td>DONGGUAN SHENGYA CLEANING APPLIAME CO.LTD</td>\n",
              "      <td>CHINA</td>\n",
              "      <td>TMT</td>\n",
              "      <td>consumer electronics</td>\n",
              "      <td>consumer electronics_distributor</td>\n",
              "      <td>DOWNSTREAM</td>\n",
              "      <td>Yatai's main products cover various cleaning machinery, cleaning agents, cleaning tools, stone maintenance and other cleaning products; cleaning solutions and services include product technical consultation, product customization, employee training, maintenance and so on.</td>\n",
              "      <td>273</td>\n",
              "      <td>[6, 8, 20, 3]</td>\n",
              "      <td>[YATAI, MAIN, PRODUCT, COVER, CLEANING, MACHINERY, CLEAN, AGENT, CLEANING, TOOL, STONE, MAINTENANCE, CLEANING, PRODUCT, CLEAN, SOLUTION, SERVICE, INCLUDE, PRODUCT, TECHNICAL, CONSULTATION, PRODUCT, CUSTOMIZATION, EMPLOYEE, TRAINING, MAINTENANCE]</td>\n",
              "    </tr>\n",
              "    <tr>\n",
              "      <th>2</th>\n",
              "      <td>EXIS TECH SDN. BHD.</td>\n",
              "      <td>MALAYSIA</td>\n",
              "      <td>OOS</td>\n",
              "      <td>others</td>\n",
              "      <td>others</td>\n",
              "      <td></td>\n",
              "      <td>In the beginning, it started off by providing technical support for test handlers, then moving into module design and production. Its first, in-house designed, full-fledged handler was introduced in 2008. Since then, the company has designed and produced a wide range of turret and pick-and-place solutions for its customers all over the world.</td>\n",
              "      <td>344</td>\n",
              "      <td>[4, 24, 64, 0]</td>\n",
              "      <td>[BEGINNING, START, PROVIDE, TECHNICAL, SUPPORT, TEST, HANDLER, MOVE, MODULE, DESIGN, PRODUCTION, IN-HOUSE, DESIGN, FULL-FLEDGED, HANDLER, INTRODUCE, COMPANY, DESIGN, PRODUCE, WIDE, RANGE, TURRET, PICK-AND-PLACE, SOLUTION, CUSTOMER, WORLD]</td>\n",
              "    </tr>\n",
              "    <tr>\n",
              "      <th>4</th>\n",
              "      <td>Aztech Electronics Pte Ltd</td>\n",
              "      <td>SINGAPORE</td>\n",
              "      <td>TMT</td>\n",
              "      <td>consumer electronics</td>\n",
              "      <td>consumer electronics_distributor</td>\n",
              "      <td>DOWNSTREAM</td>\n",
              "      <td>Being a turnkey, one-stop integrated solutions provider based in Singapore, Aztech is equipped with state-of-the-art equipment, R&amp;D, design, manufacturing and packaging capabilities to deliver a seamless, unified experience. Each and every time. Always striving towards the edge of technology for more than 34 years, we have been building capabilities to serve clients’ manufacturing needs, including the consumer electronics, telecommunications, healthtech, LED lighting, automotive and technology start-up market segments.</td>\n",
              "      <td>524</td>\n",
              "      <td>[6, 8, 20, 3]</td>\n",
              "      <td>[TURNKEY, ONE-STOP, INTEGRATED, SOLUTION, PROVIDER, BASE, SINGAPORE, AZTECH, EQUIP, STATE-OF-THE-ART, EQUIPMENT, R&amp;D, DESIGN, MANUFACTURING, PACKAGING, CAPABILITY, DELIVER, SEAMLESS, UNIFIED, EXPERIENCE, TIME, STRIVE, EDGE, TECHNOLOGY, YEAR, BUILD, CAPABILITY, SERVE, CLIENT, MANUFACTURING, NEED, INCLUDE, CONSUMER, ELECTRONIC, TELECOMMUNICATION, HEALTHTECH, LED, LIGHTING, AUTOMOTIVE, TECHNOLOGY, START-UP, MARKET, SEGMENT]</td>\n",
              "    </tr>\n",
              "    <tr>\n",
              "      <th>5</th>\n",
              "      <td>TONGDUN INTERNATIONAL PTE LTD</td>\n",
              "      <td>SINGAPORE</td>\n",
              "      <td>TMT</td>\n",
              "      <td>it_services</td>\n",
              "      <td>it_services</td>\n",
              "      <td>MIDSTREAM</td>\n",
              "      <td>Tongdun Technology is a professional third-party intelligent risk management and decision-making service provider headquartered in Hangzhou, Zhejiang. By integrating artificial intelligence into business scenarios, Tongdun Technology offers solutions in intelligent user analysis, intelligent risk management, intelligent antifraud and intelligent operation to clients from various industries including financial industry, internet business, logistics, healthcare, retail, smart cities and government bodies. Over 10,000 corporate clients have chosen Tongdun Technology’s products and services</td>\n",
              "      <td>593</td>\n",
              "      <td>[6, 17, 46, 5]</td>\n",
              "      <td>[TONGDUN, TECHNOLOGY, PROFESSIONAL, THIRD-PARTY, INTELLIGENT, RISK, MANAGEMENT, DECISION-MAKING, SERVICE, PROVIDER, HEADQUARTER, HANGZHOU, ZHEJIANG, INTEGRATE, ARTIFICIAL, INTELLIGENCE, BUSINESS, SCENARIO, TONGDUN, TECHNOLOGY, OFFER, SOLUTION, INTELLIGENT, USER, ANALYSIS, INTELLIGENT, RISK, MANAGEMENT, INTELLIGENT, ANTIFRAUD, INTELLIGENT, OPERATION, CLIENT, INDUSTRY, INCLUDE, FINANCIAL, INDUSTRY, INTERNET, BUSINESS, LOGISTICS, HEALTHCARE, RETAIL, SMART, CITY, GOVERNMENT, BODY, CORPORATE, CLIENT, CHOOSE, TONGDUN, TECHNOLOGY, PRODUCT, SERVICE]</td>\n",
              "    </tr>\n",
              "    <tr>\n",
              "      <th>...</th>\n",
              "      <td>...</td>\n",
              "      <td>...</td>\n",
              "      <td>...</td>\n",
              "      <td>...</td>\n",
              "      <td>...</td>\n",
              "      <td>...</td>\n",
              "      <td>...</td>\n",
              "      <td>...</td>\n",
              "      <td>...</td>\n",
              "      <td>...</td>\n",
              "    </tr>\n",
              "    <tr>\n",
              "      <th>995</th>\n",
              "      <td>LUX DISTRIBUTOR SDN. BHD.</td>\n",
              "      <td>MALAYSIA</td>\n",
              "      <td>CNI</td>\n",
              "      <td>building_material</td>\n",
              "      <td>building_material_supplier_distributor</td>\n",
              "      <td>DOWNSTREAM</td>\n",
              "      <td>Lux Distributor Sdn Bhd provides building products. The Company offers distribution of tiles, woods, doors, concrete, and other building_materials. Lux supplies its products throughout Malaysia.</td>\n",
              "      <td>194</td>\n",
              "      <td>[1, 3, 9, 3]</td>\n",
              "      <td>[LUX, DISTRIBUTOR, SDN, BHD, PROVIDE, BUILDING, PRODUCT, COMPANY, OFFER, DISTRIBUTION, TILE, WOOD, DOOR, CONCRETE, BUILDING_MATERIAL, LUX, SUPPLY, PRODUCT, MALAYSIA]</td>\n",
              "    </tr>\n",
              "    <tr>\n",
              "      <th>996</th>\n",
              "      <td>KJI INDUSTRIAL LIMITED</td>\n",
              "      <td>HONG KONG</td>\n",
              "      <td>TMT</td>\n",
              "      <td>consumer electronics</td>\n",
              "      <td>consumer electronics_distributor</td>\n",
              "      <td>DOWNSTREAM</td>\n",
              "      <td>Our wide product range including Citrus Juicer, Hand Blender, Hand Mixer, Stand Blender, Mini Chopper, Egg boiler, Electric knife... etc. Nowsdays, our products are selling to numerous worldwide brands all around the world.</td>\n",
              "      <td>223</td>\n",
              "      <td>[6, 8, 20, 3]</td>\n",
              "      <td>[WIDE, PRODUCT, RANGE, INCLUDE, CITRUS, JUICER, HAND, BLENDER, HAND, MIXER, STAND, BLENDER, MINI, CHOPPER, EGG, BOILER, ELECTRIC, KNIFE, ETC, NOWSDAYS, PRODUCT, SELL, NUMEROUS, WORLDWIDE, BRAND, WORLD]</td>\n",
              "    </tr>\n",
              "    <tr>\n",
              "      <th>997</th>\n",
              "      <td>TEKNOSERV ENGINEERING SDN. BHD.</td>\n",
              "      <td>MALAYSIA</td>\n",
              "      <td>CNI</td>\n",
              "      <td>utilities</td>\n",
              "      <td>utilities_developer</td>\n",
              "      <td>UPSTREAM</td>\n",
              "      <td>Teknoserv Engineering Sdn Bhd provides water services. The Company installs waste water and water treatment plants. Teknoserv Engineering operates in Shah Alam, Malaysia.</td>\n",
              "      <td>170</td>\n",
              "      <td>[1, 31, 89, 7]</td>\n",
              "      <td>[TEKNOSERV, ENGINEERING, SDN, BHD, PROVIDE, WATER, SERVICE, COMPANY, INSTALL, WASTE, WATER, WATER, TREATMENT, PLANT, TEKNOSERV, ENGINEERING, OPERATE, SHAH, ALAM, MALAYSIA]</td>\n",
              "    </tr>\n",
              "    <tr>\n",
              "      <th>998</th>\n",
              "      <td>THERMAL SOLUTIONS ASIA PTE LTD</td>\n",
              "      <td>SINGAPORE</td>\n",
              "      <td>CNI</td>\n",
              "      <td>cni_service providers</td>\n",
              "      <td>cni_service providers</td>\n",
              "      <td>MIDSTREAM</td>\n",
              "      <td>Founded in 2000, Thermal Solutions Asia Pte Ltd has become a leading supplier of Combustion Equipment and Related Services.</td>\n",
              "      <td>124</td>\n",
              "      <td>[1, 6, 14, 5]</td>\n",
              "      <td>[FOUND, THERMAL, SOLUTIONS, ASIA, PTE, LTD, LEAD, SUPPLIER, COMBUSTION, EQUIPMENT, RELATED, SERVICES]</td>\n",
              "    </tr>\n",
              "    <tr>\n",
              "      <th>999</th>\n",
              "      <td>AUDIO ZOOM PTE LTD</td>\n",
              "      <td>SINGAPORE</td>\n",
              "      <td>TMT</td>\n",
              "      <td>it_services</td>\n",
              "      <td>it_services</td>\n",
              "      <td>MIDSTREAM</td>\n",
              "      <td>AUDIO ZOOM is an ACRA-registered entity that has been operating for 3 years 1 month in Singapore since its incorporation y in 2018. Officially, AUDIO ZOOM PTE. LTD. is registered as Exempt Private Limited Company with its address in District 22 (Jurong), primarily operates in the sector of \"RESEARCH AND EXPERIMENTAL DEVELOPMENT ON ELECTRONICS\", SSIC code - 72102</td>\n",
              "      <td>364</td>\n",
              "      <td>[6, 17, 46, 5]</td>\n",
              "      <td>[AUDIO, ZOOM, ACRA-REGISTERED, ENTITY, OPERATE, YEAR, MONTH, SINGAPORE, INCORPORATION, Y, OFFICIALLY, AUDIO, ZOOM, PTE, LTD, REGISTER, EXEMPT, PRIVATE, LIMITED, COMPANY, ADDRESS, DISTRICT, JURONG, PRIMARILY, OPERATE, SECTOR, RESEARCH, EXPERIMENTAL, DEVELOPMENT, ELECTRONICS, SSIC, CODE]</td>\n",
              "    </tr>\n",
              "  </tbody>\n",
              "</table>\n",
              "<p>950 rows × 10 columns</p>\n",
              "</div>"
            ],
            "text/plain": [
              "                                       Company  ...                                                                                                                                                                                                                                                                                                                                                                                                                                                                                                                                                            processed\n",
              "0             AKSORN CHAROEN TAT ACT. CO.,LTD.  ...                                                                                                                                                                                                                                                                                                                                                                      [YEAR, EXPERIENCE, CREATE, DEVELOP, HIGH-QUALITY, LEARNING, MATERIAL, ENABLE, PROVIDE, WORLD-CLASS, EDUCATIONAL, INNOVATION, MEET, NEED, TEACHER, STUDENT, INSTITUTION, EDUCATIONAL, AUTHORITY]\n",
              "1    DONGGUAN SHENGYA CLEANING APPLIAME CO.LTD  ...                                                                                                                                                                                                                                                                                                                [YATAI, MAIN, PRODUCT, COVER, CLEANING, MACHINERY, CLEAN, AGENT, CLEANING, TOOL, STONE, MAINTENANCE, CLEANING, PRODUCT, CLEAN, SOLUTION, SERVICE, INCLUDE, PRODUCT, TECHNICAL, CONSULTATION, PRODUCT, CUSTOMIZATION, EMPLOYEE, TRAINING, MAINTENANCE]\n",
              "2                          EXIS TECH SDN. BHD.  ...                                                                                                                                                                                                                                                                                                                       [BEGINNING, START, PROVIDE, TECHNICAL, SUPPORT, TEST, HANDLER, MOVE, MODULE, DESIGN, PRODUCTION, IN-HOUSE, DESIGN, FULL-FLEDGED, HANDLER, INTRODUCE, COMPANY, DESIGN, PRODUCE, WIDE, RANGE, TURRET, PICK-AND-PLACE, SOLUTION, CUSTOMER, WORLD]\n",
              "4                   Aztech Electronics Pte Ltd  ...                                                                                                                             [TURNKEY, ONE-STOP, INTEGRATED, SOLUTION, PROVIDER, BASE, SINGAPORE, AZTECH, EQUIP, STATE-OF-THE-ART, EQUIPMENT, R&D, DESIGN, MANUFACTURING, PACKAGING, CAPABILITY, DELIVER, SEAMLESS, UNIFIED, EXPERIENCE, TIME, STRIVE, EDGE, TECHNOLOGY, YEAR, BUILD, CAPABILITY, SERVE, CLIENT, MANUFACTURING, NEED, INCLUDE, CONSUMER, ELECTRONIC, TELECOMMUNICATION, HEALTHTECH, LED, LIGHTING, AUTOMOTIVE, TECHNOLOGY, START-UP, MARKET, SEGMENT]\n",
              "5                TONGDUN INTERNATIONAL PTE LTD  ...  [TONGDUN, TECHNOLOGY, PROFESSIONAL, THIRD-PARTY, INTELLIGENT, RISK, MANAGEMENT, DECISION-MAKING, SERVICE, PROVIDER, HEADQUARTER, HANGZHOU, ZHEJIANG, INTEGRATE, ARTIFICIAL, INTELLIGENCE, BUSINESS, SCENARIO, TONGDUN, TECHNOLOGY, OFFER, SOLUTION, INTELLIGENT, USER, ANALYSIS, INTELLIGENT, RISK, MANAGEMENT, INTELLIGENT, ANTIFRAUD, INTELLIGENT, OPERATION, CLIENT, INDUSTRY, INCLUDE, FINANCIAL, INDUSTRY, INTERNET, BUSINESS, LOGISTICS, HEALTHCARE, RETAIL, SMART, CITY, GOVERNMENT, BODY, CORPORATE, CLIENT, CHOOSE, TONGDUN, TECHNOLOGY, PRODUCT, SERVICE]\n",
              "..                                         ...  ...                                                                                                                                                                                                                                                                                                                                                                                                                                                                                                                                                                  ...\n",
              "995                  LUX DISTRIBUTOR SDN. BHD.  ...                                                                                                                                                                                                                                                                                                                                                                                                [LUX, DISTRIBUTOR, SDN, BHD, PROVIDE, BUILDING, PRODUCT, COMPANY, OFFER, DISTRIBUTION, TILE, WOOD, DOOR, CONCRETE, BUILDING_MATERIAL, LUX, SUPPLY, PRODUCT, MALAYSIA]\n",
              "996                     KJI INDUSTRIAL LIMITED  ...                                                                                                                                                                                                                                                                                                                                                            [WIDE, PRODUCT, RANGE, INCLUDE, CITRUS, JUICER, HAND, BLENDER, HAND, MIXER, STAND, BLENDER, MINI, CHOPPER, EGG, BOILER, ELECTRIC, KNIFE, ETC, NOWSDAYS, PRODUCT, SELL, NUMEROUS, WORLDWIDE, BRAND, WORLD]\n",
              "997            TEKNOSERV ENGINEERING SDN. BHD.  ...                                                                                                                                                                                                                                                                                                                                                                                          [TEKNOSERV, ENGINEERING, SDN, BHD, PROVIDE, WATER, SERVICE, COMPANY, INSTALL, WASTE, WATER, WATER, TREATMENT, PLANT, TEKNOSERV, ENGINEERING, OPERATE, SHAH, ALAM, MALAYSIA]\n",
              "998             THERMAL SOLUTIONS ASIA PTE LTD  ...                                                                                                                                                                                                                                                                                                                                                                                                                                                                [FOUND, THERMAL, SOLUTIONS, ASIA, PTE, LTD, LEAD, SUPPLIER, COMBUSTION, EQUIPMENT, RELATED, SERVICES]\n",
              "999                         AUDIO ZOOM PTE LTD  ...                                                                                                                                                                                                                                                                       [AUDIO, ZOOM, ACRA-REGISTERED, ENTITY, OPERATE, YEAR, MONTH, SINGAPORE, INCORPORATION, Y, OFFICIALLY, AUDIO, ZOOM, PTE, LTD, REGISTER, EXEMPT, PRIVATE, LIMITED, COMPANY, ADDRESS, DISTRICT, JURONG, PRIMARILY, OPERATE, SECTOR, RESEARCH, EXPERIMENTAL, DEVELOPMENT, ELECTRONICS, SSIC, CODE]\n",
              "\n",
              "[950 rows x 10 columns]"
            ]
          },
          "metadata": {
            "tags": []
          },
          "execution_count": 28
        }
      ]
    },
    {
      "cell_type": "markdown",
      "metadata": {
        "id": "oNrfPLrEbXSh"
      },
      "source": [
        "### 4.7. Bag of Words / TF-IDF"
      ]
    },
    {
      "cell_type": "code",
      "metadata": {
        "id": "G1zJBkfx6euk",
        "colab": {
          "base_uri": "https://localhost:8080/"
        },
        "outputId": "6a17ec82-875b-4de3-9b28-c86d68735e4c"
      },
      "source": [
        "# combine all keywords from all sectors\n",
        "keywords_masterlist = []\n",
        "for index, row in df_keywords.iterrows():\n",
        "    keywords_masterlist += eval(row['Sector Keywords'])\n",
        "\n",
        "# remove extraenous keywords, then sort\n",
        "keywords_masterlist = sorted(list(set(keywords_masterlist)))\n",
        "print(len(keywords_masterlist))"
      ],
      "execution_count": null,
      "outputs": [
        {
          "output_type": "stream",
          "text": [
            "1473\n"
          ],
          "name": "stdout"
        }
      ]
    },
    {
      "cell_type": "code",
      "metadata": {
        "id": "tyzmOri2ZrGl",
        "colab": {
          "base_uri": "https://localhost:8080/",
          "height": 1000
        },
        "outputId": "8660b5ee-4aea-48f2-984d-d2d5fa8cf7a8"
      },
      "source": [
        "# do bag of words\n",
        "bow_vectors = []\n",
        "for index, row in df_valid.iterrows():\n",
        "    company = row['processed']\n",
        "\n",
        "    dictionary = dict.fromkeys(keywords_masterlist, 0)\n",
        "    for word in company:\n",
        "        if word in keywords_masterlist:\n",
        "            dictionary[word] += 1\n",
        "\n",
        "    # append to dataframe\n",
        "    bow_vectors.append(list(dictionary.values()))\n",
        "\n",
        "    # print(f'{sum(dictionary.values()):>3}/{len(dictionary.values()):<3} |', dictionary.values())\n",
        "\n",
        "df_valid['BoW_vectors'] = bow_vectors\n",
        "\n",
        "df_valid"
      ],
      "execution_count": null,
      "outputs": [
        {
          "output_type": "execute_result",
          "data": {
            "text/html": [
              "<div>\n",
              "<style scoped>\n",
              "    .dataframe tbody tr th:only-of-type {\n",
              "        vertical-align: middle;\n",
              "    }\n",
              "\n",
              "    .dataframe tbody tr th {\n",
              "        vertical-align: top;\n",
              "    }\n",
              "\n",
              "    .dataframe thead th {\n",
              "        text-align: right;\n",
              "    }\n",
              "</style>\n",
              "<table border=\"1\" class=\"dataframe\">\n",
              "  <thead>\n",
              "    <tr style=\"text-align: right;\">\n",
              "      <th></th>\n",
              "      <th>Company</th>\n",
              "      <th>Country</th>\n",
              "      <th>Sector</th>\n",
              "      <th>Subsector</th>\n",
              "      <th>Archetype</th>\n",
              "      <th>Valuechain</th>\n",
              "      <th>Company Profile Information</th>\n",
              "      <th>length</th>\n",
              "      <th>list_tag</th>\n",
              "      <th>processed</th>\n",
              "      <th>BoW_vectors</th>\n",
              "    </tr>\n",
              "  </thead>\n",
              "  <tbody>\n",
              "    <tr>\n",
              "      <th>0</th>\n",
              "      <td>AKSORN CHAROEN TAT ACT. CO.,LTD.</td>\n",
              "      <td>THAILAND</td>\n",
              "      <td>TMT</td>\n",
              "      <td>media</td>\n",
              "      <td>media_aggregator/distributor</td>\n",
              "      <td>MIDSTREAM</td>\n",
              "      <td>For over 80 years of experience in creating and developing high-quality learning materials has enabled us to provide world-class educational innovation to meet the needs of all teachers, students, institutions and educational authorities.</td>\n",
              "      <td>238</td>\n",
              "      <td>[6, 18, 49, 5]</td>\n",
              "      <td>[YEAR, EXPERIENCE, CREATE, DEVELOP, HIGH-QUALITY, LEARNING, MATERIAL, ENABLE, PROVIDE, WORLD-CLASS, EDUCATIONAL, INNOVATION, MEET, NEED, TEACHER, STUDENT, INSTITUTION, EDUCATIONAL, AUTHORITY]</td>\n",
              "      <td>[0, 0, 0, 0, 0, 0, 0, 0, 0, 0, 0, 0, 0, 0, 0, 0, 0, 0, 0, 0, 0, 0, 0, 0, 0, 0, 0, 0, 0, 0, 0, 0, 0, 0, 0, 0, 0, 0, 0, 0, 0, 0, 0, 0, 0, 0, 0, 0, 0, 0, 0, 0, 0, 0, 0, 0, 0, 0, 0, 0, 0, 0, 0, 0, 0, 0, 0, 0, 0, 0, 0, 0, 0, 0, 0, 0, 0, 0, 0, 0, 0, 0, 0, 0, 0, 0, 0, 0, 0, 0, 0, 0, 0, 0, 0, 0, 0, 0, 0, 0, ...]</td>\n",
              "    </tr>\n",
              "    <tr>\n",
              "      <th>1</th>\n",
              "      <td>DONGGUAN SHENGYA CLEANING APPLIAME CO.LTD</td>\n",
              "      <td>CHINA</td>\n",
              "      <td>TMT</td>\n",
              "      <td>consumer electronics</td>\n",
              "      <td>consumer electronics_distributor</td>\n",
              "      <td>DOWNSTREAM</td>\n",
              "      <td>Yatai's main products cover various cleaning machinery, cleaning agents, cleaning tools, stone maintenance and other cleaning products; cleaning solutions and services include product technical consultation, product customization, employee training, maintenance and so on.</td>\n",
              "      <td>273</td>\n",
              "      <td>[6, 8, 20, 3]</td>\n",
              "      <td>[YATAI, MAIN, PRODUCT, COVER, CLEANING, MACHINERY, CLEAN, AGENT, CLEANING, TOOL, STONE, MAINTENANCE, CLEANING, PRODUCT, CLEAN, SOLUTION, SERVICE, INCLUDE, PRODUCT, TECHNICAL, CONSULTATION, PRODUCT, CUSTOMIZATION, EMPLOYEE, TRAINING, MAINTENANCE]</td>\n",
              "      <td>[0, 0, 0, 0, 0, 0, 0, 0, 0, 0, 0, 0, 0, 0, 0, 0, 0, 0, 0, 0, 0, 0, 0, 0, 0, 0, 0, 0, 0, 0, 0, 0, 0, 0, 0, 0, 0, 0, 0, 0, 0, 0, 0, 0, 0, 0, 0, 0, 0, 0, 0, 0, 0, 0, 0, 0, 0, 0, 0, 0, 0, 0, 0, 0, 0, 0, 0, 0, 0, 0, 0, 0, 0, 0, 0, 0, 0, 0, 0, 0, 0, 0, 0, 0, 0, 0, 0, 0, 0, 0, 0, 0, 0, 0, 0, 0, 0, 0, 0, 0, ...]</td>\n",
              "    </tr>\n",
              "    <tr>\n",
              "      <th>2</th>\n",
              "      <td>EXIS TECH SDN. BHD.</td>\n",
              "      <td>MALAYSIA</td>\n",
              "      <td>OOS</td>\n",
              "      <td>others</td>\n",
              "      <td>others</td>\n",
              "      <td></td>\n",
              "      <td>In the beginning, it started off by providing technical support for test handlers, then moving into module design and production. Its first, in-house designed, full-fledged handler was introduced in 2008. Since then, the company has designed and produced a wide range of turret and pick-and-place solutions for its customers all over the world.</td>\n",
              "      <td>344</td>\n",
              "      <td>[4, 24, 64, 0]</td>\n",
              "      <td>[BEGINNING, START, PROVIDE, TECHNICAL, SUPPORT, TEST, HANDLER, MOVE, MODULE, DESIGN, PRODUCTION, IN-HOUSE, DESIGN, FULL-FLEDGED, HANDLER, INTRODUCE, COMPANY, DESIGN, PRODUCE, WIDE, RANGE, TURRET, PICK-AND-PLACE, SOLUTION, CUSTOMER, WORLD]</td>\n",
              "      <td>[0, 0, 0, 0, 0, 0, 0, 0, 0, 0, 0, 0, 0, 0, 0, 0, 0, 0, 0, 0, 0, 0, 0, 0, 0, 0, 0, 0, 0, 0, 0, 0, 0, 0, 0, 0, 0, 0, 0, 0, 0, 0, 0, 0, 0, 0, 0, 0, 0, 0, 0, 0, 0, 0, 0, 0, 0, 0, 0, 0, 0, 0, 0, 0, 0, 0, 0, 0, 0, 0, 0, 0, 0, 0, 0, 0, 0, 0, 0, 0, 0, 0, 0, 0, 0, 0, 0, 0, 0, 0, 0, 0, 0, 0, 0, 0, 0, 0, 0, 0, ...]</td>\n",
              "    </tr>\n",
              "    <tr>\n",
              "      <th>4</th>\n",
              "      <td>Aztech Electronics Pte Ltd</td>\n",
              "      <td>SINGAPORE</td>\n",
              "      <td>TMT</td>\n",
              "      <td>consumer electronics</td>\n",
              "      <td>consumer electronics_distributor</td>\n",
              "      <td>DOWNSTREAM</td>\n",
              "      <td>Being a turnkey, one-stop integrated solutions provider based in Singapore, Aztech is equipped with state-of-the-art equipment, R&amp;D, design, manufacturing and packaging capabilities to deliver a seamless, unified experience. Each and every time. Always striving towards the edge of technology for more than 34 years, we have been building capabilities to serve clients’ manufacturing needs, including the consumer electronics, telecommunications, healthtech, LED lighting, automotive and technology start-up market segments.</td>\n",
              "      <td>524</td>\n",
              "      <td>[6, 8, 20, 3]</td>\n",
              "      <td>[TURNKEY, ONE-STOP, INTEGRATED, SOLUTION, PROVIDER, BASE, SINGAPORE, AZTECH, EQUIP, STATE-OF-THE-ART, EQUIPMENT, R&amp;D, DESIGN, MANUFACTURING, PACKAGING, CAPABILITY, DELIVER, SEAMLESS, UNIFIED, EXPERIENCE, TIME, STRIVE, EDGE, TECHNOLOGY, YEAR, BUILD, CAPABILITY, SERVE, CLIENT, MANUFACTURING, NEED, INCLUDE, CONSUMER, ELECTRONIC, TELECOMMUNICATION, HEALTHTECH, LED, LIGHTING, AUTOMOTIVE, TECHNOLOGY, START-UP, MARKET, SEGMENT]</td>\n",
              "      <td>[0, 0, 0, 0, 0, 0, 0, 0, 0, 0, 0, 0, 0, 0, 0, 0, 0, 0, 0, 0, 0, 0, 0, 0, 0, 0, 0, 0, 0, 0, 0, 0, 0, 0, 0, 0, 0, 0, 0, 0, 0, 0, 0, 0, 0, 0, 0, 0, 0, 0, 0, 0, 0, 0, 0, 0, 0, 0, 0, 0, 0, 0, 0, 0, 0, 0, 0, 0, 0, 0, 0, 0, 0, 0, 0, 0, 0, 0, 0, 0, 0, 0, 0, 0, 0, 0, 0, 0, 0, 0, 0, 0, 0, 0, 0, 0, 0, 0, 0, 0, ...]</td>\n",
              "    </tr>\n",
              "    <tr>\n",
              "      <th>5</th>\n",
              "      <td>TONGDUN INTERNATIONAL PTE LTD</td>\n",
              "      <td>SINGAPORE</td>\n",
              "      <td>TMT</td>\n",
              "      <td>it_services</td>\n",
              "      <td>it_services</td>\n",
              "      <td>MIDSTREAM</td>\n",
              "      <td>Tongdun Technology is a professional third-party intelligent risk management and decision-making service provider headquartered in Hangzhou, Zhejiang. By integrating artificial intelligence into business scenarios, Tongdun Technology offers solutions in intelligent user analysis, intelligent risk management, intelligent antifraud and intelligent operation to clients from various industries including financial industry, internet business, logistics, healthcare, retail, smart cities and government bodies. Over 10,000 corporate clients have chosen Tongdun Technology’s products and services</td>\n",
              "      <td>593</td>\n",
              "      <td>[6, 17, 46, 5]</td>\n",
              "      <td>[TONGDUN, TECHNOLOGY, PROFESSIONAL, THIRD-PARTY, INTELLIGENT, RISK, MANAGEMENT, DECISION-MAKING, SERVICE, PROVIDER, HEADQUARTER, HANGZHOU, ZHEJIANG, INTEGRATE, ARTIFICIAL, INTELLIGENCE, BUSINESS, SCENARIO, TONGDUN, TECHNOLOGY, OFFER, SOLUTION, INTELLIGENT, USER, ANALYSIS, INTELLIGENT, RISK, MANAGEMENT, INTELLIGENT, ANTIFRAUD, INTELLIGENT, OPERATION, CLIENT, INDUSTRY, INCLUDE, FINANCIAL, INDUSTRY, INTERNET, BUSINESS, LOGISTICS, HEALTHCARE, RETAIL, SMART, CITY, GOVERNMENT, BODY, CORPORATE, CLIENT, CHOOSE, TONGDUN, TECHNOLOGY, PRODUCT, SERVICE]</td>\n",
              "      <td>[0, 0, 0, 0, 0, 0, 0, 0, 0, 0, 0, 0, 0, 0, 0, 0, 0, 0, 0, 0, 0, 0, 0, 0, 0, 0, 0, 0, 0, 0, 0, 0, 0, 0, 0, 0, 0, 0, 0, 0, 0, 0, 0, 0, 0, 0, 0, 0, 0, 0, 0, 0, 0, 0, 0, 0, 0, 0, 0, 0, 0, 0, 0, 0, 0, 0, 0, 0, 0, 0, 0, 0, 0, 0, 0, 0, 0, 0, 0, 0, 0, 0, 0, 0, 0, 0, 0, 0, 0, 0, 0, 0, 0, 0, 0, 0, 0, 0, 0, 0, ...]</td>\n",
              "    </tr>\n",
              "    <tr>\n",
              "      <th>...</th>\n",
              "      <td>...</td>\n",
              "      <td>...</td>\n",
              "      <td>...</td>\n",
              "      <td>...</td>\n",
              "      <td>...</td>\n",
              "      <td>...</td>\n",
              "      <td>...</td>\n",
              "      <td>...</td>\n",
              "      <td>...</td>\n",
              "      <td>...</td>\n",
              "      <td>...</td>\n",
              "    </tr>\n",
              "    <tr>\n",
              "      <th>995</th>\n",
              "      <td>LUX DISTRIBUTOR SDN. BHD.</td>\n",
              "      <td>MALAYSIA</td>\n",
              "      <td>CNI</td>\n",
              "      <td>building_material</td>\n",
              "      <td>building_material_supplier_distributor</td>\n",
              "      <td>DOWNSTREAM</td>\n",
              "      <td>Lux Distributor Sdn Bhd provides building products. The Company offers distribution of tiles, woods, doors, concrete, and other building_materials. Lux supplies its products throughout Malaysia.</td>\n",
              "      <td>194</td>\n",
              "      <td>[1, 3, 9, 3]</td>\n",
              "      <td>[LUX, DISTRIBUTOR, SDN, BHD, PROVIDE, BUILDING, PRODUCT, COMPANY, OFFER, DISTRIBUTION, TILE, WOOD, DOOR, CONCRETE, BUILDING_MATERIAL, LUX, SUPPLY, PRODUCT, MALAYSIA]</td>\n",
              "      <td>[0, 0, 0, 0, 0, 0, 0, 0, 0, 0, 0, 0, 0, 0, 0, 0, 0, 0, 0, 0, 0, 0, 0, 0, 0, 0, 0, 0, 0, 0, 0, 0, 0, 0, 0, 0, 0, 0, 0, 0, 0, 0, 0, 0, 0, 0, 0, 0, 0, 0, 0, 0, 0, 0, 0, 0, 0, 0, 0, 0, 0, 0, 0, 0, 0, 0, 0, 0, 0, 0, 0, 0, 0, 0, 0, 0, 0, 0, 0, 0, 0, 0, 0, 0, 0, 0, 0, 0, 0, 0, 0, 0, 0, 0, 0, 0, 0, 0, 0, 0, ...]</td>\n",
              "    </tr>\n",
              "    <tr>\n",
              "      <th>996</th>\n",
              "      <td>KJI INDUSTRIAL LIMITED</td>\n",
              "      <td>HONG KONG</td>\n",
              "      <td>TMT</td>\n",
              "      <td>consumer electronics</td>\n",
              "      <td>consumer electronics_distributor</td>\n",
              "      <td>DOWNSTREAM</td>\n",
              "      <td>Our wide product range including Citrus Juicer, Hand Blender, Hand Mixer, Stand Blender, Mini Chopper, Egg boiler, Electric knife... etc. Nowsdays, our products are selling to numerous worldwide brands all around the world.</td>\n",
              "      <td>223</td>\n",
              "      <td>[6, 8, 20, 3]</td>\n",
              "      <td>[WIDE, PRODUCT, RANGE, INCLUDE, CITRUS, JUICER, HAND, BLENDER, HAND, MIXER, STAND, BLENDER, MINI, CHOPPER, EGG, BOILER, ELECTRIC, KNIFE, ETC, NOWSDAYS, PRODUCT, SELL, NUMEROUS, WORLDWIDE, BRAND, WORLD]</td>\n",
              "      <td>[0, 0, 0, 0, 0, 0, 0, 0, 0, 0, 0, 0, 0, 0, 0, 0, 0, 0, 0, 0, 0, 0, 0, 0, 0, 0, 0, 0, 0, 0, 0, 0, 0, 0, 0, 0, 0, 0, 0, 0, 0, 0, 0, 0, 0, 0, 0, 0, 0, 0, 0, 0, 0, 0, 0, 0, 0, 0, 0, 0, 0, 0, 0, 0, 0, 0, 0, 0, 0, 0, 0, 0, 0, 0, 0, 0, 0, 0, 0, 0, 0, 0, 0, 0, 0, 0, 0, 0, 0, 0, 0, 0, 0, 0, 0, 0, 0, 0, 0, 0, ...]</td>\n",
              "    </tr>\n",
              "    <tr>\n",
              "      <th>997</th>\n",
              "      <td>TEKNOSERV ENGINEERING SDN. BHD.</td>\n",
              "      <td>MALAYSIA</td>\n",
              "      <td>CNI</td>\n",
              "      <td>utilities</td>\n",
              "      <td>utilities_developer</td>\n",
              "      <td>UPSTREAM</td>\n",
              "      <td>Teknoserv Engineering Sdn Bhd provides water services. The Company installs waste water and water treatment plants. Teknoserv Engineering operates in Shah Alam, Malaysia.</td>\n",
              "      <td>170</td>\n",
              "      <td>[1, 31, 89, 7]</td>\n",
              "      <td>[TEKNOSERV, ENGINEERING, SDN, BHD, PROVIDE, WATER, SERVICE, COMPANY, INSTALL, WASTE, WATER, WATER, TREATMENT, PLANT, TEKNOSERV, ENGINEERING, OPERATE, SHAH, ALAM, MALAYSIA]</td>\n",
              "      <td>[0, 0, 0, 0, 0, 0, 0, 0, 0, 0, 0, 0, 0, 0, 0, 0, 0, 0, 0, 0, 0, 0, 0, 0, 0, 0, 0, 0, 0, 0, 0, 0, 0, 0, 0, 0, 0, 0, 0, 0, 0, 0, 0, 0, 0, 0, 0, 0, 0, 0, 0, 0, 0, 0, 0, 0, 0, 0, 0, 0, 0, 0, 0, 0, 0, 0, 0, 0, 0, 0, 0, 0, 0, 0, 0, 0, 0, 0, 0, 0, 0, 0, 0, 0, 0, 0, 0, 0, 0, 0, 0, 0, 0, 0, 0, 0, 0, 0, 0, 0, ...]</td>\n",
              "    </tr>\n",
              "    <tr>\n",
              "      <th>998</th>\n",
              "      <td>THERMAL SOLUTIONS ASIA PTE LTD</td>\n",
              "      <td>SINGAPORE</td>\n",
              "      <td>CNI</td>\n",
              "      <td>cni_service providers</td>\n",
              "      <td>cni_service providers</td>\n",
              "      <td>MIDSTREAM</td>\n",
              "      <td>Founded in 2000, Thermal Solutions Asia Pte Ltd has become a leading supplier of Combustion Equipment and Related Services.</td>\n",
              "      <td>124</td>\n",
              "      <td>[1, 6, 14, 5]</td>\n",
              "      <td>[FOUND, THERMAL, SOLUTIONS, ASIA, PTE, LTD, LEAD, SUPPLIER, COMBUSTION, EQUIPMENT, RELATED, SERVICES]</td>\n",
              "      <td>[0, 0, 0, 0, 0, 0, 0, 0, 0, 0, 0, 0, 0, 0, 0, 0, 0, 0, 0, 0, 0, 0, 0, 0, 0, 0, 0, 0, 0, 0, 0, 0, 0, 0, 0, 0, 0, 0, 0, 0, 0, 0, 0, 0, 0, 0, 0, 0, 0, 0, 0, 0, 0, 0, 0, 0, 0, 0, 0, 0, 0, 0, 0, 0, 0, 0, 0, 0, 0, 0, 0, 0, 0, 0, 0, 0, 0, 0, 0, 0, 0, 0, 0, 0, 0, 0, 0, 0, 0, 0, 0, 0, 0, 0, 0, 0, 0, 0, 0, 0, ...]</td>\n",
              "    </tr>\n",
              "    <tr>\n",
              "      <th>999</th>\n",
              "      <td>AUDIO ZOOM PTE LTD</td>\n",
              "      <td>SINGAPORE</td>\n",
              "      <td>TMT</td>\n",
              "      <td>it_services</td>\n",
              "      <td>it_services</td>\n",
              "      <td>MIDSTREAM</td>\n",
              "      <td>AUDIO ZOOM is an ACRA-registered entity that has been operating for 3 years 1 month in Singapore since its incorporation y in 2018. Officially, AUDIO ZOOM PTE. LTD. is registered as Exempt Private Limited Company with its address in District 22 (Jurong), primarily operates in the sector of \"RESEARCH AND EXPERIMENTAL DEVELOPMENT ON ELECTRONICS\", SSIC code - 72102</td>\n",
              "      <td>364</td>\n",
              "      <td>[6, 17, 46, 5]</td>\n",
              "      <td>[AUDIO, ZOOM, ACRA-REGISTERED, ENTITY, OPERATE, YEAR, MONTH, SINGAPORE, INCORPORATION, Y, OFFICIALLY, AUDIO, ZOOM, PTE, LTD, REGISTER, EXEMPT, PRIVATE, LIMITED, COMPANY, ADDRESS, DISTRICT, JURONG, PRIMARILY, OPERATE, SECTOR, RESEARCH, EXPERIMENTAL, DEVELOPMENT, ELECTRONICS, SSIC, CODE]</td>\n",
              "      <td>[0, 0, 0, 0, 0, 0, 0, 0, 0, 0, 0, 0, 0, 0, 0, 0, 0, 0, 0, 0, 0, 0, 0, 0, 0, 0, 0, 0, 0, 0, 0, 0, 0, 0, 0, 0, 0, 0, 0, 0, 0, 0, 0, 0, 0, 0, 0, 0, 0, 0, 0, 0, 0, 0, 0, 0, 0, 0, 0, 0, 0, 0, 0, 0, 0, 0, 0, 0, 0, 0, 0, 0, 0, 0, 0, 0, 0, 0, 0, 0, 0, 0, 0, 0, 0, 0, 0, 0, 0, 0, 0, 0, 0, 0, 0, 0, 0, 0, 0, 0, ...]</td>\n",
              "    </tr>\n",
              "  </tbody>\n",
              "</table>\n",
              "<p>950 rows × 11 columns</p>\n",
              "</div>"
            ],
            "text/plain": [
              "                                       Company  ...                                                                                                                                                                                                                                                                                                        BoW_vectors\n",
              "0             AKSORN CHAROEN TAT ACT. CO.,LTD.  ...  [0, 0, 0, 0, 0, 0, 0, 0, 0, 0, 0, 0, 0, 0, 0, 0, 0, 0, 0, 0, 0, 0, 0, 0, 0, 0, 0, 0, 0, 0, 0, 0, 0, 0, 0, 0, 0, 0, 0, 0, 0, 0, 0, 0, 0, 0, 0, 0, 0, 0, 0, 0, 0, 0, 0, 0, 0, 0, 0, 0, 0, 0, 0, 0, 0, 0, 0, 0, 0, 0, 0, 0, 0, 0, 0, 0, 0, 0, 0, 0, 0, 0, 0, 0, 0, 0, 0, 0, 0, 0, 0, 0, 0, 0, 0, 0, 0, 0, 0, 0, ...]\n",
              "1    DONGGUAN SHENGYA CLEANING APPLIAME CO.LTD  ...  [0, 0, 0, 0, 0, 0, 0, 0, 0, 0, 0, 0, 0, 0, 0, 0, 0, 0, 0, 0, 0, 0, 0, 0, 0, 0, 0, 0, 0, 0, 0, 0, 0, 0, 0, 0, 0, 0, 0, 0, 0, 0, 0, 0, 0, 0, 0, 0, 0, 0, 0, 0, 0, 0, 0, 0, 0, 0, 0, 0, 0, 0, 0, 0, 0, 0, 0, 0, 0, 0, 0, 0, 0, 0, 0, 0, 0, 0, 0, 0, 0, 0, 0, 0, 0, 0, 0, 0, 0, 0, 0, 0, 0, 0, 0, 0, 0, 0, 0, 0, ...]\n",
              "2                          EXIS TECH SDN. BHD.  ...  [0, 0, 0, 0, 0, 0, 0, 0, 0, 0, 0, 0, 0, 0, 0, 0, 0, 0, 0, 0, 0, 0, 0, 0, 0, 0, 0, 0, 0, 0, 0, 0, 0, 0, 0, 0, 0, 0, 0, 0, 0, 0, 0, 0, 0, 0, 0, 0, 0, 0, 0, 0, 0, 0, 0, 0, 0, 0, 0, 0, 0, 0, 0, 0, 0, 0, 0, 0, 0, 0, 0, 0, 0, 0, 0, 0, 0, 0, 0, 0, 0, 0, 0, 0, 0, 0, 0, 0, 0, 0, 0, 0, 0, 0, 0, 0, 0, 0, 0, 0, ...]\n",
              "4                   Aztech Electronics Pte Ltd  ...  [0, 0, 0, 0, 0, 0, 0, 0, 0, 0, 0, 0, 0, 0, 0, 0, 0, 0, 0, 0, 0, 0, 0, 0, 0, 0, 0, 0, 0, 0, 0, 0, 0, 0, 0, 0, 0, 0, 0, 0, 0, 0, 0, 0, 0, 0, 0, 0, 0, 0, 0, 0, 0, 0, 0, 0, 0, 0, 0, 0, 0, 0, 0, 0, 0, 0, 0, 0, 0, 0, 0, 0, 0, 0, 0, 0, 0, 0, 0, 0, 0, 0, 0, 0, 0, 0, 0, 0, 0, 0, 0, 0, 0, 0, 0, 0, 0, 0, 0, 0, ...]\n",
              "5                TONGDUN INTERNATIONAL PTE LTD  ...  [0, 0, 0, 0, 0, 0, 0, 0, 0, 0, 0, 0, 0, 0, 0, 0, 0, 0, 0, 0, 0, 0, 0, 0, 0, 0, 0, 0, 0, 0, 0, 0, 0, 0, 0, 0, 0, 0, 0, 0, 0, 0, 0, 0, 0, 0, 0, 0, 0, 0, 0, 0, 0, 0, 0, 0, 0, 0, 0, 0, 0, 0, 0, 0, 0, 0, 0, 0, 0, 0, 0, 0, 0, 0, 0, 0, 0, 0, 0, 0, 0, 0, 0, 0, 0, 0, 0, 0, 0, 0, 0, 0, 0, 0, 0, 0, 0, 0, 0, 0, ...]\n",
              "..                                         ...  ...                                                                                                                                                                                                                                                                                                                ...\n",
              "995                  LUX DISTRIBUTOR SDN. BHD.  ...  [0, 0, 0, 0, 0, 0, 0, 0, 0, 0, 0, 0, 0, 0, 0, 0, 0, 0, 0, 0, 0, 0, 0, 0, 0, 0, 0, 0, 0, 0, 0, 0, 0, 0, 0, 0, 0, 0, 0, 0, 0, 0, 0, 0, 0, 0, 0, 0, 0, 0, 0, 0, 0, 0, 0, 0, 0, 0, 0, 0, 0, 0, 0, 0, 0, 0, 0, 0, 0, 0, 0, 0, 0, 0, 0, 0, 0, 0, 0, 0, 0, 0, 0, 0, 0, 0, 0, 0, 0, 0, 0, 0, 0, 0, 0, 0, 0, 0, 0, 0, ...]\n",
              "996                     KJI INDUSTRIAL LIMITED  ...  [0, 0, 0, 0, 0, 0, 0, 0, 0, 0, 0, 0, 0, 0, 0, 0, 0, 0, 0, 0, 0, 0, 0, 0, 0, 0, 0, 0, 0, 0, 0, 0, 0, 0, 0, 0, 0, 0, 0, 0, 0, 0, 0, 0, 0, 0, 0, 0, 0, 0, 0, 0, 0, 0, 0, 0, 0, 0, 0, 0, 0, 0, 0, 0, 0, 0, 0, 0, 0, 0, 0, 0, 0, 0, 0, 0, 0, 0, 0, 0, 0, 0, 0, 0, 0, 0, 0, 0, 0, 0, 0, 0, 0, 0, 0, 0, 0, 0, 0, 0, ...]\n",
              "997            TEKNOSERV ENGINEERING SDN. BHD.  ...  [0, 0, 0, 0, 0, 0, 0, 0, 0, 0, 0, 0, 0, 0, 0, 0, 0, 0, 0, 0, 0, 0, 0, 0, 0, 0, 0, 0, 0, 0, 0, 0, 0, 0, 0, 0, 0, 0, 0, 0, 0, 0, 0, 0, 0, 0, 0, 0, 0, 0, 0, 0, 0, 0, 0, 0, 0, 0, 0, 0, 0, 0, 0, 0, 0, 0, 0, 0, 0, 0, 0, 0, 0, 0, 0, 0, 0, 0, 0, 0, 0, 0, 0, 0, 0, 0, 0, 0, 0, 0, 0, 0, 0, 0, 0, 0, 0, 0, 0, 0, ...]\n",
              "998             THERMAL SOLUTIONS ASIA PTE LTD  ...  [0, 0, 0, 0, 0, 0, 0, 0, 0, 0, 0, 0, 0, 0, 0, 0, 0, 0, 0, 0, 0, 0, 0, 0, 0, 0, 0, 0, 0, 0, 0, 0, 0, 0, 0, 0, 0, 0, 0, 0, 0, 0, 0, 0, 0, 0, 0, 0, 0, 0, 0, 0, 0, 0, 0, 0, 0, 0, 0, 0, 0, 0, 0, 0, 0, 0, 0, 0, 0, 0, 0, 0, 0, 0, 0, 0, 0, 0, 0, 0, 0, 0, 0, 0, 0, 0, 0, 0, 0, 0, 0, 0, 0, 0, 0, 0, 0, 0, 0, 0, ...]\n",
              "999                         AUDIO ZOOM PTE LTD  ...  [0, 0, 0, 0, 0, 0, 0, 0, 0, 0, 0, 0, 0, 0, 0, 0, 0, 0, 0, 0, 0, 0, 0, 0, 0, 0, 0, 0, 0, 0, 0, 0, 0, 0, 0, 0, 0, 0, 0, 0, 0, 0, 0, 0, 0, 0, 0, 0, 0, 0, 0, 0, 0, 0, 0, 0, 0, 0, 0, 0, 0, 0, 0, 0, 0, 0, 0, 0, 0, 0, 0, 0, 0, 0, 0, 0, 0, 0, 0, 0, 0, 0, 0, 0, 0, 0, 0, 0, 0, 0, 0, 0, 0, 0, 0, 0, 0, 0, 0, 0, ...]\n",
              "\n",
              "[950 rows x 11 columns]"
            ]
          },
          "metadata": {
            "tags": []
          },
          "execution_count": 30
        }
      ]
    },
    {
      "cell_type": "code",
      "metadata": {
        "id": "GynU6j-bLgdn",
        "colab": {
          "base_uri": "https://localhost:8080/"
        },
        "outputId": "51b4858e-36d5-48e0-d27a-f8801f0e72ec"
      },
      "source": [
        "# clean up BoW data \n",
        "temp = 0\n",
        "for index, row in df_valid.iterrows():\n",
        "    if sum(row['BoW_vectors']) < 1:\n",
        "        df_valid.drop(index, inplace=True)\n",
        "\n",
        "df_valid.shape"
      ],
      "execution_count": null,
      "outputs": [
        {
          "output_type": "execute_result",
          "data": {
            "text/plain": [
              "(752, 11)"
            ]
          },
          "metadata": {
            "tags": []
          },
          "execution_count": 31
        }
      ]
    },
    {
      "cell_type": "markdown",
      "metadata": {
        "id": "uXPxFhqqgX9f"
      },
      "source": [
        "# 5.Models\n",
        "---\n",
        "Here we will train the model that will help categorize each company."
      ]
    },
    {
      "cell_type": "markdown",
      "metadata": {
        "id": "QhjAJFR4NOq9"
      },
      "source": [
        "### 5.1. Training Models"
      ]
    },
    {
      "cell_type": "code",
      "metadata": {
        "colab": {
          "base_uri": "https://localhost:8080/"
        },
        "id": "hi2lRa6pgWtj",
        "outputId": "97d01123-a998-45bd-a434-75543dadb51a"
      },
      "source": [
        "import keras\n",
        "\n",
        "print('--- Version Checking ---')\n",
        "print(\"Keras:\", keras.__version__)"
      ],
      "execution_count": null,
      "outputs": [
        {
          "output_type": "stream",
          "text": [
            "--- Version Checking ---\n",
            "Keras: 2.4.3\n"
          ],
          "name": "stdout"
        }
      ]
    },
    {
      "cell_type": "code",
      "metadata": {
        "id": "il4Tp6FBlYSR"
      },
      "source": [
        "# split datasets to train and test\n",
        "distribution = int(df_valid.shape[0] * 0.9)\n",
        "\n",
        "df_train = df_valid.iloc[:distribution]\n",
        "df_test = df_valid.iloc[distribution:]\n",
        "\n",
        "df_train.fillna(0, inplace=True)\n",
        "df_test.fillna(0, inplace=True)\n",
        "\n",
        "X_train = np.array(list(df_train['BoW_vectors']))\n",
        "y_train = np.array(list(df_train['list_tag']))\n",
        "\n",
        "X_test = np.array(list(df_test['BoW_vectors']))\n",
        "y_test = np.array(list(df_test['list_tag']))"
      ],
      "execution_count": null,
      "outputs": []
    },
    {
      "cell_type": "code",
      "metadata": {
        "id": "SDAuui9N9jrw"
      },
      "source": [
        "# create multi-output model\n",
        "from keras.layers import Dense, Input, Dropout\n",
        "from keras import Model\n",
        "\n",
        "# function to build model branches\n",
        "def multi_branch(x, name, input_dim, output_dim, dropout_rate):\n",
        "    x = Dense(input_dim // 2, activation='relu')(x)\n",
        "    x = Dropout(dropout_rate)(x)\n",
        "\n",
        "    x = Dense(input_dim // 4, activation='relu')(x)\n",
        "    x = Dropout(dropout_rate)(x)\n",
        "    \n",
        "    x = Dense(input_dim // 8, activation='relu')(x)\n",
        "    x = Dropout(dropout_rate)(x)\n",
        "\n",
        "    # output\n",
        "    output = Dense(output_dim, name=name, activation='softmax')(x)\n",
        "\n",
        "    return output\n",
        "\n",
        "def create_multilabel(labels, labels_output_dim, input_dim, dropout_rate=0.2):\n",
        "    # check labels\n",
        "    assert len(labels) == len(labels_output_dim)\n",
        "\n",
        "    input_layer = Input(input_dim)\n",
        "\n",
        "    # group 1 dense layers\n",
        "    group_1 = Dense(input_dim, activation='relu')(input_layer)\n",
        "    group_1 = Dense(input_dim // 1.5, activation='relu')(group_1)\n",
        "\n",
        "    # multilabel branches\n",
        "    branches = []\n",
        "    for i in range(len(labels)):\n",
        "        branches.append(multi_branch(group_1, labels[i], input_dim, labels_output_dim[i], dropout_rate))\n",
        "\n",
        "    # put model together\n",
        "    model = Model(inputs=input_layer, outputs=branches, name='company_classification_model')\n",
        "\n",
        "    return model\n",
        "\n",
        "# one hot \n",
        "def one_hot(arr, n_cat):\n",
        "    output = []\n",
        "    for n in arr:\n",
        "        result = np.zeros(n_cat)\n",
        "        result[n] = 1\n",
        "\n",
        "        output.append(result)\n",
        "\n",
        "    return np.array(output, dtype=int)"
      ],
      "execution_count": null,
      "outputs": []
    },
    {
      "cell_type": "code",
      "metadata": {
        "colab": {
          "base_uri": "https://localhost:8080/",
          "height": 1000
        },
        "id": "roBjnBsxEMJU",
        "outputId": "842d80c5-f983-48e5-8d81-557ab92e9b7c"
      },
      "source": [
        "label_names = ['sector', 'subsector', 'archetype', 'valuechain']\n",
        "\n",
        "model = create_multilabel(label_names, tag_counts, len(keywords_masterlist))\n",
        "\n",
        "keras.utils.plot_model(model, show_shapes=True)"
      ],
      "execution_count": null,
      "outputs": [
        {
          "output_type": "execute_result",
          "data": {
            "image/png": "[encoded data removed]",
            "text/plain": [
              "<IPython.core.display.Image object>"
            ]
          },
          "metadata": {
            "tags": []
          },
          "execution_count": 71
        }
      ]
    },
    {
      "cell_type": "code",
      "metadata": {
        "id": "FPmHQGQ8GlI2"
      },
      "source": [
        "# preprocess labels before training\n",
        "y_train_multi = {label_names[0] : one_hot(y_train[:,0], tag_counts[0]),\n",
        "                 label_names[1] : one_hot(y_train[:,1], tag_counts[1]),\n",
        "                 label_names[2] : one_hot(y_train[:,2], tag_counts[2]),\n",
        "                 label_names[3] : one_hot(y_train[:,3], tag_counts[3]),\n",
        "                 }\n",
        "y_test_multi = {label_names[0] : one_hot(y_test[:,0], tag_counts[0]),\n",
        "                label_names[1] : one_hot(y_test[:,1], tag_counts[1]),\n",
        "                label_names[2] : one_hot(y_test[:,2], tag_counts[2]),\n",
        "                label_names[3] : one_hot(y_test[:,3], tag_counts[3]),\n",
        "                }\n",
        "\n",
        "losses = {i : 'categorical_crossentropy' for i in label_names}"
      ],
      "execution_count": null,
      "outputs": []
    },
    {
      "cell_type": "code",
      "metadata": {
        "colab": {
          "base_uri": "https://localhost:8080/"
        },
        "id": "qw_tZtVTQ_fD",
        "outputId": "6df6670d-970c-4866-868f-15226337ab5f"
      },
      "source": [
        "model.compile(optimizer='adam', loss=losses, metrics=['accuracy'])\n",
        "history = model.fit(X_train, y_train_multi, epochs=200, batch_size=20)"
      ],
      "execution_count": null,
      "outputs": [
        {
          "output_type": "stream",
          "text": [
            "Epoch 1/200\n",
            "34/34 [==============================] - 2s 9ms/step - loss: 10.2781 - sector_loss: 1.5433 - subsector_loss: 3.0666 - archetype_loss: 4.0481 - valuechain_loss: 1.6201 - sector_accuracy: 0.4452 - subsector_accuracy: 0.1960 - archetype_accuracy: 0.1107 - valuechain_accuracy: 0.4780\n",
            "Epoch 2/200\n",
            "34/34 [==============================] - 0s 8ms/step - loss: 7.3635 - sector_loss: 0.9791 - subsector_loss: 2.2103 - archetype_loss: 3.0330 - valuechain_loss: 1.1411 - sector_accuracy: 0.6856 - subsector_accuracy: 0.3805 - archetype_accuracy: 0.2937 - valuechain_accuracy: 0.5531\n",
            "Epoch 3/200\n",
            "34/34 [==============================] - 0s 7ms/step - loss: 5.5660 - sector_loss: 0.6660 - subsector_loss: 1.6563 - archetype_loss: 2.2862 - valuechain_loss: 0.9575 - sector_accuracy: 0.7935 - subsector_accuracy: 0.5331 - archetype_accuracy: 0.4113 - valuechain_accuracy: 0.6335\n",
            "Epoch 4/200\n",
            "34/34 [==============================] - 0s 8ms/step - loss: 4.5494 - sector_loss: 0.5679 - subsector_loss: 1.3328 - archetype_loss: 1.8966 - valuechain_loss: 0.7521 - sector_accuracy: 0.8325 - subsector_accuracy: 0.6167 - archetype_accuracy: 0.5218 - valuechain_accuracy: 0.7589\n",
            "Epoch 5/200\n",
            "34/34 [==============================] - 0s 8ms/step - loss: 4.2427 - sector_loss: 0.5237 - subsector_loss: 1.2847 - archetype_loss: 1.7672 - valuechain_loss: 0.6670 - sector_accuracy: 0.8437 - subsector_accuracy: 0.6242 - archetype_accuracy: 0.5391 - valuechain_accuracy: 0.7859\n",
            "Epoch 6/200\n",
            "34/34 [==============================] - 0s 9ms/step - loss: 3.8782 - sector_loss: 0.4674 - subsector_loss: 1.1070 - archetype_loss: 1.6660 - valuechain_loss: 0.6378 - sector_accuracy: 0.8519 - subsector_accuracy: 0.6633 - archetype_accuracy: 0.5634 - valuechain_accuracy: 0.8026\n",
            "Epoch 7/200\n",
            "34/34 [==============================] - 0s 8ms/step - loss: 3.1118 - sector_loss: 0.3643 - subsector_loss: 0.9753 - archetype_loss: 1.3292 - valuechain_loss: 0.4431 - sector_accuracy: 0.8941 - subsector_accuracy: 0.7024 - archetype_accuracy: 0.6508 - valuechain_accuracy: 0.8609\n",
            "Epoch 8/200\n",
            "34/34 [==============================] - 0s 7ms/step - loss: 2.8775 - sector_loss: 0.3279 - subsector_loss: 0.8480 - archetype_loss: 1.2162 - valuechain_loss: 0.4853 - sector_accuracy: 0.8932 - subsector_accuracy: 0.7515 - archetype_accuracy: 0.6858 - valuechain_accuracy: 0.8315\n",
            "Epoch 9/200\n",
            "34/34 [==============================] - 0s 7ms/step - loss: 2.6242 - sector_loss: 0.2881 - subsector_loss: 0.7703 - archetype_loss: 1.1829 - valuechain_loss: 0.3829 - sector_accuracy: 0.9203 - subsector_accuracy: 0.7773 - archetype_accuracy: 0.6455 - valuechain_accuracy: 0.8653\n",
            "Epoch 10/200\n",
            "34/34 [==============================] - 0s 7ms/step - loss: 2.5401 - sector_loss: 0.3084 - subsector_loss: 0.7127 - archetype_loss: 1.0626 - valuechain_loss: 0.4564 - sector_accuracy: 0.9019 - subsector_accuracy: 0.7840 - archetype_accuracy: 0.7159 - valuechain_accuracy: 0.8503\n",
            "Epoch 11/200\n",
            "34/34 [==============================] - 0s 7ms/step - loss: 2.1163 - sector_loss: 0.2603 - subsector_loss: 0.6082 - archetype_loss: 0.8821 - valuechain_loss: 0.3657 - sector_accuracy: 0.9218 - subsector_accuracy: 0.8462 - archetype_accuracy: 0.7455 - valuechain_accuracy: 0.8789\n",
            "Epoch 12/200\n",
            "34/34 [==============================] - 0s 8ms/step - loss: 2.1408 - sector_loss: 0.2896 - subsector_loss: 0.6245 - archetype_loss: 0.8830 - valuechain_loss: 0.3437 - sector_accuracy: 0.9071 - subsector_accuracy: 0.8020 - archetype_accuracy: 0.7538 - valuechain_accuracy: 0.8710\n",
            "Epoch 13/200\n",
            "34/34 [==============================] - 0s 8ms/step - loss: 2.1793 - sector_loss: 0.3424 - subsector_loss: 0.6132 - archetype_loss: 0.8486 - valuechain_loss: 0.3751 - sector_accuracy: 0.8829 - subsector_accuracy: 0.8053 - archetype_accuracy: 0.7540 - valuechain_accuracy: 0.8555\n",
            "Epoch 14/200\n",
            "34/34 [==============================] - 0s 7ms/step - loss: 1.6655 - sector_loss: 0.1875 - subsector_loss: 0.4916 - archetype_loss: 0.7115 - valuechain_loss: 0.2748 - sector_accuracy: 0.9361 - subsector_accuracy: 0.8478 - archetype_accuracy: 0.7905 - valuechain_accuracy: 0.8998\n",
            "Epoch 15/200\n",
            "34/34 [==============================] - 0s 8ms/step - loss: 1.8317 - sector_loss: 0.2306 - subsector_loss: 0.5546 - archetype_loss: 0.7590 - valuechain_loss: 0.2875 - sector_accuracy: 0.9277 - subsector_accuracy: 0.8438 - archetype_accuracy: 0.7866 - valuechain_accuracy: 0.8983\n",
            "Epoch 16/200\n",
            "34/34 [==============================] - 0s 7ms/step - loss: 1.5919 - sector_loss: 0.2184 - subsector_loss: 0.4644 - archetype_loss: 0.6529 - valuechain_loss: 0.2561 - sector_accuracy: 0.9271 - subsector_accuracy: 0.8559 - archetype_accuracy: 0.8191 - valuechain_accuracy: 0.9195\n",
            "Epoch 17/200\n",
            "34/34 [==============================] - 0s 8ms/step - loss: 1.6087 - sector_loss: 0.1862 - subsector_loss: 0.4869 - archetype_loss: 0.6567 - valuechain_loss: 0.2790 - sector_accuracy: 0.9305 - subsector_accuracy: 0.8362 - archetype_accuracy: 0.7905 - valuechain_accuracy: 0.8918\n",
            "Epoch 18/200\n",
            "34/34 [==============================] - 0s 8ms/step - loss: 1.5864 - sector_loss: 0.1841 - subsector_loss: 0.4682 - archetype_loss: 0.6597 - valuechain_loss: 0.2743 - sector_accuracy: 0.9339 - subsector_accuracy: 0.8495 - archetype_accuracy: 0.8017 - valuechain_accuracy: 0.9158\n",
            "Epoch 19/200\n",
            "34/34 [==============================] - 0s 8ms/step - loss: 1.4987 - sector_loss: 0.2149 - subsector_loss: 0.4472 - archetype_loss: 0.5963 - valuechain_loss: 0.2402 - sector_accuracy: 0.9404 - subsector_accuracy: 0.8505 - archetype_accuracy: 0.8140 - valuechain_accuracy: 0.9051\n",
            "Epoch 20/200\n",
            "34/34 [==============================] - 0s 7ms/step - loss: 1.4085 - sector_loss: 0.1763 - subsector_loss: 0.4421 - archetype_loss: 0.5630 - valuechain_loss: 0.2271 - sector_accuracy: 0.9470 - subsector_accuracy: 0.8749 - archetype_accuracy: 0.8463 - valuechain_accuracy: 0.9251\n",
            "Epoch 21/200\n",
            "34/34 [==============================] - 0s 7ms/step - loss: 1.3158 - sector_loss: 0.1662 - subsector_loss: 0.3906 - archetype_loss: 0.5129 - valuechain_loss: 0.2461 - sector_accuracy: 0.9423 - subsector_accuracy: 0.8805 - archetype_accuracy: 0.8379 - valuechain_accuracy: 0.9127\n",
            "Epoch 22/200\n",
            "34/34 [==============================] - 0s 8ms/step - loss: 1.5140 - sector_loss: 0.2231 - subsector_loss: 0.4644 - archetype_loss: 0.5631 - valuechain_loss: 0.2634 - sector_accuracy: 0.9223 - subsector_accuracy: 0.8401 - archetype_accuracy: 0.8059 - valuechain_accuracy: 0.8983\n",
            "Epoch 23/200\n",
            "34/34 [==============================] - 0s 7ms/step - loss: 1.3508 - sector_loss: 0.1954 - subsector_loss: 0.4194 - archetype_loss: 0.4847 - valuechain_loss: 0.2513 - sector_accuracy: 0.9316 - subsector_accuracy: 0.8587 - archetype_accuracy: 0.8405 - valuechain_accuracy: 0.8967\n",
            "Epoch 24/200\n",
            "34/34 [==============================] - 0s 7ms/step - loss: 1.4256 - sector_loss: 0.2137 - subsector_loss: 0.4287 - archetype_loss: 0.5430 - valuechain_loss: 0.2402 - sector_accuracy: 0.9159 - subsector_accuracy: 0.8545 - archetype_accuracy: 0.8267 - valuechain_accuracy: 0.8939\n",
            "Epoch 25/200\n",
            "34/34 [==============================] - 0s 7ms/step - loss: 1.2687 - sector_loss: 0.1653 - subsector_loss: 0.3812 - archetype_loss: 0.5082 - valuechain_loss: 0.2139 - sector_accuracy: 0.9446 - subsector_accuracy: 0.8655 - archetype_accuracy: 0.8450 - valuechain_accuracy: 0.9212\n",
            "Epoch 26/200\n",
            "34/34 [==============================] - 0s 8ms/step - loss: 1.2575 - sector_loss: 0.1772 - subsector_loss: 0.3748 - archetype_loss: 0.4729 - valuechain_loss: 0.2326 - sector_accuracy: 0.9485 - subsector_accuracy: 0.8674 - archetype_accuracy: 0.8486 - valuechain_accuracy: 0.9057\n",
            "Epoch 27/200\n",
            "34/34 [==============================] - 0s 7ms/step - loss: 1.2090 - sector_loss: 0.1666 - subsector_loss: 0.3338 - archetype_loss: 0.4606 - valuechain_loss: 0.2480 - sector_accuracy: 0.9393 - subsector_accuracy: 0.8864 - archetype_accuracy: 0.8442 - valuechain_accuracy: 0.9000\n",
            "Epoch 28/200\n",
            "34/34 [==============================] - 0s 7ms/step - loss: 1.2151 - sector_loss: 0.1789 - subsector_loss: 0.3688 - archetype_loss: 0.4648 - valuechain_loss: 0.2026 - sector_accuracy: 0.9298 - subsector_accuracy: 0.8654 - archetype_accuracy: 0.8491 - valuechain_accuracy: 0.9119\n",
            "Epoch 29/200\n",
            "34/34 [==============================] - 0s 8ms/step - loss: 1.2139 - sector_loss: 0.1820 - subsector_loss: 0.3756 - archetype_loss: 0.4522 - valuechain_loss: 0.2040 - sector_accuracy: 0.9305 - subsector_accuracy: 0.8715 - archetype_accuracy: 0.8574 - valuechain_accuracy: 0.9146\n",
            "Epoch 30/200\n",
            "34/34 [==============================] - 0s 8ms/step - loss: 1.1489 - sector_loss: 0.1751 - subsector_loss: 0.3538 - archetype_loss: 0.4040 - valuechain_loss: 0.2161 - sector_accuracy: 0.9297 - subsector_accuracy: 0.8834 - archetype_accuracy: 0.8721 - valuechain_accuracy: 0.9004\n",
            "Epoch 31/200\n",
            "34/34 [==============================] - 0s 8ms/step - loss: 1.2996 - sector_loss: 0.1774 - subsector_loss: 0.3920 - archetype_loss: 0.4781 - valuechain_loss: 0.2521 - sector_accuracy: 0.9344 - subsector_accuracy: 0.8678 - archetype_accuracy: 0.8362 - valuechain_accuracy: 0.8789\n",
            "Epoch 32/200\n",
            "34/34 [==============================] - 0s 7ms/step - loss: 1.2673 - sector_loss: 0.1946 - subsector_loss: 0.3728 - archetype_loss: 0.4745 - valuechain_loss: 0.2254 - sector_accuracy: 0.9232 - subsector_accuracy: 0.8706 - archetype_accuracy: 0.8361 - valuechain_accuracy: 0.9014\n",
            "Epoch 33/200\n",
            "34/34 [==============================] - 0s 8ms/step - loss: 1.0599 - sector_loss: 0.1597 - subsector_loss: 0.2957 - archetype_loss: 0.4184 - valuechain_loss: 0.1861 - sector_accuracy: 0.9443 - subsector_accuracy: 0.8997 - archetype_accuracy: 0.8556 - valuechain_accuracy: 0.9335\n",
            "Epoch 34/200\n",
            "34/34 [==============================] - 0s 8ms/step - loss: 1.2340 - sector_loss: 0.1865 - subsector_loss: 0.3910 - archetype_loss: 0.4350 - valuechain_loss: 0.2216 - sector_accuracy: 0.9244 - subsector_accuracy: 0.8510 - archetype_accuracy: 0.8463 - valuechain_accuracy: 0.9071\n",
            "Epoch 35/200\n",
            "34/34 [==============================] - 0s 8ms/step - loss: 1.0696 - sector_loss: 0.1595 - subsector_loss: 0.3175 - archetype_loss: 0.4035 - valuechain_loss: 0.1890 - sector_accuracy: 0.9354 - subsector_accuracy: 0.8857 - archetype_accuracy: 0.8608 - valuechain_accuracy: 0.9168\n",
            "Epoch 36/200\n",
            "34/34 [==============================] - 0s 7ms/step - loss: 1.2218 - sector_loss: 0.1748 - subsector_loss: 0.3723 - archetype_loss: 0.4702 - valuechain_loss: 0.2045 - sector_accuracy: 0.9394 - subsector_accuracy: 0.8609 - archetype_accuracy: 0.8423 - valuechain_accuracy: 0.9160\n",
            "Epoch 37/200\n",
            "34/34 [==============================] - 0s 7ms/step - loss: 1.3035 - sector_loss: 0.1866 - subsector_loss: 0.4029 - archetype_loss: 0.4701 - valuechain_loss: 0.2439 - sector_accuracy: 0.9338 - subsector_accuracy: 0.8439 - archetype_accuracy: 0.8251 - valuechain_accuracy: 0.8941\n",
            "Epoch 38/200\n",
            "34/34 [==============================] - 0s 8ms/step - loss: 1.2493 - sector_loss: 0.1850 - subsector_loss: 0.3829 - archetype_loss: 0.4623 - valuechain_loss: 0.2191 - sector_accuracy: 0.9325 - subsector_accuracy: 0.8696 - archetype_accuracy: 0.8465 - valuechain_accuracy: 0.9229\n",
            "Epoch 39/200\n",
            "34/34 [==============================] - 0s 8ms/step - loss: 1.1228 - sector_loss: 0.1693 - subsector_loss: 0.3453 - archetype_loss: 0.4034 - valuechain_loss: 0.2048 - sector_accuracy: 0.9293 - subsector_accuracy: 0.8675 - archetype_accuracy: 0.8569 - valuechain_accuracy: 0.9141\n",
            "Epoch 40/200\n",
            "34/34 [==============================] - 0s 7ms/step - loss: 1.2543 - sector_loss: 0.2956 - subsector_loss: 0.3602 - archetype_loss: 0.4080 - valuechain_loss: 0.1905 - sector_accuracy: 0.9089 - subsector_accuracy: 0.8771 - archetype_accuracy: 0.8472 - valuechain_accuracy: 0.9177\n",
            "Epoch 41/200\n",
            "34/34 [==============================] - 0s 8ms/step - loss: 1.1853 - sector_loss: 0.2080 - subsector_loss: 0.3537 - archetype_loss: 0.4236 - valuechain_loss: 0.2000 - sector_accuracy: 0.9286 - subsector_accuracy: 0.8760 - archetype_accuracy: 0.8701 - valuechain_accuracy: 0.9248\n",
            "Epoch 42/200\n",
            "34/34 [==============================] - 0s 8ms/step - loss: 1.1369 - sector_loss: 0.1662 - subsector_loss: 0.3292 - archetype_loss: 0.4151 - valuechain_loss: 0.2264 - sector_accuracy: 0.9380 - subsector_accuracy: 0.8630 - archetype_accuracy: 0.8403 - valuechain_accuracy: 0.9020\n",
            "Epoch 43/200\n",
            "34/34 [==============================] - 0s 8ms/step - loss: 1.1612 - sector_loss: 0.2194 - subsector_loss: 0.3342 - archetype_loss: 0.3836 - valuechain_loss: 0.2241 - sector_accuracy: 0.9134 - subsector_accuracy: 0.8789 - archetype_accuracy: 0.8570 - valuechain_accuracy: 0.9062\n",
            "Epoch 44/200\n",
            "34/34 [==============================] - 0s 8ms/step - loss: 1.1431 - sector_loss: 0.1609 - subsector_loss: 0.3413 - archetype_loss: 0.4272 - valuechain_loss: 0.2138 - sector_accuracy: 0.9418 - subsector_accuracy: 0.8789 - archetype_accuracy: 0.8571 - valuechain_accuracy: 0.9127\n",
            "Epoch 45/200\n",
            "34/34 [==============================] - 0s 8ms/step - loss: 1.0096 - sector_loss: 0.1358 - subsector_loss: 0.2989 - archetype_loss: 0.3798 - valuechain_loss: 0.1951 - sector_accuracy: 0.9441 - subsector_accuracy: 0.8887 - archetype_accuracy: 0.8610 - valuechain_accuracy: 0.9174\n",
            "Epoch 46/200\n",
            "34/34 [==============================] - 0s 7ms/step - loss: 1.1938 - sector_loss: 0.1704 - subsector_loss: 0.3540 - archetype_loss: 0.4532 - valuechain_loss: 0.2162 - sector_accuracy: 0.9163 - subsector_accuracy: 0.8586 - archetype_accuracy: 0.8350 - valuechain_accuracy: 0.9080\n",
            "Epoch 47/200\n",
            "34/34 [==============================] - 0s 7ms/step - loss: 1.0764 - sector_loss: 0.1533 - subsector_loss: 0.3220 - archetype_loss: 0.4043 - valuechain_loss: 0.1969 - sector_accuracy: 0.9221 - subsector_accuracy: 0.8675 - archetype_accuracy: 0.8505 - valuechain_accuracy: 0.9033\n",
            "Epoch 48/200\n",
            "34/34 [==============================] - 0s 7ms/step - loss: 1.2622 - sector_loss: 0.1957 - subsector_loss: 0.3593 - archetype_loss: 0.4415 - valuechain_loss: 0.2656 - sector_accuracy: 0.9321 - subsector_accuracy: 0.8733 - archetype_accuracy: 0.8383 - valuechain_accuracy: 0.9137\n",
            "Epoch 49/200\n",
            "34/34 [==============================] - 0s 8ms/step - loss: 1.1779 - sector_loss: 0.1817 - subsector_loss: 0.3291 - archetype_loss: 0.4284 - valuechain_loss: 0.2388 - sector_accuracy: 0.9361 - subsector_accuracy: 0.8740 - archetype_accuracy: 0.8386 - valuechain_accuracy: 0.8928\n",
            "Epoch 50/200\n",
            "34/34 [==============================] - 0s 8ms/step - loss: 1.0776 - sector_loss: 0.1953 - subsector_loss: 0.3227 - archetype_loss: 0.3601 - valuechain_loss: 0.1995 - sector_accuracy: 0.9253 - subsector_accuracy: 0.8637 - archetype_accuracy: 0.8643 - valuechain_accuracy: 0.9208\n",
            "Epoch 51/200\n",
            "34/34 [==============================] - 0s 8ms/step - loss: 1.0915 - sector_loss: 0.1688 - subsector_loss: 0.3147 - archetype_loss: 0.3869 - valuechain_loss: 0.2209 - sector_accuracy: 0.9511 - subsector_accuracy: 0.8744 - archetype_accuracy: 0.8353 - valuechain_accuracy: 0.9044\n",
            "Epoch 52/200\n",
            "34/34 [==============================] - 0s 9ms/step - loss: 1.2878 - sector_loss: 0.1931 - subsector_loss: 0.3497 - archetype_loss: 0.4649 - valuechain_loss: 0.2801 - sector_accuracy: 0.9185 - subsector_accuracy: 0.8653 - archetype_accuracy: 0.8347 - valuechain_accuracy: 0.8830\n",
            "Epoch 53/200\n",
            "34/34 [==============================] - 0s 8ms/step - loss: 1.0658 - sector_loss: 0.1572 - subsector_loss: 0.3486 - archetype_loss: 0.3438 - valuechain_loss: 0.2163 - sector_accuracy: 0.9447 - subsector_accuracy: 0.8907 - archetype_accuracy: 0.8912 - valuechain_accuracy: 0.9176\n",
            "Epoch 54/200\n",
            "34/34 [==============================] - 0s 7ms/step - loss: 1.3422 - sector_loss: 0.2026 - subsector_loss: 0.3660 - archetype_loss: 0.4694 - valuechain_loss: 0.3042 - sector_accuracy: 0.9147 - subsector_accuracy: 0.8598 - archetype_accuracy: 0.8245 - valuechain_accuracy: 0.8867\n",
            "Epoch 55/200\n",
            "34/34 [==============================] - 0s 8ms/step - loss: 1.5036 - sector_loss: 0.2102 - subsector_loss: 0.4638 - archetype_loss: 0.5601 - valuechain_loss: 0.2696 - sector_accuracy: 0.9255 - subsector_accuracy: 0.8534 - archetype_accuracy: 0.8168 - valuechain_accuracy: 0.8977\n",
            "Epoch 56/200\n",
            "34/34 [==============================] - 0s 8ms/step - loss: 1.3327 - sector_loss: 0.2867 - subsector_loss: 0.4252 - archetype_loss: 0.4128 - valuechain_loss: 0.2081 - sector_accuracy: 0.9131 - subsector_accuracy: 0.8575 - archetype_accuracy: 0.8446 - valuechain_accuracy: 0.9121\n",
            "Epoch 57/200\n",
            "34/34 [==============================] - 0s 8ms/step - loss: 1.4932 - sector_loss: 0.1655 - subsector_loss: 0.4321 - archetype_loss: 0.5902 - valuechain_loss: 0.3054 - sector_accuracy: 0.9462 - subsector_accuracy: 0.8836 - archetype_accuracy: 0.8339 - valuechain_accuracy: 0.9084\n",
            "Epoch 58/200\n",
            "34/34 [==============================] - 0s 7ms/step - loss: 1.2202 - sector_loss: 0.1902 - subsector_loss: 0.3519 - archetype_loss: 0.4454 - valuechain_loss: 0.2327 - sector_accuracy: 0.9293 - subsector_accuracy: 0.8546 - archetype_accuracy: 0.8525 - valuechain_accuracy: 0.9208\n",
            "Epoch 59/200\n",
            "34/34 [==============================] - 0s 7ms/step - loss: 1.2365 - sector_loss: 0.1758 - subsector_loss: 0.3574 - archetype_loss: 0.4920 - valuechain_loss: 0.2114 - sector_accuracy: 0.9380 - subsector_accuracy: 0.8635 - archetype_accuracy: 0.8399 - valuechain_accuracy: 0.9000\n",
            "Epoch 60/200\n",
            "34/34 [==============================] - 0s 8ms/step - loss: 1.0784 - sector_loss: 0.1527 - subsector_loss: 0.3166 - archetype_loss: 0.3900 - valuechain_loss: 0.2191 - sector_accuracy: 0.9497 - subsector_accuracy: 0.8738 - archetype_accuracy: 0.8511 - valuechain_accuracy: 0.8895\n",
            "Epoch 61/200\n",
            "34/34 [==============================] - 0s 8ms/step - loss: 1.0559 - sector_loss: 0.1800 - subsector_loss: 0.3293 - archetype_loss: 0.3577 - valuechain_loss: 0.1890 - sector_accuracy: 0.9300 - subsector_accuracy: 0.8733 - archetype_accuracy: 0.8528 - valuechain_accuracy: 0.9249\n",
            "Epoch 62/200\n",
            "34/34 [==============================] - 0s 7ms/step - loss: 1.1224 - sector_loss: 0.1752 - subsector_loss: 0.3403 - archetype_loss: 0.4091 - valuechain_loss: 0.1979 - sector_accuracy: 0.9346 - subsector_accuracy: 0.8670 - archetype_accuracy: 0.8301 - valuechain_accuracy: 0.9054\n",
            "Epoch 63/200\n",
            "34/34 [==============================] - 0s 7ms/step - loss: 1.1037 - sector_loss: 0.1775 - subsector_loss: 0.3219 - archetype_loss: 0.3940 - valuechain_loss: 0.2102 - sector_accuracy: 0.9285 - subsector_accuracy: 0.8509 - archetype_accuracy: 0.8350 - valuechain_accuracy: 0.8922\n",
            "Epoch 64/200\n",
            "34/34 [==============================] - 0s 8ms/step - loss: 0.9326 - sector_loss: 0.1557 - subsector_loss: 0.2845 - archetype_loss: 0.3156 - valuechain_loss: 0.1767 - sector_accuracy: 0.9301 - subsector_accuracy: 0.8868 - archetype_accuracy: 0.8787 - valuechain_accuracy: 0.9136\n",
            "Epoch 65/200\n",
            "34/34 [==============================] - 0s 8ms/step - loss: 1.2018 - sector_loss: 0.1506 - subsector_loss: 0.3783 - archetype_loss: 0.4675 - valuechain_loss: 0.2055 - sector_accuracy: 0.9351 - subsector_accuracy: 0.8528 - archetype_accuracy: 0.8391 - valuechain_accuracy: 0.8958\n",
            "Epoch 66/200\n",
            "34/34 [==============================] - 0s 7ms/step - loss: 0.9834 - sector_loss: 0.1365 - subsector_loss: 0.3206 - archetype_loss: 0.3261 - valuechain_loss: 0.2001 - sector_accuracy: 0.9535 - subsector_accuracy: 0.8821 - archetype_accuracy: 0.8783 - valuechain_accuracy: 0.9143\n",
            "Epoch 67/200\n",
            "34/34 [==============================] - 0s 8ms/step - loss: 1.1100 - sector_loss: 0.1842 - subsector_loss: 0.3413 - archetype_loss: 0.3810 - valuechain_loss: 0.2035 - sector_accuracy: 0.9274 - subsector_accuracy: 0.8535 - archetype_accuracy: 0.8612 - valuechain_accuracy: 0.9105\n",
            "Epoch 68/200\n",
            "34/34 [==============================] - 0s 8ms/step - loss: 1.1712 - sector_loss: 0.1763 - subsector_loss: 0.3075 - archetype_loss: 0.4409 - valuechain_loss: 0.2465 - sector_accuracy: 0.9309 - subsector_accuracy: 0.8839 - archetype_accuracy: 0.8485 - valuechain_accuracy: 0.9086\n",
            "Epoch 69/200\n",
            "34/34 [==============================] - 0s 7ms/step - loss: 1.1748 - sector_loss: 0.1708 - subsector_loss: 0.3524 - archetype_loss: 0.4451 - valuechain_loss: 0.2066 - sector_accuracy: 0.9389 - subsector_accuracy: 0.8555 - archetype_accuracy: 0.8443 - valuechain_accuracy: 0.9174\n",
            "Epoch 70/200\n",
            "34/34 [==============================] - 0s 8ms/step - loss: 1.2497 - sector_loss: 0.1964 - subsector_loss: 0.3721 - archetype_loss: 0.4353 - valuechain_loss: 0.2460 - sector_accuracy: 0.9212 - subsector_accuracy: 0.8501 - archetype_accuracy: 0.8292 - valuechain_accuracy: 0.8955\n",
            "Epoch 71/200\n",
            "34/34 [==============================] - 0s 8ms/step - loss: 0.9988 - sector_loss: 0.1558 - subsector_loss: 0.2811 - archetype_loss: 0.3347 - valuechain_loss: 0.2273 - sector_accuracy: 0.9329 - subsector_accuracy: 0.8881 - archetype_accuracy: 0.8619 - valuechain_accuracy: 0.9020\n",
            "Epoch 72/200\n",
            "34/34 [==============================] - 0s 7ms/step - loss: 0.9777 - sector_loss: 0.1547 - subsector_loss: 0.2818 - archetype_loss: 0.3444 - valuechain_loss: 0.1967 - sector_accuracy: 0.9366 - subsector_accuracy: 0.8770 - archetype_accuracy: 0.8516 - valuechain_accuracy: 0.9035\n",
            "Epoch 73/200\n",
            "34/34 [==============================] - 0s 8ms/step - loss: 1.0194 - sector_loss: 0.1673 - subsector_loss: 0.3089 - archetype_loss: 0.3329 - valuechain_loss: 0.2103 - sector_accuracy: 0.9351 - subsector_accuracy: 0.8778 - archetype_accuracy: 0.8763 - valuechain_accuracy: 0.9095\n",
            "Epoch 74/200\n",
            "34/34 [==============================] - 0s 7ms/step - loss: 0.9349 - sector_loss: 0.1367 - subsector_loss: 0.3031 - archetype_loss: 0.3389 - valuechain_loss: 0.1563 - sector_accuracy: 0.9452 - subsector_accuracy: 0.8775 - archetype_accuracy: 0.8771 - valuechain_accuracy: 0.9344\n",
            "Epoch 75/200\n",
            "34/34 [==============================] - 0s 8ms/step - loss: 0.9441 - sector_loss: 0.1415 - subsector_loss: 0.2822 - archetype_loss: 0.3420 - valuechain_loss: 0.1784 - sector_accuracy: 0.9308 - subsector_accuracy: 0.8827 - archetype_accuracy: 0.8715 - valuechain_accuracy: 0.9160\n",
            "Epoch 76/200\n",
            "34/34 [==============================] - 0s 8ms/step - loss: 1.0206 - sector_loss: 0.1677 - subsector_loss: 0.2994 - archetype_loss: 0.3508 - valuechain_loss: 0.2027 - sector_accuracy: 0.9313 - subsector_accuracy: 0.8746 - archetype_accuracy: 0.8670 - valuechain_accuracy: 0.9051\n",
            "Epoch 77/200\n",
            "34/34 [==============================] - 0s 7ms/step - loss: 0.9351 - sector_loss: 0.1300 - subsector_loss: 0.2834 - archetype_loss: 0.3524 - valuechain_loss: 0.1693 - sector_accuracy: 0.9520 - subsector_accuracy: 0.8791 - archetype_accuracy: 0.8573 - valuechain_accuracy: 0.9231\n",
            "Epoch 78/200\n",
            "34/34 [==============================] - 0s 7ms/step - loss: 1.0454 - sector_loss: 0.1559 - subsector_loss: 0.3088 - archetype_loss: 0.3891 - valuechain_loss: 0.1915 - sector_accuracy: 0.9409 - subsector_accuracy: 0.8802 - archetype_accuracy: 0.8533 - valuechain_accuracy: 0.9179\n",
            "Epoch 79/200\n",
            "34/34 [==============================] - 0s 8ms/step - loss: 1.0199 - sector_loss: 0.1524 - subsector_loss: 0.3078 - archetype_loss: 0.3676 - valuechain_loss: 0.1922 - sector_accuracy: 0.9453 - subsector_accuracy: 0.8751 - archetype_accuracy: 0.8592 - valuechain_accuracy: 0.9098\n",
            "Epoch 80/200\n",
            "34/34 [==============================] - 0s 7ms/step - loss: 0.9585 - sector_loss: 0.1517 - subsector_loss: 0.2840 - archetype_loss: 0.3389 - valuechain_loss: 0.1840 - sector_accuracy: 0.9345 - subsector_accuracy: 0.8971 - archetype_accuracy: 0.8785 - valuechain_accuracy: 0.9174\n",
            "Epoch 81/200\n",
            "34/34 [==============================] - 0s 7ms/step - loss: 0.9462 - sector_loss: 0.1596 - subsector_loss: 0.2788 - archetype_loss: 0.3432 - valuechain_loss: 0.1645 - sector_accuracy: 0.9397 - subsector_accuracy: 0.8801 - archetype_accuracy: 0.8535 - valuechain_accuracy: 0.9234\n",
            "Epoch 82/200\n",
            "34/34 [==============================] - 0s 7ms/step - loss: 1.0151 - sector_loss: 0.1550 - subsector_loss: 0.3176 - archetype_loss: 0.3548 - valuechain_loss: 0.1878 - sector_accuracy: 0.9450 - subsector_accuracy: 0.8709 - archetype_accuracy: 0.8577 - valuechain_accuracy: 0.9123\n",
            "Epoch 83/200\n",
            "34/34 [==============================] - 0s 8ms/step - loss: 0.9440 - sector_loss: 0.1415 - subsector_loss: 0.2910 - archetype_loss: 0.3317 - valuechain_loss: 0.1797 - sector_accuracy: 0.9454 - subsector_accuracy: 0.8954 - archetype_accuracy: 0.8759 - valuechain_accuracy: 0.9179\n",
            "Epoch 84/200\n",
            "34/34 [==============================] - 0s 8ms/step - loss: 0.9396 - sector_loss: 0.1427 - subsector_loss: 0.2845 - archetype_loss: 0.3304 - valuechain_loss: 0.1821 - sector_accuracy: 0.9365 - subsector_accuracy: 0.8845 - archetype_accuracy: 0.8588 - valuechain_accuracy: 0.9002\n",
            "Epoch 85/200\n",
            "34/34 [==============================] - 0s 8ms/step - loss: 1.0122 - sector_loss: 0.1472 - subsector_loss: 0.3041 - archetype_loss: 0.3585 - valuechain_loss: 0.2024 - sector_accuracy: 0.9453 - subsector_accuracy: 0.8680 - archetype_accuracy: 0.8453 - valuechain_accuracy: 0.9145\n",
            "Epoch 86/200\n",
            "34/34 [==============================] - 0s 8ms/step - loss: 0.8105 - sector_loss: 0.1229 - subsector_loss: 0.2391 - archetype_loss: 0.2889 - valuechain_loss: 0.1596 - sector_accuracy: 0.9624 - subsector_accuracy: 0.9096 - archetype_accuracy: 0.8871 - valuechain_accuracy: 0.9339\n",
            "Epoch 87/200\n",
            "34/34 [==============================] - 0s 8ms/step - loss: 0.8831 - sector_loss: 0.1306 - subsector_loss: 0.2641 - archetype_loss: 0.3317 - valuechain_loss: 0.1568 - sector_accuracy: 0.9517 - subsector_accuracy: 0.8819 - archetype_accuracy: 0.8733 - valuechain_accuracy: 0.9292\n",
            "Epoch 88/200\n",
            "34/34 [==============================] - 0s 8ms/step - loss: 0.9679 - sector_loss: 0.1488 - subsector_loss: 0.2831 - archetype_loss: 0.3408 - valuechain_loss: 0.1951 - sector_accuracy: 0.9395 - subsector_accuracy: 0.8712 - archetype_accuracy: 0.8451 - valuechain_accuracy: 0.9105\n",
            "Epoch 89/200\n",
            "34/34 [==============================] - 0s 7ms/step - loss: 0.9472 - sector_loss: 0.1505 - subsector_loss: 0.2719 - archetype_loss: 0.3416 - valuechain_loss: 0.1832 - sector_accuracy: 0.9383 - subsector_accuracy: 0.8879 - archetype_accuracy: 0.8723 - valuechain_accuracy: 0.9278\n",
            "Epoch 90/200\n",
            "34/34 [==============================] - 0s 8ms/step - loss: 0.9878 - sector_loss: 0.1560 - subsector_loss: 0.2940 - archetype_loss: 0.3601 - valuechain_loss: 0.1777 - sector_accuracy: 0.9408 - subsector_accuracy: 0.8877 - archetype_accuracy: 0.8574 - valuechain_accuracy: 0.9301\n",
            "Epoch 91/200\n",
            "34/34 [==============================] - 0s 8ms/step - loss: 1.0018 - sector_loss: 0.1559 - subsector_loss: 0.2919 - archetype_loss: 0.3500 - valuechain_loss: 0.2040 - sector_accuracy: 0.9406 - subsector_accuracy: 0.8834 - archetype_accuracy: 0.8626 - valuechain_accuracy: 0.9181\n",
            "Epoch 92/200\n",
            "34/34 [==============================] - 0s 7ms/step - loss: 0.9758 - sector_loss: 0.1553 - subsector_loss: 0.3019 - archetype_loss: 0.3415 - valuechain_loss: 0.1771 - sector_accuracy: 0.9344 - subsector_accuracy: 0.8668 - archetype_accuracy: 0.8553 - valuechain_accuracy: 0.9153\n",
            "Epoch 93/200\n",
            "34/34 [==============================] - 0s 7ms/step - loss: 0.8444 - sector_loss: 0.1372 - subsector_loss: 0.2518 - archetype_loss: 0.2950 - valuechain_loss: 0.1603 - sector_accuracy: 0.9524 - subsector_accuracy: 0.8945 - archetype_accuracy: 0.8757 - valuechain_accuracy: 0.9411\n",
            "Epoch 94/200\n",
            "34/34 [==============================] - 0s 8ms/step - loss: 1.0189 - sector_loss: 0.1665 - subsector_loss: 0.3023 - archetype_loss: 0.3638 - valuechain_loss: 0.1863 - sector_accuracy: 0.9394 - subsector_accuracy: 0.8725 - archetype_accuracy: 0.8607 - valuechain_accuracy: 0.9275\n",
            "Epoch 95/200\n",
            "34/34 [==============================] - 0s 8ms/step - loss: 0.8918 - sector_loss: 0.1320 - subsector_loss: 0.2621 - archetype_loss: 0.3286 - valuechain_loss: 0.1691 - sector_accuracy: 0.9486 - subsector_accuracy: 0.8890 - archetype_accuracy: 0.8683 - valuechain_accuracy: 0.9207\n",
            "Epoch 96/200\n",
            "34/34 [==============================] - 0s 7ms/step - loss: 1.0923 - sector_loss: 0.1923 - subsector_loss: 0.3218 - archetype_loss: 0.3756 - valuechain_loss: 0.2027 - sector_accuracy: 0.9363 - subsector_accuracy: 0.8540 - archetype_accuracy: 0.8461 - valuechain_accuracy: 0.8999\n",
            "Epoch 97/200\n",
            "34/34 [==============================] - 0s 8ms/step - loss: 0.9436 - sector_loss: 0.1496 - subsector_loss: 0.2871 - archetype_loss: 0.3274 - valuechain_loss: 0.1796 - sector_accuracy: 0.9498 - subsector_accuracy: 0.8912 - archetype_accuracy: 0.8635 - valuechain_accuracy: 0.9242\n",
            "Epoch 98/200\n",
            "34/34 [==============================] - 0s 8ms/step - loss: 0.8782 - sector_loss: 0.1376 - subsector_loss: 0.2567 - archetype_loss: 0.3049 - valuechain_loss: 0.1789 - sector_accuracy: 0.9449 - subsector_accuracy: 0.8851 - archetype_accuracy: 0.8710 - valuechain_accuracy: 0.9129\n",
            "Epoch 99/200\n",
            "34/34 [==============================] - 0s 7ms/step - loss: 0.9928 - sector_loss: 0.1517 - subsector_loss: 0.2852 - archetype_loss: 0.3540 - valuechain_loss: 0.2019 - sector_accuracy: 0.9354 - subsector_accuracy: 0.8921 - archetype_accuracy: 0.8683 - valuechain_accuracy: 0.9089\n",
            "Epoch 100/200\n",
            "34/34 [==============================] - 0s 7ms/step - loss: 1.1957 - sector_loss: 0.2408 - subsector_loss: 0.3189 - archetype_loss: 0.3834 - valuechain_loss: 0.2526 - sector_accuracy: 0.9243 - subsector_accuracy: 0.8722 - archetype_accuracy: 0.8457 - valuechain_accuracy: 0.9088\n",
            "Epoch 101/200\n",
            "34/34 [==============================] - 0s 7ms/step - loss: 1.2369 - sector_loss: 0.2578 - subsector_loss: 0.3282 - archetype_loss: 0.4342 - valuechain_loss: 0.2167 - sector_accuracy: 0.9157 - subsector_accuracy: 0.8774 - archetype_accuracy: 0.8444 - valuechain_accuracy: 0.9108\n",
            "Epoch 102/200\n",
            "34/34 [==============================] - 0s 7ms/step - loss: 1.4969 - sector_loss: 0.2947 - subsector_loss: 0.4312 - archetype_loss: 0.5030 - valuechain_loss: 0.2681 - sector_accuracy: 0.9105 - subsector_accuracy: 0.8509 - archetype_accuracy: 0.8256 - valuechain_accuracy: 0.8870\n",
            "Epoch 103/200\n",
            "34/34 [==============================] - 0s 8ms/step - loss: 1.2173 - sector_loss: 0.1930 - subsector_loss: 0.3874 - archetype_loss: 0.4422 - valuechain_loss: 0.1947 - sector_accuracy: 0.9268 - subsector_accuracy: 0.8618 - archetype_accuracy: 0.8569 - valuechain_accuracy: 0.9158\n",
            "Epoch 104/200\n",
            "34/34 [==============================] - 0s 8ms/step - loss: 1.4884 - sector_loss: 0.2135 - subsector_loss: 0.4490 - archetype_loss: 0.5174 - valuechain_loss: 0.3085 - sector_accuracy: 0.9196 - subsector_accuracy: 0.8503 - archetype_accuracy: 0.8175 - valuechain_accuracy: 0.8838\n",
            "Epoch 105/200\n",
            "34/34 [==============================] - 0s 8ms/step - loss: 1.2662 - sector_loss: 0.2611 - subsector_loss: 0.3557 - archetype_loss: 0.4056 - valuechain_loss: 0.2439 - sector_accuracy: 0.9236 - subsector_accuracy: 0.8751 - archetype_accuracy: 0.8361 - valuechain_accuracy: 0.8904\n",
            "Epoch 106/200\n",
            "34/34 [==============================] - 0s 8ms/step - loss: 1.2916 - sector_loss: 0.1813 - subsector_loss: 0.3755 - archetype_loss: 0.4767 - valuechain_loss: 0.2581 - sector_accuracy: 0.9299 - subsector_accuracy: 0.8726 - archetype_accuracy: 0.8491 - valuechain_accuracy: 0.8917\n",
            "Epoch 107/200\n",
            "34/34 [==============================] - 0s 8ms/step - loss: 1.1024 - sector_loss: 0.1838 - subsector_loss: 0.2873 - archetype_loss: 0.4206 - valuechain_loss: 0.2106 - sector_accuracy: 0.9393 - subsector_accuracy: 0.8901 - archetype_accuracy: 0.8471 - valuechain_accuracy: 0.9195\n",
            "Epoch 108/200\n",
            "34/34 [==============================] - 0s 7ms/step - loss: 1.4359 - sector_loss: 0.2487 - subsector_loss: 0.3063 - archetype_loss: 0.4443 - valuechain_loss: 0.4366 - sector_accuracy: 0.9333 - subsector_accuracy: 0.8722 - archetype_accuracy: 0.8450 - valuechain_accuracy: 0.8983\n",
            "Epoch 109/200\n",
            "34/34 [==============================] - 0s 8ms/step - loss: 0.9888 - sector_loss: 0.1383 - subsector_loss: 0.2797 - archetype_loss: 0.3742 - valuechain_loss: 0.1965 - sector_accuracy: 0.9523 - subsector_accuracy: 0.9002 - archetype_accuracy: 0.8582 - valuechain_accuracy: 0.9157\n",
            "Epoch 110/200\n",
            "34/34 [==============================] - 0s 8ms/step - loss: 1.0498 - sector_loss: 0.1649 - subsector_loss: 0.2999 - archetype_loss: 0.3753 - valuechain_loss: 0.2097 - sector_accuracy: 0.9330 - subsector_accuracy: 0.8817 - archetype_accuracy: 0.8408 - valuechain_accuracy: 0.9163\n",
            "Epoch 111/200\n",
            "34/34 [==============================] - 0s 8ms/step - loss: 1.0150 - sector_loss: 0.1547 - subsector_loss: 0.3050 - archetype_loss: 0.3479 - valuechain_loss: 0.2074 - sector_accuracy: 0.9326 - subsector_accuracy: 0.8781 - archetype_accuracy: 0.8552 - valuechain_accuracy: 0.9163\n",
            "Epoch 112/200\n",
            "34/34 [==============================] - 0s 8ms/step - loss: 1.0511 - sector_loss: 0.1621 - subsector_loss: 0.3233 - archetype_loss: 0.3690 - valuechain_loss: 0.1967 - sector_accuracy: 0.9384 - subsector_accuracy: 0.8689 - archetype_accuracy: 0.8610 - valuechain_accuracy: 0.9264\n",
            "Epoch 113/200\n",
            "34/34 [==============================] - 0s 8ms/step - loss: 1.0080 - sector_loss: 0.1679 - subsector_loss: 0.3036 - archetype_loss: 0.3472 - valuechain_loss: 0.1894 - sector_accuracy: 0.9308 - subsector_accuracy: 0.8680 - archetype_accuracy: 0.8682 - valuechain_accuracy: 0.9238\n",
            "Epoch 114/200\n",
            "34/34 [==============================] - 0s 7ms/step - loss: 0.9322 - sector_loss: 0.1396 - subsector_loss: 0.2775 - archetype_loss: 0.3390 - valuechain_loss: 0.1761 - sector_accuracy: 0.9450 - subsector_accuracy: 0.8851 - archetype_accuracy: 0.8566 - valuechain_accuracy: 0.9312\n",
            "Epoch 115/200\n",
            "34/34 [==============================] - 0s 8ms/step - loss: 0.9337 - sector_loss: 0.1408 - subsector_loss: 0.2883 - archetype_loss: 0.3264 - valuechain_loss: 0.1781 - sector_accuracy: 0.9448 - subsector_accuracy: 0.8741 - archetype_accuracy: 0.8665 - valuechain_accuracy: 0.9180\n",
            "Epoch 116/200\n",
            "34/34 [==============================] - 0s 8ms/step - loss: 1.0658 - sector_loss: 0.1699 - subsector_loss: 0.3208 - archetype_loss: 0.3750 - valuechain_loss: 0.2001 - sector_accuracy: 0.9399 - subsector_accuracy: 0.8716 - archetype_accuracy: 0.8410 - valuechain_accuracy: 0.9112\n",
            "Epoch 117/200\n",
            "34/34 [==============================] - 0s 8ms/step - loss: 1.0463 - sector_loss: 0.1794 - subsector_loss: 0.3063 - archetype_loss: 0.3575 - valuechain_loss: 0.2031 - sector_accuracy: 0.9332 - subsector_accuracy: 0.8758 - archetype_accuracy: 0.8457 - valuechain_accuracy: 0.9097\n",
            "Epoch 118/200\n",
            "34/34 [==============================] - 0s 7ms/step - loss: 1.0498 - sector_loss: 0.1833 - subsector_loss: 0.2906 - archetype_loss: 0.3603 - valuechain_loss: 0.2155 - sector_accuracy: 0.9249 - subsector_accuracy: 0.8741 - archetype_accuracy: 0.8480 - valuechain_accuracy: 0.9094\n",
            "Epoch 119/200\n",
            "34/34 [==============================] - 0s 8ms/step - loss: 0.8503 - sector_loss: 0.1436 - subsector_loss: 0.2573 - archetype_loss: 0.2843 - valuechain_loss: 0.1650 - sector_accuracy: 0.9406 - subsector_accuracy: 0.8956 - archetype_accuracy: 0.8898 - valuechain_accuracy: 0.9265\n",
            "Epoch 120/200\n",
            "34/34 [==============================] - 0s 8ms/step - loss: 0.9718 - sector_loss: 0.1639 - subsector_loss: 0.2861 - archetype_loss: 0.3221 - valuechain_loss: 0.1997 - sector_accuracy: 0.9287 - subsector_accuracy: 0.8941 - archetype_accuracy: 0.8693 - valuechain_accuracy: 0.9116\n",
            "Epoch 121/200\n",
            "34/34 [==============================] - 0s 8ms/step - loss: 0.9371 - sector_loss: 0.1651 - subsector_loss: 0.2743 - archetype_loss: 0.3210 - valuechain_loss: 0.1767 - sector_accuracy: 0.9330 - subsector_accuracy: 0.8802 - archetype_accuracy: 0.8680 - valuechain_accuracy: 0.9249\n",
            "Epoch 122/200\n",
            "34/34 [==============================] - 0s 8ms/step - loss: 0.8598 - sector_loss: 0.1345 - subsector_loss: 0.2489 - archetype_loss: 0.2959 - valuechain_loss: 0.1805 - sector_accuracy: 0.9543 - subsector_accuracy: 0.8885 - archetype_accuracy: 0.8706 - valuechain_accuracy: 0.9270\n",
            "Epoch 123/200\n",
            "34/34 [==============================] - 0s 8ms/step - loss: 0.8598 - sector_loss: 0.1320 - subsector_loss: 0.2681 - archetype_loss: 0.2995 - valuechain_loss: 0.1602 - sector_accuracy: 0.9494 - subsector_accuracy: 0.8931 - archetype_accuracy: 0.8853 - valuechain_accuracy: 0.9280\n",
            "Epoch 124/200\n",
            "34/34 [==============================] - 0s 8ms/step - loss: 0.9077 - sector_loss: 0.1343 - subsector_loss: 0.2676 - archetype_loss: 0.3194 - valuechain_loss: 0.1864 - sector_accuracy: 0.9371 - subsector_accuracy: 0.8907 - archetype_accuracy: 0.8659 - valuechain_accuracy: 0.9181\n",
            "Epoch 125/200\n",
            "34/34 [==============================] - 0s 8ms/step - loss: 0.9919 - sector_loss: 0.1576 - subsector_loss: 0.2792 - archetype_loss: 0.3416 - valuechain_loss: 0.2134 - sector_accuracy: 0.9367 - subsector_accuracy: 0.8723 - archetype_accuracy: 0.8420 - valuechain_accuracy: 0.8775\n",
            "Epoch 126/200\n",
            "34/34 [==============================] - 0s 8ms/step - loss: 1.0284 - sector_loss: 0.1524 - subsector_loss: 0.2922 - archetype_loss: 0.3589 - valuechain_loss: 0.2249 - sector_accuracy: 0.9304 - subsector_accuracy: 0.8575 - archetype_accuracy: 0.8451 - valuechain_accuracy: 0.8810\n",
            "Epoch 127/200\n",
            "34/34 [==============================] - 0s 8ms/step - loss: 0.8612 - sector_loss: 0.1307 - subsector_loss: 0.2586 - archetype_loss: 0.3006 - valuechain_loss: 0.1713 - sector_accuracy: 0.9498 - subsector_accuracy: 0.8981 - archetype_accuracy: 0.8772 - valuechain_accuracy: 0.9267\n",
            "Epoch 128/200\n",
            "34/34 [==============================] - 0s 8ms/step - loss: 0.9717 - sector_loss: 0.1597 - subsector_loss: 0.2805 - archetype_loss: 0.3284 - valuechain_loss: 0.2032 - sector_accuracy: 0.9297 - subsector_accuracy: 0.8754 - archetype_accuracy: 0.8797 - valuechain_accuracy: 0.9120\n",
            "Epoch 129/200\n",
            "34/34 [==============================] - 0s 8ms/step - loss: 1.0634 - sector_loss: 0.1702 - subsector_loss: 0.3277 - archetype_loss: 0.3626 - valuechain_loss: 0.2028 - sector_accuracy: 0.9150 - subsector_accuracy: 0.8462 - archetype_accuracy: 0.8474 - valuechain_accuracy: 0.9003\n",
            "Epoch 130/200\n",
            "34/34 [==============================] - 0s 8ms/step - loss: 0.8648 - sector_loss: 0.1340 - subsector_loss: 0.2529 - archetype_loss: 0.3107 - valuechain_loss: 0.1672 - sector_accuracy: 0.9469 - subsector_accuracy: 0.8969 - archetype_accuracy: 0.8683 - valuechain_accuracy: 0.9220\n",
            "Epoch 131/200\n",
            "34/34 [==============================] - 0s 8ms/step - loss: 0.9080 - sector_loss: 0.1367 - subsector_loss: 0.2723 - archetype_loss: 0.3232 - valuechain_loss: 0.1758 - sector_accuracy: 0.9426 - subsector_accuracy: 0.8818 - archetype_accuracy: 0.8655 - valuechain_accuracy: 0.9246\n",
            "Epoch 132/200\n",
            "34/34 [==============================] - 0s 8ms/step - loss: 0.9857 - sector_loss: 0.1712 - subsector_loss: 0.3031 - archetype_loss: 0.3255 - valuechain_loss: 0.1859 - sector_accuracy: 0.9363 - subsector_accuracy: 0.8827 - archetype_accuracy: 0.8708 - valuechain_accuracy: 0.9360\n",
            "Epoch 133/200\n",
            "34/34 [==============================] - 0s 8ms/step - loss: 0.9466 - sector_loss: 0.1456 - subsector_loss: 0.2750 - archetype_loss: 0.3428 - valuechain_loss: 0.1832 - sector_accuracy: 0.9494 - subsector_accuracy: 0.8897 - archetype_accuracy: 0.8558 - valuechain_accuracy: 0.9323\n",
            "Epoch 134/200\n",
            "34/34 [==============================] - 0s 8ms/step - loss: 1.0796 - sector_loss: 0.1692 - subsector_loss: 0.3235 - archetype_loss: 0.3963 - valuechain_loss: 0.1907 - sector_accuracy: 0.9287 - subsector_accuracy: 0.8675 - archetype_accuracy: 0.8267 - valuechain_accuracy: 0.9156\n",
            "Epoch 135/200\n",
            "34/34 [==============================] - 0s 8ms/step - loss: 1.2906 - sector_loss: 0.1778 - subsector_loss: 0.4449 - archetype_loss: 0.4532 - valuechain_loss: 0.2147 - sector_accuracy: 0.9265 - subsector_accuracy: 0.8308 - archetype_accuracy: 0.8303 - valuechain_accuracy: 0.9093\n",
            "Epoch 136/200\n",
            "34/34 [==============================] - 0s 8ms/step - loss: 1.0579 - sector_loss: 0.1838 - subsector_loss: 0.3437 - archetype_loss: 0.3570 - valuechain_loss: 0.1734 - sector_accuracy: 0.9327 - subsector_accuracy: 0.8679 - archetype_accuracy: 0.8633 - valuechain_accuracy: 0.9232\n",
            "Epoch 137/200\n",
            "34/34 [==============================] - 0s 8ms/step - loss: 0.9392 - sector_loss: 0.1433 - subsector_loss: 0.2881 - archetype_loss: 0.3445 - valuechain_loss: 0.1633 - sector_accuracy: 0.9373 - subsector_accuracy: 0.8782 - archetype_accuracy: 0.8671 - valuechain_accuracy: 0.9269\n",
            "Epoch 138/200\n",
            "34/34 [==============================] - 0s 8ms/step - loss: 1.1362 - sector_loss: 0.1786 - subsector_loss: 0.3330 - archetype_loss: 0.4195 - valuechain_loss: 0.2051 - sector_accuracy: 0.9203 - subsector_accuracy: 0.8752 - archetype_accuracy: 0.8223 - valuechain_accuracy: 0.9042\n",
            "Epoch 139/200\n",
            "34/34 [==============================] - 0s 8ms/step - loss: 0.9433 - sector_loss: 0.1537 - subsector_loss: 0.2772 - archetype_loss: 0.3473 - valuechain_loss: 0.1651 - sector_accuracy: 0.9369 - subsector_accuracy: 0.8878 - archetype_accuracy: 0.8729 - valuechain_accuracy: 0.9321\n",
            "Epoch 140/200\n",
            "34/34 [==============================] - 0s 9ms/step - loss: 1.1671 - sector_loss: 0.1952 - subsector_loss: 0.3410 - archetype_loss: 0.4022 - valuechain_loss: 0.2287 - sector_accuracy: 0.9192 - subsector_accuracy: 0.8667 - archetype_accuracy: 0.8288 - valuechain_accuracy: 0.8974\n",
            "Epoch 141/200\n",
            "34/34 [==============================] - 0s 9ms/step - loss: 0.8727 - sector_loss: 0.1430 - subsector_loss: 0.2517 - archetype_loss: 0.3179 - valuechain_loss: 0.1602 - sector_accuracy: 0.9410 - subsector_accuracy: 0.8885 - archetype_accuracy: 0.8626 - valuechain_accuracy: 0.9163\n",
            "Epoch 142/200\n",
            "34/34 [==============================] - 0s 8ms/step - loss: 0.9926 - sector_loss: 0.1677 - subsector_loss: 0.3088 - archetype_loss: 0.3438 - valuechain_loss: 0.1723 - sector_accuracy: 0.9377 - subsector_accuracy: 0.8914 - archetype_accuracy: 0.8792 - valuechain_accuracy: 0.9257\n",
            "Epoch 143/200\n",
            "34/34 [==============================] - 0s 9ms/step - loss: 0.8111 - sector_loss: 0.1246 - subsector_loss: 0.2375 - archetype_loss: 0.2922 - valuechain_loss: 0.1568 - sector_accuracy: 0.9511 - subsector_accuracy: 0.8957 - archetype_accuracy: 0.8863 - valuechain_accuracy: 0.9345\n",
            "Epoch 144/200\n",
            "34/34 [==============================] - 0s 8ms/step - loss: 0.9970 - sector_loss: 0.1665 - subsector_loss: 0.3050 - archetype_loss: 0.3415 - valuechain_loss: 0.1840 - sector_accuracy: 0.9220 - subsector_accuracy: 0.8687 - archetype_accuracy: 0.8631 - valuechain_accuracy: 0.9153\n",
            "Epoch 145/200\n",
            "34/34 [==============================] - 0s 8ms/step - loss: 0.9359 - sector_loss: 0.1458 - subsector_loss: 0.2870 - archetype_loss: 0.3212 - valuechain_loss: 0.1819 - sector_accuracy: 0.9397 - subsector_accuracy: 0.8550 - archetype_accuracy: 0.8644 - valuechain_accuracy: 0.9189\n",
            "Epoch 146/200\n",
            "34/34 [==============================] - 0s 8ms/step - loss: 0.9776 - sector_loss: 0.1595 - subsector_loss: 0.2874 - archetype_loss: 0.3457 - valuechain_loss: 0.1850 - sector_accuracy: 0.9383 - subsector_accuracy: 0.8831 - archetype_accuracy: 0.8503 - valuechain_accuracy: 0.9202\n",
            "Epoch 147/200\n",
            "34/34 [==============================] - 0s 8ms/step - loss: 1.0187 - sector_loss: 0.1523 - subsector_loss: 0.3099 - archetype_loss: 0.3416 - valuechain_loss: 0.2149 - sector_accuracy: 0.9370 - subsector_accuracy: 0.8599 - archetype_accuracy: 0.8566 - valuechain_accuracy: 0.8821\n",
            "Epoch 148/200\n",
            "34/34 [==============================] - 0s 8ms/step - loss: 1.0009 - sector_loss: 0.1569 - subsector_loss: 0.2850 - archetype_loss: 0.3523 - valuechain_loss: 0.2066 - sector_accuracy: 0.9313 - subsector_accuracy: 0.8823 - archetype_accuracy: 0.8463 - valuechain_accuracy: 0.9056\n",
            "Epoch 149/200\n",
            "34/34 [==============================] - 0s 8ms/step - loss: 0.8560 - sector_loss: 0.1327 - subsector_loss: 0.2636 - archetype_loss: 0.3087 - valuechain_loss: 0.1511 - sector_accuracy: 0.9420 - subsector_accuracy: 0.8880 - archetype_accuracy: 0.8766 - valuechain_accuracy: 0.9255\n",
            "Epoch 150/200\n",
            "34/34 [==============================] - 0s 8ms/step - loss: 0.8897 - sector_loss: 0.1350 - subsector_loss: 0.2712 - archetype_loss: 0.3116 - valuechain_loss: 0.1718 - sector_accuracy: 0.9402 - subsector_accuracy: 0.8679 - archetype_accuracy: 0.8693 - valuechain_accuracy: 0.9219\n",
            "Epoch 151/200\n",
            "34/34 [==============================] - 0s 8ms/step - loss: 0.8664 - sector_loss: 0.1314 - subsector_loss: 0.2517 - archetype_loss: 0.3010 - valuechain_loss: 0.1824 - sector_accuracy: 0.9495 - subsector_accuracy: 0.8955 - archetype_accuracy: 0.8644 - valuechain_accuracy: 0.9130\n",
            "Epoch 152/200\n",
            "34/34 [==============================] - 0s 8ms/step - loss: 0.8223 - sector_loss: 0.1255 - subsector_loss: 0.2345 - archetype_loss: 0.2936 - valuechain_loss: 0.1687 - sector_accuracy: 0.9549 - subsector_accuracy: 0.8959 - archetype_accuracy: 0.8755 - valuechain_accuracy: 0.9291\n",
            "Epoch 153/200\n",
            "34/34 [==============================] - 0s 8ms/step - loss: 0.8133 - sector_loss: 0.1329 - subsector_loss: 0.2363 - archetype_loss: 0.2848 - valuechain_loss: 0.1593 - sector_accuracy: 0.9588 - subsector_accuracy: 0.9089 - archetype_accuracy: 0.8838 - valuechain_accuracy: 0.9281\n",
            "Epoch 154/200\n",
            "34/34 [==============================] - 0s 8ms/step - loss: 1.0476 - sector_loss: 0.1560 - subsector_loss: 0.2951 - archetype_loss: 0.4010 - valuechain_loss: 0.1955 - sector_accuracy: 0.9345 - subsector_accuracy: 0.8714 - archetype_accuracy: 0.8572 - valuechain_accuracy: 0.9132\n",
            "Epoch 155/200\n",
            "34/34 [==============================] - 0s 8ms/step - loss: 0.9246 - sector_loss: 0.1382 - subsector_loss: 0.2983 - archetype_loss: 0.3192 - valuechain_loss: 0.1689 - sector_accuracy: 0.9502 - subsector_accuracy: 0.8802 - archetype_accuracy: 0.8721 - valuechain_accuracy: 0.9322\n",
            "Epoch 156/200\n",
            "34/34 [==============================] - 0s 8ms/step - loss: 0.9810 - sector_loss: 0.1806 - subsector_loss: 0.2862 - archetype_loss: 0.3288 - valuechain_loss: 0.1855 - sector_accuracy: 0.9233 - subsector_accuracy: 0.8886 - archetype_accuracy: 0.8609 - valuechain_accuracy: 0.9159\n",
            "Epoch 157/200\n",
            "34/34 [==============================] - 0s 8ms/step - loss: 1.0239 - sector_loss: 0.1730 - subsector_loss: 0.2944 - archetype_loss: 0.3443 - valuechain_loss: 0.2122 - sector_accuracy: 0.9320 - subsector_accuracy: 0.8864 - archetype_accuracy: 0.8633 - valuechain_accuracy: 0.9188\n",
            "Epoch 158/200\n",
            "34/34 [==============================] - 0s 9ms/step - loss: 0.8793 - sector_loss: 0.1313 - subsector_loss: 0.2599 - archetype_loss: 0.3177 - valuechain_loss: 0.1705 - sector_accuracy: 0.9401 - subsector_accuracy: 0.8962 - archetype_accuracy: 0.8714 - valuechain_accuracy: 0.9211\n",
            "Epoch 159/200\n",
            "34/34 [==============================] - 0s 8ms/step - loss: 0.9601 - sector_loss: 0.1604 - subsector_loss: 0.2748 - archetype_loss: 0.3231 - valuechain_loss: 0.2017 - sector_accuracy: 0.9341 - subsector_accuracy: 0.8835 - archetype_accuracy: 0.8653 - valuechain_accuracy: 0.9083\n",
            "Epoch 160/200\n",
            "34/34 [==============================] - 0s 8ms/step - loss: 0.9126 - sector_loss: 0.1602 - subsector_loss: 0.2534 - archetype_loss: 0.3123 - valuechain_loss: 0.1868 - sector_accuracy: 0.9282 - subsector_accuracy: 0.8962 - archetype_accuracy: 0.8656 - valuechain_accuracy: 0.9208\n",
            "Epoch 161/200\n",
            "34/34 [==============================] - 0s 8ms/step - loss: 1.0386 - sector_loss: 0.1614 - subsector_loss: 0.3075 - archetype_loss: 0.3494 - valuechain_loss: 0.2203 - sector_accuracy: 0.9281 - subsector_accuracy: 0.8692 - archetype_accuracy: 0.8582 - valuechain_accuracy: 0.9096\n",
            "Epoch 162/200\n",
            "34/34 [==============================] - 0s 8ms/step - loss: 0.9561 - sector_loss: 0.1543 - subsector_loss: 0.2812 - archetype_loss: 0.3301 - valuechain_loss: 0.1905 - sector_accuracy: 0.9311 - subsector_accuracy: 0.8870 - archetype_accuracy: 0.8689 - valuechain_accuracy: 0.9182\n",
            "Epoch 163/200\n",
            "34/34 [==============================] - 0s 9ms/step - loss: 0.9389 - sector_loss: 0.1410 - subsector_loss: 0.2856 - archetype_loss: 0.3310 - valuechain_loss: 0.1814 - sector_accuracy: 0.9413 - subsector_accuracy: 0.8908 - archetype_accuracy: 0.8628 - valuechain_accuracy: 0.9183\n",
            "Epoch 164/200\n",
            "34/34 [==============================] - 0s 8ms/step - loss: 0.8616 - sector_loss: 0.1368 - subsector_loss: 0.2475 - archetype_loss: 0.2973 - valuechain_loss: 0.1800 - sector_accuracy: 0.9458 - subsector_accuracy: 0.8993 - archetype_accuracy: 0.8811 - valuechain_accuracy: 0.9135\n",
            "Epoch 165/200\n",
            "34/34 [==============================] - 0s 8ms/step - loss: 0.8776 - sector_loss: 0.1410 - subsector_loss: 0.2586 - archetype_loss: 0.3084 - valuechain_loss: 0.1696 - sector_accuracy: 0.9453 - subsector_accuracy: 0.8928 - archetype_accuracy: 0.8700 - valuechain_accuracy: 0.9225\n",
            "Epoch 166/200\n",
            "34/34 [==============================] - 0s 9ms/step - loss: 0.9479 - sector_loss: 0.1457 - subsector_loss: 0.2775 - archetype_loss: 0.3384 - valuechain_loss: 0.1863 - sector_accuracy: 0.9379 - subsector_accuracy: 0.8895 - archetype_accuracy: 0.8573 - valuechain_accuracy: 0.9235\n",
            "Epoch 167/200\n",
            "34/34 [==============================] - 0s 8ms/step - loss: 0.8089 - sector_loss: 0.1239 - subsector_loss: 0.2405 - archetype_loss: 0.2818 - valuechain_loss: 0.1626 - sector_accuracy: 0.9479 - subsector_accuracy: 0.8988 - archetype_accuracy: 0.8866 - valuechain_accuracy: 0.9219\n",
            "Epoch 168/200\n",
            "34/34 [==============================] - 0s 9ms/step - loss: 0.8627 - sector_loss: 0.1375 - subsector_loss: 0.2539 - archetype_loss: 0.2988 - valuechain_loss: 0.1725 - sector_accuracy: 0.9434 - subsector_accuracy: 0.8974 - archetype_accuracy: 0.8687 - valuechain_accuracy: 0.9187\n",
            "Epoch 169/200\n",
            "34/34 [==============================] - 0s 8ms/step - loss: 0.8779 - sector_loss: 0.1496 - subsector_loss: 0.2524 - archetype_loss: 0.3116 - valuechain_loss: 0.1643 - sector_accuracy: 0.9355 - subsector_accuracy: 0.8906 - archetype_accuracy: 0.8697 - valuechain_accuracy: 0.9147\n",
            "Epoch 170/200\n",
            "34/34 [==============================] - 0s 9ms/step - loss: 0.8972 - sector_loss: 0.1394 - subsector_loss: 0.2687 - archetype_loss: 0.3073 - valuechain_loss: 0.1817 - sector_accuracy: 0.9373 - subsector_accuracy: 0.8778 - archetype_accuracy: 0.8629 - valuechain_accuracy: 0.9152\n",
            "Epoch 171/200\n",
            "34/34 [==============================] - 0s 8ms/step - loss: 0.9190 - sector_loss: 0.1463 - subsector_loss: 0.2794 - archetype_loss: 0.3184 - valuechain_loss: 0.1749 - sector_accuracy: 0.9465 - subsector_accuracy: 0.8970 - archetype_accuracy: 0.8748 - valuechain_accuracy: 0.9262\n",
            "Epoch 172/200\n",
            "34/34 [==============================] - 0s 8ms/step - loss: 0.9130 - sector_loss: 0.1456 - subsector_loss: 0.2691 - archetype_loss: 0.3203 - valuechain_loss: 0.1780 - sector_accuracy: 0.9452 - subsector_accuracy: 0.8686 - archetype_accuracy: 0.8761 - valuechain_accuracy: 0.9304\n",
            "Epoch 173/200\n",
            "34/34 [==============================] - 0s 8ms/step - loss: 0.8560 - sector_loss: 0.1275 - subsector_loss: 0.2629 - archetype_loss: 0.3081 - valuechain_loss: 0.1575 - sector_accuracy: 0.9415 - subsector_accuracy: 0.8863 - archetype_accuracy: 0.8796 - valuechain_accuracy: 0.9446\n",
            "Epoch 174/200\n",
            "34/34 [==============================] - 0s 8ms/step - loss: 0.9911 - sector_loss: 0.1617 - subsector_loss: 0.2938 - archetype_loss: 0.3284 - valuechain_loss: 0.2071 - sector_accuracy: 0.9405 - subsector_accuracy: 0.8748 - archetype_accuracy: 0.8799 - valuechain_accuracy: 0.9150\n",
            "Epoch 175/200\n",
            "34/34 [==============================] - 0s 8ms/step - loss: 1.0077 - sector_loss: 0.1603 - subsector_loss: 0.3030 - archetype_loss: 0.3483 - valuechain_loss: 0.1961 - sector_accuracy: 0.9213 - subsector_accuracy: 0.8705 - archetype_accuracy: 0.8444 - valuechain_accuracy: 0.8953\n",
            "Epoch 176/200\n",
            "34/34 [==============================] - 0s 9ms/step - loss: 0.7486 - sector_loss: 0.1147 - subsector_loss: 0.2273 - archetype_loss: 0.2676 - valuechain_loss: 0.1390 - sector_accuracy: 0.9559 - subsector_accuracy: 0.8993 - archetype_accuracy: 0.8897 - valuechain_accuracy: 0.9211\n",
            "Epoch 177/200\n",
            "34/34 [==============================] - 0s 8ms/step - loss: 0.8422 - sector_loss: 0.1340 - subsector_loss: 0.2455 - archetype_loss: 0.2929 - valuechain_loss: 0.1698 - sector_accuracy: 0.9542 - subsector_accuracy: 0.9026 - archetype_accuracy: 0.8835 - valuechain_accuracy: 0.9347\n",
            "Epoch 178/200\n",
            "34/34 [==============================] - 0s 8ms/step - loss: 0.8864 - sector_loss: 0.1394 - subsector_loss: 0.2609 - archetype_loss: 0.3121 - valuechain_loss: 0.1741 - sector_accuracy: 0.9396 - subsector_accuracy: 0.8879 - archetype_accuracy: 0.8876 - valuechain_accuracy: 0.9267\n",
            "Epoch 179/200\n",
            "34/34 [==============================] - 0s 8ms/step - loss: 0.8386 - sector_loss: 0.1402 - subsector_loss: 0.2401 - archetype_loss: 0.2886 - valuechain_loss: 0.1697 - sector_accuracy: 0.9464 - subsector_accuracy: 0.9005 - archetype_accuracy: 0.8887 - valuechain_accuracy: 0.9136\n",
            "Epoch 180/200\n",
            "34/34 [==============================] - 0s 8ms/step - loss: 0.8600 - sector_loss: 0.1355 - subsector_loss: 0.2590 - archetype_loss: 0.2976 - valuechain_loss: 0.1679 - sector_accuracy: 0.9361 - subsector_accuracy: 0.8660 - archetype_accuracy: 0.8636 - valuechain_accuracy: 0.9198\n",
            "Epoch 181/200\n",
            "34/34 [==============================] - 0s 8ms/step - loss: 0.9225 - sector_loss: 0.1457 - subsector_loss: 0.2873 - archetype_loss: 0.3200 - valuechain_loss: 0.1695 - sector_accuracy: 0.9431 - subsector_accuracy: 0.8694 - archetype_accuracy: 0.8624 - valuechain_accuracy: 0.9331\n",
            "Epoch 182/200\n",
            "34/34 [==============================] - 0s 8ms/step - loss: 0.9160 - sector_loss: 0.1331 - subsector_loss: 0.2720 - archetype_loss: 0.3320 - valuechain_loss: 0.1788 - sector_accuracy: 0.9436 - subsector_accuracy: 0.8679 - archetype_accuracy: 0.8523 - valuechain_accuracy: 0.9101\n",
            "Epoch 183/200\n",
            "34/34 [==============================] - 0s 8ms/step - loss: 0.9641 - sector_loss: 0.1419 - subsector_loss: 0.2685 - archetype_loss: 0.3890 - valuechain_loss: 0.1647 - sector_accuracy: 0.9336 - subsector_accuracy: 0.8910 - archetype_accuracy: 0.8456 - valuechain_accuracy: 0.9290\n",
            "Epoch 184/200\n",
            "34/34 [==============================] - 0s 8ms/step - loss: 1.0042 - sector_loss: 0.1638 - subsector_loss: 0.2831 - archetype_loss: 0.3519 - valuechain_loss: 0.2054 - sector_accuracy: 0.9281 - subsector_accuracy: 0.8823 - archetype_accuracy: 0.8626 - valuechain_accuracy: 0.8981\n",
            "Epoch 185/200\n",
            "34/34 [==============================] - 0s 8ms/step - loss: 0.8613 - sector_loss: 0.1326 - subsector_loss: 0.2523 - archetype_loss: 0.3081 - valuechain_loss: 0.1682 - sector_accuracy: 0.9453 - subsector_accuracy: 0.9029 - archetype_accuracy: 0.8808 - valuechain_accuracy: 0.9289\n",
            "Epoch 186/200\n",
            "34/34 [==============================] - 0s 8ms/step - loss: 0.8733 - sector_loss: 0.1421 - subsector_loss: 0.2544 - archetype_loss: 0.2974 - valuechain_loss: 0.1794 - sector_accuracy: 0.9277 - subsector_accuracy: 0.8916 - archetype_accuracy: 0.8721 - valuechain_accuracy: 0.9257\n",
            "Epoch 187/200\n",
            "34/34 [==============================] - 0s 8ms/step - loss: 0.7927 - sector_loss: 0.1276 - subsector_loss: 0.2410 - archetype_loss: 0.2763 - valuechain_loss: 0.1478 - sector_accuracy: 0.9411 - subsector_accuracy: 0.8931 - archetype_accuracy: 0.8805 - valuechain_accuracy: 0.9365\n",
            "Epoch 188/200\n",
            "34/34 [==============================] - 0s 8ms/step - loss: 1.3946 - sector_loss: 0.5060 - subsector_loss: 0.3287 - archetype_loss: 0.3330 - valuechain_loss: 0.2268 - sector_accuracy: 0.9373 - subsector_accuracy: 0.8878 - archetype_accuracy: 0.8624 - valuechain_accuracy: 0.9088\n",
            "Epoch 189/200\n",
            "34/34 [==============================] - 0s 8ms/step - loss: 1.3238 - sector_loss: 0.1474 - subsector_loss: 0.2613 - archetype_loss: 0.4559 - valuechain_loss: 0.4592 - sector_accuracy: 0.9420 - subsector_accuracy: 0.8910 - archetype_accuracy: 0.8672 - valuechain_accuracy: 0.9220\n",
            "Epoch 190/200\n",
            "34/34 [==============================] - 0s 8ms/step - loss: 1.6794 - sector_loss: 0.1829 - subsector_loss: 0.3728 - archetype_loss: 0.6470 - valuechain_loss: 0.4768 - sector_accuracy: 0.9269 - subsector_accuracy: 0.8655 - archetype_accuracy: 0.8234 - valuechain_accuracy: 0.8824\n",
            "Epoch 191/200\n",
            "34/34 [==============================] - 0s 8ms/step - loss: 1.3417 - sector_loss: 0.3794 - subsector_loss: 0.4318 - archetype_loss: 0.3534 - valuechain_loss: 0.1772 - sector_accuracy: 0.9148 - subsector_accuracy: 0.8793 - archetype_accuracy: 0.8726 - valuechain_accuracy: 0.9303\n",
            "Epoch 192/200\n",
            "34/34 [==============================] - 0s 9ms/step - loss: 1.1086 - sector_loss: 0.1698 - subsector_loss: 0.3902 - archetype_loss: 0.3512 - valuechain_loss: 0.1974 - sector_accuracy: 0.9297 - subsector_accuracy: 0.8809 - archetype_accuracy: 0.8773 - valuechain_accuracy: 0.9230\n",
            "Epoch 193/200\n",
            "34/34 [==============================] - 0s 9ms/step - loss: 1.6103 - sector_loss: 0.1522 - subsector_loss: 0.4749 - archetype_loss: 0.7784 - valuechain_loss: 0.2048 - sector_accuracy: 0.9414 - subsector_accuracy: 0.8924 - archetype_accuracy: 0.8598 - valuechain_accuracy: 0.9170\n",
            "Epoch 194/200\n",
            "34/34 [==============================] - 0s 8ms/step - loss: 0.9554 - sector_loss: 0.1489 - subsector_loss: 0.2791 - archetype_loss: 0.3428 - valuechain_loss: 0.1846 - sector_accuracy: 0.9380 - subsector_accuracy: 0.8879 - archetype_accuracy: 0.8681 - valuechain_accuracy: 0.9210\n",
            "Epoch 195/200\n",
            "34/34 [==============================] - 0s 8ms/step - loss: 0.8594 - sector_loss: 0.1223 - subsector_loss: 0.2571 - archetype_loss: 0.3019 - valuechain_loss: 0.1781 - sector_accuracy: 0.9567 - subsector_accuracy: 0.9012 - archetype_accuracy: 0.8724 - valuechain_accuracy: 0.9146\n",
            "Epoch 196/200\n",
            "34/34 [==============================] - 0s 8ms/step - loss: 0.9006 - sector_loss: 0.1243 - subsector_loss: 0.2861 - archetype_loss: 0.3303 - valuechain_loss: 0.1599 - sector_accuracy: 0.9440 - subsector_accuracy: 0.8759 - archetype_accuracy: 0.8664 - valuechain_accuracy: 0.9351\n",
            "Epoch 197/200\n",
            "34/34 [==============================] - 0s 9ms/step - loss: 0.9474 - sector_loss: 0.1384 - subsector_loss: 0.2709 - archetype_loss: 0.3652 - valuechain_loss: 0.1730 - sector_accuracy: 0.9399 - subsector_accuracy: 0.8897 - archetype_accuracy: 0.8810 - valuechain_accuracy: 0.9266\n",
            "Epoch 198/200\n",
            "34/34 [==============================] - 0s 9ms/step - loss: 0.9510 - sector_loss: 0.1589 - subsector_loss: 0.2841 - archetype_loss: 0.3298 - valuechain_loss: 0.1782 - sector_accuracy: 0.9305 - subsector_accuracy: 0.8739 - archetype_accuracy: 0.8496 - valuechain_accuracy: 0.9156\n",
            "Epoch 199/200\n",
            "34/34 [==============================] - 0s 9ms/step - loss: 0.8194 - sector_loss: 0.1266 - subsector_loss: 0.2366 - archetype_loss: 0.2966 - valuechain_loss: 0.1597 - sector_accuracy: 0.9487 - subsector_accuracy: 0.8974 - archetype_accuracy: 0.8726 - valuechain_accuracy: 0.9258\n",
            "Epoch 200/200\n",
            "34/34 [==============================] - 0s 8ms/step - loss: 0.9492 - sector_loss: 0.1588 - subsector_loss: 0.2853 - archetype_loss: 0.3367 - valuechain_loss: 0.1683 - sector_accuracy: 0.9246 - subsector_accuracy: 0.8749 - archetype_accuracy: 0.8556 - valuechain_accuracy: 0.9189\n"
          ],
          "name": "stdout"
        }
      ]
    },
    {
      "cell_type": "markdown",
      "metadata": {
        "id": "BhKZIK81ND8g"
      },
      "source": [
        "### 5.2 Testing Models"
      ]
    },
    {
      "cell_type": "code",
      "metadata": {
        "colab": {
          "base_uri": "https://localhost:8080/"
        },
        "id": "t1xsD2r5Th95",
        "outputId": "5e64764d-29da-4cb1-da35-0fb1170b71d2"
      },
      "source": [
        "metrics = model.evaluate(X_test, y_test_multi, verbose=0)[1:]\n",
        "\n",
        "for i, label in enumerate(label_names):\n",
        "    print(f'{label} accuracy: {metrics[i+4] * 100:.5}%')\n",
        "    print(f'{label} loss: {metrics[i]:.5}')"
      ],
      "execution_count": null,
      "outputs": [
        {
          "output_type": "stream",
          "text": [
            "sector accuracy: 76.316%\n",
            "sector loss: 4.6163\n",
            "subsector accuracy: 59.211%\n",
            "subsector loss: 4.728\n",
            "archetype accuracy: 43.421%\n",
            "archetype loss: 7.7406\n",
            "valuechain accuracy: 60.526%\n",
            "valuechain loss: 6.0506\n"
          ],
          "name": "stdout"
        }
      ]
    },
    {
      "cell_type": "code",
      "metadata": {
        "colab": {
          "base_uri": "https://localhost:8080/",
          "height": 1000
        },
        "id": "gUvuwWVcV_BM",
        "outputId": "a6d33177-bd8b-43d0-9470-7964314192ba"
      },
      "source": [
        "# plot accuracy and loss graphs for all labels\n",
        "fig = plt.figure(1, figsize=(20,10))\n",
        "plt.suptitle('Model Training Accuracy Breakdown', y=0.95)\n",
        "\n",
        "for i, name in enumerate(label_names):\n",
        "    plt.subplot(2, 2, i+1)\n",
        "    plt.plot(history.history[f'{name}_accuracy'])\n",
        "    plt.title(f'{name} Accuracy')\n",
        "    plt.ylabel('accuracy')\n",
        "    plt.xlabel('epoch')\n",
        "    plt.legend(['Training Accuracy'])\n",
        "\n",
        "fig = plt.figure(2, figsize=(20,10))\n",
        "plt.suptitle('Model Training Loss Breakdown', y=0.95)\n",
        "\n",
        "for i, name in enumerate(label_names):\n",
        "    plt.subplot(2, 2, i+1)\n",
        "    plt.plot(history.history[f'{name}_loss'])\n",
        "    plt.title(f'{name} Loss')\n",
        "    plt.ylabel('loss')\n",
        "    plt.xlabel('epoch')\n",
        "    plt.legend(['Training Loss'])\n",
        "\n",
        "plt.show()"
      ],
      "execution_count": null,
      "outputs": [
        {
          "output_type": "display_data",
          "data": {
            "image/png": "[encoded data removed]",
            "text/plain": [
              "<Figure size 1440x720 with 4 Axes>"
            ]
          },
          "metadata": {
            "tags": []
          }
        },
        {
          "output_type": "display_data",
          "data": {
            "image/png": "[encoded data removed]",
            "text/plain": [
              "<Figure size 1440x720 with 4 Axes>"
            ]
          },
          "metadata": {
            "tags": []
          }
        }
      ]
    },
    {
      "cell_type": "code",
      "metadata": {
        "colab": {
          "base_uri": "https://localhost:8080/"
        },
        "id": "M5hNw2PQyw2Q",
        "outputId": "1320589f-4e5a-4ce4-ebbe-dcbf1d7dfe92"
      },
      "source": [
        "results = model.predict(X_test)\n",
        "\n",
        "predicted_label = []\n",
        "for label in results:\n",
        "    predicted_label.append(np.argmax(label, axis = 1))\n",
        "predicted_label = np.array(predicted_label)\n",
        "\n",
        "for i in range(predicted_label.shape[1]):\n",
        "    print(f'Expected: {y_test[i]} | got {predicted_label[:,i]}')"
      ],
      "execution_count": null,
      "outputs": [
        {
          "output_type": "stream",
          "text": [
            "Expected: [ 6 29 26  7] | got [ 6 29 25  5]\n",
            "Expected: [ 4 24 64  0] | got [ 3 25 69  3]\n",
            "Expected: [ 1 31 89  7] | got [ 1 31 40  3]\n",
            "Expected: [ 4 24 64  0] | got [ 1  4 14  5]\n",
            "Expected: [ 4 24 64  0] | got [1 3 8 5]\n",
            "Expected: [ 1  4 10  5] | got [ 1  4 10  5]\n",
            "Expected: [ 6 17 46  5] | got [ 6 17 46  5]\n",
            "Expected: [ 3 21 63  3] | got [ 3 21 63  3]\n",
            "Expected: [ 1  6 14  5] | got [ 1  4 10  5]\n",
            "Expected: [ 1  4 10  5] | got [ 1  4 10  5]\n",
            "Expected: [ 1  4 10  5] | got [ 1  4 10  5]\n",
            "Expected: [ 5 26 75  7] | got [ 1  6 14  5]\n",
            "Expected: [ 6  8 20  3] | got [ 6  8 20  3]\n",
            "Expected: [ 3 16 45  1] | got [ 3 21 63  3]\n",
            "Expected: [ 4 24 64  0] | got [ 6  7 15  3]\n",
            "Expected: [ 1  4 10  5] | got [ 1  4 10  5]\n",
            "Expected: [ 3 21 63  3] | got [ 3 21 63  3]\n",
            "Expected: [2 2 5 6] | got [ 4 24 64  0]\n",
            "Expected: [ 1  4 10  5] | got [ 1  4 10  5]\n",
            "Expected: [ 1  4 10  5] | got [ 1  4 10  5]\n",
            "Expected: [ 1  4 11  5] | got [ 1  4 10  5]\n",
            "Expected: [ 6 18 49  5] | got [ 6 18 21  5]\n",
            "Expected: [1 3 8 5] | got [1 3 9 3]\n",
            "Expected: [ 6 18  0  3] | got [ 6 24 25  5]\n",
            "Expected: [1 3 9 3] | got [1 3 9 3]\n",
            "Expected: [ 6 17 46  5] | got [ 6 30 83  5]\n",
            "Expected: [ 1  4 10  5] | got [ 1  4 10  5]\n",
            "Expected: [ 6 29 26  7] | got [ 2  2 64  6]\n",
            "Expected: [ 4 24 64  0] | got [ 1  6 14  5]\n",
            "Expected: [ 3 21 63  3] | got [ 3 21 63  3]\n",
            "Expected: [2 2 4 5] | got [ 6  8 20  3]\n",
            "Expected: [1 3 9 3] | got [1 3 8 5]\n",
            "Expected: [ 3 25 70  8] | got [ 4 24 70  8]\n",
            "Expected: [ 3 21 63  3] | got [ 3 21 63  3]\n",
            "Expected: [ 4 24 64  0] | got [ 4 24 64  0]\n",
            "Expected: [ 4 24 64  0] | got [ 4 24 64  0]\n",
            "Expected: [1 3 8 5] | got [1 3 8 5]\n",
            "Expected: [ 4 24 64  0] | got [ 6  8 20  3]\n",
            "Expected: [ 1 31 90  3] | got [ 1 31 89  7]\n",
            "Expected: [ 6  8 20  3] | got [ 1  4 10  5]\n",
            "Expected: [ 3 21 63  3] | got [ 3 21 63  3]\n",
            "Expected: [ 3 21 63  3] | got [ 3 21 63  3]\n",
            "Expected: [ 1  6 14  5] | got [ 1  4 14  5]\n",
            "Expected: [ 6 17 46  5] | got [ 6 17 46  5]\n",
            "Expected: [ 3 21 63  3] | got [ 3 21 63  3]\n",
            "Expected: [ 6  8 20  3] | got [ 3 21 63  3]\n",
            "Expected: [ 1  4 10  5] | got [ 1  4 14  5]\n",
            "Expected: [ 6 30 54  7] | got [ 6 30 55  5]\n",
            "Expected: [ 1 31 88  5] | got [ 1  4 14  5]\n",
            "Expected: [ 6 30 23  3] | got [ 6 24 25  5]\n",
            "Expected: [ 0 28 18  3] | got [ 1  4 10  5]\n",
            "Expected: [ 6 18 49  5] | got [ 6 17 46  5]\n",
            "Expected: [ 1  4 10  5] | got [ 1  4 10  5]\n",
            "Expected: [ 1  4 11  5] | got [ 1  4 10  5]\n",
            "Expected: [ 1  4 10  5] | got [ 1  4 10  5]\n",
            "Expected: [ 3 21 63  3] | got [ 3 21 63  3]\n",
            "Expected: [ 4 24 64  0] | got [ 6 17 46  5]\n",
            "Expected: [ 4 24 64  0] | got [ 4 24 64  0]\n",
            "Expected: [ 6 29 26  7] | got [ 6 29 26  7]\n",
            "Expected: [ 4 24 64  0] | got [ 3 21 63  3]\n",
            "Expected: [ 6  8 20  3] | got [ 6 30 54  7]\n",
            "Expected: [ 6 30 55  5] | got [ 6 30 54  5]\n",
            "Expected: [ 0 28 18  3] | got [ 0 28 18  3]\n",
            "Expected: [1 3 8 5] | got [1 3 8 5]\n",
            "Expected: [1 3 9 3] | got [1 3 9 3]\n",
            "Expected: [ 1  4 10  5] | got [ 1  4 10  5]\n",
            "Expected: [ 3 21 60  3] | got [ 3 21 63  3]\n",
            "Expected: [ 6 17 46  5] | got [ 6 18 49  5]\n",
            "Expected: [1 3 9 3] | got [ 1  4 10  5]\n",
            "Expected: [ 4 24 64  0] | got [1 3 9 3]\n",
            "Expected: [1 3 8 5] | got [1 3 9 3]\n",
            "Expected: [ 5  7 16  5] | got [ 1  4 10  5]\n",
            "Expected: [1 3 9 3] | got [1 3 9 3]\n",
            "Expected: [ 6  8 20  3] | got [ 6  8 19  5]\n",
            "Expected: [ 1 31 89  7] | got [ 1  4 14  5]\n",
            "Expected: [ 6 17 46  5] | got [ 6  8 20  3]\n"
          ],
          "name": "stdout"
        }
      ]
    },
    {
      "cell_type": "markdown",
      "metadata": {
        "id": "1aarHE3sNuN1"
      },
      "source": [
        "### 5.3. Saving Models"
      ]
    },
    {
      "cell_type": "code",
      "metadata": {
        "colab": {
          "base_uri": "https://localhost:8080/"
        },
        "id": "5Vd4RJP0NxVB",
        "outputId": "0d0774a9-42e8-4942-d8bb-fac71674bdde"
      },
      "source": [
        "# save models to file\n",
        "model.save('./multilabel_model')"
      ],
      "execution_count": null,
      "outputs": [
        {
          "output_type": "stream",
          "text": [
            "INFO:tensorflow:Assets written to: ./multilabel_model/assets\n"
          ],
          "name": "stdout"
        }
      ]
    },
    {
      "cell_type": "code",
      "metadata": {
        "colab": {
          "base_uri": "https://localhost:8080/"
        },
        "id": "-frVyS9_OqM5",
        "outputId": "e8112c4c-eecc-4391-b299-7d240377803e"
      },
      "source": [
        "!zip -r multilabel_model.zip ./multilabel_model"
      ],
      "execution_count": null,
      "outputs": [
        {
          "output_type": "stream",
          "text": [
            "  adding: multilabel_model/ (stored 0%)\n",
            "  adding: multilabel_model/variables/ (stored 0%)\n",
            "  adding: multilabel_model/variables/variables.index (deflated 75%)\n",
            "  adding: multilabel_model/variables/variables.data-00000-of-00001 (deflated 25%)\n",
            "  adding: multilabel_model/saved_model.pb (deflated 91%)\n",
            "  adding: multilabel_model/assets/ (stored 0%)\n"
          ],
          "name": "stdout"
        }
      ]
    },
    {
      "cell_type": "markdown",
      "metadata": {
        "id": "-vcPrnMEK8tR"
      },
      "source": [
        "---\n",
        "---\n",
        "---"
      ]
    },
    {
      "cell_type": "markdown",
      "metadata": {
        "id": "0hKvKHV38ly_"
      },
      "source": [
        "# 6.References\n",
        "\n",
        "\n",
        "## Linking GitHub Private Repo with Google Colab\n",
        "---\n",
        "1. [How to clone private Github repo from Google Colab using SSH](https://medium.com/@purba0101/how-to-clone-private-github-repo-in-google-colab-using-ssh-77384cfef18f)\n",
        "2. [Adding a new SSH key to your GitHub account](https://docs.github.com/en/github/authenticating-to-github/adding-a-new-ssh-key-to-your-github-account)\n",
        "\n",
        "\n",
        "## How to classify text with NLTK\n",
        "---\n",
        "1. [Learning to Classify Text](https://www.nltk.org/book/ch06.html)\n",
        "\n",
        "\n",
        "## Other references\n",
        "---\n",
        "1. [Print very long string completely in pandas dataframe](https://stackoverflow.com/questions/29902714/print-very-long-string-completely-in-pandas-dataframe)\n",
        "2. [Removing newlines from messy strings in pandas dataframe cells?\n",
        "](https://stackoverflow.com/questions/44227748/removing-newlines-from-messy-strings-in-pandas-dataframe-cells)\n",
        "3. [Tokenizing using Pandas and spaCy](https://stackoverflow.com/questions/46981137/tokenizing-using-pandas-and-spacy)\n",
        "4. [Intro to NLP with spaCy](https://nicschrading.com/project/Intro-to-NLP-with-spaCy/)\n",
        "5. [A short introduction to NLP in Python with spaCy](https://towardsdatascience.com/a-short-introduction-to-nlp-in-python-with-spacy-d0aa819af3ad)\n",
        "6. [Punctuation, stopwords and lemmatization with spacy](https://stackoverflow.com/questions/57747613/punctuation-stopwords-and-lemmatization-with-spacy)\n",
        "\n"
      ]
    }
  ]
}