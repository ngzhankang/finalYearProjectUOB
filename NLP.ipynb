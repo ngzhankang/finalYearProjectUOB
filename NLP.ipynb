{
  "nbformat": 4,
  "nbformat_minor": 0,
  "metadata": {
    "colab": {
      "name": "NLP.ipynb",
      "provenance": [],
      "toc_visible": true,
      "include_colab_link": true
    },
    "kernelspec": {
      "name": "python3",
      "display_name": "Python 3"
    },
    "language_info": {
      "name": "python"
    },
    "accelerator": "GPU"
  },
  "cells": [
    {
      "cell_type": "markdown",
      "metadata": {
        "id": "view-in-github",
        "colab_type": "text"
      },
      "source": [
        "<a href=\"https://colab.research.google.com/github/ngzhankang/finalYearProjectUOB/blob/main/NLP.ipynb\" target=\"_parent\"><img src=\"https://colab.research.google.com/assets/colab-badge.svg\" alt=\"Open In Colab\"/></a>"
      ]
    },
    {
      "cell_type": "markdown",
      "metadata": {
        "id": "C4WG19GGjVCN"
      },
      "source": [
        "# FINAL YEAR PROJECT (EDA)\n",
        "Done by : \n",
        "- P1935785 Ang Yak Hng\n",
        "- P1932964 Teo Swee Hong Winson\n",
        "- P1935727 Ng Zhan Kang\n",
        "- P1935488 Triston Loh\n",
        "- P1935602 Ng Ao Yang\n",
        "\n",
        "Class of DIT/FT/3A/05\n"
      ]
    },
    {
      "cell_type": "markdown",
      "metadata": {
        "id": "lTixCl0Yj3aC"
      },
      "source": [
        "---\n",
        "---"
      ]
    },
    {
      "cell_type": "markdown",
      "metadata": {
        "id": "Xa-0olzCkDtZ"
      },
      "source": [
        "# 1.Cloning Github To Colab Workspace"
      ]
    },
    {
      "cell_type": "markdown",
      "metadata": {
        "id": "B_no5sNXlBZ_"
      },
      "source": [
        "<div class=\"alert alert-block alert-danger\">\n",
        "    <b>ATTENTION:</b> The entire section 1 is dedicated to users who are using google colab to do the entire project. This entire process clones the private repository directly into the temporary google colab workspace. Google colab user are to repeat this same proccess whenever in a new session. Users who do not use colab to do this project CAN OMIT THE ENTIRE SECTION 1. \n",
        "</div>"
      ]
    },
    {
      "cell_type": "markdown",
      "metadata": {
        "id": "B-ZvXSUPkPBq"
      },
      "source": [
        "### 1.1. Configurating SSH keys for GitHub and Colab connection\n",
        "\n",
        "---\n",
        "\n",
        "This entire section can be omitted if users are not using Google Colab at all."
      ]
    },
    {
      "cell_type": "code",
      "metadata": {
        "id": "JH5jhDiOliB2",
        "colab": {
          "base_uri": "https://localhost:8080/"
        },
        "outputId": "10607866-c156-4bec-f4bd-37b4e2b9d608"
      },
      "source": [
        "!ssh-keygen -t rsa -b 4096"
      ],
      "execution_count": 1,
      "outputs": [
        {
          "output_type": "stream",
          "text": [
            "Generating public/private rsa key pair.\n",
            "Enter file in which to save the key (/root/.ssh/id_rsa): \n",
            "Created directory '/root/.ssh'.\n",
            "Enter passphrase (empty for no passphrase): \n",
            "Enter same passphrase again: \n",
            "Your identification has been saved in /root/.ssh/id_rsa.\n",
            "Your public key has been saved in /root/.ssh/id_rsa.pub.\n",
            "The key fingerprint is:\n",
            "SHA256:BoJaviNAFdNXrZL+1Gh53nEEXsHhQULaxLfZGaGu2Lc root@3a360f53b881\n",
            "The key's randomart image is:\n",
            "+---[RSA 4096]----+\n",
            "|   +o   ... o+o*+|\n",
            "|  .... .   .+o+=.|\n",
            "| .o . o . ...o+.*|\n",
            "|.+   . + .  .. =.|\n",
            "|o .   . S +  ..  |\n",
            "|.  .   o =oo.. . |\n",
            "|. o     +.oo..o  |\n",
            "| . .     . ....  |\n",
            "|             E   |\n",
            "+----[SHA256]-----+\n"
          ],
          "name": "stdout"
        }
      ]
    },
    {
      "cell_type": "markdown",
      "metadata": {
        "id": "ujcbhDqDmqP7"
      },
      "source": [
        "<div class=\"alert alert-block alert-danger\">\n",
        "    <b>ATTENTION:</b> When prompted for a set of informations such as \"Enter a file in which to save the key...\", please press enter and DO NOT type in anything.\n",
        "</div>"
      ]
    },
    {
      "cell_type": "code",
      "metadata": {
        "colab": {
          "base_uri": "https://localhost:8080/"
        },
        "id": "AUsKDe9tm0hQ",
        "outputId": "e388fd6d-2ee9-4673-916f-bd6c7ef9d75d"
      },
      "source": [
        "!ssh-keyscan -t rsa github.com >> ~/.ssh/known_hosts"
      ],
      "execution_count": 2,
      "outputs": [
        {
          "output_type": "stream",
          "text": [
            "# github.com:22 SSH-2.0-babeld-10d0a39d\n"
          ],
          "name": "stdout"
        }
      ]
    },
    {
      "cell_type": "code",
      "metadata": {
        "colab": {
          "base_uri": "https://localhost:8080/"
        },
        "id": "sc7qLuG1m-9h",
        "outputId": "6213f813-aec9-482a-8aa4-e5c1f6f4370b"
      },
      "source": [
        "!cat /root/.ssh/id_rsa.pub"
      ],
      "execution_count": 3,
      "outputs": [
        {
          "output_type": "stream",
          "text": [
            "ssh-rsa AAAAB3NzaC1yc2EAAAADAQABAAACAQDEBVpgheFflcmWIPUoLDsPhWiAYP/KCvvTGsPf0LU0zVjRd6YxImNeN4qEN0OiJmZQhBaqDoYmVmaoCcTkXY/D/H29jTwJvBjNTseiFrEYDIja9st9ALxg7JLo5MuogJZYyoUajvywl1UHcf3BQhIFtG1zilrjMGl4ECR/di62rZE9WN8BTM7Le3896bKAqOnUYAlplsIY7qyJPNfxdyadzI70tuaOharD2keuovSjCQDkqHxJUPW7oTTyEoeF3hBhCMl9lvwL+7+icFHEY3DuX9Js0b9osQUOZl7r5qYS9cvk0FMmzvBWV1JNRLaUQtSMHpW9R36RJnr2ptcpljfzpa0DVjWSNgz5Pw59ZpRz64BSOpRORWib/lCsOaJ0/L8yv48y6Hi+wkWYp1Xp9v3GBVtU1z6z9h+xX4cO9Qua6hxi9YV8bT4gIY2RZrdv+nYdnsYAHoCpOjdJRXCKpMlcernjIJbkIXnVbrhEnDsnU/HWN+pNQuoj+PAXsB5lxZ1ZEhFcUAyL41bk6RKLEG1lE9tqJNVUO2+qungxeGaLw48TZ0+Qbceskf+BibjS/RXdTb9LiWUy/sXtZQi1NOxHAfb/j0QYTNZvhVeWxmA/J5ehtWIr/ymjLtRWUDDQrOO4U/RsVlcVbxRU2eTeSkEbbwCtLLeksLllOhbFhA+SLQ== root@3a360f53b881\n"
          ],
          "name": "stdout"
        }
      ]
    },
    {
      "cell_type": "markdown",
      "metadata": {
        "id": "iSwt6wnDnSjx"
      },
      "source": [
        "<div class=\"alert alert-block alert-danger\">\n",
        "    <b>ATTENTION:</b> After the key has been generated, please copy the entire key. Navigate to your Github Account > Profile Picture > Settings > SSH and GPG keys > New SSH Keys. Paste the generated key into the blank and lable it for your own convenience.\n",
        "</div>"
      ]
    },
    {
      "cell_type": "markdown",
      "metadata": {
        "id": "Z_rpok3voY8A"
      },
      "source": [
        "### 1.2. Testing SSH keys for GitHub and Colab connection\n",
        "\n",
        "---\n",
        "\n",
        "This entire section can be omitted if users are not using Google Colab at all."
      ]
    },
    {
      "cell_type": "code",
      "metadata": {
        "colab": {
          "base_uri": "https://localhost:8080/"
        },
        "id": "cYEnWGicnnC0",
        "outputId": "7cbaf33c-9755-4f53-e52f-24cf98c80ed3"
      },
      "source": [
        "!ssh -T git@github.com"
      ],
      "execution_count": 4,
      "outputs": [
        {
          "output_type": "stream",
          "text": [
            "Warning: Permanently added the RSA host key for IP address '13.114.40.48' to the list of known hosts.\r\n",
            "Hi ngzhankang! You've successfully authenticated, but GitHub does not provide shell access.\n"
          ],
          "name": "stdout"
        }
      ]
    },
    {
      "cell_type": "markdown",
      "metadata": {
        "id": "0gtHa7l8ID8u"
      },
      "source": [
        "### 1.3. Clone Private Repository\n",
        "\n",
        "---\n",
        "\n",
        "This entire section can be omitted if users are not using Google Colab at all."
      ]
    },
    {
      "cell_type": "code",
      "metadata": {
        "id": "y7c65FyJIEXu",
        "colab": {
          "base_uri": "https://localhost:8080/"
        },
        "outputId": "f4a8c4a8-fd92-4a79-93f3-3646ee434c6f"
      },
      "source": [
        "!git clone git@github.com:ngzhankang/finalYearProjectUOB.git"
      ],
      "execution_count": 5,
      "outputs": [
        {
          "output_type": "stream",
          "text": [
            "Cloning into 'finalYearProjectUOB'...\n",
            "remote: Enumerating objects: 46, done.\u001b[K\n",
            "remote: Counting objects: 100% (46/46), done.\u001b[K\n",
            "remote: Compressing objects: 100% (45/45), done.\u001b[K\n",
            "remote: Total 46 (delta 14), reused 3 (delta 1), pack-reused 0\u001b[K\n",
            "Receiving objects: 100% (46/46), 264.49 KiB | 605.00 KiB/s, done.\n",
            "Resolving deltas: 100% (14/14), done.\n"
          ],
          "name": "stdout"
        }
      ]
    },
    {
      "cell_type": "markdown",
      "metadata": {
        "id": "lpQsykkUqHOB"
      },
      "source": [
        "---\n",
        "---"
      ]
    },
    {
      "cell_type": "markdown",
      "metadata": {
        "id": "D74lUe_QF3kh"
      },
      "source": [
        "# 2.Data Importing"
      ]
    },
    {
      "cell_type": "markdown",
      "metadata": {
        "id": "6VbDZ5ymKTR6"
      },
      "source": [
        "### 2.1. Load the libraries\n",
        "\n",
        "---\n",
        "\n",
        "Load the necessary libraries for usage in the entire project."
      ]
    },
    {
      "cell_type": "code",
      "metadata": {
        "id": "hMBiWwY8sBBl",
        "outputId": "2b0f9cbf-a469-44a8-a153-1dc9597fb3ab",
        "colab": {
          "base_uri": "https://localhost:8080/"
        }
      },
      "source": [
        "! nvcc --version"
      ],
      "execution_count": 10,
      "outputs": [
        {
          "output_type": "stream",
          "text": [
            "nvcc: NVIDIA (R) Cuda compiler driver\n",
            "Copyright (c) 2005-2020 NVIDIA Corporation\n",
            "Built on Wed_Jul_22_19:09:09_PDT_2020\n",
            "Cuda compilation tools, release 11.0, V11.0.221\n",
            "Build cuda_11.0_bu.TC445_37.28845127_0\n"
          ],
          "name": "stdout"
        }
      ]
    },
    {
      "cell_type": "markdown",
      "metadata": {
        "id": "4FacXEFOsC04"
      },
      "source": [
        "### 2.2. Check CUDA Version\n",
        "\n",
        "---\n",
        "\n",
        "We need to check the cuda version to download the correct version of spaCy for this application."
      ]
    },
    {
      "cell_type": "code",
      "metadata": {
        "id": "U_20qw2UohOC"
      },
      "source": [
        "# suppress future warnings\n",
        "import warnings\n",
        "warnings.filterwarnings('ignore')"
      ],
      "execution_count": 11,
      "outputs": []
    },
    {
      "cell_type": "code",
      "metadata": {
        "colab": {
          "base_uri": "https://localhost:8080/"
        },
        "id": "EldCY0t9v2uV",
        "outputId": "a5e8c823-f62d-4792-c492-5629c216c811"
      },
      "source": [
        "# install necessary libraries that might not be found\n",
        "!pip install -U pip setuptools wheel\n",
        "!pip install -U spacy[cuda110,transformers,lookups]\n",
        "!python -m spacy download en_core_web_trf\n",
        "\n",
        "# check versions of libraries we are going to use\n",
        "%tensorflow_version 2.x\n",
        "import os\n",
        "import tensorflow\n",
        "import sklearn\n",
        "import numpy as np\n",
        "import pandas as pd\n",
        "import seaborn as sns\n",
        "import matplotlib\n",
        "import spacy\n",
        "import platform\n",
        "\n",
        "message=\"        Versions        \"\n",
        "print(\"*\"*len(message))\n",
        "print(message)\n",
        "print(\"*\"*len(message))\n",
        "print(\"Tensorflow version={}\".format(tensorflow.__version__))\n",
        "print(\"Keras version={}\".format(tensorflow.keras.__version__))\n",
        "print(\"Sklearn version={}\".format(sklearn.__version__))\n",
        "print(\"Numpy version={}\".format(np.__version__))\n",
        "print(\"Pandas version={}\".format(pd.__version__))\n",
        "print(\"Seaborn version={}\".format(sns.__version__))\n",
        "print(\"Matplotlib version={}\".format(matplotlib.__version__))\n",
        "print(\"SpaCy version={}\".format(spacy.__version__))\n",
        "print(\"Python version={}\".format(platform.python_version()))"
      ],
      "execution_count": 12,
      "outputs": [
        {
          "output_type": "stream",
          "text": [
            "Collecting pip\n",
            "\u001b[?25l  Downloading https://files.pythonhosted.org/packages/cd/6f/43037c7bcc8bd8ba7c9074256b1a11596daa15555808ec748048c1507f08/pip-21.1.1-py3-none-any.whl (1.5MB)\n",
            "\r\u001b[K     |▏                               | 10kB 20.8MB/s eta 0:00:01\r\u001b[K     |▍                               | 20kB 10.7MB/s eta 0:00:01\r\u001b[K     |▋                               | 30kB 8.4MB/s eta 0:00:01\r\u001b[K     |▉                               | 40kB 7.5MB/s eta 0:00:01\r\u001b[K     |█                               | 51kB 4.2MB/s eta 0:00:01\r\u001b[K     |█▎                              | 61kB 4.7MB/s eta 0:00:01\r\u001b[K     |█▌                              | 71kB 4.8MB/s eta 0:00:01\r\u001b[K     |█▊                              | 81kB 5.2MB/s eta 0:00:01\r\u001b[K     |██                              | 92kB 5.4MB/s eta 0:00:01\r\u001b[K     |██▏                             | 102kB 5.6MB/s eta 0:00:01\r\u001b[K     |██▎                             | 112kB 5.6MB/s eta 0:00:01\r\u001b[K     |██▌                             | 122kB 5.6MB/s eta 0:00:01\r\u001b[K     |██▊                             | 133kB 5.6MB/s eta 0:00:01\r\u001b[K     |███                             | 143kB 5.6MB/s eta 0:00:01\r\u001b[K     |███▏                            | 153kB 5.6MB/s eta 0:00:01\r\u001b[K     |███▍                            | 163kB 5.6MB/s eta 0:00:01\r\u001b[K     |███▋                            | 174kB 5.6MB/s eta 0:00:01\r\u001b[K     |███▉                            | 184kB 5.6MB/s eta 0:00:01\r\u001b[K     |████                            | 194kB 5.6MB/s eta 0:00:01\r\u001b[K     |████▎                           | 204kB 5.6MB/s eta 0:00:01\r\u001b[K     |████▌                           | 215kB 5.6MB/s eta 0:00:01\r\u001b[K     |████▋                           | 225kB 5.6MB/s eta 0:00:01\r\u001b[K     |████▉                           | 235kB 5.6MB/s eta 0:00:01\r\u001b[K     |█████                           | 245kB 5.6MB/s eta 0:00:01\r\u001b[K     |█████▎                          | 256kB 5.6MB/s eta 0:00:01\r\u001b[K     |█████▌                          | 266kB 5.6MB/s eta 0:00:01\r\u001b[K     |█████▊                          | 276kB 5.6MB/s eta 0:00:01\r\u001b[K     |██████                          | 286kB 5.6MB/s eta 0:00:01\r\u001b[K     |██████▏                         | 296kB 5.6MB/s eta 0:00:01\r\u001b[K     |██████▍                         | 307kB 5.6MB/s eta 0:00:01\r\u001b[K     |██████▋                         | 317kB 5.6MB/s eta 0:00:01\r\u001b[K     |██████▊                         | 327kB 5.6MB/s eta 0:00:01\r\u001b[K     |███████                         | 337kB 5.6MB/s eta 0:00:01\r\u001b[K     |███████▏                        | 348kB 5.6MB/s eta 0:00:01\r\u001b[K     |███████▍                        | 358kB 5.6MB/s eta 0:00:01\r\u001b[K     |███████▋                        | 368kB 5.6MB/s eta 0:00:01\r\u001b[K     |███████▉                        | 378kB 5.6MB/s eta 0:00:01\r\u001b[K     |████████                        | 389kB 5.6MB/s eta 0:00:01\r\u001b[K     |████████▎                       | 399kB 5.6MB/s eta 0:00:01\r\u001b[K     |████████▌                       | 409kB 5.6MB/s eta 0:00:01\r\u001b[K     |████████▊                       | 419kB 5.6MB/s eta 0:00:01\r\u001b[K     |█████████                       | 430kB 5.6MB/s eta 0:00:01\r\u001b[K     |█████████                       | 440kB 5.6MB/s eta 0:00:01\r\u001b[K     |█████████▎                      | 450kB 5.6MB/s eta 0:00:01\r\u001b[K     |█████████▌                      | 460kB 5.6MB/s eta 0:00:01\r\u001b[K     |█████████▊                      | 471kB 5.6MB/s eta 0:00:01\r\u001b[K     |██████████                      | 481kB 5.6MB/s eta 0:00:01\r\u001b[K     |██████████▏                     | 491kB 5.6MB/s eta 0:00:01\r\u001b[K     |██████████▍                     | 501kB 5.6MB/s eta 0:00:01\r\u001b[K     |██████████▋                     | 512kB 5.6MB/s eta 0:00:01\r\u001b[K     |██████████▉                     | 522kB 5.6MB/s eta 0:00:01\r\u001b[K     |███████████                     | 532kB 5.6MB/s eta 0:00:01\r\u001b[K     |███████████▏                    | 542kB 5.6MB/s eta 0:00:01\r\u001b[K     |███████████▍                    | 552kB 5.6MB/s eta 0:00:01\r\u001b[K     |███████████▋                    | 563kB 5.6MB/s eta 0:00:01\r\u001b[K     |███████████▉                    | 573kB 5.6MB/s eta 0:00:01\r\u001b[K     |████████████                    | 583kB 5.6MB/s eta 0:00:01\r\u001b[K     |████████████▎                   | 593kB 5.6MB/s eta 0:00:01\r\u001b[K     |████████████▌                   | 604kB 5.6MB/s eta 0:00:01\r\u001b[K     |████████████▊                   | 614kB 5.6MB/s eta 0:00:01\r\u001b[K     |█████████████                   | 624kB 5.6MB/s eta 0:00:01\r\u001b[K     |█████████████▏                  | 634kB 5.6MB/s eta 0:00:01\r\u001b[K     |█████████████▍                  | 645kB 5.6MB/s eta 0:00:01\r\u001b[K     |█████████████▌                  | 655kB 5.6MB/s eta 0:00:01\r\u001b[K     |█████████████▊                  | 665kB 5.6MB/s eta 0:00:01\r\u001b[K     |██████████████                  | 675kB 5.6MB/s eta 0:00:01\r\u001b[K     |██████████████▏                 | 686kB 5.6MB/s eta 0:00:01\r\u001b[K     |██████████████▍                 | 696kB 5.6MB/s eta 0:00:01\r\u001b[K     |██████████████▋                 | 706kB 5.6MB/s eta 0:00:01\r\u001b[K     |██████████████▉                 | 716kB 5.6MB/s eta 0:00:01\r\u001b[K     |███████████████                 | 727kB 5.6MB/s eta 0:00:01\r\u001b[K     |███████████████▎                | 737kB 5.6MB/s eta 0:00:01\r\u001b[K     |███████████████▌                | 747kB 5.6MB/s eta 0:00:01\r\u001b[K     |███████████████▊                | 757kB 5.6MB/s eta 0:00:01\r\u001b[K     |███████████████▉                | 768kB 5.6MB/s eta 0:00:01\r\u001b[K     |████████████████                | 778kB 5.6MB/s eta 0:00:01\r\u001b[K     |████████████████▎               | 788kB 5.6MB/s eta 0:00:01\r\u001b[K     |████████████████▌               | 798kB 5.6MB/s eta 0:00:01\r\u001b[K     |████████████████▊               | 808kB 5.6MB/s eta 0:00:01\r\u001b[K     |█████████████████               | 819kB 5.6MB/s eta 0:00:01\r\u001b[K     |█████████████████▏              | 829kB 5.6MB/s eta 0:00:01\r\u001b[K     |█████████████████▍              | 839kB 5.6MB/s eta 0:00:01\r\u001b[K     |█████████████████▋              | 849kB 5.6MB/s eta 0:00:01\r\u001b[K     |█████████████████▉              | 860kB 5.6MB/s eta 0:00:01\r\u001b[K     |██████████████████              | 870kB 5.6MB/s eta 0:00:01\r\u001b[K     |██████████████████▏             | 880kB 5.6MB/s eta 0:00:01\r\u001b[K     |██████████████████▍             | 890kB 5.6MB/s eta 0:00:01\r\u001b[K     |██████████████████▋             | 901kB 5.6MB/s eta 0:00:01\r\u001b[K     |██████████████████▉             | 911kB 5.6MB/s eta 0:00:01\r\u001b[K     |███████████████████             | 921kB 5.6MB/s eta 0:00:01\r\u001b[K     |███████████████████▎            | 931kB 5.6MB/s eta 0:00:01\r\u001b[K     |███████████████████▌            | 942kB 5.6MB/s eta 0:00:01\r\u001b[K     |███████████████████▊            | 952kB 5.6MB/s eta 0:00:01\r\u001b[K     |████████████████████            | 962kB 5.6MB/s eta 0:00:01\r\u001b[K     |████████████████████▏           | 972kB 5.6MB/s eta 0:00:01\r\u001b[K     |████████████████████▎           | 983kB 5.6MB/s eta 0:00:01\r\u001b[K     |████████████████████▌           | 993kB 5.6MB/s eta 0:00:01\r\u001b[K     |████████████████████▊           | 1.0MB 5.6MB/s eta 0:00:01\r\u001b[K     |█████████████████████           | 1.0MB 5.6MB/s eta 0:00:01\r\u001b[K     |█████████████████████▏          | 1.0MB 5.6MB/s eta 0:00:01\r\u001b[K     |█████████████████████▍          | 1.0MB 5.6MB/s eta 0:00:01\r\u001b[K     |█████████████████████▋          | 1.0MB 5.6MB/s eta 0:00:01\r\u001b[K     |█████████████████████▉          | 1.1MB 5.6MB/s eta 0:00:01\r\u001b[K     |██████████████████████          | 1.1MB 5.6MB/s eta 0:00:01\r\u001b[K     |██████████████████████▎         | 1.1MB 5.6MB/s eta 0:00:01\r\u001b[K     |██████████████████████▍         | 1.1MB 5.6MB/s eta 0:00:01\r\u001b[K     |██████████████████████▋         | 1.1MB 5.6MB/s eta 0:00:01\r\u001b[K     |██████████████████████▉         | 1.1MB 5.6MB/s eta 0:00:01\r\u001b[K     |███████████████████████         | 1.1MB 5.6MB/s eta 0:00:01\r\u001b[K     |███████████████████████▎        | 1.1MB 5.6MB/s eta 0:00:01\r\u001b[K     |███████████████████████▌        | 1.1MB 5.6MB/s eta 0:00:01\r\u001b[K     |███████████████████████▊        | 1.1MB 5.6MB/s eta 0:00:01\r\u001b[K     |████████████████████████        | 1.2MB 5.6MB/s eta 0:00:01\r\u001b[K     |████████████████████████▏       | 1.2MB 5.6MB/s eta 0:00:01\r\u001b[K     |████████████████████████▍       | 1.2MB 5.6MB/s eta 0:00:01\r\u001b[K     |████████████████████████▋       | 1.2MB 5.6MB/s eta 0:00:01\r\u001b[K     |████████████████████████▊       | 1.2MB 5.6MB/s eta 0:00:01\r\u001b[K     |█████████████████████████       | 1.2MB 5.6MB/s eta 0:00:01\r\u001b[K     |█████████████████████████▏      | 1.2MB 5.6MB/s eta 0:00:01\r\u001b[K     |█████████████████████████▍      | 1.2MB 5.6MB/s eta 0:00:01\r\u001b[K     |█████████████████████████▋      | 1.2MB 5.6MB/s eta 0:00:01\r\u001b[K     |█████████████████████████▉      | 1.2MB 5.6MB/s eta 0:00:01\r\u001b[K     |██████████████████████████      | 1.3MB 5.6MB/s eta 0:00:01\r\u001b[K     |██████████████████████████▎     | 1.3MB 5.6MB/s eta 0:00:01\r\u001b[K     |██████████████████████████▌     | 1.3MB 5.6MB/s eta 0:00:01\r\u001b[K     |██████████████████████████▊     | 1.3MB 5.6MB/s eta 0:00:01\r\u001b[K     |███████████████████████████     | 1.3MB 5.6MB/s eta 0:00:01\r\u001b[K     |███████████████████████████     | 1.3MB 5.6MB/s eta 0:00:01\r\u001b[K     |███████████████████████████▎    | 1.3MB 5.6MB/s eta 0:00:01\r\u001b[K     |███████████████████████████▌    | 1.3MB 5.6MB/s eta 0:00:01\r\u001b[K     |███████████████████████████▊    | 1.3MB 5.6MB/s eta 0:00:01\r\u001b[K     |████████████████████████████    | 1.4MB 5.6MB/s eta 0:00:01\r\u001b[K     |████████████████████████████▏   | 1.4MB 5.6MB/s eta 0:00:01\r\u001b[K     |████████████████████████████▍   | 1.4MB 5.6MB/s eta 0:00:01\r\u001b[K     |████████████████████████████▋   | 1.4MB 5.6MB/s eta 0:00:01\r\u001b[K     |████████████████████████████▉   | 1.4MB 5.6MB/s eta 0:00:01\r\u001b[K     |█████████████████████████████   | 1.4MB 5.6MB/s eta 0:00:01\r\u001b[K     |█████████████████████████████▏  | 1.4MB 5.6MB/s eta 0:00:01\r\u001b[K     |█████████████████████████████▍  | 1.4MB 5.6MB/s eta 0:00:01\r\u001b[K     |█████████████████████████████▋  | 1.4MB 5.6MB/s eta 0:00:01\r\u001b[K     |█████████████████████████████▉  | 1.4MB 5.6MB/s eta 0:00:01\r\u001b[K     |██████████████████████████████  | 1.5MB 5.6MB/s eta 0:00:01\r\u001b[K     |██████████████████████████████▎ | 1.5MB 5.6MB/s eta 0:00:01\r\u001b[K     |██████████████████████████████▌ | 1.5MB 5.6MB/s eta 0:00:01\r\u001b[K     |██████████████████████████████▊ | 1.5MB 5.6MB/s eta 0:00:01\r\u001b[K     |███████████████████████████████ | 1.5MB 5.6MB/s eta 0:00:01\r\u001b[K     |███████████████████████████████▏| 1.5MB 5.6MB/s eta 0:00:01\r\u001b[K     |███████████████████████████████▍| 1.5MB 5.6MB/s eta 0:00:01\r\u001b[K     |███████████████████████████████▌| 1.5MB 5.6MB/s eta 0:00:01\r\u001b[K     |███████████████████████████████▊| 1.5MB 5.6MB/s eta 0:00:01\r\u001b[K     |████████████████████████████████| 1.5MB 5.6MB/s eta 0:00:01\r\u001b[K     |████████████████████████████████| 1.6MB 5.6MB/s \n",
            "\u001b[?25hRequirement already up-to-date: setuptools in /usr/local/lib/python3.7/dist-packages (56.0.0)\n",
            "Requirement already up-to-date: wheel in /usr/local/lib/python3.7/dist-packages (0.36.2)\n",
            "Installing collected packages: pip\n",
            "  Found existing installation: pip 19.3.1\n",
            "    Uninstalling pip-19.3.1:\n",
            "      Successfully uninstalled pip-19.3.1\n",
            "Successfully installed pip-21.1.1\n",
            "Requirement already satisfied: spacy[cuda110,lookups,transformers] in /usr/local/lib/python3.7/dist-packages (2.2.4)\n",
            "\u001b[33mWARNING: spacy 2.2.4 does not provide the extra 'cuda110'\u001b[0m\n",
            "\u001b[33mWARNING: spacy 2.2.4 does not provide the extra 'transformers'\u001b[0m\n",
            "Requirement already satisfied: thinc==7.4.0 in /usr/local/lib/python3.7/dist-packages (from spacy[cuda110,lookups,transformers]) (7.4.0)\n",
            "Requirement already satisfied: srsly<1.1.0,>=1.0.2 in /usr/local/lib/python3.7/dist-packages (from spacy[cuda110,lookups,transformers]) (1.0.5)\n",
            "Requirement already satisfied: plac<1.2.0,>=0.9.6 in /usr/local/lib/python3.7/dist-packages (from spacy[cuda110,lookups,transformers]) (1.1.3)\n",
            "Requirement already satisfied: preshed<3.1.0,>=3.0.2 in /usr/local/lib/python3.7/dist-packages (from spacy[cuda110,lookups,transformers]) (3.0.5)\n",
            "Requirement already satisfied: catalogue<1.1.0,>=0.0.7 in /usr/local/lib/python3.7/dist-packages (from spacy[cuda110,lookups,transformers]) (1.0.0)\n",
            "Requirement already satisfied: setuptools in /usr/local/lib/python3.7/dist-packages (from spacy[cuda110,lookups,transformers]) (56.0.0)\n",
            "Requirement already satisfied: cymem<2.1.0,>=2.0.2 in /usr/local/lib/python3.7/dist-packages (from spacy[cuda110,lookups,transformers]) (2.0.5)\n",
            "Requirement already satisfied: numpy>=1.15.0 in /usr/local/lib/python3.7/dist-packages (from spacy[cuda110,lookups,transformers]) (1.19.5)\n",
            "Requirement already satisfied: tqdm<5.0.0,>=4.38.0 in /usr/local/lib/python3.7/dist-packages (from spacy[cuda110,lookups,transformers]) (4.41.1)\n",
            "Requirement already satisfied: requests<3.0.0,>=2.13.0 in /usr/local/lib/python3.7/dist-packages (from spacy[cuda110,lookups,transformers]) (2.23.0)\n",
            "Requirement already satisfied: murmurhash<1.1.0,>=0.28.0 in /usr/local/lib/python3.7/dist-packages (from spacy[cuda110,lookups,transformers]) (1.0.5)\n",
            "Requirement already satisfied: wasabi<1.1.0,>=0.4.0 in /usr/local/lib/python3.7/dist-packages (from spacy[cuda110,lookups,transformers]) (0.8.2)\n",
            "Requirement already satisfied: blis<0.5.0,>=0.4.0 in /usr/local/lib/python3.7/dist-packages (from spacy[cuda110,lookups,transformers]) (0.4.1)\n",
            "Collecting spacy-lookups-data<0.2.0,>=0.0.5\n",
            "  Downloading spacy_lookups_data-0.1.0.tar.gz (28.0 MB)\n",
            "\u001b[K     |████████████████████████████████| 28.0 MB 115 kB/s \n",
            "\u001b[?25hRequirement already satisfied: importlib-metadata>=0.20 in /usr/local/lib/python3.7/dist-packages (from catalogue<1.1.0,>=0.0.7->spacy[cuda110,lookups,transformers]) (3.10.1)\n",
            "Requirement already satisfied: typing-extensions>=3.6.4 in /usr/local/lib/python3.7/dist-packages (from importlib-metadata>=0.20->catalogue<1.1.0,>=0.0.7->spacy[cuda110,lookups,transformers]) (3.7.4.3)\n",
            "Requirement already satisfied: zipp>=0.5 in /usr/local/lib/python3.7/dist-packages (from importlib-metadata>=0.20->catalogue<1.1.0,>=0.0.7->spacy[cuda110,lookups,transformers]) (3.4.1)\n",
            "Requirement already satisfied: urllib3!=1.25.0,!=1.25.1,<1.26,>=1.21.1 in /usr/local/lib/python3.7/dist-packages (from requests<3.0.0,>=2.13.0->spacy[cuda110,lookups,transformers]) (1.24.3)\n",
            "Requirement already satisfied: idna<3,>=2.5 in /usr/local/lib/python3.7/dist-packages (from requests<3.0.0,>=2.13.0->spacy[cuda110,lookups,transformers]) (2.10)\n",
            "Requirement already satisfied: chardet<4,>=3.0.2 in /usr/local/lib/python3.7/dist-packages (from requests<3.0.0,>=2.13.0->spacy[cuda110,lookups,transformers]) (3.0.4)\n",
            "Requirement already satisfied: certifi>=2017.4.17 in /usr/local/lib/python3.7/dist-packages (from requests<3.0.0,>=2.13.0->spacy[cuda110,lookups,transformers]) (2020.12.5)\n",
            "Building wheels for collected packages: spacy-lookups-data\n",
            "  Building wheel for spacy-lookups-data (setup.py) ... \u001b[?25l\u001b[?25hdone\n",
            "  Created wheel for spacy-lookups-data: filename=spacy_lookups_data-0.1.0-py2.py3-none-any.whl size=28052145 sha256=9b985da5d99288b25c59c4b853922aad2751ceafc8cc3e3dabef0b7187a91e4c\n",
            "  Stored in directory: /root/.cache/pip/wheels/b6/09/83/36dd0224ce32dcdf5e218b36362235ca2e50cece60a966ae1b\n",
            "Successfully built spacy-lookups-data\n",
            "Installing collected packages: spacy-lookups-data\n",
            "Successfully installed spacy-lookups-data-0.1.0\n",
            "\u001b[33mWARNING: Running pip as root will break packages and permissions. You should install packages reliably by using venv: https://pip.pypa.io/warnings/venv\u001b[0m\n",
            "\n",
            "\u001b[38;5;1m✘ No compatible model found for 'en_core_web_trf' (spaCy v2.2.4).\u001b[0m\n",
            "\n",
            "************************\n",
            "        Versions        \n",
            "************************\n",
            "Tensorflow version=2.4.1\n",
            "Keras version=2.4.0\n",
            "Sklearn version=0.22.2.post1\n",
            "Numpy version=1.19.5\n",
            "Pandas version=1.1.5\n",
            "Seaborn version=0.11.1\n",
            "Matplotlib version=3.2.2\n",
            "SpaCy version=2.2.4\n",
            "Python version=3.7.10\n"
          ],
          "name": "stdout"
        }
      ]
    },
    {
      "cell_type": "markdown",
      "metadata": {
        "id": "leKoAEG_KWf8"
      },
      "source": [
        "### 2.2. Load the modules\n",
        "\n",
        "---\n",
        "\n",
        "Load the necessary modules for usage in the entire project."
      ]
    },
    {
      "cell_type": "code",
      "metadata": {
        "colab": {
          "base_uri": "https://localhost:8080/"
        },
        "id": "U04wypEUv2p1",
        "outputId": "48a757d1-787c-4e4e-b4a7-0b8da69606b4"
      },
      "source": [
        "# importing necessary modules for this project\n",
        "import tensorflow as tf\n",
        "\n",
        "import pandas as pd\n",
        "import matplotlib.pyplot as plt\n",
        "import seaborn as sns\n",
        "import numpy as np\n",
        "import string\n",
        "import spacy\n",
        "\n",
        "# configurate spacy settings\n",
        "nlp = spacy.load(\"en\")\n",
        "\n",
        "\n",
        "\n",
        "\n",
        "\n",
        "\n",
        "\n",
        "\n",
        "# we need these spacy modules to do data cleansing\n",
        "nltk.download('punkt')\n",
        "from nltk.tokenize import word_tokenize\n",
        "nltk.download('stopwords')\n",
        "from nltk.corpus import stopwords\n",
        "nltk.download('averaged_perceptron_tagger')\n",
        "nltk.download('wordnet') \n",
        "from nltk.corpus import wordnet\n",
        "from nltk.stem import WordNetLemmatizer\n",
        "\n",
        "%matplotlib inline"
      ],
      "execution_count": null,
      "outputs": [
        {
          "output_type": "stream",
          "text": [
            "[nltk_data] Downloading package punkt to /root/nltk_data...\n",
            "[nltk_data]   Package punkt is already up-to-date!\n",
            "[nltk_data] Downloading package stopwords to /root/nltk_data...\n",
            "[nltk_data]   Package stopwords is already up-to-date!\n",
            "[nltk_data] Downloading package averaged_perceptron_tagger to\n",
            "[nltk_data]     /root/nltk_data...\n",
            "[nltk_data]   Package averaged_perceptron_tagger is already up-to-\n",
            "[nltk_data]       date!\n",
            "[nltk_data] Downloading package wordnet to /root/nltk_data...\n",
            "[nltk_data]   Package wordnet is already up-to-date!\n"
          ],
          "name": "stdout"
        }
      ]
    },
    {
      "cell_type": "markdown",
      "metadata": {
        "id": "ca1X-gSJKap_"
      },
      "source": [
        "### 2.3. Load the dataset\n",
        "\n",
        "---\n",
        "\n",
        "Load the dataset for usage in the entire project."
      ]
    },
    {
      "cell_type": "code",
      "metadata": {
        "id": "owSKzElwKdh1",
        "colab": {
          "base_uri": "https://localhost:8080/",
          "height": 502
        },
        "outputId": "9b3f51fa-11a2-46cb-ea3e-6dcc2a38cc14"
      },
      "source": [
        "# use pandas to read the excel file and populate it in a pandas dataframe\n",
        "companies = pd.read_excel('./Company_Dataset_Batch1.3_TRIAL.xlsx')\n",
        "\n",
        "# see the top 10 companies that are populated in the dataframe\n",
        "companies.head(10)"
      ],
      "execution_count": null,
      "outputs": [
        {
          "output_type": "execute_result",
          "data": {
            "text/html": [
              "<div>\n",
              "<style scoped>\n",
              "    .dataframe tbody tr th:only-of-type {\n",
              "        vertical-align: middle;\n",
              "    }\n",
              "\n",
              "    .dataframe tbody tr th {\n",
              "        vertical-align: top;\n",
              "    }\n",
              "\n",
              "    .dataframe thead th {\n",
              "        text-align: right;\n",
              "    }\n",
              "</style>\n",
              "<table border=\"1\" class=\"dataframe\">\n",
              "  <thead>\n",
              "    <tr style=\"text-align: right;\">\n",
              "      <th></th>\n",
              "      <th>Company_ID</th>\n",
              "      <th>Company</th>\n",
              "      <th>Country</th>\n",
              "      <th>PIC</th>\n",
              "      <th>Sector</th>\n",
              "      <th>Subsector</th>\n",
              "      <th>Archetype</th>\n",
              "      <th>Valuechain</th>\n",
              "      <th>Websites</th>\n",
              "      <th>Company Profile Information</th>\n",
              "      <th>Remarks</th>\n",
              "    </tr>\n",
              "  </thead>\n",
              "  <tbody>\n",
              "    <tr>\n",
              "      <th>0</th>\n",
              "      <td>6659723700627433472</td>\n",
              "      <td>ANDERCO PTE LTD</td>\n",
              "      <td>SINGAPORE</td>\n",
              "      <td>NaN</td>\n",
              "      <td>CNI</td>\n",
              "      <td>buildings &amp; industrial</td>\n",
              "      <td>buildings &amp; industrial_contractor</td>\n",
              "      <td>MIDSTREAM</td>\n",
              "      <td>http://www.anderco.com.sg/our-products/project...</td>\n",
              "      <td>We specialize in design and building from dorm...</td>\n",
              "      <td>NaN</td>\n",
              "    </tr>\n",
              "    <tr>\n",
              "      <th>1</th>\n",
              "      <td>6856115970005237760</td>\n",
              "      <td>WEC ENGINEERS &amp; CONSTRUCTORS PTE LTD</td>\n",
              "      <td>SINGAPORE</td>\n",
              "      <td>NaN</td>\n",
              "      <td>CNI</td>\n",
              "      <td>buildings &amp; industrial</td>\n",
              "      <td>buildings &amp; industrial_contractor</td>\n",
              "      <td>MIDSTREAM</td>\n",
              "      <td>http://www.wec.com.sg/about.html</td>\n",
              "      <td>We have transformed ourselves into a specialis...</td>\n",
              "      <td>NaN</td>\n",
              "    </tr>\n",
              "    <tr>\n",
              "      <th>2</th>\n",
              "      <td>7369198031907269632</td>\n",
              "      <td>ECHO PORT INTERNATIONAL LIMITED</td>\n",
              "      <td>HONG KONG</td>\n",
              "      <td>NaN</td>\n",
              "      <td>TMT</td>\n",
              "      <td>consumer electronics</td>\n",
              "      <td>consumer electronics_distributor</td>\n",
              "      <td>DOWNSTREAM</td>\n",
              "      <td>https://www.made-in-china.com/showroom/echo-port</td>\n",
              "      <td>Echo Port is specialized in manufacturing CHES...</td>\n",
              "      <td>NaN</td>\n",
              "    </tr>\n",
              "    <tr>\n",
              "      <th>3</th>\n",
              "      <td>2902596962999106048</td>\n",
              "      <td>DEKORAMIK PERDANA,PT</td>\n",
              "      <td>INDONESIA</td>\n",
              "      <td>NaN</td>\n",
              "      <td>CNI</td>\n",
              "      <td>building material</td>\n",
              "      <td>building material_distributor</td>\n",
              "      <td>DOWNSTREAM</td>\n",
              "      <td>http://www.sandimas.co.id/en/about</td>\n",
              "      <td>Sandimas provides a wide range of commercial, ...</td>\n",
              "      <td>NaN</td>\n",
              "    </tr>\n",
              "    <tr>\n",
              "      <th>4</th>\n",
              "      <td>4869680436385200128</td>\n",
              "      <td>ELCA CONTRACT FLOORING PTE LTD</td>\n",
              "      <td>SINGAPORE</td>\n",
              "      <td>NaN</td>\n",
              "      <td>CNI</td>\n",
              "      <td>building material</td>\n",
              "      <td>building material_distributor</td>\n",
              "      <td>DOWNSTREAM</td>\n",
              "      <td>http://www.elca.com.sg/</td>\n",
              "      <td>Elca Contract Flooring Pte Ltd established in ...</td>\n",
              "      <td>NaN</td>\n",
              "    </tr>\n",
              "    <tr>\n",
              "      <th>5</th>\n",
              "      <td>2833793606053527552</td>\n",
              "      <td>SYNNEX (THAILAND) PUBLIC CO., LTD.</td>\n",
              "      <td>THAILAND</td>\n",
              "      <td>NaN</td>\n",
              "      <td>TMT</td>\n",
              "      <td>consumer electronics</td>\n",
              "      <td>consumer electronics_distributor</td>\n",
              "      <td>DOWNSTREAM</td>\n",
              "      <td>https://www.synnex.co.th/th/about/business.aspx</td>\n",
              "      <td>The Company distributes computers, computer pe...</td>\n",
              "      <td>NaN</td>\n",
              "    </tr>\n",
              "    <tr>\n",
              "      <th>6</th>\n",
              "      <td>815115935851177472</td>\n",
              "      <td>CAPPITECH ENGINEERING PTE LTD</td>\n",
              "      <td>SINGAPORE</td>\n",
              "      <td>NaN</td>\n",
              "      <td>TMT</td>\n",
              "      <td>consumer electronics</td>\n",
              "      <td>consumer electronics_distributor</td>\n",
              "      <td>DOWNSTREAM</td>\n",
              "      <td>https://sgpgrid.com/company-details/cappitech-...</td>\n",
              "      <td>CAPPITECH ENGINEERING is an ACRA-registered en...</td>\n",
              "      <td>NaN</td>\n",
              "    </tr>\n",
              "    <tr>\n",
              "      <th>7</th>\n",
              "      <td>7375353431500220416</td>\n",
              "      <td>CE-TEST AND MEASUREMENT (S) PTE LTD</td>\n",
              "      <td>SINGAPORE</td>\n",
              "      <td>NaN</td>\n",
              "      <td>CNI</td>\n",
              "      <td>cni_equipment suppliers</td>\n",
              "      <td>cni_equipment suppliers</td>\n",
              "      <td>MIDSTREAM</td>\n",
              "      <td>https://www.cetm.com.sg/content/4-about-us</td>\n",
              "      <td>In the year 2002, we formed a strategic allian...</td>\n",
              "      <td>NaN</td>\n",
              "    </tr>\n",
              "    <tr>\n",
              "      <th>8</th>\n",
              "      <td>5322820782371812352</td>\n",
              "      <td>QUEL INTERNATIONAL SDN BHD</td>\n",
              "      <td>MALAYSIA</td>\n",
              "      <td>NaN</td>\n",
              "      <td>CNI</td>\n",
              "      <td>building material</td>\n",
              "      <td>building material_distributor</td>\n",
              "      <td>DOWNSTREAM</td>\n",
              "      <td>https://www.quelfurniture.com/about-us</td>\n",
              "      <td>Commemorating 10 solid years of providing furn...</td>\n",
              "      <td>NaN</td>\n",
              "    </tr>\n",
              "    <tr>\n",
              "      <th>9</th>\n",
              "      <td>1059731912908073216</td>\n",
              "      <td>NALURI PERINTIS SDN. BHD.</td>\n",
              "      <td>MALAYSIA</td>\n",
              "      <td>NaN</td>\n",
              "      <td>NaN</td>\n",
              "      <td>NaN</td>\n",
              "      <td>NaN</td>\n",
              "      <td>NaN</td>\n",
              "      <td>NaN</td>\n",
              "      <td>NaN</td>\n",
              "      <td>UNABLE TO LOCATE COMPANY</td>\n",
              "    </tr>\n",
              "  </tbody>\n",
              "</table>\n",
              "</div>"
            ],
            "text/plain": [
              "            Company_ID  ...                   Remarks\n",
              "0  6659723700627433472  ...                       NaN\n",
              "1  6856115970005237760  ...                       NaN\n",
              "2  7369198031907269632  ...                       NaN\n",
              "3  2902596962999106048  ...                       NaN\n",
              "4  4869680436385200128  ...                       NaN\n",
              "5  2833793606053527552  ...                       NaN\n",
              "6   815115935851177472  ...                       NaN\n",
              "7  7375353431500220416  ...                       NaN\n",
              "8  5322820782371812352  ...                       NaN\n",
              "9  1059731912908073216  ...  UNABLE TO LOCATE COMPANY\n",
              "\n",
              "[10 rows x 11 columns]"
            ]
          },
          "metadata": {
            "tags": []
          },
          "execution_count": 36
        }
      ]
    },
    {
      "cell_type": "markdown",
      "metadata": {
        "id": "2TI1D_-KP6hC"
      },
      "source": [
        "---\n",
        "---"
      ]
    },
    {
      "cell_type": "markdown",
      "metadata": {
        "id": "9qKHTDyOP9bz"
      },
      "source": [
        "# 3.Exploratory Data Analysis"
      ]
    },
    {
      "cell_type": "markdown",
      "metadata": {
        "id": "P8p50I8GQCAg"
      },
      "source": [
        "### 3.1. Get overview of dataset\n",
        "\n",
        "---\n",
        "\n",
        "Get statistical information of the dataset to understand the dataset better."
      ]
    },
    {
      "cell_type": "code",
      "metadata": {
        "colab": {
          "base_uri": "https://localhost:8080/"
        },
        "id": "2iea82R6Dm2J",
        "outputId": "48528ea4-37d8-48da-a633-578f5739f1ae"
      },
      "source": [
        "# see the row headers of the entire pandas dataframe first\n",
        "list(companies.columns)"
      ],
      "execution_count": null,
      "outputs": [
        {
          "output_type": "execute_result",
          "data": {
            "text/plain": [
              "['Company_ID',\n",
              " 'Company',\n",
              " 'Country',\n",
              " 'PIC',\n",
              " 'Sector',\n",
              " 'Subsector',\n",
              " 'Archetype',\n",
              " 'Valuechain',\n",
              " 'Websites',\n",
              " 'Company Profile Information',\n",
              " 'Remarks']"
            ]
          },
          "metadata": {
            "tags": []
          },
          "execution_count": 37
        }
      ]
    },
    {
      "cell_type": "code",
      "metadata": {
        "id": "OVX1CBSTLZqm",
        "colab": {
          "base_uri": "https://localhost:8080/"
        },
        "outputId": "dca33c48-26c8-4fc9-850d-d2c03ddcccda"
      },
      "source": [
        "# get the total number of records in the dataframe\n",
        "df_count = companies['Company_ID'].count()\n",
        "\n",
        "# get count of unique contries where companies are based in\n",
        "df_countCountry = companies['Country'].count()\n",
        "\n",
        "# get count of total sectors where companies are from\n",
        "df_countSector = companies['Sector'].count()\n",
        "\n",
        "# get count of total subseector where companies are from\n",
        "df_countsubSector = companies['Subsector'].count()\n",
        "\n",
        "# get count of total valuechain where companies are from\n",
        "df_countValuechain = companies['Valuechain'].count()\n",
        "\n",
        "print('Total number of records:', df_count)\n",
        "print('Total number of countries:', df_countCountry)\n",
        "print('Total number of sectors:', df_countSector)\n",
        "print('Total number of subsectors:', df_countsubSector)\n",
        "print('Total number of valuechain:', df_countValuechain)"
      ],
      "execution_count": null,
      "outputs": [
        {
          "output_type": "stream",
          "text": [
            "Total number of records: 400\n",
            "Total number of countries: 400\n",
            "Total number of sectors: 379\n",
            "Total number of subsectors: 379\n",
            "Total number of valuechain: 343\n"
          ],
          "name": "stdout"
        }
      ]
    },
    {
      "cell_type": "code",
      "metadata": {
        "id": "O1C_l7ytUixQ",
        "colab": {
          "base_uri": "https://localhost:8080/"
        },
        "outputId": "aead927a-e078-434c-d7b9-8a134e96c047"
      },
      "source": [
        "# get total number of countries\n",
        "df_totalCountries = companies['Country'].value_counts()\n",
        "\n",
        "# get list of unique sector\n",
        "df_sector = companies['Sector'].value_counts()\n",
        "\n",
        "# get list of unique archetype\n",
        "df_archetype = companies['Archetype'].value_counts()\n",
        "\n",
        "# get list of unique valuechain\n",
        "df_valuechain = companies['Valuechain'].value_counts()\n",
        "\n",
        "print('List of unique countries:\\n{}'.format(df_totalCountries))\n",
        "print()\n",
        "print('List of unique sector:\\n{}'.format(df_sector))\n",
        "print()\n",
        "print('List of unique valuechain:\\n{}'.format(df_valuechain))"
      ],
      "execution_count": null,
      "outputs": [
        {
          "output_type": "stream",
          "text": [
            "List of unique countries:\n",
            "SINGAPORE    172\n",
            "MALAYSIA      89\n",
            "THAILAND      72\n",
            "CHINA         33\n",
            "HONG KONG     20\n",
            "INDONESIA     14\n",
            "Name: Country, dtype: int64\n",
            "\n",
            "List of unique sector:\n",
            "CNI    164\n",
            "TMT    121\n",
            "OOS     33\n",
            "ONG     32\n",
            "REH     11\n",
            "IND      9\n",
            "CG       9\n",
            "Name: Sector, dtype: int64\n",
            "\n",
            "List of unique valuechain:\n",
            "MIDSTREAM                 208\n",
            "DOWNSTREAM                 93\n",
            "UPSTREAM                   26\n",
            "ACROSS VALUE CHAIN          5\n",
            "UPSTREAM OR DOWNSTREAM      4\n",
            "DISTRIBUTOR                 2\n",
            "MANUFACTURER                2\n",
            "TRADER                      1\n",
            "Downstream                  1\n",
            "Upstream                    1\n",
            "Name: Valuechain, dtype: int64\n"
          ],
          "name": "stdout"
        }
      ]
    },
    {
      "cell_type": "code",
      "metadata": {
        "id": "NIoXot6HWEWP",
        "colab": {
          "base_uri": "https://localhost:8080/"
        },
        "outputId": "9dd8a2b6-ae4f-4a04-a6b2-08e6b226a17c"
      },
      "source": [
        "# get list of unique subsector\n",
        "df_subsector = companies['Subsector'].value_counts()\n",
        "\n",
        "print('List of unique Subsector:\\n{}'.format(df_subsector))"
      ],
      "execution_count": null,
      "outputs": [
        {
          "output_type": "stream",
          "text": [
            "List of unique Subsector:\n",
            "buildings & industrial               61\n",
            "building material                    48\n",
            "consumer electronics                 45\n",
            "others                               33\n",
            "it services                          29\n",
            "cni_service providers                29\n",
            "semiconductor                        19\n",
            "o&g                                  14\n",
            "digital_business                     12\n",
            "utilities                            12\n",
            "telecommunication                     9\n",
            "petrochemical                         8\n",
            "retail n distribution                 7\n",
            "o&g_service providers/contractors     7\n",
            "media                                 7\n",
            "infrastructure                        6\n",
            "cni_equipment suppliers               6\n",
            "commercial                            5\n",
            "metals and mining                     5\n",
            "auto & mec                            4\n",
            "mixed                                 3\n",
            "residential                           2\n",
            "ioc                                   2\n",
            "fmcg                                  1\n",
            "agribusiness                          1\n",
            "building_material                     1\n",
            "industrial                            1\n",
            "noc                                   1\n",
            "cni_equipment_suppliers               1\n",
            "Name: Subsector, dtype: int64\n"
          ],
          "name": "stdout"
        }
      ]
    },
    {
      "cell_type": "code",
      "metadata": {
        "id": "SjaNooD3Uz3c",
        "colab": {
          "base_uri": "https://localhost:8080/"
        },
        "outputId": "8b93827f-d9fa-42a1-ed26-b190c0168c39"
      },
      "source": [
        "print('List of unique archetype:\\n{}'.format(df_archetype))"
      ],
      "execution_count": null,
      "outputs": [
        {
          "output_type": "stream",
          "text": [
            "List of unique archetype:\n",
            "buildings & industrial_contractor                              60\n",
            "consumer electronics_distributor                               39\n",
            "others                                                         33\n",
            "building material_manufacturer                                 32\n",
            "it services                                                    29\n",
            "cni_service providers                                          29\n",
            "building material_supplier_distributor                         14\n",
            "digital_business                                               12\n",
            "electronics components/semiconductor_component distributor     10\n",
            "electronics components/semiconductor_component manufacturer     9\n",
            "o&g_distributor                                                 8\n",
            "utilities_developer                                             7\n",
            "o&g_retail outlet                                               6\n",
            "content creator                                                 6\n",
            "cni_equipment suppliers                                         6\n",
            "infrastructure_contractor                                       5\n",
            "o&g midstream and downstream service provider                   5\n",
            "consumer discretionary distributor                              5\n",
            "consumer electronics                                            5\n",
            "petrochemical_producer                                          4\n",
            "petrochemical_distributor                                       4\n",
            "commercial_operator                                             4\n",
            "building material_distributor                                   3\n",
            "network equipment supplier                                      3\n",
            "utilities_operator                                              3\n",
            "telecommunication infrastructure                                3\n",
            "mixed_developer                                                 3\n",
            "steel fabricator                                                2\n",
            "steel distributor                                               2\n",
            "ioc                                                             2\n",
            "o&g midstream service provider (transportation/storage)         2\n",
            "network operator                                                2\n",
            "utilities_contractor                                            2\n",
            "mec oem dealer                                                  2\n",
            "modern trade                                                    1\n",
            "commercial_developer                                            1\n",
            "auto dealer                                                     1\n",
            "buildings & industrial_sub contractor                           1\n",
            "hpc                                                             1\n",
            "noc                                                             1\n",
            "residential_integrated player                                   1\n",
            "media_aggregator/distributor                                    1\n",
            "auto component dealer                                           1\n",
            "consuumer electronics                                           1\n",
            "infrastructure_operator                                         1\n",
            "industrial_integrated player                                    1\n",
            "palm oil                                                        1\n",
            "precious metal                                                  1\n",
            "residential_developer                                           1\n",
            "tisp – fiber cable                                              1\n",
            "cni_equipment_suppliers                                         1\n",
            "packaged food                                                   1\n",
            "Name: Archetype, dtype: int64\n"
          ],
          "name": "stdout"
        }
      ]
    },
    {
      "cell_type": "markdown",
      "metadata": {
        "id": "57EHaR92D9UP"
      },
      "source": [
        "### 3.2. Drop unncessary columns\n",
        "\n",
        "---\n",
        "\n",
        "Here, we will drop columns that wiill not aid in our EDA."
      ]
    },
    {
      "cell_type": "code",
      "metadata": {
        "colab": {
          "base_uri": "https://localhost:8080/",
          "height": 392
        },
        "id": "TC9-PuS6EDXT",
        "outputId": "e0e5c7c8-c404-488b-e4ec-e97ee411bbd2"
      },
      "source": [
        "# declare the list of the row names that are redundant\n",
        "rows_to_drop = ['Company_ID', 'PIC', 'Websites', 'Remarks']\n",
        "\n",
        "# use a conditional expression to filter out those rows\n",
        "df_filteredCompanies = companies.drop(labels=rows_to_drop, axis=1)\n",
        "\n",
        "df_filteredCompanies"
      ],
      "execution_count": null,
      "outputs": [
        {
          "output_type": "execute_result",
          "data": {
            "text/html": [
              "<div>\n",
              "<style scoped>\n",
              "    .dataframe tbody tr th:only-of-type {\n",
              "        vertical-align: middle;\n",
              "    }\n",
              "\n",
              "    .dataframe tbody tr th {\n",
              "        vertical-align: top;\n",
              "    }\n",
              "\n",
              "    .dataframe thead th {\n",
              "        text-align: right;\n",
              "    }\n",
              "</style>\n",
              "<table border=\"1\" class=\"dataframe\">\n",
              "  <thead>\n",
              "    <tr style=\"text-align: right;\">\n",
              "      <th></th>\n",
              "      <th>Company</th>\n",
              "      <th>Country</th>\n",
              "      <th>Sector</th>\n",
              "      <th>Subsector</th>\n",
              "      <th>Archetype</th>\n",
              "      <th>Valuechain</th>\n",
              "      <th>Company Profile Information</th>\n",
              "    </tr>\n",
              "  </thead>\n",
              "  <tbody>\n",
              "    <tr>\n",
              "      <th>0</th>\n",
              "      <td>ANDERCO PTE LTD</td>\n",
              "      <td>SINGAPORE</td>\n",
              "      <td>CNI</td>\n",
              "      <td>buildings &amp; industrial</td>\n",
              "      <td>buildings &amp; industrial_contractor</td>\n",
              "      <td>MIDSTREAM</td>\n",
              "      <td>We specialize in design and building from dorm...</td>\n",
              "    </tr>\n",
              "    <tr>\n",
              "      <th>1</th>\n",
              "      <td>WEC ENGINEERS &amp; CONSTRUCTORS PTE LTD</td>\n",
              "      <td>SINGAPORE</td>\n",
              "      <td>CNI</td>\n",
              "      <td>buildings &amp; industrial</td>\n",
              "      <td>buildings &amp; industrial_contractor</td>\n",
              "      <td>MIDSTREAM</td>\n",
              "      <td>We have transformed ourselves into a specialis...</td>\n",
              "    </tr>\n",
              "    <tr>\n",
              "      <th>2</th>\n",
              "      <td>ECHO PORT INTERNATIONAL LIMITED</td>\n",
              "      <td>HONG KONG</td>\n",
              "      <td>TMT</td>\n",
              "      <td>consumer electronics</td>\n",
              "      <td>consumer electronics_distributor</td>\n",
              "      <td>DOWNSTREAM</td>\n",
              "      <td>Echo Port is specialized in manufacturing CHES...</td>\n",
              "    </tr>\n",
              "    <tr>\n",
              "      <th>3</th>\n",
              "      <td>DEKORAMIK PERDANA,PT</td>\n",
              "      <td>INDONESIA</td>\n",
              "      <td>CNI</td>\n",
              "      <td>building material</td>\n",
              "      <td>building material_distributor</td>\n",
              "      <td>DOWNSTREAM</td>\n",
              "      <td>Sandimas provides a wide range of commercial, ...</td>\n",
              "    </tr>\n",
              "    <tr>\n",
              "      <th>4</th>\n",
              "      <td>ELCA CONTRACT FLOORING PTE LTD</td>\n",
              "      <td>SINGAPORE</td>\n",
              "      <td>CNI</td>\n",
              "      <td>building material</td>\n",
              "      <td>building material_distributor</td>\n",
              "      <td>DOWNSTREAM</td>\n",
              "      <td>Elca Contract Flooring Pte Ltd established in ...</td>\n",
              "    </tr>\n",
              "    <tr>\n",
              "      <th>...</th>\n",
              "      <td>...</td>\n",
              "      <td>...</td>\n",
              "      <td>...</td>\n",
              "      <td>...</td>\n",
              "      <td>...</td>\n",
              "      <td>...</td>\n",
              "      <td>...</td>\n",
              "    </tr>\n",
              "    <tr>\n",
              "      <th>395</th>\n",
              "      <td>HENAN ZHONGYUAN HEAVY FORGING CO., LTD</td>\n",
              "      <td>CHINA</td>\n",
              "      <td>IND</td>\n",
              "      <td>metals and mining</td>\n",
              "      <td>steel fabricator</td>\n",
              "      <td>MANUFACTURER</td>\n",
              "      <td>Henan Zhongyuan Heavy Forging Co., Ltd. was fo...</td>\n",
              "    </tr>\n",
              "    <tr>\n",
              "      <th>396</th>\n",
              "      <td>ZHANGZHOU SANLIDA ENVIRONMENTAL TECHNOLOGY COR...</td>\n",
              "      <td>CHINA</td>\n",
              "      <td>OOS</td>\n",
              "      <td>others</td>\n",
              "      <td>others</td>\n",
              "      <td>NaN</td>\n",
              "      <td>Industry:\\nPulp &amp; Paper Mills\\nManufacturing S...</td>\n",
              "    </tr>\n",
              "    <tr>\n",
              "      <th>397</th>\n",
              "      <td>山西平阳煤机装备有限责任公司</td>\n",
              "      <td>CHINA</td>\n",
              "      <td>IND</td>\n",
              "      <td>auto &amp; mec</td>\n",
              "      <td>mec oem dealer</td>\n",
              "      <td>MIDSTREAM</td>\n",
              "      <td>Processing, sales, installation and maintenanc...</td>\n",
              "    </tr>\n",
              "    <tr>\n",
              "      <th>398</th>\n",
              "      <td>SUNRIGHT LTD</td>\n",
              "      <td>SINGAPORE</td>\n",
              "      <td>OOS</td>\n",
              "      <td>others</td>\n",
              "      <td>others</td>\n",
              "      <td>NaN</td>\n",
              "      <td>Sunright Limited, a main board listed company ...</td>\n",
              "    </tr>\n",
              "    <tr>\n",
              "      <th>399</th>\n",
              "      <td>XINYI ZHONGTIAN CHEMICAL INDUSTRY CO.,LTD</td>\n",
              "      <td>CHINA</td>\n",
              "      <td>ONG</td>\n",
              "      <td>petrochemical</td>\n",
              "      <td>petrochemical_producer</td>\n",
              "      <td>UPSTREAM OR DOWNSTREAM</td>\n",
              "      <td>Xinyi zhongkai agricultural chemical industry ...</td>\n",
              "    </tr>\n",
              "  </tbody>\n",
              "</table>\n",
              "<p>400 rows × 7 columns</p>\n",
              "</div>"
            ],
            "text/plain": [
              "                                               Company  ...                        Company Profile Information\n",
              "0                                      ANDERCO PTE LTD  ...  We specialize in design and building from dorm...\n",
              "1                 WEC ENGINEERS & CONSTRUCTORS PTE LTD  ...  We have transformed ourselves into a specialis...\n",
              "2                      ECHO PORT INTERNATIONAL LIMITED  ...  Echo Port is specialized in manufacturing CHES...\n",
              "3                                 DEKORAMIK PERDANA,PT  ...  Sandimas provides a wide range of commercial, ...\n",
              "4                       ELCA CONTRACT FLOORING PTE LTD  ...  Elca Contract Flooring Pte Ltd established in ...\n",
              "..                                                 ...  ...                                                ...\n",
              "395             HENAN ZHONGYUAN HEAVY FORGING CO., LTD  ...  Henan Zhongyuan Heavy Forging Co., Ltd. was fo...\n",
              "396  ZHANGZHOU SANLIDA ENVIRONMENTAL TECHNOLOGY COR...  ...  Industry:\\nPulp & Paper Mills\\nManufacturing S...\n",
              "397                                     山西平阳煤机装备有限责任公司  ...  Processing, sales, installation and maintenanc...\n",
              "398                                       SUNRIGHT LTD  ...  Sunright Limited, a main board listed company ...\n",
              "399          XINYI ZHONGTIAN CHEMICAL INDUSTRY CO.,LTD  ...  Xinyi zhongkai agricultural chemical industry ...\n",
              "\n",
              "[400 rows x 7 columns]"
            ]
          },
          "metadata": {
            "tags": []
          },
          "execution_count": 42
        }
      ]
    },
    {
      "cell_type": "markdown",
      "metadata": {
        "id": "c3S6ZQzySmC0"
      },
      "source": [
        "### 3.3. Filter rows with valid data\n",
        "\n",
        "---\n",
        "\n",
        "Extract columns with Nan values and list them out here. Afterwards, gather the rows deemed suitable to process NLP."
      ]
    },
    {
      "cell_type": "code",
      "metadata": {
        "id": "7ZLoO_4SSry7",
        "colab": {
          "base_uri": "https://localhost:8080/",
          "height": 536
        },
        "outputId": "be1551dc-e206-4e10-ec09-cc43b8d6d10d"
      },
      "source": [
        "# find all the rows with nan data in sector, subsector, archetype and valuechain\n",
        "cols_to_check = ['Sector', 'Subsector', 'Archetype', 'Valuechain', 'Company Profile Information']\n",
        "empty = df_filteredCompanies[df_filteredCompanies[cols_to_check].isnull().all(1)]\n",
        "\n",
        "empty"
      ],
      "execution_count": null,
      "outputs": [
        {
          "output_type": "execute_result",
          "data": {
            "text/html": [
              "<div>\n",
              "<style scoped>\n",
              "    .dataframe tbody tr th:only-of-type {\n",
              "        vertical-align: middle;\n",
              "    }\n",
              "\n",
              "    .dataframe tbody tr th {\n",
              "        vertical-align: top;\n",
              "    }\n",
              "\n",
              "    .dataframe thead th {\n",
              "        text-align: right;\n",
              "    }\n",
              "</style>\n",
              "<table border=\"1\" class=\"dataframe\">\n",
              "  <thead>\n",
              "    <tr style=\"text-align: right;\">\n",
              "      <th></th>\n",
              "      <th>Company</th>\n",
              "      <th>Country</th>\n",
              "      <th>Sector</th>\n",
              "      <th>Subsector</th>\n",
              "      <th>Archetype</th>\n",
              "      <th>Valuechain</th>\n",
              "      <th>Company Profile Information</th>\n",
              "    </tr>\n",
              "  </thead>\n",
              "  <tbody>\n",
              "    <tr>\n",
              "      <th>9</th>\n",
              "      <td>NALURI PERINTIS SDN. BHD.</td>\n",
              "      <td>MALAYSIA</td>\n",
              "      <td>NaN</td>\n",
              "      <td>NaN</td>\n",
              "      <td>NaN</td>\n",
              "      <td>NaN</td>\n",
              "      <td>NaN</td>\n",
              "    </tr>\n",
              "    <tr>\n",
              "      <th>12</th>\n",
              "      <td>CAKRATAMA KRESNA BUANA,PT</td>\n",
              "      <td>INDONESIA</td>\n",
              "      <td>NaN</td>\n",
              "      <td>NaN</td>\n",
              "      <td>NaN</td>\n",
              "      <td>NaN</td>\n",
              "      <td>NaN</td>\n",
              "    </tr>\n",
              "    <tr>\n",
              "      <th>23</th>\n",
              "      <td>AIRCO LIMITED</td>\n",
              "      <td>THAILAND</td>\n",
              "      <td>NaN</td>\n",
              "      <td>NaN</td>\n",
              "      <td>NaN</td>\n",
              "      <td>NaN</td>\n",
              "      <td>NaN</td>\n",
              "    </tr>\n",
              "    <tr>\n",
              "      <th>46</th>\n",
              "      <td>TOWER HOPE LIMITED</td>\n",
              "      <td>SINGAPORE</td>\n",
              "      <td>NaN</td>\n",
              "      <td>NaN</td>\n",
              "      <td>NaN</td>\n",
              "      <td>NaN</td>\n",
              "      <td>NaN</td>\n",
              "    </tr>\n",
              "    <tr>\n",
              "      <th>99</th>\n",
              "      <td>QF NEAR TECHNOLOGY (TIAN JIN) CORP.</td>\n",
              "      <td>CHINA</td>\n",
              "      <td>NaN</td>\n",
              "      <td>NaN</td>\n",
              "      <td>NaN</td>\n",
              "      <td>NaN</td>\n",
              "      <td>NaN</td>\n",
              "    </tr>\n",
              "    <tr>\n",
              "      <th>125</th>\n",
              "      <td>SYS-MCD (SPJ) JOINT VENTURE</td>\n",
              "      <td>MALAYSIA</td>\n",
              "      <td>NaN</td>\n",
              "      <td>NaN</td>\n",
              "      <td>NaN</td>\n",
              "      <td>NaN</td>\n",
              "      <td>NaN</td>\n",
              "    </tr>\n",
              "    <tr>\n",
              "      <th>199</th>\n",
              "      <td>BEI JING ESTRABA IMPORT AND EXPORT</td>\n",
              "      <td>CHINA</td>\n",
              "      <td>NaN</td>\n",
              "      <td>NaN</td>\n",
              "      <td>NaN</td>\n",
              "      <td>NaN</td>\n",
              "      <td>NaN</td>\n",
              "    </tr>\n",
              "    <tr>\n",
              "      <th>268</th>\n",
              "      <td>THE CONSORTIUM OF UAHWATANASAKUL CO.,LTD.AND P...</td>\n",
              "      <td>THAILAND</td>\n",
              "      <td>NaN</td>\n",
              "      <td>NaN</td>\n",
              "      <td>NaN</td>\n",
              "      <td>NaN</td>\n",
              "      <td>NaN</td>\n",
              "    </tr>\n",
              "    <tr>\n",
              "      <th>293</th>\n",
              "      <td>RAINBOW BLISS LIMITED</td>\n",
              "      <td>SINGAPORE</td>\n",
              "      <td>NaN</td>\n",
              "      <td>NaN</td>\n",
              "      <td>NaN</td>\n",
              "      <td>NaN</td>\n",
              "      <td>NaN</td>\n",
              "    </tr>\n",
              "    <tr>\n",
              "      <th>324</th>\n",
              "      <td>HOME SANITARYWARE CO.,LTD.</td>\n",
              "      <td>THAILAND</td>\n",
              "      <td>NaN</td>\n",
              "      <td>NaN</td>\n",
              "      <td>NaN</td>\n",
              "      <td>NaN</td>\n",
              "      <td>NaN</td>\n",
              "    </tr>\n",
              "    <tr>\n",
              "      <th>343</th>\n",
              "      <td>NAKHON NONT PETROGAS CO.,LTD.</td>\n",
              "      <td>THAILAND</td>\n",
              "      <td>NaN</td>\n",
              "      <td>NaN</td>\n",
              "      <td>NaN</td>\n",
              "      <td>NaN</td>\n",
              "      <td>NaN</td>\n",
              "    </tr>\n",
              "    <tr>\n",
              "      <th>345</th>\n",
              "      <td>THEPARAK BUSINESS CO.,LTD.</td>\n",
              "      <td>THAILAND</td>\n",
              "      <td>NaN</td>\n",
              "      <td>NaN</td>\n",
              "      <td>NaN</td>\n",
              "      <td>NaN</td>\n",
              "      <td>NaN</td>\n",
              "    </tr>\n",
              "    <tr>\n",
              "      <th>374</th>\n",
              "      <td>DAMRONG OIL LIMITED PARTNERSHIP</td>\n",
              "      <td>THAILAND</td>\n",
              "      <td>NaN</td>\n",
              "      <td>NaN</td>\n",
              "      <td>NaN</td>\n",
              "      <td>NaN</td>\n",
              "      <td>NaN</td>\n",
              "    </tr>\n",
              "    <tr>\n",
              "      <th>376</th>\n",
              "      <td>NORTH SEA SERVICE LIMITED PARTNERSHIP</td>\n",
              "      <td>THAILAND</td>\n",
              "      <td>NaN</td>\n",
              "      <td>NaN</td>\n",
              "      <td>NaN</td>\n",
              "      <td>NaN</td>\n",
              "      <td>NaN</td>\n",
              "    </tr>\n",
              "    <tr>\n",
              "      <th>389</th>\n",
              "      <td>ZHEJIANG-THAI PHOTOVOLTAIC TECHNOLOGY CO., LTD.</td>\n",
              "      <td>CHINA</td>\n",
              "      <td>NaN</td>\n",
              "      <td>NaN</td>\n",
              "      <td>NaN</td>\n",
              "      <td>NaN</td>\n",
              "      <td>NaN</td>\n",
              "    </tr>\n",
              "    <tr>\n",
              "      <th>393</th>\n",
              "      <td>SONGYUAN WEI BO WOOD CO., LTD.</td>\n",
              "      <td>CHINA</td>\n",
              "      <td>NaN</td>\n",
              "      <td>NaN</td>\n",
              "      <td>NaN</td>\n",
              "      <td>NaN</td>\n",
              "      <td>NaN</td>\n",
              "    </tr>\n",
              "    <tr>\n",
              "      <th>394</th>\n",
              "      <td>JINAN FEIXUN ELECTRONIC ENGINEERING CO.,LTD</td>\n",
              "      <td>CHINA</td>\n",
              "      <td>NaN</td>\n",
              "      <td>NaN</td>\n",
              "      <td>NaN</td>\n",
              "      <td>NaN</td>\n",
              "      <td>NaN</td>\n",
              "    </tr>\n",
              "  </tbody>\n",
              "</table>\n",
              "</div>"
            ],
            "text/plain": [
              "                                               Company  ... Company Profile Information\n",
              "9                            NALURI PERINTIS SDN. BHD.  ...                         NaN\n",
              "12                           CAKRATAMA KRESNA BUANA,PT  ...                         NaN\n",
              "23                                       AIRCO LIMITED  ...                         NaN\n",
              "46                                  TOWER HOPE LIMITED  ...                         NaN\n",
              "99                 QF NEAR TECHNOLOGY (TIAN JIN) CORP.  ...                         NaN\n",
              "125                        SYS-MCD (SPJ) JOINT VENTURE  ...                         NaN\n",
              "199                 BEI JING ESTRABA IMPORT AND EXPORT  ...                         NaN\n",
              "268  THE CONSORTIUM OF UAHWATANASAKUL CO.,LTD.AND P...  ...                         NaN\n",
              "293                              RAINBOW BLISS LIMITED  ...                         NaN\n",
              "324                         HOME SANITARYWARE CO.,LTD.  ...                         NaN\n",
              "343                      NAKHON NONT PETROGAS CO.,LTD.  ...                         NaN\n",
              "345                         THEPARAK BUSINESS CO.,LTD.  ...                         NaN\n",
              "374                    DAMRONG OIL LIMITED PARTNERSHIP  ...                         NaN\n",
              "376              NORTH SEA SERVICE LIMITED PARTNERSHIP  ...                         NaN\n",
              "389    ZHEJIANG-THAI PHOTOVOLTAIC TECHNOLOGY CO., LTD.  ...                         NaN\n",
              "393                     SONGYUAN WEI BO WOOD CO., LTD.  ...                         NaN\n",
              "394        JINAN FEIXUN ELECTRONIC ENGINEERING CO.,LTD  ...                         NaN\n",
              "\n",
              "[17 rows x 7 columns]"
            ]
          },
          "metadata": {
            "tags": []
          },
          "execution_count": 112
        }
      ]
    },
    {
      "cell_type": "code",
      "metadata": {
        "id": "nrQjbN7uStmr",
        "colab": {
          "base_uri": "https://localhost:8080/",
          "height": 392
        },
        "outputId": "b096b643-b838-4fa0-aa69-08770b390e2b"
      },
      "source": [
        "# now we get the dataset that are valid\n",
        "df_valid = pd.concat([df_filteredCompanies, empty, empty]).drop_duplicates(keep=False)\n",
        "\n",
        "df_valid"
      ],
      "execution_count": null,
      "outputs": [
        {
          "output_type": "execute_result",
          "data": {
            "text/html": [
              "<div>\n",
              "<style scoped>\n",
              "    .dataframe tbody tr th:only-of-type {\n",
              "        vertical-align: middle;\n",
              "    }\n",
              "\n",
              "    .dataframe tbody tr th {\n",
              "        vertical-align: top;\n",
              "    }\n",
              "\n",
              "    .dataframe thead th {\n",
              "        text-align: right;\n",
              "    }\n",
              "</style>\n",
              "<table border=\"1\" class=\"dataframe\">\n",
              "  <thead>\n",
              "    <tr style=\"text-align: right;\">\n",
              "      <th></th>\n",
              "      <th>Company</th>\n",
              "      <th>Country</th>\n",
              "      <th>Sector</th>\n",
              "      <th>Subsector</th>\n",
              "      <th>Archetype</th>\n",
              "      <th>Valuechain</th>\n",
              "      <th>Company Profile Information</th>\n",
              "    </tr>\n",
              "  </thead>\n",
              "  <tbody>\n",
              "    <tr>\n",
              "      <th>0</th>\n",
              "      <td>ANDERCO PTE LTD</td>\n",
              "      <td>SINGAPORE</td>\n",
              "      <td>CNI</td>\n",
              "      <td>buildings &amp; industrial</td>\n",
              "      <td>buildings &amp; industrial_contractor</td>\n",
              "      <td>MIDSTREAM</td>\n",
              "      <td>We specialize in design and building from dorm...</td>\n",
              "    </tr>\n",
              "    <tr>\n",
              "      <th>1</th>\n",
              "      <td>WEC ENGINEERS &amp; CONSTRUCTORS PTE LTD</td>\n",
              "      <td>SINGAPORE</td>\n",
              "      <td>CNI</td>\n",
              "      <td>buildings &amp; industrial</td>\n",
              "      <td>buildings &amp; industrial_contractor</td>\n",
              "      <td>MIDSTREAM</td>\n",
              "      <td>We have transformed ourselves into a specialis...</td>\n",
              "    </tr>\n",
              "    <tr>\n",
              "      <th>2</th>\n",
              "      <td>ECHO PORT INTERNATIONAL LIMITED</td>\n",
              "      <td>HONG KONG</td>\n",
              "      <td>TMT</td>\n",
              "      <td>consumer electronics</td>\n",
              "      <td>consumer electronics_distributor</td>\n",
              "      <td>DOWNSTREAM</td>\n",
              "      <td>Echo Port is specialized in manufacturing CHES...</td>\n",
              "    </tr>\n",
              "    <tr>\n",
              "      <th>3</th>\n",
              "      <td>DEKORAMIK PERDANA,PT</td>\n",
              "      <td>INDONESIA</td>\n",
              "      <td>CNI</td>\n",
              "      <td>building material</td>\n",
              "      <td>building material_distributor</td>\n",
              "      <td>DOWNSTREAM</td>\n",
              "      <td>Sandimas provides a wide range of commercial, ...</td>\n",
              "    </tr>\n",
              "    <tr>\n",
              "      <th>4</th>\n",
              "      <td>ELCA CONTRACT FLOORING PTE LTD</td>\n",
              "      <td>SINGAPORE</td>\n",
              "      <td>CNI</td>\n",
              "      <td>building material</td>\n",
              "      <td>building material_distributor</td>\n",
              "      <td>DOWNSTREAM</td>\n",
              "      <td>Elca Contract Flooring Pte Ltd established in ...</td>\n",
              "    </tr>\n",
              "    <tr>\n",
              "      <th>...</th>\n",
              "      <td>...</td>\n",
              "      <td>...</td>\n",
              "      <td>...</td>\n",
              "      <td>...</td>\n",
              "      <td>...</td>\n",
              "      <td>...</td>\n",
              "      <td>...</td>\n",
              "    </tr>\n",
              "    <tr>\n",
              "      <th>395</th>\n",
              "      <td>HENAN ZHONGYUAN HEAVY FORGING CO., LTD</td>\n",
              "      <td>CHINA</td>\n",
              "      <td>IND</td>\n",
              "      <td>metals and mining</td>\n",
              "      <td>steel fabricator</td>\n",
              "      <td>MANUFACTURER</td>\n",
              "      <td>Henan Zhongyuan Heavy Forging Co., Ltd. was fo...</td>\n",
              "    </tr>\n",
              "    <tr>\n",
              "      <th>396</th>\n",
              "      <td>ZHANGZHOU SANLIDA ENVIRONMENTAL TECHNOLOGY COR...</td>\n",
              "      <td>CHINA</td>\n",
              "      <td>OOS</td>\n",
              "      <td>others</td>\n",
              "      <td>others</td>\n",
              "      <td>NaN</td>\n",
              "      <td>Industry:\\nPulp &amp; Paper Mills\\nManufacturing S...</td>\n",
              "    </tr>\n",
              "    <tr>\n",
              "      <th>397</th>\n",
              "      <td>山西平阳煤机装备有限责任公司</td>\n",
              "      <td>CHINA</td>\n",
              "      <td>IND</td>\n",
              "      <td>auto &amp; mec</td>\n",
              "      <td>mec oem dealer</td>\n",
              "      <td>MIDSTREAM</td>\n",
              "      <td>Processing, sales, installation and maintenanc...</td>\n",
              "    </tr>\n",
              "    <tr>\n",
              "      <th>398</th>\n",
              "      <td>SUNRIGHT LTD</td>\n",
              "      <td>SINGAPORE</td>\n",
              "      <td>OOS</td>\n",
              "      <td>others</td>\n",
              "      <td>others</td>\n",
              "      <td>NaN</td>\n",
              "      <td>Sunright Limited, a main board listed company ...</td>\n",
              "    </tr>\n",
              "    <tr>\n",
              "      <th>399</th>\n",
              "      <td>XINYI ZHONGTIAN CHEMICAL INDUSTRY CO.,LTD</td>\n",
              "      <td>CHINA</td>\n",
              "      <td>ONG</td>\n",
              "      <td>petrochemical</td>\n",
              "      <td>petrochemical_producer</td>\n",
              "      <td>UPSTREAM OR DOWNSTREAM</td>\n",
              "      <td>Xinyi zhongkai agricultural chemical industry ...</td>\n",
              "    </tr>\n",
              "  </tbody>\n",
              "</table>\n",
              "<p>383 rows × 7 columns</p>\n",
              "</div>"
            ],
            "text/plain": [
              "                                               Company  ...                        Company Profile Information\n",
              "0                                      ANDERCO PTE LTD  ...  We specialize in design and building from dorm...\n",
              "1                 WEC ENGINEERS & CONSTRUCTORS PTE LTD  ...  We have transformed ourselves into a specialis...\n",
              "2                      ECHO PORT INTERNATIONAL LIMITED  ...  Echo Port is specialized in manufacturing CHES...\n",
              "3                                 DEKORAMIK PERDANA,PT  ...  Sandimas provides a wide range of commercial, ...\n",
              "4                       ELCA CONTRACT FLOORING PTE LTD  ...  Elca Contract Flooring Pte Ltd established in ...\n",
              "..                                                 ...  ...                                                ...\n",
              "395             HENAN ZHONGYUAN HEAVY FORGING CO., LTD  ...  Henan Zhongyuan Heavy Forging Co., Ltd. was fo...\n",
              "396  ZHANGZHOU SANLIDA ENVIRONMENTAL TECHNOLOGY COR...  ...  Industry:\\nPulp & Paper Mills\\nManufacturing S...\n",
              "397                                     山西平阳煤机装备有限责任公司  ...  Processing, sales, installation and maintenanc...\n",
              "398                                       SUNRIGHT LTD  ...  Sunright Limited, a main board listed company ...\n",
              "399          XINYI ZHONGTIAN CHEMICAL INDUSTRY CO.,LTD  ...  Xinyi zhongkai agricultural chemical industry ...\n",
              "\n",
              "[383 rows x 7 columns]"
            ]
          },
          "metadata": {
            "tags": []
          },
          "execution_count": 116
        }
      ]
    },
    {
      "cell_type": "code",
      "metadata": {
        "colab": {
          "base_uri": "https://localhost:8080/"
        },
        "id": "IuYZkLS8fkjV",
        "outputId": "546f3a3f-2488-42e9-a678-b46f466de1b5"
      },
      "source": [
        "# now we check the count of the total filtered dataset again\n",
        "df_filterCount = df_valid['Company'].count()\n",
        "\n",
        "print('Total number of filtered records:', df_filterCount)"
      ],
      "execution_count": null,
      "outputs": [
        {
          "output_type": "stream",
          "text": [
            "Total number of filtered records: 383\n"
          ],
          "name": "stdout"
        }
      ]
    },
    {
      "cell_type": "markdown",
      "metadata": {
        "id": "gf69nqOrWr_b"
      },
      "source": [
        "### 3.4. Get graphical overview of dataset\n",
        "\n",
        "---\n",
        "\n",
        "Get visualised information of the dataset to understand the dataset better."
      ]
    },
    {
      "cell_type": "code",
      "metadata": {
        "id": "dRLIFECVS1os",
        "colab": {
          "base_uri": "https://localhost:8080/",
          "height": 769
        },
        "outputId": "509c02a1-6dd2-4dab-aaca-6a17583d5785"
      },
      "source": [
        "sns.set_style('darkgrid')\n",
        "plt_dims = (30, 13)\n",
        "fig, ax = plt.subplots(figsize=plt_dims)\n",
        "\n",
        "# plot a barplot to see number of companies that belongs to specific sectors\n",
        "sns.countplot(x=\"Sector\", data=df_valid, ax=ax)\n",
        "plt.show()"
      ],
      "execution_count": null,
      "outputs": [
        {
          "output_type": "display_data",
          "data": {
            "image/png": "[encoded data removed]",
            "text/plain": [
              "<Figure size 2160x936 with 1 Axes>"
            ]
          },
          "metadata": {
            "tags": []
          }
        }
      ]
    },
    {
      "cell_type": "markdown",
      "metadata": {
        "id": "1EyLs8d1TfSw"
      },
      "source": [
        "<div class=\"alert alert-block alert-info\">\n",
        "    <b>Analysis Summary:</b> We see that most of the companies comes from the CNI(Construction And Infrastructure), with TMT(Technology, Media and Telecomm) sector.\n",
        "</div>"
      ]
    },
    {
      "cell_type": "code",
      "metadata": {
        "id": "SwMqcB0MStbJ",
        "colab": {
          "base_uri": "https://localhost:8080/",
          "height": 829
        },
        "outputId": "c03c4f29-7255-49e6-ecc9-329f1b5b7037"
      },
      "source": [
        "# Pie chart\n",
        "labels = list(df_valid['Country'].unique())\n",
        "sizes = list(df_valid['Country'].value_counts())\n",
        "\n",
        "plt_dims = (30, 13)\n",
        "fig1, ax1 = plt.subplots(figsize=plt_dims)\n",
        "ax1.pie(sizes, labels=labels, autopct='%1.1f%%',\n",
        "        shadow=True, startangle=90)\n",
        "# Equal aspect ratio ensures that pie is drawn as a circle\n",
        "ax1.axis('equal')  \n",
        "plt.tight_layout()\n",
        "plt.show()"
      ],
      "execution_count": null,
      "outputs": [
        {
          "output_type": "display_data",
          "data": {
            "image/png": "[encoded data removed]",
            "text/plain": [
              "<Figure size 2160x936 with 1 Axes>"
            ]
          },
          "metadata": {
            "tags": []
          }
        }
      ]
    },
    {
      "cell_type": "markdown",
      "metadata": {
        "id": "A73dge-zZhSD"
      },
      "source": [
        "<div class=\"alert alert-block alert-info\">\n",
        "    <b>Analysis Summary:</b> We see that most of the companies are Singapre-Based companies, followed up by Hong Kong, Indonesia and so on.\n",
        "</div>"
      ]
    },
    {
      "cell_type": "markdown",
      "metadata": {
        "id": "L3bMDdQTfTnX"
      },
      "source": [
        "### 3.5. See examples of company description\n",
        "\n",
        "---\n",
        "\n",
        "We would now like to see some examples of the company descriptions in order to undestand later how to preprocess them later on."
      ]
    },
    {
      "cell_type": "code",
      "metadata": {
        "colab": {
          "base_uri": "https://localhost:8080/"
        },
        "id": "LBQ4Ml5gfkg7",
        "outputId": "c64b7e75-0574-4b6f-eab0-b688f546810f"
      },
      "source": [
        "# configurate pandas dataframe to let us see the entire company description IN FULL\n",
        "pd.set_option('display.max_colwidth', None)\n",
        "\n",
        "# get the 1st 50 results and observe\n",
        "df_valid.loc[0:49,'Company Profile Information']"
      ],
      "execution_count": null,
      "outputs": [
        {
          "output_type": "execute_result",
          "data": {
            "text/plain": [
              "0                                                                                                                                                                                                                                                                                                                                                                                                                                                                              We specialize in design and building from dormitories including ancillary facilities and amenities such as central kitchen, supermarket, cinema and recreation facilities to temporary offices for a wide range of purposes and site office for projects to clients requirements and specifications in a short duration. Our architect can utilize limited land area to maximize built-up space with a up building design with access by our steel stair system. We also provide prefabricated buildings for hospitals and polyclinics providing additional spaces for offices, consultation rooms, treatment room, patient beds, etc. Our solutions to your well-designed quality temporary housing and facilities: Dormitory, Site Office, Hospital, Schools and classrooms, Sales Office\n",
              "1     We have transformed ourselves into a specialist provider of EPCC (Engineering, Procurement, Construction and Commissioning) services for aviation fuel facilities, infrastructure projects and plant engineering works which includes but not limited to, the transmission and storage of commodities, such as oil, gas, water. Our services encompass the full spectrum of engineering works from engineering design, sourcing and procurement, construction, fabrication, installation, testing and commissioning. We also possess the expertise to phase and integrate new systems with existing facilities such that existing operations are not disrupted whilst works are being carried out. In addition, we provide maintenance services to our customers for their existing infrastructure facilities. We are also involved in the engineering works for specialized projects such as offshore facilities for oil and gas production and petrochemical plants. These projects require high engineering expertise where our engineering knowledge and construction experience are applied. Thus far, our involvement in such projects has been in relation to specific engineering steps such as engineering design, installation, testing and commissioning.\n",
              "2                                                                                                                                                                                                                                                                                                                                                                                                                                                                                                                                                                                                                                                                                                                                                                                                                         Echo Port is specialized in manufacturing CHEST FREEZER, SHOWCASE & REFRIGERATOR. Being professional for this field, we offer full range OEM products for well-known enterprises in domestic and export market. With our competitive price and excellent quality, we have sucessfully been the long term supplier of some famous brands in the world, such as SANYO, AKIRA, AKAI etc. The annual production capacity has reached 600, 000 units.\n",
              "3                                                                                                                                                                                                                                                                                                                                                                                                                                                                                                                                                                                                                                                                                                                                                                                                                                                  Sandimas provides a wide range of commercial, industrial and residential building supplies specializing in floor tiles & sanitary wares related products. Since 1987, Sandimas has built its reputation to be the trusted importer & distributor of high quality granite tiles in Indonesia. Sandimas continuously advances its quality, skill and innovation, leading the company into dominant market position today.\n",
              "4                                                                                                                                                                                                                                                                                                                                                                                                                                                                                                                                                                                                                                                                                                                                                                                                                                                                                                                                                                                                 Elca Contract Flooring Pte Ltd established in 1987 and Elca Design Pte Ltd (a subsidiary of Elca Contract Flooring.) are the sole distributor for Tarkett vinyl and Flotex floorcoverings, providing both sales and installation; and after sales services in Singapore.\n",
              "5                                                                                                                                                                                                                                                                                                                                                                                                                                                                                                                                                                                                                                                                                                                                                                                                                                                                The Company distributes computers, computer peripherals, software, IT system, computer consumables and Communication Device of over 50 world-recognized brands whereas the Company’s customer base includes countrywide computer retailers and wholesalers, major software solutions providers, local-branded computer manufacturers, department stores, giant superstores and stationary shops, and etc.\n",
              "6                                                                                                                                                                                                                                                                                                                                                                                                                                                                                                                                                                                                                                                                                                                                                                                                          CAPPITECH ENGINEERING is an ACRA-registered entity that has been operating for 13 years 9 months in Singapore since its incorporation y in 2007. Officially, CAPPITECH ENGINEERING PTE. LTD. is registered as Exempt Private Limited Company with its address in District 13 (Macpherson, Braddell), primarily operates in the sector of \"WHOLESALE OF HOUSEHOLD ELECTRICAL APPLIANCES AND EQUIPMENT (INCLUDING HOUSEHOLD AIR-CONDITIONERS)\", SSIC code - 46435\n",
              "7                                                                                                                                                                                                                                                                                                                                                                                                                                                                                                                                                                                                                                         In the year 2002, we formed a strategic alliance with Corporation Electric Co Pte Ltd to acheive immediate business expansion with a wider pool of human resources, product offerings and customer base. This was with the transfer of Corporation Electric’s trading division to our company which includes the customers as well as the agencies represented. We were therefore officially renamed from Test & Measurement (S) Pte Ltd to CE-Test & Measurement (S) Pte Ltd. With the new identity, our new mission is to be a total solution provider of industrial test and measuring equipments for our valuable customers.\n",
              "8                                                                                                                                                                                                                                                                                                                                                                                                                                                                                                                                                                                                                                                                      Commemorating 10 solid years of providing furniture solutions, what started out as a journey to “impact lives and communities” has taken Ho Lai Kuan, the founder of Quel International Sdn Bhd ( known as “Qi” ) on an uncharted mission that has proven to be rewarding beyond measure.We specialises in furniture and interior fit-outs to hotels, resorts, F&B outlets, corporate offices , educational institutions and residential developments. Since 2011, we has been focusing on providing total interior fit-out and furnishing solutions as well as delivering excellence to customers.\n",
              "10                                                                                                                                                                                                                                                                                                                                                                                                                                                                                                                                                                                                                                                                                                                                                                                                                                                                                                                                                                                                                                                                                                                                Residential and Commercial Buildings. Installation, repair, service, maintenance. Chillers, compressors and all types of cooling systems\n",
              "11                                                                                                                                                                                                                                                                                                                                                                                                                                                                                                                                                                                                                                                                                                                                                                                                                                                                                                                                                                                                                                                                                                   Gemilite Sdn Bhd was founded in 1981. The Company's line of business includes the wholesale distribution of electronic parts and electronic communications equipment.\n",
              "13                                                                                                                                                                                                                                                                                                                                                                                                                                                                                                                                                                                                                                                                                                                                                                                                                                                              Incorporated in 1984, main board-listed Singapore Press Holdings Ltd (SPH) is Asia's leading media organisation, engaging minds and enriching lives across multiple languages and platforms.\\n\\nSPH's core business is in the publishing of newspapers, magazines and books in both print and digital editions. It also owns other digital products, online classifieds, radio stations and outdoor media.\n",
              "14                                                                                                                                                                                                                                                                                                                                                                                                                                                                                                                                     Trends N Trendies Pte Ltd is managing a retail chain of 12 shops which are all under the business name of G-Force Network. G-Force Network was acquired by Trends N Trendies in Apr 2002. Since then, we have grown to a retail network of 12 shops and won many prizes given by SingTel and mobile phone manufacturers. We employ a total of 62 staff of which 51 are sales staff who are highly competent and knowledgeable. They never stop upgrading themselves in order to serve more and more sophisticated customers and to sell more and more complex products and services. We are SingTel Exclusive Retailer. Besides mobile phones, we sell SingtelTV, SingNet Broadband, Broadband on Mobile and their bundle services.\n",
              "15                                                                                                                                                                                                                                                                                                                                                                                                                                                                                                                                                                                                                                                                                                                                                                                                                                                                                           LEKSTAR Corporation Pte Ltd is best known as the leading force in Wooden Products with a comprehensive choice of Sawn Timber to value added products like wooden solid flooring, wooden door components , finger joint and wooden laminates\\nWe understand the importance of working closely with customers to deliver the best specification on a reliable continuous basis.\n",
              "16                                                                                                                                                                                                                                                                                                                                                                                                                                                                                                                                                                                                                                                                                                                                                                                                        TECK JOO HARDWARE & ENGINEERING is an ACRA-registered entity that has been operating for 29 years 6 months in Singapore since its incorporation y in 1991. Officially, TECK JOO HARDWARE & ENGINEERING is registered as Sole Proprietor with its address in District 20 (Bishan, Ang Mo Kio), primarily operates in the sector of \"RETAIL SALE OF HARDWARE, PAINT AND GLASS N.E.C. (EG WOOD, GLASS, SANITARY WARE, DO-IT-YOURSELF MATERIALS)\", SSIC code - 47529\n",
              "17                                                                                                                                                                                                                                                                                                                                                                                                                                                                                                                                                                                                                                                                                                                                                                                                                Established in 1988 originally as a pure wood based resource business for 30 years operating under Sen Wan Timber (S) Pte. Ltd, our home grown company is still today one of the Singapore’s largest supplier of infrastructure building needs of timber, plywood & veneer other materials to various local industries including, construction; marine; furniture & interior design; and MICE (i.e. meetings, incentives, conventions and exhibitions). \n",
              "18                                                                                                                                                                                                                                                                                                                                                                                                                                                                                                                                                                                                                                                                                                                                                                                                                                                                                                                                                                                                                                                                                                                                        We are BCA-registered mechanical electrical engineering contractor firm specializing in providing building engineering services.\n",
              "19                                                                                                                                                                                                                                                                                                                                                                                                                                                                                                                                                                                                                                                                                                                                                                  ONG BROTHERS TILING & CONSTRUCTION PTE LTD had establish ourselves 34 yrs. in the industry since the time we register ourselves in 1977, over the years we had built ourselves with our manufacturer a very good working relationship & be able to offer you consistent quality products with an enticing competitive price. We are specializing in suppling interior and exterior Building Related Products most notably in Ceramic and Homogeneous tiles, Marbles, Granites and other related items.\n",
              "20                                                                                                                                                                                                                                                                                                                                                                                                                                                                                                                                                                                                                                                                                                                                                                                                                                                                                                             DLM, an affiliated company of DLE M&E Pte Ltd, is based in Singapore and specializes in design and installation works for:\\n\\n– Air Conditioning & Mechanical Ventilation System\\n– High Voltage and Low Voltage Electrical System\\n– Extra Low Voltage Systems and Security Systems\\n– Smoke Control and Fire Protection System\\n– Plumbing and Sanitation\n",
              "21                                                                                                                                                                                                                                                                                                                                                                                                                                                                                                                                                                                                                                                                                                                                                                                                                                                      Founded in 1987, Huawei is a leading global provider of information and communications technology (ICT) infrastructure and smart devices. We are committed to bringing digital to every person, home and organization for a fully connected, intelligent world. We have approximately 197,000 employees and we operate in over 170 countries and regions, serving more than three billion people around the world.\n",
              "22                                                                                                                                                                                                                                                                                                                                                                                                                                                                                                                                                                                                                                                                                                                                                                                                                                                                                                                                                                                                                                                                                                                                                                                      Company Nature Of Business\\nPROPERTY DEVELOPMENT AND INVESTMENT PROPERTIES HOLDING\n",
              "24                                                                                                                 Incorporated in 1990, Jubin BMS is the leading tiles, stone, mosaics, and sanitary wares supplier/retailer in Malaysia that has been making dream homes come true with our extensive range of products catering to different segments and requirement.\\n\\nCurated globally, Jubin BMS’s collection includes porcelain tiles, ceramic wall tiles, natural stones, mosaic, wood tiles, large format porcelain slabs, sanitary wares,fittings and accessories. Our aim is to provide the best quality products with professional services and exciting yet friendly shopping experience.With our strong sourcing and abundant distribution network converged over the years, we have been the exclusive distributor of many world-class brands such as Cotto, Fima Carlo Fratinni, and Eurano Bathroom Solutions, therefore allowing us to offer cutting-edge imported products at favorably secured premiums.\\n\\nWe also globally source our products to produce our OEM brand, BMS Porcelain that offers a full range of superior quality porcelain tile products in different sizes catering to different scale of residential and commercial projects.\n",
              "25                                                                                                                                                                                                                                                                                                                                                                                                                                                                                                                                                                                                                                                                                                                                                                                                                                                                                                                                                                                                                                                                 As the premier food testing laboratory in Singapore, we have been trusted by Singapore’s Small and Medium Enterprises and large Multinational Corporations to provide food testing services since 1997.\n",
              "26                                                                                                                                                                                                                                                                                                                                                                                                                                                                                                                                                                                                                                                                                                                                                                                                                                                                                                                                                                                                                                         Our wide product range including Citrus Juicer, Hand Blender, Hand Mixer, Stand Blender, Mini Chopper, Egg boiler, Electric knife... etc. Nowsdays, our products are selling to numerous worldwide brands all around the world.\n",
              "27                                                                                                                                                                                                                                                                                                                                                                                                                                                                                                                                                                                                                                                                                                                                                                                                                                                                                                                                                                                                              The Business current operating status is Live Company. The Business's principal activity is PRODUCTION OF PRE-CAST CONCRETE COMPONENTS. The Business's secondary activity is WHOLESALE OF STRUCTURAL CLAY AND CONCRETE PRODUCTS (EG MOSAIC TILES, BRICKS).\n",
              "28                                                                                                                                                                                                                                                                                                                                                                                                                                                                                                                                                                                                                                                                                                                                                Hangzhou Kangshun Sanrui Medical Equipment Co., Ltd. is a company specializing in the sales and service of imported in vitro diagnostic products. The company is the agent of Siemens medical diagnostic products in Zhejiang Province. The products cover large-scale biochemical analyzers, chemiluminescence immunoassay analyzers, blood cell analysis, specific protein analyzers, blood gas analyzers, microbial identification and drug sensitivity analyzers, etc., with a wide range of industries Product line\n",
              "29                                                                                                                                                                                                                                                                                                                                                                                                                                                                                                                                                                                                                                                                                                                                                                                                                                                                                                                                                                                                                                                                                                                                                                        Dongfang Sanitary Ware Co., Ltd. is a supplier dedicated to the trade of high-end sanitary ware.\n",
              "30                                                                                                                                                                                                                                                                                                                                                                                                                                                                                                                                                                                                                                                                                                                                                                                                                                                                                                                                                                                                                                      HOCK PENG ENGINEERING SDN. BHD.'s business includes PROPERTY DEVELOPMENT, BUILDING CONSTRUCTION, CIVIL ENGINEERING CONSTRUCTION.\\n\\nHOCK PENG ENGINEERING SDN. BHD. is a private limited company and has been existed for 8 years.\n",
              "31                                                                                                                                                                                                                                                                                                                                                                                                                                                                                                                                                                                                                                                                                                                                                                                                                                                                                                                                                    Officially, THAKRAL LIFESTYLE PTE. LTD. is registered as Private Limited Company with its address in District 1 (Raffles Place, Cecil, Marina, People's Park), primarily operates in the sector of \"OTHER BUSINESS SUPPORT SERVICE ACTIVITIES (EG JUNKETS, ADMINISTRATION OF LOYALTY PROGRAMMES)\", SSIC code - 82999\n",
              "32                                                                                                                                                                                                                                                                                                                                                                                                                                                                                                                                                                                                                                                                                                                                                                                                                                                                                                                                                      We are consumer electronics professionals that design, develop and manufacture a wide range of products, that are distributed through mass market channels around the world. We offer design services, management of complex OEM projects from concept to factory door, and distributing finished branded products\n",
              "33                                                                                                                                                                                                                                                                                                                                                                                                                                                                                                                                                                                                                                                                                                                                                                                                                                                                                                                                                                                                                                                                                                                                                                                                                               Manufacture of other basic iron and steel\n",
              "34                                                                                                                                                                                                                                                                                                                                                                                                                                                                                                                                                                                                                                                                                                                                                                                                                                                                                                                                                                                                                                                                                                          Kum Eng Huat is the authorised dealer for Osram and Philips, as well as a trusted supplier of lighting solutions for major projects with the local government.\n",
              "35                                                                                                                                                                                                                                                                                                                                                                                                                                                                                                                                                                                                                                                                                                                                                                                                                                                                                                                                                                                                                                                                                                                                                                                                                                                                     NaN\n",
              "36                                                                                                                                                                                                                                                                                                                                                                                                                                                                                                                                                                                                                                                                                                                                                                                                                                                                                                                                                                                                                                                                                              The Company's principal activity is development of e-commerce applications with development of other software and programming activities n.e.c. as the secondary activity.\n",
              "37                                                                                                                                                                                                                                                                                                                                                                                                                                                                                                                                                                                                                                                                                                                                                                                                                                                                                                                                                                                                                                                                  The Business's principal activity is development of e-commerce applications with web portals (e.g. web search, social networking sites, online marketplace, review portals) as the secondary activity.\n",
              "38                                                                                                                                                                                                                                                                                                                                                                                                                                                                                                                                                                                                                                                                                                                                                                                                                                                                                                                                                                         Started on 4 April 2014, by what would become known as the Star Alliance, SGeBIZ has grown in stature to become the No.1 Procure-to-Pay platform in Singapore. This continued dominance in the domestic market has led to support from government agencies to further our expansion regionally.\n",
              "39                                                                                                                                                                                                                                                                                                                                                                                                                                                                                                                                                                                                                                                                             Long Wei Constructions and Engineering Works Pte Ltd seeks to establish ourself as top-notched regional and global service provider in the process industry. Through our professional expertise and usage of cutting-edge technology, we strive to be the best firm in the market excelling in plant design, fabrication & construction and maintenance.\\nSpecialization\\nIndustrial/Marine Fabrication\\nSteel Fabrication & Piping Works\\nOil & Chemical/ Power Station Piping Works\\nBoiler repair & re-tubing works\\nManpower supply PCM/Constructions\\nProcess Construction Maintenance\n",
              "40                                                                                                                                                                                                                                                                                                                                                                                                                                                                                                                             Bureau van Dijk Electronic Publishing (BvDEP) is one of the world’s leading\\npublishers of electronic business information. The company has 28 offices worldwide.\\t \\nIt is best known for its solutions containing full financial information on companies worldwide. These solutions combine multiple high quality data sources with flexible software to allow users to harness data for research, marketing intelligence and analysis. Solutions containing listed and unlisted companies worldwide include ORBIS, OSIRIS and MINT GLOBAL. There are also solutions which cater to specific regions such as ORIANA (Asia Pacific), QIN (China) and AMADEUS (Europe). BvDEP also publishes ZEPHYR which contains international M&A data.\n",
              "41                                                                                                                                                                                                                                                                                                                                                                                                                                                                                                                                                                                                                                                                                                                                                                                                                                                                                                                                                                                                           Winn Gas is a trusted company in kitchen appliance and gas equipment manufacturing. Established in 1990 in Jakarta, Winn Gas has started the production and supporting and participating in the Indonesian Government Program to convert kerosene to LPG Gas.\n",
              "42                                                                                                                                                                                                                                                                                                                                                                                                                                                                                                                                                                                                                                                                                                                                                                                                                                                                                                                                                                                                     The Business current operating status is Live Company. The Business's principal activity is WHOLESALE TRADE OF A VARIETY OF GOODS WITHOUT A DOMINANT PRODUCT. The Business's secondary activity is RETAIL SALE VIA INTERNET (WITH INCOME MAINLY FROM ONLINE SALES).\n",
              "43                                                                                                                                                                                                                                                                                                                                                                                                                                                                                                                                                                                                                                                                                                                                                                                                                                                                                                                                                                                             Shenzhen 3nod Information Technology Co. Ltd. manufactures consumer electronics. The Company produces and sells audio equipment, cameras, video equipment, televisions, monitors, and other consumer electronics. Shenzhen 3nod Information Technology is located in China.\n",
              "44                                                                                                                                                                                                                                                                                                                                                                                                                                                                                                                                                                                                                                                                                                                                                                                                                                                                                                                                                                                                                                                                    Asia Mobile Holdings Pte. Ltd. (\"AMH\"), a subsidiary of Singapore Technologies Telemedia Pte Ltd (\"ST Telemedia\"), is a mobile telecoms investment company jointly held by ST Telemedia and Ooredoo.\n",
              "45                                                                                                                                                                                                                                                                                                                                                                                                                                                                                                                                                                                                                                                                                                                                                                                                                                                                                                                                                                                                                                                                                                                                                                                                  Electrical contractor, supplier of electrical materials and equipment.\n",
              "47                                                                                                                                                                                                                                                                                                                                                                                                                                                                                                                                                                                                                                                                                                                                              Personetics is the leading provider of customer-facing AI solution for financial services and the company behind the industry’s first Self-Driving Finance™ platform. \\n\\nHarnessing the power of AI, Personetics’ Self-Driving Finance solutions are used by the world’s largest financial institutions to transform digital banking into the center of the customer’s financial life – providing real-time personalized insight and advice, automating financial decisions, and simplifying day-to-day money management.\n",
              "48                                                                                                                                                                                                                                                                                                                                                                                                                                                                                                                                                                                                                                                                                                                                                                                                                                                                                                                                                                                                                                                                                                   The Business's principal activity is publishing of other software/applications (non-games) with publishing of gaming software/applications as the secondary activity.\n",
              "49                                                                                                                                                                                                                                                                                                                                                                                                                                                                                                                                                                                                                                                                                                                                                                                                                                                                                                                                                                                               We specialise in all kinds of mechanical and electrical system installation for factories, cleanrooms, data centres, banks, hospitals, airfields, power stations, gas & instrumentation plants, hotels, commercial & residential buildings and also infrastructure works.\n",
              "Name: Company Profile Information, dtype: object"
            ]
          },
          "metadata": {
            "tags": []
          },
          "execution_count": 135
        }
      ]
    },
    {
      "cell_type": "markdown",
      "metadata": {
        "id": "x50UFKzNkezP"
      },
      "source": [
        "<div class=\"alert alert-block alert-info\">\n",
        "    <b>Analysis Summary:</b> We do realise that some of the company profile message have some breaks in between like '\\n'. Now, we will have to take away all these problems so that it is one string of paragraph with no such annotations in betweeen.\n",
        "</div>"
      ]
    },
    {
      "cell_type": "markdown",
      "metadata": {
        "id": "ETEpM1eCk9Cf"
      },
      "source": [
        "---\n",
        "---"
      ]
    },
    {
      "cell_type": "markdown",
      "metadata": {
        "id": "l0rub1v2k-dq"
      },
      "source": [
        "# 4.Data Preprocessing"
      ]
    },
    {
      "cell_type": "markdown",
      "metadata": {
        "id": "ZxCABlrVlDW6"
      },
      "source": [
        "### 4.1. Removing `\\n`\n",
        "\n",
        "---\n",
        "\n",
        "Now, we will like to standardize all the paragraphs such that the are homogenous, before we tokenize the paragraph."
      ]
    },
    {
      "cell_type": "code",
      "metadata": {
        "colab": {
          "base_uri": "https://localhost:8080/"
        },
        "id": "MAq4hq6XlMBp",
        "outputId": "d2b1cc22-b1af-46c9-c1b7-534bc32e32c7"
      },
      "source": [
        "# get rid of the \\n found in the respective descriptions\n",
        "df_valid = df_valid.replace('\\n',' ', regex=True)\n",
        "\n",
        "# now we validate to see if theye are really gone\n",
        "df_valid.loc[0:49,'Company Profile Information']"
      ],
      "execution_count": null,
      "outputs": [
        {
          "output_type": "execute_result",
          "data": {
            "text/plain": [
              "0                                                                                                                                                                                                                                                                                                                                                                                                                                                                              We specialize in design and building from dormitories including ancillary facilities and amenities such as central kitchen, supermarket, cinema and recreation facilities to temporary offices for a wide range of purposes and site office for projects to clients requirements and specifications in a short duration. Our architect can utilize limited land area to maximize built-up space with a up building design with access by our steel stair system. We also provide prefabricated buildings for hospitals and polyclinics providing additional spaces for offices, consultation rooms, treatment room, patient beds, etc. Our solutions to your well-designed quality temporary housing and facilities: Dormitory, Site Office, Hospital, Schools and classrooms, Sales Office\n",
              "1     We have transformed ourselves into a specialist provider of EPCC (Engineering, Procurement, Construction and Commissioning) services for aviation fuel facilities, infrastructure projects and plant engineering works which includes but not limited to, the transmission and storage of commodities, such as oil, gas, water. Our services encompass the full spectrum of engineering works from engineering design, sourcing and procurement, construction, fabrication, installation, testing and commissioning. We also possess the expertise to phase and integrate new systems with existing facilities such that existing operations are not disrupted whilst works are being carried out. In addition, we provide maintenance services to our customers for their existing infrastructure facilities. We are also involved in the engineering works for specialized projects such as offshore facilities for oil and gas production and petrochemical plants. These projects require high engineering expertise where our engineering knowledge and construction experience are applied. Thus far, our involvement in such projects has been in relation to specific engineering steps such as engineering design, installation, testing and commissioning.\n",
              "2                                                                                                                                                                                                                                                                                                                                                                                                                                                                                                                                                                                                                                                                                                                                                                                                                         Echo Port is specialized in manufacturing CHEST FREEZER, SHOWCASE & REFRIGERATOR. Being professional for this field, we offer full range OEM products for well-known enterprises in domestic and export market. With our competitive price and excellent quality, we have sucessfully been the long term supplier of some famous brands in the world, such as SANYO, AKIRA, AKAI etc. The annual production capacity has reached 600, 000 units.\n",
              "3                                                                                                                                                                                                                                                                                                                                                                                                                                                                                                                                                                                                                                                                                                                                                                                                                                                  Sandimas provides a wide range of commercial, industrial and residential building supplies specializing in floor tiles & sanitary wares related products. Since 1987, Sandimas has built its reputation to be the trusted importer & distributor of high quality granite tiles in Indonesia. Sandimas continuously advances its quality, skill and innovation, leading the company into dominant market position today.\n",
              "4                                                                                                                                                                                                                                                                                                                                                                                                                                                                                                                                                                                                                                                                                                                                                                                                                                                                                                                                                                                                 Elca Contract Flooring Pte Ltd established in 1987 and Elca Design Pte Ltd (a subsidiary of Elca Contract Flooring.) are the sole distributor for Tarkett vinyl and Flotex floorcoverings, providing both sales and installation; and after sales services in Singapore.\n",
              "5                                                                                                                                                                                                                                                                                                                                                                                                                                                                                                                                                                                                                                                                                                                                                                                                                                                                The Company distributes computers, computer peripherals, software, IT system, computer consumables and Communication Device of over 50 world-recognized brands whereas the Company’s customer base includes countrywide computer retailers and wholesalers, major software solutions providers, local-branded computer manufacturers, department stores, giant superstores and stationary shops, and etc.\n",
              "6                                                                                                                                                                                                                                                                                                                                                                                                                                                                                                                                                                                                                                                                                                                                                                                                          CAPPITECH ENGINEERING is an ACRA-registered entity that has been operating for 13 years 9 months in Singapore since its incorporation y in 2007. Officially, CAPPITECH ENGINEERING PTE. LTD. is registered as Exempt Private Limited Company with its address in District 13 (Macpherson, Braddell), primarily operates in the sector of \"WHOLESALE OF HOUSEHOLD ELECTRICAL APPLIANCES AND EQUIPMENT (INCLUDING HOUSEHOLD AIR-CONDITIONERS)\", SSIC code - 46435\n",
              "7                                                                                                                                                                                                                                                                                                                                                                                                                                                                                                                                                                                                                                         In the year 2002, we formed a strategic alliance with Corporation Electric Co Pte Ltd to acheive immediate business expansion with a wider pool of human resources, product offerings and customer base. This was with the transfer of Corporation Electric’s trading division to our company which includes the customers as well as the agencies represented. We were therefore officially renamed from Test & Measurement (S) Pte Ltd to CE-Test & Measurement (S) Pte Ltd. With the new identity, our new mission is to be a total solution provider of industrial test and measuring equipments for our valuable customers.\n",
              "8                                                                                                                                                                                                                                                                                                                                                                                                                                                                                                                                                                                                                                                                      Commemorating 10 solid years of providing furniture solutions, what started out as a journey to “impact lives and communities” has taken Ho Lai Kuan, the founder of Quel International Sdn Bhd ( known as “Qi” ) on an uncharted mission that has proven to be rewarding beyond measure.We specialises in furniture and interior fit-outs to hotels, resorts, F&B outlets, corporate offices , educational institutions and residential developments. Since 2011, we has been focusing on providing total interior fit-out and furnishing solutions as well as delivering excellence to customers.\n",
              "10                                                                                                                                                                                                                                                                                                                                                                                                                                                                                                                                                                                                                                                                                                                                                                                                                                                                                                                                                                                                                                                                                                                                Residential and Commercial Buildings. Installation, repair, service, maintenance. Chillers, compressors and all types of cooling systems\n",
              "11                                                                                                                                                                                                                                                                                                                                                                                                                                                                                                                                                                                                                                                                                                                                                                                                                                                                                                                                                                                                                                                                                                   Gemilite Sdn Bhd was founded in 1981. The Company's line of business includes the wholesale distribution of electronic parts and electronic communications equipment.\n",
              "13                                                                                                                                                                                                                                                                                                                                                                                                                                                                                                                                                                                                                                                                                                                                                                                                                                                                Incorporated in 1984, main board-listed Singapore Press Holdings Ltd (SPH) is Asia's leading media organisation, engaging minds and enriching lives across multiple languages and platforms.  SPH's core business is in the publishing of newspapers, magazines and books in both print and digital editions. It also owns other digital products, online classifieds, radio stations and outdoor media.\n",
              "14                                                                                                                                                                                                                                                                                                                                                                                                                                                                                                                                     Trends N Trendies Pte Ltd is managing a retail chain of 12 shops which are all under the business name of G-Force Network. G-Force Network was acquired by Trends N Trendies in Apr 2002. Since then, we have grown to a retail network of 12 shops and won many prizes given by SingTel and mobile phone manufacturers. We employ a total of 62 staff of which 51 are sales staff who are highly competent and knowledgeable. They never stop upgrading themselves in order to serve more and more sophisticated customers and to sell more and more complex products and services. We are SingTel Exclusive Retailer. Besides mobile phones, we sell SingtelTV, SingNet Broadband, Broadband on Mobile and their bundle services.\n",
              "15                                                                                                                                                                                                                                                                                                                                                                                                                                                                                                                                                                                                                                                                                                                                                                                                                                                                                            LEKSTAR Corporation Pte Ltd is best known as the leading force in Wooden Products with a comprehensive choice of Sawn Timber to value added products like wooden solid flooring, wooden door components , finger joint and wooden laminates We understand the importance of working closely with customers to deliver the best specification on a reliable continuous basis.\n",
              "16                                                                                                                                                                                                                                                                                                                                                                                                                                                                                                                                                                                                                                                                                                                                                                                                        TECK JOO HARDWARE & ENGINEERING is an ACRA-registered entity that has been operating for 29 years 6 months in Singapore since its incorporation y in 1991. Officially, TECK JOO HARDWARE & ENGINEERING is registered as Sole Proprietor with its address in District 20 (Bishan, Ang Mo Kio), primarily operates in the sector of \"RETAIL SALE OF HARDWARE, PAINT AND GLASS N.E.C. (EG WOOD, GLASS, SANITARY WARE, DO-IT-YOURSELF MATERIALS)\", SSIC code - 47529\n",
              "17                                                                                                                                                                                                                                                                                                                                                                                                                                                                                                                                                                                                                                                                                                                                                                                                                Established in 1988 originally as a pure wood based resource business for 30 years operating under Sen Wan Timber (S) Pte. Ltd, our home grown company is still today one of the Singapore’s largest supplier of infrastructure building needs of timber, plywood & veneer other materials to various local industries including, construction; marine; furniture & interior design; and MICE (i.e. meetings, incentives, conventions and exhibitions). \n",
              "18                                                                                                                                                                                                                                                                                                                                                                                                                                                                                                                                                                                                                                                                                                                                                                                                                                                                                                                                                                                                                                                                                                                                        We are BCA-registered mechanical electrical engineering contractor firm specializing in providing building engineering services.\n",
              "19                                                                                                                                                                                                                                                                                                                                                                                                                                                                                                                                                                                                                                                                                                                                                                  ONG BROTHERS TILING & CONSTRUCTION PTE LTD had establish ourselves 34 yrs. in the industry since the time we register ourselves in 1977, over the years we had built ourselves with our manufacturer a very good working relationship & be able to offer you consistent quality products with an enticing competitive price. We are specializing in suppling interior and exterior Building Related Products most notably in Ceramic and Homogeneous tiles, Marbles, Granites and other related items.\n",
              "20                                                                                                                                                                                                                                                                                                                                                                                                                                                                                                                                                                                                                                                                                                                                                                                                                                                                                                                   DLM, an affiliated company of DLE M&E Pte Ltd, is based in Singapore and specializes in design and installation works for:  – Air Conditioning & Mechanical Ventilation System – High Voltage and Low Voltage Electrical System – Extra Low Voltage Systems and Security Systems – Smoke Control and Fire Protection System – Plumbing and Sanitation\n",
              "21                                                                                                                                                                                                                                                                                                                                                                                                                                                                                                                                                                                                                                                                                                                                                                                                                                                      Founded in 1987, Huawei is a leading global provider of information and communications technology (ICT) infrastructure and smart devices. We are committed to bringing digital to every person, home and organization for a fully connected, intelligent world. We have approximately 197,000 employees and we operate in over 170 countries and regions, serving more than three billion people around the world.\n",
              "22                                                                                                                                                                                                                                                                                                                                                                                                                                                                                                                                                                                                                                                                                                                                                                                                                                                                                                                                                                                                                                                                                                                                                                                       Company Nature Of Business PROPERTY DEVELOPMENT AND INVESTMENT PROPERTIES HOLDING\n",
              "24                                                                                                                     Incorporated in 1990, Jubin BMS is the leading tiles, stone, mosaics, and sanitary wares supplier/retailer in Malaysia that has been making dream homes come true with our extensive range of products catering to different segments and requirement.  Curated globally, Jubin BMS’s collection includes porcelain tiles, ceramic wall tiles, natural stones, mosaic, wood tiles, large format porcelain slabs, sanitary wares,fittings and accessories. Our aim is to provide the best quality products with professional services and exciting yet friendly shopping experience.With our strong sourcing and abundant distribution network converged over the years, we have been the exclusive distributor of many world-class brands such as Cotto, Fima Carlo Fratinni, and Eurano Bathroom Solutions, therefore allowing us to offer cutting-edge imported products at favorably secured premiums.  We also globally source our products to produce our OEM brand, BMS Porcelain that offers a full range of superior quality porcelain tile products in different sizes catering to different scale of residential and commercial projects.\n",
              "25                                                                                                                                                                                                                                                                                                                                                                                                                                                                                                                                                                                                                                                                                                                                                                                                                                                                                                                                                                                                                                                                 As the premier food testing laboratory in Singapore, we have been trusted by Singapore’s Small and Medium Enterprises and large Multinational Corporations to provide food testing services since 1997.\n",
              "26                                                                                                                                                                                                                                                                                                                                                                                                                                                                                                                                                                                                                                                                                                                                                                                                                                                                                                                                                                                                                                         Our wide product range including Citrus Juicer, Hand Blender, Hand Mixer, Stand Blender, Mini Chopper, Egg boiler, Electric knife... etc. Nowsdays, our products are selling to numerous worldwide brands all around the world.\n",
              "27                                                                                                                                                                                                                                                                                                                                                                                                                                                                                                                                                                                                                                                                                                                                                                                                                                                                                                                                                                                                              The Business current operating status is Live Company. The Business's principal activity is PRODUCTION OF PRE-CAST CONCRETE COMPONENTS. The Business's secondary activity is WHOLESALE OF STRUCTURAL CLAY AND CONCRETE PRODUCTS (EG MOSAIC TILES, BRICKS).\n",
              "28                                                                                                                                                                                                                                                                                                                                                                                                                                                                                                                                                                                                                                                                                                                                                Hangzhou Kangshun Sanrui Medical Equipment Co., Ltd. is a company specializing in the sales and service of imported in vitro diagnostic products. The company is the agent of Siemens medical diagnostic products in Zhejiang Province. The products cover large-scale biochemical analyzers, chemiluminescence immunoassay analyzers, blood cell analysis, specific protein analyzers, blood gas analyzers, microbial identification and drug sensitivity analyzers, etc., with a wide range of industries Product line\n",
              "29                                                                                                                                                                                                                                                                                                                                                                                                                                                                                                                                                                                                                                                                                                                                                                                                                                                                                                                                                                                                                                                                                                                                                                        Dongfang Sanitary Ware Co., Ltd. is a supplier dedicated to the trade of high-end sanitary ware.\n",
              "30                                                                                                                                                                                                                                                                                                                                                                                                                                                                                                                                                                                                                                                                                                                                                                                                                                                                                                                                                                                                                                        HOCK PENG ENGINEERING SDN. BHD.'s business includes PROPERTY DEVELOPMENT, BUILDING CONSTRUCTION, CIVIL ENGINEERING CONSTRUCTION.  HOCK PENG ENGINEERING SDN. BHD. is a private limited company and has been existed for 8 years.\n",
              "31                                                                                                                                                                                                                                                                                                                                                                                                                                                                                                                                                                                                                                                                                                                                                                                                                                                                                                                                                    Officially, THAKRAL LIFESTYLE PTE. LTD. is registered as Private Limited Company with its address in District 1 (Raffles Place, Cecil, Marina, People's Park), primarily operates in the sector of \"OTHER BUSINESS SUPPORT SERVICE ACTIVITIES (EG JUNKETS, ADMINISTRATION OF LOYALTY PROGRAMMES)\", SSIC code - 82999\n",
              "32                                                                                                                                                                                                                                                                                                                                                                                                                                                                                                                                                                                                                                                                                                                                                                                                                                                                                                                                                      We are consumer electronics professionals that design, develop and manufacture a wide range of products, that are distributed through mass market channels around the world. We offer design services, management of complex OEM projects from concept to factory door, and distributing finished branded products\n",
              "33                                                                                                                                                                                                                                                                                                                                                                                                                                                                                                                                                                                                                                                                                                                                                                                                                                                                                                                                                                                                                                                                                                                                                                                                                               Manufacture of other basic iron and steel\n",
              "34                                                                                                                                                                                                                                                                                                                                                                                                                                                                                                                                                                                                                                                                                                                                                                                                                                                                                                                                                                                                                                                                                                          Kum Eng Huat is the authorised dealer for Osram and Philips, as well as a trusted supplier of lighting solutions for major projects with the local government.\n",
              "35                                                                                                                                                                                                                                                                                                                                                                                                                                                                                                                                                                                                                                                                                                                                                                                                                                                                                                                                                                                                                                                                                                                                                                                                                                                                     NaN\n",
              "36                                                                                                                                                                                                                                                                                                                                                                                                                                                                                                                                                                                                                                                                                                                                                                                                                                                                                                                                                                                                                                                                                              The Company's principal activity is development of e-commerce applications with development of other software and programming activities n.e.c. as the secondary activity.\n",
              "37                                                                                                                                                                                                                                                                                                                                                                                                                                                                                                                                                                                                                                                                                                                                                                                                                                                                                                                                                                                                                                                                  The Business's principal activity is development of e-commerce applications with web portals (e.g. web search, social networking sites, online marketplace, review portals) as the secondary activity.\n",
              "38                                                                                                                                                                                                                                                                                                                                                                                                                                                                                                                                                                                                                                                                                                                                                                                                                                                                                                                                                                         Started on 4 April 2014, by what would become known as the Star Alliance, SGeBIZ has grown in stature to become the No.1 Procure-to-Pay platform in Singapore. This continued dominance in the domestic market has led to support from government agencies to further our expansion regionally.\n",
              "39                                                                                                                                                                                                                                                                                                                                                                                                                                                                                                                                                                                                                                                                                    Long Wei Constructions and Engineering Works Pte Ltd seeks to establish ourself as top-notched regional and global service provider in the process industry. Through our professional expertise and usage of cutting-edge technology, we strive to be the best firm in the market excelling in plant design, fabrication & construction and maintenance. Specialization Industrial/Marine Fabrication Steel Fabrication & Piping Works Oil & Chemical/ Power Station Piping Works Boiler repair & re-tubing works Manpower supply PCM/Constructions Process Construction Maintenance\n",
              "40                                                                                                                                                                                                                                                                                                                                                                                                                                                                                                                               Bureau van Dijk Electronic Publishing (BvDEP) is one of the world’s leading publishers of electronic business information. The company has 28 offices worldwide.\\t  It is best known for its solutions containing full financial information on companies worldwide. These solutions combine multiple high quality data sources with flexible software to allow users to harness data for research, marketing intelligence and analysis. Solutions containing listed and unlisted companies worldwide include ORBIS, OSIRIS and MINT GLOBAL. There are also solutions which cater to specific regions such as ORIANA (Asia Pacific), QIN (China) and AMADEUS (Europe). BvDEP also publishes ZEPHYR which contains international M&A data.\n",
              "41                                                                                                                                                                                                                                                                                                                                                                                                                                                                                                                                                                                                                                                                                                                                                                                                                                                                                                                                                                                                           Winn Gas is a trusted company in kitchen appliance and gas equipment manufacturing. Established in 1990 in Jakarta, Winn Gas has started the production and supporting and participating in the Indonesian Government Program to convert kerosene to LPG Gas.\n",
              "42                                                                                                                                                                                                                                                                                                                                                                                                                                                                                                                                                                                                                                                                                                                                                                                                                                                                                                                                                                                                     The Business current operating status is Live Company. The Business's principal activity is WHOLESALE TRADE OF A VARIETY OF GOODS WITHOUT A DOMINANT PRODUCT. The Business's secondary activity is RETAIL SALE VIA INTERNET (WITH INCOME MAINLY FROM ONLINE SALES).\n",
              "43                                                                                                                                                                                                                                                                                                                                                                                                                                                                                                                                                                                                                                                                                                                                                                                                                                                                                                                                                                                             Shenzhen 3nod Information Technology Co. Ltd. manufactures consumer electronics. The Company produces and sells audio equipment, cameras, video equipment, televisions, monitors, and other consumer electronics. Shenzhen 3nod Information Technology is located in China.\n",
              "44                                                                                                                                                                                                                                                                                                                                                                                                                                                                                                                                                                                                                                                                                                                                                                                                                                                                                                                                                                                                                                                                    Asia Mobile Holdings Pte. Ltd. (\"AMH\"), a subsidiary of Singapore Technologies Telemedia Pte Ltd (\"ST Telemedia\"), is a mobile telecoms investment company jointly held by ST Telemedia and Ooredoo.\n",
              "45                                                                                                                                                                                                                                                                                                                                                                                                                                                                                                                                                                                                                                                                                                                                                                                                                                                                                                                                                                                                                                                                                                                                                                                                  Electrical contractor, supplier of electrical materials and equipment.\n",
              "47                                                                                                                                                                                                                                                                                                                                                                                                                                                                                                                                                                                                                                                                                                                                                Personetics is the leading provider of customer-facing AI solution for financial services and the company behind the industry’s first Self-Driving Finance™ platform.   Harnessing the power of AI, Personetics’ Self-Driving Finance solutions are used by the world’s largest financial institutions to transform digital banking into the center of the customer’s financial life – providing real-time personalized insight and advice, automating financial decisions, and simplifying day-to-day money management.\n",
              "48                                                                                                                                                                                                                                                                                                                                                                                                                                                                                                                                                                                                                                                                                                                                                                                                                                                                                                                                                                                                                                                                                                   The Business's principal activity is publishing of other software/applications (non-games) with publishing of gaming software/applications as the secondary activity.\n",
              "49                                                                                                                                                                                                                                                                                                                                                                                                                                                                                                                                                                                                                                                                                                                                                                                                                                                                                                                                                                                               We specialise in all kinds of mechanical and electrical system installation for factories, cleanrooms, data centres, banks, hospitals, airfields, power stations, gas & instrumentation plants, hotels, commercial & residential buildings and also infrastructure works.\n",
              "Name: Company Profile Information, dtype: object"
            ]
          },
          "metadata": {
            "tags": []
          },
          "execution_count": 138
        }
      ]
    },
    {
      "cell_type": "markdown",
      "metadata": {
        "id": "_UbMqS2dvXeZ"
      },
      "source": [
        "### 4.2. Calculating the word length distribution\n",
        "\n",
        "---\n",
        "\n",
        "Here, we will be calculating the world length distribution of the collective company description."
      ]
    },
    {
      "cell_type": "code",
      "metadata": {
        "colab": {
          "base_uri": "https://localhost:8080/",
          "height": 459
        },
        "id": "uDsrjeimvDl8",
        "outputId": "3f9dc66e-6edf-43b6-90fd-d04c7c0e0a47"
      },
      "source": [
        "# first, add in a new column that tabluates the length of the respecive copany description\n",
        "df_valid[\"length\"] = df_valid[\"Company Profile Information\"].str.len()\n",
        "df_valid.head()"
      ],
      "execution_count": null,
      "outputs": [
        {
          "output_type": "execute_result",
          "data": {
            "text/html": [
              "<div>\n",
              "<style scoped>\n",
              "    .dataframe tbody tr th:only-of-type {\n",
              "        vertical-align: middle;\n",
              "    }\n",
              "\n",
              "    .dataframe tbody tr th {\n",
              "        vertical-align: top;\n",
              "    }\n",
              "\n",
              "    .dataframe thead th {\n",
              "        text-align: right;\n",
              "    }\n",
              "</style>\n",
              "<table border=\"1\" class=\"dataframe\">\n",
              "  <thead>\n",
              "    <tr style=\"text-align: right;\">\n",
              "      <th></th>\n",
              "      <th>Company</th>\n",
              "      <th>Country</th>\n",
              "      <th>Sector</th>\n",
              "      <th>Subsector</th>\n",
              "      <th>Archetype</th>\n",
              "      <th>Valuechain</th>\n",
              "      <th>Company Profile Information</th>\n",
              "      <th>length</th>\n",
              "    </tr>\n",
              "  </thead>\n",
              "  <tbody>\n",
              "    <tr>\n",
              "      <th>0</th>\n",
              "      <td>ANDERCO PTE LTD</td>\n",
              "      <td>SINGAPORE</td>\n",
              "      <td>CNI</td>\n",
              "      <td>buildings &amp; industrial</td>\n",
              "      <td>buildings &amp; industrial_contractor</td>\n",
              "      <td>MIDSTREAM</td>\n",
              "      <td>We specialize in design and building from dormitories including ancillary facilities and amenities such as central kitchen, supermarket, cinema and recreation facilities to temporary offices for a wide range of purposes and site office for projects to clients requirements and specifications in a short duration. Our architect can utilize limited land area to maximize built-up space with a up building design with access by our steel stair system. We also provide prefabricated buildings for hospitals and polyclinics providing additional spaces for offices, consultation rooms, treatment room, patient beds, etc. Our solutions to your well-designed quality temporary housing and facilities: Dormitory, Site Office, Hospital, Schools and classrooms, Sales Office</td>\n",
              "      <td>763.0</td>\n",
              "    </tr>\n",
              "    <tr>\n",
              "      <th>1</th>\n",
              "      <td>WEC ENGINEERS &amp; CONSTRUCTORS PTE LTD</td>\n",
              "      <td>SINGAPORE</td>\n",
              "      <td>CNI</td>\n",
              "      <td>buildings &amp; industrial</td>\n",
              "      <td>buildings &amp; industrial_contractor</td>\n",
              "      <td>MIDSTREAM</td>\n",
              "      <td>We have transformed ourselves into a specialist provider of EPCC (Engineering, Procurement, Construction and Commissioning) services for aviation fuel facilities, infrastructure projects and plant engineering works which includes but not limited to, the transmission and storage of commodities, such as oil, gas, water. Our services encompass the full spectrum of engineering works from engineering design, sourcing and procurement, construction, fabrication, installation, testing and commissioning. We also possess the expertise to phase and integrate new systems with existing facilities such that existing operations are not disrupted whilst works are being carried out. In addition, we provide maintenance services to our customers for their existing infrastructure facilities. We are also involved in the engineering works for specialized projects such as offshore facilities for oil and gas production and petrochemical plants. These projects require high engineering expertise where our engineering knowledge and construction experience are applied. Thus far, our involvement in such projects has been in relation to specific engineering steps such as engineering design, installation, testing and commissioning.</td>\n",
              "      <td>1220.0</td>\n",
              "    </tr>\n",
              "    <tr>\n",
              "      <th>2</th>\n",
              "      <td>ECHO PORT INTERNATIONAL LIMITED</td>\n",
              "      <td>HONG KONG</td>\n",
              "      <td>TMT</td>\n",
              "      <td>consumer electronics</td>\n",
              "      <td>consumer electronics_distributor</td>\n",
              "      <td>DOWNSTREAM</td>\n",
              "      <td>Echo Port is specialized in manufacturing CHEST FREEZER, SHOWCASE &amp; REFRIGERATOR. Being professional for this field, we offer full range OEM products for well-known enterprises in domestic and export market. With our competitive price and excellent quality, we have sucessfully been the long term supplier of some famous brands in the world, such as SANYO, AKIRA, AKAI etc. The annual production capacity has reached 600, 000 units.</td>\n",
              "      <td>432.0</td>\n",
              "    </tr>\n",
              "    <tr>\n",
              "      <th>3</th>\n",
              "      <td>DEKORAMIK PERDANA,PT</td>\n",
              "      <td>INDONESIA</td>\n",
              "      <td>CNI</td>\n",
              "      <td>building material</td>\n",
              "      <td>building material_distributor</td>\n",
              "      <td>DOWNSTREAM</td>\n",
              "      <td>Sandimas provides a wide range of commercial, industrial and residential building supplies specializing in floor tiles &amp; sanitary wares related products. Since 1987, Sandimas has built its reputation to be the trusted importer &amp; distributor of high quality granite tiles in Indonesia. Sandimas continuously advances its quality, skill and innovation, leading the company into dominant market position today.</td>\n",
              "      <td>407.0</td>\n",
              "    </tr>\n",
              "    <tr>\n",
              "      <th>4</th>\n",
              "      <td>ELCA CONTRACT FLOORING PTE LTD</td>\n",
              "      <td>SINGAPORE</td>\n",
              "      <td>CNI</td>\n",
              "      <td>building material</td>\n",
              "      <td>building material_distributor</td>\n",
              "      <td>DOWNSTREAM</td>\n",
              "      <td>Elca Contract Flooring Pte Ltd established in 1987 and Elca Design Pte Ltd (a subsidiary of Elca Contract Flooring.) are the sole distributor for Tarkett vinyl and Flotex floorcoverings, providing both sales and installation; and after sales services in Singapore.</td>\n",
              "      <td>264.0</td>\n",
              "    </tr>\n",
              "  </tbody>\n",
              "</table>\n",
              "</div>"
            ],
            "text/plain": [
              "                                Company  ...  length\n",
              "0                       ANDERCO PTE LTD  ...   763.0\n",
              "1  WEC ENGINEERS & CONSTRUCTORS PTE LTD  ...  1220.0\n",
              "2       ECHO PORT INTERNATIONAL LIMITED  ...   432.0\n",
              "3                  DEKORAMIK PERDANA,PT  ...   407.0\n",
              "4        ELCA CONTRACT FLOORING PTE LTD  ...   264.0\n",
              "\n",
              "[5 rows x 8 columns]"
            ]
          },
          "metadata": {
            "tags": []
          },
          "execution_count": 143
        }
      ]
    },
    {
      "cell_type": "code",
      "metadata": {
        "colab": {
          "base_uri": "https://localhost:8080/",
          "height": 295
        },
        "id": "725S9NxvyZXQ",
        "outputId": "23c1f727-e1a8-4f58-863c-869c256bd976"
      },
      "source": [
        "# now plot a distribution plot to see the word length distribution\n",
        "sns.distplot(df_valid[\"length\"], kde=True)\n",
        "plt.title('Word Length Distribution')\n",
        "plt.show()"
      ],
      "execution_count": null,
      "outputs": [
        {
          "output_type": "display_data",
          "data": {
            "image/png": "[encoded data removed]",
            "text/plain": [
              "<Figure size 432x288 with 1 Axes>"
            ]
          },
          "metadata": {
            "tags": []
          }
        }
      ]
    },
    {
      "cell_type": "markdown",
      "metadata": {
        "id": "ZjI1Z5ogyl6h"
      },
      "source": [
        "<div class=\"alert alert-block alert-info\">\n",
        "    <b>Analysis Summary:</b> We can see that there is a high record of the company description having a total word length of around 200 to 300, while those aboce 800 is very rare.\n",
        "</div>"
      ]
    },
    {
      "cell_type": "markdown",
      "metadata": {
        "id": "OdPgyXL60rqg"
      },
      "source": [
        "### 4.3. Subsample from the entire dataset\n",
        "\n",
        "---\n",
        "\n",
        "We will now subsample a part of the dataset from the entire dataset. This is important as firstly, we need to ensure that our tokenization is working correctly in a smaller scale dataset, since using the entire dataset to do it will be very time consuming."
      ]
    },
    {
      "cell_type": "code",
      "metadata": {
        "id": "OC9h-jIM07v2",
        "colab": {
          "base_uri": "https://localhost:8080/",
          "height": 963
        },
        "outputId": "5f5154d8-3cdc-4289-d33d-814b1954b234"
      },
      "source": [
        "# declare sample size here first (CHANGE IT AS THE TRAINING DATA INCREASES)\n",
        "sample_size = 383\n",
        "\n",
        "# now we will get the data from the restricted range of sample size\n",
        "subsample = df_valid[:383]\n",
        "subsample"
      ],
      "execution_count": null,
      "outputs": [
        {
          "output_type": "execute_result",
          "data": {
            "text/html": [
              "<div>\n",
              "<style scoped>\n",
              "    .dataframe tbody tr th:only-of-type {\n",
              "        vertical-align: middle;\n",
              "    }\n",
              "\n",
              "    .dataframe tbody tr th {\n",
              "        vertical-align: top;\n",
              "    }\n",
              "\n",
              "    .dataframe thead th {\n",
              "        text-align: right;\n",
              "    }\n",
              "</style>\n",
              "<table border=\"1\" class=\"dataframe\">\n",
              "  <thead>\n",
              "    <tr style=\"text-align: right;\">\n",
              "      <th></th>\n",
              "      <th>Company</th>\n",
              "      <th>Country</th>\n",
              "      <th>Sector</th>\n",
              "      <th>Subsector</th>\n",
              "      <th>Archetype</th>\n",
              "      <th>Valuechain</th>\n",
              "      <th>Company Profile Information</th>\n",
              "      <th>length</th>\n",
              "    </tr>\n",
              "  </thead>\n",
              "  <tbody>\n",
              "    <tr>\n",
              "      <th>0</th>\n",
              "      <td>ANDERCO PTE LTD</td>\n",
              "      <td>SINGAPORE</td>\n",
              "      <td>CNI</td>\n",
              "      <td>buildings &amp; industrial</td>\n",
              "      <td>buildings &amp; industrial_contractor</td>\n",
              "      <td>MIDSTREAM</td>\n",
              "      <td>We specialize in design and building from dormitories including ancillary facilities and amenities such as central kitchen, supermarket, cinema and recreation facilities to temporary offices for a wide range of purposes and site office for projects to clients requirements and specifications in a short duration. Our architect can utilize limited land area to maximize built-up space with a up building design with access by our steel stair system. We also provide prefabricated buildings for hospitals and polyclinics providing additional spaces for offices, consultation rooms, treatment room, patient beds, etc. Our solutions to your well-designed quality temporary housing and facilities: Dormitory, Site Office, Hospital, Schools and classrooms, Sales Office</td>\n",
              "      <td>763.0</td>\n",
              "    </tr>\n",
              "    <tr>\n",
              "      <th>1</th>\n",
              "      <td>WEC ENGINEERS &amp; CONSTRUCTORS PTE LTD</td>\n",
              "      <td>SINGAPORE</td>\n",
              "      <td>CNI</td>\n",
              "      <td>buildings &amp; industrial</td>\n",
              "      <td>buildings &amp; industrial_contractor</td>\n",
              "      <td>MIDSTREAM</td>\n",
              "      <td>We have transformed ourselves into a specialist provider of EPCC (Engineering, Procurement, Construction and Commissioning) services for aviation fuel facilities, infrastructure projects and plant engineering works which includes but not limited to, the transmission and storage of commodities, such as oil, gas, water. Our services encompass the full spectrum of engineering works from engineering design, sourcing and procurement, construction, fabrication, installation, testing and commissioning. We also possess the expertise to phase and integrate new systems with existing facilities such that existing operations are not disrupted whilst works are being carried out. In addition, we provide maintenance services to our customers for their existing infrastructure facilities. We are also involved in the engineering works for specialized projects such as offshore facilities for oil and gas production and petrochemical plants. These projects require high engineering expertise where our engineering knowledge and construction experience are applied. Thus far, our involvement in such projects has been in relation to specific engineering steps such as engineering design, installation, testing and commissioning.</td>\n",
              "      <td>1220.0</td>\n",
              "    </tr>\n",
              "    <tr>\n",
              "      <th>2</th>\n",
              "      <td>ECHO PORT INTERNATIONAL LIMITED</td>\n",
              "      <td>HONG KONG</td>\n",
              "      <td>TMT</td>\n",
              "      <td>consumer electronics</td>\n",
              "      <td>consumer electronics_distributor</td>\n",
              "      <td>DOWNSTREAM</td>\n",
              "      <td>Echo Port is specialized in manufacturing CHEST FREEZER, SHOWCASE &amp; REFRIGERATOR. Being professional for this field, we offer full range OEM products for well-known enterprises in domestic and export market. With our competitive price and excellent quality, we have sucessfully been the long term supplier of some famous brands in the world, such as SANYO, AKIRA, AKAI etc. The annual production capacity has reached 600, 000 units.</td>\n",
              "      <td>432.0</td>\n",
              "    </tr>\n",
              "    <tr>\n",
              "      <th>3</th>\n",
              "      <td>DEKORAMIK PERDANA,PT</td>\n",
              "      <td>INDONESIA</td>\n",
              "      <td>CNI</td>\n",
              "      <td>building material</td>\n",
              "      <td>building material_distributor</td>\n",
              "      <td>DOWNSTREAM</td>\n",
              "      <td>Sandimas provides a wide range of commercial, industrial and residential building supplies specializing in floor tiles &amp; sanitary wares related products. Since 1987, Sandimas has built its reputation to be the trusted importer &amp; distributor of high quality granite tiles in Indonesia. Sandimas continuously advances its quality, skill and innovation, leading the company into dominant market position today.</td>\n",
              "      <td>407.0</td>\n",
              "    </tr>\n",
              "    <tr>\n",
              "      <th>4</th>\n",
              "      <td>ELCA CONTRACT FLOORING PTE LTD</td>\n",
              "      <td>SINGAPORE</td>\n",
              "      <td>CNI</td>\n",
              "      <td>building material</td>\n",
              "      <td>building material_distributor</td>\n",
              "      <td>DOWNSTREAM</td>\n",
              "      <td>Elca Contract Flooring Pte Ltd established in 1987 and Elca Design Pte Ltd (a subsidiary of Elca Contract Flooring.) are the sole distributor for Tarkett vinyl and Flotex floorcoverings, providing both sales and installation; and after sales services in Singapore.</td>\n",
              "      <td>264.0</td>\n",
              "    </tr>\n",
              "    <tr>\n",
              "      <th>...</th>\n",
              "      <td>...</td>\n",
              "      <td>...</td>\n",
              "      <td>...</td>\n",
              "      <td>...</td>\n",
              "      <td>...</td>\n",
              "      <td>...</td>\n",
              "      <td>...</td>\n",
              "      <td>...</td>\n",
              "    </tr>\n",
              "    <tr>\n",
              "      <th>395</th>\n",
              "      <td>HENAN ZHONGYUAN HEAVY FORGING CO., LTD</td>\n",
              "      <td>CHINA</td>\n",
              "      <td>IND</td>\n",
              "      <td>metals and mining</td>\n",
              "      <td>steel fabricator</td>\n",
              "      <td>MANUFACTURER</td>\n",
              "      <td>Henan Zhongyuan Heavy Forging Co., Ltd. was founded in 2004. The company's line of business includes the operation of blast furnaces and steel mills.</td>\n",
              "      <td>149.0</td>\n",
              "    </tr>\n",
              "    <tr>\n",
              "      <th>396</th>\n",
              "      <td>ZHANGZHOU SANLIDA ENVIRONMENTAL TECHNOLOGY CORPORATION LIMITED</td>\n",
              "      <td>CHINA</td>\n",
              "      <td>OOS</td>\n",
              "      <td>others</td>\n",
              "      <td>others</td>\n",
              "      <td>NaN</td>\n",
              "      <td>Industry: Pulp &amp; Paper Mills Manufacturing Sector Paper mills Bags: plastic, laminated, and coated</td>\n",
              "      <td>98.0</td>\n",
              "    </tr>\n",
              "    <tr>\n",
              "      <th>397</th>\n",
              "      <td>山西平阳煤机装备有限责任公司</td>\n",
              "      <td>CHINA</td>\n",
              "      <td>IND</td>\n",
              "      <td>auto &amp; mec</td>\n",
              "      <td>mec oem dealer</td>\n",
              "      <td>MIDSTREAM</td>\n",
              "      <td>Processing, sales, installation and maintenance: mechanical equipment, electronic products, hydraulic products and accessories; wholesale and retail: coal and products, steel, coke; mechanical equipment technical consulting services. (Projects that are subject to approval in accordance with the law can only carry out business activities after being approved by relevant departments)</td>\n",
              "      <td>384.0</td>\n",
              "    </tr>\n",
              "    <tr>\n",
              "      <th>398</th>\n",
              "      <td>SUNRIGHT LTD</td>\n",
              "      <td>SINGAPORE</td>\n",
              "      <td>OOS</td>\n",
              "      <td>others</td>\n",
              "      <td>others</td>\n",
              "      <td>NaN</td>\n",
              "      <td>Sunright Limited, a main board listed company on the Stock Exchange Securities Trading Limited, ( SGX: Sunright ) is the world’s largest independent “test and burn-in” service company and a leading manufacturer of parallel test equipment. Sunright has facilities in Singapore, Taiwan, Philippines, China and the United States. Its associate company, KESM Industries Berhad, listed on the Bursa in 1994, engages in providing “burn-in and testing” services as well as Electronic Manufacturing Services (EMS). Together, it has a workforce of more than 2,000 employees.</td>\n",
              "      <td>565.0</td>\n",
              "    </tr>\n",
              "    <tr>\n",
              "      <th>399</th>\n",
              "      <td>XINYI ZHONGTIAN CHEMICAL INDUSTRY CO.,LTD</td>\n",
              "      <td>CHINA</td>\n",
              "      <td>ONG</td>\n",
              "      <td>petrochemical</td>\n",
              "      <td>petrochemical_producer</td>\n",
              "      <td>UPSTREAM OR DOWNSTREAM</td>\n",
              "      <td>Xinyi zhongkai agricultural chemical industry co., LTD. Is China's key pesticide production enterprises, through the ISO9001:2000 quality system certification, has the self-management import and export right.</td>\n",
              "      <td>209.0</td>\n",
              "    </tr>\n",
              "  </tbody>\n",
              "</table>\n",
              "<p>383 rows × 8 columns</p>\n",
              "</div>"
            ],
            "text/plain": [
              "                                                            Company  ...  length\n",
              "0                                                   ANDERCO PTE LTD  ...   763.0\n",
              "1                              WEC ENGINEERS & CONSTRUCTORS PTE LTD  ...  1220.0\n",
              "2                                   ECHO PORT INTERNATIONAL LIMITED  ...   432.0\n",
              "3                                              DEKORAMIK PERDANA,PT  ...   407.0\n",
              "4                                    ELCA CONTRACT FLOORING PTE LTD  ...   264.0\n",
              "..                                                              ...  ...     ...\n",
              "395                          HENAN ZHONGYUAN HEAVY FORGING CO., LTD  ...   149.0\n",
              "396  ZHANGZHOU SANLIDA ENVIRONMENTAL TECHNOLOGY CORPORATION LIMITED  ...    98.0\n",
              "397                                                  山西平阳煤机装备有限责任公司  ...   384.0\n",
              "398                                                    SUNRIGHT LTD  ...   565.0\n",
              "399                       XINYI ZHONGTIAN CHEMICAL INDUSTRY CO.,LTD  ...   209.0\n",
              "\n",
              "[383 rows x 8 columns]"
            ]
          },
          "metadata": {
            "tags": []
          },
          "execution_count": 149
        }
      ]
    },
    {
      "cell_type": "markdown",
      "metadata": {
        "id": "vMQVBNOGz4cn"
      },
      "source": [
        "### 4.4. Lower casing\n",
        "\n",
        "---\n",
        "\n",
        "Now we will start to tokenize the word after we have ensure that the text description between the company descriptions are homogenous."
      ]
    },
    {
      "cell_type": "code",
      "metadata": {
        "id": "VK6sgk2j0Cxo"
      },
      "source": [
        "# text tokenization\n",
        "df_valid['tokenized'] = df_valid['Company Profile Information'].apply(word_tokenize)\n",
        "\n",
        "# create a new column called clean which \n",
        "df_valid[['tokenized']]"
      ],
      "execution_count": null,
      "outputs": []
    },
    {
      "cell_type": "markdown",
      "metadata": {
        "id": "kbZZCbdHv3ME"
      },
      "source": [
        "---\n",
        "---"
      ]
    },
    {
      "cell_type": "markdown",
      "metadata": {
        "id": "0hKvKHV38ly_"
      },
      "source": [
        "# 10.References\n",
        "\n",
        "\n",
        "## Linking GitHub Private Repo with Google Colab\n",
        "---\n",
        "1. [How to clone private Github repo from Google Colab using SSH](https://medium.com/@purba0101/how-to-clone-private-github-repo-in-google-colab-using-ssh-77384cfef18f)\n",
        "2. [Adding a new SSH key to your GitHub account](https://docs.github.com/en/github/authenticating-to-github/adding-a-new-ssh-key-to-your-github-account)\n",
        "\n",
        "\n",
        "## How to classify text with NLTK\n",
        "---\n",
        "1. [Learning to Classify Text](https://www.nltk.org/book/ch06.html)\n",
        "\n",
        "\n",
        "## Other references\n",
        "---\n",
        "1. [Print very long string completely in pandas dataframe](https://stackoverflow.com/questions/29902714/print-very-long-string-completely-in-pandas-dataframe)\n",
        "2. [removing newlines from messy strings in pandas dataframe cells?\n",
        "](https://stackoverflow.com/questions/44227748/removing-newlines-from-messy-strings-in-pandas-dataframe-cells)\n",
        "\n",
        "\n",
        "\n",
        "\n"
      ]
    }
  ]
}