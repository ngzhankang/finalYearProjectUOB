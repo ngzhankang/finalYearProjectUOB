{
  "nbformat": 4,
  "nbformat_minor": 0,
  "metadata": {
    "colab": {
      "name": "NLP.ipynb",
      "provenance": [],
      "toc_visible": true,
      "include_colab_link": true
    },
    "kernelspec": {
      "name": "python3",
      "display_name": "Python 3"
    },
    "language_info": {
      "name": "python"
    },
    "accelerator": "GPU"
  },
  "cells": [
    {
      "cell_type": "markdown",
      "metadata": {
        "id": "view-in-github",
        "colab_type": "text"
      },
      "source": [
        "<a href=\"https://colab.research.google.com/github/ngzhankang/finalYearProjectUOB/blob/main/NLP.ipynb\" target=\"_parent\"><img src=\"https://colab.research.google.com/assets/colab-badge.svg\" alt=\"Open In Colab\"/></a>"
      ]
    },
    {
      "cell_type": "markdown",
      "metadata": {
        "id": "C4WG19GGjVCN"
      },
      "source": [
        "# FINAL YEAR PROJECT (EDA)\n",
        "Done by : \n",
        "- P1935785 Ang Yak Hng\n",
        "- P1932964 Teo Swee Hong Winson\n",
        "- P1935727 Ng Zhan Kang\n",
        "- P1935488 Triston Loh\n",
        "- P1935602 Ng Ao Yang\n",
        "\n",
        "Class of DIT/FT/3A/05\n"
      ]
    },
    {
      "cell_type": "markdown",
      "metadata": {
        "id": "lTixCl0Yj3aC"
      },
      "source": [
        "---\n",
        "---"
      ]
    },
    {
      "cell_type": "markdown",
      "metadata": {
        "id": "Xa-0olzCkDtZ"
      },
      "source": [
        "# 1.Cloning Github To Colab Workspace"
      ]
    },
    {
      "cell_type": "markdown",
      "metadata": {
        "id": "B_no5sNXlBZ_"
      },
      "source": [
        "<div class=\"alert alert-block alert-danger\">\n",
        "    <b>ATTENTION:</b> The entire section 1 is dedicated to users who are using google colab to do the entire project. This entire process clones the private repository directly into the temporary google colab workspace. Google colab user are to repeat this same proccess whenever in a new session. Users who do not use colab to do this project CAN OMIT THE ENTIRE SECTION 1. \n",
        "</div>"
      ]
    },
    {
      "cell_type": "markdown",
      "metadata": {
        "id": "B-ZvXSUPkPBq"
      },
      "source": [
        "### 1.1. Configurating SSH keys for GitHub and Colab connection\n",
        "\n",
        "---\n",
        "\n",
        "This entire section can be omitted if users are not using Google Colab at all."
      ]
    },
    {
      "cell_type": "code",
      "metadata": {
        "id": "JH5jhDiOliB2",
        "colab": {
          "base_uri": "https://localhost:8080/"
        },
        "outputId": "2719ccc4-5c91-4036-d907-3639bc06077b"
      },
      "source": [
        "!ssh-keygen -t rsa -b 4096"
      ],
      "execution_count": 1,
      "outputs": [
        {
          "output_type": "stream",
          "text": [
            "Generating public/private rsa key pair.\n",
            "Enter file in which to save the key (/root/.ssh/id_rsa): \n",
            "Created directory '/root/.ssh'.\n",
            "Enter passphrase (empty for no passphrase): \n",
            "Enter same passphrase again: \n",
            "Your identification has been saved in /root/.ssh/id_rsa.\n",
            "Your public key has been saved in /root/.ssh/id_rsa.pub.\n",
            "The key fingerprint is:\n",
            "SHA256:PZiQs7pqjInWTYn6D+h5pMA0glXYAQh2Kubu24a4c6Q root@1cc6552f88aa\n",
            "The key's randomart image is:\n",
            "+---[RSA 4096]----+\n",
            "|oo.*o.           |\n",
            "|o = .  .         |\n",
            "|o+    +          |\n",
            "|*o     + +       |\n",
            "|+.. . o S o      |\n",
            "|o.oo +     .     |\n",
            "|+O*.+            |\n",
            "|E=*+.o           |\n",
            "|oX*+o.           |\n",
            "+----[SHA256]-----+\n"
          ],
          "name": "stdout"
        }
      ]
    },
    {
      "cell_type": "markdown",
      "metadata": {
        "id": "ujcbhDqDmqP7"
      },
      "source": [
        "<div class=\"alert alert-block alert-danger\">\n",
        "    <b>ATTENTION:</b> When prompted for a set of informations such as \"Enter a file in which to save the key...\", please press enter and DO NOT type in anything.\n",
        "</div>"
      ]
    },
    {
      "cell_type": "code",
      "metadata": {
        "colab": {
          "base_uri": "https://localhost:8080/"
        },
        "id": "AUsKDe9tm0hQ",
        "outputId": "98e554f0-8b4f-42da-c1ff-55613d6ffaf2"
      },
      "source": [
        "!ssh-keyscan -t rsa github.com >> ~/.ssh/known_hosts"
      ],
      "execution_count": 2,
      "outputs": [
        {
          "output_type": "stream",
          "text": [
            "# github.com:22 SSH-2.0-babeld-10d0a39d\n"
          ],
          "name": "stdout"
        }
      ]
    },
    {
      "cell_type": "code",
      "metadata": {
        "colab": {
          "base_uri": "https://localhost:8080/"
        },
        "id": "sc7qLuG1m-9h",
        "outputId": "ec7660e1-8572-4900-b96e-177ba2be04d6"
      },
      "source": [
        "!cat /root/.ssh/id_rsa.pub"
      ],
      "execution_count": 3,
      "outputs": [
        {
          "output_type": "stream",
          "text": [
            "ssh-rsa AAAAB3NzaC1yc2EAAAADAQABAAACAQCrGTb+1DobGDmmD19wRACeA65SA3CymkqRBwvabN04SzCXFx7B8/d/s+A3/VhZPxcjT/6LZ64nGQdu7WpEYVYkVEL4RDh51hDNNsjuLBLzOxHgrQiZaPJiCHbSJUCv1N9IMEdxRBatUTlSULO5uBtUJe/bBF3Mq5mKgQbg+XhrDGsUW0My8l26uLfJmEbK4qVSvX33nYbRm8W+aEnDNgg5uEibBXR0MVPkRDMEDfZDsxmIZAsp4H9EZe6wT5gFNAWJ7HoDw5KDlxNJKlmtLCumbfZXcnGHbNjd5+iPwBAezyFppGoxjXcamJEESWEotZwtBfykguPg8ptnPH9gfNxPQF7y74OsizDZwYT+BBk5UJ8APUeEPD2xHk+6bQ58dKObrRENrsujbk9w0XODbHBcnoHTjxNztxsdzND/6G1vDr/6TWZo8s3mY6/FAeWNlaH7dMyiH24MDXq6DVX08CvZnLV3xvhIP7u+9DzVw/Yw1bI0oxRNextmMKTrffLcIEMU6PnNB0xUsse13+SAf/TOJ87MaA0Zt6mmkGWBZeZB1dlXb7gIe+qpFOOYMwOXl/J1nrvekvxQiEBPYyjiMQyWNixDMBtxh7tVByluudqI0duSIMdJHZGhLyiyno7QdWGpn6GxN8xWxnatNr4OgWtrLTJI9z7myREx1jKhkroQOw== root@1cc6552f88aa\n"
          ],
          "name": "stdout"
        }
      ]
    },
    {
      "cell_type": "markdown",
      "metadata": {
        "id": "iSwt6wnDnSjx"
      },
      "source": [
        "<div class=\"alert alert-block alert-danger\">\n",
        "    <b>ATTENTION:</b> After the key has been generated, please copy the entire key. Navigate to your Github Account > Profile Picture > Settings > SSH and GPG keys > New SSH Keys. Paste the generated key into the blank and lable it for your own convenience.\n",
        "</div>"
      ]
    },
    {
      "cell_type": "markdown",
      "metadata": {
        "id": "Z_rpok3voY8A"
      },
      "source": [
        "### 1.2. Testing SSH keys for GitHub and Colab connection\n",
        "\n",
        "---\n",
        "\n",
        "This entire section can be omitted if users are not using Google Colab at all."
      ]
    },
    {
      "cell_type": "code",
      "metadata": {
        "colab": {
          "base_uri": "https://localhost:8080/"
        },
        "id": "cYEnWGicnnC0",
        "outputId": "094c32ad-0cfb-499a-b284-c453d7bd0036"
      },
      "source": [
        "!ssh -T git@github.com"
      ],
      "execution_count": 4,
      "outputs": [
        {
          "output_type": "stream",
          "text": [
            "Warning: Permanently added the RSA host key for IP address '192.30.255.113' to the list of known hosts.\r\n",
            "Hi ngzhankang! You've successfully authenticated, but GitHub does not provide shell access.\n"
          ],
          "name": "stdout"
        }
      ]
    },
    {
      "cell_type": "markdown",
      "metadata": {
        "id": "0gtHa7l8ID8u"
      },
      "source": [
        "### 1.3. Clone Private Repository\n",
        "\n",
        "---\n",
        "\n",
        "This entire section can be omitted if users are not using Google Colab at all."
      ]
    },
    {
      "cell_type": "code",
      "metadata": {
        "id": "y7c65FyJIEXu",
        "colab": {
          "base_uri": "https://localhost:8080/"
        },
        "outputId": "68544e6b-595f-4a29-9802-642b7d3beda1"
      },
      "source": [
        "!git clone git@github.com:ngzhankang/finalYearProjectUOB.git"
      ],
      "execution_count": 5,
      "outputs": [
        {
          "output_type": "stream",
          "text": [
            "Cloning into 'finalYearProjectUOB'...\n",
            "Warning: Permanently added the RSA host key for IP address '192.30.255.112' to the list of known hosts.\n",
            "remote: Enumerating objects: 64, done.\u001b[K\n",
            "remote: Counting objects: 100% (64/64), done.\u001b[K\n",
            "remote: Compressing objects: 100% (63/63), done.\u001b[K\n",
            "remote: Total 64 (delta 20), reused 3 (delta 1), pack-reused 0\u001b[K\n",
            "Receiving objects: 100% (64/64), 311.07 KiB | 1.93 MiB/s, done.\n",
            "Resolving deltas: 100% (20/20), done.\n"
          ],
          "name": "stdout"
        }
      ]
    },
    {
      "cell_type": "markdown",
      "metadata": {
        "id": "lpQsykkUqHOB"
      },
      "source": [
        "---\n",
        "---"
      ]
    },
    {
      "cell_type": "markdown",
      "metadata": {
        "id": "D74lUe_QF3kh"
      },
      "source": [
        "# 2.Data Importing"
      ]
    },
    {
      "cell_type": "markdown",
      "metadata": {
        "id": "6VbDZ5ymKTR6"
      },
      "source": [
        "### 2.1. Load the libraries\n",
        "\n",
        "---\n",
        "\n",
        "Load the necessary libraries for usage in the entire project."
      ]
    },
    {
      "cell_type": "code",
      "metadata": {
        "colab": {
          "base_uri": "https://localhost:8080/"
        },
        "id": "hMBiWwY8sBBl",
        "outputId": "ee17869b-d686-4215-a9b9-ec97d118e721"
      },
      "source": [
        "! nvcc --version"
      ],
      "execution_count": 6,
      "outputs": [
        {
          "output_type": "stream",
          "text": [
            "nvcc: NVIDIA (R) Cuda compiler driver\n",
            "Copyright (c) 2005-2020 NVIDIA Corporation\n",
            "Built on Wed_Jul_22_19:09:09_PDT_2020\n",
            "Cuda compilation tools, release 11.0, V11.0.221\n",
            "Build cuda_11.0_bu.TC445_37.28845127_0\n"
          ],
          "name": "stdout"
        }
      ]
    },
    {
      "cell_type": "markdown",
      "metadata": {
        "id": "4FacXEFOsC04"
      },
      "source": [
        "### 2.2. Check CUDA Version\n",
        "\n",
        "---\n",
        "\n",
        "We need to check the cuda version to download the correct version of spaCy for this application."
      ]
    },
    {
      "cell_type": "code",
      "metadata": {
        "id": "U_20qw2UohOC"
      },
      "source": [
        "# suppress future warnings\n",
        "import warnings\n",
        "warnings.filterwarnings('ignore')"
      ],
      "execution_count": 7,
      "outputs": []
    },
    {
      "cell_type": "code",
      "metadata": {
        "colab": {
          "base_uri": "https://localhost:8080/"
        },
        "id": "EldCY0t9v2uV",
        "outputId": "2494d79f-04e4-4e3c-9289-8c02939e8482"
      },
      "source": [
        "# install necessary libraries that might not be found\n",
        "!pip install -U spacy\n",
        "!python -m spacy validate\n",
        "!pip install -U pip setuptools wheel\n",
        "!pip install -U spacy[cuda110,transformers,lookups]\n",
        "!python -m spacy download en_core_web_trf\n",
        "\n",
        "# check versions of libraries we are going to use\n",
        "%tensorflow_version 2.x\n",
        "import os\n",
        "import tensorflow\n",
        "import sklearn\n",
        "import numpy as np\n",
        "import pandas as pd\n",
        "import seaborn as sns\n",
        "import matplotlib\n",
        "import spacy\n",
        "import platform\n",
        "\n",
        "message=\"        Versions        \"\n",
        "print(\"*\"*len(message))\n",
        "print(message)\n",
        "print(\"*\"*len(message))\n",
        "print(\"Tensorflow version={}\".format(tensorflow.__version__))\n",
        "print(\"Keras version={}\".format(tensorflow.keras.__version__))\n",
        "print(\"Sklearn version={}\".format(sklearn.__version__))\n",
        "print(\"Numpy version={}\".format(np.__version__))\n",
        "print(\"Pandas version={}\".format(pd.__version__))\n",
        "print(\"Seaborn version={}\".format(sns.__version__))\n",
        "print(\"Matplotlib version={}\".format(matplotlib.__version__))\n",
        "print(\"SpaCy version={}\".format(spacy.__version__))\n",
        "print(\"Python version={}\".format(platform.python_version()))"
      ],
      "execution_count": 8,
      "outputs": [
        {
          "output_type": "stream",
          "text": [
            "Collecting spacy\n",
            "\u001b[?25l  Downloading https://files.pythonhosted.org/packages/1b/d8/0361bbaf7a1ff56b44dca04dace54c82d63dad7475b7d25ea1baefafafb2/spacy-3.0.6-cp37-cp37m-manylinux2014_x86_64.whl (12.8MB)\n",
            "\u001b[K     |████████████████████████████████| 12.8MB 7.0MB/s \n",
            "\u001b[?25hCollecting typer<0.4.0,>=0.3.0\n",
            "  Downloading https://files.pythonhosted.org/packages/90/34/d138832f6945432c638f32137e6c79a3b682f06a63c488dcfaca6b166c64/typer-0.3.2-py3-none-any.whl\n",
            "Requirement already satisfied, skipping upgrade: preshed<3.1.0,>=3.0.2 in /usr/local/lib/python3.7/dist-packages (from spacy) (3.0.5)\n",
            "Collecting srsly<3.0.0,>=2.4.1\n",
            "\u001b[?25l  Downloading https://files.pythonhosted.org/packages/c3/84/dfdfc9f6f04f6b88207d96d9520b911e5fec0c67ff47a0dea31ab5429a1e/srsly-2.4.1-cp37-cp37m-manylinux2014_x86_64.whl (456kB)\n",
            "\u001b[K     |████████████████████████████████| 460kB 56.8MB/s \n",
            "\u001b[?25hRequirement already satisfied, skipping upgrade: setuptools in /usr/local/lib/python3.7/dist-packages (from spacy) (56.0.0)\n",
            "Collecting pydantic<1.8.0,>=1.7.1\n",
            "\u001b[?25l  Downloading https://files.pythonhosted.org/packages/b3/0a/52ae1c659fc08f13dd7c0ae07b88e4f807ad83fb9954a59b0b0a3d1a8ab6/pydantic-1.7.3-cp37-cp37m-manylinux2014_x86_64.whl (9.1MB)\n",
            "\u001b[K     |████████████████████████████████| 9.1MB 50.0MB/s \n",
            "\u001b[?25hRequirement already satisfied, skipping upgrade: typing-extensions<4.0.0.0,>=3.7.4; python_version < \"3.8\" in /usr/local/lib/python3.7/dist-packages (from spacy) (3.7.4.3)\n",
            "Requirement already satisfied, skipping upgrade: requests<3.0.0,>=2.13.0 in /usr/local/lib/python3.7/dist-packages (from spacy) (2.23.0)\n",
            "Requirement already satisfied, skipping upgrade: packaging>=20.0 in /usr/local/lib/python3.7/dist-packages (from spacy) (20.9)\n",
            "Collecting pathy>=0.3.5\n",
            "\u001b[?25l  Downloading https://files.pythonhosted.org/packages/13/87/5991d87be8ed60beb172b4062dbafef18b32fa559635a8e2b633c2974f85/pathy-0.5.2-py3-none-any.whl (42kB)\n",
            "\u001b[K     |████████████████████████████████| 51kB 9.2MB/s \n",
            "\u001b[?25hCollecting catalogue<2.1.0,>=2.0.3\n",
            "  Downloading https://files.pythonhosted.org/packages/9c/10/dbc1203a4b1367c7b02fddf08cb2981d9aa3e688d398f587cea0ab9e3bec/catalogue-2.0.4-py3-none-any.whl\n",
            "Requirement already satisfied, skipping upgrade: murmurhash<1.1.0,>=0.28.0 in /usr/local/lib/python3.7/dist-packages (from spacy) (1.0.5)\n",
            "Requirement already satisfied, skipping upgrade: tqdm<5.0.0,>=4.38.0 in /usr/local/lib/python3.7/dist-packages (from spacy) (4.41.1)\n",
            "Requirement already satisfied, skipping upgrade: numpy>=1.15.0 in /usr/local/lib/python3.7/dist-packages (from spacy) (1.19.5)\n",
            "Requirement already satisfied, skipping upgrade: wasabi<1.1.0,>=0.8.1 in /usr/local/lib/python3.7/dist-packages (from spacy) (0.8.2)\n",
            "Requirement already satisfied, skipping upgrade: cymem<2.1.0,>=2.0.2 in /usr/local/lib/python3.7/dist-packages (from spacy) (2.0.5)\n",
            "Collecting thinc<8.1.0,>=8.0.3\n",
            "\u001b[?25l  Downloading https://files.pythonhosted.org/packages/61/87/decceba68a0c6ca356ddcb6aea8b2500e71d9bc187f148aae19b747b7d3c/thinc-8.0.3-cp37-cp37m-manylinux2014_x86_64.whl (1.1MB)\n",
            "\u001b[K     |████████████████████████████████| 1.1MB 55.2MB/s \n",
            "\u001b[?25hRequirement already satisfied, skipping upgrade: blis<0.8.0,>=0.4.0 in /usr/local/lib/python3.7/dist-packages (from spacy) (0.4.1)\n",
            "Requirement already satisfied, skipping upgrade: jinja2 in /usr/local/lib/python3.7/dist-packages (from spacy) (2.11.3)\n",
            "Collecting spacy-legacy<3.1.0,>=3.0.4\n",
            "  Downloading https://files.pythonhosted.org/packages/8d/67/d4002a18e26bf29b17ab563ddb55232b445ab6a02f97bf17d1345ff34d3f/spacy_legacy-3.0.5-py2.py3-none-any.whl\n",
            "Requirement already satisfied, skipping upgrade: click<7.2.0,>=7.1.1 in /usr/local/lib/python3.7/dist-packages (from typer<0.4.0,>=0.3.0->spacy) (7.1.2)\n",
            "Requirement already satisfied, skipping upgrade: idna<3,>=2.5 in /usr/local/lib/python3.7/dist-packages (from requests<3.0.0,>=2.13.0->spacy) (2.10)\n",
            "Requirement already satisfied, skipping upgrade: certifi>=2017.4.17 in /usr/local/lib/python3.7/dist-packages (from requests<3.0.0,>=2.13.0->spacy) (2020.12.5)\n",
            "Requirement already satisfied, skipping upgrade: urllib3!=1.25.0,!=1.25.1,<1.26,>=1.21.1 in /usr/local/lib/python3.7/dist-packages (from requests<3.0.0,>=2.13.0->spacy) (1.24.3)\n",
            "Requirement already satisfied, skipping upgrade: chardet<4,>=3.0.2 in /usr/local/lib/python3.7/dist-packages (from requests<3.0.0,>=2.13.0->spacy) (3.0.4)\n",
            "Requirement already satisfied, skipping upgrade: pyparsing>=2.0.2 in /usr/local/lib/python3.7/dist-packages (from packaging>=20.0->spacy) (2.4.7)\n",
            "Collecting smart-open<4.0.0,>=2.2.0\n",
            "\u001b[?25l  Downloading https://files.pythonhosted.org/packages/11/9a/ba2d5f67f25e8d5bbf2fcec7a99b1e38428e83cb715f64dd179ca43a11bb/smart_open-3.0.0.tar.gz (113kB)\n",
            "\u001b[K     |████████████████████████████████| 122kB 57.8MB/s \n",
            "\u001b[?25hRequirement already satisfied, skipping upgrade: zipp>=0.5; python_version < \"3.8\" in /usr/local/lib/python3.7/dist-packages (from catalogue<2.1.0,>=2.0.3->spacy) (3.4.1)\n",
            "Requirement already satisfied, skipping upgrade: MarkupSafe>=0.23 in /usr/local/lib/python3.7/dist-packages (from jinja2->spacy) (1.1.1)\n",
            "Building wheels for collected packages: smart-open\n",
            "  Building wheel for smart-open (setup.py) ... \u001b[?25l\u001b[?25hdone\n",
            "  Created wheel for smart-open: filename=smart_open-3.0.0-cp37-none-any.whl size=107098 sha256=964463b3686e726e6021ad22b681f6b7d9e299c5c07cbc0aa831e5be3ddb00b6\n",
            "  Stored in directory: /root/.cache/pip/wheels/18/88/7c/f06dabd5e9cabe02d2269167bcacbbf9b47d0c0ff7d6ebcb78\n",
            "Successfully built smart-open\n",
            "Installing collected packages: typer, catalogue, srsly, pydantic, smart-open, pathy, thinc, spacy-legacy, spacy\n",
            "  Found existing installation: catalogue 1.0.0\n",
            "    Uninstalling catalogue-1.0.0:\n",
            "      Successfully uninstalled catalogue-1.0.0\n",
            "  Found existing installation: srsly 1.0.5\n",
            "    Uninstalling srsly-1.0.5:\n",
            "      Successfully uninstalled srsly-1.0.5\n",
            "  Found existing installation: smart-open 5.0.0\n",
            "    Uninstalling smart-open-5.0.0:\n",
            "      Successfully uninstalled smart-open-5.0.0\n",
            "  Found existing installation: thinc 7.4.0\n",
            "    Uninstalling thinc-7.4.0:\n",
            "      Successfully uninstalled thinc-7.4.0\n",
            "  Found existing installation: spacy 2.2.4\n",
            "    Uninstalling spacy-2.2.4:\n",
            "      Successfully uninstalled spacy-2.2.4\n",
            "Successfully installed catalogue-2.0.4 pathy-0.5.2 pydantic-1.7.3 smart-open-3.0.0 spacy-3.0.6 spacy-legacy-3.0.5 srsly-2.4.1 thinc-8.0.3 typer-0.3.2\n",
            "2021-05-04 07:34:47.313121: I tensorflow/stream_executor/platform/default/dso_loader.cc:49] Successfully opened dynamic library libcudart.so.11.0\n",
            "\u001b[2K\u001b[38;5;2m✔ Loaded compatibility table\u001b[0m\n",
            "\u001b[1m\n",
            "================= Installed pipeline packages (spaCy v3.0.6) =================\u001b[0m\n",
            "\u001b[38;5;4mℹ spaCy installation: /usr/local/lib/python3.7/dist-packages/spacy\u001b[0m\n",
            "\n",
            "No pipeline packages found in your current environment.\n",
            "\n",
            "Collecting pip\n",
            "\u001b[?25l  Downloading https://files.pythonhosted.org/packages/cd/6f/43037c7bcc8bd8ba7c9074256b1a11596daa15555808ec748048c1507f08/pip-21.1.1-py3-none-any.whl (1.5MB)\n",
            "\u001b[K     |████████████████████████████████| 1.6MB 8.3MB/s \n",
            "\u001b[?25hRequirement already up-to-date: setuptools in /usr/local/lib/python3.7/dist-packages (56.0.0)\n",
            "Requirement already up-to-date: wheel in /usr/local/lib/python3.7/dist-packages (0.36.2)\n",
            "Installing collected packages: pip\n",
            "  Found existing installation: pip 19.3.1\n",
            "    Uninstalling pip-19.3.1:\n",
            "      Successfully uninstalled pip-19.3.1\n",
            "Successfully installed pip-21.1.1\n",
            "Requirement already satisfied: spacy[cuda110,lookups,transformers] in /usr/local/lib/python3.7/dist-packages (3.0.6)\n",
            "Requirement already satisfied: tqdm<5.0.0,>=4.38.0 in /usr/local/lib/python3.7/dist-packages (from spacy[cuda110,lookups,transformers]) (4.41.1)\n",
            "Requirement already satisfied: srsly<3.0.0,>=2.4.1 in /usr/local/lib/python3.7/dist-packages (from spacy[cuda110,lookups,transformers]) (2.4.1)\n",
            "Requirement already satisfied: setuptools in /usr/local/lib/python3.7/dist-packages (from spacy[cuda110,lookups,transformers]) (56.0.0)\n",
            "Requirement already satisfied: preshed<3.1.0,>=3.0.2 in /usr/local/lib/python3.7/dist-packages (from spacy[cuda110,lookups,transformers]) (3.0.5)\n",
            "Requirement already satisfied: thinc<8.1.0,>=8.0.3 in /usr/local/lib/python3.7/dist-packages (from spacy[cuda110,lookups,transformers]) (8.0.3)\n",
            "Requirement already satisfied: spacy-legacy<3.1.0,>=3.0.4 in /usr/local/lib/python3.7/dist-packages (from spacy[cuda110,lookups,transformers]) (3.0.5)\n",
            "Requirement already satisfied: typer<0.4.0,>=0.3.0 in /usr/local/lib/python3.7/dist-packages (from spacy[cuda110,lookups,transformers]) (0.3.2)\n",
            "Requirement already satisfied: pathy>=0.3.5 in /usr/local/lib/python3.7/dist-packages (from spacy[cuda110,lookups,transformers]) (0.5.2)\n",
            "Requirement already satisfied: typing-extensions<4.0.0.0,>=3.7.4 in /usr/local/lib/python3.7/dist-packages (from spacy[cuda110,lookups,transformers]) (3.7.4.3)\n",
            "Requirement already satisfied: blis<0.8.0,>=0.4.0 in /usr/local/lib/python3.7/dist-packages (from spacy[cuda110,lookups,transformers]) (0.4.1)\n",
            "Requirement already satisfied: wasabi<1.1.0,>=0.8.1 in /usr/local/lib/python3.7/dist-packages (from spacy[cuda110,lookups,transformers]) (0.8.2)\n",
            "Requirement already satisfied: numpy>=1.15.0 in /usr/local/lib/python3.7/dist-packages (from spacy[cuda110,lookups,transformers]) (1.19.5)\n",
            "Requirement already satisfied: cymem<2.1.0,>=2.0.2 in /usr/local/lib/python3.7/dist-packages (from spacy[cuda110,lookups,transformers]) (2.0.5)\n",
            "Requirement already satisfied: requests<3.0.0,>=2.13.0 in /usr/local/lib/python3.7/dist-packages (from spacy[cuda110,lookups,transformers]) (2.23.0)\n",
            "Requirement already satisfied: jinja2 in /usr/local/lib/python3.7/dist-packages (from spacy[cuda110,lookups,transformers]) (2.11.3)\n",
            "Requirement already satisfied: murmurhash<1.1.0,>=0.28.0 in /usr/local/lib/python3.7/dist-packages (from spacy[cuda110,lookups,transformers]) (1.0.5)\n",
            "Requirement already satisfied: pydantic<1.8.0,>=1.7.1 in /usr/local/lib/python3.7/dist-packages (from spacy[cuda110,lookups,transformers]) (1.7.3)\n",
            "Requirement already satisfied: catalogue<2.1.0,>=2.0.3 in /usr/local/lib/python3.7/dist-packages (from spacy[cuda110,lookups,transformers]) (2.0.4)\n",
            "Requirement already satisfied: packaging>=20.0 in /usr/local/lib/python3.7/dist-packages (from spacy[cuda110,lookups,transformers]) (20.9)\n",
            "Collecting spacy-lookups-data<1.1.0,>=1.0.0\n",
            "  Downloading spacy_lookups_data-1.0.0-py2.py3-none-any.whl (93.4 MB)\n",
            "\u001b[K     |████████████████████████████████| 93.4 MB 1.2 MB/s \n",
            "\u001b[?25hCollecting cupy-cuda110<9.0.0,>=5.0.0b4\n",
            "  Downloading cupy_cuda110-8.6.0-cp37-cp37m-manylinux1_x86_64.whl (165.3 MB)\n",
            "\u001b[K     |████████████████████████████████| 165.3 MB 37 kB/s \n",
            "\u001b[?25hCollecting spacy-transformers<1.1.0,>=1.0.1\n",
            "  Downloading spacy_transformers-1.0.2-py2.py3-none-any.whl (39 kB)\n",
            "Requirement already satisfied: zipp>=0.5 in /usr/local/lib/python3.7/dist-packages (from catalogue<2.1.0,>=2.0.3->spacy[cuda110,lookups,transformers]) (3.4.1)\n",
            "Requirement already satisfied: fastrlock>=0.3 in /usr/local/lib/python3.7/dist-packages (from cupy-cuda110<9.0.0,>=5.0.0b4->spacy[cuda110,lookups,transformers]) (0.6)\n",
            "Requirement already satisfied: pyparsing>=2.0.2 in /usr/local/lib/python3.7/dist-packages (from packaging>=20.0->spacy[cuda110,lookups,transformers]) (2.4.7)\n",
            "Requirement already satisfied: smart-open<4.0.0,>=2.2.0 in /usr/local/lib/python3.7/dist-packages (from pathy>=0.3.5->spacy[cuda110,lookups,transformers]) (3.0.0)\n",
            "Requirement already satisfied: chardet<4,>=3.0.2 in /usr/local/lib/python3.7/dist-packages (from requests<3.0.0,>=2.13.0->spacy[cuda110,lookups,transformers]) (3.0.4)\n",
            "Requirement already satisfied: idna<3,>=2.5 in /usr/local/lib/python3.7/dist-packages (from requests<3.0.0,>=2.13.0->spacy[cuda110,lookups,transformers]) (2.10)\n",
            "Requirement already satisfied: certifi>=2017.4.17 in /usr/local/lib/python3.7/dist-packages (from requests<3.0.0,>=2.13.0->spacy[cuda110,lookups,transformers]) (2020.12.5)\n",
            "Requirement already satisfied: urllib3!=1.25.0,!=1.25.1,<1.26,>=1.21.1 in /usr/local/lib/python3.7/dist-packages (from requests<3.0.0,>=2.13.0->spacy[cuda110,lookups,transformers]) (1.24.3)\n",
            "Requirement already satisfied: torch>=1.5.0 in /usr/local/lib/python3.7/dist-packages (from spacy-transformers<1.1.0,>=1.0.1->spacy[cuda110,lookups,transformers]) (1.8.1+cu101)\n",
            "Collecting transformers<4.6.0,>=3.4.0\n",
            "  Downloading transformers-4.5.1-py3-none-any.whl (2.1 MB)\n",
            "\u001b[K     |████████████████████████████████| 2.1 MB 64.6 MB/s \n",
            "\u001b[?25hCollecting spacy-alignments<1.0.0,>=0.7.2\n",
            "  Downloading spacy_alignments-0.8.3-cp37-cp37m-manylinux2014_x86_64.whl (998 kB)\n",
            "\u001b[K     |████████████████████████████████| 998 kB 58.7 MB/s \n",
            "\u001b[?25hRequirement already satisfied: regex!=2019.12.17 in /usr/local/lib/python3.7/dist-packages (from transformers<4.6.0,>=3.4.0->spacy-transformers<1.1.0,>=1.0.1->spacy[cuda110,lookups,transformers]) (2019.12.20)\n",
            "Collecting sacremoses\n",
            "  Downloading sacremoses-0.0.45-py3-none-any.whl (895 kB)\n",
            "\u001b[K     |████████████████████████████████| 895 kB 53.2 MB/s \n",
            "\u001b[?25hRequirement already satisfied: filelock in /usr/local/lib/python3.7/dist-packages (from transformers<4.6.0,>=3.4.0->spacy-transformers<1.1.0,>=1.0.1->spacy[cuda110,lookups,transformers]) (3.0.12)\n",
            "Collecting tokenizers<0.11,>=0.10.1\n",
            "  Downloading tokenizers-0.10.2-cp37-cp37m-manylinux2010_x86_64.whl (3.3 MB)\n",
            "\u001b[K     |████████████████████████████████| 3.3 MB 59.3 MB/s \n",
            "\u001b[?25hRequirement already satisfied: importlib-metadata in /usr/local/lib/python3.7/dist-packages (from transformers<4.6.0,>=3.4.0->spacy-transformers<1.1.0,>=1.0.1->spacy[cuda110,lookups,transformers]) (3.10.1)\n",
            "Requirement already satisfied: click<7.2.0,>=7.1.1 in /usr/local/lib/python3.7/dist-packages (from typer<0.4.0,>=0.3.0->spacy[cuda110,lookups,transformers]) (7.1.2)\n",
            "Requirement already satisfied: MarkupSafe>=0.23 in /usr/local/lib/python3.7/dist-packages (from jinja2->spacy[cuda110,lookups,transformers]) (1.1.1)\n",
            "Requirement already satisfied: joblib in /usr/local/lib/python3.7/dist-packages (from sacremoses->transformers<4.6.0,>=3.4.0->spacy-transformers<1.1.0,>=1.0.1->spacy[cuda110,lookups,transformers]) (1.0.1)\n",
            "Requirement already satisfied: six in /usr/local/lib/python3.7/dist-packages (from sacremoses->transformers<4.6.0,>=3.4.0->spacy-transformers<1.1.0,>=1.0.1->spacy[cuda110,lookups,transformers]) (1.15.0)\n",
            "Installing collected packages: tokenizers, sacremoses, transformers, spacy-alignments, spacy-transformers, spacy-lookups-data, cupy-cuda110\n",
            "Successfully installed cupy-cuda110-8.6.0 sacremoses-0.0.45 spacy-alignments-0.8.3 spacy-lookups-data-1.0.0 spacy-transformers-1.0.2 tokenizers-0.10.2 transformers-4.5.1\n",
            "\u001b[33mWARNING: Running pip as root will break packages and permissions. You should install packages reliably by using venv: https://pip.pypa.io/warnings/venv\u001b[0m\n",
            "2021-05-04 07:35:22.954954: I tensorflow/stream_executor/platform/default/dso_loader.cc:49] Successfully opened dynamic library libcudart.so.11.0\n",
            "Collecting en-core-web-trf==3.0.0\n",
            "  Downloading https://github.com/explosion/spacy-models/releases/download/en_core_web_trf-3.0.0/en_core_web_trf-3.0.0-py3-none-any.whl (459.7 MB)\n",
            "\u001b[K     |████████████████████████████████| 459.7 MB 12 kB/s \n",
            "\u001b[?25hRequirement already satisfied: spacy<3.1.0,>=3.0.0 in /usr/local/lib/python3.7/dist-packages (from en-core-web-trf==3.0.0) (3.0.6)\n",
            "Requirement already satisfied: spacy-transformers<1.1.0,>=1.0.0rc4 in /usr/local/lib/python3.7/dist-packages (from en-core-web-trf==3.0.0) (1.0.2)\n",
            "Requirement already satisfied: thinc<8.1.0,>=8.0.3 in /usr/local/lib/python3.7/dist-packages (from spacy<3.1.0,>=3.0.0->en-core-web-trf==3.0.0) (8.0.3)\n",
            "Requirement already satisfied: numpy>=1.15.0 in /usr/local/lib/python3.7/dist-packages (from spacy<3.1.0,>=3.0.0->en-core-web-trf==3.0.0) (1.19.5)\n",
            "Requirement already satisfied: spacy-legacy<3.1.0,>=3.0.4 in /usr/local/lib/python3.7/dist-packages (from spacy<3.1.0,>=3.0.0->en-core-web-trf==3.0.0) (3.0.5)\n",
            "Requirement already satisfied: requests<3.0.0,>=2.13.0 in /usr/local/lib/python3.7/dist-packages (from spacy<3.1.0,>=3.0.0->en-core-web-trf==3.0.0) (2.23.0)\n",
            "Requirement already satisfied: srsly<3.0.0,>=2.4.1 in /usr/local/lib/python3.7/dist-packages (from spacy<3.1.0,>=3.0.0->en-core-web-trf==3.0.0) (2.4.1)\n",
            "Requirement already satisfied: pathy>=0.3.5 in /usr/local/lib/python3.7/dist-packages (from spacy<3.1.0,>=3.0.0->en-core-web-trf==3.0.0) (0.5.2)\n",
            "Requirement already satisfied: wasabi<1.1.0,>=0.8.1 in /usr/local/lib/python3.7/dist-packages (from spacy<3.1.0,>=3.0.0->en-core-web-trf==3.0.0) (0.8.2)\n",
            "Requirement already satisfied: cymem<2.1.0,>=2.0.2 in /usr/local/lib/python3.7/dist-packages (from spacy<3.1.0,>=3.0.0->en-core-web-trf==3.0.0) (2.0.5)\n",
            "Requirement already satisfied: packaging>=20.0 in /usr/local/lib/python3.7/dist-packages (from spacy<3.1.0,>=3.0.0->en-core-web-trf==3.0.0) (20.9)\n",
            "Requirement already satisfied: jinja2 in /usr/local/lib/python3.7/dist-packages (from spacy<3.1.0,>=3.0.0->en-core-web-trf==3.0.0) (2.11.3)\n",
            "Requirement already satisfied: catalogue<2.1.0,>=2.0.3 in /usr/local/lib/python3.7/dist-packages (from spacy<3.1.0,>=3.0.0->en-core-web-trf==3.0.0) (2.0.4)\n",
            "Requirement already satisfied: typing-extensions<4.0.0.0,>=3.7.4 in /usr/local/lib/python3.7/dist-packages (from spacy<3.1.0,>=3.0.0->en-core-web-trf==3.0.0) (3.7.4.3)\n",
            "Requirement already satisfied: pydantic<1.8.0,>=1.7.1 in /usr/local/lib/python3.7/dist-packages (from spacy<3.1.0,>=3.0.0->en-core-web-trf==3.0.0) (1.7.3)\n",
            "Requirement already satisfied: tqdm<5.0.0,>=4.38.0 in /usr/local/lib/python3.7/dist-packages (from spacy<3.1.0,>=3.0.0->en-core-web-trf==3.0.0) (4.41.1)\n",
            "Requirement already satisfied: murmurhash<1.1.0,>=0.28.0 in /usr/local/lib/python3.7/dist-packages (from spacy<3.1.0,>=3.0.0->en-core-web-trf==3.0.0) (1.0.5)\n",
            "Requirement already satisfied: setuptools in /usr/local/lib/python3.7/dist-packages (from spacy<3.1.0,>=3.0.0->en-core-web-trf==3.0.0) (56.0.0)\n",
            "Requirement already satisfied: typer<0.4.0,>=0.3.0 in /usr/local/lib/python3.7/dist-packages (from spacy<3.1.0,>=3.0.0->en-core-web-trf==3.0.0) (0.3.2)\n",
            "Requirement already satisfied: preshed<3.1.0,>=3.0.2 in /usr/local/lib/python3.7/dist-packages (from spacy<3.1.0,>=3.0.0->en-core-web-trf==3.0.0) (3.0.5)\n",
            "Requirement already satisfied: blis<0.8.0,>=0.4.0 in /usr/local/lib/python3.7/dist-packages (from spacy<3.1.0,>=3.0.0->en-core-web-trf==3.0.0) (0.4.1)\n",
            "Requirement already satisfied: zipp>=0.5 in /usr/local/lib/python3.7/dist-packages (from catalogue<2.1.0,>=2.0.3->spacy<3.1.0,>=3.0.0->en-core-web-trf==3.0.0) (3.4.1)\n",
            "Requirement already satisfied: pyparsing>=2.0.2 in /usr/local/lib/python3.7/dist-packages (from packaging>=20.0->spacy<3.1.0,>=3.0.0->en-core-web-trf==3.0.0) (2.4.7)\n",
            "Requirement already satisfied: smart-open<4.0.0,>=2.2.0 in /usr/local/lib/python3.7/dist-packages (from pathy>=0.3.5->spacy<3.1.0,>=3.0.0->en-core-web-trf==3.0.0) (3.0.0)\n",
            "Requirement already satisfied: certifi>=2017.4.17 in /usr/local/lib/python3.7/dist-packages (from requests<3.0.0,>=2.13.0->spacy<3.1.0,>=3.0.0->en-core-web-trf==3.0.0) (2020.12.5)\n",
            "Requirement already satisfied: urllib3!=1.25.0,!=1.25.1,<1.26,>=1.21.1 in /usr/local/lib/python3.7/dist-packages (from requests<3.0.0,>=2.13.0->spacy<3.1.0,>=3.0.0->en-core-web-trf==3.0.0) (1.24.3)\n",
            "Requirement already satisfied: idna<3,>=2.5 in /usr/local/lib/python3.7/dist-packages (from requests<3.0.0,>=2.13.0->spacy<3.1.0,>=3.0.0->en-core-web-trf==3.0.0) (2.10)\n",
            "Requirement already satisfied: chardet<4,>=3.0.2 in /usr/local/lib/python3.7/dist-packages (from requests<3.0.0,>=2.13.0->spacy<3.1.0,>=3.0.0->en-core-web-trf==3.0.0) (3.0.4)\n",
            "Requirement already satisfied: torch>=1.5.0 in /usr/local/lib/python3.7/dist-packages (from spacy-transformers<1.1.0,>=1.0.0rc4->en-core-web-trf==3.0.0) (1.8.1+cu101)\n",
            "Requirement already satisfied: transformers<4.6.0,>=3.4.0 in /usr/local/lib/python3.7/dist-packages (from spacy-transformers<1.1.0,>=1.0.0rc4->en-core-web-trf==3.0.0) (4.5.1)\n",
            "Requirement already satisfied: spacy-alignments<1.0.0,>=0.7.2 in /usr/local/lib/python3.7/dist-packages (from spacy-transformers<1.1.0,>=1.0.0rc4->en-core-web-trf==3.0.0) (0.8.3)\n",
            "Requirement already satisfied: importlib-metadata in /usr/local/lib/python3.7/dist-packages (from transformers<4.6.0,>=3.4.0->spacy-transformers<1.1.0,>=1.0.0rc4->en-core-web-trf==3.0.0) (3.10.1)\n",
            "Requirement already satisfied: regex!=2019.12.17 in /usr/local/lib/python3.7/dist-packages (from transformers<4.6.0,>=3.4.0->spacy-transformers<1.1.0,>=1.0.0rc4->en-core-web-trf==3.0.0) (2019.12.20)\n",
            "Requirement already satisfied: tokenizers<0.11,>=0.10.1 in /usr/local/lib/python3.7/dist-packages (from transformers<4.6.0,>=3.4.0->spacy-transformers<1.1.0,>=1.0.0rc4->en-core-web-trf==3.0.0) (0.10.2)\n",
            "Requirement already satisfied: filelock in /usr/local/lib/python3.7/dist-packages (from transformers<4.6.0,>=3.4.0->spacy-transformers<1.1.0,>=1.0.0rc4->en-core-web-trf==3.0.0) (3.0.12)\n",
            "Requirement already satisfied: sacremoses in /usr/local/lib/python3.7/dist-packages (from transformers<4.6.0,>=3.4.0->spacy-transformers<1.1.0,>=1.0.0rc4->en-core-web-trf==3.0.0) (0.0.45)\n",
            "Requirement already satisfied: click<7.2.0,>=7.1.1 in /usr/local/lib/python3.7/dist-packages (from typer<0.4.0,>=0.3.0->spacy<3.1.0,>=3.0.0->en-core-web-trf==3.0.0) (7.1.2)\n",
            "Requirement already satisfied: MarkupSafe>=0.23 in /usr/local/lib/python3.7/dist-packages (from jinja2->spacy<3.1.0,>=3.0.0->en-core-web-trf==3.0.0) (1.1.1)\n",
            "Requirement already satisfied: six in /usr/local/lib/python3.7/dist-packages (from sacremoses->transformers<4.6.0,>=3.4.0->spacy-transformers<1.1.0,>=1.0.0rc4->en-core-web-trf==3.0.0) (1.15.0)\n",
            "Requirement already satisfied: joblib in /usr/local/lib/python3.7/dist-packages (from sacremoses->transformers<4.6.0,>=3.4.0->spacy-transformers<1.1.0,>=1.0.0rc4->en-core-web-trf==3.0.0) (1.0.1)\n",
            "Installing collected packages: en-core-web-trf\n",
            "Successfully installed en-core-web-trf-3.0.0\n",
            "\u001b[33mWARNING: Running pip as root will break packages and permissions. You should install packages reliably by using venv: https://pip.pypa.io/warnings/venv\u001b[0m\n",
            "\u001b[38;5;2m✔ Download and installation successful\u001b[0m\n",
            "You can now load the package via spacy.load('en_core_web_trf')\n",
            "************************\n",
            "        Versions        \n",
            "************************\n",
            "Tensorflow version=2.4.1\n",
            "Keras version=2.4.0\n",
            "Sklearn version=0.22.2.post1\n",
            "Numpy version=1.19.5\n",
            "Pandas version=1.1.5\n",
            "Seaborn version=0.11.1\n",
            "Matplotlib version=3.2.2\n",
            "SpaCy version=3.0.6\n",
            "Python version=3.7.10\n"
          ],
          "name": "stdout"
        }
      ]
    },
    {
      "cell_type": "markdown",
      "metadata": {
        "id": "leKoAEG_KWf8"
      },
      "source": [
        "### 2.2. Load the modules\n",
        "\n",
        "---\n",
        "\n",
        "Load the necessary modules for usage in the entire project."
      ]
    },
    {
      "cell_type": "code",
      "metadata": {
        "id": "U04wypEUv2p1"
      },
      "source": [
        "# importing necessary modules for this project\n",
        "import tensorflow as tf\n",
        "\n",
        "import pandas as pd\n",
        "import matplotlib.pyplot as plt\n",
        "import seaborn as sns\n",
        "import numpy as np\n",
        "import string\n",
        "import spacy\n",
        "\n",
        "# activate the GPU to run spaCy with GPU\n",
        "spacy.prefer_gpu()\n",
        "\n",
        "# configurate spacy settings\n",
        "nlp = spacy.load(\"en_core_web_trf\", disable=['parser', 'ner'])\n",
        "\n",
        "# import stopwords\n",
        "stopwords = nlp.Defaults.stop_words\n",
        "\n",
        "%matplotlib inline"
      ],
      "execution_count": 1,
      "outputs": []
    },
    {
      "cell_type": "markdown",
      "metadata": {
        "id": "ca1X-gSJKap_"
      },
      "source": [
        "### 2.3. Load the dataset\n",
        "\n",
        "---\n",
        "\n",
        "Load the dataset for usage in the entire project."
      ]
    },
    {
      "cell_type": "code",
      "metadata": {
        "id": "owSKzElwKdh1",
        "colab": {
          "base_uri": "https://localhost:8080/",
          "height": 551
        },
        "outputId": "95833692-a310-45d1-d8aa-7a94fad540ce"
      },
      "source": [
        "# use pandas to read the excel file and populate it in a pandas dataframe\n",
        "companies = pd.read_excel('./Cleaned Dataset1.xlsx')\n",
        "\n",
        "# see the top 10 companies that are populated in the dataframe\n",
        "companies.head(10)"
      ],
      "execution_count": 2,
      "outputs": [
        {
          "output_type": "execute_result",
          "data": {
            "text/html": [
              "<div>\n",
              "<style scoped>\n",
              "    .dataframe tbody tr th:only-of-type {\n",
              "        vertical-align: middle;\n",
              "    }\n",
              "\n",
              "    .dataframe tbody tr th {\n",
              "        vertical-align: top;\n",
              "    }\n",
              "\n",
              "    .dataframe thead th {\n",
              "        text-align: right;\n",
              "    }\n",
              "</style>\n",
              "<table border=\"1\" class=\"dataframe\">\n",
              "  <thead>\n",
              "    <tr style=\"text-align: right;\">\n",
              "      <th></th>\n",
              "      <th>Company_ID</th>\n",
              "      <th>Company</th>\n",
              "      <th>Country</th>\n",
              "      <th>PIC</th>\n",
              "      <th>Sector</th>\n",
              "      <th>Subsector</th>\n",
              "      <th>Archetype</th>\n",
              "      <th>Valuechain</th>\n",
              "      <th>Websites</th>\n",
              "      <th>Company Profile Information</th>\n",
              "      <th>Remarks</th>\n",
              "    </tr>\n",
              "  </thead>\n",
              "  <tbody>\n",
              "    <tr>\n",
              "      <th>0</th>\n",
              "      <td>3335955665151329792</td>\n",
              "      <td>CUBIC DECO PTE. LTD.</td>\n",
              "      <td>SINGAPORE</td>\n",
              "      <td>NaN</td>\n",
              "      <td>cni</td>\n",
              "      <td>cni_service providers</td>\n",
              "      <td>cni_service providers</td>\n",
              "      <td>midstream</td>\n",
              "      <td>https://www.cubicdeco.com/</td>\n",
              "      <td>Cubic Deco Pte Ltd is an interior contractor b...</td>\n",
              "      <td>NaN</td>\n",
              "    </tr>\n",
              "    <tr>\n",
              "      <th>1</th>\n",
              "      <td>4869155818043957248</td>\n",
              "      <td>UTRACON CORPORATION PTE. LTD.</td>\n",
              "      <td>SINGAPORE</td>\n",
              "      <td>NaN</td>\n",
              "      <td>cni</td>\n",
              "      <td>buildings &amp; industrial</td>\n",
              "      <td>buildings &amp; industrial_contractor</td>\n",
              "      <td>midstream</td>\n",
              "      <td>https://utracon.com/ucplwp/index.php/about-us/</td>\n",
              "      <td>The Company provides civil engineering service...</td>\n",
              "      <td>NaN</td>\n",
              "    </tr>\n",
              "    <tr>\n",
              "      <th>2</th>\n",
              "      <td>9105432065968196608</td>\n",
              "      <td>GUANGDONG OVERLAND CERAMICS CO., LTD</td>\n",
              "      <td>SINGAPORE</td>\n",
              "      <td>NaN</td>\n",
              "      <td>cni</td>\n",
              "      <td>building material</td>\n",
              "      <td>building material_manufacturer</td>\n",
              "      <td>midstream</td>\n",
              "      <td>https://www.overlandceramics.com/</td>\n",
              "      <td>Overland Ceramics is a ceramic tile manufactur...</td>\n",
              "      <td>NaN</td>\n",
              "    </tr>\n",
              "    <tr>\n",
              "      <th>3</th>\n",
              "      <td>1443389736722230016</td>\n",
              "      <td>BYMA PTE LTD</td>\n",
              "      <td>SINGAPORE</td>\n",
              "      <td>NaN</td>\n",
              "      <td>cni</td>\n",
              "      <td>buildings &amp; industrial</td>\n",
              "      <td>buildings &amp; industrial_contractor</td>\n",
              "      <td>midstream</td>\n",
              "      <td>https://recordowl.com/company/byma-pte-ltd</td>\n",
              "      <td>BYMA is a joint-venture between Bouygues Batim...</td>\n",
              "      <td>NaN</td>\n",
              "    </tr>\n",
              "    <tr>\n",
              "      <th>4</th>\n",
              "      <td>8604660251488355328</td>\n",
              "      <td>TTCL MALAYSIA SDN. BHD.</td>\n",
              "      <td>MALAYSIA</td>\n",
              "      <td>NaN</td>\n",
              "      <td>cni</td>\n",
              "      <td>buildings &amp; industrial</td>\n",
              "      <td>buildings &amp; industrial_contractor</td>\n",
              "      <td>midstream</td>\n",
              "      <td>https://www.ttcl.com/about/subsidiary_and_affi...</td>\n",
              "      <td>TTCL has experiences and expertises in providi...</td>\n",
              "      <td>NaN</td>\n",
              "    </tr>\n",
              "    <tr>\n",
              "      <th>5</th>\n",
              "      <td>4532858488890287104</td>\n",
              "      <td>LYRA INFORMATION PTE. LTD.</td>\n",
              "      <td>SINGAPORE</td>\n",
              "      <td>NaN</td>\n",
              "      <td>tmt</td>\n",
              "      <td>it services</td>\n",
              "      <td>it services</td>\n",
              "      <td>midstream</td>\n",
              "      <td>https://recordowl.com/company/lyra-infosystems...</td>\n",
              "      <td>Lyra Infosystems is a Technology Services &amp; IT...</td>\n",
              "      <td>NaN</td>\n",
              "    </tr>\n",
              "    <tr>\n",
              "      <th>6</th>\n",
              "      <td>1265923277439065088</td>\n",
              "      <td>XINYUAN CONSTRUCTION PTE. LTD.</td>\n",
              "      <td>SINGAPORE</td>\n",
              "      <td>NaN</td>\n",
              "      <td>cni</td>\n",
              "      <td>buildings &amp; industrial</td>\n",
              "      <td>buildings &amp; industrial_contractor</td>\n",
              "      <td>midstream</td>\n",
              "      <td>https://sgpgrid.com/company-details/xinyuan-co...</td>\n",
              "      <td>We are a rapidly growing development &amp; constru...</td>\n",
              "      <td>NaN</td>\n",
              "    </tr>\n",
              "    <tr>\n",
              "      <th>7</th>\n",
              "      <td>8916117183994534912</td>\n",
              "      <td>HARUM MAJUINDAH SDN. BHD.</td>\n",
              "      <td>MALAYSIA</td>\n",
              "      <td>NaN</td>\n",
              "      <td>cni</td>\n",
              "      <td>buildings &amp; industrial</td>\n",
              "      <td>buildings &amp; industrial_contractor</td>\n",
              "      <td>midstream</td>\n",
              "      <td>https://www.ctoscredit.com.my/business/HARUM-M...</td>\n",
              "      <td>TRADING OF BUILDING MATERIALS, SPECIALISES IN ...</td>\n",
              "      <td>NaN</td>\n",
              "    </tr>\n",
              "    <tr>\n",
              "      <th>8</th>\n",
              "      <td>3859622006099505152</td>\n",
              "      <td>SINGAPORE RADIO &amp; INDUSTRY PTE LTD</td>\n",
              "      <td>SINGAPORE</td>\n",
              "      <td>NaN</td>\n",
              "      <td>tmt</td>\n",
              "      <td>consumer electronics</td>\n",
              "      <td>consumer electronics_distributor</td>\n",
              "      <td>downstream</td>\n",
              "      <td>https://www.timesbusinessdirectory.com/compani...</td>\n",
              "      <td>Importers and exporters of gas cookers and de...</td>\n",
              "      <td>NaN</td>\n",
              "    </tr>\n",
              "    <tr>\n",
              "      <th>9</th>\n",
              "      <td>3949003258736629248</td>\n",
              "      <td>MEC JATI CONSORTIUM SDN. BHD.</td>\n",
              "      <td>MALAYSIA</td>\n",
              "      <td>NaN</td>\n",
              "      <td>cni</td>\n",
              "      <td>buildings &amp; industrial</td>\n",
              "      <td>buildings &amp; industrial_contractor</td>\n",
              "      <td>midstream</td>\n",
              "      <td>http://mecjati.com/about-us/</td>\n",
              "      <td>MEC JATI CONSORTIUM SDN. BHD.( 479906-A) is a ...</td>\n",
              "      <td>NaN</td>\n",
              "    </tr>\n",
              "  </tbody>\n",
              "</table>\n",
              "</div>"
            ],
            "text/plain": [
              "            Company_ID  ... Remarks\n",
              "0  3335955665151329792  ...     NaN\n",
              "1  4869155818043957248  ...     NaN\n",
              "2  9105432065968196608  ...     NaN\n",
              "3  1443389736722230016  ...     NaN\n",
              "4  8604660251488355328  ...     NaN\n",
              "5  4532858488890287104  ...     NaN\n",
              "6  1265923277439065088  ...     NaN\n",
              "7  8916117183994534912  ...     NaN\n",
              "8  3859622006099505152  ...     NaN\n",
              "9  3949003258736629248  ...     NaN\n",
              "\n",
              "[10 rows x 11 columns]"
            ]
          },
          "metadata": {
            "tags": []
          },
          "execution_count": 2
        }
      ]
    },
    {
      "cell_type": "markdown",
      "metadata": {
        "id": "2TI1D_-KP6hC"
      },
      "source": [
        "---\n",
        "---"
      ]
    },
    {
      "cell_type": "markdown",
      "metadata": {
        "id": "9qKHTDyOP9bz"
      },
      "source": [
        "# 3.Exploratory Data Analysis"
      ]
    },
    {
      "cell_type": "markdown",
      "metadata": {
        "id": "P8p50I8GQCAg"
      },
      "source": [
        "### 3.1. Get overview of dataset\n",
        "\n",
        "---\n",
        "\n",
        "Get statistical information of the dataset to understand the dataset better."
      ]
    },
    {
      "cell_type": "code",
      "metadata": {
        "colab": {
          "base_uri": "https://localhost:8080/"
        },
        "id": "2iea82R6Dm2J",
        "outputId": "03813042-b4d8-43c5-dedd-6397ff592338"
      },
      "source": [
        "# see the row headers of the entire pandas dataframe first\n",
        "list(companies.columns)"
      ],
      "execution_count": 3,
      "outputs": [
        {
          "output_type": "execute_result",
          "data": {
            "text/plain": [
              "['Company_ID',\n",
              " 'Company',\n",
              " 'Country',\n",
              " 'PIC',\n",
              " 'Sector',\n",
              " 'Subsector',\n",
              " 'Archetype',\n",
              " 'Valuechain',\n",
              " 'Websites',\n",
              " 'Company Profile Information',\n",
              " 'Remarks']"
            ]
          },
          "metadata": {
            "tags": []
          },
          "execution_count": 3
        }
      ]
    },
    {
      "cell_type": "code",
      "metadata": {
        "id": "OVX1CBSTLZqm",
        "colab": {
          "base_uri": "https://localhost:8080/"
        },
        "outputId": "db4b44fc-de72-4da4-dca4-a7ce5ccb04c1"
      },
      "source": [
        "# get the total number of records in the dataframe\n",
        "df_count = companies['Company_ID'].count()\n",
        "\n",
        "# get count of unique contries where companies are based in\n",
        "df_countCountry = companies['Country'].nunique()\n",
        "\n",
        "# get count of total unique sectors where companies are from\n",
        "df_countSector = companies['Sector'].nunique()\n",
        "\n",
        "# get count of total unique subseector where companies are from\n",
        "df_countsubSector = companies['Subsector'].nunique()\n",
        "\n",
        "# get count of total unique valuechain where companies are from\n",
        "df_countValuechain = companies['Valuechain'].nunique()\n",
        "\n",
        "print('Total number of records:', df_count)\n",
        "print('Total number of countries:', df_countCountry)\n",
        "print('Total number of sectors:', df_countSector)\n",
        "print('Total number of subsectors:', df_countsubSector)\n",
        "print('Total number of valuechain:', df_countValuechain)"
      ],
      "execution_count": 4,
      "outputs": [
        {
          "output_type": "stream",
          "text": [
            "Total number of records: 376\n",
            "Total number of countries: 7\n",
            "Total number of sectors: 7\n",
            "Total number of subsectors: 20\n",
            "Total number of valuechain: 8\n"
          ],
          "name": "stdout"
        }
      ]
    },
    {
      "cell_type": "code",
      "metadata": {
        "id": "O1C_l7ytUixQ",
        "colab": {
          "base_uri": "https://localhost:8080/"
        },
        "outputId": "1669bf5e-c235-4d4a-d5c0-a34f758997ff"
      },
      "source": [
        "# get total number of countries\n",
        "df_totalCountries = companies['Country'].value_counts()\n",
        "\n",
        "# get list of unique sector\n",
        "df_sector = companies['Sector'].value_counts()\n",
        "\n",
        "# get list of unique archetype\n",
        "df_archetype = companies['Archetype'].value_counts()\n",
        "\n",
        "# get list of unique valuechain\n",
        "df_valuechain = companies['Valuechain'].value_counts()\n",
        "\n",
        "print('List of unique countries:\\n{}'.format(df_totalCountries))\n",
        "print()\n",
        "print('List of unique sector:\\n{}'.format(df_sector))\n",
        "print()\n",
        "print('List of unique valuechain:\\n{}'.format(df_valuechain))"
      ],
      "execution_count": 5,
      "outputs": [
        {
          "output_type": "stream",
          "text": [
            "List of unique countries:\n",
            "SINGAPORE    134\n",
            "THAILAND      93\n",
            "MALAYSIA      93\n",
            "CHINA         21\n",
            "INDONESIA     18\n",
            "HONG KONG     16\n",
            "AUSTRALIA      1\n",
            "Name: Country, dtype: int64\n",
            "\n",
            "List of unique sector:\n",
            "cni    168\n",
            "tmt    146\n",
            "ong     49\n",
            "ind      6\n",
            "cg       5\n",
            "reh      1\n",
            "CNI      1\n",
            "Name: Sector, dtype: int64\n",
            "\n",
            "List of unique valuechain:\n",
            "midstream                 218\n",
            "downstream                118\n",
            "upstream                   26\n",
            "upstream or downstream      7\n",
            "manufacturer                3\n",
            "across value chain          2\n",
            "trader                      1\n",
            "DOWNSTREAM                  1\n",
            "Name: Valuechain, dtype: int64\n"
          ],
          "name": "stdout"
        }
      ]
    },
    {
      "cell_type": "code",
      "metadata": {
        "id": "NIoXot6HWEWP",
        "colab": {
          "base_uri": "https://localhost:8080/"
        },
        "outputId": "99fe66da-df88-4730-a08e-cc65941547b5"
      },
      "source": [
        "# get list of unique subsector\n",
        "df_subsector = companies['Subsector'].value_counts()\n",
        "\n",
        "print('List of unique Subsector:\\n{}'.format(df_subsector))"
      ],
      "execution_count": 6,
      "outputs": [
        {
          "output_type": "stream",
          "text": [
            "List of unique Subsector:\n",
            "buildings & industrial               93\n",
            "building material                    54\n",
            "consumer electronics                 51\n",
            "it services                          35\n",
            "o&g                                  35\n",
            "semiconductor                        24\n",
            "digital_business                     14\n",
            "telecommunication                    14\n",
            "petrochemical                        12\n",
            "cni_service providers                10\n",
            "media                                 8\n",
            "utilities                             8\n",
            "retail n distribution                 4\n",
            "metals and mining                     4\n",
            "infrastructure                        3\n",
            "auto & mec                            2\n",
            "o&g_service providers/contractors     2\n",
            "commercial                            1\n",
            "cni_equipment suppliers               1\n",
            "agribusiness                          1\n",
            "Name: Subsector, dtype: int64\n"
          ],
          "name": "stdout"
        }
      ]
    },
    {
      "cell_type": "code",
      "metadata": {
        "id": "SjaNooD3Uz3c",
        "colab": {
          "base_uri": "https://localhost:8080/"
        },
        "outputId": "ed6f6096-491f-4708-ed61-1d50ead321c8"
      },
      "source": [
        "print('List of unique archetype:\\n{}'.format(df_archetype))"
      ],
      "execution_count": 7,
      "outputs": [
        {
          "output_type": "stream",
          "text": [
            "List of unique archetype:\n",
            "buildings & industrial_contractor                              93\n",
            "consumer electronics_distributor                               48\n",
            "building material_manufacturer                                 37\n",
            "it services                                                    35\n",
            "o&g_retail outlet                                              31\n",
            "building material_supplier_distributor                         17\n",
            "electronics components/semiconductor_component manufacturer    17\n",
            "digital_business                                               14\n",
            "cni_service providers                                          10\n",
            "network operator                                                9\n",
            "petrochemical_producer                                          7\n",
            "electronics components/semiconductor_component distributor      7\n",
            "o&g_distributor                                                 4\n",
            "utilities_developer                                             4\n",
            "media_aggregator/distributor                                    4\n",
            "petrochemical_distributor                                       4\n",
            "steel fabricator                                                3\n",
            "modern trade                                                    3\n",
            "consumer electronics                                            3\n",
            "utilities_contractor                                            2\n",
            "utilities_operator                                              2\n",
            "data center                                                     2\n",
            "advertisement & marketing agency                                2\n",
            "network equipment supplier                                      2\n",
            "o&g midstream and downstream service provider                   2\n",
            "content creator                                                 2\n",
            "auto dealer                                                     1\n",
            "commercial_operator                                             1\n",
            "consumer discretionary distributor                              1\n",
            "infrastructure_contractor                                       1\n",
            "infrastructure_operator                                         1\n",
            "palm oil                                                        1\n",
            "auto component dealer                                           1\n",
            "plastics convertor                                              1\n",
            "telecommunication infrastructure                                1\n",
            "cni_equipment suppliers                                         1\n",
            "base metal                                                      1\n",
            "infrastructure_developer                                        1\n",
            "Name: Archetype, dtype: int64\n"
          ],
          "name": "stdout"
        }
      ]
    },
    {
      "cell_type": "markdown",
      "metadata": {
        "id": "57EHaR92D9UP"
      },
      "source": [
        "### 3.2. Drop unncessary columns\n",
        "\n",
        "---\n",
        "\n",
        "Here, we will drop columns that wiill not aid in our EDA."
      ]
    },
    {
      "cell_type": "code",
      "metadata": {
        "colab": {
          "base_uri": "https://localhost:8080/",
          "height": 473
        },
        "id": "TC9-PuS6EDXT",
        "outputId": "3494b9aa-6991-4b0c-dbff-8ed4a6777e91"
      },
      "source": [
        "# declare the list of the row names that are redundant\n",
        "rows_to_drop = ['Company_ID', 'PIC', 'Websites', 'Remarks']\n",
        "\n",
        "# use a conditional expression to filter out those rows\n",
        "df_filteredCompanies = companies.drop(labels=rows_to_drop, axis=1)\n",
        "\n",
        "df_filteredCompanies"
      ],
      "execution_count": 8,
      "outputs": [
        {
          "output_type": "execute_result",
          "data": {
            "text/html": [
              "<div>\n",
              "<style scoped>\n",
              "    .dataframe tbody tr th:only-of-type {\n",
              "        vertical-align: middle;\n",
              "    }\n",
              "\n",
              "    .dataframe tbody tr th {\n",
              "        vertical-align: top;\n",
              "    }\n",
              "\n",
              "    .dataframe thead th {\n",
              "        text-align: right;\n",
              "    }\n",
              "</style>\n",
              "<table border=\"1\" class=\"dataframe\">\n",
              "  <thead>\n",
              "    <tr style=\"text-align: right;\">\n",
              "      <th></th>\n",
              "      <th>Company</th>\n",
              "      <th>Country</th>\n",
              "      <th>Sector</th>\n",
              "      <th>Subsector</th>\n",
              "      <th>Archetype</th>\n",
              "      <th>Valuechain</th>\n",
              "      <th>Company Profile Information</th>\n",
              "    </tr>\n",
              "  </thead>\n",
              "  <tbody>\n",
              "    <tr>\n",
              "      <th>0</th>\n",
              "      <td>CUBIC DECO PTE. LTD.</td>\n",
              "      <td>SINGAPORE</td>\n",
              "      <td>cni</td>\n",
              "      <td>cni_service providers</td>\n",
              "      <td>cni_service providers</td>\n",
              "      <td>midstream</td>\n",
              "      <td>Cubic Deco Pte Ltd is an interior contractor b...</td>\n",
              "    </tr>\n",
              "    <tr>\n",
              "      <th>1</th>\n",
              "      <td>UTRACON CORPORATION PTE. LTD.</td>\n",
              "      <td>SINGAPORE</td>\n",
              "      <td>cni</td>\n",
              "      <td>buildings &amp; industrial</td>\n",
              "      <td>buildings &amp; industrial_contractor</td>\n",
              "      <td>midstream</td>\n",
              "      <td>The Company provides civil engineering service...</td>\n",
              "    </tr>\n",
              "    <tr>\n",
              "      <th>2</th>\n",
              "      <td>GUANGDONG OVERLAND CERAMICS CO., LTD</td>\n",
              "      <td>SINGAPORE</td>\n",
              "      <td>cni</td>\n",
              "      <td>building material</td>\n",
              "      <td>building material_manufacturer</td>\n",
              "      <td>midstream</td>\n",
              "      <td>Overland Ceramics is a ceramic tile manufactur...</td>\n",
              "    </tr>\n",
              "    <tr>\n",
              "      <th>3</th>\n",
              "      <td>BYMA PTE LTD</td>\n",
              "      <td>SINGAPORE</td>\n",
              "      <td>cni</td>\n",
              "      <td>buildings &amp; industrial</td>\n",
              "      <td>buildings &amp; industrial_contractor</td>\n",
              "      <td>midstream</td>\n",
              "      <td>BYMA is a joint-venture between Bouygues Batim...</td>\n",
              "    </tr>\n",
              "    <tr>\n",
              "      <th>4</th>\n",
              "      <td>TTCL MALAYSIA SDN. BHD.</td>\n",
              "      <td>MALAYSIA</td>\n",
              "      <td>cni</td>\n",
              "      <td>buildings &amp; industrial</td>\n",
              "      <td>buildings &amp; industrial_contractor</td>\n",
              "      <td>midstream</td>\n",
              "      <td>TTCL has experiences and expertises in providi...</td>\n",
              "    </tr>\n",
              "    <tr>\n",
              "      <th>...</th>\n",
              "      <td>...</td>\n",
              "      <td>...</td>\n",
              "      <td>...</td>\n",
              "      <td>...</td>\n",
              "      <td>...</td>\n",
              "      <td>...</td>\n",
              "      <td>...</td>\n",
              "    </tr>\n",
              "    <tr>\n",
              "      <th>371</th>\n",
              "      <td>TRANSWATER API SDN. BHD.</td>\n",
              "      <td>MALAYSIA</td>\n",
              "      <td>ong</td>\n",
              "      <td>o&amp;g_service providers/contractors</td>\n",
              "      <td>o&amp;g midstream and downstream service provider</td>\n",
              "      <td>downstream</td>\n",
              "      <td>TRANSWATER is staffed with a group of dedicate...</td>\n",
              "    </tr>\n",
              "    <tr>\n",
              "      <th>372</th>\n",
              "      <td>FOMOTHAI CORPORATION CO.,LTD.</td>\n",
              "      <td>THAILAND</td>\n",
              "      <td>ong</td>\n",
              "      <td>petrochemical</td>\n",
              "      <td>petrochemical_producer</td>\n",
              "      <td>upstream or downstream</td>\n",
              "      <td>Manufacture of pesticides and other chemicals ...</td>\n",
              "    </tr>\n",
              "    <tr>\n",
              "      <th>373</th>\n",
              "      <td>ZHEJIANG SOWOW E-COMMERCE CO., LTD.</td>\n",
              "      <td>CHINA</td>\n",
              "      <td>tmt</td>\n",
              "      <td>digital_business</td>\n",
              "      <td>digital_business</td>\n",
              "      <td>midstream</td>\n",
              "      <td>SOWOW is an e-commerce operation service provi...</td>\n",
              "    </tr>\n",
              "    <tr>\n",
              "      <th>374</th>\n",
              "      <td>XINHUA NEWS AGENCY PRINTING CO., LTD.</td>\n",
              "      <td>CHINA</td>\n",
              "      <td>tmt</td>\n",
              "      <td>media</td>\n",
              "      <td>media_aggregator/distributor</td>\n",
              "      <td>midstream</td>\n",
              "      <td>Xinhua News Agency or New China News Agency is...</td>\n",
              "    </tr>\n",
              "    <tr>\n",
              "      <th>375</th>\n",
              "      <td>HANSIN TIMBER SPECIALIST AND TRADING PTE. LTD.</td>\n",
              "      <td>SINGAPORE</td>\n",
              "      <td>CNI</td>\n",
              "      <td>building material</td>\n",
              "      <td>building material_supplier_distributor</td>\n",
              "      <td>DOWNSTREAM</td>\n",
              "      <td>Provider of timber trading services. The compa...</td>\n",
              "    </tr>\n",
              "  </tbody>\n",
              "</table>\n",
              "<p>376 rows × 7 columns</p>\n",
              "</div>"
            ],
            "text/plain": [
              "                                            Company  ...                        Company Profile Information\n",
              "0                              CUBIC DECO PTE. LTD.  ...  Cubic Deco Pte Ltd is an interior contractor b...\n",
              "1                     UTRACON CORPORATION PTE. LTD.  ...  The Company provides civil engineering service...\n",
              "2              GUANGDONG OVERLAND CERAMICS CO., LTD  ...  Overland Ceramics is a ceramic tile manufactur...\n",
              "3                                      BYMA PTE LTD  ...  BYMA is a joint-venture between Bouygues Batim...\n",
              "4                           TTCL MALAYSIA SDN. BHD.  ...  TTCL has experiences and expertises in providi...\n",
              "..                                              ...  ...                                                ...\n",
              "371                        TRANSWATER API SDN. BHD.  ...  TRANSWATER is staffed with a group of dedicate...\n",
              "372                   FOMOTHAI CORPORATION CO.,LTD.  ...  Manufacture of pesticides and other chemicals ...\n",
              "373             ZHEJIANG SOWOW E-COMMERCE CO., LTD.  ...  SOWOW is an e-commerce operation service provi...\n",
              "374           XINHUA NEWS AGENCY PRINTING CO., LTD.  ...  Xinhua News Agency or New China News Agency is...\n",
              "375  HANSIN TIMBER SPECIALIST AND TRADING PTE. LTD.  ...  Provider of timber trading services. The compa...\n",
              "\n",
              "[376 rows x 7 columns]"
            ]
          },
          "metadata": {
            "tags": []
          },
          "execution_count": 8
        }
      ]
    },
    {
      "cell_type": "markdown",
      "metadata": {
        "id": "c3S6ZQzySmC0"
      },
      "source": [
        "### 3.3. Filter rows with valid data\n",
        "\n",
        "---\n",
        "\n",
        "Extract columns with Nan values and list them out here. Afterwards, gather the rows deemed suitable to process NLP."
      ]
    },
    {
      "cell_type": "code",
      "metadata": {
        "id": "7ZLoO_4SSry7",
        "colab": {
          "base_uri": "https://localhost:8080/",
          "height": 48
        },
        "outputId": "0e28f9b7-ab03-4358-b6c2-072cddb92881"
      },
      "source": [
        "# find all the rows with nan data in sector, subsector, archetype and valuechain\n",
        "cols_to_check = ['Sector', 'Subsector', 'Archetype', 'Valuechain', 'Company Profile Information']\n",
        "empty = df_filteredCompanies[df_filteredCompanies[cols_to_check].isnull().all(1)]\n",
        "\n",
        "empty"
      ],
      "execution_count": 9,
      "outputs": [
        {
          "output_type": "execute_result",
          "data": {
            "text/html": [
              "<div>\n",
              "<style scoped>\n",
              "    .dataframe tbody tr th:only-of-type {\n",
              "        vertical-align: middle;\n",
              "    }\n",
              "\n",
              "    .dataframe tbody tr th {\n",
              "        vertical-align: top;\n",
              "    }\n",
              "\n",
              "    .dataframe thead th {\n",
              "        text-align: right;\n",
              "    }\n",
              "</style>\n",
              "<table border=\"1\" class=\"dataframe\">\n",
              "  <thead>\n",
              "    <tr style=\"text-align: right;\">\n",
              "      <th></th>\n",
              "      <th>Company</th>\n",
              "      <th>Country</th>\n",
              "      <th>Sector</th>\n",
              "      <th>Subsector</th>\n",
              "      <th>Archetype</th>\n",
              "      <th>Valuechain</th>\n",
              "      <th>Company Profile Information</th>\n",
              "    </tr>\n",
              "  </thead>\n",
              "  <tbody>\n",
              "  </tbody>\n",
              "</table>\n",
              "</div>"
            ],
            "text/plain": [
              "Empty DataFrame\n",
              "Columns: [Company, Country, Sector, Subsector, Archetype, Valuechain, Company Profile Information]\n",
              "Index: []"
            ]
          },
          "metadata": {
            "tags": []
          },
          "execution_count": 9
        }
      ]
    },
    {
      "cell_type": "code",
      "metadata": {
        "id": "nrQjbN7uStmr",
        "colab": {
          "base_uri": "https://localhost:8080/",
          "height": 473
        },
        "outputId": "1e9f3801-0d9a-442e-e8dc-d57752fb5584"
      },
      "source": [
        "# now we get the dataset that are valid\n",
        "df_valid = pd.concat([df_filteredCompanies, empty, empty]).drop_duplicates(keep=False)\n",
        "\n",
        "df_valid"
      ],
      "execution_count": 10,
      "outputs": [
        {
          "output_type": "execute_result",
          "data": {
            "text/html": [
              "<div>\n",
              "<style scoped>\n",
              "    .dataframe tbody tr th:only-of-type {\n",
              "        vertical-align: middle;\n",
              "    }\n",
              "\n",
              "    .dataframe tbody tr th {\n",
              "        vertical-align: top;\n",
              "    }\n",
              "\n",
              "    .dataframe thead th {\n",
              "        text-align: right;\n",
              "    }\n",
              "</style>\n",
              "<table border=\"1\" class=\"dataframe\">\n",
              "  <thead>\n",
              "    <tr style=\"text-align: right;\">\n",
              "      <th></th>\n",
              "      <th>Company</th>\n",
              "      <th>Country</th>\n",
              "      <th>Sector</th>\n",
              "      <th>Subsector</th>\n",
              "      <th>Archetype</th>\n",
              "      <th>Valuechain</th>\n",
              "      <th>Company Profile Information</th>\n",
              "    </tr>\n",
              "  </thead>\n",
              "  <tbody>\n",
              "    <tr>\n",
              "      <th>0</th>\n",
              "      <td>CUBIC DECO PTE. LTD.</td>\n",
              "      <td>SINGAPORE</td>\n",
              "      <td>cni</td>\n",
              "      <td>cni_service providers</td>\n",
              "      <td>cni_service providers</td>\n",
              "      <td>midstream</td>\n",
              "      <td>Cubic Deco Pte Ltd is an interior contractor b...</td>\n",
              "    </tr>\n",
              "    <tr>\n",
              "      <th>1</th>\n",
              "      <td>UTRACON CORPORATION PTE. LTD.</td>\n",
              "      <td>SINGAPORE</td>\n",
              "      <td>cni</td>\n",
              "      <td>buildings &amp; industrial</td>\n",
              "      <td>buildings &amp; industrial_contractor</td>\n",
              "      <td>midstream</td>\n",
              "      <td>The Company provides civil engineering service...</td>\n",
              "    </tr>\n",
              "    <tr>\n",
              "      <th>2</th>\n",
              "      <td>GUANGDONG OVERLAND CERAMICS CO., LTD</td>\n",
              "      <td>SINGAPORE</td>\n",
              "      <td>cni</td>\n",
              "      <td>building material</td>\n",
              "      <td>building material_manufacturer</td>\n",
              "      <td>midstream</td>\n",
              "      <td>Overland Ceramics is a ceramic tile manufactur...</td>\n",
              "    </tr>\n",
              "    <tr>\n",
              "      <th>3</th>\n",
              "      <td>BYMA PTE LTD</td>\n",
              "      <td>SINGAPORE</td>\n",
              "      <td>cni</td>\n",
              "      <td>buildings &amp; industrial</td>\n",
              "      <td>buildings &amp; industrial_contractor</td>\n",
              "      <td>midstream</td>\n",
              "      <td>BYMA is a joint-venture between Bouygues Batim...</td>\n",
              "    </tr>\n",
              "    <tr>\n",
              "      <th>4</th>\n",
              "      <td>TTCL MALAYSIA SDN. BHD.</td>\n",
              "      <td>MALAYSIA</td>\n",
              "      <td>cni</td>\n",
              "      <td>buildings &amp; industrial</td>\n",
              "      <td>buildings &amp; industrial_contractor</td>\n",
              "      <td>midstream</td>\n",
              "      <td>TTCL has experiences and expertises in providi...</td>\n",
              "    </tr>\n",
              "    <tr>\n",
              "      <th>...</th>\n",
              "      <td>...</td>\n",
              "      <td>...</td>\n",
              "      <td>...</td>\n",
              "      <td>...</td>\n",
              "      <td>...</td>\n",
              "      <td>...</td>\n",
              "      <td>...</td>\n",
              "    </tr>\n",
              "    <tr>\n",
              "      <th>371</th>\n",
              "      <td>TRANSWATER API SDN. BHD.</td>\n",
              "      <td>MALAYSIA</td>\n",
              "      <td>ong</td>\n",
              "      <td>o&amp;g_service providers/contractors</td>\n",
              "      <td>o&amp;g midstream and downstream service provider</td>\n",
              "      <td>downstream</td>\n",
              "      <td>TRANSWATER is staffed with a group of dedicate...</td>\n",
              "    </tr>\n",
              "    <tr>\n",
              "      <th>372</th>\n",
              "      <td>FOMOTHAI CORPORATION CO.,LTD.</td>\n",
              "      <td>THAILAND</td>\n",
              "      <td>ong</td>\n",
              "      <td>petrochemical</td>\n",
              "      <td>petrochemical_producer</td>\n",
              "      <td>upstream or downstream</td>\n",
              "      <td>Manufacture of pesticides and other chemicals ...</td>\n",
              "    </tr>\n",
              "    <tr>\n",
              "      <th>373</th>\n",
              "      <td>ZHEJIANG SOWOW E-COMMERCE CO., LTD.</td>\n",
              "      <td>CHINA</td>\n",
              "      <td>tmt</td>\n",
              "      <td>digital_business</td>\n",
              "      <td>digital_business</td>\n",
              "      <td>midstream</td>\n",
              "      <td>SOWOW is an e-commerce operation service provi...</td>\n",
              "    </tr>\n",
              "    <tr>\n",
              "      <th>374</th>\n",
              "      <td>XINHUA NEWS AGENCY PRINTING CO., LTD.</td>\n",
              "      <td>CHINA</td>\n",
              "      <td>tmt</td>\n",
              "      <td>media</td>\n",
              "      <td>media_aggregator/distributor</td>\n",
              "      <td>midstream</td>\n",
              "      <td>Xinhua News Agency or New China News Agency is...</td>\n",
              "    </tr>\n",
              "    <tr>\n",
              "      <th>375</th>\n",
              "      <td>HANSIN TIMBER SPECIALIST AND TRADING PTE. LTD.</td>\n",
              "      <td>SINGAPORE</td>\n",
              "      <td>CNI</td>\n",
              "      <td>building material</td>\n",
              "      <td>building material_supplier_distributor</td>\n",
              "      <td>DOWNSTREAM</td>\n",
              "      <td>Provider of timber trading services. The compa...</td>\n",
              "    </tr>\n",
              "  </tbody>\n",
              "</table>\n",
              "<p>376 rows × 7 columns</p>\n",
              "</div>"
            ],
            "text/plain": [
              "                                            Company  ...                        Company Profile Information\n",
              "0                              CUBIC DECO PTE. LTD.  ...  Cubic Deco Pte Ltd is an interior contractor b...\n",
              "1                     UTRACON CORPORATION PTE. LTD.  ...  The Company provides civil engineering service...\n",
              "2              GUANGDONG OVERLAND CERAMICS CO., LTD  ...  Overland Ceramics is a ceramic tile manufactur...\n",
              "3                                      BYMA PTE LTD  ...  BYMA is a joint-venture between Bouygues Batim...\n",
              "4                           TTCL MALAYSIA SDN. BHD.  ...  TTCL has experiences and expertises in providi...\n",
              "..                                              ...  ...                                                ...\n",
              "371                        TRANSWATER API SDN. BHD.  ...  TRANSWATER is staffed with a group of dedicate...\n",
              "372                   FOMOTHAI CORPORATION CO.,LTD.  ...  Manufacture of pesticides and other chemicals ...\n",
              "373             ZHEJIANG SOWOW E-COMMERCE CO., LTD.  ...  SOWOW is an e-commerce operation service provi...\n",
              "374           XINHUA NEWS AGENCY PRINTING CO., LTD.  ...  Xinhua News Agency or New China News Agency is...\n",
              "375  HANSIN TIMBER SPECIALIST AND TRADING PTE. LTD.  ...  Provider of timber trading services. The compa...\n",
              "\n",
              "[376 rows x 7 columns]"
            ]
          },
          "metadata": {
            "tags": []
          },
          "execution_count": 10
        }
      ]
    },
    {
      "cell_type": "code",
      "metadata": {
        "colab": {
          "base_uri": "https://localhost:8080/"
        },
        "id": "IuYZkLS8fkjV",
        "outputId": "04305c4b-a555-4294-985c-fd6892d6e0c2"
      },
      "source": [
        "# now we check the count of the total filtered dataset again\n",
        "df_filterCount = df_valid['Company'].count()\n",
        "\n",
        "print('Total number of filtered records:', df_filterCount)"
      ],
      "execution_count": 11,
      "outputs": [
        {
          "output_type": "stream",
          "text": [
            "Total number of filtered records: 376\n"
          ],
          "name": "stdout"
        }
      ]
    },
    {
      "cell_type": "markdown",
      "metadata": {
        "id": "gf69nqOrWr_b"
      },
      "source": [
        "### 3.4. Get graphical overview of dataset\n",
        "\n",
        "---\n",
        "\n",
        "Get visualised information of the dataset to understand the dataset better."
      ]
    },
    {
      "cell_type": "code",
      "metadata": {
        "id": "dRLIFECVS1os",
        "colab": {
          "base_uri": "https://localhost:8080/",
          "height": 724
        },
        "outputId": "5224abea-4c8b-453c-e9b6-adb453f98681"
      },
      "source": [
        "sns.set_style('darkgrid')\n",
        "plt_dims = (30, 13)\n",
        "fig, ax = plt.subplots(figsize=plt_dims)\n",
        "\n",
        "# plot a barplot to see number of companies that belongs to specific sectors\n",
        "sns.countplot(x=\"Sector\", data=df_valid, ax=ax)\n",
        "plt.show()"
      ],
      "execution_count": 12,
      "outputs": [
        {
          "output_type": "display_data",
          "data": {
            "image/png": "[encoded data removed]",
            "text/plain": [
              "<Figure size 2160x936 with 1 Axes>"
            ]
          },
          "metadata": {
            "tags": []
          }
        }
      ]
    },
    {
      "cell_type": "markdown",
      "metadata": {
        "id": "1EyLs8d1TfSw"
      },
      "source": [
        "<div class=\"alert alert-block alert-info\">\n",
        "    <b>Analysis Summary:</b> We see that most of the companies comes from the CNI(Construction And Infrastructure), with TMT(Technology, Media and Telecomm) sector.\n",
        "</div>"
      ]
    },
    {
      "cell_type": "code",
      "metadata": {
        "id": "SwMqcB0MStbJ",
        "colab": {
          "base_uri": "https://localhost:8080/",
          "height": 717
        },
        "outputId": "a5383bb7-42cf-4663-aa3a-e1d54b66bd53"
      },
      "source": [
        "# Pie chart\n",
        "labels = list(df_valid['Country'].unique())\n",
        "sizes = list(df_valid['Country'].value_counts())\n",
        "\n",
        "plt_dims = (30, 13)\n",
        "fig1, ax1 = plt.subplots(figsize=plt_dims)\n",
        "ax1.pie(sizes, labels=labels, autopct='%1.1f%%',\n",
        "        shadow=True, startangle=90)\n",
        "# Equal aspect ratio ensures that pie is drawn as a circle\n",
        "ax1.axis('equal')  \n",
        "plt.tight_layout()\n",
        "plt.show()"
      ],
      "execution_count": 13,
      "outputs": [
        {
          "output_type": "display_data",
          "data": {
            "image/png": "[encoded data removed]",
            "text/plain": [
              "<Figure size 2160x936 with 1 Axes>"
            ]
          },
          "metadata": {
            "tags": []
          }
        }
      ]
    },
    {
      "cell_type": "markdown",
      "metadata": {
        "id": "A73dge-zZhSD"
      },
      "source": [
        "<div class=\"alert alert-block alert-info\">\n",
        "    <b>Analysis Summary:</b> We see that most of the companies are Singapre-Based companies, followed up by Hong Kong, Indonesia and so on.\n",
        "</div>"
      ]
    },
    {
      "cell_type": "markdown",
      "metadata": {
        "id": "L3bMDdQTfTnX"
      },
      "source": [
        "### 3.5. See examples of company description\n",
        "\n",
        "---\n",
        "\n",
        "We would now like to see some examples of the company descriptions in order to undestand later how to preprocess them later on."
      ]
    },
    {
      "cell_type": "code",
      "metadata": {
        "colab": {
          "base_uri": "https://localhost:8080/"
        },
        "id": "LBQ4Ml5gfkg7",
        "outputId": "2f90ef49-5848-4316-852a-7953948b9b96"
      },
      "source": [
        "# configurate pandas dataframe to let us see the entire company description IN FULL\n",
        "pd.set_option('display.max_colwidth', None)\n",
        "\n",
        "# get the 1st 50 results and observe\n",
        "df_valid.loc[0:49,'Company Profile Information']"
      ],
      "execution_count": 14,
      "outputs": [
        {
          "output_type": "execute_result",
          "data": {
            "text/plain": [
              "0                                                                                                                                                                                                                                                                                                                                                                                                                                                                                                                                                                                                                                    Cubic Deco Pte Ltd is an interior contractor based in Singapore. Incorporated in March 2005 and with a current strength of 30, we provide professional services for interior fit out and construction works for residential, offices and retail spaces. We also offer a complete custom-made carpentry and joinery works right here at our inhouse workshop. \n",
              "1                                                                                                                                                                                                                                                                                                                                                                                                                                                                                                                                                                                                                                                                                                                                                                                                                                                                                                            The Company provides civil engineering services and on-site post-tensioning products.\n",
              "2                                                                                                                                                                                                                                                                                                                                                                                                                                                                                                                                                                                                                                                                                                                                                                                                      Overland Ceramics is a ceramic tile manufacturer & supplier integrating design, research and development, manufacturing and marketing. Our products are wholesale marble tile & stone tile.\n",
              "3     BYMA is a joint-venture between Bouygues Batiment International and SPA Project Management. The company brings together the expertise of a leading international construction group (Bouygues Construction) and the local knowledge of Yoma Strategic Holdings focusing on the Myanmar market. In April 2013, BYMA was awarded by Thanlin Estate Development the design and build contract for the 2nd phase of Star City (Zone B), a prominent residential estate featuring 4,980 apartments, car parks and communal facilities located along the Bago River in the outskirts of Yangon. In December 2014, BYMA was also awarded the 3rd phase of Star City (Zone C). The development will be composed of 6 residential towers, including 956 residential units, as well as a 26,000m2 car park, located around the periphery of the site over two levels, providing 1,147 car park spaces. With more than 1,500 employees, BYMA will soon be the leading construction company in Myanmar. \n",
              "4                                                                                                                                                                                                                                                                                                                                                                                                                                                                                                                                                                                                                                                                                                               TTCL has experiences and expertises in providing integrated design and engineering, procurement of machinery & equipment, and construction (Integrated EPC) of turnkey projects for industrial and process plants, mainly in energy, petrochemical, chemical and power industries.\n",
              "5                                                                                                                                                                                                                                                                                                                                                                                                                                                                                                                                                                                                                                                                                                                                                                                                                                                       Lyra Infosystems is a Technology Services & IT Consulting Company, headquartered in Bangalore with offices in Delhi, Mumbai and Singapore.\n",
              "6                                                                                                                                                                                                                                                                                                                                                                                                                                                                                                                                                                                                                                                                                                                                                                                                                                                                                                                                      We are a rapidly growing development & construction company\n",
              "7                                                                                                                                                                                                                                                                                                                                                                                                                                                                                                                                                                                                                                                                                                                                                                                                                                                                                    TRADING OF BUILDING MATERIALS, SPECIALISES IN MECHANICAL & ELECTRICAL ENGINEERING AND CIVIL ENGINEERING WORKS\n",
              "8                                                                                                                                                                                                                                                                                                                                                                                                                                                                                                                                                                                                                                                                                                                                                                                                                                                                                                                    Importers and exporters of gas cookers and dealers in electrical appliances. \n",
              "9                                                                                                                                                                                                                                                                                                                                                                                                                                                                                                                                                                                                                                                                                                                                                                                        MEC JATI CONSORTIUM SDN. BHD.( 479906-A) is a Malaysian Bumiputera status company G7 that is incorporated on 26th March 1999 with an objective of establishing leading engineering services and products.\n",
              "10                                                                                                                                                                                                                                                                                                                                                                                                                                                                                                                                                                                                                                                                                                                                                                                                                                                                       Engineering services undertaken by PBT include Sub Structure, Super Structure, Civil, Architecture & Interior Decoration.\n",
              "11                                                                                                                                                                                                                                                                                                                                                                                                                                                                                                                                                                                                                                                                         Soheto Services is the Authorized Agent and Service Center for Sony Professional Products as well as Fujifilm Digital Cameras in Cambodia. We have been in operation in Cambodia since 1996, and we have a specialized sales and service team to cater to all your needs for broadcasting as well as photography needs.\n",
              "12                                                                                                                                                                                                                                                                                                                                                                                                                                                                                                                                                                                                                                                                                                                                                                                                                                                                Contamaju Sdn Bhd is an enterprise in Malaysia, with the main office in Kuala Lumpur. It operates in the Construction industry. \n",
              "13                                                                                                                                                                                                                                                                                                                                               Since its inception in 1967, DP has designed many of the country’s most important public projects and notable landmarks. Each of these has played a critical role in shaping Singapore’s civic urban landscape and downtown core, by linking spaces of the city in the formation of a continuous urban fabric. These sites serve as social and cultural anchors for Singapore and as public nodes of human density that have contributed greatly to the city’s success. DP has also been involved with urban projects of immense scale and increasing diversity of function; some of the firm’s works are the largest of their type in the world.\n",
              "14                                                                                                                                                                                                                                                                                                                                                                                                                                                                                                                                                                                                                       SP eCommerce is a full-service eCommerce enabler that provides global brands with Asia Pacific’s first end-to-end managed eCommerce solution, including webstore design and implementation, marketplace management, cross-border commerce, omnichannel order management, global delivery & fulfillment, digital marketing, customer care and Merchant of Record services.\n",
              "15                                                                                                                                                                                                                                                                                                                                                                                                                  CBHB Group has a proven and established track record in the sector - especially in the commercial, residential and institutional building construction. The Group has moved along the supply chain and diversified beyond purely construction into other construction-related activities, such as property development, Mechanical & Electrical Engineering (\"M&E\") services and project management - and upon completion of our RM300 million maiden development namely 3 Two Square, the Group has also diversified into property management as well as car park management.\n",
              "16                                                                                                                                                                                                                                                                                                                                                                                                                                                                                                                                                                       AVP Electronics Ltd serves as a supply channel for a wide range of products from Samsung Electronics in the China region which included Memory , CMOS Sensors, Mobile Display Drivers , AMOLED, 3G/4G Modem and Mobile Application Processors/3G/4G. Its comprehensive sales and distribution network provides an important link in the semiconductor and electronics components supply chain across Hong Kong and China.\n",
              "17                                                                                                                                                                                                                                                                                                                                                                                                                                                                                                                                                                                                                                                                                                                                                                                                        Launched in 2015, it is a platform tailored for the region, providing customers with an easy, secure and fast online shopping experience through strong payment and fulfillment support.\n",
              "18                                                                                                                                                                                                                                                                                                                                                                                                                                                                                                                                Excelpoint Technology Ltd. (the “Company”) and its subsidiaries (“Excelpoint” or the “Group”) are one of the leading regional business-to-business (“B2B”) platforms providing quality electronic components, engineering design services and supply chain management to original equipment manufacturers (“OEMs”), original design manufacturers (“ODMs”) and electronics manufacturing services (“EMS”) in the Asia Pacific region. Excelpoint Technology Ltd.\n",
              "19                                                                                                                                                                                                                                                                                                                                                                                                Optus is an Australian leader in integrated telecommunications, delivering cutting-edge communications, information technology and entertainment services. In 2001 Singtel became the parent company of Optus, paving the way to become a strong and strategic telecommunications player within the Asia-Pacific region. With more than 130 years of operating experience the Singtel Group is Asia's leading communications group providing a wide spectrum of multimedia and infocomms technology (ICT) solutions, including voice, data and video services over fixed and wireless platforms.\n",
              "20                                                                                                                                                                                                                                                                                                                                                                                                                                                                                          HRS is Oracle’s largest hospitality partner worldwide, providing coverage in over 77 countries to more than 6000 customers. Recognized as an official Oracle Hospitality Partner, HRS offers a wide range of innovative solutions to its customers, these include: Property Management, POS, Spa & Guest Activities, Business Analytics, Payment Gateway, Mobile Applications, Channel Manager, Online Distribution Services, Finance and HR Systems, Passport Scanning & Recognition, plus much more.\n",
              "21                                                                                                                                                                                                                                                                                                                                                                                                                                                                                                                                          TPZTP FAMILY is an ACRA-registered entity that has been operating for 14 years 7 months in Singapore since its incorporation y in 2006. Officially, TPZTP FAMILY PTE. LTD. is registered as Exempt Private Limited Company with its address in District 15 (Katong, Joo Chiat, Amber Road), primarily operates in the sector of \"WHOLESALE OF HOUSEHOLD ELECTRICAL APPLIANCES AND EQUIPMENT (INCLUDING HOUSEHOLD AIR-CONDITIONERS)\", SSIC code - 46435\n",
              "22                                                                                                                                                                                                                                                                                                                                                                                                                    Haier brand Founded in 2527 as a brand of home appliances, Haier Group, Haier was converted into the era of the Internet of Things has been introduced to the model of the modified Smart (intelligent. customization model) according to the brand guidelines laid out to be “The forerunner of the Internet of Things”, Haier provides consumers with a wide range of smart home solutions. And different situations, meet the needs of customers. Who want to select high quality products Modern Work smart And most importantly, it is suitable for your own lifestyle.\n",
              "23                                                                                                                                                                                                                                                                                                                                                                                                                                                                                                                                                                                                                                                                                                                                 Established in 1989 as a sole proprietorship, the main activities of Labcon General Contractor (LGC) had been construction works for the commercial, industrial and residential buildings, as well as subcontracting similar works from other main contractors.\n",
              "24                                                                                                                                                                                                                                                                                                                                                                                                                                                                                                                                                                                                                                                                                                                                                                                                                                                                                                                                                                                             NaN\n",
              "25                                                                                                                                                                                                                                                                                                                                                                                                                                                                                                                                                                                                                                The Singtel Group is Asia's leading communications group. We provide a diverse range of services including fixed, mobile, data, internet, TV, infocomms technology (ICT)  and digital solutions. Headquartered in Singapore, Singtel has 140 years of operating experience and played a pivotal role in the country’s development as a major communications hub.\n",
              "26                                                                                                                                                                                                                                                                                                                                                                                                                                                                                                                                                                                      EXCELSIOR ENGINEERING is an ACRA-registered entity that has been operating for 36 years 2 months in Singapore since its incorporation y in 1985. Officially, EXCELSIOR ENGINEERING PTE LTD is registered as Exempt Private Limited Company with its address in District 22 (Jurong), primarily operates in the sector of \"GENERAL BUILDING ENGINEERING DESIGN AND CONSULTANCY SERVICES\", SSIC code - 71121\n",
              "27                                                                                                                                                                                                                                                                                                                                                                                                                                                                                                                                                                                                                                                                                                                                                                                                                                                           Univic Engineering Limited was founded in 1980. The company's line of business includes providing special trade contracting services.\n",
              "28                                                                                                                                                                                                                                                                                                                                                                                                                                                                                                                                                                                                                                                                                                                                                                                                                  Established in 1990, KETECA grew rapidly to become a trusted world-class developer, manufacturer and distributor of equipment and consumables for the semiconductor industry. \n",
              "29                                                                                                                                                                                                                                                                                                                                                                                                                                                                                                                                                                                                                                                                                                                                       Lanco Construction & Engineering Pte Ltd (“Lanco”) was formed in 1994 specializing in engineering and machining works, with an expansion of scope to incorporate building and construction by tapping on its expertise as a Structural Steelwork builder.\n",
              "30                                                                                                                                                                                                                                                                                                                                                                                                                                                                                                                                                                                                                                                                                                                                                                                                                                                                                                                                                                MANUFACTURING AND SALE OF BRICKS\n",
              "31                                                                                                                                                                                                                                                                                                                                                                                                                                               Our team member engaged in a wide range of Building constructions, Residential, Drainages, Reinforced Concrete Structural works, infrastructure and services involving private and public sector. Our capabilities include all aspects of General Contract works and Construction management. In the performance of contracts, Golden Sands provides a competent and qualified personal equipped and experienced in every stage of constructions work, design and technical coordination matter from inception until completion of the project.  \n",
              "32                                                                                                                                                                                                                                                                                                                                                                                                                                                                                                                                                                                                                                                                                                                                                                                      We specialized in a wide range of geotechnical and foundations engineering, and has increasingly committed to the field of environmental, building & infrastructure works and waste water treatment plant.\n",
              "33                                                                                                                                                                                                                                                                                                                                                                                                                                                                                                                                        SAMSUNG-BINTAI KINDENKO JOINT VENTURE is an ACRA-registered entity that has been operating for 9 years in Singapore since its incorporation y in 2012. Officially, SAMSUNG-BINTAI KINDENKO JOINT VENTURE is registered as Partnership with its address in District 1 (Raffles Place, Cecil, Marina, People's Park), primarily operates in the sector of \"GENERAL CONTRACTORS (BUILDING CONSTRUCTION INCLUDING MAJOR UPGRADING WORKS)\", SSIC code - 41001\n",
              "34                                                                                                                                                                                                                                                                                                                                                                                                                                                                                                                                                                                                                                                                                                                                                                                                      Different types of construction machine such as Driller, Excavator, Wheel Loader, Bulldozer. The aim of our company is providing outstanding machine to optimise your working efficiency. \n",
              "35                                                                                                                                                                                                                                                                                                                                                                                                                                                                                                                                                                                                                                                                                                                                                                                                                                                                                                                   DEALERS IN ALL KINDS OF TELECOMMUNICATION, ELECTRICAL AND ELECTRONIC PRODUCTS\n",
              "36                                                                                                                                                                                                                                                                                                                                                                                                                                                                           Lifomax Woodbuild Sdn Bhd is building a sound reputation as a trusted supplier for building materials. As a specialist building material supplier, we supply all type of quality value-added wood product such as plywood, flooring, joint, doors, windows and handrails. At the same time, we also stock a wide range of other general building material, such as brick, aluminum foil, Rockwool, BRC, Steel Bar, cement, piles, ironmongery, louvers, ceramic & homogeneous tiles, paver, pipes and sanitary wares.\n",
              "37                                                                                                                                                                                                                                                                                                                                                                                                                           In view of the demand of quality Electrical Home Appliances, the group decided to form TRIO KADEN (M) Sdn Bhd in 2006. All types of TRIO Home Appliances were imported under the “TRIO” brand name. It became a registered trademark in 2008. TRIO home appliances are aesthetically designed with the unique TRIO colour image. We ensure that all products are made of quality materials and are reliable, user friendly, convenient and value for money. All our products are SIRIM approved. We provide ONE year warranty and our service is throughout Malaysia.\n",
              "38                                                                                                                                                                                                                                                                                                                                                                                                                                                                                                                                                                                                                                                                                                                                                                                                                                   SiS Distribution (Thailand) Public Co., Ltd. was established on 17th June 1998 to distribute computer systems, software, peripherals and networking products.\n",
              "39                                                                                                                                                                                                                                                                                                                                                                                                                                                                                                                                                                                                                                                TabSquare grew as the market leader of AI-Powered ‘in-restaurant technology solutions that leverage rich consumer data and deep learning algorithms in the F&B industry. In this digital era, our target is to help the industry ‘Square Up’ the unwanted dilemma of operations, human power, and other factors that can drag down the business.\n",
              "40                                                                                                                                                                                                Samsung Electro-Mechanics began with a focus on production of audio/video parts and laid the foundation for the technological independence of Korea’s parts industry. In the 1980s, we diversified our business areas into materials and computer parts. Subsequently, in the 1990s, we focused on developing promising next-generation products such as chip parts, mobile communication parts, and optical parts. Since the start of the 2000s, the company has been seeking to further develop strategic technologies and create business synergy based on core technologies of materials, multilayer thin-film molding, and high-frequency circuit design. With this at our core, we are focusing on fostering the business of chip parts, camera modules, communication modules and boards.\n",
              "41                                                                                                                                                                                                                                                                                                                                                                                                                                                                                                                                                                                                                                                                                                                                                                    It has created an “influencer commerce platform” that connects influencers in southeast Asia with manufacturers all over the world to produce, brand, sell and distribute collaboration products using influencer marketing.\n",
              "42                                                                                                                                                                                                                                                                                                                                                                                                                                                                                                                                                                                                                                                                                                                                                                                                                                                                                                                                                                            CONSTRUCTION COMPANY\n",
              "43                                                                                                                                                                                                                                                                                                                                                                                                                                                                                                                                                                                                                                                                                                                                                                                                                                     Infra Segi Sdn Bhd was incorporated in 1995, from a humble civil contractor, to now an acclaimed builder for high rise building and complex infrastructure.\n",
              "44                                                                                                                                                                                                                                                                                                                                                                                                                                                                                                                                                                                                                                                                                                                                                                                                              As a company engaged in digital advertising , through our various communication platforms we are determined to provide the best ideas and creativity for your brand communication.\n",
              "45                                                                                                                                                                                                                                                                                                                                                                                                                                                                                                                                                                                                                                                                                We're AIMLedge, a small but mighty startup that's building a fantastic Retail Analytics Platform for retailers worldwide. We build our deep learning, computer vision and data analytics capabilities in-house, and were focused on solving a focused problem really well by working closely with our customers.\n",
              "46                                                                                                                                                                                                                                                                                                                                                                                                                                                                                                                                                                                                                                                                                                                                                             Irbis Ventures is a social enterprise with the mission to build a virtual platform driven by a world class, global community of Mongolian startups, investors and professionals to help next generation of Mongolian entrepreneurs.\n",
              "47                                                                                                                                                                                                                                                                                                                                                                                                                                                                                                                                                           Greatearth Pte Ltd (\"Greatearth\" or the \"Group\") is one of Singapore's oldest and most established integrated building services companies with over 150 years of engineering and construction heritage together with its predecessors. Its competencies span the property value chain including Property Development, Engineering, Construction, as well as specialty services such as Geo-Technical Foundation Work and Procurement.\n",
              "48                                                                                                                                                                                                                                                                                                                                                                                                                                                                                                                                                                         SUNTECCITY (33) is an ACRA-registered entity that has been operating for 5 years 7 months in Singapore since its incorporation y in 2015. Officially, SUNTECCITY (33) PTE. LTD. is registered as Exempt Private Limited Company with its address in District 4 (Telok Blangah, Harbourfront), primarily operates in the sector of \"WHOLESALE TRADE OF A VARIETY OF GOODS WITHOUT A DOMINANT PRODUCT\", SSIC code - 46900\n",
              "49                                                                                                                                                                                                                                                                                                                                                                                                                                                                                                                                                                                                             HCJ CONSTRUCTION is an ACRA-registered entity that has been operating for 14 years 6 months in Singapore since its incorporation y in 2006. Officially, HCJ CONSTRUCTION PTE. LTD. is registered as Exempt Private Limited Company with its address in District 7 (Middle Road, Golden Mile), primarily operates in the sector of \"BUILDING CONSTRUCTION N.E.C.\", SSIC code - 41009\n",
              "Name: Company Profile Information, dtype: object"
            ]
          },
          "metadata": {
            "tags": []
          },
          "execution_count": 14
        }
      ]
    },
    {
      "cell_type": "markdown",
      "metadata": {
        "id": "x50UFKzNkezP"
      },
      "source": [
        "<div class=\"alert alert-block alert-info\">\n",
        "    <b>Analysis Summary:</b> We do realise that some of the company profile message have some breaks in between like '\\n'. Now, we will have to take away all these problems so that it is one string of paragraph with no such annotations in betweeen.\n",
        "</div>"
      ]
    },
    {
      "cell_type": "markdown",
      "metadata": {
        "id": "ETEpM1eCk9Cf"
      },
      "source": [
        "---\n",
        "---"
      ]
    },
    {
      "cell_type": "markdown",
      "metadata": {
        "id": "l0rub1v2k-dq"
      },
      "source": [
        "# 4.Data Preprocessing"
      ]
    },
    {
      "cell_type": "markdown",
      "metadata": {
        "id": "ZxCABlrVlDW6"
      },
      "source": [
        "### 4.1. Removing `\\n`\n",
        "\n",
        "---\n",
        "\n",
        "Now, we will like to standardize all the paragraphs such that the are homogenous, before we tokenize the paragraph."
      ]
    },
    {
      "cell_type": "code",
      "metadata": {
        "colab": {
          "base_uri": "https://localhost:8080/"
        },
        "id": "MAq4hq6XlMBp",
        "outputId": "1956be0a-2ed3-436d-f6db-4b4342bbc6be"
      },
      "source": [
        "# get rid of the \\n found in the respective descriptions\n",
        "df_valid = df_valid.replace('\\n',' ', regex=True)\n",
        "\n",
        "# now we validate to see if theye are really gone\n",
        "df_valid.loc[0:49,'Company Profile Information']"
      ],
      "execution_count": 15,
      "outputs": [
        {
          "output_type": "execute_result",
          "data": {
            "text/plain": [
              "0                                                                                                                                                                                                                                                                                                                                                                                                                                                                                                                                                                                                                                    Cubic Deco Pte Ltd is an interior contractor based in Singapore. Incorporated in March 2005 and with a current strength of 30, we provide professional services for interior fit out and construction works for residential, offices and retail spaces. We also offer a complete custom-made carpentry and joinery works right here at our inhouse workshop. \n",
              "1                                                                                                                                                                                                                                                                                                                                                                                                                                                                                                                                                                                                                                                                                                                                                                                                                                                                                                            The Company provides civil engineering services and on-site post-tensioning products.\n",
              "2                                                                                                                                                                                                                                                                                                                                                                                                                                                                                                                                                                                                                                                                                                                                                                                                      Overland Ceramics is a ceramic tile manufacturer & supplier integrating design, research and development, manufacturing and marketing. Our products are wholesale marble tile & stone tile.\n",
              "3     BYMA is a joint-venture between Bouygues Batiment International and SPA Project Management. The company brings together the expertise of a leading international construction group (Bouygues Construction) and the local knowledge of Yoma Strategic Holdings focusing on the Myanmar market. In April 2013, BYMA was awarded by Thanlin Estate Development the design and build contract for the 2nd phase of Star City (Zone B), a prominent residential estate featuring 4,980 apartments, car parks and communal facilities located along the Bago River in the outskirts of Yangon. In December 2014, BYMA was also awarded the 3rd phase of Star City (Zone C). The development will be composed of 6 residential towers, including 956 residential units, as well as a 26,000m2 car park, located around the periphery of the site over two levels, providing 1,147 car park spaces. With more than 1,500 employees, BYMA will soon be the leading construction company in Myanmar. \n",
              "4                                                                                                                                                                                                                                                                                                                                                                                                                                                                                                                                                                                                                                                                                                               TTCL has experiences and expertises in providing integrated design and engineering, procurement of machinery & equipment, and construction (Integrated EPC) of turnkey projects for industrial and process plants, mainly in energy, petrochemical, chemical and power industries.\n",
              "5                                                                                                                                                                                                                                                                                                                                                                                                                                                                                                                                                                                                                                                                                                                                                                                                                                                       Lyra Infosystems is a Technology Services & IT Consulting Company, headquartered in Bangalore with offices in Delhi, Mumbai and Singapore.\n",
              "6                                                                                                                                                                                                                                                                                                                                                                                                                                                                                                                                                                                                                                                                                                                                                                                                                                                                                                                                      We are a rapidly growing development & construction company\n",
              "7                                                                                                                                                                                                                                                                                                                                                                                                                                                                                                                                                                                                                                                                                                                                                                                                                                                                                    TRADING OF BUILDING MATERIALS, SPECIALISES IN MECHANICAL & ELECTRICAL ENGINEERING AND CIVIL ENGINEERING WORKS\n",
              "8                                                                                                                                                                                                                                                                                                                                                                                                                                                                                                                                                                                                                                                                                                                                                                                                                                                                                                                    Importers and exporters of gas cookers and dealers in electrical appliances. \n",
              "9                                                                                                                                                                                                                                                                                                                                                                                                                                                                                                                                                                                                                                                                                                                                                                                        MEC JATI CONSORTIUM SDN. BHD.( 479906-A) is a Malaysian Bumiputera status company G7 that is incorporated on 26th March 1999 with an objective of establishing leading engineering services and products.\n",
              "10                                                                                                                                                                                                                                                                                                                                                                                                                                                                                                                                                                                                                                                                                                                                                                                                                                                                       Engineering services undertaken by PBT include Sub Structure, Super Structure, Civil, Architecture & Interior Decoration.\n",
              "11                                                                                                                                                                                                                                                                                                                                                                                                                                                                                                                                                                                                                                                                         Soheto Services is the Authorized Agent and Service Center for Sony Professional Products as well as Fujifilm Digital Cameras in Cambodia. We have been in operation in Cambodia since 1996, and we have a specialized sales and service team to cater to all your needs for broadcasting as well as photography needs.\n",
              "12                                                                                                                                                                                                                                                                                                                                                                                                                                                                                                                                                                                                                                                                                                                                                                                                                                                                Contamaju Sdn Bhd is an enterprise in Malaysia, with the main office in Kuala Lumpur. It operates in the Construction industry. \n",
              "13                                                                                                                                                                                                                                                                                                                                               Since its inception in 1967, DP has designed many of the country’s most important public projects and notable landmarks. Each of these has played a critical role in shaping Singapore’s civic urban landscape and downtown core, by linking spaces of the city in the formation of a continuous urban fabric. These sites serve as social and cultural anchors for Singapore and as public nodes of human density that have contributed greatly to the city’s success. DP has also been involved with urban projects of immense scale and increasing diversity of function; some of the firm’s works are the largest of their type in the world.\n",
              "14                                                                                                                                                                                                                                                                                                                                                                                                                                                                                                                                                                                                                       SP eCommerce is a full-service eCommerce enabler that provides global brands with Asia Pacific’s first end-to-end managed eCommerce solution, including webstore design and implementation, marketplace management, cross-border commerce, omnichannel order management, global delivery & fulfillment, digital marketing, customer care and Merchant of Record services.\n",
              "15                                                                                                                                                                                                                                                                                                                                                                                                                  CBHB Group has a proven and established track record in the sector - especially in the commercial, residential and institutional building construction. The Group has moved along the supply chain and diversified beyond purely construction into other construction-related activities, such as property development, Mechanical & Electrical Engineering (\"M&E\") services and project management - and upon completion of our RM300 million maiden development namely 3 Two Square, the Group has also diversified into property management as well as car park management.\n",
              "16                                                                                                                                                                                                                                                                                                                                                                                                                                                                                                                                                                       AVP Electronics Ltd serves as a supply channel for a wide range of products from Samsung Electronics in the China region which included Memory , CMOS Sensors, Mobile Display Drivers , AMOLED, 3G/4G Modem and Mobile Application Processors/3G/4G. Its comprehensive sales and distribution network provides an important link in the semiconductor and electronics components supply chain across Hong Kong and China.\n",
              "17                                                                                                                                                                                                                                                                                                                                                                                                                                                                                                                                                                                                                                                                                                                                                                                                        Launched in 2015, it is a platform tailored for the region, providing customers with an easy, secure and fast online shopping experience through strong payment and fulfillment support.\n",
              "18                                                                                                                                                                                                                                                                                                                                                                                                                                                                                                                                Excelpoint Technology Ltd. (the “Company”) and its subsidiaries (“Excelpoint” or the “Group”) are one of the leading regional business-to-business (“B2B”) platforms providing quality electronic components, engineering design services and supply chain management to original equipment manufacturers (“OEMs”), original design manufacturers (“ODMs”) and electronics manufacturing services (“EMS”) in the Asia Pacific region. Excelpoint Technology Ltd.\n",
              "19                                                                                                                                                                                                                                                                                                                                                                                                Optus is an Australian leader in integrated telecommunications, delivering cutting-edge communications, information technology and entertainment services. In 2001 Singtel became the parent company of Optus, paving the way to become a strong and strategic telecommunications player within the Asia-Pacific region. With more than 130 years of operating experience the Singtel Group is Asia's leading communications group providing a wide spectrum of multimedia and infocomms technology (ICT) solutions, including voice, data and video services over fixed and wireless platforms.\n",
              "20                                                                                                                                                                                                                                                                                                                                                                                                                                                                                          HRS is Oracle’s largest hospitality partner worldwide, providing coverage in over 77 countries to more than 6000 customers. Recognized as an official Oracle Hospitality Partner, HRS offers a wide range of innovative solutions to its customers, these include: Property Management, POS, Spa & Guest Activities, Business Analytics, Payment Gateway, Mobile Applications, Channel Manager, Online Distribution Services, Finance and HR Systems, Passport Scanning & Recognition, plus much more.\n",
              "21                                                                                                                                                                                                                                                                                                                                                                                                                                                                                                                                          TPZTP FAMILY is an ACRA-registered entity that has been operating for 14 years 7 months in Singapore since its incorporation y in 2006. Officially, TPZTP FAMILY PTE. LTD. is registered as Exempt Private Limited Company with its address in District 15 (Katong, Joo Chiat, Amber Road), primarily operates in the sector of \"WHOLESALE OF HOUSEHOLD ELECTRICAL APPLIANCES AND EQUIPMENT (INCLUDING HOUSEHOLD AIR-CONDITIONERS)\", SSIC code - 46435\n",
              "22                                                                                                                                                                                                                                                                                                                                                                                                                    Haier brand Founded in 2527 as a brand of home appliances, Haier Group, Haier was converted into the era of the Internet of Things has been introduced to the model of the modified Smart (intelligent. customization model) according to the brand guidelines laid out to be “The forerunner of the Internet of Things”, Haier provides consumers with a wide range of smart home solutions. And different situations, meet the needs of customers. Who want to select high quality products Modern Work smart And most importantly, it is suitable for your own lifestyle.\n",
              "23                                                                                                                                                                                                                                                                                                                                                                                                                                                                                                                                                                                                                                                                                                                                 Established in 1989 as a sole proprietorship, the main activities of Labcon General Contractor (LGC) had been construction works for the commercial, industrial and residential buildings, as well as subcontracting similar works from other main contractors.\n",
              "24                                                                                                                                                                                                                                                                                                                                                                                                                                                                                                                                                                                                                                                                                                                                                                                                                                                                                                                                                                                             NaN\n",
              "25                                                                                                                                                                                                                                                                                                                                                                                                                                                                                                                                                                                                                                The Singtel Group is Asia's leading communications group. We provide a diverse range of services including fixed, mobile, data, internet, TV, infocomms technology (ICT)  and digital solutions. Headquartered in Singapore, Singtel has 140 years of operating experience and played a pivotal role in the country’s development as a major communications hub.\n",
              "26                                                                                                                                                                                                                                                                                                                                                                                                                                                                                                                                                                                      EXCELSIOR ENGINEERING is an ACRA-registered entity that has been operating for 36 years 2 months in Singapore since its incorporation y in 1985. Officially, EXCELSIOR ENGINEERING PTE LTD is registered as Exempt Private Limited Company with its address in District 22 (Jurong), primarily operates in the sector of \"GENERAL BUILDING ENGINEERING DESIGN AND CONSULTANCY SERVICES\", SSIC code - 71121\n",
              "27                                                                                                                                                                                                                                                                                                                                                                                                                                                                                                                                                                                                                                                                                                                                                                                                                                                           Univic Engineering Limited was founded in 1980. The company's line of business includes providing special trade contracting services.\n",
              "28                                                                                                                                                                                                                                                                                                                                                                                                                                                                                                                                                                                                                                                                                                                                                                                                                  Established in 1990, KETECA grew rapidly to become a trusted world-class developer, manufacturer and distributor of equipment and consumables for the semiconductor industry. \n",
              "29                                                                                                                                                                                                                                                                                                                                                                                                                                                                                                                                                                                                                                                                                                                                       Lanco Construction & Engineering Pte Ltd (“Lanco”) was formed in 1994 specializing in engineering and machining works, with an expansion of scope to incorporate building and construction by tapping on its expertise as a Structural Steelwork builder.\n",
              "30                                                                                                                                                                                                                                                                                                                                                                                                                                                                                                                                                                                                                                                                                                                                                                                                                                                                                                                                                                MANUFACTURING AND SALE OF BRICKS\n",
              "31                                                                                                                                                                                                                                                                                                                                                                                                                                               Our team member engaged in a wide range of Building constructions, Residential, Drainages, Reinforced Concrete Structural works, infrastructure and services involving private and public sector. Our capabilities include all aspects of General Contract works and Construction management. In the performance of contracts, Golden Sands provides a competent and qualified personal equipped and experienced in every stage of constructions work, design and technical coordination matter from inception until completion of the project.  \n",
              "32                                                                                                                                                                                                                                                                                                                                                                                                                                                                                                                                                                                                                                                                                                                                                                                      We specialized in a wide range of geotechnical and foundations engineering, and has increasingly committed to the field of environmental, building & infrastructure works and waste water treatment plant.\n",
              "33                                                                                                                                                                                                                                                                                                                                                                                                                                                                                                                                        SAMSUNG-BINTAI KINDENKO JOINT VENTURE is an ACRA-registered entity that has been operating for 9 years in Singapore since its incorporation y in 2012. Officially, SAMSUNG-BINTAI KINDENKO JOINT VENTURE is registered as Partnership with its address in District 1 (Raffles Place, Cecil, Marina, People's Park), primarily operates in the sector of \"GENERAL CONTRACTORS (BUILDING CONSTRUCTION INCLUDING MAJOR UPGRADING WORKS)\", SSIC code - 41001\n",
              "34                                                                                                                                                                                                                                                                                                                                                                                                                                                                                                                                                                                                                                                                                                                                                                                                      Different types of construction machine such as Driller, Excavator, Wheel Loader, Bulldozer. The aim of our company is providing outstanding machine to optimise your working efficiency. \n",
              "35                                                                                                                                                                                                                                                                                                                                                                                                                                                                                                                                                                                                                                                                                                                                                                                                                                                                                                                   DEALERS IN ALL KINDS OF TELECOMMUNICATION, ELECTRICAL AND ELECTRONIC PRODUCTS\n",
              "36                                                                                                                                                                                                                                                                                                                                                                                                                                                                           Lifomax Woodbuild Sdn Bhd is building a sound reputation as a trusted supplier for building materials. As a specialist building material supplier, we supply all type of quality value-added wood product such as plywood, flooring, joint, doors, windows and handrails. At the same time, we also stock a wide range of other general building material, such as brick, aluminum foil, Rockwool, BRC, Steel Bar, cement, piles, ironmongery, louvers, ceramic & homogeneous tiles, paver, pipes and sanitary wares.\n",
              "37                                                                                                                                                                                                                                                                                                                                                                                                                           In view of the demand of quality Electrical Home Appliances, the group decided to form TRIO KADEN (M) Sdn Bhd in 2006. All types of TRIO Home Appliances were imported under the “TRIO” brand name. It became a registered trademark in 2008. TRIO home appliances are aesthetically designed with the unique TRIO colour image. We ensure that all products are made of quality materials and are reliable, user friendly, convenient and value for money. All our products are SIRIM approved. We provide ONE year warranty and our service is throughout Malaysia.\n",
              "38                                                                                                                                                                                                                                                                                                                                                                                                                                                                                                                                                                                                                                                                                                                                                                                                                                   SiS Distribution (Thailand) Public Co., Ltd. was established on 17th June 1998 to distribute computer systems, software, peripherals and networking products.\n",
              "39                                                                                                                                                                                                                                                                                                                                                                                                                                                                                                                                                                                                                                                TabSquare grew as the market leader of AI-Powered ‘in-restaurant technology solutions that leverage rich consumer data and deep learning algorithms in the F&B industry. In this digital era, our target is to help the industry ‘Square Up’ the unwanted dilemma of operations, human power, and other factors that can drag down the business.\n",
              "40                                                                                                                                                                                                Samsung Electro-Mechanics began with a focus on production of audio/video parts and laid the foundation for the technological independence of Korea’s parts industry. In the 1980s, we diversified our business areas into materials and computer parts. Subsequently, in the 1990s, we focused on developing promising next-generation products such as chip parts, mobile communication parts, and optical parts. Since the start of the 2000s, the company has been seeking to further develop strategic technologies and create business synergy based on core technologies of materials, multilayer thin-film molding, and high-frequency circuit design. With this at our core, we are focusing on fostering the business of chip parts, camera modules, communication modules and boards.\n",
              "41                                                                                                                                                                                                                                                                                                                                                                                                                                                                                                                                                                                                                                                                                                                                                                    It has created an “influencer commerce platform” that connects influencers in southeast Asia with manufacturers all over the world to produce, brand, sell and distribute collaboration products using influencer marketing.\n",
              "42                                                                                                                                                                                                                                                                                                                                                                                                                                                                                                                                                                                                                                                                                                                                                                                                                                                                                                                                                                            CONSTRUCTION COMPANY\n",
              "43                                                                                                                                                                                                                                                                                                                                                                                                                                                                                                                                                                                                                                                                                                                                                                                                                                     Infra Segi Sdn Bhd was incorporated in 1995, from a humble civil contractor, to now an acclaimed builder for high rise building and complex infrastructure.\n",
              "44                                                                                                                                                                                                                                                                                                                                                                                                                                                                                                                                                                                                                                                                                                                                                                                                              As a company engaged in digital advertising , through our various communication platforms we are determined to provide the best ideas and creativity for your brand communication.\n",
              "45                                                                                                                                                                                                                                                                                                                                                                                                                                                                                                                                                                                                                                                                                We're AIMLedge, a small but mighty startup that's building a fantastic Retail Analytics Platform for retailers worldwide. We build our deep learning, computer vision and data analytics capabilities in-house, and were focused on solving a focused problem really well by working closely with our customers.\n",
              "46                                                                                                                                                                                                                                                                                                                                                                                                                                                                                                                                                                                                                                                                                                                                                             Irbis Ventures is a social enterprise with the mission to build a virtual platform driven by a world class, global community of Mongolian startups, investors and professionals to help next generation of Mongolian entrepreneurs.\n",
              "47                                                                                                                                                                                                                                                                                                                                                                                                                                                                                                                                                           Greatearth Pte Ltd (\"Greatearth\" or the \"Group\") is one of Singapore's oldest and most established integrated building services companies with over 150 years of engineering and construction heritage together with its predecessors. Its competencies span the property value chain including Property Development, Engineering, Construction, as well as specialty services such as Geo-Technical Foundation Work and Procurement.\n",
              "48                                                                                                                                                                                                                                                                                                                                                                                                                                                                                                                                                                         SUNTECCITY (33) is an ACRA-registered entity that has been operating for 5 years 7 months in Singapore since its incorporation y in 2015. Officially, SUNTECCITY (33) PTE. LTD. is registered as Exempt Private Limited Company with its address in District 4 (Telok Blangah, Harbourfront), primarily operates in the sector of \"WHOLESALE TRADE OF A VARIETY OF GOODS WITHOUT A DOMINANT PRODUCT\", SSIC code - 46900\n",
              "49                                                                                                                                                                                                                                                                                                                                                                                                                                                                                                                                                                                                             HCJ CONSTRUCTION is an ACRA-registered entity that has been operating for 14 years 6 months in Singapore since its incorporation y in 2006. Officially, HCJ CONSTRUCTION PTE. LTD. is registered as Exempt Private Limited Company with its address in District 7 (Middle Road, Golden Mile), primarily operates in the sector of \"BUILDING CONSTRUCTION N.E.C.\", SSIC code - 41009\n",
              "Name: Company Profile Information, dtype: object"
            ]
          },
          "metadata": {
            "tags": []
          },
          "execution_count": 15
        }
      ]
    },
    {
      "cell_type": "markdown",
      "metadata": {
        "id": "_UbMqS2dvXeZ"
      },
      "source": [
        "### 4.2. Calculating the word length distribution\n",
        "\n",
        "---\n",
        "\n",
        "Here, we will be calculating the world length distribution of the collective company description."
      ]
    },
    {
      "cell_type": "code",
      "metadata": {
        "colab": {
          "base_uri": "https://localhost:8080/",
          "height": 453
        },
        "id": "uDsrjeimvDl8",
        "outputId": "ce4d0dc8-5c1b-415d-a4b8-c21b598a3078"
      },
      "source": [
        "# first, add in a new column that tabluates the length of the respecive company description\n",
        "df_valid[\"length\"] = df_valid[\"Company Profile Information\"].str.len()\n",
        "df_valid.head()"
      ],
      "execution_count": 16,
      "outputs": [
        {
          "output_type": "execute_result",
          "data": {
            "text/html": [
              "<div>\n",
              "<style scoped>\n",
              "    .dataframe tbody tr th:only-of-type {\n",
              "        vertical-align: middle;\n",
              "    }\n",
              "\n",
              "    .dataframe tbody tr th {\n",
              "        vertical-align: top;\n",
              "    }\n",
              "\n",
              "    .dataframe thead th {\n",
              "        text-align: right;\n",
              "    }\n",
              "</style>\n",
              "<table border=\"1\" class=\"dataframe\">\n",
              "  <thead>\n",
              "    <tr style=\"text-align: right;\">\n",
              "      <th></th>\n",
              "      <th>Company</th>\n",
              "      <th>Country</th>\n",
              "      <th>Sector</th>\n",
              "      <th>Subsector</th>\n",
              "      <th>Archetype</th>\n",
              "      <th>Valuechain</th>\n",
              "      <th>Company Profile Information</th>\n",
              "      <th>length</th>\n",
              "    </tr>\n",
              "  </thead>\n",
              "  <tbody>\n",
              "    <tr>\n",
              "      <th>0</th>\n",
              "      <td>CUBIC DECO PTE. LTD.</td>\n",
              "      <td>SINGAPORE</td>\n",
              "      <td>cni</td>\n",
              "      <td>cni_service providers</td>\n",
              "      <td>cni_service providers</td>\n",
              "      <td>midstream</td>\n",
              "      <td>Cubic Deco Pte Ltd is an interior contractor based in Singapore. Incorporated in March 2005 and with a current strength of 30, we provide professional services for interior fit out and construction works for residential, offices and retail spaces. We also offer a complete custom-made carpentry and joinery works right here at our inhouse workshop.</td>\n",
              "      <td>349.0</td>\n",
              "    </tr>\n",
              "    <tr>\n",
              "      <th>1</th>\n",
              "      <td>UTRACON CORPORATION PTE. LTD.</td>\n",
              "      <td>SINGAPORE</td>\n",
              "      <td>cni</td>\n",
              "      <td>buildings &amp; industrial</td>\n",
              "      <td>buildings &amp; industrial_contractor</td>\n",
              "      <td>midstream</td>\n",
              "      <td>The Company provides civil engineering services and on-site post-tensioning products.</td>\n",
              "      <td>85.0</td>\n",
              "    </tr>\n",
              "    <tr>\n",
              "      <th>2</th>\n",
              "      <td>GUANGDONG OVERLAND CERAMICS CO., LTD</td>\n",
              "      <td>SINGAPORE</td>\n",
              "      <td>cni</td>\n",
              "      <td>building material</td>\n",
              "      <td>building material_manufacturer</td>\n",
              "      <td>midstream</td>\n",
              "      <td>Overland Ceramics is a ceramic tile manufacturer &amp; supplier integrating design, research and development, manufacturing and marketing. Our products are wholesale marble tile &amp; stone tile.</td>\n",
              "      <td>187.0</td>\n",
              "    </tr>\n",
              "    <tr>\n",
              "      <th>3</th>\n",
              "      <td>BYMA PTE LTD</td>\n",
              "      <td>SINGAPORE</td>\n",
              "      <td>cni</td>\n",
              "      <td>buildings &amp; industrial</td>\n",
              "      <td>buildings &amp; industrial_contractor</td>\n",
              "      <td>midstream</td>\n",
              "      <td>BYMA is a joint-venture between Bouygues Batiment International and SPA Project Management. The company brings together the expertise of a leading international construction group (Bouygues Construction) and the local knowledge of Yoma Strategic Holdings focusing on the Myanmar market. In April 2013, BYMA was awarded by Thanlin Estate Development the design and build contract for the 2nd phase of Star City (Zone B), a prominent residential estate featuring 4,980 apartments, car parks and communal facilities located along the Bago River in the outskirts of Yangon. In December 2014, BYMA was also awarded the 3rd phase of Star City (Zone C). The development will be composed of 6 residential towers, including 956 residential units, as well as a 26,000m2 car park, located around the periphery of the site over two levels, providing 1,147 car park spaces. With more than 1,500 employees, BYMA will soon be the leading construction company in Myanmar.</td>\n",
              "      <td>956.0</td>\n",
              "    </tr>\n",
              "    <tr>\n",
              "      <th>4</th>\n",
              "      <td>TTCL MALAYSIA SDN. BHD.</td>\n",
              "      <td>MALAYSIA</td>\n",
              "      <td>cni</td>\n",
              "      <td>buildings &amp; industrial</td>\n",
              "      <td>buildings &amp; industrial_contractor</td>\n",
              "      <td>midstream</td>\n",
              "      <td>TTCL has experiences and expertises in providing integrated design and engineering, procurement of machinery &amp; equipment, and construction (Integrated EPC) of turnkey projects for industrial and process plants, mainly in energy, petrochemical, chemical and power industries.</td>\n",
              "      <td>274.0</td>\n",
              "    </tr>\n",
              "  </tbody>\n",
              "</table>\n",
              "</div>"
            ],
            "text/plain": [
              "                                Company  ... length\n",
              "0                  CUBIC DECO PTE. LTD.  ...  349.0\n",
              "1         UTRACON CORPORATION PTE. LTD.  ...   85.0\n",
              "2  GUANGDONG OVERLAND CERAMICS CO., LTD  ...  187.0\n",
              "3                          BYMA PTE LTD  ...  956.0\n",
              "4               TTCL MALAYSIA SDN. BHD.  ...  274.0\n",
              "\n",
              "[5 rows x 8 columns]"
            ]
          },
          "metadata": {
            "tags": []
          },
          "execution_count": 16
        }
      ]
    },
    {
      "cell_type": "code",
      "metadata": {
        "colab": {
          "base_uri": "https://localhost:8080/",
          "height": 349
        },
        "id": "725S9NxvyZXQ",
        "outputId": "793c6612-7b0a-4731-e348-686597c97dc1"
      },
      "source": [
        "# now plot a distribution plot to see the word length distribution\n",
        "sns.distplot(df_valid[\"length\"], kde=True)\n",
        "plt.title('Word Length Distribution')\n",
        "plt.show()"
      ],
      "execution_count": 17,
      "outputs": [
        {
          "output_type": "stream",
          "text": [
            "/usr/local/lib/python3.7/dist-packages/seaborn/distributions.py:2557: FutureWarning: `distplot` is a deprecated function and will be removed in a future version. Please adapt your code to use either `displot` (a figure-level function with similar flexibility) or `histplot` (an axes-level function for histograms).\n",
            "  warnings.warn(msg, FutureWarning)\n"
          ],
          "name": "stderr"
        },
        {
          "output_type": "display_data",
          "data": {
            "image/png": "[encoded data removed]",
            "text/plain": [
              "<Figure size 432x288 with 1 Axes>"
            ]
          },
          "metadata": {
            "tags": []
          }
        }
      ]
    },
    {
      "cell_type": "markdown",
      "metadata": {
        "id": "ZjI1Z5ogyl6h"
      },
      "source": [
        "<div class=\"alert alert-block alert-info\">\n",
        "    <b>Analysis Summary:</b> We can see that there is a high record of the company description having a total word length of around 200 to 300, while those aboce 800 is very rare.\n",
        "</div>"
      ]
    },
    {
      "cell_type": "markdown",
      "metadata": {
        "id": "OdPgyXL60rqg"
      },
      "source": [
        "### 4.3. Subsample from the entire dataset\n",
        "\n",
        "---\n",
        "\n",
        "We will now subsample a part of the dataset from the entire dataset. This is important as firstly, we need to ensure that our tokenization is working correctly in a smaller scale dataset, since using the entire dataset to do it will be very time consuming."
      ]
    },
    {
      "cell_type": "code",
      "metadata": {
        "id": "OC9h-jIM07v2",
        "colab": {
          "base_uri": "https://localhost:8080/",
          "height": 985
        },
        "outputId": "63b94153-4a5d-4d82-c4f0-0ffcf0dbf918"
      },
      "source": [
        "# declare sample size here first (CHANGE IT AS THE TRAINING DATA INCREASES)\n",
        "sample_size = 350\n",
        "\n",
        "# now we will get the data from the restricted range of sample size\n",
        "subsample = df_valid[:sample_size]\n",
        "subsample"
      ],
      "execution_count": 18,
      "outputs": [
        {
          "output_type": "execute_result",
          "data": {
            "text/html": [
              "<div>\n",
              "<style scoped>\n",
              "    .dataframe tbody tr th:only-of-type {\n",
              "        vertical-align: middle;\n",
              "    }\n",
              "\n",
              "    .dataframe tbody tr th {\n",
              "        vertical-align: top;\n",
              "    }\n",
              "\n",
              "    .dataframe thead th {\n",
              "        text-align: right;\n",
              "    }\n",
              "</style>\n",
              "<table border=\"1\" class=\"dataframe\">\n",
              "  <thead>\n",
              "    <tr style=\"text-align: right;\">\n",
              "      <th></th>\n",
              "      <th>Company</th>\n",
              "      <th>Country</th>\n",
              "      <th>Sector</th>\n",
              "      <th>Subsector</th>\n",
              "      <th>Archetype</th>\n",
              "      <th>Valuechain</th>\n",
              "      <th>Company Profile Information</th>\n",
              "      <th>length</th>\n",
              "    </tr>\n",
              "  </thead>\n",
              "  <tbody>\n",
              "    <tr>\n",
              "      <th>0</th>\n",
              "      <td>CUBIC DECO PTE. LTD.</td>\n",
              "      <td>SINGAPORE</td>\n",
              "      <td>cni</td>\n",
              "      <td>cni_service providers</td>\n",
              "      <td>cni_service providers</td>\n",
              "      <td>midstream</td>\n",
              "      <td>Cubic Deco Pte Ltd is an interior contractor based in Singapore. Incorporated in March 2005 and with a current strength of 30, we provide professional services for interior fit out and construction works for residential, offices and retail spaces. We also offer a complete custom-made carpentry and joinery works right here at our inhouse workshop.</td>\n",
              "      <td>349.0</td>\n",
              "    </tr>\n",
              "    <tr>\n",
              "      <th>1</th>\n",
              "      <td>UTRACON CORPORATION PTE. LTD.</td>\n",
              "      <td>SINGAPORE</td>\n",
              "      <td>cni</td>\n",
              "      <td>buildings &amp; industrial</td>\n",
              "      <td>buildings &amp; industrial_contractor</td>\n",
              "      <td>midstream</td>\n",
              "      <td>The Company provides civil engineering services and on-site post-tensioning products.</td>\n",
              "      <td>85.0</td>\n",
              "    </tr>\n",
              "    <tr>\n",
              "      <th>2</th>\n",
              "      <td>GUANGDONG OVERLAND CERAMICS CO., LTD</td>\n",
              "      <td>SINGAPORE</td>\n",
              "      <td>cni</td>\n",
              "      <td>building material</td>\n",
              "      <td>building material_manufacturer</td>\n",
              "      <td>midstream</td>\n",
              "      <td>Overland Ceramics is a ceramic tile manufacturer &amp; supplier integrating design, research and development, manufacturing and marketing. Our products are wholesale marble tile &amp; stone tile.</td>\n",
              "      <td>187.0</td>\n",
              "    </tr>\n",
              "    <tr>\n",
              "      <th>3</th>\n",
              "      <td>BYMA PTE LTD</td>\n",
              "      <td>SINGAPORE</td>\n",
              "      <td>cni</td>\n",
              "      <td>buildings &amp; industrial</td>\n",
              "      <td>buildings &amp; industrial_contractor</td>\n",
              "      <td>midstream</td>\n",
              "      <td>BYMA is a joint-venture between Bouygues Batiment International and SPA Project Management. The company brings together the expertise of a leading international construction group (Bouygues Construction) and the local knowledge of Yoma Strategic Holdings focusing on the Myanmar market. In April 2013, BYMA was awarded by Thanlin Estate Development the design and build contract for the 2nd phase of Star City (Zone B), a prominent residential estate featuring 4,980 apartments, car parks and communal facilities located along the Bago River in the outskirts of Yangon. In December 2014, BYMA was also awarded the 3rd phase of Star City (Zone C). The development will be composed of 6 residential towers, including 956 residential units, as well as a 26,000m2 car park, located around the periphery of the site over two levels, providing 1,147 car park spaces. With more than 1,500 employees, BYMA will soon be the leading construction company in Myanmar.</td>\n",
              "      <td>956.0</td>\n",
              "    </tr>\n",
              "    <tr>\n",
              "      <th>4</th>\n",
              "      <td>TTCL MALAYSIA SDN. BHD.</td>\n",
              "      <td>MALAYSIA</td>\n",
              "      <td>cni</td>\n",
              "      <td>buildings &amp; industrial</td>\n",
              "      <td>buildings &amp; industrial_contractor</td>\n",
              "      <td>midstream</td>\n",
              "      <td>TTCL has experiences and expertises in providing integrated design and engineering, procurement of machinery &amp; equipment, and construction (Integrated EPC) of turnkey projects for industrial and process plants, mainly in energy, petrochemical, chemical and power industries.</td>\n",
              "      <td>274.0</td>\n",
              "    </tr>\n",
              "    <tr>\n",
              "      <th>...</th>\n",
              "      <td>...</td>\n",
              "      <td>...</td>\n",
              "      <td>...</td>\n",
              "      <td>...</td>\n",
              "      <td>...</td>\n",
              "      <td>...</td>\n",
              "      <td>...</td>\n",
              "      <td>...</td>\n",
              "    </tr>\n",
              "    <tr>\n",
              "      <th>345</th>\n",
              "      <td>CPACE INTER CO.,LTD.</td>\n",
              "      <td>THAILAND</td>\n",
              "      <td>ong</td>\n",
              "      <td>petrochemical</td>\n",
              "      <td>petrochemical_producer</td>\n",
              "      <td>upstream or downstream</td>\n",
              "      <td>Business Category: Manufacture of pesticides and other chemicals for agriculture</td>\n",
              "      <td>80.0</td>\n",
              "    </tr>\n",
              "    <tr>\n",
              "      <th>346</th>\n",
              "      <td>HANGZHOU XIANGFU FUEL STATION CO.,LTD</td>\n",
              "      <td>CHINA</td>\n",
              "      <td>ong</td>\n",
              "      <td>o&amp;g</td>\n",
              "      <td>o&amp;g_retail outlet</td>\n",
              "      <td>downstream</td>\n",
              "      <td>Hangzhou Xiangfu Fuel Station Co., Ltd. was founded in 1989. The company's line of business includes selling gasoline and lubricating oils.</td>\n",
              "      <td>139.0</td>\n",
              "    </tr>\n",
              "    <tr>\n",
              "      <th>347</th>\n",
              "      <td>ANQILI ELECTRONIC COMPONENTS (SHENZHEN) CO., LTD ()</td>\n",
              "      <td>CHINA</td>\n",
              "      <td>tmt</td>\n",
              "      <td>semiconductor</td>\n",
              "      <td>electronics components/semiconductor_component manufacturer</td>\n",
              "      <td>upstream</td>\n",
              "      <td>Anqili Electronics Components (Shenzhen) Co., Ltd. was founded in 1991. The Company's line of business includes the manufacturing of electronic components such as antennas, switches, and waveguides.</td>\n",
              "      <td>198.0</td>\n",
              "    </tr>\n",
              "    <tr>\n",
              "      <th>348</th>\n",
              "      <td>HENAN ZHONGYUAN HEAVY FORGING CO., LTD</td>\n",
              "      <td>CHINA</td>\n",
              "      <td>ind</td>\n",
              "      <td>metals and mining</td>\n",
              "      <td>steel fabricator</td>\n",
              "      <td>manufacturer</td>\n",
              "      <td>Henan Zhongyuan Heavy Forging Co., Ltd. was founded in 2004. The company's line of business includes the operation of blast furnaces and steel mills.</td>\n",
              "      <td>149.0</td>\n",
              "    </tr>\n",
              "    <tr>\n",
              "      <th>349</th>\n",
              "      <td>AVEVA ASIA PACIFIC SDN. BHD.</td>\n",
              "      <td>MALAYSIA</td>\n",
              "      <td>tmt</td>\n",
              "      <td>it services</td>\n",
              "      <td>it services</td>\n",
              "      <td>midstream</td>\n",
              "      <td>AVEVA, a global leader in industrial software, drives digital transformation for industrial organizations managing complex operational processes. Through Performance Intelligence, AVEVA connects the power of information and artificial intelligence (AI) with human insight, to enable faster and more precise decision making, helping industries to boost operational delivery and sustainability. Our digital_business-enabled operational data management, combined with software that spans design, engineering and operations, asset performance, monitoring and control solutions delivers proven business value and outcomes to over 20,000 customers worldwide, supported by the largest industrial software ecosystem,</td>\n",
              "      <td>708.0</td>\n",
              "    </tr>\n",
              "  </tbody>\n",
              "</table>\n",
              "<p>350 rows × 8 columns</p>\n",
              "</div>"
            ],
            "text/plain": [
              "                                                 Company  ... length\n",
              "0                                   CUBIC DECO PTE. LTD.  ...  349.0\n",
              "1                          UTRACON CORPORATION PTE. LTD.  ...   85.0\n",
              "2                   GUANGDONG OVERLAND CERAMICS CO., LTD  ...  187.0\n",
              "3                                           BYMA PTE LTD  ...  956.0\n",
              "4                                TTCL MALAYSIA SDN. BHD.  ...  274.0\n",
              "..                                                   ...  ...    ...\n",
              "345                                 CPACE INTER CO.,LTD.  ...   80.0\n",
              "346                HANGZHOU XIANGFU FUEL STATION CO.,LTD  ...  139.0\n",
              "347  ANQILI ELECTRONIC COMPONENTS (SHENZHEN) CO., LTD ()  ...  198.0\n",
              "348               HENAN ZHONGYUAN HEAVY FORGING CO., LTD  ...  149.0\n",
              "349                         AVEVA ASIA PACIFIC SDN. BHD.  ...  708.0\n",
              "\n",
              "[350 rows x 8 columns]"
            ]
          },
          "metadata": {
            "tags": []
          },
          "execution_count": 18
        }
      ]
    },
    {
      "cell_type": "markdown",
      "metadata": {
        "id": "V2q_t5v3SSq2"
      },
      "source": [
        "### 4.4. Populating Nan cells\n",
        "\n",
        "---\n",
        "\n",
        "We will now have to populate Nan cells with space so that we can carry on and process with text tokenization."
      ]
    },
    {
      "cell_type": "code",
      "metadata": {
        "colab": {
          "base_uri": "https://localhost:8080/",
          "height": 1000
        },
        "id": "iAUWZOuMSP7O",
        "outputId": "3a4a146a-36a9-4bd8-bf20-97b632c49b9f"
      },
      "source": [
        "# fill na with space instead of others\n",
        "df_valid.fillna(\" \" ,inplace=True)\n",
        "df_valid"
      ],
      "execution_count": 19,
      "outputs": [
        {
          "output_type": "execute_result",
          "data": {
            "text/html": [
              "<div>\n",
              "<style scoped>\n",
              "    .dataframe tbody tr th:only-of-type {\n",
              "        vertical-align: middle;\n",
              "    }\n",
              "\n",
              "    .dataframe tbody tr th {\n",
              "        vertical-align: top;\n",
              "    }\n",
              "\n",
              "    .dataframe thead th {\n",
              "        text-align: right;\n",
              "    }\n",
              "</style>\n",
              "<table border=\"1\" class=\"dataframe\">\n",
              "  <thead>\n",
              "    <tr style=\"text-align: right;\">\n",
              "      <th></th>\n",
              "      <th>Company</th>\n",
              "      <th>Country</th>\n",
              "      <th>Sector</th>\n",
              "      <th>Subsector</th>\n",
              "      <th>Archetype</th>\n",
              "      <th>Valuechain</th>\n",
              "      <th>Company Profile Information</th>\n",
              "      <th>length</th>\n",
              "    </tr>\n",
              "  </thead>\n",
              "  <tbody>\n",
              "    <tr>\n",
              "      <th>0</th>\n",
              "      <td>CUBIC DECO PTE. LTD.</td>\n",
              "      <td>SINGAPORE</td>\n",
              "      <td>cni</td>\n",
              "      <td>cni_service providers</td>\n",
              "      <td>cni_service providers</td>\n",
              "      <td>midstream</td>\n",
              "      <td>Cubic Deco Pte Ltd is an interior contractor based in Singapore. Incorporated in March 2005 and with a current strength of 30, we provide professional services for interior fit out and construction works for residential, offices and retail spaces. We also offer a complete custom-made carpentry and joinery works right here at our inhouse workshop.</td>\n",
              "      <td>349</td>\n",
              "    </tr>\n",
              "    <tr>\n",
              "      <th>1</th>\n",
              "      <td>UTRACON CORPORATION PTE. LTD.</td>\n",
              "      <td>SINGAPORE</td>\n",
              "      <td>cni</td>\n",
              "      <td>buildings &amp; industrial</td>\n",
              "      <td>buildings &amp; industrial_contractor</td>\n",
              "      <td>midstream</td>\n",
              "      <td>The Company provides civil engineering services and on-site post-tensioning products.</td>\n",
              "      <td>85</td>\n",
              "    </tr>\n",
              "    <tr>\n",
              "      <th>2</th>\n",
              "      <td>GUANGDONG OVERLAND CERAMICS CO., LTD</td>\n",
              "      <td>SINGAPORE</td>\n",
              "      <td>cni</td>\n",
              "      <td>building material</td>\n",
              "      <td>building material_manufacturer</td>\n",
              "      <td>midstream</td>\n",
              "      <td>Overland Ceramics is a ceramic tile manufacturer &amp; supplier integrating design, research and development, manufacturing and marketing. Our products are wholesale marble tile &amp; stone tile.</td>\n",
              "      <td>187</td>\n",
              "    </tr>\n",
              "    <tr>\n",
              "      <th>3</th>\n",
              "      <td>BYMA PTE LTD</td>\n",
              "      <td>SINGAPORE</td>\n",
              "      <td>cni</td>\n",
              "      <td>buildings &amp; industrial</td>\n",
              "      <td>buildings &amp; industrial_contractor</td>\n",
              "      <td>midstream</td>\n",
              "      <td>BYMA is a joint-venture between Bouygues Batiment International and SPA Project Management. The company brings together the expertise of a leading international construction group (Bouygues Construction) and the local knowledge of Yoma Strategic Holdings focusing on the Myanmar market. In April 2013, BYMA was awarded by Thanlin Estate Development the design and build contract for the 2nd phase of Star City (Zone B), a prominent residential estate featuring 4,980 apartments, car parks and communal facilities located along the Bago River in the outskirts of Yangon. In December 2014, BYMA was also awarded the 3rd phase of Star City (Zone C). The development will be composed of 6 residential towers, including 956 residential units, as well as a 26,000m2 car park, located around the periphery of the site over two levels, providing 1,147 car park spaces. With more than 1,500 employees, BYMA will soon be the leading construction company in Myanmar.</td>\n",
              "      <td>956</td>\n",
              "    </tr>\n",
              "    <tr>\n",
              "      <th>4</th>\n",
              "      <td>TTCL MALAYSIA SDN. BHD.</td>\n",
              "      <td>MALAYSIA</td>\n",
              "      <td>cni</td>\n",
              "      <td>buildings &amp; industrial</td>\n",
              "      <td>buildings &amp; industrial_contractor</td>\n",
              "      <td>midstream</td>\n",
              "      <td>TTCL has experiences and expertises in providing integrated design and engineering, procurement of machinery &amp; equipment, and construction (Integrated EPC) of turnkey projects for industrial and process plants, mainly in energy, petrochemical, chemical and power industries.</td>\n",
              "      <td>274</td>\n",
              "    </tr>\n",
              "    <tr>\n",
              "      <th>...</th>\n",
              "      <td>...</td>\n",
              "      <td>...</td>\n",
              "      <td>...</td>\n",
              "      <td>...</td>\n",
              "      <td>...</td>\n",
              "      <td>...</td>\n",
              "      <td>...</td>\n",
              "      <td>...</td>\n",
              "    </tr>\n",
              "    <tr>\n",
              "      <th>371</th>\n",
              "      <td>TRANSWATER API SDN. BHD.</td>\n",
              "      <td>MALAYSIA</td>\n",
              "      <td>ong</td>\n",
              "      <td>o&amp;g_service providers/contractors</td>\n",
              "      <td>o&amp;g midstream and downstream service provider</td>\n",
              "      <td>downstream</td>\n",
              "      <td>TRANSWATER is staffed with a group of dedicated employees who are experienced and suitably qualified in the field of work they work in. More than half our staff and managers are technically trained and qualified engineers with relevant industry experiences. For over 30 years as the local business partner for Emerson Process Management, our engineers have acquired not only product knowledge but also industry focused application knowledge for Fisher Controls, Regulator Technologies, Control systems and solutions. We provide business solutions to our customers through the correct application of products, services and solutions that contribute to our customer’s enterprise in the areas of control, safety, efficiency, and reliability.  Our local team is able to support customer’s project planning activities from grass root project engineering stage, whether the requirement involves a single piece of equipment, a complete engineered control system, local training or engineering services for the technology they have already owned. We strive to develop a long-term relationship with each customers by taking ownership and working together up to the implemented stage.</td>\n",
              "      <td>1174</td>\n",
              "    </tr>\n",
              "    <tr>\n",
              "      <th>372</th>\n",
              "      <td>FOMOTHAI CORPORATION CO.,LTD.</td>\n",
              "      <td>THAILAND</td>\n",
              "      <td>ong</td>\n",
              "      <td>petrochemical</td>\n",
              "      <td>petrochemical_producer</td>\n",
              "      <td>upstream or downstream</td>\n",
              "      <td>Manufacture of pesticides and other chemicals for agriculture</td>\n",
              "      <td>61</td>\n",
              "    </tr>\n",
              "    <tr>\n",
              "      <th>373</th>\n",
              "      <td>ZHEJIANG SOWOW E-COMMERCE CO., LTD.</td>\n",
              "      <td>CHINA</td>\n",
              "      <td>tmt</td>\n",
              "      <td>digital_business</td>\n",
              "      <td>digital_business</td>\n",
              "      <td>midstream</td>\n",
              "      <td>SOWOW is an e-commerce operation service provider for international brands including strategic partnerships with Nike, P&amp;G, Loreal, Unilever and many more.  In Korea, SOWOW’s newest market, we work with BlueAir providing a full level of service solutions.  SOWOW provides international brands with the expertise needed to enter the China market through a 360o model of support that allows large international brands to sell on multiple platforms including T-Mall and JD amongst others.  In South East Asia we support our customers on Lazada to sell to Malaysia, Singapore, Indonesia, Philippines, Thailand and Vietnam.    SOWOW is able to assume all strategy, branding, digital marketing, E-commerce content creation, E-Commerce channel management, data mining, CRM and customer relationship management roles through a one-stop shop operation.</td>\n",
              "      <td>843</td>\n",
              "    </tr>\n",
              "    <tr>\n",
              "      <th>374</th>\n",
              "      <td>XINHUA NEWS AGENCY PRINTING CO., LTD.</td>\n",
              "      <td>CHINA</td>\n",
              "      <td>tmt</td>\n",
              "      <td>media</td>\n",
              "      <td>media_aggregator/distributor</td>\n",
              "      <td>midstream</td>\n",
              "      <td>Xinhua News Agency or New China News Agency is the official state-run press agency of the People's Republic of China. Xinhua is the biggest and most influential media organization in China, as well as the largest news agency in the world in terms of correspondents worldwide.</td>\n",
              "      <td>275</td>\n",
              "    </tr>\n",
              "    <tr>\n",
              "      <th>375</th>\n",
              "      <td>HANSIN TIMBER SPECIALIST AND TRADING PTE. LTD.</td>\n",
              "      <td>SINGAPORE</td>\n",
              "      <td>CNI</td>\n",
              "      <td>building material</td>\n",
              "      <td>building material_supplier_distributor</td>\n",
              "      <td>DOWNSTREAM</td>\n",
              "      <td>Provider of timber trading services. The company's timber trading services include installing of timber floorings and exterior timber decking, trellis and roofing for residential and commercial development, enabling the construction and interior designing industry to develop and design their buildings easily and efficiently.</td>\n",
              "      <td>326</td>\n",
              "    </tr>\n",
              "  </tbody>\n",
              "</table>\n",
              "<p>376 rows × 8 columns</p>\n",
              "</div>"
            ],
            "text/plain": [
              "                                            Company  ... length\n",
              "0                              CUBIC DECO PTE. LTD.  ...    349\n",
              "1                     UTRACON CORPORATION PTE. LTD.  ...     85\n",
              "2              GUANGDONG OVERLAND CERAMICS CO., LTD  ...    187\n",
              "3                                      BYMA PTE LTD  ...    956\n",
              "4                           TTCL MALAYSIA SDN. BHD.  ...    274\n",
              "..                                              ...  ...    ...\n",
              "371                        TRANSWATER API SDN. BHD.  ...   1174\n",
              "372                   FOMOTHAI CORPORATION CO.,LTD.  ...     61\n",
              "373             ZHEJIANG SOWOW E-COMMERCE CO., LTD.  ...    843\n",
              "374           XINHUA NEWS AGENCY PRINTING CO., LTD.  ...    275\n",
              "375  HANSIN TIMBER SPECIALIST AND TRADING PTE. LTD.  ...    326\n",
              "\n",
              "[376 rows x 8 columns]"
            ]
          },
          "metadata": {
            "tags": []
          },
          "execution_count": 19
        }
      ]
    },
    {
      "cell_type": "markdown",
      "metadata": {
        "id": "vMQVBNOGz4cn"
      },
      "source": [
        "### 4.5. Text Tokenization, Removing Stop Words, punctuations, numbers, stop words and Lower Case\n",
        "\n",
        "---\n",
        "\n",
        "Now we will start to tokenize the word after we have ensure that the text description between the company descriptions are homogenous. In this process, we will also process with stop words, punctuations, numeric figures, lower cap words and lemmatize words all using the spaCy API."
      ]
    },
    {
      "cell_type": "code",
      "metadata": {
        "id": "XM-Q_-iEUgFQ"
      },
      "source": [
        "# we will have to ensure all the dtype of the respective columns are in string and not float for spacy to handle properly, so now we will attempt to convert all into strings\n",
        "columns_to_convert = ['Sector', 'Subsector', 'Archetype', 'Valuechain', 'Company Profile Information']\n",
        "\n",
        "for i in columns_to_convert:\n",
        "  df_valid[i] = df_valid[i].astype(str)"
      ],
      "execution_count": 20,
      "outputs": []
    },
    {
      "cell_type": "code",
      "metadata": {
        "id": "f3KX_4LQe9Je"
      },
      "source": [
        "# removes punctuation, stop words and numeric figures from the string and lowercap words\n",
        "df_valid['lemmatized'] = df_valid['Company Profile Information'].apply(lambda x: [w.lemma_ and w.lower_ for w in nlp(x) if (not w.is_punct and not w.like_num and not w.is_stop and not w.is_digit)])"
      ],
      "execution_count": 32,
      "outputs": []
    },
    {
      "cell_type": "code",
      "metadata": {
        "colab": {
          "base_uri": "https://localhost:8080/",
          "height": 576
        },
        "id": "YzWDC2dye9HE",
        "outputId": "17d4bf66-ec84-44d6-e43d-35d130fde95f"
      },
      "source": [
        "df_valid[['lemmatized']]"
      ],
      "execution_count": 29,
      "outputs": [
        {
          "output_type": "execute_result",
          "data": {
            "text/html": [
              "<div>\n",
              "<style scoped>\n",
              "    .dataframe tbody tr th:only-of-type {\n",
              "        vertical-align: middle;\n",
              "    }\n",
              "\n",
              "    .dataframe tbody tr th {\n",
              "        vertical-align: top;\n",
              "    }\n",
              "\n",
              "    .dataframe thead th {\n",
              "        text-align: right;\n",
              "    }\n",
              "</style>\n",
              "<table border=\"1\" class=\"dataframe\">\n",
              "  <thead>\n",
              "    <tr style=\"text-align: right;\">\n",
              "      <th></th>\n",
              "      <th>lemmatized</th>\n",
              "    </tr>\n",
              "  </thead>\n",
              "  <tbody>\n",
              "    <tr>\n",
              "      <th>0</th>\n",
              "      <td>[cubic, deco, pte, ltd, interior, contractor, based, singapore, incorporated, march, current, strength, provide, professional, services, interior, fit, construction, works, residential, offices, retail, spaces, offer, complete, custom, carpentry, joinery, works, right, inhouse, workshop]</td>\n",
              "    </tr>\n",
              "    <tr>\n",
              "      <th>1</th>\n",
              "      <td>[company, provides, civil, engineering, services, site, post, tensioning, products]</td>\n",
              "    </tr>\n",
              "    <tr>\n",
              "      <th>2</th>\n",
              "      <td>[overland, ceramics, ceramic, tile, manufacturer, supplier, integrating, design, research, development, manufacturing, marketing, products, wholesale, marble, tile, stone, tile]</td>\n",
              "    </tr>\n",
              "    <tr>\n",
              "      <th>3</th>\n",
              "      <td>[byma, joint, venture, bouygues, batiment, international, spa, project, management, company, brings, expertise, leading, international, construction, group, bouygues, construction, local, knowledge, yoma, strategic, holdings, focusing, myanmar, market, april, byma, awarded, thanlin, estate, development, design, build, contract, 2nd, phase, star, city, zone, b, prominent, residential, estate, featuring, apartments, car, parks, communal, facilities, located, bago, river, outskirts, yangon, december, byma, awarded, 3rd, phase, star, city, zone, c, development, composed, residential, towers, including, residential, units, 26,000m2, car, park, located, periphery, site, levels, providing, car, park, spaces, employees, byma, soon, leading, construction, company, myanmar]</td>\n",
              "    </tr>\n",
              "    <tr>\n",
              "      <th>4</th>\n",
              "      <td>[ttcl, experiences, expertises, providing, integrated, design, engineering, procurement, machinery, equipment, construction, integrated, epc, turnkey, projects, industrial, process, plants, mainly, energy, petrochemical, chemical, power, industries]</td>\n",
              "    </tr>\n",
              "    <tr>\n",
              "      <th>...</th>\n",
              "      <td>...</td>\n",
              "    </tr>\n",
              "    <tr>\n",
              "      <th>371</th>\n",
              "      <td>[transwater, staffed, group, dedicated, employees, experienced, suitably, qualified, field, work, work, half, staff, managers, technically, trained, qualified, engineers, relevant, industry, experiences, years, local, business, partner, emerson, process, management, engineers, acquired, product, knowledge, industry, focused, application, knowledge, fisher, controls, regulator, technologies, control, systems, solutions, provide, business, solutions, customers, correct, application, products, services, solutions, contribute, customer, enterprise, areas, control, safety, efficiency, reliability,  , local, team, able, support, customer, project, planning, activities, grass, root, project, engineering, stage, requirement, involves, single, piece, equipment, complete, engineered, control, system, local, training, engineering, services, technology, owned, strive, develop, long, term, relationship, customers, taking, ownership, working, implemented, stage]</td>\n",
              "    </tr>\n",
              "    <tr>\n",
              "      <th>372</th>\n",
              "      <td>[manufacture, pesticides, chemicals, agriculture]</td>\n",
              "    </tr>\n",
              "    <tr>\n",
              "      <th>373</th>\n",
              "      <td>[sowow, e, commerce, operation, service, provider, international, brands, including, strategic, partnerships, nike, p&amp;g, loreal, unilever,  , korea, sowow, newest, market, work, blueair, providing, level, service, solutions,  , sowow, provides, international, brands, expertise, needed, enter, china, market, 360o, model, support, allows, large, international, brands, sell, multiple, platforms, including, t, mall, jd,  , south, east, asia, support, customers, lazada, sell, malaysia, singapore, indonesia, philippines, thailand, vietnam,    , sowow, able, assume, strategy, branding, digital, marketing, e, commerce, content, creation, e, commerce, channel, management, data, mining, crm, customer, relationship, management, roles, stop, shop, operation]</td>\n",
              "    </tr>\n",
              "    <tr>\n",
              "      <th>374</th>\n",
              "      <td>[xinhua, news, agency, new, china, news, agency, official, state, run, press, agency, people, republic, china, xinhua, biggest, influential, media, organization, china, largest, news, agency, world, terms, correspondents, worldwide]</td>\n",
              "    </tr>\n",
              "    <tr>\n",
              "      <th>375</th>\n",
              "      <td>[provider, timber, trading, services, company, timber, trading, services, include, installing, timber, floorings, exterior, timber, decking, trellis, roofing, residential, commercial, development, enabling, construction, interior, designing, industry, develop, design, buildings, easily, efficiently]</td>\n",
              "    </tr>\n",
              "  </tbody>\n",
              "</table>\n",
              "<p>376 rows × 1 columns</p>\n",
              "</div>"
            ],
            "text/plain": [
              "                                                                                                                                                                                                                                                                                                                                                                                                                                                                                                                                                                                                                                                                                                                                                                                                                                                                                                                                                                                             lemmatized\n",
              "0                                                                                                                                                                                                                                                                                                                                                                                                                                                                                                                                                                                                                                                                                                      [cubic, deco, pte, ltd, interior, contractor, based, singapore, incorporated, march, current, strength, provide, professional, services, interior, fit, construction, works, residential, offices, retail, spaces, offer, complete, custom, carpentry, joinery, works, right, inhouse, workshop]\n",
              "1                                                                                                                                                                                                                                                                                                                                                                                                                                                                                                                                                                                                                                                                                                                                                                                                                                                                                                                   [company, provides, civil, engineering, services, site, post, tensioning, products]\n",
              "2                                                                                                                                                                                                                                                                                                                                                                                                                                                                                                                                                                                                                                                                                                                                                                                                                     [overland, ceramics, ceramic, tile, manufacturer, supplier, integrating, design, research, development, manufacturing, marketing, products, wholesale, marble, tile, stone, tile]\n",
              "3                                                                                                                                                                                                [byma, joint, venture, bouygues, batiment, international, spa, project, management, company, brings, expertise, leading, international, construction, group, bouygues, construction, local, knowledge, yoma, strategic, holdings, focusing, myanmar, market, april, byma, awarded, thanlin, estate, development, design, build, contract, 2nd, phase, star, city, zone, b, prominent, residential, estate, featuring, apartments, car, parks, communal, facilities, located, bago, river, outskirts, yangon, december, byma, awarded, 3rd, phase, star, city, zone, c, development, composed, residential, towers, including, residential, units, 26,000m2, car, park, located, periphery, site, levels, providing, car, park, spaces, employees, byma, soon, leading, construction, company, myanmar]\n",
              "4                                                                                                                                                                                                                                                                                                                                                                                                                                                                                                                                                                                                                                                                                                                                             [ttcl, experiences, expertises, providing, integrated, design, engineering, procurement, machinery, equipment, construction, integrated, epc, turnkey, projects, industrial, process, plants, mainly, energy, petrochemical, chemical, power, industries]\n",
              "..                                                                                                                                                                                                                                                                                                                                                                                                                                                                                                                                                                                                                                                                                                                                                                                                                                                                                                                                                                                                  ...\n",
              "371  [transwater, staffed, group, dedicated, employees, experienced, suitably, qualified, field, work, work, half, staff, managers, technically, trained, qualified, engineers, relevant, industry, experiences, years, local, business, partner, emerson, process, management, engineers, acquired, product, knowledge, industry, focused, application, knowledge, fisher, controls, regulator, technologies, control, systems, solutions, provide, business, solutions, customers, correct, application, products, services, solutions, contribute, customer, enterprise, areas, control, safety, efficiency, reliability,  , local, team, able, support, customer, project, planning, activities, grass, root, project, engineering, stage, requirement, involves, single, piece, equipment, complete, engineered, control, system, local, training, engineering, services, technology, owned, strive, develop, long, term, relationship, customers, taking, ownership, working, implemented, stage]\n",
              "372                                                                                                                                                                                                                                                                                                                                                                                                                                                                                                                                                                                                                                                                                                                                                                                                                                                                                                                                                   [manufacture, pesticides, chemicals, agriculture]\n",
              "373                                                                                                                                                                                                                [sowow, e, commerce, operation, service, provider, international, brands, including, strategic, partnerships, nike, p&g, loreal, unilever,  , korea, sowow, newest, market, work, blueair, providing, level, service, solutions,  , sowow, provides, international, brands, expertise, needed, enter, china, market, 360o, model, support, allows, large, international, brands, sell, multiple, platforms, including, t, mall, jd,  , south, east, asia, support, customers, lazada, sell, malaysia, singapore, indonesia, philippines, thailand, vietnam,    , sowow, able, assume, strategy, branding, digital, marketing, e, commerce, content, creation, e, commerce, channel, management, data, mining, crm, customer, relationship, management, roles, stop, shop, operation]\n",
              "374                                                                                                                                                                                                                                                                                                                                                                                                                                                                                                                                                                                                                                                                                                                                                            [xinhua, news, agency, new, china, news, agency, official, state, run, press, agency, people, republic, china, xinhua, biggest, influential, media, organization, china, largest, news, agency, world, terms, correspondents, worldwide]\n",
              "375                                                                                                                                                                                                                                                                                                                                                                                                                                                                                                                                                                                                                                                                                        [provider, timber, trading, services, company, timber, trading, services, include, installing, timber, floorings, exterior, timber, decking, trellis, roofing, residential, commercial, development, enabling, construction, interior, designing, industry, develop, design, buildings, easily, efficiently]\n",
              "\n",
              "[376 rows x 1 columns]"
            ]
          },
          "metadata": {
            "tags": []
          },
          "execution_count": 29
        }
      ]
    },
    {
      "cell_type": "markdown",
      "metadata": {
        "id": "Ydc-HNvxpb7u"
      },
      "source": [
        "<div class=\"alert alert-block alert-info\">\n",
        "    <b>Analysis Summary:</b> From this tokenization, we can see that the spaCy library has already helped tokenize corresponding punctuations also, thus we do not need to do the further steps.\n",
        "</div>"
      ]
    },
    {
      "cell_type": "markdown",
      "metadata": {
        "id": "dOA3hrpUna-I"
      },
      "source": [
        "### 4.6. Extracting random 100 from the 300 subsample to see quality of tokenization and lemmenization.\n",
        "\n",
        "---\n",
        "\n",
        "We will now extract some of the dataset from the 300 subsample dataset to examine the quality of the lemmenization process."
      ]
    },
    {
      "cell_type": "code",
      "metadata": {
        "id": "6ttThdvwnaOk"
      },
      "source": [
        ""
      ],
      "execution_count": null,
      "outputs": []
    },
    {
      "cell_type": "markdown",
      "metadata": {
        "id": "rQUYiYqknq-7"
      },
      "source": [
        "---\n",
        "---"
      ]
    },
    {
      "cell_type": "markdown",
      "metadata": {
        "id": "7N9HIyG9nq6A"
      },
      "source": [
        "# 5.Further Data Preprocessing"
      ]
    },
    {
      "cell_type": "code",
      "metadata": {
        "id": "iV6EiGilnurE"
      },
      "source": [
        ""
      ],
      "execution_count": 22,
      "outputs": []
    },
    {
      "cell_type": "markdown",
      "metadata": {
        "id": "kbZZCbdHv3ME"
      },
      "source": [
        "---\n",
        "---"
      ]
    },
    {
      "cell_type": "markdown",
      "metadata": {
        "id": "0hKvKHV38ly_"
      },
      "source": [
        "# 10.References\n",
        "\n",
        "\n",
        "## Linking GitHub Private Repo with Google Colab\n",
        "---\n",
        "1. [How to clone private Github repo from Google Colab using SSH](https://medium.com/@purba0101/how-to-clone-private-github-repo-in-google-colab-using-ssh-77384cfef18f)\n",
        "2. [Adding a new SSH key to your GitHub account](https://docs.github.com/en/github/authenticating-to-github/adding-a-new-ssh-key-to-your-github-account)\n",
        "\n",
        "\n",
        "## How to classify text with NLTK\n",
        "---\n",
        "1. [Learning to Classify Text](https://www.nltk.org/book/ch06.html)\n",
        "\n",
        "\n",
        "## Other references\n",
        "---\n",
        "1. [Print very long string completely in pandas dataframe](https://stackoverflow.com/questions/29902714/print-very-long-string-completely-in-pandas-dataframe)\n",
        "2. [Removing newlines from messy strings in pandas dataframe cells?\n",
        "](https://stackoverflow.com/questions/44227748/removing-newlines-from-messy-strings-in-pandas-dataframe-cells)\n",
        "3. [Tokenizing using Pandas and spaCy](https://stackoverflow.com/questions/46981137/tokenizing-using-pandas-and-spacy)\n",
        "4. [Intro to NLP with spaCy](https://nicschrading.com/project/Intro-to-NLP-with-spaCy/)\n",
        "5. [A short introduction to NLP in Python with spaCy](https://towardsdatascience.com/a-short-introduction-to-nlp-in-python-with-spacy-d0aa819af3ad)\n",
        "6. [Punctuation, stopwords and lemmatization with spacy](https://stackoverflow.com/questions/57747613/punctuation-stopwords-and-lemmatization-with-spacy)\n",
        "\n"
      ]
    }
  ]
}