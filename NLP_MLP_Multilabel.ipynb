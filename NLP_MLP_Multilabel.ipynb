{
  "nbformat": 4,
  "nbformat_minor": 0,
  "metadata": {
    "colab": {
      "name": "NLP_MLP_Multilabel.ipynb",
      "provenance": [],
      "collapsed_sections": [],
      "toc_visible": true,
      "include_colab_link": true
    },
    "kernelspec": {
      "name": "python3",
      "display_name": "Python 3"
    },
    "language_info": {
      "name": "python"
    },
    "accelerator": "GPU"
  },
  "cells": [
    {
      "cell_type": "markdown",
      "metadata": {
        "id": "view-in-github",
        "colab_type": "text"
      },
      "source": [
        "<a href=\"https://colab.research.google.com/github/ngzhankang/finalYearProjectUOB/blob/main/NLP_MLP_Multilabel.ipynb\" target=\"_parent\"><img src=\"https://colab.research.google.com/assets/colab-badge.svg\" alt=\"Open In Colab\"/></a>"
      ]
    },
    {
      "cell_type": "markdown",
      "metadata": {
        "id": "C4WG19GGjVCN"
      },
      "source": [
        "# FINAL YEAR PROJECT\n",
        "Done by : \n",
        "- P1935785 Ang Yak Hng\n",
        "- P1932964 Teo Swee Hong Winson\n",
        "- P1935727 Ng Zhan Kang\n",
        "- P1935488 Triston Loh\n",
        "- P1935602 Ng Ao Yang\n",
        "\n",
        "Class of DIT/FT/3A/05\n"
      ]
    },
    {
      "cell_type": "markdown",
      "metadata": {
        "id": "lTixCl0Yj3aC"
      },
      "source": [
        "---\n",
        "---"
      ]
    },
    {
      "cell_type": "markdown",
      "metadata": {
        "id": "Xa-0olzCkDtZ"
      },
      "source": [
        "# 1.Cloning Github To Colab Workspace"
      ]
    },
    {
      "cell_type": "markdown",
      "metadata": {
        "id": "B_no5sNXlBZ_"
      },
      "source": [
        "<div class=\"alert alert-block alert-danger\">\n",
        "    <b>ATTENTION:</b> The entire section 1 is dedicated to users who are using google colab to do the entire project. This entire process clones the private repository directly into the temporary google colab workspace. Google colab user are to repeat this same proccess whenever in a new session. Users who do not use colab to do this project CAN OMIT THE ENTIRE SECTION 1. \n",
        "</div>"
      ]
    },
    {
      "cell_type": "markdown",
      "metadata": {
        "id": "B-ZvXSUPkPBq"
      },
      "source": [
        "### 1.1. Configurating SSH keys for GitHub and Colab connection\n",
        "\n",
        "---\n",
        "\n",
        "This entire section can be omitted if users are not using Google Colab at all."
      ]
    },
    {
      "cell_type": "code",
      "metadata": {
        "id": "JH5jhDiOliB2",
        "colab": {
          "base_uri": "https://localhost:8080/"
        },
        "outputId": "b007e97a-e4a0-43fb-fc5f-6a02e82262db"
      },
      "source": [
        "!ssh-keygen -t rsa -b 4096"
      ],
      "execution_count": null,
      "outputs": [
        {
          "output_type": "stream",
          "text": [
            "Generating public/private rsa key pair.\n",
            "Enter file in which to save the key (/root/.ssh/id_rsa): \n",
            "Created directory '/root/.ssh'.\n",
            "Enter passphrase (empty for no passphrase): \n",
            "Enter same passphrase again: \n",
            "Your identification has been saved in /root/.ssh/id_rsa.\n",
            "Your public key has been saved in /root/.ssh/id_rsa.pub.\n",
            "The key fingerprint is:\n",
            "SHA256:ZspmrdJA7vPoERsLNONcIRZV/ukm3jsqxAm3hBpJy1M root@ca7698c4e106\n",
            "The key's randomart image is:\n",
            "+---[RSA 4096]----+\n",
            "|  +oo..          |\n",
            "| o E o           |\n",
            "|o.*.. .          |\n",
            "|oBo++  . .       |\n",
            "| o=Boo  S        |\n",
            "|.  .B* *         |\n",
            "|   o+o* +        |\n",
            "|    =*.=.        |\n",
            "|   .o==.oo       |\n",
            "+----[SHA256]-----+\n"
          ],
          "name": "stdout"
        }
      ]
    },
    {
      "cell_type": "markdown",
      "metadata": {
        "id": "ujcbhDqDmqP7"
      },
      "source": [
        "<div class=\"alert alert-block alert-danger\">\n",
        "    <b>ATTENTION:</b> When prompted for a set of informations such as \"Enter a file in which to save the key...\", please press enter and DO NOT type in anything.\n",
        "</div>"
      ]
    },
    {
      "cell_type": "code",
      "metadata": {
        "colab": {
          "base_uri": "https://localhost:8080/"
        },
        "id": "AUsKDe9tm0hQ",
        "outputId": "ec7908c3-4df2-4e1e-87c0-76181016d879"
      },
      "source": [
        "!ssh-keyscan -t rsa github.com >> ~/.ssh/known_hosts"
      ],
      "execution_count": null,
      "outputs": [
        {
          "output_type": "stream",
          "text": [
            "# github.com:22 SSH-2.0-babeld-3fa83667\n"
          ],
          "name": "stdout"
        }
      ]
    },
    {
      "cell_type": "code",
      "metadata": {
        "colab": {
          "base_uri": "https://localhost:8080/"
        },
        "id": "sc7qLuG1m-9h",
        "outputId": "461d36b1-5a5d-4e31-cad8-4edb423548e9"
      },
      "source": [
        "!cat /root/.ssh/id_rsa.pub"
      ],
      "execution_count": null,
      "outputs": [
        {
          "output_type": "stream",
          "text": [
            "ssh-rsa AAAAB3NzaC1yc2EAAAADAQABAAACAQC1wuqf4+DWiaDu1GYypdqhrv8ilPqdHvYGvPB+BpCy+YGOWu8EezJylrkbg4yyL9kGqkGKBIcH0QITzSSBYH7tuDGtV584bK9ZHuxeowJbkMFp5lgq06yVT47wGvcgOS7aOoX/eV3TbxC5RxKCNlvLjxYWFtyK26gGk83/gnBk9h/rHCqmNT28rbm5+3Q9HxzM4QQkdpU4/qBmI4dji8vyGNHGLY74z9hbyCh654nHcPuhK42GYTowmfOv9JP5ru/zGy6u28bO6GaHc7wMtgIi691LCiC76FulemTMfomAiW42zhNdi/abxouqYAXb1vu9OmoAU9AyayL0hlpEO1VhQ6WOfbSwQSAB2Jm+3Y3ZIhZvBxR1/tqXno3PBfTWnWN/W5w+wAGmeYYyU4ZOHDef9pr/Vv4ODe3dlR1kbSqVKMzXJDipkOsuS8HrOIAbfK3vkRaCkpRK23Y3mUmeOLXyDGOihbZ11mXToaoFfAyEJYCReyYxg8tSaq5Yu4Lr5++U52/GQLicYV06dmGcmJY4ZWiOvnm8eB+ZBksobFgtJdWAK5qFWrIdpYtNaekawGQAJ/5JWgfsg6mN3/kvmPNbLo6tHRbrFPTpkyJbunPJNiJOfA9RyvF0z5OqichAbU2asVmo7PnQGFRoCMMOjL7v0DH9OrKQaCcxwKea5kIMpw== root@ca7698c4e106\n"
          ],
          "name": "stdout"
        }
      ]
    },
    {
      "cell_type": "markdown",
      "metadata": {
        "id": "iSwt6wnDnSjx"
      },
      "source": [
        "<div class=\"alert alert-block alert-danger\">\n",
        "    <b>ATTENTION:</b> After the key has been generated, please copy the entire key. Navigate to your Github Account > Profile Picture > Settings > SSH and GPG keys > New SSH Keys. Paste the generated key into the blank and lable it for your own convenience.\n",
        "</div>"
      ]
    },
    {
      "cell_type": "markdown",
      "metadata": {
        "id": "Z_rpok3voY8A"
      },
      "source": [
        "### 1.2. Testing SSH keys for GitHub and Colab connection\n",
        "\n",
        "---\n",
        "\n",
        "This entire section can be omitted if users are not using Google Colab at all."
      ]
    },
    {
      "cell_type": "code",
      "metadata": {
        "colab": {
          "base_uri": "https://localhost:8080/"
        },
        "id": "cYEnWGicnnC0",
        "outputId": "d29511b8-2349-4bce-f9d6-c56df161a934"
      },
      "source": [
        "!ssh -T git@github.com"
      ],
      "execution_count": null,
      "outputs": [
        {
          "output_type": "stream",
          "text": [
            "Warning: Permanently added the RSA host key for IP address '140.82.121.3' to the list of known hosts.\r\n",
            "Hi ngzhankang! You've successfully authenticated, but GitHub does not provide shell access.\n"
          ],
          "name": "stdout"
        }
      ]
    },
    {
      "cell_type": "markdown",
      "metadata": {
        "id": "0gtHa7l8ID8u"
      },
      "source": [
        "### 1.3. Clone Private Repository\n",
        "\n",
        "---\n",
        "\n",
        "This entire section can be omitted if users are not using Google Colab at all."
      ]
    },
    {
      "cell_type": "code",
      "metadata": {
        "id": "y7c65FyJIEXu",
        "colab": {
          "base_uri": "https://localhost:8080/"
        },
        "outputId": "17a1b6de-dcca-4512-b4ac-cde37ec35f23"
      },
      "source": [
        "!git clone git@github.com:ngzhankang/finalYearProjectUOB.git"
      ],
      "execution_count": null,
      "outputs": [
        {
          "output_type": "stream",
          "text": [
            "Cloning into 'finalYearProjectUOB'...\n",
            "remote: Enumerating objects: 145, done.\u001b[K\n",
            "remote: Counting objects: 100% (145/145), done.\u001b[K\n",
            "remote: Compressing objects: 100% (127/127), done.\u001b[K\n",
            "remote: Total 145 (delta 46), reused 58 (delta 16), pack-reused 0\u001b[K\n",
            "Receiving objects: 100% (145/145), 96.56 MiB | 9.40 MiB/s, done.\n",
            "Resolving deltas: 100% (46/46), done.\n"
          ],
          "name": "stdout"
        }
      ]
    },
    {
      "cell_type": "markdown",
      "metadata": {
        "id": "lpQsykkUqHOB"
      },
      "source": [
        "---\n",
        "---"
      ]
    },
    {
      "cell_type": "markdown",
      "metadata": {
        "id": "D74lUe_QF3kh"
      },
      "source": [
        "# 2.Data Importing"
      ]
    },
    {
      "cell_type": "markdown",
      "metadata": {
        "id": "6VbDZ5ymKTR6"
      },
      "source": [
        "### 2.1. Load the libraries\n",
        "\n",
        "---\n",
        "\n",
        "Load the necessary libraries for usage in the entire project."
      ]
    },
    {
      "cell_type": "code",
      "metadata": {
        "colab": {
          "base_uri": "https://localhost:8080/"
        },
        "id": "hMBiWwY8sBBl",
        "outputId": "0d969ce1-42c8-4a95-c435-f8330cfdad9c"
      },
      "source": [
        "! nvcc --version"
      ],
      "execution_count": null,
      "outputs": [
        {
          "output_type": "stream",
          "text": [
            "nvcc: NVIDIA (R) Cuda compiler driver\n",
            "Copyright (c) 2005-2020 NVIDIA Corporation\n",
            "Built on Wed_Jul_22_19:09:09_PDT_2020\n",
            "Cuda compilation tools, release 11.0, V11.0.221\n",
            "Build cuda_11.0_bu.TC445_37.28845127_0\n"
          ],
          "name": "stdout"
        }
      ]
    },
    {
      "cell_type": "markdown",
      "metadata": {
        "id": "4FacXEFOsC04"
      },
      "source": [
        "### 2.2. Check CUDA Version\n",
        "\n",
        "---\n",
        "\n",
        "We need to check the cuda version to download the correct version of spaCy for this application."
      ]
    },
    {
      "cell_type": "code",
      "metadata": {
        "id": "U_20qw2UohOC"
      },
      "source": [
        "# suppress future warnings\n",
        "import warnings\n",
        "warnings.filterwarnings('ignore')"
      ],
      "execution_count": null,
      "outputs": []
    },
    {
      "cell_type": "code",
      "metadata": {
        "colab": {
          "base_uri": "https://localhost:8080/",
          "height": 1000
        },
        "id": "EldCY0t9v2uV",
        "outputId": "95d907c9-4ce9-47b6-878e-be35b277a472"
      },
      "source": [
        "# install necessary libraries that might not be found\n",
        "!pip install -U spacy\n",
        "!python -m spacy validate\n",
        "!pip install -U pip setuptools wheel\n",
        "!pip install -U spacy[cuda110,transformers,lookups]\n",
        "!python -m spacy download en_core_web_lg\n",
        "\n",
        "# check versions of libraries we are going to use\n",
        "%tensorflow_version 2.x\n",
        "import os\n",
        "import tensorflow\n",
        "import sklearn\n",
        "import numpy as np\n",
        "import pandas as pd\n",
        "import seaborn as sns\n",
        "import matplotlib\n",
        "import spacy\n",
        "import platform\n",
        "\n",
        "message=\"        Versions        \"\n",
        "print(\"*\"*len(message))\n",
        "print(message)\n",
        "print(\"*\"*len(message))\n",
        "print(\"Tensorflow version={}\".format(tensorflow.__version__))\n",
        "print(\"Keras version={}\".format(tensorflow.keras.__version__))\n",
        "print(\"Sklearn version={}\".format(sklearn.__version__))\n",
        "print(\"Numpy version={}\".format(np.__version__))\n",
        "print(\"Pandas version={}\".format(pd.__version__))\n",
        "print(\"Seaborn version={}\".format(sns.__version__))\n",
        "print(\"Matplotlib version={}\".format(matplotlib.__version__))\n",
        "print(\"SpaCy version={}\".format(spacy.__version__))\n",
        "print(\"Python version={}\".format(platform.python_version()))"
      ],
      "execution_count": null,
      "outputs": [
        {
          "output_type": "stream",
          "text": [
            "Collecting spacy\n",
            "\u001b[?25l  Downloading https://files.pythonhosted.org/packages/1b/d8/0361bbaf7a1ff56b44dca04dace54c82d63dad7475b7d25ea1baefafafb2/spacy-3.0.6-cp37-cp37m-manylinux2014_x86_64.whl (12.8MB)\n",
            "\u001b[K     |████████████████████████████████| 12.8MB 228kB/s \n",
            "\u001b[?25hRequirement already satisfied, skipping upgrade: cymem<2.1.0,>=2.0.2 in /usr/local/lib/python3.7/dist-packages (from spacy) (2.0.5)\n",
            "Collecting pathy>=0.3.5\n",
            "\u001b[?25l  Downloading https://files.pythonhosted.org/packages/13/87/5991d87be8ed60beb172b4062dbafef18b32fa559635a8e2b633c2974f85/pathy-0.5.2-py3-none-any.whl (42kB)\n",
            "\u001b[K     |████████████████████████████████| 51kB 7.8MB/s \n",
            "\u001b[?25hRequirement already satisfied, skipping upgrade: typing-extensions<4.0.0.0,>=3.7.4; python_version < \"3.8\" in /usr/local/lib/python3.7/dist-packages (from spacy) (3.7.4.3)\n",
            "Requirement already satisfied, skipping upgrade: wasabi<1.1.0,>=0.8.1 in /usr/local/lib/python3.7/dist-packages (from spacy) (0.8.2)\n",
            "Requirement already satisfied, skipping upgrade: murmurhash<1.1.0,>=0.28.0 in /usr/local/lib/python3.7/dist-packages (from spacy) (1.0.5)\n",
            "Collecting pydantic<1.8.0,>=1.7.1\n",
            "\u001b[?25l  Downloading https://files.pythonhosted.org/packages/ca/fa/d43f31874e1f2a9633e4c025be310f2ce7a8350017579e9e837a62630a7e/pydantic-1.7.4-cp37-cp37m-manylinux2014_x86_64.whl (9.1MB)\n",
            "\u001b[K     |████████████████████████████████| 9.1MB 42.5MB/s \n",
            "\u001b[?25hRequirement already satisfied, skipping upgrade: jinja2 in /usr/local/lib/python3.7/dist-packages (from spacy) (2.11.3)\n",
            "Requirement already satisfied, skipping upgrade: blis<0.8.0,>=0.4.0 in /usr/local/lib/python3.7/dist-packages (from spacy) (0.4.1)\n",
            "Requirement already satisfied, skipping upgrade: numpy>=1.15.0 in /usr/local/lib/python3.7/dist-packages (from spacy) (1.19.5)\n",
            "Collecting spacy-legacy<3.1.0,>=3.0.4\n",
            "  Downloading https://files.pythonhosted.org/packages/8d/67/d4002a18e26bf29b17ab563ddb55232b445ab6a02f97bf17d1345ff34d3f/spacy_legacy-3.0.5-py2.py3-none-any.whl\n",
            "Requirement already satisfied, skipping upgrade: tqdm<5.0.0,>=4.38.0 in /usr/local/lib/python3.7/dist-packages (from spacy) (4.41.1)\n",
            "Collecting thinc<8.1.0,>=8.0.3\n",
            "\u001b[?25l  Downloading https://files.pythonhosted.org/packages/61/87/decceba68a0c6ca356ddcb6aea8b2500e71d9bc187f148aae19b747b7d3c/thinc-8.0.3-cp37-cp37m-manylinux2014_x86_64.whl (1.1MB)\n",
            "\u001b[K     |████████████████████████████████| 1.1MB 53.7MB/s \n",
            "\u001b[?25hCollecting catalogue<2.1.0,>=2.0.3\n",
            "  Downloading https://files.pythonhosted.org/packages/9c/10/dbc1203a4b1367c7b02fddf08cb2981d9aa3e688d398f587cea0ab9e3bec/catalogue-2.0.4-py3-none-any.whl\n",
            "Collecting srsly<3.0.0,>=2.4.1\n",
            "\u001b[?25l  Downloading https://files.pythonhosted.org/packages/c3/84/dfdfc9f6f04f6b88207d96d9520b911e5fec0c67ff47a0dea31ab5429a1e/srsly-2.4.1-cp37-cp37m-manylinux2014_x86_64.whl (456kB)\n",
            "\u001b[K     |████████████████████████████████| 460kB 53.3MB/s \n",
            "\u001b[?25hRequirement already satisfied, skipping upgrade: setuptools in /usr/local/lib/python3.7/dist-packages (from spacy) (56.1.0)\n",
            "Requirement already satisfied, skipping upgrade: preshed<3.1.0,>=3.0.2 in /usr/local/lib/python3.7/dist-packages (from spacy) (3.0.5)\n",
            "Requirement already satisfied, skipping upgrade: packaging>=20.0 in /usr/local/lib/python3.7/dist-packages (from spacy) (20.9)\n",
            "Requirement already satisfied, skipping upgrade: requests<3.0.0,>=2.13.0 in /usr/local/lib/python3.7/dist-packages (from spacy) (2.23.0)\n",
            "Collecting typer<0.4.0,>=0.3.0\n",
            "  Downloading https://files.pythonhosted.org/packages/90/34/d138832f6945432c638f32137e6c79a3b682f06a63c488dcfaca6b166c64/typer-0.3.2-py3-none-any.whl\n",
            "Collecting smart-open<4.0.0,>=2.2.0\n",
            "\u001b[?25l  Downloading https://files.pythonhosted.org/packages/11/9a/ba2d5f67f25e8d5bbf2fcec7a99b1e38428e83cb715f64dd179ca43a11bb/smart_open-3.0.0.tar.gz (113kB)\n",
            "\u001b[K     |████████████████████████████████| 122kB 59.2MB/s \n",
            "\u001b[?25hRequirement already satisfied, skipping upgrade: MarkupSafe>=0.23 in /usr/local/lib/python3.7/dist-packages (from jinja2->spacy) (2.0.1)\n",
            "Requirement already satisfied, skipping upgrade: zipp>=0.5; python_version < \"3.8\" in /usr/local/lib/python3.7/dist-packages (from catalogue<2.1.0,>=2.0.3->spacy) (3.4.1)\n",
            "Requirement already satisfied, skipping upgrade: pyparsing>=2.0.2 in /usr/local/lib/python3.7/dist-packages (from packaging>=20.0->spacy) (2.4.7)\n",
            "Requirement already satisfied, skipping upgrade: idna<3,>=2.5 in /usr/local/lib/python3.7/dist-packages (from requests<3.0.0,>=2.13.0->spacy) (2.10)\n",
            "Requirement already satisfied, skipping upgrade: certifi>=2017.4.17 in /usr/local/lib/python3.7/dist-packages (from requests<3.0.0,>=2.13.0->spacy) (2020.12.5)\n",
            "Requirement already satisfied, skipping upgrade: chardet<4,>=3.0.2 in /usr/local/lib/python3.7/dist-packages (from requests<3.0.0,>=2.13.0->spacy) (3.0.4)\n",
            "Requirement already satisfied, skipping upgrade: urllib3!=1.25.0,!=1.25.1,<1.26,>=1.21.1 in /usr/local/lib/python3.7/dist-packages (from requests<3.0.0,>=2.13.0->spacy) (1.24.3)\n",
            "Requirement already satisfied, skipping upgrade: click<7.2.0,>=7.1.1 in /usr/local/lib/python3.7/dist-packages (from typer<0.4.0,>=0.3.0->spacy) (7.1.2)\n",
            "Building wheels for collected packages: smart-open\n",
            "  Building wheel for smart-open (setup.py) ... \u001b[?25l\u001b[?25hdone\n",
            "  Created wheel for smart-open: filename=smart_open-3.0.0-cp37-none-any.whl size=107098 sha256=796f3d495e2ee7fe45a01d934e24746b591b8209e2f639e6be76771cdc273f12\n",
            "  Stored in directory: /root/.cache/pip/wheels/18/88/7c/f06dabd5e9cabe02d2269167bcacbbf9b47d0c0ff7d6ebcb78\n",
            "Successfully built smart-open\n",
            "Installing collected packages: smart-open, typer, pathy, pydantic, spacy-legacy, catalogue, srsly, thinc, spacy\n",
            "  Found existing installation: smart-open 5.0.0\n",
            "    Uninstalling smart-open-5.0.0:\n",
            "      Successfully uninstalled smart-open-5.0.0\n",
            "  Found existing installation: catalogue 1.0.0\n",
            "    Uninstalling catalogue-1.0.0:\n",
            "      Successfully uninstalled catalogue-1.0.0\n",
            "  Found existing installation: srsly 1.0.5\n",
            "    Uninstalling srsly-1.0.5:\n",
            "      Successfully uninstalled srsly-1.0.5\n",
            "  Found existing installation: thinc 7.4.0\n",
            "    Uninstalling thinc-7.4.0:\n",
            "      Successfully uninstalled thinc-7.4.0\n",
            "  Found existing installation: spacy 2.2.4\n",
            "    Uninstalling spacy-2.2.4:\n",
            "      Successfully uninstalled spacy-2.2.4\n",
            "Successfully installed catalogue-2.0.4 pathy-0.5.2 pydantic-1.7.4 smart-open-3.0.0 spacy-3.0.6 spacy-legacy-3.0.5 srsly-2.4.1 thinc-8.0.3 typer-0.3.2\n",
            "2021-05-28 12:14:55.879910: I tensorflow/stream_executor/platform/default/dso_loader.cc:53] Successfully opened dynamic library libcudart.so.11.0\n",
            "\u001b[2K\u001b[38;5;2m✔ Loaded compatibility table\u001b[0m\n",
            "\u001b[1m\n",
            "================= Installed pipeline packages (spaCy v3.0.6) =================\u001b[0m\n",
            "\u001b[38;5;4mℹ spaCy installation: /usr/local/lib/python3.7/dist-packages/spacy\u001b[0m\n",
            "\n",
            "No pipeline packages found in your current environment.\n",
            "\n",
            "Collecting pip\n",
            "\u001b[?25l  Downloading https://files.pythonhosted.org/packages/cd/82/04e9aaf603fdbaecb4323b9e723f13c92c245f6ab2902195c53987848c78/pip-21.1.2-py3-none-any.whl (1.5MB)\n",
            "\u001b[K     |████████████████████████████████| 1.6MB 28.1MB/s \n",
            "\u001b[?25hCollecting setuptools\n",
            "\u001b[?25l  Downloading https://files.pythonhosted.org/packages/4e/78/56aa1b5f4d8ac548755ae767d84f0be54fdd9d404197a3d9e4659d272348/setuptools-57.0.0-py3-none-any.whl (821kB)\n",
            "\u001b[K     |████████████████████████████████| 829kB 49.6MB/s \n",
            "\u001b[?25hRequirement already up-to-date: wheel in /usr/local/lib/python3.7/dist-packages (0.36.2)\n",
            "\u001b[31mERROR: datascience 0.10.6 has requirement folium==0.2.1, but you'll have folium 0.8.3 which is incompatible.\u001b[0m\n",
            "Installing collected packages: pip, setuptools\n",
            "  Found existing installation: pip 19.3.1\n",
            "    Uninstalling pip-19.3.1:\n",
            "      Successfully uninstalled pip-19.3.1\n",
            "  Found existing installation: setuptools 56.1.0\n",
            "    Uninstalling setuptools-56.1.0:\n",
            "      Successfully uninstalled setuptools-56.1.0\n",
            "Successfully installed pip-21.1.2 setuptools-57.0.0\n"
          ],
          "name": "stdout"
        },
        {
          "output_type": "display_data",
          "data": {
            "application/vnd.colab-display-data+json": {
              "pip_warning": {
                "packages": [
                  "pkg_resources"
                ]
              }
            }
          },
          "metadata": {
            "tags": []
          }
        },
        {
          "output_type": "stream",
          "text": [
            "Requirement already satisfied: spacy[cuda110,lookups,transformers] in /usr/local/lib/python3.7/dist-packages (3.0.6)\n",
            "Requirement already satisfied: srsly<3.0.0,>=2.4.1 in /usr/local/lib/python3.7/dist-packages (from spacy[cuda110,lookups,transformers]) (2.4.1)\n",
            "Requirement already satisfied: jinja2 in /usr/local/lib/python3.7/dist-packages (from spacy[cuda110,lookups,transformers]) (2.11.3)\n",
            "Requirement already satisfied: typing-extensions<4.0.0.0,>=3.7.4 in /usr/local/lib/python3.7/dist-packages (from spacy[cuda110,lookups,transformers]) (3.7.4.3)\n",
            "Requirement already satisfied: murmurhash<1.1.0,>=0.28.0 in /usr/local/lib/python3.7/dist-packages (from spacy[cuda110,lookups,transformers]) (1.0.5)\n",
            "Requirement already satisfied: pathy>=0.3.5 in /usr/local/lib/python3.7/dist-packages (from spacy[cuda110,lookups,transformers]) (0.5.2)\n",
            "Requirement already satisfied: setuptools in /usr/local/lib/python3.7/dist-packages (from spacy[cuda110,lookups,transformers]) (57.0.0)\n",
            "Requirement already satisfied: requests<3.0.0,>=2.13.0 in /usr/local/lib/python3.7/dist-packages (from spacy[cuda110,lookups,transformers]) (2.23.0)\n",
            "Requirement already satisfied: pydantic<1.8.0,>=1.7.1 in /usr/local/lib/python3.7/dist-packages (from spacy[cuda110,lookups,transformers]) (1.7.4)\n",
            "Requirement already satisfied: packaging>=20.0 in /usr/local/lib/python3.7/dist-packages (from spacy[cuda110,lookups,transformers]) (20.9)\n",
            "Requirement already satisfied: cymem<2.1.0,>=2.0.2 in /usr/local/lib/python3.7/dist-packages (from spacy[cuda110,lookups,transformers]) (2.0.5)\n",
            "Requirement already satisfied: thinc<8.1.0,>=8.0.3 in /usr/local/lib/python3.7/dist-packages (from spacy[cuda110,lookups,transformers]) (8.0.3)\n",
            "Requirement already satisfied: numpy>=1.15.0 in /usr/local/lib/python3.7/dist-packages (from spacy[cuda110,lookups,transformers]) (1.19.5)\n",
            "Requirement already satisfied: blis<0.8.0,>=0.4.0 in /usr/local/lib/python3.7/dist-packages (from spacy[cuda110,lookups,transformers]) (0.4.1)\n",
            "Requirement already satisfied: spacy-legacy<3.1.0,>=3.0.4 in /usr/local/lib/python3.7/dist-packages (from spacy[cuda110,lookups,transformers]) (3.0.5)\n",
            "Requirement already satisfied: preshed<3.1.0,>=3.0.2 in /usr/local/lib/python3.7/dist-packages (from spacy[cuda110,lookups,transformers]) (3.0.5)\n",
            "Requirement already satisfied: wasabi<1.1.0,>=0.8.1 in /usr/local/lib/python3.7/dist-packages (from spacy[cuda110,lookups,transformers]) (0.8.2)\n",
            "Requirement already satisfied: catalogue<2.1.0,>=2.0.3 in /usr/local/lib/python3.7/dist-packages (from spacy[cuda110,lookups,transformers]) (2.0.4)\n",
            "Requirement already satisfied: typer<0.4.0,>=0.3.0 in /usr/local/lib/python3.7/dist-packages (from spacy[cuda110,lookups,transformers]) (0.3.2)\n",
            "Requirement already satisfied: tqdm<5.0.0,>=4.38.0 in /usr/local/lib/python3.7/dist-packages (from spacy[cuda110,lookups,transformers]) (4.41.1)\n",
            "Collecting spacy-lookups-data<1.1.0,>=1.0.0\n",
            "  Downloading spacy_lookups_data-1.0.0-py2.py3-none-any.whl (93.4 MB)\n",
            "\u001b[K     |████████████████████████████████| 93.4 MB 892 kB/s \n",
            "\u001b[?25hCollecting spacy-transformers<1.1.0,>=1.0.1\n",
            "  Downloading spacy_transformers-1.0.2-py2.py3-none-any.whl (39 kB)\n",
            "Collecting cupy-cuda110<9.0.0,>=5.0.0b4\n",
            "  Downloading cupy_cuda110-8.6.0-cp37-cp37m-manylinux1_x86_64.whl (165.3 MB)\n",
            "\u001b[K     |████████████████████████████████| 165.3 MB 47 kB/s \n",
            "\u001b[?25hRequirement already satisfied: zipp>=0.5 in /usr/local/lib/python3.7/dist-packages (from catalogue<2.1.0,>=2.0.3->spacy[cuda110,lookups,transformers]) (3.4.1)\n",
            "Requirement already satisfied: fastrlock>=0.3 in /usr/local/lib/python3.7/dist-packages (from cupy-cuda110<9.0.0,>=5.0.0b4->spacy[cuda110,lookups,transformers]) (0.6)\n",
            "Requirement already satisfied: pyparsing>=2.0.2 in /usr/local/lib/python3.7/dist-packages (from packaging>=20.0->spacy[cuda110,lookups,transformers]) (2.4.7)\n",
            "Requirement already satisfied: smart-open<4.0.0,>=2.2.0 in /usr/local/lib/python3.7/dist-packages (from pathy>=0.3.5->spacy[cuda110,lookups,transformers]) (3.0.0)\n",
            "Requirement already satisfied: urllib3!=1.25.0,!=1.25.1,<1.26,>=1.21.1 in /usr/local/lib/python3.7/dist-packages (from requests<3.0.0,>=2.13.0->spacy[cuda110,lookups,transformers]) (1.24.3)\n",
            "Requirement already satisfied: idna<3,>=2.5 in /usr/local/lib/python3.7/dist-packages (from requests<3.0.0,>=2.13.0->spacy[cuda110,lookups,transformers]) (2.10)\n",
            "Requirement already satisfied: certifi>=2017.4.17 in /usr/local/lib/python3.7/dist-packages (from requests<3.0.0,>=2.13.0->spacy[cuda110,lookups,transformers]) (2020.12.5)\n",
            "Requirement already satisfied: chardet<4,>=3.0.2 in /usr/local/lib/python3.7/dist-packages (from requests<3.0.0,>=2.13.0->spacy[cuda110,lookups,transformers]) (3.0.4)\n",
            "Collecting transformers<4.6.0,>=3.4.0\n",
            "  Downloading transformers-4.5.1-py3-none-any.whl (2.1 MB)\n",
            "\u001b[K     |████████████████████████████████| 2.1 MB 68.7 MB/s \n",
            "\u001b[?25hCollecting spacy-alignments<1.0.0,>=0.7.2\n",
            "  Downloading spacy_alignments-0.8.3-cp37-cp37m-manylinux2014_x86_64.whl (998 kB)\n",
            "\u001b[K     |████████████████████████████████| 998 kB 67.2 MB/s \n",
            "\u001b[?25hRequirement already satisfied: torch>=1.5.0 in /usr/local/lib/python3.7/dist-packages (from spacy-transformers<1.1.0,>=1.0.1->spacy[cuda110,lookups,transformers]) (1.8.1+cu101)\n",
            "Collecting tokenizers<0.11,>=0.10.1\n",
            "  Downloading tokenizers-0.10.3-cp37-cp37m-manylinux_2_5_x86_64.manylinux1_x86_64.manylinux_2_12_x86_64.manylinux2010_x86_64.whl (3.3 MB)\n",
            "\u001b[K     |████████████████████████████████| 3.3 MB 60.5 MB/s \n",
            "\u001b[?25hCollecting sacremoses\n",
            "  Downloading sacremoses-0.0.45-py3-none-any.whl (895 kB)\n",
            "\u001b[K     |████████████████████████████████| 895 kB 69.3 MB/s \n",
            "\u001b[?25hRequirement already satisfied: importlib-metadata in /usr/local/lib/python3.7/dist-packages (from transformers<4.6.0,>=3.4.0->spacy-transformers<1.1.0,>=1.0.1->spacy[cuda110,lookups,transformers]) (4.0.1)\n",
            "Requirement already satisfied: regex!=2019.12.17 in /usr/local/lib/python3.7/dist-packages (from transformers<4.6.0,>=3.4.0->spacy-transformers<1.1.0,>=1.0.1->spacy[cuda110,lookups,transformers]) (2019.12.20)\n",
            "Requirement already satisfied: filelock in /usr/local/lib/python3.7/dist-packages (from transformers<4.6.0,>=3.4.0->spacy-transformers<1.1.0,>=1.0.1->spacy[cuda110,lookups,transformers]) (3.0.12)\n",
            "Requirement already satisfied: click<7.2.0,>=7.1.1 in /usr/local/lib/python3.7/dist-packages (from typer<0.4.0,>=0.3.0->spacy[cuda110,lookups,transformers]) (7.1.2)\n",
            "Requirement already satisfied: MarkupSafe>=0.23 in /usr/local/lib/python3.7/dist-packages (from jinja2->spacy[cuda110,lookups,transformers]) (2.0.1)\n",
            "Requirement already satisfied: six in /usr/local/lib/python3.7/dist-packages (from sacremoses->transformers<4.6.0,>=3.4.0->spacy-transformers<1.1.0,>=1.0.1->spacy[cuda110,lookups,transformers]) (1.15.0)\n",
            "Requirement already satisfied: joblib in /usr/local/lib/python3.7/dist-packages (from sacremoses->transformers<4.6.0,>=3.4.0->spacy-transformers<1.1.0,>=1.0.1->spacy[cuda110,lookups,transformers]) (1.0.1)\n",
            "Installing collected packages: tokenizers, sacremoses, transformers, spacy-alignments, spacy-transformers, spacy-lookups-data, cupy-cuda110\n",
            "Successfully installed cupy-cuda110-8.6.0 sacremoses-0.0.45 spacy-alignments-0.8.3 spacy-lookups-data-1.0.0 spacy-transformers-1.0.2 tokenizers-0.10.3 transformers-4.5.1\n",
            "\u001b[33mWARNING: Running pip as root will break packages and permissions. You should install packages reliably by using venv: https://pip.pypa.io/warnings/venv\u001b[0m\n",
            "2021-05-28 12:15:32.104470: I tensorflow/stream_executor/platform/default/dso_loader.cc:53] Successfully opened dynamic library libcudart.so.11.0\n",
            "Collecting en-core-web-lg==3.0.0\n",
            "  Downloading https://github.com/explosion/spacy-models/releases/download/en_core_web_lg-3.0.0/en_core_web_lg-3.0.0-py3-none-any.whl (778.8 MB)\n",
            "\u001b[K     |████████████████████████████████| 778.8 MB 13 kB/s \n",
            "\u001b[?25hRequirement already satisfied: spacy<3.1.0,>=3.0.0 in /usr/local/lib/python3.7/dist-packages (from en-core-web-lg==3.0.0) (3.0.6)\n",
            "Requirement already satisfied: preshed<3.1.0,>=3.0.2 in /usr/local/lib/python3.7/dist-packages (from spacy<3.1.0,>=3.0.0->en-core-web-lg==3.0.0) (3.0.5)\n",
            "Requirement already satisfied: requests<3.0.0,>=2.13.0 in /usr/local/lib/python3.7/dist-packages (from spacy<3.1.0,>=3.0.0->en-core-web-lg==3.0.0) (2.23.0)\n",
            "Requirement already satisfied: thinc<8.1.0,>=8.0.3 in /usr/local/lib/python3.7/dist-packages (from spacy<3.1.0,>=3.0.0->en-core-web-lg==3.0.0) (8.0.3)\n",
            "Requirement already satisfied: spacy-legacy<3.1.0,>=3.0.4 in /usr/local/lib/python3.7/dist-packages (from spacy<3.1.0,>=3.0.0->en-core-web-lg==3.0.0) (3.0.5)\n",
            "Requirement already satisfied: typing-extensions<4.0.0.0,>=3.7.4 in /usr/local/lib/python3.7/dist-packages (from spacy<3.1.0,>=3.0.0->en-core-web-lg==3.0.0) (3.7.4.3)\n",
            "Requirement already satisfied: pathy>=0.3.5 in /usr/local/lib/python3.7/dist-packages (from spacy<3.1.0,>=3.0.0->en-core-web-lg==3.0.0) (0.5.2)\n",
            "Requirement already satisfied: cymem<2.1.0,>=2.0.2 in /usr/local/lib/python3.7/dist-packages (from spacy<3.1.0,>=3.0.0->en-core-web-lg==3.0.0) (2.0.5)\n",
            "Requirement already satisfied: numpy>=1.15.0 in /usr/local/lib/python3.7/dist-packages (from spacy<3.1.0,>=3.0.0->en-core-web-lg==3.0.0) (1.19.5)\n",
            "Requirement already satisfied: tqdm<5.0.0,>=4.38.0 in /usr/local/lib/python3.7/dist-packages (from spacy<3.1.0,>=3.0.0->en-core-web-lg==3.0.0) (4.41.1)\n",
            "Requirement already satisfied: jinja2 in /usr/local/lib/python3.7/dist-packages (from spacy<3.1.0,>=3.0.0->en-core-web-lg==3.0.0) (2.11.3)\n",
            "Requirement already satisfied: typer<0.4.0,>=0.3.0 in /usr/local/lib/python3.7/dist-packages (from spacy<3.1.0,>=3.0.0->en-core-web-lg==3.0.0) (0.3.2)\n",
            "Requirement already satisfied: catalogue<2.1.0,>=2.0.3 in /usr/local/lib/python3.7/dist-packages (from spacy<3.1.0,>=3.0.0->en-core-web-lg==3.0.0) (2.0.4)\n",
            "Requirement already satisfied: murmurhash<1.1.0,>=0.28.0 in /usr/local/lib/python3.7/dist-packages (from spacy<3.1.0,>=3.0.0->en-core-web-lg==3.0.0) (1.0.5)\n",
            "Requirement already satisfied: wasabi<1.1.0,>=0.8.1 in /usr/local/lib/python3.7/dist-packages (from spacy<3.1.0,>=3.0.0->en-core-web-lg==3.0.0) (0.8.2)\n",
            "Requirement already satisfied: blis<0.8.0,>=0.4.0 in /usr/local/lib/python3.7/dist-packages (from spacy<3.1.0,>=3.0.0->en-core-web-lg==3.0.0) (0.4.1)\n",
            "Requirement already satisfied: packaging>=20.0 in /usr/local/lib/python3.7/dist-packages (from spacy<3.1.0,>=3.0.0->en-core-web-lg==3.0.0) (20.9)\n",
            "Requirement already satisfied: srsly<3.0.0,>=2.4.1 in /usr/local/lib/python3.7/dist-packages (from spacy<3.1.0,>=3.0.0->en-core-web-lg==3.0.0) (2.4.1)\n",
            "Requirement already satisfied: pydantic<1.8.0,>=1.7.1 in /usr/local/lib/python3.7/dist-packages (from spacy<3.1.0,>=3.0.0->en-core-web-lg==3.0.0) (1.7.4)\n",
            "Requirement already satisfied: setuptools in /usr/local/lib/python3.7/dist-packages (from spacy<3.1.0,>=3.0.0->en-core-web-lg==3.0.0) (57.0.0)\n",
            "Requirement already satisfied: zipp>=0.5 in /usr/local/lib/python3.7/dist-packages (from catalogue<2.1.0,>=2.0.3->spacy<3.1.0,>=3.0.0->en-core-web-lg==3.0.0) (3.4.1)\n",
            "Requirement already satisfied: pyparsing>=2.0.2 in /usr/local/lib/python3.7/dist-packages (from packaging>=20.0->spacy<3.1.0,>=3.0.0->en-core-web-lg==3.0.0) (2.4.7)\n",
            "Requirement already satisfied: smart-open<4.0.0,>=2.2.0 in /usr/local/lib/python3.7/dist-packages (from pathy>=0.3.5->spacy<3.1.0,>=3.0.0->en-core-web-lg==3.0.0) (3.0.0)\n",
            "Requirement already satisfied: urllib3!=1.25.0,!=1.25.1,<1.26,>=1.21.1 in /usr/local/lib/python3.7/dist-packages (from requests<3.0.0,>=2.13.0->spacy<3.1.0,>=3.0.0->en-core-web-lg==3.0.0) (1.24.3)\n",
            "Requirement already satisfied: chardet<4,>=3.0.2 in /usr/local/lib/python3.7/dist-packages (from requests<3.0.0,>=2.13.0->spacy<3.1.0,>=3.0.0->en-core-web-lg==3.0.0) (3.0.4)\n",
            "Requirement already satisfied: certifi>=2017.4.17 in /usr/local/lib/python3.7/dist-packages (from requests<3.0.0,>=2.13.0->spacy<3.1.0,>=3.0.0->en-core-web-lg==3.0.0) (2020.12.5)\n",
            "Requirement already satisfied: idna<3,>=2.5 in /usr/local/lib/python3.7/dist-packages (from requests<3.0.0,>=2.13.0->spacy<3.1.0,>=3.0.0->en-core-web-lg==3.0.0) (2.10)\n",
            "Requirement already satisfied: click<7.2.0,>=7.1.1 in /usr/local/lib/python3.7/dist-packages (from typer<0.4.0,>=0.3.0->spacy<3.1.0,>=3.0.0->en-core-web-lg==3.0.0) (7.1.2)\n",
            "Requirement already satisfied: MarkupSafe>=0.23 in /usr/local/lib/python3.7/dist-packages (from jinja2->spacy<3.1.0,>=3.0.0->en-core-web-lg==3.0.0) (2.0.1)\n",
            "Installing collected packages: en-core-web-lg\n",
            "Successfully installed en-core-web-lg-3.0.0\n",
            "\u001b[33mWARNING: Running pip as root will break packages and permissions. You should install packages reliably by using venv: https://pip.pypa.io/warnings/venv\u001b[0m\n",
            "\u001b[38;5;2m✔ Download and installation successful\u001b[0m\n",
            "You can now load the package via spacy.load('en_core_web_lg')\n",
            "************************\n",
            "        Versions        \n",
            "************************\n",
            "Tensorflow version=2.5.0\n",
            "Keras version=2.5.0\n",
            "Sklearn version=0.22.2.post1\n",
            "Numpy version=1.19.5\n",
            "Pandas version=1.1.5\n",
            "Seaborn version=0.11.1\n",
            "Matplotlib version=3.2.2\n",
            "SpaCy version=3.0.6\n",
            "Python version=3.7.10\n"
          ],
          "name": "stdout"
        }
      ]
    },
    {
      "cell_type": "markdown",
      "metadata": {
        "id": "leKoAEG_KWf8"
      },
      "source": [
        "### 2.3. Load the modules\n",
        "\n",
        "---\n",
        "\n",
        "Load the necessary modules for usage in the entire project."
      ]
    },
    {
      "cell_type": "code",
      "metadata": {
        "id": "U04wypEUv2p1"
      },
      "source": [
        "# importing necessary modules for this project\n",
        "import tensorflow as tf\n",
        "\n",
        "import pandas as pd\n",
        "import matplotlib.pyplot as plt\n",
        "import seaborn as sns\n",
        "import numpy as np\n",
        "import string\n",
        "import spacy\n",
        "\n",
        "# activate the GPU to run spaCy with GPU\n",
        "spacy.prefer_gpu()\n",
        "\n",
        "%matplotlib inline"
      ],
      "execution_count": null,
      "outputs": []
    },
    {
      "cell_type": "markdown",
      "metadata": {
        "id": "ca1X-gSJKap_"
      },
      "source": [
        "### 2.4. Load the dataset\n",
        "\n",
        "---\n",
        "\n",
        "Load the dataset for usage in the entire project."
      ]
    },
    {
      "cell_type": "code",
      "metadata": {
        "id": "owSKzElwKdh1",
        "colab": {
          "base_uri": "https://localhost:8080/",
          "height": 1000
        },
        "outputId": "04eedb6f-3c7c-4532-d483-ed11908dce5c"
      },
      "source": [
        "# use pandas to read the excel file and populate it in a pandas dataframe\n",
        "companies = pd.read_excel('./clean_dataset.xlsx')\n",
        "\n",
        "# see the top 10 companies that are populated in the dataframe\n",
        "companies.head(10)"
      ],
      "execution_count": null,
      "outputs": [
        {
          "output_type": "execute_result",
          "data": {
            "text/html": [
              "<div>\n",
              "<style scoped>\n",
              "    .dataframe tbody tr th:only-of-type {\n",
              "        vertical-align: middle;\n",
              "    }\n",
              "\n",
              "    .dataframe tbody tr th {\n",
              "        vertical-align: top;\n",
              "    }\n",
              "\n",
              "    .dataframe thead th {\n",
              "        text-align: right;\n",
              "    }\n",
              "</style>\n",
              "<table border=\"1\" class=\"dataframe\">\n",
              "  <thead>\n",
              "    <tr style=\"text-align: right;\">\n",
              "      <th></th>\n",
              "      <th>Company_ID</th>\n",
              "      <th>Company</th>\n",
              "      <th>Country</th>\n",
              "      <th>PIC</th>\n",
              "      <th>Sector</th>\n",
              "      <th>Subsector</th>\n",
              "      <th>Archetype</th>\n",
              "      <th>Valuechain</th>\n",
              "      <th>Websites</th>\n",
              "      <th>Company Profile Information</th>\n",
              "      <th>Remarks</th>\n",
              "    </tr>\n",
              "  </thead>\n",
              "  <tbody>\n",
              "    <tr>\n",
              "      <th>0</th>\n",
              "      <td>4137190062363536</td>\n",
              "      <td>AKSORN CHAROEN TAT ACT. CO.,LTD.</td>\n",
              "      <td>THAILAND</td>\n",
              "      <td>NaN</td>\n",
              "      <td>TMT</td>\n",
              "      <td>media</td>\n",
              "      <td>media_aggregator/distributor</td>\n",
              "      <td>Midstream</td>\n",
              "      <td>https://getlinks.co/6831</td>\n",
              "      <td>For over 80 years of experience in creating and developing high-quality learning materials has enabled us to provide world-class educational innovation to meet the needs of all teachers, students, institutions and educational authorities.</td>\n",
              "      <td>NaN</td>\n",
              "    </tr>\n",
              "    <tr>\n",
              "      <th>1</th>\n",
              "      <td>23248790229909748</td>\n",
              "      <td>DONGGUAN SHENGYA CLEANING APPLIAME CO.LTD</td>\n",
              "      <td>CHINA</td>\n",
              "      <td>NaN</td>\n",
              "      <td>TMT</td>\n",
              "      <td>consumer electronics</td>\n",
              "      <td>consumer electronics_distributor</td>\n",
              "      <td>Downstream</td>\n",
              "      <td>https://baike.baidu.com/item/%E4%B8%9C%E8%8E%9E%E5%B8%82%E9%9B%85%E6%B3%B0%E6%B8%85%E6%B4%81%E7%94%A8%E5%93%81%E6%9C%89%E9%99%90%E5%85%AC%E5%8F%B8</td>\n",
              "      <td>Yatai's main products cover various cleaning machinery, cleaning agents, cleaning tools, stone maintenance and other cleaning products; cleaning solutions and services include product technical consultation, product customization, employee training, maintenance and so on.\\n</td>\n",
              "      <td>NaN</td>\n",
              "    </tr>\n",
              "    <tr>\n",
              "      <th>2</th>\n",
              "      <td>28486505934571008</td>\n",
              "      <td>EXIS TECH SDN. BHD.</td>\n",
              "      <td>MALAYSIA</td>\n",
              "      <td>NaN</td>\n",
              "      <td>oos</td>\n",
              "      <td>others</td>\n",
              "      <td>others</td>\n",
              "      <td>NaN</td>\n",
              "      <td>http://www.exis-tech.com/</td>\n",
              "      <td>In the beginning, it started off by providing technical support for test handlers, then moving into module design and production. Its first, in-house designed, full-fledged handler was introduced in 2008.\\nSince then, the company has designed and produced a wide range of turret and pick-and-place solutions for its customers all over the world.</td>\n",
              "      <td>NaN</td>\n",
              "    </tr>\n",
              "    <tr>\n",
              "      <th>3</th>\n",
              "      <td>38251695094669872</td>\n",
              "      <td>BEI JING ESTRABA IMPORT AND EXPORT</td>\n",
              "      <td>CHINA</td>\n",
              "      <td>NaN</td>\n",
              "      <td>NaN</td>\n",
              "      <td>NaN</td>\n",
              "      <td>NaN</td>\n",
              "      <td>NaN</td>\n",
              "      <td>NaN</td>\n",
              "      <td>NaN</td>\n",
              "      <td>NaN</td>\n",
              "    </tr>\n",
              "    <tr>\n",
              "      <th>4</th>\n",
              "      <td>39910921263510776</td>\n",
              "      <td>Aztech Electronics Pte Ltd</td>\n",
              "      <td>SINGAPORE</td>\n",
              "      <td>NaN</td>\n",
              "      <td>TMT</td>\n",
              "      <td>consumer electronics</td>\n",
              "      <td>consumer electronics_distributor</td>\n",
              "      <td>Downstream</td>\n",
              "      <td>https://www.aztech.com/business/about-us/</td>\n",
              "      <td>Being a turnkey, one-stop integrated solutions provider based in Singapore, Aztech is equipped with state-of-the-art equipment, R&amp;D, design, manufacturing and packaging capabilities to deliver a seamless, unified experience. Each and every time. Always striving towards the edge of technology for more than 34 years, we have been building capabilities to serve clients’ manufacturing needs, including the consumer electronics, telecommunications, healthtech, LED lighting, automotive and technology start-up market segments.</td>\n",
              "      <td>NaN</td>\n",
              "    </tr>\n",
              "    <tr>\n",
              "      <th>5</th>\n",
              "      <td>54863889264716592</td>\n",
              "      <td>TONGDUN INTERNATIONAL PTE LTD</td>\n",
              "      <td>SINGAPORE</td>\n",
              "      <td>NaN</td>\n",
              "      <td>tmt</td>\n",
              "      <td>it_services</td>\n",
              "      <td>it_services</td>\n",
              "      <td>midstream</td>\n",
              "      <td>https://www.tongdun.net/info/company</td>\n",
              "      <td>Tongdun Technology is a professional third-party intelligent risk management and decision-making service provider headquartered in Hangzhou, Zhejiang. By integrating artificial intelligence into business scenarios, Tongdun Technology offers solutions in intelligent user analysis, intelligent risk management, intelligent antifraud and intelligent operation to clients from various industries including financial industry, internet business, logistics, healthcare, retail, smart cities and government bodies. Over 10,000 corporate clients have chosen Tongdun Technology’s products and services</td>\n",
              "      <td>NaN</td>\n",
              "    </tr>\n",
              "    <tr>\n",
              "      <th>6</th>\n",
              "      <td>60624700618157752</td>\n",
              "      <td>EMASTIGA ENGRG PTE LTD</td>\n",
              "      <td>SINGAPORE</td>\n",
              "      <td>NaN</td>\n",
              "      <td>cni</td>\n",
              "      <td>cni_service providers</td>\n",
              "      <td>cni_service providers</td>\n",
              "      <td>midstream</td>\n",
              "      <td>http://emastiga.com/</td>\n",
              "      <td>For over 30 years, EMASTIGA has been servicing the construction and the oil and gas industries with distinction.We try our hardest to create win-win situations and value-add to our clients with every transaction.</td>\n",
              "      <td>Holding company and also provides it_services. Company also does not seem to continue operations and hence information might be incorrect</td>\n",
              "    </tr>\n",
              "    <tr>\n",
              "      <th>7</th>\n",
              "      <td>102285011598298000</td>\n",
              "      <td>AEROFLUID CO.,LTD.</td>\n",
              "      <td>THAILAND</td>\n",
              "      <td>NaN</td>\n",
              "      <td>CNI</td>\n",
              "      <td>cni_equipment suppliers</td>\n",
              "      <td>cni_equipment suppliers</td>\n",
              "      <td>MIDSTREAM</td>\n",
              "      <td>https://www.matchlink.asia/business/page/Thailand/KANCHANABURI/11255-siam-grand-aluminum-co-ltd.html</td>\n",
              "      <td>Sales of hydraulic equipment and parts</td>\n",
              "      <td>NaN</td>\n",
              "    </tr>\n",
              "    <tr>\n",
              "      <th>8</th>\n",
              "      <td>116707715618748400</td>\n",
              "      <td>POLYCOM ASIA PACIFIC PTE. LTD.</td>\n",
              "      <td>SINGAPORE</td>\n",
              "      <td>NaN</td>\n",
              "      <td>tmt</td>\n",
              "      <td>telecommunication</td>\n",
              "      <td>network equipment supplier</td>\n",
              "      <td>upstream</td>\n",
              "      <td>https://www.sgpbusiness.com/company/Polycom-Asia-Pacific-Pte-Ltd</td>\n",
              "      <td>WHOLESALE OF TELECOMMUNICATIONS EQUIPMENT (EXCLUDING HANDPHONES)\\n</td>\n",
              "      <td>NaN</td>\n",
              "    </tr>\n",
              "    <tr>\n",
              "      <th>9</th>\n",
              "      <td>120313950904532592</td>\n",
              "      <td>EXCELKOS SDN. BHD.</td>\n",
              "      <td>MALAYSIA</td>\n",
              "      <td>NaN</td>\n",
              "      <td>IND</td>\n",
              "      <td>diversified</td>\n",
              "      <td>rubber</td>\n",
              "      <td>Manufacturer</td>\n",
              "      <td>https://www.excelkos.com/</td>\n",
              "      <td>For Excelkos, it all started with a far-sighted vision to deliver quality industrial products and solutions to meet the increasing demands of various industries. ​ The vision became a reality in 1988 when the Excelkos Group was established to distribute and provide quality rubber industrial chemicals. ​</td>\n",
              "      <td>NaN</td>\n",
              "    </tr>\n",
              "  </tbody>\n",
              "</table>\n",
              "</div>"
            ],
            "text/plain": [
              "           Company_ID  ...                                                                                                                                    Remarks\n",
              "0    4137190062363536  ...                                                                                                                                        NaN\n",
              "1   23248790229909748  ...                                                                                                                                        NaN\n",
              "2   28486505934571008  ...                                                                                                                                        NaN\n",
              "3   38251695094669872  ...                                                                                                                                        NaN\n",
              "4   39910921263510776  ...                                                                                                                                        NaN\n",
              "5   54863889264716592  ...                                                                                                                                        NaN\n",
              "6   60624700618157752  ...  Holding company and also provides it_services. Company also does not seem to continue operations and hence information might be incorrect\n",
              "7  102285011598298000  ...                                                                                                                                        NaN\n",
              "8  116707715618748400  ...                                                                                                                                        NaN\n",
              "9  120313950904532592  ...                                                                                                                                        NaN\n",
              "\n",
              "[10 rows x 11 columns]"
            ]
          },
          "metadata": {
            "tags": []
          },
          "execution_count": 96
        }
      ]
    },
    {
      "cell_type": "markdown",
      "metadata": {
        "id": "2TI1D_-KP6hC"
      },
      "source": [
        "---\n",
        "---"
      ]
    },
    {
      "cell_type": "markdown",
      "metadata": {
        "id": "9qKHTDyOP9bz"
      },
      "source": [
        "# 3.Exploratory Data Analysis"
      ]
    },
    {
      "cell_type": "markdown",
      "metadata": {
        "id": "P8p50I8GQCAg"
      },
      "source": [
        "### 3.1. Get overview of dataset\n",
        "\n",
        "---\n",
        "\n",
        "Get statistical information of the dataset to understand the dataset better."
      ]
    },
    {
      "cell_type": "code",
      "metadata": {
        "id": "2iea82R6Dm2J",
        "colab": {
          "base_uri": "https://localhost:8080/"
        },
        "outputId": "ee50d128-5196-47fb-cbb0-e6431494122c"
      },
      "source": [
        "# see the row headers of the entire pandas dataframe first\n",
        "list(companies.columns)"
      ],
      "execution_count": null,
      "outputs": [
        {
          "output_type": "execute_result",
          "data": {
            "text/plain": [
              "['Company_ID',\n",
              " 'Company',\n",
              " 'Country',\n",
              " 'PIC',\n",
              " 'Sector',\n",
              " 'Subsector',\n",
              " 'Archetype',\n",
              " 'Valuechain',\n",
              " 'Websites',\n",
              " 'Company Profile Information',\n",
              " 'Remarks']"
            ]
          },
          "metadata": {
            "tags": []
          },
          "execution_count": 97
        }
      ]
    },
    {
      "cell_type": "code",
      "metadata": {
        "id": "OVX1CBSTLZqm",
        "colab": {
          "base_uri": "https://localhost:8080/"
        },
        "outputId": "6cca20d9-cff6-4b6f-bca7-3142693a4860"
      },
      "source": [
        "# get the total number of records in the dataframe\n",
        "df_count = companies['Company_ID'].count()\n",
        "\n",
        "# get count of unique contries where companies are based in\n",
        "df_countCountry = companies['Country'].nunique()\n",
        "\n",
        "# get count of total unique sectors where companies are from\n",
        "df_countSector = companies['Sector'].nunique()\n",
        "\n",
        "# get count of total unique subseector where companies are from\n",
        "df_countsubSector = companies['Subsector'].nunique()\n",
        "\n",
        "# get count of total unique valuechain where companies are from\n",
        "df_countValuechain = companies['Valuechain'].nunique()\n",
        "\n",
        "print('Total number of records:', df_count)\n",
        "print('Total number of countries:', df_countCountry)\n",
        "print('Total number of sectors:', df_countSector)\n",
        "print('Total number of subsectors:', df_countsubSector)\n",
        "print('Total number of valuechain:', df_countValuechain)"
      ],
      "execution_count": null,
      "outputs": [
        {
          "output_type": "stream",
          "text": [
            "Total number of records: 3000\n",
            "Total number of countries: 8\n",
            "Total number of sectors: 15\n",
            "Total number of subsectors: 34\n",
            "Total number of valuechain: 20\n"
          ],
          "name": "stdout"
        }
      ]
    },
    {
      "cell_type": "code",
      "metadata": {
        "id": "O1C_l7ytUixQ",
        "colab": {
          "base_uri": "https://localhost:8080/"
        },
        "outputId": "db78da12-b105-4e0b-da89-a57cf3e025ba"
      },
      "source": [
        "# get total number of countries\n",
        "df_totalCountries = companies['Country'].value_counts()\n",
        "\n",
        "# get list of unique sector\n",
        "df_sector = companies['Sector'].value_counts()\n",
        "\n",
        "# get list of unique archetype\n",
        "df_archetype = companies['Archetype'].value_counts()\n",
        "\n",
        "# get list of unique valuechain\n",
        "df_valuechain = companies['Valuechain'].value_counts()\n",
        "\n",
        "print('List of unique countries:\\n{}'.format(df_totalCountries))\n",
        "print()\n",
        "print('List of unique sector:\\n{}'.format(df_sector))\n",
        "print()\n",
        "print('List of unique valuechain:\\n{}'.format(df_valuechain))"
      ],
      "execution_count": null,
      "outputs": [
        {
          "output_type": "stream",
          "text": [
            "List of unique countries:\n",
            "SINGAPORE    1029\n",
            "MALAYSIA      718\n",
            "THAILAND      626\n",
            "CHINA         315\n",
            "INDONESIA     159\n",
            "HONG KONG     150\n",
            "VIETNAM         2\n",
            "AUSTRALIA       1\n",
            "Name: Country, dtype: int64\n",
            "\n",
            "List of unique sector:\n",
            "CNI                       473\n",
            "OOS                       446\n",
            "cni                       291\n",
            "tmt                       257\n",
            "CG                        229\n",
            "REH                       228\n",
            "IND                       211\n",
            "TMT                       199\n",
            "ONG                       180\n",
            "oos                        97\n",
            "ong                        97\n",
            "ind                        21\n",
            "cg                         15\n",
            "reh                         6\n",
            "buildings & industrial      1\n",
            "Name: Sector, dtype: int64\n",
            "\n",
            "List of unique valuechain:\n",
            "MIDSTREAM                 454\n",
            "midstream                 373\n",
            "Downstream                327\n",
            "downstream                229\n",
            "Midstream                 202\n",
            "                          166\n",
            "DOWNSTREAM                154\n",
            "UPSTREAM                   71\n",
            "Manufacturer               62\n",
            "Upstream                   59\n",
            "Trader                     53\n",
            "upstream                   51\n",
            "Upstream or Downstream     41\n",
            "distributor                38\n",
            "Across value chain         32\n",
            "upstream or downstream     17\n",
            "manufacturer               10\n",
            "across value chain          2\n",
            "trader                      2\n",
            "steel fabricator            1\n",
            "Name: Valuechain, dtype: int64\n"
          ],
          "name": "stdout"
        }
      ]
    },
    {
      "cell_type": "code",
      "metadata": {
        "id": "NIoXot6HWEWP",
        "colab": {
          "base_uri": "https://localhost:8080/"
        },
        "outputId": "a09747d3-0418-429f-f40b-46b21d5c91b9"
      },
      "source": [
        "# get list of unique subsector\n",
        "df_subsector = companies['Subsector'].value_counts()\n",
        "\n",
        "print('List of unique Subsector:\\n{}'.format(df_subsector))"
      ],
      "execution_count": null,
      "outputs": [
        {
          "output_type": "stream",
          "text": [
            "List of unique Subsector:\n",
            "others                               543\n",
            "building_material                    297\n",
            "buildings & industrial               245\n",
            "consumer electronics                 167\n",
            "retail n distribution                163\n",
            "petrochemical                        129\n",
            "auto & mec                           124\n",
            "cni_service providers                112\n",
            "o&g                                   93\n",
            "it_services                           90\n",
            "metals and mining                     89\n",
            "semiconductor                         77\n",
            "residential                           77\n",
            "utilities                             67\n",
            "telecommunication                     55\n",
            "restaurants, catering & services      52\n",
            "o&g_service providers/contractors     51\n",
            "fmcg                                  49\n",
            "media                                 41\n",
            "commercial                            34\n",
            "infrastructure                        32\n",
            "mixed                                 30\n",
            "hotels and accommodation              27\n",
            "digital_business                      26\n",
            "diversified                           18\n",
            "animal protein                        16\n",
            "agribusiness                          16\n",
            "industrial                            14\n",
            "cni_equipment suppliers               11\n",
            "ioc/noc                                3\n",
            "                                       1\n",
            "buildings & industrial_contractor      1\n",
            "IND                                    1\n",
            "ong_traders                            1\n",
            "Name: Subsector, dtype: int64\n"
          ],
          "name": "stdout"
        }
      ]
    },
    {
      "cell_type": "code",
      "metadata": {
        "id": "SjaNooD3Uz3c",
        "colab": {
          "base_uri": "https://localhost:8080/"
        },
        "outputId": "9fd2ac2c-6a9d-47e6-bdbf-bfa7a264e21d"
      },
      "source": [
        "print('List of unique archetype:\\n{}'.format(df_archetype))"
      ],
      "execution_count": null,
      "outputs": [
        {
          "output_type": "stream",
          "text": [
            "List of unique archetype:\n",
            "others                               543\n",
            "buildings & industrial_contractor    221\n",
            "building_material_manufacturer       202\n",
            "consumer electronics_distributor     132\n",
            "cni_service providers                112\n",
            "                                    ... \n",
            "industrial gas                         1\n",
            "infrastructure_developer               1\n",
            "metals and mining                      1\n",
            "tisp – fiber cable                     1\n",
            "bunker trader                          1\n",
            "Name: Archetype, Length: 89, dtype: int64\n"
          ],
          "name": "stdout"
        }
      ]
    },
    {
      "cell_type": "markdown",
      "metadata": {
        "id": "57EHaR92D9UP"
      },
      "source": [
        "### 3.2. Drop unncessary columns\n",
        "\n",
        "---\n",
        "\n",
        "Here, we will drop columns that wiill not aid in our EDA."
      ]
    },
    {
      "cell_type": "code",
      "metadata": {
        "id": "TC9-PuS6EDXT",
        "colab": {
          "base_uri": "https://localhost:8080/",
          "height": 684
        },
        "outputId": "415f1153-71ad-4233-a762-c339d0d37214"
      },
      "source": [
        "# declare the list of the row names that are redundant\n",
        "rows_to_drop = ['Company_ID', 'PIC', 'Websites', 'Remarks']\n",
        "\n",
        "# use a conditional expression to filter out those rows\n",
        "df_filteredCompanies = companies.drop(labels=rows_to_drop, axis=1)\n",
        "\n",
        "df_filteredCompanies"
      ],
      "execution_count": null,
      "outputs": [
        {
          "output_type": "execute_result",
          "data": {
            "text/html": [
              "<div>\n",
              "<style scoped>\n",
              "    .dataframe tbody tr th:only-of-type {\n",
              "        vertical-align: middle;\n",
              "    }\n",
              "\n",
              "    .dataframe tbody tr th {\n",
              "        vertical-align: top;\n",
              "    }\n",
              "\n",
              "    .dataframe thead th {\n",
              "        text-align: right;\n",
              "    }\n",
              "</style>\n",
              "<table border=\"1\" class=\"dataframe\">\n",
              "  <thead>\n",
              "    <tr style=\"text-align: right;\">\n",
              "      <th></th>\n",
              "      <th>Company</th>\n",
              "      <th>Country</th>\n",
              "      <th>Sector</th>\n",
              "      <th>Subsector</th>\n",
              "      <th>Archetype</th>\n",
              "      <th>Valuechain</th>\n",
              "      <th>Company Profile Information</th>\n",
              "    </tr>\n",
              "  </thead>\n",
              "  <tbody>\n",
              "    <tr>\n",
              "      <th>0</th>\n",
              "      <td>AKSORN CHAROEN TAT ACT. CO.,LTD.</td>\n",
              "      <td>THAILAND</td>\n",
              "      <td>TMT</td>\n",
              "      <td>media</td>\n",
              "      <td>media_aggregator/distributor</td>\n",
              "      <td>Midstream</td>\n",
              "      <td>For over 80 years of experience in creating and developing high-quality learning materials has enabled us to provide world-class educational innovation to meet the needs of all teachers, students, institutions and educational authorities.</td>\n",
              "    </tr>\n",
              "    <tr>\n",
              "      <th>1</th>\n",
              "      <td>DONGGUAN SHENGYA CLEANING APPLIAME CO.LTD</td>\n",
              "      <td>CHINA</td>\n",
              "      <td>TMT</td>\n",
              "      <td>consumer electronics</td>\n",
              "      <td>consumer electronics_distributor</td>\n",
              "      <td>Downstream</td>\n",
              "      <td>Yatai's main products cover various cleaning machinery, cleaning agents, cleaning tools, stone maintenance and other cleaning products; cleaning solutions and services include product technical consultation, product customization, employee training, maintenance and so on.\\n</td>\n",
              "    </tr>\n",
              "    <tr>\n",
              "      <th>2</th>\n",
              "      <td>EXIS TECH SDN. BHD.</td>\n",
              "      <td>MALAYSIA</td>\n",
              "      <td>oos</td>\n",
              "      <td>others</td>\n",
              "      <td>others</td>\n",
              "      <td>NaN</td>\n",
              "      <td>In the beginning, it started off by providing technical support for test handlers, then moving into module design and production. Its first, in-house designed, full-fledged handler was introduced in 2008.\\nSince then, the company has designed and produced a wide range of turret and pick-and-place solutions for its customers all over the world.</td>\n",
              "    </tr>\n",
              "    <tr>\n",
              "      <th>3</th>\n",
              "      <td>BEI JING ESTRABA IMPORT AND EXPORT</td>\n",
              "      <td>CHINA</td>\n",
              "      <td>NaN</td>\n",
              "      <td>NaN</td>\n",
              "      <td>NaN</td>\n",
              "      <td>NaN</td>\n",
              "      <td>NaN</td>\n",
              "    </tr>\n",
              "    <tr>\n",
              "      <th>4</th>\n",
              "      <td>Aztech Electronics Pte Ltd</td>\n",
              "      <td>SINGAPORE</td>\n",
              "      <td>TMT</td>\n",
              "      <td>consumer electronics</td>\n",
              "      <td>consumer electronics_distributor</td>\n",
              "      <td>Downstream</td>\n",
              "      <td>Being a turnkey, one-stop integrated solutions provider based in Singapore, Aztech is equipped with state-of-the-art equipment, R&amp;D, design, manufacturing and packaging capabilities to deliver a seamless, unified experience. Each and every time. Always striving towards the edge of technology for more than 34 years, we have been building capabilities to serve clients’ manufacturing needs, including the consumer electronics, telecommunications, healthtech, LED lighting, automotive and technology start-up market segments.</td>\n",
              "    </tr>\n",
              "    <tr>\n",
              "      <th>...</th>\n",
              "      <td>...</td>\n",
              "      <td>...</td>\n",
              "      <td>...</td>\n",
              "      <td>...</td>\n",
              "      <td>...</td>\n",
              "      <td>...</td>\n",
              "      <td>...</td>\n",
              "    </tr>\n",
              "    <tr>\n",
              "      <th>2995</th>\n",
              "      <td>SIN LI TECHNOLOGIES PTE LTD</td>\n",
              "      <td>SINGAPORE</td>\n",
              "      <td>ONG</td>\n",
              "      <td>o&amp;g_service providers/contractors</td>\n",
              "      <td>o&amp;g midstream and downstream service provider</td>\n",
              "      <td>Downstream</td>\n",
              "      <td>MANUFACTURE AND REPAIR OF OTHER OILFIELD AND GASFIELD MACHINERY AND EQUIPMENT (EG DERRICKS, TOOL JOINTS)</td>\n",
              "    </tr>\n",
              "    <tr>\n",
              "      <th>2996</th>\n",
              "      <td>SEE TONG LEE LIMITED PARTNERSHIP</td>\n",
              "      <td>THAILAND</td>\n",
              "      <td>IND</td>\n",
              "      <td>metals and mining</td>\n",
              "      <td>steel distributor</td>\n",
              "      <td>distributor</td>\n",
              "      <td>Business scene, advertising stage. And sells aluminum sheets, steel sheets</td>\n",
              "    </tr>\n",
              "    <tr>\n",
              "      <th>2997</th>\n",
              "      <td>SHENZHEN XIONGFENG STEEL STRUCTURE CO.,LTD</td>\n",
              "      <td>CHINA</td>\n",
              "      <td>IND</td>\n",
              "      <td>metals and mining</td>\n",
              "      <td>steel fabricator</td>\n",
              "      <td>Manufacturer</td>\n",
              "      <td>Shenzhen HX Steel Structure company is one of the largest steel structure fabricator in South- China area. Owing three manufacturing bases separated in Shenzhen、 Dongguan and Huizhou, our annual producing capacity is 30,000 tons.More&gt;&gt;</td>\n",
              "    </tr>\n",
              "    <tr>\n",
              "      <th>2998</th>\n",
              "      <td>NANTONG CHENGSHI HEAVYINDUSTRY DEVELOP CO.,LTD</td>\n",
              "      <td>CHINA</td>\n",
              "      <td>NaN</td>\n",
              "      <td>NaN</td>\n",
              "      <td>NaN</td>\n",
              "      <td>NaN</td>\n",
              "      <td>NaN</td>\n",
              "    </tr>\n",
              "    <tr>\n",
              "      <th>2999</th>\n",
              "      <td>DAILAN JIANGSAHN HEAVY EQUIPMENT MANUFACTURING CO.,LTD.</td>\n",
              "      <td>CHINA</td>\n",
              "      <td>NaN</td>\n",
              "      <td>NaN</td>\n",
              "      <td>NaN</td>\n",
              "      <td>NaN</td>\n",
              "      <td>NaN</td>\n",
              "    </tr>\n",
              "  </tbody>\n",
              "</table>\n",
              "<p>3000 rows × 7 columns</p>\n",
              "</div>"
            ],
            "text/plain": [
              "                                                      Company  ...                                                                                                                                                                                                                                                                                                                                                                                                                                                                                                                   Company Profile Information\n",
              "0                            AKSORN CHAROEN TAT ACT. CO.,LTD.  ...                                                                                                                                                                                                                                                                                                For over 80 years of experience in creating and developing high-quality learning materials has enabled us to provide world-class educational innovation to meet the needs of all teachers, students, institutions and educational authorities.\n",
              "1                   DONGGUAN SHENGYA CLEANING APPLIAME CO.LTD  ...                                                                                                                                                                                                                                                            Yatai's main products cover various cleaning machinery, cleaning agents, cleaning tools, stone maintenance and other cleaning products; cleaning solutions and services include product technical consultation, product customization, employee training, maintenance and so on.\\n\n",
              "2                                         EXIS TECH SDN. BHD.  ...                                                                                                                                                                                     In the beginning, it started off by providing technical support for test handlers, then moving into module design and production. Its first, in-house designed, full-fledged handler was introduced in 2008.\\nSince then, the company has designed and produced a wide range of turret and pick-and-place solutions for its customers all over the world.\n",
              "3                          BEI JING ESTRABA IMPORT AND EXPORT  ...                                                                                                                                                                                                                                                                                                                                                                                                                                                                                                                                           NaN\n",
              "4                                  Aztech Electronics Pte Ltd  ...  Being a turnkey, one-stop integrated solutions provider based in Singapore, Aztech is equipped with state-of-the-art equipment, R&D, design, manufacturing and packaging capabilities to deliver a seamless, unified experience. Each and every time. Always striving towards the edge of technology for more than 34 years, we have been building capabilities to serve clients’ manufacturing needs, including the consumer electronics, telecommunications, healthtech, LED lighting, automotive and technology start-up market segments.\n",
              "...                                                       ...  ...                                                                                                                                                                                                                                                                                                                                                                                                                                                                                                                                           ...\n",
              "2995                              SIN LI TECHNOLOGIES PTE LTD  ...                                                                                                                                                                                                                                                                                                                                                                                                                                      MANUFACTURE AND REPAIR OF OTHER OILFIELD AND GASFIELD MACHINERY AND EQUIPMENT (EG DERRICKS, TOOL JOINTS)\n",
              "2996                         SEE TONG LEE LIMITED PARTNERSHIP  ...                                                                                                                                                                                                                                                                                                                                                                                                                                                                    Business scene, advertising stage. And sells aluminum sheets, steel sheets\n",
              "2997               SHENZHEN XIONGFENG STEEL STRUCTURE CO.,LTD  ...                                                                                                                                                                                                                                                                                                   Shenzhen HX Steel Structure company is one of the largest steel structure fabricator in South- China area. Owing three manufacturing bases separated in Shenzhen、 Dongguan and Huizhou, our annual producing capacity is 30,000 tons.More>>\n",
              "2998           NANTONG CHENGSHI HEAVYINDUSTRY DEVELOP CO.,LTD  ...                                                                                                                                                                                                                                                                                                                                                                                                                                                                                                                                           NaN\n",
              "2999  DAILAN JIANGSAHN HEAVY EQUIPMENT MANUFACTURING CO.,LTD.  ...                                                                                                                                                                                                                                                                                                                                                                                                                                                                                                                                           NaN\n",
              "\n",
              "[3000 rows x 7 columns]"
            ]
          },
          "metadata": {
            "tags": []
          },
          "execution_count": 102
        }
      ]
    },
    {
      "cell_type": "markdown",
      "metadata": {
        "id": "c3S6ZQzySmC0"
      },
      "source": [
        "### 3.3. Filter rows with valid data\n",
        "\n",
        "---\n",
        "\n",
        "Extract columns with Nan values and list them out here. Afterwards, gather the rows deemed suitable to process NLP."
      ]
    },
    {
      "cell_type": "code",
      "metadata": {
        "id": "7ZLoO_4SSry7",
        "colab": {
          "base_uri": "https://localhost:8080/",
          "height": 424
        },
        "outputId": "c7b3fd47-c59d-49c7-cad3-5cdc88b92360"
      },
      "source": [
        "# find all the rows with nan data in sector, subsector, archetype and valuechain\n",
        "cols_to_check = ['Sector', 'Subsector', 'Archetype', 'Valuechain', 'Company Profile Information']\n",
        "empty = df_filteredCompanies[df_filteredCompanies[cols_to_check].isnull().all(1)]\n",
        "\n",
        "empty"
      ],
      "execution_count": null,
      "outputs": [
        {
          "output_type": "execute_result",
          "data": {
            "text/html": [
              "<div>\n",
              "<style scoped>\n",
              "    .dataframe tbody tr th:only-of-type {\n",
              "        vertical-align: middle;\n",
              "    }\n",
              "\n",
              "    .dataframe tbody tr th {\n",
              "        vertical-align: top;\n",
              "    }\n",
              "\n",
              "    .dataframe thead th {\n",
              "        text-align: right;\n",
              "    }\n",
              "</style>\n",
              "<table border=\"1\" class=\"dataframe\">\n",
              "  <thead>\n",
              "    <tr style=\"text-align: right;\">\n",
              "      <th></th>\n",
              "      <th>Company</th>\n",
              "      <th>Country</th>\n",
              "      <th>Sector</th>\n",
              "      <th>Subsector</th>\n",
              "      <th>Archetype</th>\n",
              "      <th>Valuechain</th>\n",
              "      <th>Company Profile Information</th>\n",
              "    </tr>\n",
              "  </thead>\n",
              "  <tbody>\n",
              "    <tr>\n",
              "      <th>3</th>\n",
              "      <td>BEI JING ESTRABA IMPORT AND EXPORT</td>\n",
              "      <td>CHINA</td>\n",
              "      <td>NaN</td>\n",
              "      <td>NaN</td>\n",
              "      <td>NaN</td>\n",
              "      <td>NaN</td>\n",
              "      <td>NaN</td>\n",
              "    </tr>\n",
              "    <tr>\n",
              "      <th>13</th>\n",
              "      <td>CHANGTU COUNTRY LONGXING FERTILIZER CO.,LTD</td>\n",
              "      <td>CHINA</td>\n",
              "      <td>NaN</td>\n",
              "      <td>NaN</td>\n",
              "      <td>NaN</td>\n",
              "      <td>NaN</td>\n",
              "      <td>NaN</td>\n",
              "    </tr>\n",
              "    <tr>\n",
              "      <th>35</th>\n",
              "      <td>ZIBOBOSHANHONGLIWEI MOTOR CO.,LTD</td>\n",
              "      <td>CHINA</td>\n",
              "      <td>NaN</td>\n",
              "      <td>NaN</td>\n",
              "      <td>NaN</td>\n",
              "      <td>NaN</td>\n",
              "      <td>NaN</td>\n",
              "    </tr>\n",
              "    <tr>\n",
              "      <th>62</th>\n",
              "      <td>BEIJING DUO MEIDUO SHIYOU PRODUCTS SALES CO., LTD.</td>\n",
              "      <td>CHINA</td>\n",
              "      <td>NaN</td>\n",
              "      <td>NaN</td>\n",
              "      <td>NaN</td>\n",
              "      <td>NaN</td>\n",
              "      <td>NaN</td>\n",
              "    </tr>\n",
              "    <tr>\n",
              "      <th>79</th>\n",
              "      <td>TRUSVEST SDN. BHD.</td>\n",
              "      <td>MALAYSIA</td>\n",
              "      <td>NaN</td>\n",
              "      <td>NaN</td>\n",
              "      <td>NaN</td>\n",
              "      <td>NaN</td>\n",
              "      <td>NaN</td>\n",
              "    </tr>\n",
              "    <tr>\n",
              "      <th>...</th>\n",
              "      <td>...</td>\n",
              "      <td>...</td>\n",
              "      <td>...</td>\n",
              "      <td>...</td>\n",
              "      <td>...</td>\n",
              "      <td>...</td>\n",
              "      <td>...</td>\n",
              "    </tr>\n",
              "    <tr>\n",
              "      <th>2969</th>\n",
              "      <td>SPK MW LIMITED</td>\n",
              "      <td>HONG KONG</td>\n",
              "      <td>NaN</td>\n",
              "      <td>NaN</td>\n",
              "      <td>NaN</td>\n",
              "      <td>NaN</td>\n",
              "      <td>NaN</td>\n",
              "    </tr>\n",
              "    <tr>\n",
              "      <th>2978</th>\n",
              "      <td>GUANGXI RONGXIAN LIN YANGBAN INDUSTRY CO., LTD.</td>\n",
              "      <td>CHINA</td>\n",
              "      <td>NaN</td>\n",
              "      <td>NaN</td>\n",
              "      <td>NaN</td>\n",
              "      <td>NaN</td>\n",
              "      <td>NaN</td>\n",
              "    </tr>\n",
              "    <tr>\n",
              "      <th>2985</th>\n",
              "      <td>JOHANES PRAYITNO PRASETYA</td>\n",
              "      <td>INDONESIA</td>\n",
              "      <td>NaN</td>\n",
              "      <td>NaN</td>\n",
              "      <td>NaN</td>\n",
              "      <td>NaN</td>\n",
              "      <td>NaN</td>\n",
              "    </tr>\n",
              "    <tr>\n",
              "      <th>2998</th>\n",
              "      <td>NANTONG CHENGSHI HEAVYINDUSTRY DEVELOP CO.,LTD</td>\n",
              "      <td>CHINA</td>\n",
              "      <td>NaN</td>\n",
              "      <td>NaN</td>\n",
              "      <td>NaN</td>\n",
              "      <td>NaN</td>\n",
              "      <td>NaN</td>\n",
              "    </tr>\n",
              "    <tr>\n",
              "      <th>2999</th>\n",
              "      <td>DAILAN JIANGSAHN HEAVY EQUIPMENT MANUFACTURING CO.,LTD.</td>\n",
              "      <td>CHINA</td>\n",
              "      <td>NaN</td>\n",
              "      <td>NaN</td>\n",
              "      <td>NaN</td>\n",
              "      <td>NaN</td>\n",
              "      <td>NaN</td>\n",
              "    </tr>\n",
              "  </tbody>\n",
              "</table>\n",
              "<p>242 rows × 7 columns</p>\n",
              "</div>"
            ],
            "text/plain": [
              "                                                      Company  ... Company Profile Information\n",
              "3                          BEI JING ESTRABA IMPORT AND EXPORT  ...                         NaN\n",
              "13                CHANGTU COUNTRY LONGXING FERTILIZER CO.,LTD  ...                         NaN\n",
              "35                          ZIBOBOSHANHONGLIWEI MOTOR CO.,LTD  ...                         NaN\n",
              "62         BEIJING DUO MEIDUO SHIYOU PRODUCTS SALES CO., LTD.  ...                         NaN\n",
              "79                                         TRUSVEST SDN. BHD.  ...                         NaN\n",
              "...                                                       ...  ...                         ...\n",
              "2969                                           SPK MW LIMITED  ...                         NaN\n",
              "2978          GUANGXI RONGXIAN LIN YANGBAN INDUSTRY CO., LTD.  ...                         NaN\n",
              "2985                                JOHANES PRAYITNO PRASETYA  ...                         NaN\n",
              "2998           NANTONG CHENGSHI HEAVYINDUSTRY DEVELOP CO.,LTD  ...                         NaN\n",
              "2999  DAILAN JIANGSAHN HEAVY EQUIPMENT MANUFACTURING CO.,LTD.  ...                         NaN\n",
              "\n",
              "[242 rows x 7 columns]"
            ]
          },
          "metadata": {
            "tags": []
          },
          "execution_count": 103
        }
      ]
    },
    {
      "cell_type": "code",
      "metadata": {
        "id": "nrQjbN7uStmr",
        "colab": {
          "base_uri": "https://localhost:8080/",
          "height": 702
        },
        "outputId": "c63fc49f-aad7-4823-ee81-5d16c82fd2f6"
      },
      "source": [
        "# now we get the dataset that are valid\n",
        "df_valid = pd.concat([df_filteredCompanies, empty, empty]).drop_duplicates(keep=False)\n",
        "\n",
        "df_valid"
      ],
      "execution_count": null,
      "outputs": [
        {
          "output_type": "execute_result",
          "data": {
            "text/html": [
              "<div>\n",
              "<style scoped>\n",
              "    .dataframe tbody tr th:only-of-type {\n",
              "        vertical-align: middle;\n",
              "    }\n",
              "\n",
              "    .dataframe tbody tr th {\n",
              "        vertical-align: top;\n",
              "    }\n",
              "\n",
              "    .dataframe thead th {\n",
              "        text-align: right;\n",
              "    }\n",
              "</style>\n",
              "<table border=\"1\" class=\"dataframe\">\n",
              "  <thead>\n",
              "    <tr style=\"text-align: right;\">\n",
              "      <th></th>\n",
              "      <th>Company</th>\n",
              "      <th>Country</th>\n",
              "      <th>Sector</th>\n",
              "      <th>Subsector</th>\n",
              "      <th>Archetype</th>\n",
              "      <th>Valuechain</th>\n",
              "      <th>Company Profile Information</th>\n",
              "    </tr>\n",
              "  </thead>\n",
              "  <tbody>\n",
              "    <tr>\n",
              "      <th>0</th>\n",
              "      <td>AKSORN CHAROEN TAT ACT. CO.,LTD.</td>\n",
              "      <td>THAILAND</td>\n",
              "      <td>TMT</td>\n",
              "      <td>media</td>\n",
              "      <td>media_aggregator/distributor</td>\n",
              "      <td>Midstream</td>\n",
              "      <td>For over 80 years of experience in creating and developing high-quality learning materials has enabled us to provide world-class educational innovation to meet the needs of all teachers, students, institutions and educational authorities.</td>\n",
              "    </tr>\n",
              "    <tr>\n",
              "      <th>1</th>\n",
              "      <td>DONGGUAN SHENGYA CLEANING APPLIAME CO.LTD</td>\n",
              "      <td>CHINA</td>\n",
              "      <td>TMT</td>\n",
              "      <td>consumer electronics</td>\n",
              "      <td>consumer electronics_distributor</td>\n",
              "      <td>Downstream</td>\n",
              "      <td>Yatai's main products cover various cleaning machinery, cleaning agents, cleaning tools, stone maintenance and other cleaning products; cleaning solutions and services include product technical consultation, product customization, employee training, maintenance and so on.\\n</td>\n",
              "    </tr>\n",
              "    <tr>\n",
              "      <th>2</th>\n",
              "      <td>EXIS TECH SDN. BHD.</td>\n",
              "      <td>MALAYSIA</td>\n",
              "      <td>oos</td>\n",
              "      <td>others</td>\n",
              "      <td>others</td>\n",
              "      <td>NaN</td>\n",
              "      <td>In the beginning, it started off by providing technical support for test handlers, then moving into module design and production. Its first, in-house designed, full-fledged handler was introduced in 2008.\\nSince then, the company has designed and produced a wide range of turret and pick-and-place solutions for its customers all over the world.</td>\n",
              "    </tr>\n",
              "    <tr>\n",
              "      <th>4</th>\n",
              "      <td>Aztech Electronics Pte Ltd</td>\n",
              "      <td>SINGAPORE</td>\n",
              "      <td>TMT</td>\n",
              "      <td>consumer electronics</td>\n",
              "      <td>consumer electronics_distributor</td>\n",
              "      <td>Downstream</td>\n",
              "      <td>Being a turnkey, one-stop integrated solutions provider based in Singapore, Aztech is equipped with state-of-the-art equipment, R&amp;D, design, manufacturing and packaging capabilities to deliver a seamless, unified experience. Each and every time. Always striving towards the edge of technology for more than 34 years, we have been building capabilities to serve clients’ manufacturing needs, including the consumer electronics, telecommunications, healthtech, LED lighting, automotive and technology start-up market segments.</td>\n",
              "    </tr>\n",
              "    <tr>\n",
              "      <th>5</th>\n",
              "      <td>TONGDUN INTERNATIONAL PTE LTD</td>\n",
              "      <td>SINGAPORE</td>\n",
              "      <td>tmt</td>\n",
              "      <td>it_services</td>\n",
              "      <td>it_services</td>\n",
              "      <td>midstream</td>\n",
              "      <td>Tongdun Technology is a professional third-party intelligent risk management and decision-making service provider headquartered in Hangzhou, Zhejiang. By integrating artificial intelligence into business scenarios, Tongdun Technology offers solutions in intelligent user analysis, intelligent risk management, intelligent antifraud and intelligent operation to clients from various industries including financial industry, internet business, logistics, healthcare, retail, smart cities and government bodies. Over 10,000 corporate clients have chosen Tongdun Technology’s products and services</td>\n",
              "    </tr>\n",
              "    <tr>\n",
              "      <th>...</th>\n",
              "      <td>...</td>\n",
              "      <td>...</td>\n",
              "      <td>...</td>\n",
              "      <td>...</td>\n",
              "      <td>...</td>\n",
              "      <td>...</td>\n",
              "      <td>...</td>\n",
              "    </tr>\n",
              "    <tr>\n",
              "      <th>2993</th>\n",
              "      <td>MENG HENG CO.,LTD.</td>\n",
              "      <td>THAILAND</td>\n",
              "      <td>OOS</td>\n",
              "      <td>others</td>\n",
              "      <td>others</td>\n",
              "      <td>NaN</td>\n",
              "      <td>Entertainment Affairs</td>\n",
              "    </tr>\n",
              "    <tr>\n",
              "      <th>2994</th>\n",
              "      <td>HIN TATT RECYCLING SDN. BHD.</td>\n",
              "      <td>MALAYSIA</td>\n",
              "      <td>OOS</td>\n",
              "      <td>others</td>\n",
              "      <td>others</td>\n",
              "      <td>NaN</td>\n",
              "      <td>DEALER, MERCHANT AND RECYCLING IN ALL KINDS OF SCRAP MATERIAL, SCRAP METAL AND PAPER, TRANSPORTATION AND OTHER RELATED BUSINESS</td>\n",
              "    </tr>\n",
              "    <tr>\n",
              "      <th>2995</th>\n",
              "      <td>SIN LI TECHNOLOGIES PTE LTD</td>\n",
              "      <td>SINGAPORE</td>\n",
              "      <td>ONG</td>\n",
              "      <td>o&amp;g_service providers/contractors</td>\n",
              "      <td>o&amp;g midstream and downstream service provider</td>\n",
              "      <td>Downstream</td>\n",
              "      <td>MANUFACTURE AND REPAIR OF OTHER OILFIELD AND GASFIELD MACHINERY AND EQUIPMENT (EG DERRICKS, TOOL JOINTS)</td>\n",
              "    </tr>\n",
              "    <tr>\n",
              "      <th>2996</th>\n",
              "      <td>SEE TONG LEE LIMITED PARTNERSHIP</td>\n",
              "      <td>THAILAND</td>\n",
              "      <td>IND</td>\n",
              "      <td>metals and mining</td>\n",
              "      <td>steel distributor</td>\n",
              "      <td>distributor</td>\n",
              "      <td>Business scene, advertising stage. And sells aluminum sheets, steel sheets</td>\n",
              "    </tr>\n",
              "    <tr>\n",
              "      <th>2997</th>\n",
              "      <td>SHENZHEN XIONGFENG STEEL STRUCTURE CO.,LTD</td>\n",
              "      <td>CHINA</td>\n",
              "      <td>IND</td>\n",
              "      <td>metals and mining</td>\n",
              "      <td>steel fabricator</td>\n",
              "      <td>Manufacturer</td>\n",
              "      <td>Shenzhen HX Steel Structure company is one of the largest steel structure fabricator in South- China area. Owing three manufacturing bases separated in Shenzhen、 Dongguan and Huizhou, our annual producing capacity is 30,000 tons.More&gt;&gt;</td>\n",
              "    </tr>\n",
              "  </tbody>\n",
              "</table>\n",
              "<p>2756 rows × 7 columns</p>\n",
              "</div>"
            ],
            "text/plain": [
              "                                         Company  ...                                                                                                                                                                                                                                                                                                                                                                                                                                                                                                                                                                                        Company Profile Information\n",
              "0               AKSORN CHAROEN TAT ACT. CO.,LTD.  ...                                                                                                                                                                                                                                                                                                                                                                     For over 80 years of experience in creating and developing high-quality learning materials has enabled us to provide world-class educational innovation to meet the needs of all teachers, students, institutions and educational authorities.\n",
              "1      DONGGUAN SHENGYA CLEANING APPLIAME CO.LTD  ...                                                                                                                                                                                                                                                                                                                                 Yatai's main products cover various cleaning machinery, cleaning agents, cleaning tools, stone maintenance and other cleaning products; cleaning solutions and services include product technical consultation, product customization, employee training, maintenance and so on.\\n\n",
              "2                            EXIS TECH SDN. BHD.  ...                                                                                                                                                                                                                                                          In the beginning, it started off by providing technical support for test handlers, then moving into module design and production. Its first, in-house designed, full-fledged handler was introduced in 2008.\\nSince then, the company has designed and produced a wide range of turret and pick-and-place solutions for its customers all over the world.\n",
              "4                     Aztech Electronics Pte Ltd  ...                                                                       Being a turnkey, one-stop integrated solutions provider based in Singapore, Aztech is equipped with state-of-the-art equipment, R&D, design, manufacturing and packaging capabilities to deliver a seamless, unified experience. Each and every time. Always striving towards the edge of technology for more than 34 years, we have been building capabilities to serve clients’ manufacturing needs, including the consumer electronics, telecommunications, healthtech, LED lighting, automotive and technology start-up market segments.\n",
              "5                  TONGDUN INTERNATIONAL PTE LTD  ...  Tongdun Technology is a professional third-party intelligent risk management and decision-making service provider headquartered in Hangzhou, Zhejiang. By integrating artificial intelligence into business scenarios, Tongdun Technology offers solutions in intelligent user analysis, intelligent risk management, intelligent antifraud and intelligent operation to clients from various industries including financial industry, internet business, logistics, healthcare, retail, smart cities and government bodies. Over 10,000 corporate clients have chosen Tongdun Technology’s products and services\n",
              "...                                          ...  ...                                                                                                                                                                                                                                                                                                                                                                                                                                                                                                                                                                                                                ...\n",
              "2993                          MENG HENG CO.,LTD.  ...                                                                                                                                                                                                                                                                                                                                                                                                                                                                                                                                                                                              Entertainment Affairs\n",
              "2994                HIN TATT RECYCLING SDN. BHD.  ...                                                                                                                                                                                                                                                                                                                                                                                                                                                                                    DEALER, MERCHANT AND RECYCLING IN ALL KINDS OF SCRAP MATERIAL, SCRAP METAL AND PAPER, TRANSPORTATION AND OTHER RELATED BUSINESS\n",
              "2995                 SIN LI TECHNOLOGIES PTE LTD  ...                                                                                                                                                                                                                                                                                                                                                                                                                                                                                                           MANUFACTURE AND REPAIR OF OTHER OILFIELD AND GASFIELD MACHINERY AND EQUIPMENT (EG DERRICKS, TOOL JOINTS)\n",
              "2996            SEE TONG LEE LIMITED PARTNERSHIP  ...                                                                                                                                                                                                                                                                                                                                                                                                                                                                                                                                         Business scene, advertising stage. And sells aluminum sheets, steel sheets\n",
              "2997  SHENZHEN XIONGFENG STEEL STRUCTURE CO.,LTD  ...                                                                                                                                                                                                                                                                                                                                                                        Shenzhen HX Steel Structure company is one of the largest steel structure fabricator in South- China area. Owing three manufacturing bases separated in Shenzhen、 Dongguan and Huizhou, our annual producing capacity is 30,000 tons.More>>\n",
              "\n",
              "[2756 rows x 7 columns]"
            ]
          },
          "metadata": {
            "tags": []
          },
          "execution_count": 104
        }
      ]
    },
    {
      "cell_type": "code",
      "metadata": {
        "id": "IuYZkLS8fkjV",
        "colab": {
          "base_uri": "https://localhost:8080/"
        },
        "outputId": "bc13b17d-bba7-4315-c1b6-8b85f1417f78"
      },
      "source": [
        "# now we check the count of the total filtered dataset again\n",
        "df_filterCount = df_valid['Company'].count()\n",
        "\n",
        "print('Total number of filtered records:', df_filterCount)"
      ],
      "execution_count": null,
      "outputs": [
        {
          "output_type": "stream",
          "text": [
            "Total number of filtered records: 2756\n"
          ],
          "name": "stdout"
        }
      ]
    },
    {
      "cell_type": "markdown",
      "metadata": {
        "id": "gf69nqOrWr_b"
      },
      "source": [
        "### 3.4. Get graphical overview of dataset\n",
        "\n",
        "---\n",
        "\n",
        "Get visualised information of the dataset to understand the dataset better."
      ]
    },
    {
      "cell_type": "code",
      "metadata": {
        "id": "dRLIFECVS1os",
        "colab": {
          "base_uri": "https://localhost:8080/",
          "height": 769
        },
        "outputId": "c740f78e-372c-4f64-b18c-8fa9d71fe03d"
      },
      "source": [
        "sns.set_style('darkgrid')\n",
        "plt_dims = (30, 13)\n",
        "fig, ax = plt.subplots(figsize=plt_dims)\n",
        "\n",
        "# plot a barplot to see number of companies that belongs to specific sectors\n",
        "sns.countplot(x=\"Sector\", data=df_valid, ax=ax)\n",
        "plt.show()"
      ],
      "execution_count": null,
      "outputs": [
        {
          "output_type": "display_data",
          "data": {
            "image/png": "[encoded data removed]",
            "text/plain": [
              "<Figure size 2160x936 with 1 Axes>"
            ]
          },
          "metadata": {
            "tags": []
          }
        }
      ]
    },
    {
      "cell_type": "markdown",
      "metadata": {
        "id": "1EyLs8d1TfSw"
      },
      "source": [
        "<div class=\"alert alert-block alert-info\">\n",
        "    <b>Analysis Summary:</b> We see that most of the companies comes from the CNI(Construction And Infrastructure), with TMT(Technology, Media and Telecomm) sector.\n",
        "</div>"
      ]
    },
    {
      "cell_type": "code",
      "metadata": {
        "id": "SwMqcB0MStbJ",
        "colab": {
          "base_uri": "https://localhost:8080/",
          "height": 807
        },
        "outputId": "0fae9a27-6c8a-48cc-c72c-104b47445764"
      },
      "source": [
        "# Pie chart\n",
        "labels = list(df_valid['Country'].unique())\n",
        "sizes = list(df_valid['Country'].value_counts())\n",
        "\n",
        "plt_dims = (30, 13)\n",
        "fig1, ax1 = plt.subplots(figsize=plt_dims)\n",
        "ax1.pie(sizes, labels=labels, autopct='%1.1f%%',\n",
        "        shadow=True, startangle=90)\n",
        "# Equal aspect ratio ensures that pie is drawn as a circle\n",
        "ax1.axis('equal')  \n",
        "plt.tight_layout()\n",
        "plt.show()"
      ],
      "execution_count": null,
      "outputs": [
        {
          "output_type": "display_data",
          "data": {
            "image/png": "[encoded data removed]",
            "text/plain": [
              "<Figure size 2160x936 with 1 Axes>"
            ]
          },
          "metadata": {
            "tags": []
          }
        }
      ]
    },
    {
      "cell_type": "markdown",
      "metadata": {
        "id": "A73dge-zZhSD"
      },
      "source": [
        "<div class=\"alert alert-block alert-info\">\n",
        "    <b>Analysis Summary:</b> We see that most of the companies are Singapre-Based companies, followed up by Hong Kong, Indonesia and so on.\n",
        "</div>"
      ]
    },
    {
      "cell_type": "markdown",
      "metadata": {
        "id": "L3bMDdQTfTnX"
      },
      "source": [
        "### 3.5. See examples of company description\n",
        "\n",
        "---\n",
        "\n",
        "We would now like to see some examples of the company descriptions in order to undestand later how to preprocess them later on."
      ]
    },
    {
      "cell_type": "code",
      "metadata": {
        "id": "LBQ4Ml5gfkg7",
        "colab": {
          "base_uri": "https://localhost:8080/"
        },
        "outputId": "8b093729-ef54-43db-bf6d-21325411d4b1"
      },
      "source": [
        "# configurate pandas dataframe to let us see the entire company description IN FULL\n",
        "pd.set_option('display.max_colwidth', None)\n",
        "\n",
        "# get the 1st 50 results and observe\n",
        "df_valid.loc[0:10,'Company Profile Information']"
      ],
      "execution_count": null,
      "outputs": [
        {
          "output_type": "execute_result",
          "data": {
            "text/plain": [
              "0                                                                                                                                                                                                                                                                                                                                                                        For over 80 years of experience in creating and developing high-quality learning materials has enabled us to provide world-class educational innovation to meet the needs of all teachers, students, institutions and educational authorities.\n",
              "1                                                                                                                                                                                                                                                                                                                                    Yatai's main products cover various cleaning machinery, cleaning agents, cleaning tools, stone maintenance and other cleaning products; cleaning solutions and services include product technical consultation, product customization, employee training, maintenance and so on.\\n\n",
              "2                                                                                                                                                                                                                                                             In the beginning, it started off by providing technical support for test handlers, then moving into module design and production. Its first, in-house designed, full-fledged handler was introduced in 2008.\\nSince then, the company has designed and produced a wide range of turret and pick-and-place solutions for its customers all over the world.\n",
              "4                                                                          Being a turnkey, one-stop integrated solutions provider based in Singapore, Aztech is equipped with state-of-the-art equipment, R&D, design, manufacturing and packaging capabilities to deliver a seamless, unified experience. Each and every time. Always striving towards the edge of technology for more than 34 years, we have been building capabilities to serve clients’ manufacturing needs, including the consumer electronics, telecommunications, healthtech, LED lighting, automotive and technology start-up market segments.\n",
              "5     Tongdun Technology is a professional third-party intelligent risk management and decision-making service provider headquartered in Hangzhou, Zhejiang. By integrating artificial intelligence into business scenarios, Tongdun Technology offers solutions in intelligent user analysis, intelligent risk management, intelligent antifraud and intelligent operation to clients from various industries including financial industry, internet business, logistics, healthcare, retail, smart cities and government bodies. Over 10,000 corporate clients have chosen Tongdun Technology’s products and services\n",
              "6                                                                                                                                                                                                                                                                                                                                                                                                  For over 30 years, EMASTIGA has been servicing the construction and the oil and gas industries with distinction.We try our hardest to create win-win situations and value-add to our clients with every transaction.\n",
              "7                                                                                                                                                                                                                                                                                                                                                                                                                                                                                                                                                                                Sales of hydraulic equipment and parts\n",
              "8                                                                                                                                                                                                                                                                                                                                                                                                                                                                                                                                                    WHOLESALE OF TELECOMMUNICATIONS EQUIPMENT (EXCLUDING HANDPHONES)\\n\n",
              "9                                                                                                                                                                                                                                                                                                      For Excelkos, it all started with a far-sighted vision to deliver quality industrial products and solutions to meet the increasing demands of various industries. ​ The vision became a reality in 1988 when the Excelkos Group was established to distribute and provide quality rubber industrial chemicals. ​\n",
              "10                                                                                                                                                                                                                                                                                                                                                                                                                                                       Kum Eng Huat is the authorised dealer for Osram and Philips, as well as a trusted supplier of lighting solutions for major projects with the local government.\n",
              "Name: Company Profile Information, dtype: object"
            ]
          },
          "metadata": {
            "tags": []
          },
          "execution_count": 108
        }
      ]
    },
    {
      "cell_type": "markdown",
      "metadata": {
        "id": "x50UFKzNkezP"
      },
      "source": [
        "<div class=\"alert alert-block alert-info\">\n",
        "    <b>Analysis Summary:</b> We do realise that some of the company profile message have some breaks in between like '\\n'. Now, we will have to take away all these problems so that it is one string of paragraph with no such annotations in betweeen.\n",
        "</div>"
      ]
    },
    {
      "cell_type": "markdown",
      "metadata": {
        "id": "ETEpM1eCk9Cf"
      },
      "source": [
        "---\n",
        "---"
      ]
    },
    {
      "cell_type": "markdown",
      "metadata": {
        "id": "l0rub1v2k-dq"
      },
      "source": [
        "# 4.Data Preprocessing"
      ]
    },
    {
      "cell_type": "markdown",
      "metadata": {
        "id": "ZxCABlrVlDW6"
      },
      "source": [
        "### 4.1. Removing `\\n`\n",
        "\n",
        "---\n",
        "\n",
        "Now, we will like to standardize all the paragraphs such that the are homogenous, before we tokenize the paragraph."
      ]
    },
    {
      "cell_type": "code",
      "metadata": {
        "id": "MAq4hq6XlMBp",
        "colab": {
          "base_uri": "https://localhost:8080/"
        },
        "outputId": "9c50d9c8-bf89-4198-b87c-f50031caabe9"
      },
      "source": [
        "# get rid of the \\n found in the respective descriptions\n",
        "df_valid = df_valid.replace('\\n',' ', regex=True)\n",
        "\n",
        "# now we validate to see if theye are really gone\n",
        "df_valid.loc[0:10,'Company Profile Information']"
      ],
      "execution_count": null,
      "outputs": [
        {
          "output_type": "execute_result",
          "data": {
            "text/plain": [
              "0                                                                                                                                                                                                                                                                                                                                                                        For over 80 years of experience in creating and developing high-quality learning materials has enabled us to provide world-class educational innovation to meet the needs of all teachers, students, institutions and educational authorities.\n",
              "1                                                                                                                                                                                                                                                                                                                                     Yatai's main products cover various cleaning machinery, cleaning agents, cleaning tools, stone maintenance and other cleaning products; cleaning solutions and services include product technical consultation, product customization, employee training, maintenance and so on. \n",
              "2                                                                                                                                                                                                                                                              In the beginning, it started off by providing technical support for test handlers, then moving into module design and production. Its first, in-house designed, full-fledged handler was introduced in 2008. Since then, the company has designed and produced a wide range of turret and pick-and-place solutions for its customers all over the world.\n",
              "4                                                                          Being a turnkey, one-stop integrated solutions provider based in Singapore, Aztech is equipped with state-of-the-art equipment, R&D, design, manufacturing and packaging capabilities to deliver a seamless, unified experience. Each and every time. Always striving towards the edge of technology for more than 34 years, we have been building capabilities to serve clients’ manufacturing needs, including the consumer electronics, telecommunications, healthtech, LED lighting, automotive and technology start-up market segments.\n",
              "5     Tongdun Technology is a professional third-party intelligent risk management and decision-making service provider headquartered in Hangzhou, Zhejiang. By integrating artificial intelligence into business scenarios, Tongdun Technology offers solutions in intelligent user analysis, intelligent risk management, intelligent antifraud and intelligent operation to clients from various industries including financial industry, internet business, logistics, healthcare, retail, smart cities and government bodies. Over 10,000 corporate clients have chosen Tongdun Technology’s products and services\n",
              "6                                                                                                                                                                                                                                                                                                                                                                                                  For over 30 years, EMASTIGA has been servicing the construction and the oil and gas industries with distinction.We try our hardest to create win-win situations and value-add to our clients with every transaction.\n",
              "7                                                                                                                                                                                                                                                                                                                                                                                                                                                                                                                                                                                Sales of hydraulic equipment and parts\n",
              "8                                                                                                                                                                                                                                                                                                                                                                                                                                                                                                                                                     WHOLESALE OF TELECOMMUNICATIONS EQUIPMENT (EXCLUDING HANDPHONES) \n",
              "9                                                                                                                                                                                                                                                                                                      For Excelkos, it all started with a far-sighted vision to deliver quality industrial products and solutions to meet the increasing demands of various industries. ​ The vision became a reality in 1988 when the Excelkos Group was established to distribute and provide quality rubber industrial chemicals. ​\n",
              "10                                                                                                                                                                                                                                                                                                                                                                                                                                                       Kum Eng Huat is the authorised dealer for Osram and Philips, as well as a trusted supplier of lighting solutions for major projects with the local government.\n",
              "Name: Company Profile Information, dtype: object"
            ]
          },
          "metadata": {
            "tags": []
          },
          "execution_count": 109
        }
      ]
    },
    {
      "cell_type": "markdown",
      "metadata": {
        "id": "_UbMqS2dvXeZ"
      },
      "source": [
        "### 4.2. Calculating the word length distribution\n",
        "\n",
        "---\n",
        "\n",
        "Here, we will be calculating the world length distribution of the collective company description."
      ]
    },
    {
      "cell_type": "code",
      "metadata": {
        "id": "uDsrjeimvDl8",
        "colab": {
          "base_uri": "https://localhost:8080/",
          "height": 397
        },
        "outputId": "90c5cc09-1ad5-4677-96e8-b0641b573eff"
      },
      "source": [
        "# first, add in a new column that tabluates the length of the respecive company description\n",
        "df_valid[\"length\"] = df_valid[\"Company Profile Information\"].str.len()\n",
        "df_valid.head()"
      ],
      "execution_count": null,
      "outputs": [
        {
          "output_type": "execute_result",
          "data": {
            "text/html": [
              "<div>\n",
              "<style scoped>\n",
              "    .dataframe tbody tr th:only-of-type {\n",
              "        vertical-align: middle;\n",
              "    }\n",
              "\n",
              "    .dataframe tbody tr th {\n",
              "        vertical-align: top;\n",
              "    }\n",
              "\n",
              "    .dataframe thead th {\n",
              "        text-align: right;\n",
              "    }\n",
              "</style>\n",
              "<table border=\"1\" class=\"dataframe\">\n",
              "  <thead>\n",
              "    <tr style=\"text-align: right;\">\n",
              "      <th></th>\n",
              "      <th>Company</th>\n",
              "      <th>Country</th>\n",
              "      <th>Sector</th>\n",
              "      <th>Subsector</th>\n",
              "      <th>Archetype</th>\n",
              "      <th>Valuechain</th>\n",
              "      <th>Company Profile Information</th>\n",
              "      <th>length</th>\n",
              "    </tr>\n",
              "  </thead>\n",
              "  <tbody>\n",
              "    <tr>\n",
              "      <th>0</th>\n",
              "      <td>AKSORN CHAROEN TAT ACT. CO.,LTD.</td>\n",
              "      <td>THAILAND</td>\n",
              "      <td>TMT</td>\n",
              "      <td>media</td>\n",
              "      <td>media_aggregator/distributor</td>\n",
              "      <td>Midstream</td>\n",
              "      <td>For over 80 years of experience in creating and developing high-quality learning materials has enabled us to provide world-class educational innovation to meet the needs of all teachers, students, institutions and educational authorities.</td>\n",
              "      <td>238.0</td>\n",
              "    </tr>\n",
              "    <tr>\n",
              "      <th>1</th>\n",
              "      <td>DONGGUAN SHENGYA CLEANING APPLIAME CO.LTD</td>\n",
              "      <td>CHINA</td>\n",
              "      <td>TMT</td>\n",
              "      <td>consumer electronics</td>\n",
              "      <td>consumer electronics_distributor</td>\n",
              "      <td>Downstream</td>\n",
              "      <td>Yatai's main products cover various cleaning machinery, cleaning agents, cleaning tools, stone maintenance and other cleaning products; cleaning solutions and services include product technical consultation, product customization, employee training, maintenance and so on.</td>\n",
              "      <td>273.0</td>\n",
              "    </tr>\n",
              "    <tr>\n",
              "      <th>2</th>\n",
              "      <td>EXIS TECH SDN. BHD.</td>\n",
              "      <td>MALAYSIA</td>\n",
              "      <td>oos</td>\n",
              "      <td>others</td>\n",
              "      <td>others</td>\n",
              "      <td>NaN</td>\n",
              "      <td>In the beginning, it started off by providing technical support for test handlers, then moving into module design and production. Its first, in-house designed, full-fledged handler was introduced in 2008. Since then, the company has designed and produced a wide range of turret and pick-and-place solutions for its customers all over the world.</td>\n",
              "      <td>344.0</td>\n",
              "    </tr>\n",
              "    <tr>\n",
              "      <th>4</th>\n",
              "      <td>Aztech Electronics Pte Ltd</td>\n",
              "      <td>SINGAPORE</td>\n",
              "      <td>TMT</td>\n",
              "      <td>consumer electronics</td>\n",
              "      <td>consumer electronics_distributor</td>\n",
              "      <td>Downstream</td>\n",
              "      <td>Being a turnkey, one-stop integrated solutions provider based in Singapore, Aztech is equipped with state-of-the-art equipment, R&amp;D, design, manufacturing and packaging capabilities to deliver a seamless, unified experience. Each and every time. Always striving towards the edge of technology for more than 34 years, we have been building capabilities to serve clients’ manufacturing needs, including the consumer electronics, telecommunications, healthtech, LED lighting, automotive and technology start-up market segments.</td>\n",
              "      <td>524.0</td>\n",
              "    </tr>\n",
              "    <tr>\n",
              "      <th>5</th>\n",
              "      <td>TONGDUN INTERNATIONAL PTE LTD</td>\n",
              "      <td>SINGAPORE</td>\n",
              "      <td>tmt</td>\n",
              "      <td>it_services</td>\n",
              "      <td>it_services</td>\n",
              "      <td>midstream</td>\n",
              "      <td>Tongdun Technology is a professional third-party intelligent risk management and decision-making service provider headquartered in Hangzhou, Zhejiang. By integrating artificial intelligence into business scenarios, Tongdun Technology offers solutions in intelligent user analysis, intelligent risk management, intelligent antifraud and intelligent operation to clients from various industries including financial industry, internet business, logistics, healthcare, retail, smart cities and government bodies. Over 10,000 corporate clients have chosen Tongdun Technology’s products and services</td>\n",
              "      <td>593.0</td>\n",
              "    </tr>\n",
              "  </tbody>\n",
              "</table>\n",
              "</div>"
            ],
            "text/plain": [
              "                                     Company  ... length\n",
              "0           AKSORN CHAROEN TAT ACT. CO.,LTD.  ...  238.0\n",
              "1  DONGGUAN SHENGYA CLEANING APPLIAME CO.LTD  ...  273.0\n",
              "2                        EXIS TECH SDN. BHD.  ...  344.0\n",
              "4                 Aztech Electronics Pte Ltd  ...  524.0\n",
              "5              TONGDUN INTERNATIONAL PTE LTD  ...  593.0\n",
              "\n",
              "[5 rows x 8 columns]"
            ]
          },
          "metadata": {
            "tags": []
          },
          "execution_count": 110
        }
      ]
    },
    {
      "cell_type": "code",
      "metadata": {
        "id": "725S9NxvyZXQ",
        "colab": {
          "base_uri": "https://localhost:8080/",
          "height": 295
        },
        "outputId": "c4e6c5c9-734c-495e-d82f-fe5826f5761d"
      },
      "source": [
        "# now plot a distribution plot to see the word length distribution\n",
        "sns.distplot(df_valid[\"length\"], kde=True)\n",
        "plt.title('Word Length Distribution')\n",
        "plt.show()"
      ],
      "execution_count": null,
      "outputs": [
        {
          "output_type": "display_data",
          "data": {
            "image/png": "[encoded data removed]",
            "text/plain": [
              "<Figure size 432x288 with 1 Axes>"
            ]
          },
          "metadata": {
            "tags": []
          }
        }
      ]
    },
    {
      "cell_type": "markdown",
      "metadata": {
        "id": "ZjI1Z5ogyl6h"
      },
      "source": [
        "<div class=\"alert alert-block alert-info\">\n",
        "    <b>Analysis Summary:</b> We can see that there is a high record of the company description having a total word length of around 200 to 300, while those aboce 800 is very rare.\n",
        "</div>"
      ]
    },
    {
      "cell_type": "markdown",
      "metadata": {
        "id": "OdPgyXL60rqg"
      },
      "source": [
        "### 4.3. Subsample from the entire dataset\n",
        "\n",
        "---\n",
        "\n",
        "We will now subsample a part of the dataset from the entire dataset. This is important as firstly, we need to ensure that our tokenization is working correctly in a smaller scale dataset, since using the entire dataset to do it will be very time consuming."
      ]
    },
    {
      "cell_type": "code",
      "metadata": {
        "id": "OC9h-jIM07v2",
        "colab": {
          "base_uri": "https://localhost:8080/",
          "height": 893
        },
        "outputId": "f4df2032-89b6-4bde-aad0-eed3c603b452"
      },
      "source": [
        "# declare sample size here first (CHANGE IT AS THE TRAINING DATA INCREASES)\n",
        "sample_size = 350\n",
        "\n",
        "# now we will get the data from the restricted range of sample size\n",
        "subsample = df_valid[:sample_size]\n",
        "subsample"
      ],
      "execution_count": null,
      "outputs": [
        {
          "output_type": "execute_result",
          "data": {
            "text/html": [
              "<div>\n",
              "<style scoped>\n",
              "    .dataframe tbody tr th:only-of-type {\n",
              "        vertical-align: middle;\n",
              "    }\n",
              "\n",
              "    .dataframe tbody tr th {\n",
              "        vertical-align: top;\n",
              "    }\n",
              "\n",
              "    .dataframe thead th {\n",
              "        text-align: right;\n",
              "    }\n",
              "</style>\n",
              "<table border=\"1\" class=\"dataframe\">\n",
              "  <thead>\n",
              "    <tr style=\"text-align: right;\">\n",
              "      <th></th>\n",
              "      <th>Company</th>\n",
              "      <th>Country</th>\n",
              "      <th>Sector</th>\n",
              "      <th>Subsector</th>\n",
              "      <th>Archetype</th>\n",
              "      <th>Valuechain</th>\n",
              "      <th>Company Profile Information</th>\n",
              "      <th>length</th>\n",
              "    </tr>\n",
              "  </thead>\n",
              "  <tbody>\n",
              "    <tr>\n",
              "      <th>0</th>\n",
              "      <td>AKSORN CHAROEN TAT ACT. CO.,LTD.</td>\n",
              "      <td>THAILAND</td>\n",
              "      <td>TMT</td>\n",
              "      <td>media</td>\n",
              "      <td>media_aggregator/distributor</td>\n",
              "      <td>Midstream</td>\n",
              "      <td>For over 80 years of experience in creating and developing high-quality learning materials has enabled us to provide world-class educational innovation to meet the needs of all teachers, students, institutions and educational authorities.</td>\n",
              "      <td>238.0</td>\n",
              "    </tr>\n",
              "    <tr>\n",
              "      <th>1</th>\n",
              "      <td>DONGGUAN SHENGYA CLEANING APPLIAME CO.LTD</td>\n",
              "      <td>CHINA</td>\n",
              "      <td>TMT</td>\n",
              "      <td>consumer electronics</td>\n",
              "      <td>consumer electronics_distributor</td>\n",
              "      <td>Downstream</td>\n",
              "      <td>Yatai's main products cover various cleaning machinery, cleaning agents, cleaning tools, stone maintenance and other cleaning products; cleaning solutions and services include product technical consultation, product customization, employee training, maintenance and so on.</td>\n",
              "      <td>273.0</td>\n",
              "    </tr>\n",
              "    <tr>\n",
              "      <th>2</th>\n",
              "      <td>EXIS TECH SDN. BHD.</td>\n",
              "      <td>MALAYSIA</td>\n",
              "      <td>oos</td>\n",
              "      <td>others</td>\n",
              "      <td>others</td>\n",
              "      <td>NaN</td>\n",
              "      <td>In the beginning, it started off by providing technical support for test handlers, then moving into module design and production. Its first, in-house designed, full-fledged handler was introduced in 2008. Since then, the company has designed and produced a wide range of turret and pick-and-place solutions for its customers all over the world.</td>\n",
              "      <td>344.0</td>\n",
              "    </tr>\n",
              "    <tr>\n",
              "      <th>4</th>\n",
              "      <td>Aztech Electronics Pte Ltd</td>\n",
              "      <td>SINGAPORE</td>\n",
              "      <td>TMT</td>\n",
              "      <td>consumer electronics</td>\n",
              "      <td>consumer electronics_distributor</td>\n",
              "      <td>Downstream</td>\n",
              "      <td>Being a turnkey, one-stop integrated solutions provider based in Singapore, Aztech is equipped with state-of-the-art equipment, R&amp;D, design, manufacturing and packaging capabilities to deliver a seamless, unified experience. Each and every time. Always striving towards the edge of technology for more than 34 years, we have been building capabilities to serve clients’ manufacturing needs, including the consumer electronics, telecommunications, healthtech, LED lighting, automotive and technology start-up market segments.</td>\n",
              "      <td>524.0</td>\n",
              "    </tr>\n",
              "    <tr>\n",
              "      <th>5</th>\n",
              "      <td>TONGDUN INTERNATIONAL PTE LTD</td>\n",
              "      <td>SINGAPORE</td>\n",
              "      <td>tmt</td>\n",
              "      <td>it_services</td>\n",
              "      <td>it_services</td>\n",
              "      <td>midstream</td>\n",
              "      <td>Tongdun Technology is a professional third-party intelligent risk management and decision-making service provider headquartered in Hangzhou, Zhejiang. By integrating artificial intelligence into business scenarios, Tongdun Technology offers solutions in intelligent user analysis, intelligent risk management, intelligent antifraud and intelligent operation to clients from various industries including financial industry, internet business, logistics, healthcare, retail, smart cities and government bodies. Over 10,000 corporate clients have chosen Tongdun Technology’s products and services</td>\n",
              "      <td>593.0</td>\n",
              "    </tr>\n",
              "    <tr>\n",
              "      <th>...</th>\n",
              "      <td>...</td>\n",
              "      <td>...</td>\n",
              "      <td>...</td>\n",
              "      <td>...</td>\n",
              "      <td>...</td>\n",
              "      <td>...</td>\n",
              "      <td>...</td>\n",
              "      <td>...</td>\n",
              "    </tr>\n",
              "    <tr>\n",
              "      <th>366</th>\n",
              "      <td>SHOPEE HONG KONG LIMITED</td>\n",
              "      <td>HONG KONG</td>\n",
              "      <td>tmt</td>\n",
              "      <td>digital_business</td>\n",
              "      <td>digital_business</td>\n",
              "      <td>midstream</td>\n",
              "      <td>Shopee is the leading e-commerce platform in Southeast Asia and Taiwan. It is a platform tailored for the region, providing customers with an easy, secure and fast online shopping experience through strong payment and logistical support. Shopee aims to continually enhance its platform and become the region’s e-commerce destination of choice. Shopee has a wide selection of product categories ranging from consumer electronics to home &amp; living, health &amp; beauty, baby &amp; toys, fashion and fitness equipment. Shopee, a Sea company, was first launched in Singapore in 2015, and has since expanded its reach to Malaysia, Thailand, Taiwan, Indonesia, Vietnam and the Philippines. Sea is a leader in digital entertainment, e-commerce and digital financial services across Greater Southeast Asia. Sea’s mission is to better the lives of consumers and small businesses with technology, and is listed on the NYSE under the symbol SE.</td>\n",
              "      <td>924.0</td>\n",
              "    </tr>\n",
              "    <tr>\n",
              "      <th>367</th>\n",
              "      <td>M-LINK SYSTEM (M) SDN. BHD.</td>\n",
              "      <td>MALAYSIA</td>\n",
              "      <td>tmt</td>\n",
              "      <td>consumer electronics</td>\n",
              "      <td>consumer electronics_distributor</td>\n",
              "      <td>downstream</td>\n",
              "      <td>Formed in 1989, and with the rapid growth, the company has incorporated in 1994 as M-LINK SYSTEM (M) SDN BHD, with its headquarter in Petaling Jaya, Selangor and 7 branches located at strategic and important network points of Malaysia. M-Link System (M) Sdn Bhd has forged ahead in its area of specialization – distribution. A leading distributor for information technology products in the country, M-Link System has carved a reputation for strong dealer support and a penchant for product selection. This entails a corporate structure that is based on intimate industry experience, and which also recognizes and caters to the needs of the dealer supply network. It also means that the company is cognizant of the changing market environment and can introduce products in anticipation of strong market demand. M-Link System represents several leading brands and principal vendors recognize that M-Link System forms an important conduit for their products. In essence, M-Link System has proven to be constantly at the forefront of the distribution services with its market knowledge, product expertise and corporate services.</td>\n",
              "      <td>1124.0</td>\n",
              "    </tr>\n",
              "    <tr>\n",
              "      <th>368</th>\n",
              "      <td>BUILDERS 265 PRIVATE LIMITED</td>\n",
              "      <td>SINGAPORE</td>\n",
              "      <td>cni</td>\n",
              "      <td>buildings &amp; industrial</td>\n",
              "      <td>buildings &amp; industrial_contractor</td>\n",
              "      <td>midstream</td>\n",
              "      <td>Singapore Building Contractors, Civil Engineering, Interior Decoration, Construction Contractors, Waterproofing Installation, Civil Engineering Consultants, Civil Engineers, Interior Decoration Contractors, Interior Decorators</td>\n",
              "      <td>226.0</td>\n",
              "    </tr>\n",
              "    <tr>\n",
              "      <th>369</th>\n",
              "      <td>THEPMAHANAKORN CHEMICALS CO.,LTD.</td>\n",
              "      <td>THAILAND</td>\n",
              "      <td>ong</td>\n",
              "      <td>petrochemical</td>\n",
              "      <td>petrochemical_distributor</td>\n",
              "      <td>downstream</td>\n",
              "      <td>Sell ​​all kinds of paints, oil paints, paint mixing oils, paint tools.</td>\n",
              "      <td>71.0</td>\n",
              "    </tr>\n",
              "    <tr>\n",
              "      <th>370</th>\n",
              "      <td>RYOSHO TECHNO SINGAPORE PTE LTD</td>\n",
              "      <td>SINGAPORE</td>\n",
              "      <td>tmt</td>\n",
              "      <td>telecommunication</td>\n",
              "      <td>network equipment supplier</td>\n",
              "      <td>upstream</td>\n",
              "      <td>The Company's line of business includes the wholesale distribution of electronic parts and electronic communications equipment.</td>\n",
              "      <td>128.0</td>\n",
              "    </tr>\n",
              "  </tbody>\n",
              "</table>\n",
              "<p>350 rows × 8 columns</p>\n",
              "</div>"
            ],
            "text/plain": [
              "                                       Company  ...  length\n",
              "0             AKSORN CHAROEN TAT ACT. CO.,LTD.  ...   238.0\n",
              "1    DONGGUAN SHENGYA CLEANING APPLIAME CO.LTD  ...   273.0\n",
              "2                          EXIS TECH SDN. BHD.  ...   344.0\n",
              "4                   Aztech Electronics Pte Ltd  ...   524.0\n",
              "5                TONGDUN INTERNATIONAL PTE LTD  ...   593.0\n",
              "..                                         ...  ...     ...\n",
              "366                   SHOPEE HONG KONG LIMITED  ...   924.0\n",
              "367                M-LINK SYSTEM (M) SDN. BHD.  ...  1124.0\n",
              "368               BUILDERS 265 PRIVATE LIMITED  ...   226.0\n",
              "369          THEPMAHANAKORN CHEMICALS CO.,LTD.  ...    71.0\n",
              "370            RYOSHO TECHNO SINGAPORE PTE LTD  ...   128.0\n",
              "\n",
              "[350 rows x 8 columns]"
            ]
          },
          "metadata": {
            "tags": []
          },
          "execution_count": 112
        }
      ]
    },
    {
      "cell_type": "markdown",
      "metadata": {
        "id": "V2q_t5v3SSq2"
      },
      "source": [
        "### 4.4. Populating Nan cells\n",
        "\n",
        "---\n",
        "\n",
        "We will now have to populate Nan cells with space so that we can carry on and process with text tokenization."
      ]
    },
    {
      "cell_type": "code",
      "metadata": {
        "id": "iAUWZOuMSP7O",
        "colab": {
          "base_uri": "https://localhost:8080/",
          "height": 719
        },
        "outputId": "03e0f939-6aae-41c0-f2b0-40467a10f997"
      },
      "source": [
        "# fill na with space instead of others\n",
        "df_valid.fillna(\" \" ,inplace=True)\n",
        "df_valid"
      ],
      "execution_count": null,
      "outputs": [
        {
          "output_type": "execute_result",
          "data": {
            "text/html": [
              "<div>\n",
              "<style scoped>\n",
              "    .dataframe tbody tr th:only-of-type {\n",
              "        vertical-align: middle;\n",
              "    }\n",
              "\n",
              "    .dataframe tbody tr th {\n",
              "        vertical-align: top;\n",
              "    }\n",
              "\n",
              "    .dataframe thead th {\n",
              "        text-align: right;\n",
              "    }\n",
              "</style>\n",
              "<table border=\"1\" class=\"dataframe\">\n",
              "  <thead>\n",
              "    <tr style=\"text-align: right;\">\n",
              "      <th></th>\n",
              "      <th>Company</th>\n",
              "      <th>Country</th>\n",
              "      <th>Sector</th>\n",
              "      <th>Subsector</th>\n",
              "      <th>Archetype</th>\n",
              "      <th>Valuechain</th>\n",
              "      <th>Company Profile Information</th>\n",
              "      <th>length</th>\n",
              "    </tr>\n",
              "  </thead>\n",
              "  <tbody>\n",
              "    <tr>\n",
              "      <th>0</th>\n",
              "      <td>AKSORN CHAROEN TAT ACT. CO.,LTD.</td>\n",
              "      <td>THAILAND</td>\n",
              "      <td>TMT</td>\n",
              "      <td>media</td>\n",
              "      <td>media_aggregator/distributor</td>\n",
              "      <td>Midstream</td>\n",
              "      <td>For over 80 years of experience in creating and developing high-quality learning materials has enabled us to provide world-class educational innovation to meet the needs of all teachers, students, institutions and educational authorities.</td>\n",
              "      <td>238</td>\n",
              "    </tr>\n",
              "    <tr>\n",
              "      <th>1</th>\n",
              "      <td>DONGGUAN SHENGYA CLEANING APPLIAME CO.LTD</td>\n",
              "      <td>CHINA</td>\n",
              "      <td>TMT</td>\n",
              "      <td>consumer electronics</td>\n",
              "      <td>consumer electronics_distributor</td>\n",
              "      <td>Downstream</td>\n",
              "      <td>Yatai's main products cover various cleaning machinery, cleaning agents, cleaning tools, stone maintenance and other cleaning products; cleaning solutions and services include product technical consultation, product customization, employee training, maintenance and so on.</td>\n",
              "      <td>273</td>\n",
              "    </tr>\n",
              "    <tr>\n",
              "      <th>2</th>\n",
              "      <td>EXIS TECH SDN. BHD.</td>\n",
              "      <td>MALAYSIA</td>\n",
              "      <td>oos</td>\n",
              "      <td>others</td>\n",
              "      <td>others</td>\n",
              "      <td></td>\n",
              "      <td>In the beginning, it started off by providing technical support for test handlers, then moving into module design and production. Its first, in-house designed, full-fledged handler was introduced in 2008. Since then, the company has designed and produced a wide range of turret and pick-and-place solutions for its customers all over the world.</td>\n",
              "      <td>344</td>\n",
              "    </tr>\n",
              "    <tr>\n",
              "      <th>4</th>\n",
              "      <td>Aztech Electronics Pte Ltd</td>\n",
              "      <td>SINGAPORE</td>\n",
              "      <td>TMT</td>\n",
              "      <td>consumer electronics</td>\n",
              "      <td>consumer electronics_distributor</td>\n",
              "      <td>Downstream</td>\n",
              "      <td>Being a turnkey, one-stop integrated solutions provider based in Singapore, Aztech is equipped with state-of-the-art equipment, R&amp;D, design, manufacturing and packaging capabilities to deliver a seamless, unified experience. Each and every time. Always striving towards the edge of technology for more than 34 years, we have been building capabilities to serve clients’ manufacturing needs, including the consumer electronics, telecommunications, healthtech, LED lighting, automotive and technology start-up market segments.</td>\n",
              "      <td>524</td>\n",
              "    </tr>\n",
              "    <tr>\n",
              "      <th>5</th>\n",
              "      <td>TONGDUN INTERNATIONAL PTE LTD</td>\n",
              "      <td>SINGAPORE</td>\n",
              "      <td>tmt</td>\n",
              "      <td>it_services</td>\n",
              "      <td>it_services</td>\n",
              "      <td>midstream</td>\n",
              "      <td>Tongdun Technology is a professional third-party intelligent risk management and decision-making service provider headquartered in Hangzhou, Zhejiang. By integrating artificial intelligence into business scenarios, Tongdun Technology offers solutions in intelligent user analysis, intelligent risk management, intelligent antifraud and intelligent operation to clients from various industries including financial industry, internet business, logistics, healthcare, retail, smart cities and government bodies. Over 10,000 corporate clients have chosen Tongdun Technology’s products and services</td>\n",
              "      <td>593</td>\n",
              "    </tr>\n",
              "    <tr>\n",
              "      <th>...</th>\n",
              "      <td>...</td>\n",
              "      <td>...</td>\n",
              "      <td>...</td>\n",
              "      <td>...</td>\n",
              "      <td>...</td>\n",
              "      <td>...</td>\n",
              "      <td>...</td>\n",
              "      <td>...</td>\n",
              "    </tr>\n",
              "    <tr>\n",
              "      <th>2993</th>\n",
              "      <td>MENG HENG CO.,LTD.</td>\n",
              "      <td>THAILAND</td>\n",
              "      <td>OOS</td>\n",
              "      <td>others</td>\n",
              "      <td>others</td>\n",
              "      <td></td>\n",
              "      <td>Entertainment Affairs</td>\n",
              "      <td>21</td>\n",
              "    </tr>\n",
              "    <tr>\n",
              "      <th>2994</th>\n",
              "      <td>HIN TATT RECYCLING SDN. BHD.</td>\n",
              "      <td>MALAYSIA</td>\n",
              "      <td>OOS</td>\n",
              "      <td>others</td>\n",
              "      <td>others</td>\n",
              "      <td></td>\n",
              "      <td>DEALER, MERCHANT AND RECYCLING IN ALL KINDS OF SCRAP MATERIAL, SCRAP METAL AND PAPER, TRANSPORTATION AND OTHER RELATED BUSINESS</td>\n",
              "      <td>127</td>\n",
              "    </tr>\n",
              "    <tr>\n",
              "      <th>2995</th>\n",
              "      <td>SIN LI TECHNOLOGIES PTE LTD</td>\n",
              "      <td>SINGAPORE</td>\n",
              "      <td>ONG</td>\n",
              "      <td>o&amp;g_service providers/contractors</td>\n",
              "      <td>o&amp;g midstream and downstream service provider</td>\n",
              "      <td>Downstream</td>\n",
              "      <td>MANUFACTURE AND REPAIR OF OTHER OILFIELD AND GASFIELD MACHINERY AND EQUIPMENT (EG DERRICKS, TOOL JOINTS)</td>\n",
              "      <td>104</td>\n",
              "    </tr>\n",
              "    <tr>\n",
              "      <th>2996</th>\n",
              "      <td>SEE TONG LEE LIMITED PARTNERSHIP</td>\n",
              "      <td>THAILAND</td>\n",
              "      <td>IND</td>\n",
              "      <td>metals and mining</td>\n",
              "      <td>steel distributor</td>\n",
              "      <td>distributor</td>\n",
              "      <td>Business scene, advertising stage. And sells aluminum sheets, steel sheets</td>\n",
              "      <td>74</td>\n",
              "    </tr>\n",
              "    <tr>\n",
              "      <th>2997</th>\n",
              "      <td>SHENZHEN XIONGFENG STEEL STRUCTURE CO.,LTD</td>\n",
              "      <td>CHINA</td>\n",
              "      <td>IND</td>\n",
              "      <td>metals and mining</td>\n",
              "      <td>steel fabricator</td>\n",
              "      <td>Manufacturer</td>\n",
              "      <td>Shenzhen HX Steel Structure company is one of the largest steel structure fabricator in South- China area. Owing three manufacturing bases separated in Shenzhen、 Dongguan and Huizhou, our annual producing capacity is 30,000 tons.More&gt;&gt;</td>\n",
              "      <td>236</td>\n",
              "    </tr>\n",
              "  </tbody>\n",
              "</table>\n",
              "<p>2756 rows × 8 columns</p>\n",
              "</div>"
            ],
            "text/plain": [
              "                                         Company  ... length\n",
              "0               AKSORN CHAROEN TAT ACT. CO.,LTD.  ...    238\n",
              "1      DONGGUAN SHENGYA CLEANING APPLIAME CO.LTD  ...    273\n",
              "2                            EXIS TECH SDN. BHD.  ...    344\n",
              "4                     Aztech Electronics Pte Ltd  ...    524\n",
              "5                  TONGDUN INTERNATIONAL PTE LTD  ...    593\n",
              "...                                          ...  ...    ...\n",
              "2993                          MENG HENG CO.,LTD.  ...     21\n",
              "2994                HIN TATT RECYCLING SDN. BHD.  ...    127\n",
              "2995                 SIN LI TECHNOLOGIES PTE LTD  ...    104\n",
              "2996            SEE TONG LEE LIMITED PARTNERSHIP  ...     74\n",
              "2997  SHENZHEN XIONGFENG STEEL STRUCTURE CO.,LTD  ...    236\n",
              "\n",
              "[2756 rows x 8 columns]"
            ]
          },
          "metadata": {
            "tags": []
          },
          "execution_count": 113
        }
      ]
    },
    {
      "cell_type": "markdown",
      "metadata": {
        "id": "KvaDZUtsVIYk"
      },
      "source": [
        "### 4.5. Assigning tags\n",
        "---\n",
        "In this section, we will be assigning tags to every row, so that we can make use of the given keywords for bag-of-words (BoW) processing."
      ]
    },
    {
      "cell_type": "code",
      "metadata": {
        "id": "RMryE61_3L3d",
        "colab": {
          "base_uri": "https://localhost:8080/"
        },
        "outputId": "ad494cf6-95e9-4fbd-c524-d70b9beca493"
      },
      "source": [
        "# Programmatically assign tags to each definition\n",
        "sector_keywords = pd.read_excel('./sector_master_definition.xlsx')\n",
        "df_keywords = sector_keywords[['Sector', 'Subsector', 'Archetype', 'Value Chain', 'Sector Keywords']]\n",
        "\n",
        "# capitalise all tags\n",
        "df_keywords['Value Chain'] = df_keywords['Value Chain'].str.upper()\n",
        "df_keywords.fillna(' ', inplace=True)\n",
        "df_keywords['Sector Keywords'] = df_keywords['Sector Keywords'].str.upper()\n",
        "df_keywords['Sector Keywords'].replace(' ', '[]', inplace=True)\n",
        "\n",
        "# save unique tags, sorted for consistency across runs\n",
        "sector = np.sort(df_keywords['Sector'].unique())\n",
        "subsector = np.sort(df_keywords['Subsector'].unique())\n",
        "archetype = np.sort(df_keywords['Archetype'].unique())\n",
        "valuechain = np.sort(df_keywords['Value Chain'].unique())\n",
        "\n",
        "# save counts for use in model\n",
        "print(len(sector), len(subsector), len(archetype), len(valuechain))\n",
        "tag_counts = [len(sector), len(subsector), len(archetype), len(valuechain)]\n",
        "\n",
        "# assign number tag list to each row\n",
        "taglist = []\n",
        "for index, row in df_keywords.iterrows():\n",
        "    temp = []\n",
        "\n",
        "    temp.append(np.where(sector == row['Sector'])[0][0])\n",
        "    temp.append(np.where(subsector == row['Subsector'])[0][0])\n",
        "    temp.append(np.where(archetype == row['Archetype'])[0][0])\n",
        "    temp.append(np.where(valuechain == row['Value Chain'])[0][0])\n",
        "\n",
        "    taglist.append(temp)\n",
        "\n",
        "# assign completed taglist to column in dataframe\n",
        "df_keywords['list_tag'] = taglist"
      ],
      "execution_count": null,
      "outputs": [
        {
          "output_type": "stream",
          "text": [
            "7 32 92 9\n"
          ],
          "name": "stdout"
        }
      ]
    },
    {
      "cell_type": "code",
      "metadata": {
        "id": "qeY7nEgNAL5n",
        "colab": {
          "base_uri": "https://localhost:8080/"
        },
        "outputId": "e31f3f70-ac2f-43fe-a7d1-91359fadecfa"
      },
      "source": [
        "# process data for homogenity\n",
        "df_valid['Valuechain'] = df_valid['Valuechain'].str.split().str.join(' ')\n",
        "df_valid['Valuechain'] = df_valid['Valuechain'].str.upper()\n",
        "df_valid['Sector'] = df_valid['Sector'].str.upper()\n",
        "df_valid['Valuechain'].replace('', ' ', inplace=True)\n",
        "\n",
        "taglist_df = []\n",
        "# process tags for records\n",
        "for index, row in df_valid.iterrows():\n",
        "    temp = []\n",
        "\n",
        "    try: # for error handling\n",
        "        temp.append(np.where(sector == row['Sector'])[0][0])\n",
        "        temp.append(np.where(subsector == row['Subsector'])[0][0])\n",
        "        temp.append(np.where(archetype == row['Archetype'])[0][0])\n",
        "        temp.append(np.where(valuechain == row['Valuechain'])[0][0])\n",
        "\n",
        "        taglist_df.append(temp)\n",
        "    except:\n",
        "        # drop data if not valid\n",
        "        print(row, '\\n')\n",
        "        df_valid.drop(index, inplace=True)\n",
        "\n",
        "\n",
        "df_valid['list_tag'] = taglist_df\n",
        "\n",
        "df_valid.shape"
      ],
      "execution_count": null,
      "outputs": [
        {
          "output_type": "execute_result",
          "data": {
            "text/plain": [
              "(2747, 9)"
            ]
          },
          "metadata": {
            "tags": []
          },
          "execution_count": 116
        }
      ]
    },
    {
      "cell_type": "markdown",
      "metadata": {
        "id": "vMQVBNOGz4cn"
      },
      "source": [
        "### 4.6. Text Tokenization, Removing Stop Words, punctuations, numbers, stop words and Lower Case\n",
        "\n",
        "---\n",
        "\n",
        "Now we will start to tokenize the word after we have ensure that the text description between the company descriptions are homogenous. In this process, we will also process with stop words, punctuations, numeric figures, lower cap words and lemmatize words all using the spaCy API."
      ]
    },
    {
      "cell_type": "code",
      "metadata": {
        "id": "XM-Q_-iEUgFQ"
      },
      "source": [
        "# we will have to ensure all the dtype of the respective columns are in string and not float for spacy to handle properly, so now we will attempt to convert all into strings\n",
        "columns_to_convert = ['Sector', 'Subsector', 'Archetype', 'Valuechain', 'Company Profile Information']\n",
        "\n",
        "for i in columns_to_convert:\n",
        "  df_valid[i] = df_valid[i].astype(str)"
      ],
      "execution_count": null,
      "outputs": []
    },
    {
      "cell_type": "markdown",
      "metadata": {
        "id": "ihIc0sUPPu_A"
      },
      "source": [
        "Here we will do everything necessary to start up spacy for use in preprocessing the text."
      ]
    },
    {
      "cell_type": "code",
      "metadata": {
        "id": "zf-9naDFAIZq",
        "colab": {
          "base_uri": "https://localhost:8080/"
        },
        "outputId": "04ad3a39-087d-4380-c3a1-6abaff6c7bc1"
      },
      "source": [
        "# import required libraries \n",
        "from spacy.language import Language\n",
        "from spacy.tokens import Doc\n",
        "from spacy.lang.char_classes import ALPHA, ALPHA_LOWER, ALPHA_UPPER, CONCAT_QUOTES, LIST_ELLIPSES, LIST_ICONS\n",
        "from spacy.util import compile_infix_regex\n",
        "\n",
        "# initialise nlp engine\n",
        "nlp = spacy.load(\"en_core_web_lg\")\n",
        "\n",
        "# declare custom properties\n",
        "Doc.set_extension('processed', default=True, force=True)\n",
        "\n",
        "# Modify tokenizer infix patterns\n",
        "infixes = (\n",
        "    LIST_ELLIPSES\n",
        "    + LIST_ICONS\n",
        "    + [\n",
        "        r\"(?<=[0-9])[+\\-\\*^](?=[0-9-])\",\n",
        "        r\"(?<=[{al}{q}])\\.(?=[{au}{q}])\".format(\n",
        "            al=ALPHA_LOWER, au=ALPHA_UPPER, q=CONCAT_QUOTES\n",
        "        ),\n",
        "        r\"(?<=[{a}]),(?=[{a}])\".format(a=ALPHA),\n",
        "        r\"(?<=[{a}0-9])[:<>=/](?=[{a}])\".format(a=ALPHA),\n",
        "    ]\n",
        ")\n",
        "\n",
        "infix_re = compile_infix_regex(infixes)\n",
        "nlp.tokenizer.infix_finditer = infix_re.finditer\n",
        "\n",
        "# custom lemmatizer\n",
        "@Language.component(\"custom_preprocess\")\n",
        "def custom_preprocess(doc):\n",
        "    temp = []\n",
        "\n",
        "    # filter through each token and add to preprocessed text if requirements #\n",
        "    # met.                                                                   #\n",
        "    for t in doc:\n",
        "        if (not t.is_punct and not t.like_num and not t.is_stop and not t.is_digit and not (t.ent_type == 396 or t.ent_type == 397)):\n",
        "            temp.append(t.lemma_.upper())\n",
        "\n",
        "    doc._.processed = temp\n",
        "\n",
        "    return doc\n",
        "\n",
        "# add custom pipeline components to default pipeline\n",
        "nlp.add_pipe('custom_preprocess', last=True)"
      ],
      "execution_count": null,
      "outputs": [
        {
          "output_type": "execute_result",
          "data": {
            "text/plain": [
              "<function __main__.custom_preprocess>"
            ]
          },
          "metadata": {
            "tags": []
          },
          "execution_count": 118
        }
      ]
    },
    {
      "cell_type": "code",
      "metadata": {
        "id": "13bwIYewPsD9"
      },
      "source": [
        "# run the pipeline on data\n",
        "processed_doc = list(nlp.pipe(df_valid['Company Profile Information']))"
      ],
      "execution_count": null,
      "outputs": []
    },
    {
      "cell_type": "code",
      "metadata": {
        "id": "4UaWgX5lZStt",
        "colab": {
          "base_uri": "https://localhost:8080/",
          "height": 1000
        },
        "outputId": "47417cb7-7cab-433b-fd4e-eadac77e7338"
      },
      "source": [
        "# add lemmatised words to dataframe\n",
        "df_valid['processed'] = [doc._.processed for doc in processed_doc]\n",
        "\n",
        "df_valid"
      ],
      "execution_count": null,
      "outputs": [
        {
          "output_type": "execute_result",
          "data": {
            "text/html": [
              "<div>\n",
              "<style scoped>\n",
              "    .dataframe tbody tr th:only-of-type {\n",
              "        vertical-align: middle;\n",
              "    }\n",
              "\n",
              "    .dataframe tbody tr th {\n",
              "        vertical-align: top;\n",
              "    }\n",
              "\n",
              "    .dataframe thead th {\n",
              "        text-align: right;\n",
              "    }\n",
              "</style>\n",
              "<table border=\"1\" class=\"dataframe\">\n",
              "  <thead>\n",
              "    <tr style=\"text-align: right;\">\n",
              "      <th></th>\n",
              "      <th>Company</th>\n",
              "      <th>Country</th>\n",
              "      <th>Sector</th>\n",
              "      <th>Subsector</th>\n",
              "      <th>Archetype</th>\n",
              "      <th>Valuechain</th>\n",
              "      <th>Company Profile Information</th>\n",
              "      <th>length</th>\n",
              "      <th>list_tag</th>\n",
              "      <th>processed</th>\n",
              "    </tr>\n",
              "  </thead>\n",
              "  <tbody>\n",
              "    <tr>\n",
              "      <th>0</th>\n",
              "      <td>AKSORN CHAROEN TAT ACT. CO.,LTD.</td>\n",
              "      <td>THAILAND</td>\n",
              "      <td>TMT</td>\n",
              "      <td>media</td>\n",
              "      <td>media_aggregator/distributor</td>\n",
              "      <td>MIDSTREAM</td>\n",
              "      <td>For over 80 years of experience in creating and developing high-quality learning materials has enabled us to provide world-class educational innovation to meet the needs of all teachers, students, institutions and educational authorities.</td>\n",
              "      <td>238</td>\n",
              "      <td>[6, 18, 49, 5]</td>\n",
              "      <td>[YEAR, EXPERIENCE, CREATE, DEVELOP, HIGH-QUALITY, LEARNING, MATERIAL, ENABLE, PROVIDE, WORLD-CLASS, EDUCATIONAL, INNOVATION, MEET, NEED, TEACHER, STUDENT, INSTITUTION, EDUCATIONAL, AUTHORITY]</td>\n",
              "    </tr>\n",
              "    <tr>\n",
              "      <th>1</th>\n",
              "      <td>DONGGUAN SHENGYA CLEANING APPLIAME CO.LTD</td>\n",
              "      <td>CHINA</td>\n",
              "      <td>TMT</td>\n",
              "      <td>consumer electronics</td>\n",
              "      <td>consumer electronics_distributor</td>\n",
              "      <td>DOWNSTREAM</td>\n",
              "      <td>Yatai's main products cover various cleaning machinery, cleaning agents, cleaning tools, stone maintenance and other cleaning products; cleaning solutions and services include product technical consultation, product customization, employee training, maintenance and so on.</td>\n",
              "      <td>273</td>\n",
              "      <td>[6, 8, 20, 3]</td>\n",
              "      <td>[YATAI, MAIN, PRODUCT, COVER, CLEANING, MACHINERY, CLEAN, AGENT, CLEANING, TOOL, STONE, MAINTENANCE, CLEANING, PRODUCT, CLEAN, SOLUTION, SERVICE, INCLUDE, PRODUCT, TECHNICAL, CONSULTATION, PRODUCT, CUSTOMIZATION, EMPLOYEE, TRAINING, MAINTENANCE]</td>\n",
              "    </tr>\n",
              "    <tr>\n",
              "      <th>2</th>\n",
              "      <td>EXIS TECH SDN. BHD.</td>\n",
              "      <td>MALAYSIA</td>\n",
              "      <td>OOS</td>\n",
              "      <td>others</td>\n",
              "      <td>others</td>\n",
              "      <td></td>\n",
              "      <td>In the beginning, it started off by providing technical support for test handlers, then moving into module design and production. Its first, in-house designed, full-fledged handler was introduced in 2008. Since then, the company has designed and produced a wide range of turret and pick-and-place solutions for its customers all over the world.</td>\n",
              "      <td>344</td>\n",
              "      <td>[4, 24, 64, 0]</td>\n",
              "      <td>[BEGINNING, START, PROVIDE, TECHNICAL, SUPPORT, TEST, HANDLER, MOVE, MODULE, DESIGN, PRODUCTION, IN-HOUSE, DESIGN, FULL-FLEDGED, HANDLER, INTRODUCE, COMPANY, DESIGN, PRODUCE, WIDE, RANGE, TURRET, PICK-AND-PLACE, SOLUTION, CUSTOMER, WORLD]</td>\n",
              "    </tr>\n",
              "    <tr>\n",
              "      <th>4</th>\n",
              "      <td>Aztech Electronics Pte Ltd</td>\n",
              "      <td>SINGAPORE</td>\n",
              "      <td>TMT</td>\n",
              "      <td>consumer electronics</td>\n",
              "      <td>consumer electronics_distributor</td>\n",
              "      <td>DOWNSTREAM</td>\n",
              "      <td>Being a turnkey, one-stop integrated solutions provider based in Singapore, Aztech is equipped with state-of-the-art equipment, R&amp;D, design, manufacturing and packaging capabilities to deliver a seamless, unified experience. Each and every time. Always striving towards the edge of technology for more than 34 years, we have been building capabilities to serve clients’ manufacturing needs, including the consumer electronics, telecommunications, healthtech, LED lighting, automotive and technology start-up market segments.</td>\n",
              "      <td>524</td>\n",
              "      <td>[6, 8, 20, 3]</td>\n",
              "      <td>[TURNKEY, ONE-STOP, INTEGRATED, SOLUTION, PROVIDER, BASE, SINGAPORE, AZTECH, EQUIP, STATE-OF-THE-ART, EQUIPMENT, R&amp;D, DESIGN, MANUFACTURING, PACKAGING, CAPABILITY, DELIVER, SEAMLESS, UNIFIED, EXPERIENCE, TIME, STRIVE, EDGE, TECHNOLOGY, YEAR, BUILD, CAPABILITY, SERVE, CLIENT, MANUFACTURING, NEED, INCLUDE, CONSUMER, ELECTRONIC, TELECOMMUNICATION, HEALTHTECH, LED, LIGHTING, AUTOMOTIVE, TECHNOLOGY, START-UP, MARKET, SEGMENT]</td>\n",
              "    </tr>\n",
              "    <tr>\n",
              "      <th>5</th>\n",
              "      <td>TONGDUN INTERNATIONAL PTE LTD</td>\n",
              "      <td>SINGAPORE</td>\n",
              "      <td>TMT</td>\n",
              "      <td>it_services</td>\n",
              "      <td>it_services</td>\n",
              "      <td>MIDSTREAM</td>\n",
              "      <td>Tongdun Technology is a professional third-party intelligent risk management and decision-making service provider headquartered in Hangzhou, Zhejiang. By integrating artificial intelligence into business scenarios, Tongdun Technology offers solutions in intelligent user analysis, intelligent risk management, intelligent antifraud and intelligent operation to clients from various industries including financial industry, internet business, logistics, healthcare, retail, smart cities and government bodies. Over 10,000 corporate clients have chosen Tongdun Technology’s products and services</td>\n",
              "      <td>593</td>\n",
              "      <td>[6, 17, 46, 5]</td>\n",
              "      <td>[TONGDUN, TECHNOLOGY, PROFESSIONAL, THIRD-PARTY, INTELLIGENT, RISK, MANAGEMENT, DECISION-MAKING, SERVICE, PROVIDER, HEADQUARTER, HANGZHOU, ZHEJIANG, INTEGRATE, ARTIFICIAL, INTELLIGENCE, BUSINESS, SCENARIO, TONGDUN, TECHNOLOGY, OFFER, SOLUTION, INTELLIGENT, USER, ANALYSIS, INTELLIGENT, RISK, MANAGEMENT, INTELLIGENT, ANTIFRAUD, INTELLIGENT, OPERATION, CLIENT, INDUSTRY, INCLUDE, FINANCIAL, INDUSTRY, INTERNET, BUSINESS, LOGISTICS, HEALTHCARE, RETAIL, SMART, CITY, GOVERNMENT, BODY, CORPORATE, CLIENT, CHOOSE, TONGDUN, TECHNOLOGY, PRODUCT, SERVICE]</td>\n",
              "    </tr>\n",
              "    <tr>\n",
              "      <th>...</th>\n",
              "      <td>...</td>\n",
              "      <td>...</td>\n",
              "      <td>...</td>\n",
              "      <td>...</td>\n",
              "      <td>...</td>\n",
              "      <td>...</td>\n",
              "      <td>...</td>\n",
              "      <td>...</td>\n",
              "      <td>...</td>\n",
              "      <td>...</td>\n",
              "    </tr>\n",
              "    <tr>\n",
              "      <th>2993</th>\n",
              "      <td>MENG HENG CO.,LTD.</td>\n",
              "      <td>THAILAND</td>\n",
              "      <td>OOS</td>\n",
              "      <td>others</td>\n",
              "      <td>others</td>\n",
              "      <td></td>\n",
              "      <td>Entertainment Affairs</td>\n",
              "      <td>21</td>\n",
              "      <td>[4, 24, 64, 0]</td>\n",
              "      <td>[ENTERTAINMENT, AFFAIRS]</td>\n",
              "    </tr>\n",
              "    <tr>\n",
              "      <th>2994</th>\n",
              "      <td>HIN TATT RECYCLING SDN. BHD.</td>\n",
              "      <td>MALAYSIA</td>\n",
              "      <td>OOS</td>\n",
              "      <td>others</td>\n",
              "      <td>others</td>\n",
              "      <td></td>\n",
              "      <td>DEALER, MERCHANT AND RECYCLING IN ALL KINDS OF SCRAP MATERIAL, SCRAP METAL AND PAPER, TRANSPORTATION AND OTHER RELATED BUSINESS</td>\n",
              "      <td>127</td>\n",
              "      <td>[4, 24, 64, 0]</td>\n",
              "      <td>[DEALER, MERCHANT, RECYCLING, KIND, SCRAP, MATERIAL, SCRAP, METAL, PAPER, TRANSPORTATION, RELATED, BUSINESS]</td>\n",
              "    </tr>\n",
              "    <tr>\n",
              "      <th>2995</th>\n",
              "      <td>SIN LI TECHNOLOGIES PTE LTD</td>\n",
              "      <td>SINGAPORE</td>\n",
              "      <td>ONG</td>\n",
              "      <td>o&amp;g_service providers/contractors</td>\n",
              "      <td>o&amp;g midstream and downstream service provider</td>\n",
              "      <td>DOWNSTREAM</td>\n",
              "      <td>MANUFACTURE AND REPAIR OF OTHER OILFIELD AND GASFIELD MACHINERY AND EQUIPMENT (EG DERRICKS, TOOL JOINTS)</td>\n",
              "      <td>104</td>\n",
              "      <td>[3, 22, 57, 3]</td>\n",
              "      <td>[MANUFACTURE, REPAIR, OILFIELD, GASFIELD, MACHINERY, EQUIPMENT, EG, DERRICK, TOOL, JOINT]</td>\n",
              "    </tr>\n",
              "    <tr>\n",
              "      <th>2996</th>\n",
              "      <td>SEE TONG LEE LIMITED PARTNERSHIP</td>\n",
              "      <td>THAILAND</td>\n",
              "      <td>IND</td>\n",
              "      <td>metals and mining</td>\n",
              "      <td>steel distributor</td>\n",
              "      <td>DISTRIBUTOR</td>\n",
              "      <td>Business scene, advertising stage. And sells aluminum sheets, steel sheets</td>\n",
              "      <td>74</td>\n",
              "      <td>[2, 19, 81, 2]</td>\n",
              "      <td>[BUSINESS, SCENE, ADVERTISING, STAGE, SELL, ALUMINUM, SHEET, STEEL, SHEET]</td>\n",
              "    </tr>\n",
              "    <tr>\n",
              "      <th>2997</th>\n",
              "      <td>SHENZHEN XIONGFENG STEEL STRUCTURE CO.,LTD</td>\n",
              "      <td>CHINA</td>\n",
              "      <td>IND</td>\n",
              "      <td>metals and mining</td>\n",
              "      <td>steel fabricator</td>\n",
              "      <td>MANUFACTURER</td>\n",
              "      <td>Shenzhen HX Steel Structure company is one of the largest steel structure fabricator in South- China area. Owing three manufacturing bases separated in Shenzhen、 Dongguan and Huizhou, our annual producing capacity is 30,000 tons.More&gt;&gt;</td>\n",
              "      <td>236</td>\n",
              "      <td>[2, 19, 82, 4]</td>\n",
              "      <td>[ , SHENZHEN, HX, STEEL, STRUCTURE, COMPANY, LARGE, STEEL, STRUCTURE, FABRICATOR, SOUTH-, CHINA, AREA, OWE, MANUFACTURING, BASIS, SEPARATE, SHENZHEN, DONGGUAN, HUIZHOU, ANNUAL, PRODUCE, CAPACITY, TON, &gt;, &gt;]</td>\n",
              "    </tr>\n",
              "  </tbody>\n",
              "</table>\n",
              "<p>2747 rows × 10 columns</p>\n",
              "</div>"
            ],
            "text/plain": [
              "                                         Company  ...                                                                                                                                                                                                                                                                                                                                                                                                                                                                                                                                                            processed\n",
              "0               AKSORN CHAROEN TAT ACT. CO.,LTD.  ...                                                                                                                                                                                                                                                                                                                                                                      [YEAR, EXPERIENCE, CREATE, DEVELOP, HIGH-QUALITY, LEARNING, MATERIAL, ENABLE, PROVIDE, WORLD-CLASS, EDUCATIONAL, INNOVATION, MEET, NEED, TEACHER, STUDENT, INSTITUTION, EDUCATIONAL, AUTHORITY]\n",
              "1      DONGGUAN SHENGYA CLEANING APPLIAME CO.LTD  ...                                                                                                                                                                                                                                                                                                                [YATAI, MAIN, PRODUCT, COVER, CLEANING, MACHINERY, CLEAN, AGENT, CLEANING, TOOL, STONE, MAINTENANCE, CLEANING, PRODUCT, CLEAN, SOLUTION, SERVICE, INCLUDE, PRODUCT, TECHNICAL, CONSULTATION, PRODUCT, CUSTOMIZATION, EMPLOYEE, TRAINING, MAINTENANCE]\n",
              "2                            EXIS TECH SDN. BHD.  ...                                                                                                                                                                                                                                                                                                                       [BEGINNING, START, PROVIDE, TECHNICAL, SUPPORT, TEST, HANDLER, MOVE, MODULE, DESIGN, PRODUCTION, IN-HOUSE, DESIGN, FULL-FLEDGED, HANDLER, INTRODUCE, COMPANY, DESIGN, PRODUCE, WIDE, RANGE, TURRET, PICK-AND-PLACE, SOLUTION, CUSTOMER, WORLD]\n",
              "4                     Aztech Electronics Pte Ltd  ...                                                                                                                             [TURNKEY, ONE-STOP, INTEGRATED, SOLUTION, PROVIDER, BASE, SINGAPORE, AZTECH, EQUIP, STATE-OF-THE-ART, EQUIPMENT, R&D, DESIGN, MANUFACTURING, PACKAGING, CAPABILITY, DELIVER, SEAMLESS, UNIFIED, EXPERIENCE, TIME, STRIVE, EDGE, TECHNOLOGY, YEAR, BUILD, CAPABILITY, SERVE, CLIENT, MANUFACTURING, NEED, INCLUDE, CONSUMER, ELECTRONIC, TELECOMMUNICATION, HEALTHTECH, LED, LIGHTING, AUTOMOTIVE, TECHNOLOGY, START-UP, MARKET, SEGMENT]\n",
              "5                  TONGDUN INTERNATIONAL PTE LTD  ...  [TONGDUN, TECHNOLOGY, PROFESSIONAL, THIRD-PARTY, INTELLIGENT, RISK, MANAGEMENT, DECISION-MAKING, SERVICE, PROVIDER, HEADQUARTER, HANGZHOU, ZHEJIANG, INTEGRATE, ARTIFICIAL, INTELLIGENCE, BUSINESS, SCENARIO, TONGDUN, TECHNOLOGY, OFFER, SOLUTION, INTELLIGENT, USER, ANALYSIS, INTELLIGENT, RISK, MANAGEMENT, INTELLIGENT, ANTIFRAUD, INTELLIGENT, OPERATION, CLIENT, INDUSTRY, INCLUDE, FINANCIAL, INDUSTRY, INTERNET, BUSINESS, LOGISTICS, HEALTHCARE, RETAIL, SMART, CITY, GOVERNMENT, BODY, CORPORATE, CLIENT, CHOOSE, TONGDUN, TECHNOLOGY, PRODUCT, SERVICE]\n",
              "...                                          ...  ...                                                                                                                                                                                                                                                                                                                                                                                                                                                                                                                                                                  ...\n",
              "2993                          MENG HENG CO.,LTD.  ...                                                                                                                                                                                                                                                                                                                                                                                                                                                                                                                                             [ENTERTAINMENT, AFFAIRS]\n",
              "2994                HIN TATT RECYCLING SDN. BHD.  ...                                                                                                                                                                                                                                                                                                                                                                                                                                                         [DEALER, MERCHANT, RECYCLING, KIND, SCRAP, MATERIAL, SCRAP, METAL, PAPER, TRANSPORTATION, RELATED, BUSINESS]\n",
              "2995                 SIN LI TECHNOLOGIES PTE LTD  ...                                                                                                                                                                                                                                                                                                                                                                                                                                                                            [MANUFACTURE, REPAIR, OILFIELD, GASFIELD, MACHINERY, EQUIPMENT, EG, DERRICK, TOOL, JOINT]\n",
              "2996            SEE TONG LEE LIMITED PARTNERSHIP  ...                                                                                                                                                                                                                                                                                                                                                                                                                                                                                           [BUSINESS, SCENE, ADVERTISING, STAGE, SELL, ALUMINUM, SHEET, STEEL, SHEET]\n",
              "2997  SHENZHEN XIONGFENG STEEL STRUCTURE CO.,LTD  ...                                                                                                                                                                                                                                                                                                                                                       [ , SHENZHEN, HX, STEEL, STRUCTURE, COMPANY, LARGE, STEEL, STRUCTURE, FABRICATOR, SOUTH-, CHINA, AREA, OWE, MANUFACTURING, BASIS, SEPARATE, SHENZHEN, DONGGUAN, HUIZHOU, ANNUAL, PRODUCE, CAPACITY, TON, >, >]\n",
              "\n",
              "[2747 rows x 10 columns]"
            ]
          },
          "metadata": {
            "tags": []
          },
          "execution_count": 120
        }
      ]
    },
    {
      "cell_type": "markdown",
      "metadata": {
        "id": "oNrfPLrEbXSh"
      },
      "source": [
        "### 4.7. Bag of Words / TF-IDF"
      ]
    },
    {
      "cell_type": "code",
      "metadata": {
        "id": "G1zJBkfx6euk",
        "colab": {
          "base_uri": "https://localhost:8080/"
        },
        "outputId": "11179b4d-98b4-4d41-84c7-897cc3b89fb9"
      },
      "source": [
        "# combine all keywords from all sectors\n",
        "keywords_masterlist = []\n",
        "for index, row in df_keywords.iterrows():\n",
        "    keywords_masterlist += eval(row['Sector Keywords'])\n",
        "\n",
        "# remove extraenous keywords, then sort\n",
        "keywords_masterlist = sorted(list(set(keywords_masterlist)))\n",
        "print(len(keywords_masterlist))"
      ],
      "execution_count": null,
      "outputs": [
        {
          "output_type": "stream",
          "text": [
            "1473\n"
          ],
          "name": "stdout"
        }
      ]
    },
    {
      "cell_type": "code",
      "metadata": {
        "id": "tyzmOri2ZrGl",
        "colab": {
          "base_uri": "https://localhost:8080/",
          "height": 1000
        },
        "outputId": "d8fba30b-7af8-4936-c724-54d8d2de9024"
      },
      "source": [
        "# do bag of words\n",
        "bow_vectors = []\n",
        "for index, row in df_valid.iterrows():\n",
        "    company = row['processed']\n",
        "\n",
        "    dictionary = dict.fromkeys(keywords_masterlist, 0)\n",
        "    for word in company:\n",
        "        if word in keywords_masterlist:\n",
        "            dictionary[word] += 1\n",
        "\n",
        "    # append to dataframe\n",
        "    bow_vectors.append(list(dictionary.values()))\n",
        "\n",
        "    # print(f'{sum(dictionary.values()):>3}/{len(dictionary.values()):<3} |', dictionary.values())\n",
        "\n",
        "df_valid['BoW_vectors'] = bow_vectors\n",
        "\n",
        "df_valid"
      ],
      "execution_count": null,
      "outputs": [
        {
          "output_type": "execute_result",
          "data": {
            "text/html": [
              "<div>\n",
              "<style scoped>\n",
              "    .dataframe tbody tr th:only-of-type {\n",
              "        vertical-align: middle;\n",
              "    }\n",
              "\n",
              "    .dataframe tbody tr th {\n",
              "        vertical-align: top;\n",
              "    }\n",
              "\n",
              "    .dataframe thead th {\n",
              "        text-align: right;\n",
              "    }\n",
              "</style>\n",
              "<table border=\"1\" class=\"dataframe\">\n",
              "  <thead>\n",
              "    <tr style=\"text-align: right;\">\n",
              "      <th></th>\n",
              "      <th>Company</th>\n",
              "      <th>Country</th>\n",
              "      <th>Sector</th>\n",
              "      <th>Subsector</th>\n",
              "      <th>Archetype</th>\n",
              "      <th>Valuechain</th>\n",
              "      <th>Company Profile Information</th>\n",
              "      <th>length</th>\n",
              "      <th>list_tag</th>\n",
              "      <th>processed</th>\n",
              "      <th>BoW_vectors</th>\n",
              "    </tr>\n",
              "  </thead>\n",
              "  <tbody>\n",
              "    <tr>\n",
              "      <th>0</th>\n",
              "      <td>AKSORN CHAROEN TAT ACT. CO.,LTD.</td>\n",
              "      <td>THAILAND</td>\n",
              "      <td>TMT</td>\n",
              "      <td>media</td>\n",
              "      <td>media_aggregator/distributor</td>\n",
              "      <td>MIDSTREAM</td>\n",
              "      <td>For over 80 years of experience in creating and developing high-quality learning materials has enabled us to provide world-class educational innovation to meet the needs of all teachers, students, institutions and educational authorities.</td>\n",
              "      <td>238</td>\n",
              "      <td>[6, 18, 49, 5]</td>\n",
              "      <td>[YEAR, EXPERIENCE, CREATE, DEVELOP, HIGH-QUALITY, LEARNING, MATERIAL, ENABLE, PROVIDE, WORLD-CLASS, EDUCATIONAL, INNOVATION, MEET, NEED, TEACHER, STUDENT, INSTITUTION, EDUCATIONAL, AUTHORITY]</td>\n",
              "      <td>[0, 0, 0, 0, 0, 0, 0, 0, 0, 0, 0, 0, 0, 0, 0, 0, 0, 0, 0, 0, 0, 0, 0, 0, 0, 0, 0, 0, 0, 0, 0, 0, 0, 0, 0, 0, 0, 0, 0, 0, 0, 0, 0, 0, 0, 0, 0, 0, 0, 0, 0, 0, 0, 0, 0, 0, 0, 0, 0, 0, 0, 0, 0, 0, 0, 0, 0, 0, 0, 0, 0, 0, 0, 0, 0, 0, 0, 0, 0, 0, 0, 0, 0, 0, 0, 0, 0, 0, 0, 0, 0, 0, 0, 0, 0, 0, 0, 0, 0, 0, ...]</td>\n",
              "    </tr>\n",
              "    <tr>\n",
              "      <th>1</th>\n",
              "      <td>DONGGUAN SHENGYA CLEANING APPLIAME CO.LTD</td>\n",
              "      <td>CHINA</td>\n",
              "      <td>TMT</td>\n",
              "      <td>consumer electronics</td>\n",
              "      <td>consumer electronics_distributor</td>\n",
              "      <td>DOWNSTREAM</td>\n",
              "      <td>Yatai's main products cover various cleaning machinery, cleaning agents, cleaning tools, stone maintenance and other cleaning products; cleaning solutions and services include product technical consultation, product customization, employee training, maintenance and so on.</td>\n",
              "      <td>273</td>\n",
              "      <td>[6, 8, 20, 3]</td>\n",
              "      <td>[YATAI, MAIN, PRODUCT, COVER, CLEANING, MACHINERY, CLEAN, AGENT, CLEANING, TOOL, STONE, MAINTENANCE, CLEANING, PRODUCT, CLEAN, SOLUTION, SERVICE, INCLUDE, PRODUCT, TECHNICAL, CONSULTATION, PRODUCT, CUSTOMIZATION, EMPLOYEE, TRAINING, MAINTENANCE]</td>\n",
              "      <td>[0, 0, 0, 0, 0, 0, 0, 0, 0, 0, 0, 0, 0, 0, 0, 0, 0, 0, 0, 0, 0, 0, 0, 0, 0, 0, 0, 0, 0, 0, 0, 0, 0, 0, 0, 0, 0, 0, 0, 0, 0, 0, 0, 0, 0, 0, 0, 0, 0, 0, 0, 0, 0, 0, 0, 0, 0, 0, 0, 0, 0, 0, 0, 0, 0, 0, 0, 0, 0, 0, 0, 0, 0, 0, 0, 0, 0, 0, 0, 0, 0, 0, 0, 0, 0, 0, 0, 0, 0, 0, 0, 0, 0, 0, 0, 0, 0, 0, 0, 0, ...]</td>\n",
              "    </tr>\n",
              "    <tr>\n",
              "      <th>2</th>\n",
              "      <td>EXIS TECH SDN. BHD.</td>\n",
              "      <td>MALAYSIA</td>\n",
              "      <td>OOS</td>\n",
              "      <td>others</td>\n",
              "      <td>others</td>\n",
              "      <td></td>\n",
              "      <td>In the beginning, it started off by providing technical support for test handlers, then moving into module design and production. Its first, in-house designed, full-fledged handler was introduced in 2008. Since then, the company has designed and produced a wide range of turret and pick-and-place solutions for its customers all over the world.</td>\n",
              "      <td>344</td>\n",
              "      <td>[4, 24, 64, 0]</td>\n",
              "      <td>[BEGINNING, START, PROVIDE, TECHNICAL, SUPPORT, TEST, HANDLER, MOVE, MODULE, DESIGN, PRODUCTION, IN-HOUSE, DESIGN, FULL-FLEDGED, HANDLER, INTRODUCE, COMPANY, DESIGN, PRODUCE, WIDE, RANGE, TURRET, PICK-AND-PLACE, SOLUTION, CUSTOMER, WORLD]</td>\n",
              "      <td>[0, 0, 0, 0, 0, 0, 0, 0, 0, 0, 0, 0, 0, 0, 0, 0, 0, 0, 0, 0, 0, 0, 0, 0, 0, 0, 0, 0, 0, 0, 0, 0, 0, 0, 0, 0, 0, 0, 0, 0, 0, 0, 0, 0, 0, 0, 0, 0, 0, 0, 0, 0, 0, 0, 0, 0, 0, 0, 0, 0, 0, 0, 0, 0, 0, 0, 0, 0, 0, 0, 0, 0, 0, 0, 0, 0, 0, 0, 0, 0, 0, 0, 0, 0, 0, 0, 0, 0, 0, 0, 0, 0, 0, 0, 0, 0, 0, 0, 0, 0, ...]</td>\n",
              "    </tr>\n",
              "    <tr>\n",
              "      <th>4</th>\n",
              "      <td>Aztech Electronics Pte Ltd</td>\n",
              "      <td>SINGAPORE</td>\n",
              "      <td>TMT</td>\n",
              "      <td>consumer electronics</td>\n",
              "      <td>consumer electronics_distributor</td>\n",
              "      <td>DOWNSTREAM</td>\n",
              "      <td>Being a turnkey, one-stop integrated solutions provider based in Singapore, Aztech is equipped with state-of-the-art equipment, R&amp;D, design, manufacturing and packaging capabilities to deliver a seamless, unified experience. Each and every time. Always striving towards the edge of technology for more than 34 years, we have been building capabilities to serve clients’ manufacturing needs, including the consumer electronics, telecommunications, healthtech, LED lighting, automotive and technology start-up market segments.</td>\n",
              "      <td>524</td>\n",
              "      <td>[6, 8, 20, 3]</td>\n",
              "      <td>[TURNKEY, ONE-STOP, INTEGRATED, SOLUTION, PROVIDER, BASE, SINGAPORE, AZTECH, EQUIP, STATE-OF-THE-ART, EQUIPMENT, R&amp;D, DESIGN, MANUFACTURING, PACKAGING, CAPABILITY, DELIVER, SEAMLESS, UNIFIED, EXPERIENCE, TIME, STRIVE, EDGE, TECHNOLOGY, YEAR, BUILD, CAPABILITY, SERVE, CLIENT, MANUFACTURING, NEED, INCLUDE, CONSUMER, ELECTRONIC, TELECOMMUNICATION, HEALTHTECH, LED, LIGHTING, AUTOMOTIVE, TECHNOLOGY, START-UP, MARKET, SEGMENT]</td>\n",
              "      <td>[0, 0, 0, 0, 0, 0, 0, 0, 0, 0, 0, 0, 0, 0, 0, 0, 0, 0, 0, 0, 0, 0, 0, 0, 0, 0, 0, 0, 0, 0, 0, 0, 0, 0, 0, 0, 0, 0, 0, 0, 0, 0, 0, 0, 0, 0, 0, 0, 0, 0, 0, 0, 0, 0, 0, 0, 0, 0, 0, 0, 0, 0, 0, 0, 0, 0, 0, 0, 0, 0, 0, 0, 0, 0, 0, 0, 0, 0, 0, 0, 0, 0, 0, 0, 0, 0, 0, 0, 0, 0, 0, 0, 0, 0, 0, 0, 0, 0, 0, 0, ...]</td>\n",
              "    </tr>\n",
              "    <tr>\n",
              "      <th>5</th>\n",
              "      <td>TONGDUN INTERNATIONAL PTE LTD</td>\n",
              "      <td>SINGAPORE</td>\n",
              "      <td>TMT</td>\n",
              "      <td>it_services</td>\n",
              "      <td>it_services</td>\n",
              "      <td>MIDSTREAM</td>\n",
              "      <td>Tongdun Technology is a professional third-party intelligent risk management and decision-making service provider headquartered in Hangzhou, Zhejiang. By integrating artificial intelligence into business scenarios, Tongdun Technology offers solutions in intelligent user analysis, intelligent risk management, intelligent antifraud and intelligent operation to clients from various industries including financial industry, internet business, logistics, healthcare, retail, smart cities and government bodies. Over 10,000 corporate clients have chosen Tongdun Technology’s products and services</td>\n",
              "      <td>593</td>\n",
              "      <td>[6, 17, 46, 5]</td>\n",
              "      <td>[TONGDUN, TECHNOLOGY, PROFESSIONAL, THIRD-PARTY, INTELLIGENT, RISK, MANAGEMENT, DECISION-MAKING, SERVICE, PROVIDER, HEADQUARTER, HANGZHOU, ZHEJIANG, INTEGRATE, ARTIFICIAL, INTELLIGENCE, BUSINESS, SCENARIO, TONGDUN, TECHNOLOGY, OFFER, SOLUTION, INTELLIGENT, USER, ANALYSIS, INTELLIGENT, RISK, MANAGEMENT, INTELLIGENT, ANTIFRAUD, INTELLIGENT, OPERATION, CLIENT, INDUSTRY, INCLUDE, FINANCIAL, INDUSTRY, INTERNET, BUSINESS, LOGISTICS, HEALTHCARE, RETAIL, SMART, CITY, GOVERNMENT, BODY, CORPORATE, CLIENT, CHOOSE, TONGDUN, TECHNOLOGY, PRODUCT, SERVICE]</td>\n",
              "      <td>[0, 0, 0, 0, 0, 0, 0, 0, 0, 0, 0, 0, 0, 0, 0, 0, 0, 0, 0, 0, 0, 0, 0, 0, 0, 0, 0, 0, 0, 0, 0, 0, 0, 0, 0, 0, 0, 0, 0, 0, 0, 0, 0, 0, 0, 0, 0, 0, 0, 0, 0, 0, 0, 0, 0, 0, 0, 0, 0, 0, 0, 0, 0, 0, 0, 0, 0, 0, 0, 0, 0, 0, 0, 0, 0, 0, 0, 0, 0, 0, 0, 0, 0, 0, 0, 0, 0, 0, 0, 0, 0, 0, 0, 0, 0, 0, 0, 0, 0, 0, ...]</td>\n",
              "    </tr>\n",
              "    <tr>\n",
              "      <th>...</th>\n",
              "      <td>...</td>\n",
              "      <td>...</td>\n",
              "      <td>...</td>\n",
              "      <td>...</td>\n",
              "      <td>...</td>\n",
              "      <td>...</td>\n",
              "      <td>...</td>\n",
              "      <td>...</td>\n",
              "      <td>...</td>\n",
              "      <td>...</td>\n",
              "      <td>...</td>\n",
              "    </tr>\n",
              "    <tr>\n",
              "      <th>2993</th>\n",
              "      <td>MENG HENG CO.,LTD.</td>\n",
              "      <td>THAILAND</td>\n",
              "      <td>OOS</td>\n",
              "      <td>others</td>\n",
              "      <td>others</td>\n",
              "      <td></td>\n",
              "      <td>Entertainment Affairs</td>\n",
              "      <td>21</td>\n",
              "      <td>[4, 24, 64, 0]</td>\n",
              "      <td>[ENTERTAINMENT, AFFAIRS]</td>\n",
              "      <td>[0, 0, 0, 0, 0, 0, 0, 0, 0, 0, 0, 0, 0, 0, 0, 0, 0, 0, 0, 0, 0, 0, 0, 0, 0, 0, 0, 0, 0, 0, 0, 0, 0, 0, 0, 0, 0, 0, 0, 0, 0, 0, 0, 0, 0, 0, 0, 0, 0, 0, 0, 0, 0, 0, 0, 0, 0, 0, 0, 0, 0, 0, 0, 0, 0, 0, 0, 0, 0, 0, 0, 0, 0, 0, 0, 0, 0, 0, 0, 0, 0, 0, 0, 0, 0, 0, 0, 0, 0, 0, 0, 0, 0, 0, 0, 0, 0, 0, 0, 0, ...]</td>\n",
              "    </tr>\n",
              "    <tr>\n",
              "      <th>2994</th>\n",
              "      <td>HIN TATT RECYCLING SDN. BHD.</td>\n",
              "      <td>MALAYSIA</td>\n",
              "      <td>OOS</td>\n",
              "      <td>others</td>\n",
              "      <td>others</td>\n",
              "      <td></td>\n",
              "      <td>DEALER, MERCHANT AND RECYCLING IN ALL KINDS OF SCRAP MATERIAL, SCRAP METAL AND PAPER, TRANSPORTATION AND OTHER RELATED BUSINESS</td>\n",
              "      <td>127</td>\n",
              "      <td>[4, 24, 64, 0]</td>\n",
              "      <td>[DEALER, MERCHANT, RECYCLING, KIND, SCRAP, MATERIAL, SCRAP, METAL, PAPER, TRANSPORTATION, RELATED, BUSINESS]</td>\n",
              "      <td>[0, 0, 0, 0, 0, 0, 0, 0, 0, 0, 0, 0, 0, 0, 0, 0, 0, 0, 0, 0, 0, 0, 0, 0, 0, 0, 0, 0, 0, 0, 0, 0, 0, 0, 0, 0, 0, 0, 0, 0, 0, 0, 0, 0, 0, 0, 0, 0, 0, 0, 0, 0, 0, 0, 0, 0, 0, 0, 0, 0, 0, 0, 0, 0, 0, 0, 0, 0, 0, 0, 0, 0, 0, 0, 0, 0, 0, 0, 0, 0, 0, 0, 0, 0, 0, 0, 0, 0, 0, 0, 0, 0, 0, 0, 0, 0, 0, 0, 0, 0, ...]</td>\n",
              "    </tr>\n",
              "    <tr>\n",
              "      <th>2995</th>\n",
              "      <td>SIN LI TECHNOLOGIES PTE LTD</td>\n",
              "      <td>SINGAPORE</td>\n",
              "      <td>ONG</td>\n",
              "      <td>o&amp;g_service providers/contractors</td>\n",
              "      <td>o&amp;g midstream and downstream service provider</td>\n",
              "      <td>DOWNSTREAM</td>\n",
              "      <td>MANUFACTURE AND REPAIR OF OTHER OILFIELD AND GASFIELD MACHINERY AND EQUIPMENT (EG DERRICKS, TOOL JOINTS)</td>\n",
              "      <td>104</td>\n",
              "      <td>[3, 22, 57, 3]</td>\n",
              "      <td>[MANUFACTURE, REPAIR, OILFIELD, GASFIELD, MACHINERY, EQUIPMENT, EG, DERRICK, TOOL, JOINT]</td>\n",
              "      <td>[0, 0, 0, 0, 0, 0, 0, 0, 0, 0, 0, 0, 0, 0, 0, 0, 0, 0, 0, 0, 0, 0, 0, 0, 0, 0, 0, 0, 0, 0, 0, 0, 0, 0, 0, 0, 0, 0, 0, 0, 0, 0, 0, 0, 0, 0, 0, 0, 0, 0, 0, 0, 0, 0, 0, 0, 0, 0, 0, 0, 0, 0, 0, 0, 0, 0, 0, 0, 0, 0, 0, 0, 0, 0, 0, 0, 0, 0, 0, 0, 0, 0, 0, 0, 0, 0, 0, 0, 0, 0, 0, 0, 0, 0, 0, 0, 0, 0, 0, 0, ...]</td>\n",
              "    </tr>\n",
              "    <tr>\n",
              "      <th>2996</th>\n",
              "      <td>SEE TONG LEE LIMITED PARTNERSHIP</td>\n",
              "      <td>THAILAND</td>\n",
              "      <td>IND</td>\n",
              "      <td>metals and mining</td>\n",
              "      <td>steel distributor</td>\n",
              "      <td>DISTRIBUTOR</td>\n",
              "      <td>Business scene, advertising stage. And sells aluminum sheets, steel sheets</td>\n",
              "      <td>74</td>\n",
              "      <td>[2, 19, 81, 2]</td>\n",
              "      <td>[BUSINESS, SCENE, ADVERTISING, STAGE, SELL, ALUMINUM, SHEET, STEEL, SHEET]</td>\n",
              "      <td>[0, 0, 0, 0, 0, 0, 0, 0, 0, 0, 0, 0, 0, 0, 0, 0, 0, 0, 0, 0, 0, 0, 0, 0, 0, 0, 0, 0, 0, 0, 0, 0, 0, 0, 0, 0, 0, 0, 0, 0, 0, 0, 1, 0, 0, 0, 0, 0, 0, 0, 0, 0, 0, 0, 0, 0, 0, 0, 0, 0, 0, 0, 0, 0, 0, 0, 0, 0, 0, 0, 0, 0, 0, 0, 0, 0, 0, 0, 0, 0, 0, 0, 0, 0, 0, 0, 0, 0, 0, 0, 0, 0, 0, 0, 0, 0, 0, 0, 0, 0, ...]</td>\n",
              "    </tr>\n",
              "    <tr>\n",
              "      <th>2997</th>\n",
              "      <td>SHENZHEN XIONGFENG STEEL STRUCTURE CO.,LTD</td>\n",
              "      <td>CHINA</td>\n",
              "      <td>IND</td>\n",
              "      <td>metals and mining</td>\n",
              "      <td>steel fabricator</td>\n",
              "      <td>MANUFACTURER</td>\n",
              "      <td>Shenzhen HX Steel Structure company is one of the largest steel structure fabricator in South- China area. Owing three manufacturing bases separated in Shenzhen、 Dongguan and Huizhou, our annual producing capacity is 30,000 tons.More&gt;&gt;</td>\n",
              "      <td>236</td>\n",
              "      <td>[2, 19, 82, 4]</td>\n",
              "      <td>[ , SHENZHEN, HX, STEEL, STRUCTURE, COMPANY, LARGE, STEEL, STRUCTURE, FABRICATOR, SOUTH-, CHINA, AREA, OWE, MANUFACTURING, BASIS, SEPARATE, SHENZHEN, DONGGUAN, HUIZHOU, ANNUAL, PRODUCE, CAPACITY, TON, &gt;, &gt;]</td>\n",
              "      <td>[0, 0, 0, 0, 0, 0, 0, 0, 0, 0, 0, 0, 0, 0, 0, 0, 0, 0, 0, 0, 0, 0, 0, 0, 0, 0, 0, 0, 0, 0, 0, 0, 0, 0, 0, 0, 0, 0, 0, 0, 0, 0, 0, 0, 0, 0, 0, 0, 0, 0, 0, 0, 0, 0, 0, 0, 0, 0, 0, 0, 0, 0, 0, 0, 0, 0, 0, 0, 0, 0, 0, 0, 0, 0, 0, 0, 0, 0, 0, 0, 0, 0, 0, 0, 0, 0, 0, 0, 0, 0, 0, 0, 0, 0, 0, 0, 0, 0, 0, 0, ...]</td>\n",
              "    </tr>\n",
              "  </tbody>\n",
              "</table>\n",
              "<p>2747 rows × 11 columns</p>\n",
              "</div>"
            ],
            "text/plain": [
              "                                         Company  ...                                                                                                                                                                                                                                                                                                        BoW_vectors\n",
              "0               AKSORN CHAROEN TAT ACT. CO.,LTD.  ...  [0, 0, 0, 0, 0, 0, 0, 0, 0, 0, 0, 0, 0, 0, 0, 0, 0, 0, 0, 0, 0, 0, 0, 0, 0, 0, 0, 0, 0, 0, 0, 0, 0, 0, 0, 0, 0, 0, 0, 0, 0, 0, 0, 0, 0, 0, 0, 0, 0, 0, 0, 0, 0, 0, 0, 0, 0, 0, 0, 0, 0, 0, 0, 0, 0, 0, 0, 0, 0, 0, 0, 0, 0, 0, 0, 0, 0, 0, 0, 0, 0, 0, 0, 0, 0, 0, 0, 0, 0, 0, 0, 0, 0, 0, 0, 0, 0, 0, 0, 0, ...]\n",
              "1      DONGGUAN SHENGYA CLEANING APPLIAME CO.LTD  ...  [0, 0, 0, 0, 0, 0, 0, 0, 0, 0, 0, 0, 0, 0, 0, 0, 0, 0, 0, 0, 0, 0, 0, 0, 0, 0, 0, 0, 0, 0, 0, 0, 0, 0, 0, 0, 0, 0, 0, 0, 0, 0, 0, 0, 0, 0, 0, 0, 0, 0, 0, 0, 0, 0, 0, 0, 0, 0, 0, 0, 0, 0, 0, 0, 0, 0, 0, 0, 0, 0, 0, 0, 0, 0, 0, 0, 0, 0, 0, 0, 0, 0, 0, 0, 0, 0, 0, 0, 0, 0, 0, 0, 0, 0, 0, 0, 0, 0, 0, 0, ...]\n",
              "2                            EXIS TECH SDN. BHD.  ...  [0, 0, 0, 0, 0, 0, 0, 0, 0, 0, 0, 0, 0, 0, 0, 0, 0, 0, 0, 0, 0, 0, 0, 0, 0, 0, 0, 0, 0, 0, 0, 0, 0, 0, 0, 0, 0, 0, 0, 0, 0, 0, 0, 0, 0, 0, 0, 0, 0, 0, 0, 0, 0, 0, 0, 0, 0, 0, 0, 0, 0, 0, 0, 0, 0, 0, 0, 0, 0, 0, 0, 0, 0, 0, 0, 0, 0, 0, 0, 0, 0, 0, 0, 0, 0, 0, 0, 0, 0, 0, 0, 0, 0, 0, 0, 0, 0, 0, 0, 0, ...]\n",
              "4                     Aztech Electronics Pte Ltd  ...  [0, 0, 0, 0, 0, 0, 0, 0, 0, 0, 0, 0, 0, 0, 0, 0, 0, 0, 0, 0, 0, 0, 0, 0, 0, 0, 0, 0, 0, 0, 0, 0, 0, 0, 0, 0, 0, 0, 0, 0, 0, 0, 0, 0, 0, 0, 0, 0, 0, 0, 0, 0, 0, 0, 0, 0, 0, 0, 0, 0, 0, 0, 0, 0, 0, 0, 0, 0, 0, 0, 0, 0, 0, 0, 0, 0, 0, 0, 0, 0, 0, 0, 0, 0, 0, 0, 0, 0, 0, 0, 0, 0, 0, 0, 0, 0, 0, 0, 0, 0, ...]\n",
              "5                  TONGDUN INTERNATIONAL PTE LTD  ...  [0, 0, 0, 0, 0, 0, 0, 0, 0, 0, 0, 0, 0, 0, 0, 0, 0, 0, 0, 0, 0, 0, 0, 0, 0, 0, 0, 0, 0, 0, 0, 0, 0, 0, 0, 0, 0, 0, 0, 0, 0, 0, 0, 0, 0, 0, 0, 0, 0, 0, 0, 0, 0, 0, 0, 0, 0, 0, 0, 0, 0, 0, 0, 0, 0, 0, 0, 0, 0, 0, 0, 0, 0, 0, 0, 0, 0, 0, 0, 0, 0, 0, 0, 0, 0, 0, 0, 0, 0, 0, 0, 0, 0, 0, 0, 0, 0, 0, 0, 0, ...]\n",
              "...                                          ...  ...                                                                                                                                                                                                                                                                                                                ...\n",
              "2993                          MENG HENG CO.,LTD.  ...  [0, 0, 0, 0, 0, 0, 0, 0, 0, 0, 0, 0, 0, 0, 0, 0, 0, 0, 0, 0, 0, 0, 0, 0, 0, 0, 0, 0, 0, 0, 0, 0, 0, 0, 0, 0, 0, 0, 0, 0, 0, 0, 0, 0, 0, 0, 0, 0, 0, 0, 0, 0, 0, 0, 0, 0, 0, 0, 0, 0, 0, 0, 0, 0, 0, 0, 0, 0, 0, 0, 0, 0, 0, 0, 0, 0, 0, 0, 0, 0, 0, 0, 0, 0, 0, 0, 0, 0, 0, 0, 0, 0, 0, 0, 0, 0, 0, 0, 0, 0, ...]\n",
              "2994                HIN TATT RECYCLING SDN. BHD.  ...  [0, 0, 0, 0, 0, 0, 0, 0, 0, 0, 0, 0, 0, 0, 0, 0, 0, 0, 0, 0, 0, 0, 0, 0, 0, 0, 0, 0, 0, 0, 0, 0, 0, 0, 0, 0, 0, 0, 0, 0, 0, 0, 0, 0, 0, 0, 0, 0, 0, 0, 0, 0, 0, 0, 0, 0, 0, 0, 0, 0, 0, 0, 0, 0, 0, 0, 0, 0, 0, 0, 0, 0, 0, 0, 0, 0, 0, 0, 0, 0, 0, 0, 0, 0, 0, 0, 0, 0, 0, 0, 0, 0, 0, 0, 0, 0, 0, 0, 0, 0, ...]\n",
              "2995                 SIN LI TECHNOLOGIES PTE LTD  ...  [0, 0, 0, 0, 0, 0, 0, 0, 0, 0, 0, 0, 0, 0, 0, 0, 0, 0, 0, 0, 0, 0, 0, 0, 0, 0, 0, 0, 0, 0, 0, 0, 0, 0, 0, 0, 0, 0, 0, 0, 0, 0, 0, 0, 0, 0, 0, 0, 0, 0, 0, 0, 0, 0, 0, 0, 0, 0, 0, 0, 0, 0, 0, 0, 0, 0, 0, 0, 0, 0, 0, 0, 0, 0, 0, 0, 0, 0, 0, 0, 0, 0, 0, 0, 0, 0, 0, 0, 0, 0, 0, 0, 0, 0, 0, 0, 0, 0, 0, 0, ...]\n",
              "2996            SEE TONG LEE LIMITED PARTNERSHIP  ...  [0, 0, 0, 0, 0, 0, 0, 0, 0, 0, 0, 0, 0, 0, 0, 0, 0, 0, 0, 0, 0, 0, 0, 0, 0, 0, 0, 0, 0, 0, 0, 0, 0, 0, 0, 0, 0, 0, 0, 0, 0, 0, 1, 0, 0, 0, 0, 0, 0, 0, 0, 0, 0, 0, 0, 0, 0, 0, 0, 0, 0, 0, 0, 0, 0, 0, 0, 0, 0, 0, 0, 0, 0, 0, 0, 0, 0, 0, 0, 0, 0, 0, 0, 0, 0, 0, 0, 0, 0, 0, 0, 0, 0, 0, 0, 0, 0, 0, 0, 0, ...]\n",
              "2997  SHENZHEN XIONGFENG STEEL STRUCTURE CO.,LTD  ...  [0, 0, 0, 0, 0, 0, 0, 0, 0, 0, 0, 0, 0, 0, 0, 0, 0, 0, 0, 0, 0, 0, 0, 0, 0, 0, 0, 0, 0, 0, 0, 0, 0, 0, 0, 0, 0, 0, 0, 0, 0, 0, 0, 0, 0, 0, 0, 0, 0, 0, 0, 0, 0, 0, 0, 0, 0, 0, 0, 0, 0, 0, 0, 0, 0, 0, 0, 0, 0, 0, 0, 0, 0, 0, 0, 0, 0, 0, 0, 0, 0, 0, 0, 0, 0, 0, 0, 0, 0, 0, 0, 0, 0, 0, 0, 0, 0, 0, 0, 0, ...]\n",
              "\n",
              "[2747 rows x 11 columns]"
            ]
          },
          "metadata": {
            "tags": []
          },
          "execution_count": 122
        }
      ]
    },
    {
      "cell_type": "code",
      "metadata": {
        "id": "GynU6j-bLgdn",
        "colab": {
          "base_uri": "https://localhost:8080/"
        },
        "outputId": "159d9ca9-7145-4a2a-c58b-9317ac63ab02"
      },
      "source": [
        "# clean up BoW data \n",
        "temp = 0\n",
        "for index, row in df_valid.iterrows():\n",
        "    if sum(row['BoW_vectors']) < 1:\n",
        "        df_valid.drop(index, inplace=True)\n",
        "\n",
        "df_valid.shape"
      ],
      "execution_count": null,
      "outputs": [
        {
          "output_type": "execute_result",
          "data": {
            "text/plain": [
              "(2001, 11)"
            ]
          },
          "metadata": {
            "tags": []
          },
          "execution_count": 123
        }
      ]
    },
    {
      "cell_type": "markdown",
      "metadata": {
        "id": "uXPxFhqqgX9f"
      },
      "source": [
        "# 5.Models\n",
        "---\n",
        "Here we will train the model that will help categorize each company."
      ]
    },
    {
      "cell_type": "markdown",
      "metadata": {
        "id": "QhjAJFR4NOq9"
      },
      "source": [
        "### 5.1. Training Models"
      ]
    },
    {
      "cell_type": "code",
      "metadata": {
        "id": "hi2lRa6pgWtj",
        "colab": {
          "base_uri": "https://localhost:8080/"
        },
        "outputId": "79b01902-8691-4ef4-e5f8-3697815a6dde"
      },
      "source": [
        "import keras\n",
        "\n",
        "print('--- Version Checking ---')\n",
        "print(\"Keras:\", keras.__version__)"
      ],
      "execution_count": null,
      "outputs": [
        {
          "output_type": "stream",
          "text": [
            "--- Version Checking ---\n",
            "Keras: 2.5.0\n"
          ],
          "name": "stdout"
        }
      ]
    },
    {
      "cell_type": "code",
      "metadata": {
        "id": "il4Tp6FBlYSR"
      },
      "source": [
        "# split datasets to train and test\n",
        "distribution = int(df_valid.shape[0] * 0.9)\n",
        "\n",
        "df_valid = df_valid.sample(frac=1)\n",
        "\n",
        "df_train = df_valid.iloc[:distribution]\n",
        "df_test = df_valid.iloc[distribution:]\n",
        "\n",
        "df_train.fillna(0, inplace=True)\n",
        "df_test.fillna(0, inplace=True)\n",
        "\n",
        "X_train = np.array(list(df_train['BoW_vectors']))\n",
        "y_train = np.array(list(df_train['list_tag']))\n",
        "\n",
        "X_test = np.array(list(df_test['BoW_vectors']))\n",
        "y_test = np.array(list(df_test['list_tag']))"
      ],
      "execution_count": null,
      "outputs": []
    },
    {
      "cell_type": "code",
      "metadata": {
        "id": "SDAuui9N9jrw"
      },
      "source": [
        "# create multi-output model\n",
        "from keras.layers import Dense, Input, Dropout\n",
        "from keras import Model\n",
        "\n",
        "# function to build model branches\n",
        "def multi_branch(x, name, input_dim, output_dim, dropout_rate):\n",
        "    x = Dense(input_dim // 2, activation='relu')(x)\n",
        "    x = Dropout(dropout_rate)(x)\n",
        "\n",
        "    x = Dense(input_dim // 4, activation='relu')(x)\n",
        "    x = Dropout(dropout_rate)(x)\n",
        "    \n",
        "    x = Dense(input_dim // 8, activation='relu')(x)\n",
        "    x = Dropout(dropout_rate)(x)\n",
        "\n",
        "    # output\n",
        "    output = Dense(output_dim, name=name, activation='softmax')(x)\n",
        "\n",
        "    return output\n",
        "\n",
        "def create_multilabel(labels, labels_output_dim, input_dim, dropout_rate=0.2):\n",
        "    # check labels\n",
        "    assert len(labels) == len(labels_output_dim)\n",
        "\n",
        "    input_layer = Input(input_dim)\n",
        "\n",
        "    # group 1 dense layers\n",
        "    group_1 = Dense(input_dim, activation='relu')(input_layer)\n",
        "    group_1 = Dense(input_dim // 1.5, activation='relu')(group_1)\n",
        "\n",
        "    # multilabel branches\n",
        "    branches = []\n",
        "    for i in range(len(labels)):\n",
        "        branches.append(multi_branch(group_1, labels[i], input_dim, labels_output_dim[i], dropout_rate))\n",
        "\n",
        "    # put model together\n",
        "    model = Model(inputs=input_layer, outputs=branches, name='company_classification_model')\n",
        "\n",
        "    return model\n",
        "\n",
        "# one hot \n",
        "def one_hot(arr, n_cat):\n",
        "    output = []\n",
        "    for n in arr:\n",
        "        result = np.zeros(n_cat)\n",
        "        result[n] = 1\n",
        "\n",
        "        output.append(result)\n",
        "\n",
        "    return np.array(output, dtype=int)"
      ],
      "execution_count": null,
      "outputs": []
    },
    {
      "cell_type": "code",
      "metadata": {
        "id": "roBjnBsxEMJU",
        "colab": {
          "base_uri": "https://localhost:8080/",
          "height": 1000
        },
        "outputId": "2df5ce5c-5f8e-46af-9612-0636be1685d0"
      },
      "source": [
        "label_names = ['sector', 'subsector', 'archetype', 'valuechain']\n",
        "\n",
        "model = create_multilabel(label_names, tag_counts, len(keywords_masterlist))\n",
        "\n",
        "tf.keras.utils.plot_model(model, show_shapes=True)"
      ],
      "execution_count": null,
      "outputs": [
        {
          "output_type": "execute_result",
          "data": {
            "image/png": "[encoded data removed]",
            "text/plain": [
              "<IPython.core.display.Image object>"
            ]
          },
          "metadata": {
            "tags": []
          },
          "execution_count": 166
        }
      ]
    },
    {
      "cell_type": "code",
      "metadata": {
        "id": "FPmHQGQ8GlI2"
      },
      "source": [
        "# preprocess labels before training\n",
        "y_train_multi = {label_names[0] : one_hot(y_train[:,0], tag_counts[0]),\n",
        "                 label_names[1] : one_hot(y_train[:,1], tag_counts[1]),\n",
        "                 label_names[2] : one_hot(y_train[:,2], tag_counts[2]),\n",
        "                 label_names[3] : one_hot(y_train[:,3], tag_counts[3]),\n",
        "                 }\n",
        "y_test_multi = {label_names[0] : one_hot(y_test[:,0], tag_counts[0]),\n",
        "                label_names[1] : one_hot(y_test[:,1], tag_counts[1]),\n",
        "                label_names[2] : one_hot(y_test[:,2], tag_counts[2]),\n",
        "                label_names[3] : one_hot(y_test[:,3], tag_counts[3]),\n",
        "                }\n",
        "\n",
        "losses = {i : 'categorical_crossentropy' for i in label_names}"
      ],
      "execution_count": null,
      "outputs": []
    },
    {
      "cell_type": "code",
      "metadata": {
        "id": "qw_tZtVTQ_fD",
        "colab": {
          "base_uri": "https://localhost:8080/"
        },
        "outputId": "ed080622-ba63-4868-aabd-602b2eb1c56b"
      },
      "source": [
        "model.compile(optimizer='adam', loss=losses, metrics=['accuracy'])\n",
        "history = model.fit(X_train, y_train_multi, epochs=50, batch_size=20)"
      ],
      "execution_count": null,
      "outputs": [
        {
          "output_type": "stream",
          "text": [
            "Epoch 1/50\n",
            "90/90 [==============================] - 4s 8ms/step - loss: 10.2365 - sector_loss: 1.6833 - subsector_loss: 2.9862 - archetype_loss: 3.8761 - valuechain_loss: 1.6909 - sector_accuracy: 0.3712 - subsector_accuracy: 0.2205 - archetype_accuracy: 0.1822 - valuechain_accuracy: 0.4025\n",
            "Epoch 2/50\n",
            "90/90 [==============================] - 1s 7ms/step - loss: 7.7369 - sector_loss: 1.1708 - subsector_loss: 2.2212 - archetype_loss: 3.0339 - valuechain_loss: 1.3110 - sector_accuracy: 0.6236 - subsector_accuracy: 0.3918 - archetype_accuracy: 0.2969 - valuechain_accuracy: 0.5141\n",
            "Epoch 3/50\n",
            "90/90 [==============================] - 1s 7ms/step - loss: 5.9039 - sector_loss: 0.7916 - subsector_loss: 1.6615 - archetype_loss: 2.4120 - valuechain_loss: 1.0388 - sector_accuracy: 0.7556 - subsector_accuracy: 0.5365 - archetype_accuracy: 0.4215 - valuechain_accuracy: 0.6098\n",
            "Epoch 4/50\n",
            "90/90 [==============================] - 1s 7ms/step - loss: 5.0592 - sector_loss: 0.6537 - subsector_loss: 1.3874 - archetype_loss: 2.0825 - valuechain_loss: 0.9356 - sector_accuracy: 0.8107 - subsector_accuracy: 0.6179 - archetype_accuracy: 0.4529 - valuechain_accuracy: 0.6532\n",
            "Epoch 5/50\n",
            "90/90 [==============================] - 1s 7ms/step - loss: 4.4419 - sector_loss: 0.5833 - subsector_loss: 1.2016 - archetype_loss: 1.8235 - valuechain_loss: 0.8334 - sector_accuracy: 0.8324 - subsector_accuracy: 0.6616 - archetype_accuracy: 0.5164 - valuechain_accuracy: 0.6955\n",
            "Epoch 6/50\n",
            "90/90 [==============================] - 1s 7ms/step - loss: 4.1211 - sector_loss: 0.5168 - subsector_loss: 1.1244 - archetype_loss: 1.7299 - valuechain_loss: 0.7499 - sector_accuracy: 0.8428 - subsector_accuracy: 0.6744 - archetype_accuracy: 0.5330 - valuechain_accuracy: 0.7402\n",
            "Epoch 7/50\n",
            "90/90 [==============================] - 1s 7ms/step - loss: 3.6074 - sector_loss: 0.4628 - subsector_loss: 0.9440 - archetype_loss: 1.5333 - valuechain_loss: 0.6673 - sector_accuracy: 0.8522 - subsector_accuracy: 0.7323 - archetype_accuracy: 0.5728 - valuechain_accuracy: 0.7483\n",
            "Epoch 8/50\n",
            "90/90 [==============================] - 1s 7ms/step - loss: 3.3168 - sector_loss: 0.4056 - subsector_loss: 0.8873 - archetype_loss: 1.3915 - valuechain_loss: 0.6325 - sector_accuracy: 0.8728 - subsector_accuracy: 0.7303 - archetype_accuracy: 0.5924 - valuechain_accuracy: 0.7823\n",
            "Epoch 9/50\n",
            "90/90 [==============================] - 1s 7ms/step - loss: 3.0533 - sector_loss: 0.3652 - subsector_loss: 0.8291 - archetype_loss: 1.2917 - valuechain_loss: 0.5673 - sector_accuracy: 0.8894 - subsector_accuracy: 0.7616 - archetype_accuracy: 0.6318 - valuechain_accuracy: 0.8075\n",
            "Epoch 10/50\n",
            "90/90 [==============================] - 1s 7ms/step - loss: 2.9124 - sector_loss: 0.3630 - subsector_loss: 0.7653 - archetype_loss: 1.2197 - valuechain_loss: 0.5644 - sector_accuracy: 0.9005 - subsector_accuracy: 0.7682 - archetype_accuracy: 0.6405 - valuechain_accuracy: 0.7940\n",
            "Epoch 11/50\n",
            "90/90 [==============================] - 1s 7ms/step - loss: 2.7191 - sector_loss: 0.3451 - subsector_loss: 0.7169 - archetype_loss: 1.1494 - valuechain_loss: 0.5078 - sector_accuracy: 0.8970 - subsector_accuracy: 0.7855 - archetype_accuracy: 0.6478 - valuechain_accuracy: 0.8162\n",
            "Epoch 12/50\n",
            "90/90 [==============================] - 1s 8ms/step - loss: 2.5011 - sector_loss: 0.3051 - subsector_loss: 0.6651 - archetype_loss: 1.0258 - valuechain_loss: 0.5051 - sector_accuracy: 0.9134 - subsector_accuracy: 0.8015 - archetype_accuracy: 0.6934 - valuechain_accuracy: 0.8172\n",
            "Epoch 13/50\n",
            "90/90 [==============================] - 1s 7ms/step - loss: 2.4404 - sector_loss: 0.3192 - subsector_loss: 0.6453 - archetype_loss: 1.0078 - valuechain_loss: 0.4682 - sector_accuracy: 0.9101 - subsector_accuracy: 0.8048 - archetype_accuracy: 0.7023 - valuechain_accuracy: 0.8309\n",
            "Epoch 14/50\n",
            "90/90 [==============================] - 1s 7ms/step - loss: 2.2732 - sector_loss: 0.2832 - subsector_loss: 0.6036 - archetype_loss: 0.9825 - valuechain_loss: 0.4040 - sector_accuracy: 0.9129 - subsector_accuracy: 0.8219 - archetype_accuracy: 0.7257 - valuechain_accuracy: 0.8485\n",
            "Epoch 15/50\n",
            "90/90 [==============================] - 1s 7ms/step - loss: 2.3228 - sector_loss: 0.3104 - subsector_loss: 0.6105 - archetype_loss: 0.9435 - valuechain_loss: 0.4584 - sector_accuracy: 0.8963 - subsector_accuracy: 0.8081 - archetype_accuracy: 0.7005 - valuechain_accuracy: 0.8359\n",
            "Epoch 16/50\n",
            "90/90 [==============================] - 1s 7ms/step - loss: 2.0268 - sector_loss: 0.2565 - subsector_loss: 0.5393 - archetype_loss: 0.8265 - valuechain_loss: 0.4045 - sector_accuracy: 0.9173 - subsector_accuracy: 0.8323 - archetype_accuracy: 0.7489 - valuechain_accuracy: 0.8502\n",
            "Epoch 17/50\n",
            "90/90 [==============================] - 1s 7ms/step - loss: 2.1671 - sector_loss: 0.2949 - subsector_loss: 0.6192 - archetype_loss: 0.8546 - valuechain_loss: 0.3984 - sector_accuracy: 0.9043 - subsector_accuracy: 0.8160 - archetype_accuracy: 0.7371 - valuechain_accuracy: 0.8426\n",
            "Epoch 18/50\n",
            "90/90 [==============================] - 1s 7ms/step - loss: 1.9189 - sector_loss: 0.2602 - subsector_loss: 0.5400 - archetype_loss: 0.7552 - valuechain_loss: 0.3635 - sector_accuracy: 0.9148 - subsector_accuracy: 0.8285 - archetype_accuracy: 0.7772 - valuechain_accuracy: 0.8623\n",
            "Epoch 19/50\n",
            "90/90 [==============================] - 1s 7ms/step - loss: 1.8051 - sector_loss: 0.2259 - subsector_loss: 0.5050 - archetype_loss: 0.7248 - valuechain_loss: 0.3494 - sector_accuracy: 0.9252 - subsector_accuracy: 0.8368 - archetype_accuracy: 0.7630 - valuechain_accuracy: 0.8606\n",
            "Epoch 20/50\n",
            "90/90 [==============================] - 1s 7ms/step - loss: 1.8651 - sector_loss: 0.2586 - subsector_loss: 0.4985 - archetype_loss: 0.7586 - valuechain_loss: 0.3493 - sector_accuracy: 0.9170 - subsector_accuracy: 0.8385 - archetype_accuracy: 0.7656 - valuechain_accuracy: 0.8678\n",
            "Epoch 21/50\n",
            "90/90 [==============================] - 1s 7ms/step - loss: 1.9012 - sector_loss: 0.2513 - subsector_loss: 0.5085 - archetype_loss: 0.7649 - valuechain_loss: 0.3766 - sector_accuracy: 0.9105 - subsector_accuracy: 0.8299 - archetype_accuracy: 0.7647 - valuechain_accuracy: 0.8518\n",
            "Epoch 22/50\n",
            "90/90 [==============================] - 1s 7ms/step - loss: 1.8863 - sector_loss: 0.2543 - subsector_loss: 0.5088 - archetype_loss: 0.7500 - valuechain_loss: 0.3731 - sector_accuracy: 0.9244 - subsector_accuracy: 0.8350 - archetype_accuracy: 0.7621 - valuechain_accuracy: 0.8643\n",
            "Epoch 23/50\n",
            "90/90 [==============================] - 1s 7ms/step - loss: 1.7636 - sector_loss: 0.2586 - subsector_loss: 0.4958 - archetype_loss: 0.6791 - valuechain_loss: 0.3301 - sector_accuracy: 0.9081 - subsector_accuracy: 0.8345 - archetype_accuracy: 0.7906 - valuechain_accuracy: 0.8703\n",
            "Epoch 24/50\n",
            "90/90 [==============================] - 1s 7ms/step - loss: 1.8010 - sector_loss: 0.2450 - subsector_loss: 0.5015 - archetype_loss: 0.6970 - valuechain_loss: 0.3575 - sector_accuracy: 0.9108 - subsector_accuracy: 0.8226 - archetype_accuracy: 0.7661 - valuechain_accuracy: 0.8460\n",
            "Epoch 25/50\n",
            "90/90 [==============================] - 1s 7ms/step - loss: 1.7374 - sector_loss: 0.2480 - subsector_loss: 0.4865 - archetype_loss: 0.6611 - valuechain_loss: 0.3417 - sector_accuracy: 0.9131 - subsector_accuracy: 0.8438 - archetype_accuracy: 0.7946 - valuechain_accuracy: 0.8648\n",
            "Epoch 26/50\n",
            "90/90 [==============================] - 1s 7ms/step - loss: 1.6885 - sector_loss: 0.2528 - subsector_loss: 0.4719 - archetype_loss: 0.6329 - valuechain_loss: 0.3310 - sector_accuracy: 0.9051 - subsector_accuracy: 0.8354 - archetype_accuracy: 0.7839 - valuechain_accuracy: 0.8607\n",
            "Epoch 27/50\n",
            "90/90 [==============================] - 1s 7ms/step - loss: 1.6070 - sector_loss: 0.2358 - subsector_loss: 0.4272 - archetype_loss: 0.6242 - valuechain_loss: 0.3198 - sector_accuracy: 0.9141 - subsector_accuracy: 0.8462 - archetype_accuracy: 0.7935 - valuechain_accuracy: 0.8682\n",
            "Epoch 28/50\n",
            "90/90 [==============================] - 1s 8ms/step - loss: 1.6380 - sector_loss: 0.2553 - subsector_loss: 0.4570 - archetype_loss: 0.6072 - valuechain_loss: 0.3186 - sector_accuracy: 0.9058 - subsector_accuracy: 0.8402 - archetype_accuracy: 0.7921 - valuechain_accuracy: 0.8644\n",
            "Epoch 29/50\n",
            "90/90 [==============================] - 1s 8ms/step - loss: 1.6177 - sector_loss: 0.2284 - subsector_loss: 0.4406 - archetype_loss: 0.6083 - valuechain_loss: 0.3403 - sector_accuracy: 0.9180 - subsector_accuracy: 0.8457 - archetype_accuracy: 0.8077 - valuechain_accuracy: 0.8643\n",
            "Epoch 30/50\n",
            "90/90 [==============================] - 1s 8ms/step - loss: 1.7379 - sector_loss: 0.2217 - subsector_loss: 0.5153 - archetype_loss: 0.6815 - valuechain_loss: 0.3194 - sector_accuracy: 0.9149 - subsector_accuracy: 0.8272 - archetype_accuracy: 0.7923 - valuechain_accuracy: 0.8715\n",
            "Epoch 31/50\n",
            "90/90 [==============================] - 1s 7ms/step - loss: 1.6903 - sector_loss: 0.2408 - subsector_loss: 0.4726 - archetype_loss: 0.6434 - valuechain_loss: 0.3335 - sector_accuracy: 0.9166 - subsector_accuracy: 0.8433 - archetype_accuracy: 0.7888 - valuechain_accuracy: 0.8554\n",
            "Epoch 32/50\n",
            "90/90 [==============================] - 1s 7ms/step - loss: 1.6972 - sector_loss: 0.2678 - subsector_loss: 0.4749 - archetype_loss: 0.6277 - valuechain_loss: 0.3268 - sector_accuracy: 0.9031 - subsector_accuracy: 0.8459 - archetype_accuracy: 0.7986 - valuechain_accuracy: 0.8710\n",
            "Epoch 33/50\n",
            "90/90 [==============================] - 1s 8ms/step - loss: 1.6420 - sector_loss: 0.2103 - subsector_loss: 0.4447 - archetype_loss: 0.6621 - valuechain_loss: 0.3249 - sector_accuracy: 0.9266 - subsector_accuracy: 0.8520 - archetype_accuracy: 0.8008 - valuechain_accuracy: 0.8734\n",
            "Epoch 34/50\n",
            "90/90 [==============================] - 1s 8ms/step - loss: 1.6737 - sector_loss: 0.2465 - subsector_loss: 0.4724 - archetype_loss: 0.6249 - valuechain_loss: 0.3299 - sector_accuracy: 0.9102 - subsector_accuracy: 0.8333 - archetype_accuracy: 0.7896 - valuechain_accuracy: 0.8724\n",
            "Epoch 35/50\n",
            "90/90 [==============================] - 1s 8ms/step - loss: 1.8636 - sector_loss: 0.2950 - subsector_loss: 0.4828 - archetype_loss: 0.7500 - valuechain_loss: 0.3359 - sector_accuracy: 0.9140 - subsector_accuracy: 0.8459 - archetype_accuracy: 0.7853 - valuechain_accuracy: 0.8753\n",
            "Epoch 36/50\n",
            "90/90 [==============================] - 1s 7ms/step - loss: 1.6703 - sector_loss: 0.2380 - subsector_loss: 0.4632 - archetype_loss: 0.6169 - valuechain_loss: 0.3522 - sector_accuracy: 0.9204 - subsector_accuracy: 0.8481 - archetype_accuracy: 0.8070 - valuechain_accuracy: 0.8746\n",
            "Epoch 37/50\n",
            "90/90 [==============================] - 1s 8ms/step - loss: 1.4432 - sector_loss: 0.2177 - subsector_loss: 0.3953 - archetype_loss: 0.5471 - valuechain_loss: 0.2831 - sector_accuracy: 0.9192 - subsector_accuracy: 0.8636 - archetype_accuracy: 0.8378 - valuechain_accuracy: 0.8871\n",
            "Epoch 38/50\n",
            "90/90 [==============================] - 1s 7ms/step - loss: 1.6160 - sector_loss: 0.2318 - subsector_loss: 0.4407 - archetype_loss: 0.6116 - valuechain_loss: 0.3320 - sector_accuracy: 0.9148 - subsector_accuracy: 0.8383 - archetype_accuracy: 0.8038 - valuechain_accuracy: 0.8660\n",
            "Epoch 39/50\n",
            "90/90 [==============================] - 1s 7ms/step - loss: 1.4936 - sector_loss: 0.2199 - subsector_loss: 0.4244 - archetype_loss: 0.5661 - valuechain_loss: 0.2832 - sector_accuracy: 0.9145 - subsector_accuracy: 0.8534 - archetype_accuracy: 0.8111 - valuechain_accuracy: 0.8837\n",
            "Epoch 40/50\n",
            "90/90 [==============================] - 1s 8ms/step - loss: 1.5139 - sector_loss: 0.2258 - subsector_loss: 0.4280 - archetype_loss: 0.5616 - valuechain_loss: 0.2985 - sector_accuracy: 0.9116 - subsector_accuracy: 0.8455 - archetype_accuracy: 0.8084 - valuechain_accuracy: 0.8726\n",
            "Epoch 41/50\n",
            "90/90 [==============================] - 1s 8ms/step - loss: 1.5368 - sector_loss: 0.2184 - subsector_loss: 0.4547 - archetype_loss: 0.5766 - valuechain_loss: 0.2870 - sector_accuracy: 0.9233 - subsector_accuracy: 0.8575 - archetype_accuracy: 0.8205 - valuechain_accuracy: 0.8851\n",
            "Epoch 42/50\n",
            "90/90 [==============================] - 1s 8ms/step - loss: 1.5041 - sector_loss: 0.2453 - subsector_loss: 0.3896 - archetype_loss: 0.5776 - valuechain_loss: 0.2916 - sector_accuracy: 0.9147 - subsector_accuracy: 0.8594 - archetype_accuracy: 0.8155 - valuechain_accuracy: 0.8832\n",
            "Epoch 43/50\n",
            "90/90 [==============================] - 1s 8ms/step - loss: 1.6188 - sector_loss: 0.2336 - subsector_loss: 0.4925 - archetype_loss: 0.5804 - valuechain_loss: 0.3122 - sector_accuracy: 0.9121 - subsector_accuracy: 0.8384 - archetype_accuracy: 0.8051 - valuechain_accuracy: 0.8736\n",
            "Epoch 44/50\n",
            "90/90 [==============================] - 1s 8ms/step - loss: 1.6162 - sector_loss: 0.2462 - subsector_loss: 0.4186 - archetype_loss: 0.5990 - valuechain_loss: 0.3525 - sector_accuracy: 0.9044 - subsector_accuracy: 0.8372 - archetype_accuracy: 0.7900 - valuechain_accuracy: 0.8671\n",
            "Epoch 45/50\n",
            "90/90 [==============================] - 1s 7ms/step - loss: 1.5381 - sector_loss: 0.2449 - subsector_loss: 0.4561 - archetype_loss: 0.5704 - valuechain_loss: 0.2667 - sector_accuracy: 0.9170 - subsector_accuracy: 0.8462 - archetype_accuracy: 0.7985 - valuechain_accuracy: 0.8968\n",
            "Epoch 46/50\n",
            "90/90 [==============================] - 1s 8ms/step - loss: 1.4382 - sector_loss: 0.2144 - subsector_loss: 0.3923 - archetype_loss: 0.5353 - valuechain_loss: 0.2963 - sector_accuracy: 0.9268 - subsector_accuracy: 0.8666 - archetype_accuracy: 0.8103 - valuechain_accuracy: 0.8846\n",
            "Epoch 47/50\n",
            "90/90 [==============================] - 1s 8ms/step - loss: 1.4850 - sector_loss: 0.2265 - subsector_loss: 0.4083 - archetype_loss: 0.5547 - valuechain_loss: 0.2955 - sector_accuracy: 0.9193 - subsector_accuracy: 0.8481 - archetype_accuracy: 0.8027 - valuechain_accuracy: 0.8738\n",
            "Epoch 48/50\n",
            "90/90 [==============================] - 1s 8ms/step - loss: 1.4315 - sector_loss: 0.2197 - subsector_loss: 0.3943 - archetype_loss: 0.5280 - valuechain_loss: 0.2895 - sector_accuracy: 0.9280 - subsector_accuracy: 0.8578 - archetype_accuracy: 0.8187 - valuechain_accuracy: 0.8882\n",
            "Epoch 49/50\n",
            "90/90 [==============================] - 1s 7ms/step - loss: 1.4864 - sector_loss: 0.2314 - subsector_loss: 0.4162 - archetype_loss: 0.5376 - valuechain_loss: 0.3012 - sector_accuracy: 0.9191 - subsector_accuracy: 0.8470 - archetype_accuracy: 0.8064 - valuechain_accuracy: 0.8706\n",
            "Epoch 50/50\n",
            "90/90 [==============================] - 1s 8ms/step - loss: 1.3701 - sector_loss: 0.2091 - subsector_loss: 0.3787 - archetype_loss: 0.5026 - valuechain_loss: 0.2797 - sector_accuracy: 0.9253 - subsector_accuracy: 0.8650 - archetype_accuracy: 0.8233 - valuechain_accuracy: 0.8739\n"
          ],
          "name": "stdout"
        }
      ]
    },
    {
      "cell_type": "markdown",
      "metadata": {
        "id": "BhKZIK81ND8g"
      },
      "source": [
        "### 5.2 Testing Models"
      ]
    },
    {
      "cell_type": "code",
      "metadata": {
        "id": "t1xsD2r5Th95",
        "colab": {
          "base_uri": "https://localhost:8080/"
        },
        "outputId": "bd0363f3-0406-4043-94cf-75a59f171e4a"
      },
      "source": [
        "metrics = model.evaluate(X_test, y_test_multi, verbose=0)[1:]\n",
        "\n",
        "for i, label in enumerate(label_names):\n",
        "    print(f'{label} accuracy: {metrics[i+4] * 100:.5}%')\n",
        "    print(f'{label} loss: {metrics[i]:.5}')"
      ],
      "execution_count": null,
      "outputs": [
        {
          "output_type": "stream",
          "text": [
            "sector accuracy: 67.164%\n",
            "sector loss: 3.1423\n",
            "subsector accuracy: 50.249%\n",
            "subsector loss: 3.9571\n",
            "archetype accuracy: 38.806%\n",
            "archetype loss: 5.6611\n",
            "valuechain accuracy: 54.726%\n",
            "valuechain loss: 4.0172\n"
          ],
          "name": "stdout"
        }
      ]
    },
    {
      "cell_type": "code",
      "metadata": {
        "id": "gUvuwWVcV_BM",
        "colab": {
          "base_uri": "https://localhost:8080/",
          "height": 1000
        },
        "outputId": "32c38e2e-6715-406a-dbe1-ccca53a14d85"
      },
      "source": [
        "# plot accuracy and loss graphs for all labels\n",
        "fig = plt.figure(1, figsize=(20,10))\n",
        "plt.suptitle('Model Training Accuracy Breakdown', y=0.95)\n",
        "\n",
        "for i, name in enumerate(label_names):\n",
        "    plt.subplot(2, 2, i+1)\n",
        "    plt.plot(history.history[f'{name}_accuracy'])\n",
        "    plt.title(f'{name} Accuracy')\n",
        "    plt.ylabel('accuracy')\n",
        "    plt.xlabel('epoch')\n",
        "    plt.legend(['Training Accuracy'])\n",
        "\n",
        "fig = plt.figure(2, figsize=(20,10))\n",
        "plt.suptitle('Model Training Loss Breakdown', y=0.95)\n",
        "\n",
        "for i, name in enumerate(label_names):\n",
        "    plt.subplot(2, 2, i+1)\n",
        "    plt.plot(history.history[f'{name}_loss'])\n",
        "    plt.title(f'{name} Loss')\n",
        "    plt.ylabel('loss')\n",
        "    plt.xlabel('epoch')\n",
        "    plt.legend(['Training Loss'])\n",
        "\n",
        "plt.show()"
      ],
      "execution_count": null,
      "outputs": [
        {
          "output_type": "display_data",
          "data": {
            "image/png": "[encoded data removed]",
            "text/plain": [
              "<Figure size 1440x720 with 4 Axes>"
            ]
          },
          "metadata": {
            "tags": []
          }
        },
        {
          "output_type": "display_data",
          "data": {
            "image/png": "[encoded data removed]",
            "text/plain": [
              "<Figure size 1440x720 with 4 Axes>"
            ]
          },
          "metadata": {
            "tags": []
          }
        }
      ]
    },
    {
      "cell_type": "code",
      "metadata": {
        "id": "M5hNw2PQyw2Q",
        "colab": {
          "base_uri": "https://localhost:8080/"
        },
        "outputId": "c3944375-ab60-4f7a-ca03-c0d81e9611a1"
      },
      "source": [
        "results = model.predict(X_test)\n",
        "\n",
        "predicted_label = []\n",
        "for label in results:\n",
        "    predicted_label.append(np.argmax(label, axis = 1))\n",
        "predicted_label = np.array(predicted_label)\n",
        "\n",
        "for i in range(predicted_label.shape[1]):\n",
        "    print(f'Expected: {y_test[i]} | got {predicted_label[:,i]}')"
      ],
      "execution_count": null,
      "outputs": [
        {
          "output_type": "stream",
          "text": [
            "Expected: [1 3 8 5] | got [1 3 8 5]\n",
            "Expected: [ 6 17 46  5] | got [ 6 17 64  5]\n",
            "Expected: [ 1  4 10  5] | got [ 1  4 10  5]\n",
            "Expected: [ 0 11 65  5] | got [ 0 11 64  5]\n",
            "Expected: [ 1  4 10  5] | got [ 1  4 10  5]\n",
            "Expected: [ 1  4 10  5] | got [ 1  4 10  5]\n",
            "Expected: [ 1 15 40  5] | got [ 1  4 10  5]\n",
            "Expected: [ 5 20 51  0] | got [ 5 20 75  7]\n",
            "Expected: [ 4 24 64  0] | got [ 4 24 64  7]\n",
            "Expected: [1 3 8 5] | got [ 1  4 10  5]\n",
            "Expected: [ 5 26 75  7] | got [ 5 24 76  0]\n",
            "Expected: [ 0 28 18  3] | got [ 4 24 64  0]\n",
            "Expected: [ 6  8 20  3] | got [ 6 17 46  5]\n",
            "Expected: [ 0 28 18  3] | got [1 3 9 3]\n",
            "Expected: [ 5 13 32  5] | got [ 5 24 32  5]\n",
            "Expected: [1 3 8 5] | got [ 1 24 90  5]\n",
            "Expected: [1 3 8 5] | got [1 3 8 5]\n",
            "Expected: [ 0 28 66  3] | got [ 0 11 65  0]\n",
            "Expected: [1 3 8 5] | got [1 3 8 5]\n",
            "Expected: [ 1  4 10  5] | got [ 1  4 10  5]\n",
            "Expected: [ 3 25 70  8] | got [ 3 25 70  8]\n",
            "Expected: [ 3 25 70  8] | got [ 3 25 69  3]\n",
            "Expected: [ 4 24 64  0] | got [ 0 18 49  5]\n",
            "Expected: [ 1  6 14  5] | got [ 1  4 10  5]\n",
            "Expected: [ 4 24 64  0] | got [ 1  4 10  5]\n",
            "Expected: [ 1  6 14  5] | got [ 1  6 14  5]\n",
            "Expected: [ 6  9 24  5] | got [ 6  8 20  3]\n",
            "Expected: [ 6 29 26  7] | got [ 6 29 26  7]\n",
            "Expected: [ 1  4 10  5] | got [ 1  4 10  5]\n",
            "Expected: [ 5 27 78  3] | got [ 5 13 33  5]\n",
            "Expected: [ 0  0 67  1] | got [ 3 25 70  3]\n",
            "Expected: [ 6  8 20  3] | got [ 6  8 20  3]\n",
            "Expected: [ 1  6 14  5] | got [ 1  4 10  5]\n",
            "Expected: [ 2  2 47  4] | got [ 1  2 48  5]\n",
            "Expected: [ 1  4 10  5] | got [ 1  6 14  5]\n",
            "Expected: [ 4 24 64  0] | got [ 4 24 64  0]\n",
            "Expected: [ 6 29 25  5] | got [ 6  8 20  3]\n",
            "Expected: [ 6  8 20  3] | got [ 6  8 19  5]\n",
            "Expected: [ 0 11 65  5] | got [ 0 11 65  0]\n",
            "Expected: [ 6  9 24  5] | got [ 6  8 20  3]\n",
            "Expected: [ 1  4 10  5] | got [ 1  3 10  5]\n",
            "Expected: [ 1 31 88  5] | got [ 1 31 90  3]\n",
            "Expected: [ 4 24 64  0] | got [ 5 27 78  3]\n",
            "Expected: [1 3 9 3] | got [1 3 8 5]\n",
            "Expected: [ 3 25 70  8] | got [ 3 25 69  0]\n",
            "Expected: [1 3 8 5] | got [1 3 8 5]\n",
            "Expected: [1 3 8 5] | got [ 3 25 70  8]\n",
            "Expected: [ 6 30 54  7] | got [ 6 30 55  5]\n",
            "Expected: [ 1  4 10  5] | got [ 1  4 10  5]\n",
            "Expected: [ 6 17 46  5] | got [ 6 17 20  5]\n",
            "Expected: [ 3 21 60  3] | got [ 3 21 60  3]\n",
            "Expected: [1 3 8 5] | got [ 2 19 81  2]\n",
            "Expected: [ 6  8 19  5] | got [ 6  8 20  3]\n",
            "Expected: [ 2 19 81  2] | got [ 1  3 18  3]\n",
            "Expected: [1 3 8 5] | got [ 4 24 64  0]\n",
            "Expected: [ 1  4 10  5] | got [ 2  2 47  4]\n",
            "Expected: [2 2 4 5] | got [ 0 11  4  5]\n",
            "Expected: [2 2 4 5] | got [2 2 5 6]\n",
            "Expected: [ 4 24 64  0] | got [ 4 24 64  0]\n",
            "Expected: [ 4 24 64  0] | got [ 5 20 39  0]\n",
            "Expected: [ 3 25 72  3] | got [ 3 25 72  3]\n",
            "Expected: [2 2 5 6] | got [2 2 5 6]\n",
            "Expected: [ 0 28 66  3] | got [ 0 11 65  5]\n",
            "Expected: [ 0 28 53  3] | got [ 4 24 64  0]\n",
            "Expected: [1 3 9 3] | got [ 4 24 64  0]\n",
            "Expected: [ 4 24 64  0] | got [ 4 24 64  0]\n",
            "Expected: [ 4 24 64  0] | got [ 3 25 69  3]\n",
            "Expected: [1 3 8 5] | got [ 4 24 64  0]\n",
            "Expected: [2 2 5 6] | got [2 2 5 6]\n",
            "Expected: [ 6 29 26  7] | got [ 6  8 20  3]\n",
            "Expected: [ 6  8 19  5] | got [ 6 30 26  7]\n",
            "Expected: [ 0 28 18  3] | got [ 2 19 82  4]\n",
            "Expected: [ 0 11 65  5] | got [ 0 11 65  0]\n",
            "Expected: [1 3 8 5] | got [ 1 27 10  5]\n",
            "Expected: [ 0  0 67  1] | got [ 0 25 72  3]\n",
            "Expected: [ 0 28 18  3] | got [ 1  4 10  5]\n",
            "Expected: [ 1  4 10  5] | got [ 1  6 14  5]\n",
            "Expected: [ 6 30 55  5] | got [ 6 30 55  5]\n",
            "Expected: [ 4 24 64  0] | got [ 4 24 64  0]\n",
            "Expected: [ 2  2 48  5] | got [ 2  2 48  5]\n",
            "Expected: [ 1  6 14  5] | got [ 0 28 53  3]\n",
            "Expected: [ 6  8 20  3] | got [1 3 8 5]\n",
            "Expected: [ 0 28 18  3] | got [ 4 24 64  0]\n",
            "Expected: [1 3 9 3] | got [1 3 8 5]\n",
            "Expected: [ 4 24 64  0] | got [ 5 20 51  0]\n",
            "Expected: [ 3 25 72  3] | got [ 3 25 72  3]\n",
            "Expected: [ 2 10 79  4] | got [ 2 19  7  5]\n",
            "Expected: [ 6 30 83  5] | got [ 6  9 24  5]\n",
            "Expected: [ 1  6 14  5] | got [ 1  4 10  5]\n",
            "Expected: [ 3 21 63  3] | got [ 3 21 63  3]\n",
            "Expected: [ 4 24 64  0] | got [ 3 25 70  8]\n",
            "Expected: [1 3 8 5] | got [ 4 24 64  0]\n",
            "Expected: [ 1  4 10  5] | got [ 1  4 10  5]\n",
            "Expected: [ 3 25 70  8] | got [ 3 25 70  8]\n",
            "Expected: [ 1  6 14  5] | got [ 6  9 24  5]\n",
            "Expected: [1 3 9 3] | got [1 3 8 5]\n",
            "Expected: [ 4 24 64  0] | got [ 4 24 64  0]\n",
            "Expected: [1 3 8 5] | got [1 3 9 3]\n",
            "Expected: [ 1  6 14  5] | got [ 3 22 59  7]\n",
            "Expected: [ 6  8 20  3] | got [ 6 30 54  7]\n",
            "Expected: [ 5 26 75  7] | got [ 1  4 10  5]\n",
            "Expected: [ 6 30 83  5] | got [ 4 24 64  0]\n",
            "Expected: [1 3 8 5] | got [ 1  3 14  5]\n",
            "Expected: [ 1  4 10  5] | got [ 1  4 10  5]\n",
            "Expected: [1 3 8 5] | got [1 3 8 5]\n",
            "Expected: [ 4 24 64  0] | got [ 4 24  5  0]\n",
            "Expected: [ 6 30 54  7] | got [ 4 30 64  0]\n",
            "Expected: [ 4 24 64  0] | got [ 6  9 24  5]\n",
            "Expected: [ 6 17 46  5] | got [ 6 17 20  5]\n",
            "Expected: [1 3 8 5] | got [1 3 8 5]\n",
            "Expected: [ 1  4 10  5] | got [ 1  4 10  5]\n",
            "Expected: [ 1 31 90  3] | got [ 1  4 10  5]\n",
            "Expected: [ 4 24 64  0] | got [2 2 5 6]\n",
            "Expected: [ 3 25 70  8] | got [ 3 25 70  8]\n",
            "Expected: [ 5 27 78  3] | got [ 5 27 78  3]\n",
            "Expected: [ 3 21 61  7] | got [ 3 21 63  3]\n",
            "Expected: [1 3 8 5] | got [1 3 8 5]\n",
            "Expected: [ 1  4 10  5] | got [ 1  4 10  5]\n",
            "Expected: [1 3 8 5] | got [1 3 8 5]\n",
            "Expected: [ 1  6 14  5] | got [ 3 25 69  3]\n",
            "Expected: [ 3 22 57  3] | got [ 1  4 10  5]\n",
            "Expected: [2 2 5 6] | got [4 2 5 6]\n",
            "Expected: [2 2 4 5] | got [ 4 24 64  0]\n",
            "Expected: [ 1  6 14  5] | got [ 3 25 69  3]\n",
            "Expected: [ 1  6 14  5] | got [ 1  4 10  5]\n",
            "Expected: [ 5 26 75  7] | got [ 5 20 75  7]\n",
            "Expected: [ 0 28 18  3] | got [ 2 19  6  1]\n",
            "Expected: [ 3 22 57  3] | got [ 3 25 69  3]\n",
            "Expected: [1 3 8 5] | got [1 3 8 5]\n",
            "Expected: [ 0 11 65  5] | got [0 1 2 3]\n",
            "Expected: [ 5 27 78  3] | got [ 5 27 78  3]\n",
            "Expected: [ 5 27 78  3] | got [ 5 27 78  3]\n",
            "Expected: [ 1 15 40  5] | got [ 6 17 46  5]\n",
            "Expected: [1 3 9 3] | got [1 3 8 5]\n",
            "Expected: [1 3 8 5] | got [ 3 21 60  3]\n",
            "Expected: [ 1  6 14  5] | got [ 1  4 10  5]\n",
            "Expected: [1 3 9 3] | got [1 3 8 5]\n",
            "Expected: [ 1  4 10  5] | got [ 1  4 10  5]\n",
            "Expected: [ 6 17 46  5] | got [ 6 17 20  5]\n",
            "Expected: [ 3 25 70  8] | got [ 3 25 70  8]\n",
            "Expected: [ 0  0 67  1] | got [ 0  0 67  1]\n",
            "Expected: [ 4 24 64  0] | got [ 4 24 64  0]\n",
            "Expected: [ 4 24 64  0] | got [ 3 25 72  3]\n",
            "Expected: [ 1  4 10  5] | got [ 1  4 10  5]\n",
            "Expected: [ 2 19 81  2] | got [ 1 31 90  3]\n",
            "Expected: [ 3 21 63  3] | got [ 3 21 63  3]\n",
            "Expected: [ 5 26 77  3] | got [ 5 26 10  5]\n",
            "Expected: [ 1  4 10  5] | got [ 1  4 10  5]\n",
            "Expected: [ 4 24 64  0] | got [1 3 8 5]\n",
            "Expected: [ 5 14 37  7] | got [ 1  4 10  5]\n",
            "Expected: [1 3 9 3] | got [ 1 27 10  5]\n",
            "Expected: [2 2 5 6] | got [2 2 5 6]\n",
            "Expected: [ 3 22 59  7] | got [ 3 22 59  7]\n",
            "Expected: [ 3 25 69  3] | got [ 3 25 69  3]\n",
            "Expected: [2 2 5 6] | got [2 2 5 6]\n",
            "Expected: [ 4 24 64  0] | got [ 3 24 64  0]\n",
            "Expected: [ 3 25 71  3] | got [1 3 9 3]\n",
            "Expected: [ 1  4 10  5] | got [ 1  4 10  5]\n",
            "Expected: [ 3 21 60  3] | got [ 3 25 69  5]\n",
            "Expected: [ 1  4 11  5] | got [ 1 20 10  0]\n",
            "Expected: [ 4 24 64  0] | got [ 1  4 10  5]\n",
            "Expected: [ 1  4 10  5] | got [ 3 22 57  3]\n",
            "Expected: [ 6 17 46  5] | got [ 6 17 46  5]\n",
            "Expected: [1 3 9 3] | got [ 1  4 10  5]\n",
            "Expected: [ 1  6 14  5] | got [ 1 31 14  5]\n",
            "Expected: [ 3 21 63  3] | got [ 3 21 63  3]\n",
            "Expected: [ 2 19 82  4] | got [ 2  2 47  5]\n",
            "Expected: [ 2  2 47  4] | got [ 2  2 48  5]\n",
            "Expected: [ 1  4 10  5] | got [ 1  4 10  5]\n",
            "Expected: [ 3 25 72  3] | got [ 3 25 72  3]\n",
            "Expected: [1 3 9 3] | got [1 3 9 3]\n",
            "Expected: [ 4 24 64  0] | got [ 1  4 10  5]\n",
            "Expected: [ 6  8 20  3] | got [ 3 21 60  3]\n",
            "Expected: [ 6  8 20  3] | got [ 6  8 20  3]\n",
            "Expected: [1 3 8 5] | got [ 5 20 50  0]\n",
            "Expected: [ 0 11 65  5] | got [ 0 11 65  5]\n",
            "Expected: [ 1 15 40  5] | got [ 1  4 10  5]\n",
            "Expected: [ 2 19 81  2] | got [1 3 9 3]\n",
            "Expected: [ 3 25 72  3] | got [ 3 25 72  3]\n",
            "Expected: [ 3 21 63  3] | got [ 3 21 63  3]\n",
            "Expected: [ 1  6 14  5] | got [ 1  4 10  5]\n",
            "Expected: [ 4 24 64  0] | got [ 1 17 14  5]\n",
            "Expected: [ 1  6 14  5] | got [ 1  4 11  5]\n",
            "Expected: [ 3 25 70  8] | got [ 3 25 70  8]\n",
            "Expected: [ 1  4 11  5] | got [ 1  4 10  5]\n",
            "Expected: [ 6 17 46  5] | got [ 5 20 51  0]\n",
            "Expected: [1 3 8 5] | got [ 1  6 14  5]\n",
            "Expected: [ 4 24 64  0] | got [ 4 24 64  0]\n",
            "Expected: [ 1  4 10  5] | got [ 1  4 10  5]\n",
            "Expected: [ 3 25 70  8] | got [ 3 25 70  8]\n",
            "Expected: [ 3 25 70  8] | got [ 3 25 70  8]\n",
            "Expected: [ 4 24 64  0] | got [ 6 18 71  3]\n",
            "Expected: [ 1  4 11  5] | got [ 1  4 10  5]\n",
            "Expected: [2 2 5 6] | got [4 2 5 6]\n",
            "Expected: [ 3 21 60  3] | got [ 3 21 69  3]\n",
            "Expected: [ 0 28 53  3] | got [ 0 28 64  3]\n",
            "Expected: [ 0 11 56  5] | got [ 0 28 53  3]\n",
            "Expected: [ 4 24 64  0] | got [ 2  2 14  5]\n",
            "Expected: [ 0 28 18  3] | got [ 1  4 10  5]\n",
            "Expected: [ 3 22 57  3] | got [ 1 15 14  5]\n",
            "Expected: [2 2 5 6] | got [ 6  9 24  5]\n"
          ],
          "name": "stdout"
        }
      ]
    },
    {
      "cell_type": "markdown",
      "metadata": {
        "id": "1aarHE3sNuN1"
      },
      "source": [
        "### 5.3. Saving Models"
      ]
    },
    {
      "cell_type": "code",
      "metadata": {
        "id": "5Vd4RJP0NxVB",
        "colab": {
          "base_uri": "https://localhost:8080/"
        },
        "outputId": "04772aed-55da-4697-f6e3-df54692e4e64"
      },
      "source": [
        "# save models to file\n",
        "model.save('./multilabel_model')"
      ],
      "execution_count": null,
      "outputs": [
        {
          "output_type": "stream",
          "text": [
            "INFO:tensorflow:Assets written to: ./multilabel_model/assets\n"
          ],
          "name": "stdout"
        }
      ]
    },
    {
      "cell_type": "code",
      "metadata": {
        "id": "-frVyS9_OqM5",
        "colab": {
          "base_uri": "https://localhost:8080/"
        },
        "outputId": "8ebe71aa-03fd-4ddb-9af8-affbea99188c"
      },
      "source": [
        "!zip -r multilabel_model.zip ./multilabel_model"
      ],
      "execution_count": null,
      "outputs": [
        {
          "output_type": "stream",
          "text": [
            "  adding: multilabel_model/ (stored 0%)\n",
            "  adding: multilabel_model/assets/ (stored 0%)\n",
            "  adding: multilabel_model/keras_metadata.pb (deflated 94%)\n",
            "  adding: multilabel_model/saved_model.pb (deflated 91%)\n",
            "  adding: multilabel_model/variables/ (stored 0%)\n",
            "  adding: multilabel_model/variables/variables.data-00000-of-00001 (deflated 25%)\n",
            "  adding: multilabel_model/variables/variables.index (deflated 75%)\n"
          ],
          "name": "stdout"
        }
      ]
    },
    {
      "cell_type": "markdown",
      "metadata": {
        "id": "-vcPrnMEK8tR"
      },
      "source": [
        "---\n",
        "---\n",
        "---"
      ]
    },
    {
      "cell_type": "markdown",
      "metadata": {
        "id": "0hKvKHV38ly_"
      },
      "source": [
        "# 6.References\n",
        "\n",
        "\n",
        "## Linking GitHub Private Repo with Google Colab\n",
        "---\n",
        "1. [How to clone private Github repo from Google Colab using SSH](https://medium.com/@purba0101/how-to-clone-private-github-repo-in-google-colab-using-ssh-77384cfef18f)\n",
        "2. [Adding a new SSH key to your GitHub account](https://docs.github.com/en/github/authenticating-to-github/adding-a-new-ssh-key-to-your-github-account)\n",
        "\n",
        "\n",
        "## How to classify text with NLTK\n",
        "---\n",
        "1. [Learning to Classify Text](https://www.nltk.org/book/ch06.html)\n",
        "\n",
        "\n",
        "## Other references\n",
        "---\n",
        "1. [Print very long string completely in pandas dataframe](https://stackoverflow.com/questions/29902714/print-very-long-string-completely-in-pandas-dataframe)\n",
        "2. [Removing newlines from messy strings in pandas dataframe cells?\n",
        "](https://stackoverflow.com/questions/44227748/removing-newlines-from-messy-strings-in-pandas-dataframe-cells)\n",
        "3. [Tokenizing using Pandas and spaCy](https://stackoverflow.com/questions/46981137/tokenizing-using-pandas-and-spacy)\n",
        "4. [Intro to NLP with spaCy](https://nicschrading.com/project/Intro-to-NLP-with-spaCy/)\n",
        "5. [A short introduction to NLP in Python with spaCy](https://towardsdatascience.com/a-short-introduction-to-nlp-in-python-with-spacy-d0aa819af3ad)\n",
        "6. [Punctuation, stopwords and lemmatization with spacy](https://stackoverflow.com/questions/57747613/punctuation-stopwords-and-lemmatization-with-spacy)\n",
        "\n"
      ]
    }
  ]
}