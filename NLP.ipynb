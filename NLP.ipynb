{
  "nbformat": 4,
  "nbformat_minor": 0,
  "metadata": {
    "colab": {
      "name": "NLP.ipynb",
      "provenance": [],
      "toc_visible": true,
      "authorship_tag": "ABX9TyMeGW+dqLZQ+IhYwmDZL84U",
      "include_colab_link": true
    },
    "kernelspec": {
      "name": "python3",
      "display_name": "Python 3"
    },
    "language_info": {
      "name": "python"
    }
  },
  "cells": [
    {
      "cell_type": "markdown",
      "metadata": {
        "id": "view-in-github",
        "colab_type": "text"
      },
      "source": [
        "<a href=\"https://colab.research.google.com/github/ngzhankang/finalYearProjectUOB/blob/main/NLP.ipynb\" target=\"_parent\"><img src=\"https://colab.research.google.com/assets/colab-badge.svg\" alt=\"Open In Colab\"/></a>"
      ]
    },
    {
      "cell_type": "markdown",
      "metadata": {
        "id": "C4WG19GGjVCN"
      },
      "source": [
        "# FINAL YEAR PROJECT\n",
        "Done by : \n",
        "- P1935000 Ang Yak Hng\n",
        "- P1935000 Teo Swee Hong Winson\n",
        "- P1935727 Ng Zhan Kang\n",
        "- P1935488 Triston Loh\n",
        "- P1935000 Ng Ao Yang\n",
        "\n",
        "Class of DIT/FT/3A/05\n"
      ]
    },
    {
      "cell_type": "markdown",
      "metadata": {
        "id": "lTixCl0Yj3aC"
      },
      "source": [
        "---\n",
        "---"
      ]
    },
    {
      "cell_type": "markdown",
      "metadata": {
        "id": "Xa-0olzCkDtZ"
      },
      "source": [
        "# 1. Cloning Github To Colab Workspace"
      ]
    },
    {
      "cell_type": "markdown",
      "metadata": {
        "id": "B_no5sNXlBZ_"
      },
      "source": [
        "<div class=\"alert alert-block alert-danger\">\n",
        "    <b>ATTENTION:</b> The entire section 1 is dedicated to users who are using google colab to do the entire project. This entire process clones the private repository directly into the temporary google colab workspace. Google colab user are to repeat this same proccess whenever in a new session. Users who do not use colab to do this project CAN OMIT THE ENTIRE SECTION 1. \n",
        "</div>"
      ]
    },
    {
      "cell_type": "markdown",
      "metadata": {
        "id": "B-ZvXSUPkPBq"
      },
      "source": [
        "### 1.1. Configurating SSH keys for GitHub and Colab connection\n",
        "\n",
        "---\n",
        "\n",
        "This entire section can be omitted if users are not using Google Colab at all."
      ]
    },
    {
      "cell_type": "code",
      "metadata": {
        "id": "JH5jhDiOliB2",
        "colab": {
          "base_uri": "https://localhost:8080/"
        },
        "outputId": "b85c6e08-8d38-4f03-f2ce-ad69ab1d8097"
      },
      "source": [
        "!ssh-keygen -t rsa -b 4096"
      ],
      "execution_count": 1,
      "outputs": [
        {
          "output_type": "stream",
          "text": [
            "Generating public/private rsa key pair.\n",
            "Enter file in which to save the key (/root/.ssh/id_rsa): \n",
            "Created directory '/root/.ssh'.\n",
            "Enter passphrase (empty for no passphrase): \n",
            "Enter same passphrase again: \n",
            "Your identification has been saved in /root/.ssh/id_rsa.\n",
            "Your public key has been saved in /root/.ssh/id_rsa.pub.\n",
            "The key fingerprint is:\n",
            "SHA256:pLj7MA6HIkM7FoQ/oxREfZMjbJB50cpDlQuzbgjnES4 root@1f4401b441f9\n",
            "The key's randomart image is:\n",
            "+---[RSA 4096]----+\n",
            "|.+*.+.o          |\n",
            "|oo.X B           |\n",
            "|.+=.B + .        |\n",
            "|E.== o o         |\n",
            "|.B*.o . S        |\n",
            "|oo+* .           |\n",
            "|=++ =            |\n",
            "|oo.+ +           |\n",
            "|    o..          |\n",
            "+----[SHA256]-----+\n"
          ],
          "name": "stdout"
        }
      ]
    },
    {
      "cell_type": "markdown",
      "metadata": {
        "id": "ujcbhDqDmqP7"
      },
      "source": [
        "<div class=\"alert alert-block alert-danger\">\n",
        "    <b>ATTENTION:</b> When prompted for a set of informations such as \"Enter a file in which to save the key...\", please press enter and DO NOT type in anything.\n",
        "</div>"
      ]
    },
    {
      "cell_type": "code",
      "metadata": {
        "colab": {
          "base_uri": "https://localhost:8080/"
        },
        "id": "AUsKDe9tm0hQ",
        "outputId": "7e5f15e3-36df-420b-ab68-274fcf2f2bf6"
      },
      "source": [
        "!ssh-keyscan -t rsa github.com >> ~/.ssh/known_hosts"
      ],
      "execution_count": 2,
      "outputs": [
        {
          "output_type": "stream",
          "text": [
            "# github.com:22 SSH-2.0-babeld-10d0a39d\n"
          ],
          "name": "stdout"
        }
      ]
    },
    {
      "cell_type": "code",
      "metadata": {
        "colab": {
          "base_uri": "https://localhost:8080/"
        },
        "id": "sc7qLuG1m-9h",
        "outputId": "a6e0a90d-1f67-44f9-bb86-47e11e0c1688"
      },
      "source": [
        "!cat /root/.ssh/id_rsa.pub"
      ],
      "execution_count": 3,
      "outputs": [
        {
          "output_type": "stream",
          "text": [
            "ssh-rsa AAAAB3NzaC1yc2EAAAADAQABAAACAQDiJDN+dRKGlGAsCJANF4QyXKrGkjh8kPSJMY87INF7Eq6U4ph1obAF46/mcp0ZVnyKYXk5iSZeWWdE+t9shFfiJEhiTyGRqpnX36sUmqqKCvQe6kmNe/9L1dfFHZKN0AsvG8xRsWftUwwOHyjulxBH6k119Uf8DB8OwbAFGhc+6y+6fQiTaN5185WKsyOwv8LH2S8yKtJw77IxCnvJDrg7hAmasvhKD6pxilCTB/iKdn4qUIbqCrp7yz4oyL2/dcTKpl5qU3XJVxW/JSKR6ncxxCUNa79WA6riasyEGQa32cAuSvf+VPjjbED5ANbsYzbJgQ27UTdxyihZhnyz34JJ9uHYaOZ6F2736PIp9FAdxYI67ejEEpD0Ak0kMMtoGVGIjuWR/F7ij3SmWliyoi4EZbBwGpiX40VSggm+8LAN6VUeRXHchgEjtrw78a80gcjEQGgKH5nki1CC4VSQHwDypHtKq8ayFYuerYOzb61z7SHHHll3mMy4Cuo7FjsUWjGe1Ic/CPtgz9L+eKRLqF22h3LmNjvBWdAnlv6AnXbu7Rf80ndJ56VFCFEl+GaBwd5ZZg4jochK6ojzso9vSaz+AZSOnblZC6zlR4Qo+CXpsnel6yFbfZ1zE1L/Vt5e6gCgP+GI8h3aFsBuoIW8zgLz59xuFl3P49pAtiJ9dQLuww== root@1f4401b441f9\n"
          ],
          "name": "stdout"
        }
      ]
    },
    {
      "cell_type": "markdown",
      "metadata": {
        "id": "iSwt6wnDnSjx"
      },
      "source": [
        "<div class=\"alert alert-block alert-danger\">\n",
        "    <b>ATTENTION:</b> After the key has been generated, please copy the entire key. Navigate to your Github Account > Profile Picture > Settings > SSH and GPG keys > New SSH Keys. Paste the generated key into the blank and lable it for your own convenience.\n",
        "</div>"
      ]
    },
    {
      "cell_type": "markdown",
      "metadata": {
        "id": "Z_rpok3voY8A"
      },
      "source": [
        "### 1.2. Testing SSH keys for GitHub and Colab connection\n",
        "\n",
        "---\n",
        "\n",
        "This entire section can be omitted if users are not using Google Colab at all."
      ]
    },
    {
      "cell_type": "code",
      "metadata": {
        "colab": {
          "base_uri": "https://localhost:8080/"
        },
        "id": "cYEnWGicnnC0",
        "outputId": "1f833483-ff8e-46c7-d45d-5e80b2ace5b3"
      },
      "source": [
        "!ssh -T git@github.com"
      ],
      "execution_count": 4,
      "outputs": [
        {
          "output_type": "stream",
          "text": [
            "Warning: Permanently added the RSA host key for IP address '140.82.114.3' to the list of known hosts.\r\n",
            "Hi ngzhankang! You've successfully authenticated, but GitHub does not provide shell access.\n"
          ],
          "name": "stdout"
        }
      ]
    },
    {
      "cell_type": "markdown",
      "metadata": {
        "id": "D0hIsUsBHxVO"
      },
      "source": [
        "### 1.3. Specify Git Configuration Settings\n",
        "\n",
        "---\n",
        "\n",
        "This entire section can be omitted if users are not using Google Colab at all. In this section, change email to your github email and username to your github username."
      ]
    },
    {
      "cell_type": "code",
      "metadata": {
        "id": "96qlBytFH7xV"
      },
      "source": [
        "!git config --global user.email \"zhankang.19@ichat.sp.edu.sg\"\n",
        "!git config --global user.name \"ngzhankang\""
      ],
      "execution_count": 5,
      "outputs": []
    },
    {
      "cell_type": "markdown",
      "metadata": {
        "id": "0gtHa7l8ID8u"
      },
      "source": [
        "### 1.4. Clone Private Repository\n",
        "\n",
        "---\n",
        "\n",
        "This entire section can be omitted if users are not using Google Colab at all."
      ]
    },
    {
      "cell_type": "code",
      "metadata": {
        "id": "y7c65FyJIEXu",
        "colab": {
          "base_uri": "https://localhost:8080/"
        },
        "outputId": "acf712bb-9ea5-48d9-a17d-ea62d4167276"
      },
      "source": [
        "!git clone git@github.com:ngzhankang/finalYearProjectUOB.git"
      ],
      "execution_count": 6,
      "outputs": [
        {
          "output_type": "stream",
          "text": [
            "Cloning into 'finalYearProjectUOB'...\n",
            "Warning: Permanently added the RSA host key for IP address '140.82.112.3' to the list of known hosts.\n",
            "remote: Enumerating objects: 22, done.\u001b[K\n",
            "remote: Counting objects: 100% (22/22), done.\u001b[K\n",
            "remote: Compressing objects: 100% (22/22), done.\u001b[K\n",
            "remote: Total 22 (delta 6), reused 0 (delta 0), pack-reused 0\u001b[K\n",
            "Receiving objects: 100% (22/22), 15.98 KiB | 7.99 MiB/s, done.\n",
            "Resolving deltas: 100% (6/6), done.\n"
          ],
          "name": "stdout"
        }
      ]
    },
    {
      "cell_type": "markdown",
      "metadata": {
        "id": "lpQsykkUqHOB"
      },
      "source": [
        "---\n",
        "---"
      ]
    },
    {
      "cell_type": "markdown",
      "metadata": {
        "id": "D74lUe_QF3kh"
      },
      "source": [
        "  # 2. Data Importing"
      ]
    },
    {
      "cell_type": "markdown",
      "metadata": {
        "id": "6VbDZ5ymKTR6"
      },
      "source": [
        "### 2.1. Load the libraries\n",
        "\n",
        "---\n",
        "\n",
        "Load the necessary libraries for usage in the entire project."
      ]
    },
    {
      "cell_type": "code",
      "metadata": {
        "id": "U_20qw2UohOC"
      },
      "source": [
        "# suppress future warnings\n",
        "import warnings\n",
        "warnings.filterwarnings('ignore')"
      ],
      "execution_count": 33,
      "outputs": []
    },
    {
      "cell_type": "code",
      "metadata": {
        "colab": {
          "base_uri": "https://localhost:8080/"
        },
        "id": "EldCY0t9v2uV",
        "outputId": "e62de0a5-47e5-453e-c259-1f46037675a3"
      },
      "source": [
        "# install necessary libraries that might not be found\n",
        "!pip install nltk\n",
        "\n",
        "# check versions of libraries we are going to use\n",
        "%tensorflow_version 2.x\n",
        "import os\n",
        "import tensorflow\n",
        "import sklearn\n",
        "import numpy as np\n",
        "import pandas as pd\n",
        "import seaborn as sns\n",
        "import matplotlib\n",
        "import nltk\n",
        "import platform\n",
        "\n",
        "message=\"        Versions        \"\n",
        "print(\"*\"*len(message))\n",
        "print(message)\n",
        "print(\"*\"*len(message))\n",
        "print(\"Tensorflow version={}\".format(tensorflow.__version__))\n",
        "print(\"Keras version={}\".format(tensorflow.keras.__version__))\n",
        "print(\"Sklearn version={}\".format(sklearn.__version__))\n",
        "print(\"Numpy version={}\".format(np.__version__))\n",
        "print(\"Pandas version={}\".format(pd.__version__))\n",
        "print(\"Seaborn version={}\".format(sns.__version__))\n",
        "print(\"Matplotlib version={}\".format(matplotlib.__version__))\n",
        "print(\"NLTK version={}\".format(nltk.__version__))\n",
        "print(\"Python version={}\".format(platform.python_version()))"
      ],
      "execution_count": 34,
      "outputs": [
        {
          "output_type": "stream",
          "text": [
            "Requirement already satisfied: nltk in /usr/local/lib/python3.7/dist-packages (3.2.5)\n",
            "Requirement already satisfied: six in /usr/local/lib/python3.7/dist-packages (from nltk) (1.15.0)\n",
            "************************\n",
            "        Versions        \n",
            "************************\n",
            "Tensorflow version=2.4.1\n",
            "Keras version=2.4.0\n",
            "Sklearn version=0.22.2.post1\n",
            "Numpy version=1.19.5\n",
            "Pandas version=1.1.5\n",
            "Seaborn version=0.11.1\n",
            "Matplotlib version=3.2.2\n",
            "NLTK version=3.2.5\n",
            "Python version=3.7.10\n"
          ],
          "name": "stdout"
        }
      ]
    },
    {
      "cell_type": "markdown",
      "metadata": {
        "id": "leKoAEG_KWf8"
      },
      "source": [
        "### 2.2. Load the modules\n",
        "\n",
        "---\n",
        "\n",
        "Load the necessary modules for usage in the entire project."
      ]
    },
    {
      "cell_type": "code",
      "metadata": {
        "colab": {
          "base_uri": "https://localhost:8080/"
        },
        "id": "U04wypEUv2p1",
        "outputId": "48a757d1-787c-4e4e-b4a7-0b8da69606b4"
      },
      "source": [
        "# importing necessary modules for this project\n",
        "import tensorflow as tf\n",
        "\n",
        "import pandas as pd\n",
        "import matplotlib.pyplot as plt\n",
        "import seaborn as sns\n",
        "import numpy as np\n",
        "import string\n",
        "import nltk\n",
        "\n",
        "# we need these nltk modules to do data cleansing\n",
        "nltk.download('punkt')\n",
        "from nltk.tokenize import word_tokenize\n",
        "nltk.download('stopwords')\n",
        "from nltk.corpus import stopwords\n",
        "nltk.download('averaged_perceptron_tagger')\n",
        "nltk.download('wordnet') \n",
        "from nltk.corpus import wordnet\n",
        "from nltk.stem import WordNetLemmatizer\n",
        "\n",
        "%matplotlib inline"
      ],
      "execution_count": 35,
      "outputs": [
        {
          "output_type": "stream",
          "text": [
            "[nltk_data] Downloading package punkt to /root/nltk_data...\n",
            "[nltk_data]   Package punkt is already up-to-date!\n",
            "[nltk_data] Downloading package stopwords to /root/nltk_data...\n",
            "[nltk_data]   Package stopwords is already up-to-date!\n",
            "[nltk_data] Downloading package averaged_perceptron_tagger to\n",
            "[nltk_data]     /root/nltk_data...\n",
            "[nltk_data]   Package averaged_perceptron_tagger is already up-to-\n",
            "[nltk_data]       date!\n",
            "[nltk_data] Downloading package wordnet to /root/nltk_data...\n",
            "[nltk_data]   Package wordnet is already up-to-date!\n"
          ],
          "name": "stdout"
        }
      ]
    },
    {
      "cell_type": "markdown",
      "metadata": {
        "id": "ca1X-gSJKap_"
      },
      "source": [
        "### 2.3. Load the dataset\n",
        "\n",
        "---\n",
        "\n",
        "Load the dataset for usage in the entire project."
      ]
    },
    {
      "cell_type": "code",
      "metadata": {
        "id": "owSKzElwKdh1",
        "colab": {
          "base_uri": "https://localhost:8080/",
          "height": 502
        },
        "outputId": "9b3f51fa-11a2-46cb-ea3e-6dcc2a38cc14"
      },
      "source": [
        "# use pandas to read the excel file and populate it in a pandas dataframe\n",
        "companies = pd.read_excel('./Company_Dataset_Batch1.3_TRIAL.xlsx')\n",
        "\n",
        "# see the top 10 companies that are populated in the dataframe\n",
        "companies.head(10)"
      ],
      "execution_count": 36,
      "outputs": [
        {
          "output_type": "execute_result",
          "data": {
            "text/html": [
              "<div>\n",
              "<style scoped>\n",
              "    .dataframe tbody tr th:only-of-type {\n",
              "        vertical-align: middle;\n",
              "    }\n",
              "\n",
              "    .dataframe tbody tr th {\n",
              "        vertical-align: top;\n",
              "    }\n",
              "\n",
              "    .dataframe thead th {\n",
              "        text-align: right;\n",
              "    }\n",
              "</style>\n",
              "<table border=\"1\" class=\"dataframe\">\n",
              "  <thead>\n",
              "    <tr style=\"text-align: right;\">\n",
              "      <th></th>\n",
              "      <th>Company_ID</th>\n",
              "      <th>Company</th>\n",
              "      <th>Country</th>\n",
              "      <th>PIC</th>\n",
              "      <th>Sector</th>\n",
              "      <th>Subsector</th>\n",
              "      <th>Archetype</th>\n",
              "      <th>Valuechain</th>\n",
              "      <th>Websites</th>\n",
              "      <th>Company Profile Information</th>\n",
              "      <th>Remarks</th>\n",
              "    </tr>\n",
              "  </thead>\n",
              "  <tbody>\n",
              "    <tr>\n",
              "      <th>0</th>\n",
              "      <td>6659723700627433472</td>\n",
              "      <td>ANDERCO PTE LTD</td>\n",
              "      <td>SINGAPORE</td>\n",
              "      <td>NaN</td>\n",
              "      <td>CNI</td>\n",
              "      <td>buildings &amp; industrial</td>\n",
              "      <td>buildings &amp; industrial_contractor</td>\n",
              "      <td>MIDSTREAM</td>\n",
              "      <td>http://www.anderco.com.sg/our-products/project...</td>\n",
              "      <td>We specialize in design and building from dorm...</td>\n",
              "      <td>NaN</td>\n",
              "    </tr>\n",
              "    <tr>\n",
              "      <th>1</th>\n",
              "      <td>6856115970005237760</td>\n",
              "      <td>WEC ENGINEERS &amp; CONSTRUCTORS PTE LTD</td>\n",
              "      <td>SINGAPORE</td>\n",
              "      <td>NaN</td>\n",
              "      <td>CNI</td>\n",
              "      <td>buildings &amp; industrial</td>\n",
              "      <td>buildings &amp; industrial_contractor</td>\n",
              "      <td>MIDSTREAM</td>\n",
              "      <td>http://www.wec.com.sg/about.html</td>\n",
              "      <td>We have transformed ourselves into a specialis...</td>\n",
              "      <td>NaN</td>\n",
              "    </tr>\n",
              "    <tr>\n",
              "      <th>2</th>\n",
              "      <td>7369198031907269632</td>\n",
              "      <td>ECHO PORT INTERNATIONAL LIMITED</td>\n",
              "      <td>HONG KONG</td>\n",
              "      <td>NaN</td>\n",
              "      <td>TMT</td>\n",
              "      <td>consumer electronics</td>\n",
              "      <td>consumer electronics_distributor</td>\n",
              "      <td>DOWNSTREAM</td>\n",
              "      <td>https://www.made-in-china.com/showroom/echo-port</td>\n",
              "      <td>Echo Port is specialized in manufacturing CHES...</td>\n",
              "      <td>NaN</td>\n",
              "    </tr>\n",
              "    <tr>\n",
              "      <th>3</th>\n",
              "      <td>2902596962999106048</td>\n",
              "      <td>DEKORAMIK PERDANA,PT</td>\n",
              "      <td>INDONESIA</td>\n",
              "      <td>NaN</td>\n",
              "      <td>CNI</td>\n",
              "      <td>building material</td>\n",
              "      <td>building material_distributor</td>\n",
              "      <td>DOWNSTREAM</td>\n",
              "      <td>http://www.sandimas.co.id/en/about</td>\n",
              "      <td>Sandimas provides a wide range of commercial, ...</td>\n",
              "      <td>NaN</td>\n",
              "    </tr>\n",
              "    <tr>\n",
              "      <th>4</th>\n",
              "      <td>4869680436385200128</td>\n",
              "      <td>ELCA CONTRACT FLOORING PTE LTD</td>\n",
              "      <td>SINGAPORE</td>\n",
              "      <td>NaN</td>\n",
              "      <td>CNI</td>\n",
              "      <td>building material</td>\n",
              "      <td>building material_distributor</td>\n",
              "      <td>DOWNSTREAM</td>\n",
              "      <td>http://www.elca.com.sg/</td>\n",
              "      <td>Elca Contract Flooring Pte Ltd established in ...</td>\n",
              "      <td>NaN</td>\n",
              "    </tr>\n",
              "    <tr>\n",
              "      <th>5</th>\n",
              "      <td>2833793606053527552</td>\n",
              "      <td>SYNNEX (THAILAND) PUBLIC CO., LTD.</td>\n",
              "      <td>THAILAND</td>\n",
              "      <td>NaN</td>\n",
              "      <td>TMT</td>\n",
              "      <td>consumer electronics</td>\n",
              "      <td>consumer electronics_distributor</td>\n",
              "      <td>DOWNSTREAM</td>\n",
              "      <td>https://www.synnex.co.th/th/about/business.aspx</td>\n",
              "      <td>The Company distributes computers, computer pe...</td>\n",
              "      <td>NaN</td>\n",
              "    </tr>\n",
              "    <tr>\n",
              "      <th>6</th>\n",
              "      <td>815115935851177472</td>\n",
              "      <td>CAPPITECH ENGINEERING PTE LTD</td>\n",
              "      <td>SINGAPORE</td>\n",
              "      <td>NaN</td>\n",
              "      <td>TMT</td>\n",
              "      <td>consumer electronics</td>\n",
              "      <td>consumer electronics_distributor</td>\n",
              "      <td>DOWNSTREAM</td>\n",
              "      <td>https://sgpgrid.com/company-details/cappitech-...</td>\n",
              "      <td>CAPPITECH ENGINEERING is an ACRA-registered en...</td>\n",
              "      <td>NaN</td>\n",
              "    </tr>\n",
              "    <tr>\n",
              "      <th>7</th>\n",
              "      <td>7375353431500220416</td>\n",
              "      <td>CE-TEST AND MEASUREMENT (S) PTE LTD</td>\n",
              "      <td>SINGAPORE</td>\n",
              "      <td>NaN</td>\n",
              "      <td>CNI</td>\n",
              "      <td>cni_equipment suppliers</td>\n",
              "      <td>cni_equipment suppliers</td>\n",
              "      <td>MIDSTREAM</td>\n",
              "      <td>https://www.cetm.com.sg/content/4-about-us</td>\n",
              "      <td>In the year 2002, we formed a strategic allian...</td>\n",
              "      <td>NaN</td>\n",
              "    </tr>\n",
              "    <tr>\n",
              "      <th>8</th>\n",
              "      <td>5322820782371812352</td>\n",
              "      <td>QUEL INTERNATIONAL SDN BHD</td>\n",
              "      <td>MALAYSIA</td>\n",
              "      <td>NaN</td>\n",
              "      <td>CNI</td>\n",
              "      <td>building material</td>\n",
              "      <td>building material_distributor</td>\n",
              "      <td>DOWNSTREAM</td>\n",
              "      <td>https://www.quelfurniture.com/about-us</td>\n",
              "      <td>Commemorating 10 solid years of providing furn...</td>\n",
              "      <td>NaN</td>\n",
              "    </tr>\n",
              "    <tr>\n",
              "      <th>9</th>\n",
              "      <td>1059731912908073216</td>\n",
              "      <td>NALURI PERINTIS SDN. BHD.</td>\n",
              "      <td>MALAYSIA</td>\n",
              "      <td>NaN</td>\n",
              "      <td>NaN</td>\n",
              "      <td>NaN</td>\n",
              "      <td>NaN</td>\n",
              "      <td>NaN</td>\n",
              "      <td>NaN</td>\n",
              "      <td>NaN</td>\n",
              "      <td>UNABLE TO LOCATE COMPANY</td>\n",
              "    </tr>\n",
              "  </tbody>\n",
              "</table>\n",
              "</div>"
            ],
            "text/plain": [
              "            Company_ID  ...                   Remarks\n",
              "0  6659723700627433472  ...                       NaN\n",
              "1  6856115970005237760  ...                       NaN\n",
              "2  7369198031907269632  ...                       NaN\n",
              "3  2902596962999106048  ...                       NaN\n",
              "4  4869680436385200128  ...                       NaN\n",
              "5  2833793606053527552  ...                       NaN\n",
              "6   815115935851177472  ...                       NaN\n",
              "7  7375353431500220416  ...                       NaN\n",
              "8  5322820782371812352  ...                       NaN\n",
              "9  1059731912908073216  ...  UNABLE TO LOCATE COMPANY\n",
              "\n",
              "[10 rows x 11 columns]"
            ]
          },
          "metadata": {
            "tags": []
          },
          "execution_count": 36
        }
      ]
    },
    {
      "cell_type": "markdown",
      "metadata": {
        "id": "2TI1D_-KP6hC"
      },
      "source": [
        "---\n",
        "---"
      ]
    },
    {
      "cell_type": "markdown",
      "metadata": {
        "id": "9qKHTDyOP9bz"
      },
      "source": [
        "  # 3. Exploratory Data Analysis"
      ]
    },
    {
      "cell_type": "markdown",
      "metadata": {
        "id": "P8p50I8GQCAg"
      },
      "source": [
        "### 3.1. Get overview of dataset\n",
        "\n",
        "---\n",
        "\n",
        "Get statistical information of the dataset to understand the dataset better."
      ]
    },
    {
      "cell_type": "code",
      "metadata": {
        "id": "2iea82R6Dm2J",
        "outputId": "48528ea4-37d8-48da-a633-578f5739f1ae",
        "colab": {
          "base_uri": "https://localhost:8080/"
        }
      },
      "source": [
        "# see the row headers of the entire pandas dataframe first\n",
        "list(companies.columns)"
      ],
      "execution_count": 37,
      "outputs": [
        {
          "output_type": "execute_result",
          "data": {
            "text/plain": [
              "['Company_ID',\n",
              " 'Company',\n",
              " 'Country',\n",
              " 'PIC',\n",
              " 'Sector',\n",
              " 'Subsector',\n",
              " 'Archetype',\n",
              " 'Valuechain',\n",
              " 'Websites',\n",
              " 'Company Profile Information',\n",
              " 'Remarks']"
            ]
          },
          "metadata": {
            "tags": []
          },
          "execution_count": 37
        }
      ]
    },
    {
      "cell_type": "code",
      "metadata": {
        "id": "OVX1CBSTLZqm",
        "colab": {
          "base_uri": "https://localhost:8080/"
        },
        "outputId": "dca33c48-26c8-4fc9-850d-d2c03ddcccda"
      },
      "source": [
        "# get the total number of records in the dataframe\n",
        "df_count = companies['Company_ID'].count()\n",
        "\n",
        "# get count of unique contries where companies are based in\n",
        "df_countCountry = companies['Country'].count()\n",
        "\n",
        "# get count of total sectors where companies are from\n",
        "df_countSector = companies['Sector'].count()\n",
        "\n",
        "# get count of total subseector where companies are from\n",
        "df_countsubSector = companies['Subsector'].count()\n",
        "\n",
        "# get count of total valuechain where companies are from\n",
        "df_countValuechain = companies['Valuechain'].count()\n",
        "\n",
        "print('Total number of records:', df_count)\n",
        "print('Total number of countries:', df_countCountry)\n",
        "print('Total number of sectors:', df_countSector)\n",
        "print('Total number of subsectors:', df_countsubSector)\n",
        "print('Total number of valuechain:', df_countValuechain)"
      ],
      "execution_count": 38,
      "outputs": [
        {
          "output_type": "stream",
          "text": [
            "Total number of records: 400\n",
            "Total number of countries: 400\n",
            "Total number of sectors: 379\n",
            "Total number of subsectors: 379\n",
            "Total number of valuechain: 343\n"
          ],
          "name": "stdout"
        }
      ]
    },
    {
      "cell_type": "code",
      "metadata": {
        "id": "O1C_l7ytUixQ",
        "colab": {
          "base_uri": "https://localhost:8080/"
        },
        "outputId": "aead927a-e078-434c-d7b9-8a134e96c047"
      },
      "source": [
        "# get total number of countries\n",
        "df_totalCountries = companies['Country'].value_counts()\n",
        "\n",
        "# get list of unique sector\n",
        "df_sector = companies['Sector'].value_counts()\n",
        "\n",
        "# get list of unique archetype\n",
        "df_archetype = companies['Archetype'].value_counts()\n",
        "\n",
        "# get list of unique valuechain\n",
        "df_valuechain = companies['Valuechain'].value_counts()\n",
        "\n",
        "print('List of unique countries:\\n{}'.format(df_totalCountries))\n",
        "print()\n",
        "print('List of unique sector:\\n{}'.format(df_sector))\n",
        "print()\n",
        "print('List of unique valuechain:\\n{}'.format(df_valuechain))"
      ],
      "execution_count": 39,
      "outputs": [
        {
          "output_type": "stream",
          "text": [
            "List of unique countries:\n",
            "SINGAPORE    172\n",
            "MALAYSIA      89\n",
            "THAILAND      72\n",
            "CHINA         33\n",
            "HONG KONG     20\n",
            "INDONESIA     14\n",
            "Name: Country, dtype: int64\n",
            "\n",
            "List of unique sector:\n",
            "CNI    164\n",
            "TMT    121\n",
            "OOS     33\n",
            "ONG     32\n",
            "REH     11\n",
            "IND      9\n",
            "CG       9\n",
            "Name: Sector, dtype: int64\n",
            "\n",
            "List of unique valuechain:\n",
            "MIDSTREAM                 208\n",
            "DOWNSTREAM                 93\n",
            "UPSTREAM                   26\n",
            "ACROSS VALUE CHAIN          5\n",
            "UPSTREAM OR DOWNSTREAM      4\n",
            "DISTRIBUTOR                 2\n",
            "MANUFACTURER                2\n",
            "TRADER                      1\n",
            "Downstream                  1\n",
            "Upstream                    1\n",
            "Name: Valuechain, dtype: int64\n"
          ],
          "name": "stdout"
        }
      ]
    },
    {
      "cell_type": "code",
      "metadata": {
        "id": "NIoXot6HWEWP",
        "colab": {
          "base_uri": "https://localhost:8080/"
        },
        "outputId": "9dd8a2b6-ae4f-4a04-a6b2-08e6b226a17c"
      },
      "source": [
        "# get list of unique subsector\n",
        "df_subsector = companies['Subsector'].value_counts()\n",
        "\n",
        "print('List of unique Subsector:\\n{}'.format(df_subsector))"
      ],
      "execution_count": 40,
      "outputs": [
        {
          "output_type": "stream",
          "text": [
            "List of unique Subsector:\n",
            "buildings & industrial               61\n",
            "building material                    48\n",
            "consumer electronics                 45\n",
            "others                               33\n",
            "it services                          29\n",
            "cni_service providers                29\n",
            "semiconductor                        19\n",
            "o&g                                  14\n",
            "digital_business                     12\n",
            "utilities                            12\n",
            "telecommunication                     9\n",
            "petrochemical                         8\n",
            "retail n distribution                 7\n",
            "o&g_service providers/contractors     7\n",
            "media                                 7\n",
            "infrastructure                        6\n",
            "cni_equipment suppliers               6\n",
            "commercial                            5\n",
            "metals and mining                     5\n",
            "auto & mec                            4\n",
            "mixed                                 3\n",
            "residential                           2\n",
            "ioc                                   2\n",
            "fmcg                                  1\n",
            "agribusiness                          1\n",
            "building_material                     1\n",
            "industrial                            1\n",
            "noc                                   1\n",
            "cni_equipment_suppliers               1\n",
            "Name: Subsector, dtype: int64\n"
          ],
          "name": "stdout"
        }
      ]
    },
    {
      "cell_type": "code",
      "metadata": {
        "id": "SjaNooD3Uz3c",
        "colab": {
          "base_uri": "https://localhost:8080/"
        },
        "outputId": "8b93827f-d9fa-42a1-ed26-b190c0168c39"
      },
      "source": [
        "print('List of unique archetype:\\n{}'.format(df_archetype))"
      ],
      "execution_count": 41,
      "outputs": [
        {
          "output_type": "stream",
          "text": [
            "List of unique archetype:\n",
            "buildings & industrial_contractor                              60\n",
            "consumer electronics_distributor                               39\n",
            "others                                                         33\n",
            "building material_manufacturer                                 32\n",
            "it services                                                    29\n",
            "cni_service providers                                          29\n",
            "building material_supplier_distributor                         14\n",
            "digital_business                                               12\n",
            "electronics components/semiconductor_component distributor     10\n",
            "electronics components/semiconductor_component manufacturer     9\n",
            "o&g_distributor                                                 8\n",
            "utilities_developer                                             7\n",
            "o&g_retail outlet                                               6\n",
            "content creator                                                 6\n",
            "cni_equipment suppliers                                         6\n",
            "infrastructure_contractor                                       5\n",
            "o&g midstream and downstream service provider                   5\n",
            "consumer discretionary distributor                              5\n",
            "consumer electronics                                            5\n",
            "petrochemical_producer                                          4\n",
            "petrochemical_distributor                                       4\n",
            "commercial_operator                                             4\n",
            "building material_distributor                                   3\n",
            "network equipment supplier                                      3\n",
            "utilities_operator                                              3\n",
            "telecommunication infrastructure                                3\n",
            "mixed_developer                                                 3\n",
            "steel fabricator                                                2\n",
            "steel distributor                                               2\n",
            "ioc                                                             2\n",
            "o&g midstream service provider (transportation/storage)         2\n",
            "network operator                                                2\n",
            "utilities_contractor                                            2\n",
            "mec oem dealer                                                  2\n",
            "modern trade                                                    1\n",
            "commercial_developer                                            1\n",
            "auto dealer                                                     1\n",
            "buildings & industrial_sub contractor                           1\n",
            "hpc                                                             1\n",
            "noc                                                             1\n",
            "residential_integrated player                                   1\n",
            "media_aggregator/distributor                                    1\n",
            "auto component dealer                                           1\n",
            "consuumer electronics                                           1\n",
            "infrastructure_operator                                         1\n",
            "industrial_integrated player                                    1\n",
            "palm oil                                                        1\n",
            "precious metal                                                  1\n",
            "residential_developer                                           1\n",
            "tisp – fiber cable                                              1\n",
            "cni_equipment_suppliers                                         1\n",
            "packaged food                                                   1\n",
            "Name: Archetype, dtype: int64\n"
          ],
          "name": "stdout"
        }
      ]
    },
    {
      "cell_type": "markdown",
      "metadata": {
        "id": "57EHaR92D9UP"
      },
      "source": [
        "### 3.2. Drop unncessary columns\n",
        "\n",
        "---\n",
        "\n",
        "Here, we will drop columns that wiill not aid in our EDA."
      ]
    },
    {
      "cell_type": "code",
      "metadata": {
        "id": "TC9-PuS6EDXT",
        "outputId": "e0e5c7c8-c404-488b-e4ec-e97ee411bbd2",
        "colab": {
          "base_uri": "https://localhost:8080/",
          "height": 392
        }
      },
      "source": [
        "# declare the list of the row names that are redundant\n",
        "rows_to_drop = ['Company_ID', 'PIC', 'Websites', 'Remarks']\n",
        "\n",
        "# use a conditional expression to filter out those rows\n",
        "df_filteredCompanies = companies.drop(labels=rows_to_drop, axis=1)\n",
        "\n",
        "df_filteredCompanies"
      ],
      "execution_count": 42,
      "outputs": [
        {
          "output_type": "execute_result",
          "data": {
            "text/html": [
              "<div>\n",
              "<style scoped>\n",
              "    .dataframe tbody tr th:only-of-type {\n",
              "        vertical-align: middle;\n",
              "    }\n",
              "\n",
              "    .dataframe tbody tr th {\n",
              "        vertical-align: top;\n",
              "    }\n",
              "\n",
              "    .dataframe thead th {\n",
              "        text-align: right;\n",
              "    }\n",
              "</style>\n",
              "<table border=\"1\" class=\"dataframe\">\n",
              "  <thead>\n",
              "    <tr style=\"text-align: right;\">\n",
              "      <th></th>\n",
              "      <th>Company</th>\n",
              "      <th>Country</th>\n",
              "      <th>Sector</th>\n",
              "      <th>Subsector</th>\n",
              "      <th>Archetype</th>\n",
              "      <th>Valuechain</th>\n",
              "      <th>Company Profile Information</th>\n",
              "    </tr>\n",
              "  </thead>\n",
              "  <tbody>\n",
              "    <tr>\n",
              "      <th>0</th>\n",
              "      <td>ANDERCO PTE LTD</td>\n",
              "      <td>SINGAPORE</td>\n",
              "      <td>CNI</td>\n",
              "      <td>buildings &amp; industrial</td>\n",
              "      <td>buildings &amp; industrial_contractor</td>\n",
              "      <td>MIDSTREAM</td>\n",
              "      <td>We specialize in design and building from dorm...</td>\n",
              "    </tr>\n",
              "    <tr>\n",
              "      <th>1</th>\n",
              "      <td>WEC ENGINEERS &amp; CONSTRUCTORS PTE LTD</td>\n",
              "      <td>SINGAPORE</td>\n",
              "      <td>CNI</td>\n",
              "      <td>buildings &amp; industrial</td>\n",
              "      <td>buildings &amp; industrial_contractor</td>\n",
              "      <td>MIDSTREAM</td>\n",
              "      <td>We have transformed ourselves into a specialis...</td>\n",
              "    </tr>\n",
              "    <tr>\n",
              "      <th>2</th>\n",
              "      <td>ECHO PORT INTERNATIONAL LIMITED</td>\n",
              "      <td>HONG KONG</td>\n",
              "      <td>TMT</td>\n",
              "      <td>consumer electronics</td>\n",
              "      <td>consumer electronics_distributor</td>\n",
              "      <td>DOWNSTREAM</td>\n",
              "      <td>Echo Port is specialized in manufacturing CHES...</td>\n",
              "    </tr>\n",
              "    <tr>\n",
              "      <th>3</th>\n",
              "      <td>DEKORAMIK PERDANA,PT</td>\n",
              "      <td>INDONESIA</td>\n",
              "      <td>CNI</td>\n",
              "      <td>building material</td>\n",
              "      <td>building material_distributor</td>\n",
              "      <td>DOWNSTREAM</td>\n",
              "      <td>Sandimas provides a wide range of commercial, ...</td>\n",
              "    </tr>\n",
              "    <tr>\n",
              "      <th>4</th>\n",
              "      <td>ELCA CONTRACT FLOORING PTE LTD</td>\n",
              "      <td>SINGAPORE</td>\n",
              "      <td>CNI</td>\n",
              "      <td>building material</td>\n",
              "      <td>building material_distributor</td>\n",
              "      <td>DOWNSTREAM</td>\n",
              "      <td>Elca Contract Flooring Pte Ltd established in ...</td>\n",
              "    </tr>\n",
              "    <tr>\n",
              "      <th>...</th>\n",
              "      <td>...</td>\n",
              "      <td>...</td>\n",
              "      <td>...</td>\n",
              "      <td>...</td>\n",
              "      <td>...</td>\n",
              "      <td>...</td>\n",
              "      <td>...</td>\n",
              "    </tr>\n",
              "    <tr>\n",
              "      <th>395</th>\n",
              "      <td>HENAN ZHONGYUAN HEAVY FORGING CO., LTD</td>\n",
              "      <td>CHINA</td>\n",
              "      <td>IND</td>\n",
              "      <td>metals and mining</td>\n",
              "      <td>steel fabricator</td>\n",
              "      <td>MANUFACTURER</td>\n",
              "      <td>Henan Zhongyuan Heavy Forging Co., Ltd. was fo...</td>\n",
              "    </tr>\n",
              "    <tr>\n",
              "      <th>396</th>\n",
              "      <td>ZHANGZHOU SANLIDA ENVIRONMENTAL TECHNOLOGY COR...</td>\n",
              "      <td>CHINA</td>\n",
              "      <td>OOS</td>\n",
              "      <td>others</td>\n",
              "      <td>others</td>\n",
              "      <td>NaN</td>\n",
              "      <td>Industry:\\nPulp &amp; Paper Mills\\nManufacturing S...</td>\n",
              "    </tr>\n",
              "    <tr>\n",
              "      <th>397</th>\n",
              "      <td>山西平阳煤机装备有限责任公司</td>\n",
              "      <td>CHINA</td>\n",
              "      <td>IND</td>\n",
              "      <td>auto &amp; mec</td>\n",
              "      <td>mec oem dealer</td>\n",
              "      <td>MIDSTREAM</td>\n",
              "      <td>Processing, sales, installation and maintenanc...</td>\n",
              "    </tr>\n",
              "    <tr>\n",
              "      <th>398</th>\n",
              "      <td>SUNRIGHT LTD</td>\n",
              "      <td>SINGAPORE</td>\n",
              "      <td>OOS</td>\n",
              "      <td>others</td>\n",
              "      <td>others</td>\n",
              "      <td>NaN</td>\n",
              "      <td>Sunright Limited, a main board listed company ...</td>\n",
              "    </tr>\n",
              "    <tr>\n",
              "      <th>399</th>\n",
              "      <td>XINYI ZHONGTIAN CHEMICAL INDUSTRY CO.,LTD</td>\n",
              "      <td>CHINA</td>\n",
              "      <td>ONG</td>\n",
              "      <td>petrochemical</td>\n",
              "      <td>petrochemical_producer</td>\n",
              "      <td>UPSTREAM OR DOWNSTREAM</td>\n",
              "      <td>Xinyi zhongkai agricultural chemical industry ...</td>\n",
              "    </tr>\n",
              "  </tbody>\n",
              "</table>\n",
              "<p>400 rows × 7 columns</p>\n",
              "</div>"
            ],
            "text/plain": [
              "                                               Company  ...                        Company Profile Information\n",
              "0                                      ANDERCO PTE LTD  ...  We specialize in design and building from dorm...\n",
              "1                 WEC ENGINEERS & CONSTRUCTORS PTE LTD  ...  We have transformed ourselves into a specialis...\n",
              "2                      ECHO PORT INTERNATIONAL LIMITED  ...  Echo Port is specialized in manufacturing CHES...\n",
              "3                                 DEKORAMIK PERDANA,PT  ...  Sandimas provides a wide range of commercial, ...\n",
              "4                       ELCA CONTRACT FLOORING PTE LTD  ...  Elca Contract Flooring Pte Ltd established in ...\n",
              "..                                                 ...  ...                                                ...\n",
              "395             HENAN ZHONGYUAN HEAVY FORGING CO., LTD  ...  Henan Zhongyuan Heavy Forging Co., Ltd. was fo...\n",
              "396  ZHANGZHOU SANLIDA ENVIRONMENTAL TECHNOLOGY COR...  ...  Industry:\\nPulp & Paper Mills\\nManufacturing S...\n",
              "397                                     山西平阳煤机装备有限责任公司  ...  Processing, sales, installation and maintenanc...\n",
              "398                                       SUNRIGHT LTD  ...  Sunright Limited, a main board listed company ...\n",
              "399          XINYI ZHONGTIAN CHEMICAL INDUSTRY CO.,LTD  ...  Xinyi zhongkai agricultural chemical industry ...\n",
              "\n",
              "[400 rows x 7 columns]"
            ]
          },
          "metadata": {
            "tags": []
          },
          "execution_count": 42
        }
      ]
    },
    {
      "cell_type": "markdown",
      "metadata": {
        "id": "c3S6ZQzySmC0"
      },
      "source": [
        "### 3.3. Filter rows with valid data\n",
        "\n",
        "---\n",
        "\n",
        "Extract columns with Nan values and list them out here. Afterwards, gather the rows deemed suitable to process NLP."
      ]
    },
    {
      "cell_type": "code",
      "metadata": {
        "id": "7ZLoO_4SSry7",
        "outputId": "fc4c373b-cfea-4ff5-d1e9-9777882b216c",
        "colab": {
          "base_uri": "https://localhost:8080/",
          "height": 536
        }
      },
      "source": [
        "# find all the rows with nan data in sector, subsector, archetype and valuechain\n",
        "cols_to_check = ['Sector', 'Subsector', 'Archetype', 'Valuechain', 'Company Profile Information']\n",
        "empty = df_filteredCompanies[df_filteredCompanies[cols_to_check].isnull().all(1)]\n",
        "\n",
        "empty"
      ],
      "execution_count": 65,
      "outputs": [
        {
          "output_type": "execute_result",
          "data": {
            "text/html": [
              "<div>\n",
              "<style scoped>\n",
              "    .dataframe tbody tr th:only-of-type {\n",
              "        vertical-align: middle;\n",
              "    }\n",
              "\n",
              "    .dataframe tbody tr th {\n",
              "        vertical-align: top;\n",
              "    }\n",
              "\n",
              "    .dataframe thead th {\n",
              "        text-align: right;\n",
              "    }\n",
              "</style>\n",
              "<table border=\"1\" class=\"dataframe\">\n",
              "  <thead>\n",
              "    <tr style=\"text-align: right;\">\n",
              "      <th></th>\n",
              "      <th>Company</th>\n",
              "      <th>Country</th>\n",
              "      <th>Sector</th>\n",
              "      <th>Subsector</th>\n",
              "      <th>Archetype</th>\n",
              "      <th>Valuechain</th>\n",
              "      <th>Company Profile Information</th>\n",
              "    </tr>\n",
              "  </thead>\n",
              "  <tbody>\n",
              "    <tr>\n",
              "      <th>9</th>\n",
              "      <td>NALURI PERINTIS SDN. BHD.</td>\n",
              "      <td>MALAYSIA</td>\n",
              "      <td>NaN</td>\n",
              "      <td>NaN</td>\n",
              "      <td>NaN</td>\n",
              "      <td>NaN</td>\n",
              "      <td>NaN</td>\n",
              "    </tr>\n",
              "    <tr>\n",
              "      <th>12</th>\n",
              "      <td>CAKRATAMA KRESNA BUANA,PT</td>\n",
              "      <td>INDONESIA</td>\n",
              "      <td>NaN</td>\n",
              "      <td>NaN</td>\n",
              "      <td>NaN</td>\n",
              "      <td>NaN</td>\n",
              "      <td>NaN</td>\n",
              "    </tr>\n",
              "    <tr>\n",
              "      <th>23</th>\n",
              "      <td>AIRCO LIMITED</td>\n",
              "      <td>THAILAND</td>\n",
              "      <td>NaN</td>\n",
              "      <td>NaN</td>\n",
              "      <td>NaN</td>\n",
              "      <td>NaN</td>\n",
              "      <td>NaN</td>\n",
              "    </tr>\n",
              "    <tr>\n",
              "      <th>46</th>\n",
              "      <td>TOWER HOPE LIMITED</td>\n",
              "      <td>SINGAPORE</td>\n",
              "      <td>NaN</td>\n",
              "      <td>NaN</td>\n",
              "      <td>NaN</td>\n",
              "      <td>NaN</td>\n",
              "      <td>NaN</td>\n",
              "    </tr>\n",
              "    <tr>\n",
              "      <th>99</th>\n",
              "      <td>QF NEAR TECHNOLOGY (TIAN JIN) CORP.</td>\n",
              "      <td>CHINA</td>\n",
              "      <td>NaN</td>\n",
              "      <td>NaN</td>\n",
              "      <td>NaN</td>\n",
              "      <td>NaN</td>\n",
              "      <td>NaN</td>\n",
              "    </tr>\n",
              "    <tr>\n",
              "      <th>125</th>\n",
              "      <td>SYS-MCD (SPJ) JOINT VENTURE</td>\n",
              "      <td>MALAYSIA</td>\n",
              "      <td>NaN</td>\n",
              "      <td>NaN</td>\n",
              "      <td>NaN</td>\n",
              "      <td>NaN</td>\n",
              "      <td>NaN</td>\n",
              "    </tr>\n",
              "    <tr>\n",
              "      <th>199</th>\n",
              "      <td>BEI JING ESTRABA IMPORT AND EXPORT</td>\n",
              "      <td>CHINA</td>\n",
              "      <td>NaN</td>\n",
              "      <td>NaN</td>\n",
              "      <td>NaN</td>\n",
              "      <td>NaN</td>\n",
              "      <td>NaN</td>\n",
              "    </tr>\n",
              "    <tr>\n",
              "      <th>268</th>\n",
              "      <td>THE CONSORTIUM OF UAHWATANASAKUL CO.,LTD.AND P...</td>\n",
              "      <td>THAILAND</td>\n",
              "      <td>NaN</td>\n",
              "      <td>NaN</td>\n",
              "      <td>NaN</td>\n",
              "      <td>NaN</td>\n",
              "      <td>NaN</td>\n",
              "    </tr>\n",
              "    <tr>\n",
              "      <th>293</th>\n",
              "      <td>RAINBOW BLISS LIMITED</td>\n",
              "      <td>SINGAPORE</td>\n",
              "      <td>NaN</td>\n",
              "      <td>NaN</td>\n",
              "      <td>NaN</td>\n",
              "      <td>NaN</td>\n",
              "      <td>NaN</td>\n",
              "    </tr>\n",
              "    <tr>\n",
              "      <th>324</th>\n",
              "      <td>HOME SANITARYWARE CO.,LTD.</td>\n",
              "      <td>THAILAND</td>\n",
              "      <td>NaN</td>\n",
              "      <td>NaN</td>\n",
              "      <td>NaN</td>\n",
              "      <td>NaN</td>\n",
              "      <td>NaN</td>\n",
              "    </tr>\n",
              "    <tr>\n",
              "      <th>343</th>\n",
              "      <td>NAKHON NONT PETROGAS CO.,LTD.</td>\n",
              "      <td>THAILAND</td>\n",
              "      <td>NaN</td>\n",
              "      <td>NaN</td>\n",
              "      <td>NaN</td>\n",
              "      <td>NaN</td>\n",
              "      <td>NaN</td>\n",
              "    </tr>\n",
              "    <tr>\n",
              "      <th>345</th>\n",
              "      <td>THEPARAK BUSINESS CO.,LTD.</td>\n",
              "      <td>THAILAND</td>\n",
              "      <td>NaN</td>\n",
              "      <td>NaN</td>\n",
              "      <td>NaN</td>\n",
              "      <td>NaN</td>\n",
              "      <td>NaN</td>\n",
              "    </tr>\n",
              "    <tr>\n",
              "      <th>374</th>\n",
              "      <td>DAMRONG OIL LIMITED PARTNERSHIP</td>\n",
              "      <td>THAILAND</td>\n",
              "      <td>NaN</td>\n",
              "      <td>NaN</td>\n",
              "      <td>NaN</td>\n",
              "      <td>NaN</td>\n",
              "      <td>NaN</td>\n",
              "    </tr>\n",
              "    <tr>\n",
              "      <th>376</th>\n",
              "      <td>NORTH SEA SERVICE LIMITED PARTNERSHIP</td>\n",
              "      <td>THAILAND</td>\n",
              "      <td>NaN</td>\n",
              "      <td>NaN</td>\n",
              "      <td>NaN</td>\n",
              "      <td>NaN</td>\n",
              "      <td>NaN</td>\n",
              "    </tr>\n",
              "    <tr>\n",
              "      <th>389</th>\n",
              "      <td>ZHEJIANG-THAI PHOTOVOLTAIC TECHNOLOGY CO., LTD.</td>\n",
              "      <td>CHINA</td>\n",
              "      <td>NaN</td>\n",
              "      <td>NaN</td>\n",
              "      <td>NaN</td>\n",
              "      <td>NaN</td>\n",
              "      <td>NaN</td>\n",
              "    </tr>\n",
              "    <tr>\n",
              "      <th>393</th>\n",
              "      <td>SONGYUAN WEI BO WOOD CO., LTD.</td>\n",
              "      <td>CHINA</td>\n",
              "      <td>NaN</td>\n",
              "      <td>NaN</td>\n",
              "      <td>NaN</td>\n",
              "      <td>NaN</td>\n",
              "      <td>NaN</td>\n",
              "    </tr>\n",
              "    <tr>\n",
              "      <th>394</th>\n",
              "      <td>JINAN FEIXUN ELECTRONIC ENGINEERING CO.,LTD</td>\n",
              "      <td>CHINA</td>\n",
              "      <td>NaN</td>\n",
              "      <td>NaN</td>\n",
              "      <td>NaN</td>\n",
              "      <td>NaN</td>\n",
              "      <td>NaN</td>\n",
              "    </tr>\n",
              "  </tbody>\n",
              "</table>\n",
              "</div>"
            ],
            "text/plain": [
              "                                               Company  ... Company Profile Information\n",
              "9                            NALURI PERINTIS SDN. BHD.  ...                         NaN\n",
              "12                           CAKRATAMA KRESNA BUANA,PT  ...                         NaN\n",
              "23                                       AIRCO LIMITED  ...                         NaN\n",
              "46                                  TOWER HOPE LIMITED  ...                         NaN\n",
              "99                 QF NEAR TECHNOLOGY (TIAN JIN) CORP.  ...                         NaN\n",
              "125                        SYS-MCD (SPJ) JOINT VENTURE  ...                         NaN\n",
              "199                 BEI JING ESTRABA IMPORT AND EXPORT  ...                         NaN\n",
              "268  THE CONSORTIUM OF UAHWATANASAKUL CO.,LTD.AND P...  ...                         NaN\n",
              "293                              RAINBOW BLISS LIMITED  ...                         NaN\n",
              "324                         HOME SANITARYWARE CO.,LTD.  ...                         NaN\n",
              "343                      NAKHON NONT PETROGAS CO.,LTD.  ...                         NaN\n",
              "345                         THEPARAK BUSINESS CO.,LTD.  ...                         NaN\n",
              "374                    DAMRONG OIL LIMITED PARTNERSHIP  ...                         NaN\n",
              "376              NORTH SEA SERVICE LIMITED PARTNERSHIP  ...                         NaN\n",
              "389    ZHEJIANG-THAI PHOTOVOLTAIC TECHNOLOGY CO., LTD.  ...                         NaN\n",
              "393                     SONGYUAN WEI BO WOOD CO., LTD.  ...                         NaN\n",
              "394        JINAN FEIXUN ELECTRONIC ENGINEERING CO.,LTD  ...                         NaN\n",
              "\n",
              "[17 rows x 7 columns]"
            ]
          },
          "metadata": {
            "tags": []
          },
          "execution_count": 65
        }
      ]
    },
    {
      "cell_type": "code",
      "metadata": {
        "id": "nrQjbN7uStmr",
        "outputId": "49a50c22-a84e-4cfd-94cc-64caf177b94d",
        "colab": {
          "base_uri": "https://localhost:8080/",
          "height": 392
        }
      },
      "source": [
        "# now we get the dataset that are valid\n",
        "df_valid = df_filteredCompanies[df_filteredCompanies[cols_to_check].notnull().all(1)]\n",
        "\n",
        "df_valid"
      ],
      "execution_count": 66,
      "outputs": [
        {
          "output_type": "execute_result",
          "data": {
            "text/html": [
              "<div>\n",
              "<style scoped>\n",
              "    .dataframe tbody tr th:only-of-type {\n",
              "        vertical-align: middle;\n",
              "    }\n",
              "\n",
              "    .dataframe tbody tr th {\n",
              "        vertical-align: top;\n",
              "    }\n",
              "\n",
              "    .dataframe thead th {\n",
              "        text-align: right;\n",
              "    }\n",
              "</style>\n",
              "<table border=\"1\" class=\"dataframe\">\n",
              "  <thead>\n",
              "    <tr style=\"text-align: right;\">\n",
              "      <th></th>\n",
              "      <th>Company</th>\n",
              "      <th>Country</th>\n",
              "      <th>Sector</th>\n",
              "      <th>Subsector</th>\n",
              "      <th>Archetype</th>\n",
              "      <th>Valuechain</th>\n",
              "      <th>Company Profile Information</th>\n",
              "    </tr>\n",
              "  </thead>\n",
              "  <tbody>\n",
              "    <tr>\n",
              "      <th>0</th>\n",
              "      <td>ANDERCO PTE LTD</td>\n",
              "      <td>SINGAPORE</td>\n",
              "      <td>CNI</td>\n",
              "      <td>buildings &amp; industrial</td>\n",
              "      <td>buildings &amp; industrial_contractor</td>\n",
              "      <td>MIDSTREAM</td>\n",
              "      <td>We specialize in design and building from dorm...</td>\n",
              "    </tr>\n",
              "    <tr>\n",
              "      <th>1</th>\n",
              "      <td>WEC ENGINEERS &amp; CONSTRUCTORS PTE LTD</td>\n",
              "      <td>SINGAPORE</td>\n",
              "      <td>CNI</td>\n",
              "      <td>buildings &amp; industrial</td>\n",
              "      <td>buildings &amp; industrial_contractor</td>\n",
              "      <td>MIDSTREAM</td>\n",
              "      <td>We have transformed ourselves into a specialis...</td>\n",
              "    </tr>\n",
              "    <tr>\n",
              "      <th>2</th>\n",
              "      <td>ECHO PORT INTERNATIONAL LIMITED</td>\n",
              "      <td>HONG KONG</td>\n",
              "      <td>TMT</td>\n",
              "      <td>consumer electronics</td>\n",
              "      <td>consumer electronics_distributor</td>\n",
              "      <td>DOWNSTREAM</td>\n",
              "      <td>Echo Port is specialized in manufacturing CHES...</td>\n",
              "    </tr>\n",
              "    <tr>\n",
              "      <th>3</th>\n",
              "      <td>DEKORAMIK PERDANA,PT</td>\n",
              "      <td>INDONESIA</td>\n",
              "      <td>CNI</td>\n",
              "      <td>building material</td>\n",
              "      <td>building material_distributor</td>\n",
              "      <td>DOWNSTREAM</td>\n",
              "      <td>Sandimas provides a wide range of commercial, ...</td>\n",
              "    </tr>\n",
              "    <tr>\n",
              "      <th>4</th>\n",
              "      <td>ELCA CONTRACT FLOORING PTE LTD</td>\n",
              "      <td>SINGAPORE</td>\n",
              "      <td>CNI</td>\n",
              "      <td>building material</td>\n",
              "      <td>building material_distributor</td>\n",
              "      <td>DOWNSTREAM</td>\n",
              "      <td>Elca Contract Flooring Pte Ltd established in ...</td>\n",
              "    </tr>\n",
              "    <tr>\n",
              "      <th>...</th>\n",
              "      <td>...</td>\n",
              "      <td>...</td>\n",
              "      <td>...</td>\n",
              "      <td>...</td>\n",
              "      <td>...</td>\n",
              "      <td>...</td>\n",
              "      <td>...</td>\n",
              "    </tr>\n",
              "    <tr>\n",
              "      <th>391</th>\n",
              "      <td>SIXIAN XIN CHEN BIOLOGICAL GREASE CO., LTD.</td>\n",
              "      <td>CHINA</td>\n",
              "      <td>CG</td>\n",
              "      <td>agribusiness</td>\n",
              "      <td>palm oil</td>\n",
              "      <td>ACROSS VALUE CHAIN</td>\n",
              "      <td>Industry:\\nCrop Production\\nAgriculture &amp; Fore...</td>\n",
              "    </tr>\n",
              "    <tr>\n",
              "      <th>392</th>\n",
              "      <td>HUIQIN HEAVY INDUSTRIES (SHANGHAI) CO., LTD.</td>\n",
              "      <td>CHINA</td>\n",
              "      <td>IND</td>\n",
              "      <td>auto &amp; mec</td>\n",
              "      <td>mec oem dealer</td>\n",
              "      <td>MIDSTREAM</td>\n",
              "      <td>Wholesale of other machinery and electronic pr...</td>\n",
              "    </tr>\n",
              "    <tr>\n",
              "      <th>395</th>\n",
              "      <td>HENAN ZHONGYUAN HEAVY FORGING CO., LTD</td>\n",
              "      <td>CHINA</td>\n",
              "      <td>IND</td>\n",
              "      <td>metals and mining</td>\n",
              "      <td>steel fabricator</td>\n",
              "      <td>MANUFACTURER</td>\n",
              "      <td>Henan Zhongyuan Heavy Forging Co., Ltd. was fo...</td>\n",
              "    </tr>\n",
              "    <tr>\n",
              "      <th>397</th>\n",
              "      <td>山西平阳煤机装备有限责任公司</td>\n",
              "      <td>CHINA</td>\n",
              "      <td>IND</td>\n",
              "      <td>auto &amp; mec</td>\n",
              "      <td>mec oem dealer</td>\n",
              "      <td>MIDSTREAM</td>\n",
              "      <td>Processing, sales, installation and maintenanc...</td>\n",
              "    </tr>\n",
              "    <tr>\n",
              "      <th>399</th>\n",
              "      <td>XINYI ZHONGTIAN CHEMICAL INDUSTRY CO.,LTD</td>\n",
              "      <td>CHINA</td>\n",
              "      <td>ONG</td>\n",
              "      <td>petrochemical</td>\n",
              "      <td>petrochemical_producer</td>\n",
              "      <td>UPSTREAM OR DOWNSTREAM</td>\n",
              "      <td>Xinyi zhongkai agricultural chemical industry ...</td>\n",
              "    </tr>\n",
              "  </tbody>\n",
              "</table>\n",
              "<p>343 rows × 7 columns</p>\n",
              "</div>"
            ],
            "text/plain": [
              "                                          Company  ...                        Company Profile Information\n",
              "0                                 ANDERCO PTE LTD  ...  We specialize in design and building from dorm...\n",
              "1            WEC ENGINEERS & CONSTRUCTORS PTE LTD  ...  We have transformed ourselves into a specialis...\n",
              "2                 ECHO PORT INTERNATIONAL LIMITED  ...  Echo Port is specialized in manufacturing CHES...\n",
              "3                            DEKORAMIK PERDANA,PT  ...  Sandimas provides a wide range of commercial, ...\n",
              "4                  ELCA CONTRACT FLOORING PTE LTD  ...  Elca Contract Flooring Pte Ltd established in ...\n",
              "..                                            ...  ...                                                ...\n",
              "391   SIXIAN XIN CHEN BIOLOGICAL GREASE CO., LTD.  ...  Industry:\\nCrop Production\\nAgriculture & Fore...\n",
              "392  HUIQIN HEAVY INDUSTRIES (SHANGHAI) CO., LTD.  ...  Wholesale of other machinery and electronic pr...\n",
              "395        HENAN ZHONGYUAN HEAVY FORGING CO., LTD  ...  Henan Zhongyuan Heavy Forging Co., Ltd. was fo...\n",
              "397                                山西平阳煤机装备有限责任公司  ...  Processing, sales, installation and maintenanc...\n",
              "399     XINYI ZHONGTIAN CHEMICAL INDUSTRY CO.,LTD  ...  Xinyi zhongkai agricultural chemical industry ...\n",
              "\n",
              "[343 rows x 7 columns]"
            ]
          },
          "metadata": {
            "tags": []
          },
          "execution_count": 66
        }
      ]
    },
    {
      "cell_type": "markdown",
      "metadata": {
        "id": "gf69nqOrWr_b"
      },
      "source": [
        "### 3.2. Get graphical overview of dataset\n",
        "\n",
        "---\n",
        "\n",
        "Get visualised information of the dataset to understand the dataset better."
      ]
    },
    {
      "cell_type": "code",
      "metadata": {
        "id": "dRLIFECVS1os",
        "outputId": "9c061d65-9987-4218-ce02-17d748fc90e9",
        "colab": {
          "base_uri": "https://localhost:8080/",
          "height": 769
        }
      },
      "source": [
        "sns.set_style('darkgrid')\n",
        "plt_dims = (30, 13)\n",
        "fig, ax = plt.subplots(figsize=plt_dims)\n",
        "\n",
        "# plot a barplot to see number of companies that belongs to specific sectors\n",
        "sns.countplot(x=\"Sector\", data=df_valid, ax=ax)\n",
        "plt.show()"
      ],
      "execution_count": 82,
      "outputs": [
        {
          "output_type": "display_data",
          "data": {
            "image/png": "[encoded data removed]",
            "text/plain": [
              "<Figure size 2160x936 with 1 Axes>"
            ]
          },
          "metadata": {
            "tags": []
          }
        }
      ]
    },
    {
      "cell_type": "markdown",
      "metadata": {
        "id": "1EyLs8d1TfSw"
      },
      "source": [
        "<div class=\"alert alert-block alert-info\">\n",
        "    <b>Analysis Summary:</b> We see that most of the companies comes from the CNI(Construction And Infrastructure), with TMT(Technology, Media and Telecomm) sector.\n",
        "</div>"
      ]
    },
    {
      "cell_type": "code",
      "metadata": {
        "id": "SwMqcB0MStbJ",
        "outputId": "bbb7a7d2-44ab-4255-c6ab-f0bf6579828e",
        "colab": {
          "base_uri": "https://localhost:8080/",
          "height": 964
        }
      },
      "source": [
        "# Pie chart\n",
        "labels = list(df_valid['Country'].unique())\n",
        "sizes = list(df_valid['Country'].value_counts())\n",
        "\n",
        "# only \"explode\" the 2nd slice (i.e. 'Hogs')\n",
        "explode = (0, 0.1, 0, 0, 0, 0)\n",
        "plt_dims = (30, 13)\n",
        "fig1, ax1 = plt.subplots(figsize=plt_dims)\n",
        "ax1.pie(sizes, explode=explode, labels=labels, autopct='%1.1f%%',\n",
        "        shadow=True, startangle=90)\n",
        "# Equal aspect ratio ensures that pie is drawn as a circle\n",
        "ax1.axis('equal')  \n",
        "plt.tight_layout()\n",
        "plt.show()"
      ],
      "execution_count": 97,
      "outputs": [
        {
          "output_type": "display_data",
          "data": {
            "image/png": "[encoded data removed]",
            "text/plain": [
              "<Figure size 2160x936 with 1 Axes>"
            ]
          },
          "metadata": {
            "tags": []
          }
        }
      ]
    },
    {
      "cell_type": "markdown",
      "metadata": {
        "id": "A73dge-zZhSD"
      },
      "source": [
        "<div class=\"alert alert-block alert-info\">\n",
        "    <b>Analysis Summary:</b> We see that most of the companies are Singapre-Based companies, followed up by Hong Kong, Indonesia and so on.\n",
        "</div>"
      ]
    },
    {
      "cell_type": "markdown",
      "metadata": {
        "id": "kbZZCbdHv3ME"
      },
      "source": [
        "---\n",
        "---"
      ]
    },
    {
      "cell_type": "markdown",
      "metadata": {
        "id": "0hKvKHV38ly_"
      },
      "source": [
        "# 10.References\n",
        "\n",
        "\n",
        "## Linking GitHub Private Repo with Google Colab\n",
        "---\n",
        "1. [How to clone private Github repo from Google Colab using SSH](https://medium.com/@purba0101/how-to-clone-private-github-repo-in-google-colab-using-ssh-77384cfef18f)\n",
        "2. [Adding a new SSH key to your GitHub account](https://docs.github.com/en/github/authenticating-to-github/adding-a-new-ssh-key-to-your-github-account)\n",
        "\n",
        "\n",
        "## How to classify text with NLTK\n",
        "---\n",
        "1. [Learning to Classify Text](https://www.nltk.org/book/ch06.html)"
      ]
    }
  ]
}